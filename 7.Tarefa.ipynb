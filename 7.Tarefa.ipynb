{
 "cells": [
  {
   "cell_type": "markdown",
   "source": "<img src=\"https://raw.githubusercontent.com/andre-marcos-perez/ebac-course-utils/main/media/logo/newebac_logo_black_half.png\" alt=\"ebac-logo\">\n\n---\n\n# **Módulo 07** | Python: Programação Orientada a Objetos\nCaderno de **Exercícios**<br> \nProfessor [André Perez](https://www.linkedin.com/in/andremarcosperez/)\n\n---",
   "metadata": {
    "id": "KJqp9AANOCtf",
    "cell_id": "00000-1f8cb770-85d4-4d65-8575-7d4eb726e6ef",
    "deepnote_cell_type": "markdown"
   }
  },
  {
   "cell_type": "markdown",
   "source": "# **Tópicos**\n\n<ol type=\"1\">\n  <li>from / import / as;</li>\n  <li>Módulo;</li>\n  <li>Pacote;</li>\n  <li>Baixando pacotes.</li>\n</ol>",
   "metadata": {
    "id": "d9jDtUbDOE1-",
    "cell_id": "00001-7d01cf29-c307-403e-9935-d9c476742d89",
    "deepnote_cell_type": "markdown"
   }
  },
  {
   "cell_type": "markdown",
   "source": "---",
   "metadata": {
    "id": "SmoHgt-lwkpD",
    "cell_id": "00002-38cebdf8-b1d9-4044-b524-d52f46c3d51a",
    "deepnote_cell_type": "markdown"
   }
  },
  {
   "cell_type": "markdown",
   "source": "# **Exercícios**",
   "metadata": {
    "id": "GABI6OW8OfQ2",
    "cell_id": "00003-d753577e-e81f-4645-92e8-f0ece4ed99a1",
    "deepnote_cell_type": "markdown"
   }
  },
  {
   "cell_type": "markdown",
   "source": "## 0\\. Preparação do ambiente",
   "metadata": {
    "id": "muD1vxozykSC",
    "cell_id": "00004-55836148-01a6-49ae-aa33-0b261b69b743",
    "deepnote_cell_type": "markdown"
   }
  },
  {
   "cell_type": "markdown",
   "source": "Neste exercício vamos utilizar a base de dados de ações da bolsa de valores dos EUA, a Dow Jones. Os dados estão disponíveis para *download* neste [link](https://archive.ics.uci.edu/ml/datasets/Dow+Jones+Index). Vamos utilizar o pacote `wget` para fazer o *download* dos dados.",
   "metadata": {
    "id": "ahrFfCuBxJKs",
    "cell_id": "00005-eb4d7c0c-0d17-48aa-83b5-20e01b620256",
    "deepnote_cell_type": "markdown"
   }
  },
  {
   "cell_type": "markdown",
   "source": " - Instalando o pacote `wget` na versão 3.2.",
   "metadata": {
    "id": "AtPc2994meNR",
    "cell_id": "00006-498c6ca2-4e1a-439e-bdf5-a460c1706ef2",
    "deepnote_cell_type": "markdown"
   }
  },
  {
   "cell_type": "code",
   "metadata": {
    "id": "DzM3--8Gk_mU",
    "cell_id": "00007-0ed70d4a-49c5-478c-8c94-6c8cac93a870",
    "deepnote_cell_type": "code"
   },
   "source": "!pip install wget==3.2",
   "execution_count": null,
   "outputs": []
  },
  {
   "cell_type": "markdown",
   "source": " - Fazendo o download dos dados no arquivo compactado `dados.zip`.",
   "metadata": {
    "id": "tVc1aUTmmkIU",
    "cell_id": "00008-a5f93dc7-b799-4696-a894-d0d49b8635e0",
    "deepnote_cell_type": "markdown"
   }
  },
  {
   "cell_type": "code",
   "metadata": {
    "id": "SZWlsi2blOOt",
    "cell_id": "00009-9a694dd7-d852-47c0-8bff-3605fd512da8",
    "deepnote_cell_type": "code"
   },
   "source": "import wget\n\nwget.download(url='https://archive.ics.uci.edu/ml/machine-learning-databases/00312/dow_jones_index.zip', out='./dados.zip')",
   "execution_count": null,
   "outputs": []
  },
  {
   "cell_type": "markdown",
   "source": " - Descompactando os `dados` na pasta dados com o pacote nativo `zipfile`.",
   "metadata": {
    "id": "339oiie2mvCP",
    "cell_id": "00010-e6ebdf61-3a18-4a15-b59e-0c040d1a2fe5",
    "deepnote_cell_type": "markdown"
   }
  },
  {
   "cell_type": "code",
   "metadata": {
    "id": "6tFPV081loK4",
    "cell_id": "00011-a58241ee-4530-471c-b712-42c85fbaefa7",
    "deepnote_cell_type": "code"
   },
   "source": "import zipfile\n\nwith zipfile.ZipFile('./dados.zip', 'r') as fp:\n  fp.extractall('./dados')",
   "execution_count": null,
   "outputs": []
  },
  {
   "cell_type": "markdown",
   "source": "Verifique a pasta dados criada, ela deve conter dois arquivos:\n\n - **dow_jones_index.data**: um arquivo com os dados;\n - **dow_jones_index.names**: um arquivo com a descrição completa dos dados.\n\nÉ possível observar que o arquivo de dados é um arquivo separado por virgulas, o famoso `csv`. Vamos renomear o arquivo de dados para que ele tenha a extensão `csv` com o pacote nativo `os`.",
   "metadata": {
    "id": "KI9zQRT2xa7m",
    "cell_id": "00012-86f22148-5e92-4625-be32-b790bcb282ca",
    "deepnote_cell_type": "markdown"
   }
  },
  {
   "cell_type": "markdown",
   "source": "- Renomeando o arquivo com o pacote nativo `os`.",
   "metadata": {
    "id": "5k7LLQU5n8aY",
    "cell_id": "00013-01e8d481-c399-44ec-a67b-667b52d3eba3",
    "deepnote_cell_type": "markdown"
   }
  },
  {
   "cell_type": "code",
   "metadata": {
    "id": "PyZ2zqwcn5CU",
    "cell_id": "00014-7af2e017-9706-4242-b842-52c76cbcb44f",
    "deepnote_cell_type": "code"
   },
   "source": "import os\n\nos.rename('./dados/dow_jones_index.data', './dados/dow_jones_index.csv')",
   "execution_count": null,
   "outputs": []
  },
  {
   "cell_type": "markdown",
   "source": "Pronto! Abra o arquivo e o Google Colab irá apresentar uma visualização bem legal dos dados.",
   "metadata": {
    "id": "2Zf74P1yoeYc",
    "cell_id": "00015-d5029e59-56de-4386-8d37-c47235f9c8fa",
    "deepnote_cell_type": "markdown"
   }
  },
  {
   "cell_type": "markdown",
   "source": "---",
   "metadata": {
    "id": "zMN1Q3jdwoJm",
    "cell_id": "00016-416060c9-6638-488c-8599-5397e295b50e",
    "deepnote_cell_type": "markdown"
   }
  },
  {
   "cell_type": "markdown",
   "source": "## 1\\. Pandas",
   "metadata": {
    "id": "FwqgmwxakNh6",
    "cell_id": "00017-76500a6c-3db9-4586-80f3-38066d6e1c32",
    "deepnote_cell_type": "markdown"
   }
  },
  {
   "cell_type": "markdown",
   "source": "Para processar os dados, vamos utilizar o pacote `pandas` na versão `1.1.5`. A documentação completa por ser encontrada neste [link](https://pandas.pydata.org/docs/)",
   "metadata": {
    "id": "It_mfyHzkRJ8",
    "cell_id": "00018-ff2ba44c-561c-4332-8c54-0968da16a08b",
    "deepnote_cell_type": "markdown"
   }
  },
  {
   "cell_type": "code",
   "metadata": {
    "id": "DF3DkjPjpn1X",
    "cell_id": "00019-26ed74d2-8421-410b-8bce-c1b5b2d7daf5",
    "deepnote_cell_type": "code"
   },
   "source": "!pip install pandas==1.1.5",
   "execution_count": null,
   "outputs": []
  },
  {
   "cell_type": "markdown",
   "source": "Vamos importar o pacote com o apelido (alias) `pd`.",
   "metadata": {
    "id": "CqVcTZE-wyBt",
    "cell_id": "00020-03bbe3cb-02d3-4d99-b7f7-d19b1f1084eb",
    "deepnote_cell_type": "markdown"
   }
  },
  {
   "cell_type": "code",
   "metadata": {
    "id": "qjA_H6WapxK3",
    "cell_id": "00021-bd3efbc9-908b-481d-a927-75675320dc07",
    "deepnote_cell_type": "code"
   },
   "source": "import pandas as pd",
   "execution_count": null,
   "outputs": []
  },
  {
   "cell_type": "markdown",
   "source": "Estamos prontos para ler o arquivo.",
   "metadata": {
    "id": "KFQ77on-w0Fo",
    "cell_id": "00022-6c9eac98-033d-49d7-bca0-fb1edabce136",
    "deepnote_cell_type": "markdown"
   }
  },
  {
   "cell_type": "code",
   "metadata": {
    "id": "-1yL07iwqWk3",
    "cell_id": "00023-8d79b878-0a6b-4868-9d4a-535e46a02814",
    "deepnote_cell_type": "code"
   },
   "source": "df = pd.read_csv('./dados/dow_jones_index.csv')",
   "execution_count": null,
   "outputs": []
  },
  {
   "cell_type": "markdown",
   "source": "O pandas trabalha com o conceito de dataframe, uma estrutura de dados com muitos métodos e atributos que aceleram o processamento de dados. Alguns exemplos:",
   "metadata": {
    "id": "mnLvLSWCxGt_",
    "cell_id": "00024-b9fa0213-abbf-49f6-bb9a-b588cef130bd",
    "deepnote_cell_type": "markdown"
   }
  },
  {
   "cell_type": "markdown",
   "source": " - Visualizando as `n` primeiras linhas:",
   "metadata": {
    "id": "rf6pevg7xIuQ",
    "cell_id": "00025-61779148-15be-4149-87b8-fc07e708f6df",
    "deepnote_cell_type": "markdown"
   }
  },
  {
   "cell_type": "code",
   "metadata": {
    "id": "fqF7AQvRqn69",
    "cell_id": "00026-44216be7-ff53-4d8a-9ed9-ecfb607ae0f8",
    "deepnote_cell_type": "code"
   },
   "source": "df.head(n=10)",
   "execution_count": null,
   "outputs": []
  },
  {
   "cell_type": "markdown",
   "source": " - Visualizando o nome das colunas:",
   "metadata": {
    "id": "Jna7T1eqxRmH",
    "cell_id": "00027-523e847b-3c62-4613-aa20-aee9a45f55ea",
    "deepnote_cell_type": "markdown"
   }
  },
  {
   "cell_type": "code",
   "metadata": {
    "id": "bX_7C45pxU8Q",
    "cell_id": "00028-9e0b2c62-4708-438c-ac42-eff420f44114",
    "deepnote_cell_type": "code"
   },
   "source": "df.columns.to_list()",
   "execution_count": null,
   "outputs": []
  },
  {
   "cell_type": "markdown",
   "source": " - Verificando o número de linhas e colunas.",
   "metadata": {
    "id": "sqLB9abQxbE-",
    "cell_id": "00029-b960b038-b11a-41c7-9b29-b09192cbb8d6",
    "deepnote_cell_type": "markdown"
   }
  },
  {
   "cell_type": "code",
   "metadata": {
    "id": "sBrOUuUVxe7A",
    "cell_id": "00030-1c71f4cf-a196-4ade-b730-1e635319953a",
    "deepnote_cell_type": "code"
   },
   "source": "linhas, colunas = df.shape\nprint(f'Número de linhas: {linhas}')\nprint(f'Número de colunas: {colunas}')",
   "execution_count": null,
   "outputs": []
  },
  {
   "cell_type": "markdown",
   "source": "Vamos selecionar os valores de abertura, fechamento, máximo e mínimo das ações do McDonalds, listado na Dow Jones como MCD:",
   "metadata": {
    "id": "bSN4zYEKyC7L",
    "cell_id": "00031-72f5b2ee-2d21-4b6c-868a-0d15bf8f8e4a",
    "deepnote_cell_type": "markdown"
   }
  },
  {
   "cell_type": "markdown",
   "source": " - Selecionando as linha do dataframe original `df` em que a coluna `stock` é igual a `MCD`.",
   "metadata": {
    "id": "CyTuPJmgzbZd",
    "cell_id": "00032-f8ecba24-9d77-4333-9969-18099d9c417e",
    "deepnote_cell_type": "markdown"
   }
  },
  {
   "cell_type": "code",
   "metadata": {
    "id": "25XUDMPqqwgH",
    "cell_id": "00033-389b8568-0292-42b0-ab03-55e36259e6d2",
    "deepnote_cell_type": "code"
   },
   "source": "df_mcd = df[df['stock'] == 'MCD']",
   "execution_count": null,
   "outputs": []
  },
  {
   "cell_type": "markdown",
   "source": " - Selecionando apenas as colunas de data e valores de ações.",
   "metadata": {
    "id": "ga7Z_GA0zxzA",
    "cell_id": "00034-8c2ee342-6c22-4d96-8fcf-fb8fb55ee21f",
    "deepnote_cell_type": "markdown"
   }
  },
  {
   "cell_type": "code",
   "metadata": {
    "id": "95LDI4jCrMGI",
    "cell_id": "00035-b071344c-7993-41e9-909b-f2a09467c175",
    "deepnote_cell_type": "code"
   },
   "source": "df_mcd = df_mcd[['date', 'open', 'high', 'low', 'close']]",
   "execution_count": null,
   "outputs": []
  },
  {
   "cell_type": "markdown",
   "source": "Excelente, o problema é que as colunas com os valores possuem o carater `$` e são do tipo texto (`object` no `pandas`).",
   "metadata": {
    "id": "ApnHMNYOyQ8T",
    "cell_id": "00036-620efc71-3fb3-4047-b4a2-e300d3bec989",
    "deepnote_cell_type": "markdown"
   }
  },
  {
   "cell_type": "code",
   "metadata": {
    "id": "DDZZralSr0Zk",
    "cell_id": "00037-d4632f0a-2a5d-43ca-b3d3-5e95ac4c5c39",
    "deepnote_cell_type": "code"
   },
   "source": "df_mcd.head(n=10)",
   "execution_count": null,
   "outputs": []
  },
  {
   "cell_type": "code",
   "metadata": {
    "id": "8cx7gP6TyjOu",
    "cell_id": "00038-5c3cfa30-72b9-4059-8fc6-1aff678ed266",
    "deepnote_cell_type": "code"
   },
   "source": "df_mcd.dtypes",
   "execution_count": null,
   "outputs": []
  },
  {
   "cell_type": "markdown",
   "source": "Vamos limpar as colunas com o método `apply`, que permite a aplicação de uma função anônima (`lambda`) qualquer. A função `lambda` remove o caracter **$** e faz a conversão do tipo de `str` para `float`.",
   "metadata": {
    "id": "IsSYxtOOys72",
    "cell_id": "00039-85a95dbe-48f5-4a30-aad1-8f2501ebac12",
    "deepnote_cell_type": "markdown"
   }
  },
  {
   "cell_type": "code",
   "metadata": {
    "id": "u3OGT0r_sFCJ",
    "cell_id": "00040-6bef2a35-d69d-4f80-9d91-b7c0bb0dc5e6",
    "deepnote_cell_type": "code"
   },
   "source": "for col in ['open', 'high', 'low', 'close']:\n  df_mcd[col] = df_mcd[col].apply(lambda value: float(value.split(sep='$')[-1]))",
   "execution_count": null,
   "outputs": []
  },
  {
   "cell_type": "markdown",
   "source": "Verifique novamente os dados e seus tipos.",
   "metadata": {
    "id": "4xEkH-RdzLUi",
    "cell_id": "00041-b270b4ae-cd9e-45d1-abab-a9fc309be54f",
    "deepnote_cell_type": "markdown"
   }
  },
  {
   "cell_type": "code",
   "metadata": {
    "id": "4w3-4q1gsv3Y",
    "cell_id": "00042-99b4b3c8-b8be-4f55-8840-15b34aa795d6",
    "deepnote_cell_type": "code"
   },
   "source": "df_mcd.head(n=10)",
   "execution_count": null,
   "outputs": []
  },
  {
   "cell_type": "code",
   "metadata": {
    "id": "FDZyy9SVzPoK",
    "cell_id": "00043-9668b5f1-8fd3-43ad-b54e-a68a45c7ba36",
    "deepnote_cell_type": "code"
   },
   "source": "df_mcd.dtypes",
   "execution_count": null,
   "outputs": []
  },
  {
   "cell_type": "markdown",
   "source": "Excelente, agora podemos explorar os dados visualmente.",
   "metadata": {
    "id": "lIzrYVGWkRJ9",
    "cell_id": "00044-92b964c9-4130-4f04-82a3-e931a05eb5df",
    "deepnote_cell_type": "markdown"
   }
  },
  {
   "cell_type": "markdown",
   "source": "**Agora é a sua vez!** Conduza o mesmo processo para extrair e tratar os dados da empresa Coca-Cola (`stock` column igual a `KO`).",
   "metadata": {
    "id": "_-TI78q1yuQa",
    "cell_id": "00045-bc3c8382-6241-4582-9570-94e57e3764ae",
    "deepnote_cell_type": "markdown"
   }
  },
  {
   "cell_type": "code",
   "metadata": {
    "id": "fGbOS3kNzNNF",
    "cell_id": "00046-d798a857-05b4-4b1c-8658-4ba71b0a40cc",
    "deepnote_cell_type": "code"
   },
   "source": "# extração e tratamento dos dados da empresa Coca-Cola.",
   "execution_count": null,
   "outputs": []
  },
  {
   "cell_type": "markdown",
   "source": "---",
   "metadata": {
    "id": "AAyOBwWQkRJ-",
    "cell_id": "00047-722c0bc8-b9d1-4f18-b34e-cc02b70d1a60",
    "deepnote_cell_type": "markdown"
   }
  },
  {
   "cell_type": "markdown",
   "source": "## 2\\. Seaborn",
   "metadata": {
    "id": "1YCQI-BskR5H",
    "cell_id": "00048-58df91f5-c3f1-4d88-a0de-258015f8d5ed",
    "deepnote_cell_type": "markdown"
   }
  },
  {
   "cell_type": "markdown",
   "source": "Para visualizar os dados, vamos utilizar o pacote `seaborn` na versão `0.11.1`. A documentação completa por ser encontrada neste [link](https://seaborn.pydata.org/)",
   "metadata": {
    "id": "VSgsKxY4kR5I",
    "cell_id": "00049-25c84c7d-dcd8-45bb-95a1-f10e1c73a922",
    "deepnote_cell_type": "markdown"
   }
  },
  {
   "cell_type": "code",
   "metadata": {
    "id": "fYNfn2eDs1MN",
    "cell_id": "00050-3b8897ee-5774-4e84-89b7-a123e5ff6596",
    "deepnote_cell_type": "code"
   },
   "source": "!pip install seaborn==0.11.1",
   "execution_count": null,
   "outputs": []
  },
  {
   "cell_type": "markdown",
   "source": "Vamos importar o pacote com o apelido (alias) `sns`.",
   "metadata": {
    "id": "DtuGrHyQ0CJ-",
    "cell_id": "00051-7845a984-4875-4959-8ab9-1b14d941ffc0",
    "deepnote_cell_type": "markdown"
   }
  },
  {
   "cell_type": "code",
   "metadata": {
    "id": "fAeWYQjis8E5",
    "cell_id": "00052-b6a02b40-a8ca-4da3-93a6-601032321c22",
    "deepnote_cell_type": "code"
   },
   "source": "import seaborn as sns",
   "execution_count": null,
   "outputs": []
  },
  {
   "cell_type": "markdown",
   "source": "Vamos visualizar o os valores de abertura das ações ao longo do tempo.",
   "metadata": {
    "id": "TqYmOY1m0Eh3",
    "cell_id": "00053-377d990c-6387-4901-a8cb-a71b7fb0f330",
    "deepnote_cell_type": "markdown"
   }
  },
  {
   "cell_type": "code",
   "metadata": {
    "id": "7-5D1wKcwAuO",
    "cell_id": "00054-383100eb-be9b-46d8-85f1-b2fef53826e1",
    "deepnote_cell_type": "code"
   },
   "source": "plot = sns.lineplot(x=\"date\", y=\"open\", data=df_mcd)\n_ = plot.set_xticklabels(labels=df_mcd['date'], rotation=90)",
   "execution_count": null,
   "outputs": []
  },
  {
   "cell_type": "markdown",
   "source": "Vamos também visualizar o os valores de fechamento das ações ao longo do tempo.",
   "metadata": {
    "id": "gh5Fz23t0MA-",
    "cell_id": "00055-0e39aa25-c6b2-4a88-ad60-6bfc3023e88b",
    "deepnote_cell_type": "markdown"
   }
  },
  {
   "cell_type": "code",
   "metadata": {
    "id": "5QARzs47wP_O",
    "cell_id": "00056-62671221-6c5d-4fb3-af4c-622abdde82d5",
    "deepnote_cell_type": "code"
   },
   "source": "plot = sns.lineplot(x=\"date\", y=\"close\", data=df_mcd)\n_ = plot.set_xticklabels(labels=df_mcd['date'], rotation=90)",
   "execution_count": null,
   "outputs": []
  },
  {
   "cell_type": "markdown",
   "source": "Para facilitar a comparação, vamo visualizar os quatro valores no mesmo gráfico.",
   "metadata": {
    "id": "08BOzhId0TfH",
    "cell_id": "00057-2a92f9bc-b467-42b5-8eca-0102ecdf6db0",
    "deepnote_cell_type": "markdown"
   }
  },
  {
   "cell_type": "code",
   "metadata": {
    "id": "boKoMZbXtAJV",
    "cell_id": "00058-85eb2cb7-d575-40d9-bdf6-29d30d812d6e",
    "deepnote_cell_type": "code"
   },
   "source": "plot = sns.lineplot(x=\"date\", y=\"value\", hue='variable', data=pd.melt(df_mcd, ['date']))\n_ = plot.set_xticklabels(labels=df_mcd['date'], rotation=90)",
   "execution_count": null,
   "outputs": []
  },
  {
   "cell_type": "markdown",
   "source": "Para finalizar, vamos salvar o gráfico numa figura.",
   "metadata": {
    "id": "H6nM4hJQ1mnb",
    "cell_id": "00059-6c32465c-d21c-4cbf-bd32-b3d14cb7bdfd",
    "deepnote_cell_type": "markdown"
   }
  },
  {
   "cell_type": "code",
   "metadata": {
    "id": "I7Wncbvd1lzE",
    "cell_id": "00060-faac4f47-605e-4eb6-a967-8e90d6c6a5e2",
    "deepnote_cell_type": "code"
   },
   "source": "plot.figure.savefig(\"./mcd.png\")",
   "execution_count": null,
   "outputs": []
  },
  {
   "cell_type": "markdown",
   "source": "**Agora é a sua vez,** faça o gráfico acima para a empresa Coca-Cola e salve a imagem com o nome `ko.png`.",
   "metadata": {
    "id": "4mJNcUM7kR5J",
    "cell_id": "00061-a19eddd3-fd6d-4c72-b20c-e84a4baaa46b",
    "deepnote_cell_type": "markdown"
   }
  },
  {
   "cell_type": "code",
   "metadata": {
    "id": "0S_xMlt_zjwV",
    "cell_id": "00062-fc82a445-0d59-4ff3-9403-d7e831c609ec",
    "deepnote_cell_type": "code"
   },
   "source": "# visualização dos dados da Coca-Cola.",
   "execution_count": null,
   "outputs": []
  },
  {
   "cell_type": "markdown",
   "source": "Analise as duas imagens e escreva pelo menos um *insight* que você consegue extrair dos dados. Fique a vontade para escrever quantos *insights* você quiser.",
   "metadata": {
    "id": "fYM0WRi0zoQx",
    "cell_id": "00063-03cb509c-3047-4a99-8f04-302a5d7895db",
    "deepnote_cell_type": "markdown"
   }
  },
  {
   "cell_type": "markdown",
   "source": "**Insight #1**: ...",
   "metadata": {
    "id": "xGcI2Yl-0xBY",
    "cell_id": "00064-c453b144-29b3-40a5-8a1e-234de2f7903c",
    "deepnote_cell_type": "markdown"
   }
  },
  {
   "cell_type": "markdown",
   "source": "---",
   "metadata": {
    "id": "8Ubx9z_NkR5K",
    "cell_id": "00065-04edb6e7-92e1-4b19-9728-86e296a46679",
    "deepnote_cell_type": "markdown"
   }
  },
  {
   "cell_type": "markdown",
   "source": "<a style='text-decoration:none;line-height:16px;display:flex;color:#5B5B62;padding:10px;justify-content:end;' href='https://deepnote.com?utm_source=created-in-deepnote-cell&projectId=7bc88e6b-e21c-42d6-a070-b420cc720827' target=\"_blank\">\n<img alt='Created in deepnote.com' style='display:inline;max-height:16px;margin:0px;margin-right:7.5px;' src='data:image/svg+xml;base64,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' > </img>\nCreated in <span style='font-weight:600;margin-left:4px;'>Deepnote</span></a>",
   "metadata": {
    "tags": [],
    "created_in_deepnote_cell": true,
    "deepnote_cell_type": "markdown"
   }
  }
 ],
 "nbformat": 4,
 "nbformat_minor": 0,
 "metadata": {
  "colab": {
   "name": "module_7_exercise.ipynb",
   "provenance": [],
   "collapsed_sections": [],
   "toc_visible": true
  },
  "kernelspec": {
   "name": "python3",
   "display_name": "Python 3"
  },
  "deepnote_notebook_id": "dbfb1913-7d6d-4e68-85de-46411c6a811b",
  "deepnote": {},
  "deepnote_execution_queue": []
 }
}