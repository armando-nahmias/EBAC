{
 "cells": [
  {
   "cell_type": "markdown",
   "source": "<img src=\"https://raw.githubusercontent.com/andre-marcos-perez/ebac-course-utils/main/media/logo/newebac_logo_black_half.png\" alt=\"ebac-logo\">\n\n---\n\n# **Módulo** | Python: Programação Funcional\nCaderno de **Exercícios**<br> \nProfessor [André Perez](https://www.linkedin.com/in/andremarcosperez/)\n\n---",
   "metadata": {
    "id": "KJqp9AANOCtf",
    "cell_id": "00000-1c545cad-42f8-4215-a6db-0bcee3dba4cb",
    "deepnote_cell_type": "markdown"
   }
  },
  {
   "cell_type": "markdown",
   "source": "# **Tópicos**\n\n<ol type=\"1\">\n  <li>Função lambda;</li>\n  <li>Função map;</li>\n  <li>Função filter;</li>\n  <li>Função reduce.</li>\n</ol>",
   "metadata": {
    "id": "d9jDtUbDOE1-",
    "cell_id": "00001-3796b8c7-2719-48e2-b6c3-400740b54ebc",
    "deepnote_cell_type": "markdown"
   }
  },
  {
   "cell_type": "markdown",
   "source": "---",
   "metadata": {
    "id": "SmoHgt-lwkpD",
    "cell_id": "00002-f60d582c-bfc3-46d5-a3f5-11cceb9871ca",
    "deepnote_cell_type": "markdown"
   }
  },
  {
   "cell_type": "markdown",
   "source": "# **Exercícios**",
   "metadata": {
    "id": "GABI6OW8OfQ2",
    "cell_id": "00003-0bca42b2-9787-4711-be27-7942e5e6b756",
    "deepnote_cell_type": "markdown"
   }
  },
  {
   "cell_type": "markdown",
   "source": "## 0\\. Preparação do ambiente ",
   "metadata": {
    "id": "muD1vxozykSC",
    "cell_id": "00004-1c09fa1d-5ff3-476f-a0e3-d697d16ae475",
    "deepnote_cell_type": "markdown"
   }
  },
  {
   "cell_type": "markdown",
   "source": "Neste exercício vamos trabalhar com o arquivo csv com dados de crédito, definido abaixo. Execute cada uma das células de código para escrever os arquivos na sua máquina virtual.",
   "metadata": {
    "id": "ahrFfCuBxJKs",
    "cell_id": "00005-9e15967c-7fd6-432d-b426-c6074f032271",
    "deepnote_cell_type": "markdown"
   }
  },
  {
   "cell_type": "code",
   "metadata": {
    "id": "Kjt3HvFX7C3A",
    "cell_id": "00006-128a63a3-dfbf-4014-84e9-03a1ecfd101c",
    "deepnote_cell_type": "code"
   },
   "source": "%%writefile credito.csv\nid_vendedor,valor_emprestimos,quantidade_emprestimos,data\n104271,448.0,1,20161208\n21476,826.7,3,20161208\n87440,313.6,3,20161208\n15980,-8008.0,6,20161208\n215906,2212.0,5,20161208\n33696,2771.3,2,20161208\n33893,2240.0,3,20161208\n214946,-4151.0,18,20161208\n123974,2021.95,2,20161208\n225870,4039.0,2,20161208",
   "execution_count": null,
   "outputs": []
  },
  {
   "cell_type": "markdown",
   "source": "Vamos ler o conteúdo do arquivo em uma lista onde cada elemento é um dicionário representando as linhas do arquivo.",
   "metadata": {
    "id": "tnhM9v2X7yGS",
    "cell_id": "00007-06142316-8ef4-48eb-ab2f-d28278dc683d",
    "deepnote_cell_type": "markdown"
   }
  },
  {
   "cell_type": "code",
   "metadata": {
    "id": "T00Y_WIh7uPU",
    "cell_id": "00008-ccedf780-0fec-4239-a7ba-e230a8469120",
    "deepnote_cell_type": "code"
   },
   "source": "emprestimos = []\nwith open(file='./credito.csv', mode='r', encoding='utf8') as fp:\n  fp.readline() # cabeçalho\n  linha = fp.readline()\n  while linha:\n    linha_emprestimo = {}\n    linha_elementos = linha.strip().split(sep=',')\n    linha_emprestimo['id_vendedor'] = linha_elementos[0]\n    linha_emprestimo['valor_emprestimos'] = linha_elementos[1]\n    linha_emprestimo['quantidade_emprestimos'] = linha_elementos[2]\n    linha_emprestimo['data'] = linha_elementos[3]\n    emprestimos.append(linha_emprestimo)\n    linha = fp.readline()",
   "execution_count": null,
   "outputs": []
  },
  {
   "cell_type": "code",
   "metadata": {
    "id": "Bp0ZgdTM84bw",
    "cell_id": "00009-ccc87942-7455-4467-a9ef-1c1f9bc6f78d",
    "deepnote_cell_type": "code"
   },
   "source": "for emprestimo in emprestimos:\n  print(emprestimo)",
   "execution_count": null,
   "outputs": []
  },
  {
   "cell_type": "markdown",
   "source": "## 1\\. Função `map`\n\n",
   "metadata": {
    "id": "KI9zQRT2xa7m",
    "cell_id": "00010-8dd70578-0310-44a3-8eb3-6cc9d354cccf",
    "deepnote_cell_type": "markdown"
   }
  },
  {
   "cell_type": "markdown",
   "source": "Aplique a função map na lista de `emprestimos` para extrair os valores da chave `valor_emprestimos` na lista `valor_emprestimos_lista`. Faça também a conversão de `str` para `float`.",
   "metadata": {
    "id": "U63MjM7H7o1Y",
    "cell_id": "00011-7f367faa-8595-4784-9932-0e2a3eb2088d",
    "deepnote_cell_type": "markdown"
   }
  },
  {
   "cell_type": "code",
   "metadata": {
    "id": "-yAW4PJh9h7a",
    "cell_id": "00012-d10f33b2-544b-4a92-9c9c-d3cd25b48f47",
    "deepnote_cell_type": "code"
   },
   "source": "valor_emprestimos_lista = ...",
   "execution_count": null,
   "outputs": []
  },
  {
   "cell_type": "code",
   "metadata": {
    "id": "MQUvYdzJ9ndC",
    "cell_id": "00013-e3880f4d-0613-4336-b617-9088134537eb",
    "deepnote_cell_type": "code"
   },
   "source": "print(valor_emprestimos_lista) # [448.0, 826.7, ..., 4039.0]",
   "execution_count": null,
   "outputs": []
  },
  {
   "cell_type": "markdown",
   "source": "---",
   "metadata": {
    "id": "zMN1Q3jdwoJm",
    "cell_id": "00014-76d017c7-2a39-4d8e-8862-60775b6b624c",
    "deepnote_cell_type": "markdown"
   }
  },
  {
   "cell_type": "markdown",
   "source": "## 2\\. Função `filter`\n\n",
   "metadata": {
    "id": "WKHvMtFX_JKH",
    "cell_id": "00015-42593c32-a58e-4946-acda-6e1387c742c9",
    "deepnote_cell_type": "markdown"
   }
  },
  {
   "cell_type": "markdown",
   "source": "Aplique a função filter na lista de `valor_emprestimos_lista` para filtrar apenas os valores maiores que zero (os valores negativas são erros na base de dados). Salve os valores na lista `valor_emprestimos_lista_filtrada`.",
   "metadata": {
    "id": "6V34N3Lf_gUM",
    "cell_id": "00016-5a1a3e26-cb31-4d86-8a9b-64981b62ae50",
    "deepnote_cell_type": "markdown"
   }
  },
  {
   "cell_type": "code",
   "metadata": {
    "id": "3y7Vmm0yACuk",
    "cell_id": "00017-f7ed61f5-8d35-43a1-9b6a-97fe6e8bb903",
    "deepnote_cell_type": "code"
   },
   "source": "valor_emprestimos_lista_filtrada = ...",
   "execution_count": null,
   "outputs": []
  },
  {
   "cell_type": "code",
   "metadata": {
    "id": "socxMS6NADsM",
    "cell_id": "00018-04b32721-6d05-4e91-b63b-3e12bb7debfc",
    "deepnote_cell_type": "code"
   },
   "source": "print(valor_emprestimos_lista_filtrada) # [448.0, 826.7, ..., 4039.0]",
   "execution_count": null,
   "outputs": []
  },
  {
   "cell_type": "markdown",
   "source": "---",
   "metadata": {
    "id": "4yqCAVCo_Yp3",
    "cell_id": "00019-f02b0b56-d49d-400f-91b3-a997ce3a10bf",
    "deepnote_cell_type": "markdown"
   }
  },
  {
   "cell_type": "markdown",
   "source": "## 3\\. Função `reduce`\n\n",
   "metadata": {
    "id": "s4TzfRxC_Yp4",
    "cell_id": "00020-43e1b56d-e34c-45a5-9f50-6527558ce507",
    "deepnote_cell_type": "markdown"
   }
  },
  {
   "cell_type": "markdown",
   "source": "Com a nossa lista de valores de emprestimo pronta, vamos extrair algumas métricas.",
   "metadata": {
    "id": "RwV4V7gDAWfJ",
    "cell_id": "00021-177ab692-65bf-44a5-91b3-073d939b9e70",
    "deepnote_cell_type": "markdown"
   }
  },
  {
   "cell_type": "markdown",
   "source": "### 3\\.1\\. Função `reduce` para extrair a **soma**",
   "metadata": {
    "id": "zjXA6H0LAf1_",
    "cell_id": "00022-d12cba20-a09a-4f54-a16c-0b04a50fb348",
    "deepnote_cell_type": "markdown"
   }
  },
  {
   "cell_type": "markdown",
   "source": "Aplique a função reduce para somar os elementos da lista `valor_emprestimos_lista_filtrada` na variavel `soma_valor_emprestimos`.",
   "metadata": {
    "id": "u1kxPpkUArKw",
    "cell_id": "00023-5bf7e786-6d7c-4eee-b29a-f8f16aa4fb46",
    "deepnote_cell_type": "markdown"
   }
  },
  {
   "cell_type": "code",
   "metadata": {
    "id": "ptAFEVpMAr6_",
    "cell_id": "00024-7a3df7db-3fb1-4842-af04-8c1b3c00938c",
    "deepnote_cell_type": "code"
   },
   "source": "from functools import reduce\n\nsoma_valor_emprestimos = ...",
   "execution_count": null,
   "outputs": []
  },
  {
   "cell_type": "code",
   "metadata": {
    "id": "fPosL2LZBDxz",
    "cell_id": "00025-44361a6d-025f-4035-949c-f1f2666befa9",
    "deepnote_cell_type": "code"
   },
   "source": "print(soma_valor_emprestimos) # 14872.550000000001",
   "execution_count": null,
   "outputs": []
  },
  {
   "cell_type": "markdown",
   "source": "### 3\\.2\\. Função `reduce` para extrair a **media aritimética**",
   "metadata": {
    "id": "v8h9TkYqBLPn",
    "cell_id": "00026-170963df-0740-40ba-b6bc-7e07a936375c",
    "deepnote_cell_type": "markdown"
   }
  },
  {
   "cell_type": "markdown",
   "source": "Aplique a função reduce para extrair a média aritimética (mais informações [aqui](https://pt.wikipedia.org/wiki/M%C3%A9dia#M%C3%A9dia_aritm%C3%A9tica)) dos elementos da lista `valor_emprestimos_lista_filtrada` na variavel `media_valor_emprestimos`.",
   "metadata": {
    "id": "VXsNI53NBLPo",
    "cell_id": "00027-adf8ffb5-cde4-4ab7-8107-a000ec288f3b",
    "deepnote_cell_type": "markdown"
   }
  },
  {
   "cell_type": "code",
   "metadata": {
    "id": "qbWv8a2GBLPp",
    "cell_id": "00028-bb4c19fb-5f8f-4792-b8d6-a0934fa72f0c",
    "deepnote_cell_type": "code"
   },
   "source": "from functools import reduce\n\nmedia_valor_emprestimos = ...",
   "execution_count": null,
   "outputs": []
  },
  {
   "cell_type": "code",
   "metadata": {
    "id": "V-hh5hCKBLPr",
    "cell_id": "00029-95ea4f5c-a199-4703-afea-970c0e4167ef",
    "deepnote_cell_type": "code"
   },
   "source": "print(media_valor_emprestimos) # 1859.0687500000001",
   "execution_count": null,
   "outputs": []
  },
  {
   "cell_type": "markdown",
   "source": "### 3\\.3\\. (**Desafio**) Função `reduce` para extrair o **desvio padrão**",
   "metadata": {
    "id": "rCwM3DcJBeyB",
    "cell_id": "00030-b94b183c-4798-4798-ba47-adf70864ce4d",
    "deepnote_cell_type": "markdown"
   }
  },
  {
   "cell_type": "markdown",
   "source": "Aplique a função reduce para extrair a média aritimética (mais informações [aqui](https://pt.wikipedia.org/wiki/M%C3%A9dia#M%C3%A9dia_aritm%C3%A9tica)) dos elementos da lista `valor_emprestimos_lista_filtrada` na variavel `desvio_padrao_valor_emprestimos`.\n\n",
   "metadata": {
    "id": "jw3azoT_BeyC",
    "cell_id": "00031-b01fa1ab-f31f-4e21-adf8-035c0c43aa74",
    "deepnote_cell_type": "markdown"
   }
  },
  {
   "cell_type": "code",
   "metadata": {
    "id": "8HnNxp9mBeyD",
    "cell_id": "00032-d0feca92-1c3d-4384-9ca5-73a8e31389f3",
    "deepnote_cell_type": "code"
   },
   "source": "from functools import reduce\n\ndesvio_padrao_valor_emprestimos = ...",
   "execution_count": null,
   "outputs": []
  },
  {
   "cell_type": "code",
   "metadata": {
    "id": "3dDC-KRYBeyE",
    "cell_id": "00033-33d1db93-1995-44bb-9141-d4ea8287639c",
    "deepnote_cell_type": "code"
   },
   "source": "print(desvio_padrao_valor_emprestimos) # 1271.997271149785",
   "execution_count": null,
   "outputs": []
  },
  {
   "cell_type": "markdown",
   "source": "---",
   "metadata": {
    "id": "ai2mZYnG_b_s",
    "cell_id": "00034-301d9445-fef8-4581-a9b2-ad97b09b8c64",
    "deepnote_cell_type": "markdown"
   }
  },
  {
   "cell_type": "markdown",
   "source": "<a style='text-decoration:none;line-height:16px;display:flex;color:#5B5B62;padding:10px;justify-content:end;' href='https://deepnote.com?utm_source=created-in-deepnote-cell&projectId=7bc88e6b-e21c-42d6-a070-b420cc720827' target=\"_blank\">\n<img alt='Created in deepnote.com' style='display:inline;max-height:16px;margin:0px;margin-right:7.5px;' src='data:image/svg+xml;base64,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' > </img>\nCreated in <span style='font-weight:600;margin-left:4px;'>Deepnote</span></a>",
   "metadata": {
    "tags": [],
    "created_in_deepnote_cell": true,
    "deepnote_cell_type": "markdown"
   }
  }
 ],
 "nbformat": 4,
 "nbformat_minor": 0,
 "metadata": {
  "colab": {
   "name": "module_5_exercise.ipynb",
   "provenance": [],
   "collapsed_sections": [],
   "toc_visible": true
  },
  "kernelspec": {
   "name": "python3",
   "display_name": "Python 3"
  },
  "deepnote_notebook_id": "f740de08-6085-4794-aaf5-37232b6f479f",
  "deepnote": {},
  "deepnote_execution_queue": []
 }
}