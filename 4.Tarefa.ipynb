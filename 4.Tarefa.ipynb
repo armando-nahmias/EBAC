{
 "cells": [
  {
   "cell_type": "markdown",
   "source": "<img src=\"https://raw.githubusercontent.com/andre-marcos-perez/ebac-course-utils/main/media/logo/newebac_logo_black_half.png\" alt=\"ebac-logo\">\n\n---\n\n# **Módulo** | Python: Arquivos & Funções\nCaderno de **Exercícios**<br> \nProfessor [André Perez](https://www.linkedin.com/in/andremarcosperez/)\n\n---",
   "metadata": {
    "id": "KJqp9AANOCtf",
    "cell_id": "00000-2ff97d70-48e4-48cd-88ae-66a9e2f0531f",
    "deepnote_cell_type": "markdown"
   }
  },
  {
   "cell_type": "markdown",
   "source": "# **Tópicos**\n\n<ol type=\"1\">\n  <li>Leitura;</li>\n  <li>Escrita;</li>\n  <li>Funções;</li>\n  <li>Escopo.</li>\n</ol>",
   "metadata": {
    "id": "d9jDtUbDOE1-",
    "cell_id": "00001-843e4f0a-57b7-42e1-84db-712814b1290c",
    "deepnote_cell_type": "markdown"
   }
  },
  {
   "cell_type": "markdown",
   "source": "---",
   "metadata": {
    "id": "SmoHgt-lwkpD",
    "cell_id": "00002-5d6725d9-83e2-4bf5-a4b9-1fb6cf9f61f9",
    "deepnote_cell_type": "markdown"
   }
  },
  {
   "cell_type": "markdown",
   "source": "# **Exercícios**",
   "metadata": {
    "id": "GABI6OW8OfQ2",
    "cell_id": "00003-2953252f-e463-48e3-bca0-925c816b1af3",
    "deepnote_cell_type": "markdown"
   }
  },
  {
   "cell_type": "markdown",
   "source": "## 0\\. Preparação do ambiente",
   "metadata": {
    "id": "muD1vxozykSC",
    "cell_id": "00004-763add65-55cd-4815-85dd-9deb8de87403",
    "deepnote_cell_type": "markdown"
   }
  },
  {
   "cell_type": "markdown",
   "source": "Neste exercício vamos trabalhar com os arquivos de csv e texto definidos abaixo. Execute cada uma das células de código para escrever os arquivos na sua máquina virtual.",
   "metadata": {
    "id": "ahrFfCuBxJKs",
    "cell_id": "00005-980e93bf-cf4b-4b20-bfaf-0ba49d50f6fd",
    "deepnote_cell_type": "markdown"
   }
  },
  {
   "cell_type": "markdown",
   "source": "* **carros.csv**: arquivo csv com informações sobre carros (venda, manutenção, portas, etc.).",
   "metadata": {
    "id": "u0uFuhRSq_hQ",
    "cell_id": "00006-2f65c3cc-ba62-4e7b-a7a3-c97de922a6d0",
    "deepnote_cell_type": "markdown"
   }
  },
  {
   "cell_type": "code",
   "metadata": {
    "id": "daMf-xaXqKs2",
    "cell_id": "00007-d91a68b4-969a-4698-a6fc-c05a666fa4b7",
    "deepnote_cell_type": "code"
   },
   "source": "%%writefile carros.csv\nid,valor_venda,valor_manutencao,portas,pessoas,porta_malas\n1,vhigh,med,2,2,small\n2,med,vhigh,2,2,small\n3,low,vhigh,2,2,small\n4,low,high,2,2,small\n5,low,high,2,2,small\n6,low,high,4,4,big\n7,low,high,4,4,big\n8,low,med,2,2,small\n9,low,med,2,2,small\n10,low,med,2,2,small\n11,low,med,4,4,big\n12,low,low,2,2,small\n13,low,low,4,4,small\n14,low,low,4,4,med",
   "execution_count": null,
   "outputs": []
  },
  {
   "cell_type": "markdown",
   "source": "* **musica.txt**: arquivo texto com a letra da música Roda Viva do Chico Buarque.",
   "metadata": {
    "id": "X0Z2PhbCrTz1",
    "cell_id": "00008-315b5884-349f-4145-a7d3-483b78b703f8",
    "deepnote_cell_type": "markdown"
   }
  },
  {
   "cell_type": "code",
   "metadata": {
    "id": "m7Ge2rggrU73",
    "cell_id": "00009-dbae6108-0493-4cd2-ab0e-af627815f0c8",
    "deepnote_cell_type": "code"
   },
   "source": "%%writefile musica.txt\nRoda Viva\nChico Buarque\n\nTem dias que a gente se sente\nComo quem partiu ou morreu\nA gente estancou de repente\nOu foi o mundo então que cresceu\nA gente quer ter voz ativa\nNo nosso destino mandar\nMas eis que chega a roda viva\nE carrega o destino pra lá\n\nRoda mundo, roda-gigante\nRoda moinho, roda pião\n\nO tempo rodou num instante\nNas voltas do meu coração\nA gente vai contra a corrente\nAté não poder resistir\nNa volta do barco é que sente\nO quanto deixou de cumprir\nFaz tempo que a gente cultiva\nA mais linda roseira que há\nMas eis que chega a roda viva\nE carrega a roseira pra lá\n\nRoda mundo, roda-gigante\nRoda moinho, roda pião",
   "execution_count": null,
   "outputs": []
  },
  {
   "cell_type": "markdown",
   "source": "---",
   "metadata": {
    "id": "zMN1Q3jdwoJm",
    "cell_id": "00010-5c818f52-e7d5-40e2-9d67-806a4b35a0f9",
    "deepnote_cell_type": "markdown"
   }
  },
  {
   "cell_type": "markdown",
   "source": "## 1\\. Funções para arquivo csv",
   "metadata": {
    "id": "U4S19ZvHsPcE",
    "cell_id": "00011-33983fbd-661a-45e9-bb67-23a04793ea08",
    "deepnote_cell_type": "markdown"
   }
  },
  {
   "cell_type": "markdown",
   "source": "Complete a função abaixo para extrair uma coluna do arquivo csv em uma lista. Os elementos devem ter o tipo de dado correto.",
   "metadata": {
    "id": "Mcf3mkOrtHzK",
    "cell_id": "00012-a1c36117-fd97-4f3d-ba4b-c956bd425f1c",
    "deepnote_cell_type": "markdown"
   }
  },
  {
   "cell_type": "code",
   "metadata": {
    "id": "W-1PAg7Ctt7i",
    "cell_id": "00013-91185546-fbca-404c-917d-42a903ad2d27",
    "deepnote_cell_type": "code"
   },
   "source": "def extrai_coluna_csv(nome_arquivo: str, indice_coluna: int, tipo_dado: str):\n\n  coluna = []\n\n  # leia o arquivo com o comando 'with' utilizando o parametro 'nome_arquivo'\n  # extraia a coluna do arquivo utilizando o parametro 'indice_coluna'\n  # use a estrutura de decisão if/elif/else para fazer a conversão do tipo de dados utilizando o parametro 'tipo_dado'\n\n  return coluna",
   "execution_count": null,
   "outputs": []
  },
  {
   "cell_type": "markdown",
   "source": "Você pode testar a função com os códigos abaixo.",
   "metadata": {
    "id": "qCbQF6jru_01",
    "cell_id": "00014-372b89a3-da0a-46c9-b763-3b70775523ad",
    "deepnote_cell_type": "markdown"
   }
  },
  {
   "cell_type": "code",
   "metadata": {
    "id": "Rl-EYdySu90s",
    "cell_id": "00015-c952a4c1-3c49-4138-9a23-686004036fc5",
    "deepnote_cell_type": "code"
   },
   "source": "# extrair a coluna valor_venda\nvalor_venda = extrai_coluna_csv(nome_arquivo='./carros.csv', indice_coluna=1, tipo_dado='str')\nprint(valor_venda) # deve retornar ['vhigh', 'med', 'low', ...]",
   "execution_count": null,
   "outputs": []
  },
  {
   "cell_type": "code",
   "metadata": {
    "id": "hvD-zzwDwboD",
    "cell_id": "00016-3e3b223b-7746-4792-a73b-a1b040863f2b",
    "deepnote_cell_type": "code"
   },
   "source": "# extrair a coluna pessoas\npessoas = extrai_coluna_csv(nome_arquivo='./carros.csv', indice_coluna=4, tipo_dado='int')\nprint(pessoas) # deve retornar [2, 2, 2, ...]",
   "execution_count": null,
   "outputs": []
  },
  {
   "cell_type": "markdown",
   "source": "---",
   "metadata": {
    "id": "QTS5-sSbs4ie",
    "cell_id": "00017-ee9f7b53-01f5-4d46-a80d-88c968c95471",
    "deepnote_cell_type": "markdown"
   }
  },
  {
   "cell_type": "markdown",
   "source": "## 2\\. Funções para arquivo txt",
   "metadata": {
    "id": "sebqs6uztCH4",
    "cell_id": "00018-775cba76-5ce5-4bb4-bd40-59dadf9a5fad",
    "deepnote_cell_type": "markdown"
   }
  },
  {
   "cell_type": "markdown",
   "source": "Complete a função abaixo para extrair uma as palavras de uma linha do arquivo txt em uma lista.",
   "metadata": {
    "id": "IFVBGkNhzB3P",
    "cell_id": "00019-d13fa37f-025d-416a-8b69-996cf4817a98",
    "deepnote_cell_type": "markdown"
   }
  },
  {
   "cell_type": "code",
   "metadata": {
    "id": "ewrNqMtczWZJ",
    "cell_id": "00020-5b0825a7-34eb-45c7-be4a-dffee1c5f5bd",
    "deepnote_cell_type": "code"
   },
   "source": "def extrai_linha_txt(nome_arquivo: str, numero_linha: int):\n\n  palavras_linha = []\n\n  # leia o arquivo com o comando 'with' utilizando o parametro 'nome_arquivo'\n  # extraia a linha do arquivo utilizando o parametro 'numero_linha'\n  # quebre a linha em palavras com o comando split, note que o separador é um espaço ' '\n\n  return palavras_linha",
   "execution_count": null,
   "outputs": []
  },
  {
   "cell_type": "markdown",
   "source": "Você pode testar a função com os códigos abaixo.",
   "metadata": {
    "id": "Qz2UwipIz0t2",
    "cell_id": "00021-2579560c-e300-434a-b631-81b245bd1079",
    "deepnote_cell_type": "markdown"
   }
  },
  {
   "cell_type": "code",
   "metadata": {
    "id": "_Wxp43qqz1V2",
    "cell_id": "00022-2a5ccda3-b760-4b65-a190-624fadd47463",
    "deepnote_cell_type": "code"
   },
   "source": "linha10 = extrai_linha_txt(nome_arquivo='./musica.txt', numero_linha=10)\nprint(linha10) # deve retornar ['Mas', 'eis', 'que', 'chega', 'a', 'roda', 'viva']",
   "execution_count": null,
   "outputs": []
  },
  {
   "cell_type": "markdown",
   "source": "---",
   "metadata": {
    "id": "Fo9qTjietCH6",
    "cell_id": "00023-cb88bd1e-e474-40c1-bd2a-88d62bf5b83f",
    "deepnote_cell_type": "markdown"
   }
  },
  {
   "cell_type": "markdown",
   "source": "<a style='text-decoration:none;line-height:16px;display:flex;color:#5B5B62;padding:10px;justify-content:end;' href='https://deepnote.com?utm_source=created-in-deepnote-cell&projectId=7bc88e6b-e21c-42d6-a070-b420cc720827' target=\"_blank\">\n<img alt='Created in deepnote.com' style='display:inline;max-height:16px;margin:0px;margin-right:7.5px;' src='data:image/svg+xml;base64,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' > </img>\nCreated in <span style='font-weight:600;margin-left:4px;'>Deepnote</span></a>",
   "metadata": {
    "tags": [],
    "created_in_deepnote_cell": true,
    "deepnote_cell_type": "markdown"
   }
  }
 ],
 "nbformat": 4,
 "nbformat_minor": 0,
 "metadata": {
  "colab": {
   "name": "module_4_exercise.ipynb",
   "provenance": [],
   "collapsed_sections": [],
   "toc_visible": true
  },
  "kernelspec": {
   "name": "python3",
   "display_name": "Python 3"
  },
  "deepnote_notebook_id": "8dad5c57-c847-42ad-a274-f9d49b79063b",
  "deepnote": {},
  "deepnote_execution_queue": []
 }
}