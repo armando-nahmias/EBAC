{
 "cells": [
  {
   "cell_type": "markdown",
   "source": "<img src=\"https://raw.githubusercontent.com/andre-marcos-perez/ebac-course-utils/main/media/logo/newebac_logo_black_half.png\" alt=\"ebac-logo\">\n\n---\n\n# **Módulo** | Python: Scripting\nCaderno de **Exercícios**<br> \nProfessor [André Perez](https://www.linkedin.com/in/andremarcosperez/)\n\n---",
   "metadata": {
    "id": "KJqp9AANOCtf",
    "cell_id": "00000-94509e64-809c-49e8-9a53-f9b4daab3cc9",
    "deepnote_cell_type": "markdown"
   }
  },
  {
   "cell_type": "markdown",
   "source": "# **Tópicos**\n\n<ol type=\"1\">\n  <li>Instalando o Python na própria máquina;</li>\n  <li>Executando código Python no terminal;</li>\n  <li>Criando arquivos de script Python.</li>\n</ol>",
   "metadata": {
    "id": "d9jDtUbDOE1-",
    "cell_id": "00001-f3895817-591e-4b2c-84e8-bb1fb59dd3e5",
    "deepnote_cell_type": "markdown"
   }
  },
  {
   "cell_type": "markdown",
   "source": "---",
   "metadata": {
    "id": "SmoHgt-lwkpD",
    "cell_id": "00002-aff7f312-fba8-4b49-81d7-fc0c19be047c",
    "deepnote_cell_type": "markdown"
   }
  },
  {
   "cell_type": "markdown",
   "source": "# **Exercícios**",
   "metadata": {
    "id": "GABI6OW8OfQ2",
    "cell_id": "00003-b72d859b-368e-4f9c-b106-a246b1f57ec5",
    "deepnote_cell_type": "markdown"
   }
  },
  {
   "cell_type": "markdown",
   "source": "## 0\\. Preparando o ambiente",
   "metadata": {
    "id": "muD1vxozykSC",
    "cell_id": "00004-30e798d8-efd9-46d8-b1c9-0b8ee1502b41",
    "deepnote_cell_type": "markdown"
   }
  },
  {
   "cell_type": "markdown",
   "source": " - Instalando o Python e o PIP na sua máquina.",
   "metadata": {
    "id": "4TT1IaG2DOuR",
    "cell_id": "00005-7d18df1a-dd02-4bea-b109-9b7eb675a49f",
    "deepnote_cell_type": "markdown"
   }
  },
  {
   "cell_type": "markdown",
   "source": "Nestes exercícios você vai precisar do Python (versão 3.x) e do PIP instalados na sua máquina. Abra o seu terminal (windows `cmd` ou linux/mcos `terminal`) e \nverifique se ambos estão instalados na sua máquina.\n\n```shell\npython -V # possível resultado: Python 3.8.5\npip -V # possível resultado: pip 20.0.2 ...\n```\n\nSe pelo menos um dos softwares não estiver instalados na sua máquina, siga as instruções da aula para instala-los. Se você tiver enfrentando algum problema, entre em contato com o tutor.",
   "metadata": {
    "id": "eTI82AggBgY3",
    "cell_id": "00006-0a79fec1-50a6-43b1-a73b-ee2f746caa32",
    "deepnote_cell_type": "markdown"
   }
  },
  {
   "cell_type": "markdown",
   "source": " - Instalando os pacotes necessários.",
   "metadata": {
    "id": "PfJij-X6DS3o",
    "cell_id": "00007-54f88880-8d39-4b6f-a705-407a54787b09",
    "deepnote_cell_type": "markdown"
   }
  },
  {
   "cell_type": "markdown",
   "source": "Instale os pacotes necessários para conduzir os exercícios.\n\n```shell\npip install pandas==1.2.4 seaborn==0.11.1 requests==2.25.1\n```",
   "metadata": {
    "id": "qfhQuCEaDb3H",
    "cell_id": "00008-28b744ba-db58-48ff-9ea8-72c1f19ea2d8",
    "deepnote_cell_type": "markdown"
   }
  },
  {
   "cell_type": "markdown",
   "source": "---",
   "metadata": {
    "id": "zMN1Q3jdwoJm",
    "cell_id": "00009-f94c3e03-d3b1-4c78-855d-ad9ebf505366",
    "deepnote_cell_type": "markdown"
   }
  },
  {
   "cell_type": "markdown",
   "source": "## 1\\. Script de Extração",
   "metadata": {
    "id": "GWgNoJN8DHyY",
    "cell_id": "00010-1286520a-ae4a-4566-9f26-7d854e949756",
    "deepnote_cell_type": "markdown"
   }
  },
  {
   "cell_type": "markdown",
   "source": "O *script* para extrair a taxa CDI do site da B3 foi adaptado para ser executado 10 vezes para gerar nossa base de dados. Na sua máquina, crie o arquivo `extracao.py` com o `script` abaixo e execute-o com o comando:\n\n```shell\npython extracao.py\n```\n\nNo final, você deve ter o arquivo `taxa-cdi.csv` com os dados extraídos.",
   "metadata": {
    "id": "YynK1vf2DHyj",
    "cell_id": "00011-5ae09d6e-01cf-41f0-af33-19c56597f95a",
    "deepnote_cell_type": "markdown"
   }
  },
  {
   "cell_type": "code",
   "metadata": {
    "id": "hVK8QyFvE-wk",
    "cell_id": "00012-982ca743-1284-4314-95b7-23eda3f6593c",
    "deepnote_cell_type": "code"
   },
   "source": "import os\nimport time\nimport json\nfrom random import random\nfrom datetime import datetime\n\nimport requests\n\nURL = 'https://www2.cetip.com.br/ConsultarTaxaDi/ConsultarTaxaDICetip.aspx'\n\n# Criando a variável data e hora \n\nfor _ in range(0, 10):\n\n  data_e_hora = datetime.now()\n  data = datetime.strftime(data_e_hora, '%Y/%m/%d')\n  hora = datetime.strftime(data_e_hora, '%H:%M:%S')\n\n  # Captando a taxa CDI do site da B3\n\n  try:\n    response = requests.get(URL)\n    response.raise_for_status()\n  except requests.HTTPError as exc:\n    print(\"Dado não encontrado, continuando.\")\n    cdi = None\n  except Exception as exc:\n    print(\"Erro, parando a execução.\")\n    raise exc\n  else:\n    dado = json.loads(response.text)\n    cdi = float(dado['taxa'].replace(',', '.')) + (random() - 0.5)\n\n  # Verificando se o arquivo \"taxa-cdi.csv\" existe\n\n  if os.path.exists('./taxa-cdi.csv') == False:\n\n    with open(file='./taxa-cdi.csv', mode='w', encoding='utf8') as fp:\n      fp.write('data,hora,taxa\\n')\n\n  # Salvando dados no arquivo \"taxa-cdi.csv\"\n\n  with open(file='./taxa-cdi.csv', mode='a', encoding='utf8') as fp:\n    fp.write(f'{data},{hora},{cdi}\\n')\n\n  time.sleep(2 + (random() - 0.5))\n\nprint(\"Sucesso\")",
   "execution_count": null,
   "outputs": []
  },
  {
   "cell_type": "markdown",
   "source": "---",
   "metadata": {
    "id": "waxn4B2UDHyl",
    "cell_id": "00013-6cd5759b-f39f-415a-9f32-da2a73dbe9f2",
    "deepnote_cell_type": "markdown"
   }
  },
  {
   "cell_type": "markdown",
   "source": "## 2\\. Script de Visualização",
   "metadata": {
    "id": "finLQoyyGVmk",
    "cell_id": "00014-05460934-3530-4726-ae63-f8a85544d8f5",
    "deepnote_cell_type": "markdown"
   }
  },
  {
   "cell_type": "markdown",
   "source": "Já o *script* para gerar um grafico da taxa CDI do site da B3 foi adaptado para utilizar o pacote Pandas. Na sua máquina, crie o arquivo `visualizacao.py` com o `script` abaixo e execute-o com o comando:\n\n```shell\npython visualizacao.py <nome-do-grafico>\n```\n\nO *script* espera um parametro de entrada com o nome do gráfico, portanto substitua o `<nome-do-grafico>` pelo nome do seu gráfico. No final, você deve ter uma imagem no formato png com o nome passado via parametro contendo a visualização dos dados gerados pelo *script* de extração..",
   "metadata": {
    "id": "99BrnqR4GVmy",
    "cell_id": "00015-6c3b2ea4-15e7-4f3d-b65f-0480e632e171",
    "deepnote_cell_type": "markdown"
   }
  },
  {
   "cell_type": "code",
   "metadata": {
    "id": "ozGsxHbPGVmz",
    "cell_id": "00016-6117b423-c2b8-44cf-b930-d20a259d5f75",
    "deepnote_cell_type": "code"
   },
   "source": "import csv\nfrom sys import argv\n\nimport pandas as pd\nimport seaborn as sns\n\n# Extraindo as colunas hora e taxa\n\ndf = pd.read_csv('./taxa-cdi.csv')\n\n# Salvando no grafico\n\ngrafico = sns.lineplot(x=df['hora'], y=df['taxa'])\n_ = grafico.set_xticklabels(labels=df['hora'], rotation=90)\ngrafico.get_figure().savefig(f\"{argv[1]}.png\")\n",
   "execution_count": null,
   "outputs": []
  },
  {
   "cell_type": "markdown",
   "source": "---",
   "metadata": {
    "id": "As3enQc2GVm1",
    "cell_id": "00017-a44769af-ae1b-4eb9-a17f-bd2aa4b39c60",
    "deepnote_cell_type": "markdown"
   }
  },
  {
   "cell_type": "markdown",
   "source": "## 3\\. Combinando os scripts de extração e visualização.",
   "metadata": {
    "id": "SS1PxxfHILHs",
    "cell_id": "00018-c495232c-b53f-4cb0-aba7-423c77268763",
    "deepnote_cell_type": "markdown"
   }
  },
  {
   "cell_type": "markdown",
   "source": "Combine os *scripts* `visualizacao.py` e `extracao.py` no arquivo `analise.py` e execute-o na sua máquina, ele deve retornar os mesmos resultados: o arquivo csv e a imagem no formato png com o título escolhido via parametro de entrada. Procure seguir a organização proposta na aula (PEP8).\n\n```shell\npython analise.py <nome-do-grafico>\n```\n\nAlém disso, copie o código na célula abaixo para que o tutor possa avaliar seu exercícios.",
   "metadata": {
    "id": "R4hMJ6D2ILH3",
    "cell_id": "00019-c9f5beef-04a3-4009-8719-3590c30bbd07",
    "deepnote_cell_type": "markdown"
   }
  },
  {
   "cell_type": "code",
   "metadata": {
    "id": "ogZClDvTILH3",
    "cell_id": "00020-478bc086-4e0e-45c4-a1eb-c6471632b3d1",
    "deepnote_cell_type": "code"
   },
   "source": "# combinação dos scripts de extração e visualização",
   "execution_count": null,
   "outputs": []
  },
  {
   "cell_type": "markdown",
   "source": "---",
   "metadata": {
    "id": "Fx--J2bOILH4",
    "cell_id": "00021-065ae128-e143-42cd-84c8-2bb10f787ed9",
    "deepnote_cell_type": "markdown"
   }
  },
  {
   "cell_type": "markdown",
   "source": "<a style='text-decoration:none;line-height:16px;display:flex;color:#5B5B62;padding:10px;justify-content:end;' href='https://deepnote.com?utm_source=created-in-deepnote-cell&projectId=7bc88e6b-e21c-42d6-a070-b420cc720827' target=\"_blank\">\n<img alt='Created in deepnote.com' style='display:inline;max-height:16px;margin:0px;margin-right:7.5px;' src='data:image/svg+xml;base64,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' > </img>\nCreated in <span style='font-weight:600;margin-left:4px;'>Deepnote</span></a>",
   "metadata": {
    "tags": [],
    "created_in_deepnote_cell": true,
    "deepnote_cell_type": "markdown"
   }
  }
 ],
 "nbformat": 4,
 "nbformat_minor": 0,
 "metadata": {
  "colab": {
   "name": "module_9_exercise.ipynb",
   "provenance": [],
   "collapsed_sections": [],
   "toc_visible": true
  },
  "kernelspec": {
   "name": "python3",
   "display_name": "Python 3"
  },
  "deepnote_notebook_id": "c97cc8e8-a606-43d4-af80-237ced07756d",
  "deepnote": {},
  "deepnote_execution_queue": []
 }
}