{
 "cells": [
  {
   "cell_type": "markdown",
   "source": "<img src=\"https://raw.githubusercontent.com/andre-marcos-perez/ebac-course-utils/main/media/logo/newebac_logo_black_half.png\" alt=\"ebac-logo\">\n\n---\n\n# **Módulo 02** | Python: Estruturas de Dados\nCaderno de **Exercícios**<br> \nProfessor [André Perez](https://www.linkedin.com/in/andremarcosperez/)\n\n---",
   "metadata": {
    "id": "KJqp9AANOCtf",
    "cell_id": "00000-5b00d403-a0ca-4a51-b6be-497e1cc57900",
    "deepnote_cell_type": "markdown"
   }
  },
  {
   "cell_type": "markdown",
   "source": "# **Tópicos**\n\n<ol type=\"1\">\n  <li>Listas;</li>\n  <li>Conjuntos;</li>\n  <li>Dicionários.</li>\n</ol>",
   "metadata": {
    "id": "d9jDtUbDOE1-",
    "cell_id": "00001-7bbaeb70-ce6d-49b0-807f-d5a93fa0a9c9",
    "deepnote_cell_type": "markdown"
   }
  },
  {
   "cell_type": "markdown",
   "source": "---",
   "metadata": {
    "id": "SmoHgt-lwkpD",
    "cell_id": "00002-b5773d14-be6c-4a33-a6be-3825630bb2db",
    "deepnote_cell_type": "markdown"
   }
  },
  {
   "cell_type": "markdown",
   "source": "# **Exercícios**",
   "metadata": {
    "id": "GABI6OW8OfQ2",
    "cell_id": "00003-eede9783-a829-49e7-8fee-f77635e58805",
    "deepnote_cell_type": "markdown"
   }
  },
  {
   "cell_type": "markdown",
   "source": "## 1\\. Listas",
   "metadata": {
    "id": "muD1vxozykSC",
    "cell_id": "00004-30604718-9a44-4833-8edf-a0031f9d40d8",
    "deepnote_cell_type": "markdown"
   }
  },
  {
   "cell_type": "markdown",
   "source": "Criei uma lista chamada `filmes` com o nome dos 10 primeiros filmes mais bem avaliados no site no [IMDB](https://www.imdb.com/chart/top/). Imprima o resultado.",
   "metadata": {
    "id": "ahrFfCuBxJKs",
    "cell_id": "00005-f334b0fd-fcb4-4cb6-84c9-9a9b5f7a5e61",
    "deepnote_cell_type": "markdown"
   }
  },
  {
   "cell_type": "code",
   "metadata": {
    "id": "OgL6Hv3bzOHI",
    "colab": {
     "base_uri": "https://localhost:8080/"
    },
    "outputId": "5a19ee13-e924-4cc5-8d37-ba2ed564afcc",
    "cell_id": "00006-a32e8da7-7dfd-412f-bc50-ad13609971b2",
    "deepnote_cell_type": "code"
   },
   "source": "filmes = [\"Um Sonho de Liberdade\", \"O Poderoso Chefão\", \"O Poderoso Chefão II\", \"Batman: O Cavaleiro das Trevas\", \"12 Homens e uma Sentença\", \"A Lista de Schindler\", \"O Senhor dos Anéis: O Retorno do Rei\", \"Pulp Fiction: Tempo de Violência\", \"Três Homens em Conflito\", \"O Senhor dos Anéis: A Sociedade do Anel\"]\nprint(filmes)\nprint(len(filmes))",
   "execution_count": null,
   "outputs": [
    {
     "output_type": "stream",
     "name": "stdout",
     "text": "['Um Sonho de Liberdade', 'O Poderoso Chefão', 'O Poderoso Chefão II', 'Batman: O Cavaleiro das Trevas', '12 Homens e uma Sentença', 'A Lista de Schindler', 'O Senhor dos Anéis: O Retorno do Rei', 'Pulp Fiction: Tempo de Violência', 'Três Homens em Conflito', 'O Senhor dos Anéis: A Sociedade do Anel']\n10\n"
    }
   ]
  },
  {
   "cell_type": "markdown",
   "source": "Simule a movimentação do *ranking*. Utilize os métodos `insert` e `pop` para trocar a posição do primeiro e do segundo filme da lista. Imprima o resultado.\n\n",
   "metadata": {
    "id": "KI9zQRT2xa7m",
    "cell_id": "00007-55c1ee2e-3764-4462-9ad6-eaddb33e6852",
    "deepnote_cell_type": "markdown"
   }
  },
  {
   "cell_type": "code",
   "metadata": {
    "id": "zX3mA3_GzrXH",
    "colab": {
     "base_uri": "https://localhost:8080/"
    },
    "outputId": "fd709c6d-11f6-464c-8a69-f5aaa931d295",
    "cell_id": "00008-1035c723-4b7e-468a-a445-6b14d6631d0e",
    "deepnote_cell_type": "code"
   },
   "source": "filmes.insert(0,filmes.pop(1))\nprint(filmes)\nprint(len(filmes))",
   "execution_count": null,
   "outputs": [
    {
     "output_type": "stream",
     "name": "stdout",
     "text": "['O Poderoso Chefão', 'Um Sonho de Liberdade', 'O Poderoso Chefão II', 'Batman: O Cavaleiro das Trevas', '12 Homens e uma Sentença', 'A Lista de Schindler', 'O Senhor dos Anéis: O Retorno do Rei', 'Pulp Fiction: Tempo de Violência', 'Três Homens em Conflito', 'O Senhor dos Anéis: A Sociedade do Anel']\n10\n"
    }
   ]
  },
  {
   "cell_type": "markdown",
   "source": "---",
   "metadata": {
    "id": "zMN1Q3jdwoJm",
    "cell_id": "00009-cbde0f82-44c6-4014-9093-c07e58129239",
    "deepnote_cell_type": "markdown"
   }
  },
  {
   "cell_type": "markdown",
   "source": "## 2\\. Conjuntos",
   "metadata": {
    "id": "lxa5L6uF0ZJE",
    "cell_id": "00010-2ffc644c-1af6-412b-9585-9b61eca91964",
    "deepnote_cell_type": "markdown"
   }
  },
  {
   "cell_type": "markdown",
   "source": "Aconteceu um erro no seu *ranking*. Simule a duplicação dos três últimos filmes da lista. Imprima o resultado.",
   "metadata": {
    "id": "9JahS2Kj0d5u",
    "cell_id": "00011-052994c0-139d-4f03-aa0b-982cac9351f2",
    "deepnote_cell_type": "markdown"
   }
  },
  {
   "cell_type": "code",
   "metadata": {
    "id": "BnjnLBNC6PGe",
    "colab": {
     "base_uri": "https://localhost:8080/"
    },
    "outputId": "f98b9a77-636c-4311-a9f5-dcbd65c88c26",
    "cell_id": "00012-89dd3c90-bd04-4397-82f9-86d397a472b5",
    "deepnote_cell_type": "code"
   },
   "source": "filmes.append(filmes[-3])\nfilmes.append(filmes[-3])\nfilmes.append(filmes[-3])\nprint(filmes)\nprint(len(filmes))",
   "execution_count": null,
   "outputs": [
    {
     "output_type": "stream",
     "name": "stdout",
     "text": "['O Poderoso Chefão', 'Um Sonho de Liberdade', 'O Poderoso Chefão II', 'Batman: O Cavaleiro das Trevas', '12 Homens e uma Sentença', 'A Lista de Schindler', 'O Senhor dos Anéis: O Retorno do Rei', 'Pulp Fiction: Tempo de Violência', 'Três Homens em Conflito', 'O Senhor dos Anéis: A Sociedade do Anel', 'Pulp Fiction: Tempo de Violência', 'Três Homens em Conflito', 'O Senhor dos Anéis: A Sociedade do Anel']\n13\n"
    }
   ]
  },
  {
   "cell_type": "markdown",
   "source": "Utiliza a conversão `set` e `list` para remover os valores duplicados. Imprima o resultado. ",
   "metadata": {
    "id": "suxTfCJB6ZiX",
    "cell_id": "00013-4467ef95-d2e5-4ce0-9eb6-934d5a078f47",
    "deepnote_cell_type": "markdown"
   }
  },
  {
   "cell_type": "code",
   "metadata": {
    "id": "ZvUGN-0n6joM",
    "colab": {
     "base_uri": "https://localhost:8080/"
    },
    "outputId": "a6c85f12-2bea-4f65-be4f-79541b653679",
    "cell_id": "00014-17b2dc84-dc68-4b0d-aa5a-031f3c56a809",
    "deepnote_cell_type": "code"
   },
   "source": "filmes = set(list(filmes))\nprint(filmes)\nprint(len(filmes))",
   "execution_count": null,
   "outputs": [
    {
     "output_type": "stream",
     "name": "stdout",
     "text": "{'Batman: O Cavaleiro das Trevas', '12 Homens e uma Sentença', 'A Lista de Schindler', 'O Poderoso Chefão', 'Um Sonho de Liberdade', 'O Senhor dos Anéis: O Retorno do Rei', 'O Senhor dos Anéis: A Sociedade do Anel', 'Três Homens em Conflito', 'O Poderoso Chefão II', 'Pulp Fiction: Tempo de Violência'}\n10\n"
    }
   ]
  },
  {
   "cell_type": "markdown",
   "source": "---",
   "metadata": {
    "id": "ShkK35eQ6pAM",
    "cell_id": "00015-6c23f087-57d4-4cbc-8218-0495580d8f59",
    "deepnote_cell_type": "markdown"
   }
  },
  {
   "cell_type": "markdown",
   "source": "## 3\\. Dicionários",
   "metadata": {
    "id": "EL_FzmxL6rTv",
    "cell_id": "00016-27af30ec-8761-4adb-b0a4-4818b7de72e0",
    "deepnote_cell_type": "markdown"
   }
  },
  {
   "cell_type": "markdown",
   "source": "Repita os exercícios da parte 1 (listas). Os elementos da lista `filmes` devem ser dicionários no seguinte formato: `{'nome': <nome-do-filme>, 'ano': <ano do filme>}, 'sinopse': <sinopse do filme>}`. ",
   "metadata": {
    "id": "i8l0gFqRCpfT",
    "cell_id": "00017-6ca96c62-3bf8-46e6-b30e-0ca1abaac520",
    "deepnote_cell_type": "markdown"
   }
  },
  {
   "cell_type": "code",
   "metadata": {
    "colab": {
     "base_uri": "https://localhost:8080/"
    },
    "id": "QIrJ2ZBHMP58",
    "outputId": "aa8c78e6-b5ce-44fb-983c-deadf7ae5e50",
    "cell_id": "00018-adffbf66-e9d4-41c9-93bb-c73892822524",
    "deepnote_to_be_reexecuted": false,
    "source_hash": "8f019006",
    "execution_start": 1638628568952,
    "execution_millis": 6,
    "deepnote_output_heights": [
     21.199996948242188
    ],
    "deepnote_cell_type": "code"
   },
   "source": "filmes = [\n    {'nome': \"Um Sonho de Liberdade\", 'ano': 1994, 'sinopse': \"Dois homens presos se reúnem ao longo de vários anos, encontrando consolo e eventual redenção através de atos de decência comum.\"},\n    {'nome': \"O Poderoso Chefão\", 'ano': 1972, 'sinopse': \"O patriarca idoso de uma dinastia do crime organizado transfere o controle de seu império clandestino para seu filho relutante.\"},\n    {'nome': \"O Poderoso Chefão II\", 'ano': 1974, 'sinopse': \"Em 1950, Michael Corleone, agora à frente da família, tenta expandir o negócio do crime a Las Vegas, Los Angeles e Cuba. Paralelamente, é revelada a história de Vito Corleone, e de como saiu da Sicília e chegou a Nova Iorque.\"},\n    {'nome': \"Batman: O Cavaleiro das Trevas\", 'ano': 2008, 'sinopse': \"Quando a ameaça conhecida como O Coringa surge de seu passado, causa estragos e caos nas pessoas de Gotham. O Cavaleiro das Trevas deve aceitar um dos maiores testes para combater a injustiça.\"},\n    {'nome': \"12 Homens e uma Sentença\", 'ano': 1957, 'sinopse': \"Um jurado que se aposenta tenta evitar um erro judicial forçando seus colegas a reconsiderarem as evidências.\"},\n    {'nome': \"A Lista de Schindler\", 'ano': 1993, 'sinopse': \"Depois de testemunhar a perseguição dos judaicos na Polônia ocupada pelos alemães durante a Segunda Guerra Mundial, o industrial Oskar Schindler se começa a preocupar com sua força de trabalho judaica.\"},\n    {'nome': \"O Senhor dos Anéis: O Retorno do Rei\", 'ano': 2003, 'sinopse': \"Gandalf e Aragorn lideram o Mundo dos Homens contra o exército de Sauron para desviar o olhar de Frodo e Sam quando eles se aproximam á Montanha da Perdição com o Um Anel.\"},\n    {'nome': \"Pulp Fiction: Tempo de Violência\", 'ano': 1994, 'sinopse': \"As vidas de dois assassinos da máfia, um boxeador, um gângster e sua esposa, e um par de bandidos se entrelaçam em quatro histórias de violência e redenção.\"},\n    {'nome': \"Três Homens em Conflito\", 'ano': 1966, 'sinopse': \"Um impostor se junta com dois homens para encontrar fortuna num remoto cemitério.\"},\n    {'nome': \"O Senhor dos Anéis: A Sociedade do Anel\", 'ano': 2001, 'sinopse': \"Um manso hobbit do Condado e oito companheiros partem em uma jornada para destruir o poderoso Um Anel e salvar a Terra-média das Trevas.\"}\n]\n\nfor filme in filmes:\n    print(filme)\n\n",
   "execution_count": null,
   "outputs": [
    {
     "name": "stdout",
     "text": "{'nome': 'Um Sonho de Liberdade', 'ano': 1994, 'sinopse': 'Dois homens presos se reúnem ao longo de vários anos, encontrando consolo e eventual redenção através de atos de decência comum.'}\n{'nome': 'O Poderoso Chefão', 'ano': 1972, 'sinopse': 'O patriarca idoso de uma dinastia do crime organizado transfere o controle de seu império clandestino para seu filho relutante.'}\n{'nome': 'O Poderoso Chefão II', 'ano': 1974, 'sinopse': 'Em 1950, Michael Corleone, agora à frente da família, tenta expandir o negócio do crime a Las Vegas, Los Angeles e Cuba. Paralelamente, é revelada a história de Vito Corleone, e de como saiu da Sicília e chegou a Nova Iorque.'}\n{'nome': 'Batman: O Cavaleiro das Trevas', 'ano': 2008, 'sinopse': 'Quando a ameaça conhecida como O Coringa surge de seu passado, causa estragos e caos nas pessoas de Gotham. O Cavaleiro das Trevas deve aceitar um dos maiores testes para combater a injustiça.'}\n{'nome': '12 Homens e uma Sentença', 'ano': 1957, 'sinopse': 'Um jurado que se aposenta tenta evitar um erro judicial forçando seus colegas a reconsiderarem as evidências.'}\n{'nome': 'A Lista de Schindler', 'ano': 1993, 'sinopse': 'Depois de testemunhar a perseguição dos judaicos na Polônia ocupada pelos alemães durante a Segunda Guerra Mundial, o industrial Oskar Schindler se começa a preocupar com sua força de trabalho judaica.'}\n{'nome': 'O Senhor dos Anéis: O Retorno do Rei', 'ano': 2003, 'sinopse': 'Gandalf e Aragorn lideram o Mundo dos Homens contra o exército de Sauron para desviar o olhar de Frodo e Sam quando eles se aproximam á Montanha da Perdição com o Um Anel.'}\n{'nome': 'Pulp Fiction: Tempo de Violência', 'ano': 1994, 'sinopse': 'As vidas de dois assassinos da máfia, um boxeador, um gângster e sua esposa, e um par de bandidos se entrelaçam em quatro histórias de violência e redenção.'}\n{'nome': 'Três Homens em Conflito', 'ano': 1966, 'sinopse': 'Um impostor se junta com dois homens para encontrar fortuna num remoto cemitério.'}\n{'nome': 'O Senhor dos Anéis: A Sociedade do Anel', 'ano': 2001, 'sinopse': 'Um manso hobbit do Condado e oito companheiros partem em uma jornada para destruir o poderoso Um Anel e salvar a Terra-média das Trevas.'}\n",
     "output_type": "stream"
    }
   ]
  },
  {
   "cell_type": "markdown",
   "source": "<a style='text-decoration:none;line-height:16px;display:flex;color:#5B5B62;padding:10px;justify-content:end;' href='https://deepnote.com?utm_source=created-in-deepnote-cell&projectId=690ec1aa-ed7a-4520-b902-aba6fc5867d1' target=\"_blank\">\n<img alt='Created in deepnote.com' style='display:inline;max-height:16px;margin:0px;margin-right:7.5px;' src='data:image/svg+xml;base64,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' > </img>\nCreated in <span style='font-weight:600;margin-left:4px;'>Deepnote</span></a>",
   "metadata": {
    "tags": [],
    "created_in_deepnote_cell": true,
    "deepnote_cell_type": "markdown"
   }
  }
 ],
 "nbformat": 4,
 "nbformat_minor": 0,
 "metadata": {
  "colab": {
   "name": "Caderno Exercício.ipynb",
   "provenance": [],
   "collapsed_sections": [],
   "toc_visible": true
  },
  "kernelspec": {
   "name": "python3",
   "display_name": "Python 3"
  },
  "deepnote_notebook_id": "011c2f7f-0a5b-49c8-8471-b15fbf5d46e5",
  "deepnote": {},
  "deepnote_execution_queue": []
 }
}