{
 "cells": [
  {
   "cell_type": "markdown",
   "source": "# Introdução",
   "metadata": {
    "tags": [],
    "is_collapsed": false,
    "cell_id": "00000-4b8d9931-074c-49ff-914e-cbbb0ab8bc12",
    "deepnote_cell_type": "text-cell-h1"
   }
  },
  {
   "cell_type": "markdown",
   "source": "## Objetivo",
   "metadata": {
    "tags": [],
    "is_collapsed": false,
    "cell_id": "00001-46fcda64-d2f4-4cfd-8e99-d8f94a6681c4",
    "deepnote_cell_type": "text-cell-h2"
   }
  },
  {
   "cell_type": "markdown",
   "source": "O objetivo do presente caderno é apresentar o projeto final do curso \"Python para Análise de Dados\" ministrado pela Escola Britânica de Artes Criativas e Tecnologia (EBAC)",
   "metadata": {
    "tags": [],
    "is_collapsed": false,
    "cell_id": "00002-a824243e-2d25-412c-bbde-cf7d3646a060",
    "deepnote_cell_type": "text-cell-p"
   }
  },
  {
   "cell_type": "markdown",
   "source": "## Requisitos e Premissas",
   "metadata": {
    "tags": [],
    "is_collapsed": false,
    "cell_id": "00002-d12723f8-bea7-4227-9466-d0e2d1533a87",
    "deepnote_cell_type": "text-cell-h2"
   }
  },
  {
   "cell_type": "markdown",
   "source": "## Resultados e Produtos",
   "metadata": {
    "tags": [],
    "is_collapsed": false,
    "cell_id": "00003-b5a21653-387e-4c2c-8cb0-49786525fdbe",
    "deepnote_cell_type": "text-cell-h2"
   }
  },
  {
   "cell_type": "markdown",
   "source": "# Preparação",
   "metadata": {
    "tags": [],
    "is_collapsed": false,
    "cell_id": "00002-fc6bb139-5269-49c6-9756-2088fdb681b6",
    "deepnote_cell_type": "text-cell-h1"
   }
  },
  {
   "cell_type": "markdown",
   "source": "## Configuração do ambiente",
   "metadata": {
    "tags": [],
    "is_collapsed": false,
    "cell_id": "00006-f70b3571-7fec-4bae-8aa1-1ee32235cecf",
    "deepnote_cell_type": "text-cell-h2"
   }
  },
  {
   "cell_type": "code",
   "metadata": {
    "tags": [],
    "cell_id": "00007-35327d15-4402-4fca-8800-baced8721ae7",
    "deepnote_to_be_reexecuted": false,
    "source_hash": "85c1007c",
    "execution_start": 1637983656028,
    "execution_millis": 6,
    "deepnote_cell_type": "code"
   },
   "source": "#Instalação de pacotes\n\n#importação de bibliotecas\nimport pandas as pd\n",
   "execution_count": null,
   "outputs": []
  },
  {
   "cell_type": "markdown",
   "source": "## Coleta dos dados",
   "metadata": {
    "tags": [],
    "is_collapsed": false,
    "cell_id": "00007-6a46ad85-e7f8-4a61-89c6-7b77c15b5a31",
    "deepnote_cell_type": "text-cell-h2"
   }
  },
  {
   "cell_type": "code",
   "metadata": {
    "tags": [],
    "cell_id": "00009-15464cce-8d24-4fee-ad56-bd7dd1c9ead3",
    "deepnote_to_be_reexecuted": false,
    "source_hash": "59189de8",
    "execution_start": 1637983659817,
    "execution_millis": 301,
    "deepnote_cell_type": "code"
   },
   "source": "#leitura dos dados disponibilizados\ndf = pd.read_csv('10.Material.csv', na_values='na')\n#checando para ver se a leitura foi efetiva, mostrando o início do arquivo\ndf.head()",
   "execution_count": null,
   "outputs": [
    {
     "output_type": "execute_result",
     "execution_count": 2,
     "data": {
      "application/vnd.deepnote.dataframe.v2+json": {
       "row_count": 5,
       "column_count": 16,
       "columns": [
        {
         "name": "id",
         "dtype": "int64",
         "stats": {
          "unique_count": 5,
          "nan_count": 0,
          "min": "709106358",
          "max": "818770008",
          "histogram": [
           {
            "bin_start": 709106358,
            "bin_end": 720072723,
            "count": 2
           },
           {
            "bin_start": 720072723,
            "bin_end": 731039088,
            "count": 0
           },
           {
            "bin_start": 731039088,
            "bin_end": 742005453,
            "count": 0
           },
           {
            "bin_start": 742005453,
            "bin_end": 752971818,
            "count": 0
           },
           {
            "bin_start": 752971818,
            "bin_end": 763938183,
            "count": 0
           },
           {
            "bin_start": 763938183,
            "bin_end": 774904548,
            "count": 2
           },
           {
            "bin_start": 774904548,
            "bin_end": 785870913,
            "count": 0
           },
           {
            "bin_start": 785870913,
            "bin_end": 796837278,
            "count": 0
           },
           {
            "bin_start": 796837278,
            "bin_end": 807803643,
            "count": 0
           },
           {
            "bin_start": 807803643,
            "bin_end": 818770008,
            "count": 1
           }
          ]
         }
        },
        {
         "name": "default",
         "dtype": "int64",
         "stats": {
          "unique_count": 1,
          "nan_count": 0,
          "min": "0",
          "max": "0",
          "histogram": [
           {
            "bin_start": -0.5,
            "bin_end": -0.4,
            "count": 0
           },
           {
            "bin_start": -0.4,
            "bin_end": -0.3,
            "count": 0
           },
           {
            "bin_start": -0.3,
            "bin_end": -0.19999999999999996,
            "count": 0
           },
           {
            "bin_start": -0.19999999999999996,
            "bin_end": -0.09999999999999998,
            "count": 0
           },
           {
            "bin_start": -0.09999999999999998,
            "bin_end": 0,
            "count": 0
           },
           {
            "bin_start": 0,
            "bin_end": 0.10000000000000009,
            "count": 5
           },
           {
            "bin_start": 0.10000000000000009,
            "bin_end": 0.20000000000000007,
            "count": 0
           },
           {
            "bin_start": 0.20000000000000007,
            "bin_end": 0.30000000000000004,
            "count": 0
           },
           {
            "bin_start": 0.30000000000000004,
            "bin_end": 0.4,
            "count": 0
           },
           {
            "bin_start": 0.4,
            "bin_end": 0.5,
            "count": 0
           }
          ]
         }
        },
        {
         "name": "idade",
         "dtype": "int64",
         "stats": {
          "unique_count": 4,
          "nan_count": 0,
          "min": "40",
          "max": "51",
          "histogram": [
           {
            "bin_start": 40,
            "bin_end": 41.1,
            "count": 2
           },
           {
            "bin_start": 41.1,
            "bin_end": 42.2,
            "count": 0
           },
           {
            "bin_start": 42.2,
            "bin_end": 43.3,
            "count": 0
           },
           {
            "bin_start": 43.3,
            "bin_end": 44.4,
            "count": 0
           },
           {
            "bin_start": 44.4,
            "bin_end": 45.5,
            "count": 1
           },
           {
            "bin_start": 45.5,
            "bin_end": 46.6,
            "count": 0
           },
           {
            "bin_start": 46.6,
            "bin_end": 47.7,
            "count": 0
           },
           {
            "bin_start": 47.7,
            "bin_end": 48.8,
            "count": 0
           },
           {
            "bin_start": 48.8,
            "bin_end": 49.9,
            "count": 1
           },
           {
            "bin_start": 49.9,
            "bin_end": 51,
            "count": 1
           }
          ]
         }
        },
        {
         "name": "sexo",
         "dtype": "object",
         "stats": {
          "unique_count": 2,
          "nan_count": 0,
          "categories": [
           {
            "name": "M",
            "count": 3
           },
           {
            "name": "F",
            "count": 2
           }
          ]
         }
        },
        {
         "name": "dependentes",
         "dtype": "int64",
         "stats": {
          "unique_count": 3,
          "nan_count": 0,
          "min": "3",
          "max": "5",
          "histogram": [
           {
            "bin_start": 3,
            "bin_end": 3.2,
            "count": 3
           },
           {
            "bin_start": 3.2,
            "bin_end": 3.4,
            "count": 0
           },
           {
            "bin_start": 3.4,
            "bin_end": 3.6,
            "count": 0
           },
           {
            "bin_start": 3.6,
            "bin_end": 3.8,
            "count": 0
           },
           {
            "bin_start": 3.8,
            "bin_end": 4,
            "count": 0
           },
           {
            "bin_start": 4,
            "bin_end": 4.2,
            "count": 1
           },
           {
            "bin_start": 4.2,
            "bin_end": 4.4,
            "count": 0
           },
           {
            "bin_start": 4.4,
            "bin_end": 4.6,
            "count": 0
           },
           {
            "bin_start": 4.6,
            "bin_end": 4.8,
            "count": 0
           },
           {
            "bin_start": 4.8,
            "bin_end": 5,
            "count": 1
           }
          ]
         }
        },
        {
         "name": "escolaridade",
         "dtype": "object",
         "stats": {
          "unique_count": 3,
          "nan_count": 0,
          "categories": [
           {
            "name": "ensino medio",
            "count": 2
           },
           {
            "name": "mestrado",
            "count": 2
           },
           {
            "name": "sem educacao formal",
            "count": 1
           }
          ]
         }
        },
        {
         "name": "estado_civil",
         "dtype": "object",
         "stats": {
          "unique_count": 2,
          "nan_count": 1,
          "categories": [
           {
            "name": "casado",
            "count": 3
           },
           {
            "name": "solteiro",
            "count": 1
           },
           {
            "name": "Missing",
            "count": 1
           }
          ]
         }
        },
        {
         "name": "salario_anual",
         "dtype": "object",
         "stats": {
          "unique_count": 3,
          "nan_count": 0,
          "categories": [
           {
            "name": "$60K - $80K",
            "count": 2
           },
           {
            "name": "menos que $40K",
            "count": 2
           },
           {
            "name": "$80K - $120K",
            "count": 1
           }
          ]
         }
        },
        {
         "name": "tipo_cartao",
         "dtype": "object",
         "stats": {
          "unique_count": 1,
          "nan_count": 0,
          "categories": [
           {
            "name": "blue",
            "count": 5
           }
          ]
         }
        },
        {
         "name": "meses_de_relacionamento",
         "dtype": "int64",
         "stats": {
          "unique_count": 5,
          "nan_count": 0,
          "min": "21",
          "max": "44",
          "histogram": [
           {
            "bin_start": 21,
            "bin_end": 23.3,
            "count": 1
           },
           {
            "bin_start": 23.3,
            "bin_end": 25.6,
            "count": 0
           },
           {
            "bin_start": 25.6,
            "bin_end": 27.9,
            "count": 0
           },
           {
            "bin_start": 27.9,
            "bin_end": 30.2,
            "count": 0
           },
           {
            "bin_start": 30.2,
            "bin_end": 32.5,
            "count": 0
           },
           {
            "bin_start": 32.5,
            "bin_end": 34.8,
            "count": 1
           },
           {
            "bin_start": 34.8,
            "bin_end": 37.099999999999994,
            "count": 1
           },
           {
            "bin_start": 37.099999999999994,
            "bin_end": 39.4,
            "count": 1
           },
           {
            "bin_start": 39.4,
            "bin_end": 41.7,
            "count": 0
           },
           {
            "bin_start": 41.7,
            "bin_end": 44,
            "count": 1
           }
          ]
         }
        },
        {
         "name": "qtd_produtos",
         "dtype": "int64",
         "stats": {
          "unique_count": 4,
          "nan_count": 0,
          "min": "3",
          "max": "6",
          "histogram": [
           {
            "bin_start": 3,
            "bin_end": 3.3,
            "count": 1
           },
           {
            "bin_start": 3.3,
            "bin_end": 3.6,
            "count": 0
           },
           {
            "bin_start": 3.6,
            "bin_end": 3.9,
            "count": 0
           },
           {
            "bin_start": 3.9,
            "bin_end": 4.2,
            "count": 1
           },
           {
            "bin_start": 4.2,
            "bin_end": 4.5,
            "count": 0
           },
           {
            "bin_start": 4.5,
            "bin_end": 4.8,
            "count": 0
           },
           {
            "bin_start": 4.8,
            "bin_end": 5.1,
            "count": 2
           },
           {
            "bin_start": 5.1,
            "bin_end": 5.4,
            "count": 0
           },
           {
            "bin_start": 5.4,
            "bin_end": 5.699999999999999,
            "count": 0
           },
           {
            "bin_start": 5.699999999999999,
            "bin_end": 6,
            "count": 1
           }
          ]
         }
        },
        {
         "name": "iteracoes_12m",
         "dtype": "int64",
         "stats": {
          "unique_count": 4,
          "nan_count": 0,
          "min": "0",
          "max": "3",
          "histogram": [
           {
            "bin_start": 0,
            "bin_end": 0.3,
            "count": 2
           },
           {
            "bin_start": 0.3,
            "bin_end": 0.6,
            "count": 0
           },
           {
            "bin_start": 0.6,
            "bin_end": 0.8999999999999999,
            "count": 0
           },
           {
            "bin_start": 0.8999999999999999,
            "bin_end": 1.2,
            "count": 1
           },
           {
            "bin_start": 1.2,
            "bin_end": 1.5,
            "count": 0
           },
           {
            "bin_start": 1.5,
            "bin_end": 1.7999999999999998,
            "count": 0
           },
           {
            "bin_start": 1.7999999999999998,
            "bin_end": 2.1,
            "count": 1
           },
           {
            "bin_start": 2.1,
            "bin_end": 2.4,
            "count": 0
           },
           {
            "bin_start": 2.4,
            "bin_end": 2.6999999999999997,
            "count": 0
           },
           {
            "bin_start": 2.6999999999999997,
            "bin_end": 3,
            "count": 1
           }
          ]
         }
        },
        {
         "name": "meses_inativo_12m",
         "dtype": "int64",
         "stats": {
          "unique_count": 2,
          "nan_count": 0,
          "min": "1",
          "max": "4",
          "histogram": [
           {
            "bin_start": 1,
            "bin_end": 1.3,
            "count": 4
           },
           {
            "bin_start": 1.3,
            "bin_end": 1.6,
            "count": 0
           },
           {
            "bin_start": 1.6,
            "bin_end": 1.9,
            "count": 0
           },
           {
            "bin_start": 1.9,
            "bin_end": 2.2,
            "count": 0
           },
           {
            "bin_start": 2.2,
            "bin_end": 2.5,
            "count": 0
           },
           {
            "bin_start": 2.5,
            "bin_end": 2.8,
            "count": 0
           },
           {
            "bin_start": 2.8,
            "bin_end": 3.1,
            "count": 0
           },
           {
            "bin_start": 3.1,
            "bin_end": 3.4,
            "count": 0
           },
           {
            "bin_start": 3.4,
            "bin_end": 3.6999999999999997,
            "count": 0
           },
           {
            "bin_start": 3.6999999999999997,
            "bin_end": 4,
            "count": 1
           }
          ]
         }
        },
        {
         "name": "limite_credito",
         "dtype": "object",
         "stats": {
          "unique_count": 5,
          "nan_count": 0,
          "categories": [
           {
            "name": "12.691,51",
            "count": 1
           },
           {
            "name": "8.256,96",
            "count": 1
           },
           {
            "name": "3 others",
            "count": 3
           }
          ]
         }
        },
        {
         "name": "valor_transacoes_12m",
         "dtype": "object",
         "stats": {
          "unique_count": 5,
          "nan_count": 0,
          "categories": [
           {
            "name": "1.144,90",
            "count": 1
           },
           {
            "name": "1.291,45",
            "count": 1
           },
           {
            "name": "3 others",
            "count": 3
           }
          ]
         }
        },
        {
         "name": "qtd_transacoes_12m",
         "dtype": "int64",
         "stats": {
          "unique_count": 4,
          "nan_count": 0,
          "min": "20",
          "max": "42",
          "histogram": [
           {
            "bin_start": 20,
            "bin_end": 22.2,
            "count": 2
           },
           {
            "bin_start": 22.2,
            "bin_end": 24.4,
            "count": 0
           },
           {
            "bin_start": 24.4,
            "bin_end": 26.6,
            "count": 0
           },
           {
            "bin_start": 26.6,
            "bin_end": 28.8,
            "count": 1
           },
           {
            "bin_start": 28.8,
            "bin_end": 31,
            "count": 0
           },
           {
            "bin_start": 31,
            "bin_end": 33.2,
            "count": 1
           },
           {
            "bin_start": 33.2,
            "bin_end": 35.400000000000006,
            "count": 0
           },
           {
            "bin_start": 35.400000000000006,
            "bin_end": 37.6,
            "count": 0
           },
           {
            "bin_start": 37.6,
            "bin_end": 39.8,
            "count": 0
           },
           {
            "bin_start": 39.8,
            "bin_end": 42,
            "count": 1
           }
          ]
         }
        },
        {
         "name": "_deepnote_index_column",
         "dtype": "int64"
        }
       ],
       "rows_top": [
        {
         "id": 768805383,
         "default": 0,
         "idade": 45,
         "sexo": "M",
         "dependentes": 3,
         "escolaridade": "ensino medio",
         "estado_civil": "casado",
         "salario_anual": "$60K - $80K",
         "tipo_cartao": "blue",
         "meses_de_relacionamento": 39,
         "qtd_produtos": 5,
         "iteracoes_12m": 3,
         "meses_inativo_12m": 1,
         "limite_credito": "12.691,51",
         "valor_transacoes_12m": "1.144,90",
         "qtd_transacoes_12m": 42,
         "_deepnote_index_column": 0
        },
        {
         "id": 818770008,
         "default": 0,
         "idade": 49,
         "sexo": "F",
         "dependentes": 5,
         "escolaridade": "mestrado",
         "estado_civil": "solteiro",
         "salario_anual": "menos que $40K",
         "tipo_cartao": "blue",
         "meses_de_relacionamento": 44,
         "qtd_produtos": 6,
         "iteracoes_12m": 2,
         "meses_inativo_12m": 1,
         "limite_credito": "8.256,96",
         "valor_transacoes_12m": "1.291,45",
         "qtd_transacoes_12m": 33,
         "_deepnote_index_column": 1
        },
        {
         "id": 713982108,
         "default": 0,
         "idade": 51,
         "sexo": "M",
         "dependentes": 3,
         "escolaridade": "mestrado",
         "estado_civil": "casado",
         "salario_anual": "$80K - $120K",
         "tipo_cartao": "blue",
         "meses_de_relacionamento": 36,
         "qtd_produtos": 4,
         "iteracoes_12m": 0,
         "meses_inativo_12m": 1,
         "limite_credito": "3.418,56",
         "valor_transacoes_12m": "1.887,72",
         "qtd_transacoes_12m": 20,
         "_deepnote_index_column": 2
        },
        {
         "id": 769911858,
         "default": 0,
         "idade": 40,
         "sexo": "F",
         "dependentes": 4,
         "escolaridade": "ensino medio",
         "estado_civil": "nan",
         "salario_anual": "menos que $40K",
         "tipo_cartao": "blue",
         "meses_de_relacionamento": 34,
         "qtd_produtos": 3,
         "iteracoes_12m": 1,
         "meses_inativo_12m": 4,
         "limite_credito": "3.313,03",
         "valor_transacoes_12m": "1.171,56",
         "qtd_transacoes_12m": 20,
         "_deepnote_index_column": 3
        },
        {
         "id": 709106358,
         "default": 0,
         "idade": 40,
         "sexo": "M",
         "dependentes": 3,
         "escolaridade": "sem educacao formal",
         "estado_civil": "casado",
         "salario_anual": "$60K - $80K",
         "tipo_cartao": "blue",
         "meses_de_relacionamento": 21,
         "qtd_produtos": 5,
         "iteracoes_12m": 0,
         "meses_inativo_12m": 1,
         "limite_credito": "4.716,22",
         "valor_transacoes_12m": "816,08",
         "qtd_transacoes_12m": 28,
         "_deepnote_index_column": 4
        }
       ],
       "rows_bottom": null
      },
      "text/plain": "          id  default  idade sexo  dependentes         escolaridade  \\\n0  768805383        0     45    M            3         ensino medio   \n1  818770008        0     49    F            5             mestrado   \n2  713982108        0     51    M            3             mestrado   \n3  769911858        0     40    F            4         ensino medio   \n4  709106358        0     40    M            3  sem educacao formal   \n\n  estado_civil   salario_anual tipo_cartao  meses_de_relacionamento  \\\n0       casado     $60K - $80K        blue                       39   \n1     solteiro  menos que $40K        blue                       44   \n2       casado    $80K - $120K        blue                       36   \n3          NaN  menos que $40K        blue                       34   \n4       casado     $60K - $80K        blue                       21   \n\n   qtd_produtos  iteracoes_12m  meses_inativo_12m limite_credito  \\\n0             5              3                  1      12.691,51   \n1             6              2                  1       8.256,96   \n2             4              0                  1       3.418,56   \n3             3              1                  4       3.313,03   \n4             5              0                  1       4.716,22   \n\n  valor_transacoes_12m  qtd_transacoes_12m  \n0             1.144,90                  42  \n1             1.291,45                  33  \n2             1.887,72                  20  \n3             1.171,56                  20  \n4               816,08                  28  ",
      "text/html": "<div>\n<style scoped>\n    .dataframe tbody tr th:only-of-type {\n        vertical-align: middle;\n    }\n\n    .dataframe tbody tr th {\n        vertical-align: top;\n    }\n\n    .dataframe thead th {\n        text-align: right;\n    }\n</style>\n<table border=\"1\" class=\"dataframe\">\n  <thead>\n    <tr style=\"text-align: right;\">\n      <th></th>\n      <th>id</th>\n      <th>default</th>\n      <th>idade</th>\n      <th>sexo</th>\n      <th>dependentes</th>\n      <th>escolaridade</th>\n      <th>estado_civil</th>\n      <th>salario_anual</th>\n      <th>tipo_cartao</th>\n      <th>meses_de_relacionamento</th>\n      <th>qtd_produtos</th>\n      <th>iteracoes_12m</th>\n      <th>meses_inativo_12m</th>\n      <th>limite_credito</th>\n      <th>valor_transacoes_12m</th>\n      <th>qtd_transacoes_12m</th>\n    </tr>\n  </thead>\n  <tbody>\n    <tr>\n      <th>0</th>\n      <td>768805383</td>\n      <td>0</td>\n      <td>45</td>\n      <td>M</td>\n      <td>3</td>\n      <td>ensino medio</td>\n      <td>casado</td>\n      <td>$60K - $80K</td>\n      <td>blue</td>\n      <td>39</td>\n      <td>5</td>\n      <td>3</td>\n      <td>1</td>\n      <td>12.691,51</td>\n      <td>1.144,90</td>\n      <td>42</td>\n    </tr>\n    <tr>\n      <th>1</th>\n      <td>818770008</td>\n      <td>0</td>\n      <td>49</td>\n      <td>F</td>\n      <td>5</td>\n      <td>mestrado</td>\n      <td>solteiro</td>\n      <td>menos que $40K</td>\n      <td>blue</td>\n      <td>44</td>\n      <td>6</td>\n      <td>2</td>\n      <td>1</td>\n      <td>8.256,96</td>\n      <td>1.291,45</td>\n      <td>33</td>\n    </tr>\n    <tr>\n      <th>2</th>\n      <td>713982108</td>\n      <td>0</td>\n      <td>51</td>\n      <td>M</td>\n      <td>3</td>\n      <td>mestrado</td>\n      <td>casado</td>\n      <td>$80K - $120K</td>\n      <td>blue</td>\n      <td>36</td>\n      <td>4</td>\n      <td>0</td>\n      <td>1</td>\n      <td>3.418,56</td>\n      <td>1.887,72</td>\n      <td>20</td>\n    </tr>\n    <tr>\n      <th>3</th>\n      <td>769911858</td>\n      <td>0</td>\n      <td>40</td>\n      <td>F</td>\n      <td>4</td>\n      <td>ensino medio</td>\n      <td>NaN</td>\n      <td>menos que $40K</td>\n      <td>blue</td>\n      <td>34</td>\n      <td>3</td>\n      <td>1</td>\n      <td>4</td>\n      <td>3.313,03</td>\n      <td>1.171,56</td>\n      <td>20</td>\n    </tr>\n    <tr>\n      <th>4</th>\n      <td>709106358</td>\n      <td>0</td>\n      <td>40</td>\n      <td>M</td>\n      <td>3</td>\n      <td>sem educacao formal</td>\n      <td>casado</td>\n      <td>$60K - $80K</td>\n      <td>blue</td>\n      <td>21</td>\n      <td>5</td>\n      <td>0</td>\n      <td>1</td>\n      <td>4.716,22</td>\n      <td>816,08</td>\n      <td>28</td>\n    </tr>\n  </tbody>\n</table>\n</div>"
     },
     "metadata": {}
    }
   ]
  },
  {
   "cell_type": "markdown",
   "source": "## Infometria",
   "metadata": {
    "tags": [],
    "is_collapsed": false,
    "cell_id": "00008-aa75a94f-cdeb-4a50-8190-460a57de6cf7",
    "deepnote_cell_type": "text-cell-h2"
   }
  },
  {
   "cell_type": "code",
   "metadata": {
    "tags": [],
    "cell_id": "00011-16e95bf0-1492-4f04-962b-e9af54d2ff8b",
    "deepnote_to_be_reexecuted": false,
    "source_hash": "fdaa3100",
    "execution_start": 1637983664396,
    "execution_millis": 104,
    "deepnote_output_heights": [
     21.199996948242188
    ],
    "deepnote_cell_type": "code"
   },
   "source": "#checando a estrutura dos dados\nlinhas, colunas = df.shape\nqtd_adimplentes, _ = df[df['default'] == 0].shape\nqtd_inadimplentes, _ = df[df['default'] == 1].shape\nprint(f'O quadro possui {linhas} linhas distribuídas em {colunas} colunas.')\nprint(f'Do total de {linhas} clientes, {qtd_inadimplentes} estão inadimplentes com alguma conta e {qtd_adimplentes} estão adimplentes.')\nprint(f'A distribuição proporcional é de {round(100 * qtd_adimplentes / linhas, 2)}% adimplentes e {round(100 * qtd_inadimplentes / linhas, 2)}% inadimplentes')\n",
   "execution_count": null,
   "outputs": [
    {
     "name": "stdout",
     "text": "O quadro possui 10127 linhas distribuídas em 16 colunas.\nDo total de 10127 clientes, 1627 estão inadimplentes com alguma conta e 8500 estão adimplentes.\nA distribuição proporcional é de 83.93% adimplentes e 16.07% inadimplentes\n",
     "output_type": "stream"
    }
   ]
  },
  {
   "cell_type": "code",
   "metadata": {
    "tags": [],
    "cell_id": "00012-0856eda8-512a-42ca-a6ee-60ec16b6c938",
    "deepnote_to_be_reexecuted": false,
    "source_hash": "f3952cc2",
    "execution_start": 1637983669279,
    "execution_millis": 95,
    "deepnote_cell_type": "code"
   },
   "source": "#checando o início do arquivo\ndf.head(n=10)",
   "execution_count": null,
   "outputs": [
    {
     "output_type": "execute_result",
     "execution_count": 4,
     "data": {
      "application/vnd.deepnote.dataframe.v2+json": {
       "row_count": 10,
       "column_count": 16,
       "columns": [
        {
         "name": "id",
         "dtype": "int64",
         "stats": {
          "unique_count": 10,
          "nan_count": 0,
          "min": "709106358",
          "max": "818906208",
          "histogram": [
           {
            "bin_start": 709106358,
            "bin_end": 720086343,
            "count": 5
           },
           {
            "bin_start": 720086343,
            "bin_end": 731066328,
            "count": 0
           },
           {
            "bin_start": 731066328,
            "bin_end": 742046313,
            "count": 0
           },
           {
            "bin_start": 742046313,
            "bin_end": 753026298,
            "count": 0
           },
           {
            "bin_start": 753026298,
            "bin_end": 764006283,
            "count": 0
           },
           {
            "bin_start": 764006283,
            "bin_end": 774986268,
            "count": 2
           },
           {
            "bin_start": 774986268,
            "bin_end": 785966253,
            "count": 0
           },
           {
            "bin_start": 785966253,
            "bin_end": 796946238,
            "count": 0
           },
           {
            "bin_start": 796946238,
            "bin_end": 807926223,
            "count": 0
           },
           {
            "bin_start": 807926223,
            "bin_end": 818906208,
            "count": 3
           }
          ]
         }
        },
        {
         "name": "default",
         "dtype": "int64",
         "stats": {
          "unique_count": 1,
          "nan_count": 0,
          "min": "0",
          "max": "0",
          "histogram": [
           {
            "bin_start": -0.5,
            "bin_end": -0.4,
            "count": 0
           },
           {
            "bin_start": -0.4,
            "bin_end": -0.3,
            "count": 0
           },
           {
            "bin_start": -0.3,
            "bin_end": -0.19999999999999996,
            "count": 0
           },
           {
            "bin_start": -0.19999999999999996,
            "bin_end": -0.09999999999999998,
            "count": 0
           },
           {
            "bin_start": -0.09999999999999998,
            "bin_end": 0,
            "count": 0
           },
           {
            "bin_start": 0,
            "bin_end": 0.10000000000000009,
            "count": 10
           },
           {
            "bin_start": 0.10000000000000009,
            "bin_end": 0.20000000000000007,
            "count": 0
           },
           {
            "bin_start": 0.20000000000000007,
            "bin_end": 0.30000000000000004,
            "count": 0
           },
           {
            "bin_start": 0.30000000000000004,
            "bin_end": 0.4,
            "count": 0
           },
           {
            "bin_start": 0.4,
            "bin_end": 0.5,
            "count": 0
           }
          ]
         }
        },
        {
         "name": "idade",
         "dtype": "int64",
         "stats": {
          "unique_count": 8,
          "nan_count": 0,
          "min": "32",
          "max": "51",
          "histogram": [
           {
            "bin_start": 32,
            "bin_end": 33.9,
            "count": 1
           },
           {
            "bin_start": 33.9,
            "bin_end": 35.8,
            "count": 0
           },
           {
            "bin_start": 35.8,
            "bin_end": 37.7,
            "count": 1
           },
           {
            "bin_start": 37.7,
            "bin_end": 39.6,
            "count": 0
           },
           {
            "bin_start": 39.6,
            "bin_end": 41.5,
            "count": 2
           },
           {
            "bin_start": 41.5,
            "bin_end": 43.4,
            "count": 0
           },
           {
            "bin_start": 43.4,
            "bin_end": 45.3,
            "count": 2
           },
           {
            "bin_start": 45.3,
            "bin_end": 47.2,
            "count": 0
           },
           {
            "bin_start": 47.2,
            "bin_end": 49.099999999999994,
            "count": 2
           },
           {
            "bin_start": 49.099999999999994,
            "bin_end": 51,
            "count": 2
           }
          ]
         }
        },
        {
         "name": "sexo",
         "dtype": "object",
         "stats": {
          "unique_count": 2,
          "nan_count": 0,
          "categories": [
           {
            "name": "M",
            "count": 8
           },
           {
            "name": "F",
            "count": 2
           }
          ]
         }
        },
        {
         "name": "dependentes",
         "dtype": "int64",
         "stats": {
          "unique_count": 5,
          "nan_count": 0,
          "min": "0",
          "max": "5",
          "histogram": [
           {
            "bin_start": 0,
            "bin_end": 0.5,
            "count": 1
           },
           {
            "bin_start": 0.5,
            "bin_end": 1,
            "count": 0
           },
           {
            "bin_start": 1,
            "bin_end": 1.5,
            "count": 0
           },
           {
            "bin_start": 1.5,
            "bin_end": 2,
            "count": 0
           },
           {
            "bin_start": 2,
            "bin_end": 2.5,
            "count": 2
           },
           {
            "bin_start": 2.5,
            "bin_end": 3,
            "count": 0
           },
           {
            "bin_start": 3,
            "bin_end": 3.5,
            "count": 4
           },
           {
            "bin_start": 3.5,
            "bin_end": 4,
            "count": 0
           },
           {
            "bin_start": 4,
            "bin_end": 4.5,
            "count": 2
           },
           {
            "bin_start": 4.5,
            "bin_end": 5,
            "count": 1
           }
          ]
         }
        },
        {
         "name": "escolaridade",
         "dtype": "object",
         "stats": {
          "unique_count": 3,
          "nan_count": 1,
          "categories": [
           {
            "name": "mestrado",
            "count": 4
           },
           {
            "name": "2 others",
            "count": 5
           },
           {
            "name": "Missing",
            "count": 1
           }
          ]
         }
        },
        {
         "name": "estado_civil",
         "dtype": "object",
         "stats": {
          "unique_count": 2,
          "nan_count": 2,
          "categories": [
           {
            "name": "casado",
            "count": 5
           },
           {
            "name": "solteiro",
            "count": 3
           },
           {
            "name": "Missing",
            "count": 2
           }
          ]
         }
        },
        {
         "name": "salario_anual",
         "dtype": "object",
         "stats": {
          "unique_count": 5,
          "nan_count": 0,
          "categories": [
           {
            "name": "$60K - $80K",
            "count": 4
           },
           {
            "name": "menos que $40K",
            "count": 2
           },
           {
            "name": "3 others",
            "count": 4
           }
          ]
         }
        },
        {
         "name": "tipo_cartao",
         "dtype": "object",
         "stats": {
          "unique_count": 3,
          "nan_count": 0,
          "categories": [
           {
            "name": "blue",
            "count": 8
           },
           {
            "name": "gold",
            "count": 1
           },
           {
            "name": "silver",
            "count": 1
           }
          ]
         }
        },
        {
         "name": "meses_de_relacionamento",
         "dtype": "int64",
         "stats": {
          "unique_count": 7,
          "nan_count": 0,
          "min": "21",
          "max": "46",
          "histogram": [
           {
            "bin_start": 21,
            "bin_end": 23.5,
            "count": 1
           },
           {
            "bin_start": 23.5,
            "bin_end": 26,
            "count": 0
           },
           {
            "bin_start": 26,
            "bin_end": 28.5,
            "count": 1
           },
           {
            "bin_start": 28.5,
            "bin_end": 31,
            "count": 0
           },
           {
            "bin_start": 31,
            "bin_end": 33.5,
            "count": 0
           },
           {
            "bin_start": 33.5,
            "bin_end": 36,
            "count": 1
           },
           {
            "bin_start": 36,
            "bin_end": 38.5,
            "count": 4
           },
           {
            "bin_start": 38.5,
            "bin_end": 41,
            "count": 1
           },
           {
            "bin_start": 41,
            "bin_end": 43.5,
            "count": 0
           },
           {
            "bin_start": 43.5,
            "bin_end": 46,
            "count": 2
           }
          ]
         }
        },
        {
         "name": "qtd_produtos",
         "dtype": "int64",
         "stats": {
          "unique_count": 5,
          "nan_count": 0,
          "min": "2",
          "max": "6",
          "histogram": [
           {
            "bin_start": 2,
            "bin_end": 2.4,
            "count": 1
           },
           {
            "bin_start": 2.4,
            "bin_end": 2.8,
            "count": 0
           },
           {
            "bin_start": 2.8,
            "bin_end": 3.2,
            "count": 2
           },
           {
            "bin_start": 3.2,
            "bin_end": 3.6,
            "count": 0
           },
           {
            "bin_start": 3.6,
            "bin_end": 4,
            "count": 0
           },
           {
            "bin_start": 4,
            "bin_end": 4.4,
            "count": 1
           },
           {
            "bin_start": 4.4,
            "bin_end": 4.800000000000001,
            "count": 0
           },
           {
            "bin_start": 4.800000000000001,
            "bin_end": 5.2,
            "count": 3
           },
           {
            "bin_start": 5.2,
            "bin_end": 5.6,
            "count": 0
           },
           {
            "bin_start": 5.6,
            "bin_end": 6,
            "count": 3
           }
          ]
         }
        },
        {
         "name": "iteracoes_12m",
         "dtype": "int64",
         "stats": {
          "unique_count": 4,
          "nan_count": 0,
          "min": "0",
          "max": "3",
          "histogram": [
           {
            "bin_start": 0,
            "bin_end": 0.3,
            "count": 3
           },
           {
            "bin_start": 0.3,
            "bin_end": 0.6,
            "count": 0
           },
           {
            "bin_start": 0.6,
            "bin_end": 0.8999999999999999,
            "count": 0
           },
           {
            "bin_start": 0.8999999999999999,
            "bin_end": 1.2,
            "count": 1
           },
           {
            "bin_start": 1.2,
            "bin_end": 1.5,
            "count": 0
           },
           {
            "bin_start": 1.5,
            "bin_end": 1.7999999999999998,
            "count": 0
           },
           {
            "bin_start": 1.7999999999999998,
            "bin_end": 2.1,
            "count": 3
           },
           {
            "bin_start": 2.1,
            "bin_end": 2.4,
            "count": 0
           },
           {
            "bin_start": 2.4,
            "bin_end": 2.6999999999999997,
            "count": 0
           },
           {
            "bin_start": 2.6999999999999997,
            "bin_end": 3,
            "count": 3
           }
          ]
         }
        },
        {
         "name": "meses_inativo_12m",
         "dtype": "int64",
         "stats": {
          "unique_count": 4,
          "nan_count": 0,
          "min": "1",
          "max": "4",
          "histogram": [
           {
            "bin_start": 1,
            "bin_end": 1.3,
            "count": 6
           },
           {
            "bin_start": 1.3,
            "bin_end": 1.6,
            "count": 0
           },
           {
            "bin_start": 1.6,
            "bin_end": 1.9,
            "count": 0
           },
           {
            "bin_start": 1.9,
            "bin_end": 2.2,
            "count": 2
           },
           {
            "bin_start": 2.2,
            "bin_end": 2.5,
            "count": 0
           },
           {
            "bin_start": 2.5,
            "bin_end": 2.8,
            "count": 0
           },
           {
            "bin_start": 2.8,
            "bin_end": 3.1,
            "count": 1
           },
           {
            "bin_start": 3.1,
            "bin_end": 3.4,
            "count": 0
           },
           {
            "bin_start": 3.4,
            "bin_end": 3.6999999999999997,
            "count": 0
           },
           {
            "bin_start": 3.6999999999999997,
            "bin_end": 4,
            "count": 1
           }
          ]
         }
        },
        {
         "name": "limite_credito",
         "dtype": "object",
         "stats": {
          "unique_count": 10,
          "nan_count": 0,
          "categories": [
           {
            "name": "12.691,51",
            "count": 1
           },
           {
            "name": "8.256,96",
            "count": 1
           },
           {
            "name": "8 others",
            "count": 8
           }
          ]
         }
        },
        {
         "name": "valor_transacoes_12m",
         "dtype": "object",
         "stats": {
          "unique_count": 10,
          "nan_count": 0,
          "categories": [
           {
            "name": "1.144,90",
            "count": 1
           },
           {
            "name": "1.291,45",
            "count": 1
           },
           {
            "name": "8 others",
            "count": 8
           }
          ]
         }
        },
        {
         "name": "qtd_transacoes_12m",
         "dtype": "int64",
         "stats": {
          "unique_count": 8,
          "nan_count": 0,
          "min": "20",
          "max": "42",
          "histogram": [
           {
            "bin_start": 20,
            "bin_end": 22.2,
            "count": 2
           },
           {
            "bin_start": 22.2,
            "bin_end": 24.4,
            "count": 2
           },
           {
            "bin_start": 24.4,
            "bin_end": 26.6,
            "count": 0
           },
           {
            "bin_start": 26.6,
            "bin_end": 28.8,
            "count": 1
           },
           {
            "bin_start": 28.8,
            "bin_end": 31,
            "count": 0
           },
           {
            "bin_start": 31,
            "bin_end": 33.2,
            "count": 3
           },
           {
            "bin_start": 33.2,
            "bin_end": 35.400000000000006,
            "count": 0
           },
           {
            "bin_start": 35.400000000000006,
            "bin_end": 37.6,
            "count": 1
           },
           {
            "bin_start": 37.6,
            "bin_end": 39.8,
            "count": 0
           },
           {
            "bin_start": 39.8,
            "bin_end": 42,
            "count": 1
           }
          ]
         }
        },
        {
         "name": "_deepnote_index_column",
         "dtype": "int64"
        }
       ],
       "rows_top": [
        {
         "id": 768805383,
         "default": 0,
         "idade": 45,
         "sexo": "M",
         "dependentes": 3,
         "escolaridade": "ensino medio",
         "estado_civil": "casado",
         "salario_anual": "$60K - $80K",
         "tipo_cartao": "blue",
         "meses_de_relacionamento": 39,
         "qtd_produtos": 5,
         "iteracoes_12m": 3,
         "meses_inativo_12m": 1,
         "limite_credito": "12.691,51",
         "valor_transacoes_12m": "1.144,90",
         "qtd_transacoes_12m": 42,
         "_deepnote_index_column": 0
        },
        {
         "id": 818770008,
         "default": 0,
         "idade": 49,
         "sexo": "F",
         "dependentes": 5,
         "escolaridade": "mestrado",
         "estado_civil": "solteiro",
         "salario_anual": "menos que $40K",
         "tipo_cartao": "blue",
         "meses_de_relacionamento": 44,
         "qtd_produtos": 6,
         "iteracoes_12m": 2,
         "meses_inativo_12m": 1,
         "limite_credito": "8.256,96",
         "valor_transacoes_12m": "1.291,45",
         "qtd_transacoes_12m": 33,
         "_deepnote_index_column": 1
        },
        {
         "id": 713982108,
         "default": 0,
         "idade": 51,
         "sexo": "M",
         "dependentes": 3,
         "escolaridade": "mestrado",
         "estado_civil": "casado",
         "salario_anual": "$80K - $120K",
         "tipo_cartao": "blue",
         "meses_de_relacionamento": 36,
         "qtd_produtos": 4,
         "iteracoes_12m": 0,
         "meses_inativo_12m": 1,
         "limite_credito": "3.418,56",
         "valor_transacoes_12m": "1.887,72",
         "qtd_transacoes_12m": 20,
         "_deepnote_index_column": 2
        },
        {
         "id": 769911858,
         "default": 0,
         "idade": 40,
         "sexo": "F",
         "dependentes": 4,
         "escolaridade": "ensino medio",
         "estado_civil": "nan",
         "salario_anual": "menos que $40K",
         "tipo_cartao": "blue",
         "meses_de_relacionamento": 34,
         "qtd_produtos": 3,
         "iteracoes_12m": 1,
         "meses_inativo_12m": 4,
         "limite_credito": "3.313,03",
         "valor_transacoes_12m": "1.171,56",
         "qtd_transacoes_12m": 20,
         "_deepnote_index_column": 3
        },
        {
         "id": 709106358,
         "default": 0,
         "idade": 40,
         "sexo": "M",
         "dependentes": 3,
         "escolaridade": "sem educacao formal",
         "estado_civil": "casado",
         "salario_anual": "$60K - $80K",
         "tipo_cartao": "blue",
         "meses_de_relacionamento": 21,
         "qtd_produtos": 5,
         "iteracoes_12m": 0,
         "meses_inativo_12m": 1,
         "limite_credito": "4.716,22",
         "valor_transacoes_12m": "816,08",
         "qtd_transacoes_12m": 28,
         "_deepnote_index_column": 4
        },
        {
         "id": 713061558,
         "default": 0,
         "idade": 44,
         "sexo": "M",
         "dependentes": 2,
         "escolaridade": "mestrado",
         "estado_civil": "casado",
         "salario_anual": "$40K - $60K",
         "tipo_cartao": "blue",
         "meses_de_relacionamento": 36,
         "qtd_produtos": 3,
         "iteracoes_12m": 2,
         "meses_inativo_12m": 1,
         "limite_credito": "4.010,69",
         "valor_transacoes_12m": "1.088,07",
         "qtd_transacoes_12m": 24,
         "_deepnote_index_column": 5
        },
        {
         "id": 810347208,
         "default": 0,
         "idade": 51,
         "sexo": "M",
         "dependentes": 4,
         "escolaridade": "nan",
         "estado_civil": "casado",
         "salario_anual": "$120K +",
         "tipo_cartao": "gold",
         "meses_de_relacionamento": 46,
         "qtd_produtos": 6,
         "iteracoes_12m": 3,
         "meses_inativo_12m": 1,
         "limite_credito": "34.516,72",
         "valor_transacoes_12m": "1.330,87",
         "qtd_transacoes_12m": 31,
         "_deepnote_index_column": 6
        },
        {
         "id": 818906208,
         "default": 0,
         "idade": 32,
         "sexo": "M",
         "dependentes": 0,
         "escolaridade": "ensino medio",
         "estado_civil": "nan",
         "salario_anual": "$60K - $80K",
         "tipo_cartao": "silver",
         "meses_de_relacionamento": 27,
         "qtd_produtos": 2,
         "iteracoes_12m": 2,
         "meses_inativo_12m": 2,
         "limite_credito": "29.081,49",
         "valor_transacoes_12m": "1.538,32",
         "qtd_transacoes_12m": 36,
         "_deepnote_index_column": 7
        },
        {
         "id": 710930508,
         "default": 0,
         "idade": 37,
         "sexo": "M",
         "dependentes": 3,
         "escolaridade": "sem educacao formal",
         "estado_civil": "solteiro",
         "salario_anual": "$60K - $80K",
         "tipo_cartao": "blue",
         "meses_de_relacionamento": 36,
         "qtd_produtos": 5,
         "iteracoes_12m": 0,
         "meses_inativo_12m": 2,
         "limite_credito": "22.352,50",
         "valor_transacoes_12m": "1.350,14",
         "qtd_transacoes_12m": 24,
         "_deepnote_index_column": 8
        },
        {
         "id": 719661558,
         "default": 0,
         "idade": 48,
         "sexo": "M",
         "dependentes": 2,
         "escolaridade": "mestrado",
         "estado_civil": "solteiro",
         "salario_anual": "$80K - $120K",
         "tipo_cartao": "blue",
         "meses_de_relacionamento": 36,
         "qtd_produtos": 6,
         "iteracoes_12m": 3,
         "meses_inativo_12m": 3,
         "limite_credito": "11.656,41",
         "valor_transacoes_12m": "1.441,73",
         "qtd_transacoes_12m": 32,
         "_deepnote_index_column": 9
        }
       ],
       "rows_bottom": null
      },
      "text/plain": "          id  default  idade sexo  dependentes         escolaridade  \\\n0  768805383        0     45    M            3         ensino medio   \n1  818770008        0     49    F            5             mestrado   \n2  713982108        0     51    M            3             mestrado   \n3  769911858        0     40    F            4         ensino medio   \n4  709106358        0     40    M            3  sem educacao formal   \n5  713061558        0     44    M            2             mestrado   \n6  810347208        0     51    M            4                  NaN   \n7  818906208        0     32    M            0         ensino medio   \n8  710930508        0     37    M            3  sem educacao formal   \n9  719661558        0     48    M            2             mestrado   \n\n  estado_civil   salario_anual tipo_cartao  meses_de_relacionamento  \\\n0       casado     $60K - $80K        blue                       39   \n1     solteiro  menos que $40K        blue                       44   \n2       casado    $80K - $120K        blue                       36   \n3          NaN  menos que $40K        blue                       34   \n4       casado     $60K - $80K        blue                       21   \n5       casado     $40K - $60K        blue                       36   \n6       casado         $120K +        gold                       46   \n7          NaN     $60K - $80K      silver                       27   \n8     solteiro     $60K - $80K        blue                       36   \n9     solteiro    $80K - $120K        blue                       36   \n\n   qtd_produtos  iteracoes_12m  meses_inativo_12m limite_credito  \\\n0             5              3                  1      12.691,51   \n1             6              2                  1       8.256,96   \n2             4              0                  1       3.418,56   \n3             3              1                  4       3.313,03   \n4             5              0                  1       4.716,22   \n5             3              2                  1       4.010,69   \n6             6              3                  1      34.516,72   \n7             2              2                  2      29.081,49   \n8             5              0                  2      22.352,50   \n9             6              3                  3      11.656,41   \n\n  valor_transacoes_12m  qtd_transacoes_12m  \n0             1.144,90                  42  \n1             1.291,45                  33  \n2             1.887,72                  20  \n3             1.171,56                  20  \n4               816,08                  28  \n5             1.088,07                  24  \n6             1.330,87                  31  \n7             1.538,32                  36  \n8             1.350,14                  24  \n9             1.441,73                  32  ",
      "text/html": "<div>\n<style scoped>\n    .dataframe tbody tr th:only-of-type {\n        vertical-align: middle;\n    }\n\n    .dataframe tbody tr th {\n        vertical-align: top;\n    }\n\n    .dataframe thead th {\n        text-align: right;\n    }\n</style>\n<table border=\"1\" class=\"dataframe\">\n  <thead>\n    <tr style=\"text-align: right;\">\n      <th></th>\n      <th>id</th>\n      <th>default</th>\n      <th>idade</th>\n      <th>sexo</th>\n      <th>dependentes</th>\n      <th>escolaridade</th>\n      <th>estado_civil</th>\n      <th>salario_anual</th>\n      <th>tipo_cartao</th>\n      <th>meses_de_relacionamento</th>\n      <th>qtd_produtos</th>\n      <th>iteracoes_12m</th>\n      <th>meses_inativo_12m</th>\n      <th>limite_credito</th>\n      <th>valor_transacoes_12m</th>\n      <th>qtd_transacoes_12m</th>\n    </tr>\n  </thead>\n  <tbody>\n    <tr>\n      <th>0</th>\n      <td>768805383</td>\n      <td>0</td>\n      <td>45</td>\n      <td>M</td>\n      <td>3</td>\n      <td>ensino medio</td>\n      <td>casado</td>\n      <td>$60K - $80K</td>\n      <td>blue</td>\n      <td>39</td>\n      <td>5</td>\n      <td>3</td>\n      <td>1</td>\n      <td>12.691,51</td>\n      <td>1.144,90</td>\n      <td>42</td>\n    </tr>\n    <tr>\n      <th>1</th>\n      <td>818770008</td>\n      <td>0</td>\n      <td>49</td>\n      <td>F</td>\n      <td>5</td>\n      <td>mestrado</td>\n      <td>solteiro</td>\n      <td>menos que $40K</td>\n      <td>blue</td>\n      <td>44</td>\n      <td>6</td>\n      <td>2</td>\n      <td>1</td>\n      <td>8.256,96</td>\n      <td>1.291,45</td>\n      <td>33</td>\n    </tr>\n    <tr>\n      <th>2</th>\n      <td>713982108</td>\n      <td>0</td>\n      <td>51</td>\n      <td>M</td>\n      <td>3</td>\n      <td>mestrado</td>\n      <td>casado</td>\n      <td>$80K - $120K</td>\n      <td>blue</td>\n      <td>36</td>\n      <td>4</td>\n      <td>0</td>\n      <td>1</td>\n      <td>3.418,56</td>\n      <td>1.887,72</td>\n      <td>20</td>\n    </tr>\n    <tr>\n      <th>3</th>\n      <td>769911858</td>\n      <td>0</td>\n      <td>40</td>\n      <td>F</td>\n      <td>4</td>\n      <td>ensino medio</td>\n      <td>NaN</td>\n      <td>menos que $40K</td>\n      <td>blue</td>\n      <td>34</td>\n      <td>3</td>\n      <td>1</td>\n      <td>4</td>\n      <td>3.313,03</td>\n      <td>1.171,56</td>\n      <td>20</td>\n    </tr>\n    <tr>\n      <th>4</th>\n      <td>709106358</td>\n      <td>0</td>\n      <td>40</td>\n      <td>M</td>\n      <td>3</td>\n      <td>sem educacao formal</td>\n      <td>casado</td>\n      <td>$60K - $80K</td>\n      <td>blue</td>\n      <td>21</td>\n      <td>5</td>\n      <td>0</td>\n      <td>1</td>\n      <td>4.716,22</td>\n      <td>816,08</td>\n      <td>28</td>\n    </tr>\n    <tr>\n      <th>5</th>\n      <td>713061558</td>\n      <td>0</td>\n      <td>44</td>\n      <td>M</td>\n      <td>2</td>\n      <td>mestrado</td>\n      <td>casado</td>\n      <td>$40K - $60K</td>\n      <td>blue</td>\n      <td>36</td>\n      <td>3</td>\n      <td>2</td>\n      <td>1</td>\n      <td>4.010,69</td>\n      <td>1.088,07</td>\n      <td>24</td>\n    </tr>\n    <tr>\n      <th>6</th>\n      <td>810347208</td>\n      <td>0</td>\n      <td>51</td>\n      <td>M</td>\n      <td>4</td>\n      <td>NaN</td>\n      <td>casado</td>\n      <td>$120K +</td>\n      <td>gold</td>\n      <td>46</td>\n      <td>6</td>\n      <td>3</td>\n      <td>1</td>\n      <td>34.516,72</td>\n      <td>1.330,87</td>\n      <td>31</td>\n    </tr>\n    <tr>\n      <th>7</th>\n      <td>818906208</td>\n      <td>0</td>\n      <td>32</td>\n      <td>M</td>\n      <td>0</td>\n      <td>ensino medio</td>\n      <td>NaN</td>\n      <td>$60K - $80K</td>\n      <td>silver</td>\n      <td>27</td>\n      <td>2</td>\n      <td>2</td>\n      <td>2</td>\n      <td>29.081,49</td>\n      <td>1.538,32</td>\n      <td>36</td>\n    </tr>\n    <tr>\n      <th>8</th>\n      <td>710930508</td>\n      <td>0</td>\n      <td>37</td>\n      <td>M</td>\n      <td>3</td>\n      <td>sem educacao formal</td>\n      <td>solteiro</td>\n      <td>$60K - $80K</td>\n      <td>blue</td>\n      <td>36</td>\n      <td>5</td>\n      <td>0</td>\n      <td>2</td>\n      <td>22.352,50</td>\n      <td>1.350,14</td>\n      <td>24</td>\n    </tr>\n    <tr>\n      <th>9</th>\n      <td>719661558</td>\n      <td>0</td>\n      <td>48</td>\n      <td>M</td>\n      <td>2</td>\n      <td>mestrado</td>\n      <td>solteiro</td>\n      <td>$80K - $120K</td>\n      <td>blue</td>\n      <td>36</td>\n      <td>6</td>\n      <td>3</td>\n      <td>3</td>\n      <td>11.656,41</td>\n      <td>1.441,73</td>\n      <td>32</td>\n    </tr>\n  </tbody>\n</table>\n</div>"
     },
     "metadata": {}
    }
   ]
  },
  {
   "cell_type": "code",
   "metadata": {
    "tags": [],
    "cell_id": "00013-d762c58c-a0ee-433b-a97b-6cfcd94e2940",
    "deepnote_to_be_reexecuted": false,
    "source_hash": "8e4286b4",
    "execution_start": 1637983673937,
    "execution_millis": 12,
    "deepnote_output_heights": [
     328.3999938964844
    ],
    "deepnote_cell_type": "code"
   },
   "source": "#checando o tipo de cada variável armazenada no quadro\ndf.dtypes",
   "execution_count": null,
   "outputs": [
    {
     "output_type": "execute_result",
     "execution_count": 5,
     "data": {
      "text/plain": "id                          int64\ndefault                     int64\nidade                       int64\nsexo                       object\ndependentes                 int64\nescolaridade               object\nestado_civil               object\nsalario_anual              object\ntipo_cartao                object\nmeses_de_relacionamento     int64\nqtd_produtos                int64\niteracoes_12m               int64\nmeses_inativo_12m           int64\nlimite_credito             object\nvalor_transacoes_12m       object\nqtd_transacoes_12m          int64\ndtype: object"
     },
     "metadata": {}
    }
   ]
  },
  {
   "cell_type": "code",
   "metadata": {
    "tags": [],
    "cell_id": "00014-1a4cd3f6-7e90-47c6-969c-a586d4934d5e",
    "deepnote_to_be_reexecuted": false,
    "source_hash": "5d95654a",
    "execution_start": 1637983678500,
    "execution_millis": 119,
    "deepnote_cell_type": "code"
   },
   "source": "#checando o tipo de cada variável categórica\ndf.select_dtypes('object').describe().transpose()",
   "execution_count": null,
   "outputs": [
    {
     "output_type": "execute_result",
     "execution_count": 6,
     "data": {
      "application/vnd.deepnote.dataframe.v2+json": {
       "row_count": 7,
       "column_count": 4,
       "columns": [
        {
         "name": "count",
         "dtype": "object",
         "stats": {
          "unique_count": 4,
          "nan_count": 0,
          "categories": [
           {
            "name": "10127",
            "count": 4
           },
           {
            "name": "8608",
            "count": 1
           },
           {
            "name": "2 others",
            "count": 2
           }
          ]
         }
        },
        {
         "name": "unique",
         "dtype": "object",
         "stats": {
          "unique_count": 6,
          "nan_count": 0,
          "categories": [
           {
            "name": "5",
            "count": 2
           },
           {
            "name": "2",
            "count": 1
           },
           {
            "name": "4 others",
            "count": 4
           }
          ]
         }
        },
        {
         "name": "top",
         "dtype": "object",
         "stats": {
          "unique_count": 7,
          "nan_count": 0,
          "categories": [
           {
            "name": "F",
            "count": 1
           },
           {
            "name": "mestrado",
            "count": 1
           },
           {
            "name": "5 others",
            "count": 5
           }
          ]
         }
        },
        {
         "name": "freq",
         "dtype": "object",
         "stats": {
          "unique_count": 7,
          "nan_count": 0,
          "categories": [
           {
            "name": "5358",
            "count": 1
           },
           {
            "name": "3128",
            "count": 1
           },
           {
            "name": "5 others",
            "count": 5
           }
          ]
         }
        },
        {
         "name": "_deepnote_index_column",
         "dtype": "object"
        }
       ],
       "rows_top": [
        {
         "count": "10127",
         "unique": "2",
         "top": "F",
         "freq": "5358",
         "_deepnote_index_column": "sexo"
        },
        {
         "count": "8608",
         "unique": "5",
         "top": "mestrado",
         "freq": "3128",
         "_deepnote_index_column": "escolaridade"
        },
        {
         "count": "9378",
         "unique": "3",
         "top": "casado",
         "freq": "4687",
         "_deepnote_index_column": "estado_civil"
        },
        {
         "count": "9015",
         "unique": "5",
         "top": "menos que $40K",
         "freq": "3561",
         "_deepnote_index_column": "salario_anual"
        },
        {
         "count": "10127",
         "unique": "4",
         "top": "blue",
         "freq": "9436",
         "_deepnote_index_column": "tipo_cartao"
        },
        {
         "count": "10127",
         "unique": "9272",
         "top": "1.438,21",
         "freq": "11",
         "_deepnote_index_column": "limite_credito"
        },
        {
         "count": "10127",
         "unique": "10035",
         "top": "1.388,72",
         "freq": "3",
         "_deepnote_index_column": "valor_transacoes_12m"
        }
       ],
       "rows_bottom": null
      },
      "text/plain": "                      count unique             top  freq\nsexo                  10127      2               F  5358\nescolaridade           8608      5        mestrado  3128\nestado_civil           9378      3          casado  4687\nsalario_anual          9015      5  menos que $40K  3561\ntipo_cartao           10127      4            blue  9436\nlimite_credito        10127   9272        1.438,21    11\nvalor_transacoes_12m  10127  10035        1.388,72     3",
      "text/html": "<div>\n<style scoped>\n    .dataframe tbody tr th:only-of-type {\n        vertical-align: middle;\n    }\n\n    .dataframe tbody tr th {\n        vertical-align: top;\n    }\n\n    .dataframe thead th {\n        text-align: right;\n    }\n</style>\n<table border=\"1\" class=\"dataframe\">\n  <thead>\n    <tr style=\"text-align: right;\">\n      <th></th>\n      <th>count</th>\n      <th>unique</th>\n      <th>top</th>\n      <th>freq</th>\n    </tr>\n  </thead>\n  <tbody>\n    <tr>\n      <th>sexo</th>\n      <td>10127</td>\n      <td>2</td>\n      <td>F</td>\n      <td>5358</td>\n    </tr>\n    <tr>\n      <th>escolaridade</th>\n      <td>8608</td>\n      <td>5</td>\n      <td>mestrado</td>\n      <td>3128</td>\n    </tr>\n    <tr>\n      <th>estado_civil</th>\n      <td>9378</td>\n      <td>3</td>\n      <td>casado</td>\n      <td>4687</td>\n    </tr>\n    <tr>\n      <th>salario_anual</th>\n      <td>9015</td>\n      <td>5</td>\n      <td>menos que $40K</td>\n      <td>3561</td>\n    </tr>\n    <tr>\n      <th>tipo_cartao</th>\n      <td>10127</td>\n      <td>4</td>\n      <td>blue</td>\n      <td>9436</td>\n    </tr>\n    <tr>\n      <th>limite_credito</th>\n      <td>10127</td>\n      <td>9272</td>\n      <td>1.438,21</td>\n      <td>11</td>\n    </tr>\n    <tr>\n      <th>valor_transacoes_12m</th>\n      <td>10127</td>\n      <td>10035</td>\n      <td>1.388,72</td>\n      <td>3</td>\n    </tr>\n  </tbody>\n</table>\n</div>"
     },
     "metadata": {}
    }
   ]
  },
  {
   "cell_type": "code",
   "metadata": {
    "tags": [],
    "cell_id": "00015-d9a8f8ec-4be9-473c-8191-deaba9841a7f",
    "deepnote_to_be_reexecuted": false,
    "source_hash": "7d26e6a7",
    "execution_start": 1637983682404,
    "execution_millis": 141,
    "deepnote_cell_type": "code"
   },
   "source": "#checando o tipo de cada variável numérica\ndf.drop('id', axis=1).select_dtypes('number').describe().transpose()",
   "execution_count": null,
   "outputs": [
    {
     "output_type": "execute_result",
     "execution_count": 7,
     "data": {
      "application/vnd.deepnote.dataframe.v2+json": {
       "row_count": 8,
       "column_count": 8,
       "columns": [
        {
         "name": "count",
         "dtype": "float64",
         "stats": {
          "unique_count": 1,
          "nan_count": 0,
          "min": "10127.0",
          "max": "10127.0",
          "histogram": [
           {
            "bin_start": 10126.5,
            "bin_end": 10126.6,
            "count": 0
           },
           {
            "bin_start": 10126.6,
            "bin_end": 10126.7,
            "count": 0
           },
           {
            "bin_start": 10126.7,
            "bin_end": 10126.8,
            "count": 0
           },
           {
            "bin_start": 10126.8,
            "bin_end": 10126.9,
            "count": 0
           },
           {
            "bin_start": 10126.9,
            "bin_end": 10127,
            "count": 0
           },
           {
            "bin_start": 10127,
            "bin_end": 10127.1,
            "count": 8
           },
           {
            "bin_start": 10127.1,
            "bin_end": 10127.2,
            "count": 0
           },
           {
            "bin_start": 10127.2,
            "bin_end": 10127.3,
            "count": 0
           },
           {
            "bin_start": 10127.3,
            "bin_end": 10127.4,
            "count": 0
           },
           {
            "bin_start": 10127.4,
            "bin_end": 10127.5,
            "count": 0
           }
          ]
         }
        },
        {
         "name": "mean",
         "dtype": "float64",
         "stats": {
          "unique_count": 8,
          "nan_count": 0,
          "min": "0.1606596227905599",
          "max": "64.85869457884863",
          "histogram": [
           {
            "bin_start": 0.1606596227905599,
            "bin_end": 6.630463118396367,
            "count": 5
           },
           {
            "bin_start": 6.630463118396367,
            "bin_end": 13.100266614002173,
            "count": 0
           },
           {
            "bin_start": 13.100266614002173,
            "bin_end": 19.570070109607983,
            "count": 0
           },
           {
            "bin_start": 19.570070109607983,
            "bin_end": 26.03987360521379,
            "count": 0
           },
           {
            "bin_start": 26.03987360521379,
            "bin_end": 32.509677100819594,
            "count": 0
           },
           {
            "bin_start": 32.509677100819594,
            "bin_end": 38.979480596425404,
            "count": 1
           },
           {
            "bin_start": 38.979480596425404,
            "bin_end": 45.449284092031206,
            "count": 0
           },
           {
            "bin_start": 45.449284092031206,
            "bin_end": 51.919087587637016,
            "count": 1
           },
           {
            "bin_start": 51.919087587637016,
            "bin_end": 58.388891083242825,
            "count": 0
           },
           {
            "bin_start": 58.388891083242825,
            "bin_end": 64.85869457884863,
            "count": 1
           }
          ]
         }
        },
        {
         "name": "std",
         "dtype": "float64",
         "stats": {
          "unique_count": 8,
          "nan_count": 0,
          "min": "0.3672348368711599",
          "max": "23.472570449232997",
          "histogram": [
           {
            "bin_start": 0.3672348368711599,
            "bin_end": 2.6777683981073435,
            "count": 5
           },
           {
            "bin_start": 2.6777683981073435,
            "bin_end": 4.988301959343527,
            "count": 0
           },
           {
            "bin_start": 4.988301959343527,
            "bin_end": 7.29883552057971,
            "count": 0
           },
           {
            "bin_start": 7.29883552057971,
            "bin_end": 9.609369081815895,
            "count": 2
           },
           {
            "bin_start": 9.609369081815895,
            "bin_end": 11.91990264305208,
            "count": 0
           },
           {
            "bin_start": 11.91990264305208,
            "bin_end": 14.230436204288262,
            "count": 0
           },
           {
            "bin_start": 14.230436204288262,
            "bin_end": 16.540969765524444,
            "count": 0
           },
           {
            "bin_start": 16.540969765524444,
            "bin_end": 18.85150332676063,
            "count": 0
           },
           {
            "bin_start": 18.85150332676063,
            "bin_end": 21.162036887996813,
            "count": 0
           },
           {
            "bin_start": 21.162036887996813,
            "bin_end": 23.472570449232997,
            "count": 1
           }
          ]
         }
        },
        {
         "name": "min",
         "dtype": "float64",
         "stats": {
          "unique_count": 5,
          "nan_count": 0,
          "min": "0.0",
          "max": "26.0",
          "histogram": [
           {
            "bin_start": 0,
            "bin_end": 2.6,
            "count": 5
           },
           {
            "bin_start": 2.6,
            "bin_end": 5.2,
            "count": 0
           },
           {
            "bin_start": 5.2,
            "bin_end": 7.800000000000001,
            "count": 0
           },
           {
            "bin_start": 7.800000000000001,
            "bin_end": 10.4,
            "count": 1
           },
           {
            "bin_start": 10.4,
            "bin_end": 13,
            "count": 0
           },
           {
            "bin_start": 13,
            "bin_end": 15.600000000000001,
            "count": 1
           },
           {
            "bin_start": 15.600000000000001,
            "bin_end": 18.2,
            "count": 0
           },
           {
            "bin_start": 18.2,
            "bin_end": 20.8,
            "count": 0
           },
           {
            "bin_start": 20.8,
            "bin_end": 23.400000000000002,
            "count": 0
           },
           {
            "bin_start": 23.400000000000002,
            "bin_end": 26,
            "count": 1
           }
          ]
         }
        },
        {
         "name": "25%",
         "dtype": "float64",
         "stats": {
          "unique_count": 7,
          "nan_count": 0,
          "min": "0.0",
          "max": "45.0",
          "histogram": [
           {
            "bin_start": 0,
            "bin_end": 4.5,
            "count": 5
           },
           {
            "bin_start": 4.5,
            "bin_end": 9,
            "count": 0
           },
           {
            "bin_start": 9,
            "bin_end": 13.5,
            "count": 0
           },
           {
            "bin_start": 13.5,
            "bin_end": 18,
            "count": 0
           },
           {
            "bin_start": 18,
            "bin_end": 22.5,
            "count": 0
           },
           {
            "bin_start": 22.5,
            "bin_end": 27,
            "count": 0
           },
           {
            "bin_start": 27,
            "bin_end": 31.5,
            "count": 1
           },
           {
            "bin_start": 31.5,
            "bin_end": 36,
            "count": 0
           },
           {
            "bin_start": 36,
            "bin_end": 40.5,
            "count": 0
           },
           {
            "bin_start": 40.5,
            "bin_end": 45,
            "count": 2
           }
          ]
         }
        },
        {
         "name": "50%",
         "dtype": "float64",
         "stats": {
          "unique_count": 6,
          "nan_count": 0,
          "min": "0.0",
          "max": "67.0",
          "histogram": [
           {
            "bin_start": 0,
            "bin_end": 6.7,
            "count": 5
           },
           {
            "bin_start": 6.7,
            "bin_end": 13.4,
            "count": 0
           },
           {
            "bin_start": 13.4,
            "bin_end": 20.1,
            "count": 0
           },
           {
            "bin_start": 20.1,
            "bin_end": 26.8,
            "count": 0
           },
           {
            "bin_start": 26.8,
            "bin_end": 33.5,
            "count": 0
           },
           {
            "bin_start": 33.5,
            "bin_end": 40.2,
            "count": 1
           },
           {
            "bin_start": 40.2,
            "bin_end": 46.9,
            "count": 1
           },
           {
            "bin_start": 46.9,
            "bin_end": 53.6,
            "count": 0
           },
           {
            "bin_start": 53.6,
            "bin_end": 60.300000000000004,
            "count": 0
           },
           {
            "bin_start": 60.300000000000004,
            "bin_end": 67,
            "count": 1
           }
          ]
         }
        },
        {
         "name": "75%",
         "dtype": "float64",
         "stats": {
          "unique_count": 6,
          "nan_count": 0,
          "min": "0.0",
          "max": "81.0",
          "histogram": [
           {
            "bin_start": 0,
            "bin_end": 8.1,
            "count": 5
           },
           {
            "bin_start": 8.1,
            "bin_end": 16.2,
            "count": 0
           },
           {
            "bin_start": 16.2,
            "bin_end": 24.299999999999997,
            "count": 0
           },
           {
            "bin_start": 24.299999999999997,
            "bin_end": 32.4,
            "count": 0
           },
           {
            "bin_start": 32.4,
            "bin_end": 40.5,
            "count": 1
           },
           {
            "bin_start": 40.5,
            "bin_end": 48.599999999999994,
            "count": 0
           },
           {
            "bin_start": 48.599999999999994,
            "bin_end": 56.699999999999996,
            "count": 1
           },
           {
            "bin_start": 56.699999999999996,
            "bin_end": 64.8,
            "count": 0
           },
           {
            "bin_start": 64.8,
            "bin_end": 72.89999999999999,
            "count": 0
           },
           {
            "bin_start": 72.89999999999999,
            "bin_end": 81,
            "count": 1
           }
          ]
         }
        },
        {
         "name": "max",
         "dtype": "float64",
         "stats": {
          "unique_count": 6,
          "nan_count": 0,
          "min": "1.0",
          "max": "139.0",
          "histogram": [
           {
            "bin_start": 1,
            "bin_end": 14.8,
            "count": 5
           },
           {
            "bin_start": 14.8,
            "bin_end": 28.6,
            "count": 0
           },
           {
            "bin_start": 28.6,
            "bin_end": 42.400000000000006,
            "count": 0
           },
           {
            "bin_start": 42.400000000000006,
            "bin_end": 56.2,
            "count": 1
           },
           {
            "bin_start": 56.2,
            "bin_end": 70,
            "count": 0
           },
           {
            "bin_start": 70,
            "bin_end": 83.80000000000001,
            "count": 1
           },
           {
            "bin_start": 83.80000000000001,
            "bin_end": 97.60000000000001,
            "count": 0
           },
           {
            "bin_start": 97.60000000000001,
            "bin_end": 111.4,
            "count": 0
           },
           {
            "bin_start": 111.4,
            "bin_end": 125.2,
            "count": 0
           },
           {
            "bin_start": 125.2,
            "bin_end": 139,
            "count": 1
           }
          ]
         }
        },
        {
         "name": "_deepnote_index_column",
         "dtype": "object"
        }
       ],
       "rows_top": [
        {
         "count": 10127,
         "mean": 0.1606596227905599,
         "std": 0.3672348368711599,
         "min": 0,
         "25%": 0,
         "50%": 0,
         "75%": 0,
         "max": 1,
         "_deepnote_index_column": "default"
        },
        {
         "count": 10127,
         "mean": 46.32596030413745,
         "std": 8.016814032549028,
         "min": 26,
         "25%": 41,
         "50%": 46,
         "75%": 52,
         "max": 73,
         "_deepnote_index_column": "idade"
        },
        {
         "count": 10127,
         "mean": 2.3462032191172115,
         "std": 1.2989083489037903,
         "min": 0,
         "25%": 1,
         "50%": 2,
         "75%": 3,
         "max": 5,
         "_deepnote_index_column": "dependentes"
        },
        {
         "count": 10127,
         "mean": 35.928409203120374,
         "std": 7.986416330872062,
         "min": 13,
         "25%": 31,
         "50%": 36,
         "75%": 40,
         "max": 56,
         "_deepnote_index_column": "meses_de_relacionamento"
        },
        {
         "count": 10127,
         "mean": 3.8125802310654686,
         "std": 1.5544078653388251,
         "min": 1,
         "25%": 3,
         "50%": 4,
         "75%": 5,
         "max": 6,
         "_deepnote_index_column": "qtd_produtos"
        },
        {
         "count": 10127,
         "mean": 2.4553174681544387,
         "std": 1.106225142635924,
         "min": 0,
         "25%": 2,
         "50%": 2,
         "75%": 3,
         "max": 6,
         "_deepnote_index_column": "iteracoes_12m"
        },
        {
         "count": 10127,
         "mean": 2.3411671768539546,
         "std": 1.0106223994182812,
         "min": 0,
         "25%": 2,
         "50%": 2,
         "75%": 3,
         "max": 6,
         "_deepnote_index_column": "meses_inativo_12m"
        },
        {
         "count": 10127,
         "mean": 64.85869457884863,
         "std": 23.472570449232997,
         "min": 10,
         "25%": 45,
         "50%": 67,
         "75%": 81,
         "max": 139,
         "_deepnote_index_column": "qtd_transacoes_12m"
        }
       ],
       "rows_bottom": null
      },
      "text/plain": "                           count       mean        std   min   25%   50%  \\\ndefault                  10127.0   0.160660   0.367235   0.0   0.0   0.0   \nidade                    10127.0  46.325960   8.016814  26.0  41.0  46.0   \ndependentes              10127.0   2.346203   1.298908   0.0   1.0   2.0   \nmeses_de_relacionamento  10127.0  35.928409   7.986416  13.0  31.0  36.0   \nqtd_produtos             10127.0   3.812580   1.554408   1.0   3.0   4.0   \niteracoes_12m            10127.0   2.455317   1.106225   0.0   2.0   2.0   \nmeses_inativo_12m        10127.0   2.341167   1.010622   0.0   2.0   2.0   \nqtd_transacoes_12m       10127.0  64.858695  23.472570  10.0  45.0  67.0   \n\n                          75%    max  \ndefault                   0.0    1.0  \nidade                    52.0   73.0  \ndependentes               3.0    5.0  \nmeses_de_relacionamento  40.0   56.0  \nqtd_produtos              5.0    6.0  \niteracoes_12m             3.0    6.0  \nmeses_inativo_12m         3.0    6.0  \nqtd_transacoes_12m       81.0  139.0  ",
      "text/html": "<div>\n<style scoped>\n    .dataframe tbody tr th:only-of-type {\n        vertical-align: middle;\n    }\n\n    .dataframe tbody tr th {\n        vertical-align: top;\n    }\n\n    .dataframe thead th {\n        text-align: right;\n    }\n</style>\n<table border=\"1\" class=\"dataframe\">\n  <thead>\n    <tr style=\"text-align: right;\">\n      <th></th>\n      <th>count</th>\n      <th>mean</th>\n      <th>std</th>\n      <th>min</th>\n      <th>25%</th>\n      <th>50%</th>\n      <th>75%</th>\n      <th>max</th>\n    </tr>\n  </thead>\n  <tbody>\n    <tr>\n      <th>default</th>\n      <td>10127.0</td>\n      <td>0.160660</td>\n      <td>0.367235</td>\n      <td>0.0</td>\n      <td>0.0</td>\n      <td>0.0</td>\n      <td>0.0</td>\n      <td>1.0</td>\n    </tr>\n    <tr>\n      <th>idade</th>\n      <td>10127.0</td>\n      <td>46.325960</td>\n      <td>8.016814</td>\n      <td>26.0</td>\n      <td>41.0</td>\n      <td>46.0</td>\n      <td>52.0</td>\n      <td>73.0</td>\n    </tr>\n    <tr>\n      <th>dependentes</th>\n      <td>10127.0</td>\n      <td>2.346203</td>\n      <td>1.298908</td>\n      <td>0.0</td>\n      <td>1.0</td>\n      <td>2.0</td>\n      <td>3.0</td>\n      <td>5.0</td>\n    </tr>\n    <tr>\n      <th>meses_de_relacionamento</th>\n      <td>10127.0</td>\n      <td>35.928409</td>\n      <td>7.986416</td>\n      <td>13.0</td>\n      <td>31.0</td>\n      <td>36.0</td>\n      <td>40.0</td>\n      <td>56.0</td>\n    </tr>\n    <tr>\n      <th>qtd_produtos</th>\n      <td>10127.0</td>\n      <td>3.812580</td>\n      <td>1.554408</td>\n      <td>1.0</td>\n      <td>3.0</td>\n      <td>4.0</td>\n      <td>5.0</td>\n      <td>6.0</td>\n    </tr>\n    <tr>\n      <th>iteracoes_12m</th>\n      <td>10127.0</td>\n      <td>2.455317</td>\n      <td>1.106225</td>\n      <td>0.0</td>\n      <td>2.0</td>\n      <td>2.0</td>\n      <td>3.0</td>\n      <td>6.0</td>\n    </tr>\n    <tr>\n      <th>meses_inativo_12m</th>\n      <td>10127.0</td>\n      <td>2.341167</td>\n      <td>1.010622</td>\n      <td>0.0</td>\n      <td>2.0</td>\n      <td>2.0</td>\n      <td>3.0</td>\n      <td>6.0</td>\n    </tr>\n    <tr>\n      <th>qtd_transacoes_12m</th>\n      <td>10127.0</td>\n      <td>64.858695</td>\n      <td>23.472570</td>\n      <td>10.0</td>\n      <td>45.0</td>\n      <td>67.0</td>\n      <td>81.0</td>\n      <td>139.0</td>\n    </tr>\n  </tbody>\n</table>\n</div>"
     },
     "metadata": {}
    }
   ]
  },
  {
   "cell_type": "code",
   "metadata": {
    "tags": [],
    "cell_id": "00016-a274eadb-0f81-492b-8974-17d5d714bbbf",
    "deepnote_to_be_reexecuted": false,
    "source_hash": "c2ae861",
    "execution_start": 1637983686609,
    "execution_millis": 20,
    "deepnote_output_heights": [
     328.3999938964844
    ],
    "deepnote_cell_type": "code"
   },
   "source": "#checando quais colunas o tipo de cada variável categórica\ndf.isna().any()",
   "execution_count": null,
   "outputs": [
    {
     "output_type": "execute_result",
     "execution_count": 8,
     "data": {
      "text/plain": "id                         False\ndefault                    False\nidade                      False\nsexo                       False\ndependentes                False\nescolaridade                True\nestado_civil                True\nsalario_anual               True\ntipo_cartao                False\nmeses_de_relacionamento    False\nqtd_produtos               False\niteracoes_12m              False\nmeses_inativo_12m          False\nlimite_credito             False\nvalor_transacoes_12m       False\nqtd_transacoes_12m         False\ndtype: bool"
     },
     "metadata": {}
    }
   ]
  },
  {
   "cell_type": "code",
   "metadata": {
    "tags": [],
    "cell_id": "00017-40ce8dc3-14dc-4cad-b304-0596d4f50263",
    "deepnote_to_be_reexecuted": false,
    "source_hash": "2713c274",
    "execution_start": 1637983691029,
    "execution_millis": 23,
    "deepnote_output_heights": [
     174.8000030517578
    ],
    "deepnote_cell_type": "code"
   },
   "source": "#definindo uma função para extrair estatísticas a respeito dos dados faltantes\ndef estatistica_dados_faltantes(df: pd.DataFrame) -> None:\n    estatistica_dados_faltantes = []\n    for col in df.columns:\n        if df[col].isna().any():\n            qtd, _ = df[df[col].isna()].shape\n            total, _ = df.shape\n            dict_dados_faltantes = {col: {'quantidade': qtd, 'porcentagem': round(100 * qtd/total, 2)}}\n            estatistica_dados_faltantes.appen(dict_dados_faltantes)\nprint(estatistica_dados_faltantes)",
   "execution_count": null,
   "outputs": [
    {
     "name": "stdout",
     "text": "<function estatistica_dados_faltantes at 0x7fb8b91e8550>\n",
     "output_type": "stream"
    }
   ]
  },
  {
   "cell_type": "markdown",
   "source": "# Tratamento",
   "metadata": {
    "tags": [],
    "is_collapsed": false,
    "cell_id": "00004-98a96df0-7d45-448a-a2a4-0d43a76118da",
    "deepnote_cell_type": "text-cell-h1"
   }
  },
  {
   "cell_type": "markdown",
   "source": "## Análise exploratória",
   "metadata": {
    "tags": [],
    "is_collapsed": false,
    "cell_id": "00013-f482166d-2f6b-4c29-bd2c-9c0cec7b5ae9",
    "deepnote_cell_type": "text-cell-h2"
   }
  },
  {
   "cell_type": "markdown",
   "source": "## Transformação dos dados",
   "metadata": {
    "tags": [],
    "is_collapsed": false,
    "cell_id": "00012-065e3cd8-4720-4e5f-90f4-a0a673b9fbe0",
    "deepnote_cell_type": "text-cell-h2"
   }
  },
  {
   "cell_type": "markdown",
   "source": "## Análise visual",
   "metadata": {
    "tags": [],
    "is_collapsed": false,
    "cell_id": "00013-714928a3-b859-4e3c-8e26-15042c14195d",
    "deepnote_cell_type": "text-cell-h2"
   }
  },
  {
   "cell_type": "markdown",
   "source": "# Engenharia de recursos",
   "metadata": {
    "tags": [],
    "is_collapsed": false,
    "cell_id": "00014-13253a08-25f0-45db-b630-ecef0f534c86",
    "deepnote_cell_type": "text-cell-h1"
   }
  },
  {
   "cell_type": "markdown",
   "source": "## Extração de recursos",
   "metadata": {
    "tags": [],
    "is_collapsed": false,
    "cell_id": "00014-b132325e-db28-4592-bcd5-2c75726c087e",
    "deepnote_cell_type": "text-cell-h2"
   }
  },
  {
   "cell_type": "markdown",
   "source": "## Seleção de recursos",
   "metadata": {
    "tags": [],
    "is_collapsed": false,
    "cell_id": "00016-3779d092-58e7-4ddc-9ce2-4c6699147bae",
    "deepnote_cell_type": "text-cell-h2"
   }
  },
  {
   "cell_type": "markdown",
   "source": "## Construção de recursos",
   "metadata": {
    "tags": [],
    "is_collapsed": false,
    "cell_id": "00016-65b2b84d-b29f-47a3-9be7-067108fac3de",
    "deepnote_cell_type": "text-cell-h2"
   }
  },
  {
   "cell_type": "markdown",
   "source": "## Aprendizagem de recursos",
   "metadata": {
    "tags": [],
    "is_collapsed": false,
    "cell_id": "00018-dfbeabe9-92a1-4729-ab4a-3a62fa402463",
    "deepnote_cell_type": "text-cell-h2"
   }
  },
  {
   "cell_type": "markdown",
   "source": "# Conclusão",
   "metadata": {
    "tags": [],
    "is_collapsed": false,
    "cell_id": "00016-af12b807-1da5-415e-9242-8c9e36f96104",
    "deepnote_cell_type": "text-cell-h1"
   }
  },
  {
   "cell_type": "markdown",
   "source": "## Implantação",
   "metadata": {
    "tags": [],
    "is_collapsed": false,
    "cell_id": "00019-65da28b9-6390-45d4-99b0-1d9e56da7e3c",
    "deepnote_cell_type": "text-cell-h2"
   }
  },
  {
   "cell_type": "markdown",
   "source": "## Visualização",
   "metadata": {
    "tags": [],
    "is_collapsed": false,
    "cell_id": "00020-5812a022-992c-41f0-bba5-42fb992f5ecb",
    "deepnote_cell_type": "text-cell-h2"
   }
  },
  {
   "cell_type": "markdown",
   "source": "## Comunicação",
   "metadata": {
    "tags": [],
    "is_collapsed": false,
    "cell_id": "00017-f6cdf23d-a15a-45a2-a2a1-96127d0fd3a5",
    "deepnote_cell_type": "text-cell-h2"
   }
  },
  {
   "cell_type": "markdown",
   "source": "",
   "metadata": {
    "tags": [],
    "is_collapsed": false,
    "cell_id": "00031-235517c1-eae3-4701-9671-2395ef68c50a",
    "deepnote_cell_type": "text-cell-p"
   }
  },
  {
   "cell_type": "markdown",
   "source": "",
   "metadata": {
    "tags": [],
    "is_collapsed": false,
    "cell_id": "00032-5713a98e-381b-4974-918b-23efd76d85bd",
    "deepnote_cell_type": "text-cell-p"
   }
  },
  {
   "cell_type": "markdown",
   "source": "# ",
   "metadata": {
    "tags": [],
    "is_collapsed": false,
    "cell_id": "00006-3be7ac58-c300-4927-81ae-b7f2ebbcb744",
    "deepnote_cell_type": "text-cell-h1"
   }
  },
  {
   "cell_type": "markdown",
   "source": "",
   "metadata": {
    "tags": [],
    "is_collapsed": false,
    "cell_id": "00034-e1e30ba7-def9-47e0-a776-2fa163f1800f",
    "deepnote_cell_type": "text-cell-p"
   }
  },
  {
   "cell_type": "markdown",
   "source": "# ",
   "metadata": {
    "tags": [],
    "is_collapsed": false,
    "cell_id": "00008-f3deb044-768b-41ef-b7a7-71b78c1b8800",
    "deepnote_cell_type": "text-cell-h1"
   }
  },
  {
   "cell_type": "code",
   "metadata": {
    "tags": [],
    "cell_id": "00000-5099920d-706b-4e51-8b21-fc0b2454931f",
    "deepnote_cell_type": "code"
   },
   "source": "",
   "execution_count": null,
   "outputs": []
  },
  {
   "cell_type": "markdown",
   "source": "<a style='text-decoration:none;line-height:16px;display:flex;color:#5B5B62;padding:10px;justify-content:end;' href='https://deepnote.com?utm_source=created-in-deepnote-cell&projectId=7bc88e6b-e21c-42d6-a070-b420cc720827' target=\"_blank\">\n<img alt='Created in deepnote.com' style='display:inline;max-height:16px;margin:0px;margin-right:7.5px;' src='data:image/svg+xml;base64,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' > </img>\nCreated in <span style='font-weight:600;margin-left:4px;'>Deepnote</span></a>",
   "metadata": {
    "tags": [],
    "created_in_deepnote_cell": true,
    "deepnote_cell_type": "markdown"
   }
  }
 ],
 "nbformat": 4,
 "nbformat_minor": 2,
 "metadata": {
  "orig_nbformat": 2,
  "deepnote": {
   "is_reactive": false
  },
  "deepnote_notebook_id": "64fd4804-1130-4106-b56e-60a69d627e86",
  "deepnote_execution_queue": []
 }
}