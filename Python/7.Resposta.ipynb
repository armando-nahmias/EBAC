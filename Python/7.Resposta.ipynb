{
 "cells": [
  {
   "cell_type": "markdown",
   "source": "<img src=\"https://raw.githubusercontent.com/andre-marcos-perez/ebac-course-utils/main/media/logo/newebac_logo_black_half.png\" alt=\"ebac-logo\">\n\n---\n\n# **Módulo 07** | Python: Programação Orientada a Objetos\nCaderno de **Exercícios**<br> \nProfessor [André Perez](https://www.linkedin.com/in/andremarcosperez/)\n\n---",
   "metadata": {
    "id": "KJqp9AANOCtf",
    "cell_id": "00000-ab431223-9389-4cdd-a0c6-7acc2633b921",
    "deepnote_cell_type": "markdown"
   }
  },
  {
   "cell_type": "markdown",
   "source": "# **Tópicos**\n\n<ol type=\"1\">\n  <li>from / import / as;</li>\n  <li>Módulo;</li>\n  <li>Pacote;</li>\n  <li>Baixando pacotes.</li>\n</ol>",
   "metadata": {
    "id": "d9jDtUbDOE1-",
    "cell_id": "00001-8b424a7c-daa8-40e3-858e-90ec0bd32bca",
    "deepnote_cell_type": "markdown"
   }
  },
  {
   "cell_type": "markdown",
   "source": "---",
   "metadata": {
    "id": "SmoHgt-lwkpD",
    "cell_id": "00002-28ffdfd5-f0b9-405a-9495-5b2e745f8b5b",
    "deepnote_cell_type": "markdown"
   }
  },
  {
   "cell_type": "markdown",
   "source": "# **Exercícios**",
   "metadata": {
    "id": "GABI6OW8OfQ2",
    "cell_id": "00003-f576fc30-91b2-4fda-b51f-f38cd782dc0b",
    "deepnote_cell_type": "markdown"
   }
  },
  {
   "cell_type": "markdown",
   "source": "## 0\\. Preparação do ambiente",
   "metadata": {
    "id": "muD1vxozykSC",
    "cell_id": "00004-91c06e2d-bc1a-4573-97d5-03096cdc31f3",
    "deepnote_cell_type": "markdown"
   }
  },
  {
   "cell_type": "markdown",
   "source": "Neste exercício vamos utilizar a base de dados de ações da bolsa de valores dos EUA, a Dow Jones. Os dados estão disponíveis para *download* neste [link](https://archive.ics.uci.edu/ml/datasets/Dow+Jones+Index). Vamos utilizar o pacote `wget` para fazer o *download* dos dados.",
   "metadata": {
    "id": "ahrFfCuBxJKs",
    "cell_id": "00005-ac326560-03c8-483a-8d84-78bcb85ba954",
    "deepnote_cell_type": "markdown"
   }
  },
  {
   "cell_type": "markdown",
   "source": " - Instalando o pacote `wget` na versão 3.2.",
   "metadata": {
    "id": "AtPc2994meNR",
    "cell_id": "00006-2c558f5a-3b69-4fd5-b483-547cbe58b63c",
    "deepnote_cell_type": "markdown"
   }
  },
  {
   "cell_type": "code",
   "metadata": {
    "id": "DzM3--8Gk_mU",
    "cell_id": "00007-b6b25879-87da-42d3-a274-26b710b0d2ee",
    "deepnote_to_be_reexecuted": false,
    "source_hash": "f6fe353e",
    "execution_start": 1637241736090,
    "execution_millis": 5780,
    "deepnote_cell_type": "code"
   },
   "source": "!pip install wget==3.2",
   "execution_count": null,
   "outputs": [
    {
     "name": "stdout",
     "text": "Collecting wget==3.2\n  Downloading wget-3.2.zip (10 kB)\nBuilding wheels for collected packages: wget\n  Building wheel for wget (setup.py) ... \u001b[?25ldone\n\u001b[?25h  Created wheel for wget: filename=wget-3.2-py3-none-any.whl size=9672 sha256=9a103b05e30186eba749778641f026411d5bcc5789484103b683a403ef240d7f\n  Stored in directory: /root/.cache/pip/wheels/04/5f/3e/46cc37c5d698415694d83f607f833f83f0149e49b3af9d0f38\nSuccessfully built wget\nInstalling collected packages: wget\nSuccessfully installed wget-3.2\n\u001b[33mWARNING: You are using pip version 21.2.3; however, version 21.3.1 is available.\nYou should consider upgrading via the '/root/venv/bin/python -m pip install --upgrade pip' command.\u001b[0m\n",
     "output_type": "stream"
    }
   ]
  },
  {
   "cell_type": "markdown",
   "source": " - Fazendo o download dos dados no arquivo compactado `dados.zip`.",
   "metadata": {
    "id": "tVc1aUTmmkIU",
    "cell_id": "00008-d4006f40-495d-43a4-ace8-08919cba7229",
    "deepnote_cell_type": "markdown"
   }
  },
  {
   "cell_type": "code",
   "metadata": {
    "id": "SZWlsi2blOOt",
    "cell_id": "00009-3ff4f974-8bf9-47fd-9cc5-9ba98d101460",
    "deepnote_to_be_reexecuted": false,
    "source_hash": "b73ca703",
    "execution_start": 1637241756187,
    "execution_millis": 458,
    "deepnote_output_heights": [
     21.199996948242188
    ],
    "deepnote_cell_type": "code"
   },
   "source": "import wget\n\nwget.download(url='https://archive.ics.uci.edu/ml/machine-learning-databases/00312/dow_jones_index.zip', out='./dados.zip')",
   "execution_count": null,
   "outputs": [
    {
     "output_type": "execute_result",
     "execution_count": 2,
     "data": {
      "text/plain": "'./dados.zip'"
     },
     "metadata": {}
    }
   ]
  },
  {
   "cell_type": "markdown",
   "source": " - Descompactando os `dados` na pasta dados com o pacote nativo `zipfile`.",
   "metadata": {
    "id": "339oiie2mvCP",
    "cell_id": "00010-fe301156-1163-4fec-8d4a-7fa77e0aea61",
    "deepnote_cell_type": "markdown"
   }
  },
  {
   "cell_type": "code",
   "metadata": {
    "id": "6tFPV081loK4",
    "cell_id": "00011-77b720d0-f36f-46d3-bdf6-961146590b45",
    "deepnote_to_be_reexecuted": false,
    "source_hash": "3cb70acf",
    "execution_start": 1637241772867,
    "execution_millis": 15,
    "deepnote_cell_type": "code"
   },
   "source": "import zipfile\n\nwith zipfile.ZipFile('./dados.zip', 'r') as fp:\n  fp.extractall('./dados')",
   "execution_count": null,
   "outputs": []
  },
  {
   "cell_type": "markdown",
   "source": "Verifique a pasta dados criada, ela deve conter dois arquivos:\n\n - **dow_jones_index.data**: um arquivo com os dados;\n - **dow_jones_index.names**: um arquivo com a descrição completa dos dados.\n\nÉ possível observar que o arquivo de dados é um arquivo separado por virgulas, o famoso `csv`. Vamos renomear o arquivo de dados para que ele tenha a extensão `csv` com o pacote nativo `os`.",
   "metadata": {
    "id": "KI9zQRT2xa7m",
    "cell_id": "00012-7eef5923-45d1-4e62-a45a-f4ae07bbd346",
    "deepnote_cell_type": "markdown"
   }
  },
  {
   "cell_type": "markdown",
   "source": "- Renomeando o arquivo com o pacote nativo `os`.",
   "metadata": {
    "id": "5k7LLQU5n8aY",
    "cell_id": "00013-f1970c7f-bad5-4af6-b50e-817713bf9165",
    "deepnote_cell_type": "markdown"
   }
  },
  {
   "cell_type": "code",
   "metadata": {
    "id": "PyZ2zqwcn5CU",
    "cell_id": "00014-0b0cad5d-b726-4143-aa0c-840131ea8663",
    "deepnote_to_be_reexecuted": false,
    "source_hash": "b5e24372",
    "execution_start": 1637241812721,
    "execution_millis": 621,
    "deepnote_cell_type": "code"
   },
   "source": "import os\n\nos.rename('./dados/dow_jones_index.data', './dados/dow_jones_index.csv')",
   "execution_count": null,
   "outputs": []
  },
  {
   "cell_type": "markdown",
   "source": "Pronto! Abra o arquivo e o Google Colab irá apresentar uma visualização bem legal dos dados.",
   "metadata": {
    "id": "2Zf74P1yoeYc",
    "cell_id": "00015-699bcc53-55d2-47f7-b608-9f538777fd38",
    "deepnote_cell_type": "markdown"
   }
  },
  {
   "cell_type": "markdown",
   "source": "---",
   "metadata": {
    "id": "zMN1Q3jdwoJm",
    "cell_id": "00016-87166871-aa4d-41be-b0c0-84d81771d535",
    "deepnote_cell_type": "markdown"
   }
  },
  {
   "cell_type": "markdown",
   "source": "## 1\\. Pandas",
   "metadata": {
    "id": "FwqgmwxakNh6",
    "cell_id": "00017-9a25ae1b-7c2c-411f-a85f-5cd930bc1052",
    "deepnote_cell_type": "markdown"
   }
  },
  {
   "cell_type": "markdown",
   "source": "Para processar os dados, vamos utilizar o pacote `pandas` na versão `1.1.5`. A documentação completa por ser encontrada neste [link](https://pandas.pydata.org/docs/)",
   "metadata": {
    "id": "It_mfyHzkRJ8",
    "cell_id": "00018-3343b46b-f8db-41e6-8e17-34e45985826e",
    "deepnote_cell_type": "markdown"
   }
  },
  {
   "cell_type": "code",
   "metadata": {
    "id": "DF3DkjPjpn1X",
    "cell_id": "00019-beb19f5e-03d8-4eeb-b3f2-f8d6b2b9812a",
    "deepnote_to_be_reexecuted": false,
    "source_hash": "bbffc8ca",
    "execution_start": 1637241897598,
    "execution_millis": 12072,
    "deepnote_cell_type": "code"
   },
   "source": "!pip install pandas==1.1.5",
   "execution_count": null,
   "outputs": [
    {
     "name": "stdout",
     "text": "Collecting pandas==1.1.5\n  Downloading pandas-1.1.5-cp39-cp39-manylinux1_x86_64.whl (9.3 MB)\n\u001b[K     |████████████████████████████████| 9.3 MB 18.4 MB/s \n\u001b[?25hRequirement already satisfied: pytz>=2017.2 in /shared-libs/python3.9/py/lib/python3.9/site-packages (from pandas==1.1.5) (2021.3)\nRequirement already satisfied: numpy>=1.15.4 in /shared-libs/python3.9/py/lib/python3.9/site-packages (from pandas==1.1.5) (1.21.4)\nRequirement already satisfied: python-dateutil>=2.7.3 in /shared-libs/python3.9/py-core/lib/python3.9/site-packages (from pandas==1.1.5) (2.8.2)\nRequirement already satisfied: six>=1.5 in /shared-libs/python3.9/py-core/lib/python3.9/site-packages (from python-dateutil>=2.7.3->pandas==1.1.5) (1.16.0)\nInstalling collected packages: pandas\n  Attempting uninstall: pandas\n    Found existing installation: pandas 1.2.5\n    Not uninstalling pandas at /shared-libs/python3.9/py/lib/python3.9/site-packages, outside environment /root/venv\n    Can't uninstall 'pandas'. No files were found to uninstall.\nSuccessfully installed pandas-1.1.5\n\u001b[33mWARNING: You are using pip version 21.2.3; however, version 21.3.1 is available.\nYou should consider upgrading via the '/root/venv/bin/python -m pip install --upgrade pip' command.\u001b[0m\n",
     "output_type": "stream"
    }
   ]
  },
  {
   "cell_type": "markdown",
   "source": "Vamos importar o pacote com o apelido (alias) `pd`.",
   "metadata": {
    "id": "CqVcTZE-wyBt",
    "cell_id": "00020-5afe5d8e-d596-41e6-a7e9-833aa6ea4de2",
    "deepnote_cell_type": "markdown"
   }
  },
  {
   "cell_type": "code",
   "metadata": {
    "id": "qjA_H6WapxK3",
    "cell_id": "00021-9e6ddfbc-1b66-4115-a55d-1ea58ea24057",
    "deepnote_to_be_reexecuted": false,
    "source_hash": "9b82ee11",
    "execution_start": 1637241914122,
    "execution_millis": 0,
    "deepnote_cell_type": "code"
   },
   "source": "import pandas as pd",
   "execution_count": null,
   "outputs": []
  },
  {
   "cell_type": "markdown",
   "source": "Estamos prontos para ler o arquivo.",
   "metadata": {
    "id": "KFQ77on-w0Fo",
    "cell_id": "00022-f6be7729-f7cf-49c9-9561-2b5c5f80fe85",
    "deepnote_cell_type": "markdown"
   }
  },
  {
   "cell_type": "code",
   "metadata": {
    "id": "-1yL07iwqWk3",
    "cell_id": "00023-b42b90ab-cfdf-4c5f-937a-35ebb2979c2a",
    "deepnote_to_be_reexecuted": false,
    "source_hash": "8276245b",
    "execution_start": 1637241917706,
    "execution_millis": 1,
    "deepnote_cell_type": "code"
   },
   "source": "df = pd.read_csv('./dados/dow_jones_index.csv')",
   "execution_count": null,
   "outputs": []
  },
  {
   "cell_type": "markdown",
   "source": "O pandas trabalha com o conceito de dataframe, uma estrutura de dados com muitos métodos e atributos que aceleram o processamento de dados. Alguns exemplos:",
   "metadata": {
    "id": "mnLvLSWCxGt_",
    "cell_id": "00024-c58b49a4-7286-4cea-8aae-192984e4aa86",
    "deepnote_cell_type": "markdown"
   }
  },
  {
   "cell_type": "markdown",
   "source": " - Visualizando as `n` primeiras linhas:",
   "metadata": {
    "id": "rf6pevg7xIuQ",
    "cell_id": "00025-38a26b3c-ffd2-4582-92d4-e05b3430f282",
    "deepnote_cell_type": "markdown"
   }
  },
  {
   "cell_type": "code",
   "metadata": {
    "id": "fqF7AQvRqn69",
    "cell_id": "00026-47fb4055-1631-40cc-aeed-ee9b203f23c0",
    "deepnote_to_be_reexecuted": false,
    "source_hash": "990bc731",
    "execution_start": 1637241925768,
    "execution_millis": 39,
    "deepnote_cell_type": "code"
   },
   "source": "df.head(n=10)",
   "execution_count": null,
   "outputs": [
    {
     "output_type": "execute_result",
     "execution_count": 8,
     "data": {
      "application/vnd.deepnote.dataframe.v2+json": {
       "row_count": 10,
       "column_count": 16,
       "columns": [
        {
         "name": "quarter",
         "dtype": "int64",
         "stats": {
          "unique_count": 1,
          "nan_count": 0,
          "min": "1",
          "max": "1",
          "histogram": [
           {
            "bin_start": 0.5,
            "bin_end": 0.6,
            "count": 0
           },
           {
            "bin_start": 0.6,
            "bin_end": 0.7,
            "count": 0
           },
           {
            "bin_start": 0.7,
            "bin_end": 0.8,
            "count": 0
           },
           {
            "bin_start": 0.8,
            "bin_end": 0.9,
            "count": 0
           },
           {
            "bin_start": 0.9,
            "bin_end": 1,
            "count": 0
           },
           {
            "bin_start": 1,
            "bin_end": 1.1,
            "count": 10
           },
           {
            "bin_start": 1.1,
            "bin_end": 1.2000000000000002,
            "count": 0
           },
           {
            "bin_start": 1.2000000000000002,
            "bin_end": 1.3,
            "count": 0
           },
           {
            "bin_start": 1.3,
            "bin_end": 1.4,
            "count": 0
           },
           {
            "bin_start": 1.4,
            "bin_end": 1.5,
            "count": 0
           }
          ]
         }
        },
        {
         "name": "stock",
         "dtype": "object",
         "stats": {
          "unique_count": 1,
          "nan_count": 0,
          "categories": [
           {
            "name": "AA",
            "count": 10
           }
          ]
         }
        },
        {
         "name": "date",
         "dtype": "object",
         "stats": {
          "unique_count": 10,
          "nan_count": 0,
          "categories": [
           {
            "name": "1/7/2011",
            "count": 1
           },
           {
            "name": "1/14/2011",
            "count": 1
           },
           {
            "name": "8 others",
            "count": 8
           }
          ]
         }
        },
        {
         "name": "open",
         "dtype": "object",
         "stats": {
          "unique_count": 10,
          "nan_count": 0,
          "categories": [
           {
            "name": "$15.82",
            "count": 1
           },
           {
            "name": "$16.71",
            "count": 1
           },
           {
            "name": "8 others",
            "count": 8
           }
          ]
         }
        },
        {
         "name": "high",
         "dtype": "object",
         "stats": {
          "unique_count": 10,
          "nan_count": 0,
          "categories": [
           {
            "name": "$16.72",
            "count": 1
           },
           {
            "name": "$16.71",
            "count": 1
           },
           {
            "name": "8 others",
            "count": 8
           }
          ]
         }
        },
        {
         "name": "low",
         "dtype": "object",
         "stats": {
          "unique_count": 10,
          "nan_count": 0,
          "categories": [
           {
            "name": "$15.78",
            "count": 1
           },
           {
            "name": "$15.64",
            "count": 1
           },
           {
            "name": "8 others",
            "count": 8
           }
          ]
         }
        },
        {
         "name": "close",
         "dtype": "object",
         "stats": {
          "unique_count": 10,
          "nan_count": 0,
          "categories": [
           {
            "name": "$16.42",
            "count": 1
           },
           {
            "name": "$15.97",
            "count": 1
           },
           {
            "name": "8 others",
            "count": 8
           }
          ]
         }
        },
        {
         "name": "volume",
         "dtype": "int64",
         "stats": {
          "unique_count": 10,
          "nan_count": 0,
          "min": "80023895",
          "max": "242963398",
          "histogram": [
           {
            "bin_start": 80023895,
            "bin_end": 96317845.3,
            "count": 1
           },
           {
            "bin_start": 96317845.3,
            "bin_end": 112611795.6,
            "count": 1
           },
           {
            "bin_start": 112611795.6,
            "bin_end": 128905745.9,
            "count": 2
           },
           {
            "bin_start": 128905745.9,
            "bin_end": 145199696.2,
            "count": 2
           },
           {
            "bin_start": 145199696.2,
            "bin_end": 161493646.5,
            "count": 2
           },
           {
            "bin_start": 161493646.5,
            "bin_end": 177787596.8,
            "count": 0
           },
           {
            "bin_start": 177787596.8,
            "bin_end": 194081547.10000002,
            "count": 0
           },
           {
            "bin_start": 194081547.10000002,
            "bin_end": 210375497.4,
            "count": 0
           },
           {
            "bin_start": 210375497.4,
            "bin_end": 226669447.70000002,
            "count": 0
           },
           {
            "bin_start": 226669447.70000002,
            "bin_end": 242963398,
            "count": 2
           }
          ]
         }
        },
        {
         "name": "percent_change_price",
         "dtype": "float64",
         "stats": {
          "unique_count": 10,
          "nan_count": 0,
          "min": "-4.42849",
          "max": "5.93325",
          "histogram": [
           {
            "bin_start": -4.42849,
            "bin_end": -3.392316,
            "count": 1
           },
           {
            "bin_start": -3.392316,
            "bin_end": -2.3561419999999997,
            "count": 2
           },
           {
            "bin_start": -2.3561419999999997,
            "bin_end": -1.3199679999999994,
            "count": 2
           },
           {
            "bin_start": -1.3199679999999994,
            "bin_end": -0.28379399999999944,
            "count": 1
           },
           {
            "bin_start": -0.28379399999999944,
            "bin_end": 0.7523800000000005,
            "count": 1
           },
           {
            "bin_start": 0.7523800000000005,
            "bin_end": 1.7885540000000013,
            "count": 1
           },
           {
            "bin_start": 1.7885540000000013,
            "bin_end": 2.8247280000000012,
            "count": 0
           },
           {
            "bin_start": 2.8247280000000012,
            "bin_end": 3.860902000000001,
            "count": 1
           },
           {
            "bin_start": 3.860902000000001,
            "bin_end": 4.897076000000002,
            "count": 0
           },
           {
            "bin_start": 4.897076000000002,
            "bin_end": 5.93325,
            "count": 1
           }
          ]
         }
        },
        {
         "name": "percent_change_volume_over_last_wk",
         "dtype": "float64",
         "stats": {
          "unique_count": 9,
          "nan_count": 1,
          "min": "-43.02495926",
          "max": "66.17769355",
          "histogram": [
           {
            "bin_start": -43.02495926,
            "bin_end": -32.104693979000004,
            "count": 1
           },
           {
            "bin_start": -32.104693979000004,
            "bin_end": -21.184428698,
            "count": 2
           },
           {
            "bin_start": -21.184428698,
            "bin_end": -10.264163416999999,
            "count": 1
           },
           {
            "bin_start": -10.264163416999999,
            "bin_end": 0.656101864,
            "count": 0
           },
           {
            "bin_start": 0.656101864,
            "bin_end": 11.576367144999999,
            "count": 4
           },
           {
            "bin_start": 11.576367144999999,
            "bin_end": 22.496632426000005,
            "count": 0
           },
           {
            "bin_start": 22.496632426000005,
            "bin_end": 33.416897707000004,
            "count": 0
           },
           {
            "bin_start": 33.416897707000004,
            "bin_end": 44.337162988,
            "count": 0
           },
           {
            "bin_start": 44.337162988,
            "bin_end": 55.257428269,
            "count": 0
           },
           {
            "bin_start": 55.257428269,
            "bin_end": 66.17769355,
            "count": 1
           }
          ]
         }
        },
        {
         "name": "previous_weeks_volume",
         "dtype": "float64",
         "stats": {
          "unique_count": 9,
          "nan_count": 1,
          "min": "80023895.0",
          "max": "242963398.0",
          "histogram": [
           {
            "bin_start": 80023895,
            "bin_end": 96317845.3,
            "count": 1
           },
           {
            "bin_start": 96317845.3,
            "bin_end": 112611795.6,
            "count": 1
           },
           {
            "bin_start": 112611795.6,
            "bin_end": 128905745.9,
            "count": 1
           },
           {
            "bin_start": 128905745.9,
            "bin_end": 145199696.2,
            "count": 2
           },
           {
            "bin_start": 145199696.2,
            "bin_end": 161493646.5,
            "count": 2
           },
           {
            "bin_start": 161493646.5,
            "bin_end": 177787596.8,
            "count": 0
           },
           {
            "bin_start": 177787596.8,
            "bin_end": 194081547.10000002,
            "count": 0
           },
           {
            "bin_start": 194081547.10000002,
            "bin_end": 210375497.4,
            "count": 0
           },
           {
            "bin_start": 210375497.4,
            "bin_end": 226669447.70000002,
            "count": 0
           },
           {
            "bin_start": 226669447.70000002,
            "bin_end": 242963398,
            "count": 2
           }
          ]
         }
        },
        {
         "name": "next_weeks_open",
         "dtype": "object",
         "stats": {
          "unique_count": 10,
          "nan_count": 0,
          "categories": [
           {
            "name": "$16.71",
            "count": 1
           },
           {
            "name": "$16.19",
            "count": 1
           },
           {
            "name": "8 others",
            "count": 8
           }
          ]
         }
        },
        {
         "name": "next_weeks_close",
         "dtype": "object",
         "stats": {
          "unique_count": 10,
          "nan_count": 0,
          "categories": [
           {
            "name": "$15.97",
            "count": 1
           },
           {
            "name": "$15.79",
            "count": 1
           },
           {
            "name": "8 others",
            "count": 8
           }
          ]
         }
        },
        {
         "name": "percent_change_next_weeks_price",
         "dtype": "float64",
         "stats": {
          "unique_count": 10,
          "nan_count": 0,
          "min": "-4.42849",
          "max": "5.93325",
          "histogram": [
           {
            "bin_start": -4.42849,
            "bin_end": -3.392316,
            "count": 1
           },
           {
            "bin_start": -3.392316,
            "bin_end": -2.3561419999999997,
            "count": 2
           },
           {
            "bin_start": -2.3561419999999997,
            "bin_end": -1.3199679999999994,
            "count": 2
           },
           {
            "bin_start": -1.3199679999999994,
            "bin_end": -0.28379399999999944,
            "count": 1
           },
           {
            "bin_start": -0.28379399999999944,
            "bin_end": 0.7523800000000005,
            "count": 1
           },
           {
            "bin_start": 0.7523800000000005,
            "bin_end": 1.7885540000000013,
            "count": 2
           },
           {
            "bin_start": 1.7885540000000013,
            "bin_end": 2.8247280000000012,
            "count": 0
           },
           {
            "bin_start": 2.8247280000000012,
            "bin_end": 3.860902000000001,
            "count": 0
           },
           {
            "bin_start": 3.860902000000001,
            "bin_end": 4.897076000000002,
            "count": 0
           },
           {
            "bin_start": 4.897076000000002,
            "bin_end": 5.93325,
            "count": 1
           }
          ]
         }
        },
        {
         "name": "days_to_next_dividend",
         "dtype": "int64",
         "stats": {
          "unique_count": 10,
          "nan_count": 0,
          "min": "5",
          "max": "97",
          "histogram": [
           {
            "bin_start": 5,
            "bin_end": 14.2,
            "count": 2
           },
           {
            "bin_start": 14.2,
            "bin_end": 23.4,
            "count": 1
           },
           {
            "bin_start": 23.4,
            "bin_end": 32.599999999999994,
            "count": 1
           },
           {
            "bin_start": 32.599999999999994,
            "bin_end": 41.8,
            "count": 0
           },
           {
            "bin_start": 41.8,
            "bin_end": 51,
            "count": 0
           },
           {
            "bin_start": 51,
            "bin_end": 60.199999999999996,
            "count": 0
           },
           {
            "bin_start": 60.199999999999996,
            "bin_end": 69.39999999999999,
            "count": 2
           },
           {
            "bin_start": 69.39999999999999,
            "bin_end": 78.6,
            "count": 1
           },
           {
            "bin_start": 78.6,
            "bin_end": 87.8,
            "count": 1
           },
           {
            "bin_start": 87.8,
            "bin_end": 97,
            "count": 2
           }
          ]
         }
        },
        {
         "name": "percent_return_next_dividend",
         "dtype": "float64",
         "stats": {
          "unique_count": 10,
          "nan_count": 0,
          "min": "0.172712",
          "max": "0.189994",
          "histogram": [
           {
            "bin_start": 0.172712,
            "bin_end": 0.1744402,
            "count": 2
           },
           {
            "bin_start": 0.1744402,
            "bin_end": 0.1761684,
            "count": 1
           },
           {
            "bin_start": 0.1761684,
            "bin_end": 0.17789660000000002,
            "count": 0
           },
           {
            "bin_start": 0.17789660000000002,
            "bin_end": 0.1796248,
            "count": 0
           },
           {
            "bin_start": 0.1796248,
            "bin_end": 0.181353,
            "count": 2
           },
           {
            "bin_start": 0.181353,
            "bin_end": 0.1830812,
            "count": 1
           },
           {
            "bin_start": 0.1830812,
            "bin_end": 0.1848094,
            "count": 0
           },
           {
            "bin_start": 0.1848094,
            "bin_end": 0.1865376,
            "count": 1
           },
           {
            "bin_start": 0.1865376,
            "bin_end": 0.18826579999999998,
            "count": 2
           },
           {
            "bin_start": 0.18826579999999998,
            "bin_end": 0.189994,
            "count": 1
           }
          ]
         }
        },
        {
         "name": "_deepnote_index_column",
         "dtype": "int64"
        }
       ],
       "rows_top": [
        {
         "quarter": 1,
         "stock": "AA",
         "date": "1/7/2011",
         "open": "$15.82",
         "high": "$16.72",
         "low": "$15.78",
         "close": "$16.42",
         "volume": 239655616,
         "percent_change_price": 3.79267,
         "percent_change_volume_over_last_wk": "nan",
         "previous_weeks_volume": "nan",
         "next_weeks_open": "$16.71",
         "next_weeks_close": "$15.97",
         "percent_change_next_weeks_price": -4.42849,
         "days_to_next_dividend": 26,
         "percent_return_next_dividend": 0.182704,
         "_deepnote_index_column": 0
        },
        {
         "quarter": 1,
         "stock": "AA",
         "date": "1/14/2011",
         "open": "$16.71",
         "high": "$16.71",
         "low": "$15.64",
         "close": "$15.97",
         "volume": 242963398,
         "percent_change_price": -4.42849,
         "percent_change_volume_over_last_wk": 1.380223028,
         "previous_weeks_volume": 239655616,
         "next_weeks_open": "$16.19",
         "next_weeks_close": "$15.79",
         "percent_change_next_weeks_price": -2.47066,
         "days_to_next_dividend": 19,
         "percent_return_next_dividend": 0.187852,
         "_deepnote_index_column": 1
        },
        {
         "quarter": 1,
         "stock": "AA",
         "date": "1/21/2011",
         "open": "$16.19",
         "high": "$16.38",
         "low": "$15.60",
         "close": "$15.79",
         "volume": 138428495,
         "percent_change_price": -2.47066,
         "percent_change_volume_over_last_wk": -43.02495926,
         "previous_weeks_volume": 242963398,
         "next_weeks_open": "$15.87",
         "next_weeks_close": "$16.13",
         "percent_change_next_weeks_price": 1.63831,
         "days_to_next_dividend": 12,
         "percent_return_next_dividend": 0.189994,
         "_deepnote_index_column": 2
        },
        {
         "quarter": 1,
         "stock": "AA",
         "date": "1/28/2011",
         "open": "$15.87",
         "high": "$16.63",
         "low": "$15.82",
         "close": "$16.13",
         "volume": 151379173,
         "percent_change_price": 1.63831,
         "percent_change_volume_over_last_wk": 9.355500109,
         "previous_weeks_volume": 138428495,
         "next_weeks_open": "$16.18",
         "next_weeks_close": "$17.14",
         "percent_change_next_weeks_price": 5.93325,
         "days_to_next_dividend": 5,
         "percent_return_next_dividend": 0.185989,
         "_deepnote_index_column": 3
        },
        {
         "quarter": 1,
         "stock": "AA",
         "date": "2/4/2011",
         "open": "$16.18",
         "high": "$17.39",
         "low": "$16.18",
         "close": "$17.14",
         "volume": 154387761,
         "percent_change_price": 5.93325,
         "percent_change_volume_over_last_wk": 1.987451735,
         "previous_weeks_volume": 151379173,
         "next_weeks_open": "$17.33",
         "next_weeks_close": "$17.37",
         "percent_change_next_weeks_price": 0.230814,
         "days_to_next_dividend": 97,
         "percent_return_next_dividend": 0.175029,
         "_deepnote_index_column": 4
        },
        {
         "quarter": 1,
         "stock": "AA",
         "date": "2/11/2011",
         "open": "$17.33",
         "high": "$17.48",
         "low": "$16.97",
         "close": "$17.37",
         "volume": 114691279,
         "percent_change_price": 0.230814,
         "percent_change_volume_over_last_wk": -25.71219489,
         "previous_weeks_volume": 154387761,
         "next_weeks_open": "$17.39",
         "next_weeks_close": "$17.28",
         "percent_change_next_weeks_price": -0.632547,
         "days_to_next_dividend": 90,
         "percent_return_next_dividend": 0.172712,
         "_deepnote_index_column": 5
        },
        {
         "quarter": 1,
         "stock": "AA",
         "date": "2/18/2011",
         "open": "$17.39",
         "high": "$17.68",
         "low": "$17.28",
         "close": "$17.28",
         "volume": 80023895,
         "percent_change_price": -0.632547,
         "percent_change_volume_over_last_wk": -30.22669579,
         "previous_weeks_volume": 114691279,
         "next_weeks_open": "$16.98",
         "next_weeks_close": "$16.68",
         "percent_change_next_weeks_price": -1.76678,
         "days_to_next_dividend": 83,
         "percent_return_next_dividend": 0.173611,
         "_deepnote_index_column": 6
        },
        {
         "quarter": 1,
         "stock": "AA",
         "date": "2/25/2011",
         "open": "$16.98",
         "high": "$17.15",
         "low": "$15.96",
         "close": "$16.68",
         "volume": 132981863,
         "percent_change_price": -1.76678,
         "percent_change_volume_over_last_wk": 66.17769355,
         "previous_weeks_volume": 80023895,
         "next_weeks_open": "$16.81",
         "next_weeks_close": "$16.58",
         "percent_change_next_weeks_price": -1.36823,
         "days_to_next_dividend": 76,
         "percent_return_next_dividend": 0.179856,
         "_deepnote_index_column": 7
        },
        {
         "quarter": 1,
         "stock": "AA",
         "date": "3/4/2011",
         "open": "$16.81",
         "high": "$16.94",
         "low": "$16.13",
         "close": "$16.58",
         "volume": 109493077,
         "percent_change_price": -1.36823,
         "percent_change_volume_over_last_wk": -17.66315005,
         "previous_weeks_volume": 132981863,
         "next_weeks_open": "$16.58",
         "next_weeks_close": "$16.03",
         "percent_change_next_weeks_price": -3.31725,
         "days_to_next_dividend": 69,
         "percent_return_next_dividend": 0.180941,
         "_deepnote_index_column": 8
        },
        {
         "quarter": 1,
         "stock": "AA",
         "date": "3/11/2011",
         "open": "$16.58",
         "high": "$16.75",
         "low": "$15.42",
         "close": "$16.03",
         "volume": 114332562,
         "percent_change_price": -3.31725,
         "percent_change_volume_over_last_wk": 4.419900447,
         "previous_weeks_volume": 109493077,
         "next_weeks_open": "$15.95",
         "next_weeks_close": "$16.11",
         "percent_change_next_weeks_price": 1.00313,
         "days_to_next_dividend": 62,
         "percent_return_next_dividend": 0.187149,
         "_deepnote_index_column": 9
        }
       ],
       "rows_bottom": null
      },
      "text/plain": "   quarter stock       date    open    high     low   close     volume  \\\n0        1    AA   1/7/2011  $15.82  $16.72  $15.78  $16.42  239655616   \n1        1    AA  1/14/2011  $16.71  $16.71  $15.64  $15.97  242963398   \n2        1    AA  1/21/2011  $16.19  $16.38  $15.60  $15.79  138428495   \n3        1    AA  1/28/2011  $15.87  $16.63  $15.82  $16.13  151379173   \n4        1    AA   2/4/2011  $16.18  $17.39  $16.18  $17.14  154387761   \n5        1    AA  2/11/2011  $17.33  $17.48  $16.97  $17.37  114691279   \n6        1    AA  2/18/2011  $17.39  $17.68  $17.28  $17.28   80023895   \n7        1    AA  2/25/2011  $16.98  $17.15  $15.96  $16.68  132981863   \n8        1    AA   3/4/2011  $16.81  $16.94  $16.13  $16.58  109493077   \n9        1    AA  3/11/2011  $16.58  $16.75  $15.42  $16.03  114332562   \n\n   percent_change_price  percent_change_volume_over_last_wk  \\\n0              3.792670                                 NaN   \n1             -4.428490                            1.380223   \n2             -2.470660                          -43.024959   \n3              1.638310                            9.355500   \n4              5.933250                            1.987452   \n5              0.230814                          -25.712195   \n6             -0.632547                          -30.226696   \n7             -1.766780                           66.177694   \n8             -1.368230                          -17.663150   \n9             -3.317250                            4.419900   \n\n   previous_weeks_volume next_weeks_open next_weeks_close  \\\n0                    NaN          $16.71           $15.97   \n1            239655616.0          $16.19           $15.79   \n2            242963398.0          $15.87           $16.13   \n3            138428495.0          $16.18           $17.14   \n4            151379173.0          $17.33           $17.37   \n5            154387761.0          $17.39           $17.28   \n6            114691279.0          $16.98           $16.68   \n7             80023895.0          $16.81           $16.58   \n8            132981863.0          $16.58           $16.03   \n9            109493077.0          $15.95           $16.11   \n\n   percent_change_next_weeks_price  days_to_next_dividend  \\\n0                        -4.428490                     26   \n1                        -2.470660                     19   \n2                         1.638310                     12   \n3                         5.933250                      5   \n4                         0.230814                     97   \n5                        -0.632547                     90   \n6                        -1.766780                     83   \n7                        -1.368230                     76   \n8                        -3.317250                     69   \n9                         1.003130                     62   \n\n   percent_return_next_dividend  \n0                      0.182704  \n1                      0.187852  \n2                      0.189994  \n3                      0.185989  \n4                      0.175029  \n5                      0.172712  \n6                      0.173611  \n7                      0.179856  \n8                      0.180941  \n9                      0.187149  ",
      "text/html": "<div>\n<style scoped>\n    .dataframe tbody tr th:only-of-type {\n        vertical-align: middle;\n    }\n\n    .dataframe tbody tr th {\n        vertical-align: top;\n    }\n\n    .dataframe thead th {\n        text-align: right;\n    }\n</style>\n<table border=\"1\" class=\"dataframe\">\n  <thead>\n    <tr style=\"text-align: right;\">\n      <th></th>\n      <th>quarter</th>\n      <th>stock</th>\n      <th>date</th>\n      <th>open</th>\n      <th>high</th>\n      <th>low</th>\n      <th>close</th>\n      <th>volume</th>\n      <th>percent_change_price</th>\n      <th>percent_change_volume_over_last_wk</th>\n      <th>previous_weeks_volume</th>\n      <th>next_weeks_open</th>\n      <th>next_weeks_close</th>\n      <th>percent_change_next_weeks_price</th>\n      <th>days_to_next_dividend</th>\n      <th>percent_return_next_dividend</th>\n    </tr>\n  </thead>\n  <tbody>\n    <tr>\n      <th>0</th>\n      <td>1</td>\n      <td>AA</td>\n      <td>1/7/2011</td>\n      <td>$15.82</td>\n      <td>$16.72</td>\n      <td>$15.78</td>\n      <td>$16.42</td>\n      <td>239655616</td>\n      <td>3.792670</td>\n      <td>NaN</td>\n      <td>NaN</td>\n      <td>$16.71</td>\n      <td>$15.97</td>\n      <td>-4.428490</td>\n      <td>26</td>\n      <td>0.182704</td>\n    </tr>\n    <tr>\n      <th>1</th>\n      <td>1</td>\n      <td>AA</td>\n      <td>1/14/2011</td>\n      <td>$16.71</td>\n      <td>$16.71</td>\n      <td>$15.64</td>\n      <td>$15.97</td>\n      <td>242963398</td>\n      <td>-4.428490</td>\n      <td>1.380223</td>\n      <td>239655616.0</td>\n      <td>$16.19</td>\n      <td>$15.79</td>\n      <td>-2.470660</td>\n      <td>19</td>\n      <td>0.187852</td>\n    </tr>\n    <tr>\n      <th>2</th>\n      <td>1</td>\n      <td>AA</td>\n      <td>1/21/2011</td>\n      <td>$16.19</td>\n      <td>$16.38</td>\n      <td>$15.60</td>\n      <td>$15.79</td>\n      <td>138428495</td>\n      <td>-2.470660</td>\n      <td>-43.024959</td>\n      <td>242963398.0</td>\n      <td>$15.87</td>\n      <td>$16.13</td>\n      <td>1.638310</td>\n      <td>12</td>\n      <td>0.189994</td>\n    </tr>\n    <tr>\n      <th>3</th>\n      <td>1</td>\n      <td>AA</td>\n      <td>1/28/2011</td>\n      <td>$15.87</td>\n      <td>$16.63</td>\n      <td>$15.82</td>\n      <td>$16.13</td>\n      <td>151379173</td>\n      <td>1.638310</td>\n      <td>9.355500</td>\n      <td>138428495.0</td>\n      <td>$16.18</td>\n      <td>$17.14</td>\n      <td>5.933250</td>\n      <td>5</td>\n      <td>0.185989</td>\n    </tr>\n    <tr>\n      <th>4</th>\n      <td>1</td>\n      <td>AA</td>\n      <td>2/4/2011</td>\n      <td>$16.18</td>\n      <td>$17.39</td>\n      <td>$16.18</td>\n      <td>$17.14</td>\n      <td>154387761</td>\n      <td>5.933250</td>\n      <td>1.987452</td>\n      <td>151379173.0</td>\n      <td>$17.33</td>\n      <td>$17.37</td>\n      <td>0.230814</td>\n      <td>97</td>\n      <td>0.175029</td>\n    </tr>\n    <tr>\n      <th>5</th>\n      <td>1</td>\n      <td>AA</td>\n      <td>2/11/2011</td>\n      <td>$17.33</td>\n      <td>$17.48</td>\n      <td>$16.97</td>\n      <td>$17.37</td>\n      <td>114691279</td>\n      <td>0.230814</td>\n      <td>-25.712195</td>\n      <td>154387761.0</td>\n      <td>$17.39</td>\n      <td>$17.28</td>\n      <td>-0.632547</td>\n      <td>90</td>\n      <td>0.172712</td>\n    </tr>\n    <tr>\n      <th>6</th>\n      <td>1</td>\n      <td>AA</td>\n      <td>2/18/2011</td>\n      <td>$17.39</td>\n      <td>$17.68</td>\n      <td>$17.28</td>\n      <td>$17.28</td>\n      <td>80023895</td>\n      <td>-0.632547</td>\n      <td>-30.226696</td>\n      <td>114691279.0</td>\n      <td>$16.98</td>\n      <td>$16.68</td>\n      <td>-1.766780</td>\n      <td>83</td>\n      <td>0.173611</td>\n    </tr>\n    <tr>\n      <th>7</th>\n      <td>1</td>\n      <td>AA</td>\n      <td>2/25/2011</td>\n      <td>$16.98</td>\n      <td>$17.15</td>\n      <td>$15.96</td>\n      <td>$16.68</td>\n      <td>132981863</td>\n      <td>-1.766780</td>\n      <td>66.177694</td>\n      <td>80023895.0</td>\n      <td>$16.81</td>\n      <td>$16.58</td>\n      <td>-1.368230</td>\n      <td>76</td>\n      <td>0.179856</td>\n    </tr>\n    <tr>\n      <th>8</th>\n      <td>1</td>\n      <td>AA</td>\n      <td>3/4/2011</td>\n      <td>$16.81</td>\n      <td>$16.94</td>\n      <td>$16.13</td>\n      <td>$16.58</td>\n      <td>109493077</td>\n      <td>-1.368230</td>\n      <td>-17.663150</td>\n      <td>132981863.0</td>\n      <td>$16.58</td>\n      <td>$16.03</td>\n      <td>-3.317250</td>\n      <td>69</td>\n      <td>0.180941</td>\n    </tr>\n    <tr>\n      <th>9</th>\n      <td>1</td>\n      <td>AA</td>\n      <td>3/11/2011</td>\n      <td>$16.58</td>\n      <td>$16.75</td>\n      <td>$15.42</td>\n      <td>$16.03</td>\n      <td>114332562</td>\n      <td>-3.317250</td>\n      <td>4.419900</td>\n      <td>109493077.0</td>\n      <td>$15.95</td>\n      <td>$16.11</td>\n      <td>1.003130</td>\n      <td>62</td>\n      <td>0.187149</td>\n    </tr>\n  </tbody>\n</table>\n</div>"
     },
     "metadata": {}
    }
   ]
  },
  {
   "cell_type": "markdown",
   "source": " - Visualizando o nome das colunas:",
   "metadata": {
    "id": "Jna7T1eqxRmH",
    "cell_id": "00027-ceb0c2b1-767d-4f99-97c1-5160f48fff7e",
    "deepnote_cell_type": "markdown"
   }
  },
  {
   "cell_type": "code",
   "metadata": {
    "id": "bX_7C45pxU8Q",
    "cell_id": "00028-c338f14d-7a21-4a1d-bca6-0f84b1f54a3e",
    "deepnote_to_be_reexecuted": false,
    "source_hash": "588da1e9",
    "execution_start": 1637241931036,
    "execution_millis": 16,
    "deepnote_output_heights": [
     309.20001220703125
    ],
    "deepnote_cell_type": "code"
   },
   "source": "df.columns.to_list()",
   "execution_count": null,
   "outputs": [
    {
     "output_type": "execute_result",
     "execution_count": 9,
     "data": {
      "text/plain": "['quarter',\n 'stock',\n 'date',\n 'open',\n 'high',\n 'low',\n 'close',\n 'volume',\n 'percent_change_price',\n 'percent_change_volume_over_last_wk',\n 'previous_weeks_volume',\n 'next_weeks_open',\n 'next_weeks_close',\n 'percent_change_next_weeks_price',\n 'days_to_next_dividend',\n 'percent_return_next_dividend']"
     },
     "metadata": {}
    }
   ]
  },
  {
   "cell_type": "markdown",
   "source": " - Verificando o número de linhas e colunas.",
   "metadata": {
    "id": "sqLB9abQxbE-",
    "cell_id": "00029-1c171940-5e1d-4e03-83d6-d9972cc1cdd3",
    "deepnote_cell_type": "markdown"
   }
  },
  {
   "cell_type": "code",
   "metadata": {
    "id": "sBrOUuUVxe7A",
    "cell_id": "00030-43338af9-2bc4-4975-bc6f-8135a5f7738b",
    "deepnote_to_be_reexecuted": false,
    "source_hash": "47668c05",
    "execution_start": 1637241940517,
    "execution_millis": 7,
    "deepnote_cell_type": "code"
   },
   "source": "linhas, colunas = df.shape\nprint(f'Número de linhas: {linhas}')\nprint(f'Número de colunas: {colunas}')",
   "execution_count": null,
   "outputs": [
    {
     "name": "stdout",
     "text": "Número de linhas: 750\nNúmero de colunas: 16\n",
     "output_type": "stream"
    }
   ]
  },
  {
   "cell_type": "markdown",
   "source": "Vamos selecionar os valores de abertura, fechamento, máximo e mínimo das ações do McDonalds, listado na Dow Jones como MCD:",
   "metadata": {
    "id": "bSN4zYEKyC7L",
    "cell_id": "00031-1d08a57e-0d15-42f3-a59a-753ef3ca5e34",
    "deepnote_cell_type": "markdown"
   }
  },
  {
   "cell_type": "markdown",
   "source": " - Selecionando as linha do dataframe original `df` em que a coluna `stock` é igual a `MCD`.",
   "metadata": {
    "id": "CyTuPJmgzbZd",
    "cell_id": "00032-ba9d1d7b-a70b-4720-86d9-31d61071a62c",
    "deepnote_cell_type": "markdown"
   }
  },
  {
   "cell_type": "code",
   "metadata": {
    "id": "25XUDMPqqwgH",
    "cell_id": "00033-08734f4c-a1c3-4d79-92ae-b384e3cc2ede",
    "deepnote_to_be_reexecuted": false,
    "source_hash": "7b5ab46",
    "execution_start": 1637241957341,
    "execution_millis": 6,
    "deepnote_cell_type": "code"
   },
   "source": "df_mcd = df[df['stock'] == 'MCD']",
   "execution_count": null,
   "outputs": []
  },
  {
   "cell_type": "markdown",
   "source": " - Selecionando apenas as colunas de data e valores de ações.",
   "metadata": {
    "id": "ga7Z_GA0zxzA",
    "cell_id": "00034-24a43aae-14e7-4aea-a558-1238546e9697",
    "deepnote_cell_type": "markdown"
   }
  },
  {
   "cell_type": "code",
   "metadata": {
    "id": "95LDI4jCrMGI",
    "cell_id": "00035-2422e1c0-bbc5-4b27-b342-4ac98876408b",
    "deepnote_to_be_reexecuted": false,
    "source_hash": "9d6ad9b6",
    "execution_start": 1637241962803,
    "execution_millis": 3,
    "deepnote_cell_type": "code"
   },
   "source": "df_mcd = df_mcd[['date', 'open', 'high', 'low', 'close']]",
   "execution_count": null,
   "outputs": []
  },
  {
   "cell_type": "markdown",
   "source": "Excelente, o problema é que as colunas com os valores possuem o carater `$` e são do tipo texto (`object` no `pandas`).",
   "metadata": {
    "id": "ApnHMNYOyQ8T",
    "cell_id": "00036-040b2280-a59e-4fe3-928e-106346b20aab",
    "deepnote_cell_type": "markdown"
   }
  },
  {
   "cell_type": "code",
   "metadata": {
    "id": "DDZZralSr0Zk",
    "cell_id": "00037-5e65d073-5843-41cd-a80e-d0e4341e4220",
    "deepnote_to_be_reexecuted": false,
    "source_hash": "f1c6bf86",
    "execution_start": 1637241982457,
    "execution_millis": 6,
    "deepnote_cell_type": "code"
   },
   "source": "df_mcd.head(n=10)",
   "execution_count": null,
   "outputs": [
    {
     "output_type": "execute_result",
     "execution_count": 13,
     "data": {
      "application/vnd.deepnote.dataframe.v2+json": {
       "row_count": 10,
       "column_count": 5,
       "columns": [
        {
         "name": "date",
         "dtype": "object",
         "stats": {
          "unique_count": 10,
          "nan_count": 0,
          "categories": [
           {
            "name": "1/7/2011",
            "count": 1
           },
           {
            "name": "1/14/2011",
            "count": 1
           },
           {
            "name": "8 others",
            "count": 8
           }
          ]
         }
        },
        {
         "name": "open",
         "dtype": "object",
         "stats": {
          "unique_count": 9,
          "nan_count": 0,
          "categories": [
           {
            "name": "$74.25",
            "count": 2
           },
           {
            "name": "$77.10",
            "count": 1
           },
           {
            "name": "7 others",
            "count": 7
           }
          ]
         }
        },
        {
         "name": "high",
         "dtype": "object",
         "stats": {
          "unique_count": 9,
          "nan_count": 0,
          "categories": [
           {
            "name": "$76.45",
            "count": 2
           },
           {
            "name": "$77.59",
            "count": 1
           },
           {
            "name": "7 others",
            "count": 7
           }
          ]
         }
        },
        {
         "name": "low",
         "dtype": "object",
         "stats": {
          "unique_count": 10,
          "nan_count": 0,
          "categories": [
           {
            "name": "$73.59",
            "count": 1
           },
           {
            "name": "$72.46",
            "count": 1
           },
           {
            "name": "8 others",
            "count": 8
           }
          ]
         }
        },
        {
         "name": "close",
         "dtype": "object",
         "stats": {
          "unique_count": 10,
          "nan_count": 0,
          "categories": [
           {
            "name": "$74.37",
            "count": 1
           },
           {
            "name": "$74.06",
            "count": 1
           },
           {
            "name": "8 others",
            "count": 8
           }
          ]
         }
        },
        {
         "name": "_deepnote_index_column",
         "dtype": "int64"
        }
       ],
       "rows_top": [
        {
         "date": "1/7/2011",
         "open": "$77.10",
         "high": "$77.59",
         "low": "$73.59",
         "close": "$74.37",
         "_deepnote_index_column": 216
        },
        {
         "date": "1/14/2011",
         "open": "$74.25",
         "high": "$74.49",
         "low": "$72.46",
         "close": "$74.06",
         "_deepnote_index_column": 217
        },
        {
         "date": "1/21/2011",
         "open": "$74.65",
         "high": "$75.75",
         "low": "$74.31",
         "close": "$75.01",
         "_deepnote_index_column": 218
        },
        {
         "date": "1/28/2011",
         "open": "$74.25",
         "high": "$75.85",
         "low": "$73.05",
         "close": "$73.28",
         "_deepnote_index_column": 219
        },
        {
         "date": "2/4/2011",
         "open": "$73.80",
         "high": "$74.50",
         "low": "$73.08",
         "close": "$74.05",
         "_deepnote_index_column": 220
        },
        {
         "date": "2/11/2011",
         "open": "$74.13",
         "high": "$76.32",
         "low": "$73.30",
         "close": "$76.14",
         "_deepnote_index_column": 221
        },
        {
         "date": "2/18/2011",
         "open": "$76.07",
         "high": "$76.45",
         "low": "$75.70",
         "close": "$76.13",
         "_deepnote_index_column": 222
        },
        {
         "date": "2/25/2011",
         "open": "$75.95",
         "high": "$76.45",
         "low": "$74.42",
         "close": "$74.44",
         "_deepnote_index_column": 223
        },
        {
         "date": "3/4/2011",
         "open": "$74.51",
         "high": "$76.63",
         "low": "$73.64",
         "close": "$76.03",
         "_deepnote_index_column": 224
        },
        {
         "date": "3/11/2011",
         "open": "$76.38",
         "high": "$77.25",
         "low": "$74.97",
         "close": "$76.73",
         "_deepnote_index_column": 225
        }
       ],
       "rows_bottom": null
      },
      "text/plain": "          date    open    high     low   close\n216   1/7/2011  $77.10  $77.59  $73.59  $74.37\n217  1/14/2011  $74.25  $74.49  $72.46  $74.06\n218  1/21/2011  $74.65  $75.75  $74.31  $75.01\n219  1/28/2011  $74.25  $75.85  $73.05  $73.28\n220   2/4/2011  $73.80  $74.50  $73.08  $74.05\n221  2/11/2011  $74.13  $76.32  $73.30  $76.14\n222  2/18/2011  $76.07  $76.45  $75.70  $76.13\n223  2/25/2011  $75.95  $76.45  $74.42  $74.44\n224   3/4/2011  $74.51  $76.63  $73.64  $76.03\n225  3/11/2011  $76.38  $77.25  $74.97  $76.73",
      "text/html": "<div>\n<style scoped>\n    .dataframe tbody tr th:only-of-type {\n        vertical-align: middle;\n    }\n\n    .dataframe tbody tr th {\n        vertical-align: top;\n    }\n\n    .dataframe thead th {\n        text-align: right;\n    }\n</style>\n<table border=\"1\" class=\"dataframe\">\n  <thead>\n    <tr style=\"text-align: right;\">\n      <th></th>\n      <th>date</th>\n      <th>open</th>\n      <th>high</th>\n      <th>low</th>\n      <th>close</th>\n    </tr>\n  </thead>\n  <tbody>\n    <tr>\n      <th>216</th>\n      <td>1/7/2011</td>\n      <td>$77.10</td>\n      <td>$77.59</td>\n      <td>$73.59</td>\n      <td>$74.37</td>\n    </tr>\n    <tr>\n      <th>217</th>\n      <td>1/14/2011</td>\n      <td>$74.25</td>\n      <td>$74.49</td>\n      <td>$72.46</td>\n      <td>$74.06</td>\n    </tr>\n    <tr>\n      <th>218</th>\n      <td>1/21/2011</td>\n      <td>$74.65</td>\n      <td>$75.75</td>\n      <td>$74.31</td>\n      <td>$75.01</td>\n    </tr>\n    <tr>\n      <th>219</th>\n      <td>1/28/2011</td>\n      <td>$74.25</td>\n      <td>$75.85</td>\n      <td>$73.05</td>\n      <td>$73.28</td>\n    </tr>\n    <tr>\n      <th>220</th>\n      <td>2/4/2011</td>\n      <td>$73.80</td>\n      <td>$74.50</td>\n      <td>$73.08</td>\n      <td>$74.05</td>\n    </tr>\n    <tr>\n      <th>221</th>\n      <td>2/11/2011</td>\n      <td>$74.13</td>\n      <td>$76.32</td>\n      <td>$73.30</td>\n      <td>$76.14</td>\n    </tr>\n    <tr>\n      <th>222</th>\n      <td>2/18/2011</td>\n      <td>$76.07</td>\n      <td>$76.45</td>\n      <td>$75.70</td>\n      <td>$76.13</td>\n    </tr>\n    <tr>\n      <th>223</th>\n      <td>2/25/2011</td>\n      <td>$75.95</td>\n      <td>$76.45</td>\n      <td>$74.42</td>\n      <td>$74.44</td>\n    </tr>\n    <tr>\n      <th>224</th>\n      <td>3/4/2011</td>\n      <td>$74.51</td>\n      <td>$76.63</td>\n      <td>$73.64</td>\n      <td>$76.03</td>\n    </tr>\n    <tr>\n      <th>225</th>\n      <td>3/11/2011</td>\n      <td>$76.38</td>\n      <td>$77.25</td>\n      <td>$74.97</td>\n      <td>$76.73</td>\n    </tr>\n  </tbody>\n</table>\n</div>"
     },
     "metadata": {}
    }
   ]
  },
  {
   "cell_type": "code",
   "metadata": {
    "id": "8cx7gP6TyjOu",
    "cell_id": "00038-c265ea97-0b87-4107-9373-64b50791b33e",
    "deepnote_to_be_reexecuted": false,
    "source_hash": "1ff6f276",
    "execution_start": 1637241994278,
    "execution_millis": 9,
    "deepnote_output_heights": [
     117.19999694824219
    ],
    "deepnote_cell_type": "code"
   },
   "source": "df_mcd.dtypes",
   "execution_count": null,
   "outputs": [
    {
     "output_type": "execute_result",
     "execution_count": 14,
     "data": {
      "text/plain": "date     object\nopen     object\nhigh     object\nlow      object\nclose    object\ndtype: object"
     },
     "metadata": {}
    }
   ]
  },
  {
   "cell_type": "markdown",
   "source": "Vamos limpar as colunas com o método `apply`, que permite a aplicação de uma função anônima (`lambda`) qualquer. A função `lambda` remove o caracter **$** e faz a conversão do tipo de `str` para `float`.",
   "metadata": {
    "id": "IsSYxtOOys72",
    "cell_id": "00039-36582768-f537-49dc-80b6-4a084ec7c992",
    "deepnote_cell_type": "markdown"
   }
  },
  {
   "cell_type": "code",
   "metadata": {
    "id": "u3OGT0r_sFCJ",
    "cell_id": "00040-b58445e9-1675-4d0d-93e0-01b3c4fdbc9f",
    "deepnote_to_be_reexecuted": false,
    "source_hash": "65dfded8",
    "execution_start": 1637242030734,
    "execution_millis": 5,
    "deepnote_cell_type": "code"
   },
   "source": "for col in ['open', 'high', 'low', 'close']:\n  df_mcd[col] = df_mcd[col].apply(lambda value: float(value.split(sep='$')[-1]))",
   "execution_count": null,
   "outputs": []
  },
  {
   "cell_type": "markdown",
   "source": "Verifique novamente os dados e seus tipos.",
   "metadata": {
    "id": "4xEkH-RdzLUi",
    "cell_id": "00041-90f6bd03-3c65-48ab-8ab7-42ed65a29809",
    "deepnote_cell_type": "markdown"
   }
  },
  {
   "cell_type": "code",
   "metadata": {
    "id": "4w3-4q1gsv3Y",
    "cell_id": "00042-453ccb7d-79ae-4f7e-aa48-8c2b6b5287a3",
    "deepnote_to_be_reexecuted": false,
    "source_hash": "f1c6bf86",
    "execution_start": 1637242035324,
    "execution_millis": 80,
    "deepnote_cell_type": "code"
   },
   "source": "df_mcd.head(n=10)",
   "execution_count": null,
   "outputs": [
    {
     "output_type": "execute_result",
     "execution_count": 16,
     "data": {
      "application/vnd.deepnote.dataframe.v2+json": {
       "row_count": 10,
       "column_count": 5,
       "columns": [
        {
         "name": "date",
         "dtype": "object",
         "stats": {
          "unique_count": 10,
          "nan_count": 0,
          "categories": [
           {
            "name": "1/7/2011",
            "count": 1
           },
           {
            "name": "1/14/2011",
            "count": 1
           },
           {
            "name": "8 others",
            "count": 8
           }
          ]
         }
        },
        {
         "name": "open",
         "dtype": "float64",
         "stats": {
          "unique_count": 9,
          "nan_count": 0,
          "min": "73.8",
          "max": "77.1",
          "histogram": [
           {
            "bin_start": 73.8,
            "bin_end": 74.13,
            "count": 1
           },
           {
            "bin_start": 74.13,
            "bin_end": 74.46,
            "count": 3
           },
           {
            "bin_start": 74.46,
            "bin_end": 74.78999999999999,
            "count": 2
           },
           {
            "bin_start": 74.78999999999999,
            "bin_end": 75.11999999999999,
            "count": 0
           },
           {
            "bin_start": 75.11999999999999,
            "bin_end": 75.44999999999999,
            "count": 0
           },
           {
            "bin_start": 75.44999999999999,
            "bin_end": 75.78,
            "count": 0
           },
           {
            "bin_start": 75.78,
            "bin_end": 76.11,
            "count": 2
           },
           {
            "bin_start": 76.11,
            "bin_end": 76.44,
            "count": 1
           },
           {
            "bin_start": 76.44,
            "bin_end": 76.77,
            "count": 0
           },
           {
            "bin_start": 76.77,
            "bin_end": 77.1,
            "count": 1
           }
          ]
         }
        },
        {
         "name": "high",
         "dtype": "float64",
         "stats": {
          "unique_count": 9,
          "nan_count": 0,
          "min": "74.49",
          "max": "77.59",
          "histogram": [
           {
            "bin_start": 74.49,
            "bin_end": 74.8,
            "count": 2
           },
           {
            "bin_start": 74.8,
            "bin_end": 75.11,
            "count": 0
           },
           {
            "bin_start": 75.11,
            "bin_end": 75.42,
            "count": 0
           },
           {
            "bin_start": 75.42,
            "bin_end": 75.73,
            "count": 0
           },
           {
            "bin_start": 75.73,
            "bin_end": 76.03999999999999,
            "count": 2
           },
           {
            "bin_start": 76.03999999999999,
            "bin_end": 76.35,
            "count": 1
           },
           {
            "bin_start": 76.35,
            "bin_end": 76.66,
            "count": 3
           },
           {
            "bin_start": 76.66,
            "bin_end": 76.97,
            "count": 0
           },
           {
            "bin_start": 76.97,
            "bin_end": 77.28,
            "count": 1
           },
           {
            "bin_start": 77.28,
            "bin_end": 77.59,
            "count": 1
           }
          ]
         }
        },
        {
         "name": "low",
         "dtype": "float64",
         "stats": {
          "unique_count": 10,
          "nan_count": 0,
          "min": "72.46",
          "max": "75.7",
          "histogram": [
           {
            "bin_start": 72.46,
            "bin_end": 72.78399999999999,
            "count": 1
           },
           {
            "bin_start": 72.78399999999999,
            "bin_end": 73.10799999999999,
            "count": 2
           },
           {
            "bin_start": 73.10799999999999,
            "bin_end": 73.432,
            "count": 1
           },
           {
            "bin_start": 73.432,
            "bin_end": 73.756,
            "count": 2
           },
           {
            "bin_start": 73.756,
            "bin_end": 74.08,
            "count": 0
           },
           {
            "bin_start": 74.08,
            "bin_end": 74.404,
            "count": 1
           },
           {
            "bin_start": 74.404,
            "bin_end": 74.728,
            "count": 1
           },
           {
            "bin_start": 74.728,
            "bin_end": 75.052,
            "count": 1
           },
           {
            "bin_start": 75.052,
            "bin_end": 75.376,
            "count": 0
           },
           {
            "bin_start": 75.376,
            "bin_end": 75.7,
            "count": 1
           }
          ]
         }
        },
        {
         "name": "close",
         "dtype": "float64",
         "stats": {
          "unique_count": 10,
          "nan_count": 0,
          "min": "73.28",
          "max": "76.73",
          "histogram": [
           {
            "bin_start": 73.28,
            "bin_end": 73.625,
            "count": 1
           },
           {
            "bin_start": 73.625,
            "bin_end": 73.97,
            "count": 0
           },
           {
            "bin_start": 73.97,
            "bin_end": 74.315,
            "count": 2
           },
           {
            "bin_start": 74.315,
            "bin_end": 74.66,
            "count": 2
           },
           {
            "bin_start": 74.66,
            "bin_end": 75.005,
            "count": 0
           },
           {
            "bin_start": 75.005,
            "bin_end": 75.35000000000001,
            "count": 1
           },
           {
            "bin_start": 75.35000000000001,
            "bin_end": 75.69500000000001,
            "count": 0
           },
           {
            "bin_start": 75.69500000000001,
            "bin_end": 76.04,
            "count": 1
           },
           {
            "bin_start": 76.04,
            "bin_end": 76.385,
            "count": 2
           },
           {
            "bin_start": 76.385,
            "bin_end": 76.73,
            "count": 1
           }
          ]
         }
        },
        {
         "name": "_deepnote_index_column",
         "dtype": "int64"
        }
       ],
       "rows_top": [
        {
         "date": "1/7/2011",
         "open": 77.1,
         "high": 77.59,
         "low": 73.59,
         "close": 74.37,
         "_deepnote_index_column": 216
        },
        {
         "date": "1/14/2011",
         "open": 74.25,
         "high": 74.49,
         "low": 72.46,
         "close": 74.06,
         "_deepnote_index_column": 217
        },
        {
         "date": "1/21/2011",
         "open": 74.65,
         "high": 75.75,
         "low": 74.31,
         "close": 75.01,
         "_deepnote_index_column": 218
        },
        {
         "date": "1/28/2011",
         "open": 74.25,
         "high": 75.85,
         "low": 73.05,
         "close": 73.28,
         "_deepnote_index_column": 219
        },
        {
         "date": "2/4/2011",
         "open": 73.8,
         "high": 74.5,
         "low": 73.08,
         "close": 74.05,
         "_deepnote_index_column": 220
        },
        {
         "date": "2/11/2011",
         "open": 74.13,
         "high": 76.32,
         "low": 73.3,
         "close": 76.14,
         "_deepnote_index_column": 221
        },
        {
         "date": "2/18/2011",
         "open": 76.07,
         "high": 76.45,
         "low": 75.7,
         "close": 76.13,
         "_deepnote_index_column": 222
        },
        {
         "date": "2/25/2011",
         "open": 75.95,
         "high": 76.45,
         "low": 74.42,
         "close": 74.44,
         "_deepnote_index_column": 223
        },
        {
         "date": "3/4/2011",
         "open": 74.51,
         "high": 76.63,
         "low": 73.64,
         "close": 76.03,
         "_deepnote_index_column": 224
        },
        {
         "date": "3/11/2011",
         "open": 76.38,
         "high": 77.25,
         "low": 74.97,
         "close": 76.73,
         "_deepnote_index_column": 225
        }
       ],
       "rows_bottom": null
      },
      "text/plain": "          date   open   high    low  close\n216   1/7/2011  77.10  77.59  73.59  74.37\n217  1/14/2011  74.25  74.49  72.46  74.06\n218  1/21/2011  74.65  75.75  74.31  75.01\n219  1/28/2011  74.25  75.85  73.05  73.28\n220   2/4/2011  73.80  74.50  73.08  74.05\n221  2/11/2011  74.13  76.32  73.30  76.14\n222  2/18/2011  76.07  76.45  75.70  76.13\n223  2/25/2011  75.95  76.45  74.42  74.44\n224   3/4/2011  74.51  76.63  73.64  76.03\n225  3/11/2011  76.38  77.25  74.97  76.73",
      "text/html": "<div>\n<style scoped>\n    .dataframe tbody tr th:only-of-type {\n        vertical-align: middle;\n    }\n\n    .dataframe tbody tr th {\n        vertical-align: top;\n    }\n\n    .dataframe thead th {\n        text-align: right;\n    }\n</style>\n<table border=\"1\" class=\"dataframe\">\n  <thead>\n    <tr style=\"text-align: right;\">\n      <th></th>\n      <th>date</th>\n      <th>open</th>\n      <th>high</th>\n      <th>low</th>\n      <th>close</th>\n    </tr>\n  </thead>\n  <tbody>\n    <tr>\n      <th>216</th>\n      <td>1/7/2011</td>\n      <td>77.10</td>\n      <td>77.59</td>\n      <td>73.59</td>\n      <td>74.37</td>\n    </tr>\n    <tr>\n      <th>217</th>\n      <td>1/14/2011</td>\n      <td>74.25</td>\n      <td>74.49</td>\n      <td>72.46</td>\n      <td>74.06</td>\n    </tr>\n    <tr>\n      <th>218</th>\n      <td>1/21/2011</td>\n      <td>74.65</td>\n      <td>75.75</td>\n      <td>74.31</td>\n      <td>75.01</td>\n    </tr>\n    <tr>\n      <th>219</th>\n      <td>1/28/2011</td>\n      <td>74.25</td>\n      <td>75.85</td>\n      <td>73.05</td>\n      <td>73.28</td>\n    </tr>\n    <tr>\n      <th>220</th>\n      <td>2/4/2011</td>\n      <td>73.80</td>\n      <td>74.50</td>\n      <td>73.08</td>\n      <td>74.05</td>\n    </tr>\n    <tr>\n      <th>221</th>\n      <td>2/11/2011</td>\n      <td>74.13</td>\n      <td>76.32</td>\n      <td>73.30</td>\n      <td>76.14</td>\n    </tr>\n    <tr>\n      <th>222</th>\n      <td>2/18/2011</td>\n      <td>76.07</td>\n      <td>76.45</td>\n      <td>75.70</td>\n      <td>76.13</td>\n    </tr>\n    <tr>\n      <th>223</th>\n      <td>2/25/2011</td>\n      <td>75.95</td>\n      <td>76.45</td>\n      <td>74.42</td>\n      <td>74.44</td>\n    </tr>\n    <tr>\n      <th>224</th>\n      <td>3/4/2011</td>\n      <td>74.51</td>\n      <td>76.63</td>\n      <td>73.64</td>\n      <td>76.03</td>\n    </tr>\n    <tr>\n      <th>225</th>\n      <td>3/11/2011</td>\n      <td>76.38</td>\n      <td>77.25</td>\n      <td>74.97</td>\n      <td>76.73</td>\n    </tr>\n  </tbody>\n</table>\n</div>"
     },
     "metadata": {}
    }
   ]
  },
  {
   "cell_type": "code",
   "metadata": {
    "id": "FDZyy9SVzPoK",
    "cell_id": "00043-5d500357-ca09-4001-9004-5d39e83e03ca",
    "deepnote_to_be_reexecuted": false,
    "source_hash": "1ff6f276",
    "execution_start": 1637242043284,
    "execution_millis": 9,
    "deepnote_output_heights": [
     117.19999694824219
    ],
    "deepnote_cell_type": "code"
   },
   "source": "df_mcd.dtypes",
   "execution_count": null,
   "outputs": [
    {
     "output_type": "execute_result",
     "execution_count": 17,
     "data": {
      "text/plain": "date      object\nopen     float64\nhigh     float64\nlow      float64\nclose    float64\ndtype: object"
     },
     "metadata": {}
    }
   ]
  },
  {
   "cell_type": "markdown",
   "source": "Excelente, agora podemos explorar os dados visualmente.",
   "metadata": {
    "id": "lIzrYVGWkRJ9",
    "cell_id": "00044-6dbbe9cd-a672-4ff5-a1d7-255044d53785",
    "deepnote_cell_type": "markdown"
   }
  },
  {
   "cell_type": "markdown",
   "source": "**Agora é a sua vez!** Conduza o mesmo processo para extrair e tratar os dados da empresa Coca-Cola (`stock` column igual a `KO`).",
   "metadata": {
    "id": "_-TI78q1yuQa",
    "cell_id": "00045-22aeb3e2-0065-42c1-b96d-aa9919f12425",
    "deepnote_cell_type": "markdown"
   }
  },
  {
   "cell_type": "code",
   "metadata": {
    "tags": [],
    "cell_id": "00046-fa0c7d3a-0063-4c82-8137-b34cc4b6f4ac",
    "deepnote_to_be_reexecuted": false,
    "source_hash": "d30ce5dc",
    "execution_start": 1637242693586,
    "execution_millis": 8,
    "deepnote_cell_type": "code"
   },
   "source": "df_aa = df[df['stock'] == 'AA']\ndf_aa = df_aa[['date', 'open', 'high', 'low', 'close']]\nfor col in ['open', 'high', 'low', 'close']:\n    df_aa[col] = df_aa[col].apply(lambda value: float(value.split(sep='$')[-1]))\nprint(df_aa.head)\nprint(df_aa.dtypes)\n",
   "execution_count": null,
   "outputs": [
    {
     "name": "stdout",
     "text": "<bound method NDFrame.head of           date   open   high    low  close\n0     1/7/2011  15.82  16.72  15.78  16.42\n1    1/14/2011  16.71  16.71  15.64  15.97\n2    1/21/2011  16.19  16.38  15.60  15.79\n3    1/28/2011  15.87  16.63  15.82  16.13\n4     2/4/2011  16.18  17.39  16.18  17.14\n5    2/11/2011  17.33  17.48  16.97  17.37\n6    2/18/2011  17.39  17.68  17.28  17.28\n7    2/25/2011  16.98  17.15  15.96  16.68\n8     3/4/2011  16.81  16.94  16.13  16.58\n9    3/11/2011  16.58  16.75  15.42  16.03\n10   3/18/2011  15.95  16.33  15.43  16.11\n11   3/25/2011  16.38  17.24  16.26  17.09\n360   4/1/2011  17.13  17.80  17.02  17.47\n361   4/8/2011  17.42  18.47  17.42  17.92\n362  4/15/2011  18.06  18.19  16.38  16.52\n363  4/21/2011  16.36  16.97  15.88  16.97\n364  4/29/2011  16.94  17.24  16.66  17.00\n365   5/6/2011  17.27  17.96  16.83  17.15\n366  5/13/2011  17.16  17.62  16.75  17.10\n367  5/20/2011  17.00  17.29  16.26  16.26\n368  5/27/2011  15.96  16.48  15.83  16.48\n369   6/3/2011  16.73  16.83  15.77  15.92\n370  6/10/2011  15.92  16.03  15.17  15.28\n371  6/17/2011  15.29  15.50  14.59  14.72\n372  6/24/2011  14.67  15.60  14.56  15.23>\ndate      object\nopen     float64\nhigh     float64\nlow      float64\nclose    float64\ndtype: object\n",
     "output_type": "stream"
    }
   ]
  },
  {
   "cell_type": "code",
   "metadata": {
    "id": "fGbOS3kNzNNF",
    "cell_id": "00046-b39b3986-c826-484b-ba14-8fabab8f6ce0",
    "deepnote_to_be_reexecuted": false,
    "source_hash": "844352c6",
    "execution_start": 1637242329747,
    "execution_millis": 134,
    "deepnote_cell_type": "code"
   },
   "source": "# extração e tratamento dos dados da empresa Coca-Cola.\ndf_ko = df[df['stock'] == 'KO']\ndf_ko = df_ko[['date', 'open', 'high', 'low', 'close']]\nprint(df_ko.head(n=10))\nprint(df_ko.dtypes)\nfor col in ['open', 'high', 'low', 'close']:\n  df_ko[col] = df_ko[col].apply(lambda value: float(value.split(sep='$')[-1]))\nprint(df_ko.head(n=10))\nprint(df_ko.dtypes)\n",
   "execution_count": null,
   "outputs": [
    {
     "name": "stdout",
     "text": "          date    open    high     low   close\n204   1/7/2011  $65.88  $65.88  $62.56  $62.92\n205  1/14/2011  $62.70  $63.86  $62.56  $63.13\n206  1/21/2011  $63.21  $63.92  $62.72  $62.77\n207  1/28/2011  $62.87  $63.31  $62.14  $62.21\n208   2/4/2011  $62.32  $63.48  $61.89  $62.56\n209  2/11/2011  $62.67  $64.75  $62.32  $63.57\n210  2/18/2011  $63.67  $64.72  $62.55  $64.55\n211  2/25/2011  $63.36  $64.40  $63.33  $64.31\n212   3/4/2011  $64.17  $65.87  $63.86  $65.21\n213  3/11/2011  $65.32  $65.84  $64.47  $64.81\ndate     object\nopen     object\nhigh     object\nlow      object\nclose    object\ndtype: object\n          date   open   high    low  close\n204   1/7/2011  65.88  65.88  62.56  62.92\n205  1/14/2011  62.70  63.86  62.56  63.13\n206  1/21/2011  63.21  63.92  62.72  62.77\n207  1/28/2011  62.87  63.31  62.14  62.21\n208   2/4/2011  62.32  63.48  61.89  62.56\n209  2/11/2011  62.67  64.75  62.32  63.57\n210  2/18/2011  63.67  64.72  62.55  64.55\n211  2/25/2011  63.36  64.40  63.33  64.31\n212   3/4/2011  64.17  65.87  63.86  65.21\n213  3/11/2011  65.32  65.84  64.47  64.81\ndate      object\nopen     float64\nhigh     float64\nlow      float64\nclose    float64\ndtype: object\n",
     "output_type": "stream"
    }
   ]
  },
  {
   "cell_type": "code",
   "metadata": {
    "tags": [],
    "cell_id": "00049-1cc7aea1-d727-49e9-ae2f-07a5fa149d31",
    "deepnote_cell_type": "code"
   },
   "source": "",
   "execution_count": null,
   "outputs": []
  },
  {
   "cell_type": "markdown",
   "source": "---",
   "metadata": {
    "id": "AAyOBwWQkRJ-",
    "cell_id": "00047-fb0beea6-f531-41ed-918e-1943c7c3614a",
    "deepnote_cell_type": "markdown"
   }
  },
  {
   "cell_type": "markdown",
   "source": "## 2\\. Seaborn",
   "metadata": {
    "id": "1YCQI-BskR5H",
    "cell_id": "00048-dc9f9c1c-74de-4e5c-860a-65a477de7c2d",
    "deepnote_cell_type": "markdown"
   }
  },
  {
   "cell_type": "markdown",
   "source": "Para visualizar os dados, vamos utilizar o pacote `seaborn` na versão `0.11.1`. A documentação completa por ser encontrada neste [link](https://seaborn.pydata.org/)",
   "metadata": {
    "id": "VSgsKxY4kR5I",
    "cell_id": "00049-fc32454c-786b-4b1a-b00b-7753ad31d3cc",
    "deepnote_cell_type": "markdown"
   }
  },
  {
   "cell_type": "code",
   "metadata": {
    "id": "fYNfn2eDs1MN",
    "cell_id": "00050-742404f5-071c-4c4e-91b6-d305e92e7b86",
    "deepnote_to_be_reexecuted": false,
    "source_hash": "165337d0",
    "execution_start": 1637242714012,
    "execution_millis": 4887,
    "deepnote_cell_type": "code"
   },
   "source": "!pip install seaborn==0.11.1",
   "execution_count": null,
   "outputs": [
    {
     "name": "stdout",
     "text": "Collecting seaborn==0.11.1\n  Downloading seaborn-0.11.1-py3-none-any.whl (285 kB)\n\u001b[K     |████████████████████████████████| 285 kB 13.8 MB/s \n\u001b[?25hRequirement already satisfied: matplotlib>=2.2 in /shared-libs/python3.9/py/lib/python3.9/site-packages (from seaborn==0.11.1) (3.4.3)\nRequirement already satisfied: scipy>=1.0 in /shared-libs/python3.9/py/lib/python3.9/site-packages (from seaborn==0.11.1) (1.7.2)\nRequirement already satisfied: numpy>=1.15 in /shared-libs/python3.9/py/lib/python3.9/site-packages (from seaborn==0.11.1) (1.21.4)\nRequirement already satisfied: pandas>=0.23 in /root/venv/lib/python3.9/site-packages (from seaborn==0.11.1) (1.1.5)\nRequirement already satisfied: kiwisolver>=1.0.1 in /shared-libs/python3.9/py/lib/python3.9/site-packages (from matplotlib>=2.2->seaborn==0.11.1) (1.3.2)\nRequirement already satisfied: pillow>=6.2.0 in /shared-libs/python3.9/py/lib/python3.9/site-packages (from matplotlib>=2.2->seaborn==0.11.1) (8.4.0)\nRequirement already satisfied: pyparsing>=2.2.1 in /shared-libs/python3.9/py-core/lib/python3.9/site-packages (from matplotlib>=2.2->seaborn==0.11.1) (2.4.7)\nRequirement already satisfied: python-dateutil>=2.7 in /shared-libs/python3.9/py-core/lib/python3.9/site-packages (from matplotlib>=2.2->seaborn==0.11.1) (2.8.2)\nRequirement already satisfied: cycler>=0.10 in /shared-libs/python3.9/py/lib/python3.9/site-packages (from matplotlib>=2.2->seaborn==0.11.1) (0.11.0)\nRequirement already satisfied: pytz>=2017.2 in /shared-libs/python3.9/py/lib/python3.9/site-packages (from pandas>=0.23->seaborn==0.11.1) (2021.3)\nRequirement already satisfied: six>=1.5 in /shared-libs/python3.9/py-core/lib/python3.9/site-packages (from python-dateutil>=2.7->matplotlib>=2.2->seaborn==0.11.1) (1.16.0)\nInstalling collected packages: seaborn\n  Attempting uninstall: seaborn\n    Found existing installation: seaborn 0.11.2\n    Not uninstalling seaborn at /shared-libs/python3.9/py/lib/python3.9/site-packages, outside environment /root/venv\n    Can't uninstall 'seaborn'. No files were found to uninstall.\nSuccessfully installed seaborn-0.11.1\n\u001b[33mWARNING: You are using pip version 21.2.3; however, version 21.3.1 is available.\nYou should consider upgrading via the '/root/venv/bin/python -m pip install --upgrade pip' command.\u001b[0m\n",
     "output_type": "stream"
    }
   ]
  },
  {
   "cell_type": "markdown",
   "source": "Vamos importar o pacote com o apelido (alias) `sns`.",
   "metadata": {
    "id": "DtuGrHyQ0CJ-",
    "cell_id": "00051-8c8c0103-8599-421c-afc0-29bac84cbf49",
    "deepnote_cell_type": "markdown"
   }
  },
  {
   "cell_type": "code",
   "metadata": {
    "id": "fAeWYQjis8E5",
    "cell_id": "00052-609b544f-d9e1-4c11-8c7b-603c45de1406",
    "deepnote_to_be_reexecuted": false,
    "source_hash": "c9d2f67b",
    "execution_start": 1637242723694,
    "execution_millis": 2335,
    "deepnote_cell_type": "code"
   },
   "source": "import seaborn as sns",
   "execution_count": null,
   "outputs": []
  },
  {
   "cell_type": "markdown",
   "source": "Vamos visualizar o os valores de abertura das ações ao longo do tempo.",
   "metadata": {
    "id": "TqYmOY1m0Eh3",
    "cell_id": "00053-920a1c2d-1c80-4d8c-9b18-e924e24390f5",
    "deepnote_cell_type": "markdown"
   }
  },
  {
   "cell_type": "code",
   "metadata": {
    "id": "7-5D1wKcwAuO",
    "cell_id": "00054-5b05f86c-e8cb-44c2-8e37-68160ad09c7e",
    "deepnote_to_be_reexecuted": false,
    "source_hash": "86ec2b37",
    "execution_start": 1637242735250,
    "execution_millis": 499,
    "deepnote_output_heights": [
     null,
     306
    ],
    "deepnote_cell_type": "code"
   },
   "source": "plot = sns.lineplot(x=\"date\", y=\"open\", data=df_mcd)\n_ = plot.set_xticklabels(labels=df_mcd['date'], rotation=90)",
   "execution_count": null,
   "outputs": [
    {
     "name": "stderr",
     "text": "<ipython-input-28-533bf4eae097>:2: UserWarning: FixedFormatter should only be used together with FixedLocator\n  _ = plot.set_xticklabels(labels=df_mcd['date'], rotation=90)\n",
     "output_type": "stream"
    },
    {
     "data": {
      "text/plain": "<Figure size 432x288 with 1 Axes>",
      "image/png": "[encoded data removed]"
     },
     "metadata": {
      "needs_background": "light",
      "image/png": {
       "width": 382,
       "height": 304
      }
     },
     "output_type": "display_data"
    }
   ]
  },
  {
   "cell_type": "markdown",
   "source": "Vamos também visualizar o os valores de fechamento das ações ao longo do tempo.",
   "metadata": {
    "id": "gh5Fz23t0MA-",
    "cell_id": "00055-e17231f0-35c6-44e6-afe6-c48e5ce80f56",
    "deepnote_cell_type": "markdown"
   }
  },
  {
   "cell_type": "code",
   "metadata": {
    "id": "5QARzs47wP_O",
    "cell_id": "00056-194675d7-710f-4b69-a9fc-8c62659e54eb",
    "deepnote_to_be_reexecuted": false,
    "source_hash": "d4b21589",
    "execution_start": 1637242750577,
    "execution_millis": 437,
    "deepnote_output_heights": [
     null,
     306
    ],
    "deepnote_cell_type": "code"
   },
   "source": "plot = sns.lineplot(x=\"date\", y=\"close\", data=df_mcd)\n_ = plot.set_xticklabels(labels=df_mcd['date'], rotation=90)",
   "execution_count": null,
   "outputs": [
    {
     "name": "stderr",
     "text": "<ipython-input-29-1af5daa54bb0>:2: UserWarning: FixedFormatter should only be used together with FixedLocator\n  _ = plot.set_xticklabels(labels=df_mcd['date'], rotation=90)\n",
     "output_type": "stream"
    },
    {
     "data": {
      "text/plain": "<Figure size 432x288 with 1 Axes>",
      "image/png": "[encoded data removed]"
     },
     "metadata": {
      "needs_background": "light",
      "image/png": {
       "width": 382,
       "height": 304
      }
     },
     "output_type": "display_data"
    }
   ]
  },
  {
   "cell_type": "markdown",
   "source": "Para facilitar a comparação, vamo visualizar os quatro valores no mesmo gráfico.",
   "metadata": {
    "id": "08BOzhId0TfH",
    "cell_id": "00057-5b33a4c7-ecc6-4f42-8fa9-86d96258df7a",
    "deepnote_cell_type": "markdown"
   }
  },
  {
   "cell_type": "code",
   "metadata": {
    "id": "boKoMZbXtAJV",
    "cell_id": "00058-c15f8350-4e71-4e0a-8ef5-a55ea10c00a0",
    "deepnote_to_be_reexecuted": false,
    "source_hash": "5089dae3",
    "execution_start": 1637242759038,
    "execution_millis": 592,
    "deepnote_output_heights": [
     null,
     306
    ],
    "deepnote_cell_type": "code"
   },
   "source": "plot = sns.lineplot(x=\"date\", y=\"value\", hue='variable', data=pd.melt(df_mcd, ['date']))\n_ = plot.set_xticklabels(labels=df_mcd['date'], rotation=90)",
   "execution_count": null,
   "outputs": [
    {
     "name": "stderr",
     "text": "<ipython-input-30-754274876e32>:2: UserWarning: FixedFormatter should only be used together with FixedLocator\n  _ = plot.set_xticklabels(labels=df_mcd['date'], rotation=90)\n",
     "output_type": "stream"
    },
    {
     "data": {
      "text/plain": "<Figure size 432x288 with 1 Axes>",
      "image/png": "[encoded data removed]"
     },
     "metadata": {
      "needs_background": "light",
      "image/png": {
       "width": 382,
       "height": 304
      }
     },
     "output_type": "display_data"
    }
   ]
  },
  {
   "cell_type": "markdown",
   "source": "Para finalizar, vamos salvar o gráfico numa figura.",
   "metadata": {
    "id": "H6nM4hJQ1mnb",
    "cell_id": "00059-3b3109c4-6917-4cea-b6f1-9e9483bd504a",
    "deepnote_cell_type": "markdown"
   }
  },
  {
   "cell_type": "code",
   "metadata": {
    "id": "I7Wncbvd1lzE",
    "cell_id": "00060-982f11aa-162f-4979-a835-ce56d9edeb6f",
    "deepnote_to_be_reexecuted": false,
    "source_hash": "a64eb427",
    "execution_start": 1637242768108,
    "execution_millis": 976,
    "deepnote_cell_type": "code"
   },
   "source": "plot.figure.savefig(\"./mcd.png\")",
   "execution_count": null,
   "outputs": []
  },
  {
   "cell_type": "markdown",
   "source": "**Agora é a sua vez,** faça o gráfico acima para a empresa Coca-Cola e salve a imagem com o nome `ko.png`.",
   "metadata": {
    "id": "4mJNcUM7kR5J",
    "cell_id": "00061-6ecf8daa-fded-4c48-8ea7-4cb14e1e3e08",
    "deepnote_cell_type": "markdown"
   }
  },
  {
   "cell_type": "code",
   "metadata": {
    "id": "0S_xMlt_zjwV",
    "cell_id": "00062-b347e86c-17b3-4ccc-8c4d-caa6bd020722",
    "deepnote_to_be_reexecuted": false,
    "source_hash": "a2bd71d8",
    "execution_start": 1637243091188,
    "execution_millis": 596,
    "deepnote_output_heights": [
     null,
     306
    ],
    "deepnote_cell_type": "code"
   },
   "source": "# visualização dos dados da Coca-Cola.\nplot = sns.lineplot(\n    x='date', \n    y = 'value',\n    hue = 'variable',\n    data = pd.melt(df_ko, ['date'])\n) \n\n_ = plot.set_xticklabels(\n    labels = df_ko['date'],\n    rotation = 90\n)",
   "execution_count": null,
   "outputs": [
    {
     "name": "stderr",
     "text": "<ipython-input-34-f3c65b4e5b8a>:9: UserWarning: FixedFormatter should only be used together with FixedLocator\n  _ = plot.set_xticklabels(\n",
     "output_type": "stream"
    },
    {
     "data": {
      "text/plain": "<Figure size 432x288 with 1 Axes>",
      "image/png": "[encoded data removed]"
     },
     "metadata": {
      "needs_background": "light",
      "image/png": {
       "width": 382,
       "height": 304
      }
     },
     "output_type": "display_data"
    }
   ]
  },
  {
   "cell_type": "markdown",
   "source": "Analise as duas imagens e escreva pelo menos um *insight* que você consegue extrair dos dados. Fique a vontade para escrever quantos *insights* você quiser.",
   "metadata": {
    "id": "fYM0WRi0zoQx",
    "cell_id": "00063-23b1f3c5-3e05-40c7-a613-7d35275f4bb0",
    "deepnote_cell_type": "markdown"
   }
  },
  {
   "cell_type": "markdown",
   "source": "- **Insight #1**: A oscilação entre as máximas e as mínimas parece ser maior nas ações do McDonald's do que nas ações da Coca-Cola.\n- **Insight #2**: Durante os meses de abril e maio de 2011, as ações do McDonald's tiveram uma valorização bem forte, mas espaçada. As ações da Coca tiveram uma rápida valorização no final de março e início de abril do mesmo ano.\n- **Insight #3**: A variação das ações do McDonald's (61-69) foi inferior à variação das ações da Coca (72 a 82)\n",
   "metadata": {
    "id": "xGcI2Yl-0xBY",
    "cell_id": "00064-60ea82a4-afc6-45ec-9782-b0299badabab",
    "deepnote_cell_type": "markdown"
   }
  },
  {
   "cell_type": "markdown",
   "source": "---",
   "metadata": {
    "id": "8Ubx9z_NkR5K",
    "cell_id": "00065-600aa17b-799f-459e-af33-e328b3b16f72",
    "deepnote_cell_type": "markdown"
   }
  },
  {
   "cell_type": "markdown",
   "source": "<a style='text-decoration:none;line-height:16px;display:flex;color:#5B5B62;padding:10px;justify-content:end;' href='https://deepnote.com?utm_source=created-in-deepnote-cell&projectId=7bc88e6b-e21c-42d6-a070-b420cc720827' target=\"_blank\">\n<img alt='Created in deepnote.com' style='display:inline;max-height:16px;margin:0px;margin-right:7.5px;' src='data:image/svg+xml;base64,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' > </img>\nCreated in <span style='font-weight:600;margin-left:4px;'>Deepnote</span></a>",
   "metadata": {
    "tags": [],
    "created_in_deepnote_cell": true,
    "deepnote_cell_type": "markdown"
   }
  }
 ],
 "nbformat": 4,
 "nbformat_minor": 0,
 "metadata": {
  "colab": {
   "name": "module_7_exercise.ipynb",
   "provenance": [],
   "collapsed_sections": [],
   "toc_visible": true
  },
  "kernelspec": {
   "name": "python3",
   "display_name": "Python 3"
  },
  "deepnote_notebook_id": "83bf8da0-8c3b-4ff5-9592-af9e04323ba9",
  "deepnote": {},
  "deepnote_execution_queue": []
 }
}