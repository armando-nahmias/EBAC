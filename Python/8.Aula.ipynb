{
 "cells": [
  {
   "cell_type": "markdown",
   "source": "<img src=\"https://raw.githubusercontent.com/andre-marcos-perez/ebac-course-utils/main/media/logo/newebac_logo_black_half.png\" alt=\"ebac-logo\">\n\n---\n\n# **Módulo** | Python: Tratamento de Erros\nCaderno de **Aula**<br> \nProfessor [André Perez](https://www.linkedin.com/in/andremarcosperez/)\n\n---",
   "metadata": {
    "id": "KJqp9AANOCtf",
    "cell_id": "00000-fcc7414a-3679-4d0d-9908-5182c01431d1",
    "deepnote_cell_type": "markdown"
   }
  },
  {
   "cell_type": "markdown",
   "source": "# **Tópicos**\n\n<ol type=\"1\">\n  <li>Tipos de erros;</li>\n  <li>Erros de sintaxe;</li>\n  <li>Erros em tempo de execução.</li>\n</ol>",
   "metadata": {
    "id": "d9jDtUbDOE1-",
    "cell_id": "00001-f5c1164d-5e27-4758-bee8-1ad7a09a470a",
    "deepnote_cell_type": "markdown"
   }
  },
  {
   "cell_type": "markdown",
   "source": "---",
   "metadata": {
    "id": "SmoHgt-lwkpD",
    "cell_id": "00002-aa49b372-ba05-4a57-b0e8-79d1716bdfed",
    "deepnote_cell_type": "markdown"
   }
  },
  {
   "cell_type": "markdown",
   "source": "# **Aulas**",
   "metadata": {
    "id": "GABI6OW8OfQ2",
    "cell_id": "00003-8b08877e-44b5-4f37-87d6-3346dac53dc6",
    "deepnote_cell_type": "markdown"
   }
  },
  {
   "cell_type": "markdown",
   "source": "## 1\\. Tipos de erros",
   "metadata": {
    "id": "muD1vxozykSC",
    "cell_id": "00004-09b09876-e392-4d18-8d20-89edc8752fe8",
    "deepnote_cell_type": "markdown"
   }
  },
  {
   "cell_type": "markdown",
   "source": "### **1.1. Definição** ",
   "metadata": {
    "id": "E6D5rjlESJ1A",
    "cell_id": "00005-916f364d-a1e6-42d9-a7f9-6a293019dc52",
    "deepnote_cell_type": "markdown"
   }
  },
  {
   "cell_type": "markdown",
   "source": " - **Erros de sintaxe**: erros que ocorrem durante a escrita do código.",
   "metadata": {
    "id": "shP6hHQDhjWb",
    "cell_id": "00006-1f823ca0-6766-41c9-bdb3-36b5ada105f0",
    "deepnote_cell_type": "markdown"
   }
  },
  {
   "cell_type": "code",
   "metadata": {
    "id": "4Uf_FRiDnBGu",
    "cell_id": "00007-0449cc04-d7f1-4c65-a4d6-6532378fd256",
    "deepnote_cell_type": "code"
   },
   "source": "idade = 19\n\nif idade > 18\n  return True",
   "execution_count": null,
   "outputs": []
  },
  {
   "cell_type": "markdown",
   "source": " - **Erros em tempo de execução**: erros que ocorrem durante a execução do código.",
   "metadata": {
    "id": "iAEv8XTbqJJD",
    "cell_id": "00008-88b5f4a5-fae7-40a5-a256-8190ae17398c",
    "deepnote_cell_type": "markdown"
   }
  },
  {
   "cell_type": "markdown",
   "source": "Erros de uso incorreto de tipos de dados.",
   "metadata": {
    "id": "6hMXNDbxqQLm",
    "cell_id": "00009-402e310d-1f29-4a75-a866-ebb64d5823be",
    "deepnote_cell_type": "markdown"
   }
  },
  {
   "cell_type": "code",
   "metadata": {
    "id": "pp7zf0LZh3qc",
    "cell_id": "00010-3bc4c928-07a0-4b84-84b0-45637c84cdfb",
    "deepnote_cell_type": "code"
   },
   "source": "print(1/0)",
   "execution_count": null,
   "outputs": []
  },
  {
   "cell_type": "markdown",
   "source": "Erros de lógica.",
   "metadata": {
    "id": "YDUpNpizqVYi",
    "cell_id": "00011-64adb774-0aa5-4bb5-8cd6-59dedf837354",
    "deepnote_cell_type": "markdown"
   }
  },
  {
   "cell_type": "code",
   "metadata": {
    "id": "B_B8h-JoqeVB",
    "cell_id": "00012-24be060f-e036-4fd6-afa5-419d15050cef",
    "deepnote_cell_type": "code"
   },
   "source": "i = 0\nwhile True:\n  ... # bloco de código\n  i += 1\n  if i > 10:\n    break",
   "execution_count": null,
   "outputs": []
  },
  {
   "cell_type": "markdown",
   "source": "## 2\\. Erros de sintaxe",
   "metadata": {
    "id": "4rRCvy_UURrM",
    "cell_id": "00013-6f454adb-7935-414f-a887-010cfc883530",
    "deepnote_cell_type": "markdown"
   }
  },
  {
   "cell_type": "markdown",
   "source": "### **2.1. Definição** ",
   "metadata": {
    "id": "cOZDKbe6URrb",
    "cell_id": "00014-a7f4e335-2f69-4c8a-8fce-ac0e419985da",
    "deepnote_cell_type": "markdown"
   }
  },
  {
   "cell_type": "markdown",
   "source": "São erros que ocorrem durante a escrita do código. O trecho do código **não é** executado.",
   "metadata": {
    "id": "uKn9kMbENShL",
    "cell_id": "00015-884789f5-ac8e-4cbe-9805-c0f4944b8923",
    "deepnote_cell_type": "markdown"
   }
  },
  {
   "cell_type": "code",
   "metadata": {
    "id": "lTXnq6g7ONuL",
    "cell_id": "00016-79bcd5fc-c439-46b8-b7af-2a8a62b1041e",
    "deepnote_cell_type": "code"
   },
   "source": "carrinho_compras = [{'id': 3184, 'preco': 37.65, 'qtd': 10}, {'id': 1203, 'preco': 81.20, 'qtd': 2}, {'id': 8921, 'preco': 15.90, 'qtd': 2}]",
   "execution_count": null,
   "outputs": []
  },
  {
   "cell_type": "markdown",
   "source": "**Exemplo**: Esquecer o 'dois pontos' `:` no final de estruturas de condição, repetição, etc.",
   "metadata": {
    "id": "UmVLiaQsN_Zp",
    "cell_id": "00017-b1f6eaa6-7b48-4ec5-aa3c-3f1e2c386901",
    "deepnote_cell_type": "markdown"
   }
  },
  {
   "cell_type": "code",
   "metadata": {
    "id": "vE8TMx-sOu2p",
    "cell_id": "00018-4e00b872-e2dc-4bb3-8b44-5cc667df4f40",
    "deepnote_cell_type": "code"
   },
   "source": "for produto in carrinho_compras\n  ...",
   "execution_count": null,
   "outputs": []
  },
  {
   "cell_type": "markdown",
   "source": "**Exemplo**: Condição lógica no `else` da estrutura de decisão `if-elif-else`.",
   "metadata": {
    "id": "oQp56cFhNcT_",
    "cell_id": "00019-88de122c-eebe-40f7-a861-24c0d65e5ee5",
    "deepnote_cell_type": "markdown"
   }
  },
  {
   "cell_type": "code",
   "metadata": {
    "id": "SGumoycvN9z-",
    "cell_id": "00020-1bd84f9f-8378-45d6-8073-79682654a50a",
    "deepnote_cell_type": "code"
   },
   "source": "for produto in carrinho_compras:\n  if produto['id'] == 3184:\n    ...\n  else produto['id'] == 1203:\n    ...",
   "execution_count": null,
   "outputs": []
  },
  {
   "cell_type": "markdown",
   "source": "### **2.2. Manipulação** ",
   "metadata": {
    "id": "5q6xcwOWURrc",
    "cell_id": "00021-aed8a8b4-5e50-404f-8618-d5ecf944914b",
    "deepnote_cell_type": "markdown"
   }
  },
  {
   "cell_type": "markdown",
   "source": "## 3\\. Erros em tempo de execução",
   "metadata": {
    "id": "ELgoMRAAUSjv",
    "cell_id": "00022-5e32b2d4-97aa-4efd-8111-37ed437e7a0a",
    "deepnote_cell_type": "markdown"
   }
  },
  {
   "cell_type": "markdown",
   "source": "### **3.1. Motivação** ",
   "metadata": {
    "id": "CuLkQY76USjw",
    "cell_id": "00023-9880ec48-ce44-4e1a-b7c9-73089bc6fccf",
    "deepnote_cell_type": "markdown"
   }
  },
  {
   "cell_type": "markdown",
   "source": "Você trabalha como analista de dados em uma empresa de telecomunicações. Você precisa fazer uma análise para o time de vendas do quanto a empresa vai receber este mês. Diariamente você recebe do time de engenharia os dados.",
   "metadata": {
    "id": "uL8oZfAseZ1d",
    "cell_id": "00024-fcdf0cb1-2539-4abd-ba34-6576d031653e",
    "deepnote_cell_type": "markdown"
   }
  },
  {
   "cell_type": "code",
   "metadata": {
    "id": "RxdmJ-rMeUYe",
    "cell_id": "00025-9d990408-b634-480e-a727-4ed4efdd17f8",
    "deepnote_cell_type": "code"
   },
   "source": "%%writefile telecom.csv\ncustomerID,PaymentMethod,MonthlyCharges,TotalCharges,Churn\n7010-BRBUU,Credit card (automatic),24.1,1734.65,No\n9688-YGXVR,Credit card (automatic),88.15,3973.2,No\n9286-DOJGF,Bank transfer (automatic),74.95,2869.85,Yes\n6994-KERXL,Electronic check,55.9,238.5,No\n2181-UAESM,Electronic check,53.45,119.5,No\n4312-GVYNH,Bank transfer (automatic),49.85,3370.2,No\n2495-KZNFB,Electronic check,90.65,2989.6,No\n4367-NHWMM,Mailed check,24.9,24.9,No\n8898-KASCD,Mailed check,35.55,1309.15,No",
   "execution_count": null,
   "outputs": []
  },
  {
   "cell_type": "code",
   "metadata": {
    "id": "wqjJOksXfV_Q",
    "cell_id": "00026-8b8818af-e64f-4b96-bc97-f26c5bb2d4d2",
    "deepnote_cell_type": "code"
   },
   "source": "from functools import reduce\n\ndef processar_faturas(nome_arquivo: str):\n\n  faturas = []\n\n  with open(file=nome_arquivo, mode='r', encoding='utf8') as arquivo:\n    linha = arquivo.readline()\n    linha = arquivo.readline()\n    while linha:\n      fatura = float(linha.strip().split(sep=',')[-3])\n      faturas.append(fatura)\n      linha = arquivo.readline()\n\n  total_a_pagar = reduce(lambda x, y: x + y, faturas)\n  total_a_pagar = round(total_a_pagar, 2)\n\n  return total_a_pagar",
   "execution_count": null,
   "outputs": []
  },
  {
   "cell_type": "code",
   "metadata": {
    "id": "CbUyxRG7gBaY",
    "cell_id": "00027-a54dcf5b-1fd4-4c68-8474-66d4f6b0cff4",
    "deepnote_cell_type": "code"
   },
   "source": "total_a_pagar = processar_faturas(nome_arquivo='./telecom.csv')\nprint(total_a_pagar)",
   "execution_count": null,
   "outputs": []
  },
  {
   "cell_type": "markdown",
   "source": "Em um certo dia, você recebe uma base de dados com a coluna de faturas trocada pela de meios de pagamento.",
   "metadata": {
    "id": "wWph8dxKiwdj",
    "cell_id": "00028-199d3a4c-fb80-414c-a6c3-7197206e4b61",
    "deepnote_cell_type": "markdown"
   }
  },
  {
   "cell_type": "code",
   "metadata": {
    "id": "b953SJgdi7b3",
    "cell_id": "00029-7dc06e88-db3b-4a27-9fb1-dfd7da737782",
    "deepnote_cell_type": "code"
   },
   "source": "%%writefile telecom.csv\ncustomerID,MonthlyCharges,PaymentMethod,TotalCharges,Churn\n7010-BRBUU,24.1,Credit card (automatic),1734.65,No\n9688-YGXVR,88.15,Credit card (automatic),3973.2,No\n9286-DOJGF,74.95,Bank transfer (automatic),2869.85,Yes\n6994-KERXL,55.9,Electronic check,238.5,No\n2181-UAESM,53.45,Electronic check,119.5,No\n4312-GVYNH,49.85,Bank transfer (automatic),3370.2,No\n2495-KZNFB,90.65,Electronic check,2989.6,No\n4367-NHWMM,24.9,Mailed check,24.9,No\n8898-KASCD,35.55,Mailed check,1309.15,No",
   "execution_count": null,
   "outputs": []
  },
  {
   "cell_type": "markdown",
   "source": "### **3.2. Definição** ",
   "metadata": {
    "id": "JENLdmHkUSjx",
    "cell_id": "00030-436d9335-abc4-4f92-a832-10f859b6cdfc",
    "deepnote_cell_type": "markdown"
   }
  },
  {
   "cell_type": "markdown",
   "source": "São erros que ocorrem durante a execução do código. O trecho do código **é** executado até o erro 'estourar'.",
   "metadata": {
    "id": "D-chyvD3Tm7F",
    "cell_id": "00031-2393708d-ec8a-4b3d-aabc-ee911a827597",
    "deepnote_cell_type": "markdown"
   }
  },
  {
   "cell_type": "markdown",
   "source": "Erros por uso incorreto de tipos de dados. 'Estoura' exceção. Podem ser manipulados ou passados para frente (`raise`).",
   "metadata": {
    "id": "mywVr5t8T60j",
    "cell_id": "00032-1b69cc22-4384-4a18-a7fd-ee9cb62b55c7",
    "deepnote_cell_type": "markdown"
   }
  },
  {
   "cell_type": "markdown",
   "source": " - **Exemplo**: Erro de operações numéricas impossíveis",
   "metadata": {
    "id": "0je_kLq_myEV",
    "cell_id": "00033-14654979-e19f-491a-b37e-a3994edca8c3",
    "deepnote_cell_type": "markdown"
   }
  },
  {
   "cell_type": "code",
   "metadata": {
    "id": "2yXpo2dfmm1T",
    "cell_id": "00034-b66b9a0f-9f60-4c8d-ab86-001ed3ac0ce8",
    "deepnote_cell_type": "code"
   },
   "source": "preco = 132.85\npessoas = 0",
   "execution_count": null,
   "outputs": []
  },
  {
   "cell_type": "code",
   "metadata": {
    "id": "LsrxSe--nI6b",
    "cell_id": "00035-0c40157f-3de7-4d58-8caf-77324448066f",
    "deepnote_cell_type": "code"
   },
   "source": "valor_por_pessoa = preco / pessoas",
   "execution_count": null,
   "outputs": []
  },
  {
   "cell_type": "markdown",
   "source": " - **Exemplo**: Erro por combinações de tipos diferentes",
   "metadata": {
    "id": "paZfxkVzm3gW",
    "cell_id": "00036-f147c91b-caea-48c5-b2f1-fa318404612b",
    "deepnote_cell_type": "markdown"
   }
  },
  {
   "cell_type": "code",
   "metadata": {
    "id": "rrlR9Xv6nErH",
    "cell_id": "00037-a62689a2-6f39-45bf-8043-844b4098f8e1",
    "deepnote_cell_type": "code"
   },
   "source": "nome = 'Andre Perez'\nidade = True",
   "execution_count": null,
   "outputs": []
  },
  {
   "cell_type": "code",
   "metadata": {
    "id": "IT3ySwYxnX0j",
    "cell_id": "00038-90bfa5a9-159e-442e-908b-0d8376a9af95",
    "deepnote_cell_type": "code"
   },
   "source": "apresentacao = 'Fala pessoal, meu nome é ' + nome + ' e eu tenho ' + idade + ' anos'",
   "execution_count": null,
   "outputs": []
  },
  {
   "cell_type": "markdown",
   "source": " - **Exemplo**: Erro de indexação de estrutura de dados",
   "metadata": {
    "id": "PdIsskJNnors",
    "cell_id": "00039-d14795ab-be97-46ad-b43b-1a9c4a23ead0",
    "deepnote_cell_type": "markdown"
   }
  },
  {
   "cell_type": "code",
   "metadata": {
    "id": "AL0YPYtqntUc",
    "cell_id": "00040-2cec96a8-4200-4df0-96d7-184bf96f88f6",
    "deepnote_cell_type": "code"
   },
   "source": "anos = [2019, 2020, 2021]",
   "execution_count": null,
   "outputs": []
  },
  {
   "cell_type": "code",
   "metadata": {
    "id": "1mksjF3inyub",
    "cell_id": "00041-8ce3d10d-c41e-444f-85c6-5e836062db5a",
    "deepnote_cell_type": "code"
   },
   "source": "ano_atual = anos[3]\nprint(ano_atual)",
   "execution_count": null,
   "outputs": []
  },
  {
   "cell_type": "code",
   "metadata": {
    "id": "RhjOE1jCn4ZA",
    "cell_id": "00042-30704777-c497-454c-98aa-18b393f3625e",
    "deepnote_cell_type": "code"
   },
   "source": "cursos = {\n    'python': {\n        'nome': 'Python para Análise de Dados', 'duracao': 2.5\n    }, \n    'sql': {\n        'nome': 'SQL para Análise de Dados', 'duracao': 2\n    }\n}",
   "execution_count": null,
   "outputs": []
  },
  {
   "cell_type": "code",
   "metadata": {
    "id": "hUl1PmAAoSqt",
    "cell_id": "00043-a3a678a4-4f41-4c5c-8c87-c5bece920098",
    "deepnote_cell_type": "code"
   },
   "source": "curso_atual = cursos['python']\nprint(curso_atual)",
   "execution_count": null,
   "outputs": []
  },
  {
   "cell_type": "code",
   "metadata": {
    "id": "z0enseDOV3a0",
    "cell_id": "00044-c2c75684-f8ac-4399-84dd-20cb17a85f2b",
    "deepnote_cell_type": "code"
   },
   "source": "curso_atual = cursos['sql']\nprint(curso_atual)",
   "execution_count": null,
   "outputs": []
  },
  {
   "cell_type": "code",
   "metadata": {
    "id": "n1-UUc0DV9BZ",
    "cell_id": "00045-e28aa759-b9bf-4d84-947a-539ca7be8257",
    "deepnote_cell_type": "code"
   },
   "source": "curso_atual = cursos['analista']\nprint(curso_atual)",
   "execution_count": null,
   "outputs": []
  },
  {
   "cell_type": "markdown",
   "source": "**Erros de lógica**. Não 'estoura' exceção. A melhor forma de analise é usar a função `print` para verificar resultados intermediários.",
   "metadata": {
    "id": "-NgAOdWLU3LC",
    "cell_id": "00046-558b227c-9fc9-415b-9711-3b10f84e3d0d",
    "deepnote_cell_type": "markdown"
   }
  },
  {
   "cell_type": "markdown",
   "source": "   * **Exemplo**: Loops infinitos.\n",
   "metadata": {
    "id": "Gjkc5K0jU6zR",
    "cell_id": "00047-c9dba9c6-6307-413a-a67c-cdb1b34c2a0d",
    "deepnote_cell_type": "markdown"
   }
  },
  {
   "cell_type": "code",
   "metadata": {
    "id": "XpKYdnYtXr8g",
    "cell_id": "00048-8eef18c8-6463-4f0e-a347-e68aaab04706",
    "deepnote_cell_type": "code"
   },
   "source": "controle = 0\nwhile True:\n  ...\n  controle += 1\n  if controle > 10:\n    break",
   "execution_count": null,
   "outputs": []
  },
  {
   "cell_type": "code",
   "metadata": {
    "id": "FHQCpKBlUUoX",
    "cell_id": "00049-6ce9e9a2-f380-437d-8fe9-5c13dddcc09f",
    "deepnote_cell_type": "code"
   },
   "source": "s = []\nwhile True:\n  s = s + (['CURSO DE PYTHON PARA ANALISE DE DADOS DA EBAC'] * (1000 * 1000 * 1000))",
   "execution_count": null,
   "outputs": []
  },
  {
   "cell_type": "markdown",
   "source": " - **Exemplo**: Limites de coleções.",
   "metadata": {
    "id": "7YZV1tgvXaTI",
    "cell_id": "00050-6006a191-5f1a-43fe-9d66-cde68f8e7f23",
    "deepnote_cell_type": "markdown"
   }
  },
  {
   "cell_type": "code",
   "metadata": {
    "id": "dhaKFGzLWcqy",
    "cell_id": "00051-07eac206-aff0-4277-b474-9f43c5ecb3af",
    "deepnote_cell_type": "code"
   },
   "source": "carrinho_compras = [{'id': 3184, 'preco': 37.65, 'qtd': 10}, {'id': 1203, 'preco': 81.20, 'qtd': 2}, {'id': 8921, 'preco': 15.90, 'qtd': 2}]",
   "execution_count": null,
   "outputs": []
  },
  {
   "cell_type": "code",
   "metadata": {
    "id": "yLoXZTNlWdJI",
    "cell_id": "00052-8311fc96-27ee-4e29-8d35-8558b2a41e3a",
    "deepnote_cell_type": "code"
   },
   "source": "valor_total = 0\nfor indice in range(1, len(carrinho_compras)):\n  valor_total += carrinho_compras[indice]['preco'] * carrinho_compras[indice]['qtd']\n\nvalor_total = round(valor_total, 2)\nprint(valor_total)",
   "execution_count": null,
   "outputs": []
  },
  {
   "cell_type": "code",
   "metadata": {
    "id": "PUQAWph4XONE",
    "cell_id": "00053-c1af2e94-f742-482e-8142-3163e2239ea5",
    "deepnote_cell_type": "code"
   },
   "source": "valor_total = 0\nfor produto in carrinho_compras:\n  valor_total += produto['preco'] * produto['qtd']\n\nvalor_total = round(valor_total, 2)\nprint(valor_total)",
   "execution_count": null,
   "outputs": []
  },
  {
   "cell_type": "code",
   "metadata": {
    "id": "f9N0g63TY8E4",
    "cell_id": "00054-30623aaa-3c85-4701-9a74-57b2430fe2e8",
    "deepnote_cell_type": "code"
   },
   "source": "valor_total = 0\nfor indice in range(1, len(carrinho_compras)):\n  print(carrinho_compras[indice])\n  valor_total += carrinho_compras[indice]['preco'] * carrinho_compras[indice]['qtd']\n\nvalor_total = round(valor_total, 2)\nprint(valor_total)",
   "execution_count": null,
   "outputs": []
  },
  {
   "cell_type": "markdown",
   "source": "### **3.3. Manipulação** ",
   "metadata": {
    "id": "qcHSzY6kUSjy",
    "cell_id": "00055-e6d9983f-8fad-4746-a2ca-fcfed160a134",
    "deepnote_cell_type": "markdown"
   }
  },
  {
   "cell_type": "markdown",
   "source": " - Manipular o erro com a estrutura `try-catch-finally-else`.",
   "metadata": {
    "id": "5BkfnSNoTJEU",
    "cell_id": "00056-9d016629-d604-45cf-bb8a-e4a8dc60246e",
    "deepnote_cell_type": "markdown"
   }
  },
  {
   "cell_type": "code",
   "metadata": {
    "id": "65y8PZIwc0b9",
    "cell_id": "00057-4e1220c0-a1aa-4d5c-92cd-e76e73886913",
    "deepnote_cell_type": "code"
   },
   "source": "anos = [2019, 2020, 2021]\nanos = {2019, 2020, 2021}\n\ntry:\n  ano_atual = anos[3]\n  print(ano_atual)\nexcept IndexError:\n  print('Lista de anos é menor que o valor escolhido. Espera-se um valor entre 0 e ' + str(len(anos) - 1))\nexcept Exception as exc:\n  print(exc)",
   "execution_count": null,
   "outputs": []
  },
  {
   "cell_type": "markdown",
   "source": " - Passar o erro para frente com a estrutura `raise`.",
   "metadata": {
    "id": "DfORrkV1TSH2",
    "cell_id": "00058-855b9041-b36d-4fc8-85c5-b2cc0fa08e08",
    "deepnote_cell_type": "markdown"
   }
  },
  {
   "cell_type": "code",
   "metadata": {
    "id": "BCEOeOu8dCJ_",
    "cell_id": "00059-70464fd3-ac7f-4651-bfbd-ed43f8b548a1",
    "deepnote_cell_type": "code"
   },
   "source": "anos = [2019, 2020, 2021]\n# anos = {2019, 2020, 2021}\n\ntry:\n  ano_atual = anos[3]\n  print(ano_atual)\nexcept IndexError as exc:\n  raise Exception('Lista de anos é menor que o valor escolhido. Espera-se um valor entre 0 e ' + str(len(anos) - 1))\nexcept Exception as exc:\n  raise exc",
   "execution_count": null,
   "outputs": []
  },
  {
   "cell_type": "markdown",
   "source": "### **3.4. Revisitando a motivação** ",
   "metadata": {
    "id": "Nq0WCx8HUSjz",
    "cell_id": "00060-f1ea091b-06b3-43b5-be36-85c75488e51c",
    "deepnote_cell_type": "markdown"
   }
  },
  {
   "cell_type": "code",
   "metadata": {
    "id": "4HQXoxyVjU2g",
    "cell_id": "00061-3aea0fe4-1358-4e2a-a466-aaa6f830982d",
    "deepnote_cell_type": "code"
   },
   "source": "faturas = []\n\nwith open(file='./telecom.csv', mode='r', encoding='utf8') as arquivo:\n  linha = arquivo.readline()\n  linha = arquivo.readline()\n  while linha:\n    try:\n      fatura = float(linha.strip().split(sep=',')[-3])\n    except ValueError:\n      print('Falha ao processar as faturas! Abortando o processamento.')\n      break\n    else:\n      faturas.append(fatura)\n    linha = arquivo.readline()\n\nprint(faturas)",
   "execution_count": null,
   "outputs": []
  },
  {
   "cell_type": "code",
   "metadata": {
    "id": "jUPom5w9knls",
    "cell_id": "00062-a4678acb-db0b-4321-9724-20693ddc02d0",
    "deepnote_cell_type": "code"
   },
   "source": "from functools import reduce\n\ndef processar_faturas(nome_arquivo: str):\n\n  faturas = []\n\n  with open(file=nome_arquivo, mode='r', encoding='utf8') as arquivo:\n    linha = arquivo.readline()\n    linha = arquivo.readline()\n    while linha:\n      try:\n        fatura = float(linha.strip().split(sep=',')[-3])\n      except ValueError as exc:\n        raise ValueError(f'Falha ao processar as faturas devido ao seguinte erro: \"{exc}\"')\n      else:\n        faturas.append(fatura)\n      linha = arquivo.readline()\n\n  total_a_pagar = reduce(lambda x, y: x + y, faturas)\n  total_a_pagar = round(total_a_pagar, 2)\n\n  return total_a_pagar",
   "execution_count": null,
   "outputs": []
  },
  {
   "cell_type": "code",
   "metadata": {
    "id": "cpwr6hkZkz7S",
    "cell_id": "00063-c7fe4d8b-ab9c-4964-a05a-cdf12d27398d",
    "deepnote_cell_type": "code"
   },
   "source": "try:\n  total_a_pagar = processar_faturas(nome_arquivo='./telecom.csv')\nexcept Exception as exc:\n  print(exc)\nelse:\n  print(total_a_pagar)",
   "execution_count": null,
   "outputs": []
  },
  {
   "cell_type": "markdown",
   "source": "<a style='text-decoration:none;line-height:16px;display:flex;color:#5B5B62;padding:10px;justify-content:end;' href='https://deepnote.com?utm_source=created-in-deepnote-cell&projectId=7bc88e6b-e21c-42d6-a070-b420cc720827' target=\"_blank\">\n<img alt='Created in deepnote.com' style='display:inline;max-height:16px;margin:0px;margin-right:7.5px;' src='data:image/svg+xml;base64,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' > </img>\nCreated in <span style='font-weight:600;margin-left:4px;'>Deepnote</span></a>",
   "metadata": {
    "tags": [],
    "created_in_deepnote_cell": true,
    "deepnote_cell_type": "markdown"
   }
  }
 ],
 "nbformat": 4,
 "nbformat_minor": 0,
 "metadata": {
  "colab": {
   "name": "module_8_class.ipynb",
   "provenance": [],
   "collapsed_sections": [
    "RhqmXiHQo-is"
   ],
   "toc_visible": true
  },
  "kernelspec": {
   "name": "python3",
   "display_name": "Python 3"
  },
  "deepnote_notebook_id": "9e052822-ee0a-4a45-9ffb-100efa2ede44",
  "deepnote": {},
  "deepnote_execution_queue": []
 }
}