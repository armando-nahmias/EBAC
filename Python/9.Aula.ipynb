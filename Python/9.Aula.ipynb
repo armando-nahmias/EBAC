{
 "cells": [
  {
   "cell_type": "markdown",
   "source": "<img src=\"https://raw.githubusercontent.com/andre-marcos-perez/ebac-course-utils/main/media/logo/newebac_logo_black_half.png\" alt=\"ebac-logo\">\n\n---\n\n# **Módulo** | Python: Scripting\nCaderno de **Aula**<br> \nProfessor [André Perez](https://www.linkedin.com/in/andremarcosperez/)\n\n---",
   "metadata": {
    "id": "KJqp9AANOCtf",
    "cell_id": "00000-3a0b3d4f-b588-4f68-84d6-bea60364e8c1",
    "deepnote_cell_type": "markdown"
   }
  },
  {
   "cell_type": "markdown",
   "source": "# **Tópicos**\n\n<ol type=\"1\">\n  <li>Instalando o Python na própria máquina;</li>\n  <li>Executando código Python no terminal;</li>\n  <li>Criando arquivos de script Python.</li>\n</ol>",
   "metadata": {
    "id": "d9jDtUbDOE1-",
    "cell_id": "00001-b9f8e227-52e8-465a-8303-a6e2fff2c450",
    "deepnote_cell_type": "markdown"
   }
  },
  {
   "cell_type": "markdown",
   "source": "---",
   "metadata": {
    "id": "SmoHgt-lwkpD",
    "cell_id": "00002-ffcb80c2-c88d-4049-88e7-30eb2445f5ea",
    "deepnote_cell_type": "markdown"
   }
  },
  {
   "cell_type": "markdown",
   "source": "# **Aulas**",
   "metadata": {
    "id": "GABI6OW8OfQ2",
    "cell_id": "00003-64f5939a-fb7e-48eb-a8be-156e7756fb34",
    "deepnote_cell_type": "markdown"
   }
  },
  {
   "cell_type": "markdown",
   "source": "## 1\\. Instalando o Python na própria máquina",
   "metadata": {
    "id": "muD1vxozykSC",
    "cell_id": "00004-6607eecb-9cec-4a14-b81b-fa6926e3815d",
    "deepnote_cell_type": "markdown"
   }
  },
  {
   "cell_type": "markdown",
   "source": "### **1.1. Google Colab** ",
   "metadata": {
    "id": "5a3_syBIP6yO",
    "cell_id": "00005-2f7f3812-a636-446d-9fca-c66daf144349",
    "deepnote_cell_type": "markdown"
   }
  },
  {
   "cell_type": "markdown",
   "source": "Python e o PIP já vem instalado na máquina virtual provisionada.",
   "metadata": {
    "id": "NglCEvJDmqkw",
    "cell_id": "00006-031d16bc-d8a0-4bb4-8986-97741df66a5b",
    "deepnote_cell_type": "markdown"
   }
  },
  {
   "cell_type": "markdown",
   "source": "**Exemplo:** Conferir a versão do Python via Python.",
   "metadata": {
    "id": "-KB6vKKpzPul",
    "cell_id": "00007-339d98d4-6ff5-473e-b3f5-67eb2c411448",
    "deepnote_cell_type": "markdown"
   }
  },
  {
   "cell_type": "code",
   "metadata": {
    "id": "s3TYcbzAlgxe",
    "cell_id": "00008-87df7119-dfd7-4fe7-98df-66826b2d8e50",
    "deepnote_cell_type": "code"
   },
   "source": "import platform",
   "execution_count": null,
   "outputs": []
  },
  {
   "cell_type": "code",
   "metadata": {
    "id": "Bqz8RRXwljEe",
    "cell_id": "00009-6bd57789-0e04-4422-8cda-782a138bdf66",
    "deepnote_cell_type": "code"
   },
   "source": "print(platform.python_version())",
   "execution_count": null,
   "outputs": []
  },
  {
   "cell_type": "code",
   "metadata": {
    "id": "DocJCahczia4",
    "cell_id": "00010-4fa8d52a-5f81-4e73-b9b4-871a54e30d68",
    "deepnote_cell_type": "code"
   },
   "source": "print(platform.system())",
   "execution_count": null,
   "outputs": []
  },
  {
   "cell_type": "markdown",
   "source": "**Exemplo:** Conferir a versão do Python via Bash (linguagem nativa do Linux).",
   "metadata": {
    "id": "rqJ0dUCKzYH-",
    "cell_id": "00011-52dfb371-a85e-4146-99c8-e12c5c60baea",
    "deepnote_cell_type": "markdown"
   }
  },
  {
   "cell_type": "code",
   "metadata": {
    "id": "FGXZX082mp5C",
    "cell_id": "00012-b3181cb4-c6a1-45c9-b54f-1f8640876b8e",
    "deepnote_cell_type": "code"
   },
   "source": "!python -V",
   "execution_count": null,
   "outputs": []
  },
  {
   "cell_type": "markdown",
   "source": "**Exemplo:** Conferir a versão do PIP via Bash (linguagem nativa do Linux).",
   "metadata": {
    "id": "kinhTHAfZC4u",
    "cell_id": "00013-3024a02f-eaff-4f18-aede-10da75f1e267",
    "deepnote_cell_type": "markdown"
   }
  },
  {
   "cell_type": "code",
   "metadata": {
    "id": "R4JABHTlZCA8",
    "cell_id": "00014-64f4b338-3d9b-4646-a5de-6a55a9b40520",
    "deepnote_cell_type": "code"
   },
   "source": "!pip -V",
   "execution_count": null,
   "outputs": []
  },
  {
   "cell_type": "markdown",
   "source": "### **1.2. Máquina Local** ",
   "metadata": {
    "id": "E6D5rjlESJ1A",
    "cell_id": "00015-0e0f1260-40cf-482a-b964-e9f9c4ff20ab",
    "deepnote_cell_type": "markdown"
   }
  },
  {
   "cell_type": "markdown",
   "source": "Verifique se você já tem o Python e o PIP instalado na sua máquina. Para verificar a instalação, abrir o terminal (windows `cmd` ou linux/macos `terminal`) e executar o seguinte comando.",
   "metadata": {
    "id": "N0DOVccZ0bXA",
    "cell_id": "00016-57f9c5c1-145f-4bae-aef5-2156883b350d",
    "deepnote_cell_type": "markdown"
   }
  },
  {
   "cell_type": "markdown",
   "source": "```shell\npython -V\npip -V\n```",
   "metadata": {
    "id": "Rs6sc6iB0lwe",
    "cell_id": "00017-112ef729-83d3-4815-a8e5-7fe36c75cd66",
    "deepnote_cell_type": "markdown"
   }
  },
  {
   "cell_type": "markdown",
   "source": "Se não o tiver instalado, acessar o site oficial do Python ([link](https://www.python.org/)) e instalar o software para o seu sistema operacional. Um excelente tutorial se encontra neste [link](https://realpython.com/installing-python/). Para verificar a instalação, abrir o terminal (windows `cmd` ou linux/mcos `terminal`) e executar o seguinte comando.",
   "metadata": {
    "id": "bO66G3v8qMBu",
    "cell_id": "00018-d2ab4fdb-5ba6-45a7-bf3c-e5f58a8a98ff",
    "deepnote_cell_type": "markdown"
   }
  },
  {
   "cell_type": "markdown",
   "source": "```shell\npython -V\npip -V\n```",
   "metadata": {
    "id": "g8G-7pIh09ex",
    "cell_id": "00019-e9cc79a7-804f-4c5a-a453-f34983a75397",
    "deepnote_cell_type": "markdown"
   }
  },
  {
   "cell_type": "markdown",
   "source": "## 2\\. Executando código Python no terminal",
   "metadata": {
    "id": "4rRCvy_UURrM",
    "cell_id": "00020-6e7008bf-7e6e-4e97-a2fc-4cc15c9f49bc",
    "deepnote_cell_type": "markdown"
   }
  },
  {
   "cell_type": "markdown",
   "source": "### **2.1. Google Colab** ",
   "metadata": {
    "id": "78RHF81A3tat",
    "cell_id": "00021-9f7ca18e-a3be-459b-93ea-467c2fb27a40",
    "deepnote_cell_type": "markdown"
   }
  },
  {
   "cell_type": "markdown",
   "source": "O software do Python já vem \"aberto\" para ser utilizado.",
   "metadata": {
    "id": "1vEmGlO93vtT",
    "cell_id": "00022-6cab3efc-9cea-436a-952d-ce65b7dc6725",
    "deepnote_cell_type": "markdown"
   }
  },
  {
   "cell_type": "code",
   "metadata": {
    "id": "MkVUiWgKaD_Q",
    "cell_id": "00023-4e21e8ca-7d75-4b34-b837-856a87434822",
    "deepnote_cell_type": "code"
   },
   "source": "from datetime import datetime\n\nprint(datetime.now().year)",
   "execution_count": null,
   "outputs": []
  },
  {
   "cell_type": "markdown",
   "source": "### **2.2. Máquina Local** ",
   "metadata": {
    "id": "Y1W9Hv8fURrZ",
    "cell_id": "00024-745c6b38-8bd1-429b-9f25-9889a9cf16c4",
    "deepnote_cell_type": "markdown"
   }
  },
  {
   "cell_type": "markdown",
   "source": "\n\n1.   Criar uma pasta (sugestão);\n2.   Abrir o terminal nesta pasta (windows `shift + right click` ou linux/macos `right click`);\n3.   Executar o seguinte comando:\n\n```shell\npython\n```\n\nPara 'sair' do Python, basta fechar o terminal ou digitar o seguinte código:\n\n```shell\nquit()\n```",
   "metadata": {
    "id": "ZiSmb3nK3GWT",
    "cell_id": "00025-3af1d044-4075-464d-9b5f-ff5ed3a944e4",
    "deepnote_cell_type": "markdown"
   }
  },
  {
   "cell_type": "markdown",
   "source": "## 3\\. Criando arquivos de script Python",
   "metadata": {
    "id": "ELgoMRAAUSjv",
    "cell_id": "00026-09b4c69d-15c9-4071-a4fe-6266cceaffb0",
    "deepnote_cell_type": "markdown"
   }
  },
  {
   "cell_type": "markdown",
   "source": "### **3.1. Google Colab** ",
   "metadata": {
    "id": "CuLkQY76USjw",
    "cell_id": "00027-40636157-3bc1-42a7-8386-c3f173f90a81",
    "deepnote_cell_type": "markdown"
   }
  },
  {
   "cell_type": "markdown",
   "source": "1. Criar um arquivo de *script* com a extensão `py` seguindo as boas práticas do PEP 8 ([link](https://www.python.org/dev/peps/pep-0008/));\n2. Executar com o seguinte comando:\n\n```shell\n!python arquivo.py\n```",
   "metadata": {
    "id": "kPErDtG7aOC9",
    "cell_id": "00028-ed4859e1-11e4-4c36-bd1d-e10defd6579d",
    "deepnote_cell_type": "markdown"
   }
  },
  {
   "cell_type": "markdown",
   "source": "**Exemplo:** *Script* para extrair a taxa CDI do site da B3.",
   "metadata": {
    "id": "JgdHa-4LaxWP",
    "cell_id": "00029-5205285a-3716-4b2f-882a-31588f68659e",
    "deepnote_cell_type": "markdown"
   }
  },
  {
   "cell_type": "code",
   "metadata": {
    "id": "3FBTK2tJn4Ii",
    "cell_id": "00030-422b9403-32f5-4270-a0b7-0723fe2e3f19",
    "deepnote_cell_type": "code"
   },
   "source": "import os\nimport json\nfrom datetime import datetime\n\nimport requests\n\nURL = 'https://www2.cetip.com.br/ConsultarTaxaDi/ConsultarTaxaDICetip.aspx'\n\n# Criando a variável data e hora \n\ndata_e_hora = datetime.now()\ndata = datetime.strftime(data_e_hora, '%Y/%m/%d')\nhora = datetime.strftime(data_e_hora, '%H:%M:%S')\n\n# Captando a taxa CDI do site da B3\n\ntry:\n  response = requests.get(URL)\n  response.raise_for_status()\nexcept requests.HTTPError as exc:\n  print(\"Dado não encontrado, continuando.\")\n  cdi = None\nexcept Exception as exc:\n  print(\"Erro, parando a execução.\")\n  raise exc\nelse:\n  dado = json.loads(response.text)\n  cdi = float(dado['taxa'].replace(',', '.'))\n\n# Verificando se o arquivo \"taxa-cdi.csv\" existe\n\nif os.path.exists('./taxa-cdi.csv') == False:\n\n  with open(file='./taxa-cdi.csv', mode='w', encoding='utf8') as fp:\n    fp.write('data,hora,taxa\\n')\n\n# Salvando dados no arquivo \"taxa-cdi.csv\"\n\nwith open(file='./taxa-cdi.csv', mode='a', encoding='utf8') as fp:\n  fp.write(f'{data},{hora},{cdi}\\n')\n\nprint(\"Sucesso\")",
   "execution_count": null,
   "outputs": []
  },
  {
   "cell_type": "markdown",
   "source": "Vamos criar o arquivo de *script* `extrair-cdi.py`.",
   "metadata": {
    "id": "EkdZ57_4oFCx",
    "cell_id": "00031-483eb5d2-2a91-487e-bbb7-4581571ab1ed",
    "deepnote_cell_type": "markdown"
   }
  },
  {
   "cell_type": "code",
   "metadata": {
    "id": "yxJhF3FibJ7z",
    "cell_id": "00032-ec111694-f8ed-447a-8987-72b5604cf2fa",
    "deepnote_cell_type": "code"
   },
   "source": "!python extrair-cdi.py",
   "execution_count": null,
   "outputs": []
  },
  {
   "cell_type": "markdown",
   "source": "**Exemplo:** Script com argumentos.",
   "metadata": {
    "id": "c-WTpJfhgDdT",
    "cell_id": "00033-4163fa16-bce5-4aea-a313-55154f0ff4c8",
    "deepnote_cell_type": "markdown"
   }
  },
  {
   "cell_type": "code",
   "metadata": {
    "id": "evmryzUPgM46",
    "cell_id": "00034-e415ad48-f2c4-4fdd-8373-8b281bd50424",
    "deepnote_cell_type": "code"
   },
   "source": "from sys import argv\n\nprint(argv)\nprint(type(argv))",
   "execution_count": null,
   "outputs": []
  },
  {
   "cell_type": "markdown",
   "source": "Vamos criar o arquivo de *script* `args.py`.",
   "metadata": {
    "id": "HgoqZ2xIk-8B",
    "cell_id": "00035-fa61abbe-de88-4a9a-b655-344064184e00",
    "deepnote_cell_type": "markdown"
   }
  },
  {
   "cell_type": "code",
   "metadata": {
    "id": "C9ogUVFYklNE",
    "cell_id": "00036-5aecf39e-168c-40cf-b3d2-89ab2fe7bdcf",
    "deepnote_cell_type": "code"
   },
   "source": "!python args.py",
   "execution_count": null,
   "outputs": []
  },
  {
   "cell_type": "markdown",
   "source": "**Exemplo:** *Script* para gerar um grafico da taxa CDI do site da B3.",
   "metadata": {
    "id": "Q9YetD1EPi_N",
    "cell_id": "00037-2a63b765-256e-4900-8bd1-0aaf8877f8e6",
    "deepnote_cell_type": "markdown"
   }
  },
  {
   "cell_type": "code",
   "metadata": {
    "id": "LxVdaEGMMgW5",
    "cell_id": "00038-6a259a46-c38e-4ab6-9d5d-53c8f5c25683",
    "deepnote_cell_type": "code"
   },
   "source": "import csv\nfrom sys import argv\n\nimport seaborn as sns\n\n# Extraindo as colunas hora e taxa\n\nhoras = []\ntaxas = []\n\nwith open(file='./taxa-cdi.csv', mode='r', encoding='utf8') as fp:\n  linha = fp.readline()\n  linha = fp.readline()\n  while linha:\n    linha_separada = linha.split(sep=',')\n    hora = linha_separada[1]\n    horas.append(hora)\n    taxa = float(linha_separada[2])\n    taxas.append(taxa)\n    linha = fp.readline()\n\n# Salvando no grafico\n\ngrafico = sns.lineplot(x=horas, y=taxas)\ngrafico.get_figure().savefig(f\"{argv[1]}.png\")",
   "execution_count": null,
   "outputs": []
  },
  {
   "cell_type": "markdown",
   "source": "Vamos criar o arquivo de *script* `cdi-grafico.py`.",
   "metadata": {
    "id": "JELUKH9pPz9p",
    "cell_id": "00039-3b390676-ef11-4931-ab17-b2ae2889c6f8",
    "deepnote_cell_type": "markdown"
   }
  },
  {
   "cell_type": "code",
   "metadata": {
    "id": "ERCSXm2AP6uD",
    "cell_id": "00040-11b505ad-0aec-4536-b2cf-05a0192e2c03",
    "deepnote_cell_type": "code"
   },
   "source": "!python cdi-grafico.py 'dia-10'",
   "execution_count": null,
   "outputs": []
  },
  {
   "cell_type": "markdown",
   "source": "### **3.2. Máquina Local** ",
   "metadata": {
    "id": "g2aUZy_X4Wvb",
    "cell_id": "00041-25746695-ca50-4ac8-a469-50066cb2ea95",
    "deepnote_cell_type": "markdown"
   }
  },
  {
   "cell_type": "markdown",
   "source": "Mesma dinâmica!",
   "metadata": {
    "id": "BSYPE9fyf11V",
    "cell_id": "00042-19129a2e-958b-4da7-94d9-39e36a142933",
    "deepnote_cell_type": "markdown"
   }
  },
  {
   "cell_type": "markdown",
   "source": "### **3.3. Ferramenta de Desenvolvimento Local** ",
   "metadata": {
    "id": "vSGm2638ibKP",
    "cell_id": "00043-49331c43-ef89-495d-bbe2-2f3d46d66a6e",
    "deepnote_cell_type": "markdown"
   }
  },
  {
   "cell_type": "markdown",
   "source": "As IDEs (Integrated Development Environment) são ferramentas completas de desenvolvimento de código em software.\n\n*   **PyCharm** da JetBrains ([link](https://www.jetbrains.com/));\n*   **Visual Studio Code** da Microsoft ([link](https://code.visualstudio.com/)).\n\n",
   "metadata": {
    "id": "AX5SWKd4ijlB",
    "cell_id": "00044-25a5aa10-b60b-41ea-95c1-18d763cc2bb2",
    "deepnote_cell_type": "markdown"
   }
  },
  {
   "cell_type": "markdown",
   "source": "<a style='text-decoration:none;line-height:16px;display:flex;color:#5B5B62;padding:10px;justify-content:end;' href='https://deepnote.com?utm_source=created-in-deepnote-cell&projectId=7bc88e6b-e21c-42d6-a070-b420cc720827' target=\"_blank\">\n<img alt='Created in deepnote.com' style='display:inline;max-height:16px;margin:0px;margin-right:7.5px;' src='data:image/svg+xml;base64,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' > </img>\nCreated in <span style='font-weight:600;margin-left:4px;'>Deepnote</span></a>",
   "metadata": {
    "tags": [],
    "created_in_deepnote_cell": true,
    "deepnote_cell_type": "markdown"
   }
  }
 ],
 "nbformat": 4,
 "nbformat_minor": 0,
 "metadata": {
  "colab": {
   "name": "module_9_class.ipynb",
   "provenance": [],
   "collapsed_sections": [],
   "toc_visible": true
  },
  "kernelspec": {
   "name": "python3",
   "display_name": "Python 3"
  },
  "deepnote_notebook_id": "f88e3fce-71b2-4b69-895b-0894709df92a",
  "deepnote": {},
  "deepnote_execution_queue": []
 }
}