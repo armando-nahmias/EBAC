{
 "cells": [
  {
   "cell_type": "markdown",
   "source": "<img src=\"https://raw.githubusercontent.com/andre-marcos-perez/ebac-course-utils/main/media/logo/newebac_logo_black_half.png\" alt=\"ebac-logo\">\n\n---\n\n# **Módulo** | Python: Programação Orientada a Objetos\nCaderno de **Exercícios**<br> \nProfessor [André Perez](https://www.linkedin.com/in/andremarcosperez/)\n\n---",
   "metadata": {
    "id": "KJqp9AANOCtf",
    "cell_id": "00000-98da7e8b-1eb3-497e-87c9-ead11c5c43c1",
    "deepnote_cell_type": "markdown"
   }
  },
  {
   "cell_type": "markdown",
   "source": "# **Tópicos**\n\n<ol type=\"1\">\n  <li>Um pouco de teoria;</li>\n  <li>Classes;</li>\n  <li>Objetos;</li>\n  <li>Herança.</li>\n</ol>",
   "metadata": {
    "id": "d9jDtUbDOE1-",
    "cell_id": "00001-161ca5a2-d146-4b09-a8b0-3b6a6b422acf",
    "deepnote_cell_type": "markdown"
   }
  },
  {
   "cell_type": "markdown",
   "source": "---",
   "metadata": {
    "id": "SmoHgt-lwkpD",
    "cell_id": "00002-0ced404c-fc7e-4e84-a16e-016ab01ea3d8",
    "deepnote_cell_type": "markdown"
   }
  },
  {
   "cell_type": "markdown",
   "source": "# **Exercícios**",
   "metadata": {
    "id": "GABI6OW8OfQ2",
    "cell_id": "00003-2747b38b-6595-44a0-88d6-81948b83cd52",
    "deepnote_cell_type": "markdown"
   }
  },
  {
   "cell_type": "markdown",
   "source": "## 0\\. Preparação do ambiente",
   "metadata": {
    "id": "syVczIAwGO3A",
    "cell_id": "00004-d06f6f46-9b59-4df3-b308-b7765465b1ec",
    "deepnote_cell_type": "markdown"
   }
  },
  {
   "cell_type": "markdown",
   "source": "Neste exercício vamos trabalhar com os arquivos de csv e texto definidos abaixo. Execute cada uma das células de código para escrever os arquivos na sua máquina virtual.",
   "metadata": {
    "id": "2X3TrxdzGO3C",
    "cell_id": "00005-a831a95e-e148-415e-8cf4-273fd84bb986",
    "deepnote_cell_type": "markdown"
   }
  },
  {
   "cell_type": "markdown",
   "source": "* **carros.csv**: arquivo csv com informações sobre carros (venda, manutenção, portas, etc.).",
   "metadata": {
    "id": "u0uFuhRSq_hQ",
    "cell_id": "00006-0c462456-c317-41a8-a853-efc9cfa4ac9d",
    "deepnote_cell_type": "markdown"
   }
  },
  {
   "cell_type": "code",
   "metadata": {
    "id": "daMf-xaXqKs2",
    "cell_id": "00007-ffd5dd28-b99d-49c0-b67d-2e5628501fd8",
    "deepnote_to_be_reexecuted": false,
    "source_hash": "8563d728",
    "execution_start": 1637173066153,
    "execution_millis": 5,
    "deepnote_cell_type": "code"
   },
   "source": "%%writefile carros.csv\nid,valor_venda,valor_manutencao,portas,pessoas,porta_malas\n1,vhigh,med,2,2,small\n2,med,vhigh,2,2,small\n3,low,vhigh,2,2,small\n4,low,high,2,2,small\n5,low,high,2,2,small\n6,low,high,4,4,big\n7,low,high,4,4,big\n8,low,med,2,2,small\n9,low,med,2,2,small\n10,low,med,2,2,small\n11,low,med,4,4,big\n12,low,low,2,2,small\n13,low,low,4,4,small\n14,low,low,4,4,med",
   "execution_count": null,
   "outputs": [
    {
     "name": "stdout",
     "text": "Overwriting carros.csv\n",
     "output_type": "stream"
    }
   ]
  },
  {
   "cell_type": "markdown",
   "source": "* **musica.txt**: arquivo texto com a letra da música Roda Viva do Chico Buarque.",
   "metadata": {
    "id": "X0Z2PhbCrTz1",
    "cell_id": "00008-2e2e28e2-e88e-4329-a9d2-fda466e218f3",
    "deepnote_cell_type": "markdown"
   }
  },
  {
   "cell_type": "code",
   "metadata": {
    "id": "m7Ge2rggrU73",
    "cell_id": "00009-bab0d09b-65f0-4ad4-91a6-04505e2523ec",
    "deepnote_to_be_reexecuted": false,
    "source_hash": "41347194",
    "execution_start": 1637173069358,
    "execution_millis": 5,
    "deepnote_cell_type": "code"
   },
   "source": "%%writefile musica.txt\nRoda Viva\nChico Buarque\n\nTem dias que a gente se sente\nComo quem partiu ou morreu\nA gente estancou de repente\nOu foi o mundo então que cresceu\nA gente quer ter voz ativa\nNo nosso destino mandar\nMas eis que chega a roda viva\nE carrega o destino pra lá\n\nRoda mundo, roda-gigante\nRoda moinho, roda pião\n\nO tempo rodou num instante\nNas voltas do meu coração\nA gente vai contra a corrente\nAté não poder resistir\nNa volta do barco é que sente\nO quanto deixou de cumprir\nFaz tempo que a gente cultiva\nA mais linda roseira que há\nMas eis que chega a roda viva\nE carrega a roseira pra lá\n\nRoda mundo, roda-gigante\nRoda moinho, roda pião",
   "execution_count": null,
   "outputs": [
    {
     "name": "stdout",
     "text": "Overwriting musica.txt\n",
     "output_type": "stream"
    }
   ]
  },
  {
   "cell_type": "markdown",
   "source": "---",
   "metadata": {
    "id": "HV69LMAVGO3J",
    "cell_id": "00010-ec517ac5-d228-4c93-9fa2-340b831bde7c",
    "deepnote_cell_type": "markdown"
   }
  },
  {
   "cell_type": "markdown",
   "source": "## 1\\. Classe para ler arquivos de texto",
   "metadata": {
    "id": "U4S19ZvHsPcE",
    "cell_id": "00011-186a5c28-ab02-43b3-9f5e-9f62765850f4",
    "deepnote_cell_type": "markdown"
   }
  },
  {
   "cell_type": "markdown",
   "source": "Crie a classe `ArquivoTexto`. Ela deve conter os seguintes atributos:\n\n*   `self.arquivo`: Atributo do tipo `str` com o nome do arquivo;\n*   `self.conteudo`: Atributo do tipo `list` onde cada elemento é uma linha do arquivo;\n\nA classe também deve conter o seguinte método:\n\n*   `self.extrair_linha`: Método que recebe como parâmetro o número da linha e retorna o seu conteúdo.",
   "metadata": {
    "id": "HQrKGtoMGjf6",
    "cell_id": "00012-9de70590-a96a-4f75-b518-5d0b1f9dba3b",
    "deepnote_cell_type": "markdown"
   }
  },
  {
   "cell_type": "code",
   "metadata": {
    "id": "9QFsOQ9ZGXUC",
    "cell_id": "00013-e9f182ce-d3d6-495a-a9c9-6fdccf790ed0",
    "deepnote_to_be_reexecuted": false,
    "source_hash": "5438d033",
    "execution_start": 1637285357652,
    "execution_millis": 1,
    "deepnote_cell_type": "code"
   },
   "source": "class ArquivoTexto(object):\n\n  def __init__(self, arquivo: str):\n    self.arquivo = arquivo\n    self.conteudo = self._extrair_conteudo()\n\n  def _extrair_conteudo(self):\n    conteudo = None\n    with open(file=self.arquivo, mode='r', encoding='utf8') as arquivo:\n      conteudo = arquivo.readlines()\n    return conteudo\n\n  def extrair_linha(self, numero_linha: int):\n    linha = self.conteudo[numero_linha - 1]\n    return linha\n\n    ",
   "execution_count": null,
   "outputs": []
  },
  {
   "cell_type": "markdown",
   "source": "Utilize o código abaixo para testar sua classe.",
   "metadata": {
    "id": "866OgsyHHw2M",
    "cell_id": "00014-f0e06939-5c43-4bac-b0c8-105c85448261",
    "deepnote_cell_type": "markdown"
   }
  },
  {
   "cell_type": "code",
   "metadata": {
    "tags": [],
    "cell_id": "00017-4e437266-1397-4836-9007-90f7b21f7d18",
    "deepnote_to_be_reexecuted": false,
    "source_hash": "612b1aad",
    "execution_start": 1637285361252,
    "execution_millis": 1,
    "deepnote_cell_type": "code"
   },
   "source": "arquivo_texto = ArquivoTexto(arquivo='musica.txt')\n\nnumero_linha = 1\nprint(arquivo_texto.extrair_linha(numero_linha=numero_linha)) # Roda Viva\n\nnumero_linha = 10\nprint(arquivo_texto.extrair_linha(numero_linha=numero_linha)) # Mas eis que chega a roda viva",
   "execution_count": null,
   "outputs": [
    {
     "name": "stdout",
     "text": "Roda Viva\n\nMas eis que chega a roda viva\n\n",
     "output_type": "stream"
    }
   ]
  },
  {
   "cell_type": "markdown",
   "source": "---",
   "metadata": {
    "id": "zMN1Q3jdwoJm",
    "cell_id": "00016-13b4501f-0b33-401b-b777-855757673bb1",
    "deepnote_cell_type": "markdown"
   }
  },
  {
   "cell_type": "markdown",
   "source": "## 2\\. Classe para ler arquivos de csv",
   "metadata": {
    "id": "aQ8euzThIlLl",
    "cell_id": "00017-c48280fa-94b8-44f1-9e06-c6d9a9bb780c",
    "deepnote_cell_type": "markdown"
   }
  },
  {
   "cell_type": "markdown",
   "source": "Crie a classe `ArquivoCSV`. Ela deve extender (herdar) a classe `ArquivoTexto` para reaproveitar os seus atributos (`self.arquivo` e `self.conteudo`) e método (`self.extrair_linha`). Além disso, adicione o seguinte atributo:\n\n*   `self.colunas`: Atributo do tipo `list` onde os elementos são os nome das colunas;\n\nA classe também deve conter o seguinte método:\n\n*   `self.extrair_coluna_da_linha`: Método que recebe como parâmetro o numero da linha e o indice da coluna e retorna o valor em questão.",
   "metadata": {
    "id": "EMWhvKAWIlL0",
    "cell_id": "00018-cdf63778-cfdb-452d-bb82-8617c66d1ce0",
    "deepnote_cell_type": "markdown"
   }
  },
  {
   "cell_type": "code",
   "metadata": {
    "tags": [],
    "cell_id": "00019-36e64a84-f697-41ce-94fb-e9524f8c4a57",
    "deepnote_to_be_reexecuted": false,
    "source_hash": "e602db96",
    "execution_start": 1637204695623,
    "execution_millis": 2,
    "deepnote_cell_type": "code"
   },
   "source": "#solucionando o problema sem estender a classe ArquivoTexto\nclass ArquivoCSV_1(object):\n\n  def __init__(self, arquivo: str):\n    self.arquivo = arquivo\n    self.conteudo = self._extrair_conteudo()\n    self.colunas = list(self._extrair_nomes_colunas())\n\n  def _extrair_conteudo(self):\n    conteudo = None\n    with open(file=self.arquivo, mode='r', encoding='utf8') as arquivo:\n      conteudo = arquivo.readlines()\n    return conteudo\n\n  def _extrair_nomes_colunas(self):\n    return self.conteudo[0].strip().split(sep=',')\n\n  def extrair_linha(self, numero_linha: int):\n    linha = self.conteudo[numero_linha - 1]\n    return linha\n\n  def extrair_coluna_da_linha(self, numero_linha: str, numero_coluna: str):\n    coluna = list()\n    for linha in self.conteudo:\n      conteudo_linha = linha.strip().split(sep=',')\n      coluna.append(conteudo_linha[numero_coluna - 1])\n    coluna_da_linha = coluna[numero_linha - 1]\n    return coluna_da_linha",
   "execution_count": null,
   "outputs": []
  },
  {
   "cell_type": "code",
   "metadata": {
    "tags": [],
    "cell_id": "00020-cfc1592b-28d9-4d43-ad90-71a48ed33407",
    "deepnote_to_be_reexecuted": false,
    "source_hash": "823f34a2",
    "execution_start": 1637204698540,
    "execution_millis": 17,
    "deepnote_cell_type": "code"
   },
   "source": "arquivo_csv = ArquivoCSV_1(arquivo='carros.csv')\n\nnumero_linha = 1\nprint(arquivo_csv.extrair_linha(numero_linha=numero_linha)) # id,valor_venda,valor_manutencao,portas,pessoas,porta_malas\n\nprint(arquivo_csv.colunas) # ['id', 'valor_venda', 'valor_manutencao', 'portas', 'pessoas', 'porta_malas']\n\nnumero_linha = 10\nprint(arquivo_csv.extrair_linha(numero_linha=numero_linha)) # 9,low,med,2,2,small\n\nnumero_linha = 10\nnumero_coluna = 2\nprint(arquivo_csv.extrair_coluna_da_linha(numero_linha=numero_linha, numero_coluna=numero_coluna)) # low",
   "execution_count": null,
   "outputs": [
    {
     "name": "stdout",
     "text": "id,valor_venda,valor_manutencao,portas,pessoas,porta_malas\n\n['id', 'valor_venda', 'valor_manutencao', 'portas', 'pessoas', 'porta_malas']\n9,low,med,2,2,small\n\nlow\n",
     "output_type": "stream"
    }
   ]
  },
  {
   "cell_type": "code",
   "metadata": {
    "tags": [],
    "cell_id": "00022-867eab49-b9f4-42e8-906a-9c0f7750a67a",
    "deepnote_to_be_reexecuted": false,
    "source_hash": "8ea0445f",
    "execution_start": 1637285866440,
    "execution_millis": 1,
    "deepnote_cell_type": "code"
   },
   "source": "#solucionando o problema estendendo a classe ArquivoTexto\nclass ArquivoCSV_2(ArquivoTexto):\n\n  def __init__(self, arquivo: str):\n    super().__init__(arquivo)\n    self.colunas = list(self._extrair_nomes_colunas())\n\n  def _extrair_nomes_colunas(self):\n    return self.conteudo[0].strip().split(sep=',')\n\n  def extrair_coluna_da_linha(self, numero_linha: str, numero_coluna: str):\n    coluna = list()\n    for linha in self.conteudo:\n      conteudo_linha = linha.strip().split(sep=',')\n      coluna.append(conteudo_linha[numero_coluna - 1])\n    coluna_da_linha = coluna[numero_linha - 1]\n    return coluna_da_linha",
   "execution_count": null,
   "outputs": []
  },
  {
   "cell_type": "markdown",
   "source": "Utilize o código abaixo para testar sua classe.",
   "metadata": {
    "id": "jQm_hBETIlL1",
    "cell_id": "00020-b8a30f9b-c37b-4543-b5d1-4051a912e341",
    "deepnote_cell_type": "markdown"
   }
  },
  {
   "cell_type": "code",
   "metadata": {
    "tags": [],
    "cell_id": "00025-e8db58f5-6595-479a-ba24-1a3cefced46d",
    "deepnote_to_be_reexecuted": false,
    "source_hash": "a47c289f",
    "execution_start": 1637285869117,
    "execution_millis": 8,
    "deepnote_output_heights": [
     328.3999938964844,
     290
    ],
    "deepnote_cell_type": "code"
   },
   "source": "arquivo_csv = ArquivoCSV_2(arquivo='carros.csv')\n\nnumero_linha = 1\nprint(arquivo_csv.extrair_linha(numero_linha=numero_linha)) # id,valor_venda,valor_manutencao,portas,pessoas,porta_malas\n\nprint(arquivo_csv.colunas) # ['id', 'valor_venda', 'valor_manutencao', 'portas', 'pessoas', 'porta_malas']\n\nnumero_linha = 10\nprint(arquivo_csv.extrair_linha(numero_linha=numero_linha)) # 9,low,med,2,2,small\n\nnumero_linha = 10\nnumero_coluna = 2\nprint(arquivo_csv.extrair_coluna_da_linha(numero_linha=numero_linha, numero_coluna=numero_coluna)) # low",
   "execution_count": null,
   "outputs": [
    {
     "name": "stdout",
     "text": "id,valor_venda,valor_manutencao,portas,pessoas,porta_malas\n\n['id', 'valor_venda', 'valor_manutencao', 'portas', 'pessoas', 'porta_malas']\n9,low,med,2,2,small\n\nlow\n",
     "output_type": "stream"
    }
   ]
  },
  {
   "cell_type": "markdown",
   "source": "---",
   "metadata": {
    "id": "78xH4bWUIlL2",
    "cell_id": "00022-efac143c-a8b3-4c63-ae07-6090e39dc58c",
    "deepnote_cell_type": "markdown"
   }
  },
  {
   "cell_type": "markdown",
   "source": "<a style='text-decoration:none;line-height:16px;display:flex;color:#5B5B62;padding:10px;justify-content:end;' href='https://deepnote.com?utm_source=created-in-deepnote-cell&projectId=7bc88e6b-e21c-42d6-a070-b420cc720827' target=\"_blank\">\n<img alt='Created in deepnote.com' style='display:inline;max-height:16px;margin:0px;margin-right:7.5px;' src='data:image/svg+xml;base64,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' > </img>\nCreated in <span style='font-weight:600;margin-left:4px;'>Deepnote</span></a>",
   "metadata": {
    "tags": [],
    "created_in_deepnote_cell": true,
    "deepnote_cell_type": "markdown"
   }
  }
 ],
 "nbformat": 4,
 "nbformat_minor": 0,
 "metadata": {
  "colab": {
   "name": "module_6_exercise.ipynb",
   "provenance": [],
   "collapsed_sections": [],
   "toc_visible": true
  },
  "kernelspec": {
   "name": "python3",
   "display_name": "Python 3"
  },
  "deepnote_notebook_id": "f39d3859-ace9-463e-866e-a902b1815fe2",
  "deepnote": {},
  "deepnote_execution_queue": []
 }
}