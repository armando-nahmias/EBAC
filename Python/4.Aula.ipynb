{
 "cells": [
  {
   "cell_type": "markdown",
   "source": "<img src=\"https://raw.githubusercontent.com/andre-marcos-perez/ebac-course-utils/main/media/logo/newebac_logo_black_half.png\" alt=\"ebac-logo\">\n\n---\n\n# **Módulo** | Python: Arquivos & Funções\nCaderno de **Aula**<br> \nProfessor [André Perez](https://www.linkedin.com/in/andremarcosperez/)\n\n---",
   "metadata": {
    "id": "KJqp9AANOCtf",
    "cell_id": "00000-50c20ac3-1e29-4080-a4c1-d22aac1b8376",
    "deepnote_cell_type": "markdown"
   }
  },
  {
   "cell_type": "markdown",
   "source": "# **Tópicos**\n\n<ol type=\"1\">\n  <li>Leitura;</li>\n  <li>Escrita;</li>\n  <li>Funções;</li>\n  <li>Escopo.</li>\n</ol>",
   "metadata": {
    "id": "d9jDtUbDOE1-",
    "cell_id": "00001-3aa465f7-93d4-4744-a3d9-2dd9eecd7d28",
    "deepnote_cell_type": "markdown"
   }
  },
  {
   "cell_type": "markdown",
   "source": "---",
   "metadata": {
    "id": "SmoHgt-lwkpD",
    "cell_id": "00002-db3b3618-f6d6-49b7-859e-99ef36e64a4a",
    "deepnote_cell_type": "markdown"
   }
  },
  {
   "cell_type": "markdown",
   "source": "# **Aulas**",
   "metadata": {
    "id": "GABI6OW8OfQ2",
    "cell_id": "00003-54db66a3-6c33-4b04-94e2-a4955a17481d",
    "deepnote_cell_type": "markdown"
   }
  },
  {
   "cell_type": "markdown",
   "source": "## 1\\. Leitura",
   "metadata": {
    "id": "muD1vxozykSC",
    "cell_id": "00004-5d06ea62-bd2d-473b-8b71-aa87d285e8bd",
    "deepnote_cell_type": "markdown"
   }
  },
  {
   "cell_type": "markdown",
   "source": "### **1.1. Configuração inicial** ",
   "metadata": {
    "id": "5a3_syBIP6yO",
    "cell_id": "00005-9887b4c6-4ed6-4dcc-906e-3de0d0a0ed02",
    "deepnote_cell_type": "markdown"
   }
  },
  {
   "cell_type": "markdown",
   "source": "Vamos utilizar uma função do **Google Colab** para criar arquivos para esse módulo. **Nota**: esse código **não** é do Python e sim da ferramenta.",
   "metadata": {
    "id": "YZixnYDiUvJy",
    "cell_id": "00006-4dbb179c-df7d-44b2-8550-f180f53b92d3",
    "deepnote_cell_type": "markdown"
   }
  },
  {
   "cell_type": "markdown",
   "source": "**Arquivo CSV:** banco.csv",
   "metadata": {
    "id": "7yJy2iraWZbC",
    "cell_id": "00007-a25b163f-a690-4a5b-a3da-eec3692318b8",
    "deepnote_cell_type": "markdown"
   }
  },
  {
   "cell_type": "code",
   "metadata": {
    "id": "vr4DaExbiyCr",
    "cell_id": "00008-ee27ccda-6bcf-444a-816e-2ede7519372b",
    "deepnote_cell_type": "code"
   },
   "source": "%%writefile banco.csv\nage,job,marital,education,default,balance,housing,loan\n30,unemployed,married,primary,no,1787,no,no\n33,services,married,secondary,no,4789,yes,yes\n35,management,single,tertiary,no,1350,yes,no\n30,management,married,tertiary,no,1476,yes,yes\n59,blue-collar,married,secondary,no,0,yes,no\n35,management,single,tertiary,no,747,no,no\n36,self-employed,married,tertiary,no,307,yes,no\n39,technician,married,secondary,no,147,yes,no\n41,entrepreneur,married,tertiary,no,221,yes,no\n43,services,married,primary,no,-88,yes,yes",
   "execution_count": null,
   "outputs": []
  },
  {
   "cell_type": "markdown",
   "source": "### **1.2. with / open** ",
   "metadata": {
    "id": "E6D5rjlESJ1A",
    "cell_id": "00009-514ee903-d0a6-4755-8dc7-0d6b1895b55e",
    "deepnote_cell_type": "markdown"
   }
  },
  {
   "cell_type": "markdown",
   "source": "Comando para ler arquivos.\n\n```python\nwith open(file='<caminho do arquivo>', mode='<modo de leitura>', encoding='<decodificador>') as <apelido>:\n  bloco de código\n```",
   "metadata": {
    "id": "2SX6T5EXkMRP",
    "cell_id": "00010-ddc05472-3351-432c-8ff5-7e65faf10c3d",
    "deepnote_cell_type": "markdown"
   }
  },
  {
   "cell_type": "markdown",
   "source": "Os modos de leitura são:\n\n*   **r**: Abrir o arquivo para leitura (padrão).\n\n",
   "metadata": {
    "id": "PugpetF_kWOP",
    "cell_id": "00011-b46752e2-bef7-4ab9-899c-9049fd2a3e7e",
    "deepnote_cell_type": "markdown"
   }
  },
  {
   "cell_type": "markdown",
   "source": "### **1.3. read** ",
   "metadata": {
    "id": "wNkFG1qKSU9M",
    "cell_id": "00012-cd07f992-3a8c-4220-986d-aabf80c217f3",
    "deepnote_cell_type": "markdown"
   }
  },
  {
   "cell_type": "markdown",
   "source": "Comando para ler todo o conteúdo de um arquivo.",
   "metadata": {
    "id": "wzKYdbTUmCkr",
    "cell_id": "00013-234bbb1a-1e05-4b8c-bff6-ae7a881fb136",
    "deepnote_cell_type": "markdown"
   }
  },
  {
   "cell_type": "code",
   "metadata": {
    "id": "WpJWcVcEjz4s",
    "cell_id": "00014-c93bfef2-86ee-4e04-81c0-a3fae8aabeaa",
    "deepnote_cell_type": "code"
   },
   "source": "conteudo = None\n\nwith open(file='./banco.csv', mode='r', encoding='utf8') as arquivo:\n  conteudo = arquivo.read()\n\nprint(conteudo)",
   "execution_count": null,
   "outputs": []
  },
  {
   "cell_type": "markdown",
   "source": "### **1.4. readline** ",
   "metadata": {
    "id": "hV8sOC7uSQsy",
    "cell_id": "00015-b206364e-b169-46c9-a0ac-ee682ebd3ab3",
    "deepnote_cell_type": "markdown"
   }
  },
  {
   "cell_type": "markdown",
   "source": "Comando para ler o conteúdo de um arquivo uma linha por vez.",
   "metadata": {
    "id": "t4crMe1PnaxO",
    "cell_id": "00016-831dbe01-c955-428a-a9db-6a1d5225971f",
    "deepnote_cell_type": "markdown"
   }
  },
  {
   "cell_type": "code",
   "metadata": {
    "id": "KJEJA17YnUC6",
    "cell_id": "00017-302555f7-47cd-4b1b-bc4f-004e68107d0d",
    "deepnote_cell_type": "code"
   },
   "source": "conteudo = []\n\nwith open(file='./banco.csv', mode='r', encoding='utf8') as arquivo:\n  linha = arquivo.readline() # lê a primeira linha\n  while linha:\n    conteudo.append(linha)\n    linha = arquivo.readline() # lê uma nova linha, se a linha não existir, salva o valor None\n\nprint(conteudo)",
   "execution_count": null,
   "outputs": []
  },
  {
   "cell_type": "code",
   "metadata": {
    "id": "qB3FMTB_nwZx",
    "cell_id": "00018-0eac2476-602f-4b0e-938a-15bc186163ed",
    "deepnote_cell_type": "code"
   },
   "source": "for linha in conteudo:\n  print(linha)",
   "execution_count": null,
   "outputs": []
  },
  {
   "cell_type": "markdown",
   "source": "**Exemplo**: Extraindo os valores da primeira coluna (idade).",
   "metadata": {
    "id": "3fUEwRtVnx-7",
    "cell_id": "00019-ba1446ad-292c-495d-a6c6-955037b49fdf",
    "deepnote_cell_type": "markdown"
   }
  },
  {
   "cell_type": "code",
   "metadata": {
    "id": "SpHHPRUOn8pZ",
    "cell_id": "00020-7fb1987b-8c12-410b-8294-d8aa56490003",
    "deepnote_cell_type": "code"
   },
   "source": "idades = []\n\nwith open(file='./banco.csv', mode='r', encoding='utf8') as arquivo:\n  linha = arquivo.readline() # lê o cabeçalho\n  linha = arquivo.readline() # lê a primeira linha\n  while linha:\n    linha_separada = linha.split(sep=',') # quebra a string nas virgulas e salva os resultados em uma lista\n    idade = linha_separada[0] # seleciona o primeiro elemento da lista\n    idade = int(idade) # converte o valor de string para integer (inteiro)\n    idades.append(idade) # salva o valor na lista de idades\n    linha = arquivo.readline() # lê uma nova linha, se a linha não existir, salva o valor None\n\nprint(idades)",
   "execution_count": null,
   "outputs": []
  },
  {
   "cell_type": "markdown",
   "source": "## 2\\. Escrita",
   "metadata": {
    "id": "4rRCvy_UURrM",
    "cell_id": "00021-f8be9a29-d116-4c5b-b51f-f8dcccf39db5",
    "deepnote_cell_type": "markdown"
   }
  },
  {
   "cell_type": "markdown",
   "source": "### **2.1. with / open** ",
   "metadata": {
    "id": "3FTT-S0apCyF",
    "cell_id": "00022-c31de9bf-955e-42c9-8d6e-de3706458ea1",
    "deepnote_cell_type": "markdown"
   }
  },
  {
   "cell_type": "markdown",
   "source": "Comando para ler/escrever arquivos.\n\n```python\nwith open(file='<caminho do arquivo do arquivo>', mode='<modo de leitura/escrita>', encoding='<decodificador>') as <apelido>:\n  bloco de código\n```",
   "metadata": {
    "id": "qJ4xZ0DgpCyd",
    "cell_id": "00023-e1eecc89-9246-4509-a0a3-09fcf7dd36a1",
    "deepnote_cell_type": "markdown"
   }
  },
  {
   "cell_type": "markdown",
   "source": "Os modos de leitura são:\n\n*   **r**: Abrir o arquivo para leitura (padrão);\n*   **w**: Abrir o arquivo para escrita (sobreescreve o arquivo original).\n*   **a**: Abrir o arquivo para acrescentar (não sobreescreve o arquivo original)\n\n",
   "metadata": {
    "id": "9qXlv5OCpCye",
    "cell_id": "00024-8ec3238f-259e-4f98-b00c-8cba34dbf879",
    "deepnote_cell_type": "markdown"
   }
  },
  {
   "cell_type": "markdown",
   "source": "### **2.2. write** ",
   "metadata": {
    "id": "Y1W9Hv8fURrZ",
    "cell_id": "00025-7d1b3457-890b-4510-b1ca-ce6bcb613d69",
    "deepnote_cell_type": "markdown"
   }
  },
  {
   "cell_type": "markdown",
   "source": "Comando para escrever em um arquivo, se o arquivo não existir, ele será criado.",
   "metadata": {
    "id": "blLLUg9IrRed",
    "cell_id": "00026-d08727d7-f140-4ccf-ad7d-7bddbc7c61aa",
    "deepnote_cell_type": "markdown"
   }
  },
  {
   "cell_type": "markdown",
   "source": "- Modo de escrita (w).",
   "metadata": {
    "id": "4RT69P1CrZAo",
    "cell_id": "00027-01f467e0-6585-44a4-9715-cede040c30df",
    "deepnote_cell_type": "markdown"
   }
  },
  {
   "cell_type": "code",
   "metadata": {
    "id": "aqPMQ27bpfGL",
    "cell_id": "00028-6bdfd21b-b299-4cac-9576-b888342645bd",
    "deepnote_cell_type": "code"
   },
   "source": "with open(file='idades.csv', mode='w', encoding='utf8') as fp:\n  linha = 'idade' + '\\n'\n  fp.write(linha)\n  for idade in idades:\n    linha = str(idade) + '\\n'\n    fp.write(linha)",
   "execution_count": null,
   "outputs": []
  },
  {
   "cell_type": "markdown",
   "source": " - Modo de acréscimo (a).",
   "metadata": {
    "id": "YlDZzK4grar5",
    "cell_id": "00029-d9d7d577-b09d-44cb-bb28-ec10c47e4f2f",
    "deepnote_cell_type": "markdown"
   }
  },
  {
   "cell_type": "code",
   "metadata": {
    "id": "s3fyBEszq6GL",
    "cell_id": "00030-357e4e92-855a-4c51-94fe-b4a53c31c220",
    "deepnote_cell_type": "code"
   },
   "source": "with open(file='idades.csv', mode='a', encoding='utf8') as fp:\n  for idade in idades:\n    linha = str(idade + 100) + '\\n'\n    fp.write(linha)",
   "execution_count": null,
   "outputs": []
  },
  {
   "cell_type": "markdown",
   "source": "**Exemplo**: Copiando um arquivo com uma extensão diferente.",
   "metadata": {
    "id": "BYzPVfCyrn7U",
    "cell_id": "00031-d3219817-960c-4d8d-a500-dcbe94131e06",
    "deepnote_cell_type": "markdown"
   }
  },
  {
   "cell_type": "code",
   "metadata": {
    "id": "fJ5OMzbar22Q",
    "cell_id": "00032-d4d0a7d5-228d-4dc5-b512-a1ccdd194518",
    "deepnote_cell_type": "code"
   },
   "source": "%%writefile banco-texto.txt\nage,job,marital,education,default,balance,housing,loan\n30,unemployed,married,primary,no,1787,no,no\n33,services,married,secondary,no,4789,yes,yes\n35,management,single,tertiary,no,1350,yes,no\n30,management,married,tertiary,no,1476,yes,yes\n59,blue-collar,married,secondary,no,0,yes,no\n35,management,single,tertiary,no,747,no,no\n36,self-employed,married,tertiary,no,307,yes,no\n39,technician,married,secondary,no,147,yes,no\n41,entrepreneur,married,tertiary,no,221,yes,no\n43,services,married,primary,no,-88,yes,yes",
   "execution_count": null,
   "outputs": []
  },
  {
   "cell_type": "code",
   "metadata": {
    "id": "mB-oJ_9FruGk",
    "cell_id": "00033-ee8692f3-2217-4794-b1b0-f8ae7d4e4fa9",
    "deepnote_cell_type": "code"
   },
   "source": "with open(file='./banco-texto.txt', mode='r', encoding='utf8') as leitura:\n  with open(file='./banco-csv.csv', mode='w', encoding='utf8') as escrita:\n    linha = leitura.readline()\n    while linha:\n      escrita.write(linha)\n      linha = leitura.readline()",
   "execution_count": null,
   "outputs": []
  },
  {
   "cell_type": "markdown",
   "source": "## 3\\. Funções",
   "metadata": {
    "id": "ELgoMRAAUSjv",
    "cell_id": "00034-b5d275dc-5ff5-431c-af4a-7ba1fcd2cd9c",
    "deepnote_cell_type": "markdown"
   }
  },
  {
   "cell_type": "markdown",
   "source": "### **3.1. Motivação** ",
   "metadata": {
    "id": "CuLkQY76USjw",
    "cell_id": "00035-13f509e6-d1e5-40a0-88c8-9513ad6888fc",
    "deepnote_cell_type": "markdown"
   }
  },
  {
   "cell_type": "markdown",
   "source": "Você trabalha na bolsa de valores e precisa simular o retorno de um investimento para diversos cenários:",
   "metadata": {
    "id": "Fg8Ib6XA3gK_",
    "cell_id": "00036-37df5fdd-b748-41d6-b55e-a98aedbc4bce",
    "deepnote_cell_type": "markdown"
   }
  },
  {
   "cell_type": "code",
   "metadata": {
    "id": "ivOfQr2f3yj7",
    "cell_id": "00037-f8cb8784-9da8-4ae8-ab3e-ab83f142c62c",
    "deepnote_cell_type": "code"
   },
   "source": "valor_inicial, taxa_juros_anual, anos = 1000.00, 0.05, 10\n\nvalor_final = valor_inicial\nfor ano in range(1, anos+1):\n  valor_final = valor_final * (1 + taxa_juros_anual)\nvalor_final = round(valor_final, 2)\nprint(f'Para um valor inicial de R$ {valor_inicial} e uma taxa de juros anual de {taxa_juros_anual}, em {anos} anos você terá R$ {valor_final}') \n\nvalor_inicial, taxa_juros_anual, anos = 1020.00, 0.03, 10\n\nvalor_final = valor_inicial\nfor ano in range(1, anos+1):\n  valor_final = valor_final * (1 + taxa_juros_anual)\nvalor_final = round(valor_final, 2)\nprint(f'Para um valor inicial de R$ {valor_inicial} e uma taxa de juros anual de {taxa_juros_anual}, em {anos} anos você terá R$ {valor_final}') ",
   "execution_count": null,
   "outputs": []
  },
  {
   "cell_type": "markdown",
   "source": "Como podemos fazer para reaproveitar o código e evitar repetições?",
   "metadata": {
    "id": "VXDHNVnM4PYO",
    "cell_id": "00038-9a399917-b5cc-4d39-a7be-a6956acfd1e4",
    "deepnote_cell_type": "markdown"
   }
  },
  {
   "cell_type": "markdown",
   "source": "### **3.2. Definição** ",
   "metadata": {
    "id": "JENLdmHkUSjx",
    "cell_id": "00039-3395bce4-45a7-47ed-a248-277ee539ebbc",
    "deepnote_cell_type": "markdown"
   }
  },
  {
   "cell_type": "markdown",
   "source": "Um bloco de código que só executado quando chamado.",
   "metadata": {
    "id": "niLcDcONyuQ9",
    "cell_id": "00040-652d48a6-84bf-4c9a-9f28-7e6ca99d720f",
    "deepnote_cell_type": "markdown"
   }
  },
  {
   "cell_type": "markdown",
   "source": "```python\ndef <nome>(<param 1>, <param 2>, ...):\n  bloco de código\n  return <valor de retorno>\n```\n\n```python\nvar = <nome da funcao>(<param 1>, <param 2>, ...)\n```",
   "metadata": {
    "id": "Qci6vQqss-Hb",
    "cell_id": "00041-c4b5ee61-b79a-44aa-add3-234b69f12ddf",
    "deepnote_cell_type": "markdown"
   }
  },
  {
   "cell_type": "code",
   "metadata": {
    "id": "HOGLdF3dv-8D",
    "cell_id": "00042-ec5541ef-1977-49ba-adde-a3583980d43b",
    "deepnote_cell_type": "code"
   },
   "source": "def imprime(mensagem: str):\n  print(mensagem)",
   "execution_count": null,
   "outputs": []
  },
  {
   "cell_type": "code",
   "metadata": {
    "id": "TzaUvMeKwJ63",
    "cell_id": "00043-a4feec5d-927c-4b95-bed5-81ec1b470578",
    "deepnote_cell_type": "code"
   },
   "source": "texto = 'Fala pessoal, meu nome é André Perez!'",
   "execution_count": null,
   "outputs": []
  },
  {
   "cell_type": "code",
   "metadata": {
    "id": "5Csj9AY3wOMX",
    "cell_id": "00044-4d3766ae-520d-49bb-bfec-1c32a0512b9c",
    "deepnote_cell_type": "code"
   },
   "source": "imprime(mensagem='Fala pessoal, meu nome é André Perez!')",
   "execution_count": null,
   "outputs": []
  },
  {
   "cell_type": "markdown",
   "source": "### **3.3. Retorno** ",
   "metadata": {
    "id": "qcHSzY6kUSjy",
    "cell_id": "00045-e6e225f6-214d-4d46-92bb-13e39ba7fd4b",
    "deepnote_cell_type": "markdown"
   }
  },
  {
   "cell_type": "markdown",
   "source": "Toda função retorna pelo menos um valor, se não específicado, retorna o valor nulo.",
   "metadata": {
    "id": "Vtp-kxhAz2A7",
    "cell_id": "00046-e478ed50-6cd7-4399-bb87-9589f3780cf2",
    "deepnote_cell_type": "markdown"
   }
  },
  {
   "cell_type": "code",
   "metadata": {
    "id": "yjZXbgGLz7LF",
    "cell_id": "00047-b7324f9e-4a8e-4bca-ae37-cb80bda0d1db",
    "deepnote_cell_type": "code"
   },
   "source": "def maiusculo(texto: str) -> str:\n  text_maiusculo = texto.upper()\n  return text_maiusculo",
   "execution_count": null,
   "outputs": []
  },
  {
   "cell_type": "code",
   "metadata": {
    "id": "sfAJqKF80KcU",
    "cell_id": "00048-c89a7057-0639-4cf3-ae6e-6da411555164",
    "deepnote_cell_type": "code"
   },
   "source": "nome = 'André Perez'\nprint(nome)\n\nnome_maiusculo = maiusculo(texto=nome)\nprint(nome_maiusculo)",
   "execution_count": null,
   "outputs": []
  },
  {
   "cell_type": "code",
   "metadata": {
    "id": "6oGDzweQtaJ1",
    "cell_id": "00049-095fb610-ae76-484c-afa9-6ecdff10d435",
    "deepnote_cell_type": "code"
   },
   "source": "def extrair_usuario_email_provedor(email: str) -> (str, str):\n  email_separado = email.split(sep='@')\n  usuario = email_separado[0]\n  provedor = email_separado[1]\n  return usuario, provedor",
   "execution_count": null,
   "outputs": []
  },
  {
   "cell_type": "code",
   "metadata": {
    "id": "nK9i6Eqttiwc",
    "cell_id": "00050-02ffaa5c-ec8b-4284-b0c3-d6077f053835",
    "deepnote_cell_type": "code"
   },
   "source": "email = 'andre.perez@gmail.com'\nusuario, provedor = extrair_usuario_email_provedor(email=email)\nprint(usuario)\nprint(provedor)",
   "execution_count": null,
   "outputs": []
  },
  {
   "cell_type": "markdown",
   "source": "### **3.3. Parâmetros** ",
   "metadata": {
    "id": "pBOPhB4ey4G6",
    "cell_id": "00051-1681e76c-1db1-4f5f-a64b-da8c63f34ebe",
    "deepnote_cell_type": "markdown"
   }
  },
  {
   "cell_type": "markdown",
   "source": "Parâmetros são os valores que a passamos na chamada da função.",
   "metadata": {
    "id": "He3xbNvQD_lh",
    "cell_id": "00052-d3f9609f-6721-4f2c-b374-666072d810a6",
    "deepnote_cell_type": "markdown"
   }
  },
  {
   "cell_type": "markdown",
   "source": " - Função sem parâmetro:",
   "metadata": {
    "id": "ncVF5va-QXa3",
    "cell_id": "00053-bcc1ed44-c811-4e92-baa4-45e4e8a1a0a4",
    "deepnote_cell_type": "markdown"
   }
  },
  {
   "cell_type": "code",
   "metadata": {
    "id": "1QWOVjF5Qa7P",
    "cell_id": "00054-04b4d703-3f58-420c-9d91-2171f31b172c",
    "deepnote_cell_type": "code"
   },
   "source": "def pi() -> float:\n  return 3.14159265359",
   "execution_count": null,
   "outputs": []
  },
  {
   "cell_type": "code",
   "metadata": {
    "id": "j4rf5u9vQtgW",
    "cell_id": "00055-e556de3c-0756-4b4b-a6e6-6d91223506ea",
    "deepnote_cell_type": "code"
   },
   "source": "pi = pi()\nprint(pi)",
   "execution_count": null,
   "outputs": []
  },
  {
   "cell_type": "code",
   "metadata": {
    "id": "E0HdlKYHQw55",
    "cell_id": "00056-354973ba-6d0c-4828-88ea-deaba1e43e09",
    "deepnote_cell_type": "code"
   },
   "source": "def imprime_pi() -> None:\n  print(3.14159265359)\n  return None",
   "execution_count": null,
   "outputs": []
  },
  {
   "cell_type": "code",
   "metadata": {
    "id": "jHgpZqHnQ4JW",
    "cell_id": "00057-67841844-9e69-4138-89a2-9fd1c4ecdbb8",
    "deepnote_cell_type": "code"
   },
   "source": "imprime_pi()",
   "execution_count": null,
   "outputs": []
  },
  {
   "cell_type": "markdown",
   "source": " - Função com parâmetro:",
   "metadata": {
    "id": "b9zFMVn3QRac",
    "cell_id": "00058-246a2a51-9ddf-4661-9581-9c19b4bf24d1",
    "deepnote_cell_type": "markdown"
   }
  },
  {
   "cell_type": "code",
   "metadata": {
    "id": "U0fc5LA_EFTW",
    "cell_id": "00059-c537b36b-fb36-440d-ad3d-3e6186c81b25",
    "deepnote_cell_type": "code"
   },
   "source": "def escreve_arquivo_csv(nome: str, cabecalho: str, conteudos: list) -> bool:\n\n  try: \n\n    with open(file=nome, mode='w', encoding='utf8') as fp:\n      linha = cabecalho + '\\n'\n      fp.write(linha)\n      for conteudo in conteudos:\n        linha = str(conteudo) + '\\n'\n        fp.write(linha)\n\n  except Exception as exc:\n    \n    print(exc)\n    return False\n\n  return True",
   "execution_count": null,
   "outputs": []
  },
  {
   "cell_type": "code",
   "metadata": {
    "id": "MRyFsh_nQFJh",
    "cell_id": "00060-5def5074-c316-471b-81d1-143e1f3bcfdf",
    "deepnote_cell_type": "code"
   },
   "source": "nome = 'idades-funcao-erro.csv'\ncabecalho = 'idade'\n# conteudos = [30, 33, 35, 30, 59, 35, 36, 39, 41, 43]\nconteudos = 10\n\nescreveu_com_sucesso = escreve_arquivo_csv(nome=nome, cabecalho=cabecalho, conteudos=conteudos)\nprint(escreveu_com_sucesso)",
   "execution_count": null,
   "outputs": []
  },
  {
   "cell_type": "markdown",
   "source": "### **3.4. Revisitando a motivação** ",
   "metadata": {
    "id": "Nq0WCx8HUSjz",
    "cell_id": "00061-e2e857d8-ba29-45b8-ab69-e68fde21d176",
    "deepnote_cell_type": "markdown"
   }
  },
  {
   "cell_type": "code",
   "metadata": {
    "id": "B9fVGad25GHm",
    "cell_id": "00062-65dcc32a-8cf3-43d8-b085-87332c5979ff",
    "deepnote_cell_type": "code"
   },
   "source": "def juros_compostos_anual(valor_inicial: float, taxa_juros_anual: float, anos: int) -> float:\n  valor_final = valor_inicial\n  for ano in range(1, anos+1):\n    valor_final = valor_final * (1 + taxa_juros_anual)\n  valor_final = round(valor_final, 2)\n  print(f'Para um valor inicial de R$ {valor_inicial} e uma taxa de juros anual de {taxa_juros_anual}, em {anos} anos você terá R$ {valor_final}') \n  return valor_final\n\nvalor_inicial, taxa_juros_anual, anos = 1000.00, 0.05, 10\nvalor_final = juros_compostos_anual(valor_inicial=valor_inicial, taxa_juros_anual=taxa_juros_anual, anos=anos)\n\nvalor_inicial, taxa_juros_anual, anos = 1020.00, 0.03, 10\nvalor_final = juros_compostos_anual(valor_inicial=valor_inicial, taxa_juros_anual=taxa_juros_anual, anos=anos) ",
   "execution_count": null,
   "outputs": []
  },
  {
   "cell_type": "markdown",
   "source": "## 4\\. Escopo",
   "metadata": {
    "id": "f20ThY5WXmns",
    "cell_id": "00063-bf296a0c-6f91-4034-be19-86e5bbf1e3f9",
    "deepnote_cell_type": "markdown"
   }
  },
  {
   "cell_type": "markdown",
   "source": "### **4.1. Definição** ",
   "metadata": {
    "id": "mU0sJeoCXmoK",
    "cell_id": "00064-71eb0ab8-eb6f-493d-8c48-2e99a872cb17",
    "deepnote_cell_type": "markdown"
   }
  },
  {
   "cell_type": "markdown",
   "source": "Define o ciclo de vida de uma variável.",
   "metadata": {
    "id": "oKh6lMEouTn0",
    "cell_id": "00065-0eacbe70-5986-4a19-8c58-de3f3bd62dee",
    "deepnote_cell_type": "markdown"
   }
  },
  {
   "cell_type": "markdown",
   "source": " - Escopo de função.",
   "metadata": {
    "id": "ozbwsD4Lu7p6",
    "cell_id": "00066-78273ea7-b235-4c4b-801e-45483241db89",
    "deepnote_cell_type": "markdown"
   }
  },
  {
   "cell_type": "code",
   "metadata": {
    "id": "ePdJM9qQuWrF",
    "cell_id": "00067-458081ee-a638-4326-8b66-ab98a6f3f744",
    "deepnote_cell_type": "code"
   },
   "source": "def soma_lista(numeros: list) -> int:\n  s = 0\n  for numero in numeros:\n    s = s + numero\n  return s",
   "execution_count": null,
   "outputs": []
  },
  {
   "cell_type": "code",
   "metadata": {
    "id": "3tILascnunHK",
    "cell_id": "00068-89d0be6d-5ca8-49cd-b4a2-9bff1b7a8fdc",
    "deepnote_cell_type": "code"
   },
   "source": "soma = soma_lista(numeros=[2] * 20)\nprint(soma)",
   "execution_count": null,
   "outputs": []
  },
  {
   "cell_type": "code",
   "metadata": {
    "id": "eGUN-4_ju0a6",
    "cell_id": "00069-a72687c2-ef5a-44fc-9a2b-78053a6d05b2",
    "deepnote_cell_type": "code"
   },
   "source": "print(s)",
   "execution_count": null,
   "outputs": []
  },
  {
   "cell_type": "markdown",
   "source": " - Escopo de estrutura condicional / repetição.",
   "metadata": {
    "id": "X1lEDZMpu-Zg",
    "cell_id": "00070-ae2ec371-2fc0-439e-8883-4c1c62ab8c50",
    "deepnote_cell_type": "markdown"
   }
  },
  {
   "cell_type": "code",
   "metadata": {
    "id": "hQQ85zrYvP-w",
    "cell_id": "00071-e3421155-a5a9-46c2-8468-2e627c711fee",
    "deepnote_cell_type": "code"
   },
   "source": "if True:\n  x = 100\nelse:\n  w = 50\n\nprint(x)",
   "execution_count": null,
   "outputs": []
  },
  {
   "cell_type": "markdown",
   "source": "<a style='text-decoration:none;line-height:16px;display:flex;color:#5B5B62;padding:10px;justify-content:end;' href='https://deepnote.com?utm_source=created-in-deepnote-cell&projectId=7bc88e6b-e21c-42d6-a070-b420cc720827' target=\"_blank\">\n<img alt='Created in deepnote.com' style='display:inline;max-height:16px;margin:0px;margin-right:7.5px;' src='data:image/svg+xml;base64,PD94bWwgdmVyc2lvbj0iMS4wIiBlbmNvZGluZz0iVVRGLTgiPz4KPHN2ZyB3aWR0aD0iODBweCIgaGVpZ2h0PSI4MHB4IiB2aWV3Qm94PSIwIDAgODAgODAiIHZlcnNpb249IjEuMSIgeG1sbnM9Imh0dHA6Ly93d3cudzMub3JnLzIwMDAvc3ZnIiB4bWxuczp4bGluaz0iaHR0cDovL3d3dy53My5vcmcvMTk5OS94bGluayI+CiAgICA8IS0tIEdlbmVyYXRvcjogU2tldGNoIDU0LjEgKDc2NDkwKSAtIGh0dHBzOi8vc2tldGNoYXBwLmNvbSAtLT4KICAgIDx0aXRsZT5Hcm91cCAzPC90aXRsZT4KICAgIDxkZXNjPkNyZWF0ZWQgd2l0aCBTa2V0Y2guPC9kZXNjPgogICAgPGcgaWQ9IkxhbmRpbmciIHN0cm9rZT0ibm9uZSIgc3Ryb2tlLXdpZHRoPSIxIiBmaWxsPSJub25lIiBmaWxsLXJ1bGU9ImV2ZW5vZGQiPgogICAgICAgIDxnIGlkPSJBcnRib2FyZCIgdHJhbnNmb3JtPSJ0cmFuc2xhdGUoLTEyMzUuMDAwMDAwLCAtNzkuMDAwMDAwKSI+CiAgICAgICAgICAgIDxnIGlkPSJHcm91cC0zIiB0cmFuc2Zvcm09InRyYW5zbGF0ZSgxMjM1LjAwMDAwMCwgNzkuMDAwMDAwKSI+CiAgICAgICAgICAgICAgICA8cG9seWdvbiBpZD0iUGF0aC0yMCIgZmlsbD0iIzAyNjVCNCIgcG9pbnRzPSIyLjM3NjIzNzYyIDgwIDM4LjA0NzY2NjcgODAgNTcuODIxNzgyMiA3My44MDU3NTkyIDU3LjgyMTc4MjIgMzIuNzU5MjczOSAzOS4xNDAyMjc4IDMxLjY4MzE2ODMiPjwvcG9seWdvbj4KICAgICAgICAgICAgICAgIDxwYXRoIGQ9Ik0zNS4wMDc3MTgsODAgQzQyLjkwNjIwMDcsNzYuNDU0OTM1OCA0Ny41NjQ5MTY3LDcxLjU0MjI2NzEgNDguOTgzODY2LDY1LjI2MTk5MzkgQzUxLjExMjI4OTksNTUuODQxNTg0MiA0MS42NzcxNzk1LDQ5LjIxMjIyODQgMjUuNjIzOTg0Niw0OS4yMTIyMjg0IEMyNS40ODQ5Mjg5LDQ5LjEyNjg0NDggMjkuODI2MTI5Niw0My4yODM4MjQ4IDM4LjY0NzU4NjksMzEuNjgzMTY4MyBMNzIuODcxMjg3MSwzMi41NTQ0MjUgTDY1LjI4MDk3Myw2Ny42NzYzNDIxIEw1MS4xMTIyODk5LDc3LjM3NjE0NCBMMzUuMDA3NzE4LDgwIFoiIGlkPSJQYXRoLTIyIiBmaWxsPSIjMDAyODY4Ij48L3BhdGg+CiAgICAgICAgICAgICAgICA8cGF0aCBkPSJNMCwzNy43MzA0NDA1IEwyNy4xMTQ1MzcsMC4yNTcxMTE0MzYgQzYyLjM3MTUxMjMsLTEuOTkwNzE3MDEgODAsMTAuNTAwMzkyNyA4MCwzNy43MzA0NDA1IEM4MCw2NC45NjA0ODgyIDY0Ljc3NjUwMzgsNzkuMDUwMzQxNCAzNC4zMjk1MTEzLDgwIEM0Ny4wNTUzNDg5LDc3LjU2NzA4MDggNTMuNDE4MjY3Nyw3MC4zMTM2MTAzIDUzLjQxODI2NzcsNTguMjM5NTg4NSBDNTMuNDE4MjY3Nyw0MC4xMjg1NTU3IDM2LjMwMzk1NDQsMzcuNzMwNDQwNSAyNS4yMjc0MTcsMzcuNzMwNDQwNSBDMTcuODQzMDU4NiwzNy43MzA0NDA1IDkuNDMzOTE5NjYsMzcuNzMwNDQwNSAwLDM3LjczMDQ0MDUgWiIgaWQ9IlBhdGgtMTkiIGZpbGw9IiMzNzkzRUYiPjwvcGF0aD4KICAgICAgICAgICAgPC9nPgogICAgICAgIDwvZz4KICAgIDwvZz4KPC9zdmc+' > </img>\nCreated in <span style='font-weight:600;margin-left:4px;'>Deepnote</span></a>",
   "metadata": {
    "tags": [],
    "created_in_deepnote_cell": true,
    "deepnote_cell_type": "markdown"
   }
  }
 ],
 "nbformat": 4,
 "nbformat_minor": 0,
 "metadata": {
  "colab": {
   "name": "module_4_class.ipynb",
   "provenance": [],
   "collapsed_sections": [],
   "toc_visible": true
  },
  "kernelspec": {
   "name": "python3",
   "display_name": "Python 3"
  },
  "deepnote_notebook_id": "35719020-0757-48b9-8ee5-37e70e3d0719",
  "deepnote": {},
  "deepnote_execution_queue": []
 }
}