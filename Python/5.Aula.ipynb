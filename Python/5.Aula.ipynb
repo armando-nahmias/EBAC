{
 "cells": [
  {
   "cell_type": "markdown",
   "source": "<img src=\"https://raw.githubusercontent.com/andre-marcos-perez/ebac-course-utils/main/media/logo/newebac_logo_black_half.png\" alt=\"ebac-logo\">\n\n---\n\n# **Módulo** | Python: Programação Funcional\nCaderno de **Aula**<br> \nProfessor [André Perez](https://www.linkedin.com/in/andremarcosperez/)\n\n---",
   "metadata": {
    "id": "KJqp9AANOCtf",
    "cell_id": "00000-ec128597-233e-480e-a50a-136844d6fbe8",
    "deepnote_cell_type": "markdown"
   }
  },
  {
   "cell_type": "markdown",
   "source": "# **Tópicos**\n\n<ol type=\"1\">\n  <li>Função lambda;</li>\n  <li>Função map;</li>\n  <li>Função filter;</li>\n  <li>Função reduce.</li>\n</ol>",
   "metadata": {
    "id": "d9jDtUbDOE1-",
    "cell_id": "00001-a083024c-9567-412c-95a3-7969e296f170",
    "deepnote_cell_type": "markdown"
   }
  },
  {
   "cell_type": "markdown",
   "source": "---",
   "metadata": {
    "id": "SmoHgt-lwkpD",
    "cell_id": "00002-54012361-7812-43c9-b371-7c12d5c8b730",
    "deepnote_cell_type": "markdown"
   }
  },
  {
   "cell_type": "markdown",
   "source": "# **Aulas**",
   "metadata": {
    "id": "GABI6OW8OfQ2",
    "cell_id": "00003-a518a50e-c8a8-4b60-90b7-b1f21c7646e7",
    "deepnote_cell_type": "markdown"
   }
  },
  {
   "cell_type": "markdown",
   "source": "## 0\\. Paradigmas de Programação",
   "metadata": {
    "id": "SB6t60yExrvH",
    "cell_id": "00004-3e607c9c-06f5-43c8-8cea-ce850c38ffe8",
    "deepnote_cell_type": "markdown"
   }
  },
  {
   "cell_type": "markdown",
   "source": "Estilos de programação.\n\n1.   Imperativa;\n2.   Funcional;\n3.   Orientada a objetos.\n\n",
   "metadata": {
    "id": "UlwvYXdqxzEe",
    "cell_id": "00005-e3492204-7555-4ecb-a063-4263f7744f52",
    "deepnote_cell_type": "markdown"
   }
  },
  {
   "cell_type": "markdown",
   "source": "O Python é uma linguagem [multi-paradigma](https://en.wikipedia.org/wiki/Python_(programming_language)).",
   "metadata": {
    "id": "Z1zeqH6gzCam",
    "cell_id": "00006-872a49b6-8137-4886-a5ff-9a5a34d78b30",
    "deepnote_cell_type": "markdown"
   }
  },
  {
   "cell_type": "markdown",
   "source": "\n\n![Screenshot from 2021-03-29 22-42-04.png](data:image/png;base64,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)",
   "metadata": {
    "id": "8oxkS64ky-oS",
    "cell_id": "00007-8adc776d-b3f3-4acb-a6c4-36998b899199",
    "deepnote_cell_type": "markdown"
   }
  },
  {
   "cell_type": "markdown",
   "source": "Este módulo é sobre **programação funcional**, que é o estilo que busca manipular dados com muitas e pequenas funções.",
   "metadata": {
    "id": "tL-rmLDH0NDx",
    "cell_id": "00008-a45b4d58-45ec-4b2d-91b6-b4ca0cce002c",
    "deepnote_cell_type": "markdown"
   }
  },
  {
   "cell_type": "markdown",
   "source": "## 1\\. Função lambda",
   "metadata": {
    "id": "muD1vxozykSC",
    "cell_id": "00009-4b016d1e-a02d-4acf-87a5-2208304efd81",
    "deepnote_cell_type": "markdown"
   }
  },
  {
   "cell_type": "markdown",
   "source": "### **1.1. Definição** ",
   "metadata": {
    "id": "E6D5rjlESJ1A",
    "cell_id": "00010-5baac6d2-bd1d-46c7-99dd-3024f71b2560",
    "deepnote_cell_type": "markdown"
   }
  },
  {
   "cell_type": "markdown",
   "source": "Função anônima (sem nome) com bloco de código super enxuto e que pode ser salva em uma variável. Em geral é utilizada com outros métodos funcionais como `map`, `filter`, e `reduce`.",
   "metadata": {
    "id": "WH7mnNwBiPJM",
    "cell_id": "00011-69580078-2ef0-49e9-a152-4c5eaa165517",
    "deepnote_cell_type": "markdown"
   }
  },
  {
   "cell_type": "markdown",
   "source": "```python\nvariavel = lambda params: expressão\n```",
   "metadata": {
    "id": "Ue8w9NGLit7L",
    "cell_id": "00012-c44d71b4-7b1a-46de-9bde-8ec5f576dc59",
    "deepnote_cell_type": "markdown"
   }
  },
  {
   "cell_type": "markdown",
   "source": "**Exemplo**: Função `lambda` para extrair provedor de e-mail.",
   "metadata": {
    "id": "CoWkK5FYlB1J",
    "cell_id": "00013-97cbd319-67d3-402e-9ce6-9754d8ec842b",
    "deepnote_cell_type": "markdown"
   }
  },
  {
   "cell_type": "code",
   "metadata": {
    "id": "FxehjSvzitMU",
    "cell_id": "00014-175d4b82-ee34-44c6-aca2-920b9290f2f7",
    "deepnote_cell_type": "code"
   },
   "source": "extrair_provedor_email = lambda email: email.split(sep='@')[-1]",
   "execution_count": null,
   "outputs": []
  },
  {
   "cell_type": "code",
   "metadata": {
    "id": "twp1ku8rjUUD",
    "cell_id": "00015-44bc64f7-0412-4f68-99ac-f8ad474876ae",
    "deepnote_cell_type": "code"
   },
   "source": "email = 'andre.perez@gmail.com'\nprint(email)\n\nprovedor_email = extrair_provedor_email(email)\nprint(provedor_email)",
   "execution_count": null,
   "outputs": []
  },
  {
   "cell_type": "markdown",
   "source": "**Exemplo**: Função `lamba` com estruturas condicionais.",
   "metadata": {
    "id": "1E0ZrJjij6Dh",
    "cell_id": "00016-099f4a2a-6a35-40a3-a53f-5de986aba8d1",
    "deepnote_cell_type": "markdown"
   }
  },
  {
   "cell_type": "code",
   "metadata": {
    "id": "4taFAg0djjRi",
    "cell_id": "00017-f78dd7e5-5440-4b09-9f63-8bdbcd6d618e",
    "deepnote_cell_type": "code"
   },
   "source": "numero_e_par = lambda numero: True if numero % 2 == 0 else False",
   "execution_count": null,
   "outputs": []
  },
  {
   "cell_type": "code",
   "metadata": {
    "id": "ZZYLIphikWW0",
    "cell_id": "00018-695efc27-d5c4-4eb9-967d-9f72fe34612b",
    "deepnote_cell_type": "code"
   },
   "source": "numeros = range(0, 10)",
   "execution_count": null,
   "outputs": []
  },
  {
   "cell_type": "code",
   "metadata": {
    "id": "NTSGFCfqkel9",
    "cell_id": "00019-3f452940-5323-4231-ba88-7b75a6e3c871",
    "deepnote_cell_type": "code"
   },
   "source": "for numero in numeros:\n  if numero_e_par(numero) == True:\n    print(f'O número {numero} é par!')",
   "execution_count": null,
   "outputs": []
  },
  {
   "cell_type": "markdown",
   "source": "### **1.2. Função de alta ordem** ",
   "metadata": {
    "id": "wNkFG1qKSU9M",
    "cell_id": "00020-7b2f68ef-528f-49ae-9641-fd8d1ef1c0af",
    "deepnote_cell_type": "markdown"
   }
  },
  {
   "cell_type": "markdown",
   "source": "São funções que recebem outras funções para parâmetro ou retornam outra função.",
   "metadata": {
    "id": "vtilAzzIl7ty",
    "cell_id": "00021-d93b8f00-4c1a-4450-95ae-79170e09fc3c",
    "deepnote_cell_type": "markdown"
   }
  },
  {
   "cell_type": "markdown",
   "source": "**Exemplo**: Juros compostos dinâmico.",
   "metadata": {
    "id": "vNmME7aAmInY",
    "cell_id": "00022-c38a4774-3844-4189-a4e3-d5eb867ceec6",
    "deepnote_cell_type": "markdown"
   }
  },
  {
   "cell_type": "markdown",
   "source": " - Definição.",
   "metadata": {
    "id": "PR-if4iKbp2i",
    "cell_id": "00023-6139b2c3-2c57-4524-94b9-a6f098629391",
    "deepnote_cell_type": "markdown"
   }
  },
  {
   "cell_type": "code",
   "metadata": {
    "id": "VFJ2d9_UmOft",
    "cell_id": "00024-d42f62ac-b63f-48e1-94f4-b40ce841a95c",
    "deepnote_cell_type": "code"
   },
   "source": "def retorno(juros: float):\n  return lambda investimento: investimento * (1 + juros)",
   "execution_count": null,
   "outputs": []
  },
  {
   "cell_type": "markdown",
   "source": " - Instanciação.",
   "metadata": {
    "id": "Bivb4Ig2bs8i",
    "cell_id": "00025-594f2d3b-ac28-4332-914d-db0f545ed09d",
    "deepnote_cell_type": "markdown"
   }
  },
  {
   "cell_type": "code",
   "metadata": {
    "id": "Zgc4vFgzm0Fd",
    "cell_id": "00026-8ce78f15-f392-418c-94d1-641401db124f",
    "deepnote_cell_type": "code"
   },
   "source": "retorno_5_porcento = retorno(juros=0.05)\nretorno_10_porcento = retorno(juros=0.10)",
   "execution_count": null,
   "outputs": []
  },
  {
   "cell_type": "code",
   "metadata": {
    "id": "-EyITLHbm8QS",
    "cell_id": "00027-e7d20a2d-68b4-4fb3-a972-84337edde6ec",
    "deepnote_cell_type": "code"
   },
   "source": "valor_final = retorno_5_porcento(investimento=1000)\nprint(valor_final)\n\nvalor_final = retorno_10_porcento(investimento=1000)\nprint(valor_final)",
   "execution_count": null,
   "outputs": []
  },
  {
   "cell_type": "markdown",
   "source": " - Uso.",
   "metadata": {
    "id": "l-l2Khvxb058",
    "cell_id": "00028-51c862ca-a42f-4acc-99fe-43c701f3b6d1",
    "deepnote_cell_type": "markdown"
   }
  },
  {
   "cell_type": "code",
   "metadata": {
    "id": "2xa0CmgwnWjt",
    "cell_id": "00029-964ee780-88fd-4d19-ac1b-c47db7c63998",
    "deepnote_cell_type": "code"
   },
   "source": "anos = 10\nvalor_inicial = 1000\nvalor_final = valor_inicial\n\nfor ano in range(1, anos+1):\n  valor_final = retorno_5_porcento(investimento=valor_final)\n\nvalor_final = round(valor_final, 2)\nprint(valor_final)",
   "execution_count": null,
   "outputs": []
  },
  {
   "cell_type": "code",
   "metadata": {
    "id": "SLDy8fqI6v-F",
    "cell_id": "00030-d86eedaa-f250-47c5-ac85-f1d6116741ca",
    "deepnote_cell_type": "code"
   },
   "source": "anos = 10\nvalor_inicial = 1000\nvalor_final = valor_inicial\n\nfor ano in range(1, anos+1):\n  valor_final = retorno_10_porcento(investimento=valor_final)\n\nvalor_final = round(valor_final, 2)\nprint(valor_final)",
   "execution_count": null,
   "outputs": []
  },
  {
   "cell_type": "markdown",
   "source": "## 2\\. Função map",
   "metadata": {
    "id": "4rRCvy_UURrM",
    "cell_id": "00031-5bfa9bd5-f8ee-461f-b5b9-8721fcf72daa",
    "deepnote_cell_type": "markdown"
   }
  },
  {
   "cell_type": "markdown",
   "source": "### **2.1. Definição** ",
   "metadata": {
    "id": "Y1W9Hv8fURrZ",
    "cell_id": "00032-55245a05-6d81-403b-bc85-4a89fc76fdcc",
    "deepnote_cell_type": "markdown"
   }
  },
  {
   "cell_type": "markdown",
   "source": "Aplica uma função em todos os elementos de uma coleção (`list`, `dict`, etc.) e retorna **todos** os elementos transformados.",
   "metadata": {
    "id": "ZKyNtSjsR5lZ",
    "cell_id": "00033-c41b5d95-44b8-4598-821d-7454cf4d33cd",
    "deepnote_cell_type": "markdown"
   }
  },
  {
   "cell_type": "markdown",
   "source": "```python\nvariavel = map(função, coleção)\n```",
   "metadata": {
    "id": "iJXLrXXeR5P1",
    "cell_id": "00034-2d563205-f8d2-4603-94cb-83132a7ce15a",
    "deepnote_cell_type": "markdown"
   }
  },
  {
   "cell_type": "code",
   "metadata": {
    "id": "pH0O5qTxhr_9",
    "cell_id": "00035-3a557cfb-c7f1-4ae7-9427-e36c07de289c",
    "deepnote_cell_type": "code"
   },
   "source": "numeros = [1, 2, 3]\n\nnumeros_ao_cubo = map(lambda num: num ** 3, numeros)\n\nprint(list(numeros_ao_cubo))",
   "execution_count": null,
   "outputs": []
  },
  {
   "cell_type": "markdown",
   "source": "### **2.2. Função de alta ordem** ",
   "metadata": {
    "id": "SyLaQ3YIg01s",
    "cell_id": "00036-395e855c-0c6a-485e-9297-24f3611c9783",
    "deepnote_cell_type": "markdown"
   }
  },
  {
   "cell_type": "markdown",
   "source": "**Exemplo**: Função `lambda` para extrair provedor de e-mail (1 parâmetro).",
   "metadata": {
    "id": "Bo4yLVhWeV7g",
    "cell_id": "00037-2a8d7550-9f0d-40f9-b8b4-15796f708379",
    "deepnote_cell_type": "markdown"
   }
  },
  {
   "cell_type": "code",
   "metadata": {
    "id": "S55Q0alJduN0",
    "cell_id": "00038-5b6adc20-a769-44d4-892b-7a340966a137",
    "deepnote_cell_type": "code"
   },
   "source": "emails = ['andre.perez@gmail.com', 'andre.perez@live.com', 'andre.perez@yahoo.com']\nextrair_provedor_email = lambda email: email.split(sep='@')[-1]",
   "execution_count": null,
   "outputs": []
  },
  {
   "cell_type": "code",
   "metadata": {
    "id": "opaCXNW4eQVo",
    "cell_id": "00039-f1326ed4-c8b5-475b-ae80-af8ccd235715",
    "deepnote_cell_type": "code"
   },
   "source": "provedores = []\nfor email in emails:\n  provedor = extrair_provedor_email(email)\n  provedores.append(provedor)\n\nprint(provedores)",
   "execution_count": null,
   "outputs": []
  },
  {
   "cell_type": "code",
   "metadata": {
    "id": "jxN5-iiTexxj",
    "cell_id": "00040-b9ec44ef-af70-4d44-b600-a16dce48dc94",
    "deepnote_cell_type": "code"
   },
   "source": "provedores = map(extrair_provedor_email, emails)\nprint(provedores)",
   "execution_count": null,
   "outputs": []
  },
  {
   "cell_type": "code",
   "metadata": {
    "id": "170a0sYve9lF",
    "cell_id": "00041-afba72ee-23ae-4507-b9ba-63699fb1299a",
    "deepnote_cell_type": "code"
   },
   "source": "provedores = list(map(extrair_provedor_email, emails))\nprint(provedores)",
   "execution_count": null,
   "outputs": []
  },
  {
   "cell_type": "code",
   "metadata": {
    "id": "3OyM_eU1fBYH",
    "cell_id": "00042-a7c1449a-8494-4e9f-a418-3b668b42a698",
    "deepnote_cell_type": "code"
   },
   "source": "provedores = map(lambda email: email.split(sep='@')[-1], emails)\n...\nprint(list(provedores))",
   "execution_count": null,
   "outputs": []
  },
  {
   "cell_type": "markdown",
   "source": "- **Exemplo**: Investimento (Mais de 1 parâmetros).",
   "metadata": {
    "id": "hnfQVJGzfXDP",
    "cell_id": "00043-3ecbf941-75ff-491a-8d68-42c8a35168ff",
    "deepnote_cell_type": "markdown"
   }
  },
  {
   "cell_type": "code",
   "metadata": {
    "id": "G9stBKyHfc5-",
    "cell_id": "00044-4e9407ab-cf74-49c9-badb-16462bc5aec7",
    "deepnote_cell_type": "code"
   },
   "source": "anos = [10, 10, 10]\ntaxas_juros = [0.05, 0.10, 0.15]\nvalores_iniciais = [1000, 1000, 1000]\n\ndef retorno(valor_inicial: float, taxa_juros: float, anos: int) -> float:\n  valor_final = valor_inicial\n  for ano in range(1,anos+1):\n    valor_final = valor_final * (1+taxa_juros)\n  return round(valor_final, 2)\n\ncenarios = list(map(retorno, valores_iniciais, taxas_juros, anos))\nprint(cenarios)",
   "execution_count": null,
   "outputs": []
  },
  {
   "cell_type": "markdown",
   "source": "## 3\\. Função filter",
   "metadata": {
    "id": "ELgoMRAAUSjv",
    "cell_id": "00045-11cdce11-97b6-4711-8514-823292b43284",
    "deepnote_cell_type": "markdown"
   }
  },
  {
   "cell_type": "markdown",
   "source": "### **3.1. Definição** ",
   "metadata": {
    "id": "CuLkQY76USjw",
    "cell_id": "00046-d017f35d-ebbd-457f-b32c-8c048a3a82a4",
    "deepnote_cell_type": "markdown"
   }
  },
  {
   "cell_type": "markdown",
   "source": "Aplica uma função lógica (que retorna um booleano) em todos os elementos de uma coleção (`list`, `dict`, etc.) e retorna **apenas** aqueles que resultaram em verdadeiro (`True`).",
   "metadata": {
    "id": "YlVK531qSI_e",
    "cell_id": "00047-6ed331c1-f21a-4daa-a3a6-e261ed4db053",
    "deepnote_cell_type": "markdown"
   }
  },
  {
   "cell_type": "markdown",
   "source": "```python\nvariavel = filter(função, coleção)\n```",
   "metadata": {
    "id": "CXonwzEsSJae",
    "cell_id": "00048-f62ae0cd-4292-472f-b35f-ca8d416622e0",
    "deepnote_cell_type": "markdown"
   }
  },
  {
   "cell_type": "code",
   "metadata": {
    "id": "Be55OiGdiMWV",
    "cell_id": "00049-f2863d2a-afdb-4883-a3b1-4f095527cb5d",
    "deepnote_cell_type": "code"
   },
   "source": "numeros = [1, 2, 3]\n\nnumeros_par = filter(lambda num: num % 2 == 0, numeros)\n\nprint(list(numeros_par))",
   "execution_count": null,
   "outputs": []
  },
  {
   "cell_type": "markdown",
   "source": "### **3.2. Função de alta ordem** ",
   "metadata": {
    "id": "JENLdmHkUSjx",
    "cell_id": "00050-11c9faaf-cf93-4c5e-bb3e-f973b86debd8",
    "deepnote_cell_type": "markdown"
   }
  },
  {
   "cell_type": "markdown",
   "source": "**Exemplo**: Função `lambda` para extrair provedor de e-mail.",
   "metadata": {
    "id": "9x372m2QifF-",
    "cell_id": "00051-d9b56617-7711-4960-bee3-56cca2531a9f",
    "deepnote_cell_type": "markdown"
   }
  },
  {
   "cell_type": "code",
   "metadata": {
    "id": "tFbNPPqhifGK",
    "cell_id": "00052-996e1194-c028-4e15-998c-8bb5fadfe079",
    "deepnote_cell_type": "code"
   },
   "source": "emails = ['andre.perez@gmail.com', 'andre.perez@live.com', 'andre.perez@yahoo.com']\nprovedor_da_google = lambda email: 'gmail' in email",
   "execution_count": null,
   "outputs": []
  },
  {
   "cell_type": "code",
   "metadata": {
    "id": "sJa1F9BbifGK",
    "cell_id": "00053-cbf7da63-96e7-4d7e-a461-c3f86410ba33",
    "deepnote_cell_type": "code"
   },
   "source": "emails_google = []\nfor email in emails:\n  if provedor_da_google(email) == True:\n    emails_google.append(email)\n\nprint(emails_google)",
   "execution_count": null,
   "outputs": []
  },
  {
   "cell_type": "code",
   "metadata": {
    "id": "FSqNr4uEifGL",
    "cell_id": "00054-969e0a21-593c-462d-b284-a4f8a4898c33",
    "deepnote_cell_type": "code"
   },
   "source": "emails_google = filter(provedor_da_google, emails)\nprint(emails_google)",
   "execution_count": null,
   "outputs": []
  },
  {
   "cell_type": "code",
   "metadata": {
    "id": "ANQk4e1mifGM",
    "cell_id": "00055-c68fe423-97d0-4778-88b1-063c5bd4fa06",
    "deepnote_cell_type": "code"
   },
   "source": "emails_google = list(filter(provedor_da_google, emails))\nprint(emails_google)",
   "execution_count": null,
   "outputs": []
  },
  {
   "cell_type": "code",
   "metadata": {
    "id": "pjosB1-CifGN",
    "cell_id": "00056-1970fb4e-f69e-4a13-befd-4d19af60584d",
    "deepnote_cell_type": "code"
   },
   "source": "emails_google = filter(lambda email: 'gmail' in email, emails)\n...\nprint(list(emails_google))",
   "execution_count": null,
   "outputs": []
  },
  {
   "cell_type": "markdown",
   "source": "## 4\\. Função reduce",
   "metadata": {
    "id": "f20ThY5WXmns",
    "cell_id": "00057-9b14e5c6-99ab-4243-84ee-a0a3145ed8b2",
    "deepnote_cell_type": "markdown"
   }
  },
  {
   "cell_type": "markdown",
   "source": "### **4.1. Definição** ",
   "metadata": {
    "id": "FlUhkpdwXmoJ",
    "cell_id": "00058-87dc2ca0-0e32-4bfa-9953-06efa94935fb",
    "deepnote_cell_type": "markdown"
   }
  },
  {
   "cell_type": "markdown",
   "source": "Aplica uma função a todos os elemento de uma coleção, dois a dois, e retorna **apenas** um elemento.",
   "metadata": {
    "id": "dyJvRiX_SNyu",
    "cell_id": "00059-57ec67e8-1bb0-40c2-92c0-8ec4067b38d5",
    "deepnote_cell_type": "markdown"
   }
  },
  {
   "cell_type": "markdown",
   "source": "```python\nvariavel = reduce(função, coleção)\n```",
   "metadata": {
    "id": "9OavzMW5SMwE",
    "cell_id": "00060-07cf16af-315e-477a-810f-69e049b5cae3",
    "deepnote_cell_type": "markdown"
   }
  },
  {
   "cell_type": "code",
   "metadata": {
    "id": "v3rKJJ62TxuY",
    "cell_id": "00061-ce737fa9-31e9-4e3c-b61f-f83c6c085c95",
    "deepnote_cell_type": "code"
   },
   "source": "numeros = [1, 2, 3]",
   "execution_count": null,
   "outputs": []
  },
  {
   "cell_type": "code",
   "metadata": {
    "id": "WA7m8-4mT9Tp",
    "cell_id": "00062-249a0ef4-26b4-448a-9a3d-d87ef3d8a197",
    "deepnote_cell_type": "code"
   },
   "source": "from functools import reduce\n\nsoma = reduce(lambda x, y: x + y, numeros)\nprint(soma)",
   "execution_count": null,
   "outputs": []
  },
  {
   "cell_type": "markdown",
   "source": "### **4.2. Função de alta ordem** ",
   "metadata": {
    "id": "mU0sJeoCXmoK",
    "cell_id": "00063-e1e9560e-def9-402d-afe5-228872245725",
    "deepnote_cell_type": "markdown"
   }
  },
  {
   "cell_type": "markdown",
   "source": "**Exemplo**: Encontrar maior número em uma lista.",
   "metadata": {
    "id": "as2Afz0XnAgf",
    "cell_id": "00064-d67bb301-5d38-447e-9e8b-1fc616732813",
    "deepnote_cell_type": "markdown"
   }
  },
  {
   "cell_type": "code",
   "metadata": {
    "id": "yTB_nTeek53N",
    "cell_id": "00065-dcff1150-a398-4aa7-a0c1-dbc57e832211",
    "deepnote_cell_type": "code"
   },
   "source": "def maior_entre(primeiro: int, segundo: int) -> int:\n  return primeiro if primeiro >= segundo else segundo\n\nprimeiro = 11\nsegundo = 11\n\nprint(maior_entre(primeiro=primeiro, segundo=segundo))",
   "execution_count": null,
   "outputs": []
  },
  {
   "cell_type": "code",
   "metadata": {
    "id": "xox2zGiYoMHN",
    "cell_id": "00066-f536d762-e534-4950-bbe7-87bbffea7667",
    "deepnote_cell_type": "code"
   },
   "source": "from random import random\n\nprint(random())",
   "execution_count": null,
   "outputs": []
  },
  {
   "cell_type": "code",
   "metadata": {
    "id": "Y3c7wLUok5TF",
    "cell_id": "00067-168f11b6-c5f9-4410-ad28-47e870298969",
    "deepnote_cell_type": "code"
   },
   "source": "from random import random\n\nnumeros = [round(100 * random()) for _ in range(0, 100)]\nprint(numeros)",
   "execution_count": null,
   "outputs": []
  },
  {
   "cell_type": "code",
   "metadata": {
    "id": "ryN5pCgxpAzu",
    "cell_id": "00068-03417a1c-1284-4297-9d14-5d0be606d2a6",
    "deepnote_cell_type": "code"
   },
   "source": "maior_numero = reduce(maior_entre, numeros)\nprint(maior_numero)",
   "execution_count": null,
   "outputs": []
  },
  {
   "cell_type": "code",
   "metadata": {
    "id": "pM94lHjMpUKP",
    "cell_id": "00069-904500f3-9511-4b57-98ab-da0bbecc699e",
    "deepnote_cell_type": "code"
   },
   "source": "maior_numero = reduce(lambda primeiro, segundo: primeiro if primeiro >= segundo else segundo, numeros)\nprint(maior_numero)",
   "execution_count": null,
   "outputs": []
  },
  {
   "cell_type": "markdown",
   "source": "### **4.3. Compossibilidade** ",
   "metadata": {
    "id": "wvSFdbFd1PNc",
    "cell_id": "00070-258f5cb6-df5a-44a4-ac31-c28414e56302",
    "deepnote_cell_type": "markdown"
   }
  },
  {
   "cell_type": "markdown",
   "source": "**Exemplo**: Combinação de métodos funcionais.",
   "metadata": {
    "id": "Yi1Vm2oM1aNr",
    "cell_id": "00071-cf96a9de-a77a-495d-b492-b983adf39f20",
    "deepnote_cell_type": "markdown"
   }
  },
  {
   "cell_type": "code",
   "metadata": {
    "id": "lXL2sHbU1eAk",
    "cell_id": "00072-1bfa3875-695b-4d55-acee-823e571c4cb5",
    "deepnote_cell_type": "code"
   },
   "source": "from random import random\n\nnumeros = [round(100 * random()) for _ in range(0, 100)]\nprint(numeros)",
   "execution_count": null,
   "outputs": []
  },
  {
   "cell_type": "markdown",
   "source": " - Eleve os números ao quadrado.",
   "metadata": {
    "id": "_3AbFgxg1gpY",
    "cell_id": "00073-e1b78c50-b1bf-4417-977a-55b334b97551",
    "deepnote_cell_type": "markdown"
   }
  },
  {
   "cell_type": "code",
   "metadata": {
    "id": "s5bMYqwU1ksA",
    "cell_id": "00074-ee7e634d-9c34-44a7-be8e-b32ec5333c7c",
    "deepnote_cell_type": "code"
   },
   "source": "numeros_ao_quadrado = map(lambda numero: numero ** 2, numeros)",
   "execution_count": null,
   "outputs": []
  },
  {
   "cell_type": "markdown",
   "source": " - Filtra os números ímpares.",
   "metadata": {
    "id": "FZmElWY41tau",
    "cell_id": "00075-5f90d10a-3933-4181-b6c4-3dc27e330659",
    "deepnote_cell_type": "markdown"
   }
  },
  {
   "cell_type": "code",
   "metadata": {
    "id": "z_RJi_sA13Rx",
    "cell_id": "00076-39b8f4fb-650d-4495-9371-e7ab10fbf7ff",
    "deepnote_cell_type": "code"
   },
   "source": "numeros_impares = filter(lambda numero: numero % 2 != 0, numeros_ao_quadrado)",
   "execution_count": null,
   "outputs": []
  },
  {
   "cell_type": "markdown",
   "source": " - Soma todos os números.",
   "metadata": {
    "id": "GKlr1_aB2DpY",
    "cell_id": "00077-3f8edb07-fc7d-4c73-aeca-42f9f2eaa19c",
    "deepnote_cell_type": "markdown"
   }
  },
  {
   "cell_type": "code",
   "metadata": {
    "id": "LFsZpnMG2Nfs",
    "cell_id": "00078-a07ade49-6e35-4903-af05-782fb2571d91",
    "deepnote_cell_type": "code"
   },
   "source": "soma_numeros = reduce(lambda x, y: x + y, numeros_impares)\nprint(soma_numeros)",
   "execution_count": null,
   "outputs": []
  },
  {
   "cell_type": "markdown",
   "source": " - Todos os métodos de uma vez.",
   "metadata": {
    "id": "doCn6uUL2Y3x",
    "cell_id": "00079-07745d0d-539a-4eef-b5ef-c2a2cdc47cae",
    "deepnote_cell_type": "markdown"
   }
  },
  {
   "cell_type": "code",
   "metadata": {
    "id": "q1-5TW0H2ceS",
    "cell_id": "00080-281bb4b5-b2e2-4fc3-8fb6-09edaa0786dc",
    "deepnote_cell_type": "code"
   },
   "source": "soma_numeros = reduce(lambda x, y: x + y, filter(lambda numero: numero % 2 != 0, map(lambda numero: numero ** 2, numeros)))\nprint(soma_numeros)",
   "execution_count": null,
   "outputs": []
  },
  {
   "cell_type": "markdown",
   "source": "<a style='text-decoration:none;line-height:16px;display:flex;color:#5B5B62;padding:10px;justify-content:end;' href='https://deepnote.com?utm_source=created-in-deepnote-cell&projectId=7bc88e6b-e21c-42d6-a070-b420cc720827' target=\"_blank\">\n<img alt='Created in deepnote.com' style='display:inline;max-height:16px;margin:0px;margin-right:7.5px;' src='data:image/svg+xml;base64,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' > </img>\nCreated in <span style='font-weight:600;margin-left:4px;'>Deepnote</span></a>",
   "metadata": {
    "tags": [],
    "created_in_deepnote_cell": true,
    "deepnote_cell_type": "markdown"
   }
  }
 ],
 "nbformat": 4,
 "nbformat_minor": 0,
 "metadata": {
  "colab": {
   "name": "module_5_class.ipynb",
   "provenance": [],
   "collapsed_sections": [
    "RhqmXiHQo-is"
   ],
   "toc_visible": true
  },
  "kernelspec": {
   "name": "python3",
   "display_name": "Python 3"
  },
  "deepnote_notebook_id": "a285b297-8c6e-450e-8652-fda252277bcc",
  "deepnote": {},
  "deepnote_execution_queue": []
 }
}