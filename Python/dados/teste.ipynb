{
 "cells": [
  {
   "cell_type": "code",
   "metadata": {
    "tags": [],
    "cell_id": "00000-be371edc-e4d0-4f71-9d8a-222aefe59fce",
    "deepnote_to_be_reexecuted": false,
    "source_hash": "85e6fed0",
    "execution_start": 1637111911602,
    "execution_millis": 293,
    "deepnote_cell_type": "code"
   },
   "source": "%%writefile banco.csv\nage,job,marital,education,default,balance,housing,loan\n30,unemployed,married,primary,no,1787,no,no\n33,services,married,secondary,no,4789,yes,yes\n35,management,single,tertiary,no,1350,yes,no\n30,management,married,tertiary,no,1476,yes,yes\n59,blue-collar,married,secondary,no,0,yes,no\n35,management,single,tertiary,no,747,no,no\n36,self-employed,married,tertiary,no,307,yes,no\n39,technician,married,secondary,no,147,yes,no\n41,entrepreneur,married,tertiary,no,221,yes,no\n43,services,married,primary,no,-88,yes,yes",
   "execution_count": null,
   "outputs": [
    {
     "name": "stdout",
     "text": "Writing banco.csv\n",
     "output_type": "stream"
    }
   ]
  },
  {
   "cell_type": "code",
   "metadata": {
    "tags": [],
    "cell_id": "00001-9352f030-7d32-4b6a-bf88-e0c2fb387927",
    "deepnote_to_be_reexecuted": false,
    "source_hash": "a4d782d1",
    "execution_start": 1637206115670,
    "execution_millis": 2887,
    "deepnote_cell_type": "code"
   },
   "source": "!pip freeze",
   "outputs": [
    {
     "name": "stdout",
     "text": "agate==1.6.3\r\naiohttp==3.8.0\r\naiosignal==1.2.0\r\nalabaster==0.7.12\r\naltair==4.1.0\r\nargon2-cffi==21.1.0\r\narrow==1.2.1\r\nasn1crypto==1.4.0\r\nasync-timeout==4.0.1\r\nattrs==21.2.0\r\nAutomat==20.2.0\r\nBabel==2.9.1\r\nbackcall==0.2.0\r\nbleach==4.1.0\r\nblis==0.7.5\r\nbokeh==2.4.1\r\nboto3==1.20.5\r\nbotocore==1.23.5\r\nbranca==0.4.2\r\ncachetools==4.2.4\r\ncatalogue==2.0.6\r\ncertifi==2021.10.8\r\ncffi==1.15.0\r\ncharset-normalizer==2.0.7\r\nclick==8.0.3\r\nclick-plugins==1.1.1\r\ncligj==0.7.2\r\nconstantly==15.1.0\r\ncoverage==6.1.2\r\ncoveralls==3.3.1\r\ncryptography==3.4.8\r\ncssselect==1.1.0\r\ncycler==0.11.0\r\ncymem==2.0.6\r\ndatascience==0.17.0\r\ndecorator==5.1.0\r\ndefusedxml==0.7.1\r\ndill==0.3.4\r\ndocopt==0.6.2\r\ndocutils==0.17.1\r\nduckdb==0.3.0\r\nduckdb-engine==0.1.7\r\nentrypoints==0.3\r\nFiona==1.8.20\r\nfolium==0.12.1\r\nfrozenlist==1.2.0\r\nfuture==0.18.2\r\ngoogle-api-core==2.2.2\r\ngoogle-api-python-client==2.31.0\r\ngoogle-auth==2.3.3\r\ngoogle-auth-httplib2==0.1.0\r\ngoogle-auth-oauthlib==0.4.6\r\ngoogle-cloud-bigquery==2.30.1\r\ngoogle-cloud-bigquery-storage==2.10.0\r\ngoogle-cloud-core==2.2.1\r\ngoogle-crc32c==1.3.0\r\ngoogle-resumable-media==2.1.0\r\ngoogleapis-common-protos==1.53.0\r\ngreenlet==1.1.2\r\ngrpcio==1.41.1\r\ngrpcio-status==1.41.1\r\ngspread==4.0.1\r\nh2==3.2.0\r\nhpack==3.0.0\r\nhttplib2==0.20.2\r\nhyperframe==5.2.0\r\nhyperlink==21.0.0\r\nidna==3.3\r\nimagesize==1.3.0\r\nincremental==21.3.0\r\niniconfig==1.1.1\r\nipykernel==5.5.5\r\nipython==7.29.0\r\nipython-genutils==0.2.0\r\nisodate==0.6.0\r\nitemadapter==0.4.0\r\nitemloaders==1.0.4\r\njedi==0.17.2\r\nJinja2==3.0.3\r\njinjasql==0.1.8\r\njmespath==0.10.0\r\njoblib==1.1.0\r\njsonify==0.5\r\njsonschema==3.2.0\r\njupyter-client==6.1.12\r\njupyter-core==4.7.1\r\njupyterlab-pygments==0.1.2\r\nkeras==2.7.0\r\nkiwisolver==1.3.2\r\nlangcodes==3.3.0\r\nleather==0.3.4\r\nlibcst==0.3.21\r\nlxml==4.6.4\r\nMarkupSafe==2.0.1\r\nmatplotlib==3.4.3\r\nmatplotlib-inline==0.1.3\r\nmistune==0.8.4\r\nmpmath==1.2.1\r\nmultidict==5.2.0\r\nmunch==2.5.0\r\nmurmurhash==1.0.6\r\nmypy-extensions==0.4.3\r\nnbclient==0.5.8\r\nnbconvert==6.0.7\r\nnbformat==5.1.3\r\nnbsphinx==0.8.7\r\nnest-asyncio==1.5.1\r\nnltk==3.6.5\r\nnotebook @ git+https://github.com/deepnote/jupyter-notebook.git@58df53c148d0da5e5e7b916b997c222ec86c155d\r\nnumpy==1.21.4\r\noauthlib==3.1.1\r\noscrypto==1.2.1\r\notter-grader==3.2.0\r\npackaging==21.2\r\npandas==1.2.5\r\npandocfilters==1.5.0\r\nparsedatetime==2.4\r\nparsel==1.6.0\r\nparso==0.7.1\r\npathy==0.6.1\r\npdfkit==1.0.0\r\npexpect==4.8.0\r\npickleshare==0.7.5\r\nPillow==8.4.0\r\nplotly==5.3.1\r\npluggy==1.0.0\r\npreshed==3.0.6\r\npriority==1.3.0\r\nprometheus-client==0.12.0\r\nprompt-toolkit==3.0.22\r\nProtego==0.1.16\r\nproto-plus==1.19.8\r\nprotobuf==3.19.1\r\npsycopg2-binary==2.9.2\r\nptyprocess==0.7.0\r\npy==1.11.0\r\npyarrow==6.0.0\r\npyasn1==0.4.8\r\npyasn1-modules==0.2.8\r\npyathena==2.3.0\r\npybigquery==0.10.2\r\npycparser==2.21\r\npycryptodomex==3.11.0\r\npydantic==1.8.2\r\nPyDispatcher==2.0.5\r\nPygments==2.10.0\r\nPyJWT==2.3.0\r\nPyMySQL==1.0.2\r\npyOpenSSL==20.0.1\r\npyparsing==2.4.7\r\nPyPDF2==1.26.0\r\npyrsistent==0.18.0\r\npytest==6.2.5\r\npython-dateutil==2.8.2\r\npython-jsonrpc-server==0.4.0\r\npython-language-server @ git+https://github.com/deepnote/python-language-server.git@626667573c1a7836c1e144790b5390feb7f3c111\r\npython-on-whales==0.31.0\r\npython-slugify==5.0.2\r\npytimeparse==1.1.8\r\npytz==2021.3\r\nPyYAML==6.0\r\npyzmq==22.3.0\r\nqueuelib==1.6.2\r\nregex==2021.11.10\r\nrequests==2.26.0\r\nrequests-oauthlib==1.3.0\r\nrsa==4.7.2\r\ns3transfer==0.5.0\r\nscikit-learn==1.0.1\r\nscipy==1.7.2\r\nScrapy==2.5.1\r\nseaborn==0.11.2\r\nSend2Trash==1.8.0\r\nservice-identity==21.1.0\r\nsix==1.16.0\r\nsmart-open==5.2.1\r\nsnowballstemmer==2.1.0\r\nsnowflake-connector-python==2.7.0\r\nsnowflake-sqlalchemy==1.3.2\r\nspacy==3.2.0\r\nspacy-legacy==3.0.8\r\nspacy-loggers==1.0.1\r\nSphinx==4.3.0\r\nsphinxcontrib-applehelp==1.0.2\r\nsphinxcontrib-devhelp==1.0.2\r\nsphinxcontrib-htmlhelp==2.0.0\r\nsphinxcontrib-jsmath==1.0.1\r\nsphinxcontrib-qthelp==1.0.3\r\nsphinxcontrib-serializinghtml==1.1.5\r\nsql-metadata==2.1.0\r\nSQLAlchemy==1.4.27\r\nsqlalchemy-redshift==0.8.8\r\nsqlparse==0.4.2\r\nsquarify==0.4.3\r\nsrsly==2.4.2\r\nsympy==1.9\r\ntabulate==0.8.9\r\ntenacity==8.0.1\r\nterminado==0.12.1\r\ntestpath==0.5.0\r\ntext-unidecode==1.3\r\ntextblob==0.17.1\r\nthinc==8.0.13\r\nthreadpoolctl==3.0.0\r\ntoml==0.10.2\r\ntoolz==0.11.2\r\ntorch==1.10.0\r\ntorchvision==0.11.1\r\ntornado==6.1\r\ntqdm==4.62.3\r\ntraitlets==4.3.3\r\nTwisted==21.7.0\r\ntyper==0.4.0\r\ntyping-extensions==3.10.0.2\r\ntyping-inspect==0.7.1\r\nujson==4.2.0\r\nuritemplate==4.1.1\r\nurllib3==1.26.7\r\nw3lib==1.22.0\r\nwasabi==0.8.2\r\nwcwidth==0.2.5\r\nwebencodings==0.5.1\r\nyarl==1.7.2\r\nzope.interface==5.4.0\r\n",
     "output_type": "stream"
    }
   ],
   "execution_count": null
  },
  {
   "cell_type": "markdown",
   "source": "<a style='text-decoration:none;line-height:16px;display:flex;color:#5B5B62;padding:10px;justify-content:end;' href='https://deepnote.com?utm_source=created-in-deepnote-cell&projectId=7bc88e6b-e21c-42d6-a070-b420cc720827' target=\"_blank\">\n<img alt='Created in deepnote.com' style='display:inline;max-height:16px;margin:0px;margin-right:7.5px;' src='data:image/svg+xml;base64,PD94bWwgdmVyc2lvbj0iMS4wIiBlbmNvZGluZz0iVVRGLTgiPz4KPHN2ZyB3aWR0aD0iODBweCIgaGVpZ2h0PSI4MHB4IiB2aWV3Qm94PSIwIDAgODAgODAiIHZlcnNpb249IjEuMSIgeG1sbnM9Imh0dHA6Ly93d3cudzMub3JnLzIwMDAvc3ZnIiB4bWxuczp4bGluaz0iaHR0cDovL3d3dy53My5vcmcvMTk5OS94bGluayI+CiAgICA8IS0tIEdlbmVyYXRvcjogU2tldGNoIDU0LjEgKDc2NDkwKSAtIGh0dHBzOi8vc2tldGNoYXBwLmNvbSAtLT4KICAgIDx0aXRsZT5Hcm91cCAzPC90aXRsZT4KICAgIDxkZXNjPkNyZWF0ZWQgd2l0aCBTa2V0Y2guPC9kZXNjPgogICAgPGcgaWQ9IkxhbmRpbmciIHN0cm9rZT0ibm9uZSIgc3Ryb2tlLXdpZHRoPSIxIiBmaWxsPSJub25lIiBmaWxsLXJ1bGU9ImV2ZW5vZGQiPgogICAgICAgIDxnIGlkPSJBcnRib2FyZCIgdHJhbnNmb3JtPSJ0cmFuc2xhdGUoLTEyMzUuMDAwMDAwLCAtNzkuMDAwMDAwKSI+CiAgICAgICAgICAgIDxnIGlkPSJHcm91cC0zIiB0cmFuc2Zvcm09InRyYW5zbGF0ZSgxMjM1LjAwMDAwMCwgNzkuMDAwMDAwKSI+CiAgICAgICAgICAgICAgICA8cG9seWdvbiBpZD0iUGF0aC0yMCIgZmlsbD0iIzAyNjVCNCIgcG9pbnRzPSIyLjM3NjIzNzYyIDgwIDM4LjA0NzY2NjcgODAgNTcuODIxNzgyMiA3My44MDU3NTkyIDU3LjgyMTc4MjIgMzIuNzU5MjczOSAzOS4xNDAyMjc4IDMxLjY4MzE2ODMiPjwvcG9seWdvbj4KICAgICAgICAgICAgICAgIDxwYXRoIGQ9Ik0zNS4wMDc3MTgsODAgQzQyLjkwNjIwMDcsNzYuNDU0OTM1OCA0Ny41NjQ5MTY3LDcxLjU0MjI2NzEgNDguOTgzODY2LDY1LjI2MTk5MzkgQzUxLjExMjI4OTksNTUuODQxNTg0MiA0MS42NzcxNzk1LDQ5LjIxMjIyODQgMjUuNjIzOTg0Niw0OS4yMTIyMjg0IEMyNS40ODQ5Mjg5LDQ5LjEyNjg0NDggMjkuODI2MTI5Niw0My4yODM4MjQ4IDM4LjY0NzU4NjksMzEuNjgzMTY4MyBMNzIuODcxMjg3MSwzMi41NTQ0MjUgTDY1LjI4MDk3Myw2Ny42NzYzNDIxIEw1MS4xMTIyODk5LDc3LjM3NjE0NCBMMzUuMDA3NzE4LDgwIFoiIGlkPSJQYXRoLTIyIiBmaWxsPSIjMDAyODY4Ij48L3BhdGg+CiAgICAgICAgICAgICAgICA8cGF0aCBkPSJNMCwzNy43MzA0NDA1IEwyNy4xMTQ1MzcsMC4yNTcxMTE0MzYgQzYyLjM3MTUxMjMsLTEuOTkwNzE3MDEgODAsMTAuNTAwMzkyNyA4MCwzNy43MzA0NDA1IEM4MCw2NC45NjA0ODgyIDY0Ljc3NjUwMzgsNzkuMDUwMzQxNCAzNC4zMjk1MTEzLDgwIEM0Ny4wNTUzNDg5LDc3LjU2NzA4MDggNTMuNDE4MjY3Nyw3MC4zMTM2MTAzIDUzLjQxODI2NzcsNTguMjM5NTg4NSBDNTMuNDE4MjY3Nyw0MC4xMjg1NTU3IDM2LjMwMzk1NDQsMzcuNzMwNDQwNSAyNS4yMjc0MTcsMzcuNzMwNDQwNSBDMTcuODQzMDU4NiwzNy43MzA0NDA1IDkuNDMzOTE5NjYsMzcuNzMwNDQwNSAwLDM3LjczMDQ0MDUgWiIgaWQ9IlBhdGgtMTkiIGZpbGw9IiMzNzkzRUYiPjwvcGF0aD4KICAgICAgICAgICAgPC9nPgogICAgICAgIDwvZz4KICAgIDwvZz4KPC9zdmc+' > </img>\nCreated in <span style='font-weight:600;margin-left:4px;'>Deepnote</span></a>",
   "metadata": {
    "tags": [],
    "created_in_deepnote_cell": true,
    "deepnote_cell_type": "markdown"
   }
  }
 ],
 "nbformat": 4,
 "nbformat_minor": 2,
 "metadata": {
  "orig_nbformat": 2,
  "deepnote": {
   "is_reactive": false
  },
  "deepnote_notebook_id": "1d5bb89b-ad3b-4d72-9cc3-71d752cdcac0",
  "deepnote_execution_queue": []
 }
}