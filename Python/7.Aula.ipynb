{
 "cells": [
  {
   "cell_type": "markdown",
   "source": "<img src=\"https://raw.githubusercontent.com/andre-marcos-perez/ebac-course-utils/main/media/logo/newebac_logo_black_half.png\" alt=\"ebac-logo\">\n\n---\n\n# **Módulo** | Python: Módulos & Pacotes\nCaderno de **Aula**<br> \nProfessor [André Perez](https://www.linkedin.com/in/andremarcosperez/)\n\n---",
   "metadata": {
    "id": "KJqp9AANOCtf",
    "cell_id": "00000-91226e78-8a78-4447-ad77-ecc7bf901c33",
    "deepnote_cell_type": "markdown"
   }
  },
  {
   "cell_type": "markdown",
   "source": "# **Tópicos**\n\n<ol type=\"1\">\n  <li>from / import / as;</li>\n  <li>Módulo;</li>\n  <li>Pacote;</li>\n  <li>Baixando pacotes.</li>\n</ol>",
   "metadata": {
    "id": "d9jDtUbDOE1-",
    "cell_id": "00001-b4039ba8-8d06-4d94-9d5b-186211b420e7",
    "deepnote_cell_type": "markdown"
   }
  },
  {
   "cell_type": "markdown",
   "source": "---",
   "metadata": {
    "id": "SmoHgt-lwkpD",
    "cell_id": "00002-ba8ac28f-8b5c-42f7-93fb-afaeefaf8c0c",
    "deepnote_cell_type": "markdown"
   }
  },
  {
   "cell_type": "markdown",
   "source": "# **Aulas**",
   "metadata": {
    "id": "GABI6OW8OfQ2",
    "cell_id": "00003-8bb29b97-06db-48a0-bdfa-cb6dc33685e7",
    "deepnote_cell_type": "markdown"
   }
  },
  {
   "cell_type": "markdown",
   "source": "## 1\\. from / import / as",
   "metadata": {
    "id": "muD1vxozykSC",
    "cell_id": "00004-1148cb76-d2ad-48f0-abef-501ba113a16b",
    "deepnote_cell_type": "markdown"
   }
  },
  {
   "cell_type": "markdown",
   "source": "Os módulos nativos do Python podem ser encontrados neste [link](https://docs.python.org/3/py-modindex.html).",
   "metadata": {
    "id": "otv_qcsJmWkr",
    "cell_id": "00005-1e96da6b-b719-43a1-9397-f8dd6d2819cf",
    "deepnote_cell_type": "markdown"
   }
  },
  {
   "cell_type": "markdown",
   "source": "### **1.1. import** ",
   "metadata": {
    "id": "5a3_syBIP6yO",
    "cell_id": "00006-90ec1024-b7c0-4994-968c-b8ba2e3bc8a8",
    "deepnote_cell_type": "markdown"
   }
  },
  {
   "cell_type": "markdown",
   "source": "**Exemplo:** `random`",
   "metadata": {
    "id": "NglCEvJDmqkw",
    "cell_id": "00007-c9d307d0-9c1d-4bac-97cf-00794d48d5af",
    "deepnote_cell_type": "markdown"
   }
  },
  {
   "cell_type": "code",
   "metadata": {
    "id": "s3TYcbzAlgxe",
    "cell_id": "00008-81606d33-0307-4745-adbc-1ef280b68c50",
    "deepnote_to_be_reexecuted": false,
    "source_hash": "89047012",
    "execution_start": 1637119602491,
    "execution_millis": 0,
    "deepnote_cell_type": "code"
   },
   "source": "import random",
   "execution_count": null,
   "outputs": []
  },
  {
   "cell_type": "code",
   "metadata": {
    "id": "Bqz8RRXwljEe",
    "cell_id": "00009-42657900-ddb5-4432-bf2b-3f5d1ea69b13",
    "deepnote_to_be_reexecuted": false,
    "source_hash": "5a293ab",
    "execution_start": 1637119613283,
    "execution_millis": 1,
    "deepnote_cell_type": "code"
   },
   "source": "escolha = random.choice([1, 2, 3])\nprint(escolha)",
   "execution_count": null,
   "outputs": [
    {
     "name": "stdout",
     "text": "2\n",
     "output_type": "stream"
    }
   ]
  },
  {
   "cell_type": "code",
   "metadata": {
    "id": "FGXZX082mp5C",
    "cell_id": "00010-a71e5467-3162-4734-b99d-c37c1ea38582",
    "deepnote_cell_type": "code"
   },
   "source": "numero_aleatorio = random.random() # entre [0,1)\nprint(numero_aleatorio)",
   "execution_count": null,
   "outputs": []
  },
  {
   "cell_type": "markdown",
   "source": "**Exemplo:** `math`",
   "metadata": {
    "id": "w44EAxw7nCA4",
    "cell_id": "00011-1ea1980e-6a03-4e73-b71b-9dbf2434bcb2",
    "deepnote_cell_type": "markdown"
   }
  },
  {
   "cell_type": "code",
   "metadata": {
    "id": "qEW9nFDmnE7w",
    "cell_id": "00012-b9b68d50-63e1-43e6-aac9-2768602f6825",
    "deepnote_cell_type": "code"
   },
   "source": "import math",
   "execution_count": null,
   "outputs": []
  },
  {
   "cell_type": "code",
   "metadata": {
    "id": "LD1YND2WnF4-",
    "cell_id": "00013-6346cc20-d0d4-49ac-af14-4ba4875efb1c",
    "deepnote_cell_type": "code"
   },
   "source": "potencia = math.pow(10, 10)\nprint(potencia)",
   "execution_count": null,
   "outputs": []
  },
  {
   "cell_type": "code",
   "metadata": {
    "id": "FobSlEhinWIR",
    "cell_id": "00014-7e9bbdf4-449f-477f-91c7-800824f6bd91",
    "deepnote_cell_type": "code"
   },
   "source": "num = math.ceil(10.1)\nprint(num)",
   "execution_count": null,
   "outputs": []
  },
  {
   "cell_type": "code",
   "metadata": {
    "id": "WExZa8nMCxMl",
    "cell_id": "00015-c779a53f-8ed7-4794-8f45-a0dd3b989dee",
    "deepnote_cell_type": "code"
   },
   "source": "print(math.pi)",
   "execution_count": null,
   "outputs": []
  },
  {
   "cell_type": "markdown",
   "source": "### **1.2. from, import** ",
   "metadata": {
    "id": "E6D5rjlESJ1A",
    "cell_id": "00016-cf42207a-3990-43c0-a4e7-62e841fd7156",
    "deepnote_cell_type": "markdown"
   }
  },
  {
   "cell_type": "markdown",
   "source": "**Exemplo:** `time`",
   "metadata": {
    "id": "bO66G3v8qMBu",
    "cell_id": "00017-47b043d9-98ff-4860-8a5f-d7b28a210c61",
    "deepnote_cell_type": "markdown"
   }
  },
  {
   "cell_type": "code",
   "metadata": {
    "id": "C6V_G3BonpW7",
    "cell_id": "00018-94493033-405d-417d-af45-02055905c2a7",
    "deepnote_cell_type": "code"
   },
   "source": "from time import time",
   "execution_count": null,
   "outputs": []
  },
  {
   "cell_type": "code",
   "metadata": {
    "id": "NtnIopHFns4L",
    "cell_id": "00019-769fb5fc-ac63-4dba-9b57-d97ab01dc2a4",
    "deepnote_cell_type": "code"
   },
   "source": "print(time())",
   "execution_count": null,
   "outputs": []
  },
  {
   "cell_type": "code",
   "metadata": {
    "id": "o_nRkCM9oTOW",
    "cell_id": "00020-44385ffd-ffe6-4565-ac5e-330a1449244d",
    "deepnote_cell_type": "code"
   },
   "source": "sleep(5)",
   "execution_count": null,
   "outputs": []
  },
  {
   "cell_type": "code",
   "metadata": {
    "id": "JQzDzUysoXkp",
    "cell_id": "00021-16716138-3dbe-4056-8b3e-2721194ab1f3",
    "deepnote_cell_type": "code"
   },
   "source": "from time import time, sleep\n",
   "execution_count": null,
   "outputs": []
  },
  {
   "cell_type": "code",
   "metadata": {
    "id": "d4HJTqKOode6",
    "cell_id": "00022-5cef6f50-ccda-429a-a818-7fba84870e7d",
    "deepnote_cell_type": "code"
   },
   "source": "sleep(5)",
   "execution_count": null,
   "outputs": []
  },
  {
   "cell_type": "markdown",
   "source": "### **1.3. from, import, as** ",
   "metadata": {
    "id": "wNkFG1qKSU9M",
    "cell_id": "00023-3b300347-55e8-4007-b6dc-f2a8960f3cab",
    "deepnote_cell_type": "markdown"
   }
  },
  {
   "cell_type": "markdown",
   "source": "**Exemplo:** `datetime`",
   "metadata": {
    "id": "KT8LkkzYqO1N",
    "cell_id": "00024-de46b912-edca-478b-9a73-b508f1cd1e4e",
    "deepnote_cell_type": "markdown"
   }
  },
  {
   "cell_type": "code",
   "metadata": {
    "id": "X-FHA80Rqdv0",
    "cell_id": "00025-0f0db354-1cdd-48f7-8e20-34c76e9eeb94",
    "deepnote_cell_type": "code"
   },
   "source": "from datetime import datetime as dt",
   "execution_count": null,
   "outputs": []
  },
  {
   "cell_type": "code",
   "metadata": {
    "id": "rXaUuslnqlLX",
    "cell_id": "00026-01ffb752-dbaa-4827-8822-f1758475f2d6",
    "deepnote_cell_type": "code"
   },
   "source": "print(dt.now())",
   "execution_count": null,
   "outputs": []
  },
  {
   "cell_type": "code",
   "metadata": {
    "id": "Tbrk8CJkq05Z",
    "cell_id": "00027-d8814d3f-6498-4321-a3b2-9ded68ec4381",
    "deepnote_cell_type": "code"
   },
   "source": "print(dt.now().day)",
   "execution_count": null,
   "outputs": []
  },
  {
   "cell_type": "code",
   "metadata": {
    "id": "JJO0KMONrAX9",
    "cell_id": "00028-14fcdf47-0bbd-4b47-986b-2be0c116f024",
    "deepnote_cell_type": "code"
   },
   "source": "print(dt.now().year)",
   "execution_count": null,
   "outputs": []
  },
  {
   "cell_type": "markdown",
   "source": "## 2\\. Módulos",
   "metadata": {
    "id": "4rRCvy_UURrM",
    "cell_id": "00029-348a2b52-4cfc-474e-8eac-7c9afca8bb07",
    "deepnote_cell_type": "markdown"
   }
  },
  {
   "cell_type": "markdown",
   "source": "### **2.1. Motivação** ",
   "metadata": {
    "id": "Y1W9Hv8fURrZ",
    "cell_id": "00030-28abd75e-09f7-4803-bffa-6b19f8c355b3",
    "deepnote_cell_type": "markdown"
   }
  },
  {
   "cell_type": "markdown",
   "source": " - Classe Arquivo CSV",
   "metadata": {
    "id": "7jdFzax1doaQ",
    "cell_id": "00031-59002980-57c2-4d91-88d9-dc83ce354acb",
    "deepnote_cell_type": "markdown"
   }
  },
  {
   "cell_type": "code",
   "metadata": {
    "id": "Ot1p6JXgdkmZ",
    "cell_id": "00032-158ef9d3-5ba1-4b5c-8fd1-0ed658db4dbc",
    "deepnote_cell_type": "code"
   },
   "source": "class ArquivoCSV(object):\n\n  def __init__(self, arquivo: str):\n    self.arquivo = arquivo\n    self.conteudo = self._extrair_conteudo()\n    self.colunas = self._extrair_nome_colunas()\n\n  def _extrair_conteudo(self):\n    conteudo = None\n    with open(file=self.arquivo, mode='r', encoding='utf8') as arquivo:\n      conteudo = arquivo.readlines()\n    return conteudo\n\n  def _extrair_nome_colunas(self):\n    return self.conteudo[0].strip().split(sep=',')\n\n  def extrair_coluna(self, indice_coluna: str):\n    coluna = list()\n    for linha in self.conteudo:\n      conteudo_linha = linha.strip().split(sep=',')\n      coluna.append(conteudo_linha[indice_coluna])\n    coluna.pop(0)\n    return coluna",
   "execution_count": null,
   "outputs": []
  },
  {
   "cell_type": "markdown",
   "source": " - Arquivo banco.csv",
   "metadata": {
    "id": "YEOtCmOzd-4X",
    "cell_id": "00033-b92d428a-0ac1-42a6-80a8-b115ae0f1847",
    "deepnote_cell_type": "markdown"
   }
  },
  {
   "cell_type": "code",
   "metadata": {
    "id": "Bjfreo_ndzMZ",
    "cell_id": "00034-d4e50b13-e83b-4f26-be8e-f0572f65a5c9",
    "deepnote_cell_type": "code"
   },
   "source": "%%writefile banco.csv\nage,job,marital,education,default,balance,housing,loan\n30,unemployed,married,primary,no,1787,no,no\n33,services,married,secondary,no,4789,yes,yes\n35,management,single,tertiary,no,1350,yes,no\n30,management,married,tertiary,no,1476,yes,yes\n59,blue-collar,married,secondary,no,0,yes,no\n35,management,single,tertiary,no,747,no,no\n36,self-employed,married,tertiary,no,307,yes,no\n39,technician,married,secondary,no,147,yes,no\n41,entrepreneur,married,tertiary,no,221,yes,no\n43,services,married,primary,no,-88,yes,yes",
   "execution_count": null,
   "outputs": []
  },
  {
   "cell_type": "code",
   "metadata": {
    "id": "cgWzJ8qKd3Aq",
    "cell_id": "00035-79044039-7f6e-4125-8dc5-2cb5de24c3b4",
    "deepnote_cell_type": "code"
   },
   "source": "arquivo_banco = ArquivoCSV(arquivo='./banco.csv')",
   "execution_count": null,
   "outputs": []
  },
  {
   "cell_type": "markdown",
   "source": " - Extraindo a coluna de `education`\n\n",
   "metadata": {
    "id": "ky-E74-xWDL9",
    "cell_id": "00036-a947d1d4-2434-48ec-b1c9-be241f73b01f",
    "deepnote_cell_type": "markdown"
   }
  },
  {
   "cell_type": "code",
   "metadata": {
    "id": "bVqfe_XgWCaV",
    "cell_id": "00037-d1931328-059b-4e83-b01e-3af56e49d22c",
    "deepnote_cell_type": "code"
   },
   "source": "education = arquivo_banco.extrair_coluna(indice_coluna=3)\nprint(education)",
   "execution_count": null,
   "outputs": []
  },
  {
   "cell_type": "markdown",
   "source": "### **2.2. Definição** ",
   "metadata": {
    "id": "cOZDKbe6URrb",
    "cell_id": "00038-c66b0775-4024-42dd-9108-778efe24a465",
    "deepnote_cell_type": "markdown"
   }
  },
  {
   "cell_type": "markdown",
   "source": "Vamos criar um módulo (arquivo) com o nome `arquivo_csv.py` com o código da classe `ArquivoCSV`.",
   "metadata": {
    "id": "-E0EkgFkeKtr",
    "cell_id": "00039-52aed4cd-faaa-4fea-9336-0d76bfab0204",
    "deepnote_cell_type": "markdown"
   }
  },
  {
   "cell_type": "markdown",
   "source": "### **2.3. Revisitando a motivação** ",
   "metadata": {
    "id": "H9C105KafVc-",
    "cell_id": "00040-e12ba04f-0bcc-46d7-9230-d7a6eb3bc898",
    "deepnote_cell_type": "markdown"
   }
  },
  {
   "cell_type": "markdown",
   "source": "Vamos importar a classe `ArquivoCSV` do módulo (arquivo) `arquivo_csv.py`.",
   "metadata": {
    "id": "h6T_8leberoO",
    "cell_id": "00041-53853a96-82eb-4126-97d4-615aec47715d",
    "deepnote_cell_type": "markdown"
   }
  },
  {
   "cell_type": "code",
   "metadata": {
    "id": "6FMSdv7MeZ0s",
    "cell_id": "00042-ebc6ae36-414b-4f6a-b1a7-a84ecb3a0262",
    "deepnote_cell_type": "code"
   },
   "source": "from arquivo_csv import ArquivoCSV\n\narquivo_banco_modulo = ArquivoCSV(arquivo='./banco.csv')",
   "execution_count": null,
   "outputs": []
  },
  {
   "cell_type": "code",
   "metadata": {
    "id": "D-aOjf-3efTd",
    "cell_id": "00043-c8f0f6d8-2229-4823-bebf-6d7628b449f0",
    "deepnote_cell_type": "code"
   },
   "source": "education = arquivo_banco_modulo.extrair_coluna(indice_coluna=3)\nprint(education)",
   "execution_count": null,
   "outputs": []
  },
  {
   "cell_type": "markdown",
   "source": "## 3\\. Pacotes",
   "metadata": {
    "id": "ELgoMRAAUSjv",
    "cell_id": "00044-dcfb0905-9176-4bd2-a8bc-c8191f68dcb0",
    "deepnote_cell_type": "markdown"
   }
  },
  {
   "cell_type": "markdown",
   "source": "### **3.1. Motivação** ",
   "metadata": {
    "id": "CuLkQY76USjw",
    "cell_id": "00045-f66bf290-7237-4f22-ac86-567278eb4aa3",
    "deepnote_cell_type": "markdown"
   }
  },
  {
   "cell_type": "markdown",
   "source": " - Classe Arquivo Texto",
   "metadata": {
    "id": "ZgxxT_jafqew",
    "cell_id": "00046-89f55f18-fba8-4809-be6b-d58454354436",
    "deepnote_cell_type": "markdown"
   }
  },
  {
   "cell_type": "code",
   "metadata": {
    "id": "6ewvbQP9fn8G",
    "cell_id": "00047-4269bb23-2989-4511-9095-3e109f258719",
    "deepnote_cell_type": "code"
   },
   "source": "class ArquivoTXT(object):\n\n  def __init__(self, arquivo: str):\n    self.arquivo = arquivo\n    self.conteudo = self._extrair_conteudo()\n\n  def _extrair_conteudo(self):\n    conteudo = None\n    with open(file=self.arquivo, mode='r', encoding='utf8') as arquivo:\n      conteudo = arquivo.readlines()\n    return conteudo\n\n  def extrair_linha(self, numero_linha: int):\n    return self.conteudo[numero_linha-1]",
   "execution_count": null,
   "outputs": []
  },
  {
   "cell_type": "markdown",
   "source": " - Arquivo noticia.txt",
   "metadata": {
    "id": "yZrvqrk8hMVw",
    "cell_id": "00048-6557c079-f546-4ecd-aacc-15733d6f2608",
    "deepnote_cell_type": "markdown"
   }
  },
  {
   "cell_type": "code",
   "metadata": {
    "id": "3Z2JrlBQhCcv",
    "cell_id": "00049-40b3cb0d-d988-42d1-a58a-ccc4183ef434",
    "deepnote_cell_type": "code"
   },
   "source": "%%writefile noticia.txt\nEgito cobra quase US$ 1 bi para liberar navio que bloqueou Canal de Suez\nSegundo autoridades, valor será utilizado para recompor as perdas provocados pelo encalhamento da embarcação de quase 400 metros",
   "execution_count": null,
   "outputs": []
  },
  {
   "cell_type": "code",
   "metadata": {
    "id": "qDFlnC0zhUap",
    "cell_id": "00050-2fadf954-79cc-477d-941e-834b1710afa3",
    "deepnote_cell_type": "code"
   },
   "source": "arquivo_noticia = ArquivoTXT(arquivo='./noticia.txt')",
   "execution_count": null,
   "outputs": []
  },
  {
   "cell_type": "code",
   "metadata": {
    "id": "SJGiJvVBhci0",
    "cell_id": "00051-170a23bb-f871-402e-946a-737070392c1d",
    "deepnote_cell_type": "code"
   },
   "source": "titulo = arquivo_noticia.extrair_linha(numero_linha=1)\nprint(titulo)",
   "execution_count": null,
   "outputs": []
  },
  {
   "cell_type": "markdown",
   "source": "### **3.2. Definição** ",
   "metadata": {
    "id": "JENLdmHkUSjx",
    "cell_id": "00052-8221748c-8fb8-4bbc-b193-40cc126ff450",
    "deepnote_cell_type": "markdown"
   }
  },
  {
   "cell_type": "markdown",
   "source": "Vamos criar um módulo (arquivo) com o nome `arquivo_txt.py` com o código da classe `ArquivoTXT`.",
   "metadata": {
    "id": "hSseQ083h0pb",
    "cell_id": "00053-403ceaa1-20b7-408f-ad37-4336ae02002a",
    "deepnote_cell_type": "markdown"
   }
  },
  {
   "cell_type": "markdown",
   "source": "Vamos criar um pacote (pasta) com o nome arquivo e mover os módulos (arquivos) `arquivo_csv.py` e `arquivo_txt.py` para ela.",
   "metadata": {
    "id": "h0Y-s4Hch59-",
    "cell_id": "00054-b7b6633b-debf-48ed-998c-dfed8c63a9dd",
    "deepnote_cell_type": "markdown"
   }
  },
  {
   "cell_type": "markdown",
   "source": "### **3.3. Revisitando a motivação** ",
   "metadata": {
    "id": "Nq0WCx8HUSjz",
    "cell_id": "00055-04e0f064-87b5-454a-9b56-a7ee016f4f08",
    "deepnote_cell_type": "markdown"
   }
  },
  {
   "cell_type": "code",
   "metadata": {
    "id": "pKogPUlsif7C",
    "cell_id": "00056-537dcdc9-2d6f-40a8-979b-41c5db8df581",
    "deepnote_cell_type": "code"
   },
   "source": "from arquivos.arquivo_csv import ArquivoCSV\nfrom arquivos.arquivo_txt import ArquivoTXT",
   "execution_count": null,
   "outputs": []
  },
  {
   "cell_type": "code",
   "metadata": {
    "id": "zzHFt3R7i6DX",
    "cell_id": "00057-35e67bcc-4159-42c1-9b80-be921318965f",
    "deepnote_cell_type": "code"
   },
   "source": "arquivo_banco_pacote = ArquivoCSV(arquivo='./banco.csv')\narquivo_noticia_pacote = ArquivoTXT(arquivo='./noticia.txt')",
   "execution_count": null,
   "outputs": []
  },
  {
   "cell_type": "code",
   "metadata": {
    "id": "3azao8bvi6pn",
    "cell_id": "00058-e90f359f-04b0-4226-afe5-6a060c15b763",
    "deepnote_cell_type": "code"
   },
   "source": "education = arquivo_banco_modulo.extrair_coluna(indice_coluna=3)\nprint(education)",
   "execution_count": null,
   "outputs": []
  },
  {
   "cell_type": "code",
   "metadata": {
    "id": "ubb0QMwEi8Vw",
    "cell_id": "00059-ca03dcd4-8b30-476a-a064-2eeb33c8fa3c",
    "deepnote_cell_type": "code"
   },
   "source": "titulo = arquivo_noticia.extrair_linha(numero_linha=1)\nprint(titulo)",
   "execution_count": null,
   "outputs": []
  },
  {
   "cell_type": "markdown",
   "source": "## 4\\. Baixando pacotes",
   "metadata": {
    "id": "f20ThY5WXmns",
    "cell_id": "00060-5e66e064-5fa8-47b9-9d44-ccd79c14de69",
    "deepnote_cell_type": "markdown"
   }
  },
  {
   "cell_type": "markdown",
   "source": "### **4.1. PyPI** ",
   "metadata": {
    "id": "FlUhkpdwXmoJ",
    "cell_id": "00061-7834c3f4-9730-49a4-b417-1b0064030aa6",
    "deepnote_cell_type": "markdown"
   }
  },
  {
   "cell_type": "markdown",
   "source": "Repositório oficial de pacotes Python ([link](https://pypi.org/)).",
   "metadata": {
    "id": "Z2JHp_YShhGK",
    "cell_id": "00062-c90f0e35-7e07-4091-818e-d1787eab711a",
    "deepnote_cell_type": "markdown"
   }
  },
  {
   "cell_type": "markdown",
   "source": "### **4.2. PIP** ",
   "metadata": {
    "id": "mU0sJeoCXmoK",
    "cell_id": "00063-121eb4b1-ea78-4ed8-a9c3-fe349c692951",
    "deepnote_cell_type": "markdown"
   }
  },
  {
   "cell_type": "markdown",
   "source": "Ferramenta oficial para instalar pacotes Python armazenados no PyPI.",
   "metadata": {
    "id": "H7sLz5Ohh2sQ",
    "cell_id": "00064-a40c8a52-7e2c-4fb2-8650-b8c93e6ae79f",
    "deepnote_cell_type": "markdown"
   }
  },
  {
   "cell_type": "markdown",
   "source": " - Instalando pacotes: `pip install <pacote>==<versão>`",
   "metadata": {
    "id": "lk15K9eYhF8-",
    "cell_id": "00065-d3613b1f-44d5-4ebf-87ab-2f524365b77a",
    "deepnote_cell_type": "markdown"
   }
  },
  {
   "cell_type": "code",
   "metadata": {
    "id": "6PmfjrO3kwE0",
    "cell_id": "00066-a2100b45-f4a6-43e7-a23d-51de0c133d2d",
    "deepnote_cell_type": "code"
   },
   "source": "!pip install requests==2.25.1",
   "execution_count": null,
   "outputs": []
  },
  {
   "cell_type": "markdown",
   "source": " - Listando pacotes: `pip freeze`",
   "metadata": {
    "id": "odETseuCiKgA",
    "cell_id": "00067-c33c31d4-f9a4-4264-970e-753f15eb0b38",
    "deepnote_cell_type": "markdown"
   }
  },
  {
   "cell_type": "code",
   "metadata": {
    "id": "uVcu2I7miO0e",
    "cell_id": "00068-5cddf7bc-a8f6-4775-a94c-ea0196b7d394",
    "deepnote_cell_type": "code"
   },
   "source": "!pip freeze",
   "execution_count": null,
   "outputs": []
  },
  {
   "cell_type": "markdown",
   "source": " - Removendo pacotes: `pip uninstall <pacote>`",
   "metadata": {
    "id": "euzwK_8VirCJ",
    "cell_id": "00069-fec797d6-5a83-4b88-bc6b-050c64b2a517",
    "deepnote_cell_type": "markdown"
   }
  },
  {
   "cell_type": "code",
   "metadata": {
    "id": "8C1lfHuji97L",
    "cell_id": "00070-a54f9f0f-12d5-4c6f-9fdf-fe782ab10375",
    "deepnote_cell_type": "code"
   },
   "source": "!pip uninstall requests",
   "execution_count": null,
   "outputs": []
  },
  {
   "cell_type": "markdown",
   "source": "### **4.3. Requests** ",
   "metadata": {
    "id": "IA0eGZQ4k24m",
    "cell_id": "00071-68915021-b897-489f-9ad6-c89364505c8b",
    "deepnote_cell_type": "markdown"
   }
  },
  {
   "cell_type": "markdown",
   "source": "Pacote para interação com o protocolo web HTTP ([link](https://pypi.org/project/requests/)).",
   "metadata": {
    "id": "aIS5dSmUlNDZ",
    "cell_id": "00072-98630fd7-4aa2-4652-9c0a-c9198abc8f5e",
    "deepnote_cell_type": "markdown"
   }
  },
  {
   "cell_type": "markdown",
   "source": "**Exemplo:** Extrair a taxa CDI do site da B3.",
   "metadata": {
    "id": "tosUt4YUQ-Eq",
    "cell_id": "00073-a9570deb-7524-4ab3-b2d2-45e0860e642a",
    "deepnote_cell_type": "markdown"
   }
  },
  {
   "cell_type": "code",
   "metadata": {
    "id": "FOA9GUgklXy_",
    "cell_id": "00074-2b518a33-dabc-496b-97ca-a31c3a24bd5e",
    "deepnote_cell_type": "code"
   },
   "source": "import requests as req\n\nresponse = req.get('https://www2.cetip.com.br/ConsultarTaxaDi/ConsultarTaxaDICetip.aspx')",
   "execution_count": null,
   "outputs": []
  },
  {
   "cell_type": "code",
   "metadata": {
    "id": "tgGpWa2ql3u2",
    "cell_id": "00075-c555ae7d-3882-429b-a174-89f469aaff56",
    "deepnote_cell_type": "code"
   },
   "source": "print(f'status code: {response.status_code}')",
   "execution_count": null,
   "outputs": []
  },
  {
   "cell_type": "code",
   "metadata": {
    "id": "dnQwEQ8tmAXt",
    "cell_id": "00076-7de5acc8-c8f9-4510-b87a-d8184aeb663a",
    "deepnote_cell_type": "code"
   },
   "source": "print(response.text)",
   "execution_count": null,
   "outputs": []
  },
  {
   "cell_type": "code",
   "metadata": {
    "id": "I64ho0ZaPhK1",
    "cell_id": "00077-f95c4061-f7da-4a87-b602-1c14728fb500",
    "deepnote_cell_type": "code"
   },
   "source": "import json\n\ndata = json.loads(response.text)\nprint(data)",
   "execution_count": null,
   "outputs": []
  },
  {
   "cell_type": "code",
   "metadata": {
    "id": "aBMgH8LBNjBg",
    "cell_id": "00078-5cb28e81-22a1-4d1c-81e4-f79d1b74119e",
    "deepnote_cell_type": "code"
   },
   "source": "cdi = None\n\nfor key, value in data.items():\n  if key == 'taxa':\n    cdi = value.replace(',', '.')\n    cdi = float(cdi)\n\nprint(cdi)",
   "execution_count": null,
   "outputs": []
  },
  {
   "cell_type": "markdown",
   "source": "<a style='text-decoration:none;line-height:16px;display:flex;color:#5B5B62;padding:10px;justify-content:end;' href='https://deepnote.com?utm_source=created-in-deepnote-cell&projectId=7bc88e6b-e21c-42d6-a070-b420cc720827' target=\"_blank\">\n<img alt='Created in deepnote.com' style='display:inline;max-height:16px;margin:0px;margin-right:7.5px;' src='data:image/svg+xml;base64,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' > </img>\nCreated in <span style='font-weight:600;margin-left:4px;'>Deepnote</span></a>",
   "metadata": {
    "tags": [],
    "created_in_deepnote_cell": true,
    "deepnote_cell_type": "markdown"
   }
  }
 ],
 "nbformat": 4,
 "nbformat_minor": 0,
 "metadata": {
  "colab": {
   "name": "module_7_class.ipynb",
   "provenance": [],
   "collapsed_sections": [],
   "toc_visible": true
  },
  "kernelspec": {
   "name": "python3",
   "display_name": "Python 3"
  },
  "deepnote_notebook_id": "9c7fb5b2-36d1-4158-971e-2132f9b80812",
  "deepnote": {},
  "deepnote_execution_queue": []
 }
}