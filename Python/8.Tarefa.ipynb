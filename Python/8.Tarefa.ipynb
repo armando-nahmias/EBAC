{
 "cells": [
  {
   "cell_type": "markdown",
   "source": "<img src=\"https://raw.githubusercontent.com/andre-marcos-perez/ebac-course-utils/main/media/logo/newebac_logo_black_half.png\" alt=\"ebac-logo\">\n\n---\n\n# **Módulo 08** | Python: Tratamento de Erros\nCaderno de **Exercícios**<br> \nProfessor [André Perez](https://www.linkedin.com/in/andremarcosperez/)\n\n---",
   "metadata": {
    "id": "KJqp9AANOCtf",
    "cell_id": "00000-202380a0-b3a5-4330-a515-8dff45dabaca",
    "deepnote_cell_type": "markdown"
   }
  },
  {
   "cell_type": "markdown",
   "source": "# **Tópicos**\n\n<ol type=\"1\">\n  <li>Tipos de erros;</li>\n  <li>Erros de sintaxe;</li>\n  <li>Erros em tempo de execução.</li>\n</ol>",
   "metadata": {
    "id": "d9jDtUbDOE1-",
    "cell_id": "00001-1a108ffa-4b74-4398-866f-256e7a29f728",
    "deepnote_cell_type": "markdown"
   }
  },
  {
   "cell_type": "markdown",
   "source": "---",
   "metadata": {
    "id": "SmoHgt-lwkpD",
    "cell_id": "00002-a41e15ca-fdca-47d0-a8d9-6779469b3767",
    "deepnote_cell_type": "markdown"
   }
  },
  {
   "cell_type": "markdown",
   "source": "# **Exercícios**",
   "metadata": {
    "id": "GABI6OW8OfQ2",
    "cell_id": "00003-3911c10b-9d5c-4565-890d-d3c49878a883",
    "deepnote_cell_type": "markdown"
   }
  },
  {
   "cell_type": "markdown",
   "source": "## 1\\. Erros de sintaxe",
   "metadata": {
    "id": "muD1vxozykSC",
    "cell_id": "00004-fab7d7c3-fa63-4cf8-abb3-67857371664c",
    "deepnote_cell_type": "markdown"
   }
  },
  {
   "cell_type": "markdown",
   "source": "Identifique o erro de sintaxe nos trechos de código abaixo e corrija-os para que o trecho de código funcione.",
   "metadata": {
    "id": "ahrFfCuBxJKs",
    "cell_id": "00005-db83c557-a9be-41f2-8cca-e8ddb63d3080",
    "deepnote_cell_type": "markdown"
   }
  },
  {
   "cell_type": "markdown",
   "source": " - Laços de repetição.",
   "metadata": {
    "id": "sCluir52-zGM",
    "cell_id": "00006-5ba38cef-2247-4d26-8e36-20f244e632de",
    "deepnote_cell_type": "markdown"
   }
  },
  {
   "cell_type": "code",
   "metadata": {
    "id": "eebFnvGd-zSC",
    "cell_id": "00007-7b278079-2db3-4082-8e4f-2c7775fe4279",
    "deepnote_cell_type": "code"
   },
   "source": "credito = {'123': 750, '456': 812, '789': 980}\n\nfor chave, valor in credito.items():\n  print(f'Para o documento {chave}, o valor do escore de crédito é {valor}.\")",
   "execution_count": null,
   "outputs": []
  },
  {
   "cell_type": "markdown",
   "source": " - Funções",
   "metadata": {
    "id": "NKDaQYt889VZ",
    "cell_id": "00008-01fb84e8-e145-40ee-bdae-d2148ce4e4c7",
    "deepnote_cell_type": "markdown"
   }
  },
  {
   "cell_type": "code",
   "metadata": {
    "id": "GZHnCmRH89hg",
    "cell_id": "00009-6592c3db-c98b-4160-b13d-a93219de1e1b",
    "deepnote_cell_type": "code"
   },
   "source": "def pi() --> float:\n  return 3.14159265359\n\npi = pi()\nprint(pi)",
   "execution_count": null,
   "outputs": []
  },
  {
   "cell_type": "markdown",
   "source": "- Programação Funcional",
   "metadata": {
    "id": "i6EIHmQZ8KMy",
    "cell_id": "00010-b140dce8-a074-4e2e-b686-9614263645f3",
    "deepnote_cell_type": "markdown"
   }
  },
  {
   "cell_type": "code",
   "metadata": {
    "id": "_1a3EEYU8JsU",
    "cell_id": "00011-b15af567-4311-4363-aa86-ae9531bbadd2",
    "deepnote_cell_type": "code"
   },
   "source": "emails = ['andre.perez@gmail.com', 'andre.perez@live.com', 'andre.perez@yahoo.com']\nprovedor_da_google = lambda email: 'gmail in email\n\nemails_google = filter(provedor_da_google, emails)\nprint(list(emails_google))",
   "execution_count": null,
   "outputs": []
  },
  {
   "cell_type": "markdown",
   "source": "- Programação orientação a objetos",
   "metadata": {
    "id": "KI9zQRT2xa7m",
    "cell_id": "00012-d2fa325b-16f4-4bc6-891e-e1f2418ebd32",
    "deepnote_cell_type": "markdown"
   }
  },
  {
   "cell_type": "code",
   "metadata": {
    "id": "XD-C996C7gvN",
    "cell_id": "00013-1eb6ead4-994f-4155-997d-75173aa7c59b",
    "deepnote_cell_type": "code"
   },
   "source": "class Pessoa(object):\n\n  def __init__(self nome: str, idade: int, documento: str):\n    self.nome = nome\n    self.idade = idade\n    self.documento = documento\n\nandre = Pessoa(nome=\"Andre\", idade=30, document=\"123\")",
   "execution_count": null,
   "outputs": []
  },
  {
   "cell_type": "markdown",
   "source": "---",
   "metadata": {
    "id": "zMN1Q3jdwoJm",
    "cell_id": "00014-467de8ee-2c34-47c4-85b7-3006e16b9cb0",
    "deepnote_cell_type": "markdown"
   }
  },
  {
   "cell_type": "markdown",
   "source": "## 2\\. Erros em tempo de execução",
   "metadata": {
    "id": "qh4asQbf6dBX",
    "cell_id": "00015-5290d04d-b0b2-4ac1-8650-869b7f0700ac",
    "deepnote_cell_type": "markdown"
   }
  },
  {
   "cell_type": "markdown",
   "source": "Neste exercício vamos trabalhar com o arquivo csv com dados de crédito, definido abaixo. Execute cada uma das células de código para escrever os arquivos na sua máquina virtual.",
   "metadata": {
    "id": "71iuLvVJ6dB-",
    "cell_id": "00016-ba10da21-3d4b-443d-b059-5e696eed6002",
    "deepnote_cell_type": "markdown"
   }
  },
  {
   "cell_type": "code",
   "metadata": {
    "id": "FCBXZUQd3frz",
    "cell_id": "00017-f45d5aa7-6e42-4f81-8275-d8e0f87d4bcf",
    "deepnote_cell_type": "code"
   },
   "source": "%%writefile credito.csv\nid_vendedor,valor_emprestimos,quantidade_emprestimos,data\n104271,448.0,1,20161208\n21476,826.7,3,20161208\n87440,313.6,3,20161208\n15980,808.0,6,20161208\n215906,2212.0,5,20161208\n33696,2771.3,2,20161208\n33893,2240.0,3,20161208\n214946,\"4151.0\",18,20161208\n123974,2021.95,2,20161208\n225870,4039.0,2,20161208",
   "execution_count": null,
   "outputs": []
  },
  {
   "cell_type": "markdown",
   "source": "O código abaixo deve calcular o total emprestado por cada vendedor mas está \"estourando\" a exceção `ValueError` devido a um erro no conjunto de dados. Utilize a estrutura `try-catch` para garantir que o código seja executado com sucesso. \n\n**Atenção:** Você não deve alterar o arquivo de dados.",
   "metadata": {
    "id": "FIe14G9H3779",
    "cell_id": "00018-aac991f7-5008-422c-b13f-bac10a1dab30",
    "deepnote_cell_type": "markdown"
   }
  },
  {
   "cell_type": "code",
   "metadata": {
    "id": "cOkNYOdd5GMK",
    "cell_id": "00019-3f2a3cae-2195-4f45-98f4-6ef4d32abcf1",
    "deepnote_cell_type": "code"
   },
   "source": "def valor_total_emprestimo(valor: float, quantidade: int) -> float:\n  return valor * quantidade\n\nemprestimos = []\n\nwith open(file='./credito.csv', mode='r', encoding='utf8') as fp:\n  fp.readline() # cabeçalho\n  linha = fp.readline()\n  while linha:\n    linha_emprestimo = {}\n    linha_elementos = linha.strip().split(sep=',')\n    linha_emprestimo['id_vendedor'] = linha_elementos[0]\n    linha_emprestimo['valor_emprestimos'] = float(linha_elementos[1])\n    linha_emprestimo['quantidade_emprestimos'] = int(linha_elementos[2])\n    linha_emprestimo['data'] = linha_elementos[3]\n    emprestimos.append(linha_emprestimo)\n    linha = fp.readline()\n\nemprestimos_total = []\nfor emprestimo in emprestimos:\n  valor_total = valor_total_emprestimo(valor=emprestimo['valor_emprestimos'], quantidade=emprestimo['quantidade_emprestimos'])\n  emprestimos_total.append({emprestimo['id_vendedor']: valor_total})\n\nfor emprestimo_total in emprestimos_total:\n  print(emprestimo_total)",
   "execution_count": null,
   "outputs": []
  },
  {
   "cell_type": "markdown",
   "source": "O resultado final deve ser a impressão da seguinte lista:\n\n```\n{'104271': 448.0}\n{'21476': 2480.1000000000004}\n{'87440': 940.8000000000001}\n{'15980': 4848.0}\n{'215906': 11060.0}\n{'33696': 5542.6}\n{'33893': 6720.0}\n{'214946': 74718.0}\n{'123974': 4043.9}\n{'225870': 8078.0}\n```",
   "metadata": {
    "id": "0dKgZEQB8ZwP",
    "cell_id": "00020-920fb4ae-f855-4321-abfa-545993de9dbc",
    "deepnote_cell_type": "markdown"
   }
  },
  {
   "cell_type": "markdown",
   "source": "---",
   "metadata": {
    "id": "zkqY6ImS6dCB",
    "cell_id": "00021-c9be6f75-0ce2-43db-8c53-9f18a22f2535",
    "deepnote_cell_type": "markdown"
   }
  },
  {
   "cell_type": "markdown",
   "source": "<a style='text-decoration:none;line-height:16px;display:flex;color:#5B5B62;padding:10px;justify-content:end;' href='https://deepnote.com?utm_source=created-in-deepnote-cell&projectId=7bc88e6b-e21c-42d6-a070-b420cc720827' target=\"_blank\">\n<img alt='Created in deepnote.com' style='display:inline;max-height:16px;margin:0px;margin-right:7.5px;' src='data:image/svg+xml;base64,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' > </img>\nCreated in <span style='font-weight:600;margin-left:4px;'>Deepnote</span></a>",
   "metadata": {
    "tags": [],
    "created_in_deepnote_cell": true,
    "deepnote_cell_type": "markdown"
   }
  }
 ],
 "nbformat": 4,
 "nbformat_minor": 0,
 "metadata": {
  "colab": {
   "name": "module_8_exercise.ipynb",
   "provenance": [],
   "collapsed_sections": [],
   "toc_visible": true
  },
  "kernelspec": {
   "name": "python3",
   "display_name": "Python 3"
  },
  "deepnote_notebook_id": "5db14b65-03fd-4dd1-ab0f-be3a499f74eb",
  "deepnote": {},
  "deepnote_execution_queue": []
 }
}