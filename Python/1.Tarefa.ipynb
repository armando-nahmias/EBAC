{
 "cells": [
  {
   "cell_type": "markdown",
   "source": "<img src=\"https://raw.githubusercontent.com/andre-marcos-perez/ebac-course-utils/main/media/logo/newebac_logo_black_half.png\" alt=\"ebac-logo\">\n\n---\n\n# **Módulo 01** | Python: Variáveis & Tipos de Dados\nCaderno de **Exercícios**<br> \nProfessor [André Perez](https://www.linkedin.com/in/andremarcosperez/)\n\n---",
   "metadata": {
    "id": "KJqp9AANOCtf",
    "cell_id": "00000-a38c9642-3b00-4dc0-a4f1-146cac5441da",
    "deepnote_cell_type": "markdown"
   }
  },
  {
   "cell_type": "markdown",
   "source": "# **Tópicos**\n\n<ol type=\"1\">\n  <li>Introdução ao Google Colab;</li>\n  <li>Variáveis;</li>\n  <li>Números;</li>\n  <li><i>Strings;</i></li>\n  <li>Boleanos.</li>\n</ol>",
   "metadata": {
    "id": "d9jDtUbDOE1-",
    "cell_id": "00001-12765986-e882-4131-9202-7cab4eb94e4f",
    "deepnote_cell_type": "markdown"
   }
  },
  {
   "cell_type": "markdown",
   "source": "---",
   "metadata": {
    "id": "SmoHgt-lwkpD",
    "cell_id": "00002-7c188138-7022-4fc6-a708-bc8f52691378",
    "deepnote_cell_type": "markdown"
   }
  },
  {
   "cell_type": "markdown",
   "source": "# **Exercícios**",
   "metadata": {
    "id": "GABI6OW8OfQ2",
    "cell_id": "00003-e978d38f-836f-41d4-a893-09440421ff1f",
    "deepnote_cell_type": "markdown"
   }
  },
  {
   "cell_type": "markdown",
   "source": "## 1\\. Google Colab",
   "metadata": {
    "id": "muD1vxozykSC",
    "cell_id": "00004-fed89dc4-7b3e-4fd4-9d92-d67b8345baab",
    "deepnote_cell_type": "markdown"
   }
  },
  {
   "cell_type": "markdown",
   "source": "Crie uma célula de código que escreva o texto \"Olá mundo!\", utilize o comando `print`.",
   "metadata": {
    "id": "ahrFfCuBxJKs",
    "cell_id": "00005-3cca4555-9de2-462f-a3a8-2f41ff2742dd",
    "deepnote_cell_type": "markdown"
   }
  },
  {
   "cell_type": "markdown",
   "source": "Crie uma célua de texto e adicione uma imagem.",
   "metadata": {
    "id": "KI9zQRT2xa7m",
    "cell_id": "00006-d41f7501-32c7-49ae-95a4-08d292eb3a17",
    "deepnote_cell_type": "markdown"
   }
  },
  {
   "cell_type": "markdown",
   "source": "---",
   "metadata": {
    "id": "zMN1Q3jdwoJm",
    "cell_id": "00007-ac6ba663-4691-4167-866f-bdb5ff500391",
    "deepnote_cell_type": "markdown"
   }
  },
  {
   "cell_type": "markdown",
   "source": "## 2\\. Números",
   "metadata": {
    "id": "tFYOPLS3xiwe",
    "cell_id": "00008-66006d99-9a0c-42db-a82f-4dd6bc5a8e9f",
    "deepnote_cell_type": "markdown"
   }
  },
  {
   "cell_type": "markdown",
   "source": "Preencha as células de código para preencher os valores de (A), (B) e (C) na tabela de ticket médio abaixo:\n\n<br>\n\n| Dia   | Valor Total Vendas | Qtd Total Vendas | Ticket Medio |\n|-------|--------------------|------------------|--------------|\n| 19/01 | (A)                | 3                | 320.52       |\n| 20/01 | 834.47             | (B)              | 119.21       |\n| 23/01 | 15378.12           | 5                | (C)          |",
   "metadata": {
    "id": "O2G9gt7tx2c-",
    "cell_id": "00009-b55c3c6b-d7f6-40b9-bfc7-c473bd63700f",
    "deepnote_cell_type": "markdown"
   }
  },
  {
   "cell_type": "code",
   "metadata": {
    "id": "nsrKH9EizNRD",
    "cell_id": "00010-d7c661a0-c70e-4149-b7ab-06e41eb56d90",
    "deepnote_cell_type": "code"
   },
   "source": "# (A)",
   "execution_count": null,
   "outputs": []
  },
  {
   "cell_type": "code",
   "metadata": {
    "id": "QQ1GBGHJzMmi",
    "cell_id": "00011-17b37501-6a05-4ebf-8a5c-d8abf1c32ddd",
    "deepnote_cell_type": "code"
   },
   "source": "# (B)",
   "execution_count": null,
   "outputs": []
  },
  {
   "cell_type": "code",
   "metadata": {
    "id": "W-li0nSMzKNa",
    "cell_id": "00012-9511d1f5-00ff-4937-80f0-1f39d1093736",
    "deepnote_cell_type": "code"
   },
   "source": "# (C)",
   "execution_count": null,
   "outputs": []
  },
  {
   "cell_type": "markdown",
   "source": "---",
   "metadata": {
    "id": "3eoP-Vj9yzh8",
    "cell_id": "00013-8563717a-ef2b-426e-928a-08c5bdca9c73",
    "deepnote_cell_type": "markdown"
   }
  },
  {
   "cell_type": "markdown",
   "source": "## 3\\. Strings",
   "metadata": {
    "id": "yUJ6kdony6Pr",
    "cell_id": "00014-9620e479-15dc-4369-b141-775e89f32624",
    "deepnote_cell_type": "markdown"
   }
  },
  {
   "cell_type": "markdown",
   "source": "Aplique três métodos distintos na *string* abaixo, você pode conferir alguns métodos neste [link](https://www.w3schools.com/python/python_ref_string.asp):",
   "metadata": {
    "id": "KDuZpg-5zCvO",
    "cell_id": "00015-607339b7-67ca-472d-8521-d25ba6984687",
    "deepnote_cell_type": "markdown"
   }
  },
  {
   "cell_type": "code",
   "metadata": {
    "id": "k9zbyf7BzjKj",
    "cell_id": "00016-1090e6a0-ee57-4a8d-9a51-128d9e0862d2",
    "deepnote_cell_type": "code"
   },
   "source": "cancao = 'Roda mundo, roda gigante, roda moinho, roda pião.'",
   "execution_count": null,
   "outputs": []
  },
  {
   "cell_type": "markdown",
   "source": "Extraia da string abaixo o valor da taxa **selic** na variável `selic` e o valor do **ano** na variavel `ano`. Imprima os valores na tela.",
   "metadata": {
    "id": "guZMHXVq0FnC",
    "cell_id": "00017-8355b508-f738-4da7-8478-a0dfe2751116",
    "deepnote_cell_type": "markdown"
   }
  },
  {
   "cell_type": "code",
   "metadata": {
    "id": "cbx_P4IQ0agK",
    "cell_id": "00018-03c45c52-4ba5-496f-9133-8f5ac6faa343",
    "deepnote_cell_type": "code"
   },
   "source": "noticia = 'Selic vai a 2,75% e supera expectativas; é a primeira alta em 6 anos.'",
   "execution_count": null,
   "outputs": []
  },
  {
   "cell_type": "markdown",
   "source": "---",
   "metadata": {
    "id": "wWzbu-OC0z3L",
    "cell_id": "00019-3e7a576e-bf05-4d7e-a2b6-ad80930e2b5f",
    "deepnote_cell_type": "markdown"
   }
  },
  {
   "cell_type": "markdown",
   "source": "## 4\\. Booleanos",
   "metadata": {
    "id": "no8w_Ati01xP",
    "cell_id": "00020-4603db5c-1ef9-4eec-9d57-72c7d2894fd8",
    "deepnote_cell_type": "markdown"
   }
  },
  {
   "cell_type": "markdown",
   "source": "Utilize a tabela da verdade para responder: qual o valor da variável x?",
   "metadata": {
    "id": "D_0tC3SC099N",
    "cell_id": "00021-347663d9-9be6-4533-beb6-fa4dd8a70460",
    "deepnote_cell_type": "markdown"
   }
  },
  {
   "cell_type": "code",
   "metadata": {
    "id": "XwIEbxf91SpU",
    "cell_id": "00022-79b79c47-6797-4648-9049-92d6a519b606",
    "deepnote_cell_type": "code"
   },
   "source": "a = False\nb = True\n\nx = not a & b",
   "execution_count": null,
   "outputs": []
  },
  {
   "cell_type": "markdown",
   "source": "<a style='text-decoration:none;line-height:16px;display:flex;color:#5B5B62;padding:10px;justify-content:end;' href='https://deepnote.com?utm_source=created-in-deepnote-cell&projectId=7bc88e6b-e21c-42d6-a070-b420cc720827' target=\"_blank\">\n<img alt='Created in deepnote.com' style='display:inline;max-height:16px;margin:0px;margin-right:7.5px;' src='data:image/svg+xml;base64,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' > </img>\nCreated in <span style='font-weight:600;margin-left:4px;'>Deepnote</span></a>",
   "metadata": {
    "tags": [],
    "created_in_deepnote_cell": true,
    "deepnote_cell_type": "markdown"
   }
  }
 ],
 "nbformat": 4,
 "nbformat_minor": 0,
 "metadata": {
  "colab": {
   "name": "module_1_exercise.ipynb",
   "provenance": [],
   "toc_visible": true
  },
  "kernelspec": {
   "name": "python3",
   "display_name": "Python 3"
  },
  "deepnote_notebook_id": "bf7f87b2-f36d-4060-9e19-1eb5cf8d0f5d",
  "deepnote": {},
  "deepnote_execution_queue": []
 }
}