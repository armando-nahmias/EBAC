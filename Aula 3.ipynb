{
 "cells": [
  {
   "cell_type": "markdown",
   "source": "<img src=\"https://raw.githubusercontent.com/andre-marcos-perez/ebac-course-utils/main/media/logo/newebac_logo_black_half.png\" alt=\"ebac-logo\">\n\n---\n\n# **Módulo** | Python: Fluxo Condicional & Repetição\nCaderno de **Aula**<br> \nProfessor [André Perez](https://www.linkedin.com/in/andremarcosperez/)\n\n---",
   "metadata": {
    "id": "KJqp9AANOCtf",
    "cell_id": "00000-bf7acc09-cba3-4a43-b069-755f3bf6b23a",
    "deepnote_cell_type": "markdown"
   }
  },
  {
   "cell_type": "markdown",
   "source": "# **Tópicos**\n\n<ol type=\"1\">\n  <li>Estrutura condicional if / else / elif;</li>\n  <li>Estrutura condicional try / catch / finally;</li>\n  <li>Estrutura de repetição for / in.</li>\n</ol>",
   "metadata": {
    "id": "d9jDtUbDOE1-",
    "cell_id": "00001-f6016f8f-6be9-4375-8e5f-266ff8300480",
    "deepnote_cell_type": "markdown"
   }
  },
  {
   "cell_type": "markdown",
   "source": "---",
   "metadata": {
    "id": "SmoHgt-lwkpD",
    "cell_id": "00002-8e6a374f-362f-4507-be3f-fcaa89fc7985",
    "deepnote_cell_type": "markdown"
   }
  },
  {
   "cell_type": "markdown",
   "source": "# **Aulas**",
   "metadata": {
    "id": "GABI6OW8OfQ2",
    "cell_id": "00003-ebb44b76-4592-42c1-8fa3-54f7e715bb62",
    "deepnote_cell_type": "markdown"
   }
  },
  {
   "cell_type": "markdown",
   "source": "## 1\\. Estrutura condicional if / else / elif",
   "metadata": {
    "id": "muD1vxozykSC",
    "cell_id": "00004-d23d7a50-a614-4ba2-a279-0774a5a0db86",
    "deepnote_cell_type": "markdown"
   }
  },
  {
   "cell_type": "markdown",
   "source": "### **1.1. if / else** ",
   "metadata": {
    "id": "E6D5rjlESJ1A",
    "cell_id": "00005-a66c4858-8327-45a0-af17-d5040c4f1abe",
    "deepnote_cell_type": "markdown"
   }
  },
  {
   "cell_type": "markdown",
   "source": "Estrutura de alteração de fluxo lógico do código, avalia um valor booleano ou uma comparação lógica. **Note** a identação do código.",
   "metadata": {
    "id": "2SIVm6ySRaeI",
    "cell_id": "00006-dbcb00ac-a168-42ae-9a71-18f86c786456",
    "deepnote_cell_type": "markdown"
   }
  },
  {
   "cell_type": "markdown",
   "source": "```python\nif <booleano / comparação lógica> == True:\n  <execute este código>\nelse:\n  <senão execute este código>\n```",
   "metadata": {
    "id": "jfrmdxoJVw-l",
    "cell_id": "00007-1ffcdd02-d50c-464d-8da2-f58d757e2b83",
    "deepnote_cell_type": "markdown"
   }
  },
  {
   "cell_type": "code",
   "metadata": {
    "id": "7tNcqW3aTZPr",
    "cell_id": "00008-7341519c-7271-4aee-a3f5-d9e811e87057",
    "deepnote_cell_type": "code"
   },
   "source": "if False:\n  print(\"Verdadeiro\")\nelse:\n  print(\"Falso\")",
   "execution_count": null,
   "outputs": []
  },
  {
   "cell_type": "markdown",
   "source": "**Exemplo**: Código de segurança de um cartão de crédito",
   "metadata": {
    "id": "e3h_XvXxTSqd",
    "cell_id": "00009-bc5eadb9-ca0a-43dd-8e62-04818e116227",
    "deepnote_cell_type": "markdown"
   }
  },
  {
   "cell_type": "code",
   "metadata": {
    "id": "3ungC6KPSg1y",
    "cell_id": "00010-9b19b505-82a9-4430-b9e9-2bae9f41af0e",
    "deepnote_cell_type": "code"
   },
   "source": "codigo_de_seguranca = '291'\ncodigo_de_seguranca_cadastro = '010'\n\npode_efetuar_pagamento = codigo_de_seguranca == codigo_de_seguranca_cadastro\nprint(pode_efetuar_pagamento)",
   "execution_count": null,
   "outputs": []
  },
  {
   "cell_type": "code",
   "metadata": {
    "id": "5vpLILeASoNz",
    "cell_id": "00011-09bcd680-7d81-4627-ae66-0ee6c0d95af1",
    "deepnote_cell_type": "code"
   },
   "source": "if pode_efetuar_pagamento:\n  print(\"Pagamento efetuado\")\nelse:\n  print(\"Erro: Código de segurança inválido\")",
   "execution_count": null,
   "outputs": []
  },
  {
   "cell_type": "code",
   "metadata": {
    "id": "oj76sTo-Ttz8",
    "cell_id": "00012-01d0a313-7671-4a82-a4c1-f62555f4a75c",
    "deepnote_cell_type": "code"
   },
   "source": "if codigo_de_seguranca == codigo_de_seguranca_cadastro:\n  print(\"Pagamento efetuado\")\nelse:\n  print(\"Erro: Código de segurança inválido\")",
   "execution_count": null,
   "outputs": []
  },
  {
   "cell_type": "markdown",
   "source": "**Exemplo**: Código e senha de segurança de um cartão de crédito",
   "metadata": {
    "id": "zvvqNNM1UDzh",
    "cell_id": "00013-3bf783e5-45da-4eeb-bc28-9e370b8efd77",
    "deepnote_cell_type": "markdown"
   }
  },
  {
   "cell_type": "code",
   "metadata": {
    "id": "42kdrjL3UPnt",
    "cell_id": "00014-5117b022-3cbb-4de3-8ffb-b240243dbb43",
    "deepnote_cell_type": "code"
   },
   "source": "codigo_de_seguranca = '852'\ncodigo_de_seguranca_cadastro = '852'\n\nsenha = '7783'\nsenha_cadastro = '7783'",
   "execution_count": null,
   "outputs": []
  },
  {
   "cell_type": "markdown",
   "source": "Revisitando a tabela da verdade:",
   "metadata": {
    "id": "tvmgUmH5UZlj",
    "cell_id": "00015-2ff76a03-e664-4982-9e54-5949bcf6a69d",
    "deepnote_cell_type": "markdown"
   }
  },
  {
   "cell_type": "markdown",
   "source": "| CÓDIGO        | SENHA        | | | CÓDIGO OR SENHA   | | CÓDIGO AND SENHA  | | NOT CÓDIGO    |\n|----------|----------|-|-|----------|-|----------|-|----------|\n| **TRUE** | **TRUE** | | | **TRUE** | | **TRUE** | | FALSE    |\n| **TRUE** | FALSE    | | | **TRUE** | | FALSE    | | FALSE    |\n| FALSE    | FALSE    | | | FALSE    | | FALSE    | | **TRUE** |\n| FALSE    | **TRUE** | | | **TRUE** | | FALSE    | | **TRUE** |",
   "metadata": {
    "id": "CMkW6VfqUX73",
    "cell_id": "00016-9086c618-83d0-44a5-8466-b255d447aa27",
    "deepnote_cell_type": "markdown"
   }
  },
  {
   "cell_type": "code",
   "metadata": {
    "id": "ypis6-LgUn5z",
    "cell_id": "00017-c7cfab78-8b11-4cb0-a90f-b0933c616374",
    "deepnote_cell_type": "code"
   },
   "source": "if (codigo_de_seguranca == codigo_de_seguranca_cadastro) & (senha == senha_cadastro):\n  print(\"Pagamento efetuado\")\nelse:\n  print(\"Erro: Pagamento não efetuado\")",
   "execution_count": null,
   "outputs": []
  },
  {
   "cell_type": "code",
   "metadata": {
    "id": "DCCPknUSUwQM",
    "cell_id": "00018-b9ffe7e5-2290-4342-8dd9-c189ae08866b",
    "deepnote_cell_type": "code"
   },
   "source": "if (codigo_de_seguranca != codigo_de_seguranca_cadastro) | (senha != senha_cadastro):\n  print(\"Erro: Pagamento não efetuado\")\nelse:\n  print(\"Pagamento efetuado\")",
   "execution_count": null,
   "outputs": []
  },
  {
   "cell_type": "markdown",
   "source": "### **1.2. if / elif / else**",
   "metadata": {
    "id": "wNkFG1qKSU9M",
    "cell_id": "00019-7caa8b36-f8fa-4f32-a4c1-6fac9cfcfc9f",
    "deepnote_cell_type": "markdown"
   }
  },
  {
   "cell_type": "markdown",
   "source": "Podemos também avaliar múltipla condições.",
   "metadata": {
    "id": "9c-GagIqSjUA",
    "cell_id": "00020-20ac40cf-2f1c-4390-92bc-8686da892102",
    "deepnote_cell_type": "markdown"
   }
  },
  {
   "cell_type": "markdown",
   "source": "```python\nif <1º booleano / 1ª comparação lógica> == True:\n  <execute este código se a primeira condição for verdade>\nelif <2º booleano / 2ª comparação lógica> == True:\n  <execute este código se a segunda condição for verdade>\nelse:\n  <senão execute este código>\n```",
   "metadata": {
    "id": "G66Dxs8pWXPU",
    "cell_id": "00021-ed40e4c5-50c2-4d8e-9d15-7c6494927699",
    "deepnote_cell_type": "markdown"
   }
  },
  {
   "cell_type": "code",
   "metadata": {
    "id": "bLDeLzLxSnwP",
    "cell_id": "00022-99deb582-6e11-4c42-82a2-01572723e58e",
    "deepnote_cell_type": "code"
   },
   "source": "codigo_de_seguranca = '802'\ncodigo_de_seguranca_cadastro = '852'\n\nsenha = '7703'\nsenha_cadastro = '7783'",
   "execution_count": null,
   "outputs": []
  },
  {
   "cell_type": "markdown",
   "source": "| CÓDIGO        | SENHA        | | | CÓDIGO AND SENHA  | MENSAGEM |\n|----------|----------|-|-|----------|-|\n| **TRUE** | **TRUE** | | | **TRUE** | Pagamento efetuado |\n| **TRUE** | FALSE    | | | FALSE    | Erro: Senha inválida |\n| FALSE    | FALSE    | | | FALSE    | Erro: Código de segurança e senha inválidos |\n| FALSE    | **TRUE** | | | FALSE    | Erro: Código de segurança inválido |",
   "metadata": {
    "id": "e982wq8XTq49",
    "cell_id": "00023-a019c812-3266-4cdc-899d-50836b7d92a1",
    "deepnote_cell_type": "markdown"
   }
  },
  {
   "cell_type": "code",
   "metadata": {
    "id": "rbjgy-XSSy8w",
    "cell_id": "00024-a760a83b-19a7-49e2-ae4d-c81dcf4e5d7c",
    "deepnote_cell_type": "code"
   },
   "source": "if (codigo_de_seguranca == codigo_de_seguranca_cadastro) & (senha == senha_cadastro):\n  print(\"Pagamento efetuado\")\n\nelif (codigo_de_seguranca != codigo_de_seguranca_cadastro) & (senha == senha_cadastro):\n  print(\"Erro: Código de segurança inválido\")\n\nelif (codigo_de_seguranca == codigo_de_seguranca_cadastro) & (senha != senha_cadastro):\n  print(\"Erro: Senha inválida inválida\")\n\nelse:\n  print(\"Erro: Código de segurança e senha inválidos\")",
   "execution_count": null,
   "outputs": []
  },
  {
   "cell_type": "markdown",
   "source": "## 2\\. Estrutura condicional try /except / finally",
   "metadata": {
    "id": "4rRCvy_UURrM",
    "cell_id": "00025-9f8ee392-7ba4-4567-9ca8-30d3a7d2cb83",
    "deepnote_cell_type": "markdown"
   }
  },
  {
   "cell_type": "markdown",
   "source": "### **2.1. Exceção** ",
   "metadata": {
    "id": "cOZDKbe6URrb",
    "cell_id": "00026-95a538c5-8169-48df-b8f6-040b7264243d",
    "deepnote_cell_type": "markdown"
   }
  },
  {
   "cell_type": "markdown",
   "source": "Exceções são erros que podem acontecer durante a execução do nosso código.",
   "metadata": {
    "id": "nfc742pLmgL9",
    "cell_id": "00027-1a0ac625-ba0e-46e5-a02b-228a32cd04ea",
    "deepnote_cell_type": "markdown"
   }
  },
  {
   "cell_type": "markdown",
   "source": "**Exemplo**: Erro de operações numéricas impossíveis",
   "metadata": {
    "id": "0je_kLq_myEV",
    "cell_id": "00028-ba3f15bf-347f-4969-959e-bd65682276b7",
    "deepnote_cell_type": "markdown"
   }
  },
  {
   "cell_type": "code",
   "metadata": {
    "id": "2yXpo2dfmm1T",
    "cell_id": "00029-b2d98c1e-6e71-4580-938b-87f71033a730",
    "deepnote_cell_type": "code"
   },
   "source": "preco = 132.85\npessoas = 0",
   "execution_count": null,
   "outputs": []
  },
  {
   "cell_type": "code",
   "metadata": {
    "id": "LsrxSe--nI6b",
    "cell_id": "00030-ac1d4970-d96f-4191-8655-2249423a9b9f",
    "deepnote_cell_type": "code"
   },
   "source": "valor_por_pessoa = preco / pessoas",
   "execution_count": null,
   "outputs": []
  },
  {
   "cell_type": "markdown",
   "source": "**Exemplo**: Erro por combinações de tipos diferentes",
   "metadata": {
    "id": "paZfxkVzm3gW",
    "cell_id": "00031-cc79bb6f-604f-4811-838c-ce13abf1f326",
    "deepnote_cell_type": "markdown"
   }
  },
  {
   "cell_type": "code",
   "metadata": {
    "id": "rrlR9Xv6nErH",
    "cell_id": "00032-60995f17-647f-47fb-a0f3-7cfea43f86d9",
    "deepnote_cell_type": "code"
   },
   "source": "nome = 'Andre Perez'\nidade = True",
   "execution_count": null,
   "outputs": []
  },
  {
   "cell_type": "code",
   "metadata": {
    "id": "IT3ySwYxnX0j",
    "cell_id": "00033-e8b3bcf4-bb7e-4f73-a289-6b4dc4dfbb7d",
    "deepnote_cell_type": "code"
   },
   "source": "apresentacao = 'Fala pessoal, meu nome é ' + nome + ' e eu tenho ' + idade + ' anos'",
   "execution_count": null,
   "outputs": []
  },
  {
   "cell_type": "markdown",
   "source": "**Exemplo**: Erro de indexação de estrutura de dados",
   "metadata": {
    "id": "PdIsskJNnors",
    "cell_id": "00034-5dc537df-312f-4324-8c7e-49db9b0d4e8e",
    "deepnote_cell_type": "markdown"
   }
  },
  {
   "cell_type": "code",
   "metadata": {
    "id": "AL0YPYtqntUc",
    "cell_id": "00035-c53d4b11-56f8-4d24-bb05-e20556fd68a9",
    "deepnote_cell_type": "code"
   },
   "source": "anos = [2019, 2020, 2021]",
   "execution_count": null,
   "outputs": []
  },
  {
   "cell_type": "code",
   "metadata": {
    "id": "1mksjF3inyub",
    "cell_id": "00036-53bdbed2-4b0f-4ae2-aad1-103acf88bbe7",
    "deepnote_cell_type": "code"
   },
   "source": "ano_atual = anos[3]",
   "execution_count": null,
   "outputs": []
  },
  {
   "cell_type": "code",
   "metadata": {
    "id": "RhjOE1jCn4ZA",
    "cell_id": "00037-6c127009-77fb-4496-b764-8f2ee9452da8",
    "deepnote_cell_type": "code"
   },
   "source": "cursos = {\n    'python': {\n        'nome': 'Python para Análise de Dados', 'duracao': 2.5\n    }, \n    'sql': {\n        'nome': 'SQL para Análise de Dados', 'duracao': 2\n    }\n}",
   "execution_count": null,
   "outputs": []
  },
  {
   "cell_type": "code",
   "metadata": {
    "id": "hUl1PmAAoSqt",
    "cell_id": "00038-7cfd35f3-57b2-4c77-bc4b-2d261efa3af5",
    "deepnote_cell_type": "code"
   },
   "source": "curso_atual = cursos['analista']",
   "execution_count": null,
   "outputs": []
  },
  {
   "cell_type": "markdown",
   "source": "### **2.2. try / except** ",
   "metadata": {
    "id": "5q6xcwOWURrc",
    "cell_id": "00039-1bde15ed-1d7e-492c-8d61-f1f67911f7b1",
    "deepnote_cell_type": "markdown"
   }
  },
  {
   "cell_type": "markdown",
   "source": "Estrutura para tratar exceções:",
   "metadata": {
    "id": "3eu6Eu1Uoh_t",
    "cell_id": "00040-47415f9f-eac1-482d-a240-95a7d8fd0715",
    "deepnote_cell_type": "markdown"
   }
  },
  {
   "cell_type": "code",
   "metadata": {
    "id": "S00K5ucnopBI",
    "cell_id": "00041-17df54a6-f57f-4b64-bf4c-608402efbca8",
    "deepnote_cell_type": "code"
   },
   "source": "preco = 132.85\npessoas = 2\n\ntry:\n  valor_por_pessoa = preco / pessoas\n  print(valor_por_pessoa)\nexcept ZeroDivisionError:\n  print('Número de pessoas inválido. Espera-se um valor maior que 0 e obteve-se um valor igual a ' + str(pessoas))",
   "execution_count": null,
   "outputs": []
  },
  {
   "cell_type": "code",
   "metadata": {
    "id": "xW1r3TMvpIxE",
    "cell_id": "00042-bdf04bb9-e10c-452e-aa89-66c319018ff6",
    "deepnote_cell_type": "code"
   },
   "source": "anos = [2019, 2020, 2021]\n\ntry:\n  ano_atual = anos[3]\n  print(ano_atual)\nexcept Exception:\n  print('Lista de anos é menor que o valor escolhido. Espera-se um valor entre 0 e ' + str(len(anos) - 1))",
   "execution_count": null,
   "outputs": []
  },
  {
   "cell_type": "code",
   "metadata": {
    "id": "CSxX6o_3pxCV",
    "cell_id": "00043-20a7ee47-9eb6-45e4-adb9-56f59affc705",
    "deepnote_cell_type": "code"
   },
   "source": "anos = [2019, 2020, 2021]\n\ntry:\n  ano_atual = anos[3]\n  print(ano_atual)\nexcept Exception as exc:\n  print('Descrição da exceção: ' + str(exc))\n  print('Tipo da exceção: ' + str(type(exc)))\n  print('Lista de anos é menor que o valor escolhido. Espera-se um valor entre 0 e ' + str(len(anos) - 1))",
   "execution_count": null,
   "outputs": []
  },
  {
   "cell_type": "code",
   "metadata": {
    "id": "f8f66yWuqKul",
    "cell_id": "00044-444f0b2c-6011-453d-8d87-267befa1de1b",
    "deepnote_cell_type": "code"
   },
   "source": "anos = [2019, 2020, 2021]\n\ntry:\n  ano_atual = anos[3]\n  print(ano_atual)\nexcept IndexError:\n  print('Lista de anos é menor que o valor escolhido. Espera-se um valor entre 0 e ' + str(len(anos) - 1))\nexcept Exception as exc:\n  print(exc)\n  print('Erro genérico')",
   "execution_count": null,
   "outputs": []
  },
  {
   "cell_type": "markdown",
   "source": "### **2.3. try / except / finally** ",
   "metadata": {
    "id": "WxnG-e3HURrd",
    "cell_id": "00045-17fd90a4-e256-435e-b911-ee9228ff9a2d",
    "deepnote_cell_type": "markdown"
   }
  },
  {
   "cell_type": "code",
   "metadata": {
    "id": "i1e_Ag58qZ0n",
    "cell_id": "00046-4dfee06b-2a4c-4a7f-a511-bca30e1ab763",
    "deepnote_cell_type": "code"
   },
   "source": "nome = 'Andre Perez'\nidade = 19\n\ntry:\n  apresentacao = 'Fala pessoal, meu nome é ' + nome + ' e eu tenho ' + idade + ' anos'\n  print(apresentacao)\nexcept TypeError:\n  idade = str(idade)\nfinally:\n  print('Segunda chance')\n  apresentacao = 'Fala pessoal, meu nome é ' + nome + ' e eu tenho ' + idade + ' anos'\n  print(apresentacao)",
   "execution_count": null,
   "outputs": []
  },
  {
   "cell_type": "markdown",
   "source": "## 3\\. Estrutura repetição for / in",
   "metadata": {
    "id": "_4Ugey3GWq78",
    "cell_id": "00047-f60e4a56-51f9-4fef-b135-638f37fda8b6",
    "deepnote_cell_type": "markdown"
   }
  },
  {
   "cell_type": "markdown",
   "source": "### **3.1. for / in** ",
   "metadata": {
    "id": "cyA9LdYcBfeF",
    "cell_id": "00048-1816c152-cada-45ac-9d0e-916a4b5b1a92",
    "deepnote_cell_type": "markdown"
   }
  },
  {
   "cell_type": "markdown",
   "source": "Estrutura que permite a execução repetida de um bloco de código repetidas vezes.",
   "metadata": {
    "id": "-F-0zD99Bv97",
    "cell_id": "00049-fd817456-70eb-4810-aed4-8d2020131cf9",
    "deepnote_cell_type": "markdown"
   }
  },
  {
   "cell_type": "markdown",
   "source": "```python\nfor variavel_temporaria in coleção:\n  <execute este código>\n```",
   "metadata": {
    "id": "JyP2wUaUBjrp",
    "cell_id": "00050-60d44904-25d6-40aa-995e-3f7aacfe4a94",
    "deepnote_cell_type": "markdown"
   }
  },
  {
   "cell_type": "markdown",
   "source": "### **3.2. for / in / range** ",
   "metadata": {
    "id": "lk9nsQkTWq7-",
    "cell_id": "00051-2059de48-5a01-42ee-91ad-374ac5b02aae",
    "deepnote_cell_type": "markdown"
   }
  },
  {
   "cell_type": "markdown",
   "source": "Estrutura que permite a execução repetida de um bloco de código **n** vezes.",
   "metadata": {
    "id": "OHdGHUcN24u3",
    "cell_id": "00052-4937361a-5acf-49a7-93e8-2e200d5e15dd",
    "deepnote_cell_type": "markdown"
   }
  },
  {
   "cell_type": "code",
   "metadata": {
    "id": "D68uw4X024NQ",
    "cell_id": "00053-e9ef26d5-cc41-40ef-a4bb-f81941661d81",
    "deepnote_cell_type": "code"
   },
   "source": "for valor in range(6):\n  print(valor)",
   "execution_count": null,
   "outputs": []
  },
  {
   "cell_type": "code",
   "metadata": {
    "id": "ZhKvc8BR3g0a",
    "cell_id": "00054-a05770a4-d7be-4adc-ae51-268e9858d1bc",
    "deepnote_cell_type": "code"
   },
   "source": "soma = 0\n\nfor valor in range(0, 100000):\n  soma = soma + valor\n  # print(soma)\n\nprint(soma)",
   "execution_count": null,
   "outputs": []
  },
  {
   "cell_type": "code",
   "metadata": {
    "id": "xvh2Imqy4YyU",
    "cell_id": "00055-7a104a7b-586d-42c1-93f2-17b220a24177",
    "deepnote_cell_type": "code"
   },
   "source": "for multiplo_dois in range(2, 10, 3):\n  print(multiplo_dois)",
   "execution_count": null,
   "outputs": []
  },
  {
   "cell_type": "markdown",
   "source": "### **3.3. for / in / list** ",
   "metadata": {
    "id": "5nmm_ShgWq7_",
    "cell_id": "00056-b431fc0d-bc80-4de7-b89d-e8633661b822",
    "deepnote_cell_type": "markdown"
   }
  },
  {
   "cell_type": "markdown",
   "source": "Estrutura que permite a execução de um bloco de código para todos os elementos de uma lista.",
   "metadata": {
    "id": "LB7Ghhx94ljq",
    "cell_id": "00057-023edeff-dce6-451b-a434-15aca50ffb9a",
    "deepnote_cell_type": "markdown"
   }
  },
  {
   "cell_type": "code",
   "metadata": {
    "id": "z12p8IT-4s4U",
    "cell_id": "00058-61af3811-07e3-4c52-ae52-da66a236963b",
    "deepnote_cell_type": "code"
   },
   "source": "frutas = ['maca', 'banana', 'laranja', 'uva', 'pera']\n\nfor fruta in frutas:\n  print(fruta)",
   "execution_count": null,
   "outputs": []
  },
  {
   "cell_type": "code",
   "metadata": {
    "id": "3zkZ-gPU8diZ",
    "cell_id": "00059-af59d417-5b07-4c91-9459-2ffabc0c1513",
    "deepnote_cell_type": "code"
   },
   "source": "frase = 'Fala pessoal, meu nome é André Perez.'\n\nfor caracter in frase:\n  if (caracter == 'A') | (caracter == 'z'):\n    print(f\"A letra '{caracter}' está presente na frase.\")",
   "execution_count": null,
   "outputs": []
  },
  {
   "cell_type": "markdown",
   "source": "### **3.4. for / in / dict** ",
   "metadata": {
    "id": "GsUpIpUoXmhc",
    "cell_id": "00060-a6ec62c7-9a5b-451a-abcc-990a5b721569",
    "deepnote_cell_type": "markdown"
   }
  },
  {
   "cell_type": "markdown",
   "source": "Estrutura que permite a execução de um bloco de código para todos os elementos de um dicionário.",
   "metadata": {
    "id": "xx38Jwu_7OJS",
    "cell_id": "00061-ec574b50-839a-401b-aefb-b433153c7fc7",
    "deepnote_cell_type": "markdown"
   }
  },
  {
   "cell_type": "code",
   "metadata": {
    "id": "Zo-LDBca7ULR",
    "cell_id": "00062-17628002-112f-4819-88a7-8bb3ad18e0b4",
    "deepnote_cell_type": "code"
   },
   "source": "credito = {'123': 750, '456': 812, '789': 980}",
   "execution_count": null,
   "outputs": []
  },
  {
   "cell_type": "code",
   "metadata": {
    "id": "-MI9OP197jUU",
    "cell_id": "00063-4ca71cb7-fc5d-41e7-9508-fd49985ac8ac",
    "deepnote_cell_type": "code"
   },
   "source": "for chave, valor in credito.items():\n  print(f'Para o documento {chave}, o valor do escore de crédito é {valor}.')\n  print('\\n')",
   "execution_count": null,
   "outputs": []
  },
  {
   "cell_type": "code",
   "metadata": {
    "id": "juFICibw76Ay",
    "cell_id": "00064-acef9cf2-c2e8-4827-9b99-bd9d95ded575",
    "deepnote_cell_type": "code"
   },
   "source": "for chave in credito.keys():\n  print(chave)\n  print(credito[chave])\n  print(f'Para o documento {chave}, o valor do escore de crédito é {credito[chave]}.')\n  print('\\n')",
   "execution_count": null,
   "outputs": []
  },
  {
   "cell_type": "code",
   "metadata": {
    "id": "kocTkvpH8LsV",
    "cell_id": "00065-18749b80-b002-4bf6-9937-94c1aabd2ce5",
    "deepnote_cell_type": "code"
   },
   "source": "for valor in credito.values():\n  print(valor)\n  print(f'O valor do escore de crédito é {valor}, mas não temos mais as chaves :(.')\n  print('\\n')",
   "execution_count": null,
   "outputs": []
  },
  {
   "cell_type": "markdown",
   "source": "### **3.5. break / continue** ",
   "metadata": {
    "id": "NOh6bacJWq8A",
    "cell_id": "00066-343f5fdd-af2c-438c-995c-30b6ee8b43bb",
    "deepnote_cell_type": "markdown"
   }
  },
  {
   "cell_type": "markdown",
   "source": "Estrutura que permite a quebra ou o avanço de um laço de repetição.",
   "metadata": {
    "id": "NzAhsgdE9Jw9",
    "cell_id": "00067-7e148492-87ca-4f45-9041-b1efd126fd24",
    "deepnote_cell_type": "markdown"
   }
  },
  {
   "cell_type": "code",
   "metadata": {
    "id": "6G_zUh2t9TGk",
    "cell_id": "00068-0dc3ef10-9cc5-4869-9a08-df9a27a04328",
    "deepnote_cell_type": "code"
   },
   "source": "for i in range(0, 10*10*10*10*10*10):\n  print(i)\n  if i == 10:\n    break",
   "execution_count": null,
   "outputs": []
  },
  {
   "cell_type": "code",
   "metadata": {
    "id": "tTDBNrwU9pie",
    "cell_id": "00069-a0ac710e-a396-4a98-baeb-0b6df8b1515a",
    "deepnote_cell_type": "code"
   },
   "source": "numero = 3\n\nif numero % 2 == 0:\n  print(f'O numero {numero} é par')\nelse:\n  print(f'O numero {numero} é impar')",
   "execution_count": null,
   "outputs": []
  },
  {
   "cell_type": "code",
   "metadata": {
    "id": "Wd7P73u69_62",
    "cell_id": "00070-1949dfb6-f8f8-470c-8f5e-d7385b419b65",
    "deepnote_cell_type": "code"
   },
   "source": "numeros = [361, 553, 194, 13, 510, 33, 135]\n\nfor numero in numeros:\n\n  if numero % 2 == 0:\n    print(f'O numero {numero} é par')\n    break\n  else:\n    print(f'O numero {numero} é impar')",
   "execution_count": null,
   "outputs": []
  },
  {
   "cell_type": "code",
   "metadata": {
    "id": "O8y3bath-oEl",
    "cell_id": "00071-d10e07ac-f180-4f28-97b3-d50db9c02c62",
    "deepnote_cell_type": "code"
   },
   "source": "numeros = [361, 553, 194, 13, 510, 33, 135]\n\nfor numero in numeros:\n\n  if numero % 2 == 0:\n    print(f'O numero {numero} é par')\n    break\n  else:\n    continue\n    print(f'O numero {numero} é impar')",
   "execution_count": null,
   "outputs": []
  },
  {
   "cell_type": "markdown",
   "source": "<a style='text-decoration:none;line-height:16px;display:flex;color:#5B5B62;padding:10px;justify-content:end;' href='https://deepnote.com?utm_source=created-in-deepnote-cell&projectId=7bc88e6b-e21c-42d6-a070-b420cc720827' target=\"_blank\">\n<img alt='Created in deepnote.com' style='display:inline;max-height:16px;margin:0px;margin-right:7.5px;' src='data:image/svg+xml;base64,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' > </img>\nCreated in <span style='font-weight:600;margin-left:4px;'>Deepnote</span></a>",
   "metadata": {
    "tags": [],
    "created_in_deepnote_cell": true,
    "deepnote_cell_type": "markdown"
   }
  }
 ],
 "nbformat": 4,
 "nbformat_minor": 0,
 "metadata": {
  "colab": {
   "name": "module_3_class.ipynb",
   "provenance": [],
   "collapsed_sections": [
    "JG1HL69-j0lH",
    "s_Dj-BgThLg5",
    "jeEzLmuRhDQy",
    "PoTeRwlihDQ0",
    "QpMlxqRyhDQ1",
    "ov7Fg-mWhDQ1",
    "DvHPNAoPgdiG",
    "3SMp5GwjglJm",
    "e3ieQfXTgqd3",
    "L0pKWNr5fm9z",
    "DMhCpOU_gupo",
    "l3h0WP2Eg2ht",
    "rWG4Vk6XaWtf",
    "wkibgd8rB8y3",
    "IjPaJtnYE0MI",
    "2lpj1rszc--m",
    "HnWg_mhLd5gC",
    "RhqmXiHQo-is",
    "SvT9xrajLL7J",
    "91eSyA2cLLqv"
   ],
   "toc_visible": true
  },
  "kernelspec": {
   "name": "python3",
   "display_name": "Python 3"
  },
  "deepnote_notebook_id": "5ec48c71-4188-43b5-b51e-2311a6a5432a",
  "deepnote": {},
  "deepnote_execution_queue": []
 }
}