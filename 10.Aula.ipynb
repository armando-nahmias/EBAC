{
 "cells": [
  {
   "cell_type": "markdown",
   "source": "<img src=\"https://raw.githubusercontent.com/andre-marcos-perez/ebac-course-utils/main/media/logo/newebac_logo_black_half.png\" alt=\"ebac-logo\">\n\n---\n\n# **Módulo** | Python: Projeto Final\nCaderno de **Aula**<br> \nProfessor [André Perez](https://www.linkedin.com/in/andremarcosperez/)\n\n---",
   "metadata": {
    "id": "KJqp9AANOCtf",
    "cell_id": "00000-d6469e6a-d7c8-455b-bdc7-de451bce3267",
    "deepnote_cell_type": "markdown"
   }
  },
  {
   "cell_type": "markdown",
   "source": "# **Tópicos**\n\n<ol type=\"1\">\n  <li>Introdução ao Kaggle;</li>\n  <li>Exploração de dados;</li>\n  <li>Transformação e limpeza de dados;</li>\n  <li>Visualização de dados;</li>\n  <li>Storytelling.</li>\n</ol>\n",
   "metadata": {
    "id": "d9jDtUbDOE1-",
    "cell_id": "00001-ff22d2c6-7d5a-47f4-981e-34e6b4e852bf",
    "deepnote_cell_type": "markdown"
   }
  },
  {
   "cell_type": "markdown",
   "source": "---",
   "metadata": {
    "id": "SmoHgt-lwkpD",
    "cell_id": "00002-9cfcc282-f4f6-4cb5-ab29-3d82514eff5d",
    "deepnote_cell_type": "markdown"
   }
  },
  {
   "cell_type": "markdown",
   "source": "# **Aulas**",
   "metadata": {
    "id": "GABI6OW8OfQ2",
    "cell_id": "00003-0626a82c-3dc4-47ee-9a4d-54741347cd5f",
    "deepnote_cell_type": "markdown"
   }
  },
  {
   "cell_type": "markdown",
   "source": "## 1\\. Introdução ao Kaggle",
   "metadata": {
    "id": "muD1vxozykSC",
    "cell_id": "00004-b0522f6c-eda9-482b-bddf-d7fdebce32e1",
    "deepnote_cell_type": "markdown"
   }
  },
  {
   "cell_type": "markdown",
   "source": "[Kaggle](https://www.kaggle.com/) é a maior comunidade online de ciência de dados e aprendizado de máquina. A plataforma permite que usuários encontrem e publiquem conjuntos de **dados**, construam e compartilhem **notebooks** (como este do Google Colab) e participem de **competições** (que pagam muito dinheiro as vezes) e desafios de dados. ",
   "metadata": {
    "id": "xnsoZc_wI0sl",
    "cell_id": "00005-f8e65ad4-6a35-4214-911e-ef79fa794c4a",
    "deepnote_cell_type": "markdown"
   }
  },
  {
   "cell_type": "markdown",
   "source": "> Vamos publicar nosso notebook de exercícios na plataforma web do Kaggle para que você possa compartilhar tudo o que você aprendeu neste curso e compor o seu portfólio.",
   "metadata": {
    "id": "7BqRKqRGJ0i2",
    "cell_id": "00006-9da7c26c-aec1-460c-b20d-79794015139d",
    "deepnote_cell_type": "markdown"
   }
  },
  {
   "cell_type": "markdown",
   "source": "## 2\\. Exploração de Dados",
   "metadata": {
    "id": "4rRCvy_UURrM",
    "cell_id": "00007-8ad91de9-ae1a-4577-961f-4e70b06a36c1",
    "deepnote_cell_type": "markdown"
   }
  },
  {
   "cell_type": "markdown",
   "source": "Vamos explorar dados de crédito presentes neste neste [link](https://raw.githubusercontent.com/andre-marcos-perez/ebac-course-utils/develop/dataset/credito.csv). Os dados estão no formato CSV e contém informações sobre clientes de uma instituição financeira. Em especial, estamos interessados em explicar a segunda coluna, chamada de **default**, que indica se um cliente é adimplente(`default = 0`), ou inadimplente (`default = 1`), ou seja, queremos entender o porque um cliente deixa de honrar com suas dívidas baseado no comportamento de outros atributos, como salário, escolaridade e movimentação financeira. Uma descrição completa dos atributos está abaixo.",
   "metadata": {
    "id": "ByX7SUjNKk2K",
    "cell_id": "00008-05e04817-f388-44d8-9b30-82b9b036ecfe",
    "deepnote_cell_type": "markdown"
   }
  },
  {
   "cell_type": "markdown",
   "source": "> O atributo de interesse (`default`) é conhecido como **variável resposta** ou **variável dependente**, já os demais atributos que buscam explicá-la (`idade`, `salário`, etc.) são conhecidas como **variáveis explicatívas**, **variáveis independentes** ou até **variáveis preditoras**.",
   "metadata": {
    "id": "34x6dra_9Hjq",
    "cell_id": "00009-c9098d25-a6f5-4d64-b29e-e8a323408261",
    "deepnote_cell_type": "markdown"
   }
  },
  {
   "cell_type": "markdown",
   "source": "\n\n| Coluna  | Descrição |\n| ------- | --------- |\n| id      | Número da conta |\n| default | Indica se o cliente é adimplente (0) ou inadimplente (1) |\n| idade   | --- |\n| sexo    | --- |\n| depedentes | --- |\n| escolaridade | --- |\n| estado_civil | --- |\n| salario_anual | Faixa do salario mensal multiplicado por 12 |\n| tipo_cartao | Categoria do cartao: blue, silver, gold e platinium |\n| meses_de_relacionamento | Quantidade de meses desde a abertura da conta |\n| qtd_produtos | Quantidade de produtos contratados |\n| iteracoes_12m | Quantidade de iteracoes com o cliente no último ano |\n| meses_inatico_12m | Quantidade de meses que o cliente ficou inativo no último ano |\n| limite_credito | Valor do limite do cartão de crédito |\n| valor_transacoes_12m | Soma total do valor das transações no cartão de crédito no último ano |\n| qtd_transacoes_12m | Quantidade total de transações no cartão de crédito no último ano |\n\n",
   "metadata": {
    "id": "Z5Fd0NSVLnwE",
    "cell_id": "00010-01ef3ce4-bcad-4e4b-81e5-7fb5f0302954",
    "deepnote_cell_type": "markdown"
   }
  },
  {
   "cell_type": "markdown",
   "source": "Vamos começar lendos os dados num dataframe `pandas`.",
   "metadata": {
    "id": "qn84FpdD-Gmk",
    "cell_id": "00011-3e669559-0947-451e-be04-bab3ccf50d50",
    "deepnote_cell_type": "markdown"
   }
  },
  {
   "cell_type": "code",
   "metadata": {
    "id": "2y8zAhgFK1rs",
    "cell_id": "00012-face7736-dc5f-442f-a4c7-d970e6f93875",
    "deepnote_to_be_reexecuted": false,
    "source_hash": "9b82ee11",
    "execution_start": 1637529818504,
    "execution_millis": 1,
    "deepnote_cell_type": "code"
   },
   "source": "import pandas as pd",
   "execution_count": null,
   "outputs": []
  },
  {
   "cell_type": "code",
   "metadata": {
    "id": "Oc1o3fzfKdhx",
    "cell_id": "00013-5889c88c-5fcc-4cfb-94b1-038bcf9d67cc",
    "deepnote_to_be_reexecuted": false,
    "source_hash": "a1ab59fe",
    "execution_start": 1637529818511,
    "execution_millis": 178,
    "deepnote_cell_type": "code"
   },
   "source": "df = pd.read_csv('https://raw.githubusercontent.com/andre-marcos-perez/ebac-course-utils/develop/dataset/credito.csv', na_values='na')",
   "execution_count": null,
   "outputs": []
  },
  {
   "cell_type": "code",
   "metadata": {
    "id": "QCKDeFk_KtrW",
    "cell_id": "00014-925e5d01-88a2-4491-b873-a0303bebb518",
    "deepnote_to_be_reexecuted": false,
    "source_hash": "990bc731",
    "execution_start": 1637529818704,
    "execution_millis": 93,
    "deepnote_cell_type": "code"
   },
   "source": "df.head(n=10)",
   "execution_count": null,
   "outputs": [
    {
     "output_type": "execute_result",
     "execution_count": 3,
     "data": {
      "application/vnd.deepnote.dataframe.v2+json": {
       "row_count": 10,
       "column_count": 16,
       "columns": [
        {
         "name": "id",
         "dtype": "int64",
         "stats": {
          "unique_count": 10,
          "nan_count": 0,
          "min": "709106358",
          "max": "818906208",
          "histogram": [
           {
            "bin_start": 709106358,
            "bin_end": 720086343,
            "count": 5
           },
           {
            "bin_start": 720086343,
            "bin_end": 731066328,
            "count": 0
           },
           {
            "bin_start": 731066328,
            "bin_end": 742046313,
            "count": 0
           },
           {
            "bin_start": 742046313,
            "bin_end": 753026298,
            "count": 0
           },
           {
            "bin_start": 753026298,
            "bin_end": 764006283,
            "count": 0
           },
           {
            "bin_start": 764006283,
            "bin_end": 774986268,
            "count": 2
           },
           {
            "bin_start": 774986268,
            "bin_end": 785966253,
            "count": 0
           },
           {
            "bin_start": 785966253,
            "bin_end": 796946238,
            "count": 0
           },
           {
            "bin_start": 796946238,
            "bin_end": 807926223,
            "count": 0
           },
           {
            "bin_start": 807926223,
            "bin_end": 818906208,
            "count": 3
           }
          ]
         }
        },
        {
         "name": "default",
         "dtype": "int64",
         "stats": {
          "unique_count": 1,
          "nan_count": 0,
          "min": "0",
          "max": "0",
          "histogram": [
           {
            "bin_start": -0.5,
            "bin_end": -0.4,
            "count": 0
           },
           {
            "bin_start": -0.4,
            "bin_end": -0.3,
            "count": 0
           },
           {
            "bin_start": -0.3,
            "bin_end": -0.19999999999999996,
            "count": 0
           },
           {
            "bin_start": -0.19999999999999996,
            "bin_end": -0.09999999999999998,
            "count": 0
           },
           {
            "bin_start": -0.09999999999999998,
            "bin_end": 0,
            "count": 0
           },
           {
            "bin_start": 0,
            "bin_end": 0.10000000000000009,
            "count": 10
           },
           {
            "bin_start": 0.10000000000000009,
            "bin_end": 0.20000000000000007,
            "count": 0
           },
           {
            "bin_start": 0.20000000000000007,
            "bin_end": 0.30000000000000004,
            "count": 0
           },
           {
            "bin_start": 0.30000000000000004,
            "bin_end": 0.4,
            "count": 0
           },
           {
            "bin_start": 0.4,
            "bin_end": 0.5,
            "count": 0
           }
          ]
         }
        },
        {
         "name": "idade",
         "dtype": "int64",
         "stats": {
          "unique_count": 8,
          "nan_count": 0,
          "min": "32",
          "max": "51",
          "histogram": [
           {
            "bin_start": 32,
            "bin_end": 33.9,
            "count": 1
           },
           {
            "bin_start": 33.9,
            "bin_end": 35.8,
            "count": 0
           },
           {
            "bin_start": 35.8,
            "bin_end": 37.7,
            "count": 1
           },
           {
            "bin_start": 37.7,
            "bin_end": 39.6,
            "count": 0
           },
           {
            "bin_start": 39.6,
            "bin_end": 41.5,
            "count": 2
           },
           {
            "bin_start": 41.5,
            "bin_end": 43.4,
            "count": 0
           },
           {
            "bin_start": 43.4,
            "bin_end": 45.3,
            "count": 2
           },
           {
            "bin_start": 45.3,
            "bin_end": 47.2,
            "count": 0
           },
           {
            "bin_start": 47.2,
            "bin_end": 49.099999999999994,
            "count": 2
           },
           {
            "bin_start": 49.099999999999994,
            "bin_end": 51,
            "count": 2
           }
          ]
         }
        },
        {
         "name": "sexo",
         "dtype": "object",
         "stats": {
          "unique_count": 2,
          "nan_count": 0,
          "categories": [
           {
            "name": "M",
            "count": 8
           },
           {
            "name": "F",
            "count": 2
           }
          ]
         }
        },
        {
         "name": "dependentes",
         "dtype": "int64",
         "stats": {
          "unique_count": 5,
          "nan_count": 0,
          "min": "0",
          "max": "5",
          "histogram": [
           {
            "bin_start": 0,
            "bin_end": 0.5,
            "count": 1
           },
           {
            "bin_start": 0.5,
            "bin_end": 1,
            "count": 0
           },
           {
            "bin_start": 1,
            "bin_end": 1.5,
            "count": 0
           },
           {
            "bin_start": 1.5,
            "bin_end": 2,
            "count": 0
           },
           {
            "bin_start": 2,
            "bin_end": 2.5,
            "count": 2
           },
           {
            "bin_start": 2.5,
            "bin_end": 3,
            "count": 0
           },
           {
            "bin_start": 3,
            "bin_end": 3.5,
            "count": 4
           },
           {
            "bin_start": 3.5,
            "bin_end": 4,
            "count": 0
           },
           {
            "bin_start": 4,
            "bin_end": 4.5,
            "count": 2
           },
           {
            "bin_start": 4.5,
            "bin_end": 5,
            "count": 1
           }
          ]
         }
        },
        {
         "name": "escolaridade",
         "dtype": "object",
         "stats": {
          "unique_count": 3,
          "nan_count": 1,
          "categories": [
           {
            "name": "mestrado",
            "count": 4
           },
           {
            "name": "2 others",
            "count": 5
           },
           {
            "name": "Missing",
            "count": 1
           }
          ]
         }
        },
        {
         "name": "estado_civil",
         "dtype": "object",
         "stats": {
          "unique_count": 2,
          "nan_count": 2,
          "categories": [
           {
            "name": "casado",
            "count": 5
           },
           {
            "name": "solteiro",
            "count": 3
           },
           {
            "name": "Missing",
            "count": 2
           }
          ]
         }
        },
        {
         "name": "salario_anual",
         "dtype": "object",
         "stats": {
          "unique_count": 5,
          "nan_count": 0,
          "categories": [
           {
            "name": "$60K - $80K",
            "count": 4
           },
           {
            "name": "menos que $40K",
            "count": 2
           },
           {
            "name": "3 others",
            "count": 4
           }
          ]
         }
        },
        {
         "name": "tipo_cartao",
         "dtype": "object",
         "stats": {
          "unique_count": 3,
          "nan_count": 0,
          "categories": [
           {
            "name": "blue",
            "count": 8
           },
           {
            "name": "gold",
            "count": 1
           },
           {
            "name": "silver",
            "count": 1
           }
          ]
         }
        },
        {
         "name": "meses_de_relacionamento",
         "dtype": "int64",
         "stats": {
          "unique_count": 7,
          "nan_count": 0,
          "min": "21",
          "max": "46",
          "histogram": [
           {
            "bin_start": 21,
            "bin_end": 23.5,
            "count": 1
           },
           {
            "bin_start": 23.5,
            "bin_end": 26,
            "count": 0
           },
           {
            "bin_start": 26,
            "bin_end": 28.5,
            "count": 1
           },
           {
            "bin_start": 28.5,
            "bin_end": 31,
            "count": 0
           },
           {
            "bin_start": 31,
            "bin_end": 33.5,
            "count": 0
           },
           {
            "bin_start": 33.5,
            "bin_end": 36,
            "count": 1
           },
           {
            "bin_start": 36,
            "bin_end": 38.5,
            "count": 4
           },
           {
            "bin_start": 38.5,
            "bin_end": 41,
            "count": 1
           },
           {
            "bin_start": 41,
            "bin_end": 43.5,
            "count": 0
           },
           {
            "bin_start": 43.5,
            "bin_end": 46,
            "count": 2
           }
          ]
         }
        },
        {
         "name": "qtd_produtos",
         "dtype": "int64",
         "stats": {
          "unique_count": 5,
          "nan_count": 0,
          "min": "2",
          "max": "6",
          "histogram": [
           {
            "bin_start": 2,
            "bin_end": 2.4,
            "count": 1
           },
           {
            "bin_start": 2.4,
            "bin_end": 2.8,
            "count": 0
           },
           {
            "bin_start": 2.8,
            "bin_end": 3.2,
            "count": 2
           },
           {
            "bin_start": 3.2,
            "bin_end": 3.6,
            "count": 0
           },
           {
            "bin_start": 3.6,
            "bin_end": 4,
            "count": 0
           },
           {
            "bin_start": 4,
            "bin_end": 4.4,
            "count": 1
           },
           {
            "bin_start": 4.4,
            "bin_end": 4.800000000000001,
            "count": 0
           },
           {
            "bin_start": 4.800000000000001,
            "bin_end": 5.2,
            "count": 3
           },
           {
            "bin_start": 5.2,
            "bin_end": 5.6,
            "count": 0
           },
           {
            "bin_start": 5.6,
            "bin_end": 6,
            "count": 3
           }
          ]
         }
        },
        {
         "name": "iteracoes_12m",
         "dtype": "int64",
         "stats": {
          "unique_count": 4,
          "nan_count": 0,
          "min": "0",
          "max": "3",
          "histogram": [
           {
            "bin_start": 0,
            "bin_end": 0.3,
            "count": 3
           },
           {
            "bin_start": 0.3,
            "bin_end": 0.6,
            "count": 0
           },
           {
            "bin_start": 0.6,
            "bin_end": 0.8999999999999999,
            "count": 0
           },
           {
            "bin_start": 0.8999999999999999,
            "bin_end": 1.2,
            "count": 1
           },
           {
            "bin_start": 1.2,
            "bin_end": 1.5,
            "count": 0
           },
           {
            "bin_start": 1.5,
            "bin_end": 1.7999999999999998,
            "count": 0
           },
           {
            "bin_start": 1.7999999999999998,
            "bin_end": 2.1,
            "count": 3
           },
           {
            "bin_start": 2.1,
            "bin_end": 2.4,
            "count": 0
           },
           {
            "bin_start": 2.4,
            "bin_end": 2.6999999999999997,
            "count": 0
           },
           {
            "bin_start": 2.6999999999999997,
            "bin_end": 3,
            "count": 3
           }
          ]
         }
        },
        {
         "name": "meses_inativo_12m",
         "dtype": "int64",
         "stats": {
          "unique_count": 4,
          "nan_count": 0,
          "min": "1",
          "max": "4",
          "histogram": [
           {
            "bin_start": 1,
            "bin_end": 1.3,
            "count": 6
           },
           {
            "bin_start": 1.3,
            "bin_end": 1.6,
            "count": 0
           },
           {
            "bin_start": 1.6,
            "bin_end": 1.9,
            "count": 0
           },
           {
            "bin_start": 1.9,
            "bin_end": 2.2,
            "count": 2
           },
           {
            "bin_start": 2.2,
            "bin_end": 2.5,
            "count": 0
           },
           {
            "bin_start": 2.5,
            "bin_end": 2.8,
            "count": 0
           },
           {
            "bin_start": 2.8,
            "bin_end": 3.1,
            "count": 1
           },
           {
            "bin_start": 3.1,
            "bin_end": 3.4,
            "count": 0
           },
           {
            "bin_start": 3.4,
            "bin_end": 3.6999999999999997,
            "count": 0
           },
           {
            "bin_start": 3.6999999999999997,
            "bin_end": 4,
            "count": 1
           }
          ]
         }
        },
        {
         "name": "limite_credito",
         "dtype": "object",
         "stats": {
          "unique_count": 10,
          "nan_count": 0,
          "categories": [
           {
            "name": "12.691,51",
            "count": 1
           },
           {
            "name": "8.256,96",
            "count": 1
           },
           {
            "name": "8 others",
            "count": 8
           }
          ]
         }
        },
        {
         "name": "valor_transacoes_12m",
         "dtype": "object",
         "stats": {
          "unique_count": 10,
          "nan_count": 0,
          "categories": [
           {
            "name": "1.144,90",
            "count": 1
           },
           {
            "name": "1.291,45",
            "count": 1
           },
           {
            "name": "8 others",
            "count": 8
           }
          ]
         }
        },
        {
         "name": "qtd_transacoes_12m",
         "dtype": "int64",
         "stats": {
          "unique_count": 8,
          "nan_count": 0,
          "min": "20",
          "max": "42",
          "histogram": [
           {
            "bin_start": 20,
            "bin_end": 22.2,
            "count": 2
           },
           {
            "bin_start": 22.2,
            "bin_end": 24.4,
            "count": 2
           },
           {
            "bin_start": 24.4,
            "bin_end": 26.6,
            "count": 0
           },
           {
            "bin_start": 26.6,
            "bin_end": 28.8,
            "count": 1
           },
           {
            "bin_start": 28.8,
            "bin_end": 31,
            "count": 0
           },
           {
            "bin_start": 31,
            "bin_end": 33.2,
            "count": 3
           },
           {
            "bin_start": 33.2,
            "bin_end": 35.400000000000006,
            "count": 0
           },
           {
            "bin_start": 35.400000000000006,
            "bin_end": 37.6,
            "count": 1
           },
           {
            "bin_start": 37.6,
            "bin_end": 39.8,
            "count": 0
           },
           {
            "bin_start": 39.8,
            "bin_end": 42,
            "count": 1
           }
          ]
         }
        },
        {
         "name": "_deepnote_index_column",
         "dtype": "int64"
        }
       ],
       "rows_top": [
        {
         "id": 768805383,
         "default": 0,
         "idade": 45,
         "sexo": "M",
         "dependentes": 3,
         "escolaridade": "ensino medio",
         "estado_civil": "casado",
         "salario_anual": "$60K - $80K",
         "tipo_cartao": "blue",
         "meses_de_relacionamento": 39,
         "qtd_produtos": 5,
         "iteracoes_12m": 3,
         "meses_inativo_12m": 1,
         "limite_credito": "12.691,51",
         "valor_transacoes_12m": "1.144,90",
         "qtd_transacoes_12m": 42,
         "_deepnote_index_column": 0
        },
        {
         "id": 818770008,
         "default": 0,
         "idade": 49,
         "sexo": "F",
         "dependentes": 5,
         "escolaridade": "mestrado",
         "estado_civil": "solteiro",
         "salario_anual": "menos que $40K",
         "tipo_cartao": "blue",
         "meses_de_relacionamento": 44,
         "qtd_produtos": 6,
         "iteracoes_12m": 2,
         "meses_inativo_12m": 1,
         "limite_credito": "8.256,96",
         "valor_transacoes_12m": "1.291,45",
         "qtd_transacoes_12m": 33,
         "_deepnote_index_column": 1
        },
        {
         "id": 713982108,
         "default": 0,
         "idade": 51,
         "sexo": "M",
         "dependentes": 3,
         "escolaridade": "mestrado",
         "estado_civil": "casado",
         "salario_anual": "$80K - $120K",
         "tipo_cartao": "blue",
         "meses_de_relacionamento": 36,
         "qtd_produtos": 4,
         "iteracoes_12m": 0,
         "meses_inativo_12m": 1,
         "limite_credito": "3.418,56",
         "valor_transacoes_12m": "1.887,72",
         "qtd_transacoes_12m": 20,
         "_deepnote_index_column": 2
        },
        {
         "id": 769911858,
         "default": 0,
         "idade": 40,
         "sexo": "F",
         "dependentes": 4,
         "escolaridade": "ensino medio",
         "estado_civil": "nan",
         "salario_anual": "menos que $40K",
         "tipo_cartao": "blue",
         "meses_de_relacionamento": 34,
         "qtd_produtos": 3,
         "iteracoes_12m": 1,
         "meses_inativo_12m": 4,
         "limite_credito": "3.313,03",
         "valor_transacoes_12m": "1.171,56",
         "qtd_transacoes_12m": 20,
         "_deepnote_index_column": 3
        },
        {
         "id": 709106358,
         "default": 0,
         "idade": 40,
         "sexo": "M",
         "dependentes": 3,
         "escolaridade": "sem educacao formal",
         "estado_civil": "casado",
         "salario_anual": "$60K - $80K",
         "tipo_cartao": "blue",
         "meses_de_relacionamento": 21,
         "qtd_produtos": 5,
         "iteracoes_12m": 0,
         "meses_inativo_12m": 1,
         "limite_credito": "4.716,22",
         "valor_transacoes_12m": "816,08",
         "qtd_transacoes_12m": 28,
         "_deepnote_index_column": 4
        },
        {
         "id": 713061558,
         "default": 0,
         "idade": 44,
         "sexo": "M",
         "dependentes": 2,
         "escolaridade": "mestrado",
         "estado_civil": "casado",
         "salario_anual": "$40K - $60K",
         "tipo_cartao": "blue",
         "meses_de_relacionamento": 36,
         "qtd_produtos": 3,
         "iteracoes_12m": 2,
         "meses_inativo_12m": 1,
         "limite_credito": "4.010,69",
         "valor_transacoes_12m": "1.088,07",
         "qtd_transacoes_12m": 24,
         "_deepnote_index_column": 5
        },
        {
         "id": 810347208,
         "default": 0,
         "idade": 51,
         "sexo": "M",
         "dependentes": 4,
         "escolaridade": "nan",
         "estado_civil": "casado",
         "salario_anual": "$120K +",
         "tipo_cartao": "gold",
         "meses_de_relacionamento": 46,
         "qtd_produtos": 6,
         "iteracoes_12m": 3,
         "meses_inativo_12m": 1,
         "limite_credito": "34.516,72",
         "valor_transacoes_12m": "1.330,87",
         "qtd_transacoes_12m": 31,
         "_deepnote_index_column": 6
        },
        {
         "id": 818906208,
         "default": 0,
         "idade": 32,
         "sexo": "M",
         "dependentes": 0,
         "escolaridade": "ensino medio",
         "estado_civil": "nan",
         "salario_anual": "$60K - $80K",
         "tipo_cartao": "silver",
         "meses_de_relacionamento": 27,
         "qtd_produtos": 2,
         "iteracoes_12m": 2,
         "meses_inativo_12m": 2,
         "limite_credito": "29.081,49",
         "valor_transacoes_12m": "1.538,32",
         "qtd_transacoes_12m": 36,
         "_deepnote_index_column": 7
        },
        {
         "id": 710930508,
         "default": 0,
         "idade": 37,
         "sexo": "M",
         "dependentes": 3,
         "escolaridade": "sem educacao formal",
         "estado_civil": "solteiro",
         "salario_anual": "$60K - $80K",
         "tipo_cartao": "blue",
         "meses_de_relacionamento": 36,
         "qtd_produtos": 5,
         "iteracoes_12m": 0,
         "meses_inativo_12m": 2,
         "limite_credito": "22.352,50",
         "valor_transacoes_12m": "1.350,14",
         "qtd_transacoes_12m": 24,
         "_deepnote_index_column": 8
        },
        {
         "id": 719661558,
         "default": 0,
         "idade": 48,
         "sexo": "M",
         "dependentes": 2,
         "escolaridade": "mestrado",
         "estado_civil": "solteiro",
         "salario_anual": "$80K - $120K",
         "tipo_cartao": "blue",
         "meses_de_relacionamento": 36,
         "qtd_produtos": 6,
         "iteracoes_12m": 3,
         "meses_inativo_12m": 3,
         "limite_credito": "11.656,41",
         "valor_transacoes_12m": "1.441,73",
         "qtd_transacoes_12m": 32,
         "_deepnote_index_column": 9
        }
       ],
       "rows_bottom": null
      },
      "text/plain": "          id  default  idade sexo  dependentes         escolaridade  \\\n0  768805383        0     45    M            3         ensino medio   \n1  818770008        0     49    F            5             mestrado   \n2  713982108        0     51    M            3             mestrado   \n3  769911858        0     40    F            4         ensino medio   \n4  709106358        0     40    M            3  sem educacao formal   \n5  713061558        0     44    M            2             mestrado   \n6  810347208        0     51    M            4                  NaN   \n7  818906208        0     32    M            0         ensino medio   \n8  710930508        0     37    M            3  sem educacao formal   \n9  719661558        0     48    M            2             mestrado   \n\n  estado_civil   salario_anual tipo_cartao  meses_de_relacionamento  \\\n0       casado     $60K - $80K        blue                       39   \n1     solteiro  menos que $40K        blue                       44   \n2       casado    $80K - $120K        blue                       36   \n3          NaN  menos que $40K        blue                       34   \n4       casado     $60K - $80K        blue                       21   \n5       casado     $40K - $60K        blue                       36   \n6       casado         $120K +        gold                       46   \n7          NaN     $60K - $80K      silver                       27   \n8     solteiro     $60K - $80K        blue                       36   \n9     solteiro    $80K - $120K        blue                       36   \n\n   qtd_produtos  iteracoes_12m  meses_inativo_12m limite_credito  \\\n0             5              3                  1      12.691,51   \n1             6              2                  1       8.256,96   \n2             4              0                  1       3.418,56   \n3             3              1                  4       3.313,03   \n4             5              0                  1       4.716,22   \n5             3              2                  1       4.010,69   \n6             6              3                  1      34.516,72   \n7             2              2                  2      29.081,49   \n8             5              0                  2      22.352,50   \n9             6              3                  3      11.656,41   \n\n  valor_transacoes_12m  qtd_transacoes_12m  \n0             1.144,90                  42  \n1             1.291,45                  33  \n2             1.887,72                  20  \n3             1.171,56                  20  \n4               816,08                  28  \n5             1.088,07                  24  \n6             1.330,87                  31  \n7             1.538,32                  36  \n8             1.350,14                  24  \n9             1.441,73                  32  ",
      "text/html": "<div>\n<style scoped>\n    .dataframe tbody tr th:only-of-type {\n        vertical-align: middle;\n    }\n\n    .dataframe tbody tr th {\n        vertical-align: top;\n    }\n\n    .dataframe thead th {\n        text-align: right;\n    }\n</style>\n<table border=\"1\" class=\"dataframe\">\n  <thead>\n    <tr style=\"text-align: right;\">\n      <th></th>\n      <th>id</th>\n      <th>default</th>\n      <th>idade</th>\n      <th>sexo</th>\n      <th>dependentes</th>\n      <th>escolaridade</th>\n      <th>estado_civil</th>\n      <th>salario_anual</th>\n      <th>tipo_cartao</th>\n      <th>meses_de_relacionamento</th>\n      <th>qtd_produtos</th>\n      <th>iteracoes_12m</th>\n      <th>meses_inativo_12m</th>\n      <th>limite_credito</th>\n      <th>valor_transacoes_12m</th>\n      <th>qtd_transacoes_12m</th>\n    </tr>\n  </thead>\n  <tbody>\n    <tr>\n      <th>0</th>\n      <td>768805383</td>\n      <td>0</td>\n      <td>45</td>\n      <td>M</td>\n      <td>3</td>\n      <td>ensino medio</td>\n      <td>casado</td>\n      <td>$60K - $80K</td>\n      <td>blue</td>\n      <td>39</td>\n      <td>5</td>\n      <td>3</td>\n      <td>1</td>\n      <td>12.691,51</td>\n      <td>1.144,90</td>\n      <td>42</td>\n    </tr>\n    <tr>\n      <th>1</th>\n      <td>818770008</td>\n      <td>0</td>\n      <td>49</td>\n      <td>F</td>\n      <td>5</td>\n      <td>mestrado</td>\n      <td>solteiro</td>\n      <td>menos que $40K</td>\n      <td>blue</td>\n      <td>44</td>\n      <td>6</td>\n      <td>2</td>\n      <td>1</td>\n      <td>8.256,96</td>\n      <td>1.291,45</td>\n      <td>33</td>\n    </tr>\n    <tr>\n      <th>2</th>\n      <td>713982108</td>\n      <td>0</td>\n      <td>51</td>\n      <td>M</td>\n      <td>3</td>\n      <td>mestrado</td>\n      <td>casado</td>\n      <td>$80K - $120K</td>\n      <td>blue</td>\n      <td>36</td>\n      <td>4</td>\n      <td>0</td>\n      <td>1</td>\n      <td>3.418,56</td>\n      <td>1.887,72</td>\n      <td>20</td>\n    </tr>\n    <tr>\n      <th>3</th>\n      <td>769911858</td>\n      <td>0</td>\n      <td>40</td>\n      <td>F</td>\n      <td>4</td>\n      <td>ensino medio</td>\n      <td>NaN</td>\n      <td>menos que $40K</td>\n      <td>blue</td>\n      <td>34</td>\n      <td>3</td>\n      <td>1</td>\n      <td>4</td>\n      <td>3.313,03</td>\n      <td>1.171,56</td>\n      <td>20</td>\n    </tr>\n    <tr>\n      <th>4</th>\n      <td>709106358</td>\n      <td>0</td>\n      <td>40</td>\n      <td>M</td>\n      <td>3</td>\n      <td>sem educacao formal</td>\n      <td>casado</td>\n      <td>$60K - $80K</td>\n      <td>blue</td>\n      <td>21</td>\n      <td>5</td>\n      <td>0</td>\n      <td>1</td>\n      <td>4.716,22</td>\n      <td>816,08</td>\n      <td>28</td>\n    </tr>\n    <tr>\n      <th>5</th>\n      <td>713061558</td>\n      <td>0</td>\n      <td>44</td>\n      <td>M</td>\n      <td>2</td>\n      <td>mestrado</td>\n      <td>casado</td>\n      <td>$40K - $60K</td>\n      <td>blue</td>\n      <td>36</td>\n      <td>3</td>\n      <td>2</td>\n      <td>1</td>\n      <td>4.010,69</td>\n      <td>1.088,07</td>\n      <td>24</td>\n    </tr>\n    <tr>\n      <th>6</th>\n      <td>810347208</td>\n      <td>0</td>\n      <td>51</td>\n      <td>M</td>\n      <td>4</td>\n      <td>NaN</td>\n      <td>casado</td>\n      <td>$120K +</td>\n      <td>gold</td>\n      <td>46</td>\n      <td>6</td>\n      <td>3</td>\n      <td>1</td>\n      <td>34.516,72</td>\n      <td>1.330,87</td>\n      <td>31</td>\n    </tr>\n    <tr>\n      <th>7</th>\n      <td>818906208</td>\n      <td>0</td>\n      <td>32</td>\n      <td>M</td>\n      <td>0</td>\n      <td>ensino medio</td>\n      <td>NaN</td>\n      <td>$60K - $80K</td>\n      <td>silver</td>\n      <td>27</td>\n      <td>2</td>\n      <td>2</td>\n      <td>2</td>\n      <td>29.081,49</td>\n      <td>1.538,32</td>\n      <td>36</td>\n    </tr>\n    <tr>\n      <th>8</th>\n      <td>710930508</td>\n      <td>0</td>\n      <td>37</td>\n      <td>M</td>\n      <td>3</td>\n      <td>sem educacao formal</td>\n      <td>solteiro</td>\n      <td>$60K - $80K</td>\n      <td>blue</td>\n      <td>36</td>\n      <td>5</td>\n      <td>0</td>\n      <td>2</td>\n      <td>22.352,50</td>\n      <td>1.350,14</td>\n      <td>24</td>\n    </tr>\n    <tr>\n      <th>9</th>\n      <td>719661558</td>\n      <td>0</td>\n      <td>48</td>\n      <td>M</td>\n      <td>2</td>\n      <td>mestrado</td>\n      <td>solteiro</td>\n      <td>$80K - $120K</td>\n      <td>blue</td>\n      <td>36</td>\n      <td>6</td>\n      <td>3</td>\n      <td>3</td>\n      <td>11.656,41</td>\n      <td>1.441,73</td>\n      <td>32</td>\n    </tr>\n  </tbody>\n</table>\n</div>"
     },
     "metadata": {}
    }
   ]
  },
  {
   "cell_type": "markdown",
   "source": "Com o dados em mãos, vamos conhecer um pouco melhor a estrutura do nosso conjunto de dados.",
   "metadata": {
    "id": "r7pm8Ar5-PBS",
    "cell_id": "00015-5e8733f8-7fff-45d3-8263-4487dd84db2c",
    "deepnote_cell_type": "markdown"
   }
  },
  {
   "cell_type": "markdown",
   "source": "### **2.1. Estrutura** ",
   "metadata": {
    "id": "EuDUXAcU-bWl",
    "cell_id": "00016-c81db274-4a21-4012-a5bd-e64242de7203",
    "deepnote_cell_type": "markdown"
   }
  },
  {
   "cell_type": "code",
   "metadata": {
    "id": "TiHtowl0RzDj",
    "cell_id": "00017-4b5225ef-3f55-4144-97d9-0e70d8f60522",
    "deepnote_to_be_reexecuted": false,
    "source_hash": "5dc8fd2",
    "execution_start": 1637529818799,
    "execution_millis": 3,
    "deepnote_output_heights": [
     21.199996948242188
    ],
    "deepnote_cell_type": "code"
   },
   "source": "df.shape # retorna uma tupla (qtd linhas, qtd colunas)",
   "execution_count": null,
   "outputs": [
    {
     "output_type": "execute_result",
     "execution_count": 4,
     "data": {
      "text/plain": "(10127, 16)"
     },
     "metadata": {}
    }
   ]
  },
  {
   "cell_type": "code",
   "metadata": {
    "id": "J1FI7JejBrXN",
    "cell_id": "00018-3b4098c8-5824-4e88-8d4d-78a03bd1a7d1",
    "deepnote_to_be_reexecuted": false,
    "source_hash": "8dab51e2",
    "execution_start": 1637529818853,
    "execution_millis": 4,
    "deepnote_output_heights": [
     21.199996948242188
    ],
    "deepnote_cell_type": "code"
   },
   "source": "df[df['default'] == 0].shape",
   "execution_count": null,
   "outputs": [
    {
     "output_type": "execute_result",
     "execution_count": 5,
     "data": {
      "text/plain": "(8500, 16)"
     },
     "metadata": {}
    }
   ]
  },
  {
   "cell_type": "code",
   "metadata": {
    "id": "G4RYP6btBriq",
    "cell_id": "00019-8e3e98aa-c9cf-4802-a45c-ba76c0dc9764",
    "deepnote_to_be_reexecuted": false,
    "source_hash": "e210e44c",
    "execution_start": 1637529818854,
    "execution_millis": 3,
    "deepnote_output_heights": [
     21.199996948242188
    ],
    "deepnote_cell_type": "code"
   },
   "source": "df[df['default'] == 1].shape",
   "execution_count": null,
   "outputs": [
    {
     "output_type": "execute_result",
     "execution_count": 6,
     "data": {
      "text/plain": "(1627, 16)"
     },
     "metadata": {}
    }
   ]
  },
  {
   "cell_type": "code",
   "metadata": {
    "id": "wH_CazQqB0Ju",
    "cell_id": "00020-9640d216-88e4-4639-88d9-ee16608e1dfe",
    "deepnote_to_be_reexecuted": false,
    "source_hash": "b04e444",
    "execution_start": 1637529818855,
    "execution_millis": 0,
    "deepnote_cell_type": "code"
   },
   "source": "qtd_total, _ = df.shape\nqtd_adimplentes, _ = df[df['default'] == 0].shape\nqtd_inadimplentes, _ = df[df['default'] == 1].shape",
   "execution_count": null,
   "outputs": []
  },
  {
   "cell_type": "code",
   "metadata": {
    "id": "oNt0s7YeCb3z",
    "cell_id": "00021-f7e2ead5-8d3a-4af9-9f1c-6d910e4a2e50",
    "deepnote_to_be_reexecuted": false,
    "source_hash": "d99bc0c1",
    "execution_start": 1637529818858,
    "execution_millis": 7664577,
    "deepnote_cell_type": "code"
   },
   "source": "print(f\"A proporcão clientes adimplentes é de {round(100 * qtd_adimplentes / qtd_total, 2)}%\")\nprint(f\"A proporcão clientes inadimplentes é de {round(100 * qtd_inadimplentes / qtd_total, 2)}%\")",
   "execution_count": null,
   "outputs": [
    {
     "name": "stdout",
     "text": "A proporcão clientes adimplentes é de 83.93%\nA proporcão clientes inadimplentes é de 16.07%\n",
     "output_type": "stream"
    }
   ]
  },
  {
   "cell_type": "markdown",
   "source": "### **2.2. Schema** ",
   "metadata": {
    "id": "kwey_fNL-dko",
    "cell_id": "00022-c1f45dde-c1f6-4204-917a-6c3f94555db0",
    "deepnote_cell_type": "markdown"
   }
  },
  {
   "cell_type": "code",
   "metadata": {
    "id": "nYYrLXUfHo_3",
    "cell_id": "00023-429b5126-ef17-4265-a6d4-4746802d29c1",
    "deepnote_to_be_reexecuted": false,
    "source_hash": "4ff42bfe",
    "execution_start": 1637529818911,
    "execution_millis": 15,
    "deepnote_cell_type": "code"
   },
   "source": "df.head(n=5)",
   "execution_count": null,
   "outputs": [
    {
     "output_type": "execute_result",
     "execution_count": 9,
     "data": {
      "application/vnd.deepnote.dataframe.v2+json": {
       "row_count": 5,
       "column_count": 16,
       "columns": [
        {
         "name": "id",
         "dtype": "int64",
         "stats": {
          "unique_count": 5,
          "nan_count": 0,
          "min": "709106358",
          "max": "818770008",
          "histogram": [
           {
            "bin_start": 709106358,
            "bin_end": 720072723,
            "count": 2
           },
           {
            "bin_start": 720072723,
            "bin_end": 731039088,
            "count": 0
           },
           {
            "bin_start": 731039088,
            "bin_end": 742005453,
            "count": 0
           },
           {
            "bin_start": 742005453,
            "bin_end": 752971818,
            "count": 0
           },
           {
            "bin_start": 752971818,
            "bin_end": 763938183,
            "count": 0
           },
           {
            "bin_start": 763938183,
            "bin_end": 774904548,
            "count": 2
           },
           {
            "bin_start": 774904548,
            "bin_end": 785870913,
            "count": 0
           },
           {
            "bin_start": 785870913,
            "bin_end": 796837278,
            "count": 0
           },
           {
            "bin_start": 796837278,
            "bin_end": 807803643,
            "count": 0
           },
           {
            "bin_start": 807803643,
            "bin_end": 818770008,
            "count": 1
           }
          ]
         }
        },
        {
         "name": "default",
         "dtype": "int64",
         "stats": {
          "unique_count": 1,
          "nan_count": 0,
          "min": "0",
          "max": "0",
          "histogram": [
           {
            "bin_start": -0.5,
            "bin_end": -0.4,
            "count": 0
           },
           {
            "bin_start": -0.4,
            "bin_end": -0.3,
            "count": 0
           },
           {
            "bin_start": -0.3,
            "bin_end": -0.19999999999999996,
            "count": 0
           },
           {
            "bin_start": -0.19999999999999996,
            "bin_end": -0.09999999999999998,
            "count": 0
           },
           {
            "bin_start": -0.09999999999999998,
            "bin_end": 0,
            "count": 0
           },
           {
            "bin_start": 0,
            "bin_end": 0.10000000000000009,
            "count": 5
           },
           {
            "bin_start": 0.10000000000000009,
            "bin_end": 0.20000000000000007,
            "count": 0
           },
           {
            "bin_start": 0.20000000000000007,
            "bin_end": 0.30000000000000004,
            "count": 0
           },
           {
            "bin_start": 0.30000000000000004,
            "bin_end": 0.4,
            "count": 0
           },
           {
            "bin_start": 0.4,
            "bin_end": 0.5,
            "count": 0
           }
          ]
         }
        },
        {
         "name": "idade",
         "dtype": "int64",
         "stats": {
          "unique_count": 4,
          "nan_count": 0,
          "min": "40",
          "max": "51",
          "histogram": [
           {
            "bin_start": 40,
            "bin_end": 41.1,
            "count": 2
           },
           {
            "bin_start": 41.1,
            "bin_end": 42.2,
            "count": 0
           },
           {
            "bin_start": 42.2,
            "bin_end": 43.3,
            "count": 0
           },
           {
            "bin_start": 43.3,
            "bin_end": 44.4,
            "count": 0
           },
           {
            "bin_start": 44.4,
            "bin_end": 45.5,
            "count": 1
           },
           {
            "bin_start": 45.5,
            "bin_end": 46.6,
            "count": 0
           },
           {
            "bin_start": 46.6,
            "bin_end": 47.7,
            "count": 0
           },
           {
            "bin_start": 47.7,
            "bin_end": 48.8,
            "count": 0
           },
           {
            "bin_start": 48.8,
            "bin_end": 49.9,
            "count": 1
           },
           {
            "bin_start": 49.9,
            "bin_end": 51,
            "count": 1
           }
          ]
         }
        },
        {
         "name": "sexo",
         "dtype": "object",
         "stats": {
          "unique_count": 2,
          "nan_count": 0,
          "categories": [
           {
            "name": "M",
            "count": 3
           },
           {
            "name": "F",
            "count": 2
           }
          ]
         }
        },
        {
         "name": "dependentes",
         "dtype": "int64",
         "stats": {
          "unique_count": 3,
          "nan_count": 0,
          "min": "3",
          "max": "5",
          "histogram": [
           {
            "bin_start": 3,
            "bin_end": 3.2,
            "count": 3
           },
           {
            "bin_start": 3.2,
            "bin_end": 3.4,
            "count": 0
           },
           {
            "bin_start": 3.4,
            "bin_end": 3.6,
            "count": 0
           },
           {
            "bin_start": 3.6,
            "bin_end": 3.8,
            "count": 0
           },
           {
            "bin_start": 3.8,
            "bin_end": 4,
            "count": 0
           },
           {
            "bin_start": 4,
            "bin_end": 4.2,
            "count": 1
           },
           {
            "bin_start": 4.2,
            "bin_end": 4.4,
            "count": 0
           },
           {
            "bin_start": 4.4,
            "bin_end": 4.6,
            "count": 0
           },
           {
            "bin_start": 4.6,
            "bin_end": 4.8,
            "count": 0
           },
           {
            "bin_start": 4.8,
            "bin_end": 5,
            "count": 1
           }
          ]
         }
        },
        {
         "name": "escolaridade",
         "dtype": "object",
         "stats": {
          "unique_count": 3,
          "nan_count": 0,
          "categories": [
           {
            "name": "ensino medio",
            "count": 2
           },
           {
            "name": "mestrado",
            "count": 2
           },
           {
            "name": "sem educacao formal",
            "count": 1
           }
          ]
         }
        },
        {
         "name": "estado_civil",
         "dtype": "object",
         "stats": {
          "unique_count": 2,
          "nan_count": 1,
          "categories": [
           {
            "name": "casado",
            "count": 3
           },
           {
            "name": "solteiro",
            "count": 1
           },
           {
            "name": "Missing",
            "count": 1
           }
          ]
         }
        },
        {
         "name": "salario_anual",
         "dtype": "object",
         "stats": {
          "unique_count": 3,
          "nan_count": 0,
          "categories": [
           {
            "name": "$60K - $80K",
            "count": 2
           },
           {
            "name": "menos que $40K",
            "count": 2
           },
           {
            "name": "$80K - $120K",
            "count": 1
           }
          ]
         }
        },
        {
         "name": "tipo_cartao",
         "dtype": "object",
         "stats": {
          "unique_count": 1,
          "nan_count": 0,
          "categories": [
           {
            "name": "blue",
            "count": 5
           }
          ]
         }
        },
        {
         "name": "meses_de_relacionamento",
         "dtype": "int64",
         "stats": {
          "unique_count": 5,
          "nan_count": 0,
          "min": "21",
          "max": "44",
          "histogram": [
           {
            "bin_start": 21,
            "bin_end": 23.3,
            "count": 1
           },
           {
            "bin_start": 23.3,
            "bin_end": 25.6,
            "count": 0
           },
           {
            "bin_start": 25.6,
            "bin_end": 27.9,
            "count": 0
           },
           {
            "bin_start": 27.9,
            "bin_end": 30.2,
            "count": 0
           },
           {
            "bin_start": 30.2,
            "bin_end": 32.5,
            "count": 0
           },
           {
            "bin_start": 32.5,
            "bin_end": 34.8,
            "count": 1
           },
           {
            "bin_start": 34.8,
            "bin_end": 37.099999999999994,
            "count": 1
           },
           {
            "bin_start": 37.099999999999994,
            "bin_end": 39.4,
            "count": 1
           },
           {
            "bin_start": 39.4,
            "bin_end": 41.7,
            "count": 0
           },
           {
            "bin_start": 41.7,
            "bin_end": 44,
            "count": 1
           }
          ]
         }
        },
        {
         "name": "qtd_produtos",
         "dtype": "int64",
         "stats": {
          "unique_count": 4,
          "nan_count": 0,
          "min": "3",
          "max": "6",
          "histogram": [
           {
            "bin_start": 3,
            "bin_end": 3.3,
            "count": 1
           },
           {
            "bin_start": 3.3,
            "bin_end": 3.6,
            "count": 0
           },
           {
            "bin_start": 3.6,
            "bin_end": 3.9,
            "count": 0
           },
           {
            "bin_start": 3.9,
            "bin_end": 4.2,
            "count": 1
           },
           {
            "bin_start": 4.2,
            "bin_end": 4.5,
            "count": 0
           },
           {
            "bin_start": 4.5,
            "bin_end": 4.8,
            "count": 0
           },
           {
            "bin_start": 4.8,
            "bin_end": 5.1,
            "count": 2
           },
           {
            "bin_start": 5.1,
            "bin_end": 5.4,
            "count": 0
           },
           {
            "bin_start": 5.4,
            "bin_end": 5.699999999999999,
            "count": 0
           },
           {
            "bin_start": 5.699999999999999,
            "bin_end": 6,
            "count": 1
           }
          ]
         }
        },
        {
         "name": "iteracoes_12m",
         "dtype": "int64",
         "stats": {
          "unique_count": 4,
          "nan_count": 0,
          "min": "0",
          "max": "3",
          "histogram": [
           {
            "bin_start": 0,
            "bin_end": 0.3,
            "count": 2
           },
           {
            "bin_start": 0.3,
            "bin_end": 0.6,
            "count": 0
           },
           {
            "bin_start": 0.6,
            "bin_end": 0.8999999999999999,
            "count": 0
           },
           {
            "bin_start": 0.8999999999999999,
            "bin_end": 1.2,
            "count": 1
           },
           {
            "bin_start": 1.2,
            "bin_end": 1.5,
            "count": 0
           },
           {
            "bin_start": 1.5,
            "bin_end": 1.7999999999999998,
            "count": 0
           },
           {
            "bin_start": 1.7999999999999998,
            "bin_end": 2.1,
            "count": 1
           },
           {
            "bin_start": 2.1,
            "bin_end": 2.4,
            "count": 0
           },
           {
            "bin_start": 2.4,
            "bin_end": 2.6999999999999997,
            "count": 0
           },
           {
            "bin_start": 2.6999999999999997,
            "bin_end": 3,
            "count": 1
           }
          ]
         }
        },
        {
         "name": "meses_inativo_12m",
         "dtype": "int64",
         "stats": {
          "unique_count": 2,
          "nan_count": 0,
          "min": "1",
          "max": "4",
          "histogram": [
           {
            "bin_start": 1,
            "bin_end": 1.3,
            "count": 4
           },
           {
            "bin_start": 1.3,
            "bin_end": 1.6,
            "count": 0
           },
           {
            "bin_start": 1.6,
            "bin_end": 1.9,
            "count": 0
           },
           {
            "bin_start": 1.9,
            "bin_end": 2.2,
            "count": 0
           },
           {
            "bin_start": 2.2,
            "bin_end": 2.5,
            "count": 0
           },
           {
            "bin_start": 2.5,
            "bin_end": 2.8,
            "count": 0
           },
           {
            "bin_start": 2.8,
            "bin_end": 3.1,
            "count": 0
           },
           {
            "bin_start": 3.1,
            "bin_end": 3.4,
            "count": 0
           },
           {
            "bin_start": 3.4,
            "bin_end": 3.6999999999999997,
            "count": 0
           },
           {
            "bin_start": 3.6999999999999997,
            "bin_end": 4,
            "count": 1
           }
          ]
         }
        },
        {
         "name": "limite_credito",
         "dtype": "object",
         "stats": {
          "unique_count": 5,
          "nan_count": 0,
          "categories": [
           {
            "name": "12.691,51",
            "count": 1
           },
           {
            "name": "8.256,96",
            "count": 1
           },
           {
            "name": "3 others",
            "count": 3
           }
          ]
         }
        },
        {
         "name": "valor_transacoes_12m",
         "dtype": "object",
         "stats": {
          "unique_count": 5,
          "nan_count": 0,
          "categories": [
           {
            "name": "1.144,90",
            "count": 1
           },
           {
            "name": "1.291,45",
            "count": 1
           },
           {
            "name": "3 others",
            "count": 3
           }
          ]
         }
        },
        {
         "name": "qtd_transacoes_12m",
         "dtype": "int64",
         "stats": {
          "unique_count": 4,
          "nan_count": 0,
          "min": "20",
          "max": "42",
          "histogram": [
           {
            "bin_start": 20,
            "bin_end": 22.2,
            "count": 2
           },
           {
            "bin_start": 22.2,
            "bin_end": 24.4,
            "count": 0
           },
           {
            "bin_start": 24.4,
            "bin_end": 26.6,
            "count": 0
           },
           {
            "bin_start": 26.6,
            "bin_end": 28.8,
            "count": 1
           },
           {
            "bin_start": 28.8,
            "bin_end": 31,
            "count": 0
           },
           {
            "bin_start": 31,
            "bin_end": 33.2,
            "count": 1
           },
           {
            "bin_start": 33.2,
            "bin_end": 35.400000000000006,
            "count": 0
           },
           {
            "bin_start": 35.400000000000006,
            "bin_end": 37.6,
            "count": 0
           },
           {
            "bin_start": 37.6,
            "bin_end": 39.8,
            "count": 0
           },
           {
            "bin_start": 39.8,
            "bin_end": 42,
            "count": 1
           }
          ]
         }
        },
        {
         "name": "_deepnote_index_column",
         "dtype": "int64"
        }
       ],
       "rows_top": [
        {
         "id": 768805383,
         "default": 0,
         "idade": 45,
         "sexo": "M",
         "dependentes": 3,
         "escolaridade": "ensino medio",
         "estado_civil": "casado",
         "salario_anual": "$60K - $80K",
         "tipo_cartao": "blue",
         "meses_de_relacionamento": 39,
         "qtd_produtos": 5,
         "iteracoes_12m": 3,
         "meses_inativo_12m": 1,
         "limite_credito": "12.691,51",
         "valor_transacoes_12m": "1.144,90",
         "qtd_transacoes_12m": 42,
         "_deepnote_index_column": 0
        },
        {
         "id": 818770008,
         "default": 0,
         "idade": 49,
         "sexo": "F",
         "dependentes": 5,
         "escolaridade": "mestrado",
         "estado_civil": "solteiro",
         "salario_anual": "menos que $40K",
         "tipo_cartao": "blue",
         "meses_de_relacionamento": 44,
         "qtd_produtos": 6,
         "iteracoes_12m": 2,
         "meses_inativo_12m": 1,
         "limite_credito": "8.256,96",
         "valor_transacoes_12m": "1.291,45",
         "qtd_transacoes_12m": 33,
         "_deepnote_index_column": 1
        },
        {
         "id": 713982108,
         "default": 0,
         "idade": 51,
         "sexo": "M",
         "dependentes": 3,
         "escolaridade": "mestrado",
         "estado_civil": "casado",
         "salario_anual": "$80K - $120K",
         "tipo_cartao": "blue",
         "meses_de_relacionamento": 36,
         "qtd_produtos": 4,
         "iteracoes_12m": 0,
         "meses_inativo_12m": 1,
         "limite_credito": "3.418,56",
         "valor_transacoes_12m": "1.887,72",
         "qtd_transacoes_12m": 20,
         "_deepnote_index_column": 2
        },
        {
         "id": 769911858,
         "default": 0,
         "idade": 40,
         "sexo": "F",
         "dependentes": 4,
         "escolaridade": "ensino medio",
         "estado_civil": "nan",
         "salario_anual": "menos que $40K",
         "tipo_cartao": "blue",
         "meses_de_relacionamento": 34,
         "qtd_produtos": 3,
         "iteracoes_12m": 1,
         "meses_inativo_12m": 4,
         "limite_credito": "3.313,03",
         "valor_transacoes_12m": "1.171,56",
         "qtd_transacoes_12m": 20,
         "_deepnote_index_column": 3
        },
        {
         "id": 709106358,
         "default": 0,
         "idade": 40,
         "sexo": "M",
         "dependentes": 3,
         "escolaridade": "sem educacao formal",
         "estado_civil": "casado",
         "salario_anual": "$60K - $80K",
         "tipo_cartao": "blue",
         "meses_de_relacionamento": 21,
         "qtd_produtos": 5,
         "iteracoes_12m": 0,
         "meses_inativo_12m": 1,
         "limite_credito": "4.716,22",
         "valor_transacoes_12m": "816,08",
         "qtd_transacoes_12m": 28,
         "_deepnote_index_column": 4
        }
       ],
       "rows_bottom": null
      },
      "text/plain": "          id  default  idade sexo  dependentes         escolaridade  \\\n0  768805383        0     45    M            3         ensino medio   \n1  818770008        0     49    F            5             mestrado   \n2  713982108        0     51    M            3             mestrado   \n3  769911858        0     40    F            4         ensino medio   \n4  709106358        0     40    M            3  sem educacao formal   \n\n  estado_civil   salario_anual tipo_cartao  meses_de_relacionamento  \\\n0       casado     $60K - $80K        blue                       39   \n1     solteiro  menos que $40K        blue                       44   \n2       casado    $80K - $120K        blue                       36   \n3          NaN  menos que $40K        blue                       34   \n4       casado     $60K - $80K        blue                       21   \n\n   qtd_produtos  iteracoes_12m  meses_inativo_12m limite_credito  \\\n0             5              3                  1      12.691,51   \n1             6              2                  1       8.256,96   \n2             4              0                  1       3.418,56   \n3             3              1                  4       3.313,03   \n4             5              0                  1       4.716,22   \n\n  valor_transacoes_12m  qtd_transacoes_12m  \n0             1.144,90                  42  \n1             1.291,45                  33  \n2             1.887,72                  20  \n3             1.171,56                  20  \n4               816,08                  28  ",
      "text/html": "<div>\n<style scoped>\n    .dataframe tbody tr th:only-of-type {\n        vertical-align: middle;\n    }\n\n    .dataframe tbody tr th {\n        vertical-align: top;\n    }\n\n    .dataframe thead th {\n        text-align: right;\n    }\n</style>\n<table border=\"1\" class=\"dataframe\">\n  <thead>\n    <tr style=\"text-align: right;\">\n      <th></th>\n      <th>id</th>\n      <th>default</th>\n      <th>idade</th>\n      <th>sexo</th>\n      <th>dependentes</th>\n      <th>escolaridade</th>\n      <th>estado_civil</th>\n      <th>salario_anual</th>\n      <th>tipo_cartao</th>\n      <th>meses_de_relacionamento</th>\n      <th>qtd_produtos</th>\n      <th>iteracoes_12m</th>\n      <th>meses_inativo_12m</th>\n      <th>limite_credito</th>\n      <th>valor_transacoes_12m</th>\n      <th>qtd_transacoes_12m</th>\n    </tr>\n  </thead>\n  <tbody>\n    <tr>\n      <th>0</th>\n      <td>768805383</td>\n      <td>0</td>\n      <td>45</td>\n      <td>M</td>\n      <td>3</td>\n      <td>ensino medio</td>\n      <td>casado</td>\n      <td>$60K - $80K</td>\n      <td>blue</td>\n      <td>39</td>\n      <td>5</td>\n      <td>3</td>\n      <td>1</td>\n      <td>12.691,51</td>\n      <td>1.144,90</td>\n      <td>42</td>\n    </tr>\n    <tr>\n      <th>1</th>\n      <td>818770008</td>\n      <td>0</td>\n      <td>49</td>\n      <td>F</td>\n      <td>5</td>\n      <td>mestrado</td>\n      <td>solteiro</td>\n      <td>menos que $40K</td>\n      <td>blue</td>\n      <td>44</td>\n      <td>6</td>\n      <td>2</td>\n      <td>1</td>\n      <td>8.256,96</td>\n      <td>1.291,45</td>\n      <td>33</td>\n    </tr>\n    <tr>\n      <th>2</th>\n      <td>713982108</td>\n      <td>0</td>\n      <td>51</td>\n      <td>M</td>\n      <td>3</td>\n      <td>mestrado</td>\n      <td>casado</td>\n      <td>$80K - $120K</td>\n      <td>blue</td>\n      <td>36</td>\n      <td>4</td>\n      <td>0</td>\n      <td>1</td>\n      <td>3.418,56</td>\n      <td>1.887,72</td>\n      <td>20</td>\n    </tr>\n    <tr>\n      <th>3</th>\n      <td>769911858</td>\n      <td>0</td>\n      <td>40</td>\n      <td>F</td>\n      <td>4</td>\n      <td>ensino medio</td>\n      <td>NaN</td>\n      <td>menos que $40K</td>\n      <td>blue</td>\n      <td>34</td>\n      <td>3</td>\n      <td>1</td>\n      <td>4</td>\n      <td>3.313,03</td>\n      <td>1.171,56</td>\n      <td>20</td>\n    </tr>\n    <tr>\n      <th>4</th>\n      <td>709106358</td>\n      <td>0</td>\n      <td>40</td>\n      <td>M</td>\n      <td>3</td>\n      <td>sem educacao formal</td>\n      <td>casado</td>\n      <td>$60K - $80K</td>\n      <td>blue</td>\n      <td>21</td>\n      <td>5</td>\n      <td>0</td>\n      <td>1</td>\n      <td>4.716,22</td>\n      <td>816,08</td>\n      <td>28</td>\n    </tr>\n  </tbody>\n</table>\n</div>"
     },
     "metadata": {}
    }
   ]
  },
  {
   "cell_type": "markdown",
   "source": " - Colunas e seus respectivos tipos de dados.",
   "metadata": {
    "id": "sqxmut5iHPeF",
    "cell_id": "00024-deb5cffe-0041-42a7-af1f-7dba87823f58",
    "deepnote_cell_type": "markdown"
   }
  },
  {
   "cell_type": "code",
   "metadata": {
    "id": "llbDSkrwK8Yy",
    "cell_id": "00025-6ea68df8-63ff-48d4-80a4-b52947be5f29",
    "deepnote_to_be_reexecuted": false,
    "source_hash": "52430027",
    "execution_start": 1637529818932,
    "execution_millis": 4,
    "deepnote_output_heights": [
     328.3999938964844
    ],
    "deepnote_cell_type": "code"
   },
   "source": "df.dtypes",
   "execution_count": null,
   "outputs": [
    {
     "output_type": "execute_result",
     "execution_count": 10,
     "data": {
      "text/plain": "id                          int64\ndefault                     int64\nidade                       int64\nsexo                       object\ndependentes                 int64\nescolaridade               object\nestado_civil               object\nsalario_anual              object\ntipo_cartao                object\nmeses_de_relacionamento     int64\nqtd_produtos                int64\niteracoes_12m               int64\nmeses_inativo_12m           int64\nlimite_credito             object\nvalor_transacoes_12m       object\nqtd_transacoes_12m          int64\ndtype: object"
     },
     "metadata": {}
    }
   ]
  },
  {
   "cell_type": "markdown",
   "source": " - Atributos **categóricos**.",
   "metadata": {
    "id": "aoW6ljPmHCiB",
    "cell_id": "00026-4b044a28-5d17-4178-b4a6-554314888577",
    "deepnote_cell_type": "markdown"
   }
  },
  {
   "cell_type": "code",
   "metadata": {
    "id": "Bk9ruKeCFiEn",
    "cell_id": "00027-307073cf-6484-4796-9c53-87fda5c97843",
    "deepnote_to_be_reexecuted": false,
    "source_hash": "ca0bfd59",
    "execution_start": 1637529818983,
    "execution_millis": 46,
    "deepnote_cell_type": "code"
   },
   "source": "df.select_dtypes('object').describe().transpose()",
   "execution_count": null,
   "outputs": [
    {
     "output_type": "execute_result",
     "execution_count": 11,
     "data": {
      "application/vnd.deepnote.dataframe.v2+json": {
       "row_count": 7,
       "column_count": 4,
       "columns": [
        {
         "name": "count",
         "dtype": "object",
         "stats": {
          "unique_count": 4,
          "nan_count": 0,
          "categories": [
           {
            "name": "10127",
            "count": 4
           },
           {
            "name": "8608",
            "count": 1
           },
           {
            "name": "2 others",
            "count": 2
           }
          ]
         }
        },
        {
         "name": "unique",
         "dtype": "object",
         "stats": {
          "unique_count": 6,
          "nan_count": 0,
          "categories": [
           {
            "name": "5",
            "count": 2
           },
           {
            "name": "2",
            "count": 1
           },
           {
            "name": "4 others",
            "count": 4
           }
          ]
         }
        },
        {
         "name": "top",
         "dtype": "object",
         "stats": {
          "unique_count": 7,
          "nan_count": 0,
          "categories": [
           {
            "name": "F",
            "count": 1
           },
           {
            "name": "mestrado",
            "count": 1
           },
           {
            "name": "5 others",
            "count": 5
           }
          ]
         }
        },
        {
         "name": "freq",
         "dtype": "object",
         "stats": {
          "unique_count": 7,
          "nan_count": 0,
          "categories": [
           {
            "name": "5358",
            "count": 1
           },
           {
            "name": "3128",
            "count": 1
           },
           {
            "name": "5 others",
            "count": 5
           }
          ]
         }
        },
        {
         "name": "_deepnote_index_column",
         "dtype": "object"
        }
       ],
       "rows_top": [
        {
         "count": "10127",
         "unique": "2",
         "top": "F",
         "freq": "5358",
         "_deepnote_index_column": "sexo"
        },
        {
         "count": "8608",
         "unique": "5",
         "top": "mestrado",
         "freq": "3128",
         "_deepnote_index_column": "escolaridade"
        },
        {
         "count": "9378",
         "unique": "3",
         "top": "casado",
         "freq": "4687",
         "_deepnote_index_column": "estado_civil"
        },
        {
         "count": "9015",
         "unique": "5",
         "top": "menos que $40K",
         "freq": "3561",
         "_deepnote_index_column": "salario_anual"
        },
        {
         "count": "10127",
         "unique": "4",
         "top": "blue",
         "freq": "9436",
         "_deepnote_index_column": "tipo_cartao"
        },
        {
         "count": "10127",
         "unique": "9272",
         "top": "1.438,21",
         "freq": "11",
         "_deepnote_index_column": "limite_credito"
        },
        {
         "count": "10127",
         "unique": "10035",
         "top": "3.851,51",
         "freq": "3",
         "_deepnote_index_column": "valor_transacoes_12m"
        }
       ],
       "rows_bottom": null
      },
      "text/plain": "                      count unique             top  freq\nsexo                  10127      2               F  5358\nescolaridade           8608      5        mestrado  3128\nestado_civil           9378      3          casado  4687\nsalario_anual          9015      5  menos que $40K  3561\ntipo_cartao           10127      4            blue  9436\nlimite_credito        10127   9272        1.438,21    11\nvalor_transacoes_12m  10127  10035        3.851,51     3",
      "text/html": "<div>\n<style scoped>\n    .dataframe tbody tr th:only-of-type {\n        vertical-align: middle;\n    }\n\n    .dataframe tbody tr th {\n        vertical-align: top;\n    }\n\n    .dataframe thead th {\n        text-align: right;\n    }\n</style>\n<table border=\"1\" class=\"dataframe\">\n  <thead>\n    <tr style=\"text-align: right;\">\n      <th></th>\n      <th>count</th>\n      <th>unique</th>\n      <th>top</th>\n      <th>freq</th>\n    </tr>\n  </thead>\n  <tbody>\n    <tr>\n      <th>sexo</th>\n      <td>10127</td>\n      <td>2</td>\n      <td>F</td>\n      <td>5358</td>\n    </tr>\n    <tr>\n      <th>escolaridade</th>\n      <td>8608</td>\n      <td>5</td>\n      <td>mestrado</td>\n      <td>3128</td>\n    </tr>\n    <tr>\n      <th>estado_civil</th>\n      <td>9378</td>\n      <td>3</td>\n      <td>casado</td>\n      <td>4687</td>\n    </tr>\n    <tr>\n      <th>salario_anual</th>\n      <td>9015</td>\n      <td>5</td>\n      <td>menos que $40K</td>\n      <td>3561</td>\n    </tr>\n    <tr>\n      <th>tipo_cartao</th>\n      <td>10127</td>\n      <td>4</td>\n      <td>blue</td>\n      <td>9436</td>\n    </tr>\n    <tr>\n      <th>limite_credito</th>\n      <td>10127</td>\n      <td>9272</td>\n      <td>1.438,21</td>\n      <td>11</td>\n    </tr>\n    <tr>\n      <th>valor_transacoes_12m</th>\n      <td>10127</td>\n      <td>10035</td>\n      <td>3.851,51</td>\n      <td>3</td>\n    </tr>\n  </tbody>\n</table>\n</div>"
     },
     "metadata": {}
    }
   ]
  },
  {
   "cell_type": "markdown",
   "source": " - Atributos **numéricos**.",
   "metadata": {
    "id": "8mNLjb9qHIWr",
    "cell_id": "00028-db83bc88-2a14-4451-9ccb-05c7e53cb203",
    "deepnote_cell_type": "markdown"
   }
  },
  {
   "cell_type": "code",
   "metadata": {
    "id": "4JAFUYUfDSSR",
    "cell_id": "00029-a32d6c09-4a4d-427a-ba86-fdad14dea3fd",
    "deepnote_to_be_reexecuted": false,
    "source_hash": "e40d505a",
    "execution_start": 1637529819028,
    "execution_millis": 102,
    "deepnote_cell_type": "code"
   },
   "source": "df.drop('id', axis=1).select_dtypes('number').describe().transpose()",
   "execution_count": null,
   "outputs": [
    {
     "output_type": "execute_result",
     "execution_count": 12,
     "data": {
      "application/vnd.deepnote.dataframe.v2+json": {
       "row_count": 8,
       "column_count": 8,
       "columns": [
        {
         "name": "count",
         "dtype": "float64",
         "stats": {
          "unique_count": 1,
          "nan_count": 0,
          "min": "10127.0",
          "max": "10127.0",
          "histogram": [
           {
            "bin_start": 10126.5,
            "bin_end": 10126.6,
            "count": 0
           },
           {
            "bin_start": 10126.6,
            "bin_end": 10126.7,
            "count": 0
           },
           {
            "bin_start": 10126.7,
            "bin_end": 10126.8,
            "count": 0
           },
           {
            "bin_start": 10126.8,
            "bin_end": 10126.9,
            "count": 0
           },
           {
            "bin_start": 10126.9,
            "bin_end": 10127,
            "count": 0
           },
           {
            "bin_start": 10127,
            "bin_end": 10127.1,
            "count": 8
           },
           {
            "bin_start": 10127.1,
            "bin_end": 10127.2,
            "count": 0
           },
           {
            "bin_start": 10127.2,
            "bin_end": 10127.3,
            "count": 0
           },
           {
            "bin_start": 10127.3,
            "bin_end": 10127.4,
            "count": 0
           },
           {
            "bin_start": 10127.4,
            "bin_end": 10127.5,
            "count": 0
           }
          ]
         }
        },
        {
         "name": "mean",
         "dtype": "float64",
         "stats": {
          "unique_count": 8,
          "nan_count": 0,
          "min": "0.1606596227905599",
          "max": "64.85869457884863",
          "histogram": [
           {
            "bin_start": 0.1606596227905599,
            "bin_end": 6.630463118396367,
            "count": 5
           },
           {
            "bin_start": 6.630463118396367,
            "bin_end": 13.100266614002173,
            "count": 0
           },
           {
            "bin_start": 13.100266614002173,
            "bin_end": 19.570070109607983,
            "count": 0
           },
           {
            "bin_start": 19.570070109607983,
            "bin_end": 26.03987360521379,
            "count": 0
           },
           {
            "bin_start": 26.03987360521379,
            "bin_end": 32.509677100819594,
            "count": 0
           },
           {
            "bin_start": 32.509677100819594,
            "bin_end": 38.979480596425404,
            "count": 1
           },
           {
            "bin_start": 38.979480596425404,
            "bin_end": 45.449284092031206,
            "count": 0
           },
           {
            "bin_start": 45.449284092031206,
            "bin_end": 51.919087587637016,
            "count": 1
           },
           {
            "bin_start": 51.919087587637016,
            "bin_end": 58.388891083242825,
            "count": 0
           },
           {
            "bin_start": 58.388891083242825,
            "bin_end": 64.85869457884863,
            "count": 1
           }
          ]
         }
        },
        {
         "name": "std",
         "dtype": "float64",
         "stats": {
          "unique_count": 8,
          "nan_count": 0,
          "min": "0.3672348368711599",
          "max": "23.472570449232997",
          "histogram": [
           {
            "bin_start": 0.3672348368711599,
            "bin_end": 2.6777683981073435,
            "count": 5
           },
           {
            "bin_start": 2.6777683981073435,
            "bin_end": 4.988301959343527,
            "count": 0
           },
           {
            "bin_start": 4.988301959343527,
            "bin_end": 7.29883552057971,
            "count": 0
           },
           {
            "bin_start": 7.29883552057971,
            "bin_end": 9.609369081815895,
            "count": 2
           },
           {
            "bin_start": 9.609369081815895,
            "bin_end": 11.91990264305208,
            "count": 0
           },
           {
            "bin_start": 11.91990264305208,
            "bin_end": 14.230436204288262,
            "count": 0
           },
           {
            "bin_start": 14.230436204288262,
            "bin_end": 16.540969765524444,
            "count": 0
           },
           {
            "bin_start": 16.540969765524444,
            "bin_end": 18.85150332676063,
            "count": 0
           },
           {
            "bin_start": 18.85150332676063,
            "bin_end": 21.162036887996813,
            "count": 0
           },
           {
            "bin_start": 21.162036887996813,
            "bin_end": 23.472570449232997,
            "count": 1
           }
          ]
         }
        },
        {
         "name": "min",
         "dtype": "float64",
         "stats": {
          "unique_count": 5,
          "nan_count": 0,
          "min": "0.0",
          "max": "26.0",
          "histogram": [
           {
            "bin_start": 0,
            "bin_end": 2.6,
            "count": 5
           },
           {
            "bin_start": 2.6,
            "bin_end": 5.2,
            "count": 0
           },
           {
            "bin_start": 5.2,
            "bin_end": 7.800000000000001,
            "count": 0
           },
           {
            "bin_start": 7.800000000000001,
            "bin_end": 10.4,
            "count": 1
           },
           {
            "bin_start": 10.4,
            "bin_end": 13,
            "count": 0
           },
           {
            "bin_start": 13,
            "bin_end": 15.600000000000001,
            "count": 1
           },
           {
            "bin_start": 15.600000000000001,
            "bin_end": 18.2,
            "count": 0
           },
           {
            "bin_start": 18.2,
            "bin_end": 20.8,
            "count": 0
           },
           {
            "bin_start": 20.8,
            "bin_end": 23.400000000000002,
            "count": 0
           },
           {
            "bin_start": 23.400000000000002,
            "bin_end": 26,
            "count": 1
           }
          ]
         }
        },
        {
         "name": "25%",
         "dtype": "float64",
         "stats": {
          "unique_count": 7,
          "nan_count": 0,
          "min": "0.0",
          "max": "45.0",
          "histogram": [
           {
            "bin_start": 0,
            "bin_end": 4.5,
            "count": 5
           },
           {
            "bin_start": 4.5,
            "bin_end": 9,
            "count": 0
           },
           {
            "bin_start": 9,
            "bin_end": 13.5,
            "count": 0
           },
           {
            "bin_start": 13.5,
            "bin_end": 18,
            "count": 0
           },
           {
            "bin_start": 18,
            "bin_end": 22.5,
            "count": 0
           },
           {
            "bin_start": 22.5,
            "bin_end": 27,
            "count": 0
           },
           {
            "bin_start": 27,
            "bin_end": 31.5,
            "count": 1
           },
           {
            "bin_start": 31.5,
            "bin_end": 36,
            "count": 0
           },
           {
            "bin_start": 36,
            "bin_end": 40.5,
            "count": 0
           },
           {
            "bin_start": 40.5,
            "bin_end": 45,
            "count": 2
           }
          ]
         }
        },
        {
         "name": "50%",
         "dtype": "float64",
         "stats": {
          "unique_count": 6,
          "nan_count": 0,
          "min": "0.0",
          "max": "67.0",
          "histogram": [
           {
            "bin_start": 0,
            "bin_end": 6.7,
            "count": 5
           },
           {
            "bin_start": 6.7,
            "bin_end": 13.4,
            "count": 0
           },
           {
            "bin_start": 13.4,
            "bin_end": 20.1,
            "count": 0
           },
           {
            "bin_start": 20.1,
            "bin_end": 26.8,
            "count": 0
           },
           {
            "bin_start": 26.8,
            "bin_end": 33.5,
            "count": 0
           },
           {
            "bin_start": 33.5,
            "bin_end": 40.2,
            "count": 1
           },
           {
            "bin_start": 40.2,
            "bin_end": 46.9,
            "count": 1
           },
           {
            "bin_start": 46.9,
            "bin_end": 53.6,
            "count": 0
           },
           {
            "bin_start": 53.6,
            "bin_end": 60.300000000000004,
            "count": 0
           },
           {
            "bin_start": 60.300000000000004,
            "bin_end": 67,
            "count": 1
           }
          ]
         }
        },
        {
         "name": "75%",
         "dtype": "float64",
         "stats": {
          "unique_count": 6,
          "nan_count": 0,
          "min": "0.0",
          "max": "81.0",
          "histogram": [
           {
            "bin_start": 0,
            "bin_end": 8.1,
            "count": 5
           },
           {
            "bin_start": 8.1,
            "bin_end": 16.2,
            "count": 0
           },
           {
            "bin_start": 16.2,
            "bin_end": 24.299999999999997,
            "count": 0
           },
           {
            "bin_start": 24.299999999999997,
            "bin_end": 32.4,
            "count": 0
           },
           {
            "bin_start": 32.4,
            "bin_end": 40.5,
            "count": 1
           },
           {
            "bin_start": 40.5,
            "bin_end": 48.599999999999994,
            "count": 0
           },
           {
            "bin_start": 48.599999999999994,
            "bin_end": 56.699999999999996,
            "count": 1
           },
           {
            "bin_start": 56.699999999999996,
            "bin_end": 64.8,
            "count": 0
           },
           {
            "bin_start": 64.8,
            "bin_end": 72.89999999999999,
            "count": 0
           },
           {
            "bin_start": 72.89999999999999,
            "bin_end": 81,
            "count": 1
           }
          ]
         }
        },
        {
         "name": "max",
         "dtype": "float64",
         "stats": {
          "unique_count": 6,
          "nan_count": 0,
          "min": "1.0",
          "max": "139.0",
          "histogram": [
           {
            "bin_start": 1,
            "bin_end": 14.8,
            "count": 5
           },
           {
            "bin_start": 14.8,
            "bin_end": 28.6,
            "count": 0
           },
           {
            "bin_start": 28.6,
            "bin_end": 42.400000000000006,
            "count": 0
           },
           {
            "bin_start": 42.400000000000006,
            "bin_end": 56.2,
            "count": 1
           },
           {
            "bin_start": 56.2,
            "bin_end": 70,
            "count": 0
           },
           {
            "bin_start": 70,
            "bin_end": 83.80000000000001,
            "count": 1
           },
           {
            "bin_start": 83.80000000000001,
            "bin_end": 97.60000000000001,
            "count": 0
           },
           {
            "bin_start": 97.60000000000001,
            "bin_end": 111.4,
            "count": 0
           },
           {
            "bin_start": 111.4,
            "bin_end": 125.2,
            "count": 0
           },
           {
            "bin_start": 125.2,
            "bin_end": 139,
            "count": 1
           }
          ]
         }
        },
        {
         "name": "_deepnote_index_column",
         "dtype": "object"
        }
       ],
       "rows_top": [
        {
         "count": 10127,
         "mean": 0.1606596227905599,
         "std": 0.3672348368711599,
         "min": 0,
         "25%": 0,
         "50%": 0,
         "75%": 0,
         "max": 1,
         "_deepnote_index_column": "default"
        },
        {
         "count": 10127,
         "mean": 46.32596030413745,
         "std": 8.016814032549028,
         "min": 26,
         "25%": 41,
         "50%": 46,
         "75%": 52,
         "max": 73,
         "_deepnote_index_column": "idade"
        },
        {
         "count": 10127,
         "mean": 2.3462032191172115,
         "std": 1.2989083489037903,
         "min": 0,
         "25%": 1,
         "50%": 2,
         "75%": 3,
         "max": 5,
         "_deepnote_index_column": "dependentes"
        },
        {
         "count": 10127,
         "mean": 35.928409203120374,
         "std": 7.986416330872062,
         "min": 13,
         "25%": 31,
         "50%": 36,
         "75%": 40,
         "max": 56,
         "_deepnote_index_column": "meses_de_relacionamento"
        },
        {
         "count": 10127,
         "mean": 3.8125802310654686,
         "std": 1.5544078653388251,
         "min": 1,
         "25%": 3,
         "50%": 4,
         "75%": 5,
         "max": 6,
         "_deepnote_index_column": "qtd_produtos"
        },
        {
         "count": 10127,
         "mean": 2.4553174681544387,
         "std": 1.106225142635924,
         "min": 0,
         "25%": 2,
         "50%": 2,
         "75%": 3,
         "max": 6,
         "_deepnote_index_column": "iteracoes_12m"
        },
        {
         "count": 10127,
         "mean": 2.3411671768539546,
         "std": 1.0106223994182812,
         "min": 0,
         "25%": 2,
         "50%": 2,
         "75%": 3,
         "max": 6,
         "_deepnote_index_column": "meses_inativo_12m"
        },
        {
         "count": 10127,
         "mean": 64.85869457884863,
         "std": 23.472570449232997,
         "min": 10,
         "25%": 45,
         "50%": 67,
         "75%": 81,
         "max": 139,
         "_deepnote_index_column": "qtd_transacoes_12m"
        }
       ],
       "rows_bottom": null
      },
      "text/plain": "                           count       mean        std   min   25%   50%  \\\ndefault                  10127.0   0.160660   0.367235   0.0   0.0   0.0   \nidade                    10127.0  46.325960   8.016814  26.0  41.0  46.0   \ndependentes              10127.0   2.346203   1.298908   0.0   1.0   2.0   \nmeses_de_relacionamento  10127.0  35.928409   7.986416  13.0  31.0  36.0   \nqtd_produtos             10127.0   3.812580   1.554408   1.0   3.0   4.0   \niteracoes_12m            10127.0   2.455317   1.106225   0.0   2.0   2.0   \nmeses_inativo_12m        10127.0   2.341167   1.010622   0.0   2.0   2.0   \nqtd_transacoes_12m       10127.0  64.858695  23.472570  10.0  45.0  67.0   \n\n                          75%    max  \ndefault                   0.0    1.0  \nidade                    52.0   73.0  \ndependentes               3.0    5.0  \nmeses_de_relacionamento  40.0   56.0  \nqtd_produtos              5.0    6.0  \niteracoes_12m             3.0    6.0  \nmeses_inativo_12m         3.0    6.0  \nqtd_transacoes_12m       81.0  139.0  ",
      "text/html": "<div>\n<style scoped>\n    .dataframe tbody tr th:only-of-type {\n        vertical-align: middle;\n    }\n\n    .dataframe tbody tr th {\n        vertical-align: top;\n    }\n\n    .dataframe thead th {\n        text-align: right;\n    }\n</style>\n<table border=\"1\" class=\"dataframe\">\n  <thead>\n    <tr style=\"text-align: right;\">\n      <th></th>\n      <th>count</th>\n      <th>mean</th>\n      <th>std</th>\n      <th>min</th>\n      <th>25%</th>\n      <th>50%</th>\n      <th>75%</th>\n      <th>max</th>\n    </tr>\n  </thead>\n  <tbody>\n    <tr>\n      <th>default</th>\n      <td>10127.0</td>\n      <td>0.160660</td>\n      <td>0.367235</td>\n      <td>0.0</td>\n      <td>0.0</td>\n      <td>0.0</td>\n      <td>0.0</td>\n      <td>1.0</td>\n    </tr>\n    <tr>\n      <th>idade</th>\n      <td>10127.0</td>\n      <td>46.325960</td>\n      <td>8.016814</td>\n      <td>26.0</td>\n      <td>41.0</td>\n      <td>46.0</td>\n      <td>52.0</td>\n      <td>73.0</td>\n    </tr>\n    <tr>\n      <th>dependentes</th>\n      <td>10127.0</td>\n      <td>2.346203</td>\n      <td>1.298908</td>\n      <td>0.0</td>\n      <td>1.0</td>\n      <td>2.0</td>\n      <td>3.0</td>\n      <td>5.0</td>\n    </tr>\n    <tr>\n      <th>meses_de_relacionamento</th>\n      <td>10127.0</td>\n      <td>35.928409</td>\n      <td>7.986416</td>\n      <td>13.0</td>\n      <td>31.0</td>\n      <td>36.0</td>\n      <td>40.0</td>\n      <td>56.0</td>\n    </tr>\n    <tr>\n      <th>qtd_produtos</th>\n      <td>10127.0</td>\n      <td>3.812580</td>\n      <td>1.554408</td>\n      <td>1.0</td>\n      <td>3.0</td>\n      <td>4.0</td>\n      <td>5.0</td>\n      <td>6.0</td>\n    </tr>\n    <tr>\n      <th>iteracoes_12m</th>\n      <td>10127.0</td>\n      <td>2.455317</td>\n      <td>1.106225</td>\n      <td>0.0</td>\n      <td>2.0</td>\n      <td>2.0</td>\n      <td>3.0</td>\n      <td>6.0</td>\n    </tr>\n    <tr>\n      <th>meses_inativo_12m</th>\n      <td>10127.0</td>\n      <td>2.341167</td>\n      <td>1.010622</td>\n      <td>0.0</td>\n      <td>2.0</td>\n      <td>2.0</td>\n      <td>3.0</td>\n      <td>6.0</td>\n    </tr>\n    <tr>\n      <th>qtd_transacoes_12m</th>\n      <td>10127.0</td>\n      <td>64.858695</td>\n      <td>23.472570</td>\n      <td>10.0</td>\n      <td>45.0</td>\n      <td>67.0</td>\n      <td>81.0</td>\n      <td>139.0</td>\n    </tr>\n  </tbody>\n</table>\n</div>"
     },
     "metadata": {}
    }
   ]
  },
  {
   "cell_type": "markdown",
   "source": "### **2.3. Dados faltantes** ",
   "metadata": {
    "id": "7lAUes2dUY3h",
    "cell_id": "00030-42ab7a95-e7f5-46a7-98ac-8c60065b8637",
    "deepnote_cell_type": "markdown"
   }
  },
  {
   "cell_type": "markdown",
   "source": "Dados faltantes podem ser:\n\n - Vazios (`\"\"`);\n - Nulos (`None`);\n - Não disponíveis ou aplicaveis (`na`, `NA`, etc.);\n - Não numérico (`nan`, `NaN`, `NAN`, etc).",
   "metadata": {
    "id": "XYnOkpsUHu08",
    "cell_id": "00031-e1c12102-38a0-463a-a994-353bbf6c4a0e",
    "deepnote_cell_type": "markdown"
   }
  },
  {
   "cell_type": "code",
   "metadata": {
    "id": "8BEHOjzsUnai",
    "cell_id": "00032-c3351d74-cd88-4a67-889e-8154c1d0769f",
    "deepnote_to_be_reexecuted": false,
    "source_hash": "c085b6ba",
    "execution_start": 1637529819137,
    "execution_millis": 95,
    "deepnote_cell_type": "code"
   },
   "source": "df.head()",
   "execution_count": null,
   "outputs": [
    {
     "output_type": "execute_result",
     "execution_count": 13,
     "data": {
      "application/vnd.deepnote.dataframe.v2+json": {
       "row_count": 5,
       "column_count": 16,
       "columns": [
        {
         "name": "id",
         "dtype": "int64",
         "stats": {
          "unique_count": 5,
          "nan_count": 0,
          "min": "709106358",
          "max": "818770008",
          "histogram": [
           {
            "bin_start": 709106358,
            "bin_end": 720072723,
            "count": 2
           },
           {
            "bin_start": 720072723,
            "bin_end": 731039088,
            "count": 0
           },
           {
            "bin_start": 731039088,
            "bin_end": 742005453,
            "count": 0
           },
           {
            "bin_start": 742005453,
            "bin_end": 752971818,
            "count": 0
           },
           {
            "bin_start": 752971818,
            "bin_end": 763938183,
            "count": 0
           },
           {
            "bin_start": 763938183,
            "bin_end": 774904548,
            "count": 2
           },
           {
            "bin_start": 774904548,
            "bin_end": 785870913,
            "count": 0
           },
           {
            "bin_start": 785870913,
            "bin_end": 796837278,
            "count": 0
           },
           {
            "bin_start": 796837278,
            "bin_end": 807803643,
            "count": 0
           },
           {
            "bin_start": 807803643,
            "bin_end": 818770008,
            "count": 1
           }
          ]
         }
        },
        {
         "name": "default",
         "dtype": "int64",
         "stats": {
          "unique_count": 1,
          "nan_count": 0,
          "min": "0",
          "max": "0",
          "histogram": [
           {
            "bin_start": -0.5,
            "bin_end": -0.4,
            "count": 0
           },
           {
            "bin_start": -0.4,
            "bin_end": -0.3,
            "count": 0
           },
           {
            "bin_start": -0.3,
            "bin_end": -0.19999999999999996,
            "count": 0
           },
           {
            "bin_start": -0.19999999999999996,
            "bin_end": -0.09999999999999998,
            "count": 0
           },
           {
            "bin_start": -0.09999999999999998,
            "bin_end": 0,
            "count": 0
           },
           {
            "bin_start": 0,
            "bin_end": 0.10000000000000009,
            "count": 5
           },
           {
            "bin_start": 0.10000000000000009,
            "bin_end": 0.20000000000000007,
            "count": 0
           },
           {
            "bin_start": 0.20000000000000007,
            "bin_end": 0.30000000000000004,
            "count": 0
           },
           {
            "bin_start": 0.30000000000000004,
            "bin_end": 0.4,
            "count": 0
           },
           {
            "bin_start": 0.4,
            "bin_end": 0.5,
            "count": 0
           }
          ]
         }
        },
        {
         "name": "idade",
         "dtype": "int64",
         "stats": {
          "unique_count": 4,
          "nan_count": 0,
          "min": "40",
          "max": "51",
          "histogram": [
           {
            "bin_start": 40,
            "bin_end": 41.1,
            "count": 2
           },
           {
            "bin_start": 41.1,
            "bin_end": 42.2,
            "count": 0
           },
           {
            "bin_start": 42.2,
            "bin_end": 43.3,
            "count": 0
           },
           {
            "bin_start": 43.3,
            "bin_end": 44.4,
            "count": 0
           },
           {
            "bin_start": 44.4,
            "bin_end": 45.5,
            "count": 1
           },
           {
            "bin_start": 45.5,
            "bin_end": 46.6,
            "count": 0
           },
           {
            "bin_start": 46.6,
            "bin_end": 47.7,
            "count": 0
           },
           {
            "bin_start": 47.7,
            "bin_end": 48.8,
            "count": 0
           },
           {
            "bin_start": 48.8,
            "bin_end": 49.9,
            "count": 1
           },
           {
            "bin_start": 49.9,
            "bin_end": 51,
            "count": 1
           }
          ]
         }
        },
        {
         "name": "sexo",
         "dtype": "object",
         "stats": {
          "unique_count": 2,
          "nan_count": 0,
          "categories": [
           {
            "name": "M",
            "count": 3
           },
           {
            "name": "F",
            "count": 2
           }
          ]
         }
        },
        {
         "name": "dependentes",
         "dtype": "int64",
         "stats": {
          "unique_count": 3,
          "nan_count": 0,
          "min": "3",
          "max": "5",
          "histogram": [
           {
            "bin_start": 3,
            "bin_end": 3.2,
            "count": 3
           },
           {
            "bin_start": 3.2,
            "bin_end": 3.4,
            "count": 0
           },
           {
            "bin_start": 3.4,
            "bin_end": 3.6,
            "count": 0
           },
           {
            "bin_start": 3.6,
            "bin_end": 3.8,
            "count": 0
           },
           {
            "bin_start": 3.8,
            "bin_end": 4,
            "count": 0
           },
           {
            "bin_start": 4,
            "bin_end": 4.2,
            "count": 1
           },
           {
            "bin_start": 4.2,
            "bin_end": 4.4,
            "count": 0
           },
           {
            "bin_start": 4.4,
            "bin_end": 4.6,
            "count": 0
           },
           {
            "bin_start": 4.6,
            "bin_end": 4.8,
            "count": 0
           },
           {
            "bin_start": 4.8,
            "bin_end": 5,
            "count": 1
           }
          ]
         }
        },
        {
         "name": "escolaridade",
         "dtype": "object",
         "stats": {
          "unique_count": 3,
          "nan_count": 0,
          "categories": [
           {
            "name": "ensino medio",
            "count": 2
           },
           {
            "name": "mestrado",
            "count": 2
           },
           {
            "name": "sem educacao formal",
            "count": 1
           }
          ]
         }
        },
        {
         "name": "estado_civil",
         "dtype": "object",
         "stats": {
          "unique_count": 2,
          "nan_count": 1,
          "categories": [
           {
            "name": "casado",
            "count": 3
           },
           {
            "name": "solteiro",
            "count": 1
           },
           {
            "name": "Missing",
            "count": 1
           }
          ]
         }
        },
        {
         "name": "salario_anual",
         "dtype": "object",
         "stats": {
          "unique_count": 3,
          "nan_count": 0,
          "categories": [
           {
            "name": "$60K - $80K",
            "count": 2
           },
           {
            "name": "menos que $40K",
            "count": 2
           },
           {
            "name": "$80K - $120K",
            "count": 1
           }
          ]
         }
        },
        {
         "name": "tipo_cartao",
         "dtype": "object",
         "stats": {
          "unique_count": 1,
          "nan_count": 0,
          "categories": [
           {
            "name": "blue",
            "count": 5
           }
          ]
         }
        },
        {
         "name": "meses_de_relacionamento",
         "dtype": "int64",
         "stats": {
          "unique_count": 5,
          "nan_count": 0,
          "min": "21",
          "max": "44",
          "histogram": [
           {
            "bin_start": 21,
            "bin_end": 23.3,
            "count": 1
           },
           {
            "bin_start": 23.3,
            "bin_end": 25.6,
            "count": 0
           },
           {
            "bin_start": 25.6,
            "bin_end": 27.9,
            "count": 0
           },
           {
            "bin_start": 27.9,
            "bin_end": 30.2,
            "count": 0
           },
           {
            "bin_start": 30.2,
            "bin_end": 32.5,
            "count": 0
           },
           {
            "bin_start": 32.5,
            "bin_end": 34.8,
            "count": 1
           },
           {
            "bin_start": 34.8,
            "bin_end": 37.099999999999994,
            "count": 1
           },
           {
            "bin_start": 37.099999999999994,
            "bin_end": 39.4,
            "count": 1
           },
           {
            "bin_start": 39.4,
            "bin_end": 41.7,
            "count": 0
           },
           {
            "bin_start": 41.7,
            "bin_end": 44,
            "count": 1
           }
          ]
         }
        },
        {
         "name": "qtd_produtos",
         "dtype": "int64",
         "stats": {
          "unique_count": 4,
          "nan_count": 0,
          "min": "3",
          "max": "6",
          "histogram": [
           {
            "bin_start": 3,
            "bin_end": 3.3,
            "count": 1
           },
           {
            "bin_start": 3.3,
            "bin_end": 3.6,
            "count": 0
           },
           {
            "bin_start": 3.6,
            "bin_end": 3.9,
            "count": 0
           },
           {
            "bin_start": 3.9,
            "bin_end": 4.2,
            "count": 1
           },
           {
            "bin_start": 4.2,
            "bin_end": 4.5,
            "count": 0
           },
           {
            "bin_start": 4.5,
            "bin_end": 4.8,
            "count": 0
           },
           {
            "bin_start": 4.8,
            "bin_end": 5.1,
            "count": 2
           },
           {
            "bin_start": 5.1,
            "bin_end": 5.4,
            "count": 0
           },
           {
            "bin_start": 5.4,
            "bin_end": 5.699999999999999,
            "count": 0
           },
           {
            "bin_start": 5.699999999999999,
            "bin_end": 6,
            "count": 1
           }
          ]
         }
        },
        {
         "name": "iteracoes_12m",
         "dtype": "int64",
         "stats": {
          "unique_count": 4,
          "nan_count": 0,
          "min": "0",
          "max": "3",
          "histogram": [
           {
            "bin_start": 0,
            "bin_end": 0.3,
            "count": 2
           },
           {
            "bin_start": 0.3,
            "bin_end": 0.6,
            "count": 0
           },
           {
            "bin_start": 0.6,
            "bin_end": 0.8999999999999999,
            "count": 0
           },
           {
            "bin_start": 0.8999999999999999,
            "bin_end": 1.2,
            "count": 1
           },
           {
            "bin_start": 1.2,
            "bin_end": 1.5,
            "count": 0
           },
           {
            "bin_start": 1.5,
            "bin_end": 1.7999999999999998,
            "count": 0
           },
           {
            "bin_start": 1.7999999999999998,
            "bin_end": 2.1,
            "count": 1
           },
           {
            "bin_start": 2.1,
            "bin_end": 2.4,
            "count": 0
           },
           {
            "bin_start": 2.4,
            "bin_end": 2.6999999999999997,
            "count": 0
           },
           {
            "bin_start": 2.6999999999999997,
            "bin_end": 3,
            "count": 1
           }
          ]
         }
        },
        {
         "name": "meses_inativo_12m",
         "dtype": "int64",
         "stats": {
          "unique_count": 2,
          "nan_count": 0,
          "min": "1",
          "max": "4",
          "histogram": [
           {
            "bin_start": 1,
            "bin_end": 1.3,
            "count": 4
           },
           {
            "bin_start": 1.3,
            "bin_end": 1.6,
            "count": 0
           },
           {
            "bin_start": 1.6,
            "bin_end": 1.9,
            "count": 0
           },
           {
            "bin_start": 1.9,
            "bin_end": 2.2,
            "count": 0
           },
           {
            "bin_start": 2.2,
            "bin_end": 2.5,
            "count": 0
           },
           {
            "bin_start": 2.5,
            "bin_end": 2.8,
            "count": 0
           },
           {
            "bin_start": 2.8,
            "bin_end": 3.1,
            "count": 0
           },
           {
            "bin_start": 3.1,
            "bin_end": 3.4,
            "count": 0
           },
           {
            "bin_start": 3.4,
            "bin_end": 3.6999999999999997,
            "count": 0
           },
           {
            "bin_start": 3.6999999999999997,
            "bin_end": 4,
            "count": 1
           }
          ]
         }
        },
        {
         "name": "limite_credito",
         "dtype": "object",
         "stats": {
          "unique_count": 5,
          "nan_count": 0,
          "categories": [
           {
            "name": "12.691,51",
            "count": 1
           },
           {
            "name": "8.256,96",
            "count": 1
           },
           {
            "name": "3 others",
            "count": 3
           }
          ]
         }
        },
        {
         "name": "valor_transacoes_12m",
         "dtype": "object",
         "stats": {
          "unique_count": 5,
          "nan_count": 0,
          "categories": [
           {
            "name": "1.144,90",
            "count": 1
           },
           {
            "name": "1.291,45",
            "count": 1
           },
           {
            "name": "3 others",
            "count": 3
           }
          ]
         }
        },
        {
         "name": "qtd_transacoes_12m",
         "dtype": "int64",
         "stats": {
          "unique_count": 4,
          "nan_count": 0,
          "min": "20",
          "max": "42",
          "histogram": [
           {
            "bin_start": 20,
            "bin_end": 22.2,
            "count": 2
           },
           {
            "bin_start": 22.2,
            "bin_end": 24.4,
            "count": 0
           },
           {
            "bin_start": 24.4,
            "bin_end": 26.6,
            "count": 0
           },
           {
            "bin_start": 26.6,
            "bin_end": 28.8,
            "count": 1
           },
           {
            "bin_start": 28.8,
            "bin_end": 31,
            "count": 0
           },
           {
            "bin_start": 31,
            "bin_end": 33.2,
            "count": 1
           },
           {
            "bin_start": 33.2,
            "bin_end": 35.400000000000006,
            "count": 0
           },
           {
            "bin_start": 35.400000000000006,
            "bin_end": 37.6,
            "count": 0
           },
           {
            "bin_start": 37.6,
            "bin_end": 39.8,
            "count": 0
           },
           {
            "bin_start": 39.8,
            "bin_end": 42,
            "count": 1
           }
          ]
         }
        },
        {
         "name": "_deepnote_index_column",
         "dtype": "int64"
        }
       ],
       "rows_top": [
        {
         "id": 768805383,
         "default": 0,
         "idade": 45,
         "sexo": "M",
         "dependentes": 3,
         "escolaridade": "ensino medio",
         "estado_civil": "casado",
         "salario_anual": "$60K - $80K",
         "tipo_cartao": "blue",
         "meses_de_relacionamento": 39,
         "qtd_produtos": 5,
         "iteracoes_12m": 3,
         "meses_inativo_12m": 1,
         "limite_credito": "12.691,51",
         "valor_transacoes_12m": "1.144,90",
         "qtd_transacoes_12m": 42,
         "_deepnote_index_column": 0
        },
        {
         "id": 818770008,
         "default": 0,
         "idade": 49,
         "sexo": "F",
         "dependentes": 5,
         "escolaridade": "mestrado",
         "estado_civil": "solteiro",
         "salario_anual": "menos que $40K",
         "tipo_cartao": "blue",
         "meses_de_relacionamento": 44,
         "qtd_produtos": 6,
         "iteracoes_12m": 2,
         "meses_inativo_12m": 1,
         "limite_credito": "8.256,96",
         "valor_transacoes_12m": "1.291,45",
         "qtd_transacoes_12m": 33,
         "_deepnote_index_column": 1
        },
        {
         "id": 713982108,
         "default": 0,
         "idade": 51,
         "sexo": "M",
         "dependentes": 3,
         "escolaridade": "mestrado",
         "estado_civil": "casado",
         "salario_anual": "$80K - $120K",
         "tipo_cartao": "blue",
         "meses_de_relacionamento": 36,
         "qtd_produtos": 4,
         "iteracoes_12m": 0,
         "meses_inativo_12m": 1,
         "limite_credito": "3.418,56",
         "valor_transacoes_12m": "1.887,72",
         "qtd_transacoes_12m": 20,
         "_deepnote_index_column": 2
        },
        {
         "id": 769911858,
         "default": 0,
         "idade": 40,
         "sexo": "F",
         "dependentes": 4,
         "escolaridade": "ensino medio",
         "estado_civil": "nan",
         "salario_anual": "menos que $40K",
         "tipo_cartao": "blue",
         "meses_de_relacionamento": 34,
         "qtd_produtos": 3,
         "iteracoes_12m": 1,
         "meses_inativo_12m": 4,
         "limite_credito": "3.313,03",
         "valor_transacoes_12m": "1.171,56",
         "qtd_transacoes_12m": 20,
         "_deepnote_index_column": 3
        },
        {
         "id": 709106358,
         "default": 0,
         "idade": 40,
         "sexo": "M",
         "dependentes": 3,
         "escolaridade": "sem educacao formal",
         "estado_civil": "casado",
         "salario_anual": "$60K - $80K",
         "tipo_cartao": "blue",
         "meses_de_relacionamento": 21,
         "qtd_produtos": 5,
         "iteracoes_12m": 0,
         "meses_inativo_12m": 1,
         "limite_credito": "4.716,22",
         "valor_transacoes_12m": "816,08",
         "qtd_transacoes_12m": 28,
         "_deepnote_index_column": 4
        }
       ],
       "rows_bottom": null
      },
      "text/plain": "          id  default  idade sexo  dependentes         escolaridade  \\\n0  768805383        0     45    M            3         ensino medio   \n1  818770008        0     49    F            5             mestrado   \n2  713982108        0     51    M            3             mestrado   \n3  769911858        0     40    F            4         ensino medio   \n4  709106358        0     40    M            3  sem educacao formal   \n\n  estado_civil   salario_anual tipo_cartao  meses_de_relacionamento  \\\n0       casado     $60K - $80K        blue                       39   \n1     solteiro  menos que $40K        blue                       44   \n2       casado    $80K - $120K        blue                       36   \n3          NaN  menos que $40K        blue                       34   \n4       casado     $60K - $80K        blue                       21   \n\n   qtd_produtos  iteracoes_12m  meses_inativo_12m limite_credito  \\\n0             5              3                  1      12.691,51   \n1             6              2                  1       8.256,96   \n2             4              0                  1       3.418,56   \n3             3              1                  4       3.313,03   \n4             5              0                  1       4.716,22   \n\n  valor_transacoes_12m  qtd_transacoes_12m  \n0             1.144,90                  42  \n1             1.291,45                  33  \n2             1.887,72                  20  \n3             1.171,56                  20  \n4               816,08                  28  ",
      "text/html": "<div>\n<style scoped>\n    .dataframe tbody tr th:only-of-type {\n        vertical-align: middle;\n    }\n\n    .dataframe tbody tr th {\n        vertical-align: top;\n    }\n\n    .dataframe thead th {\n        text-align: right;\n    }\n</style>\n<table border=\"1\" class=\"dataframe\">\n  <thead>\n    <tr style=\"text-align: right;\">\n      <th></th>\n      <th>id</th>\n      <th>default</th>\n      <th>idade</th>\n      <th>sexo</th>\n      <th>dependentes</th>\n      <th>escolaridade</th>\n      <th>estado_civil</th>\n      <th>salario_anual</th>\n      <th>tipo_cartao</th>\n      <th>meses_de_relacionamento</th>\n      <th>qtd_produtos</th>\n      <th>iteracoes_12m</th>\n      <th>meses_inativo_12m</th>\n      <th>limite_credito</th>\n      <th>valor_transacoes_12m</th>\n      <th>qtd_transacoes_12m</th>\n    </tr>\n  </thead>\n  <tbody>\n    <tr>\n      <th>0</th>\n      <td>768805383</td>\n      <td>0</td>\n      <td>45</td>\n      <td>M</td>\n      <td>3</td>\n      <td>ensino medio</td>\n      <td>casado</td>\n      <td>$60K - $80K</td>\n      <td>blue</td>\n      <td>39</td>\n      <td>5</td>\n      <td>3</td>\n      <td>1</td>\n      <td>12.691,51</td>\n      <td>1.144,90</td>\n      <td>42</td>\n    </tr>\n    <tr>\n      <th>1</th>\n      <td>818770008</td>\n      <td>0</td>\n      <td>49</td>\n      <td>F</td>\n      <td>5</td>\n      <td>mestrado</td>\n      <td>solteiro</td>\n      <td>menos que $40K</td>\n      <td>blue</td>\n      <td>44</td>\n      <td>6</td>\n      <td>2</td>\n      <td>1</td>\n      <td>8.256,96</td>\n      <td>1.291,45</td>\n      <td>33</td>\n    </tr>\n    <tr>\n      <th>2</th>\n      <td>713982108</td>\n      <td>0</td>\n      <td>51</td>\n      <td>M</td>\n      <td>3</td>\n      <td>mestrado</td>\n      <td>casado</td>\n      <td>$80K - $120K</td>\n      <td>blue</td>\n      <td>36</td>\n      <td>4</td>\n      <td>0</td>\n      <td>1</td>\n      <td>3.418,56</td>\n      <td>1.887,72</td>\n      <td>20</td>\n    </tr>\n    <tr>\n      <th>3</th>\n      <td>769911858</td>\n      <td>0</td>\n      <td>40</td>\n      <td>F</td>\n      <td>4</td>\n      <td>ensino medio</td>\n      <td>NaN</td>\n      <td>menos que $40K</td>\n      <td>blue</td>\n      <td>34</td>\n      <td>3</td>\n      <td>1</td>\n      <td>4</td>\n      <td>3.313,03</td>\n      <td>1.171,56</td>\n      <td>20</td>\n    </tr>\n    <tr>\n      <th>4</th>\n      <td>709106358</td>\n      <td>0</td>\n      <td>40</td>\n      <td>M</td>\n      <td>3</td>\n      <td>sem educacao formal</td>\n      <td>casado</td>\n      <td>$60K - $80K</td>\n      <td>blue</td>\n      <td>21</td>\n      <td>5</td>\n      <td>0</td>\n      <td>1</td>\n      <td>4.716,22</td>\n      <td>816,08</td>\n      <td>28</td>\n    </tr>\n  </tbody>\n</table>\n</div>"
     },
     "metadata": {}
    }
   ]
  },
  {
   "cell_type": "markdown",
   "source": "Podemos verificar quais colunas possuem dados faltantes.",
   "metadata": {
    "id": "GafzLolPK4jy",
    "cell_id": "00033-2882c3bd-8f06-4a3c-a15c-95f32d48aae0",
    "deepnote_cell_type": "markdown"
   }
  },
  {
   "cell_type": "code",
   "metadata": {
    "id": "5dhwXuvgI3iF",
    "cell_id": "00034-07c43afa-abac-4a12-9482-ec568dd44af1",
    "deepnote_to_be_reexecuted": false,
    "source_hash": "3ba3a669",
    "execution_start": 1637529819237,
    "execution_millis": 27,
    "deepnote_output_heights": [
     328.3999938964844
    ],
    "deepnote_cell_type": "code"
   },
   "source": "df.isna().any()",
   "execution_count": null,
   "outputs": [
    {
     "output_type": "execute_result",
     "execution_count": 14,
     "data": {
      "text/plain": "id                         False\ndefault                    False\nidade                      False\nsexo                       False\ndependentes                False\nescolaridade                True\nestado_civil                True\nsalario_anual               True\ntipo_cartao                False\nmeses_de_relacionamento    False\nqtd_produtos               False\niteracoes_12m              False\nmeses_inativo_12m          False\nlimite_credito             False\nvalor_transacoes_12m       False\nqtd_transacoes_12m         False\ndtype: bool"
     },
     "metadata": {}
    }
   ]
  },
  {
   "cell_type": "markdown",
   "source": " - A função abaixo levanta algumas estatisticas sobre as colunas dos dados faltantes.",
   "metadata": {
    "id": "iHFNmur_JQ0y",
    "cell_id": "00035-ffd05408-4db9-4440-96ab-6bb6de6b3fc4",
    "deepnote_cell_type": "markdown"
   }
  },
  {
   "cell_type": "code",
   "metadata": {
    "id": "UBeAIKidSMl9",
    "cell_id": "00036-c7f33871-a8f7-40f6-bfbf-81681ab98016",
    "deepnote_to_be_reexecuted": false,
    "source_hash": "1b26b9b2",
    "execution_start": 1637529819275,
    "execution_millis": 12,
    "deepnote_cell_type": "code"
   },
   "source": "def stats_dados_faltantes(df: pd.DataFrame) -> None:\n\n  stats_dados_faltantes = []\n  for col in df.columns:\n    if df[col].isna().any():\n      qtd, _ = df[df[col].isna()].shape\n      total, _ = df.shape\n      dict_dados_faltantes = {col: {'quantidade': qtd, \"porcentagem\": round(100 * qtd/total, 2)}}\n      stats_dados_faltantes.append(dict_dados_faltantes)\n\n  for stat in stats_dados_faltantes:\n    print(stat)",
   "execution_count": null,
   "outputs": []
  },
  {
   "cell_type": "code",
   "metadata": {
    "id": "yLcRKYv7Vcfo",
    "cell_id": "00037-8dd1a3fb-960f-4f3a-9696-2049c6ca7e27",
    "deepnote_to_be_reexecuted": false,
    "source_hash": "f0f38ff2",
    "execution_start": 1637529819299,
    "execution_millis": 36,
    "deepnote_cell_type": "code"
   },
   "source": "stats_dados_faltantes(df=df)",
   "execution_count": null,
   "outputs": [
    {
     "name": "stdout",
     "text": "{'escolaridade': {'quantidade': 1519, 'porcentagem': 15.0}}\n{'estado_civil': {'quantidade': 749, 'porcentagem': 7.4}}\n{'salario_anual': {'quantidade': 1112, 'porcentagem': 10.98}}\n",
     "output_type": "stream"
    }
   ]
  },
  {
   "cell_type": "code",
   "metadata": {
    "id": "9HgN5wcQUyrE",
    "cell_id": "00038-25098db0-7617-4b34-bb6f-6b6cd332dae5",
    "deepnote_to_be_reexecuted": false,
    "source_hash": "20083c92",
    "execution_start": 1637529819339,
    "execution_millis": 39,
    "deepnote_cell_type": "code"
   },
   "source": "stats_dados_faltantes(df=df[df['default'] == 0])",
   "execution_count": null,
   "outputs": [
    {
     "name": "stdout",
     "text": "{'escolaridade': {'quantidade': 1263, 'porcentagem': 14.86}}\n{'estado_civil': {'quantidade': 620, 'porcentagem': 7.29}}\n{'salario_anual': {'quantidade': 925, 'porcentagem': 10.88}}\n",
     "output_type": "stream"
    }
   ]
  },
  {
   "cell_type": "code",
   "metadata": {
    "id": "o9GIwcSCVmjt",
    "cell_id": "00039-cab69438-3a88-447b-b1c0-e5a456c2b3dd",
    "deepnote_to_be_reexecuted": false,
    "source_hash": "44b33911",
    "execution_start": 1637529819383,
    "execution_millis": 25,
    "deepnote_cell_type": "code"
   },
   "source": "stats_dados_faltantes(df=df[df['default'] == 1])",
   "execution_count": null,
   "outputs": [
    {
     "name": "stdout",
     "text": "{'escolaridade': {'quantidade': 256, 'porcentagem': 15.73}}\n{'estado_civil': {'quantidade': 129, 'porcentagem': 7.93}}\n{'salario_anual': {'quantidade': 187, 'porcentagem': 11.49}}\n",
     "output_type": "stream"
    }
   ]
  },
  {
   "cell_type": "markdown",
   "source": "## 3\\. Transformação e limpeza de dados",
   "metadata": {
    "id": "miYvjW9QPKJm",
    "cell_id": "00040-ec0bff9f-b054-499e-8fd2-0a57b2a92787",
    "deepnote_cell_type": "markdown"
   }
  },
  {
   "cell_type": "markdown",
   "source": "Agora que conhecemos melhor a natureza do nosso conjunto de dados, vamos conduzir uma atividade conhecida como *data wrangling* que consiste na transformação e limpeza dos dados do conjunto para que possam ser melhor analisados. Em especial, vamos remover:\n\n - Corrigir o *schema* das nossas colunas;\n - Remover os dados faltantes.",
   "metadata": {
    "id": "_JEcr6OBLjT9",
    "cell_id": "00041-849e4a6d-cacc-46d2-8d48-7a6d70e920d2",
    "deepnote_cell_type": "markdown"
   }
  },
  {
   "cell_type": "markdown",
   "source": "### **3.1. Correção de schema** ",
   "metadata": {
    "id": "YqEgik1OXVLR",
    "cell_id": "00042-38d79761-5785-4324-bb01-22d1c8bff964",
    "deepnote_cell_type": "markdown"
   }
  },
  {
   "cell_type": "markdown",
   "source": "Na etapa de exploração, notamos que as colunas **limite_credito** e **valor_transacoes_12m** estavam sendo interpretadas como colunas categóricas (`dtype = object`).",
   "metadata": {
    "id": "FWHWpcurMkiX",
    "cell_id": "00043-5887ab3e-43e8-41b9-b524-609cbe81423f",
    "deepnote_cell_type": "markdown"
   }
  },
  {
   "cell_type": "code",
   "metadata": {
    "id": "e_ToeVYcM7X3",
    "cell_id": "00044-9fa0197e-a11c-452e-a89e-a75d886e19db",
    "deepnote_to_be_reexecuted": false,
    "source_hash": "faa43de9",
    "execution_start": 1637529819413,
    "execution_millis": 20,
    "deepnote_output_heights": [
     59.600006103515625
    ],
    "deepnote_cell_type": "code"
   },
   "source": "df[['limite_credito', 'valor_transacoes_12m']].dtypes",
   "execution_count": null,
   "outputs": [
    {
     "output_type": "execute_result",
     "execution_count": 19,
     "data": {
      "text/plain": "limite_credito          object\nvalor_transacoes_12m    object\ndtype: object"
     },
     "metadata": {}
    }
   ]
  },
  {
   "cell_type": "code",
   "metadata": {
    "id": "pkG33j5QNGLD",
    "cell_id": "00045-9ca22e91-0e66-48ad-8967-60723cef3f6d",
    "deepnote_to_be_reexecuted": false,
    "source_hash": "3f52e4b2",
    "execution_start": 1637529819445,
    "execution_millis": 32,
    "deepnote_cell_type": "code"
   },
   "source": "df[['limite_credito', 'valor_transacoes_12m']].head(n=5)",
   "execution_count": null,
   "outputs": [
    {
     "output_type": "execute_result",
     "execution_count": 20,
     "data": {
      "application/vnd.deepnote.dataframe.v2+json": {
       "row_count": 5,
       "column_count": 2,
       "columns": [
        {
         "name": "limite_credito",
         "dtype": "object",
         "stats": {
          "unique_count": 5,
          "nan_count": 0,
          "categories": [
           {
            "name": "12.691,51",
            "count": 1
           },
           {
            "name": "8.256,96",
            "count": 1
           },
           {
            "name": "3 others",
            "count": 3
           }
          ]
         }
        },
        {
         "name": "valor_transacoes_12m",
         "dtype": "object",
         "stats": {
          "unique_count": 5,
          "nan_count": 0,
          "categories": [
           {
            "name": "1.144,90",
            "count": 1
           },
           {
            "name": "1.291,45",
            "count": 1
           },
           {
            "name": "3 others",
            "count": 3
           }
          ]
         }
        },
        {
         "name": "_deepnote_index_column",
         "dtype": "int64"
        }
       ],
       "rows_top": [
        {
         "limite_credito": "12.691,51",
         "valor_transacoes_12m": "1.144,90",
         "_deepnote_index_column": 0
        },
        {
         "limite_credito": "8.256,96",
         "valor_transacoes_12m": "1.291,45",
         "_deepnote_index_column": 1
        },
        {
         "limite_credito": "3.418,56",
         "valor_transacoes_12m": "1.887,72",
         "_deepnote_index_column": 2
        },
        {
         "limite_credito": "3.313,03",
         "valor_transacoes_12m": "1.171,56",
         "_deepnote_index_column": 3
        },
        {
         "limite_credito": "4.716,22",
         "valor_transacoes_12m": "816,08",
         "_deepnote_index_column": 4
        }
       ],
       "rows_bottom": null
      },
      "text/plain": "  limite_credito valor_transacoes_12m\n0      12.691,51             1.144,90\n1       8.256,96             1.291,45\n2       3.418,56             1.887,72\n3       3.313,03             1.171,56\n4       4.716,22               816,08",
      "text/html": "<div>\n<style scoped>\n    .dataframe tbody tr th:only-of-type {\n        vertical-align: middle;\n    }\n\n    .dataframe tbody tr th {\n        vertical-align: top;\n    }\n\n    .dataframe thead th {\n        text-align: right;\n    }\n</style>\n<table border=\"1\" class=\"dataframe\">\n  <thead>\n    <tr style=\"text-align: right;\">\n      <th></th>\n      <th>limite_credito</th>\n      <th>valor_transacoes_12m</th>\n    </tr>\n  </thead>\n  <tbody>\n    <tr>\n      <th>0</th>\n      <td>12.691,51</td>\n      <td>1.144,90</td>\n    </tr>\n    <tr>\n      <th>1</th>\n      <td>8.256,96</td>\n      <td>1.291,45</td>\n    </tr>\n    <tr>\n      <th>2</th>\n      <td>3.418,56</td>\n      <td>1.887,72</td>\n    </tr>\n    <tr>\n      <th>3</th>\n      <td>3.313,03</td>\n      <td>1.171,56</td>\n    </tr>\n    <tr>\n      <th>4</th>\n      <td>4.716,22</td>\n      <td>816,08</td>\n    </tr>\n  </tbody>\n</table>\n</div>"
     },
     "metadata": {}
    }
   ]
  },
  {
   "cell_type": "markdown",
   "source": "Vamos criar uma função `lambda` para limpar os dados. Mas antes, vamos testar sua aplicação através do método funcional `map`:",
   "metadata": {
    "id": "b2AJxyYXNQhC",
    "cell_id": "00046-4e79a0e5-c348-4728-b644-0b6630a1af78",
    "deepnote_cell_type": "markdown"
   }
  },
  {
   "cell_type": "code",
   "metadata": {
    "id": "P2cLfCZTOFJD",
    "cell_id": "00047-4b242ccd-4c8f-49db-8071-e658618447d6",
    "deepnote_to_be_reexecuted": false,
    "source_hash": "c1812b0",
    "execution_start": 1637529819488,
    "execution_millis": 3,
    "deepnote_cell_type": "code"
   },
   "source": "fn = lambda valor: float(valor.replace(\".\", \"\").replace(\",\", \".\"))\n\nvalores_originais = ['12.691,51', '8.256,96', '3.418,56', '3.313,03', '4.716,22']\nvalores_limpos = list(map(fn, valores_originais))\n\nprint(valores_originais)\nprint(valores_limpos)",
   "execution_count": null,
   "outputs": [
    {
     "name": "stdout",
     "text": "['12.691,51', '8.256,96', '3.418,56', '3.313,03', '4.716,22']\n[12691.51, 8256.96, 3418.56, 3313.03, 4716.22]\n",
     "output_type": "stream"
    }
   ]
  },
  {
   "cell_type": "markdown",
   "source": "Com a função `lambda` de limpeza pronta, basta aplica-la nas colunas de interesse.",
   "metadata": {
    "id": "oNx_M5ueNfj1",
    "cell_id": "00048-40dea257-73a6-483a-8fb8-1e6b89832304",
    "deepnote_cell_type": "markdown"
   }
  },
  {
   "cell_type": "code",
   "metadata": {
    "id": "b1vsc75TN_ZA",
    "cell_id": "00049-fe969bc2-cc73-47b9-8403-235a94ed685c",
    "deepnote_to_be_reexecuted": false,
    "source_hash": "ddb501f5",
    "execution_start": 1637529837675,
    "execution_millis": 0,
    "deepnote_cell_type": "code"
   },
   "source": "df['valor_transacoes_12m'] = df['valor_transacoes_12m'].apply(fn)\ndf['limite_credito'] = df['limite_credito'].apply(fn)",
   "execution_count": null,
   "outputs": []
  },
  {
   "cell_type": "markdown",
   "source": "Vamos descrever novamente o *schema*:",
   "metadata": {
    "id": "44lO14qwOaGL",
    "cell_id": "00050-1fe12ba4-1f82-4439-9791-1df60f75b929",
    "deepnote_cell_type": "markdown"
   }
  },
  {
   "cell_type": "code",
   "metadata": {
    "id": "TOJoEfVxQpz3",
    "cell_id": "00051-6011a847-4290-49b7-a48c-bfda7f5de0c2",
    "deepnote_to_be_reexecuted": false,
    "source_hash": "52430027",
    "execution_start": 1637529840474,
    "execution_millis": 9,
    "deepnote_output_heights": [
     328.3999938964844
    ],
    "deepnote_cell_type": "code"
   },
   "source": "df.dtypes",
   "execution_count": null,
   "outputs": [
    {
     "output_type": "execute_result",
     "execution_count": 23,
     "data": {
      "text/plain": "id                           int64\ndefault                      int64\nidade                        int64\nsexo                        object\ndependentes                  int64\nescolaridade                object\nestado_civil                object\nsalario_anual               object\ntipo_cartao                 object\nmeses_de_relacionamento      int64\nqtd_produtos                 int64\niteracoes_12m                int64\nmeses_inativo_12m            int64\nlimite_credito             float64\nvalor_transacoes_12m       float64\nqtd_transacoes_12m           int64\ndtype: object"
     },
     "metadata": {}
    }
   ]
  },
  {
   "cell_type": "markdown",
   "source": " - Atributos **categóricos**.",
   "metadata": {
    "id": "Jzst49MBOQux",
    "cell_id": "00052-3f7d405a-1ec5-4d39-bde5-c7189625d49f",
    "deepnote_cell_type": "markdown"
   }
  },
  {
   "cell_type": "code",
   "metadata": {
    "id": "ul2cx2s6OQu5",
    "cell_id": "00053-cdd5a072-e276-41c0-b63d-2c27d82171a2",
    "deepnote_to_be_reexecuted": false,
    "source_hash": "ca0bfd59",
    "execution_start": 1637529846000,
    "execution_millis": 48,
    "deepnote_cell_type": "code"
   },
   "source": "df.select_dtypes('object').describe().transpose()",
   "execution_count": null,
   "outputs": [
    {
     "output_type": "execute_result",
     "execution_count": 24,
     "data": {
      "application/vnd.deepnote.dataframe.v2+json": {
       "row_count": 5,
       "column_count": 4,
       "columns": [
        {
         "name": "count",
         "dtype": "object",
         "stats": {
          "unique_count": 4,
          "nan_count": 0,
          "categories": [
           {
            "name": "10127",
            "count": 2
           },
           {
            "name": "8608",
            "count": 1
           },
           {
            "name": "2 others",
            "count": 2
           }
          ]
         }
        },
        {
         "name": "unique",
         "dtype": "object",
         "stats": {
          "unique_count": 4,
          "nan_count": 0,
          "categories": [
           {
            "name": "5",
            "count": 2
           },
           {
            "name": "2",
            "count": 1
           },
           {
            "name": "2 others",
            "count": 2
           }
          ]
         }
        },
        {
         "name": "top",
         "dtype": "object",
         "stats": {
          "unique_count": 5,
          "nan_count": 0,
          "categories": [
           {
            "name": "F",
            "count": 1
           },
           {
            "name": "mestrado",
            "count": 1
           },
           {
            "name": "3 others",
            "count": 3
           }
          ]
         }
        },
        {
         "name": "freq",
         "dtype": "object",
         "stats": {
          "unique_count": 5,
          "nan_count": 0,
          "categories": [
           {
            "name": "5358",
            "count": 1
           },
           {
            "name": "3128",
            "count": 1
           },
           {
            "name": "3 others",
            "count": 3
           }
          ]
         }
        },
        {
         "name": "_deepnote_index_column",
         "dtype": "object"
        }
       ],
       "rows_top": [
        {
         "count": "10127",
         "unique": "2",
         "top": "F",
         "freq": "5358",
         "_deepnote_index_column": "sexo"
        },
        {
         "count": "8608",
         "unique": "5",
         "top": "mestrado",
         "freq": "3128",
         "_deepnote_index_column": "escolaridade"
        },
        {
         "count": "9378",
         "unique": "3",
         "top": "casado",
         "freq": "4687",
         "_deepnote_index_column": "estado_civil"
        },
        {
         "count": "9015",
         "unique": "5",
         "top": "menos que $40K",
         "freq": "3561",
         "_deepnote_index_column": "salario_anual"
        },
        {
         "count": "10127",
         "unique": "4",
         "top": "blue",
         "freq": "9436",
         "_deepnote_index_column": "tipo_cartao"
        }
       ],
       "rows_bottom": null
      },
      "text/plain": "               count unique             top  freq\nsexo           10127      2               F  5358\nescolaridade    8608      5        mestrado  3128\nestado_civil    9378      3          casado  4687\nsalario_anual   9015      5  menos que $40K  3561\ntipo_cartao    10127      4            blue  9436",
      "text/html": "<div>\n<style scoped>\n    .dataframe tbody tr th:only-of-type {\n        vertical-align: middle;\n    }\n\n    .dataframe tbody tr th {\n        vertical-align: top;\n    }\n\n    .dataframe thead th {\n        text-align: right;\n    }\n</style>\n<table border=\"1\" class=\"dataframe\">\n  <thead>\n    <tr style=\"text-align: right;\">\n      <th></th>\n      <th>count</th>\n      <th>unique</th>\n      <th>top</th>\n      <th>freq</th>\n    </tr>\n  </thead>\n  <tbody>\n    <tr>\n      <th>sexo</th>\n      <td>10127</td>\n      <td>2</td>\n      <td>F</td>\n      <td>5358</td>\n    </tr>\n    <tr>\n      <th>escolaridade</th>\n      <td>8608</td>\n      <td>5</td>\n      <td>mestrado</td>\n      <td>3128</td>\n    </tr>\n    <tr>\n      <th>estado_civil</th>\n      <td>9378</td>\n      <td>3</td>\n      <td>casado</td>\n      <td>4687</td>\n    </tr>\n    <tr>\n      <th>salario_anual</th>\n      <td>9015</td>\n      <td>5</td>\n      <td>menos que $40K</td>\n      <td>3561</td>\n    </tr>\n    <tr>\n      <th>tipo_cartao</th>\n      <td>10127</td>\n      <td>4</td>\n      <td>blue</td>\n      <td>9436</td>\n    </tr>\n  </tbody>\n</table>\n</div>"
     },
     "metadata": {}
    }
   ]
  },
  {
   "cell_type": "markdown",
   "source": " - Atributos **numéricos**.",
   "metadata": {
    "id": "MOln7J02OQu7",
    "cell_id": "00054-89cb595b-1a16-4e44-8cba-21536636445f",
    "deepnote_cell_type": "markdown"
   }
  },
  {
   "cell_type": "code",
   "metadata": {
    "id": "wcavrFtIOQu8",
    "cell_id": "00055-1eb723f3-cf2e-4beb-b9fc-24ea20676832",
    "deepnote_to_be_reexecuted": false,
    "source_hash": "e40d505a",
    "execution_start": 1637529851090,
    "execution_millis": 76,
    "deepnote_cell_type": "code"
   },
   "source": "df.drop('id', axis=1).select_dtypes('number').describe().transpose()",
   "execution_count": null,
   "outputs": [
    {
     "output_type": "execute_result",
     "execution_count": 25,
     "data": {
      "application/vnd.deepnote.dataframe.v2+json": {
       "row_count": 10,
       "column_count": 8,
       "columns": [
        {
         "name": "count",
         "dtype": "float64",
         "stats": {
          "unique_count": 1,
          "nan_count": 0,
          "min": "10127.0",
          "max": "10127.0",
          "histogram": [
           {
            "bin_start": 10126.5,
            "bin_end": 10126.6,
            "count": 0
           },
           {
            "bin_start": 10126.6,
            "bin_end": 10126.7,
            "count": 0
           },
           {
            "bin_start": 10126.7,
            "bin_end": 10126.8,
            "count": 0
           },
           {
            "bin_start": 10126.8,
            "bin_end": 10126.9,
            "count": 0
           },
           {
            "bin_start": 10126.9,
            "bin_end": 10127,
            "count": 0
           },
           {
            "bin_start": 10127,
            "bin_end": 10127.1,
            "count": 10
           },
           {
            "bin_start": 10127.1,
            "bin_end": 10127.2,
            "count": 0
           },
           {
            "bin_start": 10127.2,
            "bin_end": 10127.3,
            "count": 0
           },
           {
            "bin_start": 10127.3,
            "bin_end": 10127.4,
            "count": 0
           },
           {
            "bin_start": 10127.4,
            "bin_end": 10127.5,
            "count": 0
           }
          ]
         }
        },
        {
         "name": "mean",
         "dtype": "float64",
         "stats": {
          "unique_count": 10,
          "nan_count": 0,
          "min": "0.1606596227905599",
          "max": "8632.440164905696",
          "histogram": [
           {
            "bin_start": 0.1606596227905599,
            "bin_end": 863.3886101510813,
            "count": 8
           },
           {
            "bin_start": 863.3886101510813,
            "bin_end": 1726.6165606793718,
            "count": 0
           },
           {
            "bin_start": 1726.6165606793718,
            "bin_end": 2589.844511207663,
            "count": 0
           },
           {
            "bin_start": 2589.844511207663,
            "bin_end": 3453.0724617359533,
            "count": 0
           },
           {
            "bin_start": 3453.0724617359533,
            "bin_end": 4316.300412264243,
            "count": 0
           },
           {
            "bin_start": 4316.300412264243,
            "bin_end": 5179.528362792535,
            "count": 1
           },
           {
            "bin_start": 5179.528362792535,
            "bin_end": 6042.756313320825,
            "count": 0
           },
           {
            "bin_start": 6042.756313320825,
            "bin_end": 6905.984263849115,
            "count": 0
           },
           {
            "bin_start": 6905.984263849115,
            "bin_end": 7769.212214377406,
            "count": 0
           },
           {
            "bin_start": 7769.212214377406,
            "bin_end": 8632.440164905696,
            "count": 1
           }
          ]
         }
        },
        {
         "name": "std",
         "dtype": "float64",
         "stats": {
          "unique_count": 10,
          "nan_count": 0,
          "min": "0.3672348368711599",
          "max": "9088.788040855448",
          "histogram": [
           {
            "bin_start": 0.3672348368711599,
            "bin_end": 909.2093154387289,
            "count": 8
           },
           {
            "bin_start": 909.2093154387289,
            "bin_end": 1818.0513960405867,
            "count": 0
           },
           {
            "bin_start": 1818.0513960405867,
            "bin_end": 2726.893476642445,
            "count": 0
           },
           {
            "bin_start": 2726.893476642445,
            "bin_end": 3635.7355572443025,
            "count": 1
           },
           {
            "bin_start": 3635.7355572443025,
            "bin_end": 4544.57763784616,
            "count": 0
           },
           {
            "bin_start": 4544.57763784616,
            "bin_end": 5453.419718448018,
            "count": 0
           },
           {
            "bin_start": 5453.419718448018,
            "bin_end": 6362.261799049876,
            "count": 0
           },
           {
            "bin_start": 6362.261799049876,
            "bin_end": 7271.103879651733,
            "count": 0
           },
           {
            "bin_start": 7271.103879651733,
            "bin_end": 8179.945960253591,
            "count": 0
           },
           {
            "bin_start": 8179.945960253591,
            "bin_end": 9088.788040855448,
            "count": 1
           }
          ]
         }
        },
        {
         "name": "min",
         "dtype": "float64",
         "stats": {
          "unique_count": 7,
          "nan_count": 0,
          "min": "0.0",
          "max": "1438.0",
          "histogram": [
           {
            "bin_start": 0,
            "bin_end": 143.8,
            "count": 8
           },
           {
            "bin_start": 143.8,
            "bin_end": 287.6,
            "count": 0
           },
           {
            "bin_start": 287.6,
            "bin_end": 431.40000000000003,
            "count": 0
           },
           {
            "bin_start": 431.40000000000003,
            "bin_end": 575.2,
            "count": 1
           },
           {
            "bin_start": 575.2,
            "bin_end": 719,
            "count": 0
           },
           {
            "bin_start": 719,
            "bin_end": 862.8000000000001,
            "count": 0
           },
           {
            "bin_start": 862.8000000000001,
            "bin_end": 1006.6000000000001,
            "count": 0
           },
           {
            "bin_start": 1006.6000000000001,
            "bin_end": 1150.4,
            "count": 0
           },
           {
            "bin_start": 1150.4,
            "bin_end": 1294.2,
            "count": 0
           },
           {
            "bin_start": 1294.2,
            "bin_end": 1438,
            "count": 1
           }
          ]
         }
        },
        {
         "name": "25%",
         "dtype": "float64",
         "stats": {
          "unique_count": 9,
          "nan_count": 0,
          "min": "0.0",
          "max": "2555.355",
          "histogram": [
           {
            "bin_start": 0,
            "bin_end": 255.5355,
            "count": 8
           },
           {
            "bin_start": 255.5355,
            "bin_end": 511.071,
            "count": 0
           },
           {
            "bin_start": 511.071,
            "bin_end": 766.6065000000001,
            "count": 0
           },
           {
            "bin_start": 766.6065000000001,
            "bin_end": 1022.142,
            "count": 0
           },
           {
            "bin_start": 1022.142,
            "bin_end": 1277.6775,
            "count": 0
           },
           {
            "bin_start": 1277.6775,
            "bin_end": 1533.2130000000002,
            "count": 0
           },
           {
            "bin_start": 1533.2130000000002,
            "bin_end": 1788.7485000000001,
            "count": 0
           },
           {
            "bin_start": 1788.7485000000001,
            "bin_end": 2044.284,
            "count": 0
           },
           {
            "bin_start": 2044.284,
            "bin_end": 2299.8195,
            "count": 1
           },
           {
            "bin_start": 2299.8195,
            "bin_end": 2555.355,
            "count": 1
           }
          ]
         }
        },
        {
         "name": "50%",
         "dtype": "float64",
         "stats": {
          "unique_count": 8,
          "nan_count": 0,
          "min": "0.0",
          "max": "4549.42",
          "histogram": [
           {
            "bin_start": 0,
            "bin_end": 454.942,
            "count": 8
           },
           {
            "bin_start": 454.942,
            "bin_end": 909.884,
            "count": 0
           },
           {
            "bin_start": 909.884,
            "bin_end": 1364.826,
            "count": 0
           },
           {
            "bin_start": 1364.826,
            "bin_end": 1819.768,
            "count": 0
           },
           {
            "bin_start": 1819.768,
            "bin_end": 2274.71,
            "count": 0
           },
           {
            "bin_start": 2274.71,
            "bin_end": 2729.652,
            "count": 0
           },
           {
            "bin_start": 2729.652,
            "bin_end": 3184.594,
            "count": 0
           },
           {
            "bin_start": 3184.594,
            "bin_end": 3639.536,
            "count": 0
           },
           {
            "bin_start": 3639.536,
            "bin_end": 4094.478,
            "count": 1
           },
           {
            "bin_start": 4094.478,
            "bin_end": 4549.42,
            "count": 1
           }
          ]
         }
        },
        {
         "name": "75%",
         "dtype": "float64",
         "stats": {
          "unique_count": 8,
          "nan_count": 0,
          "min": "0.0",
          "max": "11068.175",
          "histogram": [
           {
            "bin_start": 0,
            "bin_end": 1106.8174999999999,
            "count": 8
           },
           {
            "bin_start": 1106.8174999999999,
            "bin_end": 2213.6349999999998,
            "count": 0
           },
           {
            "bin_start": 2213.6349999999998,
            "bin_end": 3320.4524999999994,
            "count": 0
           },
           {
            "bin_start": 3320.4524999999994,
            "bin_end": 4427.2699999999995,
            "count": 0
           },
           {
            "bin_start": 4427.2699999999995,
            "bin_end": 5534.0875,
            "count": 1
           },
           {
            "bin_start": 5534.0875,
            "bin_end": 6640.904999999999,
            "count": 0
           },
           {
            "bin_start": 6640.904999999999,
            "bin_end": 7747.722499999999,
            "count": 0
           },
           {
            "bin_start": 7747.722499999999,
            "bin_end": 8854.539999999999,
            "count": 0
           },
           {
            "bin_start": 8854.539999999999,
            "bin_end": 9961.357499999998,
            "count": 0
           },
           {
            "bin_start": 9961.357499999998,
            "bin_end": 11068.175,
            "count": 1
           }
          ]
         }
        },
        {
         "name": "max",
         "dtype": "float64",
         "stats": {
          "unique_count": 8,
          "nan_count": 0,
          "min": "1.0",
          "max": "34516.99",
          "histogram": [
           {
            "bin_start": 1,
            "bin_end": 3452.5989999999997,
            "count": 8
           },
           {
            "bin_start": 3452.5989999999997,
            "bin_end": 6904.197999999999,
            "count": 0
           },
           {
            "bin_start": 6904.197999999999,
            "bin_end": 10355.796999999999,
            "count": 0
           },
           {
            "bin_start": 10355.796999999999,
            "bin_end": 13807.395999999999,
            "count": 0
           },
           {
            "bin_start": 13807.395999999999,
            "bin_end": 17258.995,
            "count": 0
           },
           {
            "bin_start": 17258.995,
            "bin_end": 20710.593999999997,
            "count": 1
           },
           {
            "bin_start": 20710.593999999997,
            "bin_end": 24162.193,
            "count": 0
           },
           {
            "bin_start": 24162.193,
            "bin_end": 27613.791999999998,
            "count": 0
           },
           {
            "bin_start": 27613.791999999998,
            "bin_end": 31065.390999999996,
            "count": 0
           },
           {
            "bin_start": 31065.390999999996,
            "bin_end": 34516.99,
            "count": 1
           }
          ]
         }
        },
        {
         "name": "_deepnote_index_column",
         "dtype": "object"
        }
       ],
       "rows_top": [
        {
         "count": 10127,
         "mean": 0.1606596227905599,
         "std": 0.3672348368711599,
         "min": 0,
         "25%": 0,
         "50%": 0,
         "75%": 0,
         "max": 1,
         "_deepnote_index_column": "default"
        },
        {
         "count": 10127,
         "mean": 46.32596030413745,
         "std": 8.016814032549028,
         "min": 26,
         "25%": 41,
         "50%": 46,
         "75%": 52,
         "max": 73,
         "_deepnote_index_column": "idade"
        },
        {
         "count": 10127,
         "mean": 2.3462032191172115,
         "std": 1.2989083489037903,
         "min": 0,
         "25%": 1,
         "50%": 2,
         "75%": 3,
         "max": 5,
         "_deepnote_index_column": "dependentes"
        },
        {
         "count": 10127,
         "mean": 35.928409203120374,
         "std": 7.986416330872062,
         "min": 13,
         "25%": 31,
         "50%": 36,
         "75%": 40,
         "max": 56,
         "_deepnote_index_column": "meses_de_relacionamento"
        },
        {
         "count": 10127,
         "mean": 3.8125802310654686,
         "std": 1.5544078653388251,
         "min": 1,
         "25%": 3,
         "50%": 4,
         "75%": 5,
         "max": 6,
         "_deepnote_index_column": "qtd_produtos"
        },
        {
         "count": 10127,
         "mean": 2.4553174681544387,
         "std": 1.106225142635924,
         "min": 0,
         "25%": 2,
         "50%": 2,
         "75%": 3,
         "max": 6,
         "_deepnote_index_column": "iteracoes_12m"
        },
        {
         "count": 10127,
         "mean": 2.3411671768539546,
         "std": 1.0106223994182812,
         "min": 0,
         "25%": 2,
         "50%": 2,
         "75%": 3,
         "max": 6,
         "_deepnote_index_column": "meses_inativo_12m"
        },
        {
         "count": 10127,
         "mean": 8632.440164905696,
         "std": 9088.788040855448,
         "min": 1438,
         "25%": 2555.355,
         "50%": 4549.42,
         "75%": 11068.175,
         "max": 34516.99,
         "_deepnote_index_column": "limite_credito"
        },
        {
         "count": 10127,
         "mean": 4404.583047299298,
         "std": 3397.128077637619,
         "min": 510.16,
         "25%": 2155.825,
         "50%": 3899.59,
         "75%": 4741.3099999999995,
         "max": 18484.93,
         "_deepnote_index_column": "valor_transacoes_12m"
        },
        {
         "count": 10127,
         "mean": 64.85869457884863,
         "std": 23.472570449232997,
         "min": 10,
         "25%": 45,
         "50%": 67,
         "75%": 81,
         "max": 139,
         "_deepnote_index_column": "qtd_transacoes_12m"
        }
       ],
       "rows_bottom": null
      },
      "text/plain": "                           count         mean          std      min       25%  \\\ndefault                  10127.0     0.160660     0.367235     0.00     0.000   \nidade                    10127.0    46.325960     8.016814    26.00    41.000   \ndependentes              10127.0     2.346203     1.298908     0.00     1.000   \nmeses_de_relacionamento  10127.0    35.928409     7.986416    13.00    31.000   \nqtd_produtos             10127.0     3.812580     1.554408     1.00     3.000   \niteracoes_12m            10127.0     2.455317     1.106225     0.00     2.000   \nmeses_inativo_12m        10127.0     2.341167     1.010622     0.00     2.000   \nlimite_credito           10127.0  8632.440165  9088.788041  1438.00  2555.355   \nvalor_transacoes_12m     10127.0  4404.583047  3397.128078   510.16  2155.825   \nqtd_transacoes_12m       10127.0    64.858695    23.472570    10.00    45.000   \n\n                             50%        75%       max  \ndefault                     0.00      0.000      1.00  \nidade                      46.00     52.000     73.00  \ndependentes                 2.00      3.000      5.00  \nmeses_de_relacionamento    36.00     40.000     56.00  \nqtd_produtos                4.00      5.000      6.00  \niteracoes_12m               2.00      3.000      6.00  \nmeses_inativo_12m           2.00      3.000      6.00  \nlimite_credito           4549.42  11068.175  34516.99  \nvalor_transacoes_12m     3899.59   4741.310  18484.93  \nqtd_transacoes_12m         67.00     81.000    139.00  ",
      "text/html": "<div>\n<style scoped>\n    .dataframe tbody tr th:only-of-type {\n        vertical-align: middle;\n    }\n\n    .dataframe tbody tr th {\n        vertical-align: top;\n    }\n\n    .dataframe thead th {\n        text-align: right;\n    }\n</style>\n<table border=\"1\" class=\"dataframe\">\n  <thead>\n    <tr style=\"text-align: right;\">\n      <th></th>\n      <th>count</th>\n      <th>mean</th>\n      <th>std</th>\n      <th>min</th>\n      <th>25%</th>\n      <th>50%</th>\n      <th>75%</th>\n      <th>max</th>\n    </tr>\n  </thead>\n  <tbody>\n    <tr>\n      <th>default</th>\n      <td>10127.0</td>\n      <td>0.160660</td>\n      <td>0.367235</td>\n      <td>0.00</td>\n      <td>0.000</td>\n      <td>0.00</td>\n      <td>0.000</td>\n      <td>1.00</td>\n    </tr>\n    <tr>\n      <th>idade</th>\n      <td>10127.0</td>\n      <td>46.325960</td>\n      <td>8.016814</td>\n      <td>26.00</td>\n      <td>41.000</td>\n      <td>46.00</td>\n      <td>52.000</td>\n      <td>73.00</td>\n    </tr>\n    <tr>\n      <th>dependentes</th>\n      <td>10127.0</td>\n      <td>2.346203</td>\n      <td>1.298908</td>\n      <td>0.00</td>\n      <td>1.000</td>\n      <td>2.00</td>\n      <td>3.000</td>\n      <td>5.00</td>\n    </tr>\n    <tr>\n      <th>meses_de_relacionamento</th>\n      <td>10127.0</td>\n      <td>35.928409</td>\n      <td>7.986416</td>\n      <td>13.00</td>\n      <td>31.000</td>\n      <td>36.00</td>\n      <td>40.000</td>\n      <td>56.00</td>\n    </tr>\n    <tr>\n      <th>qtd_produtos</th>\n      <td>10127.0</td>\n      <td>3.812580</td>\n      <td>1.554408</td>\n      <td>1.00</td>\n      <td>3.000</td>\n      <td>4.00</td>\n      <td>5.000</td>\n      <td>6.00</td>\n    </tr>\n    <tr>\n      <th>iteracoes_12m</th>\n      <td>10127.0</td>\n      <td>2.455317</td>\n      <td>1.106225</td>\n      <td>0.00</td>\n      <td>2.000</td>\n      <td>2.00</td>\n      <td>3.000</td>\n      <td>6.00</td>\n    </tr>\n    <tr>\n      <th>meses_inativo_12m</th>\n      <td>10127.0</td>\n      <td>2.341167</td>\n      <td>1.010622</td>\n      <td>0.00</td>\n      <td>2.000</td>\n      <td>2.00</td>\n      <td>3.000</td>\n      <td>6.00</td>\n    </tr>\n    <tr>\n      <th>limite_credito</th>\n      <td>10127.0</td>\n      <td>8632.440165</td>\n      <td>9088.788041</td>\n      <td>1438.00</td>\n      <td>2555.355</td>\n      <td>4549.42</td>\n      <td>11068.175</td>\n      <td>34516.99</td>\n    </tr>\n    <tr>\n      <th>valor_transacoes_12m</th>\n      <td>10127.0</td>\n      <td>4404.583047</td>\n      <td>3397.128078</td>\n      <td>510.16</td>\n      <td>2155.825</td>\n      <td>3899.59</td>\n      <td>4741.310</td>\n      <td>18484.93</td>\n    </tr>\n    <tr>\n      <th>qtd_transacoes_12m</th>\n      <td>10127.0</td>\n      <td>64.858695</td>\n      <td>23.472570</td>\n      <td>10.00</td>\n      <td>45.000</td>\n      <td>67.00</td>\n      <td>81.000</td>\n      <td>139.00</td>\n    </tr>\n  </tbody>\n</table>\n</div>"
     },
     "metadata": {}
    }
   ]
  },
  {
   "cell_type": "markdown",
   "source": "### **3.2. Remoção de dados faltantes** ",
   "metadata": {
    "id": "FfSrJNGPLgaE",
    "cell_id": "00056-07d8300e-979a-4026-b667-e3c67c0e576c",
    "deepnote_cell_type": "markdown"
   }
  },
  {
   "cell_type": "markdown",
   "source": "Como o pandas está ciente do que é um dados faltante, a remoção das linhas problemáticas é trivial.",
   "metadata": {
    "id": "C9-LfUrxPk26",
    "cell_id": "00057-86654968-db3b-4a43-8f41-3f0a4a14d25f",
    "deepnote_cell_type": "markdown"
   }
  },
  {
   "cell_type": "code",
   "metadata": {
    "id": "PACLJJnsLgak",
    "cell_id": "00058-0061f3b5-cdac-45db-8721-b56dd498124d",
    "deepnote_to_be_reexecuted": false,
    "source_hash": "1bd18b6b",
    "execution_start": 1637530286863,
    "execution_millis": 1,
    "deepnote_cell_type": "code"
   },
   "source": "df.dropna(inplace=True)",
   "execution_count": null,
   "outputs": []
  },
  {
   "cell_type": "markdown",
   "source": "Vamos analisar a estrutura dos dados novamente.",
   "metadata": {
    "id": "tJhhutM7Phq9",
    "cell_id": "00059-6491697f-e560-49d5-8b62-211be412fc65",
    "deepnote_cell_type": "markdown"
   }
  },
  {
   "cell_type": "code",
   "metadata": {
    "id": "5Fo7S-COP0Lf",
    "cell_id": "00060-3e1fce2d-aaaa-4efe-9647-22c17798fab9",
    "deepnote_to_be_reexecuted": false,
    "source_hash": "14f60b8f",
    "execution_start": 1637530293690,
    "execution_millis": 1,
    "deepnote_output_heights": [
     21.199996948242188
    ],
    "deepnote_cell_type": "code"
   },
   "source": "df.shape",
   "execution_count": null,
   "outputs": [
    {
     "output_type": "execute_result",
     "execution_count": 27,
     "data": {
      "text/plain": "(7081, 16)"
     },
     "metadata": {}
    }
   ]
  },
  {
   "cell_type": "code",
   "metadata": {
    "id": "jbp-6NaXP0Lh",
    "cell_id": "00061-28ca49c8-6951-4813-bf1d-0ed7dde3d8d0",
    "deepnote_to_be_reexecuted": false,
    "source_hash": "8dab51e2",
    "execution_start": 1637530299707,
    "execution_millis": 35,
    "deepnote_output_heights": [
     21.199996948242188
    ],
    "deepnote_cell_type": "code"
   },
   "source": "df[df['default'] == 0].shape",
   "execution_count": null,
   "outputs": [
    {
     "output_type": "execute_result",
     "execution_count": 28,
     "data": {
      "text/plain": "(5968, 16)"
     },
     "metadata": {}
    }
   ]
  },
  {
   "cell_type": "code",
   "metadata": {
    "id": "XJHQihfUP0Li",
    "cell_id": "00062-e3bc50e9-b66c-4897-b615-9d2b1498f5b9",
    "deepnote_to_be_reexecuted": false,
    "source_hash": "e210e44c",
    "execution_start": 1637530303639,
    "execution_millis": 5,
    "deepnote_output_heights": [
     21.199996948242188
    ],
    "deepnote_cell_type": "code"
   },
   "source": "df[df['default'] == 1].shape",
   "execution_count": null,
   "outputs": [
    {
     "output_type": "execute_result",
     "execution_count": 29,
     "data": {
      "text/plain": "(1113, 16)"
     },
     "metadata": {}
    }
   ]
  },
  {
   "cell_type": "code",
   "metadata": {
    "id": "IGFZmtReP0Lk",
    "cell_id": "00063-f8a3d288-bee3-4ca0-ba62-30aa0106014c",
    "deepnote_to_be_reexecuted": false,
    "source_hash": "5c3a931f",
    "execution_start": 1637530316143,
    "execution_millis": 0,
    "deepnote_cell_type": "code"
   },
   "source": "qtd_total_novo, _ = df.shape\nqtd_adimplentes_novo, _ = df[df['default'] == 0].shape\nqtd_inadimplentes_novo, _ = df[df['default'] == 1].shape",
   "execution_count": null,
   "outputs": []
  },
  {
   "cell_type": "code",
   "metadata": {
    "id": "BU35ZXaKP_6h",
    "cell_id": "00064-10eca278-aceb-4d6b-855d-ee97211a3d62",
    "deepnote_to_be_reexecuted": false,
    "source_hash": "47155754",
    "execution_start": 1637530325951,
    "execution_millis": 9,
    "deepnote_cell_type": "code"
   },
   "source": "print(f\"A proporcão adimplentes ativos é de {round(100 * qtd_adimplentes / qtd_total, 2)}%\")\nprint(f\"A nova proporcão de clientes adimplentes é de {round(100 * qtd_adimplentes_novo / qtd_total_novo, 2)}%\")\nprint(\"\")\nprint(f\"A proporcão clientes inadimplentes é de {round(100 * qtd_inadimplentes / qtd_total, 2)}%\")\nprint(f\"A nova proporcão de clientes inadimplentes é de {round(100 * qtd_inadimplentes_novo / qtd_total_novo, 2)}%\")",
   "execution_count": null,
   "outputs": [
    {
     "name": "stdout",
     "text": "A proporcão adimplentes ativos é de 83.93%\nA nova proporcão de clientes adimplentes é de 84.28%\n\nA proporcão clientes inadimplentes é de 16.07%\nA nova proporcão de clientes inadimplentes é de 15.72%\n",
     "output_type": "stream"
    }
   ]
  },
  {
   "cell_type": "markdown",
   "source": "## 4\\. Visualização de dados",
   "metadata": {
    "id": "iJTgUJqpPKJ3",
    "cell_id": "00065-a0ad691a-d482-45d6-82f9-9da7db7e070c",
    "deepnote_cell_type": "markdown"
   }
  },
  {
   "cell_type": "markdown",
   "source": "Os dados estão prontos, vamos criar diversas visualizações para correlacionar variáveis explicativas com a variável resposta para buscar entender qual fator leva um cliente a inadimplencia. E para isso, vamos sempre comparar a base com todos os clientes com a base de adimplentes e inadimplentes.",
   "metadata": {
    "id": "sJpXNT77pPig",
    "cell_id": "00066-1f243e8f-409c-4c07-9eee-5c895988e60b",
    "deepnote_cell_type": "markdown"
   }
  },
  {
   "cell_type": "markdown",
   "source": "Começamos então importando os pacotes de visualização e separando os clientes adimplentes e inadimplentes ",
   "metadata": {
    "id": "36p-sjU3qPnG",
    "cell_id": "00067-316b1483-4362-4b96-83f0-21337f564a2e",
    "deepnote_cell_type": "markdown"
   }
  },
  {
   "cell_type": "code",
   "metadata": {
    "id": "NkN4P1tGSlFI",
    "cell_id": "00068-eeb52ad3-3575-4aff-a2d5-7308732706b6",
    "deepnote_cell_type": "code"
   },
   "source": "import seaborn as sns\nimport matplotlib.pyplot as plt\n\nsns.set_style(\"whitegrid\")",
   "execution_count": null,
   "outputs": []
  },
  {
   "cell_type": "code",
   "metadata": {
    "id": "duYfStSTSs4f",
    "cell_id": "00069-5ca0a5a7-265f-460e-b248-e1d74a5af9ac",
    "deepnote_cell_type": "code"
   },
   "source": "df_adimplente = df[df['default'] == 0]",
   "execution_count": null,
   "outputs": []
  },
  {
   "cell_type": "code",
   "metadata": {
    "id": "ldEBuNiiSxVE",
    "cell_id": "00070-271fc536-dbce-4ef9-8ad4-1cf98321fe4f",
    "deepnote_cell_type": "code"
   },
   "source": "df_inadimplente = df[df['default'] == 1]",
   "execution_count": null,
   "outputs": []
  },
  {
   "cell_type": "markdown",
   "source": "### **4.1. Visualizações categóricas** ",
   "metadata": {
    "id": "u9kFH-ADSEVO",
    "cell_id": "00071-f5bad54f-700f-4ab4-90d9-ee0d28923e15",
    "deepnote_cell_type": "markdown"
   }
  },
  {
   "cell_type": "markdown",
   "source": "Nesta seção, vamos visualizar a relação entre a variável resposta **default** com os atributos categóricos.",
   "metadata": {
    "id": "AAKovEBSqSVu",
    "cell_id": "00072-bb1a040d-197e-414f-a66d-10c9bcf6b9a6",
    "deepnote_cell_type": "markdown"
   }
  },
  {
   "cell_type": "code",
   "metadata": {
    "id": "O2bBTZ2PS85K",
    "cell_id": "00073-3516f592-8a7e-4159-863b-10138984f123",
    "deepnote_cell_type": "code"
   },
   "source": "df.select_dtypes('object').head(n=5)",
   "execution_count": null,
   "outputs": []
  },
  {
   "cell_type": "markdown",
   "source": " - Escolaridade",
   "metadata": {
    "id": "v0oeXqxsTO2o",
    "cell_id": "00074-41127589-2d9c-40ca-bb88-db3a1531d037",
    "deepnote_cell_type": "markdown"
   }
  },
  {
   "cell_type": "code",
   "metadata": {
    "id": "oJ9rNBPuTT5i",
    "cell_id": "00075-794917f3-9b48-4a9e-85f5-56c3a9ecf345",
    "deepnote_cell_type": "code"
   },
   "source": "coluna = 'escolaridade'\ntitulos = ['Escolaridade dos Clientes', 'Escolaridade dos Clientes Adimplentes', 'Escolaridade dos Clientes Inadimplentes']\n\neixo = 0\nmax_y = 0\nmax = df.select_dtypes('object').describe()[coluna]['freq'] * 1.1\n\nfigura, eixos = plt.subplots(1,3, figsize=(20, 5), sharex=True)\n\nfor dataframe in [df, df_adimplente, df_inadimplente]:\n\n  df_to_plot = dataframe[coluna].value_counts().to_frame()\n  df_to_plot.rename(columns={coluna: 'frequencia_absoluta'}, inplace=True)\n  df_to_plot[coluna] = df_to_plot.index\n  df_to_plot.sort_values(by=[coluna], inplace=True)\n  df_to_plot.sort_values(by=[coluna])\n\n  f = sns.barplot(x=df_to_plot[coluna], y=df_to_plot['frequencia_absoluta'], ax=eixos[eixo])\n  f.set(title=titulos[eixo], xlabel=coluna.capitalize(), ylabel='Frequência Absoluta')\n  f.set_xticklabels(labels=f.get_xticklabels(), rotation=90)\n\n  _, max_y_f = f.get_ylim()\n  max_y = max_y_f if max_y_f > max_y else max_y\n  f.set(ylim=(0, max_y))\n\n  eixo += 1\n\nfigura.show()",
   "execution_count": null,
   "outputs": []
  },
  {
   "cell_type": "markdown",
   "source": " - Salário Anual",
   "metadata": {
    "id": "0h1s5odlgHbY",
    "cell_id": "00076-f7138c0c-316e-4b8b-9437-481734b531a4",
    "deepnote_cell_type": "markdown"
   }
  },
  {
   "cell_type": "code",
   "metadata": {
    "id": "7Lf-X12wgLvJ",
    "cell_id": "00077-b1037151-844e-4c43-8421-0b96cb010d8c",
    "deepnote_cell_type": "code"
   },
   "source": "coluna = 'salario_anual'\ntitulos = ['Salário Anual dos Clientes', 'Salário Anual dos Clientes Adimplentes', 'Salário Anual dos Clientes Inadimplentes']\n\neixo = 0\nmax_y = 0\nfigura, eixos = plt.subplots(1,3, figsize=(20, 5), sharex=True)\n\nfor dataframe in [df, df_adimplente, df_inadimplente]:\n\n  df_to_plot = dataframe[coluna].value_counts().to_frame()\n  df_to_plot.rename(columns={coluna: 'frequencia_absoluta'}, inplace=True)\n  df_to_plot[coluna] = df_to_plot.index\n  df_to_plot.reset_index(inplace=True, drop=True)\n  df_to_plot.sort_values(by=[coluna], inplace=True)\n\n  f = sns.barplot(x=df_to_plot[coluna], y=df_to_plot['frequencia_absoluta'], ax=eixos[eixo])\n  f.set(title=titulos[eixo], xlabel=coluna.capitalize(), ylabel='Frequência Absoluta')\n  f.set_xticklabels(labels=f.get_xticklabels(), rotation=90)\n  _, max_y_f = f.get_ylim()\n  max_y = max_y_f if max_y_f > max_y else max_y\n  f.set(ylim=(0, max_y))\n  eixo += 1\n\nfigura.show()",
   "execution_count": null,
   "outputs": []
  },
  {
   "cell_type": "markdown",
   "source": "### **4.2. Visualizações numéricas** ",
   "metadata": {
    "id": "cBIWU4zISIqR",
    "cell_id": "00078-79415075-8b0a-4d59-a7b2-26326260d9c9",
    "deepnote_cell_type": "markdown"
   }
  },
  {
   "cell_type": "markdown",
   "source": "Nesta seção, vamos visualizar a relação entre a variável resposta **default** com os atributos numéricos.",
   "metadata": {
    "id": "DWKf-t4iqpFK",
    "cell_id": "00079-5950a87b-5147-4921-9227-6d667d6dc7e9",
    "deepnote_cell_type": "markdown"
   }
  },
  {
   "cell_type": "code",
   "metadata": {
    "id": "NEEhLdj0qoUd",
    "cell_id": "00080-bbbe3199-3b18-4133-a839-2395058ddcbc",
    "deepnote_cell_type": "code"
   },
   "source": "df.drop(['id', 'default'], axis=1).select_dtypes('number').head(n=5)",
   "execution_count": null,
   "outputs": []
  },
  {
   "cell_type": "markdown",
   "source": " - Quantidade de Transações nos Últimos 12 Meses",
   "metadata": {
    "id": "G7YNmSRQq6fp",
    "cell_id": "00081-e764e4bd-c025-4f65-b656-12fb68efc2b6",
    "deepnote_cell_type": "markdown"
   }
  },
  {
   "cell_type": "code",
   "metadata": {
    "id": "A3O0oQ9sq8XQ",
    "cell_id": "00082-aedb1841-e00e-42f1-8aa1-78dbac3c5f6a",
    "deepnote_cell_type": "code"
   },
   "source": "coluna = 'qtd_transacoes_12m'\ntitulos = ['Qtd. de Transações no Último Ano', 'Qtd. de Transações no Último Ano de Adimplentes', 'Qtd. de Transações no Último Ano de Inadimplentes']\n\neixo = 0\nmax_y = 0\nfigura, eixos = plt.subplots(1,3, figsize=(20, 5), sharex=True)\n\nfor dataframe in [df, df_adimplente, df_inadimplente]:\n\n  f = sns.histplot(x=coluna, data=dataframe, stat='count', ax=eixos[eixo])\n  f.set(title=titulos[eixo], xlabel=coluna.capitalize(), ylabel='Frequência Absoluta')\n\n  _, max_y_f = f.get_ylim()\n  max_y = max_y_f if max_y_f > max_y else max_y\n  f.set(ylim=(0, max_y))\n\n  eixo += 1\n\nfigura.show()",
   "execution_count": null,
   "outputs": []
  },
  {
   "cell_type": "markdown",
   "source": " - Valor das Transações nos Últimos 12 Meses",
   "metadata": {
    "id": "6YqLIvyXtIuN",
    "cell_id": "00083-ebe1de9e-32f3-4bf4-97af-ba77c69c4085",
    "deepnote_cell_type": "markdown"
   }
  },
  {
   "cell_type": "code",
   "metadata": {
    "id": "-tHIbYcetH0J",
    "cell_id": "00084-1bd7a86b-2bfe-4760-abf8-0d59df56f981",
    "deepnote_cell_type": "code"
   },
   "source": "coluna = 'valor_transacoes_12m'\ntitulos = ['Valor das Transações no Último Ano', 'Valor das Transações no Último Ano de Adimplentes', 'Valor das Transações no Último Ano de Inadimplentes']\n\neixo = 0\nmax_y = 0\nfigura, eixos = plt.subplots(1,3, figsize=(20, 5), sharex=True)\n\nfor dataframe in [df, df_adimplente, df_inadimplente]:\n\n  f = sns.histplot(x=coluna, data=dataframe, stat='count', ax=eixos[eixo])\n  f.set(title=titulos[eixo], xlabel=coluna.capitalize(), ylabel='Frequência Absoluta')\n\n  _, max_y_f = f.get_ylim()\n  max_y = max_y_f if max_y_f > max_y else max_y\n  f.set(ylim=(0, max_y))\n\n  eixo += 1\n\nfigura.show()",
   "execution_count": null,
   "outputs": []
  },
  {
   "cell_type": "markdown",
   "source": " - Valor de Transações nos Últimos 12 Meses x Quantidade de Transações nos Últimos 12 Meses",
   "metadata": {
    "id": "10ud8vxqzqjI",
    "cell_id": "00085-48ff5b87-0bf5-4906-a8a3-ff66b6331548",
    "deepnote_cell_type": "markdown"
   }
  },
  {
   "cell_type": "code",
   "metadata": {
    "id": "SjqqF940x-lL",
    "cell_id": "00086-d9d9966d-5fbd-431c-ad68-cddfa481def4",
    "deepnote_cell_type": "code"
   },
   "source": "f = sns.relplot(x='valor_transacoes_12m', y='qtd_transacoes_12m', data=df, hue='default')\n_ = f.set(\n    title='Relação entre Valor e Quantidade de Transações no Último Ano', \n    xlabel='Valor das Transações no Último Ano', \n    ylabel='Quantidade das Transações no Último Ano'\n  )",
   "execution_count": null,
   "outputs": []
  },
  {
   "cell_type": "markdown",
   "source": "## 5\\. Storytelling",
   "metadata": {
    "id": "jtCp7A-6PP28",
    "cell_id": "00087-7e182c6d-7c0d-436f-8031-5f16360c0c5a",
    "deepnote_cell_type": "markdown"
   }
  },
  {
   "cell_type": "markdown",
   "source": "O *storytelling* no contexto de dados é um técnica de apresentação de resultados orientado a dados, ou seja, contar uma história baseada nos *insights* que foram gerados através da análise dos dados. Notebooks como este do Google Colab e os do Kaggle são excelentes ferramentas para conduzir e compartilhar *storytelling* de dados devido a natureza texto-código de suas céluas.",
   "metadata": {
    "id": "h9XpS6Vi1DYz",
    "cell_id": "00088-a509018e-5338-41bc-8aa6-733914e8c2f7",
    "deepnote_cell_type": "markdown"
   }
  },
  {
   "cell_type": "markdown",
   "source": "Para você montar o seu portifólio, eu sugiro a construção de um notebook com a seguinte estrutura (vou disponibiliza-la nos exercícios):\n\n 1. Título;\n 2. Breve descrição do problema;\n 3. Código de importação de bibliotecas;\n 4. Código o download/carregamento/geração de dados;\n 5. Etapa de exploração;\n 6. Etapa de limpeza e transformação;\n 7. Etapa de análise (com visualizações);\n 8. Resumo dos *insights* gerados.\n\nBusquei organizar este notebook desta forma. Ademais, os notebooks presentes na plataforma do Kaggle são excelentes exemplos a serem seguidos, em especial os primeiros colocados em competições.",
   "metadata": {
    "id": "T0H9WWGr17ZI",
    "cell_id": "00089-90cfd725-82c8-44bb-a6df-693bdf59c9de",
    "deepnote_cell_type": "markdown"
   }
  },
  {
   "cell_type": "markdown",
   "source": "Para finalizar, algumas dicas:\n\n 1. Estruture seu código sempre de acordo com as boas práticas PEP8, assim ele será mais legível para o leitor;\n 2. Sempre se preocupe com a aparência dos seus gráficos, todos devem ter (no mínimo) título no topo e nos eixos;\n 3. Use e abuso das células de texto para estruturar seu notebook, siga as mesmas técnicas que eu utilizo nos notebooks do curso para estruturar seu texto.",
   "metadata": {
    "id": "RyRpZU-R3OOy",
    "cell_id": "00090-e90c3863-04e6-4d4c-b72b-a7e732721cd7",
    "deepnote_cell_type": "markdown"
   }
  },
  {
   "cell_type": "markdown",
   "source": "____",
   "metadata": {
    "id": "s4yGtBF2pKG0",
    "cell_id": "00091-8fe469ae-821e-4f2c-a575-cc6f4c248e5f",
    "deepnote_cell_type": "markdown"
   }
  },
  {
   "cell_type": "markdown",
   "source": "Quando terminar, se possível, entra em contato comigo, eu adoraria ver o seu notebook final pronto! Meu LinkedIn está no topo da página, logo após o logo da EBAC. Espero que você tenha gostado, foi um prazer trabalhar com você!\n\nAté a próxima.",
   "metadata": {
    "id": "rr6WbbcQo0hS",
    "cell_id": "00092-c6c33c2b-ac37-4f4f-a626-d9cf48149cff",
    "deepnote_cell_type": "markdown"
   }
  },
  {
   "cell_type": "markdown",
   "source": "<a style='text-decoration:none;line-height:16px;display:flex;color:#5B5B62;padding:10px;justify-content:end;' href='https://deepnote.com?utm_source=created-in-deepnote-cell&projectId=7bc88e6b-e21c-42d6-a070-b420cc720827' target=\"_blank\">\n<img alt='Created in deepnote.com' style='display:inline;max-height:16px;margin:0px;margin-right:7.5px;' src='data:image/svg+xml;base64,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' > </img>\nCreated in <span style='font-weight:600;margin-left:4px;'>Deepnote</span></a>",
   "metadata": {
    "tags": [],
    "created_in_deepnote_cell": true,
    "deepnote_cell_type": "markdown"
   }
  }
 ],
 "nbformat": 4,
 "nbformat_minor": 0,
 "metadata": {
  "colab": {
   "name": "module_10_class.ipynb",
   "provenance": [],
   "collapsed_sections": [],
   "toc_visible": true
  },
  "kernelspec": {
   "name": "python3",
   "display_name": "Python 3"
  },
  "deepnote_notebook_id": "41341bb3-9b28-45fa-8fd2-e1ea1ce3037e",
  "deepnote": {},
  "deepnote_execution_queue": []
 }
}