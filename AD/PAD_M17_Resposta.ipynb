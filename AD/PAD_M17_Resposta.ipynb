{
 "cells": [
  {
   "cell_type": "markdown",
   "source": "<img src=\"https://raw.githubusercontent.com/andre-marcos-perez/ebac-course-utils/main/media/logo/newebac_logo_black_half.png\" alt=\"ebac-logo\">\n\n---\n\n# **Módulo** | Análise de Dados: Análise Exploratória de Dados de Logística II\nCaderno de **Exercícios**<br> \nProfessor [André Perez](https://www.linkedin.com/in/andremarcosperez/)\n\n---",
   "metadata": {
    "id": "KJqp9AANOCtf",
    "cell_id": "00000-1e916056-37b4-40f3-a10f-9a4412c35a68",
    "deepnote_cell_type": "markdown"
   }
  },
  {
   "cell_type": "markdown",
   "source": "# **Tópicos**\n\n<ol type=\"1\">\n  <li>Manipulação;</li>\n  <li>Visualização;</li>\n  <li>Storytelling.</li>\n</ol>\n",
   "metadata": {
    "id": "d9jDtUbDOE1-",
    "cell_id": "00001-bb9aebef-28e6-4777-876e-8157a5ce7c60",
    "deepnote_cell_type": "markdown"
   }
  },
  {
   "cell_type": "markdown",
   "source": "---",
   "metadata": {
    "id": "SmoHgt-lwkpD",
    "cell_id": "00002-b1fc937e-4580-4363-a7eb-90ece962ecdf",
    "deepnote_cell_type": "markdown"
   }
  },
  {
   "cell_type": "markdown",
   "source": "# **Exercícios**",
   "metadata": {
    "id": "GABI6OW8OfQ2",
    "cell_id": "00003-b276df7a-2066-4338-a63c-fb095e28a6c6",
    "deepnote_cell_type": "markdown"
   }
  },
  {
   "cell_type": "markdown",
   "source": "Este *notebook* deve servir como um guia para **você continuar** a construção da sua própria análise exploratória de dados. Fique a vontate para copiar os códigos da aula mas busque explorar os dados ao máximo. Por fim, publique seu *notebook* no [Kaggle](https://www.kaggle.com/).",
   "metadata": {
    "id": "muD1vxozykSC",
    "cell_id": "00004-5fd6b66e-969f-44cd-8ebe-5302eb06e45f",
    "deepnote_cell_type": "markdown"
   }
  },
  {
   "cell_type": "markdown",
   "source": "---",
   "metadata": {
    "id": "zMN1Q3jdwoJm",
    "cell_id": "00005-8c07675e-70ea-43e0-a09f-05fc3c6f1599",
    "deepnote_cell_type": "markdown"
   }
  },
  {
   "cell_type": "markdown",
   "source": "# **Análise Exploratória de Dados de Logística**",
   "metadata": {
    "id": "QRcqbpLpFK5o",
    "cell_id": "00006-e8e92b41-5601-4bc6-9546-b1ab32c39e1e",
    "deepnote_cell_type": "markdown"
   }
  },
  {
   "cell_type": "markdown",
   "source": "## 1\\. Contexto",
   "metadata": {
    "id": "6-CvdKwqFPiW",
    "cell_id": "00007-5b33953c-1484-493a-b4ea-ce68ef99488f",
    "deepnote_cell_type": "markdown"
   }
  },
  {
   "cell_type": "markdown",
   "source": "Escreva uma breve descrição do problema.",
   "metadata": {
    "id": "XRURE1uUFXGw",
    "cell_id": "00008-854d4199-e4c3-4de0-80d3-fe2e8e672e44",
    "deepnote_cell_type": "markdown"
   }
  },
  {
   "cell_type": "markdown",
   "source": "## 2\\. Pacotes e bibliotecas",
   "metadata": {
    "id": "QxukLHaqFnkU",
    "cell_id": "00009-3b493b5a-7922-4769-a210-0491d2c44108",
    "deepnote_cell_type": "markdown"
   }
  },
  {
   "cell_type": "code",
   "metadata": {
    "id": "VXUEW0VrF7XW",
    "cell_id": "00010-275351ef-3634-4e03-b079-df2710166965",
    "deepnote_to_be_reexecuted": false,
    "source_hash": "8b637dff",
    "execution_start": 1640044511817,
    "execution_millis": 16250,
    "deepnote_cell_type": "code"
   },
   "source": "# importe todas as suas bibliotecas aqui, siga os padrões do PEP8:\n#\n# - 1º pacotes nativos do python: json, os, etc.;\n# - 2º pacotes de terceiros: pandas, seabornm etc.;\n# - 3º pacotes que você desenvolveu.\n#\n\nimport json\n\nimport pandas as pd\nimport numpy as np\nimport matplotlib.pyplot as plt\nimport seaborn as sns\n\n!pip install geopandas\nimport geopandas\n\n!pip install geopy\nimport geopy\n\nfrom geopy.geocoders import Nominatim\nfrom geopy.extra.rate_limiter import RateLimiter\n",
   "execution_count": null,
   "outputs": [
    {
     "name": "stdout",
     "text": "Collecting geopandas\n  Downloading geopandas-0.10.2-py2.py3-none-any.whl (1.0 MB)\n\u001b[K     |████████████████████████████████| 1.0 MB 14.9 MB/s \n\u001b[?25hCollecting pyproj>=2.2.0\n  Downloading pyproj-3.2.1-cp37-cp37m-manylinux2010_x86_64.whl (6.3 MB)\n\u001b[K     |████████████████████████████████| 6.3 MB 28.5 MB/s \n\u001b[?25hRequirement already satisfied: pandas>=0.25.0 in /shared-libs/python3.7/py/lib/python3.7/site-packages (from geopandas) (1.2.5)\nRequirement already satisfied: fiona>=1.8 in /shared-libs/python3.7/py/lib/python3.7/site-packages (from geopandas) (1.8.20)\nCollecting shapely>=1.6\n  Downloading Shapely-1.8.0-cp37-cp37m-manylinux_2_5_x86_64.manylinux1_x86_64.whl (1.1 MB)\n\u001b[K     |████████████████████████████████| 1.1 MB 43.1 MB/s \n\u001b[?25hRequirement already satisfied: certifi in /shared-libs/python3.7/py/lib/python3.7/site-packages (from pyproj>=2.2.0->geopandas) (2021.10.8)\nRequirement already satisfied: python-dateutil>=2.7.3 in /shared-libs/python3.7/py-core/lib/python3.7/site-packages (from pandas>=0.25.0->geopandas) (2.8.2)\nRequirement already satisfied: numpy>=1.16.5 in /shared-libs/python3.7/py/lib/python3.7/site-packages (from pandas>=0.25.0->geopandas) (1.19.5)\nRequirement already satisfied: pytz>=2017.3 in /shared-libs/python3.7/py/lib/python3.7/site-packages (from pandas>=0.25.0->geopandas) (2021.3)\nRequirement already satisfied: cligj>=0.5 in /shared-libs/python3.7/py/lib/python3.7/site-packages (from fiona>=1.8->geopandas) (0.7.2)\nRequirement already satisfied: click>=4.0 in /shared-libs/python3.7/py/lib/python3.7/site-packages (from fiona>=1.8->geopandas) (8.0.3)\nRequirement already satisfied: attrs>=17 in /shared-libs/python3.7/py-core/lib/python3.7/site-packages (from fiona>=1.8->geopandas) (21.2.0)\nRequirement already satisfied: setuptools in /root/venv/lib/python3.7/site-packages (from fiona>=1.8->geopandas) (47.1.0)\nRequirement already satisfied: six>=1.7 in /shared-libs/python3.7/py-core/lib/python3.7/site-packages (from fiona>=1.8->geopandas) (1.16.0)\nRequirement already satisfied: click-plugins>=1.0 in /shared-libs/python3.7/py/lib/python3.7/site-packages (from fiona>=1.8->geopandas) (1.1.1)\nRequirement already satisfied: munch in /shared-libs/python3.7/py/lib/python3.7/site-packages (from fiona>=1.8->geopandas) (2.5.0)\nRequirement already satisfied: importlib-metadata; python_version < \"3.8\" in /shared-libs/python3.7/py-core/lib/python3.7/site-packages (from click>=4.0->fiona>=1.8->geopandas) (4.8.2)\nRequirement already satisfied: typing-extensions>=3.6.4; python_version < \"3.8\" in /shared-libs/python3.7/py-core/lib/python3.7/site-packages (from importlib-metadata; python_version < \"3.8\"->click>=4.0->fiona>=1.8->geopandas) (4.0.1)\nRequirement already satisfied: zipp>=0.5 in /shared-libs/python3.7/py-core/lib/python3.7/site-packages (from importlib-metadata; python_version < \"3.8\"->click>=4.0->fiona>=1.8->geopandas) (3.6.0)\nInstalling collected packages: pyproj, shapely, geopandas\nSuccessfully installed geopandas-0.10.2 pyproj-3.2.1 shapely-1.8.0\n\u001b[33mWARNING: You are using pip version 20.1.1; however, version 21.3.1 is available.\nYou should consider upgrading via the '/root/venv/bin/python -m pip install --upgrade pip' command.\u001b[0m\nCollecting geopy\n  Downloading geopy-2.2.0-py3-none-any.whl (118 kB)\n\u001b[K     |████████████████████████████████| 118 kB 26.3 MB/s \n\u001b[?25hCollecting geographiclib<2,>=1.49\n  Downloading geographiclib-1.52-py3-none-any.whl (38 kB)\nInstalling collected packages: geographiclib, geopy\nSuccessfully installed geographiclib-1.52 geopy-2.2.0\n\u001b[33mWARNING: You are using pip version 20.1.1; however, version 21.3.1 is available.\nYou should consider upgrading via the '/root/venv/bin/python -m pip install --upgrade pip' command.\u001b[0m\n",
     "output_type": "stream",
     "data": {}
    }
   ]
  },
  {
   "cell_type": "markdown",
   "source": "## 3\\. Exploração de dados",
   "metadata": {
    "id": "irQxHW1zGkdZ",
    "cell_id": "00011-b5a030ab-7433-44cd-b0c7-81a0f3cb6447",
    "deepnote_cell_type": "markdown"
   }
  },
  {
   "cell_type": "code",
   "metadata": {
    "id": "lxLj8e0GHAnr",
    "cell_id": "00012-4002bfcb-6afb-49e6-ac8f-824edf6ca062",
    "deepnote_to_be_reexecuted": false,
    "source_hash": "5727a57b",
    "execution_start": 1640045214040,
    "execution_millis": 4040,
    "deepnote_output_heights": [
     520.4000244140625
    ],
    "deepnote_cell_type": "code"
   },
   "source": "# faça o código de exploração de dados:\n\n# - coleta de dados;\nwith open('./dados/deliveries.json', mode='r', encoding='utf8') as file:\n    data = json.load(file)\n\ndeliveries_df = pd.DataFrame(data)\n\n# - wrangling da estrutura;\nhub_origin_df = pd.json_normalize(deliveries_df[\"origin\"])\n\ndeliveries_df = pd.merge(left=deliveries_df, right=hub_origin_df, how='inner', left_index=True, right_index=True)\ndeliveries_df = deliveries_df.drop(\"origin\", axis=1)\ndeliveries_df = deliveries_df[[\"name\", \"region\", \"lng\", \"lat\", \"vehicle_capacity\", \"deliveries\"]]\ndeliveries_df.rename(columns={\"lng\": \"hub_lng\", \"lat\": \"hub_lat\"}, inplace=True)\n\ndeliveries_exploded_df = deliveries_df[['deliveries']].explode('deliveries')\n\ndeliveries_normalized_df = pd.concat([\n    pd.DataFrame(deliveries_exploded_df['deliveries'].apply(lambda record: record['size'])).rename(columns={'deliveries': 'delivery_size'}),\n    pd.DataFrame(deliveries_exploded_df['deliveries'].apply(lambda record: record['point']['lng'])).rename(columns={'deliveries': 'delivery_lng'}),\n    pd.DataFrame(deliveries_exploded_df['deliveries'].apply(lambda record: record['point']['lat'])).rename(columns={'deliveries': 'delivery_lat'}),\n], axis=1)\n\ndeliveries_df = deliveries_df.drop('deliveries', axis=1)\ndeliveries_df = pd.merge(left=deliveries_df, right=deliveries_normalized_df, how='right', left_index=True, right_index=True)\ndeliveries_df.reset_index(inplace=True, drop=True)\n\ndeliveries_df.head()",
   "execution_count": null,
   "outputs": [
    {
     "output_type": "execute_result",
     "execution_count": 7,
     "data": {
      "application/vnd.deepnote.dataframe.v3+json": {
       "column_count": 8,
       "row_count": 5,
       "columns": [
        {
         "name": "name",
         "dtype": "object",
         "stats": {
          "unique_count": 1,
          "nan_count": 0,
          "categories": [
           {
            "name": "cvrp-2-df-33",
            "count": 5
           }
          ]
         }
        },
        {
         "name": "region",
         "dtype": "object",
         "stats": {
          "unique_count": 1,
          "nan_count": 0,
          "categories": [
           {
            "name": "df-2",
            "count": 5
           }
          ]
         }
        },
        {
         "name": "hub_lng",
         "dtype": "float64",
         "stats": {
          "unique_count": 1,
          "nan_count": 0,
          "min": "-48.05498915846707",
          "max": "-48.05498915846707",
          "histogram": [
           {
            "bin_start": -48.55498915846707,
            "bin_end": -48.45498915846707,
            "count": 0
           },
           {
            "bin_start": -48.45498915846707,
            "bin_end": -48.35498915846707,
            "count": 0
           },
           {
            "bin_start": -48.35498915846707,
            "bin_end": -48.254989158467076,
            "count": 0
           },
           {
            "bin_start": -48.254989158467076,
            "bin_end": -48.154989158467075,
            "count": 0
           },
           {
            "bin_start": -48.154989158467075,
            "bin_end": -48.05498915846707,
            "count": 0
           },
           {
            "bin_start": -48.05498915846707,
            "bin_end": -47.95498915846707,
            "count": 5
           },
           {
            "bin_start": -47.95498915846707,
            "bin_end": -47.85498915846707,
            "count": 0
           },
           {
            "bin_start": -47.85498915846707,
            "bin_end": -47.754989158467076,
            "count": 0
           },
           {
            "bin_start": -47.754989158467076,
            "bin_end": -47.654989158467075,
            "count": 0
           },
           {
            "bin_start": -47.654989158467075,
            "bin_end": -47.55498915846707,
            "count": 0
           }
          ]
         }
        },
        {
         "name": "hub_lat",
         "dtype": "float64",
         "stats": {
          "unique_count": 1,
          "nan_count": 0,
          "min": "-15.83814451122274",
          "max": "-15.83814451122274",
          "histogram": [
           {
            "bin_start": -16.33814451122274,
            "bin_end": -16.23814451122274,
            "count": 0
           },
           {
            "bin_start": -16.23814451122274,
            "bin_end": -16.13814451122274,
            "count": 0
           },
           {
            "bin_start": -16.13814451122274,
            "bin_end": -16.03814451122274,
            "count": 0
           },
           {
            "bin_start": -16.03814451122274,
            "bin_end": -15.93814451122274,
            "count": 0
           },
           {
            "bin_start": -15.93814451122274,
            "bin_end": -15.83814451122274,
            "count": 0
           },
           {
            "bin_start": -15.83814451122274,
            "bin_end": -15.73814451122274,
            "count": 5
           },
           {
            "bin_start": -15.73814451122274,
            "bin_end": -15.638144511222741,
            "count": 0
           },
           {
            "bin_start": -15.638144511222741,
            "bin_end": -15.53814451122274,
            "count": 0
           },
           {
            "bin_start": -15.53814451122274,
            "bin_end": -15.43814451122274,
            "count": 0
           },
           {
            "bin_start": -15.43814451122274,
            "bin_end": -15.33814451122274,
            "count": 0
           }
          ]
         }
        },
        {
         "name": "vehicle_capacity",
         "dtype": "int64",
         "stats": {
          "unique_count": 1,
          "nan_count": 0,
          "min": "180",
          "max": "180",
          "histogram": [
           {
            "bin_start": 179.5,
            "bin_end": 179.6,
            "count": 0
           },
           {
            "bin_start": 179.6,
            "bin_end": 179.7,
            "count": 0
           },
           {
            "bin_start": 179.7,
            "bin_end": 179.8,
            "count": 0
           },
           {
            "bin_start": 179.8,
            "bin_end": 179.9,
            "count": 0
           },
           {
            "bin_start": 179.9,
            "bin_end": 180,
            "count": 0
           },
           {
            "bin_start": 180,
            "bin_end": 180.1,
            "count": 5
           },
           {
            "bin_start": 180.1,
            "bin_end": 180.2,
            "count": 0
           },
           {
            "bin_start": 180.2,
            "bin_end": 180.3,
            "count": 0
           },
           {
            "bin_start": 180.3,
            "bin_end": 180.4,
            "count": 0
           },
           {
            "bin_start": 180.4,
            "bin_end": 180.5,
            "count": 0
           }
          ]
         }
        },
        {
         "name": "delivery_size",
         "dtype": "int64",
         "stats": {
          "unique_count": 4,
          "nan_count": 0,
          "min": "1",
          "max": "9",
          "histogram": [
           {
            "bin_start": 1,
            "bin_end": 1.8,
            "count": 1
           },
           {
            "bin_start": 1.8,
            "bin_end": 2.6,
            "count": 2
           },
           {
            "bin_start": 2.6,
            "bin_end": 3.4000000000000004,
            "count": 0
           },
           {
            "bin_start": 3.4000000000000004,
            "bin_end": 4.2,
            "count": 0
           },
           {
            "bin_start": 4.2,
            "bin_end": 5,
            "count": 0
           },
           {
            "bin_start": 5,
            "bin_end": 5.800000000000001,
            "count": 0
           },
           {
            "bin_start": 5.800000000000001,
            "bin_end": 6.6000000000000005,
            "count": 0
           },
           {
            "bin_start": 6.6000000000000005,
            "bin_end": 7.4,
            "count": 1
           },
           {
            "bin_start": 7.4,
            "bin_end": 8.2,
            "count": 0
           },
           {
            "bin_start": 8.2,
            "bin_end": 9,
            "count": 1
           }
          ]
         }
        },
        {
         "name": "delivery_lng",
         "dtype": "float64",
         "stats": {
          "unique_count": 5,
          "nan_count": 0,
          "min": "-48.11819489551",
          "max": "-48.11248339849675",
          "histogram": [
           {
            "bin_start": -48.11819489551,
            "bin_end": -48.11762374580868,
            "count": 2
           },
           {
            "bin_start": -48.11762374580868,
            "bin_end": -48.11705259610735,
            "count": 0
           },
           {
            "bin_start": -48.11705259610735,
            "bin_end": -48.11648144640603,
            "count": 0
           },
           {
            "bin_start": -48.11648144640603,
            "bin_end": -48.1159102967047,
            "count": 1
           },
           {
            "bin_start": -48.1159102967047,
            "bin_end": -48.115339147003375,
            "count": 0
           },
           {
            "bin_start": -48.115339147003375,
            "bin_end": -48.11476799730205,
            "count": 1
           },
           {
            "bin_start": -48.11476799730205,
            "bin_end": -48.114196847600724,
            "count": 0
           },
           {
            "bin_start": -48.114196847600724,
            "bin_end": -48.1136256978994,
            "count": 0
           },
           {
            "bin_start": -48.1136256978994,
            "bin_end": -48.11305454819807,
            "count": 0
           },
           {
            "bin_start": -48.11305454819807,
            "bin_end": -48.11248339849675,
            "count": 1
           }
          ]
         }
        },
        {
         "name": "delivery_lat",
         "dtype": "float64",
         "stats": {
          "unique_count": 5,
          "nan_count": 0,
          "min": "-15.85805462185708",
          "max": "-15.846471025281456",
          "histogram": [
           {
            "bin_start": -15.85805462185708,
            "bin_end": -15.856896262199518,
            "count": 1
           },
           {
            "bin_start": -15.856896262199518,
            "bin_end": -15.855737902541955,
            "count": 0
           },
           {
            "bin_start": -15.855737902541955,
            "bin_end": -15.854579542884393,
            "count": 0
           },
           {
            "bin_start": -15.854579542884393,
            "bin_end": -15.85342118322683,
            "count": 0
           },
           {
            "bin_start": -15.85342118322683,
            "bin_end": -15.85226282356927,
            "count": 0
           },
           {
            "bin_start": -15.85226282356927,
            "bin_end": -15.851104463911707,
            "count": 0
           },
           {
            "bin_start": -15.851104463911707,
            "bin_end": -15.849946104254144,
            "count": 1
           },
           {
            "bin_start": -15.849946104254144,
            "bin_end": -15.848787744596581,
            "count": 1
           },
           {
            "bin_start": -15.848787744596581,
            "bin_end": -15.847629384939019,
            "count": 1
           },
           {
            "bin_start": -15.847629384939019,
            "bin_end": -15.846471025281456,
            "count": 1
           }
          ]
         }
        },
        {
         "name": "_deepnote_index_column",
         "dtype": "int64"
        }
       ],
       "rows": [
        {
         "name": "cvrp-2-df-33",
         "region": "df-2",
         "hub_lng": -48.05498915846707,
         "hub_lat": -15.83814451122274,
         "vehicle_capacity": 180,
         "delivery_size": 9,
         "delivery_lng": -48.11618888384239,
         "delivery_lat": -15.848929154862294,
         "_deepnote_index_column": 0
        },
        {
         "name": "cvrp-2-df-33",
         "region": "df-2",
         "hub_lng": -48.05498915846707,
         "hub_lat": -15.83814451122274,
         "vehicle_capacity": 180,
         "delivery_size": 2,
         "delivery_lng": -48.11819489551,
         "delivery_lat": -15.850772371049631,
         "_deepnote_index_column": 1
        },
        {
         "name": "cvrp-2-df-33",
         "region": "df-2",
         "hub_lng": -48.05498915846707,
         "hub_lat": -15.83814451122274,
         "vehicle_capacity": 180,
         "delivery_size": 1,
         "delivery_lng": -48.11248339849675,
         "delivery_lat": -15.84787055941764,
         "_deepnote_index_column": 2
        },
        {
         "name": "cvrp-2-df-33",
         "region": "df-2",
         "hub_lng": -48.05498915846707,
         "hub_lat": -15.83814451122274,
         "vehicle_capacity": 180,
         "delivery_size": 2,
         "delivery_lng": -48.11802268617869,
         "delivery_lat": -15.846471025281456,
         "_deepnote_index_column": 3
        },
        {
         "name": "cvrp-2-df-33",
         "region": "df-2",
         "hub_lng": -48.05498915846707,
         "hub_lat": -15.83814451122274,
         "vehicle_capacity": 180,
         "delivery_size": 7,
         "delivery_lng": -48.114898174591026,
         "delivery_lat": -15.85805462185708,
         "_deepnote_index_column": 4
        }
       ]
      },
      "text/plain": "           name region    hub_lng    hub_lat  vehicle_capacity  delivery_size  \\\n0  cvrp-2-df-33   df-2 -48.054989 -15.838145               180              9   \n1  cvrp-2-df-33   df-2 -48.054989 -15.838145               180              2   \n2  cvrp-2-df-33   df-2 -48.054989 -15.838145               180              1   \n3  cvrp-2-df-33   df-2 -48.054989 -15.838145               180              2   \n4  cvrp-2-df-33   df-2 -48.054989 -15.838145               180              7   \n\n   delivery_lng  delivery_lat  \n0    -48.116189    -15.848929  \n1    -48.118195    -15.850772  \n2    -48.112483    -15.847871  \n3    -48.118023    -15.846471  \n4    -48.114898    -15.858055  ",
      "text/html": "<div>\n<style scoped>\n    .dataframe tbody tr th:only-of-type {\n        vertical-align: middle;\n    }\n\n    .dataframe tbody tr th {\n        vertical-align: top;\n    }\n\n    .dataframe thead th {\n        text-align: right;\n    }\n</style>\n<table border=\"1\" class=\"dataframe\">\n  <thead>\n    <tr style=\"text-align: right;\">\n      <th></th>\n      <th>name</th>\n      <th>region</th>\n      <th>hub_lng</th>\n      <th>hub_lat</th>\n      <th>vehicle_capacity</th>\n      <th>delivery_size</th>\n      <th>delivery_lng</th>\n      <th>delivery_lat</th>\n    </tr>\n  </thead>\n  <tbody>\n    <tr>\n      <th>0</th>\n      <td>cvrp-2-df-33</td>\n      <td>df-2</td>\n      <td>-48.054989</td>\n      <td>-15.838145</td>\n      <td>180</td>\n      <td>9</td>\n      <td>-48.116189</td>\n      <td>-15.848929</td>\n    </tr>\n    <tr>\n      <th>1</th>\n      <td>cvrp-2-df-33</td>\n      <td>df-2</td>\n      <td>-48.054989</td>\n      <td>-15.838145</td>\n      <td>180</td>\n      <td>2</td>\n      <td>-48.118195</td>\n      <td>-15.850772</td>\n    </tr>\n    <tr>\n      <th>2</th>\n      <td>cvrp-2-df-33</td>\n      <td>df-2</td>\n      <td>-48.054989</td>\n      <td>-15.838145</td>\n      <td>180</td>\n      <td>1</td>\n      <td>-48.112483</td>\n      <td>-15.847871</td>\n    </tr>\n    <tr>\n      <th>3</th>\n      <td>cvrp-2-df-33</td>\n      <td>df-2</td>\n      <td>-48.054989</td>\n      <td>-15.838145</td>\n      <td>180</td>\n      <td>2</td>\n      <td>-48.118023</td>\n      <td>-15.846471</td>\n    </tr>\n    <tr>\n      <th>4</th>\n      <td>cvrp-2-df-33</td>\n      <td>df-2</td>\n      <td>-48.054989</td>\n      <td>-15.838145</td>\n      <td>180</td>\n      <td>7</td>\n      <td>-48.114898</td>\n      <td>-15.858055</td>\n    </tr>\n  </tbody>\n</table>\n</div>"
     },
     "metadata": {}
    }
   ]
  },
  {
   "cell_type": "code",
   "metadata": {
    "tags": [],
    "cell_id": "00013-4521f62e-8233-43a9-86de-81f711576b0f",
    "deepnote_to_be_reexecuted": false,
    "source_hash": "4b00cb",
    "execution_start": 1640045398440,
    "execution_millis": 13,
    "deepnote_output_heights": [
     21.199996948242188
    ],
    "deepnote_cell_type": "code"
   },
   "source": "# - conferência da estrutura;\ndeliveries_df.shape",
   "execution_count": null,
   "outputs": [
    {
     "output_type": "execute_result",
     "execution_count": 8,
     "data": {
      "text/plain": "(636149, 8)"
     },
     "metadata": {}
    }
   ]
  },
  {
   "cell_type": "code",
   "metadata": {
    "tags": [],
    "cell_id": "00014-6c341325-fb46-4089-bc7e-f676ec5630d5",
    "deepnote_to_be_reexecuted": false,
    "source_hash": "b7a1fb48",
    "execution_start": 1640045405878,
    "execution_millis": 9,
    "deepnote_output_heights": [
     59.600006103515625
    ],
    "deepnote_cell_type": "code"
   },
   "source": "deliveries_df.columns",
   "execution_count": null,
   "outputs": [
    {
     "output_type": "execute_result",
     "execution_count": 9,
     "data": {
      "text/plain": "Index(['name', 'region', 'hub_lng', 'hub_lat', 'vehicle_capacity',\n       'delivery_size', 'delivery_lng', 'delivery_lat'],\n      dtype='object')"
     },
     "metadata": {}
    }
   ]
  },
  {
   "cell_type": "code",
   "metadata": {
    "tags": [],
    "cell_id": "00015-685213e4-3dd0-4f61-acce-c0ce439cd5bc",
    "deepnote_to_be_reexecuted": false,
    "source_hash": "ae3b1e53",
    "execution_start": 1640045463519,
    "execution_millis": 1,
    "deepnote_output_heights": [
     21.199996948242188
    ],
    "deepnote_cell_type": "code"
   },
   "source": "deliveries_df.index",
   "execution_count": null,
   "outputs": [
    {
     "output_type": "execute_result",
     "execution_count": 10,
     "data": {
      "text/plain": "RangeIndex(start=0, stop=636149, step=1)"
     },
     "metadata": {}
    }
   ]
  },
  {
   "cell_type": "code",
   "metadata": {
    "tags": [],
    "cell_id": "00016-03d82a6c-4fb7-4c7b-aebc-00cb175eaf64",
    "deepnote_to_be_reexecuted": false,
    "source_hash": "d02f8c83",
    "execution_start": 1640045463520,
    "execution_millis": 47,
    "deepnote_cell_type": "code"
   },
   "source": "deliveries_df.info()",
   "execution_count": null,
   "outputs": [
    {
     "name": "stdout",
     "text": "<class 'pandas.core.frame.DataFrame'>\nRangeIndex: 636149 entries, 0 to 636148\nData columns (total 8 columns):\n #   Column            Non-Null Count   Dtype  \n---  ------            --------------   -----  \n 0   name              636149 non-null  object \n 1   region            636149 non-null  object \n 2   hub_lng           636149 non-null  float64\n 3   hub_lat           636149 non-null  float64\n 4   vehicle_capacity  636149 non-null  int64  \n 5   delivery_size     636149 non-null  int64  \n 6   delivery_lng      636149 non-null  float64\n 7   delivery_lat      636149 non-null  float64\ndtypes: float64(4), int64(2), object(2)\nmemory usage: 38.8+ MB\n",
     "output_type": "stream",
     "data": {}
    }
   ]
  },
  {
   "cell_type": "code",
   "metadata": {
    "tags": [],
    "cell_id": "00017-31b5346b-433c-4b3f-9892-6ddaec28c1a9",
    "deepnote_to_be_reexecuted": false,
    "source_hash": "6b6553e0",
    "execution_start": 1640045540768,
    "execution_millis": 2,
    "deepnote_output_heights": [
     174.8000030517578
    ],
    "deepnote_cell_type": "code"
   },
   "source": "# - exploração do esquema;\ndeliveries_df.dtypes",
   "execution_count": null,
   "outputs": [
    {
     "output_type": "execute_result",
     "execution_count": 12,
     "data": {
      "text/plain": "name                 object\nregion               object\nhub_lng             float64\nhub_lat             float64\nvehicle_capacity      int64\ndelivery_size         int64\ndelivery_lng        float64\ndelivery_lat        float64\ndtype: object"
     },
     "metadata": {}
    }
   ]
  },
  {
   "cell_type": "code",
   "metadata": {
    "tags": [],
    "cell_id": "00018-52203349-e65f-47cf-870a-25e4ed2cd6a4",
    "deepnote_to_be_reexecuted": false,
    "source_hash": "171da7ab",
    "execution_start": 1640045540769,
    "execution_millis": 244,
    "deepnote_cell_type": "code"
   },
   "source": "deliveries_df.select_dtypes('object').describe().T",
   "execution_count": null,
   "outputs": [
    {
     "output_type": "execute_result",
     "execution_count": 13,
     "data": {
      "application/vnd.deepnote.dataframe.v3+json": {
       "column_count": 4,
       "row_count": 2,
       "columns": [
        {
         "name": "count",
         "dtype": "object",
         "stats": {
          "unique_count": 1,
          "nan_count": 0,
          "categories": [
           {
            "name": "636149",
            "count": 2
           }
          ]
         }
        },
        {
         "name": "unique",
         "dtype": "object",
         "stats": {
          "unique_count": 2,
          "nan_count": 0,
          "categories": [
           {
            "name": "199",
            "count": 1
           },
           {
            "name": "3",
            "count": 1
           }
          ]
         }
        },
        {
         "name": "top",
         "dtype": "object",
         "stats": {
          "unique_count": 2,
          "nan_count": 0,
          "categories": [
           {
            "name": "cvrp-1-df-87",
            "count": 1
           },
           {
            "name": "df-1",
            "count": 1
           }
          ]
         }
        },
        {
         "name": "freq",
         "dtype": "object",
         "stats": {
          "unique_count": 2,
          "nan_count": 0,
          "categories": [
           {
            "name": "5636",
            "count": 1
           },
           {
            "name": "304708",
            "count": 1
           }
          ]
         }
        },
        {
         "name": "_deepnote_index_column",
         "dtype": "object"
        }
       ],
       "rows": [
        {
         "count": "636149",
         "unique": "199",
         "top": "cvrp-1-df-87",
         "freq": "5636",
         "_deepnote_index_column": "name"
        },
        {
         "count": "636149",
         "unique": "3",
         "top": "df-1",
         "freq": "304708",
         "_deepnote_index_column": "region"
        }
       ]
      },
      "text/plain": "         count unique           top    freq\nname    636149    199  cvrp-1-df-87    5636\nregion  636149      3          df-1  304708",
      "text/html": "<div>\n<style scoped>\n    .dataframe tbody tr th:only-of-type {\n        vertical-align: middle;\n    }\n\n    .dataframe tbody tr th {\n        vertical-align: top;\n    }\n\n    .dataframe thead th {\n        text-align: right;\n    }\n</style>\n<table border=\"1\" class=\"dataframe\">\n  <thead>\n    <tr style=\"text-align: right;\">\n      <th></th>\n      <th>count</th>\n      <th>unique</th>\n      <th>top</th>\n      <th>freq</th>\n    </tr>\n  </thead>\n  <tbody>\n    <tr>\n      <th>name</th>\n      <td>636149</td>\n      <td>199</td>\n      <td>cvrp-1-df-87</td>\n      <td>5636</td>\n    </tr>\n    <tr>\n      <th>region</th>\n      <td>636149</td>\n      <td>3</td>\n      <td>df-1</td>\n      <td>304708</td>\n    </tr>\n  </tbody>\n</table>\n</div>"
     },
     "metadata": {}
    }
   ]
  },
  {
   "cell_type": "code",
   "metadata": {
    "tags": [],
    "cell_id": "00019-5a2ca003-7182-4a27-a39a-cb16bf45ccd7",
    "deepnote_to_be_reexecuted": false,
    "source_hash": "f054d674",
    "execution_start": 1640045563481,
    "execution_millis": 126,
    "deepnote_cell_type": "code"
   },
   "source": "deliveries_df.select_dtypes('int64').describe().T\n",
   "execution_count": null,
   "outputs": [
    {
     "output_type": "execute_result",
     "execution_count": 14,
     "data": {
      "application/vnd.deepnote.dataframe.v3+json": {
       "column_count": 8,
       "row_count": 2,
       "columns": [
        {
         "name": "count",
         "dtype": "float64",
         "stats": {
          "unique_count": 1,
          "nan_count": 0,
          "min": "636149.0",
          "max": "636149.0",
          "histogram": [
           {
            "bin_start": 636148.5,
            "bin_end": 636148.6,
            "count": 0
           },
           {
            "bin_start": 636148.6,
            "bin_end": 636148.7,
            "count": 0
           },
           {
            "bin_start": 636148.7,
            "bin_end": 636148.8,
            "count": 0
           },
           {
            "bin_start": 636148.8,
            "bin_end": 636148.9,
            "count": 0
           },
           {
            "bin_start": 636148.9,
            "bin_end": 636149,
            "count": 0
           },
           {
            "bin_start": 636149,
            "bin_end": 636149.1,
            "count": 2
           },
           {
            "bin_start": 636149.1,
            "bin_end": 636149.2,
            "count": 0
           },
           {
            "bin_start": 636149.2,
            "bin_end": 636149.3,
            "count": 0
           },
           {
            "bin_start": 636149.3,
            "bin_end": 636149.4,
            "count": 0
           },
           {
            "bin_start": 636149.4,
            "bin_end": 636149.5,
            "count": 0
           }
          ]
         }
        },
        {
         "name": "mean",
         "dtype": "float64",
         "stats": {
          "unique_count": 2,
          "nan_count": 0,
          "min": "5.512111156348591",
          "max": "180.0",
          "histogram": [
           {
            "bin_start": 5.512111156348591,
            "bin_end": 22.96090004071373,
            "count": 1
           },
           {
            "bin_start": 22.96090004071373,
            "bin_end": 40.40968892507887,
            "count": 0
           },
           {
            "bin_start": 40.40968892507887,
            "bin_end": 57.858477809444004,
            "count": 0
           },
           {
            "bin_start": 57.858477809444004,
            "bin_end": 75.30726669380915,
            "count": 0
           },
           {
            "bin_start": 75.30726669380915,
            "bin_end": 92.7560555781743,
            "count": 0
           },
           {
            "bin_start": 92.7560555781743,
            "bin_end": 110.20484446253943,
            "count": 0
           },
           {
            "bin_start": 110.20484446253943,
            "bin_end": 127.65363334690457,
            "count": 0
           },
           {
            "bin_start": 127.65363334690457,
            "bin_end": 145.1024222312697,
            "count": 0
           },
           {
            "bin_start": 145.1024222312697,
            "bin_end": 162.55121111563486,
            "count": 0
           },
           {
            "bin_start": 162.55121111563486,
            "bin_end": 180,
            "count": 1
           }
          ]
         }
        },
        {
         "name": "std",
         "dtype": "float64",
         "stats": {
          "unique_count": 2,
          "nan_count": 0,
          "min": "0.0",
          "max": "2.8745568442139064",
          "histogram": [
           {
            "bin_start": 0,
            "bin_end": 0.28745568442139063,
            "count": 1
           },
           {
            "bin_start": 0.28745568442139063,
            "bin_end": 0.5749113688427813,
            "count": 0
           },
           {
            "bin_start": 0.5749113688427813,
            "bin_end": 0.8623670532641718,
            "count": 0
           },
           {
            "bin_start": 0.8623670532641718,
            "bin_end": 1.1498227376855625,
            "count": 0
           },
           {
            "bin_start": 1.1498227376855625,
            "bin_end": 1.4372784221069532,
            "count": 0
           },
           {
            "bin_start": 1.4372784221069532,
            "bin_end": 1.7247341065283437,
            "count": 0
           },
           {
            "bin_start": 1.7247341065283437,
            "bin_end": 2.0121897909497344,
            "count": 0
           },
           {
            "bin_start": 2.0121897909497344,
            "bin_end": 2.299645475371125,
            "count": 0
           },
           {
            "bin_start": 2.299645475371125,
            "bin_end": 2.5871011597925158,
            "count": 0
           },
           {
            "bin_start": 2.5871011597925158,
            "bin_end": 2.8745568442139064,
            "count": 1
           }
          ]
         }
        },
        {
         "name": "min",
         "dtype": "float64",
         "stats": {
          "unique_count": 2,
          "nan_count": 0,
          "min": "1.0",
          "max": "180.0",
          "histogram": [
           {
            "bin_start": 1,
            "bin_end": 18.9,
            "count": 1
           },
           {
            "bin_start": 18.9,
            "bin_end": 36.8,
            "count": 0
           },
           {
            "bin_start": 36.8,
            "bin_end": 54.699999999999996,
            "count": 0
           },
           {
            "bin_start": 54.699999999999996,
            "bin_end": 72.6,
            "count": 0
           },
           {
            "bin_start": 72.6,
            "bin_end": 90.5,
            "count": 0
           },
           {
            "bin_start": 90.5,
            "bin_end": 108.39999999999999,
            "count": 0
           },
           {
            "bin_start": 108.39999999999999,
            "bin_end": 126.29999999999998,
            "count": 0
           },
           {
            "bin_start": 126.29999999999998,
            "bin_end": 144.2,
            "count": 0
           },
           {
            "bin_start": 144.2,
            "bin_end": 162.1,
            "count": 0
           },
           {
            "bin_start": 162.1,
            "bin_end": 180,
            "count": 1
           }
          ]
         }
        },
        {
         "name": "25%",
         "dtype": "float64",
         "stats": {
          "unique_count": 2,
          "nan_count": 0,
          "min": "3.0",
          "max": "180.0",
          "histogram": [
           {
            "bin_start": 3,
            "bin_end": 20.7,
            "count": 1
           },
           {
            "bin_start": 20.7,
            "bin_end": 38.4,
            "count": 0
           },
           {
            "bin_start": 38.4,
            "bin_end": 56.099999999999994,
            "count": 0
           },
           {
            "bin_start": 56.099999999999994,
            "bin_end": 73.8,
            "count": 0
           },
           {
            "bin_start": 73.8,
            "bin_end": 91.5,
            "count": 0
           },
           {
            "bin_start": 91.5,
            "bin_end": 109.19999999999999,
            "count": 0
           },
           {
            "bin_start": 109.19999999999999,
            "bin_end": 126.89999999999999,
            "count": 0
           },
           {
            "bin_start": 126.89999999999999,
            "bin_end": 144.6,
            "count": 0
           },
           {
            "bin_start": 144.6,
            "bin_end": 162.29999999999998,
            "count": 0
           },
           {
            "bin_start": 162.29999999999998,
            "bin_end": 180,
            "count": 1
           }
          ]
         }
        },
        {
         "name": "50%",
         "dtype": "float64",
         "stats": {
          "unique_count": 2,
          "nan_count": 0,
          "min": "6.0",
          "max": "180.0",
          "histogram": [
           {
            "bin_start": 6,
            "bin_end": 23.4,
            "count": 1
           },
           {
            "bin_start": 23.4,
            "bin_end": 40.8,
            "count": 0
           },
           {
            "bin_start": 40.8,
            "bin_end": 58.199999999999996,
            "count": 0
           },
           {
            "bin_start": 58.199999999999996,
            "bin_end": 75.6,
            "count": 0
           },
           {
            "bin_start": 75.6,
            "bin_end": 93,
            "count": 0
           },
           {
            "bin_start": 93,
            "bin_end": 110.39999999999999,
            "count": 0
           },
           {
            "bin_start": 110.39999999999999,
            "bin_end": 127.79999999999998,
            "count": 0
           },
           {
            "bin_start": 127.79999999999998,
            "bin_end": 145.2,
            "count": 0
           },
           {
            "bin_start": 145.2,
            "bin_end": 162.6,
            "count": 0
           },
           {
            "bin_start": 162.6,
            "bin_end": 180,
            "count": 1
           }
          ]
         }
        },
        {
         "name": "75%",
         "dtype": "float64",
         "stats": {
          "unique_count": 2,
          "nan_count": 0,
          "min": "8.0",
          "max": "180.0",
          "histogram": [
           {
            "bin_start": 8,
            "bin_end": 25.2,
            "count": 1
           },
           {
            "bin_start": 25.2,
            "bin_end": 42.4,
            "count": 0
           },
           {
            "bin_start": 42.4,
            "bin_end": 59.599999999999994,
            "count": 0
           },
           {
            "bin_start": 59.599999999999994,
            "bin_end": 76.8,
            "count": 0
           },
           {
            "bin_start": 76.8,
            "bin_end": 94,
            "count": 0
           },
           {
            "bin_start": 94,
            "bin_end": 111.19999999999999,
            "count": 0
           },
           {
            "bin_start": 111.19999999999999,
            "bin_end": 128.39999999999998,
            "count": 0
           },
           {
            "bin_start": 128.39999999999998,
            "bin_end": 145.6,
            "count": 0
           },
           {
            "bin_start": 145.6,
            "bin_end": 162.79999999999998,
            "count": 0
           },
           {
            "bin_start": 162.79999999999998,
            "bin_end": 180,
            "count": 1
           }
          ]
         }
        },
        {
         "name": "max",
         "dtype": "float64",
         "stats": {
          "unique_count": 2,
          "nan_count": 0,
          "min": "10.0",
          "max": "180.0",
          "histogram": [
           {
            "bin_start": 10,
            "bin_end": 27,
            "count": 1
           },
           {
            "bin_start": 27,
            "bin_end": 44,
            "count": 0
           },
           {
            "bin_start": 44,
            "bin_end": 61,
            "count": 0
           },
           {
            "bin_start": 61,
            "bin_end": 78,
            "count": 0
           },
           {
            "bin_start": 78,
            "bin_end": 95,
            "count": 0
           },
           {
            "bin_start": 95,
            "bin_end": 112,
            "count": 0
           },
           {
            "bin_start": 112,
            "bin_end": 129,
            "count": 0
           },
           {
            "bin_start": 129,
            "bin_end": 146,
            "count": 0
           },
           {
            "bin_start": 146,
            "bin_end": 163,
            "count": 0
           },
           {
            "bin_start": 163,
            "bin_end": 180,
            "count": 1
           }
          ]
         }
        },
        {
         "name": "_deepnote_index_column",
         "dtype": "object"
        }
       ],
       "rows": [
        {
         "count": 636149,
         "mean": 180,
         "std": 0,
         "min": 180,
         "25%": 180,
         "50%": 180,
         "75%": 180,
         "max": 180,
         "_deepnote_index_column": "vehicle_capacity"
        },
        {
         "count": 636149,
         "mean": 5.512111156348591,
         "std": 2.8745568442139064,
         "min": 1,
         "25%": 3,
         "50%": 6,
         "75%": 8,
         "max": 10,
         "_deepnote_index_column": "delivery_size"
        }
       ]
      },
      "text/plain": "                     count        mean       std    min    25%    50%    75%  \\\nvehicle_capacity  636149.0  180.000000  0.000000  180.0  180.0  180.0  180.0   \ndelivery_size     636149.0    5.512111  2.874557    1.0    3.0    6.0    8.0   \n\n                    max  \nvehicle_capacity  180.0  \ndelivery_size      10.0  ",
      "text/html": "<div>\n<style scoped>\n    .dataframe tbody tr th:only-of-type {\n        vertical-align: middle;\n    }\n\n    .dataframe tbody tr th {\n        vertical-align: top;\n    }\n\n    .dataframe thead th {\n        text-align: right;\n    }\n</style>\n<table border=\"1\" class=\"dataframe\">\n  <thead>\n    <tr style=\"text-align: right;\">\n      <th></th>\n      <th>count</th>\n      <th>mean</th>\n      <th>std</th>\n      <th>min</th>\n      <th>25%</th>\n      <th>50%</th>\n      <th>75%</th>\n      <th>max</th>\n    </tr>\n  </thead>\n  <tbody>\n    <tr>\n      <th>vehicle_capacity</th>\n      <td>636149.0</td>\n      <td>180.000000</td>\n      <td>0.000000</td>\n      <td>180.0</td>\n      <td>180.0</td>\n      <td>180.0</td>\n      <td>180.0</td>\n      <td>180.0</td>\n    </tr>\n    <tr>\n      <th>delivery_size</th>\n      <td>636149.0</td>\n      <td>5.512111</td>\n      <td>2.874557</td>\n      <td>1.0</td>\n      <td>3.0</td>\n      <td>6.0</td>\n      <td>8.0</td>\n      <td>10.0</td>\n    </tr>\n  </tbody>\n</table>\n</div>"
     },
     "metadata": {}
    }
   ]
  },
  {
   "cell_type": "markdown",
   "source": "## 4\\. Manipulação",
   "metadata": {
    "id": "98hexQTyJS9I",
    "cell_id": "00013-61e30d7b-36c6-4f7e-87bd-513bde21b569",
    "deepnote_cell_type": "markdown"
   }
  },
  {
   "cell_type": "code",
   "metadata": {
    "id": "DXU4Ee0QJS9Q",
    "cell_id": "00014-f1354f90-8675-4eb0-ace2-1ef426a23d65",
    "deepnote_cell_type": "code"
   },
   "source": "# faça o código de manipulação de dados:\n#\n# - enriquecimento;\n# - controle de qualidade;\n# - etc.\n",
   "execution_count": null,
   "outputs": []
  },
  {
   "cell_type": "markdown",
   "source": "## 5\\. Visualização",
   "metadata": {
    "id": "KSgjP--1JS9R",
    "cell_id": "00015-c8f11bc5-c0b0-4ec9-8492-a8e342cae94f",
    "deepnote_cell_type": "markdown"
   }
  },
  {
   "cell_type": "code",
   "metadata": {
    "id": "Jlj3ACWCJS9R",
    "cell_id": "00016-85851703-6980-4f8c-89d6-e730153ac6b5",
    "deepnote_cell_type": "code"
   },
   "source": "# faça o código de visualização de dados:\n#\n# - produza pelo menos duas visualizações;\n# - adicione um pequeno texto com os insights encontrados;\n# - etc.",
   "execution_count": null,
   "outputs": []
  },
  {
   "cell_type": "markdown",
   "source": "<a style='text-decoration:none;line-height:16px;display:flex;color:#5B5B62;padding:10px;justify-content:end;' href='https://deepnote.com?utm_source=created-in-deepnote-cell&projectId=690ec1aa-ed7a-4520-b902-aba6fc5867d1' target=\"_blank\">\n<img alt='Created in deepnote.com' style='display:inline;max-height:16px;margin:0px;margin-right:7.5px;' src='data:image/svg+xml;base64,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' > </img>\nCreated in <span style='font-weight:600;margin-left:4px;'>Deepnote</span></a>",
   "metadata": {
    "tags": [],
    "created_in_deepnote_cell": true,
    "deepnote_cell_type": "markdown"
   }
  }
 ],
 "nbformat": 4,
 "nbformat_minor": 0,
 "metadata": {
  "colab": {
   "authorship_tag": "ABX9TyO58SjEKvZru6fhTie9JEM/",
   "collapsed_sections": [],
   "name": "module_17_exercise.ipynb",
   "provenance": [],
   "toc_visible": true
  },
  "deepnote_notebook_id": "838f5497-3c7f-4bf7-b70c-e682ac511b51",
  "kernelspec": {
   "display_name": "Python 3",
   "name": "python3"
  },
  "language_info": {
   "codemirror_mode": {
    "name": "ipython",
    "version": 3
   },
   "file_extension": ".py",
   "mimetype": "text/x-python",
   "name": "python",
   "nbconvert_exporter": "python",
   "pygments_lexer": "ipython3",
   "version": "3.10.1"
  },
  "deepnote": {},
  "deepnote_execution_queue": []
 }
}