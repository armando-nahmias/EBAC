{
 "cells": [
  {
   "cell_type": "markdown",
   "source": "<img src=\"https://raw.githubusercontent.com/andre-marcos-perez/ebac-course-utils/main/media/logo/newebac_logo_black_half.png\" alt=\"ebac-logo\">\n\n---\n\n# **Módulo** | Análise de Dados: Data Wrangling II\nCaderno de **Aula**<br> \nProfessor [André Perez](https://www.linkedin.com/in/andremarcosperez/)\n\n---",
   "metadata": {
    "id": "KJqp9AANOCtf",
    "cell_id": "00000-b7f7385a-9306-43fe-ba61-28f651858c7c",
    "deepnote_cell_type": "markdown"
   }
  },
  {
   "cell_type": "markdown",
   "source": "# **Tópicos**\n\n<ol type=\"1\">\n  <li>Agregação e Ordenação;</li>\n  <li>Combinação;</li>\n  <li>Técnicas Avançadas.</li>\n</ol>",
   "metadata": {
    "id": "d9jDtUbDOE1-",
    "cell_id": "00001-284e3cd7-8ec3-480a-8963-4fd2c7bf66b5",
    "deepnote_cell_type": "markdown"
   }
  },
  {
   "cell_type": "markdown",
   "source": "---",
   "metadata": {
    "id": "SmoHgt-lwkpD",
    "cell_id": "00002-2efa0264-2c23-4504-b094-f038f5f6e82a",
    "deepnote_cell_type": "markdown"
   }
  },
  {
   "cell_type": "markdown",
   "source": "# **Aulas**",
   "metadata": {
    "id": "GABI6OW8OfQ2",
    "cell_id": "00003-b2d32799-1b10-4f88-82a3-a39eaadb5558",
    "deepnote_cell_type": "markdown"
   }
  },
  {
   "cell_type": "markdown",
   "source": "## 0\\. Estruturas de dados",
   "metadata": {
    "id": "eJ283bopLqLU",
    "cell_id": "00004-139d7ba2-6ad1-412a-80f8-af9e03b29235",
    "deepnote_cell_type": "markdown"
   }
  },
  {
   "cell_type": "markdown",
   "source": "*   **Não estruturado**: texto, imagem, aúdio, etc.\n*   **Semi estruturado**: html, json, etc.\n*   <font color='red'>**Estruturado**</font>: tabelas, planilhas, etc.\n\n",
   "metadata": {
    "id": "0gmSAOdOLqLU",
    "cell_id": "00005-0bdbf2d8-d62b-4df8-9b9c-5ea8daccbf7d",
    "deepnote_cell_type": "markdown"
   }
  },
  {
   "cell_type": "markdown",
   "source": "## 1\\. Agregações e Ordenação",
   "metadata": {
    "id": "muD1vxozykSC",
    "cell_id": "00006-152da942-5a43-41fc-97af-6a2e01771317",
    "deepnote_cell_type": "markdown"
   }
  },
  {
   "cell_type": "markdown",
   "source": "**Arquivo CSV:** github.csv",
   "metadata": {
    "id": "fKMu_4U76NJu",
    "cell_id": "00007-e1ab071e-b1b6-4607-a6e4-8eaf4b045df2",
    "deepnote_cell_type": "markdown"
   }
  },
  {
   "cell_type": "code",
   "metadata": {
    "id": "c3XbMbyT6NJv",
    "cell_id": "00008-445b63c4-900f-434b-9287-00c6c34e9de7",
    "deepnote_to_be_reexecuted": false,
    "source_hash": "46b627be",
    "execution_start": 1639097321919,
    "execution_millis": 3,
    "deepnote_cell_type": "code"
   },
   "source": "%%writefile github.csv\nranking;project;language;stars;stars_today;forks\n1;plow;go;1304;574;38\n2;n8n;typescript;15668;280;1370\n3;slides;go;3218;265;80\n4;defi-developer-road-map;;636;247;49\n5;pytorch-image-models;python;11065;101;1646\n6;javascript-algorithms;javascript;110768;248;18331\n7;paddleclas;python;1429;283;323\n8;reddit_sentiment_trader;python;369;71;60\n9;augly;python;2849;393;99\n10;self-taught-guide-to-cloud-computing;;863;179;84",
   "execution_count": null,
   "outputs": [
    {
     "name": "stdout",
     "text": "Overwriting github.csv\n",
     "output_type": "stream"
    }
   ]
  },
  {
   "cell_type": "markdown",
   "source": "**DataFrame:** github_df",
   "metadata": {
    "id": "9y3xrTko6nd1",
    "cell_id": "00009-0585c63e-f4d1-4957-b864-19d128254fda",
    "deepnote_cell_type": "markdown"
   }
  },
  {
   "cell_type": "code",
   "metadata": {
    "id": "ELMJkIhp6NJw",
    "cell_id": "00010-3c8b46a0-9710-42a7-9d90-3f5f06d697d7",
    "deepnote_to_be_reexecuted": false,
    "source_hash": "419bdc6f",
    "execution_start": 1639097321946,
    "execution_millis": 0,
    "deepnote_cell_type": "code"
   },
   "source": "import pandas as pd\n\ngithub_df = pd.read_csv('github.csv', sep=';')",
   "execution_count": null,
   "outputs": []
  },
  {
   "cell_type": "code",
   "metadata": {
    "id": "aLeegU8R6NJx",
    "cell_id": "00011-5c1b505d-53aa-4cc2-9574-1c79b4ddd4a1",
    "deepnote_to_be_reexecuted": false,
    "source_hash": "45e1eb39",
    "execution_start": 1639097321967,
    "execution_millis": 68,
    "deepnote_cell_type": "code"
   },
   "source": "github_df",
   "execution_count": null,
   "outputs": [
    {
     "output_type": "execute_result",
     "execution_count": 3,
     "data": {
      "application/vnd.deepnote.dataframe.v2+json": {
       "row_count": 10,
       "column_count": 6,
       "columns": [
        {
         "name": "ranking",
         "dtype": "int64",
         "stats": {
          "unique_count": 10,
          "nan_count": 0,
          "min": "1",
          "max": "10",
          "histogram": [
           {
            "bin_start": 1,
            "bin_end": 1.9,
            "count": 1
           },
           {
            "bin_start": 1.9,
            "bin_end": 2.8,
            "count": 1
           },
           {
            "bin_start": 2.8,
            "bin_end": 3.7,
            "count": 1
           },
           {
            "bin_start": 3.7,
            "bin_end": 4.6,
            "count": 1
           },
           {
            "bin_start": 4.6,
            "bin_end": 5.5,
            "count": 1
           },
           {
            "bin_start": 5.5,
            "bin_end": 6.4,
            "count": 1
           },
           {
            "bin_start": 6.4,
            "bin_end": 7.3,
            "count": 1
           },
           {
            "bin_start": 7.3,
            "bin_end": 8.2,
            "count": 1
           },
           {
            "bin_start": 8.2,
            "bin_end": 9.1,
            "count": 1
           },
           {
            "bin_start": 9.1,
            "bin_end": 10,
            "count": 1
           }
          ]
         }
        },
        {
         "name": "project",
         "dtype": "object",
         "stats": {
          "unique_count": 10,
          "nan_count": 0,
          "categories": [
           {
            "name": "plow",
            "count": 1
           },
           {
            "name": "n8n",
            "count": 1
           },
           {
            "name": "8 others",
            "count": 8
           }
          ]
         }
        },
        {
         "name": "language",
         "dtype": "object",
         "stats": {
          "unique_count": 4,
          "nan_count": 2,
          "categories": [
           {
            "name": "python",
            "count": 4
           },
           {
            "name": "3 others",
            "count": 4
           },
           {
            "name": "Missing",
            "count": 2
           }
          ]
         }
        },
        {
         "name": "stars",
         "dtype": "int64",
         "stats": {
          "unique_count": 10,
          "nan_count": 0,
          "min": "369",
          "max": "110768",
          "histogram": [
           {
            "bin_start": 369,
            "bin_end": 11408.9,
            "count": 8
           },
           {
            "bin_start": 11408.9,
            "bin_end": 22448.8,
            "count": 1
           },
           {
            "bin_start": 22448.8,
            "bin_end": 33488.7,
            "count": 0
           },
           {
            "bin_start": 33488.7,
            "bin_end": 44528.6,
            "count": 0
           },
           {
            "bin_start": 44528.6,
            "bin_end": 55568.5,
            "count": 0
           },
           {
            "bin_start": 55568.5,
            "bin_end": 66608.4,
            "count": 0
           },
           {
            "bin_start": 66608.4,
            "bin_end": 77648.3,
            "count": 0
           },
           {
            "bin_start": 77648.3,
            "bin_end": 88688.2,
            "count": 0
           },
           {
            "bin_start": 88688.2,
            "bin_end": 99728.09999999999,
            "count": 0
           },
           {
            "bin_start": 99728.09999999999,
            "bin_end": 110768,
            "count": 1
           }
          ]
         }
        },
        {
         "name": "stars_today",
         "dtype": "int64",
         "stats": {
          "unique_count": 10,
          "nan_count": 0,
          "min": "71",
          "max": "574",
          "histogram": [
           {
            "bin_start": 71,
            "bin_end": 121.3,
            "count": 2
           },
           {
            "bin_start": 121.3,
            "bin_end": 171.6,
            "count": 0
           },
           {
            "bin_start": 171.6,
            "bin_end": 221.89999999999998,
            "count": 1
           },
           {
            "bin_start": 221.89999999999998,
            "bin_end": 272.2,
            "count": 3
           },
           {
            "bin_start": 272.2,
            "bin_end": 322.5,
            "count": 2
           },
           {
            "bin_start": 322.5,
            "bin_end": 372.79999999999995,
            "count": 0
           },
           {
            "bin_start": 372.79999999999995,
            "bin_end": 423.09999999999997,
            "count": 1
           },
           {
            "bin_start": 423.09999999999997,
            "bin_end": 473.4,
            "count": 0
           },
           {
            "bin_start": 473.4,
            "bin_end": 523.7,
            "count": 0
           },
           {
            "bin_start": 523.7,
            "bin_end": 574,
            "count": 1
           }
          ]
         }
        },
        {
         "name": "forks",
         "dtype": "int64",
         "stats": {
          "unique_count": 10,
          "nan_count": 0,
          "min": "38",
          "max": "18331",
          "histogram": [
           {
            "bin_start": 38,
            "bin_end": 1867.3,
            "count": 9
           },
           {
            "bin_start": 1867.3,
            "bin_end": 3696.6,
            "count": 0
           },
           {
            "bin_start": 3696.6,
            "bin_end": 5525.9,
            "count": 0
           },
           {
            "bin_start": 5525.9,
            "bin_end": 7355.2,
            "count": 0
           },
           {
            "bin_start": 7355.2,
            "bin_end": 9184.5,
            "count": 0
           },
           {
            "bin_start": 9184.5,
            "bin_end": 11013.8,
            "count": 0
           },
           {
            "bin_start": 11013.8,
            "bin_end": 12843.1,
            "count": 0
           },
           {
            "bin_start": 12843.1,
            "bin_end": 14672.4,
            "count": 0
           },
           {
            "bin_start": 14672.4,
            "bin_end": 16501.7,
            "count": 0
           },
           {
            "bin_start": 16501.7,
            "bin_end": 18331,
            "count": 1
           }
          ]
         }
        },
        {
         "name": "_deepnote_index_column",
         "dtype": "int64"
        }
       ],
       "rows_top": [
        {
         "ranking": 1,
         "project": "plow",
         "language": "go",
         "stars": 1304,
         "stars_today": 574,
         "forks": 38,
         "_deepnote_index_column": 0
        },
        {
         "ranking": 2,
         "project": "n8n",
         "language": "typescript",
         "stars": 15668,
         "stars_today": 280,
         "forks": 1370,
         "_deepnote_index_column": 1
        },
        {
         "ranking": 3,
         "project": "slides",
         "language": "go",
         "stars": 3218,
         "stars_today": 265,
         "forks": 80,
         "_deepnote_index_column": 2
        },
        {
         "ranking": 4,
         "project": "defi-developer-road-map",
         "language": "nan",
         "stars": 636,
         "stars_today": 247,
         "forks": 49,
         "_deepnote_index_column": 3
        },
        {
         "ranking": 5,
         "project": "pytorch-image-models",
         "language": "python",
         "stars": 11065,
         "stars_today": 101,
         "forks": 1646,
         "_deepnote_index_column": 4
        },
        {
         "ranking": 6,
         "project": "javascript-algorithms",
         "language": "javascript",
         "stars": 110768,
         "stars_today": 248,
         "forks": 18331,
         "_deepnote_index_column": 5
        },
        {
         "ranking": 7,
         "project": "paddleclas",
         "language": "python",
         "stars": 1429,
         "stars_today": 283,
         "forks": 323,
         "_deepnote_index_column": 6
        },
        {
         "ranking": 8,
         "project": "reddit_sentiment_trader",
         "language": "python",
         "stars": 369,
         "stars_today": 71,
         "forks": 60,
         "_deepnote_index_column": 7
        },
        {
         "ranking": 9,
         "project": "augly",
         "language": "python",
         "stars": 2849,
         "stars_today": 393,
         "forks": 99,
         "_deepnote_index_column": 8
        },
        {
         "ranking": 10,
         "project": "self-taught-guide-to-cloud-computing",
         "language": "nan",
         "stars": 863,
         "stars_today": 179,
         "forks": 84,
         "_deepnote_index_column": 9
        }
       ],
       "rows_bottom": null
      },
      "text/plain": "   ranking                               project    language   stars  \\\n0        1                                  plow          go    1304   \n1        2                                   n8n  typescript   15668   \n2        3                                slides          go    3218   \n3        4               defi-developer-road-map         NaN     636   \n4        5                  pytorch-image-models      python   11065   \n5        6                 javascript-algorithms  javascript  110768   \n6        7                            paddleclas      python    1429   \n7        8               reddit_sentiment_trader      python     369   \n8        9                                 augly      python    2849   \n9       10  self-taught-guide-to-cloud-computing         NaN     863   \n\n   stars_today  forks  \n0          574     38  \n1          280   1370  \n2          265     80  \n3          247     49  \n4          101   1646  \n5          248  18331  \n6          283    323  \n7           71     60  \n8          393     99  \n9          179     84  ",
      "text/html": "<div>\n<style scoped>\n    .dataframe tbody tr th:only-of-type {\n        vertical-align: middle;\n    }\n\n    .dataframe tbody tr th {\n        vertical-align: top;\n    }\n\n    .dataframe thead th {\n        text-align: right;\n    }\n</style>\n<table border=\"1\" class=\"dataframe\">\n  <thead>\n    <tr style=\"text-align: right;\">\n      <th></th>\n      <th>ranking</th>\n      <th>project</th>\n      <th>language</th>\n      <th>stars</th>\n      <th>stars_today</th>\n      <th>forks</th>\n    </tr>\n  </thead>\n  <tbody>\n    <tr>\n      <th>0</th>\n      <td>1</td>\n      <td>plow</td>\n      <td>go</td>\n      <td>1304</td>\n      <td>574</td>\n      <td>38</td>\n    </tr>\n    <tr>\n      <th>1</th>\n      <td>2</td>\n      <td>n8n</td>\n      <td>typescript</td>\n      <td>15668</td>\n      <td>280</td>\n      <td>1370</td>\n    </tr>\n    <tr>\n      <th>2</th>\n      <td>3</td>\n      <td>slides</td>\n      <td>go</td>\n      <td>3218</td>\n      <td>265</td>\n      <td>80</td>\n    </tr>\n    <tr>\n      <th>3</th>\n      <td>4</td>\n      <td>defi-developer-road-map</td>\n      <td>NaN</td>\n      <td>636</td>\n      <td>247</td>\n      <td>49</td>\n    </tr>\n    <tr>\n      <th>4</th>\n      <td>5</td>\n      <td>pytorch-image-models</td>\n      <td>python</td>\n      <td>11065</td>\n      <td>101</td>\n      <td>1646</td>\n    </tr>\n    <tr>\n      <th>5</th>\n      <td>6</td>\n      <td>javascript-algorithms</td>\n      <td>javascript</td>\n      <td>110768</td>\n      <td>248</td>\n      <td>18331</td>\n    </tr>\n    <tr>\n      <th>6</th>\n      <td>7</td>\n      <td>paddleclas</td>\n      <td>python</td>\n      <td>1429</td>\n      <td>283</td>\n      <td>323</td>\n    </tr>\n    <tr>\n      <th>7</th>\n      <td>8</td>\n      <td>reddit_sentiment_trader</td>\n      <td>python</td>\n      <td>369</td>\n      <td>71</td>\n      <td>60</td>\n    </tr>\n    <tr>\n      <th>8</th>\n      <td>9</td>\n      <td>augly</td>\n      <td>python</td>\n      <td>2849</td>\n      <td>393</td>\n      <td>99</td>\n    </tr>\n    <tr>\n      <th>9</th>\n      <td>10</td>\n      <td>self-taught-guide-to-cloud-computing</td>\n      <td>NaN</td>\n      <td>863</td>\n      <td>179</td>\n      <td>84</td>\n    </tr>\n  </tbody>\n</table>\n</div>"
     },
     "metadata": {}
    }
   ]
  },
  {
   "cell_type": "markdown",
   "source": "### **1.1. Agregações** ",
   "metadata": {
    "id": "5a3_syBIP6yO",
    "cell_id": "00012-36d8727a-eee0-47da-a436-9766e07385fe",
    "deepnote_cell_type": "markdown"
   }
  },
  {
   "cell_type": "markdown",
   "source": "Uma agregação é o processo de resumir um conjunto de dados através de uma métrica agregada, como soma, média, máximo, mínimo, etc.",
   "metadata": {
    "id": "NglCEvJDmqkw",
    "cell_id": "00013-79a293c4-20df-4a73-b29c-37fe4d43976d",
    "deepnote_cell_type": "markdown"
   }
  },
  {
   "cell_type": "markdown",
   "source": "**Exemplo**: Agregação de dados com o método `describe`.",
   "metadata": {
    "id": "eBpN50Xn692K",
    "cell_id": "00014-52dd67d4-fd4b-4d28-9f33-15a4982b6c8c",
    "deepnote_cell_type": "markdown"
   }
  },
  {
   "cell_type": "code",
   "metadata": {
    "id": "da_FFYmvGk02",
    "cell_id": "00015-e63c8e23-432d-4707-9a54-c0037b57a0e7",
    "deepnote_to_be_reexecuted": false,
    "source_hash": "4688a3bc",
    "execution_start": 1639097322046,
    "execution_millis": 46,
    "deepnote_cell_type": "code"
   },
   "source": "describe_df = github_df[['ranking', 'stars', 'stars_today', 'forks']].describe().T # colunas numéricas",
   "execution_count": null,
   "outputs": []
  },
  {
   "cell_type": "code",
   "metadata": {
    "id": "pvq6nMap6fet",
    "cell_id": "00016-4a93dc4a-6fde-4800-8dc2-03377b47fba0",
    "deepnote_to_be_reexecuted": false,
    "source_hash": "285bc138",
    "execution_start": 1639097322161,
    "execution_millis": 34,
    "deepnote_cell_type": "code"
   },
   "source": "describe_df",
   "execution_count": null,
   "outputs": [
    {
     "output_type": "execute_result",
     "execution_count": 5,
     "data": {
      "application/vnd.deepnote.dataframe.v2+json": {
       "row_count": 4,
       "column_count": 8,
       "columns": [
        {
         "name": "count",
         "dtype": "float64",
         "stats": {
          "unique_count": 1,
          "nan_count": 0,
          "min": "10.0",
          "max": "10.0",
          "histogram": [
           {
            "bin_start": 9.5,
            "bin_end": 9.6,
            "count": 0
           },
           {
            "bin_start": 9.6,
            "bin_end": 9.7,
            "count": 0
           },
           {
            "bin_start": 9.7,
            "bin_end": 9.8,
            "count": 0
           },
           {
            "bin_start": 9.8,
            "bin_end": 9.9,
            "count": 0
           },
           {
            "bin_start": 9.9,
            "bin_end": 10,
            "count": 0
           },
           {
            "bin_start": 10,
            "bin_end": 10.1,
            "count": 4
           },
           {
            "bin_start": 10.1,
            "bin_end": 10.2,
            "count": 0
           },
           {
            "bin_start": 10.2,
            "bin_end": 10.3,
            "count": 0
           },
           {
            "bin_start": 10.3,
            "bin_end": 10.4,
            "count": 0
           },
           {
            "bin_start": 10.4,
            "bin_end": 10.5,
            "count": 0
           }
          ]
         }
        },
        {
         "name": "mean",
         "dtype": "float64",
         "stats": {
          "unique_count": 4,
          "nan_count": 0,
          "min": "5.5",
          "max": "14816.9",
          "histogram": [
           {
            "bin_start": 5.5,
            "bin_end": 1486.6399999999999,
            "count": 2
           },
           {
            "bin_start": 1486.6399999999999,
            "bin_end": 2967.7799999999997,
            "count": 1
           },
           {
            "bin_start": 2967.7799999999997,
            "bin_end": 4448.92,
            "count": 0
           },
           {
            "bin_start": 4448.92,
            "bin_end": 5930.0599999999995,
            "count": 0
           },
           {
            "bin_start": 5930.0599999999995,
            "bin_end": 7411.199999999999,
            "count": 0
           },
           {
            "bin_start": 7411.199999999999,
            "bin_end": 8892.34,
            "count": 0
           },
           {
            "bin_start": 8892.34,
            "bin_end": 10373.48,
            "count": 0
           },
           {
            "bin_start": 10373.48,
            "bin_end": 11854.619999999999,
            "count": 0
           },
           {
            "bin_start": 11854.619999999999,
            "bin_end": 13335.759999999998,
            "count": 0
           },
           {
            "bin_start": 13335.759999999998,
            "bin_end": 14816.9,
            "count": 1
           }
          ]
         }
        },
        {
         "name": "std",
         "dtype": "float64",
         "stats": {
          "unique_count": 4,
          "nan_count": 0,
          "min": "3.0276503540974917",
          "max": "34100.4483921318",
          "histogram": [
           {
            "bin_start": 3.0276503540974917,
            "bin_end": 3412.769724531868,
            "count": 2
           },
           {
            "bin_start": 3412.769724531868,
            "bin_end": 6822.511798709638,
            "count": 1
           },
           {
            "bin_start": 6822.511798709638,
            "bin_end": 10232.253872887408,
            "count": 0
           },
           {
            "bin_start": 10232.253872887408,
            "bin_end": 13641.99594706518,
            "count": 0
           },
           {
            "bin_start": 13641.99594706518,
            "bin_end": 17051.738021242953,
            "count": 0
           },
           {
            "bin_start": 17051.738021242953,
            "bin_end": 20461.48009542072,
            "count": 0
           },
           {
            "bin_start": 20461.48009542072,
            "bin_end": 23871.22216959849,
            "count": 0
           },
           {
            "bin_start": 23871.22216959849,
            "bin_end": 27280.964243776263,
            "count": 0
           },
           {
            "bin_start": 27280.964243776263,
            "bin_end": 30690.706317954035,
            "count": 0
           },
           {
            "bin_start": 30690.706317954035,
            "bin_end": 34100.4483921318,
            "count": 1
           }
          ]
         }
        },
        {
         "name": "min",
         "dtype": "float64",
         "stats": {
          "unique_count": 4,
          "nan_count": 0,
          "min": "1.0",
          "max": "369.0",
          "histogram": [
           {
            "bin_start": 1,
            "bin_end": 37.8,
            "count": 1
           },
           {
            "bin_start": 37.8,
            "bin_end": 74.6,
            "count": 2
           },
           {
            "bin_start": 74.6,
            "bin_end": 111.39999999999999,
            "count": 0
           },
           {
            "bin_start": 111.39999999999999,
            "bin_end": 148.2,
            "count": 0
           },
           {
            "bin_start": 148.2,
            "bin_end": 185,
            "count": 0
           },
           {
            "bin_start": 185,
            "bin_end": 221.79999999999998,
            "count": 0
           },
           {
            "bin_start": 221.79999999999998,
            "bin_end": 258.59999999999997,
            "count": 0
           },
           {
            "bin_start": 258.59999999999997,
            "bin_end": 295.4,
            "count": 0
           },
           {
            "bin_start": 295.4,
            "bin_end": 332.2,
            "count": 0
           },
           {
            "bin_start": 332.2,
            "bin_end": 369,
            "count": 1
           }
          ]
         }
        },
        {
         "name": "25%",
         "dtype": "float64",
         "stats": {
          "unique_count": 4,
          "nan_count": 0,
          "min": "3.25",
          "max": "973.25",
          "histogram": [
           {
            "bin_start": 3.25,
            "bin_end": 100.25,
            "count": 2
           },
           {
            "bin_start": 100.25,
            "bin_end": 197.25,
            "count": 1
           },
           {
            "bin_start": 197.25,
            "bin_end": 294.25,
            "count": 0
           },
           {
            "bin_start": 294.25,
            "bin_end": 391.25,
            "count": 0
           },
           {
            "bin_start": 391.25,
            "bin_end": 488.25,
            "count": 0
           },
           {
            "bin_start": 488.25,
            "bin_end": 585.25,
            "count": 0
           },
           {
            "bin_start": 585.25,
            "bin_end": 682.25,
            "count": 0
           },
           {
            "bin_start": 682.25,
            "bin_end": 779.25,
            "count": 0
           },
           {
            "bin_start": 779.25,
            "bin_end": 876.25,
            "count": 0
           },
           {
            "bin_start": 876.25,
            "bin_end": 973.25,
            "count": 1
           }
          ]
         }
        },
        {
         "name": "50%",
         "dtype": "float64",
         "stats": {
          "unique_count": 4,
          "nan_count": 0,
          "min": "5.5",
          "max": "2139.0",
          "histogram": [
           {
            "bin_start": 5.5,
            "bin_end": 218.85,
            "count": 2
           },
           {
            "bin_start": 218.85,
            "bin_end": 432.2,
            "count": 1
           },
           {
            "bin_start": 432.2,
            "bin_end": 645.55,
            "count": 0
           },
           {
            "bin_start": 645.55,
            "bin_end": 858.9,
            "count": 0
           },
           {
            "bin_start": 858.9,
            "bin_end": 1072.25,
            "count": 0
           },
           {
            "bin_start": 1072.25,
            "bin_end": 1285.6,
            "count": 0
           },
           {
            "bin_start": 1285.6,
            "bin_end": 1498.95,
            "count": 0
           },
           {
            "bin_start": 1498.95,
            "bin_end": 1712.3,
            "count": 0
           },
           {
            "bin_start": 1712.3,
            "bin_end": 1925.6499999999999,
            "count": 0
           },
           {
            "bin_start": 1925.6499999999999,
            "bin_end": 2139,
            "count": 1
           }
          ]
         }
        },
        {
         "name": "75%",
         "dtype": "float64",
         "stats": {
          "unique_count": 4,
          "nan_count": 0,
          "min": "7.75",
          "max": "9103.25",
          "histogram": [
           {
            "bin_start": 7.75,
            "bin_end": 917.3,
            "count": 2
           },
           {
            "bin_start": 917.3,
            "bin_end": 1826.85,
            "count": 1
           },
           {
            "bin_start": 1826.85,
            "bin_end": 2736.3999999999996,
            "count": 0
           },
           {
            "bin_start": 2736.3999999999996,
            "bin_end": 3645.95,
            "count": 0
           },
           {
            "bin_start": 3645.95,
            "bin_end": 4555.5,
            "count": 0
           },
           {
            "bin_start": 4555.5,
            "bin_end": 5465.049999999999,
            "count": 0
           },
           {
            "bin_start": 5465.049999999999,
            "bin_end": 6374.599999999999,
            "count": 0
           },
           {
            "bin_start": 6374.599999999999,
            "bin_end": 7284.15,
            "count": 0
           },
           {
            "bin_start": 7284.15,
            "bin_end": 8193.7,
            "count": 0
           },
           {
            "bin_start": 8193.7,
            "bin_end": 9103.25,
            "count": 1
           }
          ]
         }
        },
        {
         "name": "max",
         "dtype": "float64",
         "stats": {
          "unique_count": 4,
          "nan_count": 0,
          "min": "10.0",
          "max": "110768.0",
          "histogram": [
           {
            "bin_start": 10,
            "bin_end": 11085.8,
            "count": 2
           },
           {
            "bin_start": 11085.8,
            "bin_end": 22161.6,
            "count": 1
           },
           {
            "bin_start": 22161.6,
            "bin_end": 33237.399999999994,
            "count": 0
           },
           {
            "bin_start": 33237.399999999994,
            "bin_end": 44313.2,
            "count": 0
           },
           {
            "bin_start": 44313.2,
            "bin_end": 55389,
            "count": 0
           },
           {
            "bin_start": 55389,
            "bin_end": 66464.79999999999,
            "count": 0
           },
           {
            "bin_start": 66464.79999999999,
            "bin_end": 77540.59999999999,
            "count": 0
           },
           {
            "bin_start": 77540.59999999999,
            "bin_end": 88616.4,
            "count": 0
           },
           {
            "bin_start": 88616.4,
            "bin_end": 99692.2,
            "count": 0
           },
           {
            "bin_start": 99692.2,
            "bin_end": 110768,
            "count": 1
           }
          ]
         }
        },
        {
         "name": "_deepnote_index_column",
         "dtype": "object"
        }
       ],
       "rows_top": [
        {
         "count": 10,
         "mean": 5.5,
         "std": 3.0276503540974917,
         "min": 1,
         "25%": 3.25,
         "50%": 5.5,
         "75%": 7.75,
         "max": 10,
         "_deepnote_index_column": "ranking"
        },
        {
         "count": 10,
         "mean": 14816.9,
         "std": 34100.4483921318,
         "min": 369,
         "25%": 973.25,
         "50%": 2139,
         "75%": 9103.25,
         "max": 110768,
         "_deepnote_index_column": "stars"
        },
        {
         "count": 10,
         "mean": 264.1,
         "std": 143.3515104753192,
         "min": 71,
         "25%": 196,
         "50%": 256.5,
         "75%": 282.25,
         "max": 574,
         "_deepnote_index_column": "stars_today"
        },
        {
         "count": 10,
         "mean": 2208,
         "std": 5695.945614596793,
         "min": 38,
         "25%": 65,
         "50%": 91.5,
         "75%": 1108.25,
         "max": 18331,
         "_deepnote_index_column": "forks"
        }
       ],
       "rows_bottom": null
      },
      "text/plain": "             count     mean           std    min     25%     50%      75%  \\\nranking       10.0      5.5      3.027650    1.0    3.25     5.5     7.75   \nstars         10.0  14816.9  34100.448392  369.0  973.25  2139.0  9103.25   \nstars_today   10.0    264.1    143.351510   71.0  196.00   256.5   282.25   \nforks         10.0   2208.0   5695.945615   38.0   65.00    91.5  1108.25   \n\n                  max  \nranking          10.0  \nstars        110768.0  \nstars_today     574.0  \nforks         18331.0  ",
      "text/html": "<div>\n<style scoped>\n    .dataframe tbody tr th:only-of-type {\n        vertical-align: middle;\n    }\n\n    .dataframe tbody tr th {\n        vertical-align: top;\n    }\n\n    .dataframe thead th {\n        text-align: right;\n    }\n</style>\n<table border=\"1\" class=\"dataframe\">\n  <thead>\n    <tr style=\"text-align: right;\">\n      <th></th>\n      <th>count</th>\n      <th>mean</th>\n      <th>std</th>\n      <th>min</th>\n      <th>25%</th>\n      <th>50%</th>\n      <th>75%</th>\n      <th>max</th>\n    </tr>\n  </thead>\n  <tbody>\n    <tr>\n      <th>ranking</th>\n      <td>10.0</td>\n      <td>5.5</td>\n      <td>3.027650</td>\n      <td>1.0</td>\n      <td>3.25</td>\n      <td>5.5</td>\n      <td>7.75</td>\n      <td>10.0</td>\n    </tr>\n    <tr>\n      <th>stars</th>\n      <td>10.0</td>\n      <td>14816.9</td>\n      <td>34100.448392</td>\n      <td>369.0</td>\n      <td>973.25</td>\n      <td>2139.0</td>\n      <td>9103.25</td>\n      <td>110768.0</td>\n    </tr>\n    <tr>\n      <th>stars_today</th>\n      <td>10.0</td>\n      <td>264.1</td>\n      <td>143.351510</td>\n      <td>71.0</td>\n      <td>196.00</td>\n      <td>256.5</td>\n      <td>282.25</td>\n      <td>574.0</td>\n    </tr>\n    <tr>\n      <th>forks</th>\n      <td>10.0</td>\n      <td>2208.0</td>\n      <td>5695.945615</td>\n      <td>38.0</td>\n      <td>65.00</td>\n      <td>91.5</td>\n      <td>1108.25</td>\n      <td>18331.0</td>\n    </tr>\n  </tbody>\n</table>\n</div>"
     },
     "metadata": {}
    }
   ]
  },
  {
   "cell_type": "code",
   "metadata": {
    "id": "Uw1IObLV6gdn",
    "cell_id": "00017-5e238dd4-0ac4-4b3f-ac8e-5ecf19bd81b3",
    "deepnote_to_be_reexecuted": false,
    "source_hash": "9217a451",
    "execution_start": 1639097322204,
    "execution_millis": 19,
    "deepnote_output_heights": [
     21.199996948242188
    ],
    "deepnote_cell_type": "code"
   },
   "source": "describe_df.loc['stars', 'max']",
   "execution_count": null,
   "outputs": [
    {
     "output_type": "execute_result",
     "execution_count": 6,
     "data": {
      "text/plain": "110768.0"
     },
     "metadata": {}
    }
   ]
  },
  {
   "cell_type": "markdown",
   "source": "**Exemplo**: Agregação com o método `agg`.\n",
   "metadata": {
    "id": "Z9atO2Ri5Ono",
    "cell_id": "00018-9ae9faf1-2a6b-4ee0-9e56-23827e272742",
    "deepnote_cell_type": "markdown"
   }
  },
  {
   "cell_type": "code",
   "metadata": {
    "id": "lCHiVPtL4lPr",
    "cell_id": "00019-b27ffdcb-852b-4b91-a221-9aae3144d2d8",
    "deepnote_to_be_reexecuted": false,
    "source_hash": "1f6943f8",
    "execution_start": 1639097322227,
    "execution_millis": 17,
    "deepnote_cell_type": "code"
   },
   "source": "sum_series = github_df[['stars', 'stars_today', 'forks']].agg('sum')",
   "execution_count": null,
   "outputs": []
  },
  {
   "cell_type": "code",
   "metadata": {
    "id": "8pqLFwHk6Vue",
    "cell_id": "00020-5b973ce3-f8b6-42f3-9e14-25e6111d7416",
    "deepnote_to_be_reexecuted": false,
    "source_hash": "6a588ff8",
    "execution_start": 1639097322248,
    "execution_millis": 26,
    "deepnote_output_heights": [
     78.80000305175781
    ],
    "deepnote_cell_type": "code"
   },
   "source": "sum_series",
   "execution_count": null,
   "outputs": [
    {
     "output_type": "execute_result",
     "execution_count": 8,
     "data": {
      "text/plain": "stars          148169\nstars_today      2641\nforks           22080\ndtype: int64"
     },
     "metadata": {}
    }
   ]
  },
  {
   "cell_type": "code",
   "metadata": {
    "id": "CUrdORYu6rmS",
    "cell_id": "00021-98629289-8668-4527-975a-c7c42746e9dd",
    "deepnote_to_be_reexecuted": false,
    "source_hash": "21e452be",
    "execution_start": 1639097322280,
    "execution_millis": 14,
    "deepnote_output_heights": [
     21.199996948242188
    ],
    "deepnote_cell_type": "code"
   },
   "source": "sum_series.loc['stars']",
   "execution_count": null,
   "outputs": [
    {
     "output_type": "execute_result",
     "execution_count": 9,
     "data": {
      "text/plain": "148169"
     },
     "metadata": {}
    }
   ]
  },
  {
   "cell_type": "markdown",
   "source": "**Exemplo**: Agregação com o método `agg` com múltiplas métricas.",
   "metadata": {
    "id": "0ZB6_PNi86G5",
    "cell_id": "00022-c7897822-140c-4f8a-8889-114a4c471c9e",
    "deepnote_cell_type": "markdown"
   }
  },
  {
   "cell_type": "code",
   "metadata": {
    "id": "1tPYQsg57L82",
    "cell_id": "00023-3184562b-8569-4efa-946b-809fa9939411",
    "deepnote_to_be_reexecuted": false,
    "source_hash": "69027450",
    "execution_start": 1639097322347,
    "execution_millis": 0,
    "deepnote_cell_type": "code"
   },
   "source": "mean_max_df = github_df[['stars', 'stars_today', 'forks']].agg(['mean', 'max'])",
   "execution_count": null,
   "outputs": []
  },
  {
   "cell_type": "code",
   "metadata": {
    "id": "DOGSp3f29GgM",
    "cell_id": "00024-4c88d54a-c1b1-468d-8d05-6e9864401fb1",
    "deepnote_to_be_reexecuted": false,
    "source_hash": "752fc00a",
    "execution_start": 1639097322391,
    "execution_millis": 78,
    "deepnote_cell_type": "code"
   },
   "source": "mean_max_df",
   "execution_count": null,
   "outputs": [
    {
     "output_type": "execute_result",
     "execution_count": 11,
     "data": {
      "application/vnd.deepnote.dataframe.v2+json": {
       "row_count": 2,
       "column_count": 3,
       "columns": [
        {
         "name": "stars",
         "dtype": "float64",
         "stats": {
          "unique_count": 2,
          "nan_count": 0,
          "min": "14816.9",
          "max": "110768.0",
          "histogram": [
           {
            "bin_start": 14816.9,
            "bin_end": 24412.010000000002,
            "count": 1
           },
           {
            "bin_start": 24412.010000000002,
            "bin_end": 34007.12,
            "count": 0
           },
           {
            "bin_start": 34007.12,
            "bin_end": 43602.23,
            "count": 0
           },
           {
            "bin_start": 43602.23,
            "bin_end": 53197.340000000004,
            "count": 0
           },
           {
            "bin_start": 53197.340000000004,
            "bin_end": 62792.450000000004,
            "count": 0
           },
           {
            "bin_start": 62792.450000000004,
            "bin_end": 72387.56,
            "count": 0
           },
           {
            "bin_start": 72387.56,
            "bin_end": 81982.67,
            "count": 0
           },
           {
            "bin_start": 81982.67,
            "bin_end": 91577.78,
            "count": 0
           },
           {
            "bin_start": 91577.78,
            "bin_end": 101172.89,
            "count": 0
           },
           {
            "bin_start": 101172.89,
            "bin_end": 110768,
            "count": 1
           }
          ]
         }
        },
        {
         "name": "stars_today",
         "dtype": "float64",
         "stats": {
          "unique_count": 2,
          "nan_count": 0,
          "min": "264.1",
          "max": "574.0",
          "histogram": [
           {
            "bin_start": 264.1,
            "bin_end": 295.09000000000003,
            "count": 1
           },
           {
            "bin_start": 295.09000000000003,
            "bin_end": 326.08000000000004,
            "count": 0
           },
           {
            "bin_start": 326.08000000000004,
            "bin_end": 357.07000000000005,
            "count": 0
           },
           {
            "bin_start": 357.07000000000005,
            "bin_end": 388.06,
            "count": 0
           },
           {
            "bin_start": 388.06,
            "bin_end": 419.05,
            "count": 0
           },
           {
            "bin_start": 419.05,
            "bin_end": 450.04,
            "count": 0
           },
           {
            "bin_start": 450.04,
            "bin_end": 481.03,
            "count": 0
           },
           {
            "bin_start": 481.03,
            "bin_end": 512.02,
            "count": 0
           },
           {
            "bin_start": 512.02,
            "bin_end": 543.01,
            "count": 0
           },
           {
            "bin_start": 543.01,
            "bin_end": 574,
            "count": 1
           }
          ]
         }
        },
        {
         "name": "forks",
         "dtype": "float64",
         "stats": {
          "unique_count": 2,
          "nan_count": 0,
          "min": "2208.0",
          "max": "18331.0",
          "histogram": [
           {
            "bin_start": 2208,
            "bin_end": 3820.3,
            "count": 1
           },
           {
            "bin_start": 3820.3,
            "bin_end": 5432.6,
            "count": 0
           },
           {
            "bin_start": 5432.6,
            "bin_end": 7044.9,
            "count": 0
           },
           {
            "bin_start": 7044.9,
            "bin_end": 8657.2,
            "count": 0
           },
           {
            "bin_start": 8657.2,
            "bin_end": 10269.5,
            "count": 0
           },
           {
            "bin_start": 10269.5,
            "bin_end": 11881.8,
            "count": 0
           },
           {
            "bin_start": 11881.8,
            "bin_end": 13494.1,
            "count": 0
           },
           {
            "bin_start": 13494.1,
            "bin_end": 15106.4,
            "count": 0
           },
           {
            "bin_start": 15106.4,
            "bin_end": 16718.699999999997,
            "count": 0
           },
           {
            "bin_start": 16718.699999999997,
            "bin_end": 18331,
            "count": 1
           }
          ]
         }
        },
        {
         "name": "_deepnote_index_column",
         "dtype": "object"
        }
       ],
       "rows_top": [
        {
         "stars": 14816.9,
         "stars_today": 264.1,
         "forks": 2208,
         "_deepnote_index_column": "mean"
        },
        {
         "stars": 110768,
         "stars_today": 574,
         "forks": 18331,
         "_deepnote_index_column": "max"
        }
       ],
       "rows_bottom": null
      },
      "text/plain": "         stars  stars_today    forks\nmean   14816.9        264.1   2208.0\nmax   110768.0        574.0  18331.0",
      "text/html": "<div>\n<style scoped>\n    .dataframe tbody tr th:only-of-type {\n        vertical-align: middle;\n    }\n\n    .dataframe tbody tr th {\n        vertical-align: top;\n    }\n\n    .dataframe thead th {\n        text-align: right;\n    }\n</style>\n<table border=\"1\" class=\"dataframe\">\n  <thead>\n    <tr style=\"text-align: right;\">\n      <th></th>\n      <th>stars</th>\n      <th>stars_today</th>\n      <th>forks</th>\n    </tr>\n  </thead>\n  <tbody>\n    <tr>\n      <th>mean</th>\n      <td>14816.9</td>\n      <td>264.1</td>\n      <td>2208.0</td>\n    </tr>\n    <tr>\n      <th>max</th>\n      <td>110768.0</td>\n      <td>574.0</td>\n      <td>18331.0</td>\n    </tr>\n  </tbody>\n</table>\n</div>"
     },
     "metadata": {}
    }
   ]
  },
  {
   "cell_type": "code",
   "metadata": {
    "id": "RrIWDxp79G42",
    "cell_id": "00025-b48c7d5b-6ce3-4faa-9b18-34646657cc6a",
    "deepnote_to_be_reexecuted": false,
    "source_hash": "fecb6d57",
    "execution_start": 1639097322442,
    "execution_millis": 27,
    "deepnote_output_heights": [
     21.199996948242188
    ],
    "deepnote_cell_type": "code"
   },
   "source": "mean_max_df.loc['mean', 'stars']",
   "execution_count": null,
   "outputs": [
    {
     "output_type": "execute_result",
     "execution_count": 12,
     "data": {
      "text/plain": "14816.9"
     },
     "metadata": {}
    }
   ]
  },
  {
   "cell_type": "markdown",
   "source": "**Exemplo**: Agregação por grupos com os métodos `groupby` e `agg`.\n",
   "metadata": {
    "id": "ww4Bwr5H7YZz",
    "cell_id": "00026-219d4535-2827-43d2-8435-ae6ed47d1e36",
    "deepnote_cell_type": "markdown"
   }
  },
  {
   "cell_type": "code",
   "metadata": {
    "id": "FRcRvEU57ygV",
    "cell_id": "00027-3f2bb959-c956-4869-86d9-243076272905",
    "deepnote_to_be_reexecuted": false,
    "source_hash": "6462ce45",
    "execution_start": 1639097322483,
    "execution_millis": 0,
    "deepnote_cell_type": "code"
   },
   "source": "grouped_sum_df = github_df[['language', 'stars', 'stars_today', 'forks']].groupby('language').agg('sum')",
   "execution_count": null,
   "outputs": []
  },
  {
   "cell_type": "code",
   "metadata": {
    "id": "rShIT84Q7qAW",
    "cell_id": "00028-e1f53221-c56c-402e-b1c5-c40053bc110d",
    "deepnote_to_be_reexecuted": false,
    "source_hash": "a70add25",
    "execution_start": 1639097322524,
    "execution_millis": 3,
    "deepnote_cell_type": "code"
   },
   "source": "grouped_sum_df",
   "execution_count": null,
   "outputs": [
    {
     "output_type": "execute_result",
     "execution_count": 14,
     "data": {
      "application/vnd.deepnote.dataframe.v2+json": {
       "row_count": 4,
       "column_count": 3,
       "columns": [
        {
         "name": "stars",
         "dtype": "int64",
         "stats": {
          "unique_count": 4,
          "nan_count": 0,
          "min": "4522",
          "max": "110768",
          "histogram": [
           {
            "bin_start": 4522,
            "bin_end": 15146.6,
            "count": 1
           },
           {
            "bin_start": 15146.6,
            "bin_end": 25771.2,
            "count": 2
           },
           {
            "bin_start": 25771.2,
            "bin_end": 36395.8,
            "count": 0
           },
           {
            "bin_start": 36395.8,
            "bin_end": 47020.4,
            "count": 0
           },
           {
            "bin_start": 47020.4,
            "bin_end": 57645,
            "count": 0
           },
           {
            "bin_start": 57645,
            "bin_end": 68269.6,
            "count": 0
           },
           {
            "bin_start": 68269.6,
            "bin_end": 78894.2,
            "count": 0
           },
           {
            "bin_start": 78894.2,
            "bin_end": 89518.8,
            "count": 0
           },
           {
            "bin_start": 89518.8,
            "bin_end": 100143.40000000001,
            "count": 0
           },
           {
            "bin_start": 100143.40000000001,
            "bin_end": 110768,
            "count": 1
           }
          ]
         }
        },
        {
         "name": "stars_today",
         "dtype": "int64",
         "stats": {
          "unique_count": 4,
          "nan_count": 0,
          "min": "248",
          "max": "848",
          "histogram": [
           {
            "bin_start": 248,
            "bin_end": 308,
            "count": 2
           },
           {
            "bin_start": 308,
            "bin_end": 368,
            "count": 0
           },
           {
            "bin_start": 368,
            "bin_end": 428,
            "count": 0
           },
           {
            "bin_start": 428,
            "bin_end": 488,
            "count": 0
           },
           {
            "bin_start": 488,
            "bin_end": 548,
            "count": 0
           },
           {
            "bin_start": 548,
            "bin_end": 608,
            "count": 0
           },
           {
            "bin_start": 608,
            "bin_end": 668,
            "count": 0
           },
           {
            "bin_start": 668,
            "bin_end": 728,
            "count": 0
           },
           {
            "bin_start": 728,
            "bin_end": 788,
            "count": 0
           },
           {
            "bin_start": 788,
            "bin_end": 848,
            "count": 2
           }
          ]
         }
        },
        {
         "name": "forks",
         "dtype": "int64",
         "stats": {
          "unique_count": 4,
          "nan_count": 0,
          "min": "118",
          "max": "18331",
          "histogram": [
           {
            "bin_start": 118,
            "bin_end": 1939.3,
            "count": 2
           },
           {
            "bin_start": 1939.3,
            "bin_end": 3760.6,
            "count": 1
           },
           {
            "bin_start": 3760.6,
            "bin_end": 5581.9,
            "count": 0
           },
           {
            "bin_start": 5581.9,
            "bin_end": 7403.2,
            "count": 0
           },
           {
            "bin_start": 7403.2,
            "bin_end": 9224.5,
            "count": 0
           },
           {
            "bin_start": 9224.5,
            "bin_end": 11045.8,
            "count": 0
           },
           {
            "bin_start": 11045.8,
            "bin_end": 12867.1,
            "count": 0
           },
           {
            "bin_start": 12867.1,
            "bin_end": 14688.4,
            "count": 0
           },
           {
            "bin_start": 14688.4,
            "bin_end": 16509.7,
            "count": 0
           },
           {
            "bin_start": 16509.7,
            "bin_end": 18331,
            "count": 1
           }
          ]
         }
        },
        {
         "name": "_deepnote_index_column",
         "dtype": "object"
        }
       ],
       "rows_top": [
        {
         "stars": 4522,
         "stars_today": 839,
         "forks": 118,
         "_deepnote_index_column": "go"
        },
        {
         "stars": 110768,
         "stars_today": 248,
         "forks": 18331,
         "_deepnote_index_column": "javascript"
        },
        {
         "stars": 15712,
         "stars_today": 848,
         "forks": 2128,
         "_deepnote_index_column": "python"
        },
        {
         "stars": 15668,
         "stars_today": 280,
         "forks": 1370,
         "_deepnote_index_column": "typescript"
        }
       ],
       "rows_bottom": null
      },
      "text/plain": "             stars  stars_today  forks\nlanguage                              \ngo            4522          839    118\njavascript  110768          248  18331\npython       15712          848   2128\ntypescript   15668          280   1370",
      "text/html": "<div>\n<style scoped>\n    .dataframe tbody tr th:only-of-type {\n        vertical-align: middle;\n    }\n\n    .dataframe tbody tr th {\n        vertical-align: top;\n    }\n\n    .dataframe thead th {\n        text-align: right;\n    }\n</style>\n<table border=\"1\" class=\"dataframe\">\n  <thead>\n    <tr style=\"text-align: right;\">\n      <th></th>\n      <th>stars</th>\n      <th>stars_today</th>\n      <th>forks</th>\n    </tr>\n    <tr>\n      <th>language</th>\n      <th></th>\n      <th></th>\n      <th></th>\n    </tr>\n  </thead>\n  <tbody>\n    <tr>\n      <th>go</th>\n      <td>4522</td>\n      <td>839</td>\n      <td>118</td>\n    </tr>\n    <tr>\n      <th>javascript</th>\n      <td>110768</td>\n      <td>248</td>\n      <td>18331</td>\n    </tr>\n    <tr>\n      <th>python</th>\n      <td>15712</td>\n      <td>848</td>\n      <td>2128</td>\n    </tr>\n    <tr>\n      <th>typescript</th>\n      <td>15668</td>\n      <td>280</td>\n      <td>1370</td>\n    </tr>\n  </tbody>\n</table>\n</div>"
     },
     "metadata": {}
    }
   ]
  },
  {
   "cell_type": "code",
   "metadata": {
    "id": "3v6xYTXx7ui5",
    "cell_id": "00029-074c87d4-4bec-4ef8-a4d7-891b747f5d4b",
    "deepnote_to_be_reexecuted": false,
    "source_hash": "1c7ab168",
    "execution_start": 1639097322525,
    "execution_millis": 3,
    "deepnote_output_heights": [
     21.199996948242188
    ],
    "deepnote_cell_type": "code"
   },
   "source": "grouped_sum_df.loc['python', 'stars']",
   "execution_count": null,
   "outputs": [
    {
     "output_type": "execute_result",
     "execution_count": 15,
     "data": {
      "text/plain": "15712"
     },
     "metadata": {}
    }
   ]
  },
  {
   "cell_type": "markdown",
   "source": "**Exemplo**: Agregação por grupos com os métodos `groupby` e `agg` com multiplas métricas.",
   "metadata": {
    "id": "UONWi7ze8mC9",
    "cell_id": "00030-ffaf3a20-0e11-4215-ac9e-15f49865b0b3",
    "deepnote_cell_type": "markdown"
   }
  },
  {
   "cell_type": "code",
   "metadata": {
    "id": "8dA9dB_O7f-T",
    "cell_id": "00031-d0bd6588-c2bf-43f4-bfea-d796762ef71f",
    "deepnote_to_be_reexecuted": false,
    "source_hash": "840619c5",
    "execution_start": 1639097322583,
    "execution_millis": 0,
    "deepnote_cell_type": "code"
   },
   "source": "grouped_count_sum_mean_std_df = github_df[['language', 'stars', 'stars_today', 'forks']].groupby('language').agg(['count', 'sum', 'mean', 'std'])",
   "execution_count": null,
   "outputs": []
  },
  {
   "cell_type": "code",
   "metadata": {
    "id": "9WxGoTnC7OC4",
    "cell_id": "00032-cf7cd071-7a7d-4892-bb0e-581010dbbb29",
    "deepnote_to_be_reexecuted": false,
    "source_hash": "fc6963b2",
    "execution_start": 1639097322583,
    "execution_millis": 81,
    "deepnote_output_heights": [
     206
    ],
    "deepnote_cell_type": "code"
   },
   "source": "grouped_count_sum_mean_std_df",
   "execution_count": null,
   "outputs": [
    {
     "output_type": "execute_result",
     "execution_count": 17,
     "data": {
      "application/vnd.deepnote.dataframe.v2+json": {
       "row_count": 4,
       "column_count": 12,
       "columns": [
        {
         "name": [
          "stars",
          "count"
         ],
         "dtype": "int64",
         "stats": {
          "unique_count": 3,
          "nan_count": 0,
          "min": "1",
          "max": "4",
          "histogram": [
           {
            "bin_start": 1,
            "bin_end": 1.3,
            "count": 2
           },
           {
            "bin_start": 1.3,
            "bin_end": 1.6,
            "count": 0
           },
           {
            "bin_start": 1.6,
            "bin_end": 1.9,
            "count": 0
           },
           {
            "bin_start": 1.9,
            "bin_end": 2.2,
            "count": 1
           },
           {
            "bin_start": 2.2,
            "bin_end": 2.5,
            "count": 0
           },
           {
            "bin_start": 2.5,
            "bin_end": 2.8,
            "count": 0
           },
           {
            "bin_start": 2.8,
            "bin_end": 3.1,
            "count": 0
           },
           {
            "bin_start": 3.1,
            "bin_end": 3.4,
            "count": 0
           },
           {
            "bin_start": 3.4,
            "bin_end": 3.6999999999999997,
            "count": 0
           },
           {
            "bin_start": 3.6999999999999997,
            "bin_end": 4,
            "count": 1
           }
          ]
         }
        },
        {
         "name": [
          "stars",
          "sum"
         ],
         "dtype": "int64",
         "stats": {
          "unique_count": 4,
          "nan_count": 0,
          "min": "4522",
          "max": "110768",
          "histogram": [
           {
            "bin_start": 4522,
            "bin_end": 15146.6,
            "count": 1
           },
           {
            "bin_start": 15146.6,
            "bin_end": 25771.2,
            "count": 2
           },
           {
            "bin_start": 25771.2,
            "bin_end": 36395.8,
            "count": 0
           },
           {
            "bin_start": 36395.8,
            "bin_end": 47020.4,
            "count": 0
           },
           {
            "bin_start": 47020.4,
            "bin_end": 57645,
            "count": 0
           },
           {
            "bin_start": 57645,
            "bin_end": 68269.6,
            "count": 0
           },
           {
            "bin_start": 68269.6,
            "bin_end": 78894.2,
            "count": 0
           },
           {
            "bin_start": 78894.2,
            "bin_end": 89518.8,
            "count": 0
           },
           {
            "bin_start": 89518.8,
            "bin_end": 100143.40000000001,
            "count": 0
           },
           {
            "bin_start": 100143.40000000001,
            "bin_end": 110768,
            "count": 1
           }
          ]
         }
        },
        {
         "name": [
          "stars",
          "mean"
         ],
         "dtype": "int64",
         "stats": {
          "unique_count": 4,
          "nan_count": 0,
          "min": "2261",
          "max": "110768",
          "histogram": [
           {
            "bin_start": 2261,
            "bin_end": 13111.7,
            "count": 2
           },
           {
            "bin_start": 13111.7,
            "bin_end": 23962.4,
            "count": 1
           },
           {
            "bin_start": 23962.4,
            "bin_end": 34813.100000000006,
            "count": 0
           },
           {
            "bin_start": 34813.100000000006,
            "bin_end": 45663.8,
            "count": 0
           },
           {
            "bin_start": 45663.8,
            "bin_end": 56514.5,
            "count": 0
           },
           {
            "bin_start": 56514.5,
            "bin_end": 67365.20000000001,
            "count": 0
           },
           {
            "bin_start": 67365.20000000001,
            "bin_end": 78215.90000000001,
            "count": 0
           },
           {
            "bin_start": 78215.90000000001,
            "bin_end": 89066.6,
            "count": 0
           },
           {
            "bin_start": 89066.6,
            "bin_end": 99917.3,
            "count": 0
           },
           {
            "bin_start": 99917.3,
            "bin_end": 110768,
            "count": 1
           }
          ]
         }
        },
        {
         "name": [
          "stars",
          "std"
         ],
         "dtype": "float64",
         "stats": {
          "unique_count": 2,
          "nan_count": 2,
          "min": "1353.402379191052",
          "max": "4865.267789820687",
          "histogram": [
           {
            "bin_start": 1353.402379191052,
            "bin_end": 1704.5889202540154,
            "count": 1
           },
           {
            "bin_start": 1704.5889202540154,
            "bin_end": 2055.775461316979,
            "count": 0
           },
           {
            "bin_start": 2055.775461316979,
            "bin_end": 2406.9620023799425,
            "count": 0
           },
           {
            "bin_start": 2406.9620023799425,
            "bin_end": 2758.148543442906,
            "count": 0
           },
           {
            "bin_start": 2758.148543442906,
            "bin_end": 3109.3350845058694,
            "count": 0
           },
           {
            "bin_start": 3109.3350845058694,
            "bin_end": 3460.521625568833,
            "count": 0
           },
           {
            "bin_start": 3460.521625568833,
            "bin_end": 3811.7081666317963,
            "count": 0
           },
           {
            "bin_start": 3811.7081666317963,
            "bin_end": 4162.89470769476,
            "count": 0
           },
           {
            "bin_start": 4162.89470769476,
            "bin_end": 4514.081248757723,
            "count": 0
           },
           {
            "bin_start": 4514.081248757723,
            "bin_end": 4865.267789820687,
            "count": 1
           }
          ]
         }
        },
        {
         "name": [
          "stars_today",
          "count"
         ],
         "dtype": "int64",
         "stats": {
          "unique_count": 3,
          "nan_count": 0,
          "min": "1",
          "max": "4",
          "histogram": [
           {
            "bin_start": 1,
            "bin_end": 1.3,
            "count": 2
           },
           {
            "bin_start": 1.3,
            "bin_end": 1.6,
            "count": 0
           },
           {
            "bin_start": 1.6,
            "bin_end": 1.9,
            "count": 0
           },
           {
            "bin_start": 1.9,
            "bin_end": 2.2,
            "count": 1
           },
           {
            "bin_start": 2.2,
            "bin_end": 2.5,
            "count": 0
           },
           {
            "bin_start": 2.5,
            "bin_end": 2.8,
            "count": 0
           },
           {
            "bin_start": 2.8,
            "bin_end": 3.1,
            "count": 0
           },
           {
            "bin_start": 3.1,
            "bin_end": 3.4,
            "count": 0
           },
           {
            "bin_start": 3.4,
            "bin_end": 3.6999999999999997,
            "count": 0
           },
           {
            "bin_start": 3.6999999999999997,
            "bin_end": 4,
            "count": 1
           }
          ]
         }
        },
        {
         "name": [
          "stars_today",
          "sum"
         ],
         "dtype": "int64",
         "stats": {
          "unique_count": 4,
          "nan_count": 0,
          "min": "248",
          "max": "848",
          "histogram": [
           {
            "bin_start": 248,
            "bin_end": 308,
            "count": 2
           },
           {
            "bin_start": 308,
            "bin_end": 368,
            "count": 0
           },
           {
            "bin_start": 368,
            "bin_end": 428,
            "count": 0
           },
           {
            "bin_start": 428,
            "bin_end": 488,
            "count": 0
           },
           {
            "bin_start": 488,
            "bin_end": 548,
            "count": 0
           },
           {
            "bin_start": 548,
            "bin_end": 608,
            "count": 0
           },
           {
            "bin_start": 608,
            "bin_end": 668,
            "count": 0
           },
           {
            "bin_start": 668,
            "bin_end": 728,
            "count": 0
           },
           {
            "bin_start": 728,
            "bin_end": 788,
            "count": 0
           },
           {
            "bin_start": 788,
            "bin_end": 848,
            "count": 2
           }
          ]
         }
        },
        {
         "name": [
          "stars_today",
          "mean"
         ],
         "dtype": "float64",
         "stats": {
          "unique_count": 4,
          "nan_count": 0,
          "min": "212.0",
          "max": "419.5",
          "histogram": [
           {
            "bin_start": 212,
            "bin_end": 232.75,
            "count": 1
           },
           {
            "bin_start": 232.75,
            "bin_end": 253.5,
            "count": 1
           },
           {
            "bin_start": 253.5,
            "bin_end": 274.25,
            "count": 0
           },
           {
            "bin_start": 274.25,
            "bin_end": 295,
            "count": 1
           },
           {
            "bin_start": 295,
            "bin_end": 315.75,
            "count": 0
           },
           {
            "bin_start": 315.75,
            "bin_end": 336.5,
            "count": 0
           },
           {
            "bin_start": 336.5,
            "bin_end": 357.25,
            "count": 0
           },
           {
            "bin_start": 357.25,
            "bin_end": 378,
            "count": 0
           },
           {
            "bin_start": 378,
            "bin_end": 398.75,
            "count": 0
           },
           {
            "bin_start": 398.75,
            "bin_end": 419.5,
            "count": 1
           }
          ]
         }
        },
        {
         "name": [
          "stars_today",
          "std"
         ],
         "dtype": "float64",
         "stats": {
          "unique_count": 2,
          "nan_count": 2,
          "min": "152.7568874606532",
          "max": "218.4959953866432",
          "histogram": [
           {
            "bin_start": 152.7568874606532,
            "bin_end": 159.3307982532522,
            "count": 1
           },
           {
            "bin_start": 159.3307982532522,
            "bin_end": 165.90470904585118,
            "count": 0
           },
           {
            "bin_start": 165.90470904585118,
            "bin_end": 172.4786198384502,
            "count": 0
           },
           {
            "bin_start": 172.4786198384502,
            "bin_end": 179.0525306310492,
            "count": 0
           },
           {
            "bin_start": 179.0525306310492,
            "bin_end": 185.6264414236482,
            "count": 0
           },
           {
            "bin_start": 185.6264414236482,
            "bin_end": 192.20035221624718,
            "count": 0
           },
           {
            "bin_start": 192.20035221624718,
            "bin_end": 198.7742630088462,
            "count": 0
           },
           {
            "bin_start": 198.7742630088462,
            "bin_end": 205.34817380144517,
            "count": 0
           },
           {
            "bin_start": 205.34817380144517,
            "bin_end": 211.92208459404418,
            "count": 0
           },
           {
            "bin_start": 211.92208459404418,
            "bin_end": 218.4959953866432,
            "count": 1
           }
          ]
         }
        },
        {
         "name": [
          "forks",
          "count"
         ],
         "dtype": "int64",
         "stats": {
          "unique_count": 3,
          "nan_count": 0,
          "min": "1",
          "max": "4",
          "histogram": [
           {
            "bin_start": 1,
            "bin_end": 1.3,
            "count": 2
           },
           {
            "bin_start": 1.3,
            "bin_end": 1.6,
            "count": 0
           },
           {
            "bin_start": 1.6,
            "bin_end": 1.9,
            "count": 0
           },
           {
            "bin_start": 1.9,
            "bin_end": 2.2,
            "count": 1
           },
           {
            "bin_start": 2.2,
            "bin_end": 2.5,
            "count": 0
           },
           {
            "bin_start": 2.5,
            "bin_end": 2.8,
            "count": 0
           },
           {
            "bin_start": 2.8,
            "bin_end": 3.1,
            "count": 0
           },
           {
            "bin_start": 3.1,
            "bin_end": 3.4,
            "count": 0
           },
           {
            "bin_start": 3.4,
            "bin_end": 3.6999999999999997,
            "count": 0
           },
           {
            "bin_start": 3.6999999999999997,
            "bin_end": 4,
            "count": 1
           }
          ]
         }
        },
        {
         "name": [
          "forks",
          "sum"
         ],
         "dtype": "int64",
         "stats": {
          "unique_count": 4,
          "nan_count": 0,
          "min": "118",
          "max": "18331",
          "histogram": [
           {
            "bin_start": 118,
            "bin_end": 1939.3,
            "count": 2
           },
           {
            "bin_start": 1939.3,
            "bin_end": 3760.6,
            "count": 1
           },
           {
            "bin_start": 3760.6,
            "bin_end": 5581.9,
            "count": 0
           },
           {
            "bin_start": 5581.9,
            "bin_end": 7403.2,
            "count": 0
           },
           {
            "bin_start": 7403.2,
            "bin_end": 9224.5,
            "count": 0
           },
           {
            "bin_start": 9224.5,
            "bin_end": 11045.8,
            "count": 0
           },
           {
            "bin_start": 11045.8,
            "bin_end": 12867.1,
            "count": 0
           },
           {
            "bin_start": 12867.1,
            "bin_end": 14688.4,
            "count": 0
           },
           {
            "bin_start": 14688.4,
            "bin_end": 16509.7,
            "count": 0
           },
           {
            "bin_start": 16509.7,
            "bin_end": 18331,
            "count": 1
           }
          ]
         }
        },
        {
         "name": [
          "forks",
          "mean"
         ],
         "dtype": "int64",
         "stats": {
          "unique_count": 4,
          "nan_count": 0,
          "min": "59",
          "max": "18331",
          "histogram": [
           {
            "bin_start": 59,
            "bin_end": 1886.2,
            "count": 3
           },
           {
            "bin_start": 1886.2,
            "bin_end": 3713.4,
            "count": 0
           },
           {
            "bin_start": 3713.4,
            "bin_end": 5540.6,
            "count": 0
           },
           {
            "bin_start": 5540.6,
            "bin_end": 7367.8,
            "count": 0
           },
           {
            "bin_start": 7367.8,
            "bin_end": 9195,
            "count": 0
           },
           {
            "bin_start": 9195,
            "bin_end": 11022.2,
            "count": 0
           },
           {
            "bin_start": 11022.2,
            "bin_end": 12849.4,
            "count": 0
           },
           {
            "bin_start": 12849.4,
            "bin_end": 14676.6,
            "count": 0
           },
           {
            "bin_start": 14676.6,
            "bin_end": 16503.8,
            "count": 0
           },
           {
            "bin_start": 16503.8,
            "bin_end": 18331,
            "count": 1
           }
          ]
         }
        },
        {
         "name": [
          "forks",
          "std"
         ],
         "dtype": "float64",
         "stats": {
          "unique_count": 2,
          "nan_count": 2,
          "min": "29.698484809834994",
          "max": "751.6537323351313",
          "histogram": [
           {
            "bin_start": 29.698484809834994,
            "bin_end": 101.89400956236462,
            "count": 1
           },
           {
            "bin_start": 101.89400956236462,
            "bin_end": 174.08953431489425,
            "count": 0
           },
           {
            "bin_start": 174.08953431489425,
            "bin_end": 246.28505906742384,
            "count": 0
           },
           {
            "bin_start": 246.28505906742384,
            "bin_end": 318.4805838199535,
            "count": 0
           },
           {
            "bin_start": 318.4805838199535,
            "bin_end": 390.67610857248314,
            "count": 0
           },
           {
            "bin_start": 390.67610857248314,
            "bin_end": 462.87163332501274,
            "count": 0
           },
           {
            "bin_start": 462.87163332501274,
            "bin_end": 535.0671580775423,
            "count": 0
           },
           {
            "bin_start": 535.0671580775423,
            "bin_end": 607.262682830072,
            "count": 0
           },
           {
            "bin_start": 607.262682830072,
            "bin_end": 679.4582075826016,
            "count": 0
           },
           {
            "bin_start": 679.4582075826016,
            "bin_end": 751.6537323351313,
            "count": 1
           }
          ]
         }
        },
        {
         "name": "_deepnote_index_column",
         "dtype": "object"
        }
       ],
       "rows_top": [
        {
         "('stars', 'count')": 2,
         "('stars', 'sum')": 4522,
         "('stars', 'mean')": 2261,
         "('stars', 'std')": 1353.402379191052,
         "('stars_today', 'count')": 2,
         "('stars_today', 'sum')": 839,
         "('stars_today', 'mean')": 419.5,
         "('stars_today', 'std')": 218.4959953866432,
         "('forks', 'count')": 2,
         "('forks', 'sum')": 118,
         "('forks', 'mean')": 59,
         "('forks', 'std')": 29.698484809834994,
         "_deepnote_index_column": "go"
        },
        {
         "('stars', 'count')": 1,
         "('stars', 'sum')": 110768,
         "('stars', 'mean')": 110768,
         "('stars', 'std')": "nan",
         "('stars_today', 'count')": 1,
         "('stars_today', 'sum')": 248,
         "('stars_today', 'mean')": 248,
         "('stars_today', 'std')": "nan",
         "('forks', 'count')": 1,
         "('forks', 'sum')": 18331,
         "('forks', 'mean')": 18331,
         "('forks', 'std')": "nan",
         "_deepnote_index_column": "javascript"
        },
        {
         "('stars', 'count')": 4,
         "('stars', 'sum')": 15712,
         "('stars', 'mean')": 3928,
         "('stars', 'std')": 4865.267789820687,
         "('stars_today', 'count')": 4,
         "('stars_today', 'sum')": 848,
         "('stars_today', 'mean')": 212,
         "('stars_today', 'std')": 152.7568874606532,
         "('forks', 'count')": 4,
         "('forks', 'sum')": 2128,
         "('forks', 'mean')": 532,
         "('forks', 'std')": 751.6537323351313,
         "_deepnote_index_column": "python"
        },
        {
         "('stars', 'count')": 1,
         "('stars', 'sum')": 15668,
         "('stars', 'mean')": 15668,
         "('stars', 'std')": "nan",
         "('stars_today', 'count')": 1,
         "('stars_today', 'sum')": 280,
         "('stars_today', 'mean')": 280,
         "('stars_today', 'std')": "nan",
         "('forks', 'count')": 1,
         "('forks', 'sum')": 1370,
         "('forks', 'mean')": 1370,
         "('forks', 'std')": "nan",
         "_deepnote_index_column": "typescript"
        }
       ],
       "rows_bottom": null
      },
      "text/plain": "           stars                              stars_today              \\\n           count     sum    mean          std       count  sum   mean   \nlanguage                                                                \ngo             2    4522    2261  1353.402379           2  839  419.5   \njavascript     1  110768  110768          NaN           1  248  248.0   \npython         4   15712    3928  4865.267790           4  848  212.0   \ntypescript     1   15668   15668          NaN           1  280  280.0   \n\n                       forks                            \n                   std count    sum   mean         std  \nlanguage                                                \ngo          218.495995     2    118     59   29.698485  \njavascript         NaN     1  18331  18331         NaN  \npython      152.756887     4   2128    532  751.653732  \ntypescript         NaN     1   1370   1370         NaN  ",
      "text/html": "<div>\n<style scoped>\n    .dataframe tbody tr th:only-of-type {\n        vertical-align: middle;\n    }\n\n    .dataframe tbody tr th {\n        vertical-align: top;\n    }\n\n    .dataframe thead tr th {\n        text-align: left;\n    }\n\n    .dataframe thead tr:last-of-type th {\n        text-align: right;\n    }\n</style>\n<table border=\"1\" class=\"dataframe\">\n  <thead>\n    <tr>\n      <th></th>\n      <th colspan=\"4\" halign=\"left\">stars</th>\n      <th colspan=\"4\" halign=\"left\">stars_today</th>\n      <th colspan=\"4\" halign=\"left\">forks</th>\n    </tr>\n    <tr>\n      <th></th>\n      <th>count</th>\n      <th>sum</th>\n      <th>mean</th>\n      <th>std</th>\n      <th>count</th>\n      <th>sum</th>\n      <th>mean</th>\n      <th>std</th>\n      <th>count</th>\n      <th>sum</th>\n      <th>mean</th>\n      <th>std</th>\n    </tr>\n    <tr>\n      <th>language</th>\n      <th></th>\n      <th></th>\n      <th></th>\n      <th></th>\n      <th></th>\n      <th></th>\n      <th></th>\n      <th></th>\n      <th></th>\n      <th></th>\n      <th></th>\n      <th></th>\n    </tr>\n  </thead>\n  <tbody>\n    <tr>\n      <th>go</th>\n      <td>2</td>\n      <td>4522</td>\n      <td>2261</td>\n      <td>1353.402379</td>\n      <td>2</td>\n      <td>839</td>\n      <td>419.5</td>\n      <td>218.495995</td>\n      <td>2</td>\n      <td>118</td>\n      <td>59</td>\n      <td>29.698485</td>\n    </tr>\n    <tr>\n      <th>javascript</th>\n      <td>1</td>\n      <td>110768</td>\n      <td>110768</td>\n      <td>NaN</td>\n      <td>1</td>\n      <td>248</td>\n      <td>248.0</td>\n      <td>NaN</td>\n      <td>1</td>\n      <td>18331</td>\n      <td>18331</td>\n      <td>NaN</td>\n    </tr>\n    <tr>\n      <th>python</th>\n      <td>4</td>\n      <td>15712</td>\n      <td>3928</td>\n      <td>4865.267790</td>\n      <td>4</td>\n      <td>848</td>\n      <td>212.0</td>\n      <td>152.756887</td>\n      <td>4</td>\n      <td>2128</td>\n      <td>532</td>\n      <td>751.653732</td>\n    </tr>\n    <tr>\n      <th>typescript</th>\n      <td>1</td>\n      <td>15668</td>\n      <td>15668</td>\n      <td>NaN</td>\n      <td>1</td>\n      <td>280</td>\n      <td>280.0</td>\n      <td>NaN</td>\n      <td>1</td>\n      <td>1370</td>\n      <td>1370</td>\n      <td>NaN</td>\n    </tr>\n  </tbody>\n</table>\n</div>"
     },
     "metadata": {}
    }
   ]
  },
  {
   "cell_type": "code",
   "metadata": {
    "id": "XivpX3f_7kgk",
    "cell_id": "00033-df7e23da-fbac-4d10-b762-7e94aa923585",
    "deepnote_to_be_reexecuted": false,
    "source_hash": "8e2ee5e9",
    "execution_start": 1639097322731,
    "execution_millis": 4,
    "deepnote_output_heights": [
     98
    ],
    "deepnote_cell_type": "code"
   },
   "source": "grouped_count_sum_mean_std_df.loc['python', 'stars']",
   "execution_count": null,
   "outputs": [
    {
     "output_type": "execute_result",
     "execution_count": 18,
     "data": {
      "text/plain": "count        4.00000\nsum      15712.00000\nmean      3928.00000\nstd       4865.26779\nName: python, dtype: float64"
     },
     "metadata": {}
    }
   ]
  },
  {
   "cell_type": "code",
   "metadata": {
    "id": "RJPXFS0Q7HDd",
    "cell_id": "00034-3e671598-8912-44b2-bf73-4d5f7b75de6d",
    "deepnote_to_be_reexecuted": false,
    "source_hash": "34209720",
    "execution_start": 1639097322732,
    "execution_millis": 42,
    "deepnote_output_heights": [
     21.199996948242188
    ],
    "deepnote_cell_type": "code"
   },
   "source": "grouped_count_sum_mean_std_df.loc['python', 'stars'].loc['sum']",
   "execution_count": null,
   "outputs": [
    {
     "output_type": "execute_result",
     "execution_count": 19,
     "data": {
      "text/plain": "15712.0"
     },
     "metadata": {}
    }
   ]
  },
  {
   "cell_type": "markdown",
   "source": "### **1.2. Ordenação** ",
   "metadata": {
    "id": "ymoAXSbFEcvt",
    "cell_id": "00035-f55180e5-58f9-43ec-a48e-f99ad2be4792",
    "deepnote_cell_type": "markdown"
   }
  },
  {
   "cell_type": "markdown",
   "source": "Uma ordenação é o processo de ordernar um conjunto de dados a partir de um conjunto de colunas e um critério (ascendente ou descendente). ",
   "metadata": {
    "id": "fBx76tlzEmaQ",
    "cell_id": "00036-93e0e39f-25ea-4300-8e88-5aeb47b998e6",
    "deepnote_cell_type": "markdown"
   }
  },
  {
   "cell_type": "markdown",
   "source": "**Exemplo**: Ordernação com uma coluna de referência através do método `sort_values`.",
   "metadata": {
    "id": "kW6_hdDj-3Mq",
    "cell_id": "00037-eaffc19c-6b33-4c6c-aa7f-c06852b93107",
    "deepnote_cell_type": "markdown"
   }
  },
  {
   "cell_type": "code",
   "metadata": {
    "id": "oxYkPTvJE6Ug",
    "cell_id": "00038-793f865d-b2f7-4e88-8ee6-42138236221d",
    "deepnote_to_be_reexecuted": false,
    "source_hash": "b4587960",
    "execution_start": 1639097322773,
    "execution_millis": 68,
    "deepnote_cell_type": "code"
   },
   "source": "github_df.sort_values(by=['stars'])",
   "execution_count": null,
   "outputs": [
    {
     "output_type": "execute_result",
     "execution_count": 20,
     "data": {
      "application/vnd.deepnote.dataframe.v2+json": {
       "row_count": 10,
       "column_count": 6,
       "columns": [
        {
         "name": "ranking",
         "dtype": "int64",
         "stats": {
          "unique_count": 10,
          "nan_count": 0,
          "min": "1",
          "max": "10",
          "histogram": [
           {
            "bin_start": 1,
            "bin_end": 1.9,
            "count": 1
           },
           {
            "bin_start": 1.9,
            "bin_end": 2.8,
            "count": 1
           },
           {
            "bin_start": 2.8,
            "bin_end": 3.7,
            "count": 1
           },
           {
            "bin_start": 3.7,
            "bin_end": 4.6,
            "count": 1
           },
           {
            "bin_start": 4.6,
            "bin_end": 5.5,
            "count": 1
           },
           {
            "bin_start": 5.5,
            "bin_end": 6.4,
            "count": 1
           },
           {
            "bin_start": 6.4,
            "bin_end": 7.3,
            "count": 1
           },
           {
            "bin_start": 7.3,
            "bin_end": 8.2,
            "count": 1
           },
           {
            "bin_start": 8.2,
            "bin_end": 9.1,
            "count": 1
           },
           {
            "bin_start": 9.1,
            "bin_end": 10,
            "count": 1
           }
          ]
         }
        },
        {
         "name": "project",
         "dtype": "object",
         "stats": {
          "unique_count": 10,
          "nan_count": 0,
          "categories": [
           {
            "name": "reddit_sentiment_trader",
            "count": 1
           },
           {
            "name": "defi-developer-road-map",
            "count": 1
           },
           {
            "name": "8 others",
            "count": 8
           }
          ]
         }
        },
        {
         "name": "language",
         "dtype": "object",
         "stats": {
          "unique_count": 4,
          "nan_count": 2,
          "categories": [
           {
            "name": "python",
            "count": 4
           },
           {
            "name": "3 others",
            "count": 4
           },
           {
            "name": "Missing",
            "count": 2
           }
          ]
         }
        },
        {
         "name": "stars",
         "dtype": "int64",
         "stats": {
          "unique_count": 10,
          "nan_count": 0,
          "min": "369",
          "max": "110768",
          "histogram": [
           {
            "bin_start": 369,
            "bin_end": 11408.9,
            "count": 8
           },
           {
            "bin_start": 11408.9,
            "bin_end": 22448.8,
            "count": 1
           },
           {
            "bin_start": 22448.8,
            "bin_end": 33488.7,
            "count": 0
           },
           {
            "bin_start": 33488.7,
            "bin_end": 44528.6,
            "count": 0
           },
           {
            "bin_start": 44528.6,
            "bin_end": 55568.5,
            "count": 0
           },
           {
            "bin_start": 55568.5,
            "bin_end": 66608.4,
            "count": 0
           },
           {
            "bin_start": 66608.4,
            "bin_end": 77648.3,
            "count": 0
           },
           {
            "bin_start": 77648.3,
            "bin_end": 88688.2,
            "count": 0
           },
           {
            "bin_start": 88688.2,
            "bin_end": 99728.09999999999,
            "count": 0
           },
           {
            "bin_start": 99728.09999999999,
            "bin_end": 110768,
            "count": 1
           }
          ]
         }
        },
        {
         "name": "stars_today",
         "dtype": "int64",
         "stats": {
          "unique_count": 10,
          "nan_count": 0,
          "min": "71",
          "max": "574",
          "histogram": [
           {
            "bin_start": 71,
            "bin_end": 121.3,
            "count": 2
           },
           {
            "bin_start": 121.3,
            "bin_end": 171.6,
            "count": 0
           },
           {
            "bin_start": 171.6,
            "bin_end": 221.89999999999998,
            "count": 1
           },
           {
            "bin_start": 221.89999999999998,
            "bin_end": 272.2,
            "count": 3
           },
           {
            "bin_start": 272.2,
            "bin_end": 322.5,
            "count": 2
           },
           {
            "bin_start": 322.5,
            "bin_end": 372.79999999999995,
            "count": 0
           },
           {
            "bin_start": 372.79999999999995,
            "bin_end": 423.09999999999997,
            "count": 1
           },
           {
            "bin_start": 423.09999999999997,
            "bin_end": 473.4,
            "count": 0
           },
           {
            "bin_start": 473.4,
            "bin_end": 523.7,
            "count": 0
           },
           {
            "bin_start": 523.7,
            "bin_end": 574,
            "count": 1
           }
          ]
         }
        },
        {
         "name": "forks",
         "dtype": "int64",
         "stats": {
          "unique_count": 10,
          "nan_count": 0,
          "min": "38",
          "max": "18331",
          "histogram": [
           {
            "bin_start": 38,
            "bin_end": 1867.3,
            "count": 9
           },
           {
            "bin_start": 1867.3,
            "bin_end": 3696.6,
            "count": 0
           },
           {
            "bin_start": 3696.6,
            "bin_end": 5525.9,
            "count": 0
           },
           {
            "bin_start": 5525.9,
            "bin_end": 7355.2,
            "count": 0
           },
           {
            "bin_start": 7355.2,
            "bin_end": 9184.5,
            "count": 0
           },
           {
            "bin_start": 9184.5,
            "bin_end": 11013.8,
            "count": 0
           },
           {
            "bin_start": 11013.8,
            "bin_end": 12843.1,
            "count": 0
           },
           {
            "bin_start": 12843.1,
            "bin_end": 14672.4,
            "count": 0
           },
           {
            "bin_start": 14672.4,
            "bin_end": 16501.7,
            "count": 0
           },
           {
            "bin_start": 16501.7,
            "bin_end": 18331,
            "count": 1
           }
          ]
         }
        },
        {
         "name": "_deepnote_index_column",
         "dtype": "int64"
        }
       ],
       "rows_top": [
        {
         "ranking": 8,
         "project": "reddit_sentiment_trader",
         "language": "python",
         "stars": 369,
         "stars_today": 71,
         "forks": 60,
         "_deepnote_index_column": 7
        },
        {
         "ranking": 4,
         "project": "defi-developer-road-map",
         "language": "nan",
         "stars": 636,
         "stars_today": 247,
         "forks": 49,
         "_deepnote_index_column": 3
        },
        {
         "ranking": 10,
         "project": "self-taught-guide-to-cloud-computing",
         "language": "nan",
         "stars": 863,
         "stars_today": 179,
         "forks": 84,
         "_deepnote_index_column": 9
        },
        {
         "ranking": 1,
         "project": "plow",
         "language": "go",
         "stars": 1304,
         "stars_today": 574,
         "forks": 38,
         "_deepnote_index_column": 0
        },
        {
         "ranking": 7,
         "project": "paddleclas",
         "language": "python",
         "stars": 1429,
         "stars_today": 283,
         "forks": 323,
         "_deepnote_index_column": 6
        },
        {
         "ranking": 9,
         "project": "augly",
         "language": "python",
         "stars": 2849,
         "stars_today": 393,
         "forks": 99,
         "_deepnote_index_column": 8
        },
        {
         "ranking": 3,
         "project": "slides",
         "language": "go",
         "stars": 3218,
         "stars_today": 265,
         "forks": 80,
         "_deepnote_index_column": 2
        },
        {
         "ranking": 5,
         "project": "pytorch-image-models",
         "language": "python",
         "stars": 11065,
         "stars_today": 101,
         "forks": 1646,
         "_deepnote_index_column": 4
        },
        {
         "ranking": 2,
         "project": "n8n",
         "language": "typescript",
         "stars": 15668,
         "stars_today": 280,
         "forks": 1370,
         "_deepnote_index_column": 1
        },
        {
         "ranking": 6,
         "project": "javascript-algorithms",
         "language": "javascript",
         "stars": 110768,
         "stars_today": 248,
         "forks": 18331,
         "_deepnote_index_column": 5
        }
       ],
       "rows_bottom": null
      },
      "text/plain": "   ranking                               project    language   stars  \\\n7        8               reddit_sentiment_trader      python     369   \n3        4               defi-developer-road-map         NaN     636   \n9       10  self-taught-guide-to-cloud-computing         NaN     863   \n0        1                                  plow          go    1304   \n6        7                            paddleclas      python    1429   \n8        9                                 augly      python    2849   \n2        3                                slides          go    3218   \n4        5                  pytorch-image-models      python   11065   \n1        2                                   n8n  typescript   15668   \n5        6                 javascript-algorithms  javascript  110768   \n\n   stars_today  forks  \n7           71     60  \n3          247     49  \n9          179     84  \n0          574     38  \n6          283    323  \n8          393     99  \n2          265     80  \n4          101   1646  \n1          280   1370  \n5          248  18331  ",
      "text/html": "<div>\n<style scoped>\n    .dataframe tbody tr th:only-of-type {\n        vertical-align: middle;\n    }\n\n    .dataframe tbody tr th {\n        vertical-align: top;\n    }\n\n    .dataframe thead th {\n        text-align: right;\n    }\n</style>\n<table border=\"1\" class=\"dataframe\">\n  <thead>\n    <tr style=\"text-align: right;\">\n      <th></th>\n      <th>ranking</th>\n      <th>project</th>\n      <th>language</th>\n      <th>stars</th>\n      <th>stars_today</th>\n      <th>forks</th>\n    </tr>\n  </thead>\n  <tbody>\n    <tr>\n      <th>7</th>\n      <td>8</td>\n      <td>reddit_sentiment_trader</td>\n      <td>python</td>\n      <td>369</td>\n      <td>71</td>\n      <td>60</td>\n    </tr>\n    <tr>\n      <th>3</th>\n      <td>4</td>\n      <td>defi-developer-road-map</td>\n      <td>NaN</td>\n      <td>636</td>\n      <td>247</td>\n      <td>49</td>\n    </tr>\n    <tr>\n      <th>9</th>\n      <td>10</td>\n      <td>self-taught-guide-to-cloud-computing</td>\n      <td>NaN</td>\n      <td>863</td>\n      <td>179</td>\n      <td>84</td>\n    </tr>\n    <tr>\n      <th>0</th>\n      <td>1</td>\n      <td>plow</td>\n      <td>go</td>\n      <td>1304</td>\n      <td>574</td>\n      <td>38</td>\n    </tr>\n    <tr>\n      <th>6</th>\n      <td>7</td>\n      <td>paddleclas</td>\n      <td>python</td>\n      <td>1429</td>\n      <td>283</td>\n      <td>323</td>\n    </tr>\n    <tr>\n      <th>8</th>\n      <td>9</td>\n      <td>augly</td>\n      <td>python</td>\n      <td>2849</td>\n      <td>393</td>\n      <td>99</td>\n    </tr>\n    <tr>\n      <th>2</th>\n      <td>3</td>\n      <td>slides</td>\n      <td>go</td>\n      <td>3218</td>\n      <td>265</td>\n      <td>80</td>\n    </tr>\n    <tr>\n      <th>4</th>\n      <td>5</td>\n      <td>pytorch-image-models</td>\n      <td>python</td>\n      <td>11065</td>\n      <td>101</td>\n      <td>1646</td>\n    </tr>\n    <tr>\n      <th>1</th>\n      <td>2</td>\n      <td>n8n</td>\n      <td>typescript</td>\n      <td>15668</td>\n      <td>280</td>\n      <td>1370</td>\n    </tr>\n    <tr>\n      <th>5</th>\n      <td>6</td>\n      <td>javascript-algorithms</td>\n      <td>javascript</td>\n      <td>110768</td>\n      <td>248</td>\n      <td>18331</td>\n    </tr>\n  </tbody>\n</table>\n</div>"
     },
     "metadata": {}
    }
   ]
  },
  {
   "cell_type": "code",
   "metadata": {
    "id": "BGAOxFLb_SDv",
    "cell_id": "00039-92793b80-8825-479e-af26-33de80b10bd0",
    "deepnote_to_be_reexecuted": false,
    "source_hash": "e033fb6d",
    "execution_start": 1639097322840,
    "execution_millis": 29,
    "deepnote_cell_type": "code"
   },
   "source": "github_df.sort_values(by=['stars'], ascending=False)",
   "execution_count": null,
   "outputs": [
    {
     "output_type": "execute_result",
     "execution_count": 21,
     "data": {
      "application/vnd.deepnote.dataframe.v2+json": {
       "row_count": 10,
       "column_count": 6,
       "columns": [
        {
         "name": "ranking",
         "dtype": "int64",
         "stats": {
          "unique_count": 10,
          "nan_count": 0,
          "min": "1",
          "max": "10",
          "histogram": [
           {
            "bin_start": 1,
            "bin_end": 1.9,
            "count": 1
           },
           {
            "bin_start": 1.9,
            "bin_end": 2.8,
            "count": 1
           },
           {
            "bin_start": 2.8,
            "bin_end": 3.7,
            "count": 1
           },
           {
            "bin_start": 3.7,
            "bin_end": 4.6,
            "count": 1
           },
           {
            "bin_start": 4.6,
            "bin_end": 5.5,
            "count": 1
           },
           {
            "bin_start": 5.5,
            "bin_end": 6.4,
            "count": 1
           },
           {
            "bin_start": 6.4,
            "bin_end": 7.3,
            "count": 1
           },
           {
            "bin_start": 7.3,
            "bin_end": 8.2,
            "count": 1
           },
           {
            "bin_start": 8.2,
            "bin_end": 9.1,
            "count": 1
           },
           {
            "bin_start": 9.1,
            "bin_end": 10,
            "count": 1
           }
          ]
         }
        },
        {
         "name": "project",
         "dtype": "object",
         "stats": {
          "unique_count": 10,
          "nan_count": 0,
          "categories": [
           {
            "name": "javascript-algorithms",
            "count": 1
           },
           {
            "name": "n8n",
            "count": 1
           },
           {
            "name": "8 others",
            "count": 8
           }
          ]
         }
        },
        {
         "name": "language",
         "dtype": "object",
         "stats": {
          "unique_count": 4,
          "nan_count": 2,
          "categories": [
           {
            "name": "python",
            "count": 4
           },
           {
            "name": "3 others",
            "count": 4
           },
           {
            "name": "Missing",
            "count": 2
           }
          ]
         }
        },
        {
         "name": "stars",
         "dtype": "int64",
         "stats": {
          "unique_count": 10,
          "nan_count": 0,
          "min": "369",
          "max": "110768",
          "histogram": [
           {
            "bin_start": 369,
            "bin_end": 11408.9,
            "count": 8
           },
           {
            "bin_start": 11408.9,
            "bin_end": 22448.8,
            "count": 1
           },
           {
            "bin_start": 22448.8,
            "bin_end": 33488.7,
            "count": 0
           },
           {
            "bin_start": 33488.7,
            "bin_end": 44528.6,
            "count": 0
           },
           {
            "bin_start": 44528.6,
            "bin_end": 55568.5,
            "count": 0
           },
           {
            "bin_start": 55568.5,
            "bin_end": 66608.4,
            "count": 0
           },
           {
            "bin_start": 66608.4,
            "bin_end": 77648.3,
            "count": 0
           },
           {
            "bin_start": 77648.3,
            "bin_end": 88688.2,
            "count": 0
           },
           {
            "bin_start": 88688.2,
            "bin_end": 99728.09999999999,
            "count": 0
           },
           {
            "bin_start": 99728.09999999999,
            "bin_end": 110768,
            "count": 1
           }
          ]
         }
        },
        {
         "name": "stars_today",
         "dtype": "int64",
         "stats": {
          "unique_count": 10,
          "nan_count": 0,
          "min": "71",
          "max": "574",
          "histogram": [
           {
            "bin_start": 71,
            "bin_end": 121.3,
            "count": 2
           },
           {
            "bin_start": 121.3,
            "bin_end": 171.6,
            "count": 0
           },
           {
            "bin_start": 171.6,
            "bin_end": 221.89999999999998,
            "count": 1
           },
           {
            "bin_start": 221.89999999999998,
            "bin_end": 272.2,
            "count": 3
           },
           {
            "bin_start": 272.2,
            "bin_end": 322.5,
            "count": 2
           },
           {
            "bin_start": 322.5,
            "bin_end": 372.79999999999995,
            "count": 0
           },
           {
            "bin_start": 372.79999999999995,
            "bin_end": 423.09999999999997,
            "count": 1
           },
           {
            "bin_start": 423.09999999999997,
            "bin_end": 473.4,
            "count": 0
           },
           {
            "bin_start": 473.4,
            "bin_end": 523.7,
            "count": 0
           },
           {
            "bin_start": 523.7,
            "bin_end": 574,
            "count": 1
           }
          ]
         }
        },
        {
         "name": "forks",
         "dtype": "int64",
         "stats": {
          "unique_count": 10,
          "nan_count": 0,
          "min": "38",
          "max": "18331",
          "histogram": [
           {
            "bin_start": 38,
            "bin_end": 1867.3,
            "count": 9
           },
           {
            "bin_start": 1867.3,
            "bin_end": 3696.6,
            "count": 0
           },
           {
            "bin_start": 3696.6,
            "bin_end": 5525.9,
            "count": 0
           },
           {
            "bin_start": 5525.9,
            "bin_end": 7355.2,
            "count": 0
           },
           {
            "bin_start": 7355.2,
            "bin_end": 9184.5,
            "count": 0
           },
           {
            "bin_start": 9184.5,
            "bin_end": 11013.8,
            "count": 0
           },
           {
            "bin_start": 11013.8,
            "bin_end": 12843.1,
            "count": 0
           },
           {
            "bin_start": 12843.1,
            "bin_end": 14672.4,
            "count": 0
           },
           {
            "bin_start": 14672.4,
            "bin_end": 16501.7,
            "count": 0
           },
           {
            "bin_start": 16501.7,
            "bin_end": 18331,
            "count": 1
           }
          ]
         }
        },
        {
         "name": "_deepnote_index_column",
         "dtype": "int64"
        }
       ],
       "rows_top": [
        {
         "ranking": 6,
         "project": "javascript-algorithms",
         "language": "javascript",
         "stars": 110768,
         "stars_today": 248,
         "forks": 18331,
         "_deepnote_index_column": 5
        },
        {
         "ranking": 2,
         "project": "n8n",
         "language": "typescript",
         "stars": 15668,
         "stars_today": 280,
         "forks": 1370,
         "_deepnote_index_column": 1
        },
        {
         "ranking": 5,
         "project": "pytorch-image-models",
         "language": "python",
         "stars": 11065,
         "stars_today": 101,
         "forks": 1646,
         "_deepnote_index_column": 4
        },
        {
         "ranking": 3,
         "project": "slides",
         "language": "go",
         "stars": 3218,
         "stars_today": 265,
         "forks": 80,
         "_deepnote_index_column": 2
        },
        {
         "ranking": 9,
         "project": "augly",
         "language": "python",
         "stars": 2849,
         "stars_today": 393,
         "forks": 99,
         "_deepnote_index_column": 8
        },
        {
         "ranking": 7,
         "project": "paddleclas",
         "language": "python",
         "stars": 1429,
         "stars_today": 283,
         "forks": 323,
         "_deepnote_index_column": 6
        },
        {
         "ranking": 1,
         "project": "plow",
         "language": "go",
         "stars": 1304,
         "stars_today": 574,
         "forks": 38,
         "_deepnote_index_column": 0
        },
        {
         "ranking": 10,
         "project": "self-taught-guide-to-cloud-computing",
         "language": "nan",
         "stars": 863,
         "stars_today": 179,
         "forks": 84,
         "_deepnote_index_column": 9
        },
        {
         "ranking": 4,
         "project": "defi-developer-road-map",
         "language": "nan",
         "stars": 636,
         "stars_today": 247,
         "forks": 49,
         "_deepnote_index_column": 3
        },
        {
         "ranking": 8,
         "project": "reddit_sentiment_trader",
         "language": "python",
         "stars": 369,
         "stars_today": 71,
         "forks": 60,
         "_deepnote_index_column": 7
        }
       ],
       "rows_bottom": null
      },
      "text/plain": "   ranking                               project    language   stars  \\\n5        6                 javascript-algorithms  javascript  110768   \n1        2                                   n8n  typescript   15668   \n4        5                  pytorch-image-models      python   11065   \n2        3                                slides          go    3218   \n8        9                                 augly      python    2849   \n6        7                            paddleclas      python    1429   \n0        1                                  plow          go    1304   \n9       10  self-taught-guide-to-cloud-computing         NaN     863   \n3        4               defi-developer-road-map         NaN     636   \n7        8               reddit_sentiment_trader      python     369   \n\n   stars_today  forks  \n5          248  18331  \n1          280   1370  \n4          101   1646  \n2          265     80  \n8          393     99  \n6          283    323  \n0          574     38  \n9          179     84  \n3          247     49  \n7           71     60  ",
      "text/html": "<div>\n<style scoped>\n    .dataframe tbody tr th:only-of-type {\n        vertical-align: middle;\n    }\n\n    .dataframe tbody tr th {\n        vertical-align: top;\n    }\n\n    .dataframe thead th {\n        text-align: right;\n    }\n</style>\n<table border=\"1\" class=\"dataframe\">\n  <thead>\n    <tr style=\"text-align: right;\">\n      <th></th>\n      <th>ranking</th>\n      <th>project</th>\n      <th>language</th>\n      <th>stars</th>\n      <th>stars_today</th>\n      <th>forks</th>\n    </tr>\n  </thead>\n  <tbody>\n    <tr>\n      <th>5</th>\n      <td>6</td>\n      <td>javascript-algorithms</td>\n      <td>javascript</td>\n      <td>110768</td>\n      <td>248</td>\n      <td>18331</td>\n    </tr>\n    <tr>\n      <th>1</th>\n      <td>2</td>\n      <td>n8n</td>\n      <td>typescript</td>\n      <td>15668</td>\n      <td>280</td>\n      <td>1370</td>\n    </tr>\n    <tr>\n      <th>4</th>\n      <td>5</td>\n      <td>pytorch-image-models</td>\n      <td>python</td>\n      <td>11065</td>\n      <td>101</td>\n      <td>1646</td>\n    </tr>\n    <tr>\n      <th>2</th>\n      <td>3</td>\n      <td>slides</td>\n      <td>go</td>\n      <td>3218</td>\n      <td>265</td>\n      <td>80</td>\n    </tr>\n    <tr>\n      <th>8</th>\n      <td>9</td>\n      <td>augly</td>\n      <td>python</td>\n      <td>2849</td>\n      <td>393</td>\n      <td>99</td>\n    </tr>\n    <tr>\n      <th>6</th>\n      <td>7</td>\n      <td>paddleclas</td>\n      <td>python</td>\n      <td>1429</td>\n      <td>283</td>\n      <td>323</td>\n    </tr>\n    <tr>\n      <th>0</th>\n      <td>1</td>\n      <td>plow</td>\n      <td>go</td>\n      <td>1304</td>\n      <td>574</td>\n      <td>38</td>\n    </tr>\n    <tr>\n      <th>9</th>\n      <td>10</td>\n      <td>self-taught-guide-to-cloud-computing</td>\n      <td>NaN</td>\n      <td>863</td>\n      <td>179</td>\n      <td>84</td>\n    </tr>\n    <tr>\n      <th>3</th>\n      <td>4</td>\n      <td>defi-developer-road-map</td>\n      <td>NaN</td>\n      <td>636</td>\n      <td>247</td>\n      <td>49</td>\n    </tr>\n    <tr>\n      <th>7</th>\n      <td>8</td>\n      <td>reddit_sentiment_trader</td>\n      <td>python</td>\n      <td>369</td>\n      <td>71</td>\n      <td>60</td>\n    </tr>\n  </tbody>\n</table>\n</div>"
     },
     "metadata": {}
    }
   ]
  },
  {
   "cell_type": "markdown",
   "source": "**Exemplo**: Ordernação com um conjunto de colunas de referência através do método `sort_values`.",
   "metadata": {
    "id": "rCiKldQi_kWg",
    "cell_id": "00040-ed46eaa1-c939-4efa-a11a-25edf12243cd",
    "deepnote_cell_type": "markdown"
   }
  },
  {
   "cell_type": "code",
   "metadata": {
    "id": "JmtXs8Pj_dit",
    "cell_id": "00041-20abeb53-43ef-461c-8721-72f516bf0e45",
    "deepnote_to_be_reexecuted": false,
    "source_hash": "bd9cc8f4",
    "execution_start": 1639097322871,
    "execution_millis": 53,
    "deepnote_cell_type": "code"
   },
   "source": "github_df.sort_values(by=['language', 'forks'], ascending=False)",
   "execution_count": null,
   "outputs": [
    {
     "output_type": "execute_result",
     "execution_count": 22,
     "data": {
      "application/vnd.deepnote.dataframe.v2+json": {
       "row_count": 10,
       "column_count": 6,
       "columns": [
        {
         "name": "ranking",
         "dtype": "int64",
         "stats": {
          "unique_count": 10,
          "nan_count": 0,
          "min": "1",
          "max": "10",
          "histogram": [
           {
            "bin_start": 1,
            "bin_end": 1.9,
            "count": 1
           },
           {
            "bin_start": 1.9,
            "bin_end": 2.8,
            "count": 1
           },
           {
            "bin_start": 2.8,
            "bin_end": 3.7,
            "count": 1
           },
           {
            "bin_start": 3.7,
            "bin_end": 4.6,
            "count": 1
           },
           {
            "bin_start": 4.6,
            "bin_end": 5.5,
            "count": 1
           },
           {
            "bin_start": 5.5,
            "bin_end": 6.4,
            "count": 1
           },
           {
            "bin_start": 6.4,
            "bin_end": 7.3,
            "count": 1
           },
           {
            "bin_start": 7.3,
            "bin_end": 8.2,
            "count": 1
           },
           {
            "bin_start": 8.2,
            "bin_end": 9.1,
            "count": 1
           },
           {
            "bin_start": 9.1,
            "bin_end": 10,
            "count": 1
           }
          ]
         }
        },
        {
         "name": "project",
         "dtype": "object",
         "stats": {
          "unique_count": 10,
          "nan_count": 0,
          "categories": [
           {
            "name": "n8n",
            "count": 1
           },
           {
            "name": "pytorch-image-models",
            "count": 1
           },
           {
            "name": "8 others",
            "count": 8
           }
          ]
         }
        },
        {
         "name": "language",
         "dtype": "object",
         "stats": {
          "unique_count": 4,
          "nan_count": 2,
          "categories": [
           {
            "name": "python",
            "count": 4
           },
           {
            "name": "3 others",
            "count": 4
           },
           {
            "name": "Missing",
            "count": 2
           }
          ]
         }
        },
        {
         "name": "stars",
         "dtype": "int64",
         "stats": {
          "unique_count": 10,
          "nan_count": 0,
          "min": "369",
          "max": "110768",
          "histogram": [
           {
            "bin_start": 369,
            "bin_end": 11408.9,
            "count": 8
           },
           {
            "bin_start": 11408.9,
            "bin_end": 22448.8,
            "count": 1
           },
           {
            "bin_start": 22448.8,
            "bin_end": 33488.7,
            "count": 0
           },
           {
            "bin_start": 33488.7,
            "bin_end": 44528.6,
            "count": 0
           },
           {
            "bin_start": 44528.6,
            "bin_end": 55568.5,
            "count": 0
           },
           {
            "bin_start": 55568.5,
            "bin_end": 66608.4,
            "count": 0
           },
           {
            "bin_start": 66608.4,
            "bin_end": 77648.3,
            "count": 0
           },
           {
            "bin_start": 77648.3,
            "bin_end": 88688.2,
            "count": 0
           },
           {
            "bin_start": 88688.2,
            "bin_end": 99728.09999999999,
            "count": 0
           },
           {
            "bin_start": 99728.09999999999,
            "bin_end": 110768,
            "count": 1
           }
          ]
         }
        },
        {
         "name": "stars_today",
         "dtype": "int64",
         "stats": {
          "unique_count": 10,
          "nan_count": 0,
          "min": "71",
          "max": "574",
          "histogram": [
           {
            "bin_start": 71,
            "bin_end": 121.3,
            "count": 2
           },
           {
            "bin_start": 121.3,
            "bin_end": 171.6,
            "count": 0
           },
           {
            "bin_start": 171.6,
            "bin_end": 221.89999999999998,
            "count": 1
           },
           {
            "bin_start": 221.89999999999998,
            "bin_end": 272.2,
            "count": 3
           },
           {
            "bin_start": 272.2,
            "bin_end": 322.5,
            "count": 2
           },
           {
            "bin_start": 322.5,
            "bin_end": 372.79999999999995,
            "count": 0
           },
           {
            "bin_start": 372.79999999999995,
            "bin_end": 423.09999999999997,
            "count": 1
           },
           {
            "bin_start": 423.09999999999997,
            "bin_end": 473.4,
            "count": 0
           },
           {
            "bin_start": 473.4,
            "bin_end": 523.7,
            "count": 0
           },
           {
            "bin_start": 523.7,
            "bin_end": 574,
            "count": 1
           }
          ]
         }
        },
        {
         "name": "forks",
         "dtype": "int64",
         "stats": {
          "unique_count": 10,
          "nan_count": 0,
          "min": "38",
          "max": "18331",
          "histogram": [
           {
            "bin_start": 38,
            "bin_end": 1867.3,
            "count": 9
           },
           {
            "bin_start": 1867.3,
            "bin_end": 3696.6,
            "count": 0
           },
           {
            "bin_start": 3696.6,
            "bin_end": 5525.9,
            "count": 0
           },
           {
            "bin_start": 5525.9,
            "bin_end": 7355.2,
            "count": 0
           },
           {
            "bin_start": 7355.2,
            "bin_end": 9184.5,
            "count": 0
           },
           {
            "bin_start": 9184.5,
            "bin_end": 11013.8,
            "count": 0
           },
           {
            "bin_start": 11013.8,
            "bin_end": 12843.1,
            "count": 0
           },
           {
            "bin_start": 12843.1,
            "bin_end": 14672.4,
            "count": 0
           },
           {
            "bin_start": 14672.4,
            "bin_end": 16501.7,
            "count": 0
           },
           {
            "bin_start": 16501.7,
            "bin_end": 18331,
            "count": 1
           }
          ]
         }
        },
        {
         "name": "_deepnote_index_column",
         "dtype": "int64"
        }
       ],
       "rows_top": [
        {
         "ranking": 2,
         "project": "n8n",
         "language": "typescript",
         "stars": 15668,
         "stars_today": 280,
         "forks": 1370,
         "_deepnote_index_column": 1
        },
        {
         "ranking": 5,
         "project": "pytorch-image-models",
         "language": "python",
         "stars": 11065,
         "stars_today": 101,
         "forks": 1646,
         "_deepnote_index_column": 4
        },
        {
         "ranking": 7,
         "project": "paddleclas",
         "language": "python",
         "stars": 1429,
         "stars_today": 283,
         "forks": 323,
         "_deepnote_index_column": 6
        },
        {
         "ranking": 9,
         "project": "augly",
         "language": "python",
         "stars": 2849,
         "stars_today": 393,
         "forks": 99,
         "_deepnote_index_column": 8
        },
        {
         "ranking": 8,
         "project": "reddit_sentiment_trader",
         "language": "python",
         "stars": 369,
         "stars_today": 71,
         "forks": 60,
         "_deepnote_index_column": 7
        },
        {
         "ranking": 6,
         "project": "javascript-algorithms",
         "language": "javascript",
         "stars": 110768,
         "stars_today": 248,
         "forks": 18331,
         "_deepnote_index_column": 5
        },
        {
         "ranking": 3,
         "project": "slides",
         "language": "go",
         "stars": 3218,
         "stars_today": 265,
         "forks": 80,
         "_deepnote_index_column": 2
        },
        {
         "ranking": 1,
         "project": "plow",
         "language": "go",
         "stars": 1304,
         "stars_today": 574,
         "forks": 38,
         "_deepnote_index_column": 0
        },
        {
         "ranking": 10,
         "project": "self-taught-guide-to-cloud-computing",
         "language": "nan",
         "stars": 863,
         "stars_today": 179,
         "forks": 84,
         "_deepnote_index_column": 9
        },
        {
         "ranking": 4,
         "project": "defi-developer-road-map",
         "language": "nan",
         "stars": 636,
         "stars_today": 247,
         "forks": 49,
         "_deepnote_index_column": 3
        }
       ],
       "rows_bottom": null
      },
      "text/plain": "   ranking                               project    language   stars  \\\n1        2                                   n8n  typescript   15668   \n4        5                  pytorch-image-models      python   11065   \n6        7                            paddleclas      python    1429   \n8        9                                 augly      python    2849   \n7        8               reddit_sentiment_trader      python     369   \n5        6                 javascript-algorithms  javascript  110768   \n2        3                                slides          go    3218   \n0        1                                  plow          go    1304   \n9       10  self-taught-guide-to-cloud-computing         NaN     863   \n3        4               defi-developer-road-map         NaN     636   \n\n   stars_today  forks  \n1          280   1370  \n4          101   1646  \n6          283    323  \n8          393     99  \n7           71     60  \n5          248  18331  \n2          265     80  \n0          574     38  \n9          179     84  \n3          247     49  ",
      "text/html": "<div>\n<style scoped>\n    .dataframe tbody tr th:only-of-type {\n        vertical-align: middle;\n    }\n\n    .dataframe tbody tr th {\n        vertical-align: top;\n    }\n\n    .dataframe thead th {\n        text-align: right;\n    }\n</style>\n<table border=\"1\" class=\"dataframe\">\n  <thead>\n    <tr style=\"text-align: right;\">\n      <th></th>\n      <th>ranking</th>\n      <th>project</th>\n      <th>language</th>\n      <th>stars</th>\n      <th>stars_today</th>\n      <th>forks</th>\n    </tr>\n  </thead>\n  <tbody>\n    <tr>\n      <th>1</th>\n      <td>2</td>\n      <td>n8n</td>\n      <td>typescript</td>\n      <td>15668</td>\n      <td>280</td>\n      <td>1370</td>\n    </tr>\n    <tr>\n      <th>4</th>\n      <td>5</td>\n      <td>pytorch-image-models</td>\n      <td>python</td>\n      <td>11065</td>\n      <td>101</td>\n      <td>1646</td>\n    </tr>\n    <tr>\n      <th>6</th>\n      <td>7</td>\n      <td>paddleclas</td>\n      <td>python</td>\n      <td>1429</td>\n      <td>283</td>\n      <td>323</td>\n    </tr>\n    <tr>\n      <th>8</th>\n      <td>9</td>\n      <td>augly</td>\n      <td>python</td>\n      <td>2849</td>\n      <td>393</td>\n      <td>99</td>\n    </tr>\n    <tr>\n      <th>7</th>\n      <td>8</td>\n      <td>reddit_sentiment_trader</td>\n      <td>python</td>\n      <td>369</td>\n      <td>71</td>\n      <td>60</td>\n    </tr>\n    <tr>\n      <th>5</th>\n      <td>6</td>\n      <td>javascript-algorithms</td>\n      <td>javascript</td>\n      <td>110768</td>\n      <td>248</td>\n      <td>18331</td>\n    </tr>\n    <tr>\n      <th>2</th>\n      <td>3</td>\n      <td>slides</td>\n      <td>go</td>\n      <td>3218</td>\n      <td>265</td>\n      <td>80</td>\n    </tr>\n    <tr>\n      <th>0</th>\n      <td>1</td>\n      <td>plow</td>\n      <td>go</td>\n      <td>1304</td>\n      <td>574</td>\n      <td>38</td>\n    </tr>\n    <tr>\n      <th>9</th>\n      <td>10</td>\n      <td>self-taught-guide-to-cloud-computing</td>\n      <td>NaN</td>\n      <td>863</td>\n      <td>179</td>\n      <td>84</td>\n    </tr>\n    <tr>\n      <th>3</th>\n      <td>4</td>\n      <td>defi-developer-road-map</td>\n      <td>NaN</td>\n      <td>636</td>\n      <td>247</td>\n      <td>49</td>\n    </tr>\n  </tbody>\n</table>\n</div>"
     },
     "metadata": {}
    }
   ]
  },
  {
   "cell_type": "markdown",
   "source": "**Exemplo**: Ordernação com a \"coluna\" de indices como referência através do método `sort_index`.",
   "metadata": {
    "id": "PbisNZZiANNB",
    "cell_id": "00042-f1eb5af0-73b5-4770-ac54-744ee710a102",
    "deepnote_cell_type": "markdown"
   }
  },
  {
   "cell_type": "code",
   "metadata": {
    "id": "1Ip2NL5xAZiI",
    "cell_id": "00043-6217d11f-4405-47f8-9615-2ce562430580",
    "deepnote_to_be_reexecuted": false,
    "source_hash": "dee93ebe",
    "execution_start": 1639097322978,
    "execution_millis": 12,
    "deepnote_cell_type": "code"
   },
   "source": "github_df.sort_index()",
   "execution_count": null,
   "outputs": [
    {
     "output_type": "execute_result",
     "execution_count": 23,
     "data": {
      "application/vnd.deepnote.dataframe.v2+json": {
       "row_count": 10,
       "column_count": 6,
       "columns": [
        {
         "name": "ranking",
         "dtype": "int64",
         "stats": {
          "unique_count": 10,
          "nan_count": 0,
          "min": "1",
          "max": "10",
          "histogram": [
           {
            "bin_start": 1,
            "bin_end": 1.9,
            "count": 1
           },
           {
            "bin_start": 1.9,
            "bin_end": 2.8,
            "count": 1
           },
           {
            "bin_start": 2.8,
            "bin_end": 3.7,
            "count": 1
           },
           {
            "bin_start": 3.7,
            "bin_end": 4.6,
            "count": 1
           },
           {
            "bin_start": 4.6,
            "bin_end": 5.5,
            "count": 1
           },
           {
            "bin_start": 5.5,
            "bin_end": 6.4,
            "count": 1
           },
           {
            "bin_start": 6.4,
            "bin_end": 7.3,
            "count": 1
           },
           {
            "bin_start": 7.3,
            "bin_end": 8.2,
            "count": 1
           },
           {
            "bin_start": 8.2,
            "bin_end": 9.1,
            "count": 1
           },
           {
            "bin_start": 9.1,
            "bin_end": 10,
            "count": 1
           }
          ]
         }
        },
        {
         "name": "project",
         "dtype": "object",
         "stats": {
          "unique_count": 10,
          "nan_count": 0,
          "categories": [
           {
            "name": "plow",
            "count": 1
           },
           {
            "name": "n8n",
            "count": 1
           },
           {
            "name": "8 others",
            "count": 8
           }
          ]
         }
        },
        {
         "name": "language",
         "dtype": "object",
         "stats": {
          "unique_count": 4,
          "nan_count": 2,
          "categories": [
           {
            "name": "python",
            "count": 4
           },
           {
            "name": "3 others",
            "count": 4
           },
           {
            "name": "Missing",
            "count": 2
           }
          ]
         }
        },
        {
         "name": "stars",
         "dtype": "int64",
         "stats": {
          "unique_count": 10,
          "nan_count": 0,
          "min": "369",
          "max": "110768",
          "histogram": [
           {
            "bin_start": 369,
            "bin_end": 11408.9,
            "count": 8
           },
           {
            "bin_start": 11408.9,
            "bin_end": 22448.8,
            "count": 1
           },
           {
            "bin_start": 22448.8,
            "bin_end": 33488.7,
            "count": 0
           },
           {
            "bin_start": 33488.7,
            "bin_end": 44528.6,
            "count": 0
           },
           {
            "bin_start": 44528.6,
            "bin_end": 55568.5,
            "count": 0
           },
           {
            "bin_start": 55568.5,
            "bin_end": 66608.4,
            "count": 0
           },
           {
            "bin_start": 66608.4,
            "bin_end": 77648.3,
            "count": 0
           },
           {
            "bin_start": 77648.3,
            "bin_end": 88688.2,
            "count": 0
           },
           {
            "bin_start": 88688.2,
            "bin_end": 99728.09999999999,
            "count": 0
           },
           {
            "bin_start": 99728.09999999999,
            "bin_end": 110768,
            "count": 1
           }
          ]
         }
        },
        {
         "name": "stars_today",
         "dtype": "int64",
         "stats": {
          "unique_count": 10,
          "nan_count": 0,
          "min": "71",
          "max": "574",
          "histogram": [
           {
            "bin_start": 71,
            "bin_end": 121.3,
            "count": 2
           },
           {
            "bin_start": 121.3,
            "bin_end": 171.6,
            "count": 0
           },
           {
            "bin_start": 171.6,
            "bin_end": 221.89999999999998,
            "count": 1
           },
           {
            "bin_start": 221.89999999999998,
            "bin_end": 272.2,
            "count": 3
           },
           {
            "bin_start": 272.2,
            "bin_end": 322.5,
            "count": 2
           },
           {
            "bin_start": 322.5,
            "bin_end": 372.79999999999995,
            "count": 0
           },
           {
            "bin_start": 372.79999999999995,
            "bin_end": 423.09999999999997,
            "count": 1
           },
           {
            "bin_start": 423.09999999999997,
            "bin_end": 473.4,
            "count": 0
           },
           {
            "bin_start": 473.4,
            "bin_end": 523.7,
            "count": 0
           },
           {
            "bin_start": 523.7,
            "bin_end": 574,
            "count": 1
           }
          ]
         }
        },
        {
         "name": "forks",
         "dtype": "int64",
         "stats": {
          "unique_count": 10,
          "nan_count": 0,
          "min": "38",
          "max": "18331",
          "histogram": [
           {
            "bin_start": 38,
            "bin_end": 1867.3,
            "count": 9
           },
           {
            "bin_start": 1867.3,
            "bin_end": 3696.6,
            "count": 0
           },
           {
            "bin_start": 3696.6,
            "bin_end": 5525.9,
            "count": 0
           },
           {
            "bin_start": 5525.9,
            "bin_end": 7355.2,
            "count": 0
           },
           {
            "bin_start": 7355.2,
            "bin_end": 9184.5,
            "count": 0
           },
           {
            "bin_start": 9184.5,
            "bin_end": 11013.8,
            "count": 0
           },
           {
            "bin_start": 11013.8,
            "bin_end": 12843.1,
            "count": 0
           },
           {
            "bin_start": 12843.1,
            "bin_end": 14672.4,
            "count": 0
           },
           {
            "bin_start": 14672.4,
            "bin_end": 16501.7,
            "count": 0
           },
           {
            "bin_start": 16501.7,
            "bin_end": 18331,
            "count": 1
           }
          ]
         }
        },
        {
         "name": "_deepnote_index_column",
         "dtype": "int64"
        }
       ],
       "rows_top": [
        {
         "ranking": 1,
         "project": "plow",
         "language": "go",
         "stars": 1304,
         "stars_today": 574,
         "forks": 38,
         "_deepnote_index_column": 0
        },
        {
         "ranking": 2,
         "project": "n8n",
         "language": "typescript",
         "stars": 15668,
         "stars_today": 280,
         "forks": 1370,
         "_deepnote_index_column": 1
        },
        {
         "ranking": 3,
         "project": "slides",
         "language": "go",
         "stars": 3218,
         "stars_today": 265,
         "forks": 80,
         "_deepnote_index_column": 2
        },
        {
         "ranking": 4,
         "project": "defi-developer-road-map",
         "language": "nan",
         "stars": 636,
         "stars_today": 247,
         "forks": 49,
         "_deepnote_index_column": 3
        },
        {
         "ranking": 5,
         "project": "pytorch-image-models",
         "language": "python",
         "stars": 11065,
         "stars_today": 101,
         "forks": 1646,
         "_deepnote_index_column": 4
        },
        {
         "ranking": 6,
         "project": "javascript-algorithms",
         "language": "javascript",
         "stars": 110768,
         "stars_today": 248,
         "forks": 18331,
         "_deepnote_index_column": 5
        },
        {
         "ranking": 7,
         "project": "paddleclas",
         "language": "python",
         "stars": 1429,
         "stars_today": 283,
         "forks": 323,
         "_deepnote_index_column": 6
        },
        {
         "ranking": 8,
         "project": "reddit_sentiment_trader",
         "language": "python",
         "stars": 369,
         "stars_today": 71,
         "forks": 60,
         "_deepnote_index_column": 7
        },
        {
         "ranking": 9,
         "project": "augly",
         "language": "python",
         "stars": 2849,
         "stars_today": 393,
         "forks": 99,
         "_deepnote_index_column": 8
        },
        {
         "ranking": 10,
         "project": "self-taught-guide-to-cloud-computing",
         "language": "nan",
         "stars": 863,
         "stars_today": 179,
         "forks": 84,
         "_deepnote_index_column": 9
        }
       ],
       "rows_bottom": null
      },
      "text/plain": "   ranking                               project    language   stars  \\\n0        1                                  plow          go    1304   \n1        2                                   n8n  typescript   15668   \n2        3                                slides          go    3218   \n3        4               defi-developer-road-map         NaN     636   \n4        5                  pytorch-image-models      python   11065   \n5        6                 javascript-algorithms  javascript  110768   \n6        7                            paddleclas      python    1429   \n7        8               reddit_sentiment_trader      python     369   \n8        9                                 augly      python    2849   \n9       10  self-taught-guide-to-cloud-computing         NaN     863   \n\n   stars_today  forks  \n0          574     38  \n1          280   1370  \n2          265     80  \n3          247     49  \n4          101   1646  \n5          248  18331  \n6          283    323  \n7           71     60  \n8          393     99  \n9          179     84  ",
      "text/html": "<div>\n<style scoped>\n    .dataframe tbody tr th:only-of-type {\n        vertical-align: middle;\n    }\n\n    .dataframe tbody tr th {\n        vertical-align: top;\n    }\n\n    .dataframe thead th {\n        text-align: right;\n    }\n</style>\n<table border=\"1\" class=\"dataframe\">\n  <thead>\n    <tr style=\"text-align: right;\">\n      <th></th>\n      <th>ranking</th>\n      <th>project</th>\n      <th>language</th>\n      <th>stars</th>\n      <th>stars_today</th>\n      <th>forks</th>\n    </tr>\n  </thead>\n  <tbody>\n    <tr>\n      <th>0</th>\n      <td>1</td>\n      <td>plow</td>\n      <td>go</td>\n      <td>1304</td>\n      <td>574</td>\n      <td>38</td>\n    </tr>\n    <tr>\n      <th>1</th>\n      <td>2</td>\n      <td>n8n</td>\n      <td>typescript</td>\n      <td>15668</td>\n      <td>280</td>\n      <td>1370</td>\n    </tr>\n    <tr>\n      <th>2</th>\n      <td>3</td>\n      <td>slides</td>\n      <td>go</td>\n      <td>3218</td>\n      <td>265</td>\n      <td>80</td>\n    </tr>\n    <tr>\n      <th>3</th>\n      <td>4</td>\n      <td>defi-developer-road-map</td>\n      <td>NaN</td>\n      <td>636</td>\n      <td>247</td>\n      <td>49</td>\n    </tr>\n    <tr>\n      <th>4</th>\n      <td>5</td>\n      <td>pytorch-image-models</td>\n      <td>python</td>\n      <td>11065</td>\n      <td>101</td>\n      <td>1646</td>\n    </tr>\n    <tr>\n      <th>5</th>\n      <td>6</td>\n      <td>javascript-algorithms</td>\n      <td>javascript</td>\n      <td>110768</td>\n      <td>248</td>\n      <td>18331</td>\n    </tr>\n    <tr>\n      <th>6</th>\n      <td>7</td>\n      <td>paddleclas</td>\n      <td>python</td>\n      <td>1429</td>\n      <td>283</td>\n      <td>323</td>\n    </tr>\n    <tr>\n      <th>7</th>\n      <td>8</td>\n      <td>reddit_sentiment_trader</td>\n      <td>python</td>\n      <td>369</td>\n      <td>71</td>\n      <td>60</td>\n    </tr>\n    <tr>\n      <th>8</th>\n      <td>9</td>\n      <td>augly</td>\n      <td>python</td>\n      <td>2849</td>\n      <td>393</td>\n      <td>99</td>\n    </tr>\n    <tr>\n      <th>9</th>\n      <td>10</td>\n      <td>self-taught-guide-to-cloud-computing</td>\n      <td>NaN</td>\n      <td>863</td>\n      <td>179</td>\n      <td>84</td>\n    </tr>\n  </tbody>\n</table>\n</div>"
     },
     "metadata": {}
    }
   ]
  },
  {
   "cell_type": "code",
   "metadata": {
    "id": "ilKEUeAtAfmQ",
    "cell_id": "00044-34f9c92c-e335-42b0-8106-1e8c74326773",
    "deepnote_to_be_reexecuted": false,
    "source_hash": "121df93a",
    "execution_start": 1639097323042,
    "execution_millis": 21,
    "deepnote_cell_type": "code"
   },
   "source": "github_df.sort_index(ascending=False)",
   "execution_count": null,
   "outputs": [
    {
     "output_type": "execute_result",
     "execution_count": 24,
     "data": {
      "application/vnd.deepnote.dataframe.v2+json": {
       "row_count": 10,
       "column_count": 6,
       "columns": [
        {
         "name": "ranking",
         "dtype": "int64",
         "stats": {
          "unique_count": 10,
          "nan_count": 0,
          "min": "1",
          "max": "10",
          "histogram": [
           {
            "bin_start": 1,
            "bin_end": 1.9,
            "count": 1
           },
           {
            "bin_start": 1.9,
            "bin_end": 2.8,
            "count": 1
           },
           {
            "bin_start": 2.8,
            "bin_end": 3.7,
            "count": 1
           },
           {
            "bin_start": 3.7,
            "bin_end": 4.6,
            "count": 1
           },
           {
            "bin_start": 4.6,
            "bin_end": 5.5,
            "count": 1
           },
           {
            "bin_start": 5.5,
            "bin_end": 6.4,
            "count": 1
           },
           {
            "bin_start": 6.4,
            "bin_end": 7.3,
            "count": 1
           },
           {
            "bin_start": 7.3,
            "bin_end": 8.2,
            "count": 1
           },
           {
            "bin_start": 8.2,
            "bin_end": 9.1,
            "count": 1
           },
           {
            "bin_start": 9.1,
            "bin_end": 10,
            "count": 1
           }
          ]
         }
        },
        {
         "name": "project",
         "dtype": "object",
         "stats": {
          "unique_count": 10,
          "nan_count": 0,
          "categories": [
           {
            "name": "self-taught-guide-to-cloud-computing",
            "count": 1
           },
           {
            "name": "augly",
            "count": 1
           },
           {
            "name": "8 others",
            "count": 8
           }
          ]
         }
        },
        {
         "name": "language",
         "dtype": "object",
         "stats": {
          "unique_count": 4,
          "nan_count": 2,
          "categories": [
           {
            "name": "python",
            "count": 4
           },
           {
            "name": "3 others",
            "count": 4
           },
           {
            "name": "Missing",
            "count": 2
           }
          ]
         }
        },
        {
         "name": "stars",
         "dtype": "int64",
         "stats": {
          "unique_count": 10,
          "nan_count": 0,
          "min": "369",
          "max": "110768",
          "histogram": [
           {
            "bin_start": 369,
            "bin_end": 11408.9,
            "count": 8
           },
           {
            "bin_start": 11408.9,
            "bin_end": 22448.8,
            "count": 1
           },
           {
            "bin_start": 22448.8,
            "bin_end": 33488.7,
            "count": 0
           },
           {
            "bin_start": 33488.7,
            "bin_end": 44528.6,
            "count": 0
           },
           {
            "bin_start": 44528.6,
            "bin_end": 55568.5,
            "count": 0
           },
           {
            "bin_start": 55568.5,
            "bin_end": 66608.4,
            "count": 0
           },
           {
            "bin_start": 66608.4,
            "bin_end": 77648.3,
            "count": 0
           },
           {
            "bin_start": 77648.3,
            "bin_end": 88688.2,
            "count": 0
           },
           {
            "bin_start": 88688.2,
            "bin_end": 99728.09999999999,
            "count": 0
           },
           {
            "bin_start": 99728.09999999999,
            "bin_end": 110768,
            "count": 1
           }
          ]
         }
        },
        {
         "name": "stars_today",
         "dtype": "int64",
         "stats": {
          "unique_count": 10,
          "nan_count": 0,
          "min": "71",
          "max": "574",
          "histogram": [
           {
            "bin_start": 71,
            "bin_end": 121.3,
            "count": 2
           },
           {
            "bin_start": 121.3,
            "bin_end": 171.6,
            "count": 0
           },
           {
            "bin_start": 171.6,
            "bin_end": 221.89999999999998,
            "count": 1
           },
           {
            "bin_start": 221.89999999999998,
            "bin_end": 272.2,
            "count": 3
           },
           {
            "bin_start": 272.2,
            "bin_end": 322.5,
            "count": 2
           },
           {
            "bin_start": 322.5,
            "bin_end": 372.79999999999995,
            "count": 0
           },
           {
            "bin_start": 372.79999999999995,
            "bin_end": 423.09999999999997,
            "count": 1
           },
           {
            "bin_start": 423.09999999999997,
            "bin_end": 473.4,
            "count": 0
           },
           {
            "bin_start": 473.4,
            "bin_end": 523.7,
            "count": 0
           },
           {
            "bin_start": 523.7,
            "bin_end": 574,
            "count": 1
           }
          ]
         }
        },
        {
         "name": "forks",
         "dtype": "int64",
         "stats": {
          "unique_count": 10,
          "nan_count": 0,
          "min": "38",
          "max": "18331",
          "histogram": [
           {
            "bin_start": 38,
            "bin_end": 1867.3,
            "count": 9
           },
           {
            "bin_start": 1867.3,
            "bin_end": 3696.6,
            "count": 0
           },
           {
            "bin_start": 3696.6,
            "bin_end": 5525.9,
            "count": 0
           },
           {
            "bin_start": 5525.9,
            "bin_end": 7355.2,
            "count": 0
           },
           {
            "bin_start": 7355.2,
            "bin_end": 9184.5,
            "count": 0
           },
           {
            "bin_start": 9184.5,
            "bin_end": 11013.8,
            "count": 0
           },
           {
            "bin_start": 11013.8,
            "bin_end": 12843.1,
            "count": 0
           },
           {
            "bin_start": 12843.1,
            "bin_end": 14672.4,
            "count": 0
           },
           {
            "bin_start": 14672.4,
            "bin_end": 16501.7,
            "count": 0
           },
           {
            "bin_start": 16501.7,
            "bin_end": 18331,
            "count": 1
           }
          ]
         }
        },
        {
         "name": "_deepnote_index_column",
         "dtype": "int64"
        }
       ],
       "rows_top": [
        {
         "ranking": 10,
         "project": "self-taught-guide-to-cloud-computing",
         "language": "nan",
         "stars": 863,
         "stars_today": 179,
         "forks": 84,
         "_deepnote_index_column": 9
        },
        {
         "ranking": 9,
         "project": "augly",
         "language": "python",
         "stars": 2849,
         "stars_today": 393,
         "forks": 99,
         "_deepnote_index_column": 8
        },
        {
         "ranking": 8,
         "project": "reddit_sentiment_trader",
         "language": "python",
         "stars": 369,
         "stars_today": 71,
         "forks": 60,
         "_deepnote_index_column": 7
        },
        {
         "ranking": 7,
         "project": "paddleclas",
         "language": "python",
         "stars": 1429,
         "stars_today": 283,
         "forks": 323,
         "_deepnote_index_column": 6
        },
        {
         "ranking": 6,
         "project": "javascript-algorithms",
         "language": "javascript",
         "stars": 110768,
         "stars_today": 248,
         "forks": 18331,
         "_deepnote_index_column": 5
        },
        {
         "ranking": 5,
         "project": "pytorch-image-models",
         "language": "python",
         "stars": 11065,
         "stars_today": 101,
         "forks": 1646,
         "_deepnote_index_column": 4
        },
        {
         "ranking": 4,
         "project": "defi-developer-road-map",
         "language": "nan",
         "stars": 636,
         "stars_today": 247,
         "forks": 49,
         "_deepnote_index_column": 3
        },
        {
         "ranking": 3,
         "project": "slides",
         "language": "go",
         "stars": 3218,
         "stars_today": 265,
         "forks": 80,
         "_deepnote_index_column": 2
        },
        {
         "ranking": 2,
         "project": "n8n",
         "language": "typescript",
         "stars": 15668,
         "stars_today": 280,
         "forks": 1370,
         "_deepnote_index_column": 1
        },
        {
         "ranking": 1,
         "project": "plow",
         "language": "go",
         "stars": 1304,
         "stars_today": 574,
         "forks": 38,
         "_deepnote_index_column": 0
        }
       ],
       "rows_bottom": null
      },
      "text/plain": "   ranking                               project    language   stars  \\\n9       10  self-taught-guide-to-cloud-computing         NaN     863   \n8        9                                 augly      python    2849   \n7        8               reddit_sentiment_trader      python     369   \n6        7                            paddleclas      python    1429   \n5        6                 javascript-algorithms  javascript  110768   \n4        5                  pytorch-image-models      python   11065   \n3        4               defi-developer-road-map         NaN     636   \n2        3                                slides          go    3218   \n1        2                                   n8n  typescript   15668   \n0        1                                  plow          go    1304   \n\n   stars_today  forks  \n9          179     84  \n8          393     99  \n7           71     60  \n6          283    323  \n5          248  18331  \n4          101   1646  \n3          247     49  \n2          265     80  \n1          280   1370  \n0          574     38  ",
      "text/html": "<div>\n<style scoped>\n    .dataframe tbody tr th:only-of-type {\n        vertical-align: middle;\n    }\n\n    .dataframe tbody tr th {\n        vertical-align: top;\n    }\n\n    .dataframe thead th {\n        text-align: right;\n    }\n</style>\n<table border=\"1\" class=\"dataframe\">\n  <thead>\n    <tr style=\"text-align: right;\">\n      <th></th>\n      <th>ranking</th>\n      <th>project</th>\n      <th>language</th>\n      <th>stars</th>\n      <th>stars_today</th>\n      <th>forks</th>\n    </tr>\n  </thead>\n  <tbody>\n    <tr>\n      <th>9</th>\n      <td>10</td>\n      <td>self-taught-guide-to-cloud-computing</td>\n      <td>NaN</td>\n      <td>863</td>\n      <td>179</td>\n      <td>84</td>\n    </tr>\n    <tr>\n      <th>8</th>\n      <td>9</td>\n      <td>augly</td>\n      <td>python</td>\n      <td>2849</td>\n      <td>393</td>\n      <td>99</td>\n    </tr>\n    <tr>\n      <th>7</th>\n      <td>8</td>\n      <td>reddit_sentiment_trader</td>\n      <td>python</td>\n      <td>369</td>\n      <td>71</td>\n      <td>60</td>\n    </tr>\n    <tr>\n      <th>6</th>\n      <td>7</td>\n      <td>paddleclas</td>\n      <td>python</td>\n      <td>1429</td>\n      <td>283</td>\n      <td>323</td>\n    </tr>\n    <tr>\n      <th>5</th>\n      <td>6</td>\n      <td>javascript-algorithms</td>\n      <td>javascript</td>\n      <td>110768</td>\n      <td>248</td>\n      <td>18331</td>\n    </tr>\n    <tr>\n      <th>4</th>\n      <td>5</td>\n      <td>pytorch-image-models</td>\n      <td>python</td>\n      <td>11065</td>\n      <td>101</td>\n      <td>1646</td>\n    </tr>\n    <tr>\n      <th>3</th>\n      <td>4</td>\n      <td>defi-developer-road-map</td>\n      <td>NaN</td>\n      <td>636</td>\n      <td>247</td>\n      <td>49</td>\n    </tr>\n    <tr>\n      <th>2</th>\n      <td>3</td>\n      <td>slides</td>\n      <td>go</td>\n      <td>3218</td>\n      <td>265</td>\n      <td>80</td>\n    </tr>\n    <tr>\n      <th>1</th>\n      <td>2</td>\n      <td>n8n</td>\n      <td>typescript</td>\n      <td>15668</td>\n      <td>280</td>\n      <td>1370</td>\n    </tr>\n    <tr>\n      <th>0</th>\n      <td>1</td>\n      <td>plow</td>\n      <td>go</td>\n      <td>1304</td>\n      <td>574</td>\n      <td>38</td>\n    </tr>\n  </tbody>\n</table>\n</div>"
     },
     "metadata": {}
    }
   ]
  },
  {
   "cell_type": "markdown",
   "source": "## 2\\. Combinação",
   "metadata": {
    "id": "4rRCvy_UURrM",
    "cell_id": "00045-a3fcf816-ec8c-4ebb-91bb-5334c60976cf",
    "deepnote_cell_type": "markdown"
   }
  },
  {
   "cell_type": "markdown",
   "source": "### **2.1. Método `concat`** ",
   "metadata": {
    "id": "78RHF81A3tat",
    "cell_id": "00046-7a14088d-8c8a-4ada-8209-20290df4d254",
    "deepnote_cell_type": "markdown"
   }
  },
  {
   "cell_type": "markdown",
   "source": "Combina dataframes baseado nas **linhas**, de maneira simples, **sem lógica de combinação**.",
   "metadata": {
    "id": "bV_cw2IibzL8",
    "cell_id": "00047-7e5c2b78-9270-4f2a-b9fc-d70c12092777",
    "deepnote_cell_type": "markdown"
   }
  },
  {
   "cell_type": "code",
   "metadata": {
    "id": "0E_qlrvtayge",
    "cell_id": "00048-bc851467-8169-4f54-a0f2-c6b3f3c1aa46",
    "deepnote_to_be_reexecuted": false,
    "source_hash": "dddfdb4",
    "execution_start": 1639097323066,
    "execution_millis": 64,
    "deepnote_cell_type": "code"
   },
   "source": "primeiros_5 = github_df.query('ranking <= 5')",
   "execution_count": null,
   "outputs": []
  },
  {
   "cell_type": "code",
   "metadata": {
    "id": "jUGCDKX3001T",
    "cell_id": "00049-f697bd25-c6b9-48c1-923c-19b2f37e8b1f",
    "deepnote_to_be_reexecuted": false,
    "source_hash": "8022519f",
    "execution_start": 1639097323131,
    "execution_millis": 49,
    "deepnote_cell_type": "code"
   },
   "source": "primeiros_5",
   "execution_count": null,
   "outputs": [
    {
     "output_type": "execute_result",
     "execution_count": 26,
     "data": {
      "application/vnd.deepnote.dataframe.v2+json": {
       "row_count": 5,
       "column_count": 6,
       "columns": [
        {
         "name": "ranking",
         "dtype": "int64",
         "stats": {
          "unique_count": 5,
          "nan_count": 0,
          "min": "1",
          "max": "5",
          "histogram": [
           {
            "bin_start": 1,
            "bin_end": 1.4,
            "count": 1
           },
           {
            "bin_start": 1.4,
            "bin_end": 1.8,
            "count": 0
           },
           {
            "bin_start": 1.8,
            "bin_end": 2.2,
            "count": 1
           },
           {
            "bin_start": 2.2,
            "bin_end": 2.6,
            "count": 0
           },
           {
            "bin_start": 2.6,
            "bin_end": 3,
            "count": 0
           },
           {
            "bin_start": 3,
            "bin_end": 3.4000000000000004,
            "count": 1
           },
           {
            "bin_start": 3.4000000000000004,
            "bin_end": 3.8000000000000003,
            "count": 0
           },
           {
            "bin_start": 3.8000000000000003,
            "bin_end": 4.2,
            "count": 1
           },
           {
            "bin_start": 4.2,
            "bin_end": 4.6,
            "count": 0
           },
           {
            "bin_start": 4.6,
            "bin_end": 5,
            "count": 1
           }
          ]
         }
        },
        {
         "name": "project",
         "dtype": "object",
         "stats": {
          "unique_count": 5,
          "nan_count": 0,
          "categories": [
           {
            "name": "plow",
            "count": 1
           },
           {
            "name": "n8n",
            "count": 1
           },
           {
            "name": "3 others",
            "count": 3
           }
          ]
         }
        },
        {
         "name": "language",
         "dtype": "object",
         "stats": {
          "unique_count": 3,
          "nan_count": 1,
          "categories": [
           {
            "name": "go",
            "count": 2
           },
           {
            "name": "2 others",
            "count": 2
           },
           {
            "name": "Missing",
            "count": 1
           }
          ]
         }
        },
        {
         "name": "stars",
         "dtype": "int64",
         "stats": {
          "unique_count": 5,
          "nan_count": 0,
          "min": "636",
          "max": "15668",
          "histogram": [
           {
            "bin_start": 636,
            "bin_end": 2139.2,
            "count": 2
           },
           {
            "bin_start": 2139.2,
            "bin_end": 3642.4,
            "count": 1
           },
           {
            "bin_start": 3642.4,
            "bin_end": 5145.6,
            "count": 0
           },
           {
            "bin_start": 5145.6,
            "bin_end": 6648.8,
            "count": 0
           },
           {
            "bin_start": 6648.8,
            "bin_end": 8152,
            "count": 0
           },
           {
            "bin_start": 8152,
            "bin_end": 9655.2,
            "count": 0
           },
           {
            "bin_start": 9655.2,
            "bin_end": 11158.4,
            "count": 1
           },
           {
            "bin_start": 11158.4,
            "bin_end": 12661.6,
            "count": 0
           },
           {
            "bin_start": 12661.6,
            "bin_end": 14164.800000000001,
            "count": 0
           },
           {
            "bin_start": 14164.800000000001,
            "bin_end": 15668,
            "count": 1
           }
          ]
         }
        },
        {
         "name": "stars_today",
         "dtype": "int64",
         "stats": {
          "unique_count": 5,
          "nan_count": 0,
          "min": "101",
          "max": "574",
          "histogram": [
           {
            "bin_start": 101,
            "bin_end": 148.3,
            "count": 1
           },
           {
            "bin_start": 148.3,
            "bin_end": 195.6,
            "count": 0
           },
           {
            "bin_start": 195.6,
            "bin_end": 242.89999999999998,
            "count": 0
           },
           {
            "bin_start": 242.89999999999998,
            "bin_end": 290.2,
            "count": 3
           },
           {
            "bin_start": 290.2,
            "bin_end": 337.5,
            "count": 0
           },
           {
            "bin_start": 337.5,
            "bin_end": 384.79999999999995,
            "count": 0
           },
           {
            "bin_start": 384.79999999999995,
            "bin_end": 432.09999999999997,
            "count": 0
           },
           {
            "bin_start": 432.09999999999997,
            "bin_end": 479.4,
            "count": 0
           },
           {
            "bin_start": 479.4,
            "bin_end": 526.7,
            "count": 0
           },
           {
            "bin_start": 526.7,
            "bin_end": 574,
            "count": 1
           }
          ]
         }
        },
        {
         "name": "forks",
         "dtype": "int64",
         "stats": {
          "unique_count": 5,
          "nan_count": 0,
          "min": "38",
          "max": "1646",
          "histogram": [
           {
            "bin_start": 38,
            "bin_end": 198.8,
            "count": 3
           },
           {
            "bin_start": 198.8,
            "bin_end": 359.6,
            "count": 0
           },
           {
            "bin_start": 359.6,
            "bin_end": 520.4000000000001,
            "count": 0
           },
           {
            "bin_start": 520.4000000000001,
            "bin_end": 681.2,
            "count": 0
           },
           {
            "bin_start": 681.2,
            "bin_end": 842,
            "count": 0
           },
           {
            "bin_start": 842,
            "bin_end": 1002.8000000000001,
            "count": 0
           },
           {
            "bin_start": 1002.8000000000001,
            "bin_end": 1163.6000000000001,
            "count": 0
           },
           {
            "bin_start": 1163.6000000000001,
            "bin_end": 1324.4,
            "count": 0
           },
           {
            "bin_start": 1324.4,
            "bin_end": 1485.2,
            "count": 1
           },
           {
            "bin_start": 1485.2,
            "bin_end": 1646,
            "count": 1
           }
          ]
         }
        },
        {
         "name": "_deepnote_index_column",
         "dtype": "int64"
        }
       ],
       "rows_top": [
        {
         "ranking": 1,
         "project": "plow",
         "language": "go",
         "stars": 1304,
         "stars_today": 574,
         "forks": 38,
         "_deepnote_index_column": 0
        },
        {
         "ranking": 2,
         "project": "n8n",
         "language": "typescript",
         "stars": 15668,
         "stars_today": 280,
         "forks": 1370,
         "_deepnote_index_column": 1
        },
        {
         "ranking": 3,
         "project": "slides",
         "language": "go",
         "stars": 3218,
         "stars_today": 265,
         "forks": 80,
         "_deepnote_index_column": 2
        },
        {
         "ranking": 4,
         "project": "defi-developer-road-map",
         "language": "nan",
         "stars": 636,
         "stars_today": 247,
         "forks": 49,
         "_deepnote_index_column": 3
        },
        {
         "ranking": 5,
         "project": "pytorch-image-models",
         "language": "python",
         "stars": 11065,
         "stars_today": 101,
         "forks": 1646,
         "_deepnote_index_column": 4
        }
       ],
       "rows_bottom": null
      },
      "text/plain": "   ranking                  project    language  stars  stars_today  forks\n0        1                     plow          go   1304          574     38\n1        2                      n8n  typescript  15668          280   1370\n2        3                   slides          go   3218          265     80\n3        4  defi-developer-road-map         NaN    636          247     49\n4        5     pytorch-image-models      python  11065          101   1646",
      "text/html": "<div>\n<style scoped>\n    .dataframe tbody tr th:only-of-type {\n        vertical-align: middle;\n    }\n\n    .dataframe tbody tr th {\n        vertical-align: top;\n    }\n\n    .dataframe thead th {\n        text-align: right;\n    }\n</style>\n<table border=\"1\" class=\"dataframe\">\n  <thead>\n    <tr style=\"text-align: right;\">\n      <th></th>\n      <th>ranking</th>\n      <th>project</th>\n      <th>language</th>\n      <th>stars</th>\n      <th>stars_today</th>\n      <th>forks</th>\n    </tr>\n  </thead>\n  <tbody>\n    <tr>\n      <th>0</th>\n      <td>1</td>\n      <td>plow</td>\n      <td>go</td>\n      <td>1304</td>\n      <td>574</td>\n      <td>38</td>\n    </tr>\n    <tr>\n      <th>1</th>\n      <td>2</td>\n      <td>n8n</td>\n      <td>typescript</td>\n      <td>15668</td>\n      <td>280</td>\n      <td>1370</td>\n    </tr>\n    <tr>\n      <th>2</th>\n      <td>3</td>\n      <td>slides</td>\n      <td>go</td>\n      <td>3218</td>\n      <td>265</td>\n      <td>80</td>\n    </tr>\n    <tr>\n      <th>3</th>\n      <td>4</td>\n      <td>defi-developer-road-map</td>\n      <td>NaN</td>\n      <td>636</td>\n      <td>247</td>\n      <td>49</td>\n    </tr>\n    <tr>\n      <th>4</th>\n      <td>5</td>\n      <td>pytorch-image-models</td>\n      <td>python</td>\n      <td>11065</td>\n      <td>101</td>\n      <td>1646</td>\n    </tr>\n  </tbody>\n</table>\n</div>"
     },
     "metadata": {}
    }
   ]
  },
  {
   "cell_type": "code",
   "metadata": {
    "id": "UNBNMSbUhU4l",
    "cell_id": "00050-71d69e73-4e99-4304-9b57-5d4f1e6a6835",
    "deepnote_to_be_reexecuted": false,
    "source_hash": "28a7772b",
    "execution_start": 1639097323223,
    "execution_millis": 0,
    "deepnote_cell_type": "code"
   },
   "source": "ultimos_5 = github_df.query('ranking > 5')",
   "execution_count": null,
   "outputs": []
  },
  {
   "cell_type": "code",
   "metadata": {
    "id": "UDvwMTvDhcQU",
    "cell_id": "00051-4b6e11b2-a49d-4a19-95ec-98084e1764e3",
    "deepnote_to_be_reexecuted": false,
    "source_hash": "365c2434",
    "execution_start": 1639097323224,
    "execution_millis": 100,
    "deepnote_cell_type": "code"
   },
   "source": "ultimos_5",
   "execution_count": null,
   "outputs": [
    {
     "output_type": "execute_result",
     "execution_count": 28,
     "data": {
      "application/vnd.deepnote.dataframe.v2+json": {
       "row_count": 5,
       "column_count": 6,
       "columns": [
        {
         "name": "ranking",
         "dtype": "int64",
         "stats": {
          "unique_count": 5,
          "nan_count": 0,
          "min": "6",
          "max": "10",
          "histogram": [
           {
            "bin_start": 6,
            "bin_end": 6.4,
            "count": 1
           },
           {
            "bin_start": 6.4,
            "bin_end": 6.8,
            "count": 0
           },
           {
            "bin_start": 6.8,
            "bin_end": 7.2,
            "count": 1
           },
           {
            "bin_start": 7.2,
            "bin_end": 7.6,
            "count": 0
           },
           {
            "bin_start": 7.6,
            "bin_end": 8,
            "count": 0
           },
           {
            "bin_start": 8,
            "bin_end": 8.4,
            "count": 1
           },
           {
            "bin_start": 8.4,
            "bin_end": 8.8,
            "count": 0
           },
           {
            "bin_start": 8.8,
            "bin_end": 9.2,
            "count": 1
           },
           {
            "bin_start": 9.2,
            "bin_end": 9.6,
            "count": 0
           },
           {
            "bin_start": 9.6,
            "bin_end": 10,
            "count": 1
           }
          ]
         }
        },
        {
         "name": "project",
         "dtype": "object",
         "stats": {
          "unique_count": 5,
          "nan_count": 0,
          "categories": [
           {
            "name": "javascript-algorithms",
            "count": 1
           },
           {
            "name": "paddleclas",
            "count": 1
           },
           {
            "name": "3 others",
            "count": 3
           }
          ]
         }
        },
        {
         "name": "language",
         "dtype": "object",
         "stats": {
          "unique_count": 2,
          "nan_count": 1,
          "categories": [
           {
            "name": "python",
            "count": 3
           },
           {
            "name": "javascript",
            "count": 1
           },
           {
            "name": "Missing",
            "count": 1
           }
          ]
         }
        },
        {
         "name": "stars",
         "dtype": "int64",
         "stats": {
          "unique_count": 5,
          "nan_count": 0,
          "min": "369",
          "max": "110768",
          "histogram": [
           {
            "bin_start": 369,
            "bin_end": 11408.9,
            "count": 4
           },
           {
            "bin_start": 11408.9,
            "bin_end": 22448.8,
            "count": 0
           },
           {
            "bin_start": 22448.8,
            "bin_end": 33488.7,
            "count": 0
           },
           {
            "bin_start": 33488.7,
            "bin_end": 44528.6,
            "count": 0
           },
           {
            "bin_start": 44528.6,
            "bin_end": 55568.5,
            "count": 0
           },
           {
            "bin_start": 55568.5,
            "bin_end": 66608.4,
            "count": 0
           },
           {
            "bin_start": 66608.4,
            "bin_end": 77648.3,
            "count": 0
           },
           {
            "bin_start": 77648.3,
            "bin_end": 88688.2,
            "count": 0
           },
           {
            "bin_start": 88688.2,
            "bin_end": 99728.09999999999,
            "count": 0
           },
           {
            "bin_start": 99728.09999999999,
            "bin_end": 110768,
            "count": 1
           }
          ]
         }
        },
        {
         "name": "stars_today",
         "dtype": "int64",
         "stats": {
          "unique_count": 5,
          "nan_count": 0,
          "min": "71",
          "max": "393",
          "histogram": [
           {
            "bin_start": 71,
            "bin_end": 103.2,
            "count": 1
           },
           {
            "bin_start": 103.2,
            "bin_end": 135.4,
            "count": 0
           },
           {
            "bin_start": 135.4,
            "bin_end": 167.60000000000002,
            "count": 0
           },
           {
            "bin_start": 167.60000000000002,
            "bin_end": 199.8,
            "count": 1
           },
           {
            "bin_start": 199.8,
            "bin_end": 232,
            "count": 0
           },
           {
            "bin_start": 232,
            "bin_end": 264.20000000000005,
            "count": 1
           },
           {
            "bin_start": 264.20000000000005,
            "bin_end": 296.40000000000003,
            "count": 1
           },
           {
            "bin_start": 296.40000000000003,
            "bin_end": 328.6,
            "count": 0
           },
           {
            "bin_start": 328.6,
            "bin_end": 360.8,
            "count": 0
           },
           {
            "bin_start": 360.8,
            "bin_end": 393,
            "count": 1
           }
          ]
         }
        },
        {
         "name": "forks",
         "dtype": "int64",
         "stats": {
          "unique_count": 5,
          "nan_count": 0,
          "min": "60",
          "max": "18331",
          "histogram": [
           {
            "bin_start": 60,
            "bin_end": 1887.1,
            "count": 4
           },
           {
            "bin_start": 1887.1,
            "bin_end": 3714.2,
            "count": 0
           },
           {
            "bin_start": 3714.2,
            "bin_end": 5541.299999999999,
            "count": 0
           },
           {
            "bin_start": 5541.299999999999,
            "bin_end": 7368.4,
            "count": 0
           },
           {
            "bin_start": 7368.4,
            "bin_end": 9195.5,
            "count": 0
           },
           {
            "bin_start": 9195.5,
            "bin_end": 11022.599999999999,
            "count": 0
           },
           {
            "bin_start": 11022.599999999999,
            "bin_end": 12849.699999999999,
            "count": 0
           },
           {
            "bin_start": 12849.699999999999,
            "bin_end": 14676.8,
            "count": 0
           },
           {
            "bin_start": 14676.8,
            "bin_end": 16503.899999999998,
            "count": 0
           },
           {
            "bin_start": 16503.899999999998,
            "bin_end": 18331,
            "count": 1
           }
          ]
         }
        },
        {
         "name": "_deepnote_index_column",
         "dtype": "int64"
        }
       ],
       "rows_top": [
        {
         "ranking": 6,
         "project": "javascript-algorithms",
         "language": "javascript",
         "stars": 110768,
         "stars_today": 248,
         "forks": 18331,
         "_deepnote_index_column": 5
        },
        {
         "ranking": 7,
         "project": "paddleclas",
         "language": "python",
         "stars": 1429,
         "stars_today": 283,
         "forks": 323,
         "_deepnote_index_column": 6
        },
        {
         "ranking": 8,
         "project": "reddit_sentiment_trader",
         "language": "python",
         "stars": 369,
         "stars_today": 71,
         "forks": 60,
         "_deepnote_index_column": 7
        },
        {
         "ranking": 9,
         "project": "augly",
         "language": "python",
         "stars": 2849,
         "stars_today": 393,
         "forks": 99,
         "_deepnote_index_column": 8
        },
        {
         "ranking": 10,
         "project": "self-taught-guide-to-cloud-computing",
         "language": "nan",
         "stars": 863,
         "stars_today": 179,
         "forks": 84,
         "_deepnote_index_column": 9
        }
       ],
       "rows_bottom": null
      },
      "text/plain": "   ranking                               project    language   stars  \\\n5        6                 javascript-algorithms  javascript  110768   \n6        7                            paddleclas      python    1429   \n7        8               reddit_sentiment_trader      python     369   \n8        9                                 augly      python    2849   \n9       10  self-taught-guide-to-cloud-computing         NaN     863   \n\n   stars_today  forks  \n5          248  18331  \n6          283    323  \n7           71     60  \n8          393     99  \n9          179     84  ",
      "text/html": "<div>\n<style scoped>\n    .dataframe tbody tr th:only-of-type {\n        vertical-align: middle;\n    }\n\n    .dataframe tbody tr th {\n        vertical-align: top;\n    }\n\n    .dataframe thead th {\n        text-align: right;\n    }\n</style>\n<table border=\"1\" class=\"dataframe\">\n  <thead>\n    <tr style=\"text-align: right;\">\n      <th></th>\n      <th>ranking</th>\n      <th>project</th>\n      <th>language</th>\n      <th>stars</th>\n      <th>stars_today</th>\n      <th>forks</th>\n    </tr>\n  </thead>\n  <tbody>\n    <tr>\n      <th>5</th>\n      <td>6</td>\n      <td>javascript-algorithms</td>\n      <td>javascript</td>\n      <td>110768</td>\n      <td>248</td>\n      <td>18331</td>\n    </tr>\n    <tr>\n      <th>6</th>\n      <td>7</td>\n      <td>paddleclas</td>\n      <td>python</td>\n      <td>1429</td>\n      <td>283</td>\n      <td>323</td>\n    </tr>\n    <tr>\n      <th>7</th>\n      <td>8</td>\n      <td>reddit_sentiment_trader</td>\n      <td>python</td>\n      <td>369</td>\n      <td>71</td>\n      <td>60</td>\n    </tr>\n    <tr>\n      <th>8</th>\n      <td>9</td>\n      <td>augly</td>\n      <td>python</td>\n      <td>2849</td>\n      <td>393</td>\n      <td>99</td>\n    </tr>\n    <tr>\n      <th>9</th>\n      <td>10</td>\n      <td>self-taught-guide-to-cloud-computing</td>\n      <td>NaN</td>\n      <td>863</td>\n      <td>179</td>\n      <td>84</td>\n    </tr>\n  </tbody>\n</table>\n</div>"
     },
     "metadata": {}
    }
   ]
  },
  {
   "cell_type": "markdown",
   "source": "*   **Exemplo**: Concatenação com colunas iguais:",
   "metadata": {
    "id": "V6G3Sc1rh-Ow",
    "cell_id": "00052-193b1c4f-fcae-4606-b8d1-97016457ec52",
    "deepnote_cell_type": "markdown"
   }
  },
  {
   "cell_type": "code",
   "metadata": {
    "id": "yQUsJfGJhd8U",
    "cell_id": "00053-093350d4-3ed4-42d9-a3ba-ca4769ffda85",
    "deepnote_to_be_reexecuted": false,
    "source_hash": "1a85fafd",
    "execution_start": 1639097323338,
    "execution_millis": 146,
    "deepnote_cell_type": "code"
   },
   "source": "pd.concat([primeiros_5, ultimos_5])",
   "execution_count": null,
   "outputs": [
    {
     "output_type": "execute_result",
     "execution_count": 29,
     "data": {
      "application/vnd.deepnote.dataframe.v2+json": {
       "row_count": 10,
       "column_count": 6,
       "columns": [
        {
         "name": "ranking",
         "dtype": "int64",
         "stats": {
          "unique_count": 10,
          "nan_count": 0,
          "min": "1",
          "max": "10",
          "histogram": [
           {
            "bin_start": 1,
            "bin_end": 1.9,
            "count": 1
           },
           {
            "bin_start": 1.9,
            "bin_end": 2.8,
            "count": 1
           },
           {
            "bin_start": 2.8,
            "bin_end": 3.7,
            "count": 1
           },
           {
            "bin_start": 3.7,
            "bin_end": 4.6,
            "count": 1
           },
           {
            "bin_start": 4.6,
            "bin_end": 5.5,
            "count": 1
           },
           {
            "bin_start": 5.5,
            "bin_end": 6.4,
            "count": 1
           },
           {
            "bin_start": 6.4,
            "bin_end": 7.3,
            "count": 1
           },
           {
            "bin_start": 7.3,
            "bin_end": 8.2,
            "count": 1
           },
           {
            "bin_start": 8.2,
            "bin_end": 9.1,
            "count": 1
           },
           {
            "bin_start": 9.1,
            "bin_end": 10,
            "count": 1
           }
          ]
         }
        },
        {
         "name": "project",
         "dtype": "object",
         "stats": {
          "unique_count": 10,
          "nan_count": 0,
          "categories": [
           {
            "name": "plow",
            "count": 1
           },
           {
            "name": "n8n",
            "count": 1
           },
           {
            "name": "8 others",
            "count": 8
           }
          ]
         }
        },
        {
         "name": "language",
         "dtype": "object",
         "stats": {
          "unique_count": 4,
          "nan_count": 2,
          "categories": [
           {
            "name": "python",
            "count": 4
           },
           {
            "name": "3 others",
            "count": 4
           },
           {
            "name": "Missing",
            "count": 2
           }
          ]
         }
        },
        {
         "name": "stars",
         "dtype": "int64",
         "stats": {
          "unique_count": 10,
          "nan_count": 0,
          "min": "369",
          "max": "110768",
          "histogram": [
           {
            "bin_start": 369,
            "bin_end": 11408.9,
            "count": 8
           },
           {
            "bin_start": 11408.9,
            "bin_end": 22448.8,
            "count": 1
           },
           {
            "bin_start": 22448.8,
            "bin_end": 33488.7,
            "count": 0
           },
           {
            "bin_start": 33488.7,
            "bin_end": 44528.6,
            "count": 0
           },
           {
            "bin_start": 44528.6,
            "bin_end": 55568.5,
            "count": 0
           },
           {
            "bin_start": 55568.5,
            "bin_end": 66608.4,
            "count": 0
           },
           {
            "bin_start": 66608.4,
            "bin_end": 77648.3,
            "count": 0
           },
           {
            "bin_start": 77648.3,
            "bin_end": 88688.2,
            "count": 0
           },
           {
            "bin_start": 88688.2,
            "bin_end": 99728.09999999999,
            "count": 0
           },
           {
            "bin_start": 99728.09999999999,
            "bin_end": 110768,
            "count": 1
           }
          ]
         }
        },
        {
         "name": "stars_today",
         "dtype": "int64",
         "stats": {
          "unique_count": 10,
          "nan_count": 0,
          "min": "71",
          "max": "574",
          "histogram": [
           {
            "bin_start": 71,
            "bin_end": 121.3,
            "count": 2
           },
           {
            "bin_start": 121.3,
            "bin_end": 171.6,
            "count": 0
           },
           {
            "bin_start": 171.6,
            "bin_end": 221.89999999999998,
            "count": 1
           },
           {
            "bin_start": 221.89999999999998,
            "bin_end": 272.2,
            "count": 3
           },
           {
            "bin_start": 272.2,
            "bin_end": 322.5,
            "count": 2
           },
           {
            "bin_start": 322.5,
            "bin_end": 372.79999999999995,
            "count": 0
           },
           {
            "bin_start": 372.79999999999995,
            "bin_end": 423.09999999999997,
            "count": 1
           },
           {
            "bin_start": 423.09999999999997,
            "bin_end": 473.4,
            "count": 0
           },
           {
            "bin_start": 473.4,
            "bin_end": 523.7,
            "count": 0
           },
           {
            "bin_start": 523.7,
            "bin_end": 574,
            "count": 1
           }
          ]
         }
        },
        {
         "name": "forks",
         "dtype": "int64",
         "stats": {
          "unique_count": 10,
          "nan_count": 0,
          "min": "38",
          "max": "18331",
          "histogram": [
           {
            "bin_start": 38,
            "bin_end": 1867.3,
            "count": 9
           },
           {
            "bin_start": 1867.3,
            "bin_end": 3696.6,
            "count": 0
           },
           {
            "bin_start": 3696.6,
            "bin_end": 5525.9,
            "count": 0
           },
           {
            "bin_start": 5525.9,
            "bin_end": 7355.2,
            "count": 0
           },
           {
            "bin_start": 7355.2,
            "bin_end": 9184.5,
            "count": 0
           },
           {
            "bin_start": 9184.5,
            "bin_end": 11013.8,
            "count": 0
           },
           {
            "bin_start": 11013.8,
            "bin_end": 12843.1,
            "count": 0
           },
           {
            "bin_start": 12843.1,
            "bin_end": 14672.4,
            "count": 0
           },
           {
            "bin_start": 14672.4,
            "bin_end": 16501.7,
            "count": 0
           },
           {
            "bin_start": 16501.7,
            "bin_end": 18331,
            "count": 1
           }
          ]
         }
        },
        {
         "name": "_deepnote_index_column",
         "dtype": "int64"
        }
       ],
       "rows_top": [
        {
         "ranking": 1,
         "project": "plow",
         "language": "go",
         "stars": 1304,
         "stars_today": 574,
         "forks": 38,
         "_deepnote_index_column": 0
        },
        {
         "ranking": 2,
         "project": "n8n",
         "language": "typescript",
         "stars": 15668,
         "stars_today": 280,
         "forks": 1370,
         "_deepnote_index_column": 1
        },
        {
         "ranking": 3,
         "project": "slides",
         "language": "go",
         "stars": 3218,
         "stars_today": 265,
         "forks": 80,
         "_deepnote_index_column": 2
        },
        {
         "ranking": 4,
         "project": "defi-developer-road-map",
         "language": "nan",
         "stars": 636,
         "stars_today": 247,
         "forks": 49,
         "_deepnote_index_column": 3
        },
        {
         "ranking": 5,
         "project": "pytorch-image-models",
         "language": "python",
         "stars": 11065,
         "stars_today": 101,
         "forks": 1646,
         "_deepnote_index_column": 4
        },
        {
         "ranking": 6,
         "project": "javascript-algorithms",
         "language": "javascript",
         "stars": 110768,
         "stars_today": 248,
         "forks": 18331,
         "_deepnote_index_column": 5
        },
        {
         "ranking": 7,
         "project": "paddleclas",
         "language": "python",
         "stars": 1429,
         "stars_today": 283,
         "forks": 323,
         "_deepnote_index_column": 6
        },
        {
         "ranking": 8,
         "project": "reddit_sentiment_trader",
         "language": "python",
         "stars": 369,
         "stars_today": 71,
         "forks": 60,
         "_deepnote_index_column": 7
        },
        {
         "ranking": 9,
         "project": "augly",
         "language": "python",
         "stars": 2849,
         "stars_today": 393,
         "forks": 99,
         "_deepnote_index_column": 8
        },
        {
         "ranking": 10,
         "project": "self-taught-guide-to-cloud-computing",
         "language": "nan",
         "stars": 863,
         "stars_today": 179,
         "forks": 84,
         "_deepnote_index_column": 9
        }
       ],
       "rows_bottom": null
      },
      "text/plain": "   ranking                               project    language   stars  \\\n0        1                                  plow          go    1304   \n1        2                                   n8n  typescript   15668   \n2        3                                slides          go    3218   \n3        4               defi-developer-road-map         NaN     636   \n4        5                  pytorch-image-models      python   11065   \n5        6                 javascript-algorithms  javascript  110768   \n6        7                            paddleclas      python    1429   \n7        8               reddit_sentiment_trader      python     369   \n8        9                                 augly      python    2849   \n9       10  self-taught-guide-to-cloud-computing         NaN     863   \n\n   stars_today  forks  \n0          574     38  \n1          280   1370  \n2          265     80  \n3          247     49  \n4          101   1646  \n5          248  18331  \n6          283    323  \n7           71     60  \n8          393     99  \n9          179     84  ",
      "text/html": "<div>\n<style scoped>\n    .dataframe tbody tr th:only-of-type {\n        vertical-align: middle;\n    }\n\n    .dataframe tbody tr th {\n        vertical-align: top;\n    }\n\n    .dataframe thead th {\n        text-align: right;\n    }\n</style>\n<table border=\"1\" class=\"dataframe\">\n  <thead>\n    <tr style=\"text-align: right;\">\n      <th></th>\n      <th>ranking</th>\n      <th>project</th>\n      <th>language</th>\n      <th>stars</th>\n      <th>stars_today</th>\n      <th>forks</th>\n    </tr>\n  </thead>\n  <tbody>\n    <tr>\n      <th>0</th>\n      <td>1</td>\n      <td>plow</td>\n      <td>go</td>\n      <td>1304</td>\n      <td>574</td>\n      <td>38</td>\n    </tr>\n    <tr>\n      <th>1</th>\n      <td>2</td>\n      <td>n8n</td>\n      <td>typescript</td>\n      <td>15668</td>\n      <td>280</td>\n      <td>1370</td>\n    </tr>\n    <tr>\n      <th>2</th>\n      <td>3</td>\n      <td>slides</td>\n      <td>go</td>\n      <td>3218</td>\n      <td>265</td>\n      <td>80</td>\n    </tr>\n    <tr>\n      <th>3</th>\n      <td>4</td>\n      <td>defi-developer-road-map</td>\n      <td>NaN</td>\n      <td>636</td>\n      <td>247</td>\n      <td>49</td>\n    </tr>\n    <tr>\n      <th>4</th>\n      <td>5</td>\n      <td>pytorch-image-models</td>\n      <td>python</td>\n      <td>11065</td>\n      <td>101</td>\n      <td>1646</td>\n    </tr>\n    <tr>\n      <th>5</th>\n      <td>6</td>\n      <td>javascript-algorithms</td>\n      <td>javascript</td>\n      <td>110768</td>\n      <td>248</td>\n      <td>18331</td>\n    </tr>\n    <tr>\n      <th>6</th>\n      <td>7</td>\n      <td>paddleclas</td>\n      <td>python</td>\n      <td>1429</td>\n      <td>283</td>\n      <td>323</td>\n    </tr>\n    <tr>\n      <th>7</th>\n      <td>8</td>\n      <td>reddit_sentiment_trader</td>\n      <td>python</td>\n      <td>369</td>\n      <td>71</td>\n      <td>60</td>\n    </tr>\n    <tr>\n      <th>8</th>\n      <td>9</td>\n      <td>augly</td>\n      <td>python</td>\n      <td>2849</td>\n      <td>393</td>\n      <td>99</td>\n    </tr>\n    <tr>\n      <th>9</th>\n      <td>10</td>\n      <td>self-taught-guide-to-cloud-computing</td>\n      <td>NaN</td>\n      <td>863</td>\n      <td>179</td>\n      <td>84</td>\n    </tr>\n  </tbody>\n</table>\n</div>"
     },
     "metadata": {}
    }
   ]
  },
  {
   "cell_type": "code",
   "metadata": {
    "id": "ZwamhV5uhqzT",
    "cell_id": "00054-e36fae6a-ea3e-4ebc-907b-ae9f315b1800",
    "deepnote_to_be_reexecuted": false,
    "source_hash": "1e742354",
    "execution_start": 1639097323496,
    "execution_millis": 84,
    "deepnote_cell_type": "code"
   },
   "source": "pd.concat([ultimos_5, primeiros_5])",
   "execution_count": null,
   "outputs": [
    {
     "output_type": "execute_result",
     "execution_count": 30,
     "data": {
      "application/vnd.deepnote.dataframe.v2+json": {
       "row_count": 10,
       "column_count": 6,
       "columns": [
        {
         "name": "ranking",
         "dtype": "int64",
         "stats": {
          "unique_count": 10,
          "nan_count": 0,
          "min": "1",
          "max": "10",
          "histogram": [
           {
            "bin_start": 1,
            "bin_end": 1.9,
            "count": 1
           },
           {
            "bin_start": 1.9,
            "bin_end": 2.8,
            "count": 1
           },
           {
            "bin_start": 2.8,
            "bin_end": 3.7,
            "count": 1
           },
           {
            "bin_start": 3.7,
            "bin_end": 4.6,
            "count": 1
           },
           {
            "bin_start": 4.6,
            "bin_end": 5.5,
            "count": 1
           },
           {
            "bin_start": 5.5,
            "bin_end": 6.4,
            "count": 1
           },
           {
            "bin_start": 6.4,
            "bin_end": 7.3,
            "count": 1
           },
           {
            "bin_start": 7.3,
            "bin_end": 8.2,
            "count": 1
           },
           {
            "bin_start": 8.2,
            "bin_end": 9.1,
            "count": 1
           },
           {
            "bin_start": 9.1,
            "bin_end": 10,
            "count": 1
           }
          ]
         }
        },
        {
         "name": "project",
         "dtype": "object",
         "stats": {
          "unique_count": 10,
          "nan_count": 0,
          "categories": [
           {
            "name": "javascript-algorithms",
            "count": 1
           },
           {
            "name": "paddleclas",
            "count": 1
           },
           {
            "name": "8 others",
            "count": 8
           }
          ]
         }
        },
        {
         "name": "language",
         "dtype": "object",
         "stats": {
          "unique_count": 4,
          "nan_count": 2,
          "categories": [
           {
            "name": "python",
            "count": 4
           },
           {
            "name": "3 others",
            "count": 4
           },
           {
            "name": "Missing",
            "count": 2
           }
          ]
         }
        },
        {
         "name": "stars",
         "dtype": "int64",
         "stats": {
          "unique_count": 10,
          "nan_count": 0,
          "min": "369",
          "max": "110768",
          "histogram": [
           {
            "bin_start": 369,
            "bin_end": 11408.9,
            "count": 8
           },
           {
            "bin_start": 11408.9,
            "bin_end": 22448.8,
            "count": 1
           },
           {
            "bin_start": 22448.8,
            "bin_end": 33488.7,
            "count": 0
           },
           {
            "bin_start": 33488.7,
            "bin_end": 44528.6,
            "count": 0
           },
           {
            "bin_start": 44528.6,
            "bin_end": 55568.5,
            "count": 0
           },
           {
            "bin_start": 55568.5,
            "bin_end": 66608.4,
            "count": 0
           },
           {
            "bin_start": 66608.4,
            "bin_end": 77648.3,
            "count": 0
           },
           {
            "bin_start": 77648.3,
            "bin_end": 88688.2,
            "count": 0
           },
           {
            "bin_start": 88688.2,
            "bin_end": 99728.09999999999,
            "count": 0
           },
           {
            "bin_start": 99728.09999999999,
            "bin_end": 110768,
            "count": 1
           }
          ]
         }
        },
        {
         "name": "stars_today",
         "dtype": "int64",
         "stats": {
          "unique_count": 10,
          "nan_count": 0,
          "min": "71",
          "max": "574",
          "histogram": [
           {
            "bin_start": 71,
            "bin_end": 121.3,
            "count": 2
           },
           {
            "bin_start": 121.3,
            "bin_end": 171.6,
            "count": 0
           },
           {
            "bin_start": 171.6,
            "bin_end": 221.89999999999998,
            "count": 1
           },
           {
            "bin_start": 221.89999999999998,
            "bin_end": 272.2,
            "count": 3
           },
           {
            "bin_start": 272.2,
            "bin_end": 322.5,
            "count": 2
           },
           {
            "bin_start": 322.5,
            "bin_end": 372.79999999999995,
            "count": 0
           },
           {
            "bin_start": 372.79999999999995,
            "bin_end": 423.09999999999997,
            "count": 1
           },
           {
            "bin_start": 423.09999999999997,
            "bin_end": 473.4,
            "count": 0
           },
           {
            "bin_start": 473.4,
            "bin_end": 523.7,
            "count": 0
           },
           {
            "bin_start": 523.7,
            "bin_end": 574,
            "count": 1
           }
          ]
         }
        },
        {
         "name": "forks",
         "dtype": "int64",
         "stats": {
          "unique_count": 10,
          "nan_count": 0,
          "min": "38",
          "max": "18331",
          "histogram": [
           {
            "bin_start": 38,
            "bin_end": 1867.3,
            "count": 9
           },
           {
            "bin_start": 1867.3,
            "bin_end": 3696.6,
            "count": 0
           },
           {
            "bin_start": 3696.6,
            "bin_end": 5525.9,
            "count": 0
           },
           {
            "bin_start": 5525.9,
            "bin_end": 7355.2,
            "count": 0
           },
           {
            "bin_start": 7355.2,
            "bin_end": 9184.5,
            "count": 0
           },
           {
            "bin_start": 9184.5,
            "bin_end": 11013.8,
            "count": 0
           },
           {
            "bin_start": 11013.8,
            "bin_end": 12843.1,
            "count": 0
           },
           {
            "bin_start": 12843.1,
            "bin_end": 14672.4,
            "count": 0
           },
           {
            "bin_start": 14672.4,
            "bin_end": 16501.7,
            "count": 0
           },
           {
            "bin_start": 16501.7,
            "bin_end": 18331,
            "count": 1
           }
          ]
         }
        },
        {
         "name": "_deepnote_index_column",
         "dtype": "int64"
        }
       ],
       "rows_top": [
        {
         "ranking": 6,
         "project": "javascript-algorithms",
         "language": "javascript",
         "stars": 110768,
         "stars_today": 248,
         "forks": 18331,
         "_deepnote_index_column": 5
        },
        {
         "ranking": 7,
         "project": "paddleclas",
         "language": "python",
         "stars": 1429,
         "stars_today": 283,
         "forks": 323,
         "_deepnote_index_column": 6
        },
        {
         "ranking": 8,
         "project": "reddit_sentiment_trader",
         "language": "python",
         "stars": 369,
         "stars_today": 71,
         "forks": 60,
         "_deepnote_index_column": 7
        },
        {
         "ranking": 9,
         "project": "augly",
         "language": "python",
         "stars": 2849,
         "stars_today": 393,
         "forks": 99,
         "_deepnote_index_column": 8
        },
        {
         "ranking": 10,
         "project": "self-taught-guide-to-cloud-computing",
         "language": "nan",
         "stars": 863,
         "stars_today": 179,
         "forks": 84,
         "_deepnote_index_column": 9
        },
        {
         "ranking": 1,
         "project": "plow",
         "language": "go",
         "stars": 1304,
         "stars_today": 574,
         "forks": 38,
         "_deepnote_index_column": 0
        },
        {
         "ranking": 2,
         "project": "n8n",
         "language": "typescript",
         "stars": 15668,
         "stars_today": 280,
         "forks": 1370,
         "_deepnote_index_column": 1
        },
        {
         "ranking": 3,
         "project": "slides",
         "language": "go",
         "stars": 3218,
         "stars_today": 265,
         "forks": 80,
         "_deepnote_index_column": 2
        },
        {
         "ranking": 4,
         "project": "defi-developer-road-map",
         "language": "nan",
         "stars": 636,
         "stars_today": 247,
         "forks": 49,
         "_deepnote_index_column": 3
        },
        {
         "ranking": 5,
         "project": "pytorch-image-models",
         "language": "python",
         "stars": 11065,
         "stars_today": 101,
         "forks": 1646,
         "_deepnote_index_column": 4
        }
       ],
       "rows_bottom": null
      },
      "text/plain": "   ranking                               project    language   stars  \\\n5        6                 javascript-algorithms  javascript  110768   \n6        7                            paddleclas      python    1429   \n7        8               reddit_sentiment_trader      python     369   \n8        9                                 augly      python    2849   \n9       10  self-taught-guide-to-cloud-computing         NaN     863   \n0        1                                  plow          go    1304   \n1        2                                   n8n  typescript   15668   \n2        3                                slides          go    3218   \n3        4               defi-developer-road-map         NaN     636   \n4        5                  pytorch-image-models      python   11065   \n\n   stars_today  forks  \n5          248  18331  \n6          283    323  \n7           71     60  \n8          393     99  \n9          179     84  \n0          574     38  \n1          280   1370  \n2          265     80  \n3          247     49  \n4          101   1646  ",
      "text/html": "<div>\n<style scoped>\n    .dataframe tbody tr th:only-of-type {\n        vertical-align: middle;\n    }\n\n    .dataframe tbody tr th {\n        vertical-align: top;\n    }\n\n    .dataframe thead th {\n        text-align: right;\n    }\n</style>\n<table border=\"1\" class=\"dataframe\">\n  <thead>\n    <tr style=\"text-align: right;\">\n      <th></th>\n      <th>ranking</th>\n      <th>project</th>\n      <th>language</th>\n      <th>stars</th>\n      <th>stars_today</th>\n      <th>forks</th>\n    </tr>\n  </thead>\n  <tbody>\n    <tr>\n      <th>5</th>\n      <td>6</td>\n      <td>javascript-algorithms</td>\n      <td>javascript</td>\n      <td>110768</td>\n      <td>248</td>\n      <td>18331</td>\n    </tr>\n    <tr>\n      <th>6</th>\n      <td>7</td>\n      <td>paddleclas</td>\n      <td>python</td>\n      <td>1429</td>\n      <td>283</td>\n      <td>323</td>\n    </tr>\n    <tr>\n      <th>7</th>\n      <td>8</td>\n      <td>reddit_sentiment_trader</td>\n      <td>python</td>\n      <td>369</td>\n      <td>71</td>\n      <td>60</td>\n    </tr>\n    <tr>\n      <th>8</th>\n      <td>9</td>\n      <td>augly</td>\n      <td>python</td>\n      <td>2849</td>\n      <td>393</td>\n      <td>99</td>\n    </tr>\n    <tr>\n      <th>9</th>\n      <td>10</td>\n      <td>self-taught-guide-to-cloud-computing</td>\n      <td>NaN</td>\n      <td>863</td>\n      <td>179</td>\n      <td>84</td>\n    </tr>\n    <tr>\n      <th>0</th>\n      <td>1</td>\n      <td>plow</td>\n      <td>go</td>\n      <td>1304</td>\n      <td>574</td>\n      <td>38</td>\n    </tr>\n    <tr>\n      <th>1</th>\n      <td>2</td>\n      <td>n8n</td>\n      <td>typescript</td>\n      <td>15668</td>\n      <td>280</td>\n      <td>1370</td>\n    </tr>\n    <tr>\n      <th>2</th>\n      <td>3</td>\n      <td>slides</td>\n      <td>go</td>\n      <td>3218</td>\n      <td>265</td>\n      <td>80</td>\n    </tr>\n    <tr>\n      <th>3</th>\n      <td>4</td>\n      <td>defi-developer-road-map</td>\n      <td>NaN</td>\n      <td>636</td>\n      <td>247</td>\n      <td>49</td>\n    </tr>\n    <tr>\n      <th>4</th>\n      <td>5</td>\n      <td>pytorch-image-models</td>\n      <td>python</td>\n      <td>11065</td>\n      <td>101</td>\n      <td>1646</td>\n    </tr>\n  </tbody>\n</table>\n</div>"
     },
     "metadata": {}
    }
   ]
  },
  {
   "cell_type": "markdown",
   "source": "*   **Exemplo**: Concatenação com colunas diferentes:",
   "metadata": {
    "id": "CwmtNTBWiEJ1",
    "cell_id": "00055-f74cae85-e371-496c-b1a6-84750c3aeafb",
    "deepnote_cell_type": "markdown"
   }
  },
  {
   "cell_type": "code",
   "metadata": {
    "id": "E7p_84-khxmz",
    "cell_id": "00056-e350f4ee-266f-4405-a19c-0c797d75052d",
    "deepnote_to_be_reexecuted": false,
    "source_hash": "b7fe36fb",
    "execution_start": 1639097323580,
    "execution_millis": 76,
    "deepnote_cell_type": "code"
   },
   "source": "pd.concat([primeiros_5[['ranking', 'stars']], ultimos_5[['ranking', 'language']]])",
   "execution_count": null,
   "outputs": [
    {
     "output_type": "execute_result",
     "execution_count": 31,
     "data": {
      "application/vnd.deepnote.dataframe.v2+json": {
       "row_count": 10,
       "column_count": 3,
       "columns": [
        {
         "name": "ranking",
         "dtype": "int64",
         "stats": {
          "unique_count": 10,
          "nan_count": 0,
          "min": "1",
          "max": "10",
          "histogram": [
           {
            "bin_start": 1,
            "bin_end": 1.9,
            "count": 1
           },
           {
            "bin_start": 1.9,
            "bin_end": 2.8,
            "count": 1
           },
           {
            "bin_start": 2.8,
            "bin_end": 3.7,
            "count": 1
           },
           {
            "bin_start": 3.7,
            "bin_end": 4.6,
            "count": 1
           },
           {
            "bin_start": 4.6,
            "bin_end": 5.5,
            "count": 1
           },
           {
            "bin_start": 5.5,
            "bin_end": 6.4,
            "count": 1
           },
           {
            "bin_start": 6.4,
            "bin_end": 7.3,
            "count": 1
           },
           {
            "bin_start": 7.3,
            "bin_end": 8.2,
            "count": 1
           },
           {
            "bin_start": 8.2,
            "bin_end": 9.1,
            "count": 1
           },
           {
            "bin_start": 9.1,
            "bin_end": 10,
            "count": 1
           }
          ]
         }
        },
        {
         "name": "stars",
         "dtype": "float64",
         "stats": {
          "unique_count": 5,
          "nan_count": 5,
          "min": "636.0",
          "max": "15668.0",
          "histogram": [
           {
            "bin_start": 636,
            "bin_end": 2139.2,
            "count": 2
           },
           {
            "bin_start": 2139.2,
            "bin_end": 3642.4,
            "count": 1
           },
           {
            "bin_start": 3642.4,
            "bin_end": 5145.6,
            "count": 0
           },
           {
            "bin_start": 5145.6,
            "bin_end": 6648.8,
            "count": 0
           },
           {
            "bin_start": 6648.8,
            "bin_end": 8152,
            "count": 0
           },
           {
            "bin_start": 8152,
            "bin_end": 9655.2,
            "count": 0
           },
           {
            "bin_start": 9655.2,
            "bin_end": 11158.4,
            "count": 1
           },
           {
            "bin_start": 11158.4,
            "bin_end": 12661.6,
            "count": 0
           },
           {
            "bin_start": 12661.6,
            "bin_end": 14164.800000000001,
            "count": 0
           },
           {
            "bin_start": 14164.800000000001,
            "bin_end": 15668,
            "count": 1
           }
          ]
         }
        },
        {
         "name": "language",
         "dtype": "object",
         "stats": {
          "unique_count": 2,
          "nan_count": 6,
          "categories": [
           {
            "name": "python",
            "count": 3
           },
           {
            "name": "javascript",
            "count": 1
           },
           {
            "name": "Missing",
            "count": 6
           }
          ]
         }
        },
        {
         "name": "_deepnote_index_column",
         "dtype": "int64"
        }
       ],
       "rows_top": [
        {
         "ranking": 1,
         "stars": 1304,
         "language": "nan",
         "_deepnote_index_column": 0
        },
        {
         "ranking": 2,
         "stars": 15668,
         "language": "nan",
         "_deepnote_index_column": 1
        },
        {
         "ranking": 3,
         "stars": 3218,
         "language": "nan",
         "_deepnote_index_column": 2
        },
        {
         "ranking": 4,
         "stars": 636,
         "language": "nan",
         "_deepnote_index_column": 3
        },
        {
         "ranking": 5,
         "stars": 11065,
         "language": "nan",
         "_deepnote_index_column": 4
        },
        {
         "ranking": 6,
         "stars": "nan",
         "language": "javascript",
         "_deepnote_index_column": 5
        },
        {
         "ranking": 7,
         "stars": "nan",
         "language": "python",
         "_deepnote_index_column": 6
        },
        {
         "ranking": 8,
         "stars": "nan",
         "language": "python",
         "_deepnote_index_column": 7
        },
        {
         "ranking": 9,
         "stars": "nan",
         "language": "python",
         "_deepnote_index_column": 8
        },
        {
         "ranking": 10,
         "stars": "nan",
         "language": "nan",
         "_deepnote_index_column": 9
        }
       ],
       "rows_bottom": null
      },
      "text/plain": "   ranking    stars    language\n0        1   1304.0         NaN\n1        2  15668.0         NaN\n2        3   3218.0         NaN\n3        4    636.0         NaN\n4        5  11065.0         NaN\n5        6      NaN  javascript\n6        7      NaN      python\n7        8      NaN      python\n8        9      NaN      python\n9       10      NaN         NaN",
      "text/html": "<div>\n<style scoped>\n    .dataframe tbody tr th:only-of-type {\n        vertical-align: middle;\n    }\n\n    .dataframe tbody tr th {\n        vertical-align: top;\n    }\n\n    .dataframe thead th {\n        text-align: right;\n    }\n</style>\n<table border=\"1\" class=\"dataframe\">\n  <thead>\n    <tr style=\"text-align: right;\">\n      <th></th>\n      <th>ranking</th>\n      <th>stars</th>\n      <th>language</th>\n    </tr>\n  </thead>\n  <tbody>\n    <tr>\n      <th>0</th>\n      <td>1</td>\n      <td>1304.0</td>\n      <td>NaN</td>\n    </tr>\n    <tr>\n      <th>1</th>\n      <td>2</td>\n      <td>15668.0</td>\n      <td>NaN</td>\n    </tr>\n    <tr>\n      <th>2</th>\n      <td>3</td>\n      <td>3218.0</td>\n      <td>NaN</td>\n    </tr>\n    <tr>\n      <th>3</th>\n      <td>4</td>\n      <td>636.0</td>\n      <td>NaN</td>\n    </tr>\n    <tr>\n      <th>4</th>\n      <td>5</td>\n      <td>11065.0</td>\n      <td>NaN</td>\n    </tr>\n    <tr>\n      <th>5</th>\n      <td>6</td>\n      <td>NaN</td>\n      <td>javascript</td>\n    </tr>\n    <tr>\n      <th>6</th>\n      <td>7</td>\n      <td>NaN</td>\n      <td>python</td>\n    </tr>\n    <tr>\n      <th>7</th>\n      <td>8</td>\n      <td>NaN</td>\n      <td>python</td>\n    </tr>\n    <tr>\n      <th>8</th>\n      <td>9</td>\n      <td>NaN</td>\n      <td>python</td>\n    </tr>\n    <tr>\n      <th>9</th>\n      <td>10</td>\n      <td>NaN</td>\n      <td>NaN</td>\n    </tr>\n  </tbody>\n</table>\n</div>"
     },
     "metadata": {}
    }
   ]
  },
  {
   "cell_type": "markdown",
   "source": "### **2.2. Método `merge`** ",
   "metadata": {
    "id": "fzU5v17l8kHf",
    "cell_id": "00057-86044e80-5548-411b-a4e8-c04928095dbc",
    "deepnote_cell_type": "markdown"
   }
  },
  {
   "cell_type": "markdown",
   "source": "Combina dataframes baseado em **colunas**, com **lógica de combinação**.",
   "metadata": {
    "id": "XC2gIbHs8kHg",
    "cell_id": "00058-d4fb74b4-c225-4c72-8443-435326875a2b",
    "deepnote_cell_type": "markdown"
   }
  },
  {
   "cell_type": "code",
   "metadata": {
    "id": "dO9sVjPa9HsZ",
    "cell_id": "00059-46d84eb8-5ba8-4feb-bf46-324e7bd1ddc1",
    "deepnote_to_be_reexecuted": false,
    "source_hash": "bebf2db3",
    "execution_start": 1639097323655,
    "execution_millis": 0,
    "deepnote_cell_type": "code"
   },
   "source": "linguagem_df = pd.DataFrame({\n    'language': ['c', 'go', 'python', 'javascript', 'typescript'], \n    'creation_year': [1972, 2009, 1991, 1995, 2012], \n    'paradigm': ['imperative', 'imperative', 'imperative, object-oriented', 'imperative, object-oriented', 'imperative, object-oriented']\n})",
   "execution_count": null,
   "outputs": []
  },
  {
   "cell_type": "code",
   "metadata": {
    "id": "NqBRmkf3JEzh",
    "cell_id": "00060-81bcb8f7-1921-4c7d-9d76-cf0b5241e8c5",
    "deepnote_to_be_reexecuted": false,
    "source_hash": "5515b9d",
    "execution_start": 1639097323656,
    "execution_millis": 327,
    "deepnote_cell_type": "code"
   },
   "source": "linguagem_df",
   "execution_count": null,
   "outputs": [
    {
     "output_type": "execute_result",
     "execution_count": 33,
     "data": {
      "application/vnd.deepnote.dataframe.v2+json": {
       "row_count": 5,
       "column_count": 3,
       "columns": [
        {
         "name": "language",
         "dtype": "object",
         "stats": {
          "unique_count": 5,
          "nan_count": 0,
          "categories": [
           {
            "name": "c",
            "count": 1
           },
           {
            "name": "go",
            "count": 1
           },
           {
            "name": "3 others",
            "count": 3
           }
          ]
         }
        },
        {
         "name": "creation_year",
         "dtype": "int64",
         "stats": {
          "unique_count": 5,
          "nan_count": 0,
          "min": "1972",
          "max": "2012",
          "histogram": [
           {
            "bin_start": 1972,
            "bin_end": 1976,
            "count": 1
           },
           {
            "bin_start": 1976,
            "bin_end": 1980,
            "count": 0
           },
           {
            "bin_start": 1980,
            "bin_end": 1984,
            "count": 0
           },
           {
            "bin_start": 1984,
            "bin_end": 1988,
            "count": 0
           },
           {
            "bin_start": 1988,
            "bin_end": 1992,
            "count": 1
           },
           {
            "bin_start": 1992,
            "bin_end": 1996,
            "count": 1
           },
           {
            "bin_start": 1996,
            "bin_end": 2000,
            "count": 0
           },
           {
            "bin_start": 2000,
            "bin_end": 2004,
            "count": 0
           },
           {
            "bin_start": 2004,
            "bin_end": 2008,
            "count": 0
           },
           {
            "bin_start": 2008,
            "bin_end": 2012,
            "count": 2
           }
          ]
         }
        },
        {
         "name": "paradigm",
         "dtype": "object",
         "stats": {
          "unique_count": 2,
          "nan_count": 0,
          "categories": [
           {
            "name": "imperative, object-oriented",
            "count": 3
           },
           {
            "name": "imperative",
            "count": 2
           }
          ]
         }
        },
        {
         "name": "_deepnote_index_column",
         "dtype": "int64"
        }
       ],
       "rows_top": [
        {
         "language": "c",
         "creation_year": 1972,
         "paradigm": "imperative",
         "_deepnote_index_column": 0
        },
        {
         "language": "go",
         "creation_year": 2009,
         "paradigm": "imperative",
         "_deepnote_index_column": 1
        },
        {
         "language": "python",
         "creation_year": 1991,
         "paradigm": "imperative, object-oriented",
         "_deepnote_index_column": 2
        },
        {
         "language": "javascript",
         "creation_year": 1995,
         "paradigm": "imperative, object-oriented",
         "_deepnote_index_column": 3
        },
        {
         "language": "typescript",
         "creation_year": 2012,
         "paradigm": "imperative, object-oriented",
         "_deepnote_index_column": 4
        }
       ],
       "rows_bottom": null
      },
      "text/plain": "     language  creation_year                     paradigm\n0           c           1972                   imperative\n1          go           2009                   imperative\n2      python           1991  imperative, object-oriented\n3  javascript           1995  imperative, object-oriented\n4  typescript           2012  imperative, object-oriented",
      "text/html": "<div>\n<style scoped>\n    .dataframe tbody tr th:only-of-type {\n        vertical-align: middle;\n    }\n\n    .dataframe tbody tr th {\n        vertical-align: top;\n    }\n\n    .dataframe thead th {\n        text-align: right;\n    }\n</style>\n<table border=\"1\" class=\"dataframe\">\n  <thead>\n    <tr style=\"text-align: right;\">\n      <th></th>\n      <th>language</th>\n      <th>creation_year</th>\n      <th>paradigm</th>\n    </tr>\n  </thead>\n  <tbody>\n    <tr>\n      <th>0</th>\n      <td>c</td>\n      <td>1972</td>\n      <td>imperative</td>\n    </tr>\n    <tr>\n      <th>1</th>\n      <td>go</td>\n      <td>2009</td>\n      <td>imperative</td>\n    </tr>\n    <tr>\n      <th>2</th>\n      <td>python</td>\n      <td>1991</td>\n      <td>imperative, object-oriented</td>\n    </tr>\n    <tr>\n      <th>3</th>\n      <td>javascript</td>\n      <td>1995</td>\n      <td>imperative, object-oriented</td>\n    </tr>\n    <tr>\n      <th>4</th>\n      <td>typescript</td>\n      <td>2012</td>\n      <td>imperative, object-oriented</td>\n    </tr>\n  </tbody>\n</table>\n</div>"
     },
     "metadata": {}
    }
   ]
  },
  {
   "cell_type": "markdown",
   "source": "*   **Exemplo**: Combinação do tipo `inner`:",
   "metadata": {
    "id": "gj4U2E7Dk_u8",
    "cell_id": "00061-da318a93-07e6-4237-87f4-e28a6a16a223",
    "deepnote_cell_type": "markdown"
   }
  },
  {
   "cell_type": "code",
   "metadata": {
    "id": "stRxObnBlW2X",
    "cell_id": "00062-ba88194b-8380-4781-add7-f82831a6509b",
    "deepnote_to_be_reexecuted": false,
    "source_hash": "84ba79dd",
    "execution_start": 1639097353079,
    "execution_millis": 109,
    "deepnote_cell_type": "code"
   },
   "source": "pd.merge(left=github_df, right=linguagem_df, on='language', how='inner')",
   "execution_count": null,
   "outputs": [
    {
     "output_type": "execute_result",
     "execution_count": 34,
     "data": {
      "application/vnd.deepnote.dataframe.v2+json": {
       "row_count": 8,
       "column_count": 8,
       "columns": [
        {
         "name": "ranking",
         "dtype": "int64",
         "stats": {
          "unique_count": 8,
          "nan_count": 0,
          "min": "1",
          "max": "9",
          "histogram": [
           {
            "bin_start": 1,
            "bin_end": 1.8,
            "count": 1
           },
           {
            "bin_start": 1.8,
            "bin_end": 2.6,
            "count": 1
           },
           {
            "bin_start": 2.6,
            "bin_end": 3.4000000000000004,
            "count": 1
           },
           {
            "bin_start": 3.4000000000000004,
            "bin_end": 4.2,
            "count": 0
           },
           {
            "bin_start": 4.2,
            "bin_end": 5,
            "count": 0
           },
           {
            "bin_start": 5,
            "bin_end": 5.800000000000001,
            "count": 1
           },
           {
            "bin_start": 5.800000000000001,
            "bin_end": 6.6000000000000005,
            "count": 1
           },
           {
            "bin_start": 6.6000000000000005,
            "bin_end": 7.4,
            "count": 1
           },
           {
            "bin_start": 7.4,
            "bin_end": 8.2,
            "count": 1
           },
           {
            "bin_start": 8.2,
            "bin_end": 9,
            "count": 1
           }
          ]
         }
        },
        {
         "name": "project",
         "dtype": "object",
         "stats": {
          "unique_count": 8,
          "nan_count": 0,
          "categories": [
           {
            "name": "plow",
            "count": 1
           },
           {
            "name": "slides",
            "count": 1
           },
           {
            "name": "6 others",
            "count": 6
           }
          ]
         }
        },
        {
         "name": "language",
         "dtype": "object",
         "stats": {
          "unique_count": 4,
          "nan_count": 0,
          "categories": [
           {
            "name": "python",
            "count": 4
           },
           {
            "name": "go",
            "count": 2
           },
           {
            "name": "2 others",
            "count": 2
           }
          ]
         }
        },
        {
         "name": "stars",
         "dtype": "int64",
         "stats": {
          "unique_count": 8,
          "nan_count": 0,
          "min": "369",
          "max": "110768",
          "histogram": [
           {
            "bin_start": 369,
            "bin_end": 11408.9,
            "count": 6
           },
           {
            "bin_start": 11408.9,
            "bin_end": 22448.8,
            "count": 1
           },
           {
            "bin_start": 22448.8,
            "bin_end": 33488.7,
            "count": 0
           },
           {
            "bin_start": 33488.7,
            "bin_end": 44528.6,
            "count": 0
           },
           {
            "bin_start": 44528.6,
            "bin_end": 55568.5,
            "count": 0
           },
           {
            "bin_start": 55568.5,
            "bin_end": 66608.4,
            "count": 0
           },
           {
            "bin_start": 66608.4,
            "bin_end": 77648.3,
            "count": 0
           },
           {
            "bin_start": 77648.3,
            "bin_end": 88688.2,
            "count": 0
           },
           {
            "bin_start": 88688.2,
            "bin_end": 99728.09999999999,
            "count": 0
           },
           {
            "bin_start": 99728.09999999999,
            "bin_end": 110768,
            "count": 1
           }
          ]
         }
        },
        {
         "name": "stars_today",
         "dtype": "int64",
         "stats": {
          "unique_count": 8,
          "nan_count": 0,
          "min": "71",
          "max": "574",
          "histogram": [
           {
            "bin_start": 71,
            "bin_end": 121.3,
            "count": 2
           },
           {
            "bin_start": 121.3,
            "bin_end": 171.6,
            "count": 0
           },
           {
            "bin_start": 171.6,
            "bin_end": 221.89999999999998,
            "count": 0
           },
           {
            "bin_start": 221.89999999999998,
            "bin_end": 272.2,
            "count": 2
           },
           {
            "bin_start": 272.2,
            "bin_end": 322.5,
            "count": 2
           },
           {
            "bin_start": 322.5,
            "bin_end": 372.79999999999995,
            "count": 0
           },
           {
            "bin_start": 372.79999999999995,
            "bin_end": 423.09999999999997,
            "count": 1
           },
           {
            "bin_start": 423.09999999999997,
            "bin_end": 473.4,
            "count": 0
           },
           {
            "bin_start": 473.4,
            "bin_end": 523.7,
            "count": 0
           },
           {
            "bin_start": 523.7,
            "bin_end": 574,
            "count": 1
           }
          ]
         }
        },
        {
         "name": "forks",
         "dtype": "int64",
         "stats": {
          "unique_count": 8,
          "nan_count": 0,
          "min": "38",
          "max": "18331",
          "histogram": [
           {
            "bin_start": 38,
            "bin_end": 1867.3,
            "count": 7
           },
           {
            "bin_start": 1867.3,
            "bin_end": 3696.6,
            "count": 0
           },
           {
            "bin_start": 3696.6,
            "bin_end": 5525.9,
            "count": 0
           },
           {
            "bin_start": 5525.9,
            "bin_end": 7355.2,
            "count": 0
           },
           {
            "bin_start": 7355.2,
            "bin_end": 9184.5,
            "count": 0
           },
           {
            "bin_start": 9184.5,
            "bin_end": 11013.8,
            "count": 0
           },
           {
            "bin_start": 11013.8,
            "bin_end": 12843.1,
            "count": 0
           },
           {
            "bin_start": 12843.1,
            "bin_end": 14672.4,
            "count": 0
           },
           {
            "bin_start": 14672.4,
            "bin_end": 16501.7,
            "count": 0
           },
           {
            "bin_start": 16501.7,
            "bin_end": 18331,
            "count": 1
           }
          ]
         }
        },
        {
         "name": "creation_year",
         "dtype": "int64",
         "stats": {
          "unique_count": 4,
          "nan_count": 0,
          "min": "1991",
          "max": "2012",
          "histogram": [
           {
            "bin_start": 1991,
            "bin_end": 1993.1,
            "count": 4
           },
           {
            "bin_start": 1993.1,
            "bin_end": 1995.2,
            "count": 1
           },
           {
            "bin_start": 1995.2,
            "bin_end": 1997.3,
            "count": 0
           },
           {
            "bin_start": 1997.3,
            "bin_end": 1999.4,
            "count": 0
           },
           {
            "bin_start": 1999.4,
            "bin_end": 2001.5,
            "count": 0
           },
           {
            "bin_start": 2001.5,
            "bin_end": 2003.6,
            "count": 0
           },
           {
            "bin_start": 2003.6,
            "bin_end": 2005.7,
            "count": 0
           },
           {
            "bin_start": 2005.7,
            "bin_end": 2007.8,
            "count": 0
           },
           {
            "bin_start": 2007.8,
            "bin_end": 2009.9,
            "count": 2
           },
           {
            "bin_start": 2009.9,
            "bin_end": 2012,
            "count": 1
           }
          ]
         }
        },
        {
         "name": "paradigm",
         "dtype": "object",
         "stats": {
          "unique_count": 2,
          "nan_count": 0,
          "categories": [
           {
            "name": "imperative, object-oriented",
            "count": 6
           },
           {
            "name": "imperative",
            "count": 2
           }
          ]
         }
        },
        {
         "name": "_deepnote_index_column",
         "dtype": "int64"
        }
       ],
       "rows_top": [
        {
         "ranking": 1,
         "project": "plow",
         "language": "go",
         "stars": 1304,
         "stars_today": 574,
         "forks": 38,
         "creation_year": 2009,
         "paradigm": "imperative",
         "_deepnote_index_column": 0
        },
        {
         "ranking": 3,
         "project": "slides",
         "language": "go",
         "stars": 3218,
         "stars_today": 265,
         "forks": 80,
         "creation_year": 2009,
         "paradigm": "imperative",
         "_deepnote_index_column": 1
        },
        {
         "ranking": 2,
         "project": "n8n",
         "language": "typescript",
         "stars": 15668,
         "stars_today": 280,
         "forks": 1370,
         "creation_year": 2012,
         "paradigm": "imperative, object-oriented",
         "_deepnote_index_column": 2
        },
        {
         "ranking": 5,
         "project": "pytorch-image-models",
         "language": "python",
         "stars": 11065,
         "stars_today": 101,
         "forks": 1646,
         "creation_year": 1991,
         "paradigm": "imperative, object-oriented",
         "_deepnote_index_column": 3
        },
        {
         "ranking": 7,
         "project": "paddleclas",
         "language": "python",
         "stars": 1429,
         "stars_today": 283,
         "forks": 323,
         "creation_year": 1991,
         "paradigm": "imperative, object-oriented",
         "_deepnote_index_column": 4
        },
        {
         "ranking": 8,
         "project": "reddit_sentiment_trader",
         "language": "python",
         "stars": 369,
         "stars_today": 71,
         "forks": 60,
         "creation_year": 1991,
         "paradigm": "imperative, object-oriented",
         "_deepnote_index_column": 5
        },
        {
         "ranking": 9,
         "project": "augly",
         "language": "python",
         "stars": 2849,
         "stars_today": 393,
         "forks": 99,
         "creation_year": 1991,
         "paradigm": "imperative, object-oriented",
         "_deepnote_index_column": 6
        },
        {
         "ranking": 6,
         "project": "javascript-algorithms",
         "language": "javascript",
         "stars": 110768,
         "stars_today": 248,
         "forks": 18331,
         "creation_year": 1995,
         "paradigm": "imperative, object-oriented",
         "_deepnote_index_column": 7
        }
       ],
       "rows_bottom": null
      },
      "text/plain": "   ranking                  project    language   stars  stars_today  forks  \\\n0        1                     plow          go    1304          574     38   \n1        3                   slides          go    3218          265     80   \n2        2                      n8n  typescript   15668          280   1370   \n3        5     pytorch-image-models      python   11065          101   1646   \n4        7               paddleclas      python    1429          283    323   \n5        8  reddit_sentiment_trader      python     369           71     60   \n6        9                    augly      python    2849          393     99   \n7        6    javascript-algorithms  javascript  110768          248  18331   \n\n   creation_year                     paradigm  \n0           2009                   imperative  \n1           2009                   imperative  \n2           2012  imperative, object-oriented  \n3           1991  imperative, object-oriented  \n4           1991  imperative, object-oriented  \n5           1991  imperative, object-oriented  \n6           1991  imperative, object-oriented  \n7           1995  imperative, object-oriented  ",
      "text/html": "<div>\n<style scoped>\n    .dataframe tbody tr th:only-of-type {\n        vertical-align: middle;\n    }\n\n    .dataframe tbody tr th {\n        vertical-align: top;\n    }\n\n    .dataframe thead th {\n        text-align: right;\n    }\n</style>\n<table border=\"1\" class=\"dataframe\">\n  <thead>\n    <tr style=\"text-align: right;\">\n      <th></th>\n      <th>ranking</th>\n      <th>project</th>\n      <th>language</th>\n      <th>stars</th>\n      <th>stars_today</th>\n      <th>forks</th>\n      <th>creation_year</th>\n      <th>paradigm</th>\n    </tr>\n  </thead>\n  <tbody>\n    <tr>\n      <th>0</th>\n      <td>1</td>\n      <td>plow</td>\n      <td>go</td>\n      <td>1304</td>\n      <td>574</td>\n      <td>38</td>\n      <td>2009</td>\n      <td>imperative</td>\n    </tr>\n    <tr>\n      <th>1</th>\n      <td>3</td>\n      <td>slides</td>\n      <td>go</td>\n      <td>3218</td>\n      <td>265</td>\n      <td>80</td>\n      <td>2009</td>\n      <td>imperative</td>\n    </tr>\n    <tr>\n      <th>2</th>\n      <td>2</td>\n      <td>n8n</td>\n      <td>typescript</td>\n      <td>15668</td>\n      <td>280</td>\n      <td>1370</td>\n      <td>2012</td>\n      <td>imperative, object-oriented</td>\n    </tr>\n    <tr>\n      <th>3</th>\n      <td>5</td>\n      <td>pytorch-image-models</td>\n      <td>python</td>\n      <td>11065</td>\n      <td>101</td>\n      <td>1646</td>\n      <td>1991</td>\n      <td>imperative, object-oriented</td>\n    </tr>\n    <tr>\n      <th>4</th>\n      <td>7</td>\n      <td>paddleclas</td>\n      <td>python</td>\n      <td>1429</td>\n      <td>283</td>\n      <td>323</td>\n      <td>1991</td>\n      <td>imperative, object-oriented</td>\n    </tr>\n    <tr>\n      <th>5</th>\n      <td>8</td>\n      <td>reddit_sentiment_trader</td>\n      <td>python</td>\n      <td>369</td>\n      <td>71</td>\n      <td>60</td>\n      <td>1991</td>\n      <td>imperative, object-oriented</td>\n    </tr>\n    <tr>\n      <th>6</th>\n      <td>9</td>\n      <td>augly</td>\n      <td>python</td>\n      <td>2849</td>\n      <td>393</td>\n      <td>99</td>\n      <td>1991</td>\n      <td>imperative, object-oriented</td>\n    </tr>\n    <tr>\n      <th>7</th>\n      <td>6</td>\n      <td>javascript-algorithms</td>\n      <td>javascript</td>\n      <td>110768</td>\n      <td>248</td>\n      <td>18331</td>\n      <td>1995</td>\n      <td>imperative, object-oriented</td>\n    </tr>\n  </tbody>\n</table>\n</div>"
     },
     "metadata": {}
    }
   ]
  },
  {
   "cell_type": "markdown",
   "source": "*   **Exemplo**: Combinação do tipo `left` e `right`:",
   "metadata": {
    "id": "OPEKHbYNmR1k",
    "cell_id": "00063-c72b6cad-e768-45d2-8a91-f3a4a7fc9429",
    "deepnote_cell_type": "markdown"
   }
  },
  {
   "cell_type": "code",
   "metadata": {
    "id": "dFVSLE0WmR1l",
    "cell_id": "00064-eb36dfb4-b9b1-4bee-9841-a2db0cf058ef",
    "deepnote_to_be_reexecuted": false,
    "source_hash": "4eb8a52e",
    "execution_start": 1639097361696,
    "execution_millis": 57,
    "deepnote_cell_type": "code"
   },
   "source": "pd.merge(left=github_df, right=linguagem_df, on='language', how='left')",
   "execution_count": null,
   "outputs": [
    {
     "output_type": "execute_result",
     "execution_count": 35,
     "data": {
      "application/vnd.deepnote.dataframe.v2+json": {
       "row_count": 10,
       "column_count": 8,
       "columns": [
        {
         "name": "ranking",
         "dtype": "int64",
         "stats": {
          "unique_count": 10,
          "nan_count": 0,
          "min": "1",
          "max": "10",
          "histogram": [
           {
            "bin_start": 1,
            "bin_end": 1.9,
            "count": 1
           },
           {
            "bin_start": 1.9,
            "bin_end": 2.8,
            "count": 1
           },
           {
            "bin_start": 2.8,
            "bin_end": 3.7,
            "count": 1
           },
           {
            "bin_start": 3.7,
            "bin_end": 4.6,
            "count": 1
           },
           {
            "bin_start": 4.6,
            "bin_end": 5.5,
            "count": 1
           },
           {
            "bin_start": 5.5,
            "bin_end": 6.4,
            "count": 1
           },
           {
            "bin_start": 6.4,
            "bin_end": 7.3,
            "count": 1
           },
           {
            "bin_start": 7.3,
            "bin_end": 8.2,
            "count": 1
           },
           {
            "bin_start": 8.2,
            "bin_end": 9.1,
            "count": 1
           },
           {
            "bin_start": 9.1,
            "bin_end": 10,
            "count": 1
           }
          ]
         }
        },
        {
         "name": "project",
         "dtype": "object",
         "stats": {
          "unique_count": 10,
          "nan_count": 0,
          "categories": [
           {
            "name": "plow",
            "count": 1
           },
           {
            "name": "n8n",
            "count": 1
           },
           {
            "name": "8 others",
            "count": 8
           }
          ]
         }
        },
        {
         "name": "language",
         "dtype": "object",
         "stats": {
          "unique_count": 4,
          "nan_count": 2,
          "categories": [
           {
            "name": "python",
            "count": 4
           },
           {
            "name": "3 others",
            "count": 4
           },
           {
            "name": "Missing",
            "count": 2
           }
          ]
         }
        },
        {
         "name": "stars",
         "dtype": "int64",
         "stats": {
          "unique_count": 10,
          "nan_count": 0,
          "min": "369",
          "max": "110768",
          "histogram": [
           {
            "bin_start": 369,
            "bin_end": 11408.9,
            "count": 8
           },
           {
            "bin_start": 11408.9,
            "bin_end": 22448.8,
            "count": 1
           },
           {
            "bin_start": 22448.8,
            "bin_end": 33488.7,
            "count": 0
           },
           {
            "bin_start": 33488.7,
            "bin_end": 44528.6,
            "count": 0
           },
           {
            "bin_start": 44528.6,
            "bin_end": 55568.5,
            "count": 0
           },
           {
            "bin_start": 55568.5,
            "bin_end": 66608.4,
            "count": 0
           },
           {
            "bin_start": 66608.4,
            "bin_end": 77648.3,
            "count": 0
           },
           {
            "bin_start": 77648.3,
            "bin_end": 88688.2,
            "count": 0
           },
           {
            "bin_start": 88688.2,
            "bin_end": 99728.09999999999,
            "count": 0
           },
           {
            "bin_start": 99728.09999999999,
            "bin_end": 110768,
            "count": 1
           }
          ]
         }
        },
        {
         "name": "stars_today",
         "dtype": "int64",
         "stats": {
          "unique_count": 10,
          "nan_count": 0,
          "min": "71",
          "max": "574",
          "histogram": [
           {
            "bin_start": 71,
            "bin_end": 121.3,
            "count": 2
           },
           {
            "bin_start": 121.3,
            "bin_end": 171.6,
            "count": 0
           },
           {
            "bin_start": 171.6,
            "bin_end": 221.89999999999998,
            "count": 1
           },
           {
            "bin_start": 221.89999999999998,
            "bin_end": 272.2,
            "count": 3
           },
           {
            "bin_start": 272.2,
            "bin_end": 322.5,
            "count": 2
           },
           {
            "bin_start": 322.5,
            "bin_end": 372.79999999999995,
            "count": 0
           },
           {
            "bin_start": 372.79999999999995,
            "bin_end": 423.09999999999997,
            "count": 1
           },
           {
            "bin_start": 423.09999999999997,
            "bin_end": 473.4,
            "count": 0
           },
           {
            "bin_start": 473.4,
            "bin_end": 523.7,
            "count": 0
           },
           {
            "bin_start": 523.7,
            "bin_end": 574,
            "count": 1
           }
          ]
         }
        },
        {
         "name": "forks",
         "dtype": "int64",
         "stats": {
          "unique_count": 10,
          "nan_count": 0,
          "min": "38",
          "max": "18331",
          "histogram": [
           {
            "bin_start": 38,
            "bin_end": 1867.3,
            "count": 9
           },
           {
            "bin_start": 1867.3,
            "bin_end": 3696.6,
            "count": 0
           },
           {
            "bin_start": 3696.6,
            "bin_end": 5525.9,
            "count": 0
           },
           {
            "bin_start": 5525.9,
            "bin_end": 7355.2,
            "count": 0
           },
           {
            "bin_start": 7355.2,
            "bin_end": 9184.5,
            "count": 0
           },
           {
            "bin_start": 9184.5,
            "bin_end": 11013.8,
            "count": 0
           },
           {
            "bin_start": 11013.8,
            "bin_end": 12843.1,
            "count": 0
           },
           {
            "bin_start": 12843.1,
            "bin_end": 14672.4,
            "count": 0
           },
           {
            "bin_start": 14672.4,
            "bin_end": 16501.7,
            "count": 0
           },
           {
            "bin_start": 16501.7,
            "bin_end": 18331,
            "count": 1
           }
          ]
         }
        },
        {
         "name": "creation_year",
         "dtype": "float64",
         "stats": {
          "unique_count": 4,
          "nan_count": 2,
          "min": "1991.0",
          "max": "2012.0",
          "histogram": [
           {
            "bin_start": 1991,
            "bin_end": 1993.1,
            "count": 4
           },
           {
            "bin_start": 1993.1,
            "bin_end": 1995.2,
            "count": 1
           },
           {
            "bin_start": 1995.2,
            "bin_end": 1997.3,
            "count": 0
           },
           {
            "bin_start": 1997.3,
            "bin_end": 1999.4,
            "count": 0
           },
           {
            "bin_start": 1999.4,
            "bin_end": 2001.5,
            "count": 0
           },
           {
            "bin_start": 2001.5,
            "bin_end": 2003.6,
            "count": 0
           },
           {
            "bin_start": 2003.6,
            "bin_end": 2005.7,
            "count": 0
           },
           {
            "bin_start": 2005.7,
            "bin_end": 2007.8,
            "count": 0
           },
           {
            "bin_start": 2007.8,
            "bin_end": 2009.9,
            "count": 2
           },
           {
            "bin_start": 2009.9,
            "bin_end": 2012,
            "count": 1
           }
          ]
         }
        },
        {
         "name": "paradigm",
         "dtype": "object",
         "stats": {
          "unique_count": 2,
          "nan_count": 2,
          "categories": [
           {
            "name": "imperative, object-oriented",
            "count": 6
           },
           {
            "name": "imperative",
            "count": 2
           },
           {
            "name": "Missing",
            "count": 2
           }
          ]
         }
        },
        {
         "name": "_deepnote_index_column",
         "dtype": "int64"
        }
       ],
       "rows_top": [
        {
         "ranking": 1,
         "project": "plow",
         "language": "go",
         "stars": 1304,
         "stars_today": 574,
         "forks": 38,
         "creation_year": 2009,
         "paradigm": "imperative",
         "_deepnote_index_column": 0
        },
        {
         "ranking": 2,
         "project": "n8n",
         "language": "typescript",
         "stars": 15668,
         "stars_today": 280,
         "forks": 1370,
         "creation_year": 2012,
         "paradigm": "imperative, object-oriented",
         "_deepnote_index_column": 1
        },
        {
         "ranking": 3,
         "project": "slides",
         "language": "go",
         "stars": 3218,
         "stars_today": 265,
         "forks": 80,
         "creation_year": 2009,
         "paradigm": "imperative",
         "_deepnote_index_column": 2
        },
        {
         "ranking": 4,
         "project": "defi-developer-road-map",
         "language": "nan",
         "stars": 636,
         "stars_today": 247,
         "forks": 49,
         "creation_year": "nan",
         "paradigm": "nan",
         "_deepnote_index_column": 3
        },
        {
         "ranking": 5,
         "project": "pytorch-image-models",
         "language": "python",
         "stars": 11065,
         "stars_today": 101,
         "forks": 1646,
         "creation_year": 1991,
         "paradigm": "imperative, object-oriented",
         "_deepnote_index_column": 4
        },
        {
         "ranking": 6,
         "project": "javascript-algorithms",
         "language": "javascript",
         "stars": 110768,
         "stars_today": 248,
         "forks": 18331,
         "creation_year": 1995,
         "paradigm": "imperative, object-oriented",
         "_deepnote_index_column": 5
        },
        {
         "ranking": 7,
         "project": "paddleclas",
         "language": "python",
         "stars": 1429,
         "stars_today": 283,
         "forks": 323,
         "creation_year": 1991,
         "paradigm": "imperative, object-oriented",
         "_deepnote_index_column": 6
        },
        {
         "ranking": 8,
         "project": "reddit_sentiment_trader",
         "language": "python",
         "stars": 369,
         "stars_today": 71,
         "forks": 60,
         "creation_year": 1991,
         "paradigm": "imperative, object-oriented",
         "_deepnote_index_column": 7
        },
        {
         "ranking": 9,
         "project": "augly",
         "language": "python",
         "stars": 2849,
         "stars_today": 393,
         "forks": 99,
         "creation_year": 1991,
         "paradigm": "imperative, object-oriented",
         "_deepnote_index_column": 8
        },
        {
         "ranking": 10,
         "project": "self-taught-guide-to-cloud-computing",
         "language": "nan",
         "stars": 863,
         "stars_today": 179,
         "forks": 84,
         "creation_year": "nan",
         "paradigm": "nan",
         "_deepnote_index_column": 9
        }
       ],
       "rows_bottom": null
      },
      "text/plain": "   ranking                               project    language   stars  \\\n0        1                                  plow          go    1304   \n1        2                                   n8n  typescript   15668   \n2        3                                slides          go    3218   \n3        4               defi-developer-road-map         NaN     636   \n4        5                  pytorch-image-models      python   11065   \n5        6                 javascript-algorithms  javascript  110768   \n6        7                            paddleclas      python    1429   \n7        8               reddit_sentiment_trader      python     369   \n8        9                                 augly      python    2849   \n9       10  self-taught-guide-to-cloud-computing         NaN     863   \n\n   stars_today  forks  creation_year                     paradigm  \n0          574     38         2009.0                   imperative  \n1          280   1370         2012.0  imperative, object-oriented  \n2          265     80         2009.0                   imperative  \n3          247     49            NaN                          NaN  \n4          101   1646         1991.0  imperative, object-oriented  \n5          248  18331         1995.0  imperative, object-oriented  \n6          283    323         1991.0  imperative, object-oriented  \n7           71     60         1991.0  imperative, object-oriented  \n8          393     99         1991.0  imperative, object-oriented  \n9          179     84            NaN                          NaN  ",
      "text/html": "<div>\n<style scoped>\n    .dataframe tbody tr th:only-of-type {\n        vertical-align: middle;\n    }\n\n    .dataframe tbody tr th {\n        vertical-align: top;\n    }\n\n    .dataframe thead th {\n        text-align: right;\n    }\n</style>\n<table border=\"1\" class=\"dataframe\">\n  <thead>\n    <tr style=\"text-align: right;\">\n      <th></th>\n      <th>ranking</th>\n      <th>project</th>\n      <th>language</th>\n      <th>stars</th>\n      <th>stars_today</th>\n      <th>forks</th>\n      <th>creation_year</th>\n      <th>paradigm</th>\n    </tr>\n  </thead>\n  <tbody>\n    <tr>\n      <th>0</th>\n      <td>1</td>\n      <td>plow</td>\n      <td>go</td>\n      <td>1304</td>\n      <td>574</td>\n      <td>38</td>\n      <td>2009.0</td>\n      <td>imperative</td>\n    </tr>\n    <tr>\n      <th>1</th>\n      <td>2</td>\n      <td>n8n</td>\n      <td>typescript</td>\n      <td>15668</td>\n      <td>280</td>\n      <td>1370</td>\n      <td>2012.0</td>\n      <td>imperative, object-oriented</td>\n    </tr>\n    <tr>\n      <th>2</th>\n      <td>3</td>\n      <td>slides</td>\n      <td>go</td>\n      <td>3218</td>\n      <td>265</td>\n      <td>80</td>\n      <td>2009.0</td>\n      <td>imperative</td>\n    </tr>\n    <tr>\n      <th>3</th>\n      <td>4</td>\n      <td>defi-developer-road-map</td>\n      <td>NaN</td>\n      <td>636</td>\n      <td>247</td>\n      <td>49</td>\n      <td>NaN</td>\n      <td>NaN</td>\n    </tr>\n    <tr>\n      <th>4</th>\n      <td>5</td>\n      <td>pytorch-image-models</td>\n      <td>python</td>\n      <td>11065</td>\n      <td>101</td>\n      <td>1646</td>\n      <td>1991.0</td>\n      <td>imperative, object-oriented</td>\n    </tr>\n    <tr>\n      <th>5</th>\n      <td>6</td>\n      <td>javascript-algorithms</td>\n      <td>javascript</td>\n      <td>110768</td>\n      <td>248</td>\n      <td>18331</td>\n      <td>1995.0</td>\n      <td>imperative, object-oriented</td>\n    </tr>\n    <tr>\n      <th>6</th>\n      <td>7</td>\n      <td>paddleclas</td>\n      <td>python</td>\n      <td>1429</td>\n      <td>283</td>\n      <td>323</td>\n      <td>1991.0</td>\n      <td>imperative, object-oriented</td>\n    </tr>\n    <tr>\n      <th>7</th>\n      <td>8</td>\n      <td>reddit_sentiment_trader</td>\n      <td>python</td>\n      <td>369</td>\n      <td>71</td>\n      <td>60</td>\n      <td>1991.0</td>\n      <td>imperative, object-oriented</td>\n    </tr>\n    <tr>\n      <th>8</th>\n      <td>9</td>\n      <td>augly</td>\n      <td>python</td>\n      <td>2849</td>\n      <td>393</td>\n      <td>99</td>\n      <td>1991.0</td>\n      <td>imperative, object-oriented</td>\n    </tr>\n    <tr>\n      <th>9</th>\n      <td>10</td>\n      <td>self-taught-guide-to-cloud-computing</td>\n      <td>NaN</td>\n      <td>863</td>\n      <td>179</td>\n      <td>84</td>\n      <td>NaN</td>\n      <td>NaN</td>\n    </tr>\n  </tbody>\n</table>\n</div>"
     },
     "metadata": {}
    }
   ]
  },
  {
   "cell_type": "code",
   "metadata": {
    "id": "AluHh6R7mcQi",
    "cell_id": "00065-34b40a0e-1a0f-4e2d-a4e8-d0a7fcf2b60f",
    "deepnote_to_be_reexecuted": false,
    "source_hash": "11aba2bf",
    "execution_start": 1639097427715,
    "execution_millis": 38,
    "deepnote_cell_type": "code"
   },
   "source": "pd.merge(left=github_df, right=linguagem_df, on='language', how='right')",
   "execution_count": null,
   "outputs": [
    {
     "output_type": "execute_result",
     "execution_count": 36,
     "data": {
      "application/vnd.deepnote.dataframe.v2+json": {
       "row_count": 9,
       "column_count": 8,
       "columns": [
        {
         "name": "ranking",
         "dtype": "float64",
         "stats": {
          "unique_count": 8,
          "nan_count": 1,
          "min": "1.0",
          "max": "9.0",
          "histogram": [
           {
            "bin_start": 1,
            "bin_end": 1.8,
            "count": 1
           },
           {
            "bin_start": 1.8,
            "bin_end": 2.6,
            "count": 1
           },
           {
            "bin_start": 2.6,
            "bin_end": 3.4000000000000004,
            "count": 1
           },
           {
            "bin_start": 3.4000000000000004,
            "bin_end": 4.2,
            "count": 0
           },
           {
            "bin_start": 4.2,
            "bin_end": 5,
            "count": 0
           },
           {
            "bin_start": 5,
            "bin_end": 5.800000000000001,
            "count": 1
           },
           {
            "bin_start": 5.800000000000001,
            "bin_end": 6.6000000000000005,
            "count": 1
           },
           {
            "bin_start": 6.6000000000000005,
            "bin_end": 7.4,
            "count": 1
           },
           {
            "bin_start": 7.4,
            "bin_end": 8.2,
            "count": 1
           },
           {
            "bin_start": 8.2,
            "bin_end": 9,
            "count": 1
           }
          ]
         }
        },
        {
         "name": "project",
         "dtype": "object",
         "stats": {
          "unique_count": 8,
          "nan_count": 1,
          "categories": [
           {
            "name": "plow",
            "count": 1
           },
           {
            "name": "7 others",
            "count": 7
           },
           {
            "name": "Missing",
            "count": 1
           }
          ]
         }
        },
        {
         "name": "language",
         "dtype": "object",
         "stats": {
          "unique_count": 5,
          "nan_count": 0,
          "categories": [
           {
            "name": "python",
            "count": 4
           },
           {
            "name": "go",
            "count": 2
           },
           {
            "name": "3 others",
            "count": 3
           }
          ]
         }
        },
        {
         "name": "stars",
         "dtype": "float64",
         "stats": {
          "unique_count": 8,
          "nan_count": 1,
          "min": "369.0",
          "max": "110768.0",
          "histogram": [
           {
            "bin_start": 369,
            "bin_end": 11408.9,
            "count": 6
           },
           {
            "bin_start": 11408.9,
            "bin_end": 22448.8,
            "count": 1
           },
           {
            "bin_start": 22448.8,
            "bin_end": 33488.7,
            "count": 0
           },
           {
            "bin_start": 33488.7,
            "bin_end": 44528.6,
            "count": 0
           },
           {
            "bin_start": 44528.6,
            "bin_end": 55568.5,
            "count": 0
           },
           {
            "bin_start": 55568.5,
            "bin_end": 66608.4,
            "count": 0
           },
           {
            "bin_start": 66608.4,
            "bin_end": 77648.3,
            "count": 0
           },
           {
            "bin_start": 77648.3,
            "bin_end": 88688.2,
            "count": 0
           },
           {
            "bin_start": 88688.2,
            "bin_end": 99728.09999999999,
            "count": 0
           },
           {
            "bin_start": 99728.09999999999,
            "bin_end": 110768,
            "count": 1
           }
          ]
         }
        },
        {
         "name": "stars_today",
         "dtype": "float64",
         "stats": {
          "unique_count": 8,
          "nan_count": 1,
          "min": "71.0",
          "max": "574.0",
          "histogram": [
           {
            "bin_start": 71,
            "bin_end": 121.3,
            "count": 2
           },
           {
            "bin_start": 121.3,
            "bin_end": 171.6,
            "count": 0
           },
           {
            "bin_start": 171.6,
            "bin_end": 221.89999999999998,
            "count": 0
           },
           {
            "bin_start": 221.89999999999998,
            "bin_end": 272.2,
            "count": 2
           },
           {
            "bin_start": 272.2,
            "bin_end": 322.5,
            "count": 2
           },
           {
            "bin_start": 322.5,
            "bin_end": 372.79999999999995,
            "count": 0
           },
           {
            "bin_start": 372.79999999999995,
            "bin_end": 423.09999999999997,
            "count": 1
           },
           {
            "bin_start": 423.09999999999997,
            "bin_end": 473.4,
            "count": 0
           },
           {
            "bin_start": 473.4,
            "bin_end": 523.7,
            "count": 0
           },
           {
            "bin_start": 523.7,
            "bin_end": 574,
            "count": 1
           }
          ]
         }
        },
        {
         "name": "forks",
         "dtype": "float64",
         "stats": {
          "unique_count": 8,
          "nan_count": 1,
          "min": "38.0",
          "max": "18331.0",
          "histogram": [
           {
            "bin_start": 38,
            "bin_end": 1867.3,
            "count": 7
           },
           {
            "bin_start": 1867.3,
            "bin_end": 3696.6,
            "count": 0
           },
           {
            "bin_start": 3696.6,
            "bin_end": 5525.9,
            "count": 0
           },
           {
            "bin_start": 5525.9,
            "bin_end": 7355.2,
            "count": 0
           },
           {
            "bin_start": 7355.2,
            "bin_end": 9184.5,
            "count": 0
           },
           {
            "bin_start": 9184.5,
            "bin_end": 11013.8,
            "count": 0
           },
           {
            "bin_start": 11013.8,
            "bin_end": 12843.1,
            "count": 0
           },
           {
            "bin_start": 12843.1,
            "bin_end": 14672.4,
            "count": 0
           },
           {
            "bin_start": 14672.4,
            "bin_end": 16501.7,
            "count": 0
           },
           {
            "bin_start": 16501.7,
            "bin_end": 18331,
            "count": 1
           }
          ]
         }
        },
        {
         "name": "creation_year",
         "dtype": "int64",
         "stats": {
          "unique_count": 5,
          "nan_count": 0,
          "min": "1972",
          "max": "2012",
          "histogram": [
           {
            "bin_start": 1972,
            "bin_end": 1976,
            "count": 1
           },
           {
            "bin_start": 1976,
            "bin_end": 1980,
            "count": 0
           },
           {
            "bin_start": 1980,
            "bin_end": 1984,
            "count": 0
           },
           {
            "bin_start": 1984,
            "bin_end": 1988,
            "count": 0
           },
           {
            "bin_start": 1988,
            "bin_end": 1992,
            "count": 4
           },
           {
            "bin_start": 1992,
            "bin_end": 1996,
            "count": 1
           },
           {
            "bin_start": 1996,
            "bin_end": 2000,
            "count": 0
           },
           {
            "bin_start": 2000,
            "bin_end": 2004,
            "count": 0
           },
           {
            "bin_start": 2004,
            "bin_end": 2008,
            "count": 0
           },
           {
            "bin_start": 2008,
            "bin_end": 2012,
            "count": 3
           }
          ]
         }
        },
        {
         "name": "paradigm",
         "dtype": "object",
         "stats": {
          "unique_count": 2,
          "nan_count": 0,
          "categories": [
           {
            "name": "imperative, object-oriented",
            "count": 6
           },
           {
            "name": "imperative",
            "count": 3
           }
          ]
         }
        },
        {
         "name": "_deepnote_index_column",
         "dtype": "int64"
        }
       ],
       "rows_top": [
        {
         "ranking": "nan",
         "project": "nan",
         "language": "c",
         "stars": "nan",
         "stars_today": "nan",
         "forks": "nan",
         "creation_year": 1972,
         "paradigm": "imperative",
         "_deepnote_index_column": 0
        },
        {
         "ranking": 1,
         "project": "plow",
         "language": "go",
         "stars": 1304,
         "stars_today": 574,
         "forks": 38,
         "creation_year": 2009,
         "paradigm": "imperative",
         "_deepnote_index_column": 1
        },
        {
         "ranking": 3,
         "project": "slides",
         "language": "go",
         "stars": 3218,
         "stars_today": 265,
         "forks": 80,
         "creation_year": 2009,
         "paradigm": "imperative",
         "_deepnote_index_column": 2
        },
        {
         "ranking": 5,
         "project": "pytorch-image-models",
         "language": "python",
         "stars": 11065,
         "stars_today": 101,
         "forks": 1646,
         "creation_year": 1991,
         "paradigm": "imperative, object-oriented",
         "_deepnote_index_column": 3
        },
        {
         "ranking": 7,
         "project": "paddleclas",
         "language": "python",
         "stars": 1429,
         "stars_today": 283,
         "forks": 323,
         "creation_year": 1991,
         "paradigm": "imperative, object-oriented",
         "_deepnote_index_column": 4
        },
        {
         "ranking": 8,
         "project": "reddit_sentiment_trader",
         "language": "python",
         "stars": 369,
         "stars_today": 71,
         "forks": 60,
         "creation_year": 1991,
         "paradigm": "imperative, object-oriented",
         "_deepnote_index_column": 5
        },
        {
         "ranking": 9,
         "project": "augly",
         "language": "python",
         "stars": 2849,
         "stars_today": 393,
         "forks": 99,
         "creation_year": 1991,
         "paradigm": "imperative, object-oriented",
         "_deepnote_index_column": 6
        },
        {
         "ranking": 6,
         "project": "javascript-algorithms",
         "language": "javascript",
         "stars": 110768,
         "stars_today": 248,
         "forks": 18331,
         "creation_year": 1995,
         "paradigm": "imperative, object-oriented",
         "_deepnote_index_column": 7
        },
        {
         "ranking": 2,
         "project": "n8n",
         "language": "typescript",
         "stars": 15668,
         "stars_today": 280,
         "forks": 1370,
         "creation_year": 2012,
         "paradigm": "imperative, object-oriented",
         "_deepnote_index_column": 8
        }
       ],
       "rows_bottom": null
      },
      "text/plain": "   ranking                  project    language     stars  stars_today  \\\n0      NaN                      NaN           c       NaN          NaN   \n1      1.0                     plow          go    1304.0        574.0   \n2      3.0                   slides          go    3218.0        265.0   \n3      5.0     pytorch-image-models      python   11065.0        101.0   \n4      7.0               paddleclas      python    1429.0        283.0   \n5      8.0  reddit_sentiment_trader      python     369.0         71.0   \n6      9.0                    augly      python    2849.0        393.0   \n7      6.0    javascript-algorithms  javascript  110768.0        248.0   \n8      2.0                      n8n  typescript   15668.0        280.0   \n\n     forks  creation_year                     paradigm  \n0      NaN           1972                   imperative  \n1     38.0           2009                   imperative  \n2     80.0           2009                   imperative  \n3   1646.0           1991  imperative, object-oriented  \n4    323.0           1991  imperative, object-oriented  \n5     60.0           1991  imperative, object-oriented  \n6     99.0           1991  imperative, object-oriented  \n7  18331.0           1995  imperative, object-oriented  \n8   1370.0           2012  imperative, object-oriented  ",
      "text/html": "<div>\n<style scoped>\n    .dataframe tbody tr th:only-of-type {\n        vertical-align: middle;\n    }\n\n    .dataframe tbody tr th {\n        vertical-align: top;\n    }\n\n    .dataframe thead th {\n        text-align: right;\n    }\n</style>\n<table border=\"1\" class=\"dataframe\">\n  <thead>\n    <tr style=\"text-align: right;\">\n      <th></th>\n      <th>ranking</th>\n      <th>project</th>\n      <th>language</th>\n      <th>stars</th>\n      <th>stars_today</th>\n      <th>forks</th>\n      <th>creation_year</th>\n      <th>paradigm</th>\n    </tr>\n  </thead>\n  <tbody>\n    <tr>\n      <th>0</th>\n      <td>NaN</td>\n      <td>NaN</td>\n      <td>c</td>\n      <td>NaN</td>\n      <td>NaN</td>\n      <td>NaN</td>\n      <td>1972</td>\n      <td>imperative</td>\n    </tr>\n    <tr>\n      <th>1</th>\n      <td>1.0</td>\n      <td>plow</td>\n      <td>go</td>\n      <td>1304.0</td>\n      <td>574.0</td>\n      <td>38.0</td>\n      <td>2009</td>\n      <td>imperative</td>\n    </tr>\n    <tr>\n      <th>2</th>\n      <td>3.0</td>\n      <td>slides</td>\n      <td>go</td>\n      <td>3218.0</td>\n      <td>265.0</td>\n      <td>80.0</td>\n      <td>2009</td>\n      <td>imperative</td>\n    </tr>\n    <tr>\n      <th>3</th>\n      <td>5.0</td>\n      <td>pytorch-image-models</td>\n      <td>python</td>\n      <td>11065.0</td>\n      <td>101.0</td>\n      <td>1646.0</td>\n      <td>1991</td>\n      <td>imperative, object-oriented</td>\n    </tr>\n    <tr>\n      <th>4</th>\n      <td>7.0</td>\n      <td>paddleclas</td>\n      <td>python</td>\n      <td>1429.0</td>\n      <td>283.0</td>\n      <td>323.0</td>\n      <td>1991</td>\n      <td>imperative, object-oriented</td>\n    </tr>\n    <tr>\n      <th>5</th>\n      <td>8.0</td>\n      <td>reddit_sentiment_trader</td>\n      <td>python</td>\n      <td>369.0</td>\n      <td>71.0</td>\n      <td>60.0</td>\n      <td>1991</td>\n      <td>imperative, object-oriented</td>\n    </tr>\n    <tr>\n      <th>6</th>\n      <td>9.0</td>\n      <td>augly</td>\n      <td>python</td>\n      <td>2849.0</td>\n      <td>393.0</td>\n      <td>99.0</td>\n      <td>1991</td>\n      <td>imperative, object-oriented</td>\n    </tr>\n    <tr>\n      <th>7</th>\n      <td>6.0</td>\n      <td>javascript-algorithms</td>\n      <td>javascript</td>\n      <td>110768.0</td>\n      <td>248.0</td>\n      <td>18331.0</td>\n      <td>1995</td>\n      <td>imperative, object-oriented</td>\n    </tr>\n    <tr>\n      <th>8</th>\n      <td>2.0</td>\n      <td>n8n</td>\n      <td>typescript</td>\n      <td>15668.0</td>\n      <td>280.0</td>\n      <td>1370.0</td>\n      <td>2012</td>\n      <td>imperative, object-oriented</td>\n    </tr>\n  </tbody>\n</table>\n</div>"
     },
     "metadata": {}
    }
   ]
  },
  {
   "cell_type": "markdown",
   "source": "*   **Exemplo**: Combinação do tipo `outer`:",
   "metadata": {
    "id": "bWpMyjJami5f",
    "cell_id": "00066-ec0c3c06-8453-4e52-92aa-8dfef12742cb",
    "deepnote_cell_type": "markdown"
   }
  },
  {
   "cell_type": "code",
   "metadata": {
    "id": "_gSQTULfmi5f",
    "cell_id": "00067-2a9bd315-caaa-4f86-ac28-d45d9fc9bfb2",
    "deepnote_to_be_reexecuted": false,
    "source_hash": "f487939f",
    "execution_start": 1639097468395,
    "execution_millis": 269,
    "deepnote_cell_type": "code"
   },
   "source": "pd.merge(left=github_df, right=linguagem_df, on='language', how='outer')",
   "execution_count": null,
   "outputs": [
    {
     "output_type": "execute_result",
     "execution_count": 37,
     "data": {
      "application/vnd.deepnote.dataframe.v2+json": {
       "row_count": 11,
       "column_count": 8,
       "columns": [
        {
         "name": "ranking",
         "dtype": "float64",
         "stats": {
          "unique_count": 10,
          "nan_count": 1,
          "min": "1.0",
          "max": "10.0",
          "histogram": [
           {
            "bin_start": 1,
            "bin_end": 1.9,
            "count": 1
           },
           {
            "bin_start": 1.9,
            "bin_end": 2.8,
            "count": 1
           },
           {
            "bin_start": 2.8,
            "bin_end": 3.7,
            "count": 1
           },
           {
            "bin_start": 3.7,
            "bin_end": 4.6,
            "count": 1
           },
           {
            "bin_start": 4.6,
            "bin_end": 5.5,
            "count": 1
           },
           {
            "bin_start": 5.5,
            "bin_end": 6.4,
            "count": 1
           },
           {
            "bin_start": 6.4,
            "bin_end": 7.3,
            "count": 1
           },
           {
            "bin_start": 7.3,
            "bin_end": 8.2,
            "count": 1
           },
           {
            "bin_start": 8.2,
            "bin_end": 9.1,
            "count": 1
           },
           {
            "bin_start": 9.1,
            "bin_end": 10,
            "count": 1
           }
          ]
         }
        },
        {
         "name": "project",
         "dtype": "object",
         "stats": {
          "unique_count": 10,
          "nan_count": 1,
          "categories": [
           {
            "name": "plow",
            "count": 1
           },
           {
            "name": "9 others",
            "count": 9
           },
           {
            "name": "Missing",
            "count": 1
           }
          ]
         }
        },
        {
         "name": "language",
         "dtype": "object",
         "stats": {
          "unique_count": 5,
          "nan_count": 2,
          "categories": [
           {
            "name": "python",
            "count": 4
           },
           {
            "name": "4 others",
            "count": 5
           },
           {
            "name": "Missing",
            "count": 2
           }
          ]
         }
        },
        {
         "name": "stars",
         "dtype": "float64",
         "stats": {
          "unique_count": 10,
          "nan_count": 1,
          "min": "369.0",
          "max": "110768.0",
          "histogram": [
           {
            "bin_start": 369,
            "bin_end": 11408.9,
            "count": 8
           },
           {
            "bin_start": 11408.9,
            "bin_end": 22448.8,
            "count": 1
           },
           {
            "bin_start": 22448.8,
            "bin_end": 33488.7,
            "count": 0
           },
           {
            "bin_start": 33488.7,
            "bin_end": 44528.6,
            "count": 0
           },
           {
            "bin_start": 44528.6,
            "bin_end": 55568.5,
            "count": 0
           },
           {
            "bin_start": 55568.5,
            "bin_end": 66608.4,
            "count": 0
           },
           {
            "bin_start": 66608.4,
            "bin_end": 77648.3,
            "count": 0
           },
           {
            "bin_start": 77648.3,
            "bin_end": 88688.2,
            "count": 0
           },
           {
            "bin_start": 88688.2,
            "bin_end": 99728.09999999999,
            "count": 0
           },
           {
            "bin_start": 99728.09999999999,
            "bin_end": 110768,
            "count": 1
           }
          ]
         }
        },
        {
         "name": "stars_today",
         "dtype": "float64",
         "stats": {
          "unique_count": 10,
          "nan_count": 1,
          "min": "71.0",
          "max": "574.0",
          "histogram": [
           {
            "bin_start": 71,
            "bin_end": 121.3,
            "count": 2
           },
           {
            "bin_start": 121.3,
            "bin_end": 171.6,
            "count": 0
           },
           {
            "bin_start": 171.6,
            "bin_end": 221.89999999999998,
            "count": 1
           },
           {
            "bin_start": 221.89999999999998,
            "bin_end": 272.2,
            "count": 3
           },
           {
            "bin_start": 272.2,
            "bin_end": 322.5,
            "count": 2
           },
           {
            "bin_start": 322.5,
            "bin_end": 372.79999999999995,
            "count": 0
           },
           {
            "bin_start": 372.79999999999995,
            "bin_end": 423.09999999999997,
            "count": 1
           },
           {
            "bin_start": 423.09999999999997,
            "bin_end": 473.4,
            "count": 0
           },
           {
            "bin_start": 473.4,
            "bin_end": 523.7,
            "count": 0
           },
           {
            "bin_start": 523.7,
            "bin_end": 574,
            "count": 1
           }
          ]
         }
        },
        {
         "name": "forks",
         "dtype": "float64",
         "stats": {
          "unique_count": 10,
          "nan_count": 1,
          "min": "38.0",
          "max": "18331.0",
          "histogram": [
           {
            "bin_start": 38,
            "bin_end": 1867.3,
            "count": 9
           },
           {
            "bin_start": 1867.3,
            "bin_end": 3696.6,
            "count": 0
           },
           {
            "bin_start": 3696.6,
            "bin_end": 5525.9,
            "count": 0
           },
           {
            "bin_start": 5525.9,
            "bin_end": 7355.2,
            "count": 0
           },
           {
            "bin_start": 7355.2,
            "bin_end": 9184.5,
            "count": 0
           },
           {
            "bin_start": 9184.5,
            "bin_end": 11013.8,
            "count": 0
           },
           {
            "bin_start": 11013.8,
            "bin_end": 12843.1,
            "count": 0
           },
           {
            "bin_start": 12843.1,
            "bin_end": 14672.4,
            "count": 0
           },
           {
            "bin_start": 14672.4,
            "bin_end": 16501.7,
            "count": 0
           },
           {
            "bin_start": 16501.7,
            "bin_end": 18331,
            "count": 1
           }
          ]
         }
        },
        {
         "name": "creation_year",
         "dtype": "float64",
         "stats": {
          "unique_count": 5,
          "nan_count": 2,
          "min": "1972.0",
          "max": "2012.0",
          "histogram": [
           {
            "bin_start": 1972,
            "bin_end": 1976,
            "count": 1
           },
           {
            "bin_start": 1976,
            "bin_end": 1980,
            "count": 0
           },
           {
            "bin_start": 1980,
            "bin_end": 1984,
            "count": 0
           },
           {
            "bin_start": 1984,
            "bin_end": 1988,
            "count": 0
           },
           {
            "bin_start": 1988,
            "bin_end": 1992,
            "count": 4
           },
           {
            "bin_start": 1992,
            "bin_end": 1996,
            "count": 1
           },
           {
            "bin_start": 1996,
            "bin_end": 2000,
            "count": 0
           },
           {
            "bin_start": 2000,
            "bin_end": 2004,
            "count": 0
           },
           {
            "bin_start": 2004,
            "bin_end": 2008,
            "count": 0
           },
           {
            "bin_start": 2008,
            "bin_end": 2012,
            "count": 3
           }
          ]
         }
        },
        {
         "name": "paradigm",
         "dtype": "object",
         "stats": {
          "unique_count": 2,
          "nan_count": 2,
          "categories": [
           {
            "name": "imperative, object-oriented",
            "count": 6
           },
           {
            "name": "imperative",
            "count": 3
           },
           {
            "name": "Missing",
            "count": 2
           }
          ]
         }
        },
        {
         "name": "_deepnote_index_column",
         "dtype": "int64"
        }
       ],
       "rows_top": [
        {
         "ranking": 1,
         "project": "plow",
         "language": "go",
         "stars": 1304,
         "stars_today": 574,
         "forks": 38,
         "creation_year": 2009,
         "paradigm": "imperative",
         "_deepnote_index_column": 0
        },
        {
         "ranking": 3,
         "project": "slides",
         "language": "go",
         "stars": 3218,
         "stars_today": 265,
         "forks": 80,
         "creation_year": 2009,
         "paradigm": "imperative",
         "_deepnote_index_column": 1
        },
        {
         "ranking": 2,
         "project": "n8n",
         "language": "typescript",
         "stars": 15668,
         "stars_today": 280,
         "forks": 1370,
         "creation_year": 2012,
         "paradigm": "imperative, object-oriented",
         "_deepnote_index_column": 2
        },
        {
         "ranking": 4,
         "project": "defi-developer-road-map",
         "language": "nan",
         "stars": 636,
         "stars_today": 247,
         "forks": 49,
         "creation_year": "nan",
         "paradigm": "nan",
         "_deepnote_index_column": 3
        },
        {
         "ranking": 10,
         "project": "self-taught-guide-to-cloud-computing",
         "language": "nan",
         "stars": 863,
         "stars_today": 179,
         "forks": 84,
         "creation_year": "nan",
         "paradigm": "nan",
         "_deepnote_index_column": 4
        },
        {
         "ranking": 5,
         "project": "pytorch-image-models",
         "language": "python",
         "stars": 11065,
         "stars_today": 101,
         "forks": 1646,
         "creation_year": 1991,
         "paradigm": "imperative, object-oriented",
         "_deepnote_index_column": 5
        },
        {
         "ranking": 7,
         "project": "paddleclas",
         "language": "python",
         "stars": 1429,
         "stars_today": 283,
         "forks": 323,
         "creation_year": 1991,
         "paradigm": "imperative, object-oriented",
         "_deepnote_index_column": 6
        },
        {
         "ranking": 8,
         "project": "reddit_sentiment_trader",
         "language": "python",
         "stars": 369,
         "stars_today": 71,
         "forks": 60,
         "creation_year": 1991,
         "paradigm": "imperative, object-oriented",
         "_deepnote_index_column": 7
        },
        {
         "ranking": 9,
         "project": "augly",
         "language": "python",
         "stars": 2849,
         "stars_today": 393,
         "forks": 99,
         "creation_year": 1991,
         "paradigm": "imperative, object-oriented",
         "_deepnote_index_column": 8
        },
        {
         "ranking": 6,
         "project": "javascript-algorithms",
         "language": "javascript",
         "stars": 110768,
         "stars_today": 248,
         "forks": 18331,
         "creation_year": 1995,
         "paradigm": "imperative, object-oriented",
         "_deepnote_index_column": 9
        },
        {
         "ranking": "nan",
         "project": "nan",
         "language": "c",
         "stars": "nan",
         "stars_today": "nan",
         "forks": "nan",
         "creation_year": 1972,
         "paradigm": "imperative",
         "_deepnote_index_column": 10
        }
       ],
       "rows_bottom": null
      },
      "text/plain": "    ranking                               project    language     stars  \\\n0       1.0                                  plow          go    1304.0   \n1       3.0                                slides          go    3218.0   \n2       2.0                                   n8n  typescript   15668.0   \n3       4.0               defi-developer-road-map         NaN     636.0   \n4      10.0  self-taught-guide-to-cloud-computing         NaN     863.0   \n5       5.0                  pytorch-image-models      python   11065.0   \n6       7.0                            paddleclas      python    1429.0   \n7       8.0               reddit_sentiment_trader      python     369.0   \n8       9.0                                 augly      python    2849.0   \n9       6.0                 javascript-algorithms  javascript  110768.0   \n10      NaN                                   NaN           c       NaN   \n\n    stars_today    forks  creation_year                     paradigm  \n0         574.0     38.0         2009.0                   imperative  \n1         265.0     80.0         2009.0                   imperative  \n2         280.0   1370.0         2012.0  imperative, object-oriented  \n3         247.0     49.0            NaN                          NaN  \n4         179.0     84.0            NaN                          NaN  \n5         101.0   1646.0         1991.0  imperative, object-oriented  \n6         283.0    323.0         1991.0  imperative, object-oriented  \n7          71.0     60.0         1991.0  imperative, object-oriented  \n8         393.0     99.0         1991.0  imperative, object-oriented  \n9         248.0  18331.0         1995.0  imperative, object-oriented  \n10          NaN      NaN         1972.0                   imperative  ",
      "text/html": "<div>\n<style scoped>\n    .dataframe tbody tr th:only-of-type {\n        vertical-align: middle;\n    }\n\n    .dataframe tbody tr th {\n        vertical-align: top;\n    }\n\n    .dataframe thead th {\n        text-align: right;\n    }\n</style>\n<table border=\"1\" class=\"dataframe\">\n  <thead>\n    <tr style=\"text-align: right;\">\n      <th></th>\n      <th>ranking</th>\n      <th>project</th>\n      <th>language</th>\n      <th>stars</th>\n      <th>stars_today</th>\n      <th>forks</th>\n      <th>creation_year</th>\n      <th>paradigm</th>\n    </tr>\n  </thead>\n  <tbody>\n    <tr>\n      <th>0</th>\n      <td>1.0</td>\n      <td>plow</td>\n      <td>go</td>\n      <td>1304.0</td>\n      <td>574.0</td>\n      <td>38.0</td>\n      <td>2009.0</td>\n      <td>imperative</td>\n    </tr>\n    <tr>\n      <th>1</th>\n      <td>3.0</td>\n      <td>slides</td>\n      <td>go</td>\n      <td>3218.0</td>\n      <td>265.0</td>\n      <td>80.0</td>\n      <td>2009.0</td>\n      <td>imperative</td>\n    </tr>\n    <tr>\n      <th>2</th>\n      <td>2.0</td>\n      <td>n8n</td>\n      <td>typescript</td>\n      <td>15668.0</td>\n      <td>280.0</td>\n      <td>1370.0</td>\n      <td>2012.0</td>\n      <td>imperative, object-oriented</td>\n    </tr>\n    <tr>\n      <th>3</th>\n      <td>4.0</td>\n      <td>defi-developer-road-map</td>\n      <td>NaN</td>\n      <td>636.0</td>\n      <td>247.0</td>\n      <td>49.0</td>\n      <td>NaN</td>\n      <td>NaN</td>\n    </tr>\n    <tr>\n      <th>4</th>\n      <td>10.0</td>\n      <td>self-taught-guide-to-cloud-computing</td>\n      <td>NaN</td>\n      <td>863.0</td>\n      <td>179.0</td>\n      <td>84.0</td>\n      <td>NaN</td>\n      <td>NaN</td>\n    </tr>\n    <tr>\n      <th>5</th>\n      <td>5.0</td>\n      <td>pytorch-image-models</td>\n      <td>python</td>\n      <td>11065.0</td>\n      <td>101.0</td>\n      <td>1646.0</td>\n      <td>1991.0</td>\n      <td>imperative, object-oriented</td>\n    </tr>\n    <tr>\n      <th>6</th>\n      <td>7.0</td>\n      <td>paddleclas</td>\n      <td>python</td>\n      <td>1429.0</td>\n      <td>283.0</td>\n      <td>323.0</td>\n      <td>1991.0</td>\n      <td>imperative, object-oriented</td>\n    </tr>\n    <tr>\n      <th>7</th>\n      <td>8.0</td>\n      <td>reddit_sentiment_trader</td>\n      <td>python</td>\n      <td>369.0</td>\n      <td>71.0</td>\n      <td>60.0</td>\n      <td>1991.0</td>\n      <td>imperative, object-oriented</td>\n    </tr>\n    <tr>\n      <th>8</th>\n      <td>9.0</td>\n      <td>augly</td>\n      <td>python</td>\n      <td>2849.0</td>\n      <td>393.0</td>\n      <td>99.0</td>\n      <td>1991.0</td>\n      <td>imperative, object-oriented</td>\n    </tr>\n    <tr>\n      <th>9</th>\n      <td>6.0</td>\n      <td>javascript-algorithms</td>\n      <td>javascript</td>\n      <td>110768.0</td>\n      <td>248.0</td>\n      <td>18331.0</td>\n      <td>1995.0</td>\n      <td>imperative, object-oriented</td>\n    </tr>\n    <tr>\n      <th>10</th>\n      <td>NaN</td>\n      <td>NaN</td>\n      <td>c</td>\n      <td>NaN</td>\n      <td>NaN</td>\n      <td>NaN</td>\n      <td>1972.0</td>\n      <td>imperative</td>\n    </tr>\n  </tbody>\n</table>\n</div>"
     },
     "metadata": {}
    }
   ]
  },
  {
   "cell_type": "markdown",
   "source": "## 3\\. Técnicas Avançadas",
   "metadata": {
    "id": "ELgoMRAAUSjv",
    "cell_id": "00068-7dd5f1ca-cd7d-4ed2-a326-2e6a1f104c9e",
    "deepnote_cell_type": "markdown"
   }
  },
  {
   "cell_type": "markdown",
   "source": "### **3.1. Gráficos** ",
   "metadata": {
    "id": "gdukZft-DRcG",
    "cell_id": "00069-f7c95e98-93c3-4362-be2a-06b2c0fddaf5",
    "deepnote_cell_type": "markdown"
   }
  },
  {
   "cell_type": "markdown",
   "source": "O Pandas possuí o método `plot` ([documentação](https://pandas.pydata.org/docs/reference/api/pandas.DataFrame.plot.html)) para a geração de gráficos a partir de DataFrames. Por padrão, utiliza o pacote Python de geração de gráficos **MatplotLib** ([documentação](https://matplotlib.org/stable/index.html)).",
   "metadata": {
    "id": "iFJvZ8CubGfw",
    "cell_id": "00070-df2ec72f-ca56-4750-be7e-771fc0ebe6f6",
    "deepnote_cell_type": "markdown"
   }
  },
  {
   "cell_type": "markdown",
   "source": "#### 3.1.1 Pizza ",
   "metadata": {
    "id": "z--x9j7jNMFw",
    "cell_id": "00071-fbed8209-0314-4393-9713-5024532d319a",
    "deepnote_cell_type": "markdown"
   }
  },
  {
   "cell_type": "markdown",
   "source": "Gráfico que relaciona uma variável **categórica** com uma variável **numérica**. Vamos utilizar o método `pie` ([documentação](https://matplotlib.org/stable/api/_as_gen/matplotlib.pyplot.pie.html)) do pacote MatplotLib.",
   "metadata": {
    "id": "2mwK86zXXQBl",
    "cell_id": "00072-3cfca2dd-51e5-4fa9-8e99-d528927d9bc4",
    "deepnote_cell_type": "markdown"
   }
  },
  {
   "cell_type": "markdown",
   "source": "*   **Exemplo**: Proporção das linguagens de programação no ranking:",
   "metadata": {
    "id": "owu5-rt-OW3D",
    "cell_id": "00073-90517cd5-616a-4da0-934d-88fa31791313",
    "deepnote_cell_type": "markdown"
   }
  },
  {
   "cell_type": "code",
   "metadata": {
    "id": "5pWe-UPZTO4l",
    "cell_id": "00074-6dffb537-027b-428a-b576-9660e5f989bb",
    "deepnote_to_be_reexecuted": false,
    "source_hash": "50fbf98f",
    "execution_start": 1639097916393,
    "execution_millis": 1,
    "deepnote_output_heights": [
     21.199996948242188
    ],
    "deepnote_cell_type": "code"
   },
   "source": "{'amount': len(github_df)*[1]}",
   "execution_count": null,
   "outputs": [
    {
     "output_type": "execute_result",
     "execution_count": 39,
     "data": {
      "text/plain": "{'amount': [1, 1, 1, 1, 1, 1, 1, 1, 1, 1]}"
     },
     "metadata": {}
    }
   ]
  },
  {
   "cell_type": "code",
   "metadata": {
    "id": "FNOoK4ivS8Nw",
    "cell_id": "00075-8c1328d8-7fdf-4df7-8cc9-66b96898f118",
    "deepnote_to_be_reexecuted": false,
    "source_hash": "2ea2df6",
    "execution_start": 1639097928934,
    "execution_millis": 5,
    "deepnote_cell_type": "code"
   },
   "source": "languages_df = pd.concat([github_df[['language']], pd.DataFrame({'amount': len(github_df)*[1]})], axis=1)",
   "execution_count": null,
   "outputs": []
  },
  {
   "cell_type": "code",
   "metadata": {
    "id": "BslM9zN7Ti5z",
    "cell_id": "00076-b99e5987-fa31-43b9-a615-0e28a95a4569",
    "deepnote_to_be_reexecuted": false,
    "source_hash": "5a6448e4",
    "execution_start": 1639097930093,
    "execution_millis": 22,
    "deepnote_cell_type": "code"
   },
   "source": "languages_df",
   "execution_count": null,
   "outputs": [
    {
     "output_type": "execute_result",
     "execution_count": 41,
     "data": {
      "application/vnd.deepnote.dataframe.v2+json": {
       "row_count": 10,
       "column_count": 2,
       "columns": [
        {
         "name": "language",
         "dtype": "object",
         "stats": {
          "unique_count": 4,
          "nan_count": 2,
          "categories": [
           {
            "name": "python",
            "count": 4
           },
           {
            "name": "3 others",
            "count": 4
           },
           {
            "name": "Missing",
            "count": 2
           }
          ]
         }
        },
        {
         "name": "amount",
         "dtype": "int64",
         "stats": {
          "unique_count": 1,
          "nan_count": 0,
          "min": "1",
          "max": "1",
          "histogram": [
           {
            "bin_start": 0.5,
            "bin_end": 0.6,
            "count": 0
           },
           {
            "bin_start": 0.6,
            "bin_end": 0.7,
            "count": 0
           },
           {
            "bin_start": 0.7,
            "bin_end": 0.8,
            "count": 0
           },
           {
            "bin_start": 0.8,
            "bin_end": 0.9,
            "count": 0
           },
           {
            "bin_start": 0.9,
            "bin_end": 1,
            "count": 0
           },
           {
            "bin_start": 1,
            "bin_end": 1.1,
            "count": 10
           },
           {
            "bin_start": 1.1,
            "bin_end": 1.2000000000000002,
            "count": 0
           },
           {
            "bin_start": 1.2000000000000002,
            "bin_end": 1.3,
            "count": 0
           },
           {
            "bin_start": 1.3,
            "bin_end": 1.4,
            "count": 0
           },
           {
            "bin_start": 1.4,
            "bin_end": 1.5,
            "count": 0
           }
          ]
         }
        },
        {
         "name": "_deepnote_index_column",
         "dtype": "int64"
        }
       ],
       "rows_top": [
        {
         "language": "go",
         "amount": 1,
         "_deepnote_index_column": 0
        },
        {
         "language": "typescript",
         "amount": 1,
         "_deepnote_index_column": 1
        },
        {
         "language": "go",
         "amount": 1,
         "_deepnote_index_column": 2
        },
        {
         "language": "nan",
         "amount": 1,
         "_deepnote_index_column": 3
        },
        {
         "language": "python",
         "amount": 1,
         "_deepnote_index_column": 4
        },
        {
         "language": "javascript",
         "amount": 1,
         "_deepnote_index_column": 5
        },
        {
         "language": "python",
         "amount": 1,
         "_deepnote_index_column": 6
        },
        {
         "language": "python",
         "amount": 1,
         "_deepnote_index_column": 7
        },
        {
         "language": "python",
         "amount": 1,
         "_deepnote_index_column": 8
        },
        {
         "language": "nan",
         "amount": 1,
         "_deepnote_index_column": 9
        }
       ],
       "rows_bottom": null
      },
      "text/plain": "     language  amount\n0          go       1\n1  typescript       1\n2          go       1\n3         NaN       1\n4      python       1\n5  javascript       1\n6      python       1\n7      python       1\n8      python       1\n9         NaN       1",
      "text/html": "<div>\n<style scoped>\n    .dataframe tbody tr th:only-of-type {\n        vertical-align: middle;\n    }\n\n    .dataframe tbody tr th {\n        vertical-align: top;\n    }\n\n    .dataframe thead th {\n        text-align: right;\n    }\n</style>\n<table border=\"1\" class=\"dataframe\">\n  <thead>\n    <tr style=\"text-align: right;\">\n      <th></th>\n      <th>language</th>\n      <th>amount</th>\n    </tr>\n  </thead>\n  <tbody>\n    <tr>\n      <th>0</th>\n      <td>go</td>\n      <td>1</td>\n    </tr>\n    <tr>\n      <th>1</th>\n      <td>typescript</td>\n      <td>1</td>\n    </tr>\n    <tr>\n      <th>2</th>\n      <td>go</td>\n      <td>1</td>\n    </tr>\n    <tr>\n      <th>3</th>\n      <td>NaN</td>\n      <td>1</td>\n    </tr>\n    <tr>\n      <th>4</th>\n      <td>python</td>\n      <td>1</td>\n    </tr>\n    <tr>\n      <th>5</th>\n      <td>javascript</td>\n      <td>1</td>\n    </tr>\n    <tr>\n      <th>6</th>\n      <td>python</td>\n      <td>1</td>\n    </tr>\n    <tr>\n      <th>7</th>\n      <td>python</td>\n      <td>1</td>\n    </tr>\n    <tr>\n      <th>8</th>\n      <td>python</td>\n      <td>1</td>\n    </tr>\n    <tr>\n      <th>9</th>\n      <td>NaN</td>\n      <td>1</td>\n    </tr>\n  </tbody>\n</table>\n</div>"
     },
     "metadata": {}
    }
   ]
  },
  {
   "cell_type": "code",
   "metadata": {
    "id": "yjlgmbEVMsMo",
    "cell_id": "00077-aaad2650-1b5f-4230-ab52-3a5e99e0837e",
    "deepnote_to_be_reexecuted": false,
    "source_hash": "4c0d10c7",
    "execution_start": 1639097954705,
    "execution_millis": 4,
    "deepnote_cell_type": "code"
   },
   "source": "grouped_languages_df = languages_df.groupby('language').agg('sum')",
   "execution_count": null,
   "outputs": []
  },
  {
   "cell_type": "code",
   "metadata": {
    "id": "_7nq9EE_NXbD",
    "cell_id": "00078-56378700-d0fb-40b6-9a45-c31ceff31b3f",
    "deepnote_to_be_reexecuted": false,
    "source_hash": "9e3575dc",
    "execution_start": 1639097957845,
    "execution_millis": 6,
    "deepnote_cell_type": "code"
   },
   "source": "grouped_languages_df",
   "execution_count": null,
   "outputs": [
    {
     "output_type": "execute_result",
     "execution_count": 43,
     "data": {
      "application/vnd.deepnote.dataframe.v2+json": {
       "row_count": 4,
       "column_count": 1,
       "columns": [
        {
         "name": "amount",
         "dtype": "int64",
         "stats": {
          "unique_count": 3,
          "nan_count": 0,
          "min": "1",
          "max": "4",
          "histogram": [
           {
            "bin_start": 1,
            "bin_end": 1.3,
            "count": 2
           },
           {
            "bin_start": 1.3,
            "bin_end": 1.6,
            "count": 0
           },
           {
            "bin_start": 1.6,
            "bin_end": 1.9,
            "count": 0
           },
           {
            "bin_start": 1.9,
            "bin_end": 2.2,
            "count": 1
           },
           {
            "bin_start": 2.2,
            "bin_end": 2.5,
            "count": 0
           },
           {
            "bin_start": 2.5,
            "bin_end": 2.8,
            "count": 0
           },
           {
            "bin_start": 2.8,
            "bin_end": 3.1,
            "count": 0
           },
           {
            "bin_start": 3.1,
            "bin_end": 3.4,
            "count": 0
           },
           {
            "bin_start": 3.4,
            "bin_end": 3.6999999999999997,
            "count": 0
           },
           {
            "bin_start": 3.6999999999999997,
            "bin_end": 4,
            "count": 1
           }
          ]
         }
        },
        {
         "name": "_deepnote_index_column",
         "dtype": "object"
        }
       ],
       "rows_top": [
        {
         "amount": 2,
         "_deepnote_index_column": "go"
        },
        {
         "amount": 1,
         "_deepnote_index_column": "javascript"
        },
        {
         "amount": 4,
         "_deepnote_index_column": "python"
        },
        {
         "amount": 1,
         "_deepnote_index_column": "typescript"
        }
       ],
       "rows_bottom": null
      },
      "text/plain": "            amount\nlanguage          \ngo               2\njavascript       1\npython           4\ntypescript       1",
      "text/html": "<div>\n<style scoped>\n    .dataframe tbody tr th:only-of-type {\n        vertical-align: middle;\n    }\n\n    .dataframe tbody tr th {\n        vertical-align: top;\n    }\n\n    .dataframe thead th {\n        text-align: right;\n    }\n</style>\n<table border=\"1\" class=\"dataframe\">\n  <thead>\n    <tr style=\"text-align: right;\">\n      <th></th>\n      <th>amount</th>\n    </tr>\n    <tr>\n      <th>language</th>\n      <th></th>\n    </tr>\n  </thead>\n  <tbody>\n    <tr>\n      <th>go</th>\n      <td>2</td>\n    </tr>\n    <tr>\n      <th>javascript</th>\n      <td>1</td>\n    </tr>\n    <tr>\n      <th>python</th>\n      <td>4</td>\n    </tr>\n    <tr>\n      <th>typescript</th>\n      <td>1</td>\n    </tr>\n  </tbody>\n</table>\n</div>"
     },
     "metadata": {}
    }
   ]
  },
  {
   "cell_type": "code",
   "metadata": {
    "id": "k5lf6ReZNbjK",
    "cell_id": "00079-e70a2865-ef69-4beb-80f0-6ec09690dd06",
    "deepnote_to_be_reexecuted": false,
    "source_hash": "1cdb8ec5",
    "execution_start": 1639098013112,
    "execution_millis": 2294,
    "deepnote_output_heights": [
     21.199996948242188,
     342
    ],
    "deepnote_cell_type": "code"
   },
   "source": "grouped_languages_df.plot.pie(y='amount', figsize=(11, 6))",
   "execution_count": null,
   "outputs": [
    {
     "output_type": "execute_result",
     "execution_count": 44,
     "data": {
      "text/plain": "<AxesSubplot:ylabel='amount'>"
     },
     "metadata": {}
    },
    {
     "data": {
      "text/plain": "<Figure size 792x432 with 1 Axes>",
      "image/png": "[encoded data removed]"
     },
     "metadata": {
      "image/png": {
       "width": 374,
       "height": 340
      }
     },
     "output_type": "display_data"
    }
   ]
  },
  {
   "cell_type": "markdown",
   "source": "#### 3.1.2 Pontos ",
   "metadata": {
    "id": "bUB9ylHuN2rG",
    "cell_id": "00080-8844aba6-934c-4ae3-9f97-a2969ae6321b",
    "deepnote_cell_type": "markdown"
   }
  },
  {
   "cell_type": "markdown",
   "source": "Gráfico que relaciona variáveis **numéricas**. Vamos utilizar o método `scatter` ([documentação](https://matplotlib.org/stable/api/_as_gen/matplotlib.pyplot.scatter.html)) do pacote MatplotLib.",
   "metadata": {
    "id": "jyN-6br5XfV9",
    "cell_id": "00081-87b5f9a9-f039-4fdd-a83d-4891031d37f1",
    "deepnote_cell_type": "markdown"
   }
  },
  {
   "cell_type": "markdown",
   "source": "*   **Exemplo**: Relação entre o número de `stars` com o `forks`:",
   "metadata": {
    "id": "tMakhpZBOlOS",
    "cell_id": "00082-f8fdc2f2-acf8-450f-b868-172412068b22",
    "deepnote_cell_type": "markdown"
   }
  },
  {
   "cell_type": "code",
   "metadata": {
    "id": "AQJkyhOHOMtA",
    "cell_id": "00083-5210799c-5651-4a97-aed1-b0a384c3d01c",
    "deepnote_to_be_reexecuted": false,
    "source_hash": "3813049e",
    "execution_start": 1639098132395,
    "execution_millis": 215,
    "deepnote_output_heights": [
     21.199996948242188,
     264
    ],
    "deepnote_cell_type": "code"
   },
   "source": "github_df.plot.scatter(x='stars', y='forks')",
   "execution_count": null,
   "outputs": [
    {
     "output_type": "execute_result",
     "execution_count": 45,
     "data": {
      "text/plain": "<AxesSubplot:xlabel='stars', ylabel='forks'>"
     },
     "metadata": {}
    },
    {
     "data": {
      "text/plain": "<Figure size 432x288 with 1 Axes>",
      "image/png": "[encoded data removed]"
     },
     "metadata": {
      "needs_background": "light",
      "image/png": {
       "width": 401,
       "height": 262
      }
     },
     "output_type": "display_data"
    }
   ]
  },
  {
   "cell_type": "code",
   "metadata": {
    "id": "iJI2Zl-yY8Q5",
    "cell_id": "00084-4e8810a6-9de0-421d-840e-74a64fc9f5a7",
    "deepnote_to_be_reexecuted": false,
    "source_hash": "79237d40",
    "execution_start": 1639098140196,
    "execution_millis": 407,
    "deepnote_output_heights": [
     21.199996948242188,
     243
    ],
    "deepnote_cell_type": "code"
   },
   "source": "github_df.query('stars < 100000').plot.scatter(x='stars', y='forks', c='ranking', colormap='viridis')",
   "execution_count": null,
   "outputs": [
    {
     "output_type": "execute_result",
     "execution_count": 46,
     "data": {
      "text/plain": "<AxesSubplot:xlabel='stars', ylabel='forks'>"
     },
     "metadata": {}
    },
    {
     "data": {
      "text/plain": "<Figure size 432x288 with 2 Axes>",
      "image/png": "[encoded data removed]"
     },
     "metadata": {
      "needs_background": "light",
      "image/png": {
       "width": 389,
       "height": 241
      }
     },
     "output_type": "display_data"
    }
   ]
  },
  {
   "cell_type": "markdown",
   "source": "### **3.2. Valores Nulos** ",
   "metadata": {
    "id": "j611vH5T17VR",
    "cell_id": "00085-53728b62-e700-4922-bd29-60b489e0bc73",
    "deepnote_cell_type": "markdown"
   }
  },
  {
   "cell_type": "markdown",
   "source": "Valores nulos em um DataFrame Pandas ocorrem quando o pacote não consegue interpretar o dado da fonte de dados, exemplos:\n\n*   Colunas categóricas com valores vazios (` `);\n*   Colunas numéricas com valores nulos (`None`);\n*   etc.\n\n",
   "metadata": {
    "id": "XIVLuhDme1Go",
    "cell_id": "00086-55e55a59-ef9b-4ae0-a691-21cc6941222b",
    "deepnote_cell_type": "markdown"
   }
  },
  {
   "cell_type": "markdown",
   "source": "#### 3.2.1 Identificação",
   "metadata": {
    "id": "NaznIcTWc3t1",
    "cell_id": "00087-86d2d4c7-d8e9-4ab0-8ef5-6684d48095be",
    "deepnote_cell_type": "markdown"
   }
  },
  {
   "cell_type": "markdown",
   "source": "*   **Exemplo**: Identificaçao de linhas com algum valor nulo com os métodos `isnull` e `any`:",
   "metadata": {
    "id": "yjq9-YWaeqhR",
    "cell_id": "00088-0f37be8a-491c-4600-b5ff-eff2c398721c",
    "deepnote_cell_type": "markdown"
   }
  },
  {
   "cell_type": "code",
   "metadata": {
    "id": "dYfloOlncs6c",
    "cell_id": "00089-9d636234-710b-41a0-9a27-816286ccf0a0",
    "deepnote_to_be_reexecuted": false,
    "source_hash": "45e1eb39",
    "execution_start": 1639098625735,
    "execution_millis": 45,
    "deepnote_cell_type": "code"
   },
   "source": "github_df",
   "execution_count": null,
   "outputs": [
    {
     "output_type": "execute_result",
     "execution_count": 47,
     "data": {
      "application/vnd.deepnote.dataframe.v2+json": {
       "row_count": 10,
       "column_count": 6,
       "columns": [
        {
         "name": "ranking",
         "dtype": "int64",
         "stats": {
          "unique_count": 10,
          "nan_count": 0,
          "min": "1",
          "max": "10",
          "histogram": [
           {
            "bin_start": 1,
            "bin_end": 1.9,
            "count": 1
           },
           {
            "bin_start": 1.9,
            "bin_end": 2.8,
            "count": 1
           },
           {
            "bin_start": 2.8,
            "bin_end": 3.7,
            "count": 1
           },
           {
            "bin_start": 3.7,
            "bin_end": 4.6,
            "count": 1
           },
           {
            "bin_start": 4.6,
            "bin_end": 5.5,
            "count": 1
           },
           {
            "bin_start": 5.5,
            "bin_end": 6.4,
            "count": 1
           },
           {
            "bin_start": 6.4,
            "bin_end": 7.3,
            "count": 1
           },
           {
            "bin_start": 7.3,
            "bin_end": 8.2,
            "count": 1
           },
           {
            "bin_start": 8.2,
            "bin_end": 9.1,
            "count": 1
           },
           {
            "bin_start": 9.1,
            "bin_end": 10,
            "count": 1
           }
          ]
         }
        },
        {
         "name": "project",
         "dtype": "object",
         "stats": {
          "unique_count": 10,
          "nan_count": 0,
          "categories": [
           {
            "name": "plow",
            "count": 1
           },
           {
            "name": "n8n",
            "count": 1
           },
           {
            "name": "8 others",
            "count": 8
           }
          ]
         }
        },
        {
         "name": "language",
         "dtype": "object",
         "stats": {
          "unique_count": 4,
          "nan_count": 2,
          "categories": [
           {
            "name": "python",
            "count": 4
           },
           {
            "name": "3 others",
            "count": 4
           },
           {
            "name": "Missing",
            "count": 2
           }
          ]
         }
        },
        {
         "name": "stars",
         "dtype": "int64",
         "stats": {
          "unique_count": 10,
          "nan_count": 0,
          "min": "369",
          "max": "110768",
          "histogram": [
           {
            "bin_start": 369,
            "bin_end": 11408.9,
            "count": 8
           },
           {
            "bin_start": 11408.9,
            "bin_end": 22448.8,
            "count": 1
           },
           {
            "bin_start": 22448.8,
            "bin_end": 33488.7,
            "count": 0
           },
           {
            "bin_start": 33488.7,
            "bin_end": 44528.6,
            "count": 0
           },
           {
            "bin_start": 44528.6,
            "bin_end": 55568.5,
            "count": 0
           },
           {
            "bin_start": 55568.5,
            "bin_end": 66608.4,
            "count": 0
           },
           {
            "bin_start": 66608.4,
            "bin_end": 77648.3,
            "count": 0
           },
           {
            "bin_start": 77648.3,
            "bin_end": 88688.2,
            "count": 0
           },
           {
            "bin_start": 88688.2,
            "bin_end": 99728.09999999999,
            "count": 0
           },
           {
            "bin_start": 99728.09999999999,
            "bin_end": 110768,
            "count": 1
           }
          ]
         }
        },
        {
         "name": "stars_today",
         "dtype": "int64",
         "stats": {
          "unique_count": 10,
          "nan_count": 0,
          "min": "71",
          "max": "574",
          "histogram": [
           {
            "bin_start": 71,
            "bin_end": 121.3,
            "count": 2
           },
           {
            "bin_start": 121.3,
            "bin_end": 171.6,
            "count": 0
           },
           {
            "bin_start": 171.6,
            "bin_end": 221.89999999999998,
            "count": 1
           },
           {
            "bin_start": 221.89999999999998,
            "bin_end": 272.2,
            "count": 3
           },
           {
            "bin_start": 272.2,
            "bin_end": 322.5,
            "count": 2
           },
           {
            "bin_start": 322.5,
            "bin_end": 372.79999999999995,
            "count": 0
           },
           {
            "bin_start": 372.79999999999995,
            "bin_end": 423.09999999999997,
            "count": 1
           },
           {
            "bin_start": 423.09999999999997,
            "bin_end": 473.4,
            "count": 0
           },
           {
            "bin_start": 473.4,
            "bin_end": 523.7,
            "count": 0
           },
           {
            "bin_start": 523.7,
            "bin_end": 574,
            "count": 1
           }
          ]
         }
        },
        {
         "name": "forks",
         "dtype": "int64",
         "stats": {
          "unique_count": 10,
          "nan_count": 0,
          "min": "38",
          "max": "18331",
          "histogram": [
           {
            "bin_start": 38,
            "bin_end": 1867.3,
            "count": 9
           },
           {
            "bin_start": 1867.3,
            "bin_end": 3696.6,
            "count": 0
           },
           {
            "bin_start": 3696.6,
            "bin_end": 5525.9,
            "count": 0
           },
           {
            "bin_start": 5525.9,
            "bin_end": 7355.2,
            "count": 0
           },
           {
            "bin_start": 7355.2,
            "bin_end": 9184.5,
            "count": 0
           },
           {
            "bin_start": 9184.5,
            "bin_end": 11013.8,
            "count": 0
           },
           {
            "bin_start": 11013.8,
            "bin_end": 12843.1,
            "count": 0
           },
           {
            "bin_start": 12843.1,
            "bin_end": 14672.4,
            "count": 0
           },
           {
            "bin_start": 14672.4,
            "bin_end": 16501.7,
            "count": 0
           },
           {
            "bin_start": 16501.7,
            "bin_end": 18331,
            "count": 1
           }
          ]
         }
        },
        {
         "name": "_deepnote_index_column",
         "dtype": "int64"
        }
       ],
       "rows_top": [
        {
         "ranking": 1,
         "project": "plow",
         "language": "go",
         "stars": 1304,
         "stars_today": 574,
         "forks": 38,
         "_deepnote_index_column": 0
        },
        {
         "ranking": 2,
         "project": "n8n",
         "language": "typescript",
         "stars": 15668,
         "stars_today": 280,
         "forks": 1370,
         "_deepnote_index_column": 1
        },
        {
         "ranking": 3,
         "project": "slides",
         "language": "go",
         "stars": 3218,
         "stars_today": 265,
         "forks": 80,
         "_deepnote_index_column": 2
        },
        {
         "ranking": 4,
         "project": "defi-developer-road-map",
         "language": "nan",
         "stars": 636,
         "stars_today": 247,
         "forks": 49,
         "_deepnote_index_column": 3
        },
        {
         "ranking": 5,
         "project": "pytorch-image-models",
         "language": "python",
         "stars": 11065,
         "stars_today": 101,
         "forks": 1646,
         "_deepnote_index_column": 4
        },
        {
         "ranking": 6,
         "project": "javascript-algorithms",
         "language": "javascript",
         "stars": 110768,
         "stars_today": 248,
         "forks": 18331,
         "_deepnote_index_column": 5
        },
        {
         "ranking": 7,
         "project": "paddleclas",
         "language": "python",
         "stars": 1429,
         "stars_today": 283,
         "forks": 323,
         "_deepnote_index_column": 6
        },
        {
         "ranking": 8,
         "project": "reddit_sentiment_trader",
         "language": "python",
         "stars": 369,
         "stars_today": 71,
         "forks": 60,
         "_deepnote_index_column": 7
        },
        {
         "ranking": 9,
         "project": "augly",
         "language": "python",
         "stars": 2849,
         "stars_today": 393,
         "forks": 99,
         "_deepnote_index_column": 8
        },
        {
         "ranking": 10,
         "project": "self-taught-guide-to-cloud-computing",
         "language": "nan",
         "stars": 863,
         "stars_today": 179,
         "forks": 84,
         "_deepnote_index_column": 9
        }
       ],
       "rows_bottom": null
      },
      "text/plain": "   ranking                               project    language   stars  \\\n0        1                                  plow          go    1304   \n1        2                                   n8n  typescript   15668   \n2        3                                slides          go    3218   \n3        4               defi-developer-road-map         NaN     636   \n4        5                  pytorch-image-models      python   11065   \n5        6                 javascript-algorithms  javascript  110768   \n6        7                            paddleclas      python    1429   \n7        8               reddit_sentiment_trader      python     369   \n8        9                                 augly      python    2849   \n9       10  self-taught-guide-to-cloud-computing         NaN     863   \n\n   stars_today  forks  \n0          574     38  \n1          280   1370  \n2          265     80  \n3          247     49  \n4          101   1646  \n5          248  18331  \n6          283    323  \n7           71     60  \n8          393     99  \n9          179     84  ",
      "text/html": "<div>\n<style scoped>\n    .dataframe tbody tr th:only-of-type {\n        vertical-align: middle;\n    }\n\n    .dataframe tbody tr th {\n        vertical-align: top;\n    }\n\n    .dataframe thead th {\n        text-align: right;\n    }\n</style>\n<table border=\"1\" class=\"dataframe\">\n  <thead>\n    <tr style=\"text-align: right;\">\n      <th></th>\n      <th>ranking</th>\n      <th>project</th>\n      <th>language</th>\n      <th>stars</th>\n      <th>stars_today</th>\n      <th>forks</th>\n    </tr>\n  </thead>\n  <tbody>\n    <tr>\n      <th>0</th>\n      <td>1</td>\n      <td>plow</td>\n      <td>go</td>\n      <td>1304</td>\n      <td>574</td>\n      <td>38</td>\n    </tr>\n    <tr>\n      <th>1</th>\n      <td>2</td>\n      <td>n8n</td>\n      <td>typescript</td>\n      <td>15668</td>\n      <td>280</td>\n      <td>1370</td>\n    </tr>\n    <tr>\n      <th>2</th>\n      <td>3</td>\n      <td>slides</td>\n      <td>go</td>\n      <td>3218</td>\n      <td>265</td>\n      <td>80</td>\n    </tr>\n    <tr>\n      <th>3</th>\n      <td>4</td>\n      <td>defi-developer-road-map</td>\n      <td>NaN</td>\n      <td>636</td>\n      <td>247</td>\n      <td>49</td>\n    </tr>\n    <tr>\n      <th>4</th>\n      <td>5</td>\n      <td>pytorch-image-models</td>\n      <td>python</td>\n      <td>11065</td>\n      <td>101</td>\n      <td>1646</td>\n    </tr>\n    <tr>\n      <th>5</th>\n      <td>6</td>\n      <td>javascript-algorithms</td>\n      <td>javascript</td>\n      <td>110768</td>\n      <td>248</td>\n      <td>18331</td>\n    </tr>\n    <tr>\n      <th>6</th>\n      <td>7</td>\n      <td>paddleclas</td>\n      <td>python</td>\n      <td>1429</td>\n      <td>283</td>\n      <td>323</td>\n    </tr>\n    <tr>\n      <th>7</th>\n      <td>8</td>\n      <td>reddit_sentiment_trader</td>\n      <td>python</td>\n      <td>369</td>\n      <td>71</td>\n      <td>60</td>\n    </tr>\n    <tr>\n      <th>8</th>\n      <td>9</td>\n      <td>augly</td>\n      <td>python</td>\n      <td>2849</td>\n      <td>393</td>\n      <td>99</td>\n    </tr>\n    <tr>\n      <th>9</th>\n      <td>10</td>\n      <td>self-taught-guide-to-cloud-computing</td>\n      <td>NaN</td>\n      <td>863</td>\n      <td>179</td>\n      <td>84</td>\n    </tr>\n  </tbody>\n</table>\n</div>"
     },
     "metadata": {}
    }
   ]
  },
  {
   "cell_type": "code",
   "metadata": {
    "id": "vDSUM20Ib1kn",
    "cell_id": "00090-53c1f954-fb04-4e4a-88aa-62b74e706226",
    "deepnote_to_be_reexecuted": false,
    "source_hash": "995bc3ef",
    "execution_start": 1639098630573,
    "execution_millis": 376,
    "deepnote_cell_type": "code"
   },
   "source": "github_df.isnull()",
   "execution_count": null,
   "outputs": [
    {
     "output_type": "execute_result",
     "execution_count": 48,
     "data": {
      "application/vnd.deepnote.dataframe.v2+json": {
       "row_count": 10,
       "column_count": 6,
       "columns": [
        {
         "name": "ranking",
         "dtype": "bool",
         "stats": {
          "unique_count": 1,
          "nan_count": 0,
          "categories": [
           {
            "name": "False",
            "count": 10
           }
          ]
         }
        },
        {
         "name": "project",
         "dtype": "bool",
         "stats": {
          "unique_count": 1,
          "nan_count": 0,
          "categories": [
           {
            "name": "False",
            "count": 10
           }
          ]
         }
        },
        {
         "name": "language",
         "dtype": "bool",
         "stats": {
          "unique_count": 2,
          "nan_count": 0,
          "categories": [
           {
            "name": "False",
            "count": 8
           },
           {
            "name": "True",
            "count": 2
           }
          ]
         }
        },
        {
         "name": "stars",
         "dtype": "bool",
         "stats": {
          "unique_count": 1,
          "nan_count": 0,
          "categories": [
           {
            "name": "False",
            "count": 10
           }
          ]
         }
        },
        {
         "name": "stars_today",
         "dtype": "bool",
         "stats": {
          "unique_count": 1,
          "nan_count": 0,
          "categories": [
           {
            "name": "False",
            "count": 10
           }
          ]
         }
        },
        {
         "name": "forks",
         "dtype": "bool",
         "stats": {
          "unique_count": 1,
          "nan_count": 0,
          "categories": [
           {
            "name": "False",
            "count": 10
           }
          ]
         }
        },
        {
         "name": "_deepnote_index_column",
         "dtype": "int64"
        }
       ],
       "rows_top": [
        {
         "ranking": false,
         "project": false,
         "language": false,
         "stars": false,
         "stars_today": false,
         "forks": false,
         "_deepnote_index_column": 0
        },
        {
         "ranking": false,
         "project": false,
         "language": false,
         "stars": false,
         "stars_today": false,
         "forks": false,
         "_deepnote_index_column": 1
        },
        {
         "ranking": false,
         "project": false,
         "language": false,
         "stars": false,
         "stars_today": false,
         "forks": false,
         "_deepnote_index_column": 2
        },
        {
         "ranking": false,
         "project": false,
         "language": true,
         "stars": false,
         "stars_today": false,
         "forks": false,
         "_deepnote_index_column": 3
        },
        {
         "ranking": false,
         "project": false,
         "language": false,
         "stars": false,
         "stars_today": false,
         "forks": false,
         "_deepnote_index_column": 4
        },
        {
         "ranking": false,
         "project": false,
         "language": false,
         "stars": false,
         "stars_today": false,
         "forks": false,
         "_deepnote_index_column": 5
        },
        {
         "ranking": false,
         "project": false,
         "language": false,
         "stars": false,
         "stars_today": false,
         "forks": false,
         "_deepnote_index_column": 6
        },
        {
         "ranking": false,
         "project": false,
         "language": false,
         "stars": false,
         "stars_today": false,
         "forks": false,
         "_deepnote_index_column": 7
        },
        {
         "ranking": false,
         "project": false,
         "language": false,
         "stars": false,
         "stars_today": false,
         "forks": false,
         "_deepnote_index_column": 8
        },
        {
         "ranking": false,
         "project": false,
         "language": true,
         "stars": false,
         "stars_today": false,
         "forks": false,
         "_deepnote_index_column": 9
        }
       ],
       "rows_bottom": null
      },
      "text/plain": "   ranking  project  language  stars  stars_today  forks\n0    False    False     False  False        False  False\n1    False    False     False  False        False  False\n2    False    False     False  False        False  False\n3    False    False      True  False        False  False\n4    False    False     False  False        False  False\n5    False    False     False  False        False  False\n6    False    False     False  False        False  False\n7    False    False     False  False        False  False\n8    False    False     False  False        False  False\n9    False    False      True  False        False  False",
      "text/html": "<div>\n<style scoped>\n    .dataframe tbody tr th:only-of-type {\n        vertical-align: middle;\n    }\n\n    .dataframe tbody tr th {\n        vertical-align: top;\n    }\n\n    .dataframe thead th {\n        text-align: right;\n    }\n</style>\n<table border=\"1\" class=\"dataframe\">\n  <thead>\n    <tr style=\"text-align: right;\">\n      <th></th>\n      <th>ranking</th>\n      <th>project</th>\n      <th>language</th>\n      <th>stars</th>\n      <th>stars_today</th>\n      <th>forks</th>\n    </tr>\n  </thead>\n  <tbody>\n    <tr>\n      <th>0</th>\n      <td>False</td>\n      <td>False</td>\n      <td>False</td>\n      <td>False</td>\n      <td>False</td>\n      <td>False</td>\n    </tr>\n    <tr>\n      <th>1</th>\n      <td>False</td>\n      <td>False</td>\n      <td>False</td>\n      <td>False</td>\n      <td>False</td>\n      <td>False</td>\n    </tr>\n    <tr>\n      <th>2</th>\n      <td>False</td>\n      <td>False</td>\n      <td>False</td>\n      <td>False</td>\n      <td>False</td>\n      <td>False</td>\n    </tr>\n    <tr>\n      <th>3</th>\n      <td>False</td>\n      <td>False</td>\n      <td>True</td>\n      <td>False</td>\n      <td>False</td>\n      <td>False</td>\n    </tr>\n    <tr>\n      <th>4</th>\n      <td>False</td>\n      <td>False</td>\n      <td>False</td>\n      <td>False</td>\n      <td>False</td>\n      <td>False</td>\n    </tr>\n    <tr>\n      <th>5</th>\n      <td>False</td>\n      <td>False</td>\n      <td>False</td>\n      <td>False</td>\n      <td>False</td>\n      <td>False</td>\n    </tr>\n    <tr>\n      <th>6</th>\n      <td>False</td>\n      <td>False</td>\n      <td>False</td>\n      <td>False</td>\n      <td>False</td>\n      <td>False</td>\n    </tr>\n    <tr>\n      <th>7</th>\n      <td>False</td>\n      <td>False</td>\n      <td>False</td>\n      <td>False</td>\n      <td>False</td>\n      <td>False</td>\n    </tr>\n    <tr>\n      <th>8</th>\n      <td>False</td>\n      <td>False</td>\n      <td>False</td>\n      <td>False</td>\n      <td>False</td>\n      <td>False</td>\n    </tr>\n    <tr>\n      <th>9</th>\n      <td>False</td>\n      <td>False</td>\n      <td>True</td>\n      <td>False</td>\n      <td>False</td>\n      <td>False</td>\n    </tr>\n  </tbody>\n</table>\n</div>"
     },
     "metadata": {}
    }
   ]
  },
  {
   "cell_type": "code",
   "metadata": {
    "id": "7ZryEd_VcCcb",
    "cell_id": "00091-e3a3721c-0806-46da-8e09-a54f18cc45c6",
    "deepnote_to_be_reexecuted": false,
    "source_hash": "59ebafcb",
    "execution_start": 1639098654912,
    "execution_millis": 266,
    "deepnote_output_heights": [
     136.39999389648438
    ],
    "deepnote_cell_type": "code"
   },
   "source": "github_df.isnull().any()",
   "execution_count": null,
   "outputs": [
    {
     "output_type": "execute_result",
     "execution_count": 49,
     "data": {
      "text/plain": "ranking        False\nproject        False\nlanguage        True\nstars          False\nstars_today    False\nforks          False\ndtype: bool"
     },
     "metadata": {}
    }
   ]
  },
  {
   "cell_type": "code",
   "metadata": {
    "id": "iMCvrmJlckpe",
    "cell_id": "00092-1d077750-ced0-4e57-82e0-058684b7a764",
    "deepnote_to_be_reexecuted": false,
    "source_hash": "35d69c0d",
    "execution_start": 1639098765111,
    "execution_millis": 280,
    "deepnote_output_heights": [
     21.199996948242188
    ],
    "deepnote_cell_type": "code"
   },
   "source": "github_df.isnull().any().any()",
   "execution_count": null,
   "outputs": [
    {
     "output_type": "execute_result",
     "execution_count": 50,
     "data": {
      "text/plain": "True"
     },
     "metadata": {}
    }
   ]
  },
  {
   "cell_type": "code",
   "metadata": {
    "id": "u1XLCTuic8Du",
    "cell_id": "00093-9195e1ed-5ccb-4d1f-91be-ffd9783d59c3",
    "deepnote_to_be_reexecuted": false,
    "source_hash": "e65112f",
    "execution_start": 1639098842259,
    "execution_millis": 0,
    "deepnote_cell_type": "code"
   },
   "source": "def has_null(df: pd.DataFrame) -> bool:\n  return df.isnull().any().any()",
   "execution_count": null,
   "outputs": []
  },
  {
   "cell_type": "code",
   "metadata": {
    "id": "_8B_M-qZdG6p",
    "cell_id": "00094-eda3f255-d806-4248-9ea3-404af12a42bf",
    "deepnote_to_be_reexecuted": false,
    "source_hash": "a8af7101",
    "execution_start": 1639098848419,
    "execution_millis": 36,
    "deepnote_output_heights": [
     21.199996948242188
    ],
    "deepnote_cell_type": "code"
   },
   "source": "has_null(df=github_df)",
   "execution_count": null,
   "outputs": [
    {
     "output_type": "execute_result",
     "execution_count": 52,
     "data": {
      "text/plain": "True"
     },
     "metadata": {}
    }
   ]
  },
  {
   "cell_type": "markdown",
   "source": "#### 3.2.2 Remoção ",
   "metadata": {
    "id": "fNrHY7J417Ve",
    "cell_id": "00095-61d936d4-1cdc-4539-aa21-e060bf942991",
    "deepnote_cell_type": "markdown"
   }
  },
  {
   "cell_type": "markdown",
   "source": "*   **Exemplo**: Remoção de linhas com algum valor nulo com o método `dropna`:",
   "metadata": {
    "id": "_oYYwO3N17Ve",
    "cell_id": "00096-65915d86-523c-4005-8f6d-f5f4149ae2d1",
    "deepnote_cell_type": "markdown"
   }
  },
  {
   "cell_type": "code",
   "metadata": {
    "id": "zuQqbatS3WSi",
    "cell_id": "00097-33e36258-9bd5-433b-84ba-442d9165257a",
    "deepnote_to_be_reexecuted": false,
    "source_hash": "4a748051",
    "execution_start": 1639099011354,
    "execution_millis": 50,
    "deepnote_cell_type": "code"
   },
   "source": "github_df.dropna()",
   "execution_count": null,
   "outputs": [
    {
     "output_type": "execute_result",
     "execution_count": 53,
     "data": {
      "application/vnd.deepnote.dataframe.v2+json": {
       "row_count": 8,
       "column_count": 6,
       "columns": [
        {
         "name": "ranking",
         "dtype": "int64",
         "stats": {
          "unique_count": 8,
          "nan_count": 0,
          "min": "1",
          "max": "9",
          "histogram": [
           {
            "bin_start": 1,
            "bin_end": 1.8,
            "count": 1
           },
           {
            "bin_start": 1.8,
            "bin_end": 2.6,
            "count": 1
           },
           {
            "bin_start": 2.6,
            "bin_end": 3.4000000000000004,
            "count": 1
           },
           {
            "bin_start": 3.4000000000000004,
            "bin_end": 4.2,
            "count": 0
           },
           {
            "bin_start": 4.2,
            "bin_end": 5,
            "count": 0
           },
           {
            "bin_start": 5,
            "bin_end": 5.800000000000001,
            "count": 1
           },
           {
            "bin_start": 5.800000000000001,
            "bin_end": 6.6000000000000005,
            "count": 1
           },
           {
            "bin_start": 6.6000000000000005,
            "bin_end": 7.4,
            "count": 1
           },
           {
            "bin_start": 7.4,
            "bin_end": 8.2,
            "count": 1
           },
           {
            "bin_start": 8.2,
            "bin_end": 9,
            "count": 1
           }
          ]
         }
        },
        {
         "name": "project",
         "dtype": "object",
         "stats": {
          "unique_count": 8,
          "nan_count": 0,
          "categories": [
           {
            "name": "plow",
            "count": 1
           },
           {
            "name": "n8n",
            "count": 1
           },
           {
            "name": "6 others",
            "count": 6
           }
          ]
         }
        },
        {
         "name": "language",
         "dtype": "object",
         "stats": {
          "unique_count": 4,
          "nan_count": 0,
          "categories": [
           {
            "name": "python",
            "count": 4
           },
           {
            "name": "go",
            "count": 2
           },
           {
            "name": "2 others",
            "count": 2
           }
          ]
         }
        },
        {
         "name": "stars",
         "dtype": "int64",
         "stats": {
          "unique_count": 8,
          "nan_count": 0,
          "min": "369",
          "max": "110768",
          "histogram": [
           {
            "bin_start": 369,
            "bin_end": 11408.9,
            "count": 6
           },
           {
            "bin_start": 11408.9,
            "bin_end": 22448.8,
            "count": 1
           },
           {
            "bin_start": 22448.8,
            "bin_end": 33488.7,
            "count": 0
           },
           {
            "bin_start": 33488.7,
            "bin_end": 44528.6,
            "count": 0
           },
           {
            "bin_start": 44528.6,
            "bin_end": 55568.5,
            "count": 0
           },
           {
            "bin_start": 55568.5,
            "bin_end": 66608.4,
            "count": 0
           },
           {
            "bin_start": 66608.4,
            "bin_end": 77648.3,
            "count": 0
           },
           {
            "bin_start": 77648.3,
            "bin_end": 88688.2,
            "count": 0
           },
           {
            "bin_start": 88688.2,
            "bin_end": 99728.09999999999,
            "count": 0
           },
           {
            "bin_start": 99728.09999999999,
            "bin_end": 110768,
            "count": 1
           }
          ]
         }
        },
        {
         "name": "stars_today",
         "dtype": "int64",
         "stats": {
          "unique_count": 8,
          "nan_count": 0,
          "min": "71",
          "max": "574",
          "histogram": [
           {
            "bin_start": 71,
            "bin_end": 121.3,
            "count": 2
           },
           {
            "bin_start": 121.3,
            "bin_end": 171.6,
            "count": 0
           },
           {
            "bin_start": 171.6,
            "bin_end": 221.89999999999998,
            "count": 0
           },
           {
            "bin_start": 221.89999999999998,
            "bin_end": 272.2,
            "count": 2
           },
           {
            "bin_start": 272.2,
            "bin_end": 322.5,
            "count": 2
           },
           {
            "bin_start": 322.5,
            "bin_end": 372.79999999999995,
            "count": 0
           },
           {
            "bin_start": 372.79999999999995,
            "bin_end": 423.09999999999997,
            "count": 1
           },
           {
            "bin_start": 423.09999999999997,
            "bin_end": 473.4,
            "count": 0
           },
           {
            "bin_start": 473.4,
            "bin_end": 523.7,
            "count": 0
           },
           {
            "bin_start": 523.7,
            "bin_end": 574,
            "count": 1
           }
          ]
         }
        },
        {
         "name": "forks",
         "dtype": "int64",
         "stats": {
          "unique_count": 8,
          "nan_count": 0,
          "min": "38",
          "max": "18331",
          "histogram": [
           {
            "bin_start": 38,
            "bin_end": 1867.3,
            "count": 7
           },
           {
            "bin_start": 1867.3,
            "bin_end": 3696.6,
            "count": 0
           },
           {
            "bin_start": 3696.6,
            "bin_end": 5525.9,
            "count": 0
           },
           {
            "bin_start": 5525.9,
            "bin_end": 7355.2,
            "count": 0
           },
           {
            "bin_start": 7355.2,
            "bin_end": 9184.5,
            "count": 0
           },
           {
            "bin_start": 9184.5,
            "bin_end": 11013.8,
            "count": 0
           },
           {
            "bin_start": 11013.8,
            "bin_end": 12843.1,
            "count": 0
           },
           {
            "bin_start": 12843.1,
            "bin_end": 14672.4,
            "count": 0
           },
           {
            "bin_start": 14672.4,
            "bin_end": 16501.7,
            "count": 0
           },
           {
            "bin_start": 16501.7,
            "bin_end": 18331,
            "count": 1
           }
          ]
         }
        },
        {
         "name": "_deepnote_index_column",
         "dtype": "int64"
        }
       ],
       "rows_top": [
        {
         "ranking": 1,
         "project": "plow",
         "language": "go",
         "stars": 1304,
         "stars_today": 574,
         "forks": 38,
         "_deepnote_index_column": 0
        },
        {
         "ranking": 2,
         "project": "n8n",
         "language": "typescript",
         "stars": 15668,
         "stars_today": 280,
         "forks": 1370,
         "_deepnote_index_column": 1
        },
        {
         "ranking": 3,
         "project": "slides",
         "language": "go",
         "stars": 3218,
         "stars_today": 265,
         "forks": 80,
         "_deepnote_index_column": 2
        },
        {
         "ranking": 5,
         "project": "pytorch-image-models",
         "language": "python",
         "stars": 11065,
         "stars_today": 101,
         "forks": 1646,
         "_deepnote_index_column": 4
        },
        {
         "ranking": 6,
         "project": "javascript-algorithms",
         "language": "javascript",
         "stars": 110768,
         "stars_today": 248,
         "forks": 18331,
         "_deepnote_index_column": 5
        },
        {
         "ranking": 7,
         "project": "paddleclas",
         "language": "python",
         "stars": 1429,
         "stars_today": 283,
         "forks": 323,
         "_deepnote_index_column": 6
        },
        {
         "ranking": 8,
         "project": "reddit_sentiment_trader",
         "language": "python",
         "stars": 369,
         "stars_today": 71,
         "forks": 60,
         "_deepnote_index_column": 7
        },
        {
         "ranking": 9,
         "project": "augly",
         "language": "python",
         "stars": 2849,
         "stars_today": 393,
         "forks": 99,
         "_deepnote_index_column": 8
        }
       ],
       "rows_bottom": null
      },
      "text/plain": "   ranking                  project    language   stars  stars_today  forks\n0        1                     plow          go    1304          574     38\n1        2                      n8n  typescript   15668          280   1370\n2        3                   slides          go    3218          265     80\n4        5     pytorch-image-models      python   11065          101   1646\n5        6    javascript-algorithms  javascript  110768          248  18331\n6        7               paddleclas      python    1429          283    323\n7        8  reddit_sentiment_trader      python     369           71     60\n8        9                    augly      python    2849          393     99",
      "text/html": "<div>\n<style scoped>\n    .dataframe tbody tr th:only-of-type {\n        vertical-align: middle;\n    }\n\n    .dataframe tbody tr th {\n        vertical-align: top;\n    }\n\n    .dataframe thead th {\n        text-align: right;\n    }\n</style>\n<table border=\"1\" class=\"dataframe\">\n  <thead>\n    <tr style=\"text-align: right;\">\n      <th></th>\n      <th>ranking</th>\n      <th>project</th>\n      <th>language</th>\n      <th>stars</th>\n      <th>stars_today</th>\n      <th>forks</th>\n    </tr>\n  </thead>\n  <tbody>\n    <tr>\n      <th>0</th>\n      <td>1</td>\n      <td>plow</td>\n      <td>go</td>\n      <td>1304</td>\n      <td>574</td>\n      <td>38</td>\n    </tr>\n    <tr>\n      <th>1</th>\n      <td>2</td>\n      <td>n8n</td>\n      <td>typescript</td>\n      <td>15668</td>\n      <td>280</td>\n      <td>1370</td>\n    </tr>\n    <tr>\n      <th>2</th>\n      <td>3</td>\n      <td>slides</td>\n      <td>go</td>\n      <td>3218</td>\n      <td>265</td>\n      <td>80</td>\n    </tr>\n    <tr>\n      <th>4</th>\n      <td>5</td>\n      <td>pytorch-image-models</td>\n      <td>python</td>\n      <td>11065</td>\n      <td>101</td>\n      <td>1646</td>\n    </tr>\n    <tr>\n      <th>5</th>\n      <td>6</td>\n      <td>javascript-algorithms</td>\n      <td>javascript</td>\n      <td>110768</td>\n      <td>248</td>\n      <td>18331</td>\n    </tr>\n    <tr>\n      <th>6</th>\n      <td>7</td>\n      <td>paddleclas</td>\n      <td>python</td>\n      <td>1429</td>\n      <td>283</td>\n      <td>323</td>\n    </tr>\n    <tr>\n      <th>7</th>\n      <td>8</td>\n      <td>reddit_sentiment_trader</td>\n      <td>python</td>\n      <td>369</td>\n      <td>71</td>\n      <td>60</td>\n    </tr>\n    <tr>\n      <th>8</th>\n      <td>9</td>\n      <td>augly</td>\n      <td>python</td>\n      <td>2849</td>\n      <td>393</td>\n      <td>99</td>\n    </tr>\n  </tbody>\n</table>\n</div>"
     },
     "metadata": {}
    }
   ]
  },
  {
   "cell_type": "code",
   "metadata": {
    "id": "pVbfeSbBq8Th",
    "cell_id": "00098-c349cd9e-54f3-4282-9766-5b55f9deb123",
    "deepnote_to_be_reexecuted": false,
    "source_hash": "eaa862e9",
    "execution_start": 1639099024316,
    "execution_millis": 20,
    "deepnote_output_heights": [
     21.199996948242188
    ],
    "deepnote_cell_type": "code"
   },
   "source": "has_null(df=github_df.dropna())",
   "execution_count": null,
   "outputs": [
    {
     "output_type": "execute_result",
     "execution_count": 54,
     "data": {
      "text/plain": "False"
     },
     "metadata": {}
    }
   ]
  },
  {
   "cell_type": "markdown",
   "source": "#### 3.2.3 Preenchimento ",
   "metadata": {
    "id": "WaYRDfOa17Vg",
    "cell_id": "00099-f0ffbc39-824b-4449-80d6-faa9cfc25758",
    "deepnote_cell_type": "markdown"
   }
  },
  {
   "cell_type": "markdown",
   "source": "*   **Exemplo**: Preenchimento valores nulos com o método `fillna`:",
   "metadata": {
    "id": "lsHwn5YW17Vg",
    "cell_id": "00100-53cd7fb9-5219-4b71-a7ab-9f9eb3c7f1ac",
    "deepnote_cell_type": "markdown"
   }
  },
  {
   "cell_type": "code",
   "metadata": {
    "id": "_5KzgV2r17Vg",
    "cell_id": "00101-10d372e8-0574-463e-b3cb-1e1bd16af008",
    "deepnote_to_be_reexecuted": false,
    "source_hash": "46efa833",
    "execution_start": 1639099050161,
    "execution_millis": 14,
    "deepnote_cell_type": "code"
   },
   "source": "github_df.fillna('')",
   "execution_count": null,
   "outputs": [
    {
     "output_type": "execute_result",
     "execution_count": 55,
     "data": {
      "application/vnd.deepnote.dataframe.v2+json": {
       "row_count": 10,
       "column_count": 6,
       "columns": [
        {
         "name": "ranking",
         "dtype": "int64",
         "stats": {
          "unique_count": 10,
          "nan_count": 0,
          "min": "1",
          "max": "10",
          "histogram": [
           {
            "bin_start": 1,
            "bin_end": 1.9,
            "count": 1
           },
           {
            "bin_start": 1.9,
            "bin_end": 2.8,
            "count": 1
           },
           {
            "bin_start": 2.8,
            "bin_end": 3.7,
            "count": 1
           },
           {
            "bin_start": 3.7,
            "bin_end": 4.6,
            "count": 1
           },
           {
            "bin_start": 4.6,
            "bin_end": 5.5,
            "count": 1
           },
           {
            "bin_start": 5.5,
            "bin_end": 6.4,
            "count": 1
           },
           {
            "bin_start": 6.4,
            "bin_end": 7.3,
            "count": 1
           },
           {
            "bin_start": 7.3,
            "bin_end": 8.2,
            "count": 1
           },
           {
            "bin_start": 8.2,
            "bin_end": 9.1,
            "count": 1
           },
           {
            "bin_start": 9.1,
            "bin_end": 10,
            "count": 1
           }
          ]
         }
        },
        {
         "name": "project",
         "dtype": "object",
         "stats": {
          "unique_count": 10,
          "nan_count": 0,
          "categories": [
           {
            "name": "plow",
            "count": 1
           },
           {
            "name": "n8n",
            "count": 1
           },
           {
            "name": "8 others",
            "count": 8
           }
          ]
         }
        },
        {
         "name": "language",
         "dtype": "object",
         "stats": {
          "unique_count": 5,
          "nan_count": 0,
          "categories": [
           {
            "name": "python",
            "count": 4
           },
           {
            "name": "go",
            "count": 2
           },
           {
            "name": "3 others",
            "count": 4
           }
          ]
         }
        },
        {
         "name": "stars",
         "dtype": "int64",
         "stats": {
          "unique_count": 10,
          "nan_count": 0,
          "min": "369",
          "max": "110768",
          "histogram": [
           {
            "bin_start": 369,
            "bin_end": 11408.9,
            "count": 8
           },
           {
            "bin_start": 11408.9,
            "bin_end": 22448.8,
            "count": 1
           },
           {
            "bin_start": 22448.8,
            "bin_end": 33488.7,
            "count": 0
           },
           {
            "bin_start": 33488.7,
            "bin_end": 44528.6,
            "count": 0
           },
           {
            "bin_start": 44528.6,
            "bin_end": 55568.5,
            "count": 0
           },
           {
            "bin_start": 55568.5,
            "bin_end": 66608.4,
            "count": 0
           },
           {
            "bin_start": 66608.4,
            "bin_end": 77648.3,
            "count": 0
           },
           {
            "bin_start": 77648.3,
            "bin_end": 88688.2,
            "count": 0
           },
           {
            "bin_start": 88688.2,
            "bin_end": 99728.09999999999,
            "count": 0
           },
           {
            "bin_start": 99728.09999999999,
            "bin_end": 110768,
            "count": 1
           }
          ]
         }
        },
        {
         "name": "stars_today",
         "dtype": "int64",
         "stats": {
          "unique_count": 10,
          "nan_count": 0,
          "min": "71",
          "max": "574",
          "histogram": [
           {
            "bin_start": 71,
            "bin_end": 121.3,
            "count": 2
           },
           {
            "bin_start": 121.3,
            "bin_end": 171.6,
            "count": 0
           },
           {
            "bin_start": 171.6,
            "bin_end": 221.89999999999998,
            "count": 1
           },
           {
            "bin_start": 221.89999999999998,
            "bin_end": 272.2,
            "count": 3
           },
           {
            "bin_start": 272.2,
            "bin_end": 322.5,
            "count": 2
           },
           {
            "bin_start": 322.5,
            "bin_end": 372.79999999999995,
            "count": 0
           },
           {
            "bin_start": 372.79999999999995,
            "bin_end": 423.09999999999997,
            "count": 1
           },
           {
            "bin_start": 423.09999999999997,
            "bin_end": 473.4,
            "count": 0
           },
           {
            "bin_start": 473.4,
            "bin_end": 523.7,
            "count": 0
           },
           {
            "bin_start": 523.7,
            "bin_end": 574,
            "count": 1
           }
          ]
         }
        },
        {
         "name": "forks",
         "dtype": "int64",
         "stats": {
          "unique_count": 10,
          "nan_count": 0,
          "min": "38",
          "max": "18331",
          "histogram": [
           {
            "bin_start": 38,
            "bin_end": 1867.3,
            "count": 9
           },
           {
            "bin_start": 1867.3,
            "bin_end": 3696.6,
            "count": 0
           },
           {
            "bin_start": 3696.6,
            "bin_end": 5525.9,
            "count": 0
           },
           {
            "bin_start": 5525.9,
            "bin_end": 7355.2,
            "count": 0
           },
           {
            "bin_start": 7355.2,
            "bin_end": 9184.5,
            "count": 0
           },
           {
            "bin_start": 9184.5,
            "bin_end": 11013.8,
            "count": 0
           },
           {
            "bin_start": 11013.8,
            "bin_end": 12843.1,
            "count": 0
           },
           {
            "bin_start": 12843.1,
            "bin_end": 14672.4,
            "count": 0
           },
           {
            "bin_start": 14672.4,
            "bin_end": 16501.7,
            "count": 0
           },
           {
            "bin_start": 16501.7,
            "bin_end": 18331,
            "count": 1
           }
          ]
         }
        },
        {
         "name": "_deepnote_index_column",
         "dtype": "int64"
        }
       ],
       "rows_top": [
        {
         "ranking": 1,
         "project": "plow",
         "language": "go",
         "stars": 1304,
         "stars_today": 574,
         "forks": 38,
         "_deepnote_index_column": 0
        },
        {
         "ranking": 2,
         "project": "n8n",
         "language": "typescript",
         "stars": 15668,
         "stars_today": 280,
         "forks": 1370,
         "_deepnote_index_column": 1
        },
        {
         "ranking": 3,
         "project": "slides",
         "language": "go",
         "stars": 3218,
         "stars_today": 265,
         "forks": 80,
         "_deepnote_index_column": 2
        },
        {
         "ranking": 4,
         "project": "defi-developer-road-map",
         "language": "",
         "stars": 636,
         "stars_today": 247,
         "forks": 49,
         "_deepnote_index_column": 3
        },
        {
         "ranking": 5,
         "project": "pytorch-image-models",
         "language": "python",
         "stars": 11065,
         "stars_today": 101,
         "forks": 1646,
         "_deepnote_index_column": 4
        },
        {
         "ranking": 6,
         "project": "javascript-algorithms",
         "language": "javascript",
         "stars": 110768,
         "stars_today": 248,
         "forks": 18331,
         "_deepnote_index_column": 5
        },
        {
         "ranking": 7,
         "project": "paddleclas",
         "language": "python",
         "stars": 1429,
         "stars_today": 283,
         "forks": 323,
         "_deepnote_index_column": 6
        },
        {
         "ranking": 8,
         "project": "reddit_sentiment_trader",
         "language": "python",
         "stars": 369,
         "stars_today": 71,
         "forks": 60,
         "_deepnote_index_column": 7
        },
        {
         "ranking": 9,
         "project": "augly",
         "language": "python",
         "stars": 2849,
         "stars_today": 393,
         "forks": 99,
         "_deepnote_index_column": 8
        },
        {
         "ranking": 10,
         "project": "self-taught-guide-to-cloud-computing",
         "language": "",
         "stars": 863,
         "stars_today": 179,
         "forks": 84,
         "_deepnote_index_column": 9
        }
       ],
       "rows_bottom": null
      },
      "text/plain": "   ranking                               project    language   stars  \\\n0        1                                  plow          go    1304   \n1        2                                   n8n  typescript   15668   \n2        3                                slides          go    3218   \n3        4               defi-developer-road-map                 636   \n4        5                  pytorch-image-models      python   11065   \n5        6                 javascript-algorithms  javascript  110768   \n6        7                            paddleclas      python    1429   \n7        8               reddit_sentiment_trader      python     369   \n8        9                                 augly      python    2849   \n9       10  self-taught-guide-to-cloud-computing                 863   \n\n   stars_today  forks  \n0          574     38  \n1          280   1370  \n2          265     80  \n3          247     49  \n4          101   1646  \n5          248  18331  \n6          283    323  \n7           71     60  \n8          393     99  \n9          179     84  ",
      "text/html": "<div>\n<style scoped>\n    .dataframe tbody tr th:only-of-type {\n        vertical-align: middle;\n    }\n\n    .dataframe tbody tr th {\n        vertical-align: top;\n    }\n\n    .dataframe thead th {\n        text-align: right;\n    }\n</style>\n<table border=\"1\" class=\"dataframe\">\n  <thead>\n    <tr style=\"text-align: right;\">\n      <th></th>\n      <th>ranking</th>\n      <th>project</th>\n      <th>language</th>\n      <th>stars</th>\n      <th>stars_today</th>\n      <th>forks</th>\n    </tr>\n  </thead>\n  <tbody>\n    <tr>\n      <th>0</th>\n      <td>1</td>\n      <td>plow</td>\n      <td>go</td>\n      <td>1304</td>\n      <td>574</td>\n      <td>38</td>\n    </tr>\n    <tr>\n      <th>1</th>\n      <td>2</td>\n      <td>n8n</td>\n      <td>typescript</td>\n      <td>15668</td>\n      <td>280</td>\n      <td>1370</td>\n    </tr>\n    <tr>\n      <th>2</th>\n      <td>3</td>\n      <td>slides</td>\n      <td>go</td>\n      <td>3218</td>\n      <td>265</td>\n      <td>80</td>\n    </tr>\n    <tr>\n      <th>3</th>\n      <td>4</td>\n      <td>defi-developer-road-map</td>\n      <td></td>\n      <td>636</td>\n      <td>247</td>\n      <td>49</td>\n    </tr>\n    <tr>\n      <th>4</th>\n      <td>5</td>\n      <td>pytorch-image-models</td>\n      <td>python</td>\n      <td>11065</td>\n      <td>101</td>\n      <td>1646</td>\n    </tr>\n    <tr>\n      <th>5</th>\n      <td>6</td>\n      <td>javascript-algorithms</td>\n      <td>javascript</td>\n      <td>110768</td>\n      <td>248</td>\n      <td>18331</td>\n    </tr>\n    <tr>\n      <th>6</th>\n      <td>7</td>\n      <td>paddleclas</td>\n      <td>python</td>\n      <td>1429</td>\n      <td>283</td>\n      <td>323</td>\n    </tr>\n    <tr>\n      <th>7</th>\n      <td>8</td>\n      <td>reddit_sentiment_trader</td>\n      <td>python</td>\n      <td>369</td>\n      <td>71</td>\n      <td>60</td>\n    </tr>\n    <tr>\n      <th>8</th>\n      <td>9</td>\n      <td>augly</td>\n      <td>python</td>\n      <td>2849</td>\n      <td>393</td>\n      <td>99</td>\n    </tr>\n    <tr>\n      <th>9</th>\n      <td>10</td>\n      <td>self-taught-guide-to-cloud-computing</td>\n      <td></td>\n      <td>863</td>\n      <td>179</td>\n      <td>84</td>\n    </tr>\n  </tbody>\n</table>\n</div>"
     },
     "metadata": {}
    }
   ]
  },
  {
   "cell_type": "code",
   "metadata": {
    "id": "n8_o3eNxd67Y",
    "cell_id": "00102-25136d2d-ea3a-4efa-9932-3755169ee453",
    "deepnote_to_be_reexecuted": false,
    "source_hash": "a6fe730a",
    "execution_start": 1639099055115,
    "execution_millis": 4,
    "deepnote_output_heights": [
     21.199996948242188
    ],
    "deepnote_cell_type": "code"
   },
   "source": "has_null(df=github_df.fillna(''))",
   "execution_count": null,
   "outputs": [
    {
     "output_type": "execute_result",
     "execution_count": 56,
     "data": {
      "text/plain": "False"
     },
     "metadata": {}
    }
   ]
  },
  {
   "cell_type": "markdown",
   "source": "<a style='text-decoration:none;line-height:16px;display:flex;color:#5B5B62;padding:10px;justify-content:end;' href='https://deepnote.com?utm_source=created-in-deepnote-cell&projectId=690ec1aa-ed7a-4520-b902-aba6fc5867d1' target=\"_blank\">\n<img alt='Created in deepnote.com' style='display:inline;max-height:16px;margin:0px;margin-right:7.5px;' src='data:image/svg+xml;base64,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' > </img>\nCreated in <span style='font-weight:600;margin-left:4px;'>Deepnote</span></a>",
   "metadata": {
    "tags": [],
    "created_in_deepnote_cell": true,
    "deepnote_cell_type": "markdown"
   }
  }
 ],
 "nbformat": 4,
 "nbformat_minor": 0,
 "metadata": {
  "colab": {
   "name": "module_13_class.ipynb",
   "provenance": [],
   "collapsed_sections": [],
   "toc_visible": true
  },
  "kernelspec": {
   "name": "python3",
   "display_name": "Python 3"
  },
  "deepnote_notebook_id": "e4ad90cd-9905-42d4-94d8-278cf855f68a",
  "deepnote": {},
  "deepnote_execution_queue": []
 }
}