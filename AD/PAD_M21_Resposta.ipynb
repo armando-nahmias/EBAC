{
 "cells": [
  {
   "cell_type": "markdown",
   "metadata": {
    "cell_id": "00000-7f1bb916-11ad-4a19-8894-2e4cb8bbcbda",
    "deepnote_cell_type": "markdown",
    "id": "KJqp9AANOCtf"
   },
   "source": [
    "<img src=\"https://raw.githubusercontent.com/andre-marcos-perez/ebac-course-utils/main/media/logo/newebac_logo_black_half.png\" alt=\"ebac-logo\">\n",
    "\n",
    "---\n",
    "\n",
    "# **Módulo** | Análise de Dados: Fundamentos de Matemática\n",
    "Caderno de **Exercícios**<br> \n",
    "Professor [André Perez](https://www.linkedin.com/in/andremarcosperez/)\n",
    "\n",
    "---"
   ]
  },
  {
   "cell_type": "markdown",
   "metadata": {
    "cell_id": "00001-5df37508-2555-411a-b8de-7245867f376f",
    "deepnote_cell_type": "markdown",
    "id": "d9jDtUbDOE1-"
   },
   "source": [
    "# **Tópicos**\n",
    "\n",
    "<ol type=\"1\">\n",
    "  <li>Vetorização;</li>\n",
    "  <li>Arrays Numpy;</li>\n",
    "  <li>Operações.</li>\n",
    "</ol>"
   ]
  },
  {
   "cell_type": "markdown",
   "metadata": {
    "cell_id": "00002-a7b8f665-5ca3-491f-b46f-3da780a34e47",
    "deepnote_cell_type": "markdown",
    "id": "SmoHgt-lwkpD"
   },
   "source": [
    "---"
   ]
  },
  {
   "cell_type": "markdown",
   "metadata": {
    "cell_id": "00003-faee32dc-a8be-4dcd-9e36-087bf573596a",
    "deepnote_cell_type": "markdown",
    "id": "GABI6OW8OfQ2"
   },
   "source": [
    "# **Exercícios**"
   ]
  },
  {
   "cell_type": "markdown",
   "metadata": {
    "cell_id": "00004-2708550d-b65b-40ac-9160-fc7716cb802e",
    "deepnote_cell_type": "markdown",
    "id": "kzRDceCvkFj2"
   },
   "source": [
    "## 1\\. Tráfego de São Paulo"
   ]
  },
  {
   "cell_type": "markdown",
   "metadata": {
    "cell_id": "00005-acd1cc99-bea2-41fc-b511-ba06670a1564",
    "deepnote_cell_type": "markdown",
    "id": "WCQi-s0Hpd5V"
   },
   "source": [
    "Neste exercício, vamos analisar dados de mobilidade urbana da cidade de São Paulo. A base de dados está neste [link](https://raw.githubusercontent.com/andre-marcos-perez/ebac-course-utils/develop/dataset/traffic.csv) e é uma copia do dado original, presente neste [link](https://archive.ics.uci.edu/ml/datasets/Behavior+of+the+urban+traffic+of+the+city+of+Sao+Paulo+in+Brazil). A base de dados contem a quantidade de acidentes ocorridos na cidade entre 14/12/09 e 18/12/09, das 07:00h ás 20:00h, agregados em intervalos de 30 minutos."
   ]
  },
  {
   "cell_type": "code",
   "execution_count": null,
   "metadata": {
    "cell_id": "00006-7b6f1554-1925-4ac8-bd9d-beb9e68140f6",
    "deepnote_cell_type": "code",
    "id": "lblH8kIXzPZZ"
   },
   "outputs": [],
   "source": [
    "!wget -q \"https://raw.githubusercontent.com/andre-marcos-perez/ebac-course-utils/develop/dataset/traffic.csv\" -O ./dados/traffic.csv"
   ]
  },
  {
   "cell_type": "code",
   "execution_count": null,
   "metadata": {
    "cell_id": "00007-1953e77f-0a36-4d59-840d-80e848cd6b5c",
    "deepnote_cell_type": "code",
    "id": "cuuqGTo_ffKI"
   },
   "outputs": [],
   "source": [
    "import pandas as pd"
   ]
  },
  {
   "cell_type": "code",
   "execution_count": null,
   "metadata": {
    "cell_id": "00008-d4415066-8bef-4d4c-b8e9-f1b761b07872",
    "deepnote_cell_type": "code",
    "id": "VR3UdrrQgJ4K"
   },
   "outputs": [],
   "source": [
    "df = pd.read_csv('./dados/traffic.csv', sep=';')"
   ]
  },
  {
   "cell_type": "code",
   "execution_count": null,
   "metadata": {
    "cell_id": "00009-e46161b9-5112-4194-b23d-8e6d283eb5a6",
    "deepnote_cell_type": "code",
    "id": "znk9Z9TLgTGP"
   },
   "outputs": [],
   "source": [
    "df.head()"
   ]
  },
  {
   "cell_type": "markdown",
   "metadata": {
    "cell_id": "00010-057fc27f-b1c3-43b3-8c08-cd4ca2145efd",
    "deepnote_cell_type": "markdown",
    "id": "eMG4JHaugQbV"
   },
   "source": [
    "- **Exemplo**: "
   ]
  },
  {
   "cell_type": "markdown",
   "metadata": {
    "cell_id": "00011-3a8da87d-b2f4-44b2-98b2-9d02136758d0",
    "deepnote_cell_type": "markdown",
    "id": "WGcei39Pwc9u"
   },
   "source": [
    "O código abaixo extrai a 13ª linha do arquivo que representa a 14ª meia hora do dia 14/12/09, contadas a partir das 07:00h, ou seja, todos os incidentes ocorridos na cidade no dia em questão entre as 13:30h e 14:00h. Vemos, por exemplo, que dois ônibus e dois caminhões ficaram paradados nas ruas da cidade, atrapalhando o tráfego."
   ]
  },
  {
   "cell_type": "code",
   "execution_count": null,
   "metadata": {
    "cell_id": "00012-7620d49e-3fc8-4cc8-911b-8296e4bf3ba3",
    "deepnote_cell_type": "code",
    "id": "rVUKA_RkiFeg"
   },
   "outputs": [],
   "source": [
    "df.iloc[[13]]"
   ]
  },
  {
   "cell_type": "markdown",
   "metadata": {
    "cell_id": "00013-fcea13bb-b82d-4ec2-9628-c67bc1c54bc8",
    "deepnote_cell_type": "markdown",
    "id": "HrTLgE0tki6P"
   },
   "source": [
    "### **1.1. Nativo** "
   ]
  },
  {
   "cell_type": "markdown",
   "metadata": {
    "cell_id": "00014-2391ad05-65d1-4f75-bc00-cc28151a8ff8",
    "deepnote_cell_type": "markdown",
    "id": "7tIjNOs8q6aZ"
   },
   "source": [
    "Neste primeira atividade, você deve ler o código abaixo implementado em Python nativo e responder a seguinte pergunta:"
   ]
  },
  {
   "cell_type": "markdown",
   "metadata": {
    "cell_id": "00015-7e140128-e3dc-45f1-b00a-57e3a0372d9b",
    "deepnote_cell_type": "markdown",
    "id": "LH-VxJ__syZd"
   },
   "source": [
    "> O que o código abaixo computa?"
   ]
  },
  {
   "cell_type": "markdown",
   "metadata": {
    "cell_id": "00016-b307a2ff-a180-447a-8b82-73d8494ad767",
    "deepnote_cell_type": "markdown",
    "id": "KEUTG1OIs0VN"
   },
   "source": [
    "**Resposta**: substitua esse texto pela sua resposta"
   ]
  },
  {
   "cell_type": "code",
   "execution_count": null,
   "metadata": {
    "cell_id": "00017-a045162a-3690-44c5-8c79-d01bd4c1f918",
    "deepnote_cell_type": "code",
    "id": "IwTTh4VKkdKN"
   },
   "outputs": [],
   "source": [
    "# -- read\n",
    "\n",
    "data = None\n",
    "\n",
    "with open(file='traffic.csv', mode='r', encoding='utf8') as fp:\n",
    "  \n",
    "  fp.readline()\n",
    "  data = fp.read()\n",
    "\n",
    "# -- analytics\n",
    "\n",
    "day = 14\n",
    "incidents = 0\n",
    "incident_by_day = dict()\n",
    "\n",
    "for timebox in data.split(sep='\\n'):\n",
    "\n",
    "  timebox_data = timebox.split(sep=';')\n",
    "\n",
    "  # --\n",
    "  # -- inicio da computação escalar\n",
    "  # --\n",
    "\n",
    "  for incident in timebox_data[1: len(timebox_data)-1]:\n",
    "    incidents = incidents + int(incident)\n",
    "\n",
    "  # --\n",
    "  # -- fim da computação escalar\n",
    "  # --\n",
    "\n",
    "  try: \n",
    "\n",
    "    half_hour = int(timebox_data[0])\n",
    "\n",
    "    if half_hour == 27:\n",
    "      incident_by_day[day] = incidents\n",
    "      day = day + 1\n",
    "      incidents = 0\n",
    "\n",
    "  except ValueError:\n",
    "    continue\n",
    "\n",
    "# -- results\n",
    "\n",
    "for day in incident_by_day:\n",
    "  \n",
    "  print(f'{day}: {incident_by_day[day]}')"
   ]
  },
  {
   "cell_type": "markdown",
   "metadata": {
    "cell_id": "00018-71276202-0be0-4245-80bb-1de492f94afe",
    "deepnote_cell_type": "markdown",
    "id": "TTh7w8rgkznY"
   },
   "source": [
    "### **1.2. NumPy** "
   ]
  },
  {
   "cell_type": "markdown",
   "metadata": {
    "cell_id": "00019-e72b492c-6dbe-4f62-b20f-5ecb301fd170",
    "deepnote_cell_type": "markdown",
    "id": "clBerimQs2PY"
   },
   "source": [
    "Substitua o trecho do código do algoritmo que utiliza da **computação escalar** por um que utiliza da **computação vetorial**. Use o pacote NumPy."
   ]
  },
  {
   "cell_type": "code",
   "execution_count": null,
   "metadata": {
    "cell_id": "00020-4cf1717e-fcc3-42d9-8448-f09917e36310",
    "deepnote_cell_type": "code",
    "id": "fohdVuLzkdKP"
   },
   "outputs": [],
   "source": [
    "# -- read\n",
    "\n",
    "data = None\n",
    "\n",
    "with open(file='traffic.csv', mode='r', encoding='utf8') as fp:\n",
    "  \n",
    "  fp.readline()\n",
    "  data = fp.read()\n",
    "\n",
    "# -- analytics\n",
    "\n",
    "import ...\n",
    "\n",
    "day = 14\n",
    "incidents = 0\n",
    "incident_by_day = dict()\n",
    "\n",
    "for timebox in data.split(sep='\\n'):\n",
    "\n",
    "  timebox_data = timebox.split(sep=';')\n",
    "\n",
    "  # --\n",
    "  # -- inicio da computação vetorial\n",
    "  # --\n",
    "  \n",
    "  ...\n",
    "\n",
    "  # --\n",
    "  # -- fim da computação vetorial\n",
    "  # --\n",
    "\n",
    "  try: \n",
    "\n",
    "    half_hour = int(timebox_data[0])\n",
    "\n",
    "    if half_hour == 27:\n",
    "      incident_by_day[day] = incidents\n",
    "      day = day + 1\n",
    "      incidents = 0\n",
    "\n",
    "  except ValueError:\n",
    "    continue\n",
    "\n",
    "# -- results\n",
    "\n",
    "for day in incident_by_day:\n",
    "\n",
    "  print(f'{day}: {incident_by_day[day]}')"
   ]
  },
  {
   "cell_type": "markdown",
   "metadata": {
    "cell_id": "00021-4f239a53-8f19-4ac7-8ffa-25f20b9f3503",
    "deepnote_cell_type": "markdown",
    "id": "waxn4B2UDHyl"
   },
   "source": [
    "---"
   ]
  },
  {
   "cell_type": "markdown",
   "metadata": {
    "created_in_deepnote_cell": true,
    "deepnote_cell_type": "markdown",
    "tags": []
   },
   "source": [
    "<a style='text-decoration:none;line-height:16px;display:flex;color:#5B5B62;padding:10px;justify-content:end;' href='https://deepnote.com?utm_source=created-in-deepnote-cell&projectId=690ec1aa-ed7a-4520-b902-aba6fc5867d1' target=\"_blank\">\n",
    "<img alt='Created in deepnote.com' style='display:inline;max-height:16px;margin:0px;margin-right:7.5px;' src='data:image/svg+xml;base64,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' > </img>\n",
    "Created in <span style='font-weight:600;margin-left:4px;'>Deepnote</span></a>"
   ]
  }
 ],
 "metadata": {
  "colab": {
   "collapsed_sections": [],
   "name": "module_21_exercise.ipynb",
   "provenance": []
  },
  "deepnote": {},
  "deepnote_execution_queue": [],
  "deepnote_notebook_id": "e16baf8c-06f8-403d-a314-fd099c99811c",
  "kernelspec": {
   "display_name": "Python 3",
   "name": "python3"
  },
  "language_info": {
   "name": "python",
   "version": "3.9.9"
  }
 },
 "nbformat": 4,
 "nbformat_minor": 0
}
