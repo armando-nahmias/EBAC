{
 "cells": [
  {
   "cell_type": "markdown",
   "metadata": {
    "cell_id": "00000-7f1bb916-11ad-4a19-8894-2e4cb8bbcbda",
    "deepnote_cell_type": "markdown",
    "id": "KJqp9AANOCtf"
   },
   "source": [
    "<img src=\"https://raw.githubusercontent.com/andre-marcos-perez/ebac-course-utils/main/media/logo/newebac_logo_black_half.png\" alt=\"ebac-logo\">\n",
    "\n",
    "---\n",
    "\n",
    "# **Módulo** | Análise de Dados: Fundamentos de Matemática\n",
    "Caderno de **Exercícios**<br> \n",
    "Professor [André Perez](https://www.linkedin.com/in/andremarcosperez/)\n",
    "\n",
    "---"
   ]
  },
  {
   "cell_type": "markdown",
   "metadata": {
    "cell_id": "00001-5df37508-2555-411a-b8de-7245867f376f",
    "deepnote_cell_type": "markdown",
    "id": "d9jDtUbDOE1-"
   },
   "source": [
    "# **Tópicos**\n",
    "\n",
    "<ol type=\"1\">\n",
    "  <li>Vetorização;</li>\n",
    "  <li>Arrays Numpy;</li>\n",
    "  <li>Operações.</li>\n",
    "</ol>"
   ]
  },
  {
   "cell_type": "markdown",
   "metadata": {
    "cell_id": "00002-a7b8f665-5ca3-491f-b46f-3da780a34e47",
    "deepnote_cell_type": "markdown",
    "id": "SmoHgt-lwkpD"
   },
   "source": [
    "---"
   ]
  },
  {
   "cell_type": "markdown",
   "metadata": {
    "cell_id": "00003-faee32dc-a8be-4dcd-9e36-087bf573596a",
    "deepnote_cell_type": "markdown",
    "id": "GABI6OW8OfQ2"
   },
   "source": [
    "# **Exercícios**"
   ]
  },
  {
   "cell_type": "markdown",
   "metadata": {
    "cell_id": "00004-2708550d-b65b-40ac-9160-fc7716cb802e",
    "deepnote_cell_type": "markdown",
    "id": "kzRDceCvkFj2"
   },
   "source": [
    "## 1\\. Tráfego de São Paulo"
   ]
  },
  {
   "cell_type": "markdown",
   "metadata": {
    "cell_id": "00005-acd1cc99-bea2-41fc-b511-ba06670a1564",
    "deepnote_cell_type": "markdown",
    "id": "WCQi-s0Hpd5V"
   },
   "source": [
    "Neste exercício, vamos analisar dados de mobilidade urbana da cidade de São Paulo. A base de dados está neste [link](https://raw.githubusercontent.com/andre-marcos-perez/ebac-course-utils/develop/dataset/traffic.csv) e é uma copia do dado original, presente neste [link](https://archive.ics.uci.edu/ml/datasets/Behavior+of+the+urban+traffic+of+the+city+of+Sao+Paulo+in+Brazil). A base de dados contem a quantidade de acidentes ocorridos na cidade entre 14/12/09 e 18/12/09, das 07:00h ás 20:00h, agregados em intervalos de 30 minutos."
   ]
  },
  {
   "cell_type": "code",
   "execution_count": 48,
   "metadata": {
    "cell_id": "00006-7b6f1554-1925-4ac8-bd9d-beb9e68140f6",
    "deepnote_cell_type": "code",
    "id": "lblH8kIXzPZZ"
   },
   "outputs": [],
   "source": [
    "#não estou usando o wget pois já tinha baixado o arquivo para o meu computador\n",
    "#além disso, estou num sistema MacOS, que não tem o wget e preferi não instalar pois dificilmente o uso\n",
    "#!wget -q \"https://raw.githubusercontent.com/andre-marcos-perez/ebac-course-utils/develop/dataset/traffic.csv\" -O ./dados/traffic.csv"
   ]
  },
  {
   "cell_type": "code",
   "execution_count": 50,
   "metadata": {
    "cell_id": "00007-1953e77f-0a36-4d59-840d-80e848cd6b5c",
    "deepnote_cell_type": "code",
    "id": "cuuqGTo_ffKI"
   },
   "outputs": [],
   "source": [
    "import pandas as pd"
   ]
  },
  {
   "cell_type": "code",
   "execution_count": 51,
   "metadata": {
    "cell_id": "00008-d4415066-8bef-4d4c-b8e9-f1b761b07872",
    "deepnote_cell_type": "code",
    "id": "VR3UdrrQgJ4K"
   },
   "outputs": [],
   "source": [
    "df = pd.read_csv('./dados/traffic.csv', sep=';')"
   ]
  },
  {
   "cell_type": "code",
   "execution_count": 52,
   "metadata": {
    "cell_id": "00009-e46161b9-5112-4194-b23d-8e6d283eb5a6",
    "deepnote_cell_type": "code",
    "id": "znk9Z9TLgTGP"
   },
   "outputs": [
    {
     "data": {
      "text/html": [
       "<div>\n",
       "<style scoped>\n",
       "    .dataframe tbody tr th:only-of-type {\n",
       "        vertical-align: middle;\n",
       "    }\n",
       "\n",
       "    .dataframe tbody tr th {\n",
       "        vertical-align: top;\n",
       "    }\n",
       "\n",
       "    .dataframe thead th {\n",
       "        text-align: right;\n",
       "    }\n",
       "</style>\n",
       "<table border=\"1\" class=\"dataframe\">\n",
       "  <thead>\n",
       "    <tr style=\"text-align: right;\">\n",
       "      <th></th>\n",
       "      <th>hour</th>\n",
       "      <th>bus_stoped</th>\n",
       "      <th>broken_truck</th>\n",
       "      <th>vehicle_excess</th>\n",
       "      <th>accident_victim</th>\n",
       "      <th>running_over</th>\n",
       "      <th>fire_vehicles</th>\n",
       "      <th>occurrence_freight</th>\n",
       "      <th>incident__dangerous_freight</th>\n",
       "      <th>lack_electricity</th>\n",
       "      <th>fire</th>\n",
       "      <th>flooding</th>\n",
       "      <th>manifestations</th>\n",
       "      <th>defect_trolleybuses</th>\n",
       "      <th>tree_road</th>\n",
       "      <th>semaphore_off</th>\n",
       "      <th>intermittent_emaphore</th>\n",
       "      <th>slowness_traffic_%</th>\n",
       "    </tr>\n",
       "  </thead>\n",
       "  <tbody>\n",
       "    <tr>\n",
       "      <th>0</th>\n",
       "      <td>1</td>\n",
       "      <td>0</td>\n",
       "      <td>0</td>\n",
       "      <td>0</td>\n",
       "      <td>0</td>\n",
       "      <td>0</td>\n",
       "      <td>0</td>\n",
       "      <td>0</td>\n",
       "      <td>0</td>\n",
       "      <td>0</td>\n",
       "      <td>0</td>\n",
       "      <td>0</td>\n",
       "      <td>0</td>\n",
       "      <td>0</td>\n",
       "      <td>0</td>\n",
       "      <td>0</td>\n",
       "      <td>0</td>\n",
       "      <td>4,1</td>\n",
       "    </tr>\n",
       "    <tr>\n",
       "      <th>1</th>\n",
       "      <td>2</td>\n",
       "      <td>0</td>\n",
       "      <td>0</td>\n",
       "      <td>0</td>\n",
       "      <td>0</td>\n",
       "      <td>0</td>\n",
       "      <td>0</td>\n",
       "      <td>0</td>\n",
       "      <td>0</td>\n",
       "      <td>0</td>\n",
       "      <td>0</td>\n",
       "      <td>0</td>\n",
       "      <td>0</td>\n",
       "      <td>0</td>\n",
       "      <td>0</td>\n",
       "      <td>0</td>\n",
       "      <td>0</td>\n",
       "      <td>6,6</td>\n",
       "    </tr>\n",
       "    <tr>\n",
       "      <th>2</th>\n",
       "      <td>3</td>\n",
       "      <td>0</td>\n",
       "      <td>0</td>\n",
       "      <td>0</td>\n",
       "      <td>0</td>\n",
       "      <td>0</td>\n",
       "      <td>0</td>\n",
       "      <td>0</td>\n",
       "      <td>0</td>\n",
       "      <td>0</td>\n",
       "      <td>0</td>\n",
       "      <td>0</td>\n",
       "      <td>0</td>\n",
       "      <td>0</td>\n",
       "      <td>0</td>\n",
       "      <td>0</td>\n",
       "      <td>0</td>\n",
       "      <td>8,7</td>\n",
       "    </tr>\n",
       "    <tr>\n",
       "      <th>3</th>\n",
       "      <td>4</td>\n",
       "      <td>0</td>\n",
       "      <td>0</td>\n",
       "      <td>0</td>\n",
       "      <td>0</td>\n",
       "      <td>0</td>\n",
       "      <td>0</td>\n",
       "      <td>0</td>\n",
       "      <td>0</td>\n",
       "      <td>0</td>\n",
       "      <td>0</td>\n",
       "      <td>0</td>\n",
       "      <td>0</td>\n",
       "      <td>0</td>\n",
       "      <td>0</td>\n",
       "      <td>0</td>\n",
       "      <td>0</td>\n",
       "      <td>9,2</td>\n",
       "    </tr>\n",
       "    <tr>\n",
       "      <th>4</th>\n",
       "      <td>5</td>\n",
       "      <td>0</td>\n",
       "      <td>0</td>\n",
       "      <td>0</td>\n",
       "      <td>0</td>\n",
       "      <td>0</td>\n",
       "      <td>0</td>\n",
       "      <td>0</td>\n",
       "      <td>0</td>\n",
       "      <td>0</td>\n",
       "      <td>0</td>\n",
       "      <td>0</td>\n",
       "      <td>0</td>\n",
       "      <td>0</td>\n",
       "      <td>0</td>\n",
       "      <td>0</td>\n",
       "      <td>0</td>\n",
       "      <td>11,1</td>\n",
       "    </tr>\n",
       "    <tr>\n",
       "      <th>...</th>\n",
       "      <td>...</td>\n",
       "      <td>...</td>\n",
       "      <td>...</td>\n",
       "      <td>...</td>\n",
       "      <td>...</td>\n",
       "      <td>...</td>\n",
       "      <td>...</td>\n",
       "      <td>...</td>\n",
       "      <td>...</td>\n",
       "      <td>...</td>\n",
       "      <td>...</td>\n",
       "      <td>...</td>\n",
       "      <td>...</td>\n",
       "      <td>...</td>\n",
       "      <td>...</td>\n",
       "      <td>...</td>\n",
       "      <td>...</td>\n",
       "      <td>...</td>\n",
       "    </tr>\n",
       "    <tr>\n",
       "      <th>130</th>\n",
       "      <td>23</td>\n",
       "      <td>1</td>\n",
       "      <td>0</td>\n",
       "      <td>0</td>\n",
       "      <td>0</td>\n",
       "      <td>1</td>\n",
       "      <td>0</td>\n",
       "      <td>0</td>\n",
       "      <td>0</td>\n",
       "      <td>0</td>\n",
       "      <td>0</td>\n",
       "      <td>0</td>\n",
       "      <td>0</td>\n",
       "      <td>1</td>\n",
       "      <td>0</td>\n",
       "      <td>0</td>\n",
       "      <td>0</td>\n",
       "      <td>17,8</td>\n",
       "    </tr>\n",
       "    <tr>\n",
       "      <th>131</th>\n",
       "      <td>24</td>\n",
       "      <td>0</td>\n",
       "      <td>0</td>\n",
       "      <td>0</td>\n",
       "      <td>2</td>\n",
       "      <td>0</td>\n",
       "      <td>0</td>\n",
       "      <td>0</td>\n",
       "      <td>0</td>\n",
       "      <td>0</td>\n",
       "      <td>0</td>\n",
       "      <td>0</td>\n",
       "      <td>0</td>\n",
       "      <td>0</td>\n",
       "      <td>0</td>\n",
       "      <td>0</td>\n",
       "      <td>0</td>\n",
       "      <td>18,1</td>\n",
       "    </tr>\n",
       "    <tr>\n",
       "      <th>132</th>\n",
       "      <td>25</td>\n",
       "      <td>1</td>\n",
       "      <td>0</td>\n",
       "      <td>0</td>\n",
       "      <td>2</td>\n",
       "      <td>0</td>\n",
       "      <td>0</td>\n",
       "      <td>0</td>\n",
       "      <td>0</td>\n",
       "      <td>0</td>\n",
       "      <td>0</td>\n",
       "      <td>0</td>\n",
       "      <td>0</td>\n",
       "      <td>0</td>\n",
       "      <td>0</td>\n",
       "      <td>0</td>\n",
       "      <td>0</td>\n",
       "      <td>17,7</td>\n",
       "    </tr>\n",
       "    <tr>\n",
       "      <th>133</th>\n",
       "      <td>26</td>\n",
       "      <td>0</td>\n",
       "      <td>4</td>\n",
       "      <td>0</td>\n",
       "      <td>0</td>\n",
       "      <td>0</td>\n",
       "      <td>0</td>\n",
       "      <td>0</td>\n",
       "      <td>0</td>\n",
       "      <td>0</td>\n",
       "      <td>0</td>\n",
       "      <td>0</td>\n",
       "      <td>1</td>\n",
       "      <td>0</td>\n",
       "      <td>0</td>\n",
       "      <td>1</td>\n",
       "      <td>0</td>\n",
       "      <td>17,4</td>\n",
       "    </tr>\n",
       "    <tr>\n",
       "      <th>134</th>\n",
       "      <td>27</td>\n",
       "      <td>0</td>\n",
       "      <td>0</td>\n",
       "      <td>0</td>\n",
       "      <td>0</td>\n",
       "      <td>0</td>\n",
       "      <td>0</td>\n",
       "      <td>0</td>\n",
       "      <td>0</td>\n",
       "      <td>0</td>\n",
       "      <td>0</td>\n",
       "      <td>0</td>\n",
       "      <td>0</td>\n",
       "      <td>0</td>\n",
       "      <td>0</td>\n",
       "      <td>0</td>\n",
       "      <td>0</td>\n",
       "      <td>12,1</td>\n",
       "    </tr>\n",
       "  </tbody>\n",
       "</table>\n",
       "<p>135 rows × 18 columns</p>\n",
       "</div>"
      ],
      "text/plain": [
       "     hour  bus_stoped  broken_truck  vehicle_excess  accident_victim  \\\n",
       "0       1           0             0               0                0   \n",
       "1       2           0             0               0                0   \n",
       "2       3           0             0               0                0   \n",
       "3       4           0             0               0                0   \n",
       "4       5           0             0               0                0   \n",
       "..    ...         ...           ...             ...              ...   \n",
       "130    23           1             0               0                0   \n",
       "131    24           0             0               0                2   \n",
       "132    25           1             0               0                2   \n",
       "133    26           0             4               0                0   \n",
       "134    27           0             0               0                0   \n",
       "\n",
       "     running_over  fire_vehicles  occurrence_freight  \\\n",
       "0               0              0                   0   \n",
       "1               0              0                   0   \n",
       "2               0              0                   0   \n",
       "3               0              0                   0   \n",
       "4               0              0                   0   \n",
       "..            ...            ...                 ...   \n",
       "130             1              0                   0   \n",
       "131             0              0                   0   \n",
       "132             0              0                   0   \n",
       "133             0              0                   0   \n",
       "134             0              0                   0   \n",
       "\n",
       "     incident__dangerous_freight  lack_electricity  fire  flooding  \\\n",
       "0                              0                 0     0         0   \n",
       "1                              0                 0     0         0   \n",
       "2                              0                 0     0         0   \n",
       "3                              0                 0     0         0   \n",
       "4                              0                 0     0         0   \n",
       "..                           ...               ...   ...       ...   \n",
       "130                            0                 0     0         0   \n",
       "131                            0                 0     0         0   \n",
       "132                            0                 0     0         0   \n",
       "133                            0                 0     0         0   \n",
       "134                            0                 0     0         0   \n",
       "\n",
       "     manifestations  defect_trolleybuses  tree_road  semaphore_off  \\\n",
       "0                 0                    0          0              0   \n",
       "1                 0                    0          0              0   \n",
       "2                 0                    0          0              0   \n",
       "3                 0                    0          0              0   \n",
       "4                 0                    0          0              0   \n",
       "..              ...                  ...        ...            ...   \n",
       "130               0                    1          0              0   \n",
       "131               0                    0          0              0   \n",
       "132               0                    0          0              0   \n",
       "133               1                    0          0              1   \n",
       "134               0                    0          0              0   \n",
       "\n",
       "     intermittent_emaphore slowness_traffic_%  \n",
       "0                        0                4,1  \n",
       "1                        0                6,6  \n",
       "2                        0                8,7  \n",
       "3                        0                9,2  \n",
       "4                        0               11,1  \n",
       "..                     ...                ...  \n",
       "130                      0               17,8  \n",
       "131                      0               18,1  \n",
       "132                      0               17,7  \n",
       "133                      0               17,4  \n",
       "134                      0               12,1  \n",
       "\n",
       "[135 rows x 18 columns]"
      ]
     },
     "execution_count": 52,
     "metadata": {},
     "output_type": "execute_result"
    }
   ],
   "source": [
    "df"
   ]
  },
  {
   "cell_type": "markdown",
   "metadata": {
    "cell_id": "00010-057fc27f-b1c3-43b3-8c08-cd4ca2145efd",
    "deepnote_cell_type": "markdown",
    "id": "eMG4JHaugQbV"
   },
   "source": [
    "- **Exemplo**: "
   ]
  },
  {
   "cell_type": "markdown",
   "metadata": {
    "cell_id": "00011-3a8da87d-b2f4-44b2-98b2-9d02136758d0",
    "deepnote_cell_type": "markdown",
    "id": "WGcei39Pwc9u"
   },
   "source": [
    "O código abaixo extrai a 13ª linha do arquivo que representa a 14ª meia hora do dia 14/12/09, contadas a partir das 07:00h, ou seja, todos os incidentes ocorridos na cidade no dia em questão entre as 13:30h e 14:00h. Vemos, por exemplo, que dois ônibus e dois caminhões ficaram paradados nas ruas da cidade, atrapalhando o tráfego."
   ]
  },
  {
   "cell_type": "code",
   "execution_count": 53,
   "metadata": {
    "cell_id": "00012-7620d49e-3fc8-4cc8-911b-8296e4bf3ba3",
    "deepnote_cell_type": "code",
    "id": "rVUKA_RkiFeg"
   },
   "outputs": [
    {
     "data": {
      "text/html": [
       "<div>\n",
       "<style scoped>\n",
       "    .dataframe tbody tr th:only-of-type {\n",
       "        vertical-align: middle;\n",
       "    }\n",
       "\n",
       "    .dataframe tbody tr th {\n",
       "        vertical-align: top;\n",
       "    }\n",
       "\n",
       "    .dataframe thead th {\n",
       "        text-align: right;\n",
       "    }\n",
       "</style>\n",
       "<table border=\"1\" class=\"dataframe\">\n",
       "  <thead>\n",
       "    <tr style=\"text-align: right;\">\n",
       "      <th></th>\n",
       "      <th>hour</th>\n",
       "      <th>bus_stoped</th>\n",
       "      <th>broken_truck</th>\n",
       "      <th>vehicle_excess</th>\n",
       "      <th>accident_victim</th>\n",
       "      <th>running_over</th>\n",
       "      <th>fire_vehicles</th>\n",
       "      <th>occurrence_freight</th>\n",
       "      <th>incident__dangerous_freight</th>\n",
       "      <th>lack_electricity</th>\n",
       "      <th>fire</th>\n",
       "      <th>flooding</th>\n",
       "      <th>manifestations</th>\n",
       "      <th>defect_trolleybuses</th>\n",
       "      <th>tree_road</th>\n",
       "      <th>semaphore_off</th>\n",
       "      <th>intermittent_emaphore</th>\n",
       "      <th>slowness_traffic_%</th>\n",
       "    </tr>\n",
       "  </thead>\n",
       "  <tbody>\n",
       "    <tr>\n",
       "      <th>13</th>\n",
       "      <td>14</td>\n",
       "      <td>2</td>\n",
       "      <td>2</td>\n",
       "      <td>0</td>\n",
       "      <td>1</td>\n",
       "      <td>0</td>\n",
       "      <td>0</td>\n",
       "      <td>0</td>\n",
       "      <td>0</td>\n",
       "      <td>0</td>\n",
       "      <td>0</td>\n",
       "      <td>0</td>\n",
       "      <td>0</td>\n",
       "      <td>0</td>\n",
       "      <td>0</td>\n",
       "      <td>0</td>\n",
       "      <td>0</td>\n",
       "      <td>4,9</td>\n",
       "    </tr>\n",
       "  </tbody>\n",
       "</table>\n",
       "</div>"
      ],
      "text/plain": [
       "    hour  bus_stoped  broken_truck  vehicle_excess  accident_victim  \\\n",
       "13    14           2             2               0                1   \n",
       "\n",
       "    running_over  fire_vehicles  occurrence_freight  \\\n",
       "13             0              0                   0   \n",
       "\n",
       "    incident__dangerous_freight  lack_electricity  fire  flooding  \\\n",
       "13                            0                 0     0         0   \n",
       "\n",
       "    manifestations  defect_trolleybuses  tree_road  semaphore_off  \\\n",
       "13               0                    0          0              0   \n",
       "\n",
       "    intermittent_emaphore slowness_traffic_%  \n",
       "13                      0                4,9  "
      ]
     },
     "execution_count": 53,
     "metadata": {},
     "output_type": "execute_result"
    }
   ],
   "source": [
    "df.iloc[[13]]"
   ]
  },
  {
   "cell_type": "markdown",
   "metadata": {
    "cell_id": "00013-fcea13bb-b82d-4ec2-9628-c67bc1c54bc8",
    "deepnote_cell_type": "markdown",
    "id": "HrTLgE0tki6P"
   },
   "source": [
    "### **1.1. Nativo** "
   ]
  },
  {
   "cell_type": "markdown",
   "metadata": {
    "cell_id": "00014-2391ad05-65d1-4f75-bc00-cc28151a8ff8",
    "deepnote_cell_type": "markdown",
    "id": "7tIjNOs8q6aZ"
   },
   "source": [
    "Neste primeira atividade, você deve ler o código abaixo implementado em Python nativo e responder a seguinte pergunta:"
   ]
  },
  {
   "cell_type": "markdown",
   "metadata": {
    "cell_id": "00015-7e140128-e3dc-45f1-b00a-57e3a0372d9b",
    "deepnote_cell_type": "markdown",
    "id": "LH-VxJ__syZd"
   },
   "source": [
    "> O que o código abaixo computa?"
   ]
  },
  {
   "cell_type": "markdown",
   "metadata": {
    "cell_id": "00016-b307a2ff-a180-447a-8b82-73d8494ad767",
    "deepnote_cell_type": "markdown",
    "id": "KEUTG1OIs0VN"
   },
   "source": [
    "**Resposta**: soma a quantidade de incidentes ocorridos em cada dia"
   ]
  },
  {
   "cell_type": "code",
   "execution_count": 54,
   "metadata": {
    "cell_id": "00017-a045162a-3690-44c5-8c79-d01bd4c1f918",
    "deepnote_cell_type": "code",
    "id": "IwTTh4VKkdKN"
   },
   "outputs": [
    {
     "name": "stdout",
     "output_type": "stream",
     "text": [
      "14: 16\n",
      "15: 63\n",
      "16: 94\n",
      "17: 82\n",
      "18: 85\n"
     ]
    }
   ],
   "source": [
    "# -- read\n",
    "\n",
    "data = None\n",
    "\n",
    "with open(file='./dados/traffic.csv', mode='r', encoding='utf8') as fp:\n",
    "  \n",
    "  fp.readline()\n",
    "  data = fp.read()\n",
    "\n",
    "# -- analytics\n",
    "\n",
    "day = 14\n",
    "incidents = 0\n",
    "incident_by_day = dict()\n",
    "\n",
    "for timebox in data.split(sep='\\n'):\n",
    "\n",
    "  timebox_data = timebox.split(sep=';')\n",
    "\n",
    "  # --\n",
    "  # -- inicio da computação escalar\n",
    "  # --\n",
    "\n",
    "  for incident in timebox_data[1: len(timebox_data)-1]:\n",
    "    incidents = incidents + int(incident)\n",
    "\n",
    "  # --\n",
    "  # -- fim da computação escalar\n",
    "  # --\n",
    "\n",
    "  try: \n",
    "\n",
    "    half_hour = int(timebox_data[0])\n",
    "\n",
    "    if half_hour == 27:\n",
    "      incident_by_day[day] = incidents\n",
    "      day = day + 1\n",
    "      incidents = 0\n",
    "\n",
    "  except ValueError:\n",
    "    continue\n",
    "\n",
    "# -- results\n",
    "\n",
    "for day in incident_by_day:\n",
    "  \n",
    "  print(f'{day}: {incident_by_day[day]}')"
   ]
  },
  {
   "cell_type": "markdown",
   "metadata": {
    "cell_id": "00018-71276202-0be0-4245-80bb-1de492f94afe",
    "deepnote_cell_type": "markdown",
    "id": "TTh7w8rgkznY"
   },
   "source": [
    "### **1.2. NumPy** "
   ]
  },
  {
   "cell_type": "markdown",
   "metadata": {
    "cell_id": "00019-e72b492c-6dbe-4f62-b20f-5ecb301fd170",
    "deepnote_cell_type": "markdown",
    "id": "clBerimQs2PY"
   },
   "source": [
    "Substitua o trecho do código do algoritmo que utiliza da **computação escalar** por um que utiliza da **computação vetorial**. Use o pacote NumPy."
   ]
  },
  {
   "cell_type": "code",
   "execution_count": 55,
   "metadata": {
    "cell_id": "00020-4cf1717e-fcc3-42d9-8448-f09917e36310",
    "deepnote_cell_type": "code",
    "id": "fohdVuLzkdKP"
   },
   "outputs": [
    {
     "name": "stdout",
     "output_type": "stream",
     "text": [
      "14: 16\n",
      "15: 63\n",
      "16: 94\n",
      "17: 82\n",
      "18: 85\n"
     ]
    }
   ],
   "source": [
    "# -- read\n",
    "\n",
    "data = None\n",
    "\n",
    "with open(file='./dados/traffic.csv', mode='r', encoding='utf8') as fp:\n",
    "  \n",
    "  fp.readline()\n",
    "  data = fp.read()\n",
    "\n",
    "# -- analytics\n",
    "\n",
    "import numpy as np\n",
    "\n",
    "day = 14\n",
    "incidents = 0\n",
    "incident_by_day = dict()\n",
    "\n",
    "for timebox in data.split(sep='\\n'):\n",
    "\n",
    "  timebox_data = timebox.split(sep=';')\n",
    "\n",
    "  # --\n",
    "  # -- inicio da computação vetorial\n",
    "  # --\n",
    "  \n",
    "\n",
    "  a_timebox_data = np.array(timebox_data[1:-1], dtype=int)\n",
    "  incidents = incidents + np.sum(a_timebox_data)\n",
    "  # --\n",
    "  # -- fim da computação vetorial\n",
    "  # --\n",
    "\n",
    "  try: \n",
    "\n",
    "    half_hour = int(timebox_data[0])\n",
    "\n",
    "    if half_hour == 27:\n",
    "      incident_by_day[day] = incidents\n",
    "      day = day + 1\n",
    "      incidents = 0\n",
    "\n",
    "  except ValueError:\n",
    "    continue\n",
    "\n",
    "# -- results\n",
    "\n",
    "for day in incident_by_day:\n",
    "\n",
    "  print(f'{day}: {incident_by_day[day]}')"
   ]
  },
  {
   "cell_type": "markdown",
   "metadata": {
    "cell_id": "00021-4f239a53-8f19-4ac7-8ffa-25f20b9f3503",
    "deepnote_cell_type": "markdown",
    "id": "waxn4B2UDHyl"
   },
   "source": [
    "---"
   ]
  }
 ],
 "metadata": {
  "colab": {
   "collapsed_sections": [],
   "name": "module_21_exercise.ipynb",
   "provenance": []
  },
  "deepnote": {},
  "deepnote_execution_queue": [],
  "deepnote_notebook_id": "e16baf8c-06f8-403d-a314-fd099c99811c",
  "kernelspec": {
   "display_name": "Python 3",
   "name": "python3"
  },
  "language_info": {
   "codemirror_mode": {
    "name": "ipython",
    "version": 3
   },
   "file_extension": ".py",
   "mimetype": "text/x-python",
   "name": "python",
   "nbconvert_exporter": "python",
   "pygments_lexer": "ipython3",
   "version": "3.10.1"
  }
 },
 "nbformat": 4,
 "nbformat_minor": 0
}
