{
 "cells": [
  {
   "cell_type": "markdown",
   "source": "<img src=\"https://raw.githubusercontent.com/andre-marcos-perez/ebac-course-utils/main/media/logo/newebac_logo_black_half.png\" alt=\"ebac-logo\">\n\n---\n\n# **Módulo** | Análise de Dados: Visualização de Dados I\nCaderno de **Aula**<br> \nProfessor [André Perez](https://www.linkedin.com/in/andremarcosperez/)\n\n---",
   "metadata": {
    "id": "KJqp9AANOCtf",
    "cell_id": "00000-66ad306b-9a49-4760-8bc5-d4b89178d8ff",
    "deepnote_cell_type": "markdown"
   }
  },
  {
   "cell_type": "markdown",
   "source": "# **Tópicos**\n\n<ol type=\"1\">\n  <li>Pacote Seaborn;</li>\n  <li>Categorias: Gráficos de Barras e de Setores;</li>\n  <li>Tendências: Gráficos de Linha e de Área.</li>\n</ol>",
   "metadata": {
    "id": "d9jDtUbDOE1-",
    "cell_id": "00001-65dfc8f7-95d6-45b6-8eca-482893d02ad0",
    "deepnote_cell_type": "markdown"
   }
  },
  {
   "cell_type": "markdown",
   "source": "---",
   "metadata": {
    "id": "SmoHgt-lwkpD",
    "cell_id": "00002-48a91f08-6b2b-4ce2-a11d-634b66721348",
    "deepnote_cell_type": "markdown"
   }
  },
  {
   "cell_type": "markdown",
   "source": "# **Aulas**",
   "metadata": {
    "id": "GABI6OW8OfQ2",
    "cell_id": "00003-9acecab7-5e90-4792-a3ec-4e6ef0f378f1",
    "deepnote_cell_type": "markdown"
   }
  },
  {
   "cell_type": "markdown",
   "source": "## 0\\. Estruturas de dados",
   "metadata": {
    "id": "eJ283bopLqLU",
    "cell_id": "00004-e2342628-8421-4546-88b3-9db4d55f2ebc",
    "deepnote_cell_type": "markdown"
   }
  },
  {
   "cell_type": "markdown",
   "source": "*   <font color='red'>**Não estruturado**</font>: texto, imagem, aúdio, etc.\n*   **Semi estruturado**: html, json, etc.\n*   **Estruturado**: tabelas, planilhas, etc.\n\n",
   "metadata": {
    "id": "0gmSAOdOLqLU",
    "cell_id": "00005-daca6eec-db0b-4d8a-985e-2bb2d9776870",
    "deepnote_cell_type": "markdown"
   }
  },
  {
   "cell_type": "markdown",
   "source": "## 1\\. Pacote Seaborn",
   "metadata": {
    "id": "muD1vxozykSC",
    "cell_id": "00006-c116de3a-dd50-4ba2-bf78-1de78dbc1ab8",
    "deepnote_cell_type": "markdown"
   }
  },
  {
   "cell_type": "markdown",
   "source": "**Seaborn** é um dos pacotes Python mais utilizados para visualização de dados. A documentação pode ser encontrada neste [link](https://seaborn.pydata.org/index.html). Possui diversas opções gráficos (barra, setores, linha, área, etc.) e uma excelente integração com os DataFrames do pacote Python Pandas. \n\n> O **Seaborn** usa o **Matplotlib** ([link](https://matplotlib.org/) da documentação), outro pacote bastante utilizada para visualização de dados.",
   "metadata": {
    "id": "NglCEvJDmqkw",
    "cell_id": "00007-4e1afb10-5ee9-4cef-aed0-6ab44907e70c",
    "deepnote_cell_type": "markdown"
   }
  },
  {
   "cell_type": "markdown",
   "source": "### **1.1. Visualização** ",
   "metadata": {
    "id": "4kPqzA8N8krX",
    "cell_id": "00008-c3994ad5-ec56-46b1-bdae-84332c002c66",
    "deepnote_cell_type": "markdown"
   }
  },
  {
   "cell_type": "markdown",
   "source": "**Exemplo**: Valor da gorgeta em um restaurante (exemplo padrão do pacote).",
   "metadata": {
    "id": "eBpN50Xn692K",
    "cell_id": "00009-361ba901-6ab6-4d1e-9dca-caebd8462282",
    "deepnote_cell_type": "markdown"
   }
  },
  {
   "cell_type": "code",
   "metadata": {
    "id": "da_FFYmvGk02",
    "cell_id": "00010-bb822baf-9074-482f-a805-8a4a91cd4ff8",
    "deepnote_to_be_reexecuted": false,
    "source_hash": "c9d2f67b",
    "execution_start": 1639281531920,
    "execution_millis": 2046,
    "deepnote_cell_type": "code"
   },
   "source": "import seaborn as sns",
   "execution_count": null,
   "outputs": []
  },
  {
   "cell_type": "code",
   "metadata": {
    "id": "8z2E5fDYQLXD",
    "cell_id": "00011-b64e4279-4429-49fd-b16e-de63ed294017",
    "deepnote_to_be_reexecuted": false,
    "source_hash": "a8396efe",
    "execution_start": 1639281538071,
    "execution_millis": 252,
    "deepnote_output_heights": [
     366.79998779296875
    ],
    "deepnote_cell_type": "code"
   },
   "source": "sns.get_dataset_names()",
   "execution_count": null,
   "outputs": [
    {
     "output_type": "execute_result",
     "execution_count": 2,
     "data": {
      "text/plain": "['anagrams',\n 'anscombe',\n 'attention',\n 'brain_networks',\n 'car_crashes',\n 'diamonds',\n 'dots',\n 'exercise',\n 'flights',\n 'fmri',\n 'gammas',\n 'geyser',\n 'iris',\n 'mpg',\n 'penguins',\n 'planets',\n 'taxis',\n 'tips',\n 'titanic']"
     },
     "metadata": {}
    }
   ]
  },
  {
   "cell_type": "code",
   "metadata": {
    "id": "pvq6nMap6fet",
    "cell_id": "00012-9b545a84-e25d-466c-9b69-d21dbe2b84ac",
    "deepnote_to_be_reexecuted": false,
    "source_hash": "b838668b",
    "execution_start": 1639281544984,
    "execution_millis": 90,
    "deepnote_cell_type": "code"
   },
   "source": "data = sns.load_dataset(\"tips\")",
   "execution_count": null,
   "outputs": []
  },
  {
   "cell_type": "code",
   "metadata": {
    "id": "Nj0SL99mj1BJ",
    "cell_id": "00013-ce35fe4f-d86c-4402-bb91-22735eb6eeea",
    "deepnote_to_be_reexecuted": false,
    "source_hash": "41313cfa",
    "execution_start": 1639281583325,
    "execution_millis": 2,
    "deepnote_cell_type": "code"
   },
   "source": "data.head()",
   "execution_count": null,
   "outputs": [
    {
     "output_type": "execute_result",
     "execution_count": 6,
     "data": {
      "application/vnd.deepnote.dataframe.v2+json": {
       "row_count": 5,
       "column_count": 7,
       "columns": [
        {
         "name": "total_bill",
         "dtype": "float64",
         "stats": {
          "unique_count": 5,
          "nan_count": 0,
          "min": "10.34",
          "max": "24.59",
          "histogram": [
           {
            "bin_start": 10.34,
            "bin_end": 11.765,
            "count": 1
           },
           {
            "bin_start": 11.765,
            "bin_end": 13.19,
            "count": 0
           },
           {
            "bin_start": 13.19,
            "bin_end": 14.615,
            "count": 0
           },
           {
            "bin_start": 14.615,
            "bin_end": 16.04,
            "count": 0
           },
           {
            "bin_start": 16.04,
            "bin_end": 17.465,
            "count": 1
           },
           {
            "bin_start": 17.465,
            "bin_end": 18.89,
            "count": 0
           },
           {
            "bin_start": 18.89,
            "bin_end": 20.314999999999998,
            "count": 0
           },
           {
            "bin_start": 20.314999999999998,
            "bin_end": 21.740000000000002,
            "count": 1
           },
           {
            "bin_start": 21.740000000000002,
            "bin_end": 23.165,
            "count": 0
           },
           {
            "bin_start": 23.165,
            "bin_end": 24.59,
            "count": 2
           }
          ]
         }
        },
        {
         "name": "tip",
         "dtype": "float64",
         "stats": {
          "unique_count": 5,
          "nan_count": 0,
          "min": "1.01",
          "max": "3.61",
          "histogram": [
           {
            "bin_start": 1.01,
            "bin_end": 1.27,
            "count": 1
           },
           {
            "bin_start": 1.27,
            "bin_end": 1.5299999999999998,
            "count": 0
           },
           {
            "bin_start": 1.5299999999999998,
            "bin_end": 1.7899999999999998,
            "count": 1
           },
           {
            "bin_start": 1.7899999999999998,
            "bin_end": 2.05,
            "count": 0
           },
           {
            "bin_start": 2.05,
            "bin_end": 2.3099999999999996,
            "count": 0
           },
           {
            "bin_start": 2.3099999999999996,
            "bin_end": 2.5699999999999994,
            "count": 0
           },
           {
            "bin_start": 2.5699999999999994,
            "bin_end": 2.8299999999999996,
            "count": 0
           },
           {
            "bin_start": 2.8299999999999996,
            "bin_end": 3.09,
            "count": 0
           },
           {
            "bin_start": 3.09,
            "bin_end": 3.3499999999999996,
            "count": 1
           },
           {
            "bin_start": 3.3499999999999996,
            "bin_end": 3.61,
            "count": 2
           }
          ]
         }
        },
        {
         "name": "sex",
         "dtype": "category",
         "stats": {
          "unique_count": 2,
          "nan_count": 0,
          "categories": [
           {
            "name": "Male",
            "count": 3
           },
           {
            "name": "Female",
            "count": 2
           }
          ]
         }
        },
        {
         "name": "smoker",
         "dtype": "category",
         "stats": {
          "unique_count": 1,
          "nan_count": 0,
          "categories": [
           {
            "name": "No",
            "count": 5
           }
          ]
         }
        },
        {
         "name": "day",
         "dtype": "category",
         "stats": {
          "unique_count": 1,
          "nan_count": 0,
          "categories": [
           {
            "name": "Sun",
            "count": 5
           }
          ]
         }
        },
        {
         "name": "time",
         "dtype": "category",
         "stats": {
          "unique_count": 1,
          "nan_count": 0,
          "categories": [
           {
            "name": "Dinner",
            "count": 5
           }
          ]
         }
        },
        {
         "name": "size",
         "dtype": "int64",
         "stats": {
          "unique_count": 3,
          "nan_count": 0,
          "min": "2",
          "max": "4",
          "histogram": [
           {
            "bin_start": 2,
            "bin_end": 2.2,
            "count": 2
           },
           {
            "bin_start": 2.2,
            "bin_end": 2.4,
            "count": 0
           },
           {
            "bin_start": 2.4,
            "bin_end": 2.6,
            "count": 0
           },
           {
            "bin_start": 2.6,
            "bin_end": 2.8,
            "count": 0
           },
           {
            "bin_start": 2.8,
            "bin_end": 3,
            "count": 0
           },
           {
            "bin_start": 3,
            "bin_end": 3.2,
            "count": 2
           },
           {
            "bin_start": 3.2,
            "bin_end": 3.4000000000000004,
            "count": 0
           },
           {
            "bin_start": 3.4000000000000004,
            "bin_end": 3.6,
            "count": 0
           },
           {
            "bin_start": 3.6,
            "bin_end": 3.8,
            "count": 0
           },
           {
            "bin_start": 3.8,
            "bin_end": 4,
            "count": 1
           }
          ]
         }
        },
        {
         "name": "_deepnote_index_column",
         "dtype": "int64"
        }
       ],
       "rows_top": [
        {
         "total_bill": 16.99,
         "tip": 1.01,
         "sex": "Female",
         "smoker": "No",
         "day": "Sun",
         "time": "Dinner",
         "size": 2,
         "_deepnote_index_column": 0
        },
        {
         "total_bill": 10.34,
         "tip": 1.66,
         "sex": "Male",
         "smoker": "No",
         "day": "Sun",
         "time": "Dinner",
         "size": 3,
         "_deepnote_index_column": 1
        },
        {
         "total_bill": 21.01,
         "tip": 3.5,
         "sex": "Male",
         "smoker": "No",
         "day": "Sun",
         "time": "Dinner",
         "size": 3,
         "_deepnote_index_column": 2
        },
        {
         "total_bill": 23.68,
         "tip": 3.31,
         "sex": "Male",
         "smoker": "No",
         "day": "Sun",
         "time": "Dinner",
         "size": 2,
         "_deepnote_index_column": 3
        },
        {
         "total_bill": 24.59,
         "tip": 3.61,
         "sex": "Female",
         "smoker": "No",
         "day": "Sun",
         "time": "Dinner",
         "size": 4,
         "_deepnote_index_column": 4
        }
       ],
       "rows_bottom": null
      },
      "text/plain": "   total_bill   tip     sex smoker  day    time  size\n0       16.99  1.01  Female     No  Sun  Dinner     2\n1       10.34  1.66    Male     No  Sun  Dinner     3\n2       21.01  3.50    Male     No  Sun  Dinner     3\n3       23.68  3.31    Male     No  Sun  Dinner     2\n4       24.59  3.61  Female     No  Sun  Dinner     4",
      "text/html": "<div>\n<style scoped>\n    .dataframe tbody tr th:only-of-type {\n        vertical-align: middle;\n    }\n\n    .dataframe tbody tr th {\n        vertical-align: top;\n    }\n\n    .dataframe thead th {\n        text-align: right;\n    }\n</style>\n<table border=\"1\" class=\"dataframe\">\n  <thead>\n    <tr style=\"text-align: right;\">\n      <th></th>\n      <th>total_bill</th>\n      <th>tip</th>\n      <th>sex</th>\n      <th>smoker</th>\n      <th>day</th>\n      <th>time</th>\n      <th>size</th>\n    </tr>\n  </thead>\n  <tbody>\n    <tr>\n      <th>0</th>\n      <td>16.99</td>\n      <td>1.01</td>\n      <td>Female</td>\n      <td>No</td>\n      <td>Sun</td>\n      <td>Dinner</td>\n      <td>2</td>\n    </tr>\n    <tr>\n      <th>1</th>\n      <td>10.34</td>\n      <td>1.66</td>\n      <td>Male</td>\n      <td>No</td>\n      <td>Sun</td>\n      <td>Dinner</td>\n      <td>3</td>\n    </tr>\n    <tr>\n      <th>2</th>\n      <td>21.01</td>\n      <td>3.50</td>\n      <td>Male</td>\n      <td>No</td>\n      <td>Sun</td>\n      <td>Dinner</td>\n      <td>3</td>\n    </tr>\n    <tr>\n      <th>3</th>\n      <td>23.68</td>\n      <td>3.31</td>\n      <td>Male</td>\n      <td>No</td>\n      <td>Sun</td>\n      <td>Dinner</td>\n      <td>2</td>\n    </tr>\n    <tr>\n      <th>4</th>\n      <td>24.59</td>\n      <td>3.61</td>\n      <td>Female</td>\n      <td>No</td>\n      <td>Sun</td>\n      <td>Dinner</td>\n      <td>4</td>\n    </tr>\n  </tbody>\n</table>\n</div>"
     },
     "metadata": {}
    }
   ]
  },
  {
   "cell_type": "code",
   "metadata": {
    "id": "y2hymZE1pgm7",
    "cell_id": "00014-2c798d67-6376-4e1b-ad63-c081027feb92",
    "deepnote_to_be_reexecuted": false,
    "source_hash": "9c5b8b8f",
    "execution_start": 1639281624082,
    "execution_millis": 858,
    "deepnote_output_heights": [
     21.199996948242188,
     355
    ],
    "deepnote_cell_type": "code"
   },
   "source": "sns.relplot(data=data,x=\"total_bill\", y=\"tip\", hue=\"day\", style=\"day\")",
   "execution_count": null,
   "outputs": [
    {
     "output_type": "execute_result",
     "execution_count": 7,
     "data": {
      "text/plain": "<seaborn.axisgrid.FacetGrid at 0x7f2c7cec1210>"
     },
     "metadata": {}
    },
    {
     "data": {
      "text/plain": "<Figure size 418.875x360 with 1 Axes>",
      "image/png": "[encoded data removed]"
     },
     "metadata": {
      "needs_background": "light",
      "image/png": {
       "width": 410,
       "height": 353
      }
     },
     "output_type": "display_data"
    }
   ]
  },
  {
   "cell_type": "code",
   "metadata": {
    "id": "Uw1IObLV6gdn",
    "cell_id": "00015-2e2c5d6c-e43a-42ab-bdc5-44318820c23f",
    "deepnote_to_be_reexecuted": false,
    "source_hash": "8a65fee0",
    "execution_start": 1639281996346,
    "execution_millis": 735,
    "deepnote_output_heights": [
     21.199996948242188,
     355
    ],
    "deepnote_cell_type": "code"
   },
   "source": "sns.relplot(data=data,x=\"total_bill\", y=\"tip\", hue=\"day\", style=\"day\", col=\"time\")",
   "execution_count": null,
   "outputs": [
    {
     "output_type": "execute_result",
     "execution_count": 8,
     "data": {
      "text/plain": "<seaborn.axisgrid.FacetGrid at 0x7f2c7cebb8d0>"
     },
     "metadata": {}
    },
    {
     "data": {
      "text/plain": "<Figure size 778.875x360 with 2 Axes>",
      "image/png": "[encoded data removed]"
     },
     "metadata": {
      "needs_background": "light",
      "image/png": {
       "width": 773,
       "height": 353
      }
     },
     "output_type": "display_data"
    }
   ]
  },
  {
   "cell_type": "code",
   "metadata": {
    "id": "frAXfNJQtt7p",
    "cell_id": "00016-e194b94a-b31a-4b2f-a62e-73ba8790a0ad",
    "deepnote_to_be_reexecuted": false,
    "source_hash": "7540ee17",
    "execution_start": 1639282255735,
    "execution_millis": 1561,
    "deepnote_output_heights": [
     21.199996948242188,
     611
    ],
    "deepnote_cell_type": "code"
   },
   "source": "sns.relplot(data=data,x=\"total_bill\", y=\"tip\", hue=\"day\", style=\"day\", col=\"time\", row=\"sex\")",
   "execution_count": null,
   "outputs": [
    {
     "output_type": "execute_result",
     "execution_count": 9,
     "data": {
      "text/plain": "<seaborn.axisgrid.FacetGrid at 0x7f2c7ccec490>"
     },
     "metadata": {}
    },
    {
     "data": {
      "text/plain": "<Figure size 778.875x720 with 4 Axes>",
      "image/png": "[encoded data removed]"
     },
     "metadata": {
      "needs_background": "light",
      "image/png": {
       "width": 773,
       "height": 713
      }
     },
     "output_type": "display_data"
    }
   ]
  },
  {
   "cell_type": "markdown",
   "source": "### **1.2. Elementos** ",
   "metadata": {
    "id": "ymoAXSbFEcvt",
    "cell_id": "00017-7876d0dc-89b3-4d66-9dc4-52f42afe2829",
    "deepnote_cell_type": "markdown"
   }
  },
  {
   "cell_type": "code",
   "metadata": {
    "id": "ME4HzOAWtJar",
    "cell_id": "00018-8817bff1-d211-4fb2-a529-e031786f5d00",
    "deepnote_to_be_reexecuted": false,
    "source_hash": "83e0940c",
    "execution_start": 1639282277790,
    "execution_millis": 559,
    "deepnote_output_heights": [
     355
    ],
    "deepnote_cell_type": "code"
   },
   "source": "grafico = sns.relplot(data=data,x=\"total_bill\", y=\"tip\", hue=\"day\", style=\"day\")",
   "execution_count": null,
   "outputs": [
    {
     "data": {
      "text/plain": "<Figure size 418.875x360 with 1 Axes>",
      "image/png": "[encoded data removed]"
     },
     "metadata": {
      "needs_background": "light",
      "image/png": {
       "width": 410,
       "height": 353
      }
     },
     "output_type": "display_data"
    }
   ]
  },
  {
   "cell_type": "markdown",
   "source": "* **Títulos e Eixos:**",
   "metadata": {
    "id": "kW6_hdDj-3Mq",
    "cell_id": "00019-fc527e63-1b64-4926-a668-ce163f1186c0",
    "deepnote_cell_type": "markdown"
   }
  },
  {
   "cell_type": "markdown",
   "source": "> Documentação completa com todas as opções de manipulação do texto neste [link](https://matplotlib.org/3.1.1/api/text_api.html).",
   "metadata": {
    "id": "ZaQSMvmt40tC",
    "cell_id": "00020-7390701c-65a9-4db5-8d6c-b6d93264d47a",
    "deepnote_cell_type": "markdown"
   }
  },
  {
   "cell_type": "code",
   "metadata": {
    "id": "oxYkPTvJE6Ug",
    "cell_id": "00021-dc08b044-e3fa-4888-b153-00f495d23225",
    "deepnote_to_be_reexecuted": false,
    "source_hash": "11c83a2c",
    "execution_start": 1639282412647,
    "execution_millis": 0,
    "deepnote_cell_type": "code"
   },
   "source": "grafico.ax.set_title(\"Gorjetas\", fontsize=12, fontweight=\"bold\");\ngrafico.set_xlabels(\"Valor da conta (USD)\", fontsize=10);\ngrafico.set_ylabels(\"Valor da gorjeta (USD)\", fontsize=10);",
   "execution_count": null,
   "outputs": []
  },
  {
   "cell_type": "code",
   "metadata": {
    "id": "BGAOxFLb_SDv",
    "cell_id": "00022-5b9af047-d8b9-4170-98f0-4fa9bc3a8c6a",
    "deepnote_to_be_reexecuted": false,
    "source_hash": "413dc63b",
    "execution_start": 1639282423765,
    "execution_millis": 206,
    "deepnote_output_heights": [
     370
    ],
    "deepnote_cell_type": "code"
   },
   "source": "grafico.fig",
   "execution_count": null,
   "outputs": [
    {
     "output_type": "execute_result",
     "execution_count": 12,
     "data": {
      "text/plain": "<Figure size 418.875x360 with 1 Axes>",
      "image/png": "[encoded data removed]"
     },
     "metadata": {
      "image/png": {
       "width": 410,
       "height": 368
      }
     }
    }
   ]
  },
  {
   "cell_type": "markdown",
   "source": "* **Legenda**",
   "metadata": {
    "id": "rCiKldQi_kWg",
    "cell_id": "00023-df1bfa52-0741-4cfa-8ea5-26cec725b265",
    "deepnote_cell_type": "markdown"
   }
  },
  {
   "cell_type": "code",
   "metadata": {
    "id": "JmtXs8Pj_dit",
    "cell_id": "00024-3600c8ec-18b4-434c-ab18-820b5d95ef3a",
    "deepnote_to_be_reexecuted": false,
    "source_hash": "aa08e5ed",
    "execution_start": 1639282708391,
    "execution_millis": 3,
    "deepnote_cell_type": "code"
   },
   "source": "grafico.legend.set_title(\"Dias da semana\", prop={\"size\": 10, \"weight\": \"bold\"});",
   "execution_count": null,
   "outputs": []
  },
  {
   "cell_type": "code",
   "metadata": {
    "id": "6sz1jKhNu88d",
    "cell_id": "00025-bd113546-8540-490a-95e0-1b670ab9500d",
    "deepnote_to_be_reexecuted": false,
    "source_hash": "413dc63b",
    "execution_start": 1639282709352,
    "execution_millis": 198,
    "deepnote_output_heights": [
     370
    ],
    "deepnote_cell_type": "code"
   },
   "source": "grafico.fig",
   "execution_count": null,
   "outputs": [
    {
     "output_type": "execute_result",
     "execution_count": 15,
     "data": {
      "text/plain": "<Figure size 418.875x360 with 1 Axes>",
      "image/png": "[encoded data removed]"
     },
     "metadata": {
      "image/png": {
       "width": 410,
       "height": 368
      }
     }
    }
   ]
  },
  {
   "cell_type": "markdown",
   "source": "* **Paleta de Cores**",
   "metadata": {
    "id": "EImHcIspl2wh",
    "cell_id": "00026-4891faff-8181-4f9f-9de2-a016bf5686c0",
    "deepnote_cell_type": "markdown"
   }
  },
  {
   "cell_type": "markdown",
   "source": "> As paletas de cores podem ser conferidas no [link](https://seaborn.pydata.org/tutorial/color_palettes.html).",
   "metadata": {
    "id": "v8VSnGivmbU_",
    "cell_id": "00027-c9c93a25-1b57-42aa-b3c4-7d05aede7d6d",
    "deepnote_cell_type": "markdown"
   }
  },
  {
   "cell_type": "code",
   "metadata": {
    "id": "VeEwKHppmDvl",
    "cell_id": "00028-53d47da9-1c89-4a85-be36-6308e4a91b0a",
    "deepnote_to_be_reexecuted": false,
    "source_hash": "598773e1",
    "execution_start": 1639282739815,
    "execution_millis": 617,
    "deepnote_output_heights": [
     370
    ],
    "deepnote_cell_type": "code"
   },
   "source": "grafico = sns.relplot(data=data,x=\"total_bill\", y=\"tip\", hue=\"day\", style=\"day\", palette='pastel')\n\ngrafico.ax.set_title(\"Gorjetas\", fontsize=12, fontweight=\"bold\");\ngrafico.set_xlabels(\"Valor da conta (USD)\", fontsize=10);\ngrafico.set_ylabels(\"Valor da gorjeta (USD)\", fontsize=10);\ngrafico.legend.set_title(\"Dias da semana\", prop={\"size\": 10, \"weight\": \"bold\"});",
   "execution_count": null,
   "outputs": [
    {
     "data": {
      "text/plain": "<Figure size 418.875x360 with 1 Axes>",
      "image/png": "[encoded data removed]"
     },
     "metadata": {
      "needs_background": "light",
      "image/png": {
       "width": 410,
       "height": 368
      }
     },
     "output_type": "display_data"
    }
   ]
  },
  {
   "cell_type": "code",
   "metadata": {
    "id": "9uQL-TN8mvJy",
    "cell_id": "00029-aacc2b3c-d74e-4908-b1e6-a492076d74f3",
    "deepnote_to_be_reexecuted": false,
    "source_hash": "f92195e6",
    "execution_start": 1639282752034,
    "execution_millis": 565,
    "deepnote_output_heights": [
     370
    ],
    "deepnote_cell_type": "code"
   },
   "source": "grafico = sns.relplot(data=data,x=\"total_bill\", y=\"tip\", hue=\"day\", style=\"day\", palette='dark')\n\ngrafico.ax.set_title(\"Gorjetas\", fontsize=12, fontweight=\"bold\");\ngrafico.set_xlabels(\"Valor da conta (USD)\", fontsize=10);\ngrafico.set_ylabels(\"Valor da gorjeta (USD)\", fontsize=10);\ngrafico.legend.set_title(\"Dias da semana\", prop={\"size\": 10, \"weight\": \"bold\"});",
   "execution_count": null,
   "outputs": [
    {
     "data": {
      "text/plain": "<Figure size 418.875x360 with 1 Axes>",
      "image/png": "[encoded data removed]"
     },
     "metadata": {
      "needs_background": "light",
      "image/png": {
       "width": 410,
       "height": 368
      }
     },
     "output_type": "display_data"
    }
   ]
  },
  {
   "cell_type": "markdown",
   "source": "* **Figura**",
   "metadata": {
    "id": "D7dT7pxB2R1G",
    "cell_id": "00030-afa9c97c-6856-4afc-ab8a-33671130b913",
    "deepnote_cell_type": "markdown"
   }
  },
  {
   "cell_type": "markdown",
   "source": "> Conversão: 1 polegada = 2.54 cm ",
   "metadata": {
    "id": "LZtSn0Xp884Q",
    "cell_id": "00031-18875131-15a2-452c-87da-66c6541c5a7a",
    "deepnote_cell_type": "markdown"
   }
  },
  {
   "cell_type": "code",
   "metadata": {
    "id": "XAatX1X44VwL",
    "cell_id": "00032-471823e6-4bbf-4340-a87a-ab1a483163c6",
    "deepnote_cell_type": "code"
   },
   "source": "altura  = 10 / 2.54 \nlargura = 10 / 2.54\n\ngrafico.fig.set_size_inches(w=largura, h=altura)",
   "execution_count": null,
   "outputs": []
  },
  {
   "cell_type": "code",
   "metadata": {
    "id": "EnPIijHE7kr6",
    "cell_id": "00033-44423485-a837-434a-807d-a1808dada8d6",
    "deepnote_cell_type": "code"
   },
   "source": "grafico.fig",
   "execution_count": null,
   "outputs": []
  },
  {
   "cell_type": "code",
   "metadata": {
    "id": "dEJn32kL7oNo",
    "cell_id": "00034-e8680f7a-570f-4c6b-8025-3da94a8a3a68",
    "deepnote_cell_type": "code"
   },
   "source": "altura  = 20 / 2.54\nlargura = 20 / 2.54\n\ngrafico.fig.set_size_inches(w=largura, h=altura)",
   "execution_count": null,
   "outputs": []
  },
  {
   "cell_type": "code",
   "metadata": {
    "id": "qvxq4JOm76vn",
    "cell_id": "00035-efffa418-6efc-4c95-be4a-73e11b8d9abd",
    "deepnote_cell_type": "code"
   },
   "source": "grafico.fig",
   "execution_count": null,
   "outputs": []
  },
  {
   "cell_type": "code",
   "metadata": {
    "id": "tsxL3-vY2U2M",
    "cell_id": "00036-4ed05022-b10a-4eaa-ab69-a7d1c56c1277",
    "deepnote_cell_type": "code"
   },
   "source": "grafico.fig.savefig(fname=\"gorjetas.png\", bbox_inches=\"tight\")",
   "execution_count": null,
   "outputs": []
  },
  {
   "cell_type": "code",
   "metadata": {
    "id": "_e62IXKm5JrH",
    "cell_id": "00037-d1d9a1a6-212c-43cd-9383-a6211d42f820",
    "deepnote_cell_type": "code"
   },
   "source": "grafico.fig.savefig(fname=\"gorjetas.pdf\", bbox_inches=\"tight\")",
   "execution_count": null,
   "outputs": []
  },
  {
   "cell_type": "markdown",
   "source": "\n## 2\\. Categorias",
   "metadata": {
    "id": "4rRCvy_UURrM",
    "cell_id": "00038-050a8836-b247-49ce-9219-2f917bcbf2dd",
    "deepnote_cell_type": "markdown"
   }
  },
  {
   "cell_type": "markdown",
   "source": "### **2.1.  Gráfico de Barras** ",
   "metadata": {
    "id": "78RHF81A3tat",
    "cell_id": "00039-28724f87-46e3-4cbf-8b47-02d5eaed7572",
    "deepnote_cell_type": "markdown"
   }
  },
  {
   "cell_type": "markdown",
   "source": "O **gráfico de barras** representa a relação entre uma variável categórica com uma variável numérica. Cada entidade da categoria é representada por uma barra, já a altura das barras representam os seus correspondente valor numérico. Útil para entender a distribuição de uma variável categórica.",
   "metadata": {
    "id": "bV_cw2IibzL8",
    "cell_id": "00040-4ba27dc3-17b2-48ec-9b28-6c7f62f013ef",
    "deepnote_cell_type": "markdown"
   }
  },
  {
   "cell_type": "markdown",
   "source": "> O método do pacote Seaborn que constrói este gráfico é o `barplot` ([doc](https://seaborn.pydata.org/generated/seaborn.barplot.html)). ",
   "metadata": {
    "id": "tw6mt_oWP6f8",
    "cell_id": "00041-f8e1698a-305e-47aa-9877-5c57486fc08d",
    "deepnote_cell_type": "markdown"
   }
  },
  {
   "cell_type": "markdown",
   "source": "Algumas dicas:\n\n - Ordernar as barras pode gerar *insights*;\n - Barras horizontais podem facilitar a visualização.",
   "metadata": {
    "id": "Vp-eVZ8LCh3q",
    "cell_id": "00042-afea726a-dd12-4b7a-8976-6d180d2ebd98",
    "deepnote_cell_type": "markdown"
   }
  },
  {
   "cell_type": "markdown",
   "source": "Vamos utilizar a base de dados de **gorjetas**:",
   "metadata": {
    "id": "wV6rPxecBRFe",
    "cell_id": "00043-8cbbcab1-1b77-4eb7-b80a-8e0e22fe39a5",
    "deepnote_cell_type": "markdown"
   }
  },
  {
   "cell_type": "code",
   "metadata": {
    "id": "QuZheQAA-eAP",
    "cell_id": "00044-31491923-9087-49e2-bd03-348f126c090c",
    "deepnote_to_be_reexecuted": false,
    "source_hash": "d3510701",
    "execution_start": 1639311264747,
    "execution_millis": 3251,
    "deepnote_cell_type": "code"
   },
   "source": "import seaborn as sns\n\ndata = sns.load_dataset(\"tips\")\ndata.head()",
   "outputs": [
    {
     "output_type": "execute_result",
     "execution_count": 1,
     "data": {
      "application/vnd.deepnote.dataframe.v2+json": {
       "row_count": 5,
       "column_count": 7,
       "columns": [
        {
         "name": "total_bill",
         "dtype": "float64",
         "stats": {
          "unique_count": 5,
          "nan_count": 0,
          "min": "10.34",
          "max": "24.59",
          "histogram": [
           {
            "bin_start": 10.34,
            "bin_end": 11.765,
            "count": 1
           },
           {
            "bin_start": 11.765,
            "bin_end": 13.19,
            "count": 0
           },
           {
            "bin_start": 13.19,
            "bin_end": 14.615,
            "count": 0
           },
           {
            "bin_start": 14.615,
            "bin_end": 16.04,
            "count": 0
           },
           {
            "bin_start": 16.04,
            "bin_end": 17.465,
            "count": 1
           },
           {
            "bin_start": 17.465,
            "bin_end": 18.89,
            "count": 0
           },
           {
            "bin_start": 18.89,
            "bin_end": 20.314999999999998,
            "count": 0
           },
           {
            "bin_start": 20.314999999999998,
            "bin_end": 21.740000000000002,
            "count": 1
           },
           {
            "bin_start": 21.740000000000002,
            "bin_end": 23.165,
            "count": 0
           },
           {
            "bin_start": 23.165,
            "bin_end": 24.59,
            "count": 2
           }
          ]
         }
        },
        {
         "name": "tip",
         "dtype": "float64",
         "stats": {
          "unique_count": 5,
          "nan_count": 0,
          "min": "1.01",
          "max": "3.61",
          "histogram": [
           {
            "bin_start": 1.01,
            "bin_end": 1.27,
            "count": 1
           },
           {
            "bin_start": 1.27,
            "bin_end": 1.5299999999999998,
            "count": 0
           },
           {
            "bin_start": 1.5299999999999998,
            "bin_end": 1.7899999999999998,
            "count": 1
           },
           {
            "bin_start": 1.7899999999999998,
            "bin_end": 2.05,
            "count": 0
           },
           {
            "bin_start": 2.05,
            "bin_end": 2.3099999999999996,
            "count": 0
           },
           {
            "bin_start": 2.3099999999999996,
            "bin_end": 2.5699999999999994,
            "count": 0
           },
           {
            "bin_start": 2.5699999999999994,
            "bin_end": 2.8299999999999996,
            "count": 0
           },
           {
            "bin_start": 2.8299999999999996,
            "bin_end": 3.09,
            "count": 0
           },
           {
            "bin_start": 3.09,
            "bin_end": 3.3499999999999996,
            "count": 1
           },
           {
            "bin_start": 3.3499999999999996,
            "bin_end": 3.61,
            "count": 2
           }
          ]
         }
        },
        {
         "name": "sex",
         "dtype": "category",
         "stats": {
          "unique_count": 2,
          "nan_count": 0,
          "categories": [
           {
            "name": "Male",
            "count": 3
           },
           {
            "name": "Female",
            "count": 2
           }
          ]
         }
        },
        {
         "name": "smoker",
         "dtype": "category",
         "stats": {
          "unique_count": 1,
          "nan_count": 0,
          "categories": [
           {
            "name": "No",
            "count": 5
           }
          ]
         }
        },
        {
         "name": "day",
         "dtype": "category",
         "stats": {
          "unique_count": 1,
          "nan_count": 0,
          "categories": [
           {
            "name": "Sun",
            "count": 5
           }
          ]
         }
        },
        {
         "name": "time",
         "dtype": "category",
         "stats": {
          "unique_count": 1,
          "nan_count": 0,
          "categories": [
           {
            "name": "Dinner",
            "count": 5
           }
          ]
         }
        },
        {
         "name": "size",
         "dtype": "int64",
         "stats": {
          "unique_count": 3,
          "nan_count": 0,
          "min": "2",
          "max": "4",
          "histogram": [
           {
            "bin_start": 2,
            "bin_end": 2.2,
            "count": 2
           },
           {
            "bin_start": 2.2,
            "bin_end": 2.4,
            "count": 0
           },
           {
            "bin_start": 2.4,
            "bin_end": 2.6,
            "count": 0
           },
           {
            "bin_start": 2.6,
            "bin_end": 2.8,
            "count": 0
           },
           {
            "bin_start": 2.8,
            "bin_end": 3,
            "count": 0
           },
           {
            "bin_start": 3,
            "bin_end": 3.2,
            "count": 2
           },
           {
            "bin_start": 3.2,
            "bin_end": 3.4000000000000004,
            "count": 0
           },
           {
            "bin_start": 3.4000000000000004,
            "bin_end": 3.6,
            "count": 0
           },
           {
            "bin_start": 3.6,
            "bin_end": 3.8,
            "count": 0
           },
           {
            "bin_start": 3.8,
            "bin_end": 4,
            "count": 1
           }
          ]
         }
        },
        {
         "name": "_deepnote_index_column",
         "dtype": "int64"
        }
       ],
       "rows_top": [
        {
         "total_bill": 16.99,
         "tip": 1.01,
         "sex": "Female",
         "smoker": "No",
         "day": "Sun",
         "time": "Dinner",
         "size": 2,
         "_deepnote_index_column": 0
        },
        {
         "total_bill": 10.34,
         "tip": 1.66,
         "sex": "Male",
         "smoker": "No",
         "day": "Sun",
         "time": "Dinner",
         "size": 3,
         "_deepnote_index_column": 1
        },
        {
         "total_bill": 21.01,
         "tip": 3.5,
         "sex": "Male",
         "smoker": "No",
         "day": "Sun",
         "time": "Dinner",
         "size": 3,
         "_deepnote_index_column": 2
        },
        {
         "total_bill": 23.68,
         "tip": 3.31,
         "sex": "Male",
         "smoker": "No",
         "day": "Sun",
         "time": "Dinner",
         "size": 2,
         "_deepnote_index_column": 3
        },
        {
         "total_bill": 24.59,
         "tip": 3.61,
         "sex": "Female",
         "smoker": "No",
         "day": "Sun",
         "time": "Dinner",
         "size": 4,
         "_deepnote_index_column": 4
        }
       ],
       "rows_bottom": null
      },
      "text/plain": "   total_bill   tip     sex smoker  day    time  size\n0       16.99  1.01  Female     No  Sun  Dinner     2\n1       10.34  1.66    Male     No  Sun  Dinner     3\n2       21.01  3.50    Male     No  Sun  Dinner     3\n3       23.68  3.31    Male     No  Sun  Dinner     2\n4       24.59  3.61  Female     No  Sun  Dinner     4",
      "text/html": "<div>\n<style scoped>\n    .dataframe tbody tr th:only-of-type {\n        vertical-align: middle;\n    }\n\n    .dataframe tbody tr th {\n        vertical-align: top;\n    }\n\n    .dataframe thead th {\n        text-align: right;\n    }\n</style>\n<table border=\"1\" class=\"dataframe\">\n  <thead>\n    <tr style=\"text-align: right;\">\n      <th></th>\n      <th>total_bill</th>\n      <th>tip</th>\n      <th>sex</th>\n      <th>smoker</th>\n      <th>day</th>\n      <th>time</th>\n      <th>size</th>\n    </tr>\n  </thead>\n  <tbody>\n    <tr>\n      <th>0</th>\n      <td>16.99</td>\n      <td>1.01</td>\n      <td>Female</td>\n      <td>No</td>\n      <td>Sun</td>\n      <td>Dinner</td>\n      <td>2</td>\n    </tr>\n    <tr>\n      <th>1</th>\n      <td>10.34</td>\n      <td>1.66</td>\n      <td>Male</td>\n      <td>No</td>\n      <td>Sun</td>\n      <td>Dinner</td>\n      <td>3</td>\n    </tr>\n    <tr>\n      <th>2</th>\n      <td>21.01</td>\n      <td>3.50</td>\n      <td>Male</td>\n      <td>No</td>\n      <td>Sun</td>\n      <td>Dinner</td>\n      <td>3</td>\n    </tr>\n    <tr>\n      <th>3</th>\n      <td>23.68</td>\n      <td>3.31</td>\n      <td>Male</td>\n      <td>No</td>\n      <td>Sun</td>\n      <td>Dinner</td>\n      <td>2</td>\n    </tr>\n    <tr>\n      <th>4</th>\n      <td>24.59</td>\n      <td>3.61</td>\n      <td>Female</td>\n      <td>No</td>\n      <td>Sun</td>\n      <td>Dinner</td>\n      <td>4</td>\n    </tr>\n  </tbody>\n</table>\n</div>"
     },
     "metadata": {}
    }
   ],
   "execution_count": null
  },
  {
   "cell_type": "markdown",
   "source": "*   **Exemplo**: Valor da conta por dia da semana:",
   "metadata": {
    "id": "V6G3Sc1rh-Ow",
    "cell_id": "00045-5b1c8163-dcdb-4b2e-9e87-3e607128c5ae",
    "deepnote_cell_type": "markdown"
   }
  },
  {
   "cell_type": "code",
   "metadata": {
    "id": "H_qPwY0DU6T4",
    "cell_id": "00046-de178dd4-7670-44b0-817f-1b821180d977",
    "deepnote_to_be_reexecuted": false,
    "source_hash": "bac34054",
    "execution_start": 1639311302034,
    "execution_millis": 2,
    "deepnote_output_heights": [
     148
    ],
    "deepnote_cell_type": "code"
   },
   "source": "tips = data[[\"day\", \"total_bill\"]].groupby(\"day\").agg(\"sum\").reset_index()\ntips.head()",
   "outputs": [
    {
     "output_type": "execute_result",
     "execution_count": 2,
     "data": {
      "application/vnd.deepnote.dataframe.v2+json": {
       "row_count": 4,
       "column_count": 2,
       "columns": [
        {
         "name": "day",
         "dtype": "category",
         "stats": {
          "unique_count": 4,
          "nan_count": 0,
          "categories": [
           {
            "name": "Thur",
            "count": 1
           },
           {
            "name": "Fri",
            "count": 1
           },
           {
            "name": "2 others",
            "count": 2
           }
          ]
         }
        },
        {
         "name": "total_bill",
         "dtype": "float64",
         "stats": {
          "unique_count": 4,
          "nan_count": 0,
          "min": "325.87999999999994",
          "max": "1778.3999999999996",
          "histogram": [
           {
            "bin_start": 325.87999999999994,
            "bin_end": 471.13199999999995,
            "count": 1
           },
           {
            "bin_start": 471.13199999999995,
            "bin_end": 616.3839999999999,
            "count": 0
           },
           {
            "bin_start": 616.3839999999999,
            "bin_end": 761.636,
            "count": 0
           },
           {
            "bin_start": 761.636,
            "bin_end": 906.8879999999999,
            "count": 0
           },
           {
            "bin_start": 906.8879999999999,
            "bin_end": 1052.1399999999999,
            "count": 0
           },
           {
            "bin_start": 1052.1399999999999,
            "bin_end": 1197.3919999999998,
            "count": 1
           },
           {
            "bin_start": 1197.3919999999998,
            "bin_end": 1342.6439999999998,
            "count": 0
           },
           {
            "bin_start": 1342.6439999999998,
            "bin_end": 1487.8959999999997,
            "count": 0
           },
           {
            "bin_start": 1487.8959999999997,
            "bin_end": 1633.1479999999997,
            "count": 1
           },
           {
            "bin_start": 1633.1479999999997,
            "bin_end": 1778.3999999999996,
            "count": 1
           }
          ]
         }
        },
        {
         "name": "_deepnote_index_column",
         "dtype": "int64"
        }
       ],
       "rows_top": [
        {
         "day": "Thur",
         "total_bill": 1096.3299999999997,
         "_deepnote_index_column": 0
        },
        {
         "day": "Fri",
         "total_bill": 325.87999999999994,
         "_deepnote_index_column": 1
        },
        {
         "day": "Sat",
         "total_bill": 1778.3999999999996,
         "_deepnote_index_column": 2
        },
        {
         "day": "Sun",
         "total_bill": 1627.1600000000003,
         "_deepnote_index_column": 3
        }
       ],
       "rows_bottom": null
      },
      "text/plain": "    day  total_bill\n0  Thur     1096.33\n1   Fri      325.88\n2   Sat     1778.40\n3   Sun     1627.16",
      "text/html": "<div>\n<style scoped>\n    .dataframe tbody tr th:only-of-type {\n        vertical-align: middle;\n    }\n\n    .dataframe tbody tr th {\n        vertical-align: top;\n    }\n\n    .dataframe thead th {\n        text-align: right;\n    }\n</style>\n<table border=\"1\" class=\"dataframe\">\n  <thead>\n    <tr style=\"text-align: right;\">\n      <th></th>\n      <th>day</th>\n      <th>total_bill</th>\n    </tr>\n  </thead>\n  <tbody>\n    <tr>\n      <th>0</th>\n      <td>Thur</td>\n      <td>1096.33</td>\n    </tr>\n    <tr>\n      <th>1</th>\n      <td>Fri</td>\n      <td>325.88</td>\n    </tr>\n    <tr>\n      <th>2</th>\n      <td>Sat</td>\n      <td>1778.40</td>\n    </tr>\n    <tr>\n      <th>3</th>\n      <td>Sun</td>\n      <td>1627.16</td>\n    </tr>\n  </tbody>\n</table>\n</div>"
     },
     "metadata": {}
    }
   ],
   "execution_count": null
  },
  {
   "cell_type": "code",
   "metadata": {
    "id": "jUGCDKX3001T",
    "cell_id": "00047-6e30e09f-fec2-419c-922f-cbc0ed08f3a3",
    "deepnote_to_be_reexecuted": false,
    "source_hash": "30257b65",
    "execution_start": 1639311399219,
    "execution_millis": 232,
    "deepnote_output_heights": [
     280
    ],
    "deepnote_cell_type": "code"
   },
   "source": "grafico = sns.barplot(data=tips, x=\"day\", y=\"total_bill\", ci=None, palette=\"pastel\")\ngrafico.set(title='Valor da conta por dia da semana', xlabel='Dia da semana', ylabel='Valor da conta (USD)');",
   "outputs": [
    {
     "data": {
      "text/plain": "<Figure size 432x288 with 1 Axes>",
      "image/png": "[encoded data removed]"
     },
     "metadata": {
      "needs_background": "light",
      "image/png": {
       "width": 395,
       "height": 278
      }
     },
     "output_type": "display_data"
    }
   ],
   "execution_count": null
  },
  {
   "cell_type": "code",
   "metadata": {
    "id": "z2lNKMiikdsp",
    "cell_id": "00048-0cd95d61-c003-400f-82bc-ed919d29a8a3",
    "deepnote_to_be_reexecuted": false,
    "source_hash": "7521cefb",
    "execution_start": 1639311454418,
    "execution_millis": 214,
    "deepnote_output_heights": [
     280
    ],
    "deepnote_cell_type": "code"
   },
   "source": "grafico = sns.barplot(data=tips, y=\"day\", x=\"total_bill\", ci=None, palette=\"pastel\")\ngrafico.set(title='Valor da conta por dia da semana', ylabel='Dia da semana', xlabel='Valor da conta (USD)');",
   "outputs": [
    {
     "data": {
      "text/plain": "<Figure size 432x288 with 1 Axes>",
      "image/png": "[encoded data removed]"
     },
     "metadata": {
      "needs_background": "light",
      "image/png": {
       "width": 393,
       "height": 278
      }
     },
     "output_type": "display_data"
    }
   ],
   "execution_count": null
  },
  {
   "cell_type": "markdown",
   "source": "*   **Exemplo**: Valor da conta por dia da semana por período:",
   "metadata": {
    "id": "CwmtNTBWiEJ1",
    "cell_id": "00049-7ba7b2d8-79b2-499e-afe6-8a465c1d494b",
    "deepnote_cell_type": "markdown"
   }
  },
  {
   "cell_type": "code",
   "metadata": {
    "id": "gagnv7GahSFt",
    "cell_id": "00050-5ab1634a-f85a-4055-a7f2-49c87574a7b9",
    "deepnote_to_be_reexecuted": false,
    "source_hash": "9e650bbf",
    "execution_start": 1639311540506,
    "execution_millis": 3,
    "deepnote_cell_type": "code"
   },
   "source": "tips = data[[\"day\", \"total_bill\", \"time\"]].groupby([\"day\", \"time\"]).agg(\"sum\").reset_index()\ntips.head(20)",
   "outputs": [
    {
     "output_type": "execute_result",
     "execution_count": 6,
     "data": {
      "application/vnd.deepnote.dataframe.v2+json": {
       "row_count": 8,
       "column_count": 3,
       "columns": [
        {
         "name": "day",
         "dtype": "category",
         "stats": {
          "unique_count": 4,
          "nan_count": 0,
          "categories": [
           {
            "name": "Thur",
            "count": 2
           },
           {
            "name": "Fri",
            "count": 2
           },
           {
            "name": "2 others",
            "count": 4
           }
          ]
         }
        },
        {
         "name": "time",
         "dtype": "category",
         "stats": {
          "unique_count": 2,
          "nan_count": 0,
          "categories": [
           {
            "name": "Lunch",
            "count": 4
           },
           {
            "name": "Dinner",
            "count": 4
           }
          ]
         }
        },
        {
         "name": "total_bill",
         "dtype": "float64",
         "stats": {
          "unique_count": 7,
          "nan_count": 0,
          "min": "0.0",
          "max": "1778.3999999999996",
          "histogram": [
           {
            "bin_start": 0,
            "bin_end": 177.83999999999997,
            "count": 4
           },
           {
            "bin_start": 177.83999999999997,
            "bin_end": 355.67999999999995,
            "count": 1
           },
           {
            "bin_start": 355.67999999999995,
            "bin_end": 533.52,
            "count": 0
           },
           {
            "bin_start": 533.52,
            "bin_end": 711.3599999999999,
            "count": 0
           },
           {
            "bin_start": 711.3599999999999,
            "bin_end": 889.1999999999998,
            "count": 0
           },
           {
            "bin_start": 889.1999999999998,
            "bin_end": 1067.04,
            "count": 0
           },
           {
            "bin_start": 1067.04,
            "bin_end": 1244.8799999999999,
            "count": 1
           },
           {
            "bin_start": 1244.8799999999999,
            "bin_end": 1422.7199999999998,
            "count": 0
           },
           {
            "bin_start": 1422.7199999999998,
            "bin_end": 1600.5599999999997,
            "count": 0
           },
           {
            "bin_start": 1600.5599999999997,
            "bin_end": 1778.3999999999996,
            "count": 2
           }
          ]
         }
        },
        {
         "name": "_deepnote_index_column",
         "dtype": "int64"
        }
       ],
       "rows_top": [
        {
         "day": "Thur",
         "time": "Lunch",
         "total_bill": 1077.5499999999997,
         "_deepnote_index_column": 0
        },
        {
         "day": "Thur",
         "time": "Dinner",
         "total_bill": 18.78,
         "_deepnote_index_column": 1
        },
        {
         "day": "Fri",
         "time": "Lunch",
         "total_bill": 89.92,
         "_deepnote_index_column": 2
        },
        {
         "day": "Fri",
         "time": "Dinner",
         "total_bill": 235.95999999999998,
         "_deepnote_index_column": 3
        },
        {
         "day": "Sat",
         "time": "Lunch",
         "total_bill": 0,
         "_deepnote_index_column": 4
        },
        {
         "day": "Sat",
         "time": "Dinner",
         "total_bill": 1778.3999999999996,
         "_deepnote_index_column": 5
        },
        {
         "day": "Sun",
         "time": "Lunch",
         "total_bill": 0,
         "_deepnote_index_column": 6
        },
        {
         "day": "Sun",
         "time": "Dinner",
         "total_bill": 1627.1600000000003,
         "_deepnote_index_column": 7
        }
       ],
       "rows_bottom": null
      },
      "text/plain": "    day    time  total_bill\n0  Thur   Lunch     1077.55\n1  Thur  Dinner       18.78\n2   Fri   Lunch       89.92\n3   Fri  Dinner      235.96\n4   Sat   Lunch        0.00\n5   Sat  Dinner     1778.40\n6   Sun   Lunch        0.00\n7   Sun  Dinner     1627.16",
      "text/html": "<div>\n<style scoped>\n    .dataframe tbody tr th:only-of-type {\n        vertical-align: middle;\n    }\n\n    .dataframe tbody tr th {\n        vertical-align: top;\n    }\n\n    .dataframe thead th {\n        text-align: right;\n    }\n</style>\n<table border=\"1\" class=\"dataframe\">\n  <thead>\n    <tr style=\"text-align: right;\">\n      <th></th>\n      <th>day</th>\n      <th>time</th>\n      <th>total_bill</th>\n    </tr>\n  </thead>\n  <tbody>\n    <tr>\n      <th>0</th>\n      <td>Thur</td>\n      <td>Lunch</td>\n      <td>1077.55</td>\n    </tr>\n    <tr>\n      <th>1</th>\n      <td>Thur</td>\n      <td>Dinner</td>\n      <td>18.78</td>\n    </tr>\n    <tr>\n      <th>2</th>\n      <td>Fri</td>\n      <td>Lunch</td>\n      <td>89.92</td>\n    </tr>\n    <tr>\n      <th>3</th>\n      <td>Fri</td>\n      <td>Dinner</td>\n      <td>235.96</td>\n    </tr>\n    <tr>\n      <th>4</th>\n      <td>Sat</td>\n      <td>Lunch</td>\n      <td>0.00</td>\n    </tr>\n    <tr>\n      <th>5</th>\n      <td>Sat</td>\n      <td>Dinner</td>\n      <td>1778.40</td>\n    </tr>\n    <tr>\n      <th>6</th>\n      <td>Sun</td>\n      <td>Lunch</td>\n      <td>0.00</td>\n    </tr>\n    <tr>\n      <th>7</th>\n      <td>Sun</td>\n      <td>Dinner</td>\n      <td>1627.16</td>\n    </tr>\n  </tbody>\n</table>\n</div>"
     },
     "metadata": {}
    }
   ],
   "execution_count": null
  },
  {
   "cell_type": "code",
   "metadata": {
    "id": "UDvwMTvDhcQU",
    "cell_id": "00051-82d5e142-ee8b-43b4-8a1d-55971aebdc63",
    "deepnote_to_be_reexecuted": false,
    "source_hash": "9d64529d",
    "execution_start": 1639311552785,
    "execution_millis": 337,
    "deepnote_output_heights": [
     280
    ],
    "deepnote_cell_type": "code"
   },
   "source": "grafico = sns.barplot(data=tips, x=\"day\", y=\"total_bill\", hue=\"time\", palette=\"pastel\")\ngrafico.set(title='Valor da conta por dia da semana por período', xlabel='Dia da semana', ylabel='Valor da conta (USD)');",
   "outputs": [
    {
     "data": {
      "text/plain": "<Figure size 432x288 with 1 Axes>",
      "image/png": "[encoded data removed]"
     },
     "metadata": {
      "needs_background": "light",
      "image/png": {
       "width": 395,
       "height": 278
      }
     },
     "output_type": "display_data"
    }
   ],
   "execution_count": null
  },
  {
   "cell_type": "markdown",
   "source": "### **2.2. Gráfico de Setores** ",
   "metadata": {
    "id": "fzU5v17l8kHf",
    "cell_id": "00052-01d1105d-d6af-4d04-b7a1-abb51a0fd225",
    "deepnote_cell_type": "markdown"
   }
  },
  {
   "cell_type": "markdown",
   "source": "O **gráfico de setores**, também conhecido como **gráfico de pizza**, representa a proporção entre as entidades de uma variável categórica. Cada entidade da categoria é representada por uma setor de tamanho proporcional a sua respectiva proporção no todo.",
   "metadata": {
    "id": "nDaLrgBXu3VN",
    "cell_id": "00053-b4c5f5cd-181e-47d6-9dee-d531abbe130a",
    "deepnote_cell_type": "markdown"
   }
  },
  {
   "cell_type": "markdown",
   "source": "> O pacote Seaborn **não possui suporte para gráficos de setores** e recomenda o uso de gráficos de barras. ",
   "metadata": {
    "id": "oyVJrw_Wu3Vx",
    "cell_id": "00054-f66b14d6-b09d-4eb3-be77-50e1859a0abf",
    "deepnote_cell_type": "markdown"
   }
  },
  {
   "cell_type": "markdown",
   "source": "> O seu uso **não é recomendado**, em geral humanos não são bons para relacionar angulos com proporções.",
   "metadata": {
    "id": "3r1d7zwxCvcD",
    "cell_id": "00055-f16921f1-fc68-426c-9097-3fca443b7fc6",
    "deepnote_cell_type": "markdown"
   }
  },
  {
   "cell_type": "markdown",
   "source": "Mas se for usar, seguem algumas dicas:\n\n - Se a proporção for em porcentagem, garanta que elas somem 100%;\n - Procure colocar a legenda no gráfico;\n - Não use gráficos 3D.",
   "metadata": {
    "id": "LZUTjrDbCsrM",
    "cell_id": "00056-502fedcc-a855-4375-a472-8d609e304537",
    "deepnote_cell_type": "markdown"
   }
  },
  {
   "cell_type": "markdown",
   "source": "Vamos utilizar a base de dados **gorjetas**:",
   "metadata": {
    "id": "i8Oo-s_5BbaF",
    "cell_id": "00057-35923291-ba16-433d-97ea-df814631f364",
    "deepnote_cell_type": "markdown"
   }
  },
  {
   "cell_type": "code",
   "metadata": {
    "id": "Jga5IJbF-hTv",
    "cell_id": "00058-0207c33d-9f07-40c2-9ce1-ff4d623ba65c",
    "deepnote_to_be_reexecuted": false,
    "source_hash": "d3510701",
    "execution_start": 1639311940150,
    "execution_millis": 16,
    "deepnote_cell_type": "code"
   },
   "source": "import seaborn as sns\n\ndata = sns.load_dataset(\"tips\")\ndata.head()",
   "outputs": [
    {
     "output_type": "execute_result",
     "execution_count": 8,
     "data": {
      "application/vnd.deepnote.dataframe.v2+json": {
       "row_count": 5,
       "column_count": 7,
       "columns": [
        {
         "name": "total_bill",
         "dtype": "float64",
         "stats": {
          "unique_count": 5,
          "nan_count": 0,
          "min": "10.34",
          "max": "24.59",
          "histogram": [
           {
            "bin_start": 10.34,
            "bin_end": 11.765,
            "count": 1
           },
           {
            "bin_start": 11.765,
            "bin_end": 13.19,
            "count": 0
           },
           {
            "bin_start": 13.19,
            "bin_end": 14.615,
            "count": 0
           },
           {
            "bin_start": 14.615,
            "bin_end": 16.04,
            "count": 0
           },
           {
            "bin_start": 16.04,
            "bin_end": 17.465,
            "count": 1
           },
           {
            "bin_start": 17.465,
            "bin_end": 18.89,
            "count": 0
           },
           {
            "bin_start": 18.89,
            "bin_end": 20.314999999999998,
            "count": 0
           },
           {
            "bin_start": 20.314999999999998,
            "bin_end": 21.740000000000002,
            "count": 1
           },
           {
            "bin_start": 21.740000000000002,
            "bin_end": 23.165,
            "count": 0
           },
           {
            "bin_start": 23.165,
            "bin_end": 24.59,
            "count": 2
           }
          ]
         }
        },
        {
         "name": "tip",
         "dtype": "float64",
         "stats": {
          "unique_count": 5,
          "nan_count": 0,
          "min": "1.01",
          "max": "3.61",
          "histogram": [
           {
            "bin_start": 1.01,
            "bin_end": 1.27,
            "count": 1
           },
           {
            "bin_start": 1.27,
            "bin_end": 1.5299999999999998,
            "count": 0
           },
           {
            "bin_start": 1.5299999999999998,
            "bin_end": 1.7899999999999998,
            "count": 1
           },
           {
            "bin_start": 1.7899999999999998,
            "bin_end": 2.05,
            "count": 0
           },
           {
            "bin_start": 2.05,
            "bin_end": 2.3099999999999996,
            "count": 0
           },
           {
            "bin_start": 2.3099999999999996,
            "bin_end": 2.5699999999999994,
            "count": 0
           },
           {
            "bin_start": 2.5699999999999994,
            "bin_end": 2.8299999999999996,
            "count": 0
           },
           {
            "bin_start": 2.8299999999999996,
            "bin_end": 3.09,
            "count": 0
           },
           {
            "bin_start": 3.09,
            "bin_end": 3.3499999999999996,
            "count": 1
           },
           {
            "bin_start": 3.3499999999999996,
            "bin_end": 3.61,
            "count": 2
           }
          ]
         }
        },
        {
         "name": "sex",
         "dtype": "category",
         "stats": {
          "unique_count": 2,
          "nan_count": 0,
          "categories": [
           {
            "name": "Male",
            "count": 3
           },
           {
            "name": "Female",
            "count": 2
           }
          ]
         }
        },
        {
         "name": "smoker",
         "dtype": "category",
         "stats": {
          "unique_count": 1,
          "nan_count": 0,
          "categories": [
           {
            "name": "No",
            "count": 5
           }
          ]
         }
        },
        {
         "name": "day",
         "dtype": "category",
         "stats": {
          "unique_count": 1,
          "nan_count": 0,
          "categories": [
           {
            "name": "Sun",
            "count": 5
           }
          ]
         }
        },
        {
         "name": "time",
         "dtype": "category",
         "stats": {
          "unique_count": 1,
          "nan_count": 0,
          "categories": [
           {
            "name": "Dinner",
            "count": 5
           }
          ]
         }
        },
        {
         "name": "size",
         "dtype": "int64",
         "stats": {
          "unique_count": 3,
          "nan_count": 0,
          "min": "2",
          "max": "4",
          "histogram": [
           {
            "bin_start": 2,
            "bin_end": 2.2,
            "count": 2
           },
           {
            "bin_start": 2.2,
            "bin_end": 2.4,
            "count": 0
           },
           {
            "bin_start": 2.4,
            "bin_end": 2.6,
            "count": 0
           },
           {
            "bin_start": 2.6,
            "bin_end": 2.8,
            "count": 0
           },
           {
            "bin_start": 2.8,
            "bin_end": 3,
            "count": 0
           },
           {
            "bin_start": 3,
            "bin_end": 3.2,
            "count": 2
           },
           {
            "bin_start": 3.2,
            "bin_end": 3.4000000000000004,
            "count": 0
           },
           {
            "bin_start": 3.4000000000000004,
            "bin_end": 3.6,
            "count": 0
           },
           {
            "bin_start": 3.6,
            "bin_end": 3.8,
            "count": 0
           },
           {
            "bin_start": 3.8,
            "bin_end": 4,
            "count": 1
           }
          ]
         }
        },
        {
         "name": "_deepnote_index_column",
         "dtype": "int64"
        }
       ],
       "rows_top": [
        {
         "total_bill": 16.99,
         "tip": 1.01,
         "sex": "Female",
         "smoker": "No",
         "day": "Sun",
         "time": "Dinner",
         "size": 2,
         "_deepnote_index_column": 0
        },
        {
         "total_bill": 10.34,
         "tip": 1.66,
         "sex": "Male",
         "smoker": "No",
         "day": "Sun",
         "time": "Dinner",
         "size": 3,
         "_deepnote_index_column": 1
        },
        {
         "total_bill": 21.01,
         "tip": 3.5,
         "sex": "Male",
         "smoker": "No",
         "day": "Sun",
         "time": "Dinner",
         "size": 3,
         "_deepnote_index_column": 2
        },
        {
         "total_bill": 23.68,
         "tip": 3.31,
         "sex": "Male",
         "smoker": "No",
         "day": "Sun",
         "time": "Dinner",
         "size": 2,
         "_deepnote_index_column": 3
        },
        {
         "total_bill": 24.59,
         "tip": 3.61,
         "sex": "Female",
         "smoker": "No",
         "day": "Sun",
         "time": "Dinner",
         "size": 4,
         "_deepnote_index_column": 4
        }
       ],
       "rows_bottom": null
      },
      "text/plain": "   total_bill   tip     sex smoker  day    time  size\n0       16.99  1.01  Female     No  Sun  Dinner     2\n1       10.34  1.66    Male     No  Sun  Dinner     3\n2       21.01  3.50    Male     No  Sun  Dinner     3\n3       23.68  3.31    Male     No  Sun  Dinner     2\n4       24.59  3.61  Female     No  Sun  Dinner     4",
      "text/html": "<div>\n<style scoped>\n    .dataframe tbody tr th:only-of-type {\n        vertical-align: middle;\n    }\n\n    .dataframe tbody tr th {\n        vertical-align: top;\n    }\n\n    .dataframe thead th {\n        text-align: right;\n    }\n</style>\n<table border=\"1\" class=\"dataframe\">\n  <thead>\n    <tr style=\"text-align: right;\">\n      <th></th>\n      <th>total_bill</th>\n      <th>tip</th>\n      <th>sex</th>\n      <th>smoker</th>\n      <th>day</th>\n      <th>time</th>\n      <th>size</th>\n    </tr>\n  </thead>\n  <tbody>\n    <tr>\n      <th>0</th>\n      <td>16.99</td>\n      <td>1.01</td>\n      <td>Female</td>\n      <td>No</td>\n      <td>Sun</td>\n      <td>Dinner</td>\n      <td>2</td>\n    </tr>\n    <tr>\n      <th>1</th>\n      <td>10.34</td>\n      <td>1.66</td>\n      <td>Male</td>\n      <td>No</td>\n      <td>Sun</td>\n      <td>Dinner</td>\n      <td>3</td>\n    </tr>\n    <tr>\n      <th>2</th>\n      <td>21.01</td>\n      <td>3.50</td>\n      <td>Male</td>\n      <td>No</td>\n      <td>Sun</td>\n      <td>Dinner</td>\n      <td>3</td>\n    </tr>\n    <tr>\n      <th>3</th>\n      <td>23.68</td>\n      <td>3.31</td>\n      <td>Male</td>\n      <td>No</td>\n      <td>Sun</td>\n      <td>Dinner</td>\n      <td>2</td>\n    </tr>\n    <tr>\n      <th>4</th>\n      <td>24.59</td>\n      <td>3.61</td>\n      <td>Female</td>\n      <td>No</td>\n      <td>Sun</td>\n      <td>Dinner</td>\n      <td>4</td>\n    </tr>\n  </tbody>\n</table>\n</div>"
     },
     "metadata": {}
    }
   ],
   "execution_count": null
  },
  {
   "cell_type": "markdown",
   "source": "*   **Exemplo**: Proporção das gorjetas por dia da semana **com Pandas**:",
   "metadata": {
    "id": "V735BhPvu3Vx",
    "cell_id": "00059-832fb363-0f88-43ad-94fc-3cceca83a3d7",
    "deepnote_cell_type": "markdown"
   }
  },
  {
   "cell_type": "code",
   "metadata": {
    "id": "nSaKRE1Iu3Vx",
    "cell_id": "00060-95c679e9-33b4-48c5-be18-8f9fd7072032",
    "deepnote_to_be_reexecuted": false,
    "source_hash": "74220442",
    "execution_start": 1639312058545,
    "execution_millis": 10,
    "deepnote_cell_type": "code"
   },
   "source": "tips = data[[\"tip\", \"day\"]].groupby(\"day\").agg(\"sum\").reset_index()\ntips[\"tip_percent\"] = 100 * tips[\"tip\"] / tips[\"tip\"].sum()\ntips.head()",
   "outputs": [
    {
     "output_type": "execute_result",
     "execution_count": 9,
     "data": {
      "application/vnd.deepnote.dataframe.v2+json": {
       "row_count": 4,
       "column_count": 3,
       "columns": [
        {
         "name": "day",
         "dtype": "category",
         "stats": {
          "unique_count": 4,
          "nan_count": 0,
          "categories": [
           {
            "name": "Thur",
            "count": 1
           },
           {
            "name": "Fri",
            "count": 1
           },
           {
            "name": "2 others",
            "count": 2
           }
          ]
         }
        },
        {
         "name": "tip",
         "dtype": "float64",
         "stats": {
          "unique_count": 4,
          "nan_count": 0,
          "min": "51.96",
          "max": "260.4",
          "histogram": [
           {
            "bin_start": 51.96,
            "bin_end": 72.804,
            "count": 1
           },
           {
            "bin_start": 72.804,
            "bin_end": 93.648,
            "count": 0
           },
           {
            "bin_start": 93.648,
            "bin_end": 114.49199999999999,
            "count": 0
           },
           {
            "bin_start": 114.49199999999999,
            "bin_end": 135.33599999999998,
            "count": 0
           },
           {
            "bin_start": 135.33599999999998,
            "bin_end": 156.17999999999998,
            "count": 0
           },
           {
            "bin_start": 156.17999999999998,
            "bin_end": 177.024,
            "count": 1
           },
           {
            "bin_start": 177.024,
            "bin_end": 197.868,
            "count": 0
           },
           {
            "bin_start": 197.868,
            "bin_end": 218.712,
            "count": 0
           },
           {
            "bin_start": 218.712,
            "bin_end": 239.55599999999998,
            "count": 0
           },
           {
            "bin_start": 239.55599999999998,
            "bin_end": 260.4,
            "count": 2
           }
          ]
         }
        },
        {
         "name": "tip_percent",
         "dtype": "float64",
         "stats": {
          "unique_count": 4,
          "nan_count": 0,
          "min": "7.102435823833346",
          "max": "35.59419338964979",
          "histogram": [
           {
            "bin_start": 7.102435823833346,
            "bin_end": 9.95161158041499,
            "count": 1
           },
           {
            "bin_start": 9.95161158041499,
            "bin_end": 12.800787336996635,
            "count": 0
           },
           {
            "bin_start": 12.800787336996635,
            "bin_end": 15.649963093578279,
            "count": 0
           },
           {
            "bin_start": 15.649963093578279,
            "bin_end": 18.499138850159923,
            "count": 0
           },
           {
            "bin_start": 18.499138850159923,
            "bin_end": 21.348314606741567,
            "count": 0
           },
           {
            "bin_start": 21.348314606741567,
            "bin_end": 24.19749036332321,
            "count": 1
           },
           {
            "bin_start": 24.19749036332321,
            "bin_end": 27.046666119904856,
            "count": 0
           },
           {
            "bin_start": 27.046666119904856,
            "bin_end": 29.8958418764865,
            "count": 0
           },
           {
            "bin_start": 29.8958418764865,
            "bin_end": 32.745017633068144,
            "count": 0
           },
           {
            "bin_start": 32.745017633068144,
            "bin_end": 35.59419338964979,
            "count": 2
           }
          ]
         }
        },
        {
         "name": "_deepnote_index_column",
         "dtype": "int64"
        }
       ],
       "rows_top": [
        {
         "day": "Thur",
         "tip": 171.83,
         "tip_percent": 23.48752016184149,
         "_deepnote_index_column": 0
        },
        {
         "day": "Fri",
         "tip": 51.96,
         "tip_percent": 7.102435823833346,
         "_deepnote_index_column": 1
        },
        {
         "day": "Sat",
         "tip": 260.4,
         "tip_percent": 35.59419338964979,
         "_deepnote_index_column": 2
        },
        {
         "day": "Sun",
         "tip": 247.39000000000007,
         "tip_percent": 33.81585062467537,
         "_deepnote_index_column": 3
        }
       ],
       "rows_bottom": null
      },
      "text/plain": "    day     tip  tip_percent\n0  Thur  171.83    23.487520\n1   Fri   51.96     7.102436\n2   Sat  260.40    35.594193\n3   Sun  247.39    33.815851",
      "text/html": "<div>\n<style scoped>\n    .dataframe tbody tr th:only-of-type {\n        vertical-align: middle;\n    }\n\n    .dataframe tbody tr th {\n        vertical-align: top;\n    }\n\n    .dataframe thead th {\n        text-align: right;\n    }\n</style>\n<table border=\"1\" class=\"dataframe\">\n  <thead>\n    <tr style=\"text-align: right;\">\n      <th></th>\n      <th>day</th>\n      <th>tip</th>\n      <th>tip_percent</th>\n    </tr>\n  </thead>\n  <tbody>\n    <tr>\n      <th>0</th>\n      <td>Thur</td>\n      <td>171.83</td>\n      <td>23.487520</td>\n    </tr>\n    <tr>\n      <th>1</th>\n      <td>Fri</td>\n      <td>51.96</td>\n      <td>7.102436</td>\n    </tr>\n    <tr>\n      <th>2</th>\n      <td>Sat</td>\n      <td>260.40</td>\n      <td>35.594193</td>\n    </tr>\n    <tr>\n      <th>3</th>\n      <td>Sun</td>\n      <td>247.39</td>\n      <td>33.815851</td>\n    </tr>\n  </tbody>\n</table>\n</div>"
     },
     "metadata": {}
    }
   ],
   "execution_count": null
  },
  {
   "cell_type": "code",
   "metadata": {
    "id": "3BYvOea0u3Vx",
    "cell_id": "00061-a1eb865a-cac7-4467-8134-fc459e35089f",
    "deepnote_to_be_reexecuted": false,
    "source_hash": "bbb5fada",
    "execution_start": 1639312066687,
    "execution_millis": 346,
    "deepnote_output_heights": [
     233
    ],
    "deepnote_cell_type": "code"
   },
   "source": "tips.plot.pie(y=\"tip_percent\", labels=tips[\"day\"]);",
   "outputs": [
    {
     "data": {
      "text/plain": "<Figure size 432x288 with 1 Axes>",
      "image/png": "[encoded data removed]"
     },
     "metadata": {
      "image/png": {
       "width": 246,
       "height": 231
      }
     },
     "output_type": "display_data"
    }
   ],
   "execution_count": null
  },
  {
   "cell_type": "markdown",
   "source": "## 3\\. Tendências",
   "metadata": {
    "id": "ELgoMRAAUSjv",
    "cell_id": "00062-e0e8f6e5-5ee4-4e0b-bdff-d6dc1dd10ccc",
    "deepnote_cell_type": "markdown"
   }
  },
  {
   "cell_type": "markdown",
   "source": "### **3.1. Gráfico de Linha** ",
   "metadata": {
    "id": "gdukZft-DRcG",
    "cell_id": "00063-430542ee-eaa1-48b7-bf68-e0668b8d5705",
    "deepnote_cell_type": "markdown"
   }
  },
  {
   "cell_type": "markdown",
   "source": "O **gráfico de linha** representa a evolução de uma variável numérica (eixo `y`), geralmente ao longo do tempo (eixo `x`), formando assim uma `série temporal`. Cada valor numérico é representado por pontos conectados por uma linha reta.",
   "metadata": {
    "id": "KjHO4l8d0gTR",
    "cell_id": "00064-d8af2f2b-0ad7-4715-836e-a3efc5215cf0",
    "deepnote_cell_type": "markdown"
   }
  },
  {
   "cell_type": "markdown",
   "source": "> O método do pacote Seaborn que constrói este gráfico é o `lineplot` ([doc](https://seaborn.pydata.org/generated/seaborn.lineplot.html)). ",
   "metadata": {
    "id": "V-B7geg40gTR",
    "cell_id": "00065-34257670-b89c-440f-b390-e27bd57d544e",
    "deepnote_cell_type": "markdown"
   }
  },
  {
   "cell_type": "markdown",
   "source": "Algumas dicas:\n\n - Se uma das colunas for temporal (anos, meses, dias, horas, etc.) garanta a ordenação cronológica;\n - Muitas linhas em um mesmo gráfico por dificultar a visualização.",
   "metadata": {
    "id": "YSyeEdOsCdzD",
    "cell_id": "00066-ccbdb020-962e-40b2-a382-bd97d4819766",
    "deepnote_cell_type": "markdown"
   }
  },
  {
   "cell_type": "markdown",
   "source": "Vamos utilizar a base de dados de **vôos**:",
   "metadata": {
    "id": "EWF5l-x9BCIp",
    "cell_id": "00067-0c94192e-c987-489c-be87-d8271b760b96",
    "deepnote_cell_type": "markdown"
   }
  },
  {
   "cell_type": "code",
   "metadata": {
    "id": "ndlFKOuu-kGw",
    "cell_id": "00068-364b2bf0-50d8-42f9-bb05-9e27ee5a8408",
    "deepnote_cell_type": "code"
   },
   "source": "import seaborn as sns\n\ndata = sns.load_dataset(\"flights\")\ndata.head()",
   "execution_count": null,
   "outputs": []
  },
  {
   "cell_type": "markdown",
   "source": "*   **Exemplo**: Número de passageiros por ano:",
   "metadata": {
    "id": "TDogP9Xp0gTR",
    "cell_id": "00069-a5520ee8-521a-4b67-bea0-ac73557f9cae",
    "deepnote_cell_type": "markdown"
   }
  },
  {
   "cell_type": "code",
   "metadata": {
    "id": "o7Y0fHoT0gTR",
    "cell_id": "00070-c17e47a3-605f-447d-bf17-81084860d549",
    "deepnote_cell_type": "code"
   },
   "source": "flights = data[[\"year\", \"passengers\"]].groupby(\"year\").agg(\"sum\").reset_index()\nflights.head()",
   "execution_count": null,
   "outputs": []
  },
  {
   "cell_type": "code",
   "metadata": {
    "id": "hVLpnOUk0gTR",
    "cell_id": "00071-ba4da09d-df13-4670-8ed1-b72045763ae0",
    "deepnote_cell_type": "code"
   },
   "source": "with sns.axes_style('whitegrid'):\n\n  grafico = sns.lineplot(data=flights, x=\"year\", y=\"passengers\", palette=\"pastel\")\n  grafico.set(title='Passageiros por ano', xlabel='Ano', ylabel='Passageiros');",
   "execution_count": null,
   "outputs": []
  },
  {
   "cell_type": "markdown",
   "source": "*   **Exemplo**: Número de passageiros por mês por ano:",
   "metadata": {
    "id": "9L1kyVbW0gTR",
    "cell_id": "00072-489b1bc0-efc6-4ecf-b7b8-874180b49827",
    "deepnote_cell_type": "markdown"
   }
  },
  {
   "cell_type": "code",
   "metadata": {
    "id": "3X0CjNPw0gTS",
    "cell_id": "00073-643373ad-1dac-4a3d-a6d7-cb5c41302099",
    "deepnote_cell_type": "code"
   },
   "source": "flights = data\n\nwith sns.axes_style('whitegrid'):\n\n  grafico = sns.lineplot(data=data, x=\"month\", y=\"passengers\", hue=\"year\", palette=\"pastel\")\n  grafico.set(title='Passageiros por mês por ano', xlabel='Mês', ylabel='Passageiros');\n  grafico.get_legend().set_title(\"Ano\");",
   "execution_count": null,
   "outputs": []
  },
  {
   "cell_type": "code",
   "metadata": {
    "id": "75Qxv7sTnQ7r",
    "cell_id": "00074-72cd5504-e716-48b9-bf21-5c4cba7d51c9",
    "deepnote_cell_type": "code"
   },
   "source": "flights = data.query(\"1955 <= year < 1960\")\n\nwith sns.axes_style('whitegrid'):\n\n  grafico = sns.lineplot(data=flights, x=\"month\", y=\"passengers\", hue=\"year\", palette=\"pastel\")\n  grafico.set(title='Passageiros por mês por ano', xlabel='Mês', ylabel='Passageiros');\n  grafico.get_legend().set_title(\"Ano\");",
   "execution_count": null,
   "outputs": []
  },
  {
   "cell_type": "markdown",
   "source": "### **3.2. Gráfico de Área** ",
   "metadata": {
    "id": "j611vH5T17VR",
    "cell_id": "00075-e812464d-7bf6-4d50-92ab-6e3c675b504b",
    "deepnote_cell_type": "markdown"
   }
  },
  {
   "cell_type": "markdown",
   "source": "O **gráfico de área** é similar ao **gráfico de linha** e representa a evolução de uma variável numérica (eixo `y`), geralmente ao longo do tempo (eixo `x`), formando assim uma `série temporal`. Cada valor numérico é representado por pontos conectados por uma linha reta tendo ainda a área entre a linha e o eixo `x` preenchido por uma cor.",
   "metadata": {
    "id": "P6yJWMeFogS5",
    "cell_id": "00076-4ab57df9-3276-4b51-961a-f7ff0729270f",
    "deepnote_cell_type": "markdown"
   }
  },
  {
   "cell_type": "markdown",
   "source": "> O método do pacote Seaborn que constrói este gráfico é o `lineplot` ([doc](https://seaborn.pydata.org/generated/seaborn.lineplot.html)). ",
   "metadata": {
    "id": "kYFRPWLtogS6",
    "cell_id": "00077-6db700e0-f76b-40c4-909e-4079220cb71c",
    "deepnote_cell_type": "markdown"
   }
  },
  {
   "cell_type": "markdown",
   "source": "Algumas dicas:\n\n - Se uma das colunas for temporal (anos, meses, dias, horas, etc.) garanta a ordenação cronológica;\n - Muitas áreas em um mesmo gráfico por dificultar a visualização.",
   "metadata": {
    "id": "Ogyf5T5ACNII",
    "cell_id": "00078-cff6be83-cb21-4bb6-ab16-586c2f68bbe5",
    "deepnote_cell_type": "markdown"
   }
  },
  {
   "cell_type": "markdown",
   "source": "Vamos utilizar a base de dados de **vôos**:",
   "metadata": {
    "id": "6hMdsBqpA1hv",
    "cell_id": "00079-1b7e5c77-c35c-4560-898f-6108d648f60d",
    "deepnote_cell_type": "markdown"
   }
  },
  {
   "cell_type": "code",
   "metadata": {
    "id": "_mR_sGbW-uyZ",
    "cell_id": "00080-5b4cde71-4549-4f18-9f05-12430906697e",
    "deepnote_cell_type": "code"
   },
   "source": "import seaborn as sns\n\ndata = sns.load_dataset(\"flights\")\ndata.head()",
   "execution_count": null,
   "outputs": []
  },
  {
   "cell_type": "markdown",
   "source": "*   **Exemplo**: Número de passageiros por ano:",
   "metadata": {
    "id": "gyIglrnsogS7",
    "cell_id": "00081-a2250718-1732-4a5f-99e9-26de65e03a56",
    "deepnote_cell_type": "markdown"
   }
  },
  {
   "cell_type": "code",
   "metadata": {
    "id": "y8DrK7Rn-8j8",
    "cell_id": "00082-1238f189-0d75-4434-93cf-0965fb2baa0c",
    "deepnote_cell_type": "code"
   },
   "source": "flights = data[[\"year\", \"passengers\"]].groupby(\"year\").agg(\"sum\").reset_index()\nflights.head()",
   "execution_count": null,
   "outputs": []
  },
  {
   "cell_type": "code",
   "metadata": {
    "id": "E42aTGSKogS-",
    "cell_id": "00083-93391740-4819-40e9-adfe-ed34e605382e",
    "deepnote_cell_type": "code"
   },
   "source": "import matplotlib.pyplot as plt\n\nwith sns.axes_style('whitegrid'):\n\n  grafico = sns.FacetGrid(data=flights, palette=\"pastel\")\n  grafico.map(sns.lineplot, \"year\", \"passengers\")\n  grafico.map(plt.fill_between, 'year', 'passengers', alpha=0.3)\n  grafico.set(title='Passageiros por ano', xlabel='Ano', ylabel='Passageiros');\n  grafico.fig.set_size_inches(w=15/2.54, h=7.5/2.54)",
   "execution_count": null,
   "outputs": []
  },
  {
   "cell_type": "markdown",
   "source": "<a style='text-decoration:none;line-height:16px;display:flex;color:#5B5B62;padding:10px;justify-content:end;' href='https://deepnote.com?utm_source=created-in-deepnote-cell&projectId=690ec1aa-ed7a-4520-b902-aba6fc5867d1' target=\"_blank\">\n<img alt='Created in deepnote.com' style='display:inline;max-height:16px;margin:0px;margin-right:7.5px;' src='data:image/svg+xml;base64,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' > </img>\nCreated in <span style='font-weight:600;margin-left:4px;'>Deepnote</span></a>",
   "metadata": {
    "tags": [],
    "created_in_deepnote_cell": true,
    "deepnote_cell_type": "markdown"
   }
  }
 ],
 "nbformat": 4,
 "nbformat_minor": 0,
 "metadata": {
  "colab": {
   "name": "module_14_class.ipynb",
   "provenance": [],
   "collapsed_sections": [],
   "toc_visible": true
  },
  "kernelspec": {
   "name": "python3",
   "display_name": "Python 3"
  },
  "deepnote_notebook_id": "f2d0bb97-fbd9-47ba-af4c-e9c8d9bab323",
  "deepnote": {},
  "deepnote_execution_queue": []
 }
}