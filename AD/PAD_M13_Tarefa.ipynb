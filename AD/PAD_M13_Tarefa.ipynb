{
 "cells": [
  {
   "cell_type": "markdown",
   "source": "<img src=\"https://raw.githubusercontent.com/andre-marcos-perez/ebac-course-utils/main/media/logo/newebac_logo_black_half.png\" alt=\"ebac-logo\">\n\n---\n\n# **Módulo** | Análise de Dados: Data Wrangling II\nCaderno de **Exercícios**<br> \nProfessor [André Perez](https://www.linkedin.com/in/andremarcosperez/)\n\n---",
   "metadata": {
    "id": "KJqp9AANOCtf",
    "cell_id": "00000-4891da37-1c81-44ec-8a75-35e52e3f99c6",
    "deepnote_cell_type": "markdown"
   }
  },
  {
   "cell_type": "markdown",
   "source": "# **Tópicos**\n\n<ol type=\"1\">\n  <li>Agregação e Ordenação;</li>\n  <li>Combinação;</li>\n  <li>Técnicas Avançadas.</li>\n</ol>",
   "metadata": {
    "id": "d9jDtUbDOE1-",
    "cell_id": "00001-4f050cb3-2176-48d1-9eef-9054de1b0fc2",
    "deepnote_cell_type": "markdown"
   }
  },
  {
   "cell_type": "markdown",
   "source": "---",
   "metadata": {
    "id": "SmoHgt-lwkpD",
    "cell_id": "00002-6fe54536-f48b-4ae2-8149-d05a59a43275",
    "deepnote_cell_type": "markdown"
   }
  },
  {
   "cell_type": "markdown",
   "source": "# **Exercícios**",
   "metadata": {
    "id": "GABI6OW8OfQ2",
    "cell_id": "00003-64b6eb85-4d5f-4c51-ad13-bcd1e359734d",
    "deepnote_cell_type": "markdown"
   }
  },
  {
   "cell_type": "markdown",
   "source": "Neste exercícios, vamos trabalhar com dados geográficos, demográficos e econômicos do Brasil. Vamos manipular e combinar dados de duas frentes distintas para poder responder perguntas de negócios.",
   "metadata": {
    "id": "45DbYPgFhuR7",
    "cell_id": "00004-3ef2f56f-053c-4f6f-b7ea-47700443676d",
    "deepnote_cell_type": "markdown"
   }
  },
  {
   "cell_type": "markdown",
   "source": "## 1\\. Data Wrangling",
   "metadata": {
    "id": "GWgNoJN8DHyY",
    "cell_id": "00005-d5f0336d-cc14-499b-ad66-d3e7b3df13b3",
    "deepnote_cell_type": "markdown"
   }
  },
  {
   "cell_type": "markdown",
   "source": "### **1.1. Estados** ",
   "metadata": {
    "id": "E30KnCdKRdYl",
    "cell_id": "00006-4fd487c7-4c02-4309-956f-f9f61e29e988",
    "deepnote_cell_type": "markdown"
   }
  },
  {
   "cell_type": "markdown",
   "source": "O arquivo `estados-bruto.xml` contém informações sobre estados (nome, sigla e região). **Carregue-o na máquina virtual do Google Colab**. Um arquivo do tipo XML é similar a um arquivo do tipo HTML, exemplo do estado do Acre:",
   "metadata": {
    "id": "w2q1apyNYHbu",
    "cell_id": "00007-57a9cde7-0e08-47db-a172-17f16e203e22",
    "deepnote_cell_type": "markdown"
   }
  },
  {
   "cell_type": "markdown",
   "source": "```xml\n<ESTADO>\n  <ID>1</ID>\n  <NOME>ACRE</NOME>\n  <IDCAPITAL>16</IDCAPITAL>\n  <SIGLA>AC</SIGLA>\n  <REGIAO>NORTE</REGIAO>\n</ESTADO>\n```",
   "metadata": {
    "id": "GzjE2aEyYW5A",
    "cell_id": "00008-a55c61e5-e896-4aab-8155-4f3b25b71a8b",
    "deepnote_cell_type": "markdown"
   }
  },
  {
   "cell_type": "markdown",
   "source": "Utilize o pacote Python `beautifulsoup4` para extrair os dados do arquivo `estados-bruto.xml` providenciado. Salve os dados extraidos no arquivo `estados-limpo.csv` separado por `;`. Exemplo das três primeiras linhas mais o cabeçalho:\n\n```\nestado;sigla;regiao\nACRE;AC;NORTE\nALAGOAS;AL;NORDESTE\nAMAPA;AP;NORTE\n```\n\n**Dica**: Utilize o parser de xml chamado `lxml` do `beautifulsoup4`.",
   "metadata": {
    "id": "7Mtk7Dd9UHqg",
    "cell_id": "00009-ce667133-b3c3-48e4-b3cb-c45d2105ad37",
    "deepnote_cell_type": "markdown"
   }
  },
  {
   "cell_type": "code",
   "metadata": {
    "id": "kz0ZyYI0Sg6P",
    "cell_id": "00010-7a4c9f2c-81ba-4c16-843e-0aac68d8ac0b",
    "deepnote_cell_type": "code"
   },
   "source": "# ler o arquivo estados-bruto.xml, utilize o xml parser chamado lxml\n\nfrom bs4 import BeautifulSoup\n\nNOME_ARQUIVO_FONTE = 'estados-bruto.xml'\n\nfonte = BeautifulSoup(..., 'lxml')",
   "execution_count": null,
   "outputs": []
  },
  {
   "cell_type": "code",
   "metadata": {
    "id": "rB0u2NjEXhDo",
    "cell_id": "00011-8258358e-504a-43ab-bec1-bb6d2c3e6a64",
    "deepnote_cell_type": "code"
   },
   "source": "# visualize os resultados\n\nfonte",
   "execution_count": null,
   "outputs": []
  },
  {
   "cell_type": "code",
   "metadata": {
    "id": "6mos3LTVXrzV",
    "cell_id": "00012-5c79cf3f-4f3b-400d-8d5e-44342887c91a",
    "deepnote_cell_type": "code"
   },
   "source": "# manipule os dados\n\n# continue o codigo aqui",
   "execution_count": null,
   "outputs": []
  },
  {
   "cell_type": "code",
   "metadata": {
    "id": "9yCma_LASxFg",
    "cell_id": "00013-02e94d44-f8ce-42ed-a0b3-86992405d885",
    "deepnote_cell_type": "code"
   },
   "source": "# escrever o conteudo extraido no arquivo estados-limpo.csv separados por ;\n\nNOME_ARQUIVO_DESTINO = 'estados-limpo.csv'\n\n# continue o codigo aqui",
   "execution_count": null,
   "outputs": []
  },
  {
   "cell_type": "markdown",
   "source": "### **1.2. Cidades** ",
   "metadata": {
    "id": "Fq0xqYYSYq92",
    "cell_id": "00014-4b673c08-659d-40f5-8481-954d06ba38f0",
    "deepnote_cell_type": "markdown"
   }
  },
  {
   "cell_type": "markdown",
   "source": "O arquivo `cidades-bruto.csv` contém informações demográficas e socioeconomicas das cidades do Brasil. **Carregue-o na máquina virtual do Google Colab**. Utilize o pacote Python `pandas` para extrair os dados do arquivo `cidades-bruto.xml` providenciado. Seguindo as seguintes especificações:",
   "metadata": {
    "id": "eWRbjhOQYq93",
    "cell_id": "00015-92e4138c-013a-496a-a379-90cbf408ebec",
    "deepnote_cell_type": "markdown"
   }
  },
  {
   "cell_type": "markdown",
   "source": "1. Apenas dados do censo de 2010;\n1. Apenas as colunas UF, Nome, PIB, Pop_est_2009 e PIB_percapita.",
   "metadata": {
    "id": "76zW8sMsbhEu",
    "cell_id": "00016-04cdbb31-634a-4d21-9a9a-4427722cb4fe",
    "deepnote_cell_type": "markdown"
   }
  },
  {
   "cell_type": "markdown",
   "source": "Salve os dados extraidos no arquivo `cidades-limpo.csv` separado por `;`. Exemplo das três primeiras linhas mais o cabeçalho:\n\n```\nestado;cidade;populacao;pib;pib_percapita\nBAHIA;TREMEDAL;18433;57883.9921875;3140.23999023\nRIO GRANDE DO SUL;TURUÇU;4000;45723875;11430.96972656\nESPIRITO SANTO;VITÓRIA;320156;19782628;61790.58984375\n```",
   "metadata": {
    "id": "auiIxlw-blp8",
    "cell_id": "00017-14b84a69-f56f-4cea-996d-0f7952c69862",
    "deepnote_cell_type": "markdown"
   }
  },
  {
   "cell_type": "code",
   "metadata": {
    "id": "nBmWOkvzYq94",
    "cell_id": "00018-96dc97a3-8f3e-4719-b791-2eccfb624eb7",
    "deepnote_cell_type": "code"
   },
   "source": "# ler o arquivo cidades-bruto.csv\n\nimport pandas as pd\n\nNOME_ARQUIVO_FONTE = 'cidades-bruto.csv'\n\nfonte = ... # continue o codigo aqui",
   "execution_count": null,
   "outputs": []
  },
  {
   "cell_type": "code",
   "metadata": {
    "id": "2NKpI4h9Yq95",
    "cell_id": "00019-70fa28e4-cd4d-4fd5-ae14-3628c27bd8fd",
    "deepnote_cell_type": "code"
   },
   "source": "# visualize os resultados\n\n# continue o codigo aqui",
   "execution_count": null,
   "outputs": []
  },
  {
   "cell_type": "code",
   "metadata": {
    "id": "BRVLwHxHYq96",
    "cell_id": "00020-a3beb811-56e5-4edf-89c2-0ef1590e0458",
    "deepnote_cell_type": "code"
   },
   "source": "# manipule os dados\n\n# continue o codigo aqui",
   "execution_count": null,
   "outputs": []
  },
  {
   "cell_type": "code",
   "metadata": {
    "id": "GcAWBfwhYq96",
    "cell_id": "00021-c0ac4792-f77b-4acf-bd24-a448595403f5",
    "deepnote_cell_type": "code"
   },
   "source": "# escrever o conteudo extraido no arquivo cidades-limpo.csv separados por ;\n\nNOME_ARQUIVO_DESTINO = 'cidades-limpo.csv'\n\n# continue o codigo aqui",
   "execution_count": null,
   "outputs": []
  },
  {
   "cell_type": "markdown",
   "source": "### **1.3. Brasil** ",
   "metadata": {
    "id": "EBzoHVD8b_c7",
    "cell_id": "00022-dcbf723d-072e-45ed-9b56-a9d0c58831b1",
    "deepnote_cell_type": "markdown"
   }
  },
  {
   "cell_type": "markdown",
   "source": "Utilize o pacote Python `pandas` para combinar os dados do arquivo `estados-bruto.csv` com os dados do arquivo `cidades-bruto.csv` em um único dataframe. Escolha a coluna e o método de combinação de tal forma que **não haja perda de dados** no processo (não produzirá valores nulos `NaN`). Salve os dados do dataframe no arquivo `brasil.csv`",
   "metadata": {
    "id": "Ft6l5bDwb_c7",
    "cell_id": "00023-824c7403-8111-4e9a-a763-9212cbe1d796",
    "deepnote_cell_type": "markdown"
   }
  },
  {
   "cell_type": "code",
   "metadata": {
    "id": "Vz3J7G4-dBXa",
    "cell_id": "00024-28c1961f-a718-4cc5-81e7-2849b3ca3a48",
    "deepnote_cell_type": "code"
   },
   "source": "# solução do exercício 1.3",
   "execution_count": null,
   "outputs": []
  },
  {
   "cell_type": "markdown",
   "source": "---",
   "metadata": {
    "id": "waxn4B2UDHyl",
    "cell_id": "00025-5268d050-feb8-4c53-a1c7-74ce3a8ac4fe",
    "deepnote_cell_type": "markdown"
   }
  },
  {
   "cell_type": "markdown",
   "source": "## 2\\. Data Analytics",
   "metadata": {
    "id": "finLQoyyGVmk",
    "cell_id": "00026-f02ea25d-9950-493c-a407-311720d35fbd",
    "deepnote_cell_type": "markdown"
   }
  },
  {
   "cell_type": "markdown",
   "source": "### **2.1. DataFrame** ",
   "metadata": {
    "id": "Ab0GW19Ed1ig",
    "cell_id": "00027-be219957-f131-430a-ac87-1acb8da7747e",
    "deepnote_cell_type": "markdown"
   }
  },
  {
   "cell_type": "markdown",
   "source": "Utilize o pacote Python `pandas` para carregar o arquivo `brasil.csv` no dataframe `brasil_df`.",
   "metadata": {
    "id": "l8jJYjeBdijt",
    "cell_id": "00028-8198a3c5-b5ca-48d8-b096-20aa19fe16b4",
    "deepnote_cell_type": "markdown"
   }
  },
  {
   "cell_type": "code",
   "metadata": {
    "id": "8kFQLlqud4QL",
    "cell_id": "00029-39f4fa7f-a380-4464-94a6-d2b0f80a28eb",
    "deepnote_cell_type": "code"
   },
   "source": "# solução do exercício 2.1",
   "execution_count": null,
   "outputs": []
  },
  {
   "cell_type": "markdown",
   "source": "### **2.2. Analise** ",
   "metadata": {
    "id": "ZFWvK8FXHuex",
    "cell_id": "00030-471b6082-6176-458e-8190-a36a8fe80b81",
    "deepnote_cell_type": "markdown"
   }
  },
  {
   "cell_type": "markdown",
   "source": "Utilize o dataframe `brasil_df` para responder as seguintes perguntas de negócio:",
   "metadata": {
    "id": "EGyz0R1dd62D",
    "cell_id": "00031-d313d4c5-c2ff-40ab-a0ef-d7388ac6682d",
    "deepnote_cell_type": "markdown"
   }
  },
  {
   "cell_type": "markdown",
   "source": " - Quais são as 10 cidades mais populosas do Brasil?",
   "metadata": {
    "id": "lGnYVp7IeFBD",
    "cell_id": "00032-a21ea1c7-58c5-4571-90e5-874acf21fe66",
    "deepnote_cell_type": "markdown"
   }
  },
  {
   "cell_type": "code",
   "metadata": {
    "id": "KQKcD-VkeQYf",
    "cell_id": "00033-0177c4ba-0b0e-4cbb-9438-39cfcad82698",
    "deepnote_cell_type": "code"
   },
   "source": "# código para responder a pergunta",
   "execution_count": null,
   "outputs": []
  },
  {
   "cell_type": "markdown",
   "source": " - Quais são as 5 cidades com a menor PIB per capita da região nordeste?",
   "metadata": {
    "id": "l93St6uleWTp",
    "cell_id": "00034-3b1b05a8-d2b6-4c12-9b42-64bd8d577662",
    "deepnote_cell_type": "markdown"
   }
  },
  {
   "cell_type": "code",
   "metadata": {
    "id": "DS5akh2zeWTq",
    "cell_id": "00035-057789d6-4ce9-45e2-af08-e3c1aa5213d1",
    "deepnote_cell_type": "code"
   },
   "source": "# código para responder a pergunta",
   "execution_count": null,
   "outputs": []
  },
  {
   "cell_type": "markdown",
   "source": " - Quais são as 15 cidades com maior PIB do do estado de São Paulo?",
   "metadata": {
    "id": "GqwffgUmedmb",
    "cell_id": "00036-6ab32012-d5f4-4ee8-979a-948f4296400b",
    "deepnote_cell_type": "markdown"
   }
  },
  {
   "cell_type": "code",
   "metadata": {
    "id": "tFKEn1gLedmc",
    "cell_id": "00037-e21b235a-5703-45a8-a1ad-9fcc6b3ba091",
    "deepnote_cell_type": "code"
   },
   "source": "# código para responder a pergunta",
   "execution_count": null,
   "outputs": []
  },
  {
   "cell_type": "markdown",
   "source": " - Qual é o PIB do estado de Santa Catarina?",
   "metadata": {
    "id": "Wg_la1wOewoB",
    "cell_id": "00038-bf8a12df-85f6-4d46-b281-dd96ed1d28b8",
    "deepnote_cell_type": "markdown"
   }
  },
  {
   "cell_type": "code",
   "metadata": {
    "id": "LwGqow5_ewoB",
    "cell_id": "00039-fcd9e186-c6a3-411e-85d2-faf214b5f367",
    "deepnote_cell_type": "code"
   },
   "source": "# código para responder a pergunta",
   "execution_count": null,
   "outputs": []
  },
  {
   "cell_type": "markdown",
   "source": " - Qual é o população da região sul?",
   "metadata": {
    "id": "Yaw2gDukfApr",
    "cell_id": "00040-d527c9e5-1a0f-4851-929b-7de75919fc4e",
    "deepnote_cell_type": "markdown"
   }
  },
  {
   "cell_type": "code",
   "metadata": {
    "id": "enEkNjFQfAps",
    "cell_id": "00041-ffa47044-9f53-425f-89c4-c93e320265e4",
    "deepnote_cell_type": "code"
   },
   "source": "# código para responder a pergunta",
   "execution_count": null,
   "outputs": []
  },
  {
   "cell_type": "markdown",
   "source": " - Qual é o PIB per capito médio das cidades do Mato Grosso do Sul?",
   "metadata": {
    "id": "9qOaKRS9fFu8",
    "cell_id": "00042-704f56e2-1778-4920-8685-923d56164b16",
    "deepnote_cell_type": "markdown"
   }
  },
  {
   "cell_type": "code",
   "metadata": {
    "id": "gX8DVSfFfFu9",
    "cell_id": "00043-960d8490-abe6-4044-9501-68a4d05b1e8e",
    "deepnote_cell_type": "code"
   },
   "source": "# código para responder a pergunta",
   "execution_count": null,
   "outputs": []
  },
  {
   "cell_type": "markdown",
   "source": " - Qual é a população do Brasil?",
   "metadata": {
    "id": "lvf-VqaffS2D",
    "cell_id": "00044-9be3dfc5-4220-41b9-b3ef-73be3247c4d6",
    "deepnote_cell_type": "markdown"
   }
  },
  {
   "cell_type": "code",
   "metadata": {
    "id": "_nBsY6EcfS2E",
    "cell_id": "00045-32061664-556f-434a-b193-aa5a23f96ae8",
    "deepnote_cell_type": "code"
   },
   "source": "# código para responder a pergunta",
   "execution_count": null,
   "outputs": []
  },
  {
   "cell_type": "markdown",
   "source": "### **2.3. Visualização** ",
   "metadata": {
    "id": "hnTSARXpipkP",
    "cell_id": "00046-b1411bf3-3414-4a3c-b99c-5426e0667896",
    "deepnote_cell_type": "markdown"
   }
  },
  {
   "cell_type": "markdown",
   "source": "Utilize o dataframe `brasil_df` para gerar as seguintes visualizações.",
   "metadata": {
    "id": "7coMkY8xixFO",
    "cell_id": "00047-197ec7ad-dd8a-41e6-a4b4-6667aeb6e1b1",
    "deepnote_cell_type": "markdown"
   }
  },
  {
   "cell_type": "markdown",
   "source": " - Gere um gráfico de barras com as 10 cidades menos populosas do Brasil.",
   "metadata": {
    "id": "SgvPvh4Vjctx",
    "cell_id": "00048-9cf04ad2-ee1d-4651-be94-804b8f50d261",
    "deepnote_cell_type": "markdown"
   }
  },
  {
   "cell_type": "code",
   "metadata": {
    "id": "V8eM0uEUjcty",
    "cell_id": "00049-a60ddf0a-26cf-45b2-8018-f01187160fc0",
    "deepnote_cell_type": "code"
   },
   "source": "# código para gerar a visualização",
   "execution_count": null,
   "outputs": []
  },
  {
   "cell_type": "markdown",
   "source": " - Gere um gráfico de pizza com a proporção da população do Brasil por região.",
   "metadata": {
    "id": "gsa3SrTjjrGV",
    "cell_id": "00050-53411dac-cbfe-4f4a-8150-2544feb9e73a",
    "deepnote_cell_type": "markdown"
   }
  },
  {
   "cell_type": "code",
   "metadata": {
    "id": "1dvqIAEHjrGV",
    "cell_id": "00051-c87fadf7-37ab-4a99-a978-fde2f13ff28e",
    "deepnote_cell_type": "code"
   },
   "source": "# código para gerar a visualização",
   "execution_count": null,
   "outputs": []
  },
  {
   "cell_type": "markdown",
   "source": "<a style='text-decoration:none;line-height:16px;display:flex;color:#5B5B62;padding:10px;justify-content:end;' href='https://deepnote.com?utm_source=created-in-deepnote-cell&projectId=690ec1aa-ed7a-4520-b902-aba6fc5867d1' target=\"_blank\">\n<img alt='Created in deepnote.com' style='display:inline;max-height:16px;margin:0px;margin-right:7.5px;' src='data:image/svg+xml;base64,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' > </img>\nCreated in <span style='font-weight:600;margin-left:4px;'>Deepnote</span></a>",
   "metadata": {
    "tags": [],
    "created_in_deepnote_cell": true,
    "deepnote_cell_type": "markdown"
   }
  }
 ],
 "nbformat": 4,
 "nbformat_minor": 0,
 "metadata": {
  "colab": {
   "name": "module_13_exercise.ipynb",
   "provenance": [],
   "collapsed_sections": [],
   "toc_visible": true
  },
  "kernelspec": {
   "name": "python3",
   "display_name": "Python 3"
  },
  "deepnote_notebook_id": "4dbb2c37-362a-4991-8979-2940d4775106",
  "deepnote": {},
  "deepnote_execution_queue": []
 }
}