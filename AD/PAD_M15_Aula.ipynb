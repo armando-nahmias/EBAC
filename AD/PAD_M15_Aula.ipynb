{
 "cells": [
  {
   "cell_type": "markdown",
   "source": "<img src=\"https://raw.githubusercontent.com/andre-marcos-perez/ebac-course-utils/main/media/logo/newebac_logo_black_half.png\" alt=\"ebac-logo\">\n\n---\n\n# **Módulo** | Análise de Dados: Visualização de Dados II\nCaderno de **Aula**<br> \nProfessor [André Perez](https://www.linkedin.com/in/andremarcosperez/)\n\n---",
   "metadata": {
    "id": "KJqp9AANOCtf",
    "cell_id": "00000-aa1aaf54-c436-488b-8137-cf91369f7360",
    "deepnote_cell_type": "markdown"
   }
  },
  {
   "cell_type": "markdown",
   "source": "# **Tópicos**\n\n<ol type=\"1\">\n  <li>Distribuições: Histograma, KDE e Box Plot;</li>\n  <li>Correlação: Gráfico de Disperção e Mapa de Calor.</li>\n</ol>",
   "metadata": {
    "id": "d9jDtUbDOE1-",
    "cell_id": "00001-ae9fb508-2379-4ef5-a20d-c8319efe95e9",
    "deepnote_cell_type": "markdown"
   }
  },
  {
   "cell_type": "markdown",
   "source": "---",
   "metadata": {
    "id": "SmoHgt-lwkpD",
    "cell_id": "00002-51b4b2ee-601f-43fa-add2-4dfe5e6e9b2c",
    "deepnote_cell_type": "markdown"
   }
  },
  {
   "cell_type": "markdown",
   "source": "# **Aulas**",
   "metadata": {
    "id": "GABI6OW8OfQ2",
    "cell_id": "00003-eb147cec-69d3-4108-aa78-ff4646434fbb",
    "deepnote_cell_type": "markdown"
   }
  },
  {
   "cell_type": "markdown",
   "source": "## 0\\. Estruturas de dados",
   "metadata": {
    "id": "eJ283bopLqLU",
    "cell_id": "00004-8ab40c23-c38a-4518-9b1d-89f91fc74a6f",
    "deepnote_cell_type": "markdown"
   }
  },
  {
   "cell_type": "markdown",
   "source": "*   <font color='red'>**Não estruturado**</font>: texto, imagem, aúdio, etc.\n*   **Semi estruturado**: html, json, etc.\n*   **Estruturado**: tabelas, planilhas, etc.\n\n",
   "metadata": {
    "id": "0gmSAOdOLqLU",
    "cell_id": "00005-970fca50-8c1b-4ae6-8ed1-8fe9a5f4d47c",
    "deepnote_cell_type": "markdown"
   }
  },
  {
   "cell_type": "markdown",
   "source": "\n## 1\\. Distribuições",
   "metadata": {
    "id": "4rRCvy_UURrM",
    "cell_id": "00006-399616d8-4f6e-4920-b51f-8a124af3df5b",
    "deepnote_cell_type": "markdown"
   }
  },
  {
   "cell_type": "markdown",
   "source": "### **1.1.  Histograma** ",
   "metadata": {
    "id": "78RHF81A3tat",
    "cell_id": "00007-d574cdd1-a33b-4ab3-b1d3-d9b6cd280c56",
    "deepnote_cell_type": "markdown"
   }
  },
  {
   "cell_type": "markdown",
   "source": "O **histograma** representa a distribuição de uma variável numérica. A variável numérica é segmentada em intervalos representados por uma barra. Já a altura da barra indica a contagem dos valores presentes na segmentação.",
   "metadata": {
    "id": "bV_cw2IibzL8",
    "cell_id": "00008-5bed00e1-87aa-4e87-9e7e-79e707c8910d",
    "deepnote_cell_type": "markdown"
   }
  },
  {
   "cell_type": "markdown",
   "source": "> O método do pacote Seaborn que constrói este gráfico é o `histplot` ([docs](https://seaborn.pydata.org/generated/seaborn.histplot.html#seaborn.histplot)). ",
   "metadata": {
    "id": "wOId4dd_J2s4",
    "cell_id": "00009-aceb1d21-93c5-438b-b422-5b9a3ca99247",
    "deepnote_cell_type": "markdown"
   }
  },
  {
   "cell_type": "markdown",
   "source": "Algumas dicas:\n\n - A variação do tamanho da segmentação por gerar diferentes insights.",
   "metadata": {
    "id": "v8rO1qADJ2s6",
    "cell_id": "00010-1ca0c1e2-c949-4da4-87f7-3fabff5b55d8",
    "deepnote_cell_type": "markdown"
   }
  },
  {
   "cell_type": "markdown",
   "source": "Vamos utilizar a base de dados do **titanic**:",
   "metadata": {
    "id": "sIDdyiIEJ2s7",
    "cell_id": "00011-0104a086-e832-4e6a-a64d-b7d6851fa239",
    "deepnote_cell_type": "markdown"
   }
  },
  {
   "cell_type": "code",
   "metadata": {
    "id": "UVK14yGHJ2s7",
    "cell_id": "00012-1283f112-1fb6-4b49-9696-d891e70eb1a2",
    "deepnote_to_be_reexecuted": false,
    "source_hash": "c9d2f67b",
    "execution_start": 1639699583214,
    "execution_millis": 2,
    "deepnote_cell_type": "code"
   },
   "source": "import seaborn as sns",
   "execution_count": null,
   "outputs": []
  },
  {
   "cell_type": "code",
   "metadata": {
    "id": "bHXr4Fr8J2s8",
    "cell_id": "00013-e76dd995-d9ec-4c81-b7b9-3fb71e5d1695",
    "deepnote_to_be_reexecuted": false,
    "source_hash": "d9484471",
    "execution_start": 1639699583255,
    "execution_millis": 230,
    "deepnote_output_heights": [
     177
    ],
    "deepnote_cell_type": "code"
   },
   "source": "data = sns.load_dataset(\"titanic\")\ndata.head()",
   "execution_count": null,
   "outputs": [
    {
     "output_type": "execute_result",
     "execution_count": 33,
     "data": {
      "application/vnd.deepnote.dataframe.v3+json": {
       "column_count": 15,
       "row_count": 5,
       "columns": [
        {
         "name": "survived",
         "dtype": "int64",
         "stats": {
          "unique_count": 2,
          "nan_count": 0,
          "min": "0",
          "max": "1",
          "histogram": [
           {
            "bin_start": 0,
            "bin_end": 0.1,
            "count": 2
           },
           {
            "bin_start": 0.1,
            "bin_end": 0.2,
            "count": 0
           },
           {
            "bin_start": 0.2,
            "bin_end": 0.30000000000000004,
            "count": 0
           },
           {
            "bin_start": 0.30000000000000004,
            "bin_end": 0.4,
            "count": 0
           },
           {
            "bin_start": 0.4,
            "bin_end": 0.5,
            "count": 0
           },
           {
            "bin_start": 0.5,
            "bin_end": 0.6000000000000001,
            "count": 0
           },
           {
            "bin_start": 0.6000000000000001,
            "bin_end": 0.7000000000000001,
            "count": 0
           },
           {
            "bin_start": 0.7000000000000001,
            "bin_end": 0.8,
            "count": 0
           },
           {
            "bin_start": 0.8,
            "bin_end": 0.9,
            "count": 0
           },
           {
            "bin_start": 0.9,
            "bin_end": 1,
            "count": 3
           }
          ]
         }
        },
        {
         "name": "pclass",
         "dtype": "int64",
         "stats": {
          "unique_count": 2,
          "nan_count": 0,
          "min": "1",
          "max": "3",
          "histogram": [
           {
            "bin_start": 1,
            "bin_end": 1.2,
            "count": 2
           },
           {
            "bin_start": 1.2,
            "bin_end": 1.4,
            "count": 0
           },
           {
            "bin_start": 1.4,
            "bin_end": 1.6,
            "count": 0
           },
           {
            "bin_start": 1.6,
            "bin_end": 1.8,
            "count": 0
           },
           {
            "bin_start": 1.8,
            "bin_end": 2,
            "count": 0
           },
           {
            "bin_start": 2,
            "bin_end": 2.2,
            "count": 0
           },
           {
            "bin_start": 2.2,
            "bin_end": 2.4000000000000004,
            "count": 0
           },
           {
            "bin_start": 2.4000000000000004,
            "bin_end": 2.6,
            "count": 0
           },
           {
            "bin_start": 2.6,
            "bin_end": 2.8,
            "count": 0
           },
           {
            "bin_start": 2.8,
            "bin_end": 3,
            "count": 3
           }
          ]
         }
        },
        {
         "name": "sex",
         "dtype": "object",
         "stats": {
          "unique_count": 2,
          "nan_count": 0,
          "categories": [
           {
            "name": "female",
            "count": 3
           },
           {
            "name": "male",
            "count": 2
           }
          ]
         }
        },
        {
         "name": "age",
         "dtype": "float64",
         "stats": {
          "unique_count": 4,
          "nan_count": 0,
          "min": "22.0",
          "max": "38.0",
          "histogram": [
           {
            "bin_start": 22,
            "bin_end": 23.6,
            "count": 1
           },
           {
            "bin_start": 23.6,
            "bin_end": 25.2,
            "count": 0
           },
           {
            "bin_start": 25.2,
            "bin_end": 26.8,
            "count": 1
           },
           {
            "bin_start": 26.8,
            "bin_end": 28.4,
            "count": 0
           },
           {
            "bin_start": 28.4,
            "bin_end": 30,
            "count": 0
           },
           {
            "bin_start": 30,
            "bin_end": 31.6,
            "count": 0
           },
           {
            "bin_start": 31.6,
            "bin_end": 33.2,
            "count": 0
           },
           {
            "bin_start": 33.2,
            "bin_end": 34.8,
            "count": 0
           },
           {
            "bin_start": 34.8,
            "bin_end": 36.4,
            "count": 2
           },
           {
            "bin_start": 36.4,
            "bin_end": 38,
            "count": 1
           }
          ]
         }
        },
        {
         "name": "sibsp",
         "dtype": "int64",
         "stats": {
          "unique_count": 2,
          "nan_count": 0,
          "min": "0",
          "max": "1",
          "histogram": [
           {
            "bin_start": 0,
            "bin_end": 0.1,
            "count": 2
           },
           {
            "bin_start": 0.1,
            "bin_end": 0.2,
            "count": 0
           },
           {
            "bin_start": 0.2,
            "bin_end": 0.30000000000000004,
            "count": 0
           },
           {
            "bin_start": 0.30000000000000004,
            "bin_end": 0.4,
            "count": 0
           },
           {
            "bin_start": 0.4,
            "bin_end": 0.5,
            "count": 0
           },
           {
            "bin_start": 0.5,
            "bin_end": 0.6000000000000001,
            "count": 0
           },
           {
            "bin_start": 0.6000000000000001,
            "bin_end": 0.7000000000000001,
            "count": 0
           },
           {
            "bin_start": 0.7000000000000001,
            "bin_end": 0.8,
            "count": 0
           },
           {
            "bin_start": 0.8,
            "bin_end": 0.9,
            "count": 0
           },
           {
            "bin_start": 0.9,
            "bin_end": 1,
            "count": 3
           }
          ]
         }
        },
        {
         "name": "parch",
         "dtype": "int64",
         "stats": {
          "unique_count": 1,
          "nan_count": 0,
          "min": "0",
          "max": "0",
          "histogram": [
           {
            "bin_start": -0.5,
            "bin_end": -0.4,
            "count": 0
           },
           {
            "bin_start": -0.4,
            "bin_end": -0.3,
            "count": 0
           },
           {
            "bin_start": -0.3,
            "bin_end": -0.19999999999999996,
            "count": 0
           },
           {
            "bin_start": -0.19999999999999996,
            "bin_end": -0.09999999999999998,
            "count": 0
           },
           {
            "bin_start": -0.09999999999999998,
            "bin_end": 0,
            "count": 0
           },
           {
            "bin_start": 0,
            "bin_end": 0.10000000000000009,
            "count": 5
           },
           {
            "bin_start": 0.10000000000000009,
            "bin_end": 0.20000000000000007,
            "count": 0
           },
           {
            "bin_start": 0.20000000000000007,
            "bin_end": 0.30000000000000004,
            "count": 0
           },
           {
            "bin_start": 0.30000000000000004,
            "bin_end": 0.4,
            "count": 0
           },
           {
            "bin_start": 0.4,
            "bin_end": 0.5,
            "count": 0
           }
          ]
         }
        },
        {
         "name": "fare",
         "dtype": "float64",
         "stats": {
          "unique_count": 5,
          "nan_count": 0,
          "min": "7.25",
          "max": "71.2833",
          "histogram": [
           {
            "bin_start": 7.25,
            "bin_end": 13.65333,
            "count": 3
           },
           {
            "bin_start": 13.65333,
            "bin_end": 20.05666,
            "count": 0
           },
           {
            "bin_start": 20.05666,
            "bin_end": 26.459989999999998,
            "count": 0
           },
           {
            "bin_start": 26.459989999999998,
            "bin_end": 32.86332,
            "count": 0
           },
           {
            "bin_start": 32.86332,
            "bin_end": 39.26665,
            "count": 0
           },
           {
            "bin_start": 39.26665,
            "bin_end": 45.669979999999995,
            "count": 0
           },
           {
            "bin_start": 45.669979999999995,
            "bin_end": 52.07331,
            "count": 0
           },
           {
            "bin_start": 52.07331,
            "bin_end": 58.476639999999996,
            "count": 1
           },
           {
            "bin_start": 58.476639999999996,
            "bin_end": 64.87996999999999,
            "count": 0
           },
           {
            "bin_start": 64.87996999999999,
            "bin_end": 71.2833,
            "count": 1
           }
          ]
         }
        },
        {
         "name": "embarked",
         "dtype": "object",
         "stats": {
          "unique_count": 2,
          "nan_count": 0,
          "categories": [
           {
            "name": "S",
            "count": 4
           },
           {
            "name": "C",
            "count": 1
           }
          ]
         }
        },
        {
         "name": "class",
         "dtype": "category",
         "stats": {
          "unique_count": 2,
          "nan_count": 0,
          "categories": [
           {
            "name": "Third",
            "count": 3
           },
           {
            "name": "First",
            "count": 2
           }
          ]
         }
        },
        {
         "name": "who",
         "dtype": "object",
         "stats": {
          "unique_count": 2,
          "nan_count": 0,
          "categories": [
           {
            "name": "woman",
            "count": 3
           },
           {
            "name": "man",
            "count": 2
           }
          ]
         }
        },
        {
         "name": "adult_male",
         "dtype": "bool",
         "stats": {
          "unique_count": 2,
          "nan_count": 0,
          "categories": [
           {
            "name": "False",
            "count": 3
           },
           {
            "name": "True",
            "count": 2
           }
          ]
         }
        },
        {
         "name": "deck",
         "dtype": "category",
         "stats": {
          "unique_count": 1,
          "nan_count": 3,
          "categories": [
           {
            "name": "C",
            "count": 2
           },
           {
            "name": "Missing",
            "count": 3
           }
          ]
         }
        },
        {
         "name": "embark_town",
         "dtype": "object",
         "stats": {
          "unique_count": 2,
          "nan_count": 0,
          "categories": [
           {
            "name": "Southampton",
            "count": 4
           },
           {
            "name": "Cherbourg",
            "count": 1
           }
          ]
         }
        },
        {
         "name": "alive",
         "dtype": "object",
         "stats": {
          "unique_count": 2,
          "nan_count": 0,
          "categories": [
           {
            "name": "yes",
            "count": 3
           },
           {
            "name": "no",
            "count": 2
           }
          ]
         }
        },
        {
         "name": "alone",
         "dtype": "bool",
         "stats": {
          "unique_count": 2,
          "nan_count": 0,
          "categories": [
           {
            "name": "False",
            "count": 3
           },
           {
            "name": "True",
            "count": 2
           }
          ]
         }
        },
        {
         "name": "_deepnote_index_column",
         "dtype": "int64"
        }
       ],
       "rows": [
        {
         "survived": 0,
         "pclass": 3,
         "sex": "male",
         "age": 22,
         "sibsp": 1,
         "parch": 0,
         "fare": 7.25,
         "embarked": "S",
         "class": "Third",
         "who": "man",
         "adult_male": true,
         "deck": "nan",
         "embark_town": "Southampton",
         "alive": "no",
         "alone": false,
         "_deepnote_index_column": 0
        },
        {
         "survived": 1,
         "pclass": 1,
         "sex": "female",
         "age": 38,
         "sibsp": 1,
         "parch": 0,
         "fare": 71.2833,
         "embarked": "C",
         "class": "First",
         "who": "woman",
         "adult_male": false,
         "deck": "C",
         "embark_town": "Cherbourg",
         "alive": "yes",
         "alone": false,
         "_deepnote_index_column": 1
        },
        {
         "survived": 1,
         "pclass": 3,
         "sex": "female",
         "age": 26,
         "sibsp": 0,
         "parch": 0,
         "fare": 7.925,
         "embarked": "S",
         "class": "Third",
         "who": "woman",
         "adult_male": false,
         "deck": "nan",
         "embark_town": "Southampton",
         "alive": "yes",
         "alone": true,
         "_deepnote_index_column": 2
        },
        {
         "survived": 1,
         "pclass": 1,
         "sex": "female",
         "age": 35,
         "sibsp": 1,
         "parch": 0,
         "fare": 53.1,
         "embarked": "S",
         "class": "First",
         "who": "woman",
         "adult_male": false,
         "deck": "C",
         "embark_town": "Southampton",
         "alive": "yes",
         "alone": false,
         "_deepnote_index_column": 3
        },
        {
         "survived": 0,
         "pclass": 3,
         "sex": "male",
         "age": 35,
         "sibsp": 0,
         "parch": 0,
         "fare": 8.05,
         "embarked": "S",
         "class": "Third",
         "who": "man",
         "adult_male": true,
         "deck": "nan",
         "embark_town": "Southampton",
         "alive": "no",
         "alone": true,
         "_deepnote_index_column": 4
        }
       ]
      },
      "text/plain": "   survived  pclass     sex   age  sibsp  parch     fare embarked  class  \\\n0         0       3    male  22.0      1      0   7.2500        S  Third   \n1         1       1  female  38.0      1      0  71.2833        C  First   \n2         1       3  female  26.0      0      0   7.9250        S  Third   \n3         1       1  female  35.0      1      0  53.1000        S  First   \n4         0       3    male  35.0      0      0   8.0500        S  Third   \n\n     who  adult_male deck  embark_town alive  alone  \n0    man        True  NaN  Southampton    no  False  \n1  woman       False    C    Cherbourg   yes  False  \n2  woman       False  NaN  Southampton   yes   True  \n3  woman       False    C  Southampton   yes  False  \n4    man        True  NaN  Southampton    no   True  ",
      "text/html": "<div>\n<style scoped>\n    .dataframe tbody tr th:only-of-type {\n        vertical-align: middle;\n    }\n\n    .dataframe tbody tr th {\n        vertical-align: top;\n    }\n\n    .dataframe thead th {\n        text-align: right;\n    }\n</style>\n<table border=\"1\" class=\"dataframe\">\n  <thead>\n    <tr style=\"text-align: right;\">\n      <th></th>\n      <th>survived</th>\n      <th>pclass</th>\n      <th>sex</th>\n      <th>age</th>\n      <th>sibsp</th>\n      <th>parch</th>\n      <th>fare</th>\n      <th>embarked</th>\n      <th>class</th>\n      <th>who</th>\n      <th>adult_male</th>\n      <th>deck</th>\n      <th>embark_town</th>\n      <th>alive</th>\n      <th>alone</th>\n    </tr>\n  </thead>\n  <tbody>\n    <tr>\n      <th>0</th>\n      <td>0</td>\n      <td>3</td>\n      <td>male</td>\n      <td>22.0</td>\n      <td>1</td>\n      <td>0</td>\n      <td>7.2500</td>\n      <td>S</td>\n      <td>Third</td>\n      <td>man</td>\n      <td>True</td>\n      <td>NaN</td>\n      <td>Southampton</td>\n      <td>no</td>\n      <td>False</td>\n    </tr>\n    <tr>\n      <th>1</th>\n      <td>1</td>\n      <td>1</td>\n      <td>female</td>\n      <td>38.0</td>\n      <td>1</td>\n      <td>0</td>\n      <td>71.2833</td>\n      <td>C</td>\n      <td>First</td>\n      <td>woman</td>\n      <td>False</td>\n      <td>C</td>\n      <td>Cherbourg</td>\n      <td>yes</td>\n      <td>False</td>\n    </tr>\n    <tr>\n      <th>2</th>\n      <td>1</td>\n      <td>3</td>\n      <td>female</td>\n      <td>26.0</td>\n      <td>0</td>\n      <td>0</td>\n      <td>7.9250</td>\n      <td>S</td>\n      <td>Third</td>\n      <td>woman</td>\n      <td>False</td>\n      <td>NaN</td>\n      <td>Southampton</td>\n      <td>yes</td>\n      <td>True</td>\n    </tr>\n    <tr>\n      <th>3</th>\n      <td>1</td>\n      <td>1</td>\n      <td>female</td>\n      <td>35.0</td>\n      <td>1</td>\n      <td>0</td>\n      <td>53.1000</td>\n      <td>S</td>\n      <td>First</td>\n      <td>woman</td>\n      <td>False</td>\n      <td>C</td>\n      <td>Southampton</td>\n      <td>yes</td>\n      <td>False</td>\n    </tr>\n    <tr>\n      <th>4</th>\n      <td>0</td>\n      <td>3</td>\n      <td>male</td>\n      <td>35.0</td>\n      <td>0</td>\n      <td>0</td>\n      <td>8.0500</td>\n      <td>S</td>\n      <td>Third</td>\n      <td>man</td>\n      <td>True</td>\n      <td>NaN</td>\n      <td>Southampton</td>\n      <td>no</td>\n      <td>True</td>\n    </tr>\n  </tbody>\n</table>\n</div>"
     },
     "metadata": {}
    }
   ]
  },
  {
   "cell_type": "markdown",
   "source": "*   **Exemplo**: Valor da passagem por sobrevivência:",
   "metadata": {
    "id": "pzbEsdJgNY4A",
    "cell_id": "00014-9e8e24fe-7bf2-49c7-b2de-8ed261550286",
    "deepnote_cell_type": "markdown"
   }
  },
  {
   "cell_type": "code",
   "metadata": {
    "id": "HKrF3wHlNY4f",
    "cell_id": "00015-197d997d-6d14-4b8e-a1b4-48284872b991",
    "deepnote_to_be_reexecuted": false,
    "source_hash": "7ef76274",
    "execution_start": 1639699583515,
    "execution_millis": 1278,
    "deepnote_output_heights": [
     280
    ],
    "deepnote_cell_type": "code"
   },
   "source": "titanic = data[[\"fare\", \"survived\"]]\ntitanic = titanic.query(\"fare < 100\")\n\nwith sns.axes_style('whitegrid'):\n\n  # grafico = sns.histplot(data=titanic, x=\"fare\")\n  grafico = sns.histplot(data=titanic, x=\"fare\", hue='survived')\n  grafico.set(title='Valor da passagem por sobrevivência', xlabel='Valor (USD)', ylabel='Contagem');\n  grafico.get_legend().set_title(\"Sobreviveu?\");",
   "execution_count": null,
   "outputs": [
    {
     "data": {
      "text/plain": "<Figure size 432x288 with 1 Axes>",
      "image/png": "[encoded data removed]"
     },
     "metadata": {
      "image/png": {
       "width": 389,
       "height": 278
      }
     },
     "output_type": "display_data"
    }
   ]
  },
  {
   "cell_type": "markdown",
   "source": "### **1.2. KDE** ",
   "metadata": {
    "id": "fzU5v17l8kHf",
    "cell_id": "00016-fb82d7a8-e7b3-413a-832a-3152609c7cca",
    "deepnote_cell_type": "markdown"
   }
  },
  {
   "cell_type": "markdown",
   "source": "O **KDE** (*kernel density estimator*), assim como o **histograma**, representa a distribuição de uma variável numérica, mas em uma distribuição contínua. A variável numérica é segmentada em intervalos representados por uma função contínua estimada. Ajuda a evidênciar a distribuição da variável numérica.",
   "metadata": {
    "id": "rszQ1PtbSLsr",
    "cell_id": "00017-c215734a-b4c0-4d5d-b02d-89e2fc1e4187",
    "deepnote_cell_type": "markdown"
   }
  },
  {
   "cell_type": "markdown",
   "source": "> O método do pacote Seaborn que constrói este gráfico é o `histplot` ([docs](https://seaborn.pydata.org/generated/seaborn.histplot.html#seaborn.histplot)). ",
   "metadata": {
    "id": "JUCAXeRhSLs3",
    "cell_id": "00018-8c8afbf5-aeaf-41c8-9e93-431d0c5ea9b5",
    "deepnote_cell_type": "markdown"
   }
  },
  {
   "cell_type": "markdown",
   "source": "Algumas dicas:\n\n - A variação do tamanho da segmentação por gerar diferentes insights.",
   "metadata": {
    "id": "hts3JCNOSLs4",
    "cell_id": "00019-7cdeb7d9-7e97-47e9-9ee8-ccd30091873d",
    "deepnote_cell_type": "markdown"
   }
  },
  {
   "cell_type": "markdown",
   "source": "Vamos utilizar a base de dados do **titanic**:",
   "metadata": {
    "id": "MrbpMM6xSLs4",
    "cell_id": "00020-52118548-825d-4535-8242-8685a1c952d2",
    "deepnote_cell_type": "markdown"
   }
  },
  {
   "cell_type": "code",
   "metadata": {
    "id": "7nnh1BcMSLs4",
    "cell_id": "00021-aab2e521-338d-46e3-a64c-42ea119d2a80",
    "deepnote_to_be_reexecuted": false,
    "source_hash": "c9d2f67b",
    "execution_start": 1639699584807,
    "execution_millis": 8,
    "deepnote_cell_type": "code"
   },
   "source": "import seaborn as sns",
   "execution_count": null,
   "outputs": []
  },
  {
   "cell_type": "code",
   "metadata": {
    "id": "yTHzjaJcSLs4",
    "cell_id": "00022-d2122408-1c50-4d4e-a649-3cde4c759525",
    "deepnote_to_be_reexecuted": false,
    "source_hash": "d9484471",
    "execution_start": 1639699584856,
    "execution_millis": 228,
    "deepnote_cell_type": "code"
   },
   "source": "data = sns.load_dataset(\"titanic\")\ndata.head()",
   "execution_count": null,
   "outputs": [
    {
     "output_type": "execute_result",
     "execution_count": 36,
     "data": {
      "application/vnd.deepnote.dataframe.v3+json": {
       "column_count": 15,
       "row_count": 5,
       "columns": [
        {
         "name": "survived",
         "dtype": "int64",
         "stats": {
          "unique_count": 2,
          "nan_count": 0,
          "min": "0",
          "max": "1",
          "histogram": [
           {
            "bin_start": 0,
            "bin_end": 0.1,
            "count": 2
           },
           {
            "bin_start": 0.1,
            "bin_end": 0.2,
            "count": 0
           },
           {
            "bin_start": 0.2,
            "bin_end": 0.30000000000000004,
            "count": 0
           },
           {
            "bin_start": 0.30000000000000004,
            "bin_end": 0.4,
            "count": 0
           },
           {
            "bin_start": 0.4,
            "bin_end": 0.5,
            "count": 0
           },
           {
            "bin_start": 0.5,
            "bin_end": 0.6000000000000001,
            "count": 0
           },
           {
            "bin_start": 0.6000000000000001,
            "bin_end": 0.7000000000000001,
            "count": 0
           },
           {
            "bin_start": 0.7000000000000001,
            "bin_end": 0.8,
            "count": 0
           },
           {
            "bin_start": 0.8,
            "bin_end": 0.9,
            "count": 0
           },
           {
            "bin_start": 0.9,
            "bin_end": 1,
            "count": 3
           }
          ]
         }
        },
        {
         "name": "pclass",
         "dtype": "int64",
         "stats": {
          "unique_count": 2,
          "nan_count": 0,
          "min": "1",
          "max": "3",
          "histogram": [
           {
            "bin_start": 1,
            "bin_end": 1.2,
            "count": 2
           },
           {
            "bin_start": 1.2,
            "bin_end": 1.4,
            "count": 0
           },
           {
            "bin_start": 1.4,
            "bin_end": 1.6,
            "count": 0
           },
           {
            "bin_start": 1.6,
            "bin_end": 1.8,
            "count": 0
           },
           {
            "bin_start": 1.8,
            "bin_end": 2,
            "count": 0
           },
           {
            "bin_start": 2,
            "bin_end": 2.2,
            "count": 0
           },
           {
            "bin_start": 2.2,
            "bin_end": 2.4000000000000004,
            "count": 0
           },
           {
            "bin_start": 2.4000000000000004,
            "bin_end": 2.6,
            "count": 0
           },
           {
            "bin_start": 2.6,
            "bin_end": 2.8,
            "count": 0
           },
           {
            "bin_start": 2.8,
            "bin_end": 3,
            "count": 3
           }
          ]
         }
        },
        {
         "name": "sex",
         "dtype": "object",
         "stats": {
          "unique_count": 2,
          "nan_count": 0,
          "categories": [
           {
            "name": "female",
            "count": 3
           },
           {
            "name": "male",
            "count": 2
           }
          ]
         }
        },
        {
         "name": "age",
         "dtype": "float64",
         "stats": {
          "unique_count": 4,
          "nan_count": 0,
          "min": "22.0",
          "max": "38.0",
          "histogram": [
           {
            "bin_start": 22,
            "bin_end": 23.6,
            "count": 1
           },
           {
            "bin_start": 23.6,
            "bin_end": 25.2,
            "count": 0
           },
           {
            "bin_start": 25.2,
            "bin_end": 26.8,
            "count": 1
           },
           {
            "bin_start": 26.8,
            "bin_end": 28.4,
            "count": 0
           },
           {
            "bin_start": 28.4,
            "bin_end": 30,
            "count": 0
           },
           {
            "bin_start": 30,
            "bin_end": 31.6,
            "count": 0
           },
           {
            "bin_start": 31.6,
            "bin_end": 33.2,
            "count": 0
           },
           {
            "bin_start": 33.2,
            "bin_end": 34.8,
            "count": 0
           },
           {
            "bin_start": 34.8,
            "bin_end": 36.4,
            "count": 2
           },
           {
            "bin_start": 36.4,
            "bin_end": 38,
            "count": 1
           }
          ]
         }
        },
        {
         "name": "sibsp",
         "dtype": "int64",
         "stats": {
          "unique_count": 2,
          "nan_count": 0,
          "min": "0",
          "max": "1",
          "histogram": [
           {
            "bin_start": 0,
            "bin_end": 0.1,
            "count": 2
           },
           {
            "bin_start": 0.1,
            "bin_end": 0.2,
            "count": 0
           },
           {
            "bin_start": 0.2,
            "bin_end": 0.30000000000000004,
            "count": 0
           },
           {
            "bin_start": 0.30000000000000004,
            "bin_end": 0.4,
            "count": 0
           },
           {
            "bin_start": 0.4,
            "bin_end": 0.5,
            "count": 0
           },
           {
            "bin_start": 0.5,
            "bin_end": 0.6000000000000001,
            "count": 0
           },
           {
            "bin_start": 0.6000000000000001,
            "bin_end": 0.7000000000000001,
            "count": 0
           },
           {
            "bin_start": 0.7000000000000001,
            "bin_end": 0.8,
            "count": 0
           },
           {
            "bin_start": 0.8,
            "bin_end": 0.9,
            "count": 0
           },
           {
            "bin_start": 0.9,
            "bin_end": 1,
            "count": 3
           }
          ]
         }
        },
        {
         "name": "parch",
         "dtype": "int64",
         "stats": {
          "unique_count": 1,
          "nan_count": 0,
          "min": "0",
          "max": "0",
          "histogram": [
           {
            "bin_start": -0.5,
            "bin_end": -0.4,
            "count": 0
           },
           {
            "bin_start": -0.4,
            "bin_end": -0.3,
            "count": 0
           },
           {
            "bin_start": -0.3,
            "bin_end": -0.19999999999999996,
            "count": 0
           },
           {
            "bin_start": -0.19999999999999996,
            "bin_end": -0.09999999999999998,
            "count": 0
           },
           {
            "bin_start": -0.09999999999999998,
            "bin_end": 0,
            "count": 0
           },
           {
            "bin_start": 0,
            "bin_end": 0.10000000000000009,
            "count": 5
           },
           {
            "bin_start": 0.10000000000000009,
            "bin_end": 0.20000000000000007,
            "count": 0
           },
           {
            "bin_start": 0.20000000000000007,
            "bin_end": 0.30000000000000004,
            "count": 0
           },
           {
            "bin_start": 0.30000000000000004,
            "bin_end": 0.4,
            "count": 0
           },
           {
            "bin_start": 0.4,
            "bin_end": 0.5,
            "count": 0
           }
          ]
         }
        },
        {
         "name": "fare",
         "dtype": "float64",
         "stats": {
          "unique_count": 5,
          "nan_count": 0,
          "min": "7.25",
          "max": "71.2833",
          "histogram": [
           {
            "bin_start": 7.25,
            "bin_end": 13.65333,
            "count": 3
           },
           {
            "bin_start": 13.65333,
            "bin_end": 20.05666,
            "count": 0
           },
           {
            "bin_start": 20.05666,
            "bin_end": 26.459989999999998,
            "count": 0
           },
           {
            "bin_start": 26.459989999999998,
            "bin_end": 32.86332,
            "count": 0
           },
           {
            "bin_start": 32.86332,
            "bin_end": 39.26665,
            "count": 0
           },
           {
            "bin_start": 39.26665,
            "bin_end": 45.669979999999995,
            "count": 0
           },
           {
            "bin_start": 45.669979999999995,
            "bin_end": 52.07331,
            "count": 0
           },
           {
            "bin_start": 52.07331,
            "bin_end": 58.476639999999996,
            "count": 1
           },
           {
            "bin_start": 58.476639999999996,
            "bin_end": 64.87996999999999,
            "count": 0
           },
           {
            "bin_start": 64.87996999999999,
            "bin_end": 71.2833,
            "count": 1
           }
          ]
         }
        },
        {
         "name": "embarked",
         "dtype": "object",
         "stats": {
          "unique_count": 2,
          "nan_count": 0,
          "categories": [
           {
            "name": "S",
            "count": 4
           },
           {
            "name": "C",
            "count": 1
           }
          ]
         }
        },
        {
         "name": "class",
         "dtype": "category",
         "stats": {
          "unique_count": 2,
          "nan_count": 0,
          "categories": [
           {
            "name": "Third",
            "count": 3
           },
           {
            "name": "First",
            "count": 2
           }
          ]
         }
        },
        {
         "name": "who",
         "dtype": "object",
         "stats": {
          "unique_count": 2,
          "nan_count": 0,
          "categories": [
           {
            "name": "woman",
            "count": 3
           },
           {
            "name": "man",
            "count": 2
           }
          ]
         }
        },
        {
         "name": "adult_male",
         "dtype": "bool",
         "stats": {
          "unique_count": 2,
          "nan_count": 0,
          "categories": [
           {
            "name": "False",
            "count": 3
           },
           {
            "name": "True",
            "count": 2
           }
          ]
         }
        },
        {
         "name": "deck",
         "dtype": "category",
         "stats": {
          "unique_count": 1,
          "nan_count": 3,
          "categories": [
           {
            "name": "C",
            "count": 2
           },
           {
            "name": "Missing",
            "count": 3
           }
          ]
         }
        },
        {
         "name": "embark_town",
         "dtype": "object",
         "stats": {
          "unique_count": 2,
          "nan_count": 0,
          "categories": [
           {
            "name": "Southampton",
            "count": 4
           },
           {
            "name": "Cherbourg",
            "count": 1
           }
          ]
         }
        },
        {
         "name": "alive",
         "dtype": "object",
         "stats": {
          "unique_count": 2,
          "nan_count": 0,
          "categories": [
           {
            "name": "yes",
            "count": 3
           },
           {
            "name": "no",
            "count": 2
           }
          ]
         }
        },
        {
         "name": "alone",
         "dtype": "bool",
         "stats": {
          "unique_count": 2,
          "nan_count": 0,
          "categories": [
           {
            "name": "False",
            "count": 3
           },
           {
            "name": "True",
            "count": 2
           }
          ]
         }
        },
        {
         "name": "_deepnote_index_column",
         "dtype": "int64"
        }
       ],
       "rows": [
        {
         "survived": 0,
         "pclass": 3,
         "sex": "male",
         "age": 22,
         "sibsp": 1,
         "parch": 0,
         "fare": 7.25,
         "embarked": "S",
         "class": "Third",
         "who": "man",
         "adult_male": true,
         "deck": "nan",
         "embark_town": "Southampton",
         "alive": "no",
         "alone": false,
         "_deepnote_index_column": 0
        },
        {
         "survived": 1,
         "pclass": 1,
         "sex": "female",
         "age": 38,
         "sibsp": 1,
         "parch": 0,
         "fare": 71.2833,
         "embarked": "C",
         "class": "First",
         "who": "woman",
         "adult_male": false,
         "deck": "C",
         "embark_town": "Cherbourg",
         "alive": "yes",
         "alone": false,
         "_deepnote_index_column": 1
        },
        {
         "survived": 1,
         "pclass": 3,
         "sex": "female",
         "age": 26,
         "sibsp": 0,
         "parch": 0,
         "fare": 7.925,
         "embarked": "S",
         "class": "Third",
         "who": "woman",
         "adult_male": false,
         "deck": "nan",
         "embark_town": "Southampton",
         "alive": "yes",
         "alone": true,
         "_deepnote_index_column": 2
        },
        {
         "survived": 1,
         "pclass": 1,
         "sex": "female",
         "age": 35,
         "sibsp": 1,
         "parch": 0,
         "fare": 53.1,
         "embarked": "S",
         "class": "First",
         "who": "woman",
         "adult_male": false,
         "deck": "C",
         "embark_town": "Southampton",
         "alive": "yes",
         "alone": false,
         "_deepnote_index_column": 3
        },
        {
         "survived": 0,
         "pclass": 3,
         "sex": "male",
         "age": 35,
         "sibsp": 0,
         "parch": 0,
         "fare": 8.05,
         "embarked": "S",
         "class": "Third",
         "who": "man",
         "adult_male": true,
         "deck": "nan",
         "embark_town": "Southampton",
         "alive": "no",
         "alone": true,
         "_deepnote_index_column": 4
        }
       ]
      },
      "text/plain": "   survived  pclass     sex   age  sibsp  parch     fare embarked  class  \\\n0         0       3    male  22.0      1      0   7.2500        S  Third   \n1         1       1  female  38.0      1      0  71.2833        C  First   \n2         1       3  female  26.0      0      0   7.9250        S  Third   \n3         1       1  female  35.0      1      0  53.1000        S  First   \n4         0       3    male  35.0      0      0   8.0500        S  Third   \n\n     who  adult_male deck  embark_town alive  alone  \n0    man        True  NaN  Southampton    no  False  \n1  woman       False    C    Cherbourg   yes  False  \n2  woman       False  NaN  Southampton   yes   True  \n3  woman       False    C  Southampton   yes  False  \n4    man        True  NaN  Southampton    no   True  ",
      "text/html": "<div>\n<style scoped>\n    .dataframe tbody tr th:only-of-type {\n        vertical-align: middle;\n    }\n\n    .dataframe tbody tr th {\n        vertical-align: top;\n    }\n\n    .dataframe thead th {\n        text-align: right;\n    }\n</style>\n<table border=\"1\" class=\"dataframe\">\n  <thead>\n    <tr style=\"text-align: right;\">\n      <th></th>\n      <th>survived</th>\n      <th>pclass</th>\n      <th>sex</th>\n      <th>age</th>\n      <th>sibsp</th>\n      <th>parch</th>\n      <th>fare</th>\n      <th>embarked</th>\n      <th>class</th>\n      <th>who</th>\n      <th>adult_male</th>\n      <th>deck</th>\n      <th>embark_town</th>\n      <th>alive</th>\n      <th>alone</th>\n    </tr>\n  </thead>\n  <tbody>\n    <tr>\n      <th>0</th>\n      <td>0</td>\n      <td>3</td>\n      <td>male</td>\n      <td>22.0</td>\n      <td>1</td>\n      <td>0</td>\n      <td>7.2500</td>\n      <td>S</td>\n      <td>Third</td>\n      <td>man</td>\n      <td>True</td>\n      <td>NaN</td>\n      <td>Southampton</td>\n      <td>no</td>\n      <td>False</td>\n    </tr>\n    <tr>\n      <th>1</th>\n      <td>1</td>\n      <td>1</td>\n      <td>female</td>\n      <td>38.0</td>\n      <td>1</td>\n      <td>0</td>\n      <td>71.2833</td>\n      <td>C</td>\n      <td>First</td>\n      <td>woman</td>\n      <td>False</td>\n      <td>C</td>\n      <td>Cherbourg</td>\n      <td>yes</td>\n      <td>False</td>\n    </tr>\n    <tr>\n      <th>2</th>\n      <td>1</td>\n      <td>3</td>\n      <td>female</td>\n      <td>26.0</td>\n      <td>0</td>\n      <td>0</td>\n      <td>7.9250</td>\n      <td>S</td>\n      <td>Third</td>\n      <td>woman</td>\n      <td>False</td>\n      <td>NaN</td>\n      <td>Southampton</td>\n      <td>yes</td>\n      <td>True</td>\n    </tr>\n    <tr>\n      <th>3</th>\n      <td>1</td>\n      <td>1</td>\n      <td>female</td>\n      <td>35.0</td>\n      <td>1</td>\n      <td>0</td>\n      <td>53.1000</td>\n      <td>S</td>\n      <td>First</td>\n      <td>woman</td>\n      <td>False</td>\n      <td>C</td>\n      <td>Southampton</td>\n      <td>yes</td>\n      <td>False</td>\n    </tr>\n    <tr>\n      <th>4</th>\n      <td>0</td>\n      <td>3</td>\n      <td>male</td>\n      <td>35.0</td>\n      <td>0</td>\n      <td>0</td>\n      <td>8.0500</td>\n      <td>S</td>\n      <td>Third</td>\n      <td>man</td>\n      <td>True</td>\n      <td>NaN</td>\n      <td>Southampton</td>\n      <td>no</td>\n      <td>True</td>\n    </tr>\n  </tbody>\n</table>\n</div>"
     },
     "metadata": {}
    }
   ]
  },
  {
   "cell_type": "markdown",
   "source": "*   **Exemplo**: Idade por sobrevivência:",
   "metadata": {
    "id": "5GyDxSP5SLs5",
    "cell_id": "00023-73954904-5ed0-45f8-95cb-0dacde774af2",
    "deepnote_cell_type": "markdown"
   }
  },
  {
   "cell_type": "code",
   "metadata": {
    "id": "Bc2qLzm-SLs5",
    "cell_id": "00024-95ff11f3-899d-4e59-83fe-cf6f7d548199",
    "deepnote_to_be_reexecuted": false,
    "source_hash": "e6be6ef2",
    "execution_start": 1639699585094,
    "execution_millis": 965,
    "deepnote_output_heights": [
     280
    ],
    "deepnote_cell_type": "code"
   },
   "source": "titanic = data[[\"age\", \"survived\"]]\n\nwith sns.axes_style('whitegrid'):\n\n  grafico = sns.histplot(data=titanic, x=\"age\", hue=\"survived\", kde=True)\n  grafico.set(title='Idade por sobrevivência', xlabel='Idade', ylabel='Contagem');\n  grafico.get_legend().set_title(\"Sobreviveu?\");",
   "execution_count": null,
   "outputs": [
    {
     "data": {
      "text/plain": "<Figure size 432x288 with 1 Axes>",
      "image/png": "[encoded data removed]"
     },
     "metadata": {
      "image/png": {
       "width": 382,
       "height": 278
      }
     },
     "output_type": "display_data"
    }
   ]
  },
  {
   "cell_type": "markdown",
   "source": "*   **Exemplo**: Idade por sobrevivência por classe:",
   "metadata": {
    "id": "izf2ZeIvSyt2",
    "cell_id": "00025-ffc53cd5-3e31-4812-b7be-5bf765bf9057",
    "deepnote_cell_type": "markdown"
   }
  },
  {
   "cell_type": "code",
   "metadata": {
    "id": "M_PUKwPvSyt3",
    "cell_id": "00026-6f5313ca-dd48-4f7b-8ccf-b814ccdc4481",
    "deepnote_to_be_reexecuted": false,
    "source_hash": "22be69e0",
    "execution_start": 1639699586079,
    "execution_millis": 2304,
    "deepnote_output_heights": [
     210
    ],
    "deepnote_cell_type": "code"
   },
   "source": "titanic = data[[\"age\", \"survived\", \"class\"]]\n\nwith sns.axes_style('whitegrid'):\n  \n  grafico = sns.FacetGrid(data=titanic, col=\"class\",  hue=\"survived\")\n  grafico.map(sns.histplot, \"age\", kde=True)",
   "execution_count": null,
   "outputs": [
    {
     "data": {
      "text/plain": "<Figure size 648x216 with 3 Axes>",
      "image/png": "[encoded data removed]"
     },
     "metadata": {
      "image/png": {
       "width": 640,
       "height": 208
      }
     },
     "output_type": "display_data"
    }
   ]
  },
  {
   "cell_type": "markdown",
   "source": "### **1.3. Box Plot** ",
   "metadata": {
    "id": "W-dUX2dH4a4S",
    "cell_id": "00027-b92fba8f-9d1f-4558-9077-d6bbc3ac31da",
    "deepnote_cell_type": "markdown"
   }
  },
  {
   "cell_type": "markdown",
   "source": "O **Box Plot** representa um resumo da distribuição de uma variável numérica. Numa mesmo gráfico mostra a mediana, quartis e *outliers*. É um dos melhores gráficos para representar a distribuição de uma variável numérica.",
   "metadata": {
    "id": "b_oarVpnXOaO",
    "cell_id": "00028-92bac1e2-5151-4771-8233-613101db0e3a",
    "deepnote_cell_type": "markdown"
   }
  },
  {
   "cell_type": "markdown",
   "source": "> O método do pacote Seaborn que constrói este gráfico é o `boxplot` ([docs](https://seaborn.pydata.org/generated/seaborn.histplot.html#seaborn.histplot)). ",
   "metadata": {
    "id": "t-XsTXf2XOaf",
    "cell_id": "00029-e80855a4-1ebe-4425-9ae5-a84be3f81539",
    "deepnote_cell_type": "markdown"
   }
  },
  {
   "cell_type": "markdown",
   "source": "Algumas dicas:\n\n - O box plot esconde a distribuição dos grupos na variável, caso existam.",
   "metadata": {
    "id": "C1UGXkoAXOag",
    "cell_id": "00030-5c922c4f-3e61-450b-83ea-d6116efab8b1",
    "deepnote_cell_type": "markdown"
   }
  },
  {
   "cell_type": "markdown",
   "source": "Vamos utilizar a base de dados do **titanic**:",
   "metadata": {
    "id": "JF7uQ0lJXOag",
    "cell_id": "00031-5faad38a-16cd-4c10-8e47-e67c748a32e0",
    "deepnote_cell_type": "markdown"
   }
  },
  {
   "cell_type": "code",
   "metadata": {
    "id": "mmhWeMgkXOag",
    "cell_id": "00032-d6b872ca-4eb5-4b29-97af-6294476bcd7a",
    "deepnote_to_be_reexecuted": false,
    "source_hash": "c9d2f67b",
    "execution_start": 1639699588428,
    "execution_millis": 0,
    "deepnote_cell_type": "code"
   },
   "source": "import seaborn as sns",
   "execution_count": null,
   "outputs": []
  },
  {
   "cell_type": "code",
   "metadata": {
    "id": "Q0mMSKi3XOag",
    "cell_id": "00033-549cb7ec-6a1f-43d5-ab76-051b1c64deb6",
    "deepnote_to_be_reexecuted": false,
    "source_hash": "d9484471",
    "execution_start": 1639699588532,
    "execution_millis": 260,
    "deepnote_cell_type": "code"
   },
   "source": "data = sns.load_dataset(\"titanic\")\ndata.head()",
   "execution_count": null,
   "outputs": [
    {
     "output_type": "execute_result",
     "execution_count": 40,
     "data": {
      "application/vnd.deepnote.dataframe.v3+json": {
       "column_count": 15,
       "row_count": 5,
       "columns": [
        {
         "name": "survived",
         "dtype": "int64",
         "stats": {
          "unique_count": 2,
          "nan_count": 0,
          "min": "0",
          "max": "1",
          "histogram": [
           {
            "bin_start": 0,
            "bin_end": 0.1,
            "count": 2
           },
           {
            "bin_start": 0.1,
            "bin_end": 0.2,
            "count": 0
           },
           {
            "bin_start": 0.2,
            "bin_end": 0.30000000000000004,
            "count": 0
           },
           {
            "bin_start": 0.30000000000000004,
            "bin_end": 0.4,
            "count": 0
           },
           {
            "bin_start": 0.4,
            "bin_end": 0.5,
            "count": 0
           },
           {
            "bin_start": 0.5,
            "bin_end": 0.6000000000000001,
            "count": 0
           },
           {
            "bin_start": 0.6000000000000001,
            "bin_end": 0.7000000000000001,
            "count": 0
           },
           {
            "bin_start": 0.7000000000000001,
            "bin_end": 0.8,
            "count": 0
           },
           {
            "bin_start": 0.8,
            "bin_end": 0.9,
            "count": 0
           },
           {
            "bin_start": 0.9,
            "bin_end": 1,
            "count": 3
           }
          ]
         }
        },
        {
         "name": "pclass",
         "dtype": "int64",
         "stats": {
          "unique_count": 2,
          "nan_count": 0,
          "min": "1",
          "max": "3",
          "histogram": [
           {
            "bin_start": 1,
            "bin_end": 1.2,
            "count": 2
           },
           {
            "bin_start": 1.2,
            "bin_end": 1.4,
            "count": 0
           },
           {
            "bin_start": 1.4,
            "bin_end": 1.6,
            "count": 0
           },
           {
            "bin_start": 1.6,
            "bin_end": 1.8,
            "count": 0
           },
           {
            "bin_start": 1.8,
            "bin_end": 2,
            "count": 0
           },
           {
            "bin_start": 2,
            "bin_end": 2.2,
            "count": 0
           },
           {
            "bin_start": 2.2,
            "bin_end": 2.4000000000000004,
            "count": 0
           },
           {
            "bin_start": 2.4000000000000004,
            "bin_end": 2.6,
            "count": 0
           },
           {
            "bin_start": 2.6,
            "bin_end": 2.8,
            "count": 0
           },
           {
            "bin_start": 2.8,
            "bin_end": 3,
            "count": 3
           }
          ]
         }
        },
        {
         "name": "sex",
         "dtype": "object",
         "stats": {
          "unique_count": 2,
          "nan_count": 0,
          "categories": [
           {
            "name": "female",
            "count": 3
           },
           {
            "name": "male",
            "count": 2
           }
          ]
         }
        },
        {
         "name": "age",
         "dtype": "float64",
         "stats": {
          "unique_count": 4,
          "nan_count": 0,
          "min": "22.0",
          "max": "38.0",
          "histogram": [
           {
            "bin_start": 22,
            "bin_end": 23.6,
            "count": 1
           },
           {
            "bin_start": 23.6,
            "bin_end": 25.2,
            "count": 0
           },
           {
            "bin_start": 25.2,
            "bin_end": 26.8,
            "count": 1
           },
           {
            "bin_start": 26.8,
            "bin_end": 28.4,
            "count": 0
           },
           {
            "bin_start": 28.4,
            "bin_end": 30,
            "count": 0
           },
           {
            "bin_start": 30,
            "bin_end": 31.6,
            "count": 0
           },
           {
            "bin_start": 31.6,
            "bin_end": 33.2,
            "count": 0
           },
           {
            "bin_start": 33.2,
            "bin_end": 34.8,
            "count": 0
           },
           {
            "bin_start": 34.8,
            "bin_end": 36.4,
            "count": 2
           },
           {
            "bin_start": 36.4,
            "bin_end": 38,
            "count": 1
           }
          ]
         }
        },
        {
         "name": "sibsp",
         "dtype": "int64",
         "stats": {
          "unique_count": 2,
          "nan_count": 0,
          "min": "0",
          "max": "1",
          "histogram": [
           {
            "bin_start": 0,
            "bin_end": 0.1,
            "count": 2
           },
           {
            "bin_start": 0.1,
            "bin_end": 0.2,
            "count": 0
           },
           {
            "bin_start": 0.2,
            "bin_end": 0.30000000000000004,
            "count": 0
           },
           {
            "bin_start": 0.30000000000000004,
            "bin_end": 0.4,
            "count": 0
           },
           {
            "bin_start": 0.4,
            "bin_end": 0.5,
            "count": 0
           },
           {
            "bin_start": 0.5,
            "bin_end": 0.6000000000000001,
            "count": 0
           },
           {
            "bin_start": 0.6000000000000001,
            "bin_end": 0.7000000000000001,
            "count": 0
           },
           {
            "bin_start": 0.7000000000000001,
            "bin_end": 0.8,
            "count": 0
           },
           {
            "bin_start": 0.8,
            "bin_end": 0.9,
            "count": 0
           },
           {
            "bin_start": 0.9,
            "bin_end": 1,
            "count": 3
           }
          ]
         }
        },
        {
         "name": "parch",
         "dtype": "int64",
         "stats": {
          "unique_count": 1,
          "nan_count": 0,
          "min": "0",
          "max": "0",
          "histogram": [
           {
            "bin_start": -0.5,
            "bin_end": -0.4,
            "count": 0
           },
           {
            "bin_start": -0.4,
            "bin_end": -0.3,
            "count": 0
           },
           {
            "bin_start": -0.3,
            "bin_end": -0.19999999999999996,
            "count": 0
           },
           {
            "bin_start": -0.19999999999999996,
            "bin_end": -0.09999999999999998,
            "count": 0
           },
           {
            "bin_start": -0.09999999999999998,
            "bin_end": 0,
            "count": 0
           },
           {
            "bin_start": 0,
            "bin_end": 0.10000000000000009,
            "count": 5
           },
           {
            "bin_start": 0.10000000000000009,
            "bin_end": 0.20000000000000007,
            "count": 0
           },
           {
            "bin_start": 0.20000000000000007,
            "bin_end": 0.30000000000000004,
            "count": 0
           },
           {
            "bin_start": 0.30000000000000004,
            "bin_end": 0.4,
            "count": 0
           },
           {
            "bin_start": 0.4,
            "bin_end": 0.5,
            "count": 0
           }
          ]
         }
        },
        {
         "name": "fare",
         "dtype": "float64",
         "stats": {
          "unique_count": 5,
          "nan_count": 0,
          "min": "7.25",
          "max": "71.2833",
          "histogram": [
           {
            "bin_start": 7.25,
            "bin_end": 13.65333,
            "count": 3
           },
           {
            "bin_start": 13.65333,
            "bin_end": 20.05666,
            "count": 0
           },
           {
            "bin_start": 20.05666,
            "bin_end": 26.459989999999998,
            "count": 0
           },
           {
            "bin_start": 26.459989999999998,
            "bin_end": 32.86332,
            "count": 0
           },
           {
            "bin_start": 32.86332,
            "bin_end": 39.26665,
            "count": 0
           },
           {
            "bin_start": 39.26665,
            "bin_end": 45.669979999999995,
            "count": 0
           },
           {
            "bin_start": 45.669979999999995,
            "bin_end": 52.07331,
            "count": 0
           },
           {
            "bin_start": 52.07331,
            "bin_end": 58.476639999999996,
            "count": 1
           },
           {
            "bin_start": 58.476639999999996,
            "bin_end": 64.87996999999999,
            "count": 0
           },
           {
            "bin_start": 64.87996999999999,
            "bin_end": 71.2833,
            "count": 1
           }
          ]
         }
        },
        {
         "name": "embarked",
         "dtype": "object",
         "stats": {
          "unique_count": 2,
          "nan_count": 0,
          "categories": [
           {
            "name": "S",
            "count": 4
           },
           {
            "name": "C",
            "count": 1
           }
          ]
         }
        },
        {
         "name": "class",
         "dtype": "category",
         "stats": {
          "unique_count": 2,
          "nan_count": 0,
          "categories": [
           {
            "name": "Third",
            "count": 3
           },
           {
            "name": "First",
            "count": 2
           }
          ]
         }
        },
        {
         "name": "who",
         "dtype": "object",
         "stats": {
          "unique_count": 2,
          "nan_count": 0,
          "categories": [
           {
            "name": "woman",
            "count": 3
           },
           {
            "name": "man",
            "count": 2
           }
          ]
         }
        },
        {
         "name": "adult_male",
         "dtype": "bool",
         "stats": {
          "unique_count": 2,
          "nan_count": 0,
          "categories": [
           {
            "name": "False",
            "count": 3
           },
           {
            "name": "True",
            "count": 2
           }
          ]
         }
        },
        {
         "name": "deck",
         "dtype": "category",
         "stats": {
          "unique_count": 1,
          "nan_count": 3,
          "categories": [
           {
            "name": "C",
            "count": 2
           },
           {
            "name": "Missing",
            "count": 3
           }
          ]
         }
        },
        {
         "name": "embark_town",
         "dtype": "object",
         "stats": {
          "unique_count": 2,
          "nan_count": 0,
          "categories": [
           {
            "name": "Southampton",
            "count": 4
           },
           {
            "name": "Cherbourg",
            "count": 1
           }
          ]
         }
        },
        {
         "name": "alive",
         "dtype": "object",
         "stats": {
          "unique_count": 2,
          "nan_count": 0,
          "categories": [
           {
            "name": "yes",
            "count": 3
           },
           {
            "name": "no",
            "count": 2
           }
          ]
         }
        },
        {
         "name": "alone",
         "dtype": "bool",
         "stats": {
          "unique_count": 2,
          "nan_count": 0,
          "categories": [
           {
            "name": "False",
            "count": 3
           },
           {
            "name": "True",
            "count": 2
           }
          ]
         }
        },
        {
         "name": "_deepnote_index_column",
         "dtype": "int64"
        }
       ],
       "rows": [
        {
         "survived": 0,
         "pclass": 3,
         "sex": "male",
         "age": 22,
         "sibsp": 1,
         "parch": 0,
         "fare": 7.25,
         "embarked": "S",
         "class": "Third",
         "who": "man",
         "adult_male": true,
         "deck": "nan",
         "embark_town": "Southampton",
         "alive": "no",
         "alone": false,
         "_deepnote_index_column": 0
        },
        {
         "survived": 1,
         "pclass": 1,
         "sex": "female",
         "age": 38,
         "sibsp": 1,
         "parch": 0,
         "fare": 71.2833,
         "embarked": "C",
         "class": "First",
         "who": "woman",
         "adult_male": false,
         "deck": "C",
         "embark_town": "Cherbourg",
         "alive": "yes",
         "alone": false,
         "_deepnote_index_column": 1
        },
        {
         "survived": 1,
         "pclass": 3,
         "sex": "female",
         "age": 26,
         "sibsp": 0,
         "parch": 0,
         "fare": 7.925,
         "embarked": "S",
         "class": "Third",
         "who": "woman",
         "adult_male": false,
         "deck": "nan",
         "embark_town": "Southampton",
         "alive": "yes",
         "alone": true,
         "_deepnote_index_column": 2
        },
        {
         "survived": 1,
         "pclass": 1,
         "sex": "female",
         "age": 35,
         "sibsp": 1,
         "parch": 0,
         "fare": 53.1,
         "embarked": "S",
         "class": "First",
         "who": "woman",
         "adult_male": false,
         "deck": "C",
         "embark_town": "Southampton",
         "alive": "yes",
         "alone": false,
         "_deepnote_index_column": 3
        },
        {
         "survived": 0,
         "pclass": 3,
         "sex": "male",
         "age": 35,
         "sibsp": 0,
         "parch": 0,
         "fare": 8.05,
         "embarked": "S",
         "class": "Third",
         "who": "man",
         "adult_male": true,
         "deck": "nan",
         "embark_town": "Southampton",
         "alive": "no",
         "alone": true,
         "_deepnote_index_column": 4
        }
       ]
      },
      "text/plain": "   survived  pclass     sex   age  sibsp  parch     fare embarked  class  \\\n0         0       3    male  22.0      1      0   7.2500        S  Third   \n1         1       1  female  38.0      1      0  71.2833        C  First   \n2         1       3  female  26.0      0      0   7.9250        S  Third   \n3         1       1  female  35.0      1      0  53.1000        S  First   \n4         0       3    male  35.0      0      0   8.0500        S  Third   \n\n     who  adult_male deck  embark_town alive  alone  \n0    man        True  NaN  Southampton    no  False  \n1  woman       False    C    Cherbourg   yes  False  \n2  woman       False  NaN  Southampton   yes   True  \n3  woman       False    C  Southampton   yes  False  \n4    man        True  NaN  Southampton    no   True  ",
      "text/html": "<div>\n<style scoped>\n    .dataframe tbody tr th:only-of-type {\n        vertical-align: middle;\n    }\n\n    .dataframe tbody tr th {\n        vertical-align: top;\n    }\n\n    .dataframe thead th {\n        text-align: right;\n    }\n</style>\n<table border=\"1\" class=\"dataframe\">\n  <thead>\n    <tr style=\"text-align: right;\">\n      <th></th>\n      <th>survived</th>\n      <th>pclass</th>\n      <th>sex</th>\n      <th>age</th>\n      <th>sibsp</th>\n      <th>parch</th>\n      <th>fare</th>\n      <th>embarked</th>\n      <th>class</th>\n      <th>who</th>\n      <th>adult_male</th>\n      <th>deck</th>\n      <th>embark_town</th>\n      <th>alive</th>\n      <th>alone</th>\n    </tr>\n  </thead>\n  <tbody>\n    <tr>\n      <th>0</th>\n      <td>0</td>\n      <td>3</td>\n      <td>male</td>\n      <td>22.0</td>\n      <td>1</td>\n      <td>0</td>\n      <td>7.2500</td>\n      <td>S</td>\n      <td>Third</td>\n      <td>man</td>\n      <td>True</td>\n      <td>NaN</td>\n      <td>Southampton</td>\n      <td>no</td>\n      <td>False</td>\n    </tr>\n    <tr>\n      <th>1</th>\n      <td>1</td>\n      <td>1</td>\n      <td>female</td>\n      <td>38.0</td>\n      <td>1</td>\n      <td>0</td>\n      <td>71.2833</td>\n      <td>C</td>\n      <td>First</td>\n      <td>woman</td>\n      <td>False</td>\n      <td>C</td>\n      <td>Cherbourg</td>\n      <td>yes</td>\n      <td>False</td>\n    </tr>\n    <tr>\n      <th>2</th>\n      <td>1</td>\n      <td>3</td>\n      <td>female</td>\n      <td>26.0</td>\n      <td>0</td>\n      <td>0</td>\n      <td>7.9250</td>\n      <td>S</td>\n      <td>Third</td>\n      <td>woman</td>\n      <td>False</td>\n      <td>NaN</td>\n      <td>Southampton</td>\n      <td>yes</td>\n      <td>True</td>\n    </tr>\n    <tr>\n      <th>3</th>\n      <td>1</td>\n      <td>1</td>\n      <td>female</td>\n      <td>35.0</td>\n      <td>1</td>\n      <td>0</td>\n      <td>53.1000</td>\n      <td>S</td>\n      <td>First</td>\n      <td>woman</td>\n      <td>False</td>\n      <td>C</td>\n      <td>Southampton</td>\n      <td>yes</td>\n      <td>False</td>\n    </tr>\n    <tr>\n      <th>4</th>\n      <td>0</td>\n      <td>3</td>\n      <td>male</td>\n      <td>35.0</td>\n      <td>0</td>\n      <td>0</td>\n      <td>8.0500</td>\n      <td>S</td>\n      <td>Third</td>\n      <td>man</td>\n      <td>True</td>\n      <td>NaN</td>\n      <td>Southampton</td>\n      <td>no</td>\n      <td>True</td>\n    </tr>\n  </tbody>\n</table>\n</div>"
     },
     "metadata": {}
    }
   ]
  },
  {
   "cell_type": "markdown",
   "source": "*   **Exemplo**: Distribuição de idade:",
   "metadata": {
    "id": "kSf8Tll6XOag",
    "cell_id": "00034-844fa764-6de7-4302-8fc6-5c1c21644a90",
    "deepnote_cell_type": "markdown"
   }
  },
  {
   "cell_type": "code",
   "metadata": {
    "id": "VTYhiXjnXOah",
    "cell_id": "00035-58857785-c2de-42a5-8dfe-99ecd4ee6898",
    "deepnote_to_be_reexecuted": false,
    "source_hash": "abf6baba",
    "execution_start": 1639699588979,
    "execution_millis": 475,
    "deepnote_output_heights": [
     280
    ],
    "deepnote_cell_type": "code"
   },
   "source": "with sns.axes_style('whitegrid'):\n\n  grafico = sns.boxplot(x=data[\"age\"])\n  grafico.set(title='Distribuição de Idade', xlabel='Idade');",
   "execution_count": null,
   "outputs": [
    {
     "data": {
      "text/plain": "<Figure size 432x288 with 1 Axes>",
      "image/png": "[encoded data removed]"
     },
     "metadata": {
      "image/png": {
       "width": 349,
       "height": 278
      }
     },
     "output_type": "display_data"
    }
   ]
  },
  {
   "cell_type": "markdown",
   "source": "*   **Exemplo**: Distribuição de idade por classe:",
   "metadata": {
    "id": "KL_xmnh1ZsCO",
    "cell_id": "00036-897c3824-eaf3-4d46-923f-9585b9279cdd",
    "deepnote_cell_type": "markdown"
   }
  },
  {
   "cell_type": "code",
   "metadata": {
    "id": "ruh5Ld6oZsCm",
    "cell_id": "00037-4c08d1c4-c520-4c19-a572-38b5d726a5c5",
    "deepnote_to_be_reexecuted": false,
    "source_hash": "1dc96b85",
    "execution_start": 1639699589583,
    "execution_millis": 456,
    "deepnote_output_heights": [
     280
    ],
    "deepnote_cell_type": "code"
   },
   "source": "with sns.axes_style('whitegrid'):\n\n  grafico = sns.boxplot(x=data[\"age\"], y=data[\"class\"])\n  grafico.set(title=\"Distribuição de idade por classe\", xlabel=\"Idade\", ylabel=\"Classe\");",
   "execution_count": null,
   "outputs": [
    {
     "data": {
      "text/plain": "<Figure size 432x288 with 1 Axes>",
      "image/png": "[encoded data removed]"
     },
     "metadata": {
      "image/png": {
       "width": 406,
       "height": 278
      }
     },
     "output_type": "display_data"
    }
   ]
  },
  {
   "cell_type": "markdown",
   "source": "## 2\\. Correlação",
   "metadata": {
    "id": "ELgoMRAAUSjv",
    "cell_id": "00038-8186e9c5-1cf9-4ba0-a5ff-cff34e38d5ce",
    "deepnote_cell_type": "markdown"
   }
  },
  {
   "cell_type": "markdown",
   "source": "### **2.1. Gráfico de Dispersão** ",
   "metadata": {
    "id": "gdukZft-DRcG",
    "cell_id": "00039-74abf7a5-1a95-4327-8c47-624046b3b219",
    "deepnote_cell_type": "markdown"
   }
  },
  {
   "cell_type": "markdown",
   "source": "O **gráfico de dispersão** representa a correlação entre duas variáveis numéricas. Cada valor é representado um ponto P(`x`,`y`). É útil para observar a variação conjunta de duas variáveis.",
   "metadata": {
    "id": "KjHO4l8d0gTR",
    "cell_id": "00040-5728448c-1333-40b6-b4eb-cd6be0c050ca",
    "deepnote_cell_type": "markdown"
   }
  },
  {
   "cell_type": "markdown",
   "source": "> O método do pacote Seaborn que constrói este gráfico é o `scatterplot` ([docs](https://seaborn.pydata.org/generated/seaborn.scatterplot.html#seaborn.scatterplot)). ",
   "metadata": {
    "id": "V-B7geg40gTR",
    "cell_id": "00041-44dde107-0920-461b-8cf3-eaf2286e5359",
    "deepnote_cell_type": "markdown"
   }
  },
  {
   "cell_type": "markdown",
   "source": "Algumas dicas:\n\n - Evidêncie grupos (uma terceira variável categórica), se houverem.",
   "metadata": {
    "id": "kCW_9ckyEulW",
    "cell_id": "00042-ecac5a29-5b14-499b-a526-3e843de38b03",
    "deepnote_cell_type": "markdown"
   }
  },
  {
   "cell_type": "markdown",
   "source": "Vamos utilizar a base de dados **iris**:",
   "metadata": {
    "id": "CQFQkfWLFGfI",
    "cell_id": "00043-45161c1e-fda4-47f0-899b-c19d28cae4ed",
    "deepnote_cell_type": "markdown"
   }
  },
  {
   "cell_type": "code",
   "metadata": {
    "id": "ZztMZLRoFGfT",
    "cell_id": "00044-ca5c676b-9283-4899-9101-8ddd4bd24747",
    "deepnote_to_be_reexecuted": false,
    "source_hash": "c9d2f67b",
    "execution_start": 1639699590087,
    "execution_millis": 0,
    "deepnote_cell_type": "code"
   },
   "source": "import seaborn as sns",
   "execution_count": null,
   "outputs": []
  },
  {
   "cell_type": "code",
   "metadata": {
    "id": "7hEXjtu1FGfU",
    "cell_id": "00045-a9ab5ef8-5131-46a6-98e7-189613c0f1d1",
    "deepnote_to_be_reexecuted": false,
    "source_hash": "6bc7838",
    "execution_start": 1639699590132,
    "execution_millis": 112,
    "deepnote_cell_type": "code"
   },
   "source": "data = sns.load_dataset(\"iris\")\ndata.head()",
   "execution_count": null,
   "outputs": [
    {
     "output_type": "execute_result",
     "execution_count": 44,
     "data": {
      "application/vnd.deepnote.dataframe.v3+json": {
       "column_count": 5,
       "row_count": 5,
       "columns": [
        {
         "name": "sepal_length",
         "dtype": "float64",
         "stats": {
          "unique_count": 5,
          "nan_count": 0,
          "min": "4.6",
          "max": "5.1",
          "histogram": [
           {
            "bin_start": 4.6,
            "bin_end": 4.6499999999999995,
            "count": 1
           },
           {
            "bin_start": 4.6499999999999995,
            "bin_end": 4.699999999999999,
            "count": 0
           },
           {
            "bin_start": 4.699999999999999,
            "bin_end": 4.75,
            "count": 1
           },
           {
            "bin_start": 4.75,
            "bin_end": 4.8,
            "count": 0
           },
           {
            "bin_start": 4.8,
            "bin_end": 4.85,
            "count": 0
           },
           {
            "bin_start": 4.85,
            "bin_end": 4.8999999999999995,
            "count": 0
           },
           {
            "bin_start": 4.8999999999999995,
            "bin_end": 4.949999999999999,
            "count": 1
           },
           {
            "bin_start": 4.949999999999999,
            "bin_end": 5,
            "count": 0
           },
           {
            "bin_start": 5,
            "bin_end": 5.05,
            "count": 1
           },
           {
            "bin_start": 5.05,
            "bin_end": 5.1,
            "count": 1
           }
          ]
         }
        },
        {
         "name": "sepal_width",
         "dtype": "float64",
         "stats": {
          "unique_count": 5,
          "nan_count": 0,
          "min": "3.0",
          "max": "3.6",
          "histogram": [
           {
            "bin_start": 3,
            "bin_end": 3.06,
            "count": 1
           },
           {
            "bin_start": 3.06,
            "bin_end": 3.12,
            "count": 1
           },
           {
            "bin_start": 3.12,
            "bin_end": 3.18,
            "count": 0
           },
           {
            "bin_start": 3.18,
            "bin_end": 3.24,
            "count": 1
           },
           {
            "bin_start": 3.24,
            "bin_end": 3.3,
            "count": 0
           },
           {
            "bin_start": 3.3,
            "bin_end": 3.3600000000000003,
            "count": 0
           },
           {
            "bin_start": 3.3600000000000003,
            "bin_end": 3.42,
            "count": 0
           },
           {
            "bin_start": 3.42,
            "bin_end": 3.48,
            "count": 0
           },
           {
            "bin_start": 3.48,
            "bin_end": 3.54,
            "count": 1
           },
           {
            "bin_start": 3.54,
            "bin_end": 3.6,
            "count": 1
           }
          ]
         }
        },
        {
         "name": "petal_length",
         "dtype": "float64",
         "stats": {
          "unique_count": 3,
          "nan_count": 0,
          "min": "1.3",
          "max": "1.5",
          "histogram": [
           {
            "bin_start": 1.3,
            "bin_end": 1.32,
            "count": 1
           },
           {
            "bin_start": 1.32,
            "bin_end": 1.34,
            "count": 0
           },
           {
            "bin_start": 1.34,
            "bin_end": 1.36,
            "count": 0
           },
           {
            "bin_start": 1.36,
            "bin_end": 1.3800000000000001,
            "count": 0
           },
           {
            "bin_start": 1.3800000000000001,
            "bin_end": 1.4,
            "count": 0
           },
           {
            "bin_start": 1.4,
            "bin_end": 1.42,
            "count": 3
           },
           {
            "bin_start": 1.42,
            "bin_end": 1.44,
            "count": 0
           },
           {
            "bin_start": 1.44,
            "bin_end": 1.46,
            "count": 0
           },
           {
            "bin_start": 1.46,
            "bin_end": 1.48,
            "count": 0
           },
           {
            "bin_start": 1.48,
            "bin_end": 1.5,
            "count": 1
           }
          ]
         }
        },
        {
         "name": "petal_width",
         "dtype": "float64",
         "stats": {
          "unique_count": 1,
          "nan_count": 0,
          "min": "0.2",
          "max": "0.2",
          "histogram": [
           {
            "bin_start": -0.3,
            "bin_end": -0.19999999999999998,
            "count": 0
           },
           {
            "bin_start": -0.19999999999999998,
            "bin_end": -0.09999999999999998,
            "count": 0
           },
           {
            "bin_start": -0.09999999999999998,
            "bin_end": 5.551115123125783e-17,
            "count": 0
           },
           {
            "bin_start": 5.551115123125783e-17,
            "bin_end": 0.10000000000000003,
            "count": 0
           },
           {
            "bin_start": 0.10000000000000003,
            "bin_end": 0.2,
            "count": 0
           },
           {
            "bin_start": 0.2,
            "bin_end": 0.3000000000000001,
            "count": 5
           },
           {
            "bin_start": 0.3000000000000001,
            "bin_end": 0.4000000000000001,
            "count": 0
           },
           {
            "bin_start": 0.4000000000000001,
            "bin_end": 0.5,
            "count": 0
           },
           {
            "bin_start": 0.5,
            "bin_end": 0.6000000000000001,
            "count": 0
           },
           {
            "bin_start": 0.6000000000000001,
            "bin_end": 0.7,
            "count": 0
           }
          ]
         }
        },
        {
         "name": "species",
         "dtype": "object",
         "stats": {
          "unique_count": 1,
          "nan_count": 0,
          "categories": [
           {
            "name": "setosa",
            "count": 5
           }
          ]
         }
        },
        {
         "name": "_deepnote_index_column",
         "dtype": "int64"
        }
       ],
       "rows": [
        {
         "sepal_length": 5.1,
         "sepal_width": 3.5,
         "petal_length": 1.4,
         "petal_width": 0.2,
         "species": "setosa",
         "_deepnote_index_column": 0
        },
        {
         "sepal_length": 4.9,
         "sepal_width": 3,
         "petal_length": 1.4,
         "petal_width": 0.2,
         "species": "setosa",
         "_deepnote_index_column": 1
        },
        {
         "sepal_length": 4.7,
         "sepal_width": 3.2,
         "petal_length": 1.3,
         "petal_width": 0.2,
         "species": "setosa",
         "_deepnote_index_column": 2
        },
        {
         "sepal_length": 4.6,
         "sepal_width": 3.1,
         "petal_length": 1.5,
         "petal_width": 0.2,
         "species": "setosa",
         "_deepnote_index_column": 3
        },
        {
         "sepal_length": 5,
         "sepal_width": 3.6,
         "petal_length": 1.4,
         "petal_width": 0.2,
         "species": "setosa",
         "_deepnote_index_column": 4
        }
       ]
      },
      "text/plain": "   sepal_length  sepal_width  petal_length  petal_width species\n0           5.1          3.5           1.4          0.2  setosa\n1           4.9          3.0           1.4          0.2  setosa\n2           4.7          3.2           1.3          0.2  setosa\n3           4.6          3.1           1.5          0.2  setosa\n4           5.0          3.6           1.4          0.2  setosa",
      "text/html": "<div>\n<style scoped>\n    .dataframe tbody tr th:only-of-type {\n        vertical-align: middle;\n    }\n\n    .dataframe tbody tr th {\n        vertical-align: top;\n    }\n\n    .dataframe thead th {\n        text-align: right;\n    }\n</style>\n<table border=\"1\" class=\"dataframe\">\n  <thead>\n    <tr style=\"text-align: right;\">\n      <th></th>\n      <th>sepal_length</th>\n      <th>sepal_width</th>\n      <th>petal_length</th>\n      <th>petal_width</th>\n      <th>species</th>\n    </tr>\n  </thead>\n  <tbody>\n    <tr>\n      <th>0</th>\n      <td>5.1</td>\n      <td>3.5</td>\n      <td>1.4</td>\n      <td>0.2</td>\n      <td>setosa</td>\n    </tr>\n    <tr>\n      <th>1</th>\n      <td>4.9</td>\n      <td>3.0</td>\n      <td>1.4</td>\n      <td>0.2</td>\n      <td>setosa</td>\n    </tr>\n    <tr>\n      <th>2</th>\n      <td>4.7</td>\n      <td>3.2</td>\n      <td>1.3</td>\n      <td>0.2</td>\n      <td>setosa</td>\n    </tr>\n    <tr>\n      <th>3</th>\n      <td>4.6</td>\n      <td>3.1</td>\n      <td>1.5</td>\n      <td>0.2</td>\n      <td>setosa</td>\n    </tr>\n    <tr>\n      <th>4</th>\n      <td>5.0</td>\n      <td>3.6</td>\n      <td>1.4</td>\n      <td>0.2</td>\n      <td>setosa</td>\n    </tr>\n  </tbody>\n</table>\n</div>"
     },
     "metadata": {}
    }
   ]
  },
  {
   "cell_type": "markdown",
   "source": "*   **Exemplo**: Comprimento da pétala por comprimento da sépala:",
   "metadata": {
    "id": "TDogP9Xp0gTR",
    "cell_id": "00046-42d0b6ae-68fc-484c-97ac-128bb3232f1e",
    "deepnote_cell_type": "markdown"
   }
  },
  {
   "cell_type": "code",
   "metadata": {
    "id": "BR-m0_dWFr-p",
    "cell_id": "00047-bb37e75a-7258-45ad-8d86-773b911b587d",
    "deepnote_to_be_reexecuted": false,
    "source_hash": "d9a01125",
    "execution_start": 1639699590307,
    "execution_millis": 90,
    "deepnote_cell_type": "code"
   },
   "source": "iris = data[[\"sepal_length\", \"petal_length\", \"species\"]]\niris.head()",
   "execution_count": null,
   "outputs": [
    {
     "output_type": "execute_result",
     "execution_count": 45,
     "data": {
      "application/vnd.deepnote.dataframe.v3+json": {
       "column_count": 3,
       "row_count": 5,
       "columns": [
        {
         "name": "sepal_length",
         "dtype": "float64",
         "stats": {
          "unique_count": 5,
          "nan_count": 0,
          "min": "4.6",
          "max": "5.1",
          "histogram": [
           {
            "bin_start": 4.6,
            "bin_end": 4.6499999999999995,
            "count": 1
           },
           {
            "bin_start": 4.6499999999999995,
            "bin_end": 4.699999999999999,
            "count": 0
           },
           {
            "bin_start": 4.699999999999999,
            "bin_end": 4.75,
            "count": 1
           },
           {
            "bin_start": 4.75,
            "bin_end": 4.8,
            "count": 0
           },
           {
            "bin_start": 4.8,
            "bin_end": 4.85,
            "count": 0
           },
           {
            "bin_start": 4.85,
            "bin_end": 4.8999999999999995,
            "count": 0
           },
           {
            "bin_start": 4.8999999999999995,
            "bin_end": 4.949999999999999,
            "count": 1
           },
           {
            "bin_start": 4.949999999999999,
            "bin_end": 5,
            "count": 0
           },
           {
            "bin_start": 5,
            "bin_end": 5.05,
            "count": 1
           },
           {
            "bin_start": 5.05,
            "bin_end": 5.1,
            "count": 1
           }
          ]
         }
        },
        {
         "name": "petal_length",
         "dtype": "float64",
         "stats": {
          "unique_count": 3,
          "nan_count": 0,
          "min": "1.3",
          "max": "1.5",
          "histogram": [
           {
            "bin_start": 1.3,
            "bin_end": 1.32,
            "count": 1
           },
           {
            "bin_start": 1.32,
            "bin_end": 1.34,
            "count": 0
           },
           {
            "bin_start": 1.34,
            "bin_end": 1.36,
            "count": 0
           },
           {
            "bin_start": 1.36,
            "bin_end": 1.3800000000000001,
            "count": 0
           },
           {
            "bin_start": 1.3800000000000001,
            "bin_end": 1.4,
            "count": 0
           },
           {
            "bin_start": 1.4,
            "bin_end": 1.42,
            "count": 3
           },
           {
            "bin_start": 1.42,
            "bin_end": 1.44,
            "count": 0
           },
           {
            "bin_start": 1.44,
            "bin_end": 1.46,
            "count": 0
           },
           {
            "bin_start": 1.46,
            "bin_end": 1.48,
            "count": 0
           },
           {
            "bin_start": 1.48,
            "bin_end": 1.5,
            "count": 1
           }
          ]
         }
        },
        {
         "name": "species",
         "dtype": "object",
         "stats": {
          "unique_count": 1,
          "nan_count": 0,
          "categories": [
           {
            "name": "setosa",
            "count": 5
           }
          ]
         }
        },
        {
         "name": "_deepnote_index_column",
         "dtype": "int64"
        }
       ],
       "rows": [
        {
         "sepal_length": 5.1,
         "petal_length": 1.4,
         "species": "setosa",
         "_deepnote_index_column": 0
        },
        {
         "sepal_length": 4.9,
         "petal_length": 1.4,
         "species": "setosa",
         "_deepnote_index_column": 1
        },
        {
         "sepal_length": 4.7,
         "petal_length": 1.3,
         "species": "setosa",
         "_deepnote_index_column": 2
        },
        {
         "sepal_length": 4.6,
         "petal_length": 1.5,
         "species": "setosa",
         "_deepnote_index_column": 3
        },
        {
         "sepal_length": 5,
         "petal_length": 1.4,
         "species": "setosa",
         "_deepnote_index_column": 4
        }
       ]
      },
      "text/plain": "   sepal_length  petal_length species\n0           5.1           1.4  setosa\n1           4.9           1.4  setosa\n2           4.7           1.3  setosa\n3           4.6           1.5  setosa\n4           5.0           1.4  setosa",
      "text/html": "<div>\n<style scoped>\n    .dataframe tbody tr th:only-of-type {\n        vertical-align: middle;\n    }\n\n    .dataframe tbody tr th {\n        vertical-align: top;\n    }\n\n    .dataframe thead th {\n        text-align: right;\n    }\n</style>\n<table border=\"1\" class=\"dataframe\">\n  <thead>\n    <tr style=\"text-align: right;\">\n      <th></th>\n      <th>sepal_length</th>\n      <th>petal_length</th>\n      <th>species</th>\n    </tr>\n  </thead>\n  <tbody>\n    <tr>\n      <th>0</th>\n      <td>5.1</td>\n      <td>1.4</td>\n      <td>setosa</td>\n    </tr>\n    <tr>\n      <th>1</th>\n      <td>4.9</td>\n      <td>1.4</td>\n      <td>setosa</td>\n    </tr>\n    <tr>\n      <th>2</th>\n      <td>4.7</td>\n      <td>1.3</td>\n      <td>setosa</td>\n    </tr>\n    <tr>\n      <th>3</th>\n      <td>4.6</td>\n      <td>1.5</td>\n      <td>setosa</td>\n    </tr>\n    <tr>\n      <th>4</th>\n      <td>5.0</td>\n      <td>1.4</td>\n      <td>setosa</td>\n    </tr>\n  </tbody>\n</table>\n</div>"
     },
     "metadata": {}
    }
   ]
  },
  {
   "cell_type": "code",
   "metadata": {
    "id": "o7Y0fHoT0gTR",
    "cell_id": "00048-ce697e26-e490-4ceb-867b-49e922ae0123",
    "deepnote_to_be_reexecuted": false,
    "source_hash": "87d78db4",
    "execution_start": 1639699590415,
    "execution_millis": 948,
    "deepnote_output_heights": [
     280
    ],
    "deepnote_cell_type": "code"
   },
   "source": "with sns.axes_style('whitegrid'):\n\n  grafico = sns.scatterplot(data=iris, x=\"petal_length\", y=\"sepal_length\", hue=\"species\", palette=\"pastel\")\n  grafico.set(title='Comprimento da pétala por comprimento da sépala', xlabel='Pétala (cm)', ylabel='Sépala (cm)');\n  grafico.get_legend().set_title(\"Espécie\");",
   "execution_count": null,
   "outputs": [
    {
     "data": {
      "text/plain": "<Figure size 432x288 with 1 Axes>",
      "image/png": "[encoded data removed]"
     },
     "metadata": {
      "image/png": {
       "width": 386,
       "height": 278
      }
     },
     "output_type": "display_data"
    }
   ]
  },
  {
   "cell_type": "markdown",
   "source": "*   **Exemplo**: Largura da pétala por largura da sépala:",
   "metadata": {
    "id": "FbV0H0I7HwgT",
    "cell_id": "00049-35ac837e-6b0c-4953-8467-71866e4f1ca0",
    "deepnote_cell_type": "markdown"
   }
  },
  {
   "cell_type": "code",
   "metadata": {
    "id": "YY7EhHW9HUnL",
    "cell_id": "00050-3e3d3b7c-ba22-4d3c-8330-4bcb06f9debf",
    "deepnote_to_be_reexecuted": false,
    "source_hash": "42c477af",
    "execution_start": 1639699591431,
    "execution_millis": 397,
    "deepnote_cell_type": "code"
   },
   "source": "iris = data[[\"petal_width\", \"sepal_width\", \"species\"]]\niris.head()",
   "execution_count": null,
   "outputs": [
    {
     "output_type": "execute_result",
     "execution_count": 47,
     "data": {
      "application/vnd.deepnote.dataframe.v3+json": {
       "column_count": 3,
       "row_count": 5,
       "columns": [
        {
         "name": "petal_width",
         "dtype": "float64",
         "stats": {
          "unique_count": 1,
          "nan_count": 0,
          "min": "0.2",
          "max": "0.2",
          "histogram": [
           {
            "bin_start": -0.3,
            "bin_end": -0.19999999999999998,
            "count": 0
           },
           {
            "bin_start": -0.19999999999999998,
            "bin_end": -0.09999999999999998,
            "count": 0
           },
           {
            "bin_start": -0.09999999999999998,
            "bin_end": 5.551115123125783e-17,
            "count": 0
           },
           {
            "bin_start": 5.551115123125783e-17,
            "bin_end": 0.10000000000000003,
            "count": 0
           },
           {
            "bin_start": 0.10000000000000003,
            "bin_end": 0.2,
            "count": 0
           },
           {
            "bin_start": 0.2,
            "bin_end": 0.3000000000000001,
            "count": 5
           },
           {
            "bin_start": 0.3000000000000001,
            "bin_end": 0.4000000000000001,
            "count": 0
           },
           {
            "bin_start": 0.4000000000000001,
            "bin_end": 0.5,
            "count": 0
           },
           {
            "bin_start": 0.5,
            "bin_end": 0.6000000000000001,
            "count": 0
           },
           {
            "bin_start": 0.6000000000000001,
            "bin_end": 0.7,
            "count": 0
           }
          ]
         }
        },
        {
         "name": "sepal_width",
         "dtype": "float64",
         "stats": {
          "unique_count": 5,
          "nan_count": 0,
          "min": "3.0",
          "max": "3.6",
          "histogram": [
           {
            "bin_start": 3,
            "bin_end": 3.06,
            "count": 1
           },
           {
            "bin_start": 3.06,
            "bin_end": 3.12,
            "count": 1
           },
           {
            "bin_start": 3.12,
            "bin_end": 3.18,
            "count": 0
           },
           {
            "bin_start": 3.18,
            "bin_end": 3.24,
            "count": 1
           },
           {
            "bin_start": 3.24,
            "bin_end": 3.3,
            "count": 0
           },
           {
            "bin_start": 3.3,
            "bin_end": 3.3600000000000003,
            "count": 0
           },
           {
            "bin_start": 3.3600000000000003,
            "bin_end": 3.42,
            "count": 0
           },
           {
            "bin_start": 3.42,
            "bin_end": 3.48,
            "count": 0
           },
           {
            "bin_start": 3.48,
            "bin_end": 3.54,
            "count": 1
           },
           {
            "bin_start": 3.54,
            "bin_end": 3.6,
            "count": 1
           }
          ]
         }
        },
        {
         "name": "species",
         "dtype": "object",
         "stats": {
          "unique_count": 1,
          "nan_count": 0,
          "categories": [
           {
            "name": "setosa",
            "count": 5
           }
          ]
         }
        },
        {
         "name": "_deepnote_index_column",
         "dtype": "int64"
        }
       ],
       "rows": [
        {
         "petal_width": 0.2,
         "sepal_width": 3.5,
         "species": "setosa",
         "_deepnote_index_column": 0
        },
        {
         "petal_width": 0.2,
         "sepal_width": 3,
         "species": "setosa",
         "_deepnote_index_column": 1
        },
        {
         "petal_width": 0.2,
         "sepal_width": 3.2,
         "species": "setosa",
         "_deepnote_index_column": 2
        },
        {
         "petal_width": 0.2,
         "sepal_width": 3.1,
         "species": "setosa",
         "_deepnote_index_column": 3
        },
        {
         "petal_width": 0.2,
         "sepal_width": 3.6,
         "species": "setosa",
         "_deepnote_index_column": 4
        }
       ]
      },
      "text/plain": "   petal_width  sepal_width species\n0          0.2          3.5  setosa\n1          0.2          3.0  setosa\n2          0.2          3.2  setosa\n3          0.2          3.1  setosa\n4          0.2          3.6  setosa",
      "text/html": "<div>\n<style scoped>\n    .dataframe tbody tr th:only-of-type {\n        vertical-align: middle;\n    }\n\n    .dataframe tbody tr th {\n        vertical-align: top;\n    }\n\n    .dataframe thead th {\n        text-align: right;\n    }\n</style>\n<table border=\"1\" class=\"dataframe\">\n  <thead>\n    <tr style=\"text-align: right;\">\n      <th></th>\n      <th>petal_width</th>\n      <th>sepal_width</th>\n      <th>species</th>\n    </tr>\n  </thead>\n  <tbody>\n    <tr>\n      <th>0</th>\n      <td>0.2</td>\n      <td>3.5</td>\n      <td>setosa</td>\n    </tr>\n    <tr>\n      <th>1</th>\n      <td>0.2</td>\n      <td>3.0</td>\n      <td>setosa</td>\n    </tr>\n    <tr>\n      <th>2</th>\n      <td>0.2</td>\n      <td>3.2</td>\n      <td>setosa</td>\n    </tr>\n    <tr>\n      <th>3</th>\n      <td>0.2</td>\n      <td>3.1</td>\n      <td>setosa</td>\n    </tr>\n    <tr>\n      <th>4</th>\n      <td>0.2</td>\n      <td>3.6</td>\n      <td>setosa</td>\n    </tr>\n  </tbody>\n</table>\n</div>"
     },
     "metadata": {}
    }
   ]
  },
  {
   "cell_type": "code",
   "metadata": {
    "id": "hVLpnOUk0gTR",
    "cell_id": "00051-fa997fc0-d182-4446-99b5-ba0e7f7bc580",
    "deepnote_to_be_reexecuted": false,
    "source_hash": "8c963063",
    "execution_start": 1639699591595,
    "execution_millis": 813,
    "deepnote_output_heights": [
     280
    ],
    "deepnote_cell_type": "code"
   },
   "source": "with sns.axes_style('whitegrid'):\n\n  grafico = sns.scatterplot(data=iris, x=\"petal_width\", y=\"sepal_width\", hue=\"species\", palette=\"pastel\")\n  grafico.set(title='Largura da pétala por largura da sépala', xlabel='Pétala (cm)', ylabel='Sépala (cm)');\n  grafico.get_legend().set_title(\"Espécie\");",
   "execution_count": null,
   "outputs": [
    {
     "data": {
      "text/plain": "<Figure size 432x288 with 1 Axes>",
      "image/png": "[encoded data removed]"
     },
     "metadata": {
      "image/png": {
       "width": 386,
       "height": 278
      }
     },
     "output_type": "display_data"
    }
   ]
  },
  {
   "cell_type": "markdown",
   "source": "### **2.2. Mapa de Calor** ",
   "metadata": {
    "id": "j611vH5T17VR",
    "cell_id": "00052-70802aa7-b9e3-4d3d-b8df-81fae09ac001",
    "deepnote_cell_type": "markdown"
   }
  },
  {
   "cell_type": "markdown",
   "source": "O **mapa de calor** representação a correlação entre três variáveis, essencialmente uma representação 2D de um gráfico 3D. Cada valor é representado por um ponto com três coordenadas: `x` e `y` indicam a sua posição e o `z` (necessariamente numérica) a sua intensidade. É útil para observar a distribuição geral dos dados.",
   "metadata": {
    "id": "P6yJWMeFogS5",
    "cell_id": "00053-33f37b1e-e36c-4ff5-bbbb-93836ffe07b5",
    "deepnote_cell_type": "markdown"
   }
  },
  {
   "cell_type": "markdown",
   "source": "> O método do pacote Seaborn que constrói este gráfico é o `heatmap` ([doc](https://seaborn.pydata.org/generated/seaborn.heatmap.html)). ",
   "metadata": {
    "id": "kYFRPWLtogS6",
    "cell_id": "00054-7560a9c7-f64b-41e2-bb91-65d22d576564",
    "deepnote_cell_type": "markdown"
   }
  },
  {
   "cell_type": "markdown",
   "source": "Algumas dicas:\n\n - A paleta de cores é muito importante.",
   "metadata": {
    "id": "K4wTyQWECH7q",
    "cell_id": "00055-f99b28d0-8d30-4f59-ad04-bbd315a1e356",
    "deepnote_cell_type": "markdown"
   }
  },
  {
   "cell_type": "markdown",
   "source": "Vamos utilizar a base de dados de **vôos**:",
   "metadata": {
    "id": "wwlSxwXmBhPU",
    "cell_id": "00056-3daf858f-7b58-4aaa-ae5e-68d88bee2321",
    "deepnote_cell_type": "markdown"
   }
  },
  {
   "cell_type": "code",
   "metadata": {
    "id": "qstmOzjA7WfX",
    "cell_id": "00057-e287b028-a829-4c2c-8b37-bdeb8f69d667",
    "deepnote_to_be_reexecuted": false,
    "source_hash": "c9d2f67b",
    "execution_start": 1639699592459,
    "execution_millis": 0,
    "deepnote_cell_type": "code"
   },
   "source": "import seaborn as sns",
   "execution_count": null,
   "outputs": []
  },
  {
   "cell_type": "code",
   "metadata": {
    "id": "D9A9ofWV7mjw",
    "cell_id": "00058-42bedb61-ebd1-44cf-a6a8-a8722df1e26d",
    "deepnote_to_be_reexecuted": false,
    "source_hash": "ba2b0c6c",
    "execution_start": 1639699592504,
    "execution_millis": 133,
    "deepnote_cell_type": "code"
   },
   "source": "data = sns.load_dataset(\"flights\")\ndata.head()",
   "execution_count": null,
   "outputs": [
    {
     "output_type": "execute_result",
     "execution_count": 50,
     "data": {
      "application/vnd.deepnote.dataframe.v3+json": {
       "column_count": 3,
       "row_count": 5,
       "columns": [
        {
         "name": "year",
         "dtype": "int64",
         "stats": {
          "unique_count": 1,
          "nan_count": 0,
          "min": "1949",
          "max": "1949",
          "histogram": [
           {
            "bin_start": 1948.5,
            "bin_end": 1948.6,
            "count": 0
           },
           {
            "bin_start": 1948.6,
            "bin_end": 1948.7,
            "count": 0
           },
           {
            "bin_start": 1948.7,
            "bin_end": 1948.8,
            "count": 0
           },
           {
            "bin_start": 1948.8,
            "bin_end": 1948.9,
            "count": 0
           },
           {
            "bin_start": 1948.9,
            "bin_end": 1949,
            "count": 0
           },
           {
            "bin_start": 1949,
            "bin_end": 1949.1,
            "count": 5
           },
           {
            "bin_start": 1949.1,
            "bin_end": 1949.2,
            "count": 0
           },
           {
            "bin_start": 1949.2,
            "bin_end": 1949.3,
            "count": 0
           },
           {
            "bin_start": 1949.3,
            "bin_end": 1949.4,
            "count": 0
           },
           {
            "bin_start": 1949.4,
            "bin_end": 1949.5,
            "count": 0
           }
          ]
         }
        },
        {
         "name": "month",
         "dtype": "category",
         "stats": {
          "unique_count": 5,
          "nan_count": 0,
          "categories": [
           {
            "name": "Jan",
            "count": 1
           },
           {
            "name": "Feb",
            "count": 1
           },
           {
            "name": "3 others",
            "count": 3
           }
          ]
         }
        },
        {
         "name": "passengers",
         "dtype": "int64",
         "stats": {
          "unique_count": 5,
          "nan_count": 0,
          "min": "112",
          "max": "132",
          "histogram": [
           {
            "bin_start": 112,
            "bin_end": 114,
            "count": 1
           },
           {
            "bin_start": 114,
            "bin_end": 116,
            "count": 0
           },
           {
            "bin_start": 116,
            "bin_end": 118,
            "count": 0
           },
           {
            "bin_start": 118,
            "bin_end": 120,
            "count": 1
           },
           {
            "bin_start": 120,
            "bin_end": 122,
            "count": 1
           },
           {
            "bin_start": 122,
            "bin_end": 124,
            "count": 0
           },
           {
            "bin_start": 124,
            "bin_end": 126,
            "count": 0
           },
           {
            "bin_start": 126,
            "bin_end": 128,
            "count": 0
           },
           {
            "bin_start": 128,
            "bin_end": 130,
            "count": 1
           },
           {
            "bin_start": 130,
            "bin_end": 132,
            "count": 1
           }
          ]
         }
        },
        {
         "name": "_deepnote_index_column",
         "dtype": "int64"
        }
       ],
       "rows": [
        {
         "year": 1949,
         "month": "Jan",
         "passengers": 112,
         "_deepnote_index_column": 0
        },
        {
         "year": 1949,
         "month": "Feb",
         "passengers": 118,
         "_deepnote_index_column": 1
        },
        {
         "year": 1949,
         "month": "Mar",
         "passengers": 132,
         "_deepnote_index_column": 2
        },
        {
         "year": 1949,
         "month": "Apr",
         "passengers": 129,
         "_deepnote_index_column": 3
        },
        {
         "year": 1949,
         "month": "May",
         "passengers": 121,
         "_deepnote_index_column": 4
        }
       ]
      },
      "text/plain": "   year month  passengers\n0  1949   Jan         112\n1  1949   Feb         118\n2  1949   Mar         132\n3  1949   Apr         129\n4  1949   May         121",
      "text/html": "<div>\n<style scoped>\n    .dataframe tbody tr th:only-of-type {\n        vertical-align: middle;\n    }\n\n    .dataframe tbody tr th {\n        vertical-align: top;\n    }\n\n    .dataframe thead th {\n        text-align: right;\n    }\n</style>\n<table border=\"1\" class=\"dataframe\">\n  <thead>\n    <tr style=\"text-align: right;\">\n      <th></th>\n      <th>year</th>\n      <th>month</th>\n      <th>passengers</th>\n    </tr>\n  </thead>\n  <tbody>\n    <tr>\n      <th>0</th>\n      <td>1949</td>\n      <td>Jan</td>\n      <td>112</td>\n    </tr>\n    <tr>\n      <th>1</th>\n      <td>1949</td>\n      <td>Feb</td>\n      <td>118</td>\n    </tr>\n    <tr>\n      <th>2</th>\n      <td>1949</td>\n      <td>Mar</td>\n      <td>132</td>\n    </tr>\n    <tr>\n      <th>3</th>\n      <td>1949</td>\n      <td>Apr</td>\n      <td>129</td>\n    </tr>\n    <tr>\n      <th>4</th>\n      <td>1949</td>\n      <td>May</td>\n      <td>121</td>\n    </tr>\n  </tbody>\n</table>\n</div>"
     },
     "metadata": {}
    }
   ]
  },
  {
   "cell_type": "markdown",
   "source": "*   **Exemplo**: Distribuição de passageiros por mês por ano:",
   "metadata": {
    "id": "gyIglrnsogS7",
    "cell_id": "00059-33127d7d-3bcf-4682-9efe-fec79a5d357e",
    "deepnote_cell_type": "markdown"
   }
  },
  {
   "cell_type": "code",
   "metadata": {
    "id": "OXrLpkyq8D3B",
    "cell_id": "00060-db7d46cf-2274-434b-8bb1-9f4a94766a52",
    "deepnote_to_be_reexecuted": false,
    "source_hash": "5f56125f",
    "execution_start": 1639699603938,
    "execution_millis": 217,
    "deepnote_cell_type": "code"
   },
   "source": "flights = data.pivot(\"month\", \"year\", \"passengers\")\nflights.head()",
   "execution_count": null,
   "outputs": [
    {
     "output_type": "execute_result",
     "execution_count": 51,
     "data": {
      "application/vnd.deepnote.dataframe.v3+json": {
       "column_count": 12,
       "row_count": 5,
       "columns": [
        {
         "name": 1949,
         "dtype": "int64",
         "stats": {
          "unique_count": 5,
          "nan_count": 0,
          "min": "112",
          "max": "132",
          "histogram": [
           {
            "bin_start": 112,
            "bin_end": 114,
            "count": 1
           },
           {
            "bin_start": 114,
            "bin_end": 116,
            "count": 0
           },
           {
            "bin_start": 116,
            "bin_end": 118,
            "count": 0
           },
           {
            "bin_start": 118,
            "bin_end": 120,
            "count": 1
           },
           {
            "bin_start": 120,
            "bin_end": 122,
            "count": 1
           },
           {
            "bin_start": 122,
            "bin_end": 124,
            "count": 0
           },
           {
            "bin_start": 124,
            "bin_end": 126,
            "count": 0
           },
           {
            "bin_start": 126,
            "bin_end": 128,
            "count": 0
           },
           {
            "bin_start": 128,
            "bin_end": 130,
            "count": 1
           },
           {
            "bin_start": 130,
            "bin_end": 132,
            "count": 1
           }
          ]
         }
        },
        {
         "name": 1950,
         "dtype": "int64",
         "stats": {
          "unique_count": 5,
          "nan_count": 0,
          "min": "115",
          "max": "141",
          "histogram": [
           {
            "bin_start": 115,
            "bin_end": 117.6,
            "count": 1
           },
           {
            "bin_start": 117.6,
            "bin_end": 120.2,
            "count": 0
           },
           {
            "bin_start": 120.2,
            "bin_end": 122.8,
            "count": 0
           },
           {
            "bin_start": 122.8,
            "bin_end": 125.4,
            "count": 1
           },
           {
            "bin_start": 125.4,
            "bin_end": 128,
            "count": 1
           },
           {
            "bin_start": 128,
            "bin_end": 130.6,
            "count": 0
           },
           {
            "bin_start": 130.6,
            "bin_end": 133.2,
            "count": 0
           },
           {
            "bin_start": 133.2,
            "bin_end": 135.8,
            "count": 1
           },
           {
            "bin_start": 135.8,
            "bin_end": 138.4,
            "count": 0
           },
           {
            "bin_start": 138.4,
            "bin_end": 141,
            "count": 1
           }
          ]
         }
        },
        {
         "name": 1951,
         "dtype": "int64",
         "stats": {
          "unique_count": 5,
          "nan_count": 0,
          "min": "145",
          "max": "178",
          "histogram": [
           {
            "bin_start": 145,
            "bin_end": 148.3,
            "count": 1
           },
           {
            "bin_start": 148.3,
            "bin_end": 151.6,
            "count": 1
           },
           {
            "bin_start": 151.6,
            "bin_end": 154.9,
            "count": 0
           },
           {
            "bin_start": 154.9,
            "bin_end": 158.2,
            "count": 0
           },
           {
            "bin_start": 158.2,
            "bin_end": 161.5,
            "count": 0
           },
           {
            "bin_start": 161.5,
            "bin_end": 164.8,
            "count": 1
           },
           {
            "bin_start": 164.8,
            "bin_end": 168.1,
            "count": 0
           },
           {
            "bin_start": 168.1,
            "bin_end": 171.4,
            "count": 0
           },
           {
            "bin_start": 171.4,
            "bin_end": 174.7,
            "count": 1
           },
           {
            "bin_start": 174.7,
            "bin_end": 178,
            "count": 1
           }
          ]
         }
        },
        {
         "name": 1952,
         "dtype": "int64",
         "stats": {
          "unique_count": 5,
          "nan_count": 0,
          "min": "171",
          "max": "193",
          "histogram": [
           {
            "bin_start": 171,
            "bin_end": 173.2,
            "count": 1
           },
           {
            "bin_start": 173.2,
            "bin_end": 175.4,
            "count": 0
           },
           {
            "bin_start": 175.4,
            "bin_end": 177.6,
            "count": 0
           },
           {
            "bin_start": 177.6,
            "bin_end": 179.8,
            "count": 0
           },
           {
            "bin_start": 179.8,
            "bin_end": 182,
            "count": 2
           },
           {
            "bin_start": 182,
            "bin_end": 184.2,
            "count": 1
           },
           {
            "bin_start": 184.2,
            "bin_end": 186.4,
            "count": 0
           },
           {
            "bin_start": 186.4,
            "bin_end": 188.6,
            "count": 0
           },
           {
            "bin_start": 188.6,
            "bin_end": 190.8,
            "count": 0
           },
           {
            "bin_start": 190.8,
            "bin_end": 193,
            "count": 1
           }
          ]
         }
        },
        {
         "name": 1953,
         "dtype": "int64",
         "stats": {
          "unique_count": 4,
          "nan_count": 0,
          "min": "196",
          "max": "236",
          "histogram": [
           {
            "bin_start": 196,
            "bin_end": 200,
            "count": 2
           },
           {
            "bin_start": 200,
            "bin_end": 204,
            "count": 0
           },
           {
            "bin_start": 204,
            "bin_end": 208,
            "count": 0
           },
           {
            "bin_start": 208,
            "bin_end": 212,
            "count": 0
           },
           {
            "bin_start": 212,
            "bin_end": 216,
            "count": 0
           },
           {
            "bin_start": 216,
            "bin_end": 220,
            "count": 0
           },
           {
            "bin_start": 220,
            "bin_end": 224,
            "count": 0
           },
           {
            "bin_start": 224,
            "bin_end": 228,
            "count": 0
           },
           {
            "bin_start": 228,
            "bin_end": 232,
            "count": 1
           },
           {
            "bin_start": 232,
            "bin_end": 236,
            "count": 2
           }
          ]
         }
        },
        {
         "name": 1954,
         "dtype": "int64",
         "stats": {
          "unique_count": 5,
          "nan_count": 0,
          "min": "188",
          "max": "235",
          "histogram": [
           {
            "bin_start": 188,
            "bin_end": 192.7,
            "count": 1
           },
           {
            "bin_start": 192.7,
            "bin_end": 197.4,
            "count": 0
           },
           {
            "bin_start": 197.4,
            "bin_end": 202.1,
            "count": 0
           },
           {
            "bin_start": 202.1,
            "bin_end": 206.8,
            "count": 1
           },
           {
            "bin_start": 206.8,
            "bin_end": 211.5,
            "count": 0
           },
           {
            "bin_start": 211.5,
            "bin_end": 216.2,
            "count": 0
           },
           {
            "bin_start": 216.2,
            "bin_end": 220.9,
            "count": 0
           },
           {
            "bin_start": 220.9,
            "bin_end": 225.6,
            "count": 0
           },
           {
            "bin_start": 225.6,
            "bin_end": 230.3,
            "count": 1
           },
           {
            "bin_start": 230.3,
            "bin_end": 235,
            "count": 2
           }
          ]
         }
        },
        {
         "name": 1955,
         "dtype": "int64",
         "stats": {
          "unique_count": 5,
          "nan_count": 0,
          "min": "233",
          "max": "270",
          "histogram": [
           {
            "bin_start": 233,
            "bin_end": 236.7,
            "count": 1
           },
           {
            "bin_start": 236.7,
            "bin_end": 240.4,
            "count": 0
           },
           {
            "bin_start": 240.4,
            "bin_end": 244.1,
            "count": 1
           },
           {
            "bin_start": 244.1,
            "bin_end": 247.8,
            "count": 0
           },
           {
            "bin_start": 247.8,
            "bin_end": 251.5,
            "count": 0
           },
           {
            "bin_start": 251.5,
            "bin_end": 255.2,
            "count": 0
           },
           {
            "bin_start": 255.2,
            "bin_end": 258.9,
            "count": 0
           },
           {
            "bin_start": 258.9,
            "bin_end": 262.6,
            "count": 0
           },
           {
            "bin_start": 262.6,
            "bin_end": 266.3,
            "count": 0
           },
           {
            "bin_start": 266.3,
            "bin_end": 270,
            "count": 3
           }
          ]
         }
        },
        {
         "name": 1956,
         "dtype": "int64",
         "stats": {
          "unique_count": 5,
          "nan_count": 0,
          "min": "277",
          "max": "318",
          "histogram": [
           {
            "bin_start": 277,
            "bin_end": 281.1,
            "count": 1
           },
           {
            "bin_start": 281.1,
            "bin_end": 285.2,
            "count": 1
           },
           {
            "bin_start": 285.2,
            "bin_end": 289.3,
            "count": 0
           },
           {
            "bin_start": 289.3,
            "bin_end": 293.4,
            "count": 0
           },
           {
            "bin_start": 293.4,
            "bin_end": 297.5,
            "count": 0
           },
           {
            "bin_start": 297.5,
            "bin_end": 301.6,
            "count": 0
           },
           {
            "bin_start": 301.6,
            "bin_end": 305.7,
            "count": 0
           },
           {
            "bin_start": 305.7,
            "bin_end": 309.8,
            "count": 0
           },
           {
            "bin_start": 309.8,
            "bin_end": 313.9,
            "count": 1
           },
           {
            "bin_start": 313.9,
            "bin_end": 318,
            "count": 2
           }
          ]
         }
        },
        {
         "name": 1957,
         "dtype": "int64",
         "stats": {
          "unique_count": 5,
          "nan_count": 0,
          "min": "301",
          "max": "356",
          "histogram": [
           {
            "bin_start": 301,
            "bin_end": 306.5,
            "count": 1
           },
           {
            "bin_start": 306.5,
            "bin_end": 312,
            "count": 0
           },
           {
            "bin_start": 312,
            "bin_end": 317.5,
            "count": 1
           },
           {
            "bin_start": 317.5,
            "bin_end": 323,
            "count": 0
           },
           {
            "bin_start": 323,
            "bin_end": 328.5,
            "count": 0
           },
           {
            "bin_start": 328.5,
            "bin_end": 334,
            "count": 0
           },
           {
            "bin_start": 334,
            "bin_end": 339.5,
            "count": 0
           },
           {
            "bin_start": 339.5,
            "bin_end": 345,
            "count": 0
           },
           {
            "bin_start": 345,
            "bin_end": 350.5,
            "count": 1
           },
           {
            "bin_start": 350.5,
            "bin_end": 356,
            "count": 2
           }
          ]
         }
        },
        {
         "name": 1958,
         "dtype": "int64",
         "stats": {
          "unique_count": 5,
          "nan_count": 0,
          "min": "318",
          "max": "363",
          "histogram": [
           {
            "bin_start": 318,
            "bin_end": 322.5,
            "count": 1
           },
           {
            "bin_start": 322.5,
            "bin_end": 327,
            "count": 0
           },
           {
            "bin_start": 327,
            "bin_end": 331.5,
            "count": 0
           },
           {
            "bin_start": 331.5,
            "bin_end": 336,
            "count": 0
           },
           {
            "bin_start": 336,
            "bin_end": 340.5,
            "count": 1
           },
           {
            "bin_start": 340.5,
            "bin_end": 345,
            "count": 0
           },
           {
            "bin_start": 345,
            "bin_end": 349.5,
            "count": 1
           },
           {
            "bin_start": 349.5,
            "bin_end": 354,
            "count": 0
           },
           {
            "bin_start": 354,
            "bin_end": 358.5,
            "count": 0
           },
           {
            "bin_start": 358.5,
            "bin_end": 363,
            "count": 2
           }
          ]
         }
        },
        {
         "name": 1959,
         "dtype": "int64",
         "stats": {
          "unique_count": 5,
          "nan_count": 0,
          "min": "342",
          "max": "420",
          "histogram": [
           {
            "bin_start": 342,
            "bin_end": 349.8,
            "count": 1
           },
           {
            "bin_start": 349.8,
            "bin_end": 357.6,
            "count": 0
           },
           {
            "bin_start": 357.6,
            "bin_end": 365.4,
            "count": 1
           },
           {
            "bin_start": 365.4,
            "bin_end": 373.2,
            "count": 0
           },
           {
            "bin_start": 373.2,
            "bin_end": 381,
            "count": 0
           },
           {
            "bin_start": 381,
            "bin_end": 388.8,
            "count": 0
           },
           {
            "bin_start": 388.8,
            "bin_end": 396.6,
            "count": 1
           },
           {
            "bin_start": 396.6,
            "bin_end": 404.4,
            "count": 0
           },
           {
            "bin_start": 404.4,
            "bin_end": 412.2,
            "count": 1
           },
           {
            "bin_start": 412.2,
            "bin_end": 420,
            "count": 1
           }
          ]
         }
        },
        {
         "name": 1960,
         "dtype": "int64",
         "stats": {
          "unique_count": 5,
          "nan_count": 0,
          "min": "391",
          "max": "472",
          "histogram": [
           {
            "bin_start": 391,
            "bin_end": 399.1,
            "count": 1
           },
           {
            "bin_start": 399.1,
            "bin_end": 407.2,
            "count": 0
           },
           {
            "bin_start": 407.2,
            "bin_end": 415.3,
            "count": 0
           },
           {
            "bin_start": 415.3,
            "bin_end": 423.4,
            "count": 2
           },
           {
            "bin_start": 423.4,
            "bin_end": 431.5,
            "count": 0
           },
           {
            "bin_start": 431.5,
            "bin_end": 439.6,
            "count": 0
           },
           {
            "bin_start": 439.6,
            "bin_end": 447.7,
            "count": 0
           },
           {
            "bin_start": 447.7,
            "bin_end": 455.8,
            "count": 0
           },
           {
            "bin_start": 455.8,
            "bin_end": 463.9,
            "count": 1
           },
           {
            "bin_start": 463.9,
            "bin_end": 472,
            "count": 1
           }
          ]
         }
        },
        {
         "name": "_deepnote_index_column",
         "dtype": "category"
        }
       ],
       "rows": [
        {
         "1949": 112,
         "1950": 115,
         "1951": 145,
         "1952": 171,
         "1953": 196,
         "1954": 204,
         "1955": 242,
         "1956": 284,
         "1957": 315,
         "1958": 340,
         "1959": 360,
         "1960": 417,
         "_deepnote_index_column": "Jan"
        },
        {
         "1949": 118,
         "1950": 126,
         "1951": 150,
         "1952": 180,
         "1953": 196,
         "1954": 188,
         "1955": 233,
         "1956": 277,
         "1957": 301,
         "1958": 318,
         "1959": 342,
         "1960": 391,
         "_deepnote_index_column": "Feb"
        },
        {
         "1949": 132,
         "1950": 141,
         "1951": 178,
         "1952": 193,
         "1953": 236,
         "1954": 235,
         "1955": 267,
         "1956": 317,
         "1957": 356,
         "1958": 362,
         "1959": 406,
         "1960": 419,
         "_deepnote_index_column": "Mar"
        },
        {
         "1949": 129,
         "1950": 135,
         "1951": 163,
         "1952": 181,
         "1953": 235,
         "1954": 227,
         "1955": 269,
         "1956": 313,
         "1957": 348,
         "1958": 348,
         "1959": 396,
         "1960": 461,
         "_deepnote_index_column": "Apr"
        },
        {
         "1949": 121,
         "1950": 125,
         "1951": 172,
         "1952": 183,
         "1953": 229,
         "1954": 234,
         "1955": 270,
         "1956": 318,
         "1957": 355,
         "1958": 363,
         "1959": 420,
         "1960": 472,
         "_deepnote_index_column": "May"
        }
       ]
      },
      "text/plain": "year   1949  1950  1951  1952  1953  1954  1955  1956  1957  1958  1959  1960\nmonth                                                                        \nJan     112   115   145   171   196   204   242   284   315   340   360   417\nFeb     118   126   150   180   196   188   233   277   301   318   342   391\nMar     132   141   178   193   236   235   267   317   356   362   406   419\nApr     129   135   163   181   235   227   269   313   348   348   396   461\nMay     121   125   172   183   229   234   270   318   355   363   420   472",
      "text/html": "<div>\n<style scoped>\n    .dataframe tbody tr th:only-of-type {\n        vertical-align: middle;\n    }\n\n    .dataframe tbody tr th {\n        vertical-align: top;\n    }\n\n    .dataframe thead th {\n        text-align: right;\n    }\n</style>\n<table border=\"1\" class=\"dataframe\">\n  <thead>\n    <tr style=\"text-align: right;\">\n      <th>year</th>\n      <th>1949</th>\n      <th>1950</th>\n      <th>1951</th>\n      <th>1952</th>\n      <th>1953</th>\n      <th>1954</th>\n      <th>1955</th>\n      <th>1956</th>\n      <th>1957</th>\n      <th>1958</th>\n      <th>1959</th>\n      <th>1960</th>\n    </tr>\n    <tr>\n      <th>month</th>\n      <th></th>\n      <th></th>\n      <th></th>\n      <th></th>\n      <th></th>\n      <th></th>\n      <th></th>\n      <th></th>\n      <th></th>\n      <th></th>\n      <th></th>\n      <th></th>\n    </tr>\n  </thead>\n  <tbody>\n    <tr>\n      <th>Jan</th>\n      <td>112</td>\n      <td>115</td>\n      <td>145</td>\n      <td>171</td>\n      <td>196</td>\n      <td>204</td>\n      <td>242</td>\n      <td>284</td>\n      <td>315</td>\n      <td>340</td>\n      <td>360</td>\n      <td>417</td>\n    </tr>\n    <tr>\n      <th>Feb</th>\n      <td>118</td>\n      <td>126</td>\n      <td>150</td>\n      <td>180</td>\n      <td>196</td>\n      <td>188</td>\n      <td>233</td>\n      <td>277</td>\n      <td>301</td>\n      <td>318</td>\n      <td>342</td>\n      <td>391</td>\n    </tr>\n    <tr>\n      <th>Mar</th>\n      <td>132</td>\n      <td>141</td>\n      <td>178</td>\n      <td>193</td>\n      <td>236</td>\n      <td>235</td>\n      <td>267</td>\n      <td>317</td>\n      <td>356</td>\n      <td>362</td>\n      <td>406</td>\n      <td>419</td>\n    </tr>\n    <tr>\n      <th>Apr</th>\n      <td>129</td>\n      <td>135</td>\n      <td>163</td>\n      <td>181</td>\n      <td>235</td>\n      <td>227</td>\n      <td>269</td>\n      <td>313</td>\n      <td>348</td>\n      <td>348</td>\n      <td>396</td>\n      <td>461</td>\n    </tr>\n    <tr>\n      <th>May</th>\n      <td>121</td>\n      <td>125</td>\n      <td>172</td>\n      <td>183</td>\n      <td>229</td>\n      <td>234</td>\n      <td>270</td>\n      <td>318</td>\n      <td>355</td>\n      <td>363</td>\n      <td>420</td>\n      <td>472</td>\n    </tr>\n  </tbody>\n</table>\n</div>"
     },
     "metadata": {}
    }
   ]
  },
  {
   "cell_type": "code",
   "metadata": {
    "id": "E42aTGSKogS-",
    "cell_id": "00061-889d74fd-c00a-4137-ae95-4fa9ab3fc132",
    "deepnote_cell_type": "code"
   },
   "source": "grafico = sns.heatmap(data=flights, cmap=\"Spectral\")\ngrafico.set(title='Passageiros por mês por ano', xlabel='Ano', ylabel='Mês');",
   "execution_count": null,
   "outputs": []
  },
  {
   "cell_type": "code",
   "metadata": {
    "id": "3SOmQEm2ALps",
    "cell_id": "00062-1c9f8d2d-504c-4eee-951b-1dcdbc9fac38",
    "deepnote_cell_type": "code"
   },
   "source": "grafico = sns.heatmap(data=flights, cmap=\"Spectral\", annot=True, fmt=\"d\")\ngrafico.set(title='Passageiros por mês por ano', xlabel='Ano', ylabel='Mês');\ngrafico.figure.set_size_inches(w=20/2.54, h=10/2.54)",
   "execution_count": null,
   "outputs": []
  },
  {
   "cell_type": "code",
   "metadata": {
    "id": "6osTpgmn9mU3",
    "cell_id": "00063-ea18a78c-6f78-457b-9c88-61c26fe0d5d3",
    "deepnote_cell_type": "code"
   },
   "source": "data = sns.load_dataset(\"flights\")",
   "execution_count": null,
   "outputs": []
  },
  {
   "cell_type": "code",
   "metadata": {
    "id": "EoXtUO4t9a0j",
    "cell_id": "00064-3ab9748e-8cf3-471d-9227-559cc4a4140f",
    "deepnote_cell_type": "code"
   },
   "source": "flights = data.pivot(\"year\", \"month\", \"passengers\")\nflights.head()",
   "execution_count": null,
   "outputs": []
  },
  {
   "cell_type": "code",
   "metadata": {
    "id": "4QztcXND9cN9",
    "cell_id": "00065-2972d098-9c77-4275-9c21-9fa2db4b750d",
    "deepnote_cell_type": "code"
   },
   "source": "grafico = sns.heatmap(data=flights, cmap=\"Spectral\")\ngrafico.set(title='Passageiros por mês por ano', xlabel='Mês', ylabel='Ano');",
   "execution_count": null,
   "outputs": []
  },
  {
   "cell_type": "markdown",
   "source": "<a style='text-decoration:none;line-height:16px;display:flex;color:#5B5B62;padding:10px;justify-content:end;' href='https://deepnote.com?utm_source=created-in-deepnote-cell&projectId=690ec1aa-ed7a-4520-b902-aba6fc5867d1' target=\"_blank\">\n<img alt='Created in deepnote.com' style='display:inline;max-height:16px;margin:0px;margin-right:7.5px;' src='data:image/svg+xml;base64,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' > </img>\nCreated in <span style='font-weight:600;margin-left:4px;'>Deepnote</span></a>",
   "metadata": {
    "tags": [],
    "created_in_deepnote_cell": true,
    "deepnote_cell_type": "markdown"
   }
  }
 ],
 "nbformat": 4,
 "nbformat_minor": 0,
 "metadata": {
  "colab": {
   "name": "module_15_class.ipynb",
   "provenance": [],
   "collapsed_sections": [],
   "toc_visible": true
  },
  "kernelspec": {
   "name": "python3",
   "display_name": "Python 3"
  },
  "deepnote_notebook_id": "cf451bd1-b005-48c8-bde9-0697d90a72e9",
  "deepnote": {},
  "deepnote_execution_queue": []
 }
}