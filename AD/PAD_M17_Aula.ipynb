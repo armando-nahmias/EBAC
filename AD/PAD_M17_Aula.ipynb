{
 "cells": [
  {
   "cell_type": "markdown",
   "source": "<img src=\"https://raw.githubusercontent.com/andre-marcos-perez/ebac-course-utils/main/media/logo/newebac_logo_black_half.png\" alt=\"ebac-logo\">\n\n---\n\n# **Módulo** | Análise de Dados: Análise Exploratória de Dados de Logística II\nCaderno de **Aula**<br> \nProfessor [André Perez](https://www.linkedin.com/in/andremarcosperez/)\n\n---",
   "metadata": {
    "id": "KJqp9AANOCtf",
    "cell_id": "00000-59f8836d-89bd-4c32-b831-46cf9d21d7b0",
    "deepnote_cell_type": "markdown"
   }
  },
  {
   "cell_type": "markdown",
   "source": "# **Tópicos**\n\n<ol type=\"1\">\n  <li>Manipulação;</li>\n  <li>Visualização;</li>\n  <li>Storytelling.</li>\n</ol>\n",
   "metadata": {
    "id": "d9jDtUbDOE1-",
    "cell_id": "00001-3581127c-a083-48a9-8bde-4e20be3cede6",
    "deepnote_cell_type": "markdown"
   }
  },
  {
   "cell_type": "markdown",
   "source": "---",
   "metadata": {
    "id": "SmoHgt-lwkpD",
    "cell_id": "00002-96bdd332-9ba1-494d-930c-f4e1c5671c32",
    "deepnote_cell_type": "markdown"
   }
  },
  {
   "cell_type": "markdown",
   "source": "# **Aulas**",
   "metadata": {
    "id": "GABI6OW8OfQ2",
    "cell_id": "00003-e41e8193-06d7-432d-97ee-48c6889c9177",
    "deepnote_cell_type": "markdown"
   }
  },
  {
   "cell_type": "markdown",
   "source": "## 0\\. Projeto",
   "metadata": {
    "id": "eJ283bopLqLU",
    "cell_id": "00004-606cfa6e-0ca4-4d93-b461-68f60565e899",
    "deepnote_cell_type": "markdown"
   }
  },
  {
   "cell_type": "markdown",
   "source": "*   Análise exploratória de dados ([artigo](https://towardsdatascience.com/exploratory-data-analysis-8fc1cb20fd15) de referência) através das seguintes etapas:\n 1.   Exploração;\n 1.   Manipulação;\n 1.   Visualização;\n 1.   *Storytelling*.\n",
   "metadata": {
    "id": "0gmSAOdOLqLU",
    "cell_id": "00005-a16955c5-142e-4645-8c29-4dcde3c8bc16",
    "deepnote_cell_type": "markdown"
   }
  },
  {
   "cell_type": "markdown",
   "source": "## 1\\. Manipulação",
   "metadata": {
    "id": "muD1vxozykSC",
    "cell_id": "00006-4962f71d-c645-4a00-b967-f45dcc3c8e47",
    "deepnote_cell_type": "markdown"
   }
  },
  {
   "cell_type": "markdown",
   "source": "### **1.1. Dados** ",
   "metadata": {
    "id": "ztQW3njGmrro",
    "cell_id": "00007-a31ddddf-aee4-488a-b065-57fe16b695c7",
    "deepnote_cell_type": "markdown"
   }
  },
  {
   "cell_type": "markdown",
   "source": "O **dado bruto** é um arquivo do tipo `JSON` com uma lista de instâncias de entregas. Cada instância representa um conjunto de **entregas** que devem ser realizadas pelos **veículos** do **hub** regional. Exemplo:",
   "metadata": {
    "id": "7BqRKqRGJ0i2",
    "cell_id": "00008-46f83ff3-7dde-47bd-a213-bb5cec26574e",
    "deepnote_cell_type": "markdown"
   }
  },
  {
   "cell_type": "markdown",
   "source": "```json\n[\n  {\n    \"name\": \"cvrp-0-df-0\",\n    \"region\": \"df-0\",\n    \"origin\": {\"lng\": -47.802664728268745, \"lat\": -15.657013854445248},\n    \"vehicle_capacity\": 180,\n    \"deliveries\": [\n      {\n        \"id\": \"ed0993f8cc70d998342f38ee827176dc\",\n        \"point\": {\"lng\": -47.7496622016347, \"lat\": -15.65879313293694},\n        \"size\": 10\n      },\n      {\n        \"id\": \"c7220154adc7a3def8f0b2b8a42677a9\",\n        \"point\": {\"lng\": -47.75887552060412, \"lat\": -15.651440380492554},\n        \"size\": 10\n      },\n      ...\n    ]\n  }\n]\n...\n",
   "metadata": {
    "id": "VIKfIeXq6V-2",
    "cell_id": "00009-d0729258-a56c-4b7c-990a-27f1b481f10b",
    "deepnote_cell_type": "markdown"
   }
  },
  {
   "cell_type": "markdown",
   "source": "Processamos o **dado bruto** e construímos o DataFrame Pandas `deliveries_df` através de operações como achatamento (`flatten`) e explosão (``explode``) de colunas:",
   "metadata": {
    "id": "KQJ2xgOPm_Mq",
    "cell_id": "00010-bbb1b845-7504-4521-a87d-c57dd29320b4",
    "deepnote_cell_type": "markdown"
   }
  },
  {
   "cell_type": "code",
   "metadata": {
    "id": "54LKPfMinKN_",
    "cell_id": "00011-89cccb66-cb76-4f9f-8c9e-0cba9c31bd8b",
    "deepnote_cell_type": "code"
   },
   "source": "# !wget -q \"https://raw.githubusercontent.com/andre-marcos-perez/ebac-course-utils/main/dataset/deliveries.json\" -O deliveries.json \n",
   "execution_count": null,
   "outputs": []
  },
  {
   "cell_type": "code",
   "metadata": {
    "id": "rhPxbrJlnONS",
    "cell_id": "00012-a97cddc6-a3a7-45ed-8623-6a67d5617c69",
    "deepnote_to_be_reexecuted": false,
    "source_hash": "61ed7a7",
    "execution_start": 1640013659294,
    "execution_millis": 5630,
    "deepnote_cell_type": "code"
   },
   "source": "import json\n\nimport pandas as pd\n\n# dado bruto em um dict\n\nwith open('./dados/deliveries.json', mode='r', encoding='utf8') as file:\n  data = json.load(file)\n\n# dado bruto no pandas\n\ndeliveries_df = pd.DataFrame(data)\n\n# coluna origin\n\nhub_origin_df = pd.json_normalize(deliveries_df[\"origin\"])\n\ndeliveries_df = pd.merge(left=deliveries_df, right=hub_origin_df, how='inner', left_index=True, right_index=True)\ndeliveries_df = deliveries_df.drop(\"origin\", axis=1)\ndeliveries_df = deliveries_df[[\"name\", \"region\", \"lng\", \"lat\", \"vehicle_capacity\", \"deliveries\"]]\ndeliveries_df.rename(columns={\"lng\": \"hub_lng\", \"lat\": \"hub_lat\"}, inplace=True)\n\n# coluna deliveries\n\ndeliveries_exploded_df = deliveries_df[[\"deliveries\"]].explode(\"deliveries\")\n\ndeliveries_normalized_df = pd.concat([\n  pd.DataFrame(deliveries_exploded_df[\"deliveries\"].apply(lambda record: record[\"size\"])).rename(columns={\"deliveries\": \"delivery_size\"}),\n  pd.DataFrame(deliveries_exploded_df[\"deliveries\"].apply(lambda record: record[\"point\"][\"lng\"])).rename(columns={\"deliveries\": \"delivery_lng\"}),\n  pd.DataFrame(deliveries_exploded_df[\"deliveries\"].apply(lambda record: record[\"point\"][\"lat\"])).rename(columns={\"deliveries\": \"delivery_lat\"}),\n], axis= 1)\n\ndeliveries_df = deliveries_df.drop(\"deliveries\", axis=1)\ndeliveries_df = pd.merge(left=deliveries_df, right=deliveries_normalized_df, how='right', left_index=True, right_index=True)\ndeliveries_df.reset_index(inplace=True, drop=True)",
   "execution_count": null,
   "outputs": []
  },
  {
   "cell_type": "code",
   "metadata": {
    "id": "MrNxmmINn00A",
    "cell_id": "00013-bbf18f03-fa78-4d45-83f5-6826b4fe41c3",
    "deepnote_to_be_reexecuted": false,
    "source_hash": "c9a5e4a5",
    "execution_start": 1640013666941,
    "execution_millis": 188,
    "deepnote_cell_type": "code"
   },
   "source": "deliveries_df.head()",
   "execution_count": null,
   "outputs": [
    {
     "output_type": "execute_result",
     "execution_count": 2,
     "data": {
      "application/vnd.deepnote.dataframe.v3+json": {
       "column_count": 8,
       "row_count": 5,
       "columns": [
        {
         "name": "name",
         "dtype": "object",
         "stats": {
          "unique_count": 1,
          "nan_count": 0,
          "categories": [
           {
            "name": "cvrp-2-df-33",
            "count": 5
           }
          ]
         }
        },
        {
         "name": "region",
         "dtype": "object",
         "stats": {
          "unique_count": 1,
          "nan_count": 0,
          "categories": [
           {
            "name": "df-2",
            "count": 5
           }
          ]
         }
        },
        {
         "name": "hub_lng",
         "dtype": "float64",
         "stats": {
          "unique_count": 1,
          "nan_count": 0,
          "min": "-48.05498915846707",
          "max": "-48.05498915846707",
          "histogram": [
           {
            "bin_start": -48.55498915846707,
            "bin_end": -48.45498915846707,
            "count": 0
           },
           {
            "bin_start": -48.45498915846707,
            "bin_end": -48.35498915846707,
            "count": 0
           },
           {
            "bin_start": -48.35498915846707,
            "bin_end": -48.254989158467076,
            "count": 0
           },
           {
            "bin_start": -48.254989158467076,
            "bin_end": -48.154989158467075,
            "count": 0
           },
           {
            "bin_start": -48.154989158467075,
            "bin_end": -48.05498915846707,
            "count": 0
           },
           {
            "bin_start": -48.05498915846707,
            "bin_end": -47.95498915846707,
            "count": 5
           },
           {
            "bin_start": -47.95498915846707,
            "bin_end": -47.85498915846707,
            "count": 0
           },
           {
            "bin_start": -47.85498915846707,
            "bin_end": -47.754989158467076,
            "count": 0
           },
           {
            "bin_start": -47.754989158467076,
            "bin_end": -47.654989158467075,
            "count": 0
           },
           {
            "bin_start": -47.654989158467075,
            "bin_end": -47.55498915846707,
            "count": 0
           }
          ]
         }
        },
        {
         "name": "hub_lat",
         "dtype": "float64",
         "stats": {
          "unique_count": 1,
          "nan_count": 0,
          "min": "-15.83814451122274",
          "max": "-15.83814451122274",
          "histogram": [
           {
            "bin_start": -16.33814451122274,
            "bin_end": -16.23814451122274,
            "count": 0
           },
           {
            "bin_start": -16.23814451122274,
            "bin_end": -16.13814451122274,
            "count": 0
           },
           {
            "bin_start": -16.13814451122274,
            "bin_end": -16.03814451122274,
            "count": 0
           },
           {
            "bin_start": -16.03814451122274,
            "bin_end": -15.93814451122274,
            "count": 0
           },
           {
            "bin_start": -15.93814451122274,
            "bin_end": -15.83814451122274,
            "count": 0
           },
           {
            "bin_start": -15.83814451122274,
            "bin_end": -15.73814451122274,
            "count": 5
           },
           {
            "bin_start": -15.73814451122274,
            "bin_end": -15.638144511222741,
            "count": 0
           },
           {
            "bin_start": -15.638144511222741,
            "bin_end": -15.53814451122274,
            "count": 0
           },
           {
            "bin_start": -15.53814451122274,
            "bin_end": -15.43814451122274,
            "count": 0
           },
           {
            "bin_start": -15.43814451122274,
            "bin_end": -15.33814451122274,
            "count": 0
           }
          ]
         }
        },
        {
         "name": "vehicle_capacity",
         "dtype": "int64",
         "stats": {
          "unique_count": 1,
          "nan_count": 0,
          "min": "180",
          "max": "180",
          "histogram": [
           {
            "bin_start": 179.5,
            "bin_end": 179.6,
            "count": 0
           },
           {
            "bin_start": 179.6,
            "bin_end": 179.7,
            "count": 0
           },
           {
            "bin_start": 179.7,
            "bin_end": 179.8,
            "count": 0
           },
           {
            "bin_start": 179.8,
            "bin_end": 179.9,
            "count": 0
           },
           {
            "bin_start": 179.9,
            "bin_end": 180,
            "count": 0
           },
           {
            "bin_start": 180,
            "bin_end": 180.1,
            "count": 5
           },
           {
            "bin_start": 180.1,
            "bin_end": 180.2,
            "count": 0
           },
           {
            "bin_start": 180.2,
            "bin_end": 180.3,
            "count": 0
           },
           {
            "bin_start": 180.3,
            "bin_end": 180.4,
            "count": 0
           },
           {
            "bin_start": 180.4,
            "bin_end": 180.5,
            "count": 0
           }
          ]
         }
        },
        {
         "name": "delivery_size",
         "dtype": "int64",
         "stats": {
          "unique_count": 4,
          "nan_count": 0,
          "min": "1",
          "max": "9",
          "histogram": [
           {
            "bin_start": 1,
            "bin_end": 1.8,
            "count": 1
           },
           {
            "bin_start": 1.8,
            "bin_end": 2.6,
            "count": 2
           },
           {
            "bin_start": 2.6,
            "bin_end": 3.4000000000000004,
            "count": 0
           },
           {
            "bin_start": 3.4000000000000004,
            "bin_end": 4.2,
            "count": 0
           },
           {
            "bin_start": 4.2,
            "bin_end": 5,
            "count": 0
           },
           {
            "bin_start": 5,
            "bin_end": 5.800000000000001,
            "count": 0
           },
           {
            "bin_start": 5.800000000000001,
            "bin_end": 6.6000000000000005,
            "count": 0
           },
           {
            "bin_start": 6.6000000000000005,
            "bin_end": 7.4,
            "count": 1
           },
           {
            "bin_start": 7.4,
            "bin_end": 8.2,
            "count": 0
           },
           {
            "bin_start": 8.2,
            "bin_end": 9,
            "count": 1
           }
          ]
         }
        },
        {
         "name": "delivery_lng",
         "dtype": "float64",
         "stats": {
          "unique_count": 5,
          "nan_count": 0,
          "min": "-48.11819489551",
          "max": "-48.11248339849675",
          "histogram": [
           {
            "bin_start": -48.11819489551,
            "bin_end": -48.11762374580868,
            "count": 2
           },
           {
            "bin_start": -48.11762374580868,
            "bin_end": -48.11705259610735,
            "count": 0
           },
           {
            "bin_start": -48.11705259610735,
            "bin_end": -48.11648144640603,
            "count": 0
           },
           {
            "bin_start": -48.11648144640603,
            "bin_end": -48.1159102967047,
            "count": 1
           },
           {
            "bin_start": -48.1159102967047,
            "bin_end": -48.115339147003375,
            "count": 0
           },
           {
            "bin_start": -48.115339147003375,
            "bin_end": -48.11476799730205,
            "count": 1
           },
           {
            "bin_start": -48.11476799730205,
            "bin_end": -48.114196847600724,
            "count": 0
           },
           {
            "bin_start": -48.114196847600724,
            "bin_end": -48.1136256978994,
            "count": 0
           },
           {
            "bin_start": -48.1136256978994,
            "bin_end": -48.11305454819807,
            "count": 0
           },
           {
            "bin_start": -48.11305454819807,
            "bin_end": -48.11248339849675,
            "count": 1
           }
          ]
         }
        },
        {
         "name": "delivery_lat",
         "dtype": "float64",
         "stats": {
          "unique_count": 5,
          "nan_count": 0,
          "min": "-15.85805462185708",
          "max": "-15.846471025281456",
          "histogram": [
           {
            "bin_start": -15.85805462185708,
            "bin_end": -15.856896262199518,
            "count": 1
           },
           {
            "bin_start": -15.856896262199518,
            "bin_end": -15.855737902541955,
            "count": 0
           },
           {
            "bin_start": -15.855737902541955,
            "bin_end": -15.854579542884393,
            "count": 0
           },
           {
            "bin_start": -15.854579542884393,
            "bin_end": -15.85342118322683,
            "count": 0
           },
           {
            "bin_start": -15.85342118322683,
            "bin_end": -15.85226282356927,
            "count": 0
           },
           {
            "bin_start": -15.85226282356927,
            "bin_end": -15.851104463911707,
            "count": 0
           },
           {
            "bin_start": -15.851104463911707,
            "bin_end": -15.849946104254144,
            "count": 1
           },
           {
            "bin_start": -15.849946104254144,
            "bin_end": -15.848787744596581,
            "count": 1
           },
           {
            "bin_start": -15.848787744596581,
            "bin_end": -15.847629384939019,
            "count": 1
           },
           {
            "bin_start": -15.847629384939019,
            "bin_end": -15.846471025281456,
            "count": 1
           }
          ]
         }
        },
        {
         "name": "_deepnote_index_column",
         "dtype": "int64"
        }
       ],
       "rows": [
        {
         "name": "cvrp-2-df-33",
         "region": "df-2",
         "hub_lng": -48.05498915846707,
         "hub_lat": -15.83814451122274,
         "vehicle_capacity": 180,
         "delivery_size": 9,
         "delivery_lng": -48.11618888384239,
         "delivery_lat": -15.848929154862294,
         "_deepnote_index_column": 0
        },
        {
         "name": "cvrp-2-df-33",
         "region": "df-2",
         "hub_lng": -48.05498915846707,
         "hub_lat": -15.83814451122274,
         "vehicle_capacity": 180,
         "delivery_size": 2,
         "delivery_lng": -48.11819489551,
         "delivery_lat": -15.850772371049631,
         "_deepnote_index_column": 1
        },
        {
         "name": "cvrp-2-df-33",
         "region": "df-2",
         "hub_lng": -48.05498915846707,
         "hub_lat": -15.83814451122274,
         "vehicle_capacity": 180,
         "delivery_size": 1,
         "delivery_lng": -48.11248339849675,
         "delivery_lat": -15.84787055941764,
         "_deepnote_index_column": 2
        },
        {
         "name": "cvrp-2-df-33",
         "region": "df-2",
         "hub_lng": -48.05498915846707,
         "hub_lat": -15.83814451122274,
         "vehicle_capacity": 180,
         "delivery_size": 2,
         "delivery_lng": -48.11802268617869,
         "delivery_lat": -15.846471025281456,
         "_deepnote_index_column": 3
        },
        {
         "name": "cvrp-2-df-33",
         "region": "df-2",
         "hub_lng": -48.05498915846707,
         "hub_lat": -15.83814451122274,
         "vehicle_capacity": 180,
         "delivery_size": 7,
         "delivery_lng": -48.114898174591026,
         "delivery_lat": -15.85805462185708,
         "_deepnote_index_column": 4
        }
       ]
      },
      "text/plain": "           name region    hub_lng    hub_lat  vehicle_capacity  delivery_size  \\\n0  cvrp-2-df-33   df-2 -48.054989 -15.838145               180              9   \n1  cvrp-2-df-33   df-2 -48.054989 -15.838145               180              2   \n2  cvrp-2-df-33   df-2 -48.054989 -15.838145               180              1   \n3  cvrp-2-df-33   df-2 -48.054989 -15.838145               180              2   \n4  cvrp-2-df-33   df-2 -48.054989 -15.838145               180              7   \n\n   delivery_lng  delivery_lat  \n0    -48.116189    -15.848929  \n1    -48.118195    -15.850772  \n2    -48.112483    -15.847871  \n3    -48.118023    -15.846471  \n4    -48.114898    -15.858055  ",
      "text/html": "<div>\n<style scoped>\n    .dataframe tbody tr th:only-of-type {\n        vertical-align: middle;\n    }\n\n    .dataframe tbody tr th {\n        vertical-align: top;\n    }\n\n    .dataframe thead th {\n        text-align: right;\n    }\n</style>\n<table border=\"1\" class=\"dataframe\">\n  <thead>\n    <tr style=\"text-align: right;\">\n      <th></th>\n      <th>name</th>\n      <th>region</th>\n      <th>hub_lng</th>\n      <th>hub_lat</th>\n      <th>vehicle_capacity</th>\n      <th>delivery_size</th>\n      <th>delivery_lng</th>\n      <th>delivery_lat</th>\n    </tr>\n  </thead>\n  <tbody>\n    <tr>\n      <th>0</th>\n      <td>cvrp-2-df-33</td>\n      <td>df-2</td>\n      <td>-48.054989</td>\n      <td>-15.838145</td>\n      <td>180</td>\n      <td>9</td>\n      <td>-48.116189</td>\n      <td>-15.848929</td>\n    </tr>\n    <tr>\n      <th>1</th>\n      <td>cvrp-2-df-33</td>\n      <td>df-2</td>\n      <td>-48.054989</td>\n      <td>-15.838145</td>\n      <td>180</td>\n      <td>2</td>\n      <td>-48.118195</td>\n      <td>-15.850772</td>\n    </tr>\n    <tr>\n      <th>2</th>\n      <td>cvrp-2-df-33</td>\n      <td>df-2</td>\n      <td>-48.054989</td>\n      <td>-15.838145</td>\n      <td>180</td>\n      <td>1</td>\n      <td>-48.112483</td>\n      <td>-15.847871</td>\n    </tr>\n    <tr>\n      <th>3</th>\n      <td>cvrp-2-df-33</td>\n      <td>df-2</td>\n      <td>-48.054989</td>\n      <td>-15.838145</td>\n      <td>180</td>\n      <td>2</td>\n      <td>-48.118023</td>\n      <td>-15.846471</td>\n    </tr>\n    <tr>\n      <th>4</th>\n      <td>cvrp-2-df-33</td>\n      <td>df-2</td>\n      <td>-48.054989</td>\n      <td>-15.838145</td>\n      <td>180</td>\n      <td>7</td>\n      <td>-48.114898</td>\n      <td>-15.858055</td>\n    </tr>\n  </tbody>\n</table>\n</div>"
     },
     "metadata": {}
    }
   ]
  },
  {
   "cell_type": "markdown",
   "source": "### **1.2. Enriquecimento** ",
   "metadata": {
    "id": "HgXorH5hqdzy",
    "cell_id": "00014-817290c1-efa4-4256-8c22-41812de0b867",
    "deepnote_cell_type": "markdown"
   }
  },
  {
   "cell_type": "markdown",
   "source": "- **Geocodificação reversa do hub**",
   "metadata": {
    "id": "PLLI69JaqppW",
    "cell_id": "00015-f30b26ac-16ad-4501-89f8-05c5228b977a",
    "deepnote_cell_type": "markdown"
   }
  },
  {
   "cell_type": "markdown",
   "source": "A **geocodificação** é o processo que transforma uma localização descrita por um texto (endereço, nome do local, etc.) em sua respectiva coodernada geográfica (latitude e longitude). A **geocodificação reversa** faz o oposto, transforma uma coordenada geográfica de um local em suas respectivas descrições textuais.",
   "metadata": {
    "id": "C3xQ8BbIE9Gt",
    "cell_id": "00016-58d4a4f5-dfa1-4f8f-a58e-e27f6ce46f1f",
    "deepnote_cell_type": "markdown"
   }
  },
  {
   "cell_type": "code",
   "metadata": {
    "id": "cmiKVd5Qsx2L",
    "cell_id": "00017-7d770965-3773-4ebf-a5eb-924ac739cf86",
    "deepnote_to_be_reexecuted": false,
    "source_hash": "c6db254",
    "execution_start": 1640013720790,
    "execution_millis": 149,
    "deepnote_cell_type": "code"
   },
   "source": "hub_df = deliveries_df[[\"region\", \"hub_lng\", \"hub_lat\"]]\nhub_df = hub_df.drop_duplicates().sort_values(by=\"region\").reset_index(drop=True)\nhub_df.head()",
   "execution_count": null,
   "outputs": [
    {
     "output_type": "execute_result",
     "execution_count": 3,
     "data": {
      "application/vnd.deepnote.dataframe.v3+json": {
       "column_count": 3,
       "row_count": 3,
       "columns": [
        {
         "name": "region",
         "dtype": "object",
         "stats": {
          "unique_count": 3,
          "nan_count": 0,
          "categories": [
           {
            "name": "df-0",
            "count": 1
           },
           {
            "name": "df-1",
            "count": 1
           },
           {
            "name": "df-2",
            "count": 1
           }
          ]
         }
        },
        {
         "name": "hub_lng",
         "dtype": "float64",
         "stats": {
          "unique_count": 3,
          "nan_count": 0,
          "min": "-48.05498915846707",
          "max": "-47.802664728268745",
          "histogram": [
           {
            "bin_start": -48.05498915846707,
            "bin_end": -48.02975671544724,
            "count": 1
           },
           {
            "bin_start": -48.02975671544724,
            "bin_end": -48.00452427242741,
            "count": 0
           },
           {
            "bin_start": -48.00452427242741,
            "bin_end": -47.97929182940757,
            "count": 0
           },
           {
            "bin_start": -47.97929182940757,
            "bin_end": -47.95405938638774,
            "count": 0
           },
           {
            "bin_start": -47.95405938638774,
            "bin_end": -47.92882694336791,
            "count": 0
           },
           {
            "bin_start": -47.92882694336791,
            "bin_end": -47.90359450034808,
            "count": 0
           },
           {
            "bin_start": -47.90359450034808,
            "bin_end": -47.878362057328246,
            "count": 1
           },
           {
            "bin_start": -47.878362057328246,
            "bin_end": -47.85312961430841,
            "count": 0
           },
           {
            "bin_start": -47.85312961430841,
            "bin_end": -47.827897171288576,
            "count": 0
           },
           {
            "bin_start": -47.827897171288576,
            "bin_end": -47.802664728268745,
            "count": 1
           }
          ]
         }
        },
        {
         "name": "hub_lat",
         "dtype": "float64",
         "stats": {
          "unique_count": 3,
          "nan_count": 0,
          "min": "-15.83814451122274",
          "max": "-15.657013854445248",
          "histogram": [
           {
            "bin_start": -15.83814451122274,
            "bin_end": -15.820031445544991,
            "count": 1
           },
           {
            "bin_start": -15.820031445544991,
            "bin_end": -15.801918379867242,
            "count": 1
           },
           {
            "bin_start": -15.801918379867242,
            "bin_end": -15.783805314189493,
            "count": 0
           },
           {
            "bin_start": -15.783805314189493,
            "bin_end": -15.765692248511744,
            "count": 0
           },
           {
            "bin_start": -15.765692248511744,
            "bin_end": -15.747579182833995,
            "count": 0
           },
           {
            "bin_start": -15.747579182833995,
            "bin_end": -15.729466117156244,
            "count": 0
           },
           {
            "bin_start": -15.729466117156244,
            "bin_end": -15.711353051478495,
            "count": 0
           },
           {
            "bin_start": -15.711353051478495,
            "bin_end": -15.693239985800746,
            "count": 0
           },
           {
            "bin_start": -15.693239985800746,
            "bin_end": -15.675126920122997,
            "count": 0
           },
           {
            "bin_start": -15.675126920122997,
            "bin_end": -15.657013854445248,
            "count": 1
           }
          ]
         }
        },
        {
         "name": "_deepnote_index_column",
         "dtype": "int64"
        }
       ],
       "rows": [
        {
         "region": "df-0",
         "hub_lng": -47.802664728268745,
         "hub_lat": -15.657013854445248,
         "_deepnote_index_column": 0
        },
        {
         "region": "df-1",
         "hub_lng": -47.89366206897872,
         "hub_lat": -15.80511751066334,
         "_deepnote_index_column": 1
        },
        {
         "region": "df-2",
         "hub_lng": -48.05498915846707,
         "hub_lat": -15.83814451122274,
         "_deepnote_index_column": 2
        }
       ]
      },
      "text/plain": "  region    hub_lng    hub_lat\n0   df-0 -47.802665 -15.657014\n1   df-1 -47.893662 -15.805118\n2   df-2 -48.054989 -15.838145",
      "text/html": "<div>\n<style scoped>\n    .dataframe tbody tr th:only-of-type {\n        vertical-align: middle;\n    }\n\n    .dataframe tbody tr th {\n        vertical-align: top;\n    }\n\n    .dataframe thead th {\n        text-align: right;\n    }\n</style>\n<table border=\"1\" class=\"dataframe\">\n  <thead>\n    <tr style=\"text-align: right;\">\n      <th></th>\n      <th>region</th>\n      <th>hub_lng</th>\n      <th>hub_lat</th>\n    </tr>\n  </thead>\n  <tbody>\n    <tr>\n      <th>0</th>\n      <td>df-0</td>\n      <td>-47.802665</td>\n      <td>-15.657014</td>\n    </tr>\n    <tr>\n      <th>1</th>\n      <td>df-1</td>\n      <td>-47.893662</td>\n      <td>-15.805118</td>\n    </tr>\n    <tr>\n      <th>2</th>\n      <td>df-2</td>\n      <td>-48.054989</td>\n      <td>-15.838145</td>\n    </tr>\n  </tbody>\n</table>\n</div>"
     },
     "metadata": {}
    }
   ]
  },
  {
   "cell_type": "markdown",
   "source": "Empresas como Google, Bing e Yahoo! fornecem **geocodificação** como serviço (e cobram por isso). Existe uma projeto *open source* chamado de [OpenStreetMap](https://www.openstreetmap.org/) que mantem um serviço gratuito de geocodificação chamado [Nominatim](https://nominatim.org/), serviço este que apresenta como limitação a quantia de [uma única consuta por segundo](https://operations.osmfoundation.org/policies/nominatim/). Vamos utilizá-lo através do pacote Python `geopy` para fazer a operação reversa e enriquecer o nosso DataFrame principal.",
   "metadata": {
    "id": "u3z1g8ZfsXVL",
    "cell_id": "00018-54a0467b-08e0-4b4c-83bf-ca645102cc2d",
    "deepnote_cell_type": "markdown"
   }
  },
  {
   "cell_type": "code",
   "metadata": {
    "id": "veVpmJHOsY6I",
    "cell_id": "00019-d7fdc125-dcfc-4629-bf30-26ff5f05d0c7",
    "deepnote_to_be_reexecuted": false,
    "source_hash": "40591b6",
    "execution_start": 1640013750294,
    "execution_millis": 12207,
    "deepnote_cell_type": "code"
   },
   "source": "import json\n!pip install geopy\nimport geopy\nfrom geopy.geocoders import Nominatim\n\ngeolocator = Nominatim(user_agent=\"ebac_geocoder\")\nlocation = geolocator.reverse(\"-15.657013854445248, -47.802664728268745\")\n\nprint(json.dumps(location.raw, indent=2, ensure_ascii=False))",
   "execution_count": null,
   "outputs": [
    {
     "name": "stdout",
     "text": "Collecting geopy\n  Downloading geopy-2.2.0-py3-none-any.whl (118 kB)\n\u001b[K     |████████████████████████████████| 118 kB 11.7 MB/s \n\u001b[?25hCollecting geographiclib<2,>=1.49\n  Downloading geographiclib-1.52-py3-none-any.whl (38 kB)\nInstalling collected packages: geographiclib, geopy\nSuccessfully installed geographiclib-1.52 geopy-2.2.0\n\u001b[33mWARNING: You are using pip version 20.1.1; however, version 21.3.1 is available.\nYou should consider upgrading via the '/root/venv/bin/python -m pip install --upgrade pip' command.\u001b[0m\n{\n  \"place_id\": 69392732,\n  \"licence\": \"Data © OpenStreetMap contributors, ODbL 1.0. https://osm.org/copyright\",\n  \"osm_type\": \"node\",\n  \"osm_id\": 6456379935,\n  \"lat\": \"-15.656819\",\n  \"lon\": \"-47.8019514\",\n  \"display_name\": \"Clinica dos Olhos, Rua 7, Quadra 2, Sobradinho, Região Geográfica Imediata do Distrito Federal, Região Integrada de Desenvolvimento do Distrito Federal e Entorno, Região Geográfica Intermediária do Distrito Federal, Distrito Federal, Região Centro-Oeste, 73015-202, Brasil\",\n  \"address\": {\n    \"amenity\": \"Clinica dos Olhos\",\n    \"road\": \"Rua 7\",\n    \"residential\": \"Quadra 2\",\n    \"suburb\": \"Sobradinho\",\n    \"town\": \"Sobradinho\",\n    \"municipality\": \"Região Geográfica Imediata do Distrito Federal\",\n    \"county\": \"Região Integrada de Desenvolvimento do Distrito Federal e Entorno\",\n    \"state_district\": \"Região Geográfica Intermediária do Distrito Federal\",\n    \"state\": \"Distrito Federal\",\n    \"region\": \"Região Centro-Oeste\",\n    \"postcode\": \"73015-202\",\n    \"country\": \"Brasil\",\n    \"country_code\": \"br\"\n  },\n  \"boundingbox\": [\n    \"-15.656869\",\n    \"-15.656769\",\n    \"-47.8020014\",\n    \"-47.8019014\"\n  ]\n}\n",
     "output_type": "stream",
     "data": {}
    }
   ]
  },
  {
   "cell_type": "markdown",
   "source": "Vamos então aplicar a geocodificação nas coordenadas das três regiões e extrair informações de **cidade** e **bairro**.",
   "metadata": {
    "id": "TylsS-IcwzBk",
    "cell_id": "00020-ed9b430a-aa6e-4370-8053-ad13b139bfff",
    "deepnote_cell_type": "markdown"
   }
  },
  {
   "cell_type": "code",
   "metadata": {
    "id": "9i4LU1I2w4iX",
    "cell_id": "00021-7b897b4d-9dea-49fb-9446-ad62b8b300ff",
    "deepnote_to_be_reexecuted": false,
    "source_hash": "907ba39e",
    "execution_start": 1640014861071,
    "execution_millis": 1,
    "deepnote_cell_type": "code"
   },
   "source": "from geopy.extra.rate_limiter import RateLimiter\n\ngeocoder = RateLimiter(geolocator.reverse, min_delay_seconds=1)",
   "execution_count": null,
   "outputs": []
  },
  {
   "cell_type": "code",
   "metadata": {
    "id": "tK6dgyutxKj6",
    "cell_id": "00022-d85a791e-4638-4fc0-93ba-61107346e133",
    "deepnote_to_be_reexecuted": false,
    "source_hash": "ec9ab5e1",
    "execution_start": 1640014871570,
    "execution_millis": 2357,
    "deepnote_cell_type": "code"
   },
   "source": "hub_df[\"coordinates\"] = hub_df[\"hub_lat\"].astype(str)  + \", \" + hub_df[\"hub_lng\"].astype(str) \nhub_df[\"geodata\"] = hub_df[\"coordinates\"].apply(geocoder)\nhub_df.head()",
   "execution_count": null,
   "outputs": [
    {
     "output_type": "execute_result",
     "execution_count": 7,
     "data": {
      "application/vnd.deepnote.dataframe.v3+json": {
       "column_count": 5,
       "row_count": 3,
       "columns": [
        {
         "name": "region",
         "dtype": "object",
         "stats": {
          "unique_count": 3,
          "nan_count": 0,
          "categories": [
           {
            "name": "df-0",
            "count": 1
           },
           {
            "name": "df-1",
            "count": 1
           },
           {
            "name": "df-2",
            "count": 1
           }
          ]
         }
        },
        {
         "name": "hub_lng",
         "dtype": "float64",
         "stats": {
          "unique_count": 3,
          "nan_count": 0,
          "min": "-48.05498915846707",
          "max": "-47.802664728268745",
          "histogram": [
           {
            "bin_start": -48.05498915846707,
            "bin_end": -48.02975671544724,
            "count": 1
           },
           {
            "bin_start": -48.02975671544724,
            "bin_end": -48.00452427242741,
            "count": 0
           },
           {
            "bin_start": -48.00452427242741,
            "bin_end": -47.97929182940757,
            "count": 0
           },
           {
            "bin_start": -47.97929182940757,
            "bin_end": -47.95405938638774,
            "count": 0
           },
           {
            "bin_start": -47.95405938638774,
            "bin_end": -47.92882694336791,
            "count": 0
           },
           {
            "bin_start": -47.92882694336791,
            "bin_end": -47.90359450034808,
            "count": 0
           },
           {
            "bin_start": -47.90359450034808,
            "bin_end": -47.878362057328246,
            "count": 1
           },
           {
            "bin_start": -47.878362057328246,
            "bin_end": -47.85312961430841,
            "count": 0
           },
           {
            "bin_start": -47.85312961430841,
            "bin_end": -47.827897171288576,
            "count": 0
           },
           {
            "bin_start": -47.827897171288576,
            "bin_end": -47.802664728268745,
            "count": 1
           }
          ]
         }
        },
        {
         "name": "hub_lat",
         "dtype": "float64",
         "stats": {
          "unique_count": 3,
          "nan_count": 0,
          "min": "-15.83814451122274",
          "max": "-15.657013854445248",
          "histogram": [
           {
            "bin_start": -15.83814451122274,
            "bin_end": -15.820031445544991,
            "count": 1
           },
           {
            "bin_start": -15.820031445544991,
            "bin_end": -15.801918379867242,
            "count": 1
           },
           {
            "bin_start": -15.801918379867242,
            "bin_end": -15.783805314189493,
            "count": 0
           },
           {
            "bin_start": -15.783805314189493,
            "bin_end": -15.765692248511744,
            "count": 0
           },
           {
            "bin_start": -15.765692248511744,
            "bin_end": -15.747579182833995,
            "count": 0
           },
           {
            "bin_start": -15.747579182833995,
            "bin_end": -15.729466117156244,
            "count": 0
           },
           {
            "bin_start": -15.729466117156244,
            "bin_end": -15.711353051478495,
            "count": 0
           },
           {
            "bin_start": -15.711353051478495,
            "bin_end": -15.693239985800746,
            "count": 0
           },
           {
            "bin_start": -15.693239985800746,
            "bin_end": -15.675126920122997,
            "count": 0
           },
           {
            "bin_start": -15.675126920122997,
            "bin_end": -15.657013854445248,
            "count": 1
           }
          ]
         }
        },
        {
         "name": "coordinates",
         "dtype": "object",
         "stats": {
          "unique_count": 3,
          "nan_count": 0,
          "categories": [
           {
            "name": "-15.657013854445248, -47.802664728268745",
            "count": 1
           },
           {
            "name": "-15.80511751066334, -47.89366206897872",
            "count": 1
           },
           {
            "name": "-15.83814451122274, -48.05498915846707",
            "count": 1
           }
          ]
         }
        },
        {
         "name": "geodata",
         "dtype": "object",
         "stats": {
          "unique_count": 3,
          "nan_count": 0,
          "categories": [
           {
            "name": "Clinica dos Olhos, Rua 7, Quadra 2, Sobradinho, Região Geográfica Imediata do Distrito Federal, Região Integrada de Desenvolvimento do Distrito Federal e Entorno, Região Geográfica Intermediária do Distrito Federal, Distrito Federal, Região Centro-Oeste, 73015-202, Brasil",
            "count": 1
           },
           {
            "name": "Bloco B / F, W1 Sul, SQS 103, Asa Sul, Brasília, Plano Piloto, Região Geográfica Imediata do Distrito Federal, Região Integrada de Desenvolvimento do Distrito Federal e Entorno, Região Geográfica Intermediária do Distrito Federal, Distrito Federal, Região Centro-Oeste, 70342-010, Brasil",
            "count": 1
           },
           {
            "name": "Armazém do Bolo, lote 4/8, CSB 4/5, Taguatinga, Região Geográfica Imediata do Distrito Federal, Região Integrada de Desenvolvimento do Distrito Federal e Entorno, Região Geográfica Intermediária do Distrito Federal, Distrito Federal, Região Centro-Oeste, 72015030, Brasil",
            "count": 1
           }
          ]
         }
        },
        {
         "name": "_deepnote_index_column",
         "dtype": "int64"
        }
       ],
       "rows": [
        {
         "region": "df-0",
         "hub_lng": -47.802664728268745,
         "hub_lat": -15.657013854445248,
         "coordinates": "-15.657013854445248, -47.802664728268745",
         "geodata": "Clinica dos Olhos, Rua 7, Quadra 2, Sobradinho, Região Geográfica Imediata do Distrito Federal, Reg…",
         "_deepnote_index_column": 0
        },
        {
         "region": "df-1",
         "hub_lng": -47.89366206897872,
         "hub_lat": -15.80511751066334,
         "coordinates": "-15.80511751066334, -47.89366206897872",
         "geodata": "Bloco B / F, W1 Sul, SQS 103, Asa Sul, Brasília, Plano Piloto, Região Geográfica Imediata do Distri…",
         "_deepnote_index_column": 1
        },
        {
         "region": "df-2",
         "hub_lng": -48.05498915846707,
         "hub_lat": -15.83814451122274,
         "coordinates": "-15.83814451122274, -48.05498915846707",
         "geodata": "Armazém do Bolo, lote 4/8, CSB 4/5, Taguatinga, Região Geográfica Imediata do Distrito Federal, Reg…",
         "_deepnote_index_column": 2
        }
       ]
      },
      "text/plain": "  region    hub_lng    hub_lat                               coordinates  \\\n0   df-0 -47.802665 -15.657014  -15.657013854445248, -47.802664728268745   \n1   df-1 -47.893662 -15.805118    -15.80511751066334, -47.89366206897872   \n2   df-2 -48.054989 -15.838145    -15.83814451122274, -48.05498915846707   \n\n                                             geodata  \n0  (Clinica dos Olhos, Rua 7, Quadra 2, Sobradinh...  \n1  (Bloco B / F, W1 Sul, SQS 103, Asa Sul, Brasíl...  \n2  (Armazém do Bolo, lote 4/8, CSB 4/5, Taguating...  ",
      "text/html": "<div>\n<style scoped>\n    .dataframe tbody tr th:only-of-type {\n        vertical-align: middle;\n    }\n\n    .dataframe tbody tr th {\n        vertical-align: top;\n    }\n\n    .dataframe thead th {\n        text-align: right;\n    }\n</style>\n<table border=\"1\" class=\"dataframe\">\n  <thead>\n    <tr style=\"text-align: right;\">\n      <th></th>\n      <th>region</th>\n      <th>hub_lng</th>\n      <th>hub_lat</th>\n      <th>coordinates</th>\n      <th>geodata</th>\n    </tr>\n  </thead>\n  <tbody>\n    <tr>\n      <th>0</th>\n      <td>df-0</td>\n      <td>-47.802665</td>\n      <td>-15.657014</td>\n      <td>-15.657013854445248, -47.802664728268745</td>\n      <td>(Clinica dos Olhos, Rua 7, Quadra 2, Sobradinh...</td>\n    </tr>\n    <tr>\n      <th>1</th>\n      <td>df-1</td>\n      <td>-47.893662</td>\n      <td>-15.805118</td>\n      <td>-15.80511751066334, -47.89366206897872</td>\n      <td>(Bloco B / F, W1 Sul, SQS 103, Asa Sul, Brasíl...</td>\n    </tr>\n    <tr>\n      <th>2</th>\n      <td>df-2</td>\n      <td>-48.054989</td>\n      <td>-15.838145</td>\n      <td>-15.83814451122274, -48.05498915846707</td>\n      <td>(Armazém do Bolo, lote 4/8, CSB 4/5, Taguating...</td>\n    </tr>\n  </tbody>\n</table>\n</div>"
     },
     "metadata": {}
    }
   ]
  },
  {
   "cell_type": "code",
   "metadata": {
    "id": "eJIVfGyKzy9C",
    "cell_id": "00023-d57689da-d178-4919-91bc-487f430d5b57",
    "deepnote_to_be_reexecuted": false,
    "source_hash": "79e46823",
    "execution_start": 1640014880268,
    "execution_millis": 416,
    "deepnote_cell_type": "code"
   },
   "source": "hub_geodata_df = pd.json_normalize(hub_df[\"geodata\"].apply(lambda data: data.raw))\nhub_geodata_df.head()",
   "execution_count": null,
   "outputs": [
    {
     "output_type": "execute_result",
     "execution_count": 8,
     "data": {
      "application/vnd.deepnote.dataframe.v3+json": {
       "column_count": 26,
       "row_count": 3,
       "columns": [
        {
         "name": "place_id",
         "dtype": "int64",
         "stats": {
          "unique_count": 3,
          "nan_count": 0,
          "min": "68616994",
          "max": "134245547",
          "histogram": [
           {
            "bin_start": 68616994,
            "bin_end": 75179849.3,
            "count": 2
           },
           {
            "bin_start": 75179849.3,
            "bin_end": 81742704.6,
            "count": 0
           },
           {
            "bin_start": 81742704.6,
            "bin_end": 88305559.9,
            "count": 0
           },
           {
            "bin_start": 88305559.9,
            "bin_end": 94868415.2,
            "count": 0
           },
           {
            "bin_start": 94868415.2,
            "bin_end": 101431270.5,
            "count": 0
           },
           {
            "bin_start": 101431270.5,
            "bin_end": 107994125.8,
            "count": 0
           },
           {
            "bin_start": 107994125.8,
            "bin_end": 114556981.1,
            "count": 0
           },
           {
            "bin_start": 114556981.1,
            "bin_end": 121119836.4,
            "count": 0
           },
           {
            "bin_start": 121119836.4,
            "bin_end": 127682691.69999999,
            "count": 0
           },
           {
            "bin_start": 127682691.69999999,
            "bin_end": 134245547,
            "count": 1
           }
          ]
         }
        },
        {
         "name": "licence",
         "dtype": "object",
         "stats": {
          "unique_count": 1,
          "nan_count": 0,
          "categories": [
           {
            "name": "Data © OpenStreetMap contributors, ODbL 1.0. https://osm.org/copyright",
            "count": 3
           }
          ]
         }
        },
        {
         "name": "osm_type",
         "dtype": "object",
         "stats": {
          "unique_count": 2,
          "nan_count": 0,
          "categories": [
           {
            "name": "node",
            "count": 2
           },
           {
            "name": "way",
            "count": 1
           }
          ]
         }
        },
        {
         "name": "osm_id",
         "dtype": "int64",
         "stats": {
          "unique_count": 3,
          "nan_count": 0,
          "min": "140908717",
          "max": "6456379935",
          "histogram": [
           {
            "bin_start": 140908717,
            "bin_end": 772455838.8,
            "count": 1
           },
           {
            "bin_start": 772455838.8,
            "bin_end": 1404002960.6,
            "count": 0
           },
           {
            "bin_start": 1404002960.6,
            "bin_end": 2035550082.3999999,
            "count": 0
           },
           {
            "bin_start": 2035550082.3999999,
            "bin_end": 2667097204.2,
            "count": 0
           },
           {
            "bin_start": 2667097204.2,
            "bin_end": 3298644326,
            "count": 0
           },
           {
            "bin_start": 3298644326,
            "bin_end": 3930191447.7999997,
            "count": 0
           },
           {
            "bin_start": 3930191447.7999997,
            "bin_end": 4561738569.599999,
            "count": 0
           },
           {
            "bin_start": 4561738569.599999,
            "bin_end": 5193285691.4,
            "count": 0
           },
           {
            "bin_start": 5193285691.4,
            "bin_end": 5824832813.2,
            "count": 0
           },
           {
            "bin_start": 5824832813.2,
            "bin_end": 6456379935,
            "count": 2
           }
          ]
         }
        },
        {
         "name": "lat",
         "dtype": "object",
         "stats": {
          "unique_count": 3,
          "nan_count": 0,
          "categories": [
           {
            "name": "-15.656819",
            "count": 1
           },
           {
            "name": "-15.80443735",
            "count": 1
           },
           {
            "name": "-15.8384371",
            "count": 1
           }
          ]
         }
        },
        {
         "name": "lon",
         "dtype": "object",
         "stats": {
          "unique_count": 3,
          "nan_count": 0,
          "categories": [
           {
            "name": "-47.8019514",
            "count": 1
           },
           {
            "name": "-47.893155456691616",
            "count": 1
           },
           {
            "name": "-48.0552917",
            "count": 1
           }
          ]
         }
        },
        {
         "name": "display_name",
         "dtype": "object",
         "stats": {
          "unique_count": 3,
          "nan_count": 0,
          "categories": [
           {
            "name": "Clinica dos Olhos, Rua 7, Quadra 2, Sobradinho, Região Geográfica Imediata do Distrito Federal, Região Integrada de Desenvolvimento do Distrito Federal e Entorno, Região Geográfica Intermediária do Distrito Federal, Distrito Federal, Região Centro-Oeste, 73015-202, Brasil",
            "count": 1
           },
           {
            "name": "Bloco B / F, W1 Sul, SQS 103, Asa Sul, Brasília, Plano Piloto, Região Geográfica Imediata do Distrito Federal, Região Integrada de Desenvolvimento do Distrito Federal e Entorno, Região Geográfica Intermediária do Distrito Federal, Distrito Federal, Região Centro-Oeste, 70342-010, Brasil",
            "count": 1
           },
           {
            "name": "Armazém do Bolo, lote 4/8, CSB 4/5, Taguatinga, Região Geográfica Imediata do Distrito Federal, Região Integrada de Desenvolvimento do Distrito Federal e Entorno, Região Geográfica Intermediária do Distrito Federal, Distrito Federal, Região Centro-Oeste, 72015030, Brasil",
            "count": 1
           }
          ]
         }
        },
        {
         "name": "boundingbox",
         "dtype": "object",
         "stats": {
          "unique_count": 3,
          "nan_count": 0,
          "categories": [
           {
            "name": "['-15.656869', '-15.656769', '-47.8020014', '-47.8019014']",
            "count": 1
           },
           {
            "name": "['-15.805071', '-15.8038038', '-47.8937468', '-47.8925642']",
            "count": 1
           },
           {
            "name": "['-15.8384871', '-15.8383871', '-48.0553417', '-48.0552417']",
            "count": 1
           }
          ]
         }
        },
        {
         "name": "address.amenity",
         "dtype": "object",
         "stats": {
          "unique_count": 1,
          "nan_count": 2,
          "categories": [
           {
            "name": "Clinica dos Olhos",
            "count": 1
           },
           {
            "name": "Missing",
            "count": 2
           }
          ]
         }
        },
        {
         "name": "address.road",
         "dtype": "object",
         "stats": {
          "unique_count": 3,
          "nan_count": 0,
          "categories": [
           {
            "name": "Rua 7",
            "count": 1
           },
           {
            "name": "W1 Sul",
            "count": 1
           },
           {
            "name": "CSB 4/5",
            "count": 1
           }
          ]
         }
        },
        {
         "name": "address.residential",
         "dtype": "object",
         "stats": {
          "unique_count": 1,
          "nan_count": 2,
          "categories": [
           {
            "name": "Quadra 2",
            "count": 1
           },
           {
            "name": "Missing",
            "count": 2
           }
          ]
         }
        },
        {
         "name": "address.suburb",
         "dtype": "object",
         "stats": {
          "unique_count": 2,
          "nan_count": 1,
          "categories": [
           {
            "name": "Sobradinho",
            "count": 1
           },
           {
            "name": "Asa Sul",
            "count": 1
           },
           {
            "name": "Missing",
            "count": 1
           }
          ]
         }
        },
        {
         "name": "address.town",
         "dtype": "object",
         "stats": {
          "unique_count": 1,
          "nan_count": 2,
          "categories": [
           {
            "name": "Sobradinho",
            "count": 1
           },
           {
            "name": "Missing",
            "count": 2
           }
          ]
         }
        },
        {
         "name": "address.municipality",
         "dtype": "object",
         "stats": {
          "unique_count": 1,
          "nan_count": 0,
          "categories": [
           {
            "name": "Região Geográfica Imediata do Distrito Federal",
            "count": 3
           }
          ]
         }
        },
        {
         "name": "address.county",
         "dtype": "object",
         "stats": {
          "unique_count": 1,
          "nan_count": 0,
          "categories": [
           {
            "name": "Região Integrada de Desenvolvimento do Distrito Federal e Entorno",
            "count": 3
           }
          ]
         }
        },
        {
         "name": "address.state_district",
         "dtype": "object",
         "stats": {
          "unique_count": 1,
          "nan_count": 0,
          "categories": [
           {
            "name": "Região Geográfica Intermediária do Distrito Federal",
            "count": 3
           }
          ]
         }
        },
        {
         "name": "address.state",
         "dtype": "object",
         "stats": {
          "unique_count": 1,
          "nan_count": 0,
          "categories": [
           {
            "name": "Distrito Federal",
            "count": 3
           }
          ]
         }
        },
        {
         "name": "address.region",
         "dtype": "object",
         "stats": {
          "unique_count": 1,
          "nan_count": 0,
          "categories": [
           {
            "name": "Região Centro-Oeste",
            "count": 3
           }
          ]
         }
        },
        {
         "name": "address.postcode",
         "dtype": "object",
         "stats": {
          "unique_count": 3,
          "nan_count": 0,
          "categories": [
           {
            "name": "73015-202",
            "count": 1
           },
           {
            "name": "70342-010",
            "count": 1
           },
           {
            "name": "72015030",
            "count": 1
           }
          ]
         }
        },
        {
         "name": "address.country",
         "dtype": "object",
         "stats": {
          "unique_count": 1,
          "nan_count": 0,
          "categories": [
           {
            "name": "Brasil",
            "count": 3
           }
          ]
         }
        },
        {
         "name": "address.country_code",
         "dtype": "object",
         "stats": {
          "unique_count": 1,
          "nan_count": 0,
          "categories": [
           {
            "name": "br",
            "count": 3
           }
          ]
         }
        },
        {
         "name": "address.building",
         "dtype": "object",
         "stats": {
          "unique_count": 1,
          "nan_count": 2,
          "categories": [
           {
            "name": "Bloco B / F",
            "count": 1
           },
           {
            "name": "Missing",
            "count": 2
           }
          ]
         }
        },
        {
         "name": "address.neighbourhood",
         "dtype": "object",
         "stats": {
          "unique_count": 1,
          "nan_count": 2,
          "categories": [
           {
            "name": "SQS 103",
            "count": 1
           },
           {
            "name": "Missing",
            "count": 2
           }
          ]
         }
        },
        {
         "name": "address.city",
         "dtype": "object",
         "stats": {
          "unique_count": 2,
          "nan_count": 1,
          "categories": [
           {
            "name": "Brasília",
            "count": 1
           },
           {
            "name": "Taguatinga",
            "count": 1
           },
           {
            "name": "Missing",
            "count": 1
           }
          ]
         }
        },
        {
         "name": "address.shop",
         "dtype": "object",
         "stats": {
          "unique_count": 1,
          "nan_count": 2,
          "categories": [
           {
            "name": "Armazém do Bolo",
            "count": 1
           },
           {
            "name": "Missing",
            "count": 2
           }
          ]
         }
        },
        {
         "name": "address.house_number",
         "dtype": "object",
         "stats": {
          "unique_count": 1,
          "nan_count": 2,
          "categories": [
           {
            "name": "lote 4/8",
            "count": 1
           },
           {
            "name": "Missing",
            "count": 2
           }
          ]
         }
        },
        {
         "name": "_deepnote_index_column",
         "dtype": "int64"
        }
       ],
       "rows": [
        {
         "place_id": 69392732,
         "licence": "Data © OpenStreetMap contributors, ODbL 1.0. https://osm.org/copyright",
         "osm_type": "node",
         "osm_id": 6456379935,
         "lat": "-15.656819",
         "lon": "-47.8019514",
         "display_name": "Clinica dos Olhos, Rua 7, Quadra 2, Sobradinho, Região Geográfica Imediata do Distrito Federal, Reg…",
         "boundingbox": "['-15.656869', '-15.656769', '-47.8020014', '-47.8019014']",
         "address.amenity": "Clinica dos Olhos",
         "address.road": "Rua 7",
         "address.residential": "Quadra 2",
         "address.suburb": "Sobradinho",
         "address.town": "Sobradinho",
         "address.municipality": "Região Geográfica Imediata do Distrito Federal",
         "address.county": "Região Integrada de Desenvolvimento do Distrito Federal e Entorno",
         "address.state_district": "Região Geográfica Intermediária do Distrito Federal",
         "address.state": "Distrito Federal",
         "address.region": "Região Centro-Oeste",
         "address.postcode": "73015-202",
         "address.country": "Brasil",
         "address.country_code": "br",
         "address.building": "nan",
         "address.neighbourhood": "nan",
         "address.city": "nan",
         "address.shop": "nan",
         "address.house_number": "nan",
         "_deepnote_index_column": 0
        },
        {
         "place_id": 134245547,
         "licence": "Data © OpenStreetMap contributors, ODbL 1.0. https://osm.org/copyright",
         "osm_type": "way",
         "osm_id": 140908717,
         "lat": "-15.80443735",
         "lon": "-47.893155456691616",
         "display_name": "Bloco B / F, W1 Sul, SQS 103, Asa Sul, Brasília, Plano Piloto, Região Geográfica Imediata do Distri…",
         "boundingbox": "['-15.805071', '-15.8038038', '-47.8937468', '-47.8925642']",
         "address.amenity": "nan",
         "address.road": "W1 Sul",
         "address.residential": "nan",
         "address.suburb": "Asa Sul",
         "address.town": "nan",
         "address.municipality": "Região Geográfica Imediata do Distrito Federal",
         "address.county": "Região Integrada de Desenvolvimento do Distrito Federal e Entorno",
         "address.state_district": "Região Geográfica Intermediária do Distrito Federal",
         "address.state": "Distrito Federal",
         "address.region": "Região Centro-Oeste",
         "address.postcode": "70342-010",
         "address.country": "Brasil",
         "address.country_code": "br",
         "address.building": "Bloco B / F",
         "address.neighbourhood": "SQS 103",
         "address.city": "Brasília",
         "address.shop": "nan",
         "address.house_number": "nan",
         "_deepnote_index_column": 1
        },
        {
         "place_id": 68616994,
         "licence": "Data © OpenStreetMap contributors, ODbL 1.0. https://osm.org/copyright",
         "osm_type": "node",
         "osm_id": 6249717596,
         "lat": "-15.8384371",
         "lon": "-48.0552917",
         "display_name": "Armazém do Bolo, lote 4/8, CSB 4/5, Taguatinga, Região Geográfica Imediata do Distrito Federal, Reg…",
         "boundingbox": "['-15.8384871', '-15.8383871', '-48.0553417', '-48.0552417']",
         "address.amenity": "nan",
         "address.road": "CSB 4/5",
         "address.residential": "nan",
         "address.suburb": "nan",
         "address.town": "nan",
         "address.municipality": "Região Geográfica Imediata do Distrito Federal",
         "address.county": "Região Integrada de Desenvolvimento do Distrito Federal e Entorno",
         "address.state_district": "Região Geográfica Intermediária do Distrito Federal",
         "address.state": "Distrito Federal",
         "address.region": "Região Centro-Oeste",
         "address.postcode": "72015030",
         "address.country": "Brasil",
         "address.country_code": "br",
         "address.building": "nan",
         "address.neighbourhood": "nan",
         "address.city": "Taguatinga",
         "address.shop": "Armazém do Bolo",
         "address.house_number": "lote 4/8",
         "_deepnote_index_column": 2
        }
       ]
      },
      "text/plain": "    place_id                                            licence osm_type  \\\n0   69392732  Data © OpenStreetMap contributors, ODbL 1.0. h...     node   \n1  134245547  Data © OpenStreetMap contributors, ODbL 1.0. h...      way   \n2   68616994  Data © OpenStreetMap contributors, ODbL 1.0. h...     node   \n\n       osm_id           lat                  lon  \\\n0  6456379935    -15.656819          -47.8019514   \n1   140908717  -15.80443735  -47.893155456691616   \n2  6249717596   -15.8384371          -48.0552917   \n\n                                        display_name  \\\n0  Clinica dos Olhos, Rua 7, Quadra 2, Sobradinho...   \n1  Bloco B / F, W1 Sul, SQS 103, Asa Sul, Brasíli...   \n2  Armazém do Bolo, lote 4/8, CSB 4/5, Taguatinga...   \n\n                                         boundingbox    address.amenity  \\\n0  [-15.656869, -15.656769, -47.8020014, -47.8019...  Clinica dos Olhos   \n1  [-15.805071, -15.8038038, -47.8937468, -47.892...                NaN   \n2  [-15.8384871, -15.8383871, -48.0553417, -48.05...                NaN   \n\n  address.road  ...     address.state       address.region address.postcode  \\\n0        Rua 7  ...  Distrito Federal  Região Centro-Oeste        73015-202   \n1       W1 Sul  ...  Distrito Federal  Região Centro-Oeste        70342-010   \n2      CSB 4/5  ...  Distrito Federal  Região Centro-Oeste         72015030   \n\n  address.country address.country_code address.building address.neighbourhood  \\\n0          Brasil                   br              NaN                   NaN   \n1          Brasil                   br      Bloco B / F               SQS 103   \n2          Brasil                   br              NaN                   NaN   \n\n  address.city     address.shop address.house_number  \n0          NaN              NaN                  NaN  \n1     Brasília              NaN                  NaN  \n2   Taguatinga  Armazém do Bolo             lote 4/8  \n\n[3 rows x 26 columns]",
      "text/html": "<div>\n<style scoped>\n    .dataframe tbody tr th:only-of-type {\n        vertical-align: middle;\n    }\n\n    .dataframe tbody tr th {\n        vertical-align: top;\n    }\n\n    .dataframe thead th {\n        text-align: right;\n    }\n</style>\n<table border=\"1\" class=\"dataframe\">\n  <thead>\n    <tr style=\"text-align: right;\">\n      <th></th>\n      <th>place_id</th>\n      <th>licence</th>\n      <th>osm_type</th>\n      <th>osm_id</th>\n      <th>lat</th>\n      <th>lon</th>\n      <th>display_name</th>\n      <th>boundingbox</th>\n      <th>address.amenity</th>\n      <th>address.road</th>\n      <th>...</th>\n      <th>address.state</th>\n      <th>address.region</th>\n      <th>address.postcode</th>\n      <th>address.country</th>\n      <th>address.country_code</th>\n      <th>address.building</th>\n      <th>address.neighbourhood</th>\n      <th>address.city</th>\n      <th>address.shop</th>\n      <th>address.house_number</th>\n    </tr>\n  </thead>\n  <tbody>\n    <tr>\n      <th>0</th>\n      <td>69392732</td>\n      <td>Data © OpenStreetMap contributors, ODbL 1.0. h...</td>\n      <td>node</td>\n      <td>6456379935</td>\n      <td>-15.656819</td>\n      <td>-47.8019514</td>\n      <td>Clinica dos Olhos, Rua 7, Quadra 2, Sobradinho...</td>\n      <td>[-15.656869, -15.656769, -47.8020014, -47.8019...</td>\n      <td>Clinica dos Olhos</td>\n      <td>Rua 7</td>\n      <td>...</td>\n      <td>Distrito Federal</td>\n      <td>Região Centro-Oeste</td>\n      <td>73015-202</td>\n      <td>Brasil</td>\n      <td>br</td>\n      <td>NaN</td>\n      <td>NaN</td>\n      <td>NaN</td>\n      <td>NaN</td>\n      <td>NaN</td>\n    </tr>\n    <tr>\n      <th>1</th>\n      <td>134245547</td>\n      <td>Data © OpenStreetMap contributors, ODbL 1.0. h...</td>\n      <td>way</td>\n      <td>140908717</td>\n      <td>-15.80443735</td>\n      <td>-47.893155456691616</td>\n      <td>Bloco B / F, W1 Sul, SQS 103, Asa Sul, Brasíli...</td>\n      <td>[-15.805071, -15.8038038, -47.8937468, -47.892...</td>\n      <td>NaN</td>\n      <td>W1 Sul</td>\n      <td>...</td>\n      <td>Distrito Federal</td>\n      <td>Região Centro-Oeste</td>\n      <td>70342-010</td>\n      <td>Brasil</td>\n      <td>br</td>\n      <td>Bloco B / F</td>\n      <td>SQS 103</td>\n      <td>Brasília</td>\n      <td>NaN</td>\n      <td>NaN</td>\n    </tr>\n    <tr>\n      <th>2</th>\n      <td>68616994</td>\n      <td>Data © OpenStreetMap contributors, ODbL 1.0. h...</td>\n      <td>node</td>\n      <td>6249717596</td>\n      <td>-15.8384371</td>\n      <td>-48.0552917</td>\n      <td>Armazém do Bolo, lote 4/8, CSB 4/5, Taguatinga...</td>\n      <td>[-15.8384871, -15.8383871, -48.0553417, -48.05...</td>\n      <td>NaN</td>\n      <td>CSB 4/5</td>\n      <td>...</td>\n      <td>Distrito Federal</td>\n      <td>Região Centro-Oeste</td>\n      <td>72015030</td>\n      <td>Brasil</td>\n      <td>br</td>\n      <td>NaN</td>\n      <td>NaN</td>\n      <td>Taguatinga</td>\n      <td>Armazém do Bolo</td>\n      <td>lote 4/8</td>\n    </tr>\n  </tbody>\n</table>\n<p>3 rows × 26 columns</p>\n</div>"
     },
     "metadata": {}
    }
   ]
  },
  {
   "cell_type": "code",
   "metadata": {
    "id": "0EmMhtKPy3hY",
    "cell_id": "00024-36dea8e6-79c6-49a7-bd3e-155db4816b01",
    "deepnote_to_be_reexecuted": false,
    "source_hash": "5ce89ce",
    "execution_start": 1640014886298,
    "execution_millis": 41,
    "deepnote_cell_type": "code"
   },
   "source": "import numpy as np\n\nhub_geodata_df = hub_geodata_df[[\"address.town\", \"address.suburb\", \"address.city\"]]\nhub_geodata_df.rename(columns={\"address.town\": \"hub_town\", \"address.suburb\": \"hub_suburb\", \"address.city\": \"hub_city\"}, inplace=True)\nhub_geodata_df[\"hub_city\"] = np.where(hub_geodata_df[\"hub_city\"].notna(), hub_geodata_df[\"hub_city\"], hub_geodata_df[\"hub_town\"])\nhub_geodata_df[\"hub_suburb\"] = np.where(hub_geodata_df[\"hub_suburb\"].notna(), hub_geodata_df[\"hub_suburb\"], hub_geodata_df[\"hub_city\"])\nhub_geodata_df = hub_geodata_df.drop(\"hub_town\", axis=1)\nhub_geodata_df.head()",
   "execution_count": null,
   "outputs": [
    {
     "output_type": "execute_result",
     "execution_count": 9,
     "data": {
      "application/vnd.deepnote.dataframe.v3+json": {
       "column_count": 2,
       "row_count": 3,
       "columns": [
        {
         "name": "hub_suburb",
         "dtype": "object",
         "stats": {
          "unique_count": 3,
          "nan_count": 0,
          "categories": [
           {
            "name": "Sobradinho",
            "count": 1
           },
           {
            "name": "Asa Sul",
            "count": 1
           },
           {
            "name": "Taguatinga",
            "count": 1
           }
          ]
         }
        },
        {
         "name": "hub_city",
         "dtype": "object",
         "stats": {
          "unique_count": 3,
          "nan_count": 0,
          "categories": [
           {
            "name": "Sobradinho",
            "count": 1
           },
           {
            "name": "Brasília",
            "count": 1
           },
           {
            "name": "Taguatinga",
            "count": 1
           }
          ]
         }
        },
        {
         "name": "_deepnote_index_column",
         "dtype": "int64"
        }
       ],
       "rows": [
        {
         "hub_suburb": "Sobradinho",
         "hub_city": "Sobradinho",
         "_deepnote_index_column": 0
        },
        {
         "hub_suburb": "Asa Sul",
         "hub_city": "Brasília",
         "_deepnote_index_column": 1
        },
        {
         "hub_suburb": "Taguatinga",
         "hub_city": "Taguatinga",
         "_deepnote_index_column": 2
        }
       ]
      },
      "text/plain": "   hub_suburb    hub_city\n0  Sobradinho  Sobradinho\n1     Asa Sul    Brasília\n2  Taguatinga  Taguatinga",
      "text/html": "<div>\n<style scoped>\n    .dataframe tbody tr th:only-of-type {\n        vertical-align: middle;\n    }\n\n    .dataframe tbody tr th {\n        vertical-align: top;\n    }\n\n    .dataframe thead th {\n        text-align: right;\n    }\n</style>\n<table border=\"1\" class=\"dataframe\">\n  <thead>\n    <tr style=\"text-align: right;\">\n      <th></th>\n      <th>hub_suburb</th>\n      <th>hub_city</th>\n    </tr>\n  </thead>\n  <tbody>\n    <tr>\n      <th>0</th>\n      <td>Sobradinho</td>\n      <td>Sobradinho</td>\n    </tr>\n    <tr>\n      <th>1</th>\n      <td>Asa Sul</td>\n      <td>Brasília</td>\n    </tr>\n    <tr>\n      <th>2</th>\n      <td>Taguatinga</td>\n      <td>Taguatinga</td>\n    </tr>\n  </tbody>\n</table>\n</div>"
     },
     "metadata": {}
    }
   ]
  },
  {
   "cell_type": "markdown",
   "source": "O DataFrame `hub_geodata_df` com as informações de **cidade** e **bairro** é então combinado ao DataFrame principal `deliveries_df`, enriquecendo assim o dado.",
   "metadata": {
    "id": "itsj2hJDEWoB",
    "cell_id": "00025-7bc27e75-484b-4c1a-82ac-ca985abcc64b",
    "deepnote_cell_type": "markdown"
   }
  },
  {
   "cell_type": "code",
   "metadata": {
    "id": "TCn8BZJDDVvt",
    "cell_id": "00026-a8a8afe9-972e-421a-848c-a71564b77369",
    "deepnote_to_be_reexecuted": false,
    "source_hash": "dd341584",
    "execution_start": 1640014893520,
    "execution_millis": 38,
    "deepnote_cell_type": "code"
   },
   "source": "hub_df = pd.merge(left=hub_df, right=hub_geodata_df, left_index=True, right_index=True)\nhub_df = hub_df[[\"region\", \"hub_suburb\", \"hub_city\"]]\nhub_df.head()",
   "execution_count": null,
   "outputs": [
    {
     "output_type": "execute_result",
     "execution_count": 10,
     "data": {
      "application/vnd.deepnote.dataframe.v3+json": {
       "column_count": 3,
       "row_count": 3,
       "columns": [
        {
         "name": "region",
         "dtype": "object",
         "stats": {
          "unique_count": 3,
          "nan_count": 0,
          "categories": [
           {
            "name": "df-0",
            "count": 1
           },
           {
            "name": "df-1",
            "count": 1
           },
           {
            "name": "df-2",
            "count": 1
           }
          ]
         }
        },
        {
         "name": "hub_suburb",
         "dtype": "object",
         "stats": {
          "unique_count": 3,
          "nan_count": 0,
          "categories": [
           {
            "name": "Sobradinho",
            "count": 1
           },
           {
            "name": "Asa Sul",
            "count": 1
           },
           {
            "name": "Taguatinga",
            "count": 1
           }
          ]
         }
        },
        {
         "name": "hub_city",
         "dtype": "object",
         "stats": {
          "unique_count": 3,
          "nan_count": 0,
          "categories": [
           {
            "name": "Sobradinho",
            "count": 1
           },
           {
            "name": "Brasília",
            "count": 1
           },
           {
            "name": "Taguatinga",
            "count": 1
           }
          ]
         }
        },
        {
         "name": "_deepnote_index_column",
         "dtype": "int64"
        }
       ],
       "rows": [
        {
         "region": "df-0",
         "hub_suburb": "Sobradinho",
         "hub_city": "Sobradinho",
         "_deepnote_index_column": 0
        },
        {
         "region": "df-1",
         "hub_suburb": "Asa Sul",
         "hub_city": "Brasília",
         "_deepnote_index_column": 1
        },
        {
         "region": "df-2",
         "hub_suburb": "Taguatinga",
         "hub_city": "Taguatinga",
         "_deepnote_index_column": 2
        }
       ]
      },
      "text/plain": "  region  hub_suburb    hub_city\n0   df-0  Sobradinho  Sobradinho\n1   df-1     Asa Sul    Brasília\n2   df-2  Taguatinga  Taguatinga",
      "text/html": "<div>\n<style scoped>\n    .dataframe tbody tr th:only-of-type {\n        vertical-align: middle;\n    }\n\n    .dataframe tbody tr th {\n        vertical-align: top;\n    }\n\n    .dataframe thead th {\n        text-align: right;\n    }\n</style>\n<table border=\"1\" class=\"dataframe\">\n  <thead>\n    <tr style=\"text-align: right;\">\n      <th></th>\n      <th>region</th>\n      <th>hub_suburb</th>\n      <th>hub_city</th>\n    </tr>\n  </thead>\n  <tbody>\n    <tr>\n      <th>0</th>\n      <td>df-0</td>\n      <td>Sobradinho</td>\n      <td>Sobradinho</td>\n    </tr>\n    <tr>\n      <th>1</th>\n      <td>df-1</td>\n      <td>Asa Sul</td>\n      <td>Brasília</td>\n    </tr>\n    <tr>\n      <th>2</th>\n      <td>df-2</td>\n      <td>Taguatinga</td>\n      <td>Taguatinga</td>\n    </tr>\n  </tbody>\n</table>\n</div>"
     },
     "metadata": {}
    }
   ]
  },
  {
   "cell_type": "code",
   "metadata": {
    "id": "RsxqoUX0BtG3",
    "cell_id": "00027-81ce3b97-ea45-494e-a47f-cd5a28b7efaf",
    "deepnote_to_be_reexecuted": false,
    "source_hash": "61fae2ae",
    "execution_start": 1640014895277,
    "execution_millis": 439,
    "deepnote_cell_type": "code"
   },
   "source": "deliveries_df = pd.merge(left=deliveries_df, right=hub_df, how=\"inner\", on=\"region\")\ndeliveries_df = deliveries_df[[\"name\", \"region\", \"hub_lng\", \"hub_lat\", \"hub_city\", \"hub_suburb\", \"vehicle_capacity\", \"delivery_size\", \"delivery_lng\", \"delivery_lat\"]]\ndeliveries_df.head()",
   "execution_count": null,
   "outputs": [
    {
     "output_type": "execute_result",
     "execution_count": 11,
     "data": {
      "application/vnd.deepnote.dataframe.v3+json": {
       "column_count": 10,
       "row_count": 5,
       "columns": [
        {
         "name": "name",
         "dtype": "object",
         "stats": {
          "unique_count": 1,
          "nan_count": 0,
          "categories": [
           {
            "name": "cvrp-2-df-33",
            "count": 5
           }
          ]
         }
        },
        {
         "name": "region",
         "dtype": "object",
         "stats": {
          "unique_count": 1,
          "nan_count": 0,
          "categories": [
           {
            "name": "df-2",
            "count": 5
           }
          ]
         }
        },
        {
         "name": "hub_lng",
         "dtype": "float64",
         "stats": {
          "unique_count": 1,
          "nan_count": 0,
          "min": "-48.05498915846707",
          "max": "-48.05498915846707",
          "histogram": [
           {
            "bin_start": -48.55498915846707,
            "bin_end": -48.45498915846707,
            "count": 0
           },
           {
            "bin_start": -48.45498915846707,
            "bin_end": -48.35498915846707,
            "count": 0
           },
           {
            "bin_start": -48.35498915846707,
            "bin_end": -48.254989158467076,
            "count": 0
           },
           {
            "bin_start": -48.254989158467076,
            "bin_end": -48.154989158467075,
            "count": 0
           },
           {
            "bin_start": -48.154989158467075,
            "bin_end": -48.05498915846707,
            "count": 0
           },
           {
            "bin_start": -48.05498915846707,
            "bin_end": -47.95498915846707,
            "count": 5
           },
           {
            "bin_start": -47.95498915846707,
            "bin_end": -47.85498915846707,
            "count": 0
           },
           {
            "bin_start": -47.85498915846707,
            "bin_end": -47.754989158467076,
            "count": 0
           },
           {
            "bin_start": -47.754989158467076,
            "bin_end": -47.654989158467075,
            "count": 0
           },
           {
            "bin_start": -47.654989158467075,
            "bin_end": -47.55498915846707,
            "count": 0
           }
          ]
         }
        },
        {
         "name": "hub_lat",
         "dtype": "float64",
         "stats": {
          "unique_count": 1,
          "nan_count": 0,
          "min": "-15.83814451122274",
          "max": "-15.83814451122274",
          "histogram": [
           {
            "bin_start": -16.33814451122274,
            "bin_end": -16.23814451122274,
            "count": 0
           },
           {
            "bin_start": -16.23814451122274,
            "bin_end": -16.13814451122274,
            "count": 0
           },
           {
            "bin_start": -16.13814451122274,
            "bin_end": -16.03814451122274,
            "count": 0
           },
           {
            "bin_start": -16.03814451122274,
            "bin_end": -15.93814451122274,
            "count": 0
           },
           {
            "bin_start": -15.93814451122274,
            "bin_end": -15.83814451122274,
            "count": 0
           },
           {
            "bin_start": -15.83814451122274,
            "bin_end": -15.73814451122274,
            "count": 5
           },
           {
            "bin_start": -15.73814451122274,
            "bin_end": -15.638144511222741,
            "count": 0
           },
           {
            "bin_start": -15.638144511222741,
            "bin_end": -15.53814451122274,
            "count": 0
           },
           {
            "bin_start": -15.53814451122274,
            "bin_end": -15.43814451122274,
            "count": 0
           },
           {
            "bin_start": -15.43814451122274,
            "bin_end": -15.33814451122274,
            "count": 0
           }
          ]
         }
        },
        {
         "name": "hub_city",
         "dtype": "object",
         "stats": {
          "unique_count": 1,
          "nan_count": 0,
          "categories": [
           {
            "name": "Taguatinga",
            "count": 5
           }
          ]
         }
        },
        {
         "name": "hub_suburb",
         "dtype": "object",
         "stats": {
          "unique_count": 1,
          "nan_count": 0,
          "categories": [
           {
            "name": "Taguatinga",
            "count": 5
           }
          ]
         }
        },
        {
         "name": "vehicle_capacity",
         "dtype": "int64",
         "stats": {
          "unique_count": 1,
          "nan_count": 0,
          "min": "180",
          "max": "180",
          "histogram": [
           {
            "bin_start": 179.5,
            "bin_end": 179.6,
            "count": 0
           },
           {
            "bin_start": 179.6,
            "bin_end": 179.7,
            "count": 0
           },
           {
            "bin_start": 179.7,
            "bin_end": 179.8,
            "count": 0
           },
           {
            "bin_start": 179.8,
            "bin_end": 179.9,
            "count": 0
           },
           {
            "bin_start": 179.9,
            "bin_end": 180,
            "count": 0
           },
           {
            "bin_start": 180,
            "bin_end": 180.1,
            "count": 5
           },
           {
            "bin_start": 180.1,
            "bin_end": 180.2,
            "count": 0
           },
           {
            "bin_start": 180.2,
            "bin_end": 180.3,
            "count": 0
           },
           {
            "bin_start": 180.3,
            "bin_end": 180.4,
            "count": 0
           },
           {
            "bin_start": 180.4,
            "bin_end": 180.5,
            "count": 0
           }
          ]
         }
        },
        {
         "name": "delivery_size",
         "dtype": "int64",
         "stats": {
          "unique_count": 4,
          "nan_count": 0,
          "min": "1",
          "max": "9",
          "histogram": [
           {
            "bin_start": 1,
            "bin_end": 1.8,
            "count": 1
           },
           {
            "bin_start": 1.8,
            "bin_end": 2.6,
            "count": 2
           },
           {
            "bin_start": 2.6,
            "bin_end": 3.4000000000000004,
            "count": 0
           },
           {
            "bin_start": 3.4000000000000004,
            "bin_end": 4.2,
            "count": 0
           },
           {
            "bin_start": 4.2,
            "bin_end": 5,
            "count": 0
           },
           {
            "bin_start": 5,
            "bin_end": 5.800000000000001,
            "count": 0
           },
           {
            "bin_start": 5.800000000000001,
            "bin_end": 6.6000000000000005,
            "count": 0
           },
           {
            "bin_start": 6.6000000000000005,
            "bin_end": 7.4,
            "count": 1
           },
           {
            "bin_start": 7.4,
            "bin_end": 8.2,
            "count": 0
           },
           {
            "bin_start": 8.2,
            "bin_end": 9,
            "count": 1
           }
          ]
         }
        },
        {
         "name": "delivery_lng",
         "dtype": "float64",
         "stats": {
          "unique_count": 5,
          "nan_count": 0,
          "min": "-48.11819489551",
          "max": "-48.11248339849675",
          "histogram": [
           {
            "bin_start": -48.11819489551,
            "bin_end": -48.11762374580868,
            "count": 2
           },
           {
            "bin_start": -48.11762374580868,
            "bin_end": -48.11705259610735,
            "count": 0
           },
           {
            "bin_start": -48.11705259610735,
            "bin_end": -48.11648144640603,
            "count": 0
           },
           {
            "bin_start": -48.11648144640603,
            "bin_end": -48.1159102967047,
            "count": 1
           },
           {
            "bin_start": -48.1159102967047,
            "bin_end": -48.115339147003375,
            "count": 0
           },
           {
            "bin_start": -48.115339147003375,
            "bin_end": -48.11476799730205,
            "count": 1
           },
           {
            "bin_start": -48.11476799730205,
            "bin_end": -48.114196847600724,
            "count": 0
           },
           {
            "bin_start": -48.114196847600724,
            "bin_end": -48.1136256978994,
            "count": 0
           },
           {
            "bin_start": -48.1136256978994,
            "bin_end": -48.11305454819807,
            "count": 0
           },
           {
            "bin_start": -48.11305454819807,
            "bin_end": -48.11248339849675,
            "count": 1
           }
          ]
         }
        },
        {
         "name": "delivery_lat",
         "dtype": "float64",
         "stats": {
          "unique_count": 5,
          "nan_count": 0,
          "min": "-15.85805462185708",
          "max": "-15.846471025281456",
          "histogram": [
           {
            "bin_start": -15.85805462185708,
            "bin_end": -15.856896262199518,
            "count": 1
           },
           {
            "bin_start": -15.856896262199518,
            "bin_end": -15.855737902541955,
            "count": 0
           },
           {
            "bin_start": -15.855737902541955,
            "bin_end": -15.854579542884393,
            "count": 0
           },
           {
            "bin_start": -15.854579542884393,
            "bin_end": -15.85342118322683,
            "count": 0
           },
           {
            "bin_start": -15.85342118322683,
            "bin_end": -15.85226282356927,
            "count": 0
           },
           {
            "bin_start": -15.85226282356927,
            "bin_end": -15.851104463911707,
            "count": 0
           },
           {
            "bin_start": -15.851104463911707,
            "bin_end": -15.849946104254144,
            "count": 1
           },
           {
            "bin_start": -15.849946104254144,
            "bin_end": -15.848787744596581,
            "count": 1
           },
           {
            "bin_start": -15.848787744596581,
            "bin_end": -15.847629384939019,
            "count": 1
           },
           {
            "bin_start": -15.847629384939019,
            "bin_end": -15.846471025281456,
            "count": 1
           }
          ]
         }
        },
        {
         "name": "_deepnote_index_column",
         "dtype": "int64"
        }
       ],
       "rows": [
        {
         "name": "cvrp-2-df-33",
         "region": "df-2",
         "hub_lng": -48.05498915846707,
         "hub_lat": -15.83814451122274,
         "hub_city": "Taguatinga",
         "hub_suburb": "Taguatinga",
         "vehicle_capacity": 180,
         "delivery_size": 9,
         "delivery_lng": -48.11618888384239,
         "delivery_lat": -15.848929154862294,
         "_deepnote_index_column": 0
        },
        {
         "name": "cvrp-2-df-33",
         "region": "df-2",
         "hub_lng": -48.05498915846707,
         "hub_lat": -15.83814451122274,
         "hub_city": "Taguatinga",
         "hub_suburb": "Taguatinga",
         "vehicle_capacity": 180,
         "delivery_size": 2,
         "delivery_lng": -48.11819489551,
         "delivery_lat": -15.850772371049631,
         "_deepnote_index_column": 1
        },
        {
         "name": "cvrp-2-df-33",
         "region": "df-2",
         "hub_lng": -48.05498915846707,
         "hub_lat": -15.83814451122274,
         "hub_city": "Taguatinga",
         "hub_suburb": "Taguatinga",
         "vehicle_capacity": 180,
         "delivery_size": 1,
         "delivery_lng": -48.11248339849675,
         "delivery_lat": -15.84787055941764,
         "_deepnote_index_column": 2
        },
        {
         "name": "cvrp-2-df-33",
         "region": "df-2",
         "hub_lng": -48.05498915846707,
         "hub_lat": -15.83814451122274,
         "hub_city": "Taguatinga",
         "hub_suburb": "Taguatinga",
         "vehicle_capacity": 180,
         "delivery_size": 2,
         "delivery_lng": -48.11802268617869,
         "delivery_lat": -15.846471025281456,
         "_deepnote_index_column": 3
        },
        {
         "name": "cvrp-2-df-33",
         "region": "df-2",
         "hub_lng": -48.05498915846707,
         "hub_lat": -15.83814451122274,
         "hub_city": "Taguatinga",
         "hub_suburb": "Taguatinga",
         "vehicle_capacity": 180,
         "delivery_size": 7,
         "delivery_lng": -48.114898174591026,
         "delivery_lat": -15.85805462185708,
         "_deepnote_index_column": 4
        }
       ]
      },
      "text/plain": "           name region    hub_lng    hub_lat    hub_city  hub_suburb  \\\n0  cvrp-2-df-33   df-2 -48.054989 -15.838145  Taguatinga  Taguatinga   \n1  cvrp-2-df-33   df-2 -48.054989 -15.838145  Taguatinga  Taguatinga   \n2  cvrp-2-df-33   df-2 -48.054989 -15.838145  Taguatinga  Taguatinga   \n3  cvrp-2-df-33   df-2 -48.054989 -15.838145  Taguatinga  Taguatinga   \n4  cvrp-2-df-33   df-2 -48.054989 -15.838145  Taguatinga  Taguatinga   \n\n   vehicle_capacity  delivery_size  delivery_lng  delivery_lat  \n0               180              9    -48.116189    -15.848929  \n1               180              2    -48.118195    -15.850772  \n2               180              1    -48.112483    -15.847871  \n3               180              2    -48.118023    -15.846471  \n4               180              7    -48.114898    -15.858055  ",
      "text/html": "<div>\n<style scoped>\n    .dataframe tbody tr th:only-of-type {\n        vertical-align: middle;\n    }\n\n    .dataframe tbody tr th {\n        vertical-align: top;\n    }\n\n    .dataframe thead th {\n        text-align: right;\n    }\n</style>\n<table border=\"1\" class=\"dataframe\">\n  <thead>\n    <tr style=\"text-align: right;\">\n      <th></th>\n      <th>name</th>\n      <th>region</th>\n      <th>hub_lng</th>\n      <th>hub_lat</th>\n      <th>hub_city</th>\n      <th>hub_suburb</th>\n      <th>vehicle_capacity</th>\n      <th>delivery_size</th>\n      <th>delivery_lng</th>\n      <th>delivery_lat</th>\n    </tr>\n  </thead>\n  <tbody>\n    <tr>\n      <th>0</th>\n      <td>cvrp-2-df-33</td>\n      <td>df-2</td>\n      <td>-48.054989</td>\n      <td>-15.838145</td>\n      <td>Taguatinga</td>\n      <td>Taguatinga</td>\n      <td>180</td>\n      <td>9</td>\n      <td>-48.116189</td>\n      <td>-15.848929</td>\n    </tr>\n    <tr>\n      <th>1</th>\n      <td>cvrp-2-df-33</td>\n      <td>df-2</td>\n      <td>-48.054989</td>\n      <td>-15.838145</td>\n      <td>Taguatinga</td>\n      <td>Taguatinga</td>\n      <td>180</td>\n      <td>2</td>\n      <td>-48.118195</td>\n      <td>-15.850772</td>\n    </tr>\n    <tr>\n      <th>2</th>\n      <td>cvrp-2-df-33</td>\n      <td>df-2</td>\n      <td>-48.054989</td>\n      <td>-15.838145</td>\n      <td>Taguatinga</td>\n      <td>Taguatinga</td>\n      <td>180</td>\n      <td>1</td>\n      <td>-48.112483</td>\n      <td>-15.847871</td>\n    </tr>\n    <tr>\n      <th>3</th>\n      <td>cvrp-2-df-33</td>\n      <td>df-2</td>\n      <td>-48.054989</td>\n      <td>-15.838145</td>\n      <td>Taguatinga</td>\n      <td>Taguatinga</td>\n      <td>180</td>\n      <td>2</td>\n      <td>-48.118023</td>\n      <td>-15.846471</td>\n    </tr>\n    <tr>\n      <th>4</th>\n      <td>cvrp-2-df-33</td>\n      <td>df-2</td>\n      <td>-48.054989</td>\n      <td>-15.838145</td>\n      <td>Taguatinga</td>\n      <td>Taguatinga</td>\n      <td>180</td>\n      <td>7</td>\n      <td>-48.114898</td>\n      <td>-15.858055</td>\n    </tr>\n  </tbody>\n</table>\n</div>"
     },
     "metadata": {}
    }
   ]
  },
  {
   "cell_type": "markdown",
   "source": " - **Geocodificação reversa da entrega**",
   "metadata": {
    "id": "xAez_U0jEurg",
    "cell_id": "00028-dadc4858-1bd8-4463-8e89-9614b54f3798",
    "deepnote_cell_type": "markdown"
   }
  },
  {
   "cell_type": "markdown",
   "source": "Enquanto o **hub** contem apenas **3** geolocalizações distintas, as **entregas** somam o total de **636.149**, o que levaria em torno de 7 dias para serem consultadas no servidor do Nominatim, dada a restrição de uma consulta por segundo. Contudo, para cargas pesadas como esta, o software oferece uma instalação [local](https://nominatim.org/release-docs/latest/admin/Installation/) (na sua própria máquina) que pode ser utilizada sem restrição.",
   "metadata": {
    "id": "_4yvAGilkDYU",
    "cell_id": "00029-acb85be7-bcc1-4c37-a9d1-3afa68fb9cee",
    "deepnote_cell_type": "markdown"
   }
  },
  {
   "cell_type": "markdown",
   "source": "> **Atenção:** Como a instalação do servidor local envolve tecnologias que estão fora do escopo deste curso (como [Docker](https://www.docker.com/)), eu vou providenciar estes dados para você através deste [link](https://raw.githubusercontent.com/andre-marcos-perez/ebac-course-utils/main/dataset/deliveries-geodata.csv).",
   "metadata": {
    "id": "P0HWnhBdlg2K",
    "cell_id": "00030-54e4c9a4-116b-43f8-8c4d-a255232ec50e",
    "deepnote_cell_type": "markdown"
   }
  },
  {
   "cell_type": "code",
   "metadata": {
    "id": "tnC030vgq0my",
    "cell_id": "00031-e8433eb3-8f88-4ea4-9819-fda62b49c343",
    "deepnote_cell_type": "code"
   },
   "source": "# !wget -q \"https://raw.githubusercontent.com/andre-marcos-perez/ebac-course-utils/main/dataset/deliveries-geodata.csv\" -O deliveries-geodata.csv ",
   "execution_count": null,
   "outputs": []
  },
  {
   "cell_type": "code",
   "metadata": {
    "id": "30t6TOr8rHG9",
    "cell_id": "00032-eb047ed7-a7cf-42ae-8474-c81979afecce",
    "deepnote_to_be_reexecuted": false,
    "source_hash": "26220bf4",
    "execution_start": 1640015026146,
    "execution_millis": 1818,
    "deepnote_cell_type": "code"
   },
   "source": "deliveries_geodata_df = pd.read_csv(\"./dados/deliveries-geodata.csv\")\ndeliveries_geodata_df.head()",
   "execution_count": null,
   "outputs": [
    {
     "output_type": "execute_result",
     "execution_count": 15,
     "data": {
      "application/vnd.deepnote.dataframe.v3+json": {
       "column_count": 4,
       "row_count": 5,
       "columns": [
        {
         "name": "delivery_lng",
         "dtype": "float64",
         "stats": {
          "unique_count": 5,
          "nan_count": 0,
          "min": "-48.11819489551",
          "max": "-48.11248339849675",
          "histogram": [
           {
            "bin_start": -48.11819489551,
            "bin_end": -48.11762374580868,
            "count": 2
           },
           {
            "bin_start": -48.11762374580868,
            "bin_end": -48.11705259610735,
            "count": 0
           },
           {
            "bin_start": -48.11705259610735,
            "bin_end": -48.11648144640603,
            "count": 0
           },
           {
            "bin_start": -48.11648144640603,
            "bin_end": -48.1159102967047,
            "count": 1
           },
           {
            "bin_start": -48.1159102967047,
            "bin_end": -48.115339147003375,
            "count": 0
           },
           {
            "bin_start": -48.115339147003375,
            "bin_end": -48.11476799730205,
            "count": 1
           },
           {
            "bin_start": -48.11476799730205,
            "bin_end": -48.114196847600724,
            "count": 0
           },
           {
            "bin_start": -48.114196847600724,
            "bin_end": -48.1136256978994,
            "count": 0
           },
           {
            "bin_start": -48.1136256978994,
            "bin_end": -48.11305454819807,
            "count": 0
           },
           {
            "bin_start": -48.11305454819807,
            "bin_end": -48.11248339849675,
            "count": 1
           }
          ]
         }
        },
        {
         "name": "delivery_lat",
         "dtype": "float64",
         "stats": {
          "unique_count": 5,
          "nan_count": 0,
          "min": "-15.85805462185708",
          "max": "-15.846471025281456",
          "histogram": [
           {
            "bin_start": -15.85805462185708,
            "bin_end": -15.856896262199518,
            "count": 1
           },
           {
            "bin_start": -15.856896262199518,
            "bin_end": -15.855737902541955,
            "count": 0
           },
           {
            "bin_start": -15.855737902541955,
            "bin_end": -15.854579542884393,
            "count": 0
           },
           {
            "bin_start": -15.854579542884393,
            "bin_end": -15.85342118322683,
            "count": 0
           },
           {
            "bin_start": -15.85342118322683,
            "bin_end": -15.85226282356927,
            "count": 0
           },
           {
            "bin_start": -15.85226282356927,
            "bin_end": -15.851104463911707,
            "count": 0
           },
           {
            "bin_start": -15.851104463911707,
            "bin_end": -15.849946104254144,
            "count": 1
           },
           {
            "bin_start": -15.849946104254144,
            "bin_end": -15.848787744596581,
            "count": 1
           },
           {
            "bin_start": -15.848787744596581,
            "bin_end": -15.847629384939019,
            "count": 1
           },
           {
            "bin_start": -15.847629384939019,
            "bin_end": -15.846471025281456,
            "count": 1
           }
          ]
         }
        },
        {
         "name": "delivery_city",
         "dtype": "object",
         "stats": {
          "unique_count": 2,
          "nan_count": 0,
          "categories": [
           {
            "name": "Ceilândia",
            "count": 4
           },
           {
            "name": "Sol Nascente/Pôr do Sol",
            "count": 1
           }
          ]
         }
        },
        {
         "name": "delivery_suburb",
         "dtype": "object",
         "stats": {
          "unique_count": 2,
          "nan_count": 0,
          "categories": [
           {
            "name": "P Sul",
            "count": 4
           },
           {
            "name": "Sol Nascente/Pôr do Sol",
            "count": 1
           }
          ]
         }
        },
        {
         "name": "_deepnote_index_column",
         "dtype": "int64"
        }
       ],
       "rows": [
        {
         "delivery_lng": -48.11618888384239,
         "delivery_lat": -15.848929154862294,
         "delivery_city": "Ceilândia",
         "delivery_suburb": "P Sul",
         "_deepnote_index_column": 0
        },
        {
         "delivery_lng": -48.11819489551,
         "delivery_lat": -15.850772371049633,
         "delivery_city": "Ceilândia",
         "delivery_suburb": "P Sul",
         "_deepnote_index_column": 1
        },
        {
         "delivery_lng": -48.11248339849675,
         "delivery_lat": -15.84787055941764,
         "delivery_city": "Ceilândia",
         "delivery_suburb": "P Sul",
         "_deepnote_index_column": 2
        },
        {
         "delivery_lng": -48.11802268617869,
         "delivery_lat": -15.846471025281456,
         "delivery_city": "Ceilândia",
         "delivery_suburb": "P Sul",
         "_deepnote_index_column": 3
        },
        {
         "delivery_lng": -48.11489817459103,
         "delivery_lat": -15.85805462185708,
         "delivery_city": "Sol Nascente/Pôr do Sol",
         "delivery_suburb": "Sol Nascente/Pôr do Sol",
         "_deepnote_index_column": 4
        }
       ]
      },
      "text/plain": "   delivery_lng  delivery_lat            delivery_city  \\\n0    -48.116189    -15.848929                Ceilândia   \n1    -48.118195    -15.850772                Ceilândia   \n2    -48.112483    -15.847871                Ceilândia   \n3    -48.118023    -15.846471                Ceilândia   \n4    -48.114898    -15.858055  Sol Nascente/Pôr do Sol   \n\n           delivery_suburb  \n0                    P Sul  \n1                    P Sul  \n2                    P Sul  \n3                    P Sul  \n4  Sol Nascente/Pôr do Sol  ",
      "text/html": "<div>\n<style scoped>\n    .dataframe tbody tr th:only-of-type {\n        vertical-align: middle;\n    }\n\n    .dataframe tbody tr th {\n        vertical-align: top;\n    }\n\n    .dataframe thead th {\n        text-align: right;\n    }\n</style>\n<table border=\"1\" class=\"dataframe\">\n  <thead>\n    <tr style=\"text-align: right;\">\n      <th></th>\n      <th>delivery_lng</th>\n      <th>delivery_lat</th>\n      <th>delivery_city</th>\n      <th>delivery_suburb</th>\n    </tr>\n  </thead>\n  <tbody>\n    <tr>\n      <th>0</th>\n      <td>-48.116189</td>\n      <td>-15.848929</td>\n      <td>Ceilândia</td>\n      <td>P Sul</td>\n    </tr>\n    <tr>\n      <th>1</th>\n      <td>-48.118195</td>\n      <td>-15.850772</td>\n      <td>Ceilândia</td>\n      <td>P Sul</td>\n    </tr>\n    <tr>\n      <th>2</th>\n      <td>-48.112483</td>\n      <td>-15.847871</td>\n      <td>Ceilândia</td>\n      <td>P Sul</td>\n    </tr>\n    <tr>\n      <th>3</th>\n      <td>-48.118023</td>\n      <td>-15.846471</td>\n      <td>Ceilândia</td>\n      <td>P Sul</td>\n    </tr>\n    <tr>\n      <th>4</th>\n      <td>-48.114898</td>\n      <td>-15.858055</td>\n      <td>Sol Nascente/Pôr do Sol</td>\n      <td>Sol Nascente/Pôr do Sol</td>\n    </tr>\n  </tbody>\n</table>\n</div>"
     },
     "metadata": {}
    }
   ]
  },
  {
   "cell_type": "code",
   "metadata": {
    "id": "hbkd-5EMrUT9",
    "cell_id": "00033-11aabcce-a295-40cf-8eff-41b3ea4c814e",
    "deepnote_to_be_reexecuted": false,
    "source_hash": "bb38bd94",
    "execution_start": 1640015033541,
    "execution_millis": 328,
    "deepnote_cell_type": "code"
   },
   "source": "deliveries_df = pd.merge(left=deliveries_df, right=deliveries_geodata_df[[\"delivery_city\", \"delivery_suburb\"]], how=\"inner\", left_index=True, right_index=True)\ndeliveries_df.head()",
   "execution_count": null,
   "outputs": [
    {
     "output_type": "execute_result",
     "execution_count": 16,
     "data": {
      "application/vnd.deepnote.dataframe.v3+json": {
       "column_count": 12,
       "row_count": 5,
       "columns": [
        {
         "name": "name",
         "dtype": "object",
         "stats": {
          "unique_count": 1,
          "nan_count": 0,
          "categories": [
           {
            "name": "cvrp-2-df-33",
            "count": 5
           }
          ]
         }
        },
        {
         "name": "region",
         "dtype": "object",
         "stats": {
          "unique_count": 1,
          "nan_count": 0,
          "categories": [
           {
            "name": "df-2",
            "count": 5
           }
          ]
         }
        },
        {
         "name": "hub_lng",
         "dtype": "float64",
         "stats": {
          "unique_count": 1,
          "nan_count": 0,
          "min": "-48.05498915846707",
          "max": "-48.05498915846707",
          "histogram": [
           {
            "bin_start": -48.55498915846707,
            "bin_end": -48.45498915846707,
            "count": 0
           },
           {
            "bin_start": -48.45498915846707,
            "bin_end": -48.35498915846707,
            "count": 0
           },
           {
            "bin_start": -48.35498915846707,
            "bin_end": -48.254989158467076,
            "count": 0
           },
           {
            "bin_start": -48.254989158467076,
            "bin_end": -48.154989158467075,
            "count": 0
           },
           {
            "bin_start": -48.154989158467075,
            "bin_end": -48.05498915846707,
            "count": 0
           },
           {
            "bin_start": -48.05498915846707,
            "bin_end": -47.95498915846707,
            "count": 5
           },
           {
            "bin_start": -47.95498915846707,
            "bin_end": -47.85498915846707,
            "count": 0
           },
           {
            "bin_start": -47.85498915846707,
            "bin_end": -47.754989158467076,
            "count": 0
           },
           {
            "bin_start": -47.754989158467076,
            "bin_end": -47.654989158467075,
            "count": 0
           },
           {
            "bin_start": -47.654989158467075,
            "bin_end": -47.55498915846707,
            "count": 0
           }
          ]
         }
        },
        {
         "name": "hub_lat",
         "dtype": "float64",
         "stats": {
          "unique_count": 1,
          "nan_count": 0,
          "min": "-15.83814451122274",
          "max": "-15.83814451122274",
          "histogram": [
           {
            "bin_start": -16.33814451122274,
            "bin_end": -16.23814451122274,
            "count": 0
           },
           {
            "bin_start": -16.23814451122274,
            "bin_end": -16.13814451122274,
            "count": 0
           },
           {
            "bin_start": -16.13814451122274,
            "bin_end": -16.03814451122274,
            "count": 0
           },
           {
            "bin_start": -16.03814451122274,
            "bin_end": -15.93814451122274,
            "count": 0
           },
           {
            "bin_start": -15.93814451122274,
            "bin_end": -15.83814451122274,
            "count": 0
           },
           {
            "bin_start": -15.83814451122274,
            "bin_end": -15.73814451122274,
            "count": 5
           },
           {
            "bin_start": -15.73814451122274,
            "bin_end": -15.638144511222741,
            "count": 0
           },
           {
            "bin_start": -15.638144511222741,
            "bin_end": -15.53814451122274,
            "count": 0
           },
           {
            "bin_start": -15.53814451122274,
            "bin_end": -15.43814451122274,
            "count": 0
           },
           {
            "bin_start": -15.43814451122274,
            "bin_end": -15.33814451122274,
            "count": 0
           }
          ]
         }
        },
        {
         "name": "hub_city",
         "dtype": "object",
         "stats": {
          "unique_count": 1,
          "nan_count": 0,
          "categories": [
           {
            "name": "Taguatinga",
            "count": 5
           }
          ]
         }
        },
        {
         "name": "hub_suburb",
         "dtype": "object",
         "stats": {
          "unique_count": 1,
          "nan_count": 0,
          "categories": [
           {
            "name": "Taguatinga",
            "count": 5
           }
          ]
         }
        },
        {
         "name": "vehicle_capacity",
         "dtype": "int64",
         "stats": {
          "unique_count": 1,
          "nan_count": 0,
          "min": "180",
          "max": "180",
          "histogram": [
           {
            "bin_start": 179.5,
            "bin_end": 179.6,
            "count": 0
           },
           {
            "bin_start": 179.6,
            "bin_end": 179.7,
            "count": 0
           },
           {
            "bin_start": 179.7,
            "bin_end": 179.8,
            "count": 0
           },
           {
            "bin_start": 179.8,
            "bin_end": 179.9,
            "count": 0
           },
           {
            "bin_start": 179.9,
            "bin_end": 180,
            "count": 0
           },
           {
            "bin_start": 180,
            "bin_end": 180.1,
            "count": 5
           },
           {
            "bin_start": 180.1,
            "bin_end": 180.2,
            "count": 0
           },
           {
            "bin_start": 180.2,
            "bin_end": 180.3,
            "count": 0
           },
           {
            "bin_start": 180.3,
            "bin_end": 180.4,
            "count": 0
           },
           {
            "bin_start": 180.4,
            "bin_end": 180.5,
            "count": 0
           }
          ]
         }
        },
        {
         "name": "delivery_size",
         "dtype": "int64",
         "stats": {
          "unique_count": 4,
          "nan_count": 0,
          "min": "1",
          "max": "9",
          "histogram": [
           {
            "bin_start": 1,
            "bin_end": 1.8,
            "count": 1
           },
           {
            "bin_start": 1.8,
            "bin_end": 2.6,
            "count": 2
           },
           {
            "bin_start": 2.6,
            "bin_end": 3.4000000000000004,
            "count": 0
           },
           {
            "bin_start": 3.4000000000000004,
            "bin_end": 4.2,
            "count": 0
           },
           {
            "bin_start": 4.2,
            "bin_end": 5,
            "count": 0
           },
           {
            "bin_start": 5,
            "bin_end": 5.800000000000001,
            "count": 0
           },
           {
            "bin_start": 5.800000000000001,
            "bin_end": 6.6000000000000005,
            "count": 0
           },
           {
            "bin_start": 6.6000000000000005,
            "bin_end": 7.4,
            "count": 1
           },
           {
            "bin_start": 7.4,
            "bin_end": 8.2,
            "count": 0
           },
           {
            "bin_start": 8.2,
            "bin_end": 9,
            "count": 1
           }
          ]
         }
        },
        {
         "name": "delivery_lng",
         "dtype": "float64",
         "stats": {
          "unique_count": 5,
          "nan_count": 0,
          "min": "-48.11819489551",
          "max": "-48.11248339849675",
          "histogram": [
           {
            "bin_start": -48.11819489551,
            "bin_end": -48.11762374580868,
            "count": 2
           },
           {
            "bin_start": -48.11762374580868,
            "bin_end": -48.11705259610735,
            "count": 0
           },
           {
            "bin_start": -48.11705259610735,
            "bin_end": -48.11648144640603,
            "count": 0
           },
           {
            "bin_start": -48.11648144640603,
            "bin_end": -48.1159102967047,
            "count": 1
           },
           {
            "bin_start": -48.1159102967047,
            "bin_end": -48.115339147003375,
            "count": 0
           },
           {
            "bin_start": -48.115339147003375,
            "bin_end": -48.11476799730205,
            "count": 1
           },
           {
            "bin_start": -48.11476799730205,
            "bin_end": -48.114196847600724,
            "count": 0
           },
           {
            "bin_start": -48.114196847600724,
            "bin_end": -48.1136256978994,
            "count": 0
           },
           {
            "bin_start": -48.1136256978994,
            "bin_end": -48.11305454819807,
            "count": 0
           },
           {
            "bin_start": -48.11305454819807,
            "bin_end": -48.11248339849675,
            "count": 1
           }
          ]
         }
        },
        {
         "name": "delivery_lat",
         "dtype": "float64",
         "stats": {
          "unique_count": 5,
          "nan_count": 0,
          "min": "-15.85805462185708",
          "max": "-15.846471025281456",
          "histogram": [
           {
            "bin_start": -15.85805462185708,
            "bin_end": -15.856896262199518,
            "count": 1
           },
           {
            "bin_start": -15.856896262199518,
            "bin_end": -15.855737902541955,
            "count": 0
           },
           {
            "bin_start": -15.855737902541955,
            "bin_end": -15.854579542884393,
            "count": 0
           },
           {
            "bin_start": -15.854579542884393,
            "bin_end": -15.85342118322683,
            "count": 0
           },
           {
            "bin_start": -15.85342118322683,
            "bin_end": -15.85226282356927,
            "count": 0
           },
           {
            "bin_start": -15.85226282356927,
            "bin_end": -15.851104463911707,
            "count": 0
           },
           {
            "bin_start": -15.851104463911707,
            "bin_end": -15.849946104254144,
            "count": 1
           },
           {
            "bin_start": -15.849946104254144,
            "bin_end": -15.848787744596581,
            "count": 1
           },
           {
            "bin_start": -15.848787744596581,
            "bin_end": -15.847629384939019,
            "count": 1
           },
           {
            "bin_start": -15.847629384939019,
            "bin_end": -15.846471025281456,
            "count": 1
           }
          ]
         }
        },
        {
         "name": "delivery_city",
         "dtype": "object",
         "stats": {
          "unique_count": 2,
          "nan_count": 0,
          "categories": [
           {
            "name": "Ceilândia",
            "count": 4
           },
           {
            "name": "Sol Nascente/Pôr do Sol",
            "count": 1
           }
          ]
         }
        },
        {
         "name": "delivery_suburb",
         "dtype": "object",
         "stats": {
          "unique_count": 2,
          "nan_count": 0,
          "categories": [
           {
            "name": "P Sul",
            "count": 4
           },
           {
            "name": "Sol Nascente/Pôr do Sol",
            "count": 1
           }
          ]
         }
        },
        {
         "name": "_deepnote_index_column",
         "dtype": "int64"
        }
       ],
       "rows": [
        {
         "name": "cvrp-2-df-33",
         "region": "df-2",
         "hub_lng": -48.05498915846707,
         "hub_lat": -15.83814451122274,
         "hub_city": "Taguatinga",
         "hub_suburb": "Taguatinga",
         "vehicle_capacity": 180,
         "delivery_size": 9,
         "delivery_lng": -48.11618888384239,
         "delivery_lat": -15.848929154862294,
         "delivery_city": "Ceilândia",
         "delivery_suburb": "P Sul",
         "_deepnote_index_column": 0
        },
        {
         "name": "cvrp-2-df-33",
         "region": "df-2",
         "hub_lng": -48.05498915846707,
         "hub_lat": -15.83814451122274,
         "hub_city": "Taguatinga",
         "hub_suburb": "Taguatinga",
         "vehicle_capacity": 180,
         "delivery_size": 2,
         "delivery_lng": -48.11819489551,
         "delivery_lat": -15.850772371049631,
         "delivery_city": "Ceilândia",
         "delivery_suburb": "P Sul",
         "_deepnote_index_column": 1
        },
        {
         "name": "cvrp-2-df-33",
         "region": "df-2",
         "hub_lng": -48.05498915846707,
         "hub_lat": -15.83814451122274,
         "hub_city": "Taguatinga",
         "hub_suburb": "Taguatinga",
         "vehicle_capacity": 180,
         "delivery_size": 1,
         "delivery_lng": -48.11248339849675,
         "delivery_lat": -15.84787055941764,
         "delivery_city": "Ceilândia",
         "delivery_suburb": "P Sul",
         "_deepnote_index_column": 2
        },
        {
         "name": "cvrp-2-df-33",
         "region": "df-2",
         "hub_lng": -48.05498915846707,
         "hub_lat": -15.83814451122274,
         "hub_city": "Taguatinga",
         "hub_suburb": "Taguatinga",
         "vehicle_capacity": 180,
         "delivery_size": 2,
         "delivery_lng": -48.11802268617869,
         "delivery_lat": -15.846471025281456,
         "delivery_city": "Ceilândia",
         "delivery_suburb": "P Sul",
         "_deepnote_index_column": 3
        },
        {
         "name": "cvrp-2-df-33",
         "region": "df-2",
         "hub_lng": -48.05498915846707,
         "hub_lat": -15.83814451122274,
         "hub_city": "Taguatinga",
         "hub_suburb": "Taguatinga",
         "vehicle_capacity": 180,
         "delivery_size": 7,
         "delivery_lng": -48.114898174591026,
         "delivery_lat": -15.85805462185708,
         "delivery_city": "Sol Nascente/Pôr do Sol",
         "delivery_suburb": "Sol Nascente/Pôr do Sol",
         "_deepnote_index_column": 4
        }
       ]
      },
      "text/plain": "           name region    hub_lng    hub_lat    hub_city  hub_suburb  \\\n0  cvrp-2-df-33   df-2 -48.054989 -15.838145  Taguatinga  Taguatinga   \n1  cvrp-2-df-33   df-2 -48.054989 -15.838145  Taguatinga  Taguatinga   \n2  cvrp-2-df-33   df-2 -48.054989 -15.838145  Taguatinga  Taguatinga   \n3  cvrp-2-df-33   df-2 -48.054989 -15.838145  Taguatinga  Taguatinga   \n4  cvrp-2-df-33   df-2 -48.054989 -15.838145  Taguatinga  Taguatinga   \n\n   vehicle_capacity  delivery_size  delivery_lng  delivery_lat  \\\n0               180              9    -48.116189    -15.848929   \n1               180              2    -48.118195    -15.850772   \n2               180              1    -48.112483    -15.847871   \n3               180              2    -48.118023    -15.846471   \n4               180              7    -48.114898    -15.858055   \n\n             delivery_city          delivery_suburb  \n0                Ceilândia                    P Sul  \n1                Ceilândia                    P Sul  \n2                Ceilândia                    P Sul  \n3                Ceilândia                    P Sul  \n4  Sol Nascente/Pôr do Sol  Sol Nascente/Pôr do Sol  ",
      "text/html": "<div>\n<style scoped>\n    .dataframe tbody tr th:only-of-type {\n        vertical-align: middle;\n    }\n\n    .dataframe tbody tr th {\n        vertical-align: top;\n    }\n\n    .dataframe thead th {\n        text-align: right;\n    }\n</style>\n<table border=\"1\" class=\"dataframe\">\n  <thead>\n    <tr style=\"text-align: right;\">\n      <th></th>\n      <th>name</th>\n      <th>region</th>\n      <th>hub_lng</th>\n      <th>hub_lat</th>\n      <th>hub_city</th>\n      <th>hub_suburb</th>\n      <th>vehicle_capacity</th>\n      <th>delivery_size</th>\n      <th>delivery_lng</th>\n      <th>delivery_lat</th>\n      <th>delivery_city</th>\n      <th>delivery_suburb</th>\n    </tr>\n  </thead>\n  <tbody>\n    <tr>\n      <th>0</th>\n      <td>cvrp-2-df-33</td>\n      <td>df-2</td>\n      <td>-48.054989</td>\n      <td>-15.838145</td>\n      <td>Taguatinga</td>\n      <td>Taguatinga</td>\n      <td>180</td>\n      <td>9</td>\n      <td>-48.116189</td>\n      <td>-15.848929</td>\n      <td>Ceilândia</td>\n      <td>P Sul</td>\n    </tr>\n    <tr>\n      <th>1</th>\n      <td>cvrp-2-df-33</td>\n      <td>df-2</td>\n      <td>-48.054989</td>\n      <td>-15.838145</td>\n      <td>Taguatinga</td>\n      <td>Taguatinga</td>\n      <td>180</td>\n      <td>2</td>\n      <td>-48.118195</td>\n      <td>-15.850772</td>\n      <td>Ceilândia</td>\n      <td>P Sul</td>\n    </tr>\n    <tr>\n      <th>2</th>\n      <td>cvrp-2-df-33</td>\n      <td>df-2</td>\n      <td>-48.054989</td>\n      <td>-15.838145</td>\n      <td>Taguatinga</td>\n      <td>Taguatinga</td>\n      <td>180</td>\n      <td>1</td>\n      <td>-48.112483</td>\n      <td>-15.847871</td>\n      <td>Ceilândia</td>\n      <td>P Sul</td>\n    </tr>\n    <tr>\n      <th>3</th>\n      <td>cvrp-2-df-33</td>\n      <td>df-2</td>\n      <td>-48.054989</td>\n      <td>-15.838145</td>\n      <td>Taguatinga</td>\n      <td>Taguatinga</td>\n      <td>180</td>\n      <td>2</td>\n      <td>-48.118023</td>\n      <td>-15.846471</td>\n      <td>Ceilândia</td>\n      <td>P Sul</td>\n    </tr>\n    <tr>\n      <th>4</th>\n      <td>cvrp-2-df-33</td>\n      <td>df-2</td>\n      <td>-48.054989</td>\n      <td>-15.838145</td>\n      <td>Taguatinga</td>\n      <td>Taguatinga</td>\n      <td>180</td>\n      <td>7</td>\n      <td>-48.114898</td>\n      <td>-15.858055</td>\n      <td>Sol Nascente/Pôr do Sol</td>\n      <td>Sol Nascente/Pôr do Sol</td>\n    </tr>\n  </tbody>\n</table>\n</div>"
     },
     "metadata": {}
    }
   ]
  },
  {
   "cell_type": "markdown",
   "source": "### **1.3. Qualidade** ",
   "metadata": {
    "id": "7SntObij4Dhc",
    "cell_id": "00034-df969642-5e93-42ea-a8c0-979f31238b03",
    "deepnote_cell_type": "markdown"
   }
  },
  {
   "cell_type": "markdown",
   "source": "Qualidade do dados está relacionado a consistência do seu `schema`, valores faltantes, etc.",
   "metadata": {
    "id": "Nmmr3kBNh8on",
    "cell_id": "00035-43ed43c9-349d-4162-ab85-d1dbbd4a4c7b",
    "deepnote_cell_type": "markdown"
   }
  },
  {
   "cell_type": "code",
   "metadata": {
    "id": "9K75ngusiGa2",
    "cell_id": "00036-112c8f92-2cee-4158-9630-724daccc83cf",
    "deepnote_to_be_reexecuted": false,
    "source_hash": "d02f8c83",
    "execution_start": 1640015041829,
    "execution_millis": 325,
    "deepnote_cell_type": "code"
   },
   "source": "deliveries_df.info()",
   "execution_count": null,
   "outputs": [
    {
     "name": "stdout",
     "text": "<class 'pandas.core.frame.DataFrame'>\nInt64Index: 636149 entries, 0 to 636148\nData columns (total 12 columns):\n #   Column            Non-Null Count   Dtype  \n---  ------            --------------   -----  \n 0   name              636149 non-null  object \n 1   region            636149 non-null  object \n 2   hub_lng           636149 non-null  float64\n 3   hub_lat           636149 non-null  float64\n 4   hub_city          636149 non-null  object \n 5   hub_suburb        636149 non-null  object \n 6   vehicle_capacity  636149 non-null  int64  \n 7   delivery_size     636149 non-null  int64  \n 8   delivery_lng      636149 non-null  float64\n 9   delivery_lat      636149 non-null  float64\n 10  delivery_city     634447 non-null  object \n 11  delivery_suburb   476264 non-null  object \ndtypes: float64(4), int64(2), object(6)\nmemory usage: 79.2+ MB\n",
     "output_type": "stream",
     "data": {}
    }
   ]
  },
  {
   "cell_type": "code",
   "metadata": {
    "id": "4Z48nQPI4o0D",
    "cell_id": "00037-3b967b24-bd10-4d32-aace-bff610e8dece",
    "deepnote_to_be_reexecuted": false,
    "source_hash": "119a121b",
    "execution_start": 1640015044717,
    "execution_millis": 405,
    "deepnote_output_heights": [
     251.60000610351562
    ],
    "deepnote_cell_type": "code"
   },
   "source": "deliveries_df.isna().any()",
   "execution_count": null,
   "outputs": [
    {
     "output_type": "execute_result",
     "execution_count": 18,
     "data": {
      "text/plain": "name                False\nregion              False\nhub_lng             False\nhub_lat             False\nhub_city            False\nhub_suburb          False\nvehicle_capacity    False\ndelivery_size       False\ndelivery_lng        False\ndelivery_lat        False\ndelivery_city        True\ndelivery_suburb      True\ndtype: bool"
     },
     "metadata": {}
    }
   ]
  },
  {
   "cell_type": "markdown",
   "source": "- **Geocodificação reversa**",
   "metadata": {
    "id": "37JVwaSL4J9K",
    "cell_id": "00038-34bd6e7d-a737-44a0-9e1c-19112685bf41",
    "deepnote_cell_type": "markdown"
   }
  },
  {
   "cell_type": "code",
   "metadata": {
    "id": "VT_NvWVp5RcT",
    "cell_id": "00039-79dd347c-8312-4bfe-8957-db465e3f6954",
    "deepnote_to_be_reexecuted": false,
    "source_hash": "d868c3f2",
    "execution_start": 1640015052464,
    "execution_millis": 23,
    "deepnote_output_heights": [
     21.199996948242188
    ],
    "deepnote_cell_type": "code"
   },
   "source": "100 * (deliveries_df[\"delivery_city\"].isna().sum() / len(deliveries_df))",
   "execution_count": null,
   "outputs": [
    {
     "output_type": "execute_result",
     "execution_count": 19,
     "data": {
      "text/plain": "0.26754738276724477"
     },
     "metadata": {}
    }
   ]
  },
  {
   "cell_type": "code",
   "metadata": {
    "id": "5C8KElKa5tIi",
    "cell_id": "00040-ac6e4346-5901-4565-8c3a-212d8bc1a417",
    "deepnote_to_be_reexecuted": false,
    "source_hash": "c560e11f",
    "execution_start": 1640015055280,
    "execution_millis": 63,
    "deepnote_output_heights": [
     21.199996948242188
    ],
    "deepnote_cell_type": "code"
   },
   "source": "100 * (deliveries_df[\"delivery_suburb\"].isna().sum() / len(deliveries_df))",
   "execution_count": null,
   "outputs": [
    {
     "output_type": "execute_result",
     "execution_count": 20,
     "data": {
      "text/plain": "25.133262804783158"
     },
     "metadata": {}
    }
   ]
  },
  {
   "cell_type": "code",
   "metadata": {
    "id": "q0vTD5V_4QY7",
    "cell_id": "00041-45e85ddd-4a06-46d3-ae69-079535e1a41b",
    "deepnote_to_be_reexecuted": false,
    "source_hash": "74b26639",
    "execution_start": 1640015058109,
    "execution_millis": 203,
    "deepnote_output_heights": [
     232.39999389648438
    ],
    "deepnote_cell_type": "code"
   },
   "source": "prop_df = deliveries_df[[\"delivery_city\"]].value_counts() / len(deliveries_df)\nprop_df.sort_values(ascending=False).head(10)",
   "execution_count": null,
   "outputs": [
    {
     "output_type": "execute_result",
     "execution_count": 21,
     "data": {
      "text/plain": "delivery_city       \nBrasília                0.234195\nTaguatinga              0.071625\nSudoeste / Octogonal    0.069504\nCeilândia               0.059661\nÁguas Claras            0.058293\nGuará                   0.055619\nLago Sul                0.045620\nSobradinho              0.045412\nLago Norte              0.040832\nGama                    0.034880\ndtype: float64"
     },
     "metadata": {}
    }
   ]
  },
  {
   "cell_type": "code",
   "metadata": {
    "id": "lHvE-7iq5yt5",
    "cell_id": "00042-68595d9f-e839-4d82-912e-6f63a3acaee9",
    "deepnote_to_be_reexecuted": false,
    "source_hash": "15aeb048",
    "execution_start": 1640015207111,
    "execution_millis": 144,
    "deepnote_output_heights": [
     232.39999389648438
    ],
    "deepnote_cell_type": "code"
   },
   "source": "prop_df = deliveries_df[[\"delivery_suburb\"]].value_counts() / len(deliveries_df)\nprop_df.sort_values(ascending=False).head(10)",
   "execution_count": null,
   "outputs": [
    {
     "output_type": "execute_result",
     "execution_count": 22,
     "data": {
      "text/plain": "delivery_suburb \nBrasília            0.084564\nAsa Norte           0.076639\nTaguatinga          0.063363\nAsa Sul             0.059263\nÁguas Claras        0.056598\nGuará               0.055619\nSamambaia           0.026514\nSobradinho          0.018148\nRecanto das Emas    0.015029\nP Sul               0.012807\ndtype: float64"
     },
     "metadata": {}
    }
   ]
  },
  {
   "cell_type": "markdown",
   "source": "## 2\\. Visualização",
   "metadata": {
    "id": "PD0FiM7UJOGT",
    "cell_id": "00043-87cddf1f-1b13-4c2f-8151-68c74fcfc0f2",
    "deepnote_cell_type": "markdown"
   }
  },
  {
   "cell_type": "markdown",
   "source": "### **2.1. Mapa de entregas por região** ",
   "metadata": {
    "id": "NstZsdkoJUBF",
    "cell_id": "00044-78561a6a-1f0a-485c-8fa8-0d3f823d5bd6",
    "deepnote_cell_type": "markdown"
   }
  },
  {
   "cell_type": "markdown",
   "source": "Vamos utilizar o pacote Python GeopPandas ([link](https://geopandas.org/) da documentação) para visualizar as coordenadas dos **hubs** e das **entregas** no mapa do Distrito Federal, segmentados pela região dos **hubs**. O pacote adiciona funcionalidades geoespaciais ao pacote Python Pandas.",
   "metadata": {
    "id": "dNKTBAI8yPQE",
    "cell_id": "00045-f11daa2c-c09d-44de-be82-243a68a89a3b",
    "deepnote_cell_type": "markdown"
   }
  },
  {
   "cell_type": "code",
   "metadata": {
    "id": "0XQUAF3cjnp6",
    "cell_id": "00046-3470ae58-0dc3-4c3c-bf9b-edcc41191600",
    "deepnote_to_be_reexecuted": false,
    "source_hash": "2153a27d",
    "execution_start": 1640015220418,
    "execution_millis": 13513,
    "deepnote_cell_type": "code"
   },
   "source": "!pip3 install geopandas;",
   "execution_count": null,
   "outputs": [
    {
     "name": "stdout",
     "text": "Collecting geopandas\n  Downloading geopandas-0.10.2-py2.py3-none-any.whl (1.0 MB)\n\u001b[K     |████████████████████████████████| 1.0 MB 12.2 MB/s \n\u001b[?25hCollecting shapely>=1.6\n  Downloading Shapely-1.8.0-cp37-cp37m-manylinux_2_5_x86_64.manylinux1_x86_64.whl (1.1 MB)\n\u001b[K     |████████████████████████████████| 1.1 MB 15.1 MB/s \n\u001b[?25hRequirement already satisfied: fiona>=1.8 in /shared-libs/python3.7/py/lib/python3.7/site-packages (from geopandas) (1.8.20)\nCollecting pyproj>=2.2.0\n  Downloading pyproj-3.2.1-cp37-cp37m-manylinux2010_x86_64.whl (6.3 MB)\n\u001b[K     |████████████████████████████████| 6.3 MB 10.7 MB/s \n\u001b[?25hRequirement already satisfied: pandas>=0.25.0 in /shared-libs/python3.7/py/lib/python3.7/site-packages (from geopandas) (1.2.5)\nRequirement already satisfied: click>=4.0 in /shared-libs/python3.7/py/lib/python3.7/site-packages (from fiona>=1.8->geopandas) (8.0.3)\nRequirement already satisfied: certifi in /shared-libs/python3.7/py/lib/python3.7/site-packages (from fiona>=1.8->geopandas) (2021.10.8)\nRequirement already satisfied: attrs>=17 in /shared-libs/python3.7/py-core/lib/python3.7/site-packages (from fiona>=1.8->geopandas) (21.2.0)\nRequirement already satisfied: munch in /shared-libs/python3.7/py/lib/python3.7/site-packages (from fiona>=1.8->geopandas) (2.5.0)\nRequirement already satisfied: setuptools in /root/venv/lib/python3.7/site-packages (from fiona>=1.8->geopandas) (47.1.0)\nRequirement already satisfied: click-plugins>=1.0 in /shared-libs/python3.7/py/lib/python3.7/site-packages (from fiona>=1.8->geopandas) (1.1.1)\nRequirement already satisfied: cligj>=0.5 in /shared-libs/python3.7/py/lib/python3.7/site-packages (from fiona>=1.8->geopandas) (0.7.2)\nRequirement already satisfied: six>=1.7 in /shared-libs/python3.7/py-core/lib/python3.7/site-packages (from fiona>=1.8->geopandas) (1.16.0)\nRequirement already satisfied: pytz>=2017.3 in /shared-libs/python3.7/py/lib/python3.7/site-packages (from pandas>=0.25.0->geopandas) (2021.3)\nRequirement already satisfied: numpy>=1.16.5 in /shared-libs/python3.7/py/lib/python3.7/site-packages (from pandas>=0.25.0->geopandas) (1.19.5)\nRequirement already satisfied: python-dateutil>=2.7.3 in /shared-libs/python3.7/py-core/lib/python3.7/site-packages (from pandas>=0.25.0->geopandas) (2.8.2)\nRequirement already satisfied: importlib-metadata; python_version < \"3.8\" in /shared-libs/python3.7/py-core/lib/python3.7/site-packages (from click>=4.0->fiona>=1.8->geopandas) (4.8.2)\nRequirement already satisfied: zipp>=0.5 in /shared-libs/python3.7/py-core/lib/python3.7/site-packages (from importlib-metadata; python_version < \"3.8\"->click>=4.0->fiona>=1.8->geopandas) (3.6.0)\nRequirement already satisfied: typing-extensions>=3.6.4; python_version < \"3.8\" in /shared-libs/python3.7/py-core/lib/python3.7/site-packages (from importlib-metadata; python_version < \"3.8\"->click>=4.0->fiona>=1.8->geopandas) (4.0.1)\nInstalling collected packages: shapely, pyproj, geopandas\nSuccessfully installed geopandas-0.10.2 pyproj-3.2.1 shapely-1.8.0\n\u001b[33mWARNING: You are using pip version 20.1.1; however, version 21.3.1 is available.\nYou should consider upgrading via the '/root/venv/bin/python -m pip install --upgrade pip' command.\u001b[0m\n",
     "output_type": "stream",
     "data": {}
    }
   ]
  },
  {
   "cell_type": "code",
   "metadata": {
    "id": "zfk7HPPMwqbq",
    "cell_id": "00047-382a5b50-d902-4a70-b417-6e97c5e1668f",
    "deepnote_to_be_reexecuted": false,
    "source_hash": "dd24a862",
    "execution_start": 1640015240705,
    "execution_millis": 459,
    "deepnote_cell_type": "code"
   },
   "source": "import geopandas",
   "execution_count": null,
   "outputs": []
  },
  {
   "cell_type": "markdown",
   "source": " - **Mapa do Distrito Federal**",
   "metadata": {
    "id": "ZRptLwOfADJd",
    "cell_id": "00048-69e151ca-8bb8-4d2e-abf9-1b593e8cded8",
    "deepnote_cell_type": "markdown"
   }
  },
  {
   "cell_type": "markdown",
   "source": "Vamos fazer o download dos dados do mapa do Distrito Federal do site oficial do IBGE através do seguinte [link](https://www.ibge.gov.br/geociencias/cartas-e-mapas/bases-cartograficas-continuas) para criar o DataFrame `mapa`. Note a coluna `geometry`.",
   "metadata": {
    "id": "H4qm9jQ5CEXG",
    "cell_id": "00049-e26beb25-5995-4824-a78e-c91aa1eae4e1",
    "deepnote_cell_type": "markdown"
   }
  },
  {
   "cell_type": "code",
   "metadata": {
    "id": "YJ8k0E4NsPKg",
    "cell_id": "00050-aeb650dc-6c9c-4fb8-b446-3c740ca14696",
    "deepnote_cell_type": "code"
   },
   "source": "!wget -q \"https://geoftp.ibge.gov.br/cartas_e_mapas/bases_cartograficas_continuas/bc100/go_df/versao2016/shapefile/bc100_go_df_shp.zip\" -O distrito-federal.zip\n!unzip -q distrito-federal.zip -d ./maps\n!cp ./maps/LIM_Unidade_Federacao_A.shp ./distrito-federal.shp\n!cp ./maps/LIM_Unidade_Federacao_A.shx ./distrito-federal.shx",
   "execution_count": null,
   "outputs": []
  },
  {
   "cell_type": "code",
   "metadata": {
    "id": "F49YhyzwkN3T",
    "cell_id": "00051-7505a808-c268-4452-92f4-03b3b8aa0205",
    "deepnote_cell_type": "code"
   },
   "source": "mapa = geopandas.read_file(\"distrito-federal.shp\")\nmapa = mapa.loc[[0]]\nmapa.head()",
   "execution_count": null,
   "outputs": []
  },
  {
   "cell_type": "markdown",
   "source": " - **Mapa dos Hubs**",
   "metadata": {
    "id": "42cLJXxSAceU",
    "cell_id": "00052-ea8006df-6901-405a-9d85-e059f2df8ba4",
    "deepnote_cell_type": "markdown"
   }
  },
  {
   "cell_type": "markdown",
   "source": "Vamos criar o DataFrame `geo_hub_df` através do DataFrame `deliveries_df`. Note a nova coluna `geometry`.",
   "metadata": {
    "id": "dZvnmj6OCucP",
    "cell_id": "00053-800e8468-9386-4517-8b10-764d294c3690",
    "deepnote_cell_type": "markdown"
   }
  },
  {
   "cell_type": "code",
   "metadata": {
    "id": "aJsYJvo1woDC",
    "cell_id": "00054-c5284db2-a4f2-48fe-bc2e-b02b3d4603cc",
    "deepnote_cell_type": "code"
   },
   "source": "hub_df = deliveries_df[[\"region\", \"hub_lng\", \"hub_lat\"]].drop_duplicates().reset_index(drop=True)\ngeo_hub_df = geopandas.GeoDataFrame(hub_df, geometry=geopandas.points_from_xy(hub_df[\"hub_lng\"], hub_df[\"hub_lat\"]))\ngeo_hub_df.head()",
   "execution_count": null,
   "outputs": []
  },
  {
   "cell_type": "markdown",
   "source": " - **Mapa das Entregas**",
   "metadata": {
    "id": "4MpWhcpzAjMz",
    "cell_id": "00055-74ace667-b125-44a5-ae4a-401c0c54d6b7",
    "deepnote_cell_type": "markdown"
   }
  },
  {
   "cell_type": "markdown",
   "source": "Vamos criar o DataFrame `geo_deliveries_df` através do DataFrame `deliveries_df`. Note a nova coluna `geometry`.",
   "metadata": {
    "id": "HrL73PvWC_Fo",
    "cell_id": "00056-4a208363-e7cb-493b-9e6b-a04dffe0f4e8",
    "deepnote_cell_type": "markdown"
   }
  },
  {
   "cell_type": "code",
   "metadata": {
    "id": "FQngwEG4AlxO",
    "cell_id": "00057-b4e9f0d9-6759-4c4c-96dc-db2c3ceb612f",
    "deepnote_cell_type": "code"
   },
   "source": "geo_deliveries_df = geopandas.GeoDataFrame(deliveries_df, geometry=geopandas.points_from_xy(deliveries_df[\"delivery_lng\"], deliveries_df[\"delivery_lat\"]))\ngeo_deliveries_df.head()",
   "execution_count": null,
   "outputs": []
  },
  {
   "cell_type": "markdown",
   "source": " - **Visualização**",
   "metadata": {
    "id": "9zQeMsbcAuCU",
    "cell_id": "00058-e8610bd3-7ffb-4842-947b-e3b6db1ee3a2",
    "deepnote_cell_type": "markdown"
   }
  },
  {
   "cell_type": "code",
   "metadata": {
    "id": "cIjtboS5pJKY",
    "cell_id": "00059-e7fdbc29-8d24-467a-8730-bb8388bc2c47",
    "deepnote_cell_type": "code"
   },
   "source": "import matplotlib.pyplot as plt\n\n# cria o plot vazio\nfig, ax = plt.subplots(figsize = (50/2.54, 50/2.54))\n\n# plot mapa do distrito federal\nmapa.plot(ax=ax, alpha=0.4, color=\"lightgrey\")\n\n# plot das entregas\ngeo_deliveries_df.query(\"region == 'df-0'\").plot(ax=ax, markersize=1, color=\"red\", label=\"df-0\")\ngeo_deliveries_df.query(\"region == 'df-1'\").plot(ax=ax, markersize=1, color=\"blue\", label=\"df-1\")\ngeo_deliveries_df.query(\"region == 'df-2'\").plot(ax=ax, markersize=1, color=\"seagreen\", label=\"df-2\")\n\n# plot dos hubs\ngeo_hub_df.plot(ax=ax, markersize=30, marker=\"x\", color=\"black\", label=\"hub\")\n\n# plot da legenda\nplt.title(\"Entregas no Distrito Federal por Região\", fontdict={\"fontsize\": 16})\nlgnd = plt.legend(prop={\"size\": 15})\nfor handle in lgnd.legendHandles:\n    handle.set_sizes([50])",
   "execution_count": null,
   "outputs": []
  },
  {
   "cell_type": "markdown",
   "source": " - **Insights**:",
   "metadata": {
    "id": "mQBSQNICGmZi",
    "cell_id": "00060-494bfab7-59aa-4af5-895e-990dab498f89",
    "deepnote_cell_type": "markdown"
   }
  },
  {
   "cell_type": "markdown",
   "source": "1. As **entregas** estão corretamente alocadas aos seus respectivos **hubs**;\n1. Os **hubs** das regiões 0 e 2 fazem **entregas** em locais distantes do centro e entre si, o que pode gerar um tempo e preço de entrega maior.",
   "metadata": {
    "id": "GBWVvtTtMjrp",
    "cell_id": "00061-33ce3da5-6b0d-4bcf-b580-3490e983e4cb",
    "deepnote_cell_type": "markdown"
   }
  },
  {
   "cell_type": "markdown",
   "source": "### **2.2. Gráfico de entregas por região** ",
   "metadata": {
    "id": "sl_r66SJJWit",
    "cell_id": "00062-5db16abe-a8c1-4b18-8a51-2286bbcba5cc",
    "deepnote_cell_type": "markdown"
   }
  },
  {
   "cell_type": "markdown",
   "source": " - **Agregação**:",
   "metadata": {
    "id": "cW7Bv7zgGsEq",
    "cell_id": "00063-0d35df1e-9163-455a-9b3e-941808cea92a",
    "deepnote_cell_type": "markdown"
   }
  },
  {
   "cell_type": "code",
   "metadata": {
    "id": "azbMtPLeDRHQ",
    "cell_id": "00064-1a86482a-563b-439f-9f2c-79dde3caac64",
    "deepnote_cell_type": "code"
   },
   "source": "data = pd.DataFrame(deliveries_df[['region', 'vehicle_capacity']].value_counts(normalize=True)).reset_index()\ndata.rename(columns={0: \"region_percent\"}, inplace=True)\ndata.head()",
   "execution_count": null,
   "outputs": []
  },
  {
   "cell_type": "markdown",
   "source": " - **Visualização**:",
   "metadata": {
    "id": "6YVW68VGGt0R",
    "cell_id": "00065-603f6ff0-bc97-457f-8339-fa4f4954ac99",
    "deepnote_cell_type": "markdown"
   }
  },
  {
   "cell_type": "code",
   "metadata": {
    "id": "gp-g11GyKLuI",
    "cell_id": "00066-ea904b0d-d36c-4ed5-af02-bdd68575d6df",
    "deepnote_cell_type": "code"
   },
   "source": "import seaborn as sns\n\nwith sns.axes_style('whitegrid'):\n  grafico = sns.barplot(data=data, x=\"region\", y=\"region_percent\", ci=None, palette=\"pastel\")\n  grafico.set(title='Proporção de entregas por região', xlabel='Região', ylabel='Proporção');",
   "execution_count": null,
   "outputs": []
  },
  {
   "cell_type": "markdown",
   "source": " - **Insights**:",
   "metadata": {
    "id": "GEUZAHwsGrCb",
    "cell_id": "00067-87c791d8-c43e-4ff6-8ce7-0527fca36485",
    "deepnote_cell_type": "markdown"
   }
  },
  {
   "cell_type": "markdown",
   "source": "1. A distribuição das **entregas** está muito concentrada nos **hubs** das regiões 1 e 2, mas pouco no da região 0. Contudo a capacidade dos veículos é mesma para todos os **hubs**, logo os **veículos** poderiam ser deslocados para as regiões de maior tráfego.",
   "metadata": {
    "id": "YIBT4JKGL-YS",
    "cell_id": "00068-98126ed1-8da1-4db0-b146-40962f0a304b",
    "deepnote_cell_type": "markdown"
   }
  },
  {
   "cell_type": "markdown",
   "source": "## 3\\. Storytelling",
   "metadata": {
    "id": "QC7wrqghJaBV",
    "cell_id": "00069-33044ebf-b452-49c1-af00-9d78adb748d1",
    "deepnote_cell_type": "markdown"
   }
  },
  {
   "cell_type": "markdown",
   "source": "O *storytelling* no contexto de dados é um técnica de apresentação de resultados orientado a dados, ou seja, contar uma história baseada nos *insights* que foram gerados através da análise dos dados. Notebooks como este do Google Colab e os do Kaggle são excelentes ferramentas para conduzir e compartilhar *storytelling* de dados devido a natureza texto-código de suas céluas.",
   "metadata": {
    "id": "mqcQvnREEomQ",
    "cell_id": "00070-59363e8e-1629-4041-9ad8-e20af93874e2",
    "deepnote_cell_type": "markdown"
   }
  },
  {
   "cell_type": "markdown",
   "source": "Para você montar o seu portifólio, eu sugiro a construção de um notebook com a seguinte estrutura (vou disponibiliza-la nos exercícios):\n\n 1. Título;\n 2. Breve descrição do problema;\n 3. Código de importação de bibliotecas;\n 4. Código o download/carregamento/geração de dados;\n 5. Etapa de exploração;\n 6. Etapa de limpeza e transformação;\n 7. Etapa de análise (com visualizações);\n 8. Resumo dos *insights* gerados.\n\nBusquei organizar este notebook desta forma. Ademais, os notebooks presentes na plataforma do Kaggle são excelentes exemplos a serem seguidos, em especial os primeiros colocados em competições.",
   "metadata": {
    "id": "8dkjjqWbEsTP",
    "cell_id": "00071-00f9d8e4-b7ff-49a0-a8c7-74e17c322a2e",
    "deepnote_cell_type": "markdown"
   }
  },
  {
   "cell_type": "markdown",
   "source": "Para finalizar, algumas dicas:\n\n 1. Estruture seu código sempre de acordo com as boas práticas PEP8, assim ele será mais legível para o leitor;\n 2. Sempre se preocupe com a aparência dos seus gráficos, todos devem ter (no mínimo) título no topo e nos eixos e legendas;\n 3. Use e abuso das células de texto para estruturar seu notebook, siga as mesmas técnicas que eu utilizo nos notebooks do curso para estruturar seu texto.",
   "metadata": {
    "id": "wVKjYoxREvy3",
    "cell_id": "00072-37650a30-bc83-4fb1-8d33-aa82f4fed452",
    "deepnote_cell_type": "markdown"
   }
  },
  {
   "cell_type": "markdown",
   "source": "<a style='text-decoration:none;line-height:16px;display:flex;color:#5B5B62;padding:10px;justify-content:end;' href='https://deepnote.com?utm_source=created-in-deepnote-cell&projectId=690ec1aa-ed7a-4520-b902-aba6fc5867d1' target=\"_blank\">\n<img alt='Created in deepnote.com' style='display:inline;max-height:16px;margin:0px;margin-right:7.5px;' src='data:image/svg+xml;base64,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' > </img>\nCreated in <span style='font-weight:600;margin-left:4px;'>Deepnote</span></a>",
   "metadata": {
    "tags": [],
    "created_in_deepnote_cell": true,
    "deepnote_cell_type": "markdown"
   }
  }
 ],
 "nbformat": 4,
 "nbformat_minor": 0,
 "metadata": {
  "colab": {
   "name": "module_17_class.ipynb",
   "provenance": [],
   "collapsed_sections": [],
   "toc_visible": true,
   "authorship_tag": "ABX9TyNWBZyihcyqVwRS/wuGh6Vr"
  },
  "kernelspec": {
   "name": "python3",
   "display_name": "Python 3"
  },
  "deepnote_notebook_id": "2860dedd-1d68-4e3f-9cb8-0e63a3b78ae6",
  "deepnote": {},
  "deepnote_execution_queue": []
 }
}