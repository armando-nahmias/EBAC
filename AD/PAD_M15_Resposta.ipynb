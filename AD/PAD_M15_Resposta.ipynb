{
 "cells": [
  {
   "cell_type": "markdown",
   "source": "<img src=\"https://raw.githubusercontent.com/andre-marcos-perez/ebac-course-utils/main/media/logo/newebac_logo_black_half.png\" alt=\"ebac-logo\">\n\n---\n\n# **Módulo** | Análise de Dados: Visualização de Dados II\nCaderno de **Exercícios**<br> \nProfessor [André Perez](https://www.linkedin.com/in/andremarcosperez/)\n\n---",
   "metadata": {
    "id": "KJqp9AANOCtf",
    "cell_id": "00000-81e50fab-95b6-47ca-8c00-82bbdc3e008a",
    "deepnote_cell_type": "markdown"
   }
  },
  {
   "cell_type": "markdown",
   "source": "# **Tópicos**\n\n<ol type=\"1\">\n  <li>Distribuições: Histograma, KDE e Box Plot;</li>\n  <li>Correlação: Gráfico de Disperção e Mapa de Calor.</li>\n</ol>",
   "metadata": {
    "id": "d9jDtUbDOE1-",
    "cell_id": "00001-7badc975-a5ba-49c4-b26b-e03222b9751a",
    "deepnote_cell_type": "markdown"
   }
  },
  {
   "cell_type": "markdown",
   "source": "---",
   "metadata": {
    "id": "SmoHgt-lwkpD",
    "cell_id": "00002-a67fbafd-96e9-468b-a1a5-a9c65f0efec2",
    "deepnote_cell_type": "markdown"
   }
  },
  {
   "cell_type": "markdown",
   "source": "# **Exercícios**",
   "metadata": {
    "id": "GABI6OW8OfQ2",
    "cell_id": "00003-408c2c52-14d6-46c2-ba55-13090d0bd82a",
    "deepnote_cell_type": "markdown"
   }
  },
  {
   "cell_type": "markdown",
   "source": "Nestes exercícios, você deve decidir qual é o gráfico visto em aula que melhor visualiza uma base de dados. Após decidir, você deverá criar a visualização usando o conteúdo exposto durante a aula e adicionar um pequeno parágrafo sobre um insights que pode ser extraido do gráfico.",
   "metadata": {
    "id": "45DbYPgFhuR7",
    "cell_id": "00004-29001771-c240-438a-9fb0-2fed8810ec9a",
    "deepnote_cell_type": "markdown"
   }
  },
  {
   "cell_type": "markdown",
   "source": "## 1\\. Preços `outliers` de diamante",
   "metadata": {
    "id": "GWgNoJN8DHyY",
    "cell_id": "00005-a5847efe-76b5-4f9f-aef3-0aca7585885a",
    "deepnote_cell_type": "markdown"
   }
  },
  {
   "cell_type": "code",
   "metadata": {
    "id": "7w8cSL1sdVdC",
    "cell_id": "00006-31fd1b2a-bb19-438a-816c-ff0565870e41",
    "deepnote_to_be_reexecuted": false,
    "source_hash": "7ff9d7ea",
    "execution_start": 1639765347596,
    "execution_millis": 4480,
    "deepnote_cell_type": "code"
   },
   "source": "import seaborn as sns\n\ndata = sns.load_dataset(\"diamonds\")\ndata.head()",
   "outputs": [
    {
     "output_type": "execute_result",
     "execution_count": 1,
     "data": {
      "application/vnd.deepnote.dataframe.v3+json": {
       "column_count": 10,
       "row_count": 5,
       "columns": [
        {
         "name": "carat",
         "dtype": "float64",
         "stats": {
          "unique_count": 4,
          "nan_count": 0,
          "min": "0.21",
          "max": "0.31",
          "histogram": [
           {
            "bin_start": 0.21,
            "bin_end": 0.22,
            "count": 1
           },
           {
            "bin_start": 0.22,
            "bin_end": 0.22999999999999998,
            "count": 0
           },
           {
            "bin_start": 0.22999999999999998,
            "bin_end": 0.24,
            "count": 2
           },
           {
            "bin_start": 0.24,
            "bin_end": 0.25,
            "count": 0
           },
           {
            "bin_start": 0.25,
            "bin_end": 0.26,
            "count": 0
           },
           {
            "bin_start": 0.26,
            "bin_end": 0.27,
            "count": 0
           },
           {
            "bin_start": 0.27,
            "bin_end": 0.28,
            "count": 0
           },
           {
            "bin_start": 0.28,
            "bin_end": 0.29,
            "count": 0
           },
           {
            "bin_start": 0.29,
            "bin_end": 0.3,
            "count": 1
           },
           {
            "bin_start": 0.3,
            "bin_end": 0.31,
            "count": 1
           }
          ]
         }
        },
        {
         "name": "cut",
         "dtype": "category",
         "stats": {
          "unique_count": 3,
          "nan_count": 0,
          "categories": [
           {
            "name": "Premium",
            "count": 2
           },
           {
            "name": "Good",
            "count": 2
           },
           {
            "name": "Ideal",
            "count": 1
           }
          ]
         }
        },
        {
         "name": "color",
         "dtype": "category",
         "stats": {
          "unique_count": 3,
          "nan_count": 0,
          "categories": [
           {
            "name": "E",
            "count": 3
           },
           {
            "name": "I",
            "count": 1
           },
           {
            "name": "J",
            "count": 1
           }
          ]
         }
        },
        {
         "name": "clarity",
         "dtype": "category",
         "stats": {
          "unique_count": 4,
          "nan_count": 0,
          "categories": [
           {
            "name": "SI2",
            "count": 2
           },
           {
            "name": "SI1",
            "count": 1
           },
           {
            "name": "2 others",
            "count": 2
           }
          ]
         }
        },
        {
         "name": "depth",
         "dtype": "float64",
         "stats": {
          "unique_count": 5,
          "nan_count": 0,
          "min": "56.9",
          "max": "63.3",
          "histogram": [
           {
            "bin_start": 56.9,
            "bin_end": 57.54,
            "count": 1
           },
           {
            "bin_start": 57.54,
            "bin_end": 58.18,
            "count": 0
           },
           {
            "bin_start": 58.18,
            "bin_end": 58.82,
            "count": 0
           },
           {
            "bin_start": 58.82,
            "bin_end": 59.46,
            "count": 0
           },
           {
            "bin_start": 59.46,
            "bin_end": 60.099999999999994,
            "count": 1
           },
           {
            "bin_start": 60.099999999999994,
            "bin_end": 60.739999999999995,
            "count": 0
           },
           {
            "bin_start": 60.739999999999995,
            "bin_end": 61.379999999999995,
            "count": 0
           },
           {
            "bin_start": 61.379999999999995,
            "bin_end": 62.019999999999996,
            "count": 1
           },
           {
            "bin_start": 62.019999999999996,
            "bin_end": 62.66,
            "count": 1
           },
           {
            "bin_start": 62.66,
            "bin_end": 63.3,
            "count": 1
           }
          ]
         }
        },
        {
         "name": "table",
         "dtype": "float64",
         "stats": {
          "unique_count": 4,
          "nan_count": 0,
          "min": "55.0",
          "max": "65.0",
          "histogram": [
           {
            "bin_start": 55,
            "bin_end": 56,
            "count": 1
           },
           {
            "bin_start": 56,
            "bin_end": 57,
            "count": 0
           },
           {
            "bin_start": 57,
            "bin_end": 58,
            "count": 0
           },
           {
            "bin_start": 58,
            "bin_end": 59,
            "count": 2
           },
           {
            "bin_start": 59,
            "bin_end": 60,
            "count": 0
           },
           {
            "bin_start": 60,
            "bin_end": 61,
            "count": 0
           },
           {
            "bin_start": 61,
            "bin_end": 62,
            "count": 1
           },
           {
            "bin_start": 62,
            "bin_end": 63,
            "count": 0
           },
           {
            "bin_start": 63,
            "bin_end": 64,
            "count": 0
           },
           {
            "bin_start": 64,
            "bin_end": 65,
            "count": 1
           }
          ]
         }
        },
        {
         "name": "price",
         "dtype": "int64",
         "stats": {
          "unique_count": 4,
          "nan_count": 0,
          "min": "326",
          "max": "335",
          "histogram": [
           {
            "bin_start": 326,
            "bin_end": 326.9,
            "count": 2
           },
           {
            "bin_start": 326.9,
            "bin_end": 327.8,
            "count": 1
           },
           {
            "bin_start": 327.8,
            "bin_end": 328.7,
            "count": 0
           },
           {
            "bin_start": 328.7,
            "bin_end": 329.6,
            "count": 0
           },
           {
            "bin_start": 329.6,
            "bin_end": 330.5,
            "count": 0
           },
           {
            "bin_start": 330.5,
            "bin_end": 331.4,
            "count": 0
           },
           {
            "bin_start": 331.4,
            "bin_end": 332.3,
            "count": 0
           },
           {
            "bin_start": 332.3,
            "bin_end": 333.2,
            "count": 0
           },
           {
            "bin_start": 333.2,
            "bin_end": 334.1,
            "count": 1
           },
           {
            "bin_start": 334.1,
            "bin_end": 335,
            "count": 1
           }
          ]
         }
        },
        {
         "name": "x",
         "dtype": "float64",
         "stats": {
          "unique_count": 5,
          "nan_count": 0,
          "min": "3.89",
          "max": "4.34",
          "histogram": [
           {
            "bin_start": 3.89,
            "bin_end": 3.935,
            "count": 1
           },
           {
            "bin_start": 3.935,
            "bin_end": 3.98,
            "count": 1
           },
           {
            "bin_start": 3.98,
            "bin_end": 4.025,
            "count": 0
           },
           {
            "bin_start": 4.025,
            "bin_end": 4.07,
            "count": 1
           },
           {
            "bin_start": 4.07,
            "bin_end": 4.115,
            "count": 0
           },
           {
            "bin_start": 4.115,
            "bin_end": 4.16,
            "count": 0
           },
           {
            "bin_start": 4.16,
            "bin_end": 4.205,
            "count": 1
           },
           {
            "bin_start": 4.205,
            "bin_end": 4.25,
            "count": 0
           },
           {
            "bin_start": 4.25,
            "bin_end": 4.295,
            "count": 0
           },
           {
            "bin_start": 4.295,
            "bin_end": 4.34,
            "count": 1
           }
          ]
         }
        },
        {
         "name": "y",
         "dtype": "float64",
         "stats": {
          "unique_count": 5,
          "nan_count": 0,
          "min": "3.84",
          "max": "4.35",
          "histogram": [
           {
            "bin_start": 3.84,
            "bin_end": 3.891,
            "count": 1
           },
           {
            "bin_start": 3.891,
            "bin_end": 3.9419999999999997,
            "count": 0
           },
           {
            "bin_start": 3.9419999999999997,
            "bin_end": 3.993,
            "count": 1
           },
           {
            "bin_start": 3.993,
            "bin_end": 4.044,
            "count": 0
           },
           {
            "bin_start": 4.044,
            "bin_end": 4.095,
            "count": 1
           },
           {
            "bin_start": 4.095,
            "bin_end": 4.146,
            "count": 0
           },
           {
            "bin_start": 4.146,
            "bin_end": 4.197,
            "count": 0
           },
           {
            "bin_start": 4.197,
            "bin_end": 4.247999999999999,
            "count": 1
           },
           {
            "bin_start": 4.247999999999999,
            "bin_end": 4.2989999999999995,
            "count": 0
           },
           {
            "bin_start": 4.2989999999999995,
            "bin_end": 4.35,
            "count": 1
           }
          ]
         }
        },
        {
         "name": "z",
         "dtype": "float64",
         "stats": {
          "unique_count": 4,
          "nan_count": 0,
          "min": "2.31",
          "max": "2.75",
          "histogram": [
           {
            "bin_start": 2.31,
            "bin_end": 2.354,
            "count": 2
           },
           {
            "bin_start": 2.354,
            "bin_end": 2.398,
            "count": 0
           },
           {
            "bin_start": 2.398,
            "bin_end": 2.442,
            "count": 1
           },
           {
            "bin_start": 2.442,
            "bin_end": 2.486,
            "count": 0
           },
           {
            "bin_start": 2.486,
            "bin_end": 2.5300000000000002,
            "count": 0
           },
           {
            "bin_start": 2.5300000000000002,
            "bin_end": 2.574,
            "count": 0
           },
           {
            "bin_start": 2.574,
            "bin_end": 2.618,
            "count": 0
           },
           {
            "bin_start": 2.618,
            "bin_end": 2.662,
            "count": 1
           },
           {
            "bin_start": 2.662,
            "bin_end": 2.706,
            "count": 0
           },
           {
            "bin_start": 2.706,
            "bin_end": 2.75,
            "count": 1
           }
          ]
         }
        },
        {
         "name": "_deepnote_index_column",
         "dtype": "int64"
        }
       ],
       "rows": [
        {
         "carat": 0.23,
         "cut": "Ideal",
         "color": "E",
         "clarity": "SI2",
         "depth": 61.5,
         "table": 55,
         "price": 326,
         "x": 3.95,
         "y": 3.98,
         "z": 2.43,
         "_deepnote_index_column": 0
        },
        {
         "carat": 0.21,
         "cut": "Premium",
         "color": "E",
         "clarity": "SI1",
         "depth": 59.8,
         "table": 61,
         "price": 326,
         "x": 3.89,
         "y": 3.84,
         "z": 2.31,
         "_deepnote_index_column": 1
        },
        {
         "carat": 0.23,
         "cut": "Good",
         "color": "E",
         "clarity": "VS1",
         "depth": 56.9,
         "table": 65,
         "price": 327,
         "x": 4.05,
         "y": 4.07,
         "z": 2.31,
         "_deepnote_index_column": 2
        },
        {
         "carat": 0.29,
         "cut": "Premium",
         "color": "I",
         "clarity": "VS2",
         "depth": 62.4,
         "table": 58,
         "price": 334,
         "x": 4.2,
         "y": 4.23,
         "z": 2.63,
         "_deepnote_index_column": 3
        },
        {
         "carat": 0.31,
         "cut": "Good",
         "color": "J",
         "clarity": "SI2",
         "depth": 63.3,
         "table": 58,
         "price": 335,
         "x": 4.34,
         "y": 4.35,
         "z": 2.75,
         "_deepnote_index_column": 4
        }
       ]
      },
      "text/plain": "   carat      cut color clarity  depth  table  price     x     y     z\n0   0.23    Ideal     E     SI2   61.5   55.0    326  3.95  3.98  2.43\n1   0.21  Premium     E     SI1   59.8   61.0    326  3.89  3.84  2.31\n2   0.23     Good     E     VS1   56.9   65.0    327  4.05  4.07  2.31\n3   0.29  Premium     I     VS2   62.4   58.0    334  4.20  4.23  2.63\n4   0.31     Good     J     SI2   63.3   58.0    335  4.34  4.35  2.75",
      "text/html": "<div>\n<style scoped>\n    .dataframe tbody tr th:only-of-type {\n        vertical-align: middle;\n    }\n\n    .dataframe tbody tr th {\n        vertical-align: top;\n    }\n\n    .dataframe thead th {\n        text-align: right;\n    }\n</style>\n<table border=\"1\" class=\"dataframe\">\n  <thead>\n    <tr style=\"text-align: right;\">\n      <th></th>\n      <th>carat</th>\n      <th>cut</th>\n      <th>color</th>\n      <th>clarity</th>\n      <th>depth</th>\n      <th>table</th>\n      <th>price</th>\n      <th>x</th>\n      <th>y</th>\n      <th>z</th>\n    </tr>\n  </thead>\n  <tbody>\n    <tr>\n      <th>0</th>\n      <td>0.23</td>\n      <td>Ideal</td>\n      <td>E</td>\n      <td>SI2</td>\n      <td>61.5</td>\n      <td>55.0</td>\n      <td>326</td>\n      <td>3.95</td>\n      <td>3.98</td>\n      <td>2.43</td>\n    </tr>\n    <tr>\n      <th>1</th>\n      <td>0.21</td>\n      <td>Premium</td>\n      <td>E</td>\n      <td>SI1</td>\n      <td>59.8</td>\n      <td>61.0</td>\n      <td>326</td>\n      <td>3.89</td>\n      <td>3.84</td>\n      <td>2.31</td>\n    </tr>\n    <tr>\n      <th>2</th>\n      <td>0.23</td>\n      <td>Good</td>\n      <td>E</td>\n      <td>VS1</td>\n      <td>56.9</td>\n      <td>65.0</td>\n      <td>327</td>\n      <td>4.05</td>\n      <td>4.07</td>\n      <td>2.31</td>\n    </tr>\n    <tr>\n      <th>3</th>\n      <td>0.29</td>\n      <td>Premium</td>\n      <td>I</td>\n      <td>VS2</td>\n      <td>62.4</td>\n      <td>58.0</td>\n      <td>334</td>\n      <td>4.20</td>\n      <td>4.23</td>\n      <td>2.63</td>\n    </tr>\n    <tr>\n      <th>4</th>\n      <td>0.31</td>\n      <td>Good</td>\n      <td>J</td>\n      <td>SI2</td>\n      <td>63.3</td>\n      <td>58.0</td>\n      <td>335</td>\n      <td>4.34</td>\n      <td>4.35</td>\n      <td>2.75</td>\n    </tr>\n  </tbody>\n</table>\n</div>"
     },
     "metadata": {}
    }
   ],
   "execution_count": null
  },
  {
   "cell_type": "code",
   "metadata": {
    "id": "FzomRhmMc_QN",
    "cell_id": "00007-bb06c3dc-6257-44a6-b0ab-ad7088965791",
    "deepnote_cell_type": "code"
   },
   "source": "# gráfico do exercício 1\n\ndiamonds = ...",
   "execution_count": null,
   "outputs": []
  },
  {
   "cell_type": "markdown",
   "source": "**Insight do gráfico 1**: ...",
   "metadata": {
    "id": "T1v54HT4lEfs",
    "cell_id": "00008-f73722d0-b36d-4aea-ad32-746b2639f041",
    "deepnote_cell_type": "markdown"
   }
  },
  {
   "cell_type": "markdown",
   "source": "---",
   "metadata": {
    "id": "QPUo5mDTdtRY",
    "cell_id": "00009-ef1fb61a-6ebe-40a3-9e44-d7a589ba7e69",
    "deepnote_cell_type": "markdown"
   }
  },
  {
   "cell_type": "markdown",
   "source": "## 2\\. Correlação entre o do preço do diamante com seu peso (`carat`) agrupados por sua transparêcia (`clarity`)",
   "metadata": {
    "id": "wWfZ8iu9dwzz",
    "cell_id": "00010-df2b719a-aca0-49ce-a228-d1e6a565afb2",
    "deepnote_cell_type": "markdown"
   }
  },
  {
   "cell_type": "code",
   "metadata": {
    "id": "rf3l0_fpdwz0",
    "cell_id": "00011-1c022a10-ca2a-43d1-a42e-b704a56b5985",
    "deepnote_cell_type": "code"
   },
   "source": "import seaborn as sns\n\ndata = sns.load_dataset(\"diamonds\")\ndata.head()",
   "execution_count": null,
   "outputs": []
  },
  {
   "cell_type": "code",
   "metadata": {
    "id": "GS8LOuQjdwz1",
    "cell_id": "00012-972c9dc8-d095-4af4-80da-89c838869358",
    "deepnote_cell_type": "code"
   },
   "source": "# gráfico do exercício 2\n\ndiamonds = ...",
   "execution_count": null,
   "outputs": []
  },
  {
   "cell_type": "markdown",
   "source": "**Insight do gráfico 2**: ...",
   "metadata": {
    "id": "hKg9CwX6lM3r",
    "cell_id": "00013-fc605ec3-6ea6-4383-a642-f6dc126efc75",
    "deepnote_cell_type": "markdown"
   }
  },
  {
   "cell_type": "markdown",
   "source": "---",
   "metadata": {
    "id": "ucbXdtR4dwz1",
    "cell_id": "00014-88a42b26-6d40-4513-96d1-285e22044343",
    "deepnote_cell_type": "markdown"
   }
  },
  {
   "cell_type": "markdown",
   "source": "## 3\\. Distribuição contínua aproximada do peso (`weight`) de carros",
   "metadata": {
    "id": "OybuTdyXdxdS",
    "cell_id": "00015-da05af96-6bc1-4852-a1ff-c3009185a335",
    "deepnote_cell_type": "markdown"
   }
  },
  {
   "cell_type": "code",
   "metadata": {
    "id": "b-ssImdhdxdT",
    "cell_id": "00016-f2447930-963c-418d-b6ae-5ef2cfd6e4d0",
    "deepnote_cell_type": "code"
   },
   "source": "import seaborn as sns\n\ndata = sns.load_dataset(\"mpg\")\ndata.head()",
   "execution_count": null,
   "outputs": []
  },
  {
   "cell_type": "code",
   "metadata": {
    "id": "Eg4JROvTdxdT",
    "cell_id": "00017-90b89ab3-7ff1-4178-a198-73dfcada9509",
    "deepnote_cell_type": "code"
   },
   "source": "# gráfico do exercício 3\n\ncars = ...",
   "execution_count": null,
   "outputs": []
  },
  {
   "cell_type": "markdown",
   "source": "**Insight do gráfico 3**: ...",
   "metadata": {
    "id": "OpIwRWGzlO8Y",
    "cell_id": "00018-5283715f-2467-4e95-ad75-4daff54a8907",
    "deepnote_cell_type": "markdown"
   }
  },
  {
   "cell_type": "markdown",
   "source": "---",
   "metadata": {
    "id": "wmFKH-DAdxdU",
    "cell_id": "00019-636765c3-1e38-407a-90cb-f5af178e9982",
    "deepnote_cell_type": "markdown"
   }
  },
  {
   "cell_type": "markdown",
   "source": "<a style='text-decoration:none;line-height:16px;display:flex;color:#5B5B62;padding:10px;justify-content:end;' href='https://deepnote.com?utm_source=created-in-deepnote-cell&projectId=690ec1aa-ed7a-4520-b902-aba6fc5867d1' target=\"_blank\">\n<img alt='Created in deepnote.com' style='display:inline;max-height:16px;margin:0px;margin-right:7.5px;' src='data:image/svg+xml;base64,PD94bWwgdmVyc2lvbj0iMS4wIiBlbmNvZGluZz0iVVRGLTgiPz4KPHN2ZyB3aWR0aD0iODBweCIgaGVpZ2h0PSI4MHB4IiB2aWV3Qm94PSIwIDAgODAgODAiIHZlcnNpb249IjEuMSIgeG1sbnM9Imh0dHA6Ly93d3cudzMub3JnLzIwMDAvc3ZnIiB4bWxuczp4bGluaz0iaHR0cDovL3d3dy53My5vcmcvMTk5OS94bGluayI+CiAgICA8IS0tIEdlbmVyYXRvcjogU2tldGNoIDU0LjEgKDc2NDkwKSAtIGh0dHBzOi8vc2tldGNoYXBwLmNvbSAtLT4KICAgIDx0aXRsZT5Hcm91cCAzPC90aXRsZT4KICAgIDxkZXNjPkNyZWF0ZWQgd2l0aCBTa2V0Y2guPC9kZXNjPgogICAgPGcgaWQ9IkxhbmRpbmciIHN0cm9rZT0ibm9uZSIgc3Ryb2tlLXdpZHRoPSIxIiBmaWxsPSJub25lIiBmaWxsLXJ1bGU9ImV2ZW5vZGQiPgogICAgICAgIDxnIGlkPSJBcnRib2FyZCIgdHJhbnNmb3JtPSJ0cmFuc2xhdGUoLTEyMzUuMDAwMDAwLCAtNzkuMDAwMDAwKSI+CiAgICAgICAgICAgIDxnIGlkPSJHcm91cC0zIiB0cmFuc2Zvcm09InRyYW5zbGF0ZSgxMjM1LjAwMDAwMCwgNzkuMDAwMDAwKSI+CiAgICAgICAgICAgICAgICA8cG9seWdvbiBpZD0iUGF0aC0yMCIgZmlsbD0iIzAyNjVCNCIgcG9pbnRzPSIyLjM3NjIzNzYyIDgwIDM4LjA0NzY2NjcgODAgNTcuODIxNzgyMiA3My44MDU3NTkyIDU3LjgyMTc4MjIgMzIuNzU5MjczOSAzOS4xNDAyMjc4IDMxLjY4MzE2ODMiPjwvcG9seWdvbj4KICAgICAgICAgICAgICAgIDxwYXRoIGQ9Ik0zNS4wMDc3MTgsODAgQzQyLjkwNjIwMDcsNzYuNDU0OTM1OCA0Ny41NjQ5MTY3LDcxLjU0MjI2NzEgNDguOTgzODY2LDY1LjI2MTk5MzkgQzUxLjExMjI4OTksNTUuODQxNTg0MiA0MS42NzcxNzk1LDQ5LjIxMjIyODQgMjUuNjIzOTg0Niw0OS4yMTIyMjg0IEMyNS40ODQ5Mjg5LDQ5LjEyNjg0NDggMjkuODI2MTI5Niw0My4yODM4MjQ4IDM4LjY0NzU4NjksMzEuNjgzMTY4MyBMNzIuODcxMjg3MSwzMi41NTQ0MjUgTDY1LjI4MDk3Myw2Ny42NzYzNDIxIEw1MS4xMTIyODk5LDc3LjM3NjE0NCBMMzUuMDA3NzE4LDgwIFoiIGlkPSJQYXRoLTIyIiBmaWxsPSIjMDAyODY4Ij48L3BhdGg+CiAgICAgICAgICAgICAgICA8cGF0aCBkPSJNMCwzNy43MzA0NDA1IEwyNy4xMTQ1MzcsMC4yNTcxMTE0MzYgQzYyLjM3MTUxMjMsLTEuOTkwNzE3MDEgODAsMTAuNTAwMzkyNyA4MCwzNy43MzA0NDA1IEM4MCw2NC45NjA0ODgyIDY0Ljc3NjUwMzgsNzkuMDUwMzQxNCAzNC4zMjk1MTEzLDgwIEM0Ny4wNTUzNDg5LDc3LjU2NzA4MDggNTMuNDE4MjY3Nyw3MC4zMTM2MTAzIDUzLjQxODI2NzcsNTguMjM5NTg4NSBDNTMuNDE4MjY3Nyw0MC4xMjg1NTU3IDM2LjMwMzk1NDQsMzcuNzMwNDQwNSAyNS4yMjc0MTcsMzcuNzMwNDQwNSBDMTcuODQzMDU4NiwzNy43MzA0NDA1IDkuNDMzOTE5NjYsMzcuNzMwNDQwNSAwLDM3LjczMDQ0MDUgWiIgaWQ9IlBhdGgtMTkiIGZpbGw9IiMzNzkzRUYiPjwvcGF0aD4KICAgICAgICAgICAgPC9nPgogICAgICAgIDwvZz4KICAgIDwvZz4KPC9zdmc+' > </img>\nCreated in <span style='font-weight:600;margin-left:4px;'>Deepnote</span></a>",
   "metadata": {
    "tags": [],
    "created_in_deepnote_cell": true,
    "deepnote_cell_type": "markdown"
   }
  }
 ],
 "nbformat": 4,
 "nbformat_minor": 0,
 "metadata": {
  "colab": {
   "name": "module_15_exercise.ipynb",
   "provenance": [],
   "collapsed_sections": [],
   "toc_visible": true
  },
  "kernelspec": {
   "name": "python3",
   "display_name": "Python 3"
  },
  "deepnote_notebook_id": "75203423-2b41-42ce-b16d-73578b138fae",
  "deepnote": {},
  "deepnote_execution_queue": []
 }
}