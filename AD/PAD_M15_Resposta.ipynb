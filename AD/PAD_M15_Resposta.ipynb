{
 "cells": [
  {
   "cell_type": "markdown",
   "source": "<img src=\"https://raw.githubusercontent.com/andre-marcos-perez/ebac-course-utils/main/media/logo/newebac_logo_black_half.png\" alt=\"ebac-logo\">\n\n---\n\n# **Módulo** | Análise de Dados: Visualização de Dados II\nCaderno de **Exercícios**<br> \nProfessor [André Perez](https://www.linkedin.com/in/andremarcosperez/)\n\n---",
   "metadata": {
    "cell_id": "00000-1d71ea74-8e60-42d7-91e2-97dae52aa45e",
    "id": "KJqp9AANOCtf",
    "deepnote_cell_type": "markdown"
   }
  },
  {
   "cell_type": "markdown",
   "source": "# **Tópicos**\n\n<ol type=\"1\">\n  <li>Distribuições: Histograma, KDE e Box Plot;</li>\n  <li>Correlação: Gráfico de Disperção e Mapa de Calor.</li>\n</ol>",
   "metadata": {
    "cell_id": "00001-23f263a6-8be9-41c0-a9fc-55f18ba64e61",
    "id": "d9jDtUbDOE1-",
    "deepnote_cell_type": "markdown"
   }
  },
  {
   "cell_type": "markdown",
   "source": "---",
   "metadata": {
    "cell_id": "00002-7cae462c-f15d-4fda-8ef5-535ed26bfd35",
    "id": "SmoHgt-lwkpD",
    "deepnote_cell_type": "markdown"
   }
  },
  {
   "cell_type": "markdown",
   "source": "# **Exercícios**",
   "metadata": {
    "cell_id": "00003-c3095497-bce7-45e5-9d84-cc35dd012383",
    "id": "GABI6OW8OfQ2",
    "deepnote_cell_type": "markdown"
   }
  },
  {
   "cell_type": "markdown",
   "source": "Nestes exercícios, você deve decidir qual é o gráfico visto em aula que melhor visualiza uma base de dados. Após decidir, você deverá criar a visualização usando o conteúdo exposto durante a aula e adicionar um pequeno parágrafo sobre um insights que pode ser extraido do gráfico.",
   "metadata": {
    "cell_id": "00004-2abda07f-fc44-4f6b-beb1-34ce722585d7",
    "id": "45DbYPgFhuR7",
    "deepnote_cell_type": "markdown"
   }
  },
  {
   "cell_type": "markdown",
   "source": "## 1\\. Preços `outliers` de diamante",
   "metadata": {
    "cell_id": "00005-9006db12-7fbb-4dd5-817c-0c2f15093d56",
    "id": "GWgNoJN8DHyY",
    "deepnote_cell_type": "markdown"
   }
  },
  {
   "cell_type": "code",
   "metadata": {
    "cell_id": "00006-7b1ca331-0ea9-459d-bcc8-32411e3877c2",
    "deepnote_to_be_reexecuted": false,
    "execution_millis": 3930,
    "execution_start": 1639882137761,
    "id": "7w8cSL1sdVdC",
    "source_hash": "de82a102",
    "deepnote_cell_type": "code"
   },
   "source": "import seaborn as sns\n\ndata = sns.load_dataset(\"diamonds\")\ndata.head() ",
   "outputs": [
    {
     "data": {
      "application/vnd.deepnote.dataframe.v3+json": {
       "column_count": 10,
       "columns": [
        {
         "dtype": "float64",
         "name": "carat",
         "stats": {
          "histogram": [
           {
            "bin_end": 0.22,
            "bin_start": 0.21,
            "count": 1
           },
           {
            "bin_end": 0.22999999999999998,
            "bin_start": 0.22,
            "count": 0
           },
           {
            "bin_end": 0.24,
            "bin_start": 0.22999999999999998,
            "count": 2
           },
           {
            "bin_end": 0.25,
            "bin_start": 0.24,
            "count": 0
           },
           {
            "bin_end": 0.26,
            "bin_start": 0.25,
            "count": 0
           },
           {
            "bin_end": 0.27,
            "bin_start": 0.26,
            "count": 0
           },
           {
            "bin_end": 0.28,
            "bin_start": 0.27,
            "count": 0
           },
           {
            "bin_end": 0.29,
            "bin_start": 0.28,
            "count": 0
           },
           {
            "bin_end": 0.3,
            "bin_start": 0.29,
            "count": 1
           },
           {
            "bin_end": 0.31,
            "bin_start": 0.3,
            "count": 1
           }
          ],
          "max": "0.31",
          "min": "0.21",
          "nan_count": 0,
          "unique_count": 4
         }
        },
        {
         "dtype": "category",
         "name": "cut",
         "stats": {
          "categories": [
           {
            "count": 2,
            "name": "Premium"
           },
           {
            "count": 2,
            "name": "Good"
           },
           {
            "count": 1,
            "name": "Ideal"
           }
          ],
          "nan_count": 0,
          "unique_count": 3
         }
        },
        {
         "dtype": "category",
         "name": "color",
         "stats": {
          "categories": [
           {
            "count": 3,
            "name": "E"
           },
           {
            "count": 1,
            "name": "I"
           },
           {
            "count": 1,
            "name": "J"
           }
          ],
          "nan_count": 0,
          "unique_count": 3
         }
        },
        {
         "dtype": "category",
         "name": "clarity",
         "stats": {
          "categories": [
           {
            "count": 2,
            "name": "SI2"
           },
           {
            "count": 1,
            "name": "SI1"
           },
           {
            "count": 2,
            "name": "2 others"
           }
          ],
          "nan_count": 0,
          "unique_count": 4
         }
        },
        {
         "dtype": "float64",
         "name": "depth",
         "stats": {
          "histogram": [
           {
            "bin_end": 57.54,
            "bin_start": 56.9,
            "count": 1
           },
           {
            "bin_end": 58.18,
            "bin_start": 57.54,
            "count": 0
           },
           {
            "bin_end": 58.82,
            "bin_start": 58.18,
            "count": 0
           },
           {
            "bin_end": 59.46,
            "bin_start": 58.82,
            "count": 0
           },
           {
            "bin_end": 60.099999999999994,
            "bin_start": 59.46,
            "count": 1
           },
           {
            "bin_end": 60.739999999999995,
            "bin_start": 60.099999999999994,
            "count": 0
           },
           {
            "bin_end": 61.379999999999995,
            "bin_start": 60.739999999999995,
            "count": 0
           },
           {
            "bin_end": 62.019999999999996,
            "bin_start": 61.379999999999995,
            "count": 1
           },
           {
            "bin_end": 62.66,
            "bin_start": 62.019999999999996,
            "count": 1
           },
           {
            "bin_end": 63.3,
            "bin_start": 62.66,
            "count": 1
           }
          ],
          "max": "63.3",
          "min": "56.9",
          "nan_count": 0,
          "unique_count": 5
         }
        },
        {
         "dtype": "float64",
         "name": "table",
         "stats": {
          "histogram": [
           {
            "bin_end": 56,
            "bin_start": 55,
            "count": 1
           },
           {
            "bin_end": 57,
            "bin_start": 56,
            "count": 0
           },
           {
            "bin_end": 58,
            "bin_start": 57,
            "count": 0
           },
           {
            "bin_end": 59,
            "bin_start": 58,
            "count": 2
           },
           {
            "bin_end": 60,
            "bin_start": 59,
            "count": 0
           },
           {
            "bin_end": 61,
            "bin_start": 60,
            "count": 0
           },
           {
            "bin_end": 62,
            "bin_start": 61,
            "count": 1
           },
           {
            "bin_end": 63,
            "bin_start": 62,
            "count": 0
           },
           {
            "bin_end": 64,
            "bin_start": 63,
            "count": 0
           },
           {
            "bin_end": 65,
            "bin_start": 64,
            "count": 1
           }
          ],
          "max": "65.0",
          "min": "55.0",
          "nan_count": 0,
          "unique_count": 4
         }
        },
        {
         "dtype": "int64",
         "name": "price",
         "stats": {
          "histogram": [
           {
            "bin_end": 326.9,
            "bin_start": 326,
            "count": 2
           },
           {
            "bin_end": 327.8,
            "bin_start": 326.9,
            "count": 1
           },
           {
            "bin_end": 328.7,
            "bin_start": 327.8,
            "count": 0
           },
           {
            "bin_end": 329.6,
            "bin_start": 328.7,
            "count": 0
           },
           {
            "bin_end": 330.5,
            "bin_start": 329.6,
            "count": 0
           },
           {
            "bin_end": 331.4,
            "bin_start": 330.5,
            "count": 0
           },
           {
            "bin_end": 332.3,
            "bin_start": 331.4,
            "count": 0
           },
           {
            "bin_end": 333.2,
            "bin_start": 332.3,
            "count": 0
           },
           {
            "bin_end": 334.1,
            "bin_start": 333.2,
            "count": 1
           },
           {
            "bin_end": 335,
            "bin_start": 334.1,
            "count": 1
           }
          ],
          "max": "335",
          "min": "326",
          "nan_count": 0,
          "unique_count": 4
         }
        },
        {
         "dtype": "float64",
         "name": "x",
         "stats": {
          "histogram": [
           {
            "bin_end": 3.935,
            "bin_start": 3.89,
            "count": 1
           },
           {
            "bin_end": 3.98,
            "bin_start": 3.935,
            "count": 1
           },
           {
            "bin_end": 4.025,
            "bin_start": 3.98,
            "count": 0
           },
           {
            "bin_end": 4.07,
            "bin_start": 4.025,
            "count": 1
           },
           {
            "bin_end": 4.115,
            "bin_start": 4.07,
            "count": 0
           },
           {
            "bin_end": 4.16,
            "bin_start": 4.115,
            "count": 0
           },
           {
            "bin_end": 4.205,
            "bin_start": 4.16,
            "count": 1
           },
           {
            "bin_end": 4.25,
            "bin_start": 4.205,
            "count": 0
           },
           {
            "bin_end": 4.295,
            "bin_start": 4.25,
            "count": 0
           },
           {
            "bin_end": 4.34,
            "bin_start": 4.295,
            "count": 1
           }
          ],
          "max": "4.34",
          "min": "3.89",
          "nan_count": 0,
          "unique_count": 5
         }
        },
        {
         "dtype": "float64",
         "name": "y",
         "stats": {
          "histogram": [
           {
            "bin_end": 3.891,
            "bin_start": 3.84,
            "count": 1
           },
           {
            "bin_end": 3.9419999999999997,
            "bin_start": 3.891,
            "count": 0
           },
           {
            "bin_end": 3.993,
            "bin_start": 3.9419999999999997,
            "count": 1
           },
           {
            "bin_end": 4.044,
            "bin_start": 3.993,
            "count": 0
           },
           {
            "bin_end": 4.095,
            "bin_start": 4.044,
            "count": 1
           },
           {
            "bin_end": 4.146,
            "bin_start": 4.095,
            "count": 0
           },
           {
            "bin_end": 4.197,
            "bin_start": 4.146,
            "count": 0
           },
           {
            "bin_end": 4.247999999999999,
            "bin_start": 4.197,
            "count": 1
           },
           {
            "bin_end": 4.2989999999999995,
            "bin_start": 4.247999999999999,
            "count": 0
           },
           {
            "bin_end": 4.35,
            "bin_start": 4.2989999999999995,
            "count": 1
           }
          ],
          "max": "4.35",
          "min": "3.84",
          "nan_count": 0,
          "unique_count": 5
         }
        },
        {
         "dtype": "float64",
         "name": "z",
         "stats": {
          "histogram": [
           {
            "bin_end": 2.354,
            "bin_start": 2.31,
            "count": 2
           },
           {
            "bin_end": 2.398,
            "bin_start": 2.354,
            "count": 0
           },
           {
            "bin_end": 2.442,
            "bin_start": 2.398,
            "count": 1
           },
           {
            "bin_end": 2.486,
            "bin_start": 2.442,
            "count": 0
           },
           {
            "bin_end": 2.5300000000000002,
            "bin_start": 2.486,
            "count": 0
           },
           {
            "bin_end": 2.574,
            "bin_start": 2.5300000000000002,
            "count": 0
           },
           {
            "bin_end": 2.618,
            "bin_start": 2.574,
            "count": 0
           },
           {
            "bin_end": 2.662,
            "bin_start": 2.618,
            "count": 1
           },
           {
            "bin_end": 2.706,
            "bin_start": 2.662,
            "count": 0
           },
           {
            "bin_end": 2.75,
            "bin_start": 2.706,
            "count": 1
           }
          ],
          "max": "2.75",
          "min": "2.31",
          "nan_count": 0,
          "unique_count": 4
         }
        },
        {
         "dtype": "int64",
         "name": "_deepnote_index_column"
        }
       ],
       "row_count": 5,
       "rows": [
        {
         "_deepnote_index_column": 0,
         "carat": 0.23,
         "clarity": "SI2",
         "color": "E",
         "cut": "Ideal",
         "depth": 61.5,
         "price": 326,
         "table": 55,
         "x": 3.95,
         "y": 3.98,
         "z": 2.43
        },
        {
         "_deepnote_index_column": 1,
         "carat": 0.21,
         "clarity": "SI1",
         "color": "E",
         "cut": "Premium",
         "depth": 59.8,
         "price": 326,
         "table": 61,
         "x": 3.89,
         "y": 3.84,
         "z": 2.31
        },
        {
         "_deepnote_index_column": 2,
         "carat": 0.23,
         "clarity": "VS1",
         "color": "E",
         "cut": "Good",
         "depth": 56.9,
         "price": 327,
         "table": 65,
         "x": 4.05,
         "y": 4.07,
         "z": 2.31
        },
        {
         "_deepnote_index_column": 3,
         "carat": 0.29,
         "clarity": "VS2",
         "color": "I",
         "cut": "Premium",
         "depth": 62.4,
         "price": 334,
         "table": 58,
         "x": 4.2,
         "y": 4.23,
         "z": 2.63
        },
        {
         "_deepnote_index_column": 4,
         "carat": 0.31,
         "clarity": "SI2",
         "color": "J",
         "cut": "Good",
         "depth": 63.3,
         "price": 335,
         "table": 58,
         "x": 4.34,
         "y": 4.35,
         "z": 2.75
        }
       ]
      },
      "text/html": "<div>\n<style scoped>\n    .dataframe tbody tr th:only-of-type {\n        vertical-align: middle;\n    }\n\n    .dataframe tbody tr th {\n        vertical-align: top;\n    }\n\n    .dataframe thead th {\n        text-align: right;\n    }\n</style>\n<table border=\"1\" class=\"dataframe\">\n  <thead>\n    <tr style=\"text-align: right;\">\n      <th></th>\n      <th>carat</th>\n      <th>cut</th>\n      <th>color</th>\n      <th>clarity</th>\n      <th>depth</th>\n      <th>table</th>\n      <th>price</th>\n      <th>x</th>\n      <th>y</th>\n      <th>z</th>\n    </tr>\n  </thead>\n  <tbody>\n    <tr>\n      <th>0</th>\n      <td>0.23</td>\n      <td>Ideal</td>\n      <td>E</td>\n      <td>SI2</td>\n      <td>61.5</td>\n      <td>55.0</td>\n      <td>326</td>\n      <td>3.95</td>\n      <td>3.98</td>\n      <td>2.43</td>\n    </tr>\n    <tr>\n      <th>1</th>\n      <td>0.21</td>\n      <td>Premium</td>\n      <td>E</td>\n      <td>SI1</td>\n      <td>59.8</td>\n      <td>61.0</td>\n      <td>326</td>\n      <td>3.89</td>\n      <td>3.84</td>\n      <td>2.31</td>\n    </tr>\n    <tr>\n      <th>2</th>\n      <td>0.23</td>\n      <td>Good</td>\n      <td>E</td>\n      <td>VS1</td>\n      <td>56.9</td>\n      <td>65.0</td>\n      <td>327</td>\n      <td>4.05</td>\n      <td>4.07</td>\n      <td>2.31</td>\n    </tr>\n    <tr>\n      <th>3</th>\n      <td>0.29</td>\n      <td>Premium</td>\n      <td>I</td>\n      <td>VS2</td>\n      <td>62.4</td>\n      <td>58.0</td>\n      <td>334</td>\n      <td>4.20</td>\n      <td>4.23</td>\n      <td>2.63</td>\n    </tr>\n    <tr>\n      <th>4</th>\n      <td>0.31</td>\n      <td>Good</td>\n      <td>J</td>\n      <td>SI2</td>\n      <td>63.3</td>\n      <td>58.0</td>\n      <td>335</td>\n      <td>4.34</td>\n      <td>4.35</td>\n      <td>2.75</td>\n    </tr>\n  </tbody>\n</table>\n</div>",
      "text/plain": "   carat      cut color clarity  depth  table  price     x     y     z\n0   0.23    Ideal     E     SI2   61.5   55.0    326  3.95  3.98  2.43\n1   0.21  Premium     E     SI1   59.8   61.0    326  3.89  3.84  2.31\n2   0.23     Good     E     VS1   56.9   65.0    327  4.05  4.07  2.31\n3   0.29  Premium     I     VS2   62.4   58.0    334  4.20  4.23  2.63\n4   0.31     Good     J     SI2   63.3   58.0    335  4.34  4.35  2.75"
     },
     "execution_count": 1,
     "metadata": {},
     "output_type": "execute_result"
    }
   ],
   "execution_count": null
  },
  {
   "cell_type": "code",
   "metadata": {
    "cell_id": "00007-94bbd3ff-a244-488b-86bc-eb8efc399c9f",
    "deepnote_output_heights": [
     280
    ],
    "deepnote_to_be_reexecuted": false,
    "execution_millis": 273,
    "execution_start": 1639883352866,
    "id": "FzomRhmMc_QN",
    "source_hash": "3b7b3246",
    "deepnote_cell_type": "code"
   },
   "source": "# gráfico do exercício 1\n\ndiamonds = data['price']\nwith sns.axes_style('whitegrid'):\n    grafico = sns.boxplot(x=diamonds)\n    grafico.set(title='Preços raros de diamantes', xlabel='Preços (USD)')",
   "outputs": [
    {
     "data": {
      "image/png": "[encoded data removed]",
      "text/plain": "<Figure size 432x288 with 1 Axes>"
     },
     "metadata": {
      "image/png": {
       "width": 349,
       "height": 278
      }
     },
     "output_type": "display_data"
    }
   ],
   "execution_count": null
  },
  {
   "cell_type": "markdown",
   "source": "**Insight do gráfico 1**: \n1. Existem poucos diamantes que custam entre 12500 e 17500 dólares.",
   "metadata": {
    "cell_id": "00008-a3262fc7-77b3-4285-a78f-ccdb21b405f1",
    "id": "T1v54HT4lEfs",
    "deepnote_cell_type": "markdown"
   }
  },
  {
   "cell_type": "markdown",
   "source": "---",
   "metadata": {
    "cell_id": "00009-c7df72ee-5d96-4c11-8260-156d6f55b39d",
    "id": "QPUo5mDTdtRY",
    "deepnote_cell_type": "markdown"
   }
  },
  {
   "cell_type": "markdown",
   "source": "## 2\\. Correlação entre o do preço do diamante com seu peso (`carat`) agrupados por sua transparêcia (`clarity`)",
   "metadata": {
    "cell_id": "00010-25575c02-b090-470e-84d4-8add4fe00474",
    "id": "wWfZ8iu9dwzz",
    "deepnote_cell_type": "markdown"
   }
  },
  {
   "cell_type": "code",
   "metadata": {
    "cell_id": "00011-0dd4cef7-8d8d-4615-b4af-73319d1fc429",
    "deepnote_to_be_reexecuted": false,
    "execution_millis": 113,
    "execution_start": 1639882759055,
    "id": "rf3l0_fpdwz0",
    "source_hash": "7ff9d7ea",
    "deepnote_cell_type": "code"
   },
   "source": "import seaborn as sns\n\ndata = sns.load_dataset(\"diamonds\")\ndata.head()",
   "outputs": [
    {
     "data": {
      "application/vnd.deepnote.dataframe.v3+json": {
       "column_count": 10,
       "columns": [
        {
         "dtype": "float64",
         "name": "carat",
         "stats": {
          "histogram": [
           {
            "bin_end": 0.22,
            "bin_start": 0.21,
            "count": 1
           },
           {
            "bin_end": 0.22999999999999998,
            "bin_start": 0.22,
            "count": 0
           },
           {
            "bin_end": 0.24,
            "bin_start": 0.22999999999999998,
            "count": 2
           },
           {
            "bin_end": 0.25,
            "bin_start": 0.24,
            "count": 0
           },
           {
            "bin_end": 0.26,
            "bin_start": 0.25,
            "count": 0
           },
           {
            "bin_end": 0.27,
            "bin_start": 0.26,
            "count": 0
           },
           {
            "bin_end": 0.28,
            "bin_start": 0.27,
            "count": 0
           },
           {
            "bin_end": 0.29,
            "bin_start": 0.28,
            "count": 0
           },
           {
            "bin_end": 0.3,
            "bin_start": 0.29,
            "count": 1
           },
           {
            "bin_end": 0.31,
            "bin_start": 0.3,
            "count": 1
           }
          ],
          "max": "0.31",
          "min": "0.21",
          "nan_count": 0,
          "unique_count": 4
         }
        },
        {
         "dtype": "category",
         "name": "cut",
         "stats": {
          "categories": [
           {
            "count": 2,
            "name": "Premium"
           },
           {
            "count": 2,
            "name": "Good"
           },
           {
            "count": 1,
            "name": "Ideal"
           }
          ],
          "nan_count": 0,
          "unique_count": 3
         }
        },
        {
         "dtype": "category",
         "name": "color",
         "stats": {
          "categories": [
           {
            "count": 3,
            "name": "E"
           },
           {
            "count": 1,
            "name": "I"
           },
           {
            "count": 1,
            "name": "J"
           }
          ],
          "nan_count": 0,
          "unique_count": 3
         }
        },
        {
         "dtype": "category",
         "name": "clarity",
         "stats": {
          "categories": [
           {
            "count": 2,
            "name": "SI2"
           },
           {
            "count": 1,
            "name": "SI1"
           },
           {
            "count": 2,
            "name": "2 others"
           }
          ],
          "nan_count": 0,
          "unique_count": 4
         }
        },
        {
         "dtype": "float64",
         "name": "depth",
         "stats": {
          "histogram": [
           {
            "bin_end": 57.54,
            "bin_start": 56.9,
            "count": 1
           },
           {
            "bin_end": 58.18,
            "bin_start": 57.54,
            "count": 0
           },
           {
            "bin_end": 58.82,
            "bin_start": 58.18,
            "count": 0
           },
           {
            "bin_end": 59.46,
            "bin_start": 58.82,
            "count": 0
           },
           {
            "bin_end": 60.099999999999994,
            "bin_start": 59.46,
            "count": 1
           },
           {
            "bin_end": 60.739999999999995,
            "bin_start": 60.099999999999994,
            "count": 0
           },
           {
            "bin_end": 61.379999999999995,
            "bin_start": 60.739999999999995,
            "count": 0
           },
           {
            "bin_end": 62.019999999999996,
            "bin_start": 61.379999999999995,
            "count": 1
           },
           {
            "bin_end": 62.66,
            "bin_start": 62.019999999999996,
            "count": 1
           },
           {
            "bin_end": 63.3,
            "bin_start": 62.66,
            "count": 1
           }
          ],
          "max": "63.3",
          "min": "56.9",
          "nan_count": 0,
          "unique_count": 5
         }
        },
        {
         "dtype": "float64",
         "name": "table",
         "stats": {
          "histogram": [
           {
            "bin_end": 56,
            "bin_start": 55,
            "count": 1
           },
           {
            "bin_end": 57,
            "bin_start": 56,
            "count": 0
           },
           {
            "bin_end": 58,
            "bin_start": 57,
            "count": 0
           },
           {
            "bin_end": 59,
            "bin_start": 58,
            "count": 2
           },
           {
            "bin_end": 60,
            "bin_start": 59,
            "count": 0
           },
           {
            "bin_end": 61,
            "bin_start": 60,
            "count": 0
           },
           {
            "bin_end": 62,
            "bin_start": 61,
            "count": 1
           },
           {
            "bin_end": 63,
            "bin_start": 62,
            "count": 0
           },
           {
            "bin_end": 64,
            "bin_start": 63,
            "count": 0
           },
           {
            "bin_end": 65,
            "bin_start": 64,
            "count": 1
           }
          ],
          "max": "65.0",
          "min": "55.0",
          "nan_count": 0,
          "unique_count": 4
         }
        },
        {
         "dtype": "int64",
         "name": "price",
         "stats": {
          "histogram": [
           {
            "bin_end": 326.9,
            "bin_start": 326,
            "count": 2
           },
           {
            "bin_end": 327.8,
            "bin_start": 326.9,
            "count": 1
           },
           {
            "bin_end": 328.7,
            "bin_start": 327.8,
            "count": 0
           },
           {
            "bin_end": 329.6,
            "bin_start": 328.7,
            "count": 0
           },
           {
            "bin_end": 330.5,
            "bin_start": 329.6,
            "count": 0
           },
           {
            "bin_end": 331.4,
            "bin_start": 330.5,
            "count": 0
           },
           {
            "bin_end": 332.3,
            "bin_start": 331.4,
            "count": 0
           },
           {
            "bin_end": 333.2,
            "bin_start": 332.3,
            "count": 0
           },
           {
            "bin_end": 334.1,
            "bin_start": 333.2,
            "count": 1
           },
           {
            "bin_end": 335,
            "bin_start": 334.1,
            "count": 1
           }
          ],
          "max": "335",
          "min": "326",
          "nan_count": 0,
          "unique_count": 4
         }
        },
        {
         "dtype": "float64",
         "name": "x",
         "stats": {
          "histogram": [
           {
            "bin_end": 3.935,
            "bin_start": 3.89,
            "count": 1
           },
           {
            "bin_end": 3.98,
            "bin_start": 3.935,
            "count": 1
           },
           {
            "bin_end": 4.025,
            "bin_start": 3.98,
            "count": 0
           },
           {
            "bin_end": 4.07,
            "bin_start": 4.025,
            "count": 1
           },
           {
            "bin_end": 4.115,
            "bin_start": 4.07,
            "count": 0
           },
           {
            "bin_end": 4.16,
            "bin_start": 4.115,
            "count": 0
           },
           {
            "bin_end": 4.205,
            "bin_start": 4.16,
            "count": 1
           },
           {
            "bin_end": 4.25,
            "bin_start": 4.205,
            "count": 0
           },
           {
            "bin_end": 4.295,
            "bin_start": 4.25,
            "count": 0
           },
           {
            "bin_end": 4.34,
            "bin_start": 4.295,
            "count": 1
           }
          ],
          "max": "4.34",
          "min": "3.89",
          "nan_count": 0,
          "unique_count": 5
         }
        },
        {
         "dtype": "float64",
         "name": "y",
         "stats": {
          "histogram": [
           {
            "bin_end": 3.891,
            "bin_start": 3.84,
            "count": 1
           },
           {
            "bin_end": 3.9419999999999997,
            "bin_start": 3.891,
            "count": 0
           },
           {
            "bin_end": 3.993,
            "bin_start": 3.9419999999999997,
            "count": 1
           },
           {
            "bin_end": 4.044,
            "bin_start": 3.993,
            "count": 0
           },
           {
            "bin_end": 4.095,
            "bin_start": 4.044,
            "count": 1
           },
           {
            "bin_end": 4.146,
            "bin_start": 4.095,
            "count": 0
           },
           {
            "bin_end": 4.197,
            "bin_start": 4.146,
            "count": 0
           },
           {
            "bin_end": 4.247999999999999,
            "bin_start": 4.197,
            "count": 1
           },
           {
            "bin_end": 4.2989999999999995,
            "bin_start": 4.247999999999999,
            "count": 0
           },
           {
            "bin_end": 4.35,
            "bin_start": 4.2989999999999995,
            "count": 1
           }
          ],
          "max": "4.35",
          "min": "3.84",
          "nan_count": 0,
          "unique_count": 5
         }
        },
        {
         "dtype": "float64",
         "name": "z",
         "stats": {
          "histogram": [
           {
            "bin_end": 2.354,
            "bin_start": 2.31,
            "count": 2
           },
           {
            "bin_end": 2.398,
            "bin_start": 2.354,
            "count": 0
           },
           {
            "bin_end": 2.442,
            "bin_start": 2.398,
            "count": 1
           },
           {
            "bin_end": 2.486,
            "bin_start": 2.442,
            "count": 0
           },
           {
            "bin_end": 2.5300000000000002,
            "bin_start": 2.486,
            "count": 0
           },
           {
            "bin_end": 2.574,
            "bin_start": 2.5300000000000002,
            "count": 0
           },
           {
            "bin_end": 2.618,
            "bin_start": 2.574,
            "count": 0
           },
           {
            "bin_end": 2.662,
            "bin_start": 2.618,
            "count": 1
           },
           {
            "bin_end": 2.706,
            "bin_start": 2.662,
            "count": 0
           },
           {
            "bin_end": 2.75,
            "bin_start": 2.706,
            "count": 1
           }
          ],
          "max": "2.75",
          "min": "2.31",
          "nan_count": 0,
          "unique_count": 4
         }
        },
        {
         "dtype": "int64",
         "name": "_deepnote_index_column"
        }
       ],
       "row_count": 5,
       "rows": [
        {
         "_deepnote_index_column": 0,
         "carat": 0.23,
         "clarity": "SI2",
         "color": "E",
         "cut": "Ideal",
         "depth": 61.5,
         "price": 326,
         "table": 55,
         "x": 3.95,
         "y": 3.98,
         "z": 2.43
        },
        {
         "_deepnote_index_column": 1,
         "carat": 0.21,
         "clarity": "SI1",
         "color": "E",
         "cut": "Premium",
         "depth": 59.8,
         "price": 326,
         "table": 61,
         "x": 3.89,
         "y": 3.84,
         "z": 2.31
        },
        {
         "_deepnote_index_column": 2,
         "carat": 0.23,
         "clarity": "VS1",
         "color": "E",
         "cut": "Good",
         "depth": 56.9,
         "price": 327,
         "table": 65,
         "x": 4.05,
         "y": 4.07,
         "z": 2.31
        },
        {
         "_deepnote_index_column": 3,
         "carat": 0.29,
         "clarity": "VS2",
         "color": "I",
         "cut": "Premium",
         "depth": 62.4,
         "price": 334,
         "table": 58,
         "x": 4.2,
         "y": 4.23,
         "z": 2.63
        },
        {
         "_deepnote_index_column": 4,
         "carat": 0.31,
         "clarity": "SI2",
         "color": "J",
         "cut": "Good",
         "depth": 63.3,
         "price": 335,
         "table": 58,
         "x": 4.34,
         "y": 4.35,
         "z": 2.75
        }
       ]
      },
      "text/html": "<div>\n<style scoped>\n    .dataframe tbody tr th:only-of-type {\n        vertical-align: middle;\n    }\n\n    .dataframe tbody tr th {\n        vertical-align: top;\n    }\n\n    .dataframe thead th {\n        text-align: right;\n    }\n</style>\n<table border=\"1\" class=\"dataframe\">\n  <thead>\n    <tr style=\"text-align: right;\">\n      <th></th>\n      <th>carat</th>\n      <th>cut</th>\n      <th>color</th>\n      <th>clarity</th>\n      <th>depth</th>\n      <th>table</th>\n      <th>price</th>\n      <th>x</th>\n      <th>y</th>\n      <th>z</th>\n    </tr>\n  </thead>\n  <tbody>\n    <tr>\n      <th>0</th>\n      <td>0.23</td>\n      <td>Ideal</td>\n      <td>E</td>\n      <td>SI2</td>\n      <td>61.5</td>\n      <td>55.0</td>\n      <td>326</td>\n      <td>3.95</td>\n      <td>3.98</td>\n      <td>2.43</td>\n    </tr>\n    <tr>\n      <th>1</th>\n      <td>0.21</td>\n      <td>Premium</td>\n      <td>E</td>\n      <td>SI1</td>\n      <td>59.8</td>\n      <td>61.0</td>\n      <td>326</td>\n      <td>3.89</td>\n      <td>3.84</td>\n      <td>2.31</td>\n    </tr>\n    <tr>\n      <th>2</th>\n      <td>0.23</td>\n      <td>Good</td>\n      <td>E</td>\n      <td>VS1</td>\n      <td>56.9</td>\n      <td>65.0</td>\n      <td>327</td>\n      <td>4.05</td>\n      <td>4.07</td>\n      <td>2.31</td>\n    </tr>\n    <tr>\n      <th>3</th>\n      <td>0.29</td>\n      <td>Premium</td>\n      <td>I</td>\n      <td>VS2</td>\n      <td>62.4</td>\n      <td>58.0</td>\n      <td>334</td>\n      <td>4.20</td>\n      <td>4.23</td>\n      <td>2.63</td>\n    </tr>\n    <tr>\n      <th>4</th>\n      <td>0.31</td>\n      <td>Good</td>\n      <td>J</td>\n      <td>SI2</td>\n      <td>63.3</td>\n      <td>58.0</td>\n      <td>335</td>\n      <td>4.34</td>\n      <td>4.35</td>\n      <td>2.75</td>\n    </tr>\n  </tbody>\n</table>\n</div>",
      "text/plain": "   carat      cut color clarity  depth  table  price     x     y     z\n0   0.23    Ideal     E     SI2   61.5   55.0    326  3.95  3.98  2.43\n1   0.21  Premium     E     SI1   59.8   61.0    326  3.89  3.84  2.31\n2   0.23     Good     E     VS1   56.9   65.0    327  4.05  4.07  2.31\n3   0.29  Premium     I     VS2   62.4   58.0    334  4.20  4.23  2.63\n4   0.31     Good     J     SI2   63.3   58.0    335  4.34  4.35  2.75"
     },
     "execution_count": 6,
     "metadata": {},
     "output_type": "execute_result"
    }
   ],
   "execution_count": null
  },
  {
   "cell_type": "code",
   "metadata": {
    "cell_id": "00012-ea5c33a2-0c98-442b-be59-aadc5e71954f",
    "deepnote_output_heights": [
     280
    ],
    "deepnote_to_be_reexecuted": false,
    "execution_millis": 319,
    "execution_start": 1639883937893,
    "id": "GS8LOuQjdwz1",
    "source_hash": "3a569255",
    "deepnote_cell_type": "code"
   },
   "source": "# gráfico do exercício 2\n\ndiamonds = data[['price', 'carat', 'clarity']].groupby('clarity').agg('sum')\nwith sns.axes_style('whitegrid'):\n    grafico = sns.scatterplot(data=diamonds, x='price', y='carat', palette='pastel')\n    grafico.set(title='Correlação entre preço e peso agrupado pela claridade',\n        ylabel='Claridade', xlabel='Preço (USD)')",
   "outputs": [
    {
     "data": {
      "image/png": "[encoded data removed]",
      "text/plain": "<Figure size 432x288 with 1 Axes>"
     },
     "metadata": {
      "image/png": {
       "width": 401,
       "height": 278
      }
     },
     "output_type": "display_data"
    }
   ],
   "execution_count": null
  },
  {
   "cell_type": "markdown",
   "source": "**Insight do gráfico 2**: Quanto maior a claridade, maior o preço.",
   "metadata": {
    "cell_id": "00013-86b6f48d-b043-4e7d-9d64-f750df5ee121",
    "id": "hKg9CwX6lM3r",
    "deepnote_cell_type": "markdown"
   }
  },
  {
   "cell_type": "markdown",
   "source": "---",
   "metadata": {
    "cell_id": "00014-f661b8df-ff81-481e-ac60-fd83ca3f6268",
    "id": "ucbXdtR4dwz1",
    "deepnote_cell_type": "markdown"
   }
  },
  {
   "cell_type": "markdown",
   "source": "## 3\\. Distribuição contínua aproximada do peso (`weight`) de carros",
   "metadata": {
    "cell_id": "00015-8dd613f8-58f6-4eb0-a020-1e26df00f72d",
    "id": "OybuTdyXdxdS",
    "deepnote_cell_type": "markdown"
   }
  },
  {
   "cell_type": "code",
   "metadata": {
    "cell_id": "00016-630453ea-82f2-4234-b6a7-0e335af9193b",
    "deepnote_to_be_reexecuted": false,
    "execution_millis": 3630,
    "execution_start": 1640091194474,
    "id": "b-ssImdhdxdT",
    "source_hash": "321ffaa3",
    "deepnote_cell_type": "code"
   },
   "source": "import seaborn as sns\n\ndata = sns.load_dataset(\"mpg\")\ndata.head()",
   "outputs": [
    {
     "output_type": "execute_result",
     "execution_count": 2,
     "data": {
      "application/vnd.deepnote.dataframe.v3+json": {
       "column_count": 9,
       "row_count": 5,
       "columns": [
        {
         "name": "mpg",
         "dtype": "float64",
         "stats": {
          "unique_count": 4,
          "nan_count": 0,
          "min": "15.0",
          "max": "18.0",
          "histogram": [
           {
            "bin_start": 15,
            "bin_end": 15.3,
            "count": 1
           },
           {
            "bin_start": 15.3,
            "bin_end": 15.6,
            "count": 0
           },
           {
            "bin_start": 15.6,
            "bin_end": 15.9,
            "count": 0
           },
           {
            "bin_start": 15.9,
            "bin_end": 16.2,
            "count": 1
           },
           {
            "bin_start": 16.2,
            "bin_end": 16.5,
            "count": 0
           },
           {
            "bin_start": 16.5,
            "bin_end": 16.8,
            "count": 0
           },
           {
            "bin_start": 16.8,
            "bin_end": 17.1,
            "count": 1
           },
           {
            "bin_start": 17.1,
            "bin_end": 17.4,
            "count": 0
           },
           {
            "bin_start": 17.4,
            "bin_end": 17.7,
            "count": 0
           },
           {
            "bin_start": 17.7,
            "bin_end": 18,
            "count": 2
           }
          ]
         }
        },
        {
         "name": "cylinders",
         "dtype": "int64",
         "stats": {
          "unique_count": 1,
          "nan_count": 0,
          "min": "8",
          "max": "8",
          "histogram": [
           {
            "bin_start": 7.5,
            "bin_end": 7.6,
            "count": 0
           },
           {
            "bin_start": 7.6,
            "bin_end": 7.7,
            "count": 0
           },
           {
            "bin_start": 7.7,
            "bin_end": 7.8,
            "count": 0
           },
           {
            "bin_start": 7.8,
            "bin_end": 7.9,
            "count": 0
           },
           {
            "bin_start": 7.9,
            "bin_end": 8,
            "count": 0
           },
           {
            "bin_start": 8,
            "bin_end": 8.1,
            "count": 5
           },
           {
            "bin_start": 8.1,
            "bin_end": 8.2,
            "count": 0
           },
           {
            "bin_start": 8.2,
            "bin_end": 8.3,
            "count": 0
           },
           {
            "bin_start": 8.3,
            "bin_end": 8.4,
            "count": 0
           },
           {
            "bin_start": 8.4,
            "bin_end": 8.5,
            "count": 0
           }
          ]
         }
        },
        {
         "name": "displacement",
         "dtype": "float64",
         "stats": {
          "unique_count": 5,
          "nan_count": 0,
          "min": "302.0",
          "max": "350.0",
          "histogram": [
           {
            "bin_start": 302,
            "bin_end": 306.8,
            "count": 2
           },
           {
            "bin_start": 306.8,
            "bin_end": 311.6,
            "count": 1
           },
           {
            "bin_start": 311.6,
            "bin_end": 316.4,
            "count": 0
           },
           {
            "bin_start": 316.4,
            "bin_end": 321.2,
            "count": 1
           },
           {
            "bin_start": 321.2,
            "bin_end": 326,
            "count": 0
           },
           {
            "bin_start": 326,
            "bin_end": 330.8,
            "count": 0
           },
           {
            "bin_start": 330.8,
            "bin_end": 335.6,
            "count": 0
           },
           {
            "bin_start": 335.6,
            "bin_end": 340.4,
            "count": 0
           },
           {
            "bin_start": 340.4,
            "bin_end": 345.2,
            "count": 0
           },
           {
            "bin_start": 345.2,
            "bin_end": 350,
            "count": 1
           }
          ]
         }
        },
        {
         "name": "horsepower",
         "dtype": "float64",
         "stats": {
          "unique_count": 4,
          "nan_count": 0,
          "min": "130.0",
          "max": "165.0",
          "histogram": [
           {
            "bin_start": 130,
            "bin_end": 133.5,
            "count": 1
           },
           {
            "bin_start": 133.5,
            "bin_end": 137,
            "count": 0
           },
           {
            "bin_start": 137,
            "bin_end": 140.5,
            "count": 1
           },
           {
            "bin_start": 140.5,
            "bin_end": 144,
            "count": 0
           },
           {
            "bin_start": 144,
            "bin_end": 147.5,
            "count": 0
           },
           {
            "bin_start": 147.5,
            "bin_end": 151,
            "count": 2
           },
           {
            "bin_start": 151,
            "bin_end": 154.5,
            "count": 0
           },
           {
            "bin_start": 154.5,
            "bin_end": 158,
            "count": 0
           },
           {
            "bin_start": 158,
            "bin_end": 161.5,
            "count": 0
           },
           {
            "bin_start": 161.5,
            "bin_end": 165,
            "count": 1
           }
          ]
         }
        },
        {
         "name": "weight",
         "dtype": "int64",
         "stats": {
          "unique_count": 5,
          "nan_count": 0,
          "min": "3433",
          "max": "3693",
          "histogram": [
           {
            "bin_start": 3433,
            "bin_end": 3459,
            "count": 3
           },
           {
            "bin_start": 3459,
            "bin_end": 3485,
            "count": 0
           },
           {
            "bin_start": 3485,
            "bin_end": 3511,
            "count": 1
           },
           {
            "bin_start": 3511,
            "bin_end": 3537,
            "count": 0
           },
           {
            "bin_start": 3537,
            "bin_end": 3563,
            "count": 0
           },
           {
            "bin_start": 3563,
            "bin_end": 3589,
            "count": 0
           },
           {
            "bin_start": 3589,
            "bin_end": 3615,
            "count": 0
           },
           {
            "bin_start": 3615,
            "bin_end": 3641,
            "count": 0
           },
           {
            "bin_start": 3641,
            "bin_end": 3667,
            "count": 0
           },
           {
            "bin_start": 3667,
            "bin_end": 3693,
            "count": 1
           }
          ]
         }
        },
        {
         "name": "acceleration",
         "dtype": "float64",
         "stats": {
          "unique_count": 4,
          "nan_count": 0,
          "min": "10.5",
          "max": "12.0",
          "histogram": [
           {
            "bin_start": 10.5,
            "bin_end": 10.65,
            "count": 1
           },
           {
            "bin_start": 10.65,
            "bin_end": 10.8,
            "count": 0
           },
           {
            "bin_start": 10.8,
            "bin_end": 10.95,
            "count": 0
           },
           {
            "bin_start": 10.95,
            "bin_end": 11.1,
            "count": 1
           },
           {
            "bin_start": 11.1,
            "bin_end": 11.25,
            "count": 0
           },
           {
            "bin_start": 11.25,
            "bin_end": 11.4,
            "count": 0
           },
           {
            "bin_start": 11.4,
            "bin_end": 11.55,
            "count": 1
           },
           {
            "bin_start": 11.55,
            "bin_end": 11.7,
            "count": 0
           },
           {
            "bin_start": 11.7,
            "bin_end": 11.85,
            "count": 0
           },
           {
            "bin_start": 11.85,
            "bin_end": 12,
            "count": 2
           }
          ]
         }
        },
        {
         "name": "model_year",
         "dtype": "int64",
         "stats": {
          "unique_count": 1,
          "nan_count": 0,
          "min": "70",
          "max": "70",
          "histogram": [
           {
            "bin_start": 69.5,
            "bin_end": 69.6,
            "count": 0
           },
           {
            "bin_start": 69.6,
            "bin_end": 69.7,
            "count": 0
           },
           {
            "bin_start": 69.7,
            "bin_end": 69.8,
            "count": 0
           },
           {
            "bin_start": 69.8,
            "bin_end": 69.9,
            "count": 0
           },
           {
            "bin_start": 69.9,
            "bin_end": 70,
            "count": 0
           },
           {
            "bin_start": 70,
            "bin_end": 70.1,
            "count": 5
           },
           {
            "bin_start": 70.1,
            "bin_end": 70.2,
            "count": 0
           },
           {
            "bin_start": 70.2,
            "bin_end": 70.3,
            "count": 0
           },
           {
            "bin_start": 70.3,
            "bin_end": 70.4,
            "count": 0
           },
           {
            "bin_start": 70.4,
            "bin_end": 70.5,
            "count": 0
           }
          ]
         }
        },
        {
         "name": "origin",
         "dtype": "object",
         "stats": {
          "unique_count": 1,
          "nan_count": 0,
          "categories": [
           {
            "name": "usa",
            "count": 5
           }
          ]
         }
        },
        {
         "name": "name",
         "dtype": "object",
         "stats": {
          "unique_count": 5,
          "nan_count": 0,
          "categories": [
           {
            "name": "chevrolet chevelle malibu",
            "count": 1
           },
           {
            "name": "buick skylark 320",
            "count": 1
           },
           {
            "name": "3 others",
            "count": 3
           }
          ]
         }
        },
        {
         "name": "_deepnote_index_column",
         "dtype": "int64"
        }
       ],
       "rows": [
        {
         "mpg": 18,
         "cylinders": 8,
         "displacement": 307,
         "horsepower": 130,
         "weight": 3504,
         "acceleration": 12,
         "model_year": 70,
         "origin": "usa",
         "name": "chevrolet chevelle malibu",
         "_deepnote_index_column": 0
        },
        {
         "mpg": 15,
         "cylinders": 8,
         "displacement": 350,
         "horsepower": 165,
         "weight": 3693,
         "acceleration": 11.5,
         "model_year": 70,
         "origin": "usa",
         "name": "buick skylark 320",
         "_deepnote_index_column": 1
        },
        {
         "mpg": 18,
         "cylinders": 8,
         "displacement": 318,
         "horsepower": 150,
         "weight": 3436,
         "acceleration": 11,
         "model_year": 70,
         "origin": "usa",
         "name": "plymouth satellite",
         "_deepnote_index_column": 2
        },
        {
         "mpg": 16,
         "cylinders": 8,
         "displacement": 304,
         "horsepower": 150,
         "weight": 3433,
         "acceleration": 12,
         "model_year": 70,
         "origin": "usa",
         "name": "amc rebel sst",
         "_deepnote_index_column": 3
        },
        {
         "mpg": 17,
         "cylinders": 8,
         "displacement": 302,
         "horsepower": 140,
         "weight": 3449,
         "acceleration": 10.5,
         "model_year": 70,
         "origin": "usa",
         "name": "ford torino",
         "_deepnote_index_column": 4
        }
       ]
      },
      "text/plain": "    mpg  cylinders  displacement  horsepower  weight  acceleration  \\\n0  18.0          8         307.0       130.0    3504          12.0   \n1  15.0          8         350.0       165.0    3693          11.5   \n2  18.0          8         318.0       150.0    3436          11.0   \n3  16.0          8         304.0       150.0    3433          12.0   \n4  17.0          8         302.0       140.0    3449          10.5   \n\n   model_year origin                       name  \n0          70    usa  chevrolet chevelle malibu  \n1          70    usa          buick skylark 320  \n2          70    usa         plymouth satellite  \n3          70    usa              amc rebel sst  \n4          70    usa                ford torino  ",
      "text/html": "<div>\n<style scoped>\n    .dataframe tbody tr th:only-of-type {\n        vertical-align: middle;\n    }\n\n    .dataframe tbody tr th {\n        vertical-align: top;\n    }\n\n    .dataframe thead th {\n        text-align: right;\n    }\n</style>\n<table border=\"1\" class=\"dataframe\">\n  <thead>\n    <tr style=\"text-align: right;\">\n      <th></th>\n      <th>mpg</th>\n      <th>cylinders</th>\n      <th>displacement</th>\n      <th>horsepower</th>\n      <th>weight</th>\n      <th>acceleration</th>\n      <th>model_year</th>\n      <th>origin</th>\n      <th>name</th>\n    </tr>\n  </thead>\n  <tbody>\n    <tr>\n      <th>0</th>\n      <td>18.0</td>\n      <td>8</td>\n      <td>307.0</td>\n      <td>130.0</td>\n      <td>3504</td>\n      <td>12.0</td>\n      <td>70</td>\n      <td>usa</td>\n      <td>chevrolet chevelle malibu</td>\n    </tr>\n    <tr>\n      <th>1</th>\n      <td>15.0</td>\n      <td>8</td>\n      <td>350.0</td>\n      <td>165.0</td>\n      <td>3693</td>\n      <td>11.5</td>\n      <td>70</td>\n      <td>usa</td>\n      <td>buick skylark 320</td>\n    </tr>\n    <tr>\n      <th>2</th>\n      <td>18.0</td>\n      <td>8</td>\n      <td>318.0</td>\n      <td>150.0</td>\n      <td>3436</td>\n      <td>11.0</td>\n      <td>70</td>\n      <td>usa</td>\n      <td>plymouth satellite</td>\n    </tr>\n    <tr>\n      <th>3</th>\n      <td>16.0</td>\n      <td>8</td>\n      <td>304.0</td>\n      <td>150.0</td>\n      <td>3433</td>\n      <td>12.0</td>\n      <td>70</td>\n      <td>usa</td>\n      <td>amc rebel sst</td>\n    </tr>\n    <tr>\n      <th>4</th>\n      <td>17.0</td>\n      <td>8</td>\n      <td>302.0</td>\n      <td>140.0</td>\n      <td>3449</td>\n      <td>10.5</td>\n      <td>70</td>\n      <td>usa</td>\n      <td>ford torino</td>\n    </tr>\n  </tbody>\n</table>\n</div>"
     },
     "metadata": {}
    }
   ],
   "execution_count": null
  },
  {
   "cell_type": "code",
   "metadata": {
    "cell_id": "00017-6b0cea1b-96d2-4a50-ab3e-c82ab3685ff2",
    "deepnote_output_heights": [
     370
    ],
    "deepnote_to_be_reexecuted": false,
    "execution_millis": 1219,
    "execution_start": 1640091200117,
    "id": "Eg4JROvTdxdT",
    "source_hash": "76109eec",
    "deepnote_cell_type": "code"
   },
   "source": "# gráfico do exercício 3\n\ncars = data[['name', 'weight']]\n\nwith sns.axes_style('whitegrid'):\n    grafico = sns.displot(data=cars, x='weight', kde=True)\n    grafico.set(title='Distribuição do peso dos veículso', xlabel='Peso')",
   "outputs": [
    {
     "data": {
      "text/plain": "<Figure size 360x360 with 1 Axes>",
      "image/png": "[encoded data removed]"
     },
     "metadata": {
      "image/png": {
       "width": 352,
       "height": 368
      }
     },
     "output_type": "display_data"
    }
   ],
   "execution_count": null
  },
  {
   "cell_type": "markdown",
   "source": "**Insight do gráfico 3**: \n1. A maioria dos carros tem entre 2 e 4 toneladas.\n1. Existem poucos carros com menos de 2 toneladas.\n1. Acima de 2 toneladas, quanto maior o peso, menor a quantidade de veículos.",
   "metadata": {
    "cell_id": "00018-e98855db-eb10-4158-ad25-3173cad62061",
    "id": "OpIwRWGzlO8Y",
    "deepnote_cell_type": "markdown"
   }
  },
  {
   "cell_type": "markdown",
   "source": "---",
   "metadata": {
    "cell_id": "00019-58726245-2f15-437d-8ebf-d1f9792428f4",
    "id": "wmFKH-DAdxdU",
    "deepnote_cell_type": "markdown"
   }
  },
  {
   "cell_type": "markdown",
   "source": "<a style='text-decoration:none;line-height:16px;display:flex;color:#5B5B62;padding:10px;justify-content:end;' href='https://deepnote.com?utm_source=created-in-deepnote-cell&projectId=690ec1aa-ed7a-4520-b902-aba6fc5867d1' target=\"_blank\">\n<img alt='Created in deepnote.com' style='display:inline;max-height:16px;margin:0px;margin-right:7.5px;' src='data:image/svg+xml;base64,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' > </img>\nCreated in <span style='font-weight:600;margin-left:4px;'>Deepnote</span></a>",
   "metadata": {
    "tags": [],
    "created_in_deepnote_cell": true,
    "deepnote_cell_type": "markdown"
   }
  }
 ],
 "nbformat": 4,
 "nbformat_minor": 0,
 "metadata": {
  "colab": {
   "collapsed_sections": [],
   "name": "module_15_exercise.ipynb",
   "provenance": [],
   "toc_visible": true
  },
  "deepnote": {},
  "deepnote_execution_queue": [],
  "deepnote_notebook_id": "35d331f6-f0de-4623-aaf7-05f26d7801ed",
  "kernelspec": {
   "display_name": "Python 3",
   "name": "python3"
  },
  "language_info": {
   "name": "python",
   "version": "3.10.1"
  }
 }
}