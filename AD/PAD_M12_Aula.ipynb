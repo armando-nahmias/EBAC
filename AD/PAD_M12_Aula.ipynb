{
 "cells": [
  {
   "cell_type": "markdown",
   "source": "<img src=\"https://raw.githubusercontent.com/andre-marcos-perez/ebac-course-utils/main/media/logo/newebac_logo_black_half.png\" alt=\"ebac-logo\">\n\n---\n\n# **Módulo** | Análise de Dados: Data Wrangling I\nCaderno de **Aula**<br> \nProfessor [André Perez](https://www.linkedin.com/in/andremarcosperez/)\n\n---",
   "metadata": {
    "id": "KJqp9AANOCtf",
    "cell_id": "00000-5600b290-1554-4f6a-a199-c7cc42d8c8b2",
    "deepnote_cell_type": "markdown"
   }
  },
  {
   "cell_type": "markdown",
   "source": "# **Tópicos**\n\n<ol type=\"1\">\n  <li>DataFrame Pandas;</li>\n  <li>Selecão e Filtros;</li>\n  <li>Inserção, Deleção e Atualização.</li>\n</ol>",
   "metadata": {
    "id": "d9jDtUbDOE1-",
    "cell_id": "00001-680edba4-2c43-4732-8e62-903d01a5ba29",
    "deepnote_cell_type": "markdown"
   }
  },
  {
   "cell_type": "markdown",
   "source": "---",
   "metadata": {
    "id": "SmoHgt-lwkpD",
    "cell_id": "00002-774eafd5-bf39-4ff1-b63e-3ba03fe9c0f1",
    "deepnote_cell_type": "markdown"
   }
  },
  {
   "cell_type": "markdown",
   "source": "# **Aulas**",
   "metadata": {
    "id": "GABI6OW8OfQ2",
    "cell_id": "00003-be19eb91-53bb-403a-9aab-e8c0866df272",
    "deepnote_cell_type": "markdown"
   }
  },
  {
   "cell_type": "markdown",
   "source": "## 0\\. Estruturas de dados",
   "metadata": {
    "id": "eJ283bopLqLU",
    "cell_id": "00004-977047b9-cf17-4403-96ec-855f9aa7ebaf",
    "deepnote_cell_type": "markdown"
   }
  },
  {
   "cell_type": "markdown",
   "source": "*   **Não estruturado**: texto, imagem, aúdio, etc.\n*   **Semi estruturado**: html, json, etc.\n*   <font color='red'>**Estruturado**</font>: tabelas, planilhas, etc.\n\n",
   "metadata": {
    "id": "0gmSAOdOLqLU",
    "cell_id": "00005-8c0c2b0e-9a74-41bb-b70b-0a46f05c1d2d",
    "deepnote_cell_type": "markdown"
   }
  },
  {
   "cell_type": "markdown",
   "source": "## 1\\. DataFrame Pandas",
   "metadata": {
    "id": "muD1vxozykSC",
    "cell_id": "00006-a6af1397-d084-41bc-b8f3-1cdf520eb3fb",
    "deepnote_cell_type": "markdown"
   }
  },
  {
   "cell_type": "markdown",
   "source": "### **1.1. Pacote Pandas** ",
   "metadata": {
    "id": "5a3_syBIP6yO",
    "cell_id": "00007-ca33d6c9-8b26-4900-8ba3-52a15804e4f2",
    "deepnote_cell_type": "markdown"
   }
  },
  {
   "cell_type": "markdown",
   "source": "Pacote Python para manipulação de dados (talvez o mais utilizado). A documentação pode ser encontrada neste [link](https://pandas.pydata.org/docs/). A abstração base do pandas é o DataFrame, uma estrutura de dados Python de duas dimensões utilizado para representar tabelas.",
   "metadata": {
    "id": "NglCEvJDmqkw",
    "cell_id": "00008-4d68f68b-2786-4df4-92b9-d1f3fb57a3e9",
    "deepnote_cell_type": "markdown"
   }
  },
  {
   "cell_type": "markdown",
   "source": "**Exemplo**: Criar um DataFrame Pandas a partir de um dicionário Python.",
   "metadata": {
    "id": "EP1UwLRR5_qg",
    "cell_id": "00009-d8578f0e-5ba4-4dfb-9bc7-ec83b66feee3",
    "deepnote_cell_type": "markdown"
   }
  },
  {
   "cell_type": "code",
   "metadata": {
    "id": "HJ48vl_aTEge",
    "cell_id": "00010-393830a8-db78-40e7-8b27-5cf6f6f1569d",
    "deepnote_to_be_reexecuted": false,
    "source_hash": "f6e1b47f",
    "execution_start": 1639008202242,
    "execution_millis": 1,
    "deepnote_cell_type": "code"
   },
   "source": "transacoes = dict(\n    id=[571, 572, 573], \n    data=['19-01-2021', '19-01-2021', '23-01-2021'], \n    valor=[371.30, 57.19, 101.21], \n    categoria=['supermercado', 'farmacia', 'outros']\n)",
   "execution_count": null,
   "outputs": []
  },
  {
   "cell_type": "code",
   "metadata": {
    "id": "23fdzehj6JV9",
    "cell_id": "00011-7660d823-4d8c-4706-83de-1c67ba19162f",
    "deepnote_to_be_reexecuted": false,
    "source_hash": "659ec078",
    "execution_start": 1639008277162,
    "execution_millis": 0,
    "deepnote_cell_type": "code"
   },
   "source": "import pandas as pd\n\ntransacoes_df = pd.DataFrame(transacoes)",
   "execution_count": null,
   "outputs": []
  },
  {
   "cell_type": "code",
   "metadata": {
    "id": "gX5RBXW2X7a_",
    "cell_id": "00012-5735c83f-3d23-4157-8da0-18dc417766e4",
    "deepnote_to_be_reexecuted": false,
    "source_hash": "bf287db3",
    "execution_start": 1639008334563,
    "execution_millis": 2,
    "deepnote_cell_type": "code"
   },
   "source": "transacoes_df",
   "execution_count": null,
   "outputs": [
    {
     "output_type": "execute_result",
     "execution_count": 3,
     "data": {
      "application/vnd.deepnote.dataframe.v2+json": {
       "row_count": 3,
       "column_count": 4,
       "columns": [
        {
         "name": "id",
         "dtype": "int64",
         "stats": {
          "unique_count": 3,
          "nan_count": 0,
          "min": "571",
          "max": "573",
          "histogram": [
           {
            "bin_start": 571,
            "bin_end": 571.2,
            "count": 1
           },
           {
            "bin_start": 571.2,
            "bin_end": 571.4,
            "count": 0
           },
           {
            "bin_start": 571.4,
            "bin_end": 571.6,
            "count": 0
           },
           {
            "bin_start": 571.6,
            "bin_end": 571.8,
            "count": 0
           },
           {
            "bin_start": 571.8,
            "bin_end": 572,
            "count": 0
           },
           {
            "bin_start": 572,
            "bin_end": 572.2,
            "count": 1
           },
           {
            "bin_start": 572.2,
            "bin_end": 572.4,
            "count": 0
           },
           {
            "bin_start": 572.4,
            "bin_end": 572.6,
            "count": 0
           },
           {
            "bin_start": 572.6,
            "bin_end": 572.8,
            "count": 0
           },
           {
            "bin_start": 572.8,
            "bin_end": 573,
            "count": 1
           }
          ]
         }
        },
        {
         "name": "data",
         "dtype": "object",
         "stats": {
          "unique_count": 2,
          "nan_count": 0,
          "categories": [
           {
            "name": "19-01-2021",
            "count": 2
           },
           {
            "name": "23-01-2021",
            "count": 1
           }
          ]
         }
        },
        {
         "name": "valor",
         "dtype": "float64",
         "stats": {
          "unique_count": 3,
          "nan_count": 0,
          "min": "57.19",
          "max": "371.3",
          "histogram": [
           {
            "bin_start": 57.19,
            "bin_end": 88.601,
            "count": 1
           },
           {
            "bin_start": 88.601,
            "bin_end": 120.012,
            "count": 1
           },
           {
            "bin_start": 120.012,
            "bin_end": 151.423,
            "count": 0
           },
           {
            "bin_start": 151.423,
            "bin_end": 182.834,
            "count": 0
           },
           {
            "bin_start": 182.834,
            "bin_end": 214.245,
            "count": 0
           },
           {
            "bin_start": 214.245,
            "bin_end": 245.656,
            "count": 0
           },
           {
            "bin_start": 245.656,
            "bin_end": 277.067,
            "count": 0
           },
           {
            "bin_start": 277.067,
            "bin_end": 308.478,
            "count": 0
           },
           {
            "bin_start": 308.478,
            "bin_end": 339.889,
            "count": 0
           },
           {
            "bin_start": 339.889,
            "bin_end": 371.3,
            "count": 1
           }
          ]
         }
        },
        {
         "name": "categoria",
         "dtype": "object",
         "stats": {
          "unique_count": 3,
          "nan_count": 0,
          "categories": [
           {
            "name": "supermercado",
            "count": 1
           },
           {
            "name": "farmacia",
            "count": 1
           },
           {
            "name": "outros",
            "count": 1
           }
          ]
         }
        },
        {
         "name": "_deepnote_index_column",
         "dtype": "int64"
        }
       ],
       "rows_top": [
        {
         "id": 571,
         "data": "19-01-2021",
         "valor": 371.3,
         "categoria": "supermercado",
         "_deepnote_index_column": 0
        },
        {
         "id": 572,
         "data": "19-01-2021",
         "valor": 57.19,
         "categoria": "farmacia",
         "_deepnote_index_column": 1
        },
        {
         "id": 573,
         "data": "23-01-2021",
         "valor": 101.21,
         "categoria": "outros",
         "_deepnote_index_column": 2
        }
       ],
       "rows_bottom": null
      },
      "text/plain": "    id        data   valor     categoria\n0  571  19-01-2021  371.30  supermercado\n1  572  19-01-2021   57.19      farmacia\n2  573  23-01-2021  101.21        outros",
      "text/html": "<div>\n<style scoped>\n    .dataframe tbody tr th:only-of-type {\n        vertical-align: middle;\n    }\n\n    .dataframe tbody tr th {\n        vertical-align: top;\n    }\n\n    .dataframe thead th {\n        text-align: right;\n    }\n</style>\n<table border=\"1\" class=\"dataframe\">\n  <thead>\n    <tr style=\"text-align: right;\">\n      <th></th>\n      <th>id</th>\n      <th>data</th>\n      <th>valor</th>\n      <th>categoria</th>\n    </tr>\n  </thead>\n  <tbody>\n    <tr>\n      <th>0</th>\n      <td>571</td>\n      <td>19-01-2021</td>\n      <td>371.30</td>\n      <td>supermercado</td>\n    </tr>\n    <tr>\n      <th>1</th>\n      <td>572</td>\n      <td>19-01-2021</td>\n      <td>57.19</td>\n      <td>farmacia</td>\n    </tr>\n    <tr>\n      <th>2</th>\n      <td>573</td>\n      <td>23-01-2021</td>\n      <td>101.21</td>\n      <td>outros</td>\n    </tr>\n  </tbody>\n</table>\n</div>"
     },
     "metadata": {}
    }
   ]
  },
  {
   "cell_type": "code",
   "metadata": {
    "id": "Zt_vgSKP1DvO",
    "cell_id": "00013-3c2c733d-6cc2-4ee6-9b2f-de5125929538",
    "deepnote_to_be_reexecuted": false,
    "source_hash": "8cfbe772",
    "execution_start": 1639008386506,
    "execution_millis": 2,
    "deepnote_output_heights": [
     21.199996948242188
    ],
    "deepnote_cell_type": "code"
   },
   "source": "type(transacoes_df)",
   "execution_count": null,
   "outputs": [
    {
     "output_type": "execute_result",
     "execution_count": 7,
     "data": {
      "text/plain": "pandas.core.frame.DataFrame"
     },
     "metadata": {}
    }
   ]
  },
  {
   "cell_type": "markdown",
   "source": "*   Atributos",
   "metadata": {
    "id": "9nk_I8UBXvR1",
    "cell_id": "00014-a2037599-99d6-4184-982d-5cc1d10b324c",
    "deepnote_cell_type": "markdown"
   }
  },
  {
   "cell_type": "code",
   "metadata": {
    "id": "93vD-4Lk6ggW",
    "cell_id": "00015-f5e39620-d3fb-4167-a5e8-99c0e35ed12f",
    "deepnote_to_be_reexecuted": false,
    "source_hash": "20a4c53a",
    "execution_start": 1639008424213,
    "execution_millis": 5,
    "deepnote_output_heights": [
     21.199996948242188
    ],
    "deepnote_cell_type": "code"
   },
   "source": "transacoes_df.columns",
   "execution_count": null,
   "outputs": [
    {
     "output_type": "execute_result",
     "execution_count": 10,
     "data": {
      "text/plain": "Index(['id', 'data', 'valor', 'categoria'], dtype='object')"
     },
     "metadata": {}
    }
   ]
  },
  {
   "cell_type": "code",
   "metadata": {
    "id": "wKoZZi1O6e9K",
    "cell_id": "00016-5c01381f-6242-4133-b4c6-174ff2b7e563",
    "deepnote_to_be_reexecuted": false,
    "source_hash": "d6d904d2",
    "execution_start": 1639008428244,
    "execution_millis": 9,
    "deepnote_output_heights": [
     98
    ],
    "deepnote_cell_type": "code"
   },
   "source": "transacoes_df.dtypes",
   "execution_count": null,
   "outputs": [
    {
     "output_type": "execute_result",
     "execution_count": 11,
     "data": {
      "text/plain": "id             int64\ndata          object\nvalor        float64\ncategoria     object\ndtype: object"
     },
     "metadata": {}
    }
   ]
  },
  {
   "cell_type": "code",
   "metadata": {
    "id": "MnmheK4RXIbP",
    "cell_id": "00017-058872f2-2a64-4ed9-ad0b-69bdf40a6d59",
    "deepnote_to_be_reexecuted": false,
    "source_hash": "761565b9",
    "execution_start": 1639008549767,
    "execution_millis": 2,
    "deepnote_output_heights": [
     21.199996948242188
    ],
    "deepnote_cell_type": "code"
   },
   "source": "transacoes_df.index",
   "execution_count": null,
   "outputs": [
    {
     "output_type": "execute_result",
     "execution_count": 12,
     "data": {
      "text/plain": "RangeIndex(start=0, stop=3, step=1)"
     },
     "metadata": {}
    }
   ]
  },
  {
   "cell_type": "code",
   "metadata": {
    "id": "z80OUyVzYvaJ",
    "cell_id": "00018-a8b44f04-5739-4b18-8ac7-fbe104840617",
    "deepnote_to_be_reexecuted": false,
    "source_hash": "8cdf4a6a",
    "execution_start": 1639008629969,
    "execution_millis": 12,
    "deepnote_output_heights": [
     21.199996948242188
    ],
    "deepnote_cell_type": "code"
   },
   "source": "transacoes_df.shape",
   "execution_count": null,
   "outputs": [
    {
     "output_type": "execute_result",
     "execution_count": 13,
     "data": {
      "text/plain": "(3, 4)"
     },
     "metadata": {}
    }
   ]
  },
  {
   "cell_type": "markdown",
   "source": "*   Métodos",
   "metadata": {
    "id": "y2x2KF01Xp5a",
    "cell_id": "00019-633b7f1a-12dd-419a-a2a1-40aa37d271ce",
    "deepnote_cell_type": "markdown"
   }
  },
  {
   "cell_type": "code",
   "metadata": {
    "id": "Ahx_iHWH6ZxS",
    "cell_id": "00020-9d81470f-eed0-4bd9-8a0c-121ca42db439",
    "deepnote_to_be_reexecuted": false,
    "source_hash": "674db9cc",
    "execution_start": 1639008671864,
    "execution_millis": 214,
    "deepnote_cell_type": "code"
   },
   "source": "transacoes_df.head()",
   "execution_count": null,
   "outputs": [
    {
     "output_type": "execute_result",
     "execution_count": 15,
     "data": {
      "application/vnd.deepnote.dataframe.v2+json": {
       "row_count": 3,
       "column_count": 4,
       "columns": [
        {
         "name": "id",
         "dtype": "int64",
         "stats": {
          "unique_count": 3,
          "nan_count": 0,
          "min": "571",
          "max": "573",
          "histogram": [
           {
            "bin_start": 571,
            "bin_end": 571.2,
            "count": 1
           },
           {
            "bin_start": 571.2,
            "bin_end": 571.4,
            "count": 0
           },
           {
            "bin_start": 571.4,
            "bin_end": 571.6,
            "count": 0
           },
           {
            "bin_start": 571.6,
            "bin_end": 571.8,
            "count": 0
           },
           {
            "bin_start": 571.8,
            "bin_end": 572,
            "count": 0
           },
           {
            "bin_start": 572,
            "bin_end": 572.2,
            "count": 1
           },
           {
            "bin_start": 572.2,
            "bin_end": 572.4,
            "count": 0
           },
           {
            "bin_start": 572.4,
            "bin_end": 572.6,
            "count": 0
           },
           {
            "bin_start": 572.6,
            "bin_end": 572.8,
            "count": 0
           },
           {
            "bin_start": 572.8,
            "bin_end": 573,
            "count": 1
           }
          ]
         }
        },
        {
         "name": "data",
         "dtype": "object",
         "stats": {
          "unique_count": 2,
          "nan_count": 0,
          "categories": [
           {
            "name": "19-01-2021",
            "count": 2
           },
           {
            "name": "23-01-2021",
            "count": 1
           }
          ]
         }
        },
        {
         "name": "valor",
         "dtype": "float64",
         "stats": {
          "unique_count": 3,
          "nan_count": 0,
          "min": "57.19",
          "max": "371.3",
          "histogram": [
           {
            "bin_start": 57.19,
            "bin_end": 88.601,
            "count": 1
           },
           {
            "bin_start": 88.601,
            "bin_end": 120.012,
            "count": 1
           },
           {
            "bin_start": 120.012,
            "bin_end": 151.423,
            "count": 0
           },
           {
            "bin_start": 151.423,
            "bin_end": 182.834,
            "count": 0
           },
           {
            "bin_start": 182.834,
            "bin_end": 214.245,
            "count": 0
           },
           {
            "bin_start": 214.245,
            "bin_end": 245.656,
            "count": 0
           },
           {
            "bin_start": 245.656,
            "bin_end": 277.067,
            "count": 0
           },
           {
            "bin_start": 277.067,
            "bin_end": 308.478,
            "count": 0
           },
           {
            "bin_start": 308.478,
            "bin_end": 339.889,
            "count": 0
           },
           {
            "bin_start": 339.889,
            "bin_end": 371.3,
            "count": 1
           }
          ]
         }
        },
        {
         "name": "categoria",
         "dtype": "object",
         "stats": {
          "unique_count": 3,
          "nan_count": 0,
          "categories": [
           {
            "name": "supermercado",
            "count": 1
           },
           {
            "name": "farmacia",
            "count": 1
           },
           {
            "name": "outros",
            "count": 1
           }
          ]
         }
        },
        {
         "name": "_deepnote_index_column",
         "dtype": "int64"
        }
       ],
       "rows_top": [
        {
         "id": 571,
         "data": "19-01-2021",
         "valor": 371.3,
         "categoria": "supermercado",
         "_deepnote_index_column": 0
        },
        {
         "id": 572,
         "data": "19-01-2021",
         "valor": 57.19,
         "categoria": "farmacia",
         "_deepnote_index_column": 1
        },
        {
         "id": 573,
         "data": "23-01-2021",
         "valor": 101.21,
         "categoria": "outros",
         "_deepnote_index_column": 2
        }
       ],
       "rows_bottom": null
      },
      "text/plain": "    id        data   valor     categoria\n0  571  19-01-2021  371.30  supermercado\n1  572  19-01-2021   57.19      farmacia\n2  573  23-01-2021  101.21        outros",
      "text/html": "<div>\n<style scoped>\n    .dataframe tbody tr th:only-of-type {\n        vertical-align: middle;\n    }\n\n    .dataframe tbody tr th {\n        vertical-align: top;\n    }\n\n    .dataframe thead th {\n        text-align: right;\n    }\n</style>\n<table border=\"1\" class=\"dataframe\">\n  <thead>\n    <tr style=\"text-align: right;\">\n      <th></th>\n      <th>id</th>\n      <th>data</th>\n      <th>valor</th>\n      <th>categoria</th>\n    </tr>\n  </thead>\n  <tbody>\n    <tr>\n      <th>0</th>\n      <td>571</td>\n      <td>19-01-2021</td>\n      <td>371.30</td>\n      <td>supermercado</td>\n    </tr>\n    <tr>\n      <th>1</th>\n      <td>572</td>\n      <td>19-01-2021</td>\n      <td>57.19</td>\n      <td>farmacia</td>\n    </tr>\n    <tr>\n      <th>2</th>\n      <td>573</td>\n      <td>23-01-2021</td>\n      <td>101.21</td>\n      <td>outros</td>\n    </tr>\n  </tbody>\n</table>\n</div>"
     },
     "metadata": {}
    }
   ]
  },
  {
   "cell_type": "code",
   "metadata": {
    "id": "T8WvBj6rW1fg",
    "cell_id": "00021-24a3c37a-e80f-484c-9da6-f77a3056c636",
    "deepnote_to_be_reexecuted": false,
    "source_hash": "b723c78a",
    "execution_start": 1639008690784,
    "execution_millis": 9,
    "deepnote_cell_type": "code"
   },
   "source": "transacoes_df.tail()",
   "execution_count": null,
   "outputs": [
    {
     "output_type": "execute_result",
     "execution_count": 16,
     "data": {
      "application/vnd.deepnote.dataframe.v2+json": {
       "row_count": 3,
       "column_count": 4,
       "columns": [
        {
         "name": "id",
         "dtype": "int64",
         "stats": {
          "unique_count": 3,
          "nan_count": 0,
          "min": "571",
          "max": "573",
          "histogram": [
           {
            "bin_start": 571,
            "bin_end": 571.2,
            "count": 1
           },
           {
            "bin_start": 571.2,
            "bin_end": 571.4,
            "count": 0
           },
           {
            "bin_start": 571.4,
            "bin_end": 571.6,
            "count": 0
           },
           {
            "bin_start": 571.6,
            "bin_end": 571.8,
            "count": 0
           },
           {
            "bin_start": 571.8,
            "bin_end": 572,
            "count": 0
           },
           {
            "bin_start": 572,
            "bin_end": 572.2,
            "count": 1
           },
           {
            "bin_start": 572.2,
            "bin_end": 572.4,
            "count": 0
           },
           {
            "bin_start": 572.4,
            "bin_end": 572.6,
            "count": 0
           },
           {
            "bin_start": 572.6,
            "bin_end": 572.8,
            "count": 0
           },
           {
            "bin_start": 572.8,
            "bin_end": 573,
            "count": 1
           }
          ]
         }
        },
        {
         "name": "data",
         "dtype": "object",
         "stats": {
          "unique_count": 2,
          "nan_count": 0,
          "categories": [
           {
            "name": "19-01-2021",
            "count": 2
           },
           {
            "name": "23-01-2021",
            "count": 1
           }
          ]
         }
        },
        {
         "name": "valor",
         "dtype": "float64",
         "stats": {
          "unique_count": 3,
          "nan_count": 0,
          "min": "57.19",
          "max": "371.3",
          "histogram": [
           {
            "bin_start": 57.19,
            "bin_end": 88.601,
            "count": 1
           },
           {
            "bin_start": 88.601,
            "bin_end": 120.012,
            "count": 1
           },
           {
            "bin_start": 120.012,
            "bin_end": 151.423,
            "count": 0
           },
           {
            "bin_start": 151.423,
            "bin_end": 182.834,
            "count": 0
           },
           {
            "bin_start": 182.834,
            "bin_end": 214.245,
            "count": 0
           },
           {
            "bin_start": 214.245,
            "bin_end": 245.656,
            "count": 0
           },
           {
            "bin_start": 245.656,
            "bin_end": 277.067,
            "count": 0
           },
           {
            "bin_start": 277.067,
            "bin_end": 308.478,
            "count": 0
           },
           {
            "bin_start": 308.478,
            "bin_end": 339.889,
            "count": 0
           },
           {
            "bin_start": 339.889,
            "bin_end": 371.3,
            "count": 1
           }
          ]
         }
        },
        {
         "name": "categoria",
         "dtype": "object",
         "stats": {
          "unique_count": 3,
          "nan_count": 0,
          "categories": [
           {
            "name": "supermercado",
            "count": 1
           },
           {
            "name": "farmacia",
            "count": 1
           },
           {
            "name": "outros",
            "count": 1
           }
          ]
         }
        },
        {
         "name": "_deepnote_index_column",
         "dtype": "int64"
        }
       ],
       "rows_top": [
        {
         "id": 571,
         "data": "19-01-2021",
         "valor": 371.3,
         "categoria": "supermercado",
         "_deepnote_index_column": 0
        },
        {
         "id": 572,
         "data": "19-01-2021",
         "valor": 57.19,
         "categoria": "farmacia",
         "_deepnote_index_column": 1
        },
        {
         "id": 573,
         "data": "23-01-2021",
         "valor": 101.21,
         "categoria": "outros",
         "_deepnote_index_column": 2
        }
       ],
       "rows_bottom": null
      },
      "text/plain": "    id        data   valor     categoria\n0  571  19-01-2021  371.30  supermercado\n1  572  19-01-2021   57.19      farmacia\n2  573  23-01-2021  101.21        outros",
      "text/html": "<div>\n<style scoped>\n    .dataframe tbody tr th:only-of-type {\n        vertical-align: middle;\n    }\n\n    .dataframe tbody tr th {\n        vertical-align: top;\n    }\n\n    .dataframe thead th {\n        text-align: right;\n    }\n</style>\n<table border=\"1\" class=\"dataframe\">\n  <thead>\n    <tr style=\"text-align: right;\">\n      <th></th>\n      <th>id</th>\n      <th>data</th>\n      <th>valor</th>\n      <th>categoria</th>\n    </tr>\n  </thead>\n  <tbody>\n    <tr>\n      <th>0</th>\n      <td>571</td>\n      <td>19-01-2021</td>\n      <td>371.30</td>\n      <td>supermercado</td>\n    </tr>\n    <tr>\n      <th>1</th>\n      <td>572</td>\n      <td>19-01-2021</td>\n      <td>57.19</td>\n      <td>farmacia</td>\n    </tr>\n    <tr>\n      <th>2</th>\n      <td>573</td>\n      <td>23-01-2021</td>\n      <td>101.21</td>\n      <td>outros</td>\n    </tr>\n  </tbody>\n</table>\n</div>"
     },
     "metadata": {}
    }
   ]
  },
  {
   "cell_type": "code",
   "metadata": {
    "id": "i5OFaXOA6ce7",
    "cell_id": "00022-0272ae9b-02ad-43be-8f92-6759550e0b64",
    "deepnote_to_be_reexecuted": false,
    "source_hash": "3fd609c6",
    "execution_start": 1639008713298,
    "execution_millis": 4,
    "deepnote_cell_type": "code"
   },
   "source": "transacoes_df.info()",
   "execution_count": null,
   "outputs": [
    {
     "name": "stdout",
     "text": "<class 'pandas.core.frame.DataFrame'>\nRangeIndex: 3 entries, 0 to 2\nData columns (total 4 columns):\n #   Column     Non-Null Count  Dtype  \n---  ------     --------------  -----  \n 0   id         3 non-null      int64  \n 1   data       3 non-null      object \n 2   valor      3 non-null      float64\n 3   categoria  3 non-null      object \ndtypes: float64(1), int64(1), object(2)\nmemory usage: 224.0+ bytes\n",
     "output_type": "stream"
    }
   ]
  },
  {
   "cell_type": "code",
   "metadata": {
    "id": "OCO1dRpCHR7v",
    "cell_id": "00023-da77b32a-6fac-4414-8b7f-d21f88d68fd9",
    "deepnote_to_be_reexecuted": false,
    "source_hash": "129530",
    "execution_start": 1639008853375,
    "execution_millis": 44,
    "deepnote_cell_type": "code"
   },
   "source": "transacoes_df[['id', 'valor']].describe().T # colunas numéricas",
   "execution_count": null,
   "outputs": [
    {
     "output_type": "execute_result",
     "execution_count": 18,
     "data": {
      "application/vnd.deepnote.dataframe.v2+json": {
       "row_count": 2,
       "column_count": 8,
       "columns": [
        {
         "name": "count",
         "dtype": "float64",
         "stats": {
          "unique_count": 1,
          "nan_count": 0,
          "min": "3.0",
          "max": "3.0",
          "histogram": [
           {
            "bin_start": 2.5,
            "bin_end": 2.6,
            "count": 0
           },
           {
            "bin_start": 2.6,
            "bin_end": 2.7,
            "count": 0
           },
           {
            "bin_start": 2.7,
            "bin_end": 2.8,
            "count": 0
           },
           {
            "bin_start": 2.8,
            "bin_end": 2.9,
            "count": 0
           },
           {
            "bin_start": 2.9,
            "bin_end": 3,
            "count": 0
           },
           {
            "bin_start": 3,
            "bin_end": 3.1,
            "count": 2
           },
           {
            "bin_start": 3.1,
            "bin_end": 3.2,
            "count": 0
           },
           {
            "bin_start": 3.2,
            "bin_end": 3.3,
            "count": 0
           },
           {
            "bin_start": 3.3,
            "bin_end": 3.4,
            "count": 0
           },
           {
            "bin_start": 3.4,
            "bin_end": 3.5,
            "count": 0
           }
          ]
         }
        },
        {
         "name": "mean",
         "dtype": "float64",
         "stats": {
          "unique_count": 2,
          "nan_count": 0,
          "min": "176.5666666666667",
          "max": "572.0",
          "histogram": [
           {
            "bin_start": 176.5666666666667,
            "bin_end": 216.11,
            "count": 1
           },
           {
            "bin_start": 216.11,
            "bin_end": 255.65333333333336,
            "count": 0
           },
           {
            "bin_start": 255.65333333333336,
            "bin_end": 295.1966666666667,
            "count": 0
           },
           {
            "bin_start": 295.1966666666667,
            "bin_end": 334.74,
            "count": 0
           },
           {
            "bin_start": 334.74,
            "bin_end": 374.2833333333333,
            "count": 0
           },
           {
            "bin_start": 374.2833333333333,
            "bin_end": 413.8266666666667,
            "count": 0
           },
           {
            "bin_start": 413.8266666666667,
            "bin_end": 453.37,
            "count": 0
           },
           {
            "bin_start": 453.37,
            "bin_end": 492.9133333333333,
            "count": 0
           },
           {
            "bin_start": 492.9133333333333,
            "bin_end": 532.4566666666667,
            "count": 0
           },
           {
            "bin_start": 532.4566666666667,
            "bin_end": 572,
            "count": 1
           }
          ]
         }
        },
        {
         "name": "std",
         "dtype": "float64",
         "stats": {
          "unique_count": 2,
          "nan_count": 0,
          "min": "1.0",
          "max": "170.07422918635655",
          "histogram": [
           {
            "bin_start": 1,
            "bin_end": 17.907422918635653,
            "count": 1
           },
           {
            "bin_start": 17.907422918635653,
            "bin_end": 34.81484583727131,
            "count": 0
           },
           {
            "bin_start": 34.81484583727131,
            "bin_end": 51.72226875590696,
            "count": 0
           },
           {
            "bin_start": 51.72226875590696,
            "bin_end": 68.62969167454261,
            "count": 0
           },
           {
            "bin_start": 68.62969167454261,
            "bin_end": 85.53711459317827,
            "count": 0
           },
           {
            "bin_start": 85.53711459317827,
            "bin_end": 102.44453751181392,
            "count": 0
           },
           {
            "bin_start": 102.44453751181392,
            "bin_end": 119.35196043044957,
            "count": 0
           },
           {
            "bin_start": 119.35196043044957,
            "bin_end": 136.25938334908523,
            "count": 0
           },
           {
            "bin_start": 136.25938334908523,
            "bin_end": 153.1668062677209,
            "count": 0
           },
           {
            "bin_start": 153.1668062677209,
            "bin_end": 170.07422918635655,
            "count": 1
           }
          ]
         }
        },
        {
         "name": "min",
         "dtype": "float64",
         "stats": {
          "unique_count": 2,
          "nan_count": 0,
          "min": "57.19",
          "max": "571.0",
          "histogram": [
           {
            "bin_start": 57.19,
            "bin_end": 108.571,
            "count": 1
           },
           {
            "bin_start": 108.571,
            "bin_end": 159.952,
            "count": 0
           },
           {
            "bin_start": 159.952,
            "bin_end": 211.33299999999997,
            "count": 0
           },
           {
            "bin_start": 211.33299999999997,
            "bin_end": 262.71399999999994,
            "count": 0
           },
           {
            "bin_start": 262.71399999999994,
            "bin_end": 314.09499999999997,
            "count": 0
           },
           {
            "bin_start": 314.09499999999997,
            "bin_end": 365.47599999999994,
            "count": 0
           },
           {
            "bin_start": 365.47599999999994,
            "bin_end": 416.85699999999997,
            "count": 0
           },
           {
            "bin_start": 416.85699999999997,
            "bin_end": 468.23799999999994,
            "count": 0
           },
           {
            "bin_start": 468.23799999999994,
            "bin_end": 519.6189999999999,
            "count": 0
           },
           {
            "bin_start": 519.6189999999999,
            "bin_end": 571,
            "count": 1
           }
          ]
         }
        },
        {
         "name": "25%",
         "dtype": "float64",
         "stats": {
          "unique_count": 2,
          "nan_count": 0,
          "min": "79.19999999999999",
          "max": "571.5",
          "histogram": [
           {
            "bin_start": 79.19999999999999,
            "bin_end": 128.43,
            "count": 1
           },
           {
            "bin_start": 128.43,
            "bin_end": 177.66,
            "count": 0
           },
           {
            "bin_start": 177.66,
            "bin_end": 226.89,
            "count": 0
           },
           {
            "bin_start": 226.89,
            "bin_end": 276.12,
            "count": 0
           },
           {
            "bin_start": 276.12,
            "bin_end": 325.35,
            "count": 0
           },
           {
            "bin_start": 325.35,
            "bin_end": 374.58,
            "count": 0
           },
           {
            "bin_start": 374.58,
            "bin_end": 423.81,
            "count": 0
           },
           {
            "bin_start": 423.81,
            "bin_end": 473.04,
            "count": 0
           },
           {
            "bin_start": 473.04,
            "bin_end": 522.27,
            "count": 0
           },
           {
            "bin_start": 522.27,
            "bin_end": 571.5,
            "count": 1
           }
          ]
         }
        },
        {
         "name": "50%",
         "dtype": "float64",
         "stats": {
          "unique_count": 2,
          "nan_count": 0,
          "min": "101.21",
          "max": "572.0",
          "histogram": [
           {
            "bin_start": 101.21,
            "bin_end": 148.289,
            "count": 1
           },
           {
            "bin_start": 148.289,
            "bin_end": 195.368,
            "count": 0
           },
           {
            "bin_start": 195.368,
            "bin_end": 242.447,
            "count": 0
           },
           {
            "bin_start": 242.447,
            "bin_end": 289.526,
            "count": 0
           },
           {
            "bin_start": 289.526,
            "bin_end": 336.605,
            "count": 0
           },
           {
            "bin_start": 336.605,
            "bin_end": 383.68399999999997,
            "count": 0
           },
           {
            "bin_start": 383.68399999999997,
            "bin_end": 430.763,
            "count": 0
           },
           {
            "bin_start": 430.763,
            "bin_end": 477.842,
            "count": 0
           },
           {
            "bin_start": 477.842,
            "bin_end": 524.921,
            "count": 0
           },
           {
            "bin_start": 524.921,
            "bin_end": 572,
            "count": 1
           }
          ]
         }
        },
        {
         "name": "75%",
         "dtype": "float64",
         "stats": {
          "unique_count": 2,
          "nan_count": 0,
          "min": "236.255",
          "max": "572.5",
          "histogram": [
           {
            "bin_start": 236.255,
            "bin_end": 269.8795,
            "count": 1
           },
           {
            "bin_start": 269.8795,
            "bin_end": 303.504,
            "count": 0
           },
           {
            "bin_start": 303.504,
            "bin_end": 337.1285,
            "count": 0
           },
           {
            "bin_start": 337.1285,
            "bin_end": 370.753,
            "count": 0
           },
           {
            "bin_start": 370.753,
            "bin_end": 404.3775,
            "count": 0
           },
           {
            "bin_start": 404.3775,
            "bin_end": 438.00199999999995,
            "count": 0
           },
           {
            "bin_start": 438.00199999999995,
            "bin_end": 471.62649999999996,
            "count": 0
           },
           {
            "bin_start": 471.62649999999996,
            "bin_end": 505.251,
            "count": 0
           },
           {
            "bin_start": 505.251,
            "bin_end": 538.8755,
            "count": 0
           },
           {
            "bin_start": 538.8755,
            "bin_end": 572.5,
            "count": 1
           }
          ]
         }
        },
        {
         "name": "max",
         "dtype": "float64",
         "stats": {
          "unique_count": 2,
          "nan_count": 0,
          "min": "371.3",
          "max": "573.0",
          "histogram": [
           {
            "bin_start": 371.3,
            "bin_end": 391.47,
            "count": 1
           },
           {
            "bin_start": 391.47,
            "bin_end": 411.64,
            "count": 0
           },
           {
            "bin_start": 411.64,
            "bin_end": 431.81,
            "count": 0
           },
           {
            "bin_start": 431.81,
            "bin_end": 451.98,
            "count": 0
           },
           {
            "bin_start": 451.98,
            "bin_end": 472.15,
            "count": 0
           },
           {
            "bin_start": 472.15,
            "bin_end": 492.32,
            "count": 0
           },
           {
            "bin_start": 492.32,
            "bin_end": 512.49,
            "count": 0
           },
           {
            "bin_start": 512.49,
            "bin_end": 532.66,
            "count": 0
           },
           {
            "bin_start": 532.66,
            "bin_end": 552.8299999999999,
            "count": 0
           },
           {
            "bin_start": 552.8299999999999,
            "bin_end": 573,
            "count": 1
           }
          ]
         }
        },
        {
         "name": "_deepnote_index_column",
         "dtype": "object"
        }
       ],
       "rows_top": [
        {
         "count": 3,
         "mean": 572,
         "std": 1,
         "min": 571,
         "25%": 571.5,
         "50%": 572,
         "75%": 572.5,
         "max": 573,
         "_deepnote_index_column": "id"
        },
        {
         "count": 3,
         "mean": 176.5666666666667,
         "std": 170.07422918635655,
         "min": 57.19,
         "25%": 79.19999999999999,
         "50%": 101.21,
         "75%": 236.255,
         "max": 371.3,
         "_deepnote_index_column": "valor"
        }
       ],
       "rows_bottom": null
      },
      "text/plain": "       count        mean         std     min    25%     50%      75%    max\nid       3.0  572.000000    1.000000  571.00  571.5  572.00  572.500  573.0\nvalor    3.0  176.566667  170.074229   57.19   79.2  101.21  236.255  371.3",
      "text/html": "<div>\n<style scoped>\n    .dataframe tbody tr th:only-of-type {\n        vertical-align: middle;\n    }\n\n    .dataframe tbody tr th {\n        vertical-align: top;\n    }\n\n    .dataframe thead th {\n        text-align: right;\n    }\n</style>\n<table border=\"1\" class=\"dataframe\">\n  <thead>\n    <tr style=\"text-align: right;\">\n      <th></th>\n      <th>count</th>\n      <th>mean</th>\n      <th>std</th>\n      <th>min</th>\n      <th>25%</th>\n      <th>50%</th>\n      <th>75%</th>\n      <th>max</th>\n    </tr>\n  </thead>\n  <tbody>\n    <tr>\n      <th>id</th>\n      <td>3.0</td>\n      <td>572.000000</td>\n      <td>1.000000</td>\n      <td>571.00</td>\n      <td>571.5</td>\n      <td>572.00</td>\n      <td>572.500</td>\n      <td>573.0</td>\n    </tr>\n    <tr>\n      <th>valor</th>\n      <td>3.0</td>\n      <td>176.566667</td>\n      <td>170.074229</td>\n      <td>57.19</td>\n      <td>79.2</td>\n      <td>101.21</td>\n      <td>236.255</td>\n      <td>371.3</td>\n    </tr>\n  </tbody>\n</table>\n</div>"
     },
     "metadata": {}
    }
   ]
  },
  {
   "cell_type": "code",
   "metadata": {
    "id": "dqwtAmLNHZmz",
    "cell_id": "00024-fe92d96c-6a54-4ed3-8c51-f88dec22ee03",
    "deepnote_to_be_reexecuted": false,
    "source_hash": "26c23e77",
    "execution_start": 1639008947686,
    "execution_millis": 21,
    "deepnote_cell_type": "code"
   },
   "source": "transacoes_df[['data', 'categoria']].describe().T # colunas categóricas",
   "execution_count": null,
   "outputs": [
    {
     "output_type": "execute_result",
     "execution_count": 20,
     "data": {
      "application/vnd.deepnote.dataframe.v2+json": {
       "row_count": 2,
       "column_count": 4,
       "columns": [
        {
         "name": "count",
         "dtype": "object",
         "stats": {
          "unique_count": 1,
          "nan_count": 0,
          "categories": [
           {
            "name": "3",
            "count": 2
           }
          ]
         }
        },
        {
         "name": "unique",
         "dtype": "object",
         "stats": {
          "unique_count": 2,
          "nan_count": 0,
          "categories": [
           {
            "name": "2",
            "count": 1
           },
           {
            "name": "3",
            "count": 1
           }
          ]
         }
        },
        {
         "name": "top",
         "dtype": "object",
         "stats": {
          "unique_count": 2,
          "nan_count": 0,
          "categories": [
           {
            "name": "19-01-2021",
            "count": 1
           },
           {
            "name": "farmacia",
            "count": 1
           }
          ]
         }
        },
        {
         "name": "freq",
         "dtype": "object",
         "stats": {
          "unique_count": 2,
          "nan_count": 0,
          "categories": [
           {
            "name": "2",
            "count": 1
           },
           {
            "name": "1",
            "count": 1
           }
          ]
         }
        },
        {
         "name": "_deepnote_index_column",
         "dtype": "object"
        }
       ],
       "rows_top": [
        {
         "count": "3",
         "unique": "2",
         "top": "19-01-2021",
         "freq": "2",
         "_deepnote_index_column": "data"
        },
        {
         "count": "3",
         "unique": "3",
         "top": "farmacia",
         "freq": "1",
         "_deepnote_index_column": "categoria"
        }
       ],
       "rows_bottom": null
      },
      "text/plain": "          count unique         top freq\ndata          3      2  19-01-2021    2\ncategoria     3      3    farmacia    1",
      "text/html": "<div>\n<style scoped>\n    .dataframe tbody tr th:only-of-type {\n        vertical-align: middle;\n    }\n\n    .dataframe tbody tr th {\n        vertical-align: top;\n    }\n\n    .dataframe thead th {\n        text-align: right;\n    }\n</style>\n<table border=\"1\" class=\"dataframe\">\n  <thead>\n    <tr style=\"text-align: right;\">\n      <th></th>\n      <th>count</th>\n      <th>unique</th>\n      <th>top</th>\n      <th>freq</th>\n    </tr>\n  </thead>\n  <tbody>\n    <tr>\n      <th>data</th>\n      <td>3</td>\n      <td>2</td>\n      <td>19-01-2021</td>\n      <td>2</td>\n    </tr>\n    <tr>\n      <th>categoria</th>\n      <td>3</td>\n      <td>3</td>\n      <td>farmacia</td>\n      <td>1</td>\n    </tr>\n  </tbody>\n</table>\n</div>"
     },
     "metadata": {}
    }
   ]
  },
  {
   "cell_type": "markdown",
   "source": "**Exemplo**: Criar um DataFrame Pandas a partir de um arquivo csv.",
   "metadata": {
    "id": "eBpN50Xn692K",
    "cell_id": "00025-e669f2ee-b90b-45d2-b86c-46b507a15166",
    "deepnote_cell_type": "markdown"
   }
  },
  {
   "cell_type": "code",
   "metadata": {
    "id": "cbCLt_-N7TRg",
    "cell_id": "00026-1199975c-a2cc-4524-a586-0055949fbc4b",
    "deepnote_to_be_reexecuted": false,
    "source_hash": "46b627be",
    "execution_start": 1639009127373,
    "execution_millis": 439,
    "deepnote_cell_type": "code"
   },
   "source": "%%writefile github.csv\nranking;project;language;stars;stars_today;forks\n1;plow;go;1304;574;38\n2;n8n;typescript;15668;280;1370\n3;slides;go;3218;265;80\n4;defi-developer-road-map;;636;247;49\n5;pytorch-image-models;python;11065;101;1646\n6;javascript-algorithms;javascript;110768;248;18331\n7;paddleclas;python;1429;283;323\n8;reddit_sentiment_trader;python;369;71;60\n9;augly;python;2849;393;99\n10;self-taught-guide-to-cloud-computing;;863;179;84",
   "execution_count": null,
   "outputs": [
    {
     "name": "stdout",
     "text": "Overwriting github.csv\n",
     "output_type": "stream"
    }
   ]
  },
  {
   "cell_type": "code",
   "metadata": {
    "id": "75bCYCq79V7Y",
    "cell_id": "00027-34bab0cf-452f-4ffc-9e9f-200c92cc15b0",
    "deepnote_to_be_reexecuted": false,
    "source_hash": "419bdc6f",
    "execution_start": 1639009308738,
    "execution_millis": 396,
    "deepnote_cell_type": "code"
   },
   "source": "import pandas as pd\n\ngithub_df = pd.read_csv('github.csv', sep=';')",
   "execution_count": null,
   "outputs": []
  },
  {
   "cell_type": "code",
   "metadata": {
    "id": "64zzaltGaAPj",
    "cell_id": "00028-8de12c35-8121-424f-ab05-b0008a5ab86d",
    "deepnote_to_be_reexecuted": false,
    "source_hash": "45e1eb39",
    "execution_start": 1639009315722,
    "execution_millis": 11,
    "deepnote_cell_type": "code"
   },
   "source": "github_df",
   "execution_count": null,
   "outputs": [
    {
     "output_type": "execute_result",
     "execution_count": 26,
     "data": {
      "application/vnd.deepnote.dataframe.v2+json": {
       "row_count": 10,
       "column_count": 6,
       "columns": [
        {
         "name": "ranking",
         "dtype": "int64",
         "stats": {
          "unique_count": 10,
          "nan_count": 0,
          "min": "1",
          "max": "10",
          "histogram": [
           {
            "bin_start": 1,
            "bin_end": 1.9,
            "count": 1
           },
           {
            "bin_start": 1.9,
            "bin_end": 2.8,
            "count": 1
           },
           {
            "bin_start": 2.8,
            "bin_end": 3.7,
            "count": 1
           },
           {
            "bin_start": 3.7,
            "bin_end": 4.6,
            "count": 1
           },
           {
            "bin_start": 4.6,
            "bin_end": 5.5,
            "count": 1
           },
           {
            "bin_start": 5.5,
            "bin_end": 6.4,
            "count": 1
           },
           {
            "bin_start": 6.4,
            "bin_end": 7.3,
            "count": 1
           },
           {
            "bin_start": 7.3,
            "bin_end": 8.2,
            "count": 1
           },
           {
            "bin_start": 8.2,
            "bin_end": 9.1,
            "count": 1
           },
           {
            "bin_start": 9.1,
            "bin_end": 10,
            "count": 1
           }
          ]
         }
        },
        {
         "name": "project",
         "dtype": "object",
         "stats": {
          "unique_count": 10,
          "nan_count": 0,
          "categories": [
           {
            "name": "plow",
            "count": 1
           },
           {
            "name": "n8n",
            "count": 1
           },
           {
            "name": "8 others",
            "count": 8
           }
          ]
         }
        },
        {
         "name": "language",
         "dtype": "object",
         "stats": {
          "unique_count": 4,
          "nan_count": 2,
          "categories": [
           {
            "name": "python",
            "count": 4
           },
           {
            "name": "3 others",
            "count": 4
           },
           {
            "name": "Missing",
            "count": 2
           }
          ]
         }
        },
        {
         "name": "stars",
         "dtype": "int64",
         "stats": {
          "unique_count": 10,
          "nan_count": 0,
          "min": "369",
          "max": "110768",
          "histogram": [
           {
            "bin_start": 369,
            "bin_end": 11408.9,
            "count": 8
           },
           {
            "bin_start": 11408.9,
            "bin_end": 22448.8,
            "count": 1
           },
           {
            "bin_start": 22448.8,
            "bin_end": 33488.7,
            "count": 0
           },
           {
            "bin_start": 33488.7,
            "bin_end": 44528.6,
            "count": 0
           },
           {
            "bin_start": 44528.6,
            "bin_end": 55568.5,
            "count": 0
           },
           {
            "bin_start": 55568.5,
            "bin_end": 66608.4,
            "count": 0
           },
           {
            "bin_start": 66608.4,
            "bin_end": 77648.3,
            "count": 0
           },
           {
            "bin_start": 77648.3,
            "bin_end": 88688.2,
            "count": 0
           },
           {
            "bin_start": 88688.2,
            "bin_end": 99728.09999999999,
            "count": 0
           },
           {
            "bin_start": 99728.09999999999,
            "bin_end": 110768,
            "count": 1
           }
          ]
         }
        },
        {
         "name": "stars_today",
         "dtype": "int64",
         "stats": {
          "unique_count": 10,
          "nan_count": 0,
          "min": "71",
          "max": "574",
          "histogram": [
           {
            "bin_start": 71,
            "bin_end": 121.3,
            "count": 2
           },
           {
            "bin_start": 121.3,
            "bin_end": 171.6,
            "count": 0
           },
           {
            "bin_start": 171.6,
            "bin_end": 221.89999999999998,
            "count": 1
           },
           {
            "bin_start": 221.89999999999998,
            "bin_end": 272.2,
            "count": 3
           },
           {
            "bin_start": 272.2,
            "bin_end": 322.5,
            "count": 2
           },
           {
            "bin_start": 322.5,
            "bin_end": 372.79999999999995,
            "count": 0
           },
           {
            "bin_start": 372.79999999999995,
            "bin_end": 423.09999999999997,
            "count": 1
           },
           {
            "bin_start": 423.09999999999997,
            "bin_end": 473.4,
            "count": 0
           },
           {
            "bin_start": 473.4,
            "bin_end": 523.7,
            "count": 0
           },
           {
            "bin_start": 523.7,
            "bin_end": 574,
            "count": 1
           }
          ]
         }
        },
        {
         "name": "forks",
         "dtype": "int64",
         "stats": {
          "unique_count": 10,
          "nan_count": 0,
          "min": "38",
          "max": "18331",
          "histogram": [
           {
            "bin_start": 38,
            "bin_end": 1867.3,
            "count": 9
           },
           {
            "bin_start": 1867.3,
            "bin_end": 3696.6,
            "count": 0
           },
           {
            "bin_start": 3696.6,
            "bin_end": 5525.9,
            "count": 0
           },
           {
            "bin_start": 5525.9,
            "bin_end": 7355.2,
            "count": 0
           },
           {
            "bin_start": 7355.2,
            "bin_end": 9184.5,
            "count": 0
           },
           {
            "bin_start": 9184.5,
            "bin_end": 11013.8,
            "count": 0
           },
           {
            "bin_start": 11013.8,
            "bin_end": 12843.1,
            "count": 0
           },
           {
            "bin_start": 12843.1,
            "bin_end": 14672.4,
            "count": 0
           },
           {
            "bin_start": 14672.4,
            "bin_end": 16501.7,
            "count": 0
           },
           {
            "bin_start": 16501.7,
            "bin_end": 18331,
            "count": 1
           }
          ]
         }
        },
        {
         "name": "_deepnote_index_column",
         "dtype": "int64"
        }
       ],
       "rows_top": [
        {
         "ranking": 1,
         "project": "plow",
         "language": "go",
         "stars": 1304,
         "stars_today": 574,
         "forks": 38,
         "_deepnote_index_column": 0
        },
        {
         "ranking": 2,
         "project": "n8n",
         "language": "typescript",
         "stars": 15668,
         "stars_today": 280,
         "forks": 1370,
         "_deepnote_index_column": 1
        },
        {
         "ranking": 3,
         "project": "slides",
         "language": "go",
         "stars": 3218,
         "stars_today": 265,
         "forks": 80,
         "_deepnote_index_column": 2
        },
        {
         "ranking": 4,
         "project": "defi-developer-road-map",
         "language": "nan",
         "stars": 636,
         "stars_today": 247,
         "forks": 49,
         "_deepnote_index_column": 3
        },
        {
         "ranking": 5,
         "project": "pytorch-image-models",
         "language": "python",
         "stars": 11065,
         "stars_today": 101,
         "forks": 1646,
         "_deepnote_index_column": 4
        },
        {
         "ranking": 6,
         "project": "javascript-algorithms",
         "language": "javascript",
         "stars": 110768,
         "stars_today": 248,
         "forks": 18331,
         "_deepnote_index_column": 5
        },
        {
         "ranking": 7,
         "project": "paddleclas",
         "language": "python",
         "stars": 1429,
         "stars_today": 283,
         "forks": 323,
         "_deepnote_index_column": 6
        },
        {
         "ranking": 8,
         "project": "reddit_sentiment_trader",
         "language": "python",
         "stars": 369,
         "stars_today": 71,
         "forks": 60,
         "_deepnote_index_column": 7
        },
        {
         "ranking": 9,
         "project": "augly",
         "language": "python",
         "stars": 2849,
         "stars_today": 393,
         "forks": 99,
         "_deepnote_index_column": 8
        },
        {
         "ranking": 10,
         "project": "self-taught-guide-to-cloud-computing",
         "language": "nan",
         "stars": 863,
         "stars_today": 179,
         "forks": 84,
         "_deepnote_index_column": 9
        }
       ],
       "rows_bottom": null
      },
      "text/plain": "   ranking                               project    language   stars  \\\n0        1                                  plow          go    1304   \n1        2                                   n8n  typescript   15668   \n2        3                                slides          go    3218   \n3        4               defi-developer-road-map         NaN     636   \n4        5                  pytorch-image-models      python   11065   \n5        6                 javascript-algorithms  javascript  110768   \n6        7                            paddleclas      python    1429   \n7        8               reddit_sentiment_trader      python     369   \n8        9                                 augly      python    2849   \n9       10  self-taught-guide-to-cloud-computing         NaN     863   \n\n   stars_today  forks  \n0          574     38  \n1          280   1370  \n2          265     80  \n3          247     49  \n4          101   1646  \n5          248  18331  \n6          283    323  \n7           71     60  \n8          393     99  \n9          179     84  ",
      "text/html": "<div>\n<style scoped>\n    .dataframe tbody tr th:only-of-type {\n        vertical-align: middle;\n    }\n\n    .dataframe tbody tr th {\n        vertical-align: top;\n    }\n\n    .dataframe thead th {\n        text-align: right;\n    }\n</style>\n<table border=\"1\" class=\"dataframe\">\n  <thead>\n    <tr style=\"text-align: right;\">\n      <th></th>\n      <th>ranking</th>\n      <th>project</th>\n      <th>language</th>\n      <th>stars</th>\n      <th>stars_today</th>\n      <th>forks</th>\n    </tr>\n  </thead>\n  <tbody>\n    <tr>\n      <th>0</th>\n      <td>1</td>\n      <td>plow</td>\n      <td>go</td>\n      <td>1304</td>\n      <td>574</td>\n      <td>38</td>\n    </tr>\n    <tr>\n      <th>1</th>\n      <td>2</td>\n      <td>n8n</td>\n      <td>typescript</td>\n      <td>15668</td>\n      <td>280</td>\n      <td>1370</td>\n    </tr>\n    <tr>\n      <th>2</th>\n      <td>3</td>\n      <td>slides</td>\n      <td>go</td>\n      <td>3218</td>\n      <td>265</td>\n      <td>80</td>\n    </tr>\n    <tr>\n      <th>3</th>\n      <td>4</td>\n      <td>defi-developer-road-map</td>\n      <td>NaN</td>\n      <td>636</td>\n      <td>247</td>\n      <td>49</td>\n    </tr>\n    <tr>\n      <th>4</th>\n      <td>5</td>\n      <td>pytorch-image-models</td>\n      <td>python</td>\n      <td>11065</td>\n      <td>101</td>\n      <td>1646</td>\n    </tr>\n    <tr>\n      <th>5</th>\n      <td>6</td>\n      <td>javascript-algorithms</td>\n      <td>javascript</td>\n      <td>110768</td>\n      <td>248</td>\n      <td>18331</td>\n    </tr>\n    <tr>\n      <th>6</th>\n      <td>7</td>\n      <td>paddleclas</td>\n      <td>python</td>\n      <td>1429</td>\n      <td>283</td>\n      <td>323</td>\n    </tr>\n    <tr>\n      <th>7</th>\n      <td>8</td>\n      <td>reddit_sentiment_trader</td>\n      <td>python</td>\n      <td>369</td>\n      <td>71</td>\n      <td>60</td>\n    </tr>\n    <tr>\n      <th>8</th>\n      <td>9</td>\n      <td>augly</td>\n      <td>python</td>\n      <td>2849</td>\n      <td>393</td>\n      <td>99</td>\n    </tr>\n    <tr>\n      <th>9</th>\n      <td>10</td>\n      <td>self-taught-guide-to-cloud-computing</td>\n      <td>NaN</td>\n      <td>863</td>\n      <td>179</td>\n      <td>84</td>\n    </tr>\n  </tbody>\n</table>\n</div>"
     },
     "metadata": {}
    }
   ]
  },
  {
   "cell_type": "code",
   "metadata": {
    "id": "Epc-QGsg1Jap",
    "cell_id": "00029-3d677061-641c-483d-9088-2b9ef88271bb",
    "deepnote_to_be_reexecuted": false,
    "source_hash": "509e74dd",
    "execution_start": 1639009972558,
    "execution_millis": 2,
    "deepnote_output_heights": [
     21.199996948242188
    ],
    "deepnote_cell_type": "code"
   },
   "source": "type(github_df)",
   "execution_count": null,
   "outputs": [
    {
     "output_type": "execute_result",
     "execution_count": 27,
     "data": {
      "text/plain": "pandas.core.frame.DataFrame"
     },
     "metadata": {}
    }
   ]
  },
  {
   "cell_type": "markdown",
   "source": "*   Atributos",
   "metadata": {
    "id": "KG4Jgd1baAP-",
    "cell_id": "00030-41f57750-6b06-4f22-be28-1f2bcfac4e2c",
    "deepnote_cell_type": "markdown"
   }
  },
  {
   "cell_type": "code",
   "metadata": {
    "id": "SBgGJyoEaAP-",
    "cell_id": "00031-5303e1ee-bb57-4c2b-a508-d314a651fbdc",
    "deepnote_to_be_reexecuted": false,
    "source_hash": "21e414f",
    "execution_start": 1639009979732,
    "execution_millis": 8,
    "deepnote_output_heights": [
     21.199996948242188
    ],
    "deepnote_cell_type": "code"
   },
   "source": "github_df.columns",
   "execution_count": null,
   "outputs": [
    {
     "output_type": "execute_result",
     "execution_count": 28,
     "data": {
      "text/plain": "Index(['ranking', 'project', 'language', 'stars', 'stars_today', 'forks'], dtype='object')"
     },
     "metadata": {}
    }
   ]
  },
  {
   "cell_type": "code",
   "metadata": {
    "id": "NRnba9YSaAP-",
    "cell_id": "00032-5b352f10-f9f7-46f5-8766-bc37f3fe0b31",
    "deepnote_to_be_reexecuted": false,
    "source_hash": "6c02d22f",
    "execution_start": 1639009986606,
    "execution_millis": 12,
    "deepnote_output_heights": [
     136.39999389648438
    ],
    "deepnote_cell_type": "code"
   },
   "source": "github_df.dtypes",
   "execution_count": null,
   "outputs": [
    {
     "output_type": "execute_result",
     "execution_count": 29,
     "data": {
      "text/plain": "ranking         int64\nproject        object\nlanguage       object\nstars           int64\nstars_today     int64\nforks           int64\ndtype: object"
     },
     "metadata": {}
    }
   ]
  },
  {
   "cell_type": "code",
   "metadata": {
    "id": "JWx30jKHaAP-",
    "cell_id": "00033-6d3f4704-c59d-463d-b322-3e2e0601b08f",
    "deepnote_to_be_reexecuted": false,
    "source_hash": "1b3c9ea2",
    "execution_start": 1639010004962,
    "execution_millis": 8,
    "deepnote_output_heights": [
     21.199996948242188
    ],
    "deepnote_cell_type": "code"
   },
   "source": "github_df.index",
   "execution_count": null,
   "outputs": [
    {
     "output_type": "execute_result",
     "execution_count": 30,
     "data": {
      "text/plain": "RangeIndex(start=0, stop=10, step=1)"
     },
     "metadata": {}
    }
   ]
  },
  {
   "cell_type": "code",
   "metadata": {
    "id": "qo7zUrNXaAP_",
    "cell_id": "00034-aff48f2e-839a-45f6-b017-90da9d7e8002",
    "deepnote_to_be_reexecuted": false,
    "source_hash": "677c6050",
    "execution_start": 1639010006400,
    "execution_millis": 15,
    "deepnote_output_heights": [
     21.199996948242188
    ],
    "deepnote_cell_type": "code"
   },
   "source": "github_df.shape",
   "execution_count": null,
   "outputs": [
    {
     "output_type": "execute_result",
     "execution_count": 31,
     "data": {
      "text/plain": "(10, 6)"
     },
     "metadata": {}
    }
   ]
  },
  {
   "cell_type": "markdown",
   "source": "*   Métodos",
   "metadata": {
    "id": "hQSszBaeaAP_",
    "cell_id": "00035-8fa892a5-705e-4c66-a15d-a7334068979a",
    "deepnote_cell_type": "markdown"
   }
  },
  {
   "cell_type": "code",
   "metadata": {
    "id": "IkGdt9AeaAP_",
    "cell_id": "00036-39f2f5f9-8925-4de8-8fe4-dea00f83739a",
    "deepnote_to_be_reexecuted": false,
    "source_hash": "a8c2a76a",
    "execution_start": 1639010066482,
    "execution_millis": 1,
    "deepnote_cell_type": "code"
   },
   "source": "github_df.head()",
   "execution_count": null,
   "outputs": [
    {
     "output_type": "execute_result",
     "execution_count": 32,
     "data": {
      "application/vnd.deepnote.dataframe.v2+json": {
       "row_count": 5,
       "column_count": 6,
       "columns": [
        {
         "name": "ranking",
         "dtype": "int64",
         "stats": {
          "unique_count": 5,
          "nan_count": 0,
          "min": "1",
          "max": "5",
          "histogram": [
           {
            "bin_start": 1,
            "bin_end": 1.4,
            "count": 1
           },
           {
            "bin_start": 1.4,
            "bin_end": 1.8,
            "count": 0
           },
           {
            "bin_start": 1.8,
            "bin_end": 2.2,
            "count": 1
           },
           {
            "bin_start": 2.2,
            "bin_end": 2.6,
            "count": 0
           },
           {
            "bin_start": 2.6,
            "bin_end": 3,
            "count": 0
           },
           {
            "bin_start": 3,
            "bin_end": 3.4000000000000004,
            "count": 1
           },
           {
            "bin_start": 3.4000000000000004,
            "bin_end": 3.8000000000000003,
            "count": 0
           },
           {
            "bin_start": 3.8000000000000003,
            "bin_end": 4.2,
            "count": 1
           },
           {
            "bin_start": 4.2,
            "bin_end": 4.6,
            "count": 0
           },
           {
            "bin_start": 4.6,
            "bin_end": 5,
            "count": 1
           }
          ]
         }
        },
        {
         "name": "project",
         "dtype": "object",
         "stats": {
          "unique_count": 5,
          "nan_count": 0,
          "categories": [
           {
            "name": "plow",
            "count": 1
           },
           {
            "name": "n8n",
            "count": 1
           },
           {
            "name": "3 others",
            "count": 3
           }
          ]
         }
        },
        {
         "name": "language",
         "dtype": "object",
         "stats": {
          "unique_count": 3,
          "nan_count": 1,
          "categories": [
           {
            "name": "go",
            "count": 2
           },
           {
            "name": "2 others",
            "count": 2
           },
           {
            "name": "Missing",
            "count": 1
           }
          ]
         }
        },
        {
         "name": "stars",
         "dtype": "int64",
         "stats": {
          "unique_count": 5,
          "nan_count": 0,
          "min": "636",
          "max": "15668",
          "histogram": [
           {
            "bin_start": 636,
            "bin_end": 2139.2,
            "count": 2
           },
           {
            "bin_start": 2139.2,
            "bin_end": 3642.4,
            "count": 1
           },
           {
            "bin_start": 3642.4,
            "bin_end": 5145.6,
            "count": 0
           },
           {
            "bin_start": 5145.6,
            "bin_end": 6648.8,
            "count": 0
           },
           {
            "bin_start": 6648.8,
            "bin_end": 8152,
            "count": 0
           },
           {
            "bin_start": 8152,
            "bin_end": 9655.2,
            "count": 0
           },
           {
            "bin_start": 9655.2,
            "bin_end": 11158.4,
            "count": 1
           },
           {
            "bin_start": 11158.4,
            "bin_end": 12661.6,
            "count": 0
           },
           {
            "bin_start": 12661.6,
            "bin_end": 14164.800000000001,
            "count": 0
           },
           {
            "bin_start": 14164.800000000001,
            "bin_end": 15668,
            "count": 1
           }
          ]
         }
        },
        {
         "name": "stars_today",
         "dtype": "int64",
         "stats": {
          "unique_count": 5,
          "nan_count": 0,
          "min": "101",
          "max": "574",
          "histogram": [
           {
            "bin_start": 101,
            "bin_end": 148.3,
            "count": 1
           },
           {
            "bin_start": 148.3,
            "bin_end": 195.6,
            "count": 0
           },
           {
            "bin_start": 195.6,
            "bin_end": 242.89999999999998,
            "count": 0
           },
           {
            "bin_start": 242.89999999999998,
            "bin_end": 290.2,
            "count": 3
           },
           {
            "bin_start": 290.2,
            "bin_end": 337.5,
            "count": 0
           },
           {
            "bin_start": 337.5,
            "bin_end": 384.79999999999995,
            "count": 0
           },
           {
            "bin_start": 384.79999999999995,
            "bin_end": 432.09999999999997,
            "count": 0
           },
           {
            "bin_start": 432.09999999999997,
            "bin_end": 479.4,
            "count": 0
           },
           {
            "bin_start": 479.4,
            "bin_end": 526.7,
            "count": 0
           },
           {
            "bin_start": 526.7,
            "bin_end": 574,
            "count": 1
           }
          ]
         }
        },
        {
         "name": "forks",
         "dtype": "int64",
         "stats": {
          "unique_count": 5,
          "nan_count": 0,
          "min": "38",
          "max": "1646",
          "histogram": [
           {
            "bin_start": 38,
            "bin_end": 198.8,
            "count": 3
           },
           {
            "bin_start": 198.8,
            "bin_end": 359.6,
            "count": 0
           },
           {
            "bin_start": 359.6,
            "bin_end": 520.4000000000001,
            "count": 0
           },
           {
            "bin_start": 520.4000000000001,
            "bin_end": 681.2,
            "count": 0
           },
           {
            "bin_start": 681.2,
            "bin_end": 842,
            "count": 0
           },
           {
            "bin_start": 842,
            "bin_end": 1002.8000000000001,
            "count": 0
           },
           {
            "bin_start": 1002.8000000000001,
            "bin_end": 1163.6000000000001,
            "count": 0
           },
           {
            "bin_start": 1163.6000000000001,
            "bin_end": 1324.4,
            "count": 0
           },
           {
            "bin_start": 1324.4,
            "bin_end": 1485.2,
            "count": 1
           },
           {
            "bin_start": 1485.2,
            "bin_end": 1646,
            "count": 1
           }
          ]
         }
        },
        {
         "name": "_deepnote_index_column",
         "dtype": "int64"
        }
       ],
       "rows_top": [
        {
         "ranking": 1,
         "project": "plow",
         "language": "go",
         "stars": 1304,
         "stars_today": 574,
         "forks": 38,
         "_deepnote_index_column": 0
        },
        {
         "ranking": 2,
         "project": "n8n",
         "language": "typescript",
         "stars": 15668,
         "stars_today": 280,
         "forks": 1370,
         "_deepnote_index_column": 1
        },
        {
         "ranking": 3,
         "project": "slides",
         "language": "go",
         "stars": 3218,
         "stars_today": 265,
         "forks": 80,
         "_deepnote_index_column": 2
        },
        {
         "ranking": 4,
         "project": "defi-developer-road-map",
         "language": "nan",
         "stars": 636,
         "stars_today": 247,
         "forks": 49,
         "_deepnote_index_column": 3
        },
        {
         "ranking": 5,
         "project": "pytorch-image-models",
         "language": "python",
         "stars": 11065,
         "stars_today": 101,
         "forks": 1646,
         "_deepnote_index_column": 4
        }
       ],
       "rows_bottom": null
      },
      "text/plain": "   ranking                  project    language  stars  stars_today  forks\n0        1                     plow          go   1304          574     38\n1        2                      n8n  typescript  15668          280   1370\n2        3                   slides          go   3218          265     80\n3        4  defi-developer-road-map         NaN    636          247     49\n4        5     pytorch-image-models      python  11065          101   1646",
      "text/html": "<div>\n<style scoped>\n    .dataframe tbody tr th:only-of-type {\n        vertical-align: middle;\n    }\n\n    .dataframe tbody tr th {\n        vertical-align: top;\n    }\n\n    .dataframe thead th {\n        text-align: right;\n    }\n</style>\n<table border=\"1\" class=\"dataframe\">\n  <thead>\n    <tr style=\"text-align: right;\">\n      <th></th>\n      <th>ranking</th>\n      <th>project</th>\n      <th>language</th>\n      <th>stars</th>\n      <th>stars_today</th>\n      <th>forks</th>\n    </tr>\n  </thead>\n  <tbody>\n    <tr>\n      <th>0</th>\n      <td>1</td>\n      <td>plow</td>\n      <td>go</td>\n      <td>1304</td>\n      <td>574</td>\n      <td>38</td>\n    </tr>\n    <tr>\n      <th>1</th>\n      <td>2</td>\n      <td>n8n</td>\n      <td>typescript</td>\n      <td>15668</td>\n      <td>280</td>\n      <td>1370</td>\n    </tr>\n    <tr>\n      <th>2</th>\n      <td>3</td>\n      <td>slides</td>\n      <td>go</td>\n      <td>3218</td>\n      <td>265</td>\n      <td>80</td>\n    </tr>\n    <tr>\n      <th>3</th>\n      <td>4</td>\n      <td>defi-developer-road-map</td>\n      <td>NaN</td>\n      <td>636</td>\n      <td>247</td>\n      <td>49</td>\n    </tr>\n    <tr>\n      <th>4</th>\n      <td>5</td>\n      <td>pytorch-image-models</td>\n      <td>python</td>\n      <td>11065</td>\n      <td>101</td>\n      <td>1646</td>\n    </tr>\n  </tbody>\n</table>\n</div>"
     },
     "metadata": {}
    }
   ]
  },
  {
   "cell_type": "code",
   "metadata": {
    "id": "bNDEvGIBaAP_",
    "cell_id": "00037-611ccd4c-fc3f-446f-8cf9-bca8a3361a42",
    "deepnote_to_be_reexecuted": false,
    "source_hash": "f4b473b5",
    "execution_start": 1639010067280,
    "execution_millis": 31,
    "deepnote_cell_type": "code"
   },
   "source": "github_df.tail()",
   "execution_count": null,
   "outputs": [
    {
     "output_type": "execute_result",
     "execution_count": 33,
     "data": {
      "application/vnd.deepnote.dataframe.v2+json": {
       "row_count": 5,
       "column_count": 6,
       "columns": [
        {
         "name": "ranking",
         "dtype": "int64",
         "stats": {
          "unique_count": 5,
          "nan_count": 0,
          "min": "6",
          "max": "10",
          "histogram": [
           {
            "bin_start": 6,
            "bin_end": 6.4,
            "count": 1
           },
           {
            "bin_start": 6.4,
            "bin_end": 6.8,
            "count": 0
           },
           {
            "bin_start": 6.8,
            "bin_end": 7.2,
            "count": 1
           },
           {
            "bin_start": 7.2,
            "bin_end": 7.6,
            "count": 0
           },
           {
            "bin_start": 7.6,
            "bin_end": 8,
            "count": 0
           },
           {
            "bin_start": 8,
            "bin_end": 8.4,
            "count": 1
           },
           {
            "bin_start": 8.4,
            "bin_end": 8.8,
            "count": 0
           },
           {
            "bin_start": 8.8,
            "bin_end": 9.2,
            "count": 1
           },
           {
            "bin_start": 9.2,
            "bin_end": 9.6,
            "count": 0
           },
           {
            "bin_start": 9.6,
            "bin_end": 10,
            "count": 1
           }
          ]
         }
        },
        {
         "name": "project",
         "dtype": "object",
         "stats": {
          "unique_count": 5,
          "nan_count": 0,
          "categories": [
           {
            "name": "javascript-algorithms",
            "count": 1
           },
           {
            "name": "paddleclas",
            "count": 1
           },
           {
            "name": "3 others",
            "count": 3
           }
          ]
         }
        },
        {
         "name": "language",
         "dtype": "object",
         "stats": {
          "unique_count": 2,
          "nan_count": 1,
          "categories": [
           {
            "name": "python",
            "count": 3
           },
           {
            "name": "javascript",
            "count": 1
           },
           {
            "name": "Missing",
            "count": 1
           }
          ]
         }
        },
        {
         "name": "stars",
         "dtype": "int64",
         "stats": {
          "unique_count": 5,
          "nan_count": 0,
          "min": "369",
          "max": "110768",
          "histogram": [
           {
            "bin_start": 369,
            "bin_end": 11408.9,
            "count": 4
           },
           {
            "bin_start": 11408.9,
            "bin_end": 22448.8,
            "count": 0
           },
           {
            "bin_start": 22448.8,
            "bin_end": 33488.7,
            "count": 0
           },
           {
            "bin_start": 33488.7,
            "bin_end": 44528.6,
            "count": 0
           },
           {
            "bin_start": 44528.6,
            "bin_end": 55568.5,
            "count": 0
           },
           {
            "bin_start": 55568.5,
            "bin_end": 66608.4,
            "count": 0
           },
           {
            "bin_start": 66608.4,
            "bin_end": 77648.3,
            "count": 0
           },
           {
            "bin_start": 77648.3,
            "bin_end": 88688.2,
            "count": 0
           },
           {
            "bin_start": 88688.2,
            "bin_end": 99728.09999999999,
            "count": 0
           },
           {
            "bin_start": 99728.09999999999,
            "bin_end": 110768,
            "count": 1
           }
          ]
         }
        },
        {
         "name": "stars_today",
         "dtype": "int64",
         "stats": {
          "unique_count": 5,
          "nan_count": 0,
          "min": "71",
          "max": "393",
          "histogram": [
           {
            "bin_start": 71,
            "bin_end": 103.2,
            "count": 1
           },
           {
            "bin_start": 103.2,
            "bin_end": 135.4,
            "count": 0
           },
           {
            "bin_start": 135.4,
            "bin_end": 167.60000000000002,
            "count": 0
           },
           {
            "bin_start": 167.60000000000002,
            "bin_end": 199.8,
            "count": 1
           },
           {
            "bin_start": 199.8,
            "bin_end": 232,
            "count": 0
           },
           {
            "bin_start": 232,
            "bin_end": 264.20000000000005,
            "count": 1
           },
           {
            "bin_start": 264.20000000000005,
            "bin_end": 296.40000000000003,
            "count": 1
           },
           {
            "bin_start": 296.40000000000003,
            "bin_end": 328.6,
            "count": 0
           },
           {
            "bin_start": 328.6,
            "bin_end": 360.8,
            "count": 0
           },
           {
            "bin_start": 360.8,
            "bin_end": 393,
            "count": 1
           }
          ]
         }
        },
        {
         "name": "forks",
         "dtype": "int64",
         "stats": {
          "unique_count": 5,
          "nan_count": 0,
          "min": "60",
          "max": "18331",
          "histogram": [
           {
            "bin_start": 60,
            "bin_end": 1887.1,
            "count": 4
           },
           {
            "bin_start": 1887.1,
            "bin_end": 3714.2,
            "count": 0
           },
           {
            "bin_start": 3714.2,
            "bin_end": 5541.299999999999,
            "count": 0
           },
           {
            "bin_start": 5541.299999999999,
            "bin_end": 7368.4,
            "count": 0
           },
           {
            "bin_start": 7368.4,
            "bin_end": 9195.5,
            "count": 0
           },
           {
            "bin_start": 9195.5,
            "bin_end": 11022.599999999999,
            "count": 0
           },
           {
            "bin_start": 11022.599999999999,
            "bin_end": 12849.699999999999,
            "count": 0
           },
           {
            "bin_start": 12849.699999999999,
            "bin_end": 14676.8,
            "count": 0
           },
           {
            "bin_start": 14676.8,
            "bin_end": 16503.899999999998,
            "count": 0
           },
           {
            "bin_start": 16503.899999999998,
            "bin_end": 18331,
            "count": 1
           }
          ]
         }
        },
        {
         "name": "_deepnote_index_column",
         "dtype": "int64"
        }
       ],
       "rows_top": [
        {
         "ranking": 6,
         "project": "javascript-algorithms",
         "language": "javascript",
         "stars": 110768,
         "stars_today": 248,
         "forks": 18331,
         "_deepnote_index_column": 5
        },
        {
         "ranking": 7,
         "project": "paddleclas",
         "language": "python",
         "stars": 1429,
         "stars_today": 283,
         "forks": 323,
         "_deepnote_index_column": 6
        },
        {
         "ranking": 8,
         "project": "reddit_sentiment_trader",
         "language": "python",
         "stars": 369,
         "stars_today": 71,
         "forks": 60,
         "_deepnote_index_column": 7
        },
        {
         "ranking": 9,
         "project": "augly",
         "language": "python",
         "stars": 2849,
         "stars_today": 393,
         "forks": 99,
         "_deepnote_index_column": 8
        },
        {
         "ranking": 10,
         "project": "self-taught-guide-to-cloud-computing",
         "language": "nan",
         "stars": 863,
         "stars_today": 179,
         "forks": 84,
         "_deepnote_index_column": 9
        }
       ],
       "rows_bottom": null
      },
      "text/plain": "   ranking                               project    language   stars  \\\n5        6                 javascript-algorithms  javascript  110768   \n6        7                            paddleclas      python    1429   \n7        8               reddit_sentiment_trader      python     369   \n8        9                                 augly      python    2849   \n9       10  self-taught-guide-to-cloud-computing         NaN     863   \n\n   stars_today  forks  \n5          248  18331  \n6          283    323  \n7           71     60  \n8          393     99  \n9          179     84  ",
      "text/html": "<div>\n<style scoped>\n    .dataframe tbody tr th:only-of-type {\n        vertical-align: middle;\n    }\n\n    .dataframe tbody tr th {\n        vertical-align: top;\n    }\n\n    .dataframe thead th {\n        text-align: right;\n    }\n</style>\n<table border=\"1\" class=\"dataframe\">\n  <thead>\n    <tr style=\"text-align: right;\">\n      <th></th>\n      <th>ranking</th>\n      <th>project</th>\n      <th>language</th>\n      <th>stars</th>\n      <th>stars_today</th>\n      <th>forks</th>\n    </tr>\n  </thead>\n  <tbody>\n    <tr>\n      <th>5</th>\n      <td>6</td>\n      <td>javascript-algorithms</td>\n      <td>javascript</td>\n      <td>110768</td>\n      <td>248</td>\n      <td>18331</td>\n    </tr>\n    <tr>\n      <th>6</th>\n      <td>7</td>\n      <td>paddleclas</td>\n      <td>python</td>\n      <td>1429</td>\n      <td>283</td>\n      <td>323</td>\n    </tr>\n    <tr>\n      <th>7</th>\n      <td>8</td>\n      <td>reddit_sentiment_trader</td>\n      <td>python</td>\n      <td>369</td>\n      <td>71</td>\n      <td>60</td>\n    </tr>\n    <tr>\n      <th>8</th>\n      <td>9</td>\n      <td>augly</td>\n      <td>python</td>\n      <td>2849</td>\n      <td>393</td>\n      <td>99</td>\n    </tr>\n    <tr>\n      <th>9</th>\n      <td>10</td>\n      <td>self-taught-guide-to-cloud-computing</td>\n      <td>NaN</td>\n      <td>863</td>\n      <td>179</td>\n      <td>84</td>\n    </tr>\n  </tbody>\n</table>\n</div>"
     },
     "metadata": {}
    }
   ]
  },
  {
   "cell_type": "code",
   "metadata": {
    "id": "IPOpuy5caAQA",
    "cell_id": "00038-18301e0e-d3b6-4908-99fa-624a06a66336",
    "deepnote_to_be_reexecuted": false,
    "source_hash": "b83649a9",
    "execution_start": 1639010068549,
    "execution_millis": 1,
    "deepnote_cell_type": "code"
   },
   "source": "github_df.info()",
   "execution_count": null,
   "outputs": [
    {
     "name": "stdout",
     "text": "<class 'pandas.core.frame.DataFrame'>\nRangeIndex: 10 entries, 0 to 9\nData columns (total 6 columns):\n #   Column       Non-Null Count  Dtype \n---  ------       --------------  ----- \n 0   ranking      10 non-null     int64 \n 1   project      10 non-null     object\n 2   language     8 non-null      object\n 3   stars        10 non-null     int64 \n 4   stars_today  10 non-null     int64 \n 5   forks        10 non-null     int64 \ndtypes: int64(4), object(2)\nmemory usage: 608.0+ bytes\n",
     "output_type": "stream"
    }
   ]
  },
  {
   "cell_type": "code",
   "metadata": {
    "id": "COSsUPiuG0LX",
    "cell_id": "00039-881ad9f4-ae7d-475e-a834-573f344e2349",
    "deepnote_to_be_reexecuted": false,
    "source_hash": "e0f7b0ad",
    "execution_start": 1639010698738,
    "execution_millis": 4,
    "deepnote_cell_type": "code"
   },
   "source": "github_df[['project', 'language']].describe().T # colunas categóricas",
   "execution_count": null,
   "outputs": [
    {
     "output_type": "execute_result",
     "execution_count": 41,
     "data": {
      "application/vnd.deepnote.dataframe.v2+json": {
       "row_count": 2,
       "column_count": 4,
       "columns": [
        {
         "name": "count",
         "dtype": "object",
         "stats": {
          "unique_count": 2,
          "nan_count": 0,
          "categories": [
           {
            "name": "10",
            "count": 1
           },
           {
            "name": "8",
            "count": 1
           }
          ]
         }
        },
        {
         "name": "unique",
         "dtype": "object",
         "stats": {
          "unique_count": 2,
          "nan_count": 0,
          "categories": [
           {
            "name": "10",
            "count": 1
           },
           {
            "name": "4",
            "count": 1
           }
          ]
         }
        },
        {
         "name": "top",
         "dtype": "object",
         "stats": {
          "unique_count": 2,
          "nan_count": 0,
          "categories": [
           {
            "name": "reddit_sentiment_trader",
            "count": 1
           },
           {
            "name": "python",
            "count": 1
           }
          ]
         }
        },
        {
         "name": "freq",
         "dtype": "object",
         "stats": {
          "unique_count": 2,
          "nan_count": 0,
          "categories": [
           {
            "name": "1",
            "count": 1
           },
           {
            "name": "4",
            "count": 1
           }
          ]
         }
        },
        {
         "name": "_deepnote_index_column",
         "dtype": "object"
        }
       ],
       "rows_top": [
        {
         "count": "10",
         "unique": "10",
         "top": "reddit_sentiment_trader",
         "freq": "1",
         "_deepnote_index_column": "project"
        },
        {
         "count": "8",
         "unique": "4",
         "top": "python",
         "freq": "4",
         "_deepnote_index_column": "language"
        }
       ],
       "rows_bottom": null
      },
      "text/plain": "         count unique                      top freq\nproject     10     10  reddit_sentiment_trader    1\nlanguage     8      4                   python    4",
      "text/html": "<div>\n<style scoped>\n    .dataframe tbody tr th:only-of-type {\n        vertical-align: middle;\n    }\n\n    .dataframe tbody tr th {\n        vertical-align: top;\n    }\n\n    .dataframe thead th {\n        text-align: right;\n    }\n</style>\n<table border=\"1\" class=\"dataframe\">\n  <thead>\n    <tr style=\"text-align: right;\">\n      <th></th>\n      <th>count</th>\n      <th>unique</th>\n      <th>top</th>\n      <th>freq</th>\n    </tr>\n  </thead>\n  <tbody>\n    <tr>\n      <th>project</th>\n      <td>10</td>\n      <td>10</td>\n      <td>reddit_sentiment_trader</td>\n      <td>1</td>\n    </tr>\n    <tr>\n      <th>language</th>\n      <td>8</td>\n      <td>4</td>\n      <td>python</td>\n      <td>4</td>\n    </tr>\n  </tbody>\n</table>\n</div>"
     },
     "metadata": {}
    }
   ]
  },
  {
   "cell_type": "code",
   "metadata": {
    "id": "da_FFYmvGk02",
    "cell_id": "00040-09697239-868c-44bc-8ec1-b2366a1d30a4",
    "deepnote_to_be_reexecuted": false,
    "source_hash": "c6a2c9fc",
    "execution_start": 1639010070985,
    "execution_millis": 5,
    "deepnote_cell_type": "code"
   },
   "source": "github_df[['ranking', 'stars', 'stars_today', 'forks']].describe().T # colunas numéricas",
   "execution_count": null,
   "outputs": [
    {
     "output_type": "execute_result",
     "execution_count": 36,
     "data": {
      "application/vnd.deepnote.dataframe.v2+json": {
       "row_count": 4,
       "column_count": 8,
       "columns": [
        {
         "name": "count",
         "dtype": "float64",
         "stats": {
          "unique_count": 1,
          "nan_count": 0,
          "min": "10.0",
          "max": "10.0",
          "histogram": [
           {
            "bin_start": 9.5,
            "bin_end": 9.6,
            "count": 0
           },
           {
            "bin_start": 9.6,
            "bin_end": 9.7,
            "count": 0
           },
           {
            "bin_start": 9.7,
            "bin_end": 9.8,
            "count": 0
           },
           {
            "bin_start": 9.8,
            "bin_end": 9.9,
            "count": 0
           },
           {
            "bin_start": 9.9,
            "bin_end": 10,
            "count": 0
           },
           {
            "bin_start": 10,
            "bin_end": 10.1,
            "count": 4
           },
           {
            "bin_start": 10.1,
            "bin_end": 10.2,
            "count": 0
           },
           {
            "bin_start": 10.2,
            "bin_end": 10.3,
            "count": 0
           },
           {
            "bin_start": 10.3,
            "bin_end": 10.4,
            "count": 0
           },
           {
            "bin_start": 10.4,
            "bin_end": 10.5,
            "count": 0
           }
          ]
         }
        },
        {
         "name": "mean",
         "dtype": "float64",
         "stats": {
          "unique_count": 4,
          "nan_count": 0,
          "min": "5.5",
          "max": "14816.9",
          "histogram": [
           {
            "bin_start": 5.5,
            "bin_end": 1486.6399999999999,
            "count": 2
           },
           {
            "bin_start": 1486.6399999999999,
            "bin_end": 2967.7799999999997,
            "count": 1
           },
           {
            "bin_start": 2967.7799999999997,
            "bin_end": 4448.92,
            "count": 0
           },
           {
            "bin_start": 4448.92,
            "bin_end": 5930.0599999999995,
            "count": 0
           },
           {
            "bin_start": 5930.0599999999995,
            "bin_end": 7411.199999999999,
            "count": 0
           },
           {
            "bin_start": 7411.199999999999,
            "bin_end": 8892.34,
            "count": 0
           },
           {
            "bin_start": 8892.34,
            "bin_end": 10373.48,
            "count": 0
           },
           {
            "bin_start": 10373.48,
            "bin_end": 11854.619999999999,
            "count": 0
           },
           {
            "bin_start": 11854.619999999999,
            "bin_end": 13335.759999999998,
            "count": 0
           },
           {
            "bin_start": 13335.759999999998,
            "bin_end": 14816.9,
            "count": 1
           }
          ]
         }
        },
        {
         "name": "std",
         "dtype": "float64",
         "stats": {
          "unique_count": 4,
          "nan_count": 0,
          "min": "3.0276503540974917",
          "max": "34100.4483921318",
          "histogram": [
           {
            "bin_start": 3.0276503540974917,
            "bin_end": 3412.769724531868,
            "count": 2
           },
           {
            "bin_start": 3412.769724531868,
            "bin_end": 6822.511798709638,
            "count": 1
           },
           {
            "bin_start": 6822.511798709638,
            "bin_end": 10232.253872887408,
            "count": 0
           },
           {
            "bin_start": 10232.253872887408,
            "bin_end": 13641.99594706518,
            "count": 0
           },
           {
            "bin_start": 13641.99594706518,
            "bin_end": 17051.738021242953,
            "count": 0
           },
           {
            "bin_start": 17051.738021242953,
            "bin_end": 20461.48009542072,
            "count": 0
           },
           {
            "bin_start": 20461.48009542072,
            "bin_end": 23871.22216959849,
            "count": 0
           },
           {
            "bin_start": 23871.22216959849,
            "bin_end": 27280.964243776263,
            "count": 0
           },
           {
            "bin_start": 27280.964243776263,
            "bin_end": 30690.706317954035,
            "count": 0
           },
           {
            "bin_start": 30690.706317954035,
            "bin_end": 34100.4483921318,
            "count": 1
           }
          ]
         }
        },
        {
         "name": "min",
         "dtype": "float64",
         "stats": {
          "unique_count": 4,
          "nan_count": 0,
          "min": "1.0",
          "max": "369.0",
          "histogram": [
           {
            "bin_start": 1,
            "bin_end": 37.8,
            "count": 1
           },
           {
            "bin_start": 37.8,
            "bin_end": 74.6,
            "count": 2
           },
           {
            "bin_start": 74.6,
            "bin_end": 111.39999999999999,
            "count": 0
           },
           {
            "bin_start": 111.39999999999999,
            "bin_end": 148.2,
            "count": 0
           },
           {
            "bin_start": 148.2,
            "bin_end": 185,
            "count": 0
           },
           {
            "bin_start": 185,
            "bin_end": 221.79999999999998,
            "count": 0
           },
           {
            "bin_start": 221.79999999999998,
            "bin_end": 258.59999999999997,
            "count": 0
           },
           {
            "bin_start": 258.59999999999997,
            "bin_end": 295.4,
            "count": 0
           },
           {
            "bin_start": 295.4,
            "bin_end": 332.2,
            "count": 0
           },
           {
            "bin_start": 332.2,
            "bin_end": 369,
            "count": 1
           }
          ]
         }
        },
        {
         "name": "25%",
         "dtype": "float64",
         "stats": {
          "unique_count": 4,
          "nan_count": 0,
          "min": "3.25",
          "max": "973.25",
          "histogram": [
           {
            "bin_start": 3.25,
            "bin_end": 100.25,
            "count": 2
           },
           {
            "bin_start": 100.25,
            "bin_end": 197.25,
            "count": 1
           },
           {
            "bin_start": 197.25,
            "bin_end": 294.25,
            "count": 0
           },
           {
            "bin_start": 294.25,
            "bin_end": 391.25,
            "count": 0
           },
           {
            "bin_start": 391.25,
            "bin_end": 488.25,
            "count": 0
           },
           {
            "bin_start": 488.25,
            "bin_end": 585.25,
            "count": 0
           },
           {
            "bin_start": 585.25,
            "bin_end": 682.25,
            "count": 0
           },
           {
            "bin_start": 682.25,
            "bin_end": 779.25,
            "count": 0
           },
           {
            "bin_start": 779.25,
            "bin_end": 876.25,
            "count": 0
           },
           {
            "bin_start": 876.25,
            "bin_end": 973.25,
            "count": 1
           }
          ]
         }
        },
        {
         "name": "50%",
         "dtype": "float64",
         "stats": {
          "unique_count": 4,
          "nan_count": 0,
          "min": "5.5",
          "max": "2139.0",
          "histogram": [
           {
            "bin_start": 5.5,
            "bin_end": 218.85,
            "count": 2
           },
           {
            "bin_start": 218.85,
            "bin_end": 432.2,
            "count": 1
           },
           {
            "bin_start": 432.2,
            "bin_end": 645.55,
            "count": 0
           },
           {
            "bin_start": 645.55,
            "bin_end": 858.9,
            "count": 0
           },
           {
            "bin_start": 858.9,
            "bin_end": 1072.25,
            "count": 0
           },
           {
            "bin_start": 1072.25,
            "bin_end": 1285.6,
            "count": 0
           },
           {
            "bin_start": 1285.6,
            "bin_end": 1498.95,
            "count": 0
           },
           {
            "bin_start": 1498.95,
            "bin_end": 1712.3,
            "count": 0
           },
           {
            "bin_start": 1712.3,
            "bin_end": 1925.6499999999999,
            "count": 0
           },
           {
            "bin_start": 1925.6499999999999,
            "bin_end": 2139,
            "count": 1
           }
          ]
         }
        },
        {
         "name": "75%",
         "dtype": "float64",
         "stats": {
          "unique_count": 4,
          "nan_count": 0,
          "min": "7.75",
          "max": "9103.25",
          "histogram": [
           {
            "bin_start": 7.75,
            "bin_end": 917.3,
            "count": 2
           },
           {
            "bin_start": 917.3,
            "bin_end": 1826.85,
            "count": 1
           },
           {
            "bin_start": 1826.85,
            "bin_end": 2736.3999999999996,
            "count": 0
           },
           {
            "bin_start": 2736.3999999999996,
            "bin_end": 3645.95,
            "count": 0
           },
           {
            "bin_start": 3645.95,
            "bin_end": 4555.5,
            "count": 0
           },
           {
            "bin_start": 4555.5,
            "bin_end": 5465.049999999999,
            "count": 0
           },
           {
            "bin_start": 5465.049999999999,
            "bin_end": 6374.599999999999,
            "count": 0
           },
           {
            "bin_start": 6374.599999999999,
            "bin_end": 7284.15,
            "count": 0
           },
           {
            "bin_start": 7284.15,
            "bin_end": 8193.7,
            "count": 0
           },
           {
            "bin_start": 8193.7,
            "bin_end": 9103.25,
            "count": 1
           }
          ]
         }
        },
        {
         "name": "max",
         "dtype": "float64",
         "stats": {
          "unique_count": 4,
          "nan_count": 0,
          "min": "10.0",
          "max": "110768.0",
          "histogram": [
           {
            "bin_start": 10,
            "bin_end": 11085.8,
            "count": 2
           },
           {
            "bin_start": 11085.8,
            "bin_end": 22161.6,
            "count": 1
           },
           {
            "bin_start": 22161.6,
            "bin_end": 33237.399999999994,
            "count": 0
           },
           {
            "bin_start": 33237.399999999994,
            "bin_end": 44313.2,
            "count": 0
           },
           {
            "bin_start": 44313.2,
            "bin_end": 55389,
            "count": 0
           },
           {
            "bin_start": 55389,
            "bin_end": 66464.79999999999,
            "count": 0
           },
           {
            "bin_start": 66464.79999999999,
            "bin_end": 77540.59999999999,
            "count": 0
           },
           {
            "bin_start": 77540.59999999999,
            "bin_end": 88616.4,
            "count": 0
           },
           {
            "bin_start": 88616.4,
            "bin_end": 99692.2,
            "count": 0
           },
           {
            "bin_start": 99692.2,
            "bin_end": 110768,
            "count": 1
           }
          ]
         }
        },
        {
         "name": "_deepnote_index_column",
         "dtype": "object"
        }
       ],
       "rows_top": [
        {
         "count": 10,
         "mean": 5.5,
         "std": 3.0276503540974917,
         "min": 1,
         "25%": 3.25,
         "50%": 5.5,
         "75%": 7.75,
         "max": 10,
         "_deepnote_index_column": "ranking"
        },
        {
         "count": 10,
         "mean": 14816.9,
         "std": 34100.4483921318,
         "min": 369,
         "25%": 973.25,
         "50%": 2139,
         "75%": 9103.25,
         "max": 110768,
         "_deepnote_index_column": "stars"
        },
        {
         "count": 10,
         "mean": 264.1,
         "std": 143.3515104753192,
         "min": 71,
         "25%": 196,
         "50%": 256.5,
         "75%": 282.25,
         "max": 574,
         "_deepnote_index_column": "stars_today"
        },
        {
         "count": 10,
         "mean": 2208,
         "std": 5695.945614596793,
         "min": 38,
         "25%": 65,
         "50%": 91.5,
         "75%": 1108.25,
         "max": 18331,
         "_deepnote_index_column": "forks"
        }
       ],
       "rows_bottom": null
      },
      "text/plain": "             count     mean           std    min     25%     50%      75%  \\\nranking       10.0      5.5      3.027650    1.0    3.25     5.5     7.75   \nstars         10.0  14816.9  34100.448392  369.0  973.25  2139.0  9103.25   \nstars_today   10.0    264.1    143.351510   71.0  196.00   256.5   282.25   \nforks         10.0   2208.0   5695.945615   38.0   65.00    91.5  1108.25   \n\n                  max  \nranking          10.0  \nstars        110768.0  \nstars_today     574.0  \nforks         18331.0  ",
      "text/html": "<div>\n<style scoped>\n    .dataframe tbody tr th:only-of-type {\n        vertical-align: middle;\n    }\n\n    .dataframe tbody tr th {\n        vertical-align: top;\n    }\n\n    .dataframe thead th {\n        text-align: right;\n    }\n</style>\n<table border=\"1\" class=\"dataframe\">\n  <thead>\n    <tr style=\"text-align: right;\">\n      <th></th>\n      <th>count</th>\n      <th>mean</th>\n      <th>std</th>\n      <th>min</th>\n      <th>25%</th>\n      <th>50%</th>\n      <th>75%</th>\n      <th>max</th>\n    </tr>\n  </thead>\n  <tbody>\n    <tr>\n      <th>ranking</th>\n      <td>10.0</td>\n      <td>5.5</td>\n      <td>3.027650</td>\n      <td>1.0</td>\n      <td>3.25</td>\n      <td>5.5</td>\n      <td>7.75</td>\n      <td>10.0</td>\n    </tr>\n    <tr>\n      <th>stars</th>\n      <td>10.0</td>\n      <td>14816.9</td>\n      <td>34100.448392</td>\n      <td>369.0</td>\n      <td>973.25</td>\n      <td>2139.0</td>\n      <td>9103.25</td>\n      <td>110768.0</td>\n    </tr>\n    <tr>\n      <th>stars_today</th>\n      <td>10.0</td>\n      <td>264.1</td>\n      <td>143.351510</td>\n      <td>71.0</td>\n      <td>196.00</td>\n      <td>256.5</td>\n      <td>282.25</td>\n      <td>574.0</td>\n    </tr>\n    <tr>\n      <th>forks</th>\n      <td>10.0</td>\n      <td>2208.0</td>\n      <td>5695.945615</td>\n      <td>38.0</td>\n      <td>65.00</td>\n      <td>91.5</td>\n      <td>1108.25</td>\n      <td>18331.0</td>\n    </tr>\n  </tbody>\n</table>\n</div>"
     },
     "metadata": {}
    }
   ]
  },
  {
   "cell_type": "markdown",
   "source": "### **1.2. Anatomia de um DataFrame** ",
   "metadata": {
    "id": "ymoAXSbFEcvt",
    "cell_id": "00041-5a3d81a3-c0da-4cde-8a8a-24d6c45bcff0",
    "deepnote_cell_type": "markdown"
   }
  },
  {
   "cell_type": "markdown",
   "source": "*   **Série**: `Coluna` de um DataFrame;\n*   **Índice**: Indentificador de uma `linha` de um DataFrame.",
   "metadata": {
    "id": "fBx76tlzEmaQ",
    "cell_id": "00042-cd6d3d78-a92f-4361-b444-fc7f64cf9bfc",
    "deepnote_cell_type": "markdown"
   }
  },
  {
   "cell_type": "code",
   "metadata": {
    "id": "oxYkPTvJE6Ug",
    "cell_id": "00043-5fd7e53f-b35b-4c50-b945-a732edb4d839",
    "deepnote_to_be_reexecuted": false,
    "source_hash": "45e1eb39",
    "execution_start": 1639010717142,
    "execution_millis": 250,
    "deepnote_cell_type": "code"
   },
   "source": "github_df",
   "execution_count": null,
   "outputs": [
    {
     "output_type": "execute_result",
     "execution_count": 42,
     "data": {
      "application/vnd.deepnote.dataframe.v2+json": {
       "row_count": 10,
       "column_count": 6,
       "columns": [
        {
         "name": "ranking",
         "dtype": "int64",
         "stats": {
          "unique_count": 10,
          "nan_count": 0,
          "min": "1",
          "max": "10",
          "histogram": [
           {
            "bin_start": 1,
            "bin_end": 1.9,
            "count": 1
           },
           {
            "bin_start": 1.9,
            "bin_end": 2.8,
            "count": 1
           },
           {
            "bin_start": 2.8,
            "bin_end": 3.7,
            "count": 1
           },
           {
            "bin_start": 3.7,
            "bin_end": 4.6,
            "count": 1
           },
           {
            "bin_start": 4.6,
            "bin_end": 5.5,
            "count": 1
           },
           {
            "bin_start": 5.5,
            "bin_end": 6.4,
            "count": 1
           },
           {
            "bin_start": 6.4,
            "bin_end": 7.3,
            "count": 1
           },
           {
            "bin_start": 7.3,
            "bin_end": 8.2,
            "count": 1
           },
           {
            "bin_start": 8.2,
            "bin_end": 9.1,
            "count": 1
           },
           {
            "bin_start": 9.1,
            "bin_end": 10,
            "count": 1
           }
          ]
         }
        },
        {
         "name": "project",
         "dtype": "object",
         "stats": {
          "unique_count": 10,
          "nan_count": 0,
          "categories": [
           {
            "name": "plow",
            "count": 1
           },
           {
            "name": "n8n",
            "count": 1
           },
           {
            "name": "8 others",
            "count": 8
           }
          ]
         }
        },
        {
         "name": "language",
         "dtype": "object",
         "stats": {
          "unique_count": 4,
          "nan_count": 2,
          "categories": [
           {
            "name": "python",
            "count": 4
           },
           {
            "name": "3 others",
            "count": 4
           },
           {
            "name": "Missing",
            "count": 2
           }
          ]
         }
        },
        {
         "name": "stars",
         "dtype": "int64",
         "stats": {
          "unique_count": 10,
          "nan_count": 0,
          "min": "369",
          "max": "110768",
          "histogram": [
           {
            "bin_start": 369,
            "bin_end": 11408.9,
            "count": 8
           },
           {
            "bin_start": 11408.9,
            "bin_end": 22448.8,
            "count": 1
           },
           {
            "bin_start": 22448.8,
            "bin_end": 33488.7,
            "count": 0
           },
           {
            "bin_start": 33488.7,
            "bin_end": 44528.6,
            "count": 0
           },
           {
            "bin_start": 44528.6,
            "bin_end": 55568.5,
            "count": 0
           },
           {
            "bin_start": 55568.5,
            "bin_end": 66608.4,
            "count": 0
           },
           {
            "bin_start": 66608.4,
            "bin_end": 77648.3,
            "count": 0
           },
           {
            "bin_start": 77648.3,
            "bin_end": 88688.2,
            "count": 0
           },
           {
            "bin_start": 88688.2,
            "bin_end": 99728.09999999999,
            "count": 0
           },
           {
            "bin_start": 99728.09999999999,
            "bin_end": 110768,
            "count": 1
           }
          ]
         }
        },
        {
         "name": "stars_today",
         "dtype": "int64",
         "stats": {
          "unique_count": 10,
          "nan_count": 0,
          "min": "71",
          "max": "574",
          "histogram": [
           {
            "bin_start": 71,
            "bin_end": 121.3,
            "count": 2
           },
           {
            "bin_start": 121.3,
            "bin_end": 171.6,
            "count": 0
           },
           {
            "bin_start": 171.6,
            "bin_end": 221.89999999999998,
            "count": 1
           },
           {
            "bin_start": 221.89999999999998,
            "bin_end": 272.2,
            "count": 3
           },
           {
            "bin_start": 272.2,
            "bin_end": 322.5,
            "count": 2
           },
           {
            "bin_start": 322.5,
            "bin_end": 372.79999999999995,
            "count": 0
           },
           {
            "bin_start": 372.79999999999995,
            "bin_end": 423.09999999999997,
            "count": 1
           },
           {
            "bin_start": 423.09999999999997,
            "bin_end": 473.4,
            "count": 0
           },
           {
            "bin_start": 473.4,
            "bin_end": 523.7,
            "count": 0
           },
           {
            "bin_start": 523.7,
            "bin_end": 574,
            "count": 1
           }
          ]
         }
        },
        {
         "name": "forks",
         "dtype": "int64",
         "stats": {
          "unique_count": 10,
          "nan_count": 0,
          "min": "38",
          "max": "18331",
          "histogram": [
           {
            "bin_start": 38,
            "bin_end": 1867.3,
            "count": 9
           },
           {
            "bin_start": 1867.3,
            "bin_end": 3696.6,
            "count": 0
           },
           {
            "bin_start": 3696.6,
            "bin_end": 5525.9,
            "count": 0
           },
           {
            "bin_start": 5525.9,
            "bin_end": 7355.2,
            "count": 0
           },
           {
            "bin_start": 7355.2,
            "bin_end": 9184.5,
            "count": 0
           },
           {
            "bin_start": 9184.5,
            "bin_end": 11013.8,
            "count": 0
           },
           {
            "bin_start": 11013.8,
            "bin_end": 12843.1,
            "count": 0
           },
           {
            "bin_start": 12843.1,
            "bin_end": 14672.4,
            "count": 0
           },
           {
            "bin_start": 14672.4,
            "bin_end": 16501.7,
            "count": 0
           },
           {
            "bin_start": 16501.7,
            "bin_end": 18331,
            "count": 1
           }
          ]
         }
        },
        {
         "name": "_deepnote_index_column",
         "dtype": "int64"
        }
       ],
       "rows_top": [
        {
         "ranking": 1,
         "project": "plow",
         "language": "go",
         "stars": 1304,
         "stars_today": 574,
         "forks": 38,
         "_deepnote_index_column": 0
        },
        {
         "ranking": 2,
         "project": "n8n",
         "language": "typescript",
         "stars": 15668,
         "stars_today": 280,
         "forks": 1370,
         "_deepnote_index_column": 1
        },
        {
         "ranking": 3,
         "project": "slides",
         "language": "go",
         "stars": 3218,
         "stars_today": 265,
         "forks": 80,
         "_deepnote_index_column": 2
        },
        {
         "ranking": 4,
         "project": "defi-developer-road-map",
         "language": "nan",
         "stars": 636,
         "stars_today": 247,
         "forks": 49,
         "_deepnote_index_column": 3
        },
        {
         "ranking": 5,
         "project": "pytorch-image-models",
         "language": "python",
         "stars": 11065,
         "stars_today": 101,
         "forks": 1646,
         "_deepnote_index_column": 4
        },
        {
         "ranking": 6,
         "project": "javascript-algorithms",
         "language": "javascript",
         "stars": 110768,
         "stars_today": 248,
         "forks": 18331,
         "_deepnote_index_column": 5
        },
        {
         "ranking": 7,
         "project": "paddleclas",
         "language": "python",
         "stars": 1429,
         "stars_today": 283,
         "forks": 323,
         "_deepnote_index_column": 6
        },
        {
         "ranking": 8,
         "project": "reddit_sentiment_trader",
         "language": "python",
         "stars": 369,
         "stars_today": 71,
         "forks": 60,
         "_deepnote_index_column": 7
        },
        {
         "ranking": 9,
         "project": "augly",
         "language": "python",
         "stars": 2849,
         "stars_today": 393,
         "forks": 99,
         "_deepnote_index_column": 8
        },
        {
         "ranking": 10,
         "project": "self-taught-guide-to-cloud-computing",
         "language": "nan",
         "stars": 863,
         "stars_today": 179,
         "forks": 84,
         "_deepnote_index_column": 9
        }
       ],
       "rows_bottom": null
      },
      "text/plain": "   ranking                               project    language   stars  \\\n0        1                                  plow          go    1304   \n1        2                                   n8n  typescript   15668   \n2        3                                slides          go    3218   \n3        4               defi-developer-road-map         NaN     636   \n4        5                  pytorch-image-models      python   11065   \n5        6                 javascript-algorithms  javascript  110768   \n6        7                            paddleclas      python    1429   \n7        8               reddit_sentiment_trader      python     369   \n8        9                                 augly      python    2849   \n9       10  self-taught-guide-to-cloud-computing         NaN     863   \n\n   stars_today  forks  \n0          574     38  \n1          280   1370  \n2          265     80  \n3          247     49  \n4          101   1646  \n5          248  18331  \n6          283    323  \n7           71     60  \n8          393     99  \n9          179     84  ",
      "text/html": "<div>\n<style scoped>\n    .dataframe tbody tr th:only-of-type {\n        vertical-align: middle;\n    }\n\n    .dataframe tbody tr th {\n        vertical-align: top;\n    }\n\n    .dataframe thead th {\n        text-align: right;\n    }\n</style>\n<table border=\"1\" class=\"dataframe\">\n  <thead>\n    <tr style=\"text-align: right;\">\n      <th></th>\n      <th>ranking</th>\n      <th>project</th>\n      <th>language</th>\n      <th>stars</th>\n      <th>stars_today</th>\n      <th>forks</th>\n    </tr>\n  </thead>\n  <tbody>\n    <tr>\n      <th>0</th>\n      <td>1</td>\n      <td>plow</td>\n      <td>go</td>\n      <td>1304</td>\n      <td>574</td>\n      <td>38</td>\n    </tr>\n    <tr>\n      <th>1</th>\n      <td>2</td>\n      <td>n8n</td>\n      <td>typescript</td>\n      <td>15668</td>\n      <td>280</td>\n      <td>1370</td>\n    </tr>\n    <tr>\n      <th>2</th>\n      <td>3</td>\n      <td>slides</td>\n      <td>go</td>\n      <td>3218</td>\n      <td>265</td>\n      <td>80</td>\n    </tr>\n    <tr>\n      <th>3</th>\n      <td>4</td>\n      <td>defi-developer-road-map</td>\n      <td>NaN</td>\n      <td>636</td>\n      <td>247</td>\n      <td>49</td>\n    </tr>\n    <tr>\n      <th>4</th>\n      <td>5</td>\n      <td>pytorch-image-models</td>\n      <td>python</td>\n      <td>11065</td>\n      <td>101</td>\n      <td>1646</td>\n    </tr>\n    <tr>\n      <th>5</th>\n      <td>6</td>\n      <td>javascript-algorithms</td>\n      <td>javascript</td>\n      <td>110768</td>\n      <td>248</td>\n      <td>18331</td>\n    </tr>\n    <tr>\n      <th>6</th>\n      <td>7</td>\n      <td>paddleclas</td>\n      <td>python</td>\n      <td>1429</td>\n      <td>283</td>\n      <td>323</td>\n    </tr>\n    <tr>\n      <th>7</th>\n      <td>8</td>\n      <td>reddit_sentiment_trader</td>\n      <td>python</td>\n      <td>369</td>\n      <td>71</td>\n      <td>60</td>\n    </tr>\n    <tr>\n      <th>8</th>\n      <td>9</td>\n      <td>augly</td>\n      <td>python</td>\n      <td>2849</td>\n      <td>393</td>\n      <td>99</td>\n    </tr>\n    <tr>\n      <th>9</th>\n      <td>10</td>\n      <td>self-taught-guide-to-cloud-computing</td>\n      <td>NaN</td>\n      <td>863</td>\n      <td>179</td>\n      <td>84</td>\n    </tr>\n  </tbody>\n</table>\n</div>"
     },
     "metadata": {}
    }
   ]
  },
  {
   "cell_type": "markdown",
   "source": "## 2\\. Seleção e Filtros",
   "metadata": {
    "id": "4rRCvy_UURrM",
    "cell_id": "00044-53707ec6-708d-458b-bbe0-819a6a63bc3c",
    "deepnote_cell_type": "markdown"
   }
  },
  {
   "cell_type": "markdown",
   "source": "### **2.1. Série** ",
   "metadata": {
    "id": "78RHF81A3tat",
    "cell_id": "00045-40142030-2479-44f6-a929-bddefcbd1907",
    "deepnote_cell_type": "markdown"
   }
  },
  {
   "cell_type": "markdown",
   "source": "Uma **série** é uma **coluna** de um **dataframe**. Para selecionar uma coluna utilizamos a seguinte notação (similiar a indexação de listas Python):\n\n```python\nserie = dataframe['<nome-da-coluna>']\n```\n\n**Nota**: Repare no uso das chaves simples `[ ]`.",
   "metadata": {
    "id": "bV_cw2IibzL8",
    "cell_id": "00046-314403fa-999a-4ec7-8541-87ff13d639ee",
    "deepnote_cell_type": "markdown"
   }
  },
  {
   "cell_type": "markdown",
   "source": "*   **Exemplo**: Coluna linguagem de programação do dataframe `github_df`:",
   "metadata": {
    "id": "Lo70QSOY6Xm0",
    "cell_id": "00047-897854f6-b461-4fe3-9296-b625a8f8cfcc",
    "deepnote_cell_type": "markdown"
   }
  },
  {
   "cell_type": "code",
   "metadata": {
    "id": "0E_qlrvtayge",
    "cell_id": "00048-a742b5a4-691e-4411-9e01-fc66af1fb999",
    "deepnote_to_be_reexecuted": false,
    "source_hash": "cf6c7d97",
    "execution_start": 1639011086226,
    "execution_millis": 1,
    "deepnote_cell_type": "code"
   },
   "source": "linguagem_serie = github_df['language']",
   "execution_count": null,
   "outputs": []
  },
  {
   "cell_type": "code",
   "metadata": {
    "id": "jUGCDKX3001T",
    "cell_id": "00049-1464d872-7218-42aa-a124-bca0f354aa24",
    "deepnote_to_be_reexecuted": false,
    "source_hash": "68d44f45",
    "execution_start": 1639011091137,
    "execution_millis": 1,
    "deepnote_output_heights": [
     213.1999969482422
    ],
    "deepnote_cell_type": "code"
   },
   "source": "linguagem_serie",
   "execution_count": null,
   "outputs": [
    {
     "output_type": "execute_result",
     "execution_count": 44,
     "data": {
      "text/plain": "0            go\n1    typescript\n2            go\n3           NaN\n4        python\n5    javascript\n6        python\n7        python\n8        python\n9           NaN\nName: language, dtype: object"
     },
     "metadata": {}
    }
   ]
  },
  {
   "cell_type": "code",
   "metadata": {
    "id": "tBL9JNNJH5-X",
    "cell_id": "00050-00ad12c7-9666-4a9b-9ed7-3f45cbe388a5",
    "deepnote_to_be_reexecuted": false,
    "source_hash": "db56cd92",
    "execution_start": 1639011179397,
    "execution_millis": 225,
    "deepnote_cell_type": "code"
   },
   "source": "print(type(linguagem_serie))",
   "execution_count": null,
   "outputs": [
    {
     "name": "stdout",
     "text": "<class 'pandas.core.series.Series'>\n",
     "output_type": "stream"
    }
   ]
  },
  {
   "cell_type": "markdown",
   "source": "#### 2.1.1 Seleção ",
   "metadata": {
    "id": "hsEYdMqZ-12v",
    "cell_id": "00051-b45bc4ce-4c34-45f7-a074-b5801fc485fd",
    "deepnote_cell_type": "markdown"
   }
  },
  {
   "cell_type": "markdown",
   "source": "*   **Exemplo**: Indexação simples com método `loc` (similar a lista Python):",
   "metadata": {
    "id": "ZQ-RIHUl8I9V",
    "cell_id": "00052-48979a4f-2a95-4db2-9416-ebc9f351c638",
    "deepnote_cell_type": "markdown"
   }
  },
  {
   "cell_type": "code",
   "metadata": {
    "id": "cyzctK3f2AB7",
    "cell_id": "00053-2b873c02-bf7f-4cc8-a890-2fa8973c126a",
    "deepnote_to_be_reexecuted": false,
    "source_hash": "d2c188a",
    "execution_start": 1639011236115,
    "execution_millis": 1,
    "deepnote_cell_type": "code"
   },
   "source": "top_1_linguagem = linguagem_serie.loc[0]",
   "execution_count": null,
   "outputs": []
  },
  {
   "cell_type": "code",
   "metadata": {
    "id": "1raP2AssItoH",
    "cell_id": "00054-76ab8d6e-8efb-4590-8771-ae8b569ffe83",
    "deepnote_to_be_reexecuted": false,
    "source_hash": "a3000e17",
    "execution_start": 1639011239706,
    "execution_millis": 1,
    "deepnote_output_heights": [
     21.199996948242188
    ],
    "deepnote_cell_type": "code"
   },
   "source": "top_1_linguagem",
   "execution_count": null,
   "outputs": [
    {
     "output_type": "execute_result",
     "execution_count": 49,
     "data": {
      "text/plain": "'go'"
     },
     "metadata": {}
    }
   ]
  },
  {
   "cell_type": "code",
   "metadata": {
    "id": "yuQKYgwoIxqK",
    "cell_id": "00055-3c09aa8a-38f3-48ce-b134-fbb5ae5cbb9d",
    "deepnote_to_be_reexecuted": false,
    "source_hash": "5e8aa1fe",
    "execution_start": 1639011255844,
    "execution_millis": 3,
    "deepnote_cell_type": "code"
   },
   "source": "print(type(top_1_linguagem))",
   "execution_count": null,
   "outputs": [
    {
     "name": "stdout",
     "text": "<class 'str'>\n",
     "output_type": "stream"
    }
   ]
  },
  {
   "cell_type": "markdown",
   "source": "*   **Exemplo**: Fatiamento ou *slicing* com método `loc` (similar a lista Python):",
   "metadata": {
    "id": "EwG7rEpxASE4",
    "cell_id": "00056-2994f960-9ec4-448b-be6a-2c3eb828b47d",
    "deepnote_cell_type": "markdown"
   }
  },
  {
   "cell_type": "code",
   "metadata": {
    "id": "u22eOpJJ3Sa_",
    "cell_id": "00057-d3ddab61-20e1-49b3-a62e-d769bfd5cd8e",
    "deepnote_to_be_reexecuted": false,
    "source_hash": "839b33fe",
    "execution_start": 1639011478835,
    "execution_millis": 2,
    "deepnote_cell_type": "code"
   },
   "source": "top_5_linguagem = linguagem_serie.loc[0:5]\ntop_linguagem = list(top_5_linguagem)",
   "execution_count": null,
   "outputs": []
  },
  {
   "cell_type": "code",
   "metadata": {
    "id": "MHVFQycVI0bw",
    "cell_id": "00058-1a909fac-a33b-4193-9fd0-f146aef8f6e5",
    "deepnote_to_be_reexecuted": false,
    "source_hash": "36875f3d",
    "execution_start": 1639011480178,
    "execution_millis": 9,
    "deepnote_output_heights": [
     21.199996948242188
    ],
    "deepnote_cell_type": "code"
   },
   "source": "print(top_5_linguagem)\nprint(top_linguagem)\n",
   "execution_count": null,
   "outputs": [
    {
     "name": "stdout",
     "text": "0            go\n1    typescript\n2            go\n3           NaN\n4        python\n5    javascript\nName: language, dtype: object\n['go', 'typescript', 'go', nan, 'python', 'javascript']\n",
     "output_type": "stream"
    }
   ]
  },
  {
   "cell_type": "code",
   "metadata": {
    "id": "Py31PNbGI00p",
    "cell_id": "00059-48e8c515-255c-4bac-87e8-9dbb0467615e",
    "deepnote_to_be_reexecuted": false,
    "source_hash": "4b0df3cf",
    "execution_start": 1639011491618,
    "execution_millis": 10,
    "deepnote_cell_type": "code"
   },
   "source": "print(type(top_5_linguagem))\nprint(type(top_linguagem))",
   "execution_count": null,
   "outputs": [
    {
     "name": "stdout",
     "text": "<class 'pandas.core.series.Series'>\n<class 'list'>\n",
     "output_type": "stream"
    }
   ]
  },
  {
   "cell_type": "markdown",
   "source": "#### 2.1.2 Filtros ",
   "metadata": {
    "id": "c1w3aPRb_zyY",
    "cell_id": "00060-f85a67c7-f18b-4fa8-8434-9e6c1285bb23",
    "deepnote_cell_type": "markdown"
   }
  },
  {
   "cell_type": "markdown",
   "source": "*   **Exemplo**: Filtro funcional:",
   "metadata": {
    "id": "JpwLeL7zAakW",
    "cell_id": "00061-f4c9a708-1bac-4ee2-a78e-19e67ff73d0b",
    "deepnote_cell_type": "markdown"
   }
  },
  {
   "cell_type": "code",
   "metadata": {
    "id": "_WS0rxAZCmU-",
    "cell_id": "00062-bf9f5821-3406-44a4-abfe-c747a7905229",
    "deepnote_to_be_reexecuted": false,
    "source_hash": "f4bca5a2",
    "execution_start": 1639011661966,
    "execution_millis": 2,
    "deepnote_output_heights": [
     98
    ],
    "deepnote_cell_type": "code"
   },
   "source": "linguagem_serie[lambda linguagem: linguagem == 'python']",
   "execution_count": null,
   "outputs": [
    {
     "output_type": "execute_result",
     "execution_count": 63,
     "data": {
      "text/plain": "4    python\n6    python\n7    python\n8    python\nName: language, dtype: object"
     },
     "metadata": {}
    }
   ]
  },
  {
   "cell_type": "markdown",
   "source": "*   **Exemplo**: Filtro funcional com novos índices:",
   "metadata": {
    "id": "73n8P5ShC38f",
    "cell_id": "00063-5c21ced1-a8c4-4dd6-a474-fe6aaf54a836",
    "deepnote_cell_type": "markdown"
   }
  },
  {
   "cell_type": "code",
   "metadata": {
    "id": "d4TBy_4_B2uU",
    "cell_id": "00064-dcdb9a03-08e7-4652-b7aa-c9310ee70bac",
    "deepnote_to_be_reexecuted": false,
    "source_hash": "58f12927",
    "execution_start": 1639011715622,
    "execution_millis": 9,
    "deepnote_output_heights": [
     98
    ],
    "deepnote_cell_type": "code"
   },
   "source": "linguagem_serie[lambda linguagem: linguagem == 'python'].reset_index(drop=True)",
   "execution_count": null,
   "outputs": [
    {
     "output_type": "execute_result",
     "execution_count": 66,
     "data": {
      "text/plain": "0    python\n1    python\n2    python\n3    python\nName: language, dtype: object"
     },
     "metadata": {}
    }
   ]
  },
  {
   "cell_type": "markdown",
   "source": "### **2.2. DataFrame** ",
   "metadata": {
    "id": "fzU5v17l8kHf",
    "cell_id": "00065-ed416721-b59c-42e4-a14b-e4ff8278e385",
    "deepnote_cell_type": "markdown"
   }
  },
  {
   "cell_type": "markdown",
   "source": "Um **conjunto** de **colunas** ou **séries** é um novo **dataframe**. Para selecionar um conjunto de colunas utilizamos a seguinte notação:\n\n```python\nnovo_dataframe = dataframe[['<nome-da-coluna-a>', '<nome-da-coluna-b>', ...]]\n```\n\n**Nota**: Repare no uso das chaves duplas `[[ ]]`.",
   "metadata": {
    "id": "XC2gIbHs8kHg",
    "cell_id": "00066-8cb547da-a787-4b8c-9189-fad6029cc8ec",
    "deepnote_cell_type": "markdown"
   }
  },
  {
   "cell_type": "markdown",
   "source": "*   **Exemplo**: Colunas ranking e linguagem de programação do dataframe `github_df`:",
   "metadata": {
    "id": "W9Moi_1-9Hr4",
    "cell_id": "00067-b4b36ab3-9ae8-4630-b29f-10e0b16cbe39",
    "deepnote_cell_type": "markdown"
   }
  },
  {
   "cell_type": "code",
   "metadata": {
    "id": "dO9sVjPa9HsZ",
    "cell_id": "00068-4c6864b0-c4cd-482a-bc80-9809d852c71b",
    "deepnote_to_be_reexecuted": false,
    "source_hash": "76f344a9",
    "execution_start": 1639011829211,
    "execution_millis": 1,
    "deepnote_cell_type": "code"
   },
   "source": "ranking_linguagem_df = github_df[['ranking', 'language']]",
   "execution_count": null,
   "outputs": []
  },
  {
   "cell_type": "code",
   "metadata": {
    "id": "NqBRmkf3JEzh",
    "cell_id": "00069-9712c471-394d-4dd3-829b-2685858f9aee",
    "deepnote_to_be_reexecuted": false,
    "source_hash": "b4725a33",
    "execution_start": 1639011836034,
    "execution_millis": 24,
    "deepnote_cell_type": "code"
   },
   "source": "ranking_linguagem_df",
   "execution_count": null,
   "outputs": [
    {
     "output_type": "execute_result",
     "execution_count": 68,
     "data": {
      "application/vnd.deepnote.dataframe.v2+json": {
       "row_count": 10,
       "column_count": 2,
       "columns": [
        {
         "name": "ranking",
         "dtype": "int64",
         "stats": {
          "unique_count": 10,
          "nan_count": 0,
          "min": "1",
          "max": "10",
          "histogram": [
           {
            "bin_start": 1,
            "bin_end": 1.9,
            "count": 1
           },
           {
            "bin_start": 1.9,
            "bin_end": 2.8,
            "count": 1
           },
           {
            "bin_start": 2.8,
            "bin_end": 3.7,
            "count": 1
           },
           {
            "bin_start": 3.7,
            "bin_end": 4.6,
            "count": 1
           },
           {
            "bin_start": 4.6,
            "bin_end": 5.5,
            "count": 1
           },
           {
            "bin_start": 5.5,
            "bin_end": 6.4,
            "count": 1
           },
           {
            "bin_start": 6.4,
            "bin_end": 7.3,
            "count": 1
           },
           {
            "bin_start": 7.3,
            "bin_end": 8.2,
            "count": 1
           },
           {
            "bin_start": 8.2,
            "bin_end": 9.1,
            "count": 1
           },
           {
            "bin_start": 9.1,
            "bin_end": 10,
            "count": 1
           }
          ]
         }
        },
        {
         "name": "language",
         "dtype": "object",
         "stats": {
          "unique_count": 4,
          "nan_count": 2,
          "categories": [
           {
            "name": "python",
            "count": 4
           },
           {
            "name": "3 others",
            "count": 4
           },
           {
            "name": "Missing",
            "count": 2
           }
          ]
         }
        },
        {
         "name": "_deepnote_index_column",
         "dtype": "int64"
        }
       ],
       "rows_top": [
        {
         "ranking": 1,
         "language": "go",
         "_deepnote_index_column": 0
        },
        {
         "ranking": 2,
         "language": "typescript",
         "_deepnote_index_column": 1
        },
        {
         "ranking": 3,
         "language": "go",
         "_deepnote_index_column": 2
        },
        {
         "ranking": 4,
         "language": "nan",
         "_deepnote_index_column": 3
        },
        {
         "ranking": 5,
         "language": "python",
         "_deepnote_index_column": 4
        },
        {
         "ranking": 6,
         "language": "javascript",
         "_deepnote_index_column": 5
        },
        {
         "ranking": 7,
         "language": "python",
         "_deepnote_index_column": 6
        },
        {
         "ranking": 8,
         "language": "python",
         "_deepnote_index_column": 7
        },
        {
         "ranking": 9,
         "language": "python",
         "_deepnote_index_column": 8
        },
        {
         "ranking": 10,
         "language": "nan",
         "_deepnote_index_column": 9
        }
       ],
       "rows_bottom": null
      },
      "text/plain": "   ranking    language\n0        1          go\n1        2  typescript\n2        3          go\n3        4         NaN\n4        5      python\n5        6  javascript\n6        7      python\n7        8      python\n8        9      python\n9       10         NaN",
      "text/html": "<div>\n<style scoped>\n    .dataframe tbody tr th:only-of-type {\n        vertical-align: middle;\n    }\n\n    .dataframe tbody tr th {\n        vertical-align: top;\n    }\n\n    .dataframe thead th {\n        text-align: right;\n    }\n</style>\n<table border=\"1\" class=\"dataframe\">\n  <thead>\n    <tr style=\"text-align: right;\">\n      <th></th>\n      <th>ranking</th>\n      <th>language</th>\n    </tr>\n  </thead>\n  <tbody>\n    <tr>\n      <th>0</th>\n      <td>1</td>\n      <td>go</td>\n    </tr>\n    <tr>\n      <th>1</th>\n      <td>2</td>\n      <td>typescript</td>\n    </tr>\n    <tr>\n      <th>2</th>\n      <td>3</td>\n      <td>go</td>\n    </tr>\n    <tr>\n      <th>3</th>\n      <td>4</td>\n      <td>NaN</td>\n    </tr>\n    <tr>\n      <th>4</th>\n      <td>5</td>\n      <td>python</td>\n    </tr>\n    <tr>\n      <th>5</th>\n      <td>6</td>\n      <td>javascript</td>\n    </tr>\n    <tr>\n      <th>6</th>\n      <td>7</td>\n      <td>python</td>\n    </tr>\n    <tr>\n      <th>7</th>\n      <td>8</td>\n      <td>python</td>\n    </tr>\n    <tr>\n      <th>8</th>\n      <td>9</td>\n      <td>python</td>\n    </tr>\n    <tr>\n      <th>9</th>\n      <td>10</td>\n      <td>NaN</td>\n    </tr>\n  </tbody>\n</table>\n</div>"
     },
     "metadata": {}
    }
   ]
  },
  {
   "cell_type": "code",
   "metadata": {
    "id": "_au_4EJC9HsZ",
    "cell_id": "00070-c2fc0df2-b93d-44a9-b926-82ce66821800",
    "deepnote_to_be_reexecuted": false,
    "source_hash": "24a8bc6c",
    "execution_start": 1639011863214,
    "execution_millis": 7,
    "deepnote_cell_type": "code"
   },
   "source": "print(type(ranking_linguagem_df))",
   "execution_count": null,
   "outputs": [
    {
     "name": "stdout",
     "text": "<class 'pandas.core.frame.DataFrame'>\n",
     "output_type": "stream"
    }
   ]
  },
  {
   "cell_type": "markdown",
   "source": "#### 2.2.1 Seleção ",
   "metadata": {
    "id": "7icZ-XztJgrr",
    "cell_id": "00071-10b8d442-f534-4dbc-af5f-59a4a72cfde6",
    "deepnote_cell_type": "markdown"
   }
  },
  {
   "cell_type": "markdown",
   "source": "*   **Exemplo**: Indexação simples (linha) com método `loc` (similar a lista Python):",
   "metadata": {
    "id": "wzoCWYcpJgrt",
    "cell_id": "00072-5298636d-5788-48ab-8efb-9e9aad15e7d0",
    "deepnote_cell_type": "markdown"
   }
  },
  {
   "cell_type": "code",
   "metadata": {
    "id": "cbEVqpxQJgrt",
    "cell_id": "00073-7a4c54d9-e085-4421-b1bc-5fcdeb50dab4",
    "deepnote_to_be_reexecuted": false,
    "source_hash": "48747980",
    "execution_start": 1639012020786,
    "execution_millis": 1,
    "deepnote_cell_type": "code"
   },
   "source": "top_1_linguagem = ranking_linguagem_df.loc[0]",
   "execution_count": null,
   "outputs": []
  },
  {
   "cell_type": "code",
   "metadata": {
    "id": "qMKBxt3fJgru",
    "cell_id": "00074-b9339631-a3e0-4e85-a8d0-11c34bc8845a",
    "deepnote_to_be_reexecuted": false,
    "source_hash": "a3000e17",
    "execution_start": 1639012098640,
    "execution_millis": 84,
    "deepnote_output_heights": [
     59.600006103515625
    ],
    "deepnote_cell_type": "code"
   },
   "source": "top_1_linguagem",
   "execution_count": null,
   "outputs": [
    {
     "output_type": "execute_result",
     "execution_count": 76,
     "data": {
      "text/plain": "ranking      1\nlanguage    go\nName: 0, dtype: object"
     },
     "metadata": {}
    }
   ]
  },
  {
   "cell_type": "code",
   "metadata": {
    "id": "0hEYyLVJJgrv",
    "cell_id": "00075-888e1969-c4cd-4293-9178-62b4954eb74b",
    "deepnote_to_be_reexecuted": false,
    "source_hash": "5e8aa1fe",
    "execution_start": 1639012042111,
    "execution_millis": 5,
    "deepnote_cell_type": "code"
   },
   "source": "print(type(top_1_linguagem))",
   "execution_count": null,
   "outputs": [
    {
     "name": "stdout",
     "text": "<class 'pandas.core.series.Series'>\n",
     "output_type": "stream"
    }
   ]
  },
  {
   "cell_type": "markdown",
   "source": "*   **Exemplo**: Indexação simples (linha e coluna) com método `loc` (similar a lista Python):",
   "metadata": {
    "id": "cJlp7k7frtQn",
    "cell_id": "00076-3745b8af-509e-443f-b01c-ef3ff40c0627",
    "deepnote_cell_type": "markdown"
   }
  },
  {
   "cell_type": "code",
   "metadata": {
    "id": "ysz6K-vyrtQ3",
    "cell_id": "00077-71d5e903-d82e-4887-920d-370783cdaa7e",
    "deepnote_to_be_reexecuted": false,
    "source_hash": "f2d2fcf2",
    "execution_start": 1639012139578,
    "execution_millis": 2,
    "deepnote_cell_type": "code"
   },
   "source": "top_1_linguagem = github_df.loc[0, ['ranking', 'language']]",
   "execution_count": null,
   "outputs": []
  },
  {
   "cell_type": "code",
   "metadata": {
    "id": "NVZIAd7WrtQ3",
    "cell_id": "00078-390202e7-9817-474a-bdca-30883d87d90d",
    "deepnote_to_be_reexecuted": false,
    "source_hash": "ca0f4c95",
    "execution_start": 1639012156457,
    "execution_millis": 15,
    "deepnote_cell_type": "code"
   },
   "source": "print(top_1_linguagem)",
   "execution_count": null,
   "outputs": [
    {
     "name": "stdout",
     "text": "ranking      1\nlanguage    go\nName: 0, dtype: object\n",
     "output_type": "stream"
    }
   ]
  },
  {
   "cell_type": "code",
   "metadata": {
    "id": "BQ_vQ7jPrtQ4",
    "cell_id": "00079-ff15e480-7ca8-4c87-b2e3-d6abf4d2d297",
    "deepnote_to_be_reexecuted": false,
    "source_hash": "5e8aa1fe",
    "execution_start": 1639012146373,
    "execution_millis": 8,
    "deepnote_cell_type": "code"
   },
   "source": "print(type(top_1_linguagem))",
   "execution_count": null,
   "outputs": [
    {
     "name": "stdout",
     "text": "<class 'pandas.core.series.Series'>\n",
     "output_type": "stream"
    }
   ]
  },
  {
   "cell_type": "markdown",
   "source": "*   **Exemplo**: Fatiamento ou *slicing* (linhas) com método `loc` (similar a lista Python):",
   "metadata": {
    "id": "TY5U3yQ1Jgrv",
    "cell_id": "00080-f77c77bc-85ac-4e97-bb50-b985e162da7f",
    "deepnote_cell_type": "markdown"
   }
  },
  {
   "cell_type": "code",
   "metadata": {
    "id": "v6s_MlyaJgrw",
    "cell_id": "00081-8d1764f5-6db7-487d-9f86-78de4998c2d1",
    "deepnote_to_be_reexecuted": false,
    "source_hash": "36b99c80",
    "execution_start": 1639012204219,
    "execution_millis": 0,
    "deepnote_cell_type": "code"
   },
   "source": "top_5_ranking_linguagem = ranking_linguagem_df.loc[0:5]",
   "execution_count": null,
   "outputs": []
  },
  {
   "cell_type": "code",
   "metadata": {
    "id": "iEKc8FNJJgrx",
    "cell_id": "00082-35b163ec-e4e9-4de7-a84e-4d4545420803",
    "deepnote_to_be_reexecuted": false,
    "source_hash": "79c0032a",
    "execution_start": 1639012212482,
    "execution_millis": 7,
    "deepnote_cell_type": "code"
   },
   "source": "print(top_5_ranking_linguagem)",
   "execution_count": null,
   "outputs": [
    {
     "name": "stdout",
     "text": "   ranking    language\n0        1          go\n1        2  typescript\n2        3          go\n3        4         NaN\n4        5      python\n5        6  javascript\n",
     "output_type": "stream"
    }
   ]
  },
  {
   "cell_type": "code",
   "metadata": {
    "id": "dKtC7REkJgrx",
    "cell_id": "00083-0f373bef-826d-43a4-be27-1ba5d4a92a26",
    "deepnote_to_be_reexecuted": false,
    "source_hash": "165bca21",
    "execution_start": 1639012216799,
    "execution_millis": 184,
    "deepnote_cell_type": "code"
   },
   "source": "print(type(top_5_ranking_linguagem))",
   "execution_count": null,
   "outputs": [
    {
     "name": "stdout",
     "text": "<class 'pandas.core.frame.DataFrame'>\n",
     "output_type": "stream"
    }
   ]
  },
  {
   "cell_type": "markdown",
   "source": "*   **Exemplo**: Fatiamento ou *slicing* (linhas e colunas) com método `loc` (similar a lista Python):",
   "metadata": {
    "id": "adXhM2I3rPY3",
    "cell_id": "00084-a6709944-cf76-4a08-a15f-dc350ae1382d",
    "deepnote_cell_type": "markdown"
   }
  },
  {
   "cell_type": "code",
   "metadata": {
    "id": "9K7CVUcirPY4",
    "cell_id": "00085-03997dd4-cc33-411a-8534-3a7fe96fe012",
    "deepnote_to_be_reexecuted": false,
    "source_hash": "df8222e9",
    "execution_start": 1639012244263,
    "execution_millis": 0,
    "deepnote_cell_type": "code"
   },
   "source": "top_5_ranking_linguagem = github_df.loc[0:5, ['ranking', 'language']]",
   "execution_count": null,
   "outputs": []
  },
  {
   "cell_type": "code",
   "metadata": {
    "id": "QoWCUYqCrPY5",
    "cell_id": "00086-e87b7f4e-86e6-43ad-b1c8-92d2b3144234",
    "deepnote_to_be_reexecuted": false,
    "source_hash": "79c0032a",
    "execution_start": 1639012248835,
    "execution_millis": 153,
    "deepnote_cell_type": "code"
   },
   "source": "print(top_5_ranking_linguagem)",
   "execution_count": null,
   "outputs": [
    {
     "name": "stdout",
     "text": "   ranking    language\n0        1          go\n1        2  typescript\n2        3          go\n3        4         NaN\n4        5      python\n5        6  javascript\n",
     "output_type": "stream"
    }
   ]
  },
  {
   "cell_type": "code",
   "metadata": {
    "id": "TQYc9mkkrPY6",
    "cell_id": "00087-6219d8a7-2920-4b1c-b9b6-f5ef144c27f0",
    "deepnote_to_be_reexecuted": false,
    "source_hash": "165bca21",
    "execution_start": 1639012253378,
    "execution_millis": 259,
    "deepnote_cell_type": "code"
   },
   "source": "print(type(top_5_ranking_linguagem))",
   "execution_count": null,
   "outputs": [
    {
     "name": "stdout",
     "text": "<class 'pandas.core.frame.DataFrame'>\n",
     "output_type": "stream"
    }
   ]
  },
  {
   "cell_type": "markdown",
   "source": "#### 2.2.2 Filtros ",
   "metadata": {
    "id": "72pCKmpiJgry",
    "cell_id": "00088-3c380c84-5598-40b4-b786-6cf789b179b6",
    "deepnote_cell_type": "markdown"
   }
  },
  {
   "cell_type": "markdown",
   "source": "*   **Exemplo**: Filtro com o método `query`:",
   "metadata": {
    "id": "o3Ozx__8Jgrz",
    "cell_id": "00089-ee0b9150-3343-46d4-ad38-a79c2512e8d0",
    "deepnote_cell_type": "markdown"
   }
  },
  {
   "cell_type": "code",
   "metadata": {
    "id": "ZwKbySk_Jgr0",
    "cell_id": "00090-11d4cee3-a565-497e-8635-c2262bddcbf3",
    "deepnote_to_be_reexecuted": false,
    "source_hash": "2e01638b",
    "execution_start": 1639012333043,
    "execution_millis": 2,
    "deepnote_cell_type": "code"
   },
   "source": "ranking_linguagem_df.query('language == \"python\"')",
   "execution_count": null,
   "outputs": [
    {
     "output_type": "execute_result",
     "execution_count": 90,
     "data": {
      "application/vnd.deepnote.dataframe.v2+json": {
       "row_count": 4,
       "column_count": 2,
       "columns": [
        {
         "name": "ranking",
         "dtype": "int64",
         "stats": {
          "unique_count": 4,
          "nan_count": 0,
          "min": "5",
          "max": "9",
          "histogram": [
           {
            "bin_start": 5,
            "bin_end": 5.4,
            "count": 1
           },
           {
            "bin_start": 5.4,
            "bin_end": 5.8,
            "count": 0
           },
           {
            "bin_start": 5.8,
            "bin_end": 6.2,
            "count": 0
           },
           {
            "bin_start": 6.2,
            "bin_end": 6.6,
            "count": 0
           },
           {
            "bin_start": 6.6,
            "bin_end": 7,
            "count": 0
           },
           {
            "bin_start": 7,
            "bin_end": 7.4,
            "count": 1
           },
           {
            "bin_start": 7.4,
            "bin_end": 7.800000000000001,
            "count": 0
           },
           {
            "bin_start": 7.800000000000001,
            "bin_end": 8.2,
            "count": 1
           },
           {
            "bin_start": 8.2,
            "bin_end": 8.6,
            "count": 0
           },
           {
            "bin_start": 8.6,
            "bin_end": 9,
            "count": 1
           }
          ]
         }
        },
        {
         "name": "language",
         "dtype": "object",
         "stats": {
          "unique_count": 1,
          "nan_count": 0,
          "categories": [
           {
            "name": "python",
            "count": 4
           }
          ]
         }
        },
        {
         "name": "_deepnote_index_column",
         "dtype": "int64"
        }
       ],
       "rows_top": [
        {
         "ranking": 5,
         "language": "python",
         "_deepnote_index_column": 4
        },
        {
         "ranking": 7,
         "language": "python",
         "_deepnote_index_column": 6
        },
        {
         "ranking": 8,
         "language": "python",
         "_deepnote_index_column": 7
        },
        {
         "ranking": 9,
         "language": "python",
         "_deepnote_index_column": 8
        }
       ],
       "rows_bottom": null
      },
      "text/plain": "   ranking language\n4        5   python\n6        7   python\n7        8   python\n8        9   python",
      "text/html": "<div>\n<style scoped>\n    .dataframe tbody tr th:only-of-type {\n        vertical-align: middle;\n    }\n\n    .dataframe tbody tr th {\n        vertical-align: top;\n    }\n\n    .dataframe thead th {\n        text-align: right;\n    }\n</style>\n<table border=\"1\" class=\"dataframe\">\n  <thead>\n    <tr style=\"text-align: right;\">\n      <th></th>\n      <th>ranking</th>\n      <th>language</th>\n    </tr>\n  </thead>\n  <tbody>\n    <tr>\n      <th>4</th>\n      <td>5</td>\n      <td>python</td>\n    </tr>\n    <tr>\n      <th>6</th>\n      <td>7</td>\n      <td>python</td>\n    </tr>\n    <tr>\n      <th>7</th>\n      <td>8</td>\n      <td>python</td>\n    </tr>\n    <tr>\n      <th>8</th>\n      <td>9</td>\n      <td>python</td>\n    </tr>\n  </tbody>\n</table>\n</div>"
     },
     "metadata": {}
    }
   ]
  },
  {
   "cell_type": "code",
   "metadata": {
    "id": "W_rWrIk6K1gQ",
    "cell_id": "00091-8380598d-38ec-4f9a-a8e3-9392072b43b8",
    "deepnote_to_be_reexecuted": false,
    "source_hash": "44fe00dd",
    "execution_start": 1639012468130,
    "execution_millis": 264,
    "deepnote_cell_type": "code"
   },
   "source": "ranking_linguagem_df.query('language == \"python\" & ranking > 5')",
   "execution_count": null,
   "outputs": [
    {
     "output_type": "execute_result",
     "execution_count": 91,
     "data": {
      "application/vnd.deepnote.dataframe.v2+json": {
       "row_count": 3,
       "column_count": 2,
       "columns": [
        {
         "name": "ranking",
         "dtype": "int64",
         "stats": {
          "unique_count": 3,
          "nan_count": 0,
          "min": "7",
          "max": "9",
          "histogram": [
           {
            "bin_start": 7,
            "bin_end": 7.2,
            "count": 1
           },
           {
            "bin_start": 7.2,
            "bin_end": 7.4,
            "count": 0
           },
           {
            "bin_start": 7.4,
            "bin_end": 7.6,
            "count": 0
           },
           {
            "bin_start": 7.6,
            "bin_end": 7.8,
            "count": 0
           },
           {
            "bin_start": 7.8,
            "bin_end": 8,
            "count": 0
           },
           {
            "bin_start": 8,
            "bin_end": 8.2,
            "count": 1
           },
           {
            "bin_start": 8.2,
            "bin_end": 8.4,
            "count": 0
           },
           {
            "bin_start": 8.4,
            "bin_end": 8.6,
            "count": 0
           },
           {
            "bin_start": 8.6,
            "bin_end": 8.8,
            "count": 0
           },
           {
            "bin_start": 8.8,
            "bin_end": 9,
            "count": 1
           }
          ]
         }
        },
        {
         "name": "language",
         "dtype": "object",
         "stats": {
          "unique_count": 1,
          "nan_count": 0,
          "categories": [
           {
            "name": "python",
            "count": 3
           }
          ]
         }
        },
        {
         "name": "_deepnote_index_column",
         "dtype": "int64"
        }
       ],
       "rows_top": [
        {
         "ranking": 7,
         "language": "python",
         "_deepnote_index_column": 6
        },
        {
         "ranking": 8,
         "language": "python",
         "_deepnote_index_column": 7
        },
        {
         "ranking": 9,
         "language": "python",
         "_deepnote_index_column": 8
        }
       ],
       "rows_bottom": null
      },
      "text/plain": "   ranking language\n6        7   python\n7        8   python\n8        9   python",
      "text/html": "<div>\n<style scoped>\n    .dataframe tbody tr th:only-of-type {\n        vertical-align: middle;\n    }\n\n    .dataframe tbody tr th {\n        vertical-align: top;\n    }\n\n    .dataframe thead th {\n        text-align: right;\n    }\n</style>\n<table border=\"1\" class=\"dataframe\">\n  <thead>\n    <tr style=\"text-align: right;\">\n      <th></th>\n      <th>ranking</th>\n      <th>language</th>\n    </tr>\n  </thead>\n  <tbody>\n    <tr>\n      <th>6</th>\n      <td>7</td>\n      <td>python</td>\n    </tr>\n    <tr>\n      <th>7</th>\n      <td>8</td>\n      <td>python</td>\n    </tr>\n    <tr>\n      <th>8</th>\n      <td>9</td>\n      <td>python</td>\n    </tr>\n  </tbody>\n</table>\n</div>"
     },
     "metadata": {}
    }
   ]
  },
  {
   "cell_type": "code",
   "metadata": {
    "id": "ufvbnj5PK9Ca",
    "cell_id": "00092-a908844e-646a-4049-a12f-2da8eb135368",
    "deepnote_to_be_reexecuted": false,
    "source_hash": "6725526b",
    "execution_start": 1639012473251,
    "execution_millis": 7,
    "deepnote_cell_type": "code"
   },
   "source": "ranking_linguagem_df.query('language == \"python\" | language == \"go\"')",
   "execution_count": null,
   "outputs": [
    {
     "output_type": "execute_result",
     "execution_count": 92,
     "data": {
      "application/vnd.deepnote.dataframe.v2+json": {
       "row_count": 6,
       "column_count": 2,
       "columns": [
        {
         "name": "ranking",
         "dtype": "int64",
         "stats": {
          "unique_count": 6,
          "nan_count": 0,
          "min": "1",
          "max": "9",
          "histogram": [
           {
            "bin_start": 1,
            "bin_end": 1.8,
            "count": 1
           },
           {
            "bin_start": 1.8,
            "bin_end": 2.6,
            "count": 0
           },
           {
            "bin_start": 2.6,
            "bin_end": 3.4000000000000004,
            "count": 1
           },
           {
            "bin_start": 3.4000000000000004,
            "bin_end": 4.2,
            "count": 0
           },
           {
            "bin_start": 4.2,
            "bin_end": 5,
            "count": 0
           },
           {
            "bin_start": 5,
            "bin_end": 5.800000000000001,
            "count": 1
           },
           {
            "bin_start": 5.800000000000001,
            "bin_end": 6.6000000000000005,
            "count": 0
           },
           {
            "bin_start": 6.6000000000000005,
            "bin_end": 7.4,
            "count": 1
           },
           {
            "bin_start": 7.4,
            "bin_end": 8.2,
            "count": 1
           },
           {
            "bin_start": 8.2,
            "bin_end": 9,
            "count": 1
           }
          ]
         }
        },
        {
         "name": "language",
         "dtype": "object",
         "stats": {
          "unique_count": 2,
          "nan_count": 0,
          "categories": [
           {
            "name": "python",
            "count": 4
           },
           {
            "name": "go",
            "count": 2
           }
          ]
         }
        },
        {
         "name": "_deepnote_index_column",
         "dtype": "int64"
        }
       ],
       "rows_top": [
        {
         "ranking": 1,
         "language": "go",
         "_deepnote_index_column": 0
        },
        {
         "ranking": 3,
         "language": "go",
         "_deepnote_index_column": 2
        },
        {
         "ranking": 5,
         "language": "python",
         "_deepnote_index_column": 4
        },
        {
         "ranking": 7,
         "language": "python",
         "_deepnote_index_column": 6
        },
        {
         "ranking": 8,
         "language": "python",
         "_deepnote_index_column": 7
        },
        {
         "ranking": 9,
         "language": "python",
         "_deepnote_index_column": 8
        }
       ],
       "rows_bottom": null
      },
      "text/plain": "   ranking language\n0        1       go\n2        3       go\n4        5   python\n6        7   python\n7        8   python\n8        9   python",
      "text/html": "<div>\n<style scoped>\n    .dataframe tbody tr th:only-of-type {\n        vertical-align: middle;\n    }\n\n    .dataframe tbody tr th {\n        vertical-align: top;\n    }\n\n    .dataframe thead th {\n        text-align: right;\n    }\n</style>\n<table border=\"1\" class=\"dataframe\">\n  <thead>\n    <tr style=\"text-align: right;\">\n      <th></th>\n      <th>ranking</th>\n      <th>language</th>\n    </tr>\n  </thead>\n  <tbody>\n    <tr>\n      <th>0</th>\n      <td>1</td>\n      <td>go</td>\n    </tr>\n    <tr>\n      <th>2</th>\n      <td>3</td>\n      <td>go</td>\n    </tr>\n    <tr>\n      <th>4</th>\n      <td>5</td>\n      <td>python</td>\n    </tr>\n    <tr>\n      <th>6</th>\n      <td>7</td>\n      <td>python</td>\n    </tr>\n    <tr>\n      <th>7</th>\n      <td>8</td>\n      <td>python</td>\n    </tr>\n    <tr>\n      <th>8</th>\n      <td>9</td>\n      <td>python</td>\n    </tr>\n  </tbody>\n</table>\n</div>"
     },
     "metadata": {}
    }
   ]
  },
  {
   "cell_type": "markdown",
   "source": "## 3\\. Inserção, Deleção e Atualização",
   "metadata": {
    "id": "ELgoMRAAUSjv",
    "cell_id": "00093-7d44386d-1e54-4193-a63c-87efb7fefaaa",
    "deepnote_cell_type": "markdown"
   }
  },
  {
   "cell_type": "markdown",
   "source": "### **3.1. Série** ",
   "metadata": {
    "id": "gdukZft-DRcG",
    "cell_id": "00094-65c792b1-eec0-4ad9-b661-9a48d670730b",
    "deepnote_cell_type": "markdown"
   }
  },
  {
   "cell_type": "markdown",
   "source": "#### 3.1.1 Inserção ",
   "metadata": {
    "id": "z--x9j7jNMFw",
    "cell_id": "00095-bea0bf85-9408-4cca-aeeb-0103e76e617b",
    "deepnote_cell_type": "markdown"
   }
  },
  {
   "cell_type": "markdown",
   "source": "*   **Exemplo**: Adição de elementos com o método `append`:",
   "metadata": {
    "id": "owu5-rt-OW3D",
    "cell_id": "00096-79deef85-d45a-4566-958f-62eaf76dfb9e",
    "deepnote_cell_type": "markdown"
   }
  },
  {
   "cell_type": "code",
   "metadata": {
    "id": "yjlgmbEVMsMo",
    "cell_id": "00097-42a2a2cd-64ad-4f36-9156-c4bd3da9396c",
    "deepnote_to_be_reexecuted": false,
    "source_hash": "9f898c78",
    "execution_start": 1639012970786,
    "execution_millis": 3,
    "deepnote_output_heights": [
     251.60000610351562
    ],
    "deepnote_cell_type": "code"
   },
   "source": "linguagem_serie.append(pd.Series(['java', 'python']), ignore_index=True)",
   "execution_count": null,
   "outputs": [
    {
     "output_type": "execute_result",
     "execution_count": 93,
     "data": {
      "text/plain": "0             go\n1     typescript\n2             go\n3            NaN\n4         python\n5     javascript\n6         python\n7         python\n8         python\n9            NaN\n10          java\n11        python\ndtype: object"
     },
     "metadata": {}
    }
   ]
  },
  {
   "cell_type": "code",
   "metadata": {
    "id": "_7nq9EE_NXbD",
    "cell_id": "00098-e44e9980-c82f-4f17-bfa7-7809d8d6d6a9",
    "deepnote_to_be_reexecuted": false,
    "source_hash": "122370d3",
    "execution_start": 1639012993014,
    "execution_millis": 5,
    "deepnote_cell_type": "code"
   },
   "source": "print(linguagem_serie)",
   "execution_count": null,
   "outputs": [
    {
     "name": "stdout",
     "text": "0            go\n1    typescript\n2            go\n3           NaN\n4        python\n5    javascript\n6        python\n7        python\n8        python\n9           NaN\nName: language, dtype: object\n",
     "output_type": "stream"
    }
   ]
  },
  {
   "cell_type": "code",
   "metadata": {
    "id": "k5lf6ReZNbjK",
    "cell_id": "00099-0fccfb3d-d640-498b-b4f2-2fd56de6785f",
    "deepnote_to_be_reexecuted": false,
    "source_hash": "4fc86381",
    "execution_start": 1639013032787,
    "execution_millis": 0,
    "deepnote_cell_type": "code"
   },
   "source": "linguagem_serie = linguagem_serie.append(pd.Series('java'), ignore_index=True)",
   "execution_count": null,
   "outputs": []
  },
  {
   "cell_type": "code",
   "metadata": {
    "id": "PbLmkBtBNnus",
    "cell_id": "00100-9d299a11-546b-4f24-943b-bf7c8ec77d35",
    "deepnote_to_be_reexecuted": false,
    "source_hash": "122370d3",
    "execution_start": 1639013042583,
    "execution_millis": 8,
    "deepnote_cell_type": "code"
   },
   "source": "print(linguagem_serie)",
   "execution_count": null,
   "outputs": [
    {
     "name": "stdout",
     "text": "0             go\n1     typescript\n2             go\n3            NaN\n4         python\n5     javascript\n6         python\n7         python\n8         python\n9            NaN\n10          java\n11          java\ndtype: object\n",
     "output_type": "stream"
    }
   ]
  },
  {
   "cell_type": "markdown",
   "source": "#### 3.1.2 Deleção ",
   "metadata": {
    "id": "bUB9ylHuN2rG",
    "cell_id": "00101-a2103265-4a23-48db-97bc-e0dee919c640",
    "deepnote_cell_type": "markdown"
   }
  },
  {
   "cell_type": "markdown",
   "source": "*   **Exemplo**: Remoção de elementos com filtro funcional:",
   "metadata": {
    "id": "tMakhpZBOlOS",
    "cell_id": "00102-83e0902a-663e-4341-aa23-cb4231ba3cdb",
    "deepnote_cell_type": "markdown"
   }
  },
  {
   "cell_type": "code",
   "metadata": {
    "id": "AQJkyhOHOMtA",
    "cell_id": "00103-f412c7ba-d272-478a-b5c5-23bff9a8d191",
    "deepnote_to_be_reexecuted": false,
    "source_hash": "505b482a",
    "execution_start": 1639013099625,
    "execution_millis": 11,
    "deepnote_cell_type": "code"
   },
   "source": "linguagem_serie = linguagem_serie[lambda linguagem: linguagem != 'python']\nprint(linguagem_serie)",
   "execution_count": null,
   "outputs": [
    {
     "name": "stdout",
     "text": "0             go\n1     typescript\n2             go\n3            NaN\n5     javascript\n9            NaN\n10          java\n11          java\ndtype: object\n",
     "output_type": "stream"
    }
   ]
  },
  {
   "cell_type": "markdown",
   "source": "#### 3.1.3 Atualização ",
   "metadata": {
    "id": "4YEeM0bHQPLY",
    "cell_id": "00104-603a6416-65b3-49e2-951c-e7ca47a50e36",
    "deepnote_cell_type": "markdown"
   }
  },
  {
   "cell_type": "markdown",
   "source": "*   **Exemplo**: Atualização de elementos com indexação simples:",
   "metadata": {
    "id": "GM9HuwszQeBA",
    "cell_id": "00105-bcd8e2cd-65d0-4ed9-9282-f33840a444d1",
    "deepnote_cell_type": "markdown"
   }
  },
  {
   "cell_type": "code",
   "metadata": {
    "id": "UKOqx-xMQcz7",
    "cell_id": "00106-79513fb6-7d8b-4332-9e74-990123b25854",
    "deepnote_to_be_reexecuted": false,
    "source_hash": "52f91eff",
    "execution_start": 1639013124821,
    "execution_millis": 1,
    "deepnote_cell_type": "code"
   },
   "source": "linguagem_serie.loc[0] = 'Go'",
   "execution_count": null,
   "outputs": []
  },
  {
   "cell_type": "code",
   "metadata": {
    "id": "_G82hlrnQlAj",
    "cell_id": "00107-00862041-797e-4442-83e2-911632193f9b",
    "deepnote_to_be_reexecuted": false,
    "source_hash": "122370d3",
    "execution_start": 1639013129024,
    "execution_millis": 14,
    "deepnote_cell_type": "code"
   },
   "source": "print(linguagem_serie)",
   "execution_count": null,
   "outputs": [
    {
     "name": "stdout",
     "text": "0             Go\n1     typescript\n2             go\n3            NaN\n5     javascript\n9            NaN\n10          java\n11          java\ndtype: object\n",
     "output_type": "stream"
    }
   ]
  },
  {
   "cell_type": "markdown",
   "source": "*   **Exemplo**: Atualização de elementos com fatiamento ou *slicing*:",
   "metadata": {
    "id": "_wwufN-BQoaL",
    "cell_id": "00108-77247e44-9e60-4a2e-b2ce-52f64eb87b82",
    "deepnote_cell_type": "markdown"
   }
  },
  {
   "cell_type": "code",
   "metadata": {
    "id": "VyY2zhOoQoaN",
    "cell_id": "00109-9ec7e0e3-7b07-4985-9ffa-9bfe3e961d3c",
    "deepnote_to_be_reexecuted": false,
    "source_hash": "8b13543d",
    "execution_start": 1639013170767,
    "execution_millis": 1,
    "deepnote_cell_type": "code"
   },
   "source": "linguagem_serie.loc[0:2] = pd.Series(['Go', 'Typescript', 'Go'])",
   "execution_count": null,
   "outputs": []
  },
  {
   "cell_type": "code",
   "metadata": {
    "id": "xtsTMdm1QoaO",
    "cell_id": "00110-93a68c91-7691-40be-ae21-e0e9605318fb",
    "deepnote_to_be_reexecuted": false,
    "source_hash": "122370d3",
    "execution_start": 1639013176061,
    "execution_millis": 179,
    "deepnote_cell_type": "code"
   },
   "source": "print(linguagem_serie)",
   "execution_count": null,
   "outputs": [
    {
     "name": "stdout",
     "text": "0             Go\n1     Typescript\n2             Go\n3            NaN\n5     javascript\n9            NaN\n10          java\n11          java\ndtype: object\n",
     "output_type": "stream"
    }
   ]
  },
  {
   "cell_type": "markdown",
   "source": "*   **Exemplo**: Atualização de elementos com filtro funcional:",
   "metadata": {
    "id": "inQ16Lp-QPLZ",
    "cell_id": "00111-514a419b-e610-4887-b0b0-a300b15540e7",
    "deepnote_cell_type": "markdown"
   }
  },
  {
   "cell_type": "code",
   "metadata": {
    "id": "VVOTdQzaQPLa",
    "cell_id": "00112-9d7ead7d-f770-41c1-b0df-8337b716508a",
    "deepnote_to_be_reexecuted": false,
    "source_hash": "c9a1c21c",
    "execution_start": 1639013216977,
    "execution_millis": 1,
    "deepnote_cell_type": "code"
   },
   "source": "linguagem_serie[lambda linguagem: linguagem == 'python'] = 'Python'",
   "execution_count": null,
   "outputs": []
  },
  {
   "cell_type": "code",
   "metadata": {
    "id": "aOWzgPkVQXS8",
    "cell_id": "00113-1137901a-13d0-4d79-a2a8-56eadf5749a3",
    "deepnote_to_be_reexecuted": false,
    "source_hash": "122370d3",
    "execution_start": 1639013220254,
    "execution_millis": 13,
    "deepnote_cell_type": "code"
   },
   "source": "print(linguagem_serie)",
   "execution_count": null,
   "outputs": [
    {
     "name": "stdout",
     "text": "0             Go\n1     Typescript\n2             Go\n3            NaN\n5     javascript\n9            NaN\n10          java\n11          java\ndtype: object\n",
     "output_type": "stream"
    }
   ]
  },
  {
   "cell_type": "markdown",
   "source": "### **3.2. DataFrame** ",
   "metadata": {
    "id": "j611vH5T17VR",
    "cell_id": "00114-3730a24d-ef6d-4660-b6db-2409ace73788",
    "deepnote_cell_type": "markdown"
   }
  },
  {
   "cell_type": "markdown",
   "source": "#### 3.1.1 Inserção ",
   "metadata": {
    "id": "fNrHY7J417Ve",
    "cell_id": "00115-8e7b716b-81c8-427e-be66-0e206b5381e1",
    "deepnote_cell_type": "markdown"
   }
  },
  {
   "cell_type": "markdown",
   "source": "*   **Exemplo**: Adição de linhas com o método `append`:",
   "metadata": {
    "id": "_oYYwO3N17Ve",
    "cell_id": "00116-d1a3320f-1801-4dd6-84ea-37658f6d6426",
    "deepnote_cell_type": "markdown"
   }
  },
  {
   "cell_type": "code",
   "metadata": {
    "id": "zuQqbatS3WSi",
    "cell_id": "00117-c50b1763-4a51-4e92-b1cf-caa4d5092842",
    "deepnote_to_be_reexecuted": false,
    "source_hash": "cbf5586c",
    "execution_start": 1639013377422,
    "execution_millis": 1,
    "deepnote_cell_type": "code"
   },
   "source": "projeto = dict(ranking=[11], project=['signoz'], language=['typescript'], stars=[2651], stars_today=[491], forks=[115])",
   "execution_count": null,
   "outputs": []
  },
  {
   "cell_type": "code",
   "metadata": {
    "id": "pVbfeSbBq8Th",
    "cell_id": "00118-d9a89a1b-4722-4693-919a-216f56b655d8",
    "deepnote_to_be_reexecuted": false,
    "source_hash": "9a3545e9",
    "execution_start": 1639013380645,
    "execution_millis": 201,
    "deepnote_cell_type": "code"
   },
   "source": "github_df.append(pd.DataFrame(projeto), ignore_index=True)",
   "execution_count": null,
   "outputs": [
    {
     "output_type": "execute_result",
     "execution_count": 110,
     "data": {
      "application/vnd.deepnote.dataframe.v2+json": {
       "row_count": 11,
       "column_count": 6,
       "columns": [
        {
         "name": "ranking",
         "dtype": "int64",
         "stats": {
          "unique_count": 11,
          "nan_count": 0,
          "min": "1",
          "max": "11",
          "histogram": [
           {
            "bin_start": 1,
            "bin_end": 2,
            "count": 1
           },
           {
            "bin_start": 2,
            "bin_end": 3,
            "count": 1
           },
           {
            "bin_start": 3,
            "bin_end": 4,
            "count": 1
           },
           {
            "bin_start": 4,
            "bin_end": 5,
            "count": 1
           },
           {
            "bin_start": 5,
            "bin_end": 6,
            "count": 1
           },
           {
            "bin_start": 6,
            "bin_end": 7,
            "count": 1
           },
           {
            "bin_start": 7,
            "bin_end": 8,
            "count": 1
           },
           {
            "bin_start": 8,
            "bin_end": 9,
            "count": 1
           },
           {
            "bin_start": 9,
            "bin_end": 10,
            "count": 1
           },
           {
            "bin_start": 10,
            "bin_end": 11,
            "count": 2
           }
          ]
         }
        },
        {
         "name": "project",
         "dtype": "object",
         "stats": {
          "unique_count": 11,
          "nan_count": 0,
          "categories": [
           {
            "name": "plow",
            "count": 1
           },
           {
            "name": "n8n",
            "count": 1
           },
           {
            "name": "9 others",
            "count": 9
           }
          ]
         }
        },
        {
         "name": "language",
         "dtype": "object",
         "stats": {
          "unique_count": 4,
          "nan_count": 2,
          "categories": [
           {
            "name": "python",
            "count": 4
           },
           {
            "name": "3 others",
            "count": 5
           },
           {
            "name": "Missing",
            "count": 2
           }
          ]
         }
        },
        {
         "name": "stars",
         "dtype": "int64",
         "stats": {
          "unique_count": 11,
          "nan_count": 0,
          "min": "369",
          "max": "110768",
          "histogram": [
           {
            "bin_start": 369,
            "bin_end": 11408.9,
            "count": 9
           },
           {
            "bin_start": 11408.9,
            "bin_end": 22448.8,
            "count": 1
           },
           {
            "bin_start": 22448.8,
            "bin_end": 33488.7,
            "count": 0
           },
           {
            "bin_start": 33488.7,
            "bin_end": 44528.6,
            "count": 0
           },
           {
            "bin_start": 44528.6,
            "bin_end": 55568.5,
            "count": 0
           },
           {
            "bin_start": 55568.5,
            "bin_end": 66608.4,
            "count": 0
           },
           {
            "bin_start": 66608.4,
            "bin_end": 77648.3,
            "count": 0
           },
           {
            "bin_start": 77648.3,
            "bin_end": 88688.2,
            "count": 0
           },
           {
            "bin_start": 88688.2,
            "bin_end": 99728.09999999999,
            "count": 0
           },
           {
            "bin_start": 99728.09999999999,
            "bin_end": 110768,
            "count": 1
           }
          ]
         }
        },
        {
         "name": "stars_today",
         "dtype": "int64",
         "stats": {
          "unique_count": 11,
          "nan_count": 0,
          "min": "71",
          "max": "574",
          "histogram": [
           {
            "bin_start": 71,
            "bin_end": 121.3,
            "count": 2
           },
           {
            "bin_start": 121.3,
            "bin_end": 171.6,
            "count": 0
           },
           {
            "bin_start": 171.6,
            "bin_end": 221.89999999999998,
            "count": 1
           },
           {
            "bin_start": 221.89999999999998,
            "bin_end": 272.2,
            "count": 3
           },
           {
            "bin_start": 272.2,
            "bin_end": 322.5,
            "count": 2
           },
           {
            "bin_start": 322.5,
            "bin_end": 372.79999999999995,
            "count": 0
           },
           {
            "bin_start": 372.79999999999995,
            "bin_end": 423.09999999999997,
            "count": 1
           },
           {
            "bin_start": 423.09999999999997,
            "bin_end": 473.4,
            "count": 0
           },
           {
            "bin_start": 473.4,
            "bin_end": 523.7,
            "count": 1
           },
           {
            "bin_start": 523.7,
            "bin_end": 574,
            "count": 1
           }
          ]
         }
        },
        {
         "name": "forks",
         "dtype": "int64",
         "stats": {
          "unique_count": 11,
          "nan_count": 0,
          "min": "38",
          "max": "18331",
          "histogram": [
           {
            "bin_start": 38,
            "bin_end": 1867.3,
            "count": 10
           },
           {
            "bin_start": 1867.3,
            "bin_end": 3696.6,
            "count": 0
           },
           {
            "bin_start": 3696.6,
            "bin_end": 5525.9,
            "count": 0
           },
           {
            "bin_start": 5525.9,
            "bin_end": 7355.2,
            "count": 0
           },
           {
            "bin_start": 7355.2,
            "bin_end": 9184.5,
            "count": 0
           },
           {
            "bin_start": 9184.5,
            "bin_end": 11013.8,
            "count": 0
           },
           {
            "bin_start": 11013.8,
            "bin_end": 12843.1,
            "count": 0
           },
           {
            "bin_start": 12843.1,
            "bin_end": 14672.4,
            "count": 0
           },
           {
            "bin_start": 14672.4,
            "bin_end": 16501.7,
            "count": 0
           },
           {
            "bin_start": 16501.7,
            "bin_end": 18331,
            "count": 1
           }
          ]
         }
        },
        {
         "name": "_deepnote_index_column",
         "dtype": "int64"
        }
       ],
       "rows_top": [
        {
         "ranking": 1,
         "project": "plow",
         "language": "go",
         "stars": 1304,
         "stars_today": 574,
         "forks": 38,
         "_deepnote_index_column": 0
        },
        {
         "ranking": 2,
         "project": "n8n",
         "language": "typescript",
         "stars": 15668,
         "stars_today": 280,
         "forks": 1370,
         "_deepnote_index_column": 1
        },
        {
         "ranking": 3,
         "project": "slides",
         "language": "go",
         "stars": 3218,
         "stars_today": 265,
         "forks": 80,
         "_deepnote_index_column": 2
        },
        {
         "ranking": 4,
         "project": "defi-developer-road-map",
         "language": "nan",
         "stars": 636,
         "stars_today": 247,
         "forks": 49,
         "_deepnote_index_column": 3
        },
        {
         "ranking": 5,
         "project": "pytorch-image-models",
         "language": "python",
         "stars": 11065,
         "stars_today": 101,
         "forks": 1646,
         "_deepnote_index_column": 4
        },
        {
         "ranking": 6,
         "project": "javascript-algorithms",
         "language": "javascript",
         "stars": 110768,
         "stars_today": 248,
         "forks": 18331,
         "_deepnote_index_column": 5
        },
        {
         "ranking": 7,
         "project": "paddleclas",
         "language": "python",
         "stars": 1429,
         "stars_today": 283,
         "forks": 323,
         "_deepnote_index_column": 6
        },
        {
         "ranking": 8,
         "project": "reddit_sentiment_trader",
         "language": "python",
         "stars": 369,
         "stars_today": 71,
         "forks": 60,
         "_deepnote_index_column": 7
        },
        {
         "ranking": 9,
         "project": "augly",
         "language": "python",
         "stars": 2849,
         "stars_today": 393,
         "forks": 99,
         "_deepnote_index_column": 8
        },
        {
         "ranking": 10,
         "project": "self-taught-guide-to-cloud-computing",
         "language": "nan",
         "stars": 863,
         "stars_today": 179,
         "forks": 84,
         "_deepnote_index_column": 9
        },
        {
         "ranking": 11,
         "project": "signoz",
         "language": "typescript",
         "stars": 2651,
         "stars_today": 491,
         "forks": 115,
         "_deepnote_index_column": 10
        }
       ],
       "rows_bottom": null
      },
      "text/plain": "    ranking                               project    language   stars  \\\n0         1                                  plow          go    1304   \n1         2                                   n8n  typescript   15668   \n2         3                                slides          go    3218   \n3         4               defi-developer-road-map         NaN     636   \n4         5                  pytorch-image-models      python   11065   \n5         6                 javascript-algorithms  javascript  110768   \n6         7                            paddleclas      python    1429   \n7         8               reddit_sentiment_trader      python     369   \n8         9                                 augly      python    2849   \n9        10  self-taught-guide-to-cloud-computing         NaN     863   \n10       11                                signoz  typescript    2651   \n\n    stars_today  forks  \n0           574     38  \n1           280   1370  \n2           265     80  \n3           247     49  \n4           101   1646  \n5           248  18331  \n6           283    323  \n7            71     60  \n8           393     99  \n9           179     84  \n10          491    115  ",
      "text/html": "<div>\n<style scoped>\n    .dataframe tbody tr th:only-of-type {\n        vertical-align: middle;\n    }\n\n    .dataframe tbody tr th {\n        vertical-align: top;\n    }\n\n    .dataframe thead th {\n        text-align: right;\n    }\n</style>\n<table border=\"1\" class=\"dataframe\">\n  <thead>\n    <tr style=\"text-align: right;\">\n      <th></th>\n      <th>ranking</th>\n      <th>project</th>\n      <th>language</th>\n      <th>stars</th>\n      <th>stars_today</th>\n      <th>forks</th>\n    </tr>\n  </thead>\n  <tbody>\n    <tr>\n      <th>0</th>\n      <td>1</td>\n      <td>plow</td>\n      <td>go</td>\n      <td>1304</td>\n      <td>574</td>\n      <td>38</td>\n    </tr>\n    <tr>\n      <th>1</th>\n      <td>2</td>\n      <td>n8n</td>\n      <td>typescript</td>\n      <td>15668</td>\n      <td>280</td>\n      <td>1370</td>\n    </tr>\n    <tr>\n      <th>2</th>\n      <td>3</td>\n      <td>slides</td>\n      <td>go</td>\n      <td>3218</td>\n      <td>265</td>\n      <td>80</td>\n    </tr>\n    <tr>\n      <th>3</th>\n      <td>4</td>\n      <td>defi-developer-road-map</td>\n      <td>NaN</td>\n      <td>636</td>\n      <td>247</td>\n      <td>49</td>\n    </tr>\n    <tr>\n      <th>4</th>\n      <td>5</td>\n      <td>pytorch-image-models</td>\n      <td>python</td>\n      <td>11065</td>\n      <td>101</td>\n      <td>1646</td>\n    </tr>\n    <tr>\n      <th>5</th>\n      <td>6</td>\n      <td>javascript-algorithms</td>\n      <td>javascript</td>\n      <td>110768</td>\n      <td>248</td>\n      <td>18331</td>\n    </tr>\n    <tr>\n      <th>6</th>\n      <td>7</td>\n      <td>paddleclas</td>\n      <td>python</td>\n      <td>1429</td>\n      <td>283</td>\n      <td>323</td>\n    </tr>\n    <tr>\n      <th>7</th>\n      <td>8</td>\n      <td>reddit_sentiment_trader</td>\n      <td>python</td>\n      <td>369</td>\n      <td>71</td>\n      <td>60</td>\n    </tr>\n    <tr>\n      <th>8</th>\n      <td>9</td>\n      <td>augly</td>\n      <td>python</td>\n      <td>2849</td>\n      <td>393</td>\n      <td>99</td>\n    </tr>\n    <tr>\n      <th>9</th>\n      <td>10</td>\n      <td>self-taught-guide-to-cloud-computing</td>\n      <td>NaN</td>\n      <td>863</td>\n      <td>179</td>\n      <td>84</td>\n    </tr>\n    <tr>\n      <th>10</th>\n      <td>11</td>\n      <td>signoz</td>\n      <td>typescript</td>\n      <td>2651</td>\n      <td>491</td>\n      <td>115</td>\n    </tr>\n  </tbody>\n</table>\n</div>"
     },
     "metadata": {}
    }
   ]
  },
  {
   "cell_type": "code",
   "metadata": {
    "id": "GWgVFyeBq94L",
    "cell_id": "00119-7b35c406-b024-4996-9a87-27faef1c3cf0",
    "deepnote_to_be_reexecuted": false,
    "source_hash": "45e1eb39",
    "execution_start": 1639013390170,
    "execution_millis": 134,
    "deepnote_cell_type": "code"
   },
   "source": "github_df",
   "execution_count": null,
   "outputs": [
    {
     "output_type": "execute_result",
     "execution_count": 111,
     "data": {
      "application/vnd.deepnote.dataframe.v2+json": {
       "row_count": 10,
       "column_count": 6,
       "columns": [
        {
         "name": "ranking",
         "dtype": "int64",
         "stats": {
          "unique_count": 10,
          "nan_count": 0,
          "min": "1",
          "max": "10",
          "histogram": [
           {
            "bin_start": 1,
            "bin_end": 1.9,
            "count": 1
           },
           {
            "bin_start": 1.9,
            "bin_end": 2.8,
            "count": 1
           },
           {
            "bin_start": 2.8,
            "bin_end": 3.7,
            "count": 1
           },
           {
            "bin_start": 3.7,
            "bin_end": 4.6,
            "count": 1
           },
           {
            "bin_start": 4.6,
            "bin_end": 5.5,
            "count": 1
           },
           {
            "bin_start": 5.5,
            "bin_end": 6.4,
            "count": 1
           },
           {
            "bin_start": 6.4,
            "bin_end": 7.3,
            "count": 1
           },
           {
            "bin_start": 7.3,
            "bin_end": 8.2,
            "count": 1
           },
           {
            "bin_start": 8.2,
            "bin_end": 9.1,
            "count": 1
           },
           {
            "bin_start": 9.1,
            "bin_end": 10,
            "count": 1
           }
          ]
         }
        },
        {
         "name": "project",
         "dtype": "object",
         "stats": {
          "unique_count": 10,
          "nan_count": 0,
          "categories": [
           {
            "name": "plow",
            "count": 1
           },
           {
            "name": "n8n",
            "count": 1
           },
           {
            "name": "8 others",
            "count": 8
           }
          ]
         }
        },
        {
         "name": "language",
         "dtype": "object",
         "stats": {
          "unique_count": 4,
          "nan_count": 2,
          "categories": [
           {
            "name": "python",
            "count": 4
           },
           {
            "name": "3 others",
            "count": 4
           },
           {
            "name": "Missing",
            "count": 2
           }
          ]
         }
        },
        {
         "name": "stars",
         "dtype": "int64",
         "stats": {
          "unique_count": 10,
          "nan_count": 0,
          "min": "369",
          "max": "110768",
          "histogram": [
           {
            "bin_start": 369,
            "bin_end": 11408.9,
            "count": 8
           },
           {
            "bin_start": 11408.9,
            "bin_end": 22448.8,
            "count": 1
           },
           {
            "bin_start": 22448.8,
            "bin_end": 33488.7,
            "count": 0
           },
           {
            "bin_start": 33488.7,
            "bin_end": 44528.6,
            "count": 0
           },
           {
            "bin_start": 44528.6,
            "bin_end": 55568.5,
            "count": 0
           },
           {
            "bin_start": 55568.5,
            "bin_end": 66608.4,
            "count": 0
           },
           {
            "bin_start": 66608.4,
            "bin_end": 77648.3,
            "count": 0
           },
           {
            "bin_start": 77648.3,
            "bin_end": 88688.2,
            "count": 0
           },
           {
            "bin_start": 88688.2,
            "bin_end": 99728.09999999999,
            "count": 0
           },
           {
            "bin_start": 99728.09999999999,
            "bin_end": 110768,
            "count": 1
           }
          ]
         }
        },
        {
         "name": "stars_today",
         "dtype": "int64",
         "stats": {
          "unique_count": 10,
          "nan_count": 0,
          "min": "71",
          "max": "574",
          "histogram": [
           {
            "bin_start": 71,
            "bin_end": 121.3,
            "count": 2
           },
           {
            "bin_start": 121.3,
            "bin_end": 171.6,
            "count": 0
           },
           {
            "bin_start": 171.6,
            "bin_end": 221.89999999999998,
            "count": 1
           },
           {
            "bin_start": 221.89999999999998,
            "bin_end": 272.2,
            "count": 3
           },
           {
            "bin_start": 272.2,
            "bin_end": 322.5,
            "count": 2
           },
           {
            "bin_start": 322.5,
            "bin_end": 372.79999999999995,
            "count": 0
           },
           {
            "bin_start": 372.79999999999995,
            "bin_end": 423.09999999999997,
            "count": 1
           },
           {
            "bin_start": 423.09999999999997,
            "bin_end": 473.4,
            "count": 0
           },
           {
            "bin_start": 473.4,
            "bin_end": 523.7,
            "count": 0
           },
           {
            "bin_start": 523.7,
            "bin_end": 574,
            "count": 1
           }
          ]
         }
        },
        {
         "name": "forks",
         "dtype": "int64",
         "stats": {
          "unique_count": 10,
          "nan_count": 0,
          "min": "38",
          "max": "18331",
          "histogram": [
           {
            "bin_start": 38,
            "bin_end": 1867.3,
            "count": 9
           },
           {
            "bin_start": 1867.3,
            "bin_end": 3696.6,
            "count": 0
           },
           {
            "bin_start": 3696.6,
            "bin_end": 5525.9,
            "count": 0
           },
           {
            "bin_start": 5525.9,
            "bin_end": 7355.2,
            "count": 0
           },
           {
            "bin_start": 7355.2,
            "bin_end": 9184.5,
            "count": 0
           },
           {
            "bin_start": 9184.5,
            "bin_end": 11013.8,
            "count": 0
           },
           {
            "bin_start": 11013.8,
            "bin_end": 12843.1,
            "count": 0
           },
           {
            "bin_start": 12843.1,
            "bin_end": 14672.4,
            "count": 0
           },
           {
            "bin_start": 14672.4,
            "bin_end": 16501.7,
            "count": 0
           },
           {
            "bin_start": 16501.7,
            "bin_end": 18331,
            "count": 1
           }
          ]
         }
        },
        {
         "name": "_deepnote_index_column",
         "dtype": "int64"
        }
       ],
       "rows_top": [
        {
         "ranking": 1,
         "project": "plow",
         "language": "go",
         "stars": 1304,
         "stars_today": 574,
         "forks": 38,
         "_deepnote_index_column": 0
        },
        {
         "ranking": 2,
         "project": "n8n",
         "language": "typescript",
         "stars": 15668,
         "stars_today": 280,
         "forks": 1370,
         "_deepnote_index_column": 1
        },
        {
         "ranking": 3,
         "project": "slides",
         "language": "go",
         "stars": 3218,
         "stars_today": 265,
         "forks": 80,
         "_deepnote_index_column": 2
        },
        {
         "ranking": 4,
         "project": "defi-developer-road-map",
         "language": "nan",
         "stars": 636,
         "stars_today": 247,
         "forks": 49,
         "_deepnote_index_column": 3
        },
        {
         "ranking": 5,
         "project": "pytorch-image-models",
         "language": "python",
         "stars": 11065,
         "stars_today": 101,
         "forks": 1646,
         "_deepnote_index_column": 4
        },
        {
         "ranking": 6,
         "project": "javascript-algorithms",
         "language": "javascript",
         "stars": 110768,
         "stars_today": 248,
         "forks": 18331,
         "_deepnote_index_column": 5
        },
        {
         "ranking": 7,
         "project": "paddleclas",
         "language": "python",
         "stars": 1429,
         "stars_today": 283,
         "forks": 323,
         "_deepnote_index_column": 6
        },
        {
         "ranking": 8,
         "project": "reddit_sentiment_trader",
         "language": "python",
         "stars": 369,
         "stars_today": 71,
         "forks": 60,
         "_deepnote_index_column": 7
        },
        {
         "ranking": 9,
         "project": "augly",
         "language": "python",
         "stars": 2849,
         "stars_today": 393,
         "forks": 99,
         "_deepnote_index_column": 8
        },
        {
         "ranking": 10,
         "project": "self-taught-guide-to-cloud-computing",
         "language": "nan",
         "stars": 863,
         "stars_today": 179,
         "forks": 84,
         "_deepnote_index_column": 9
        }
       ],
       "rows_bottom": null
      },
      "text/plain": "   ranking                               project    language   stars  \\\n0        1                                  plow          go    1304   \n1        2                                   n8n  typescript   15668   \n2        3                                slides          go    3218   \n3        4               defi-developer-road-map         NaN     636   \n4        5                  pytorch-image-models      python   11065   \n5        6                 javascript-algorithms  javascript  110768   \n6        7                            paddleclas      python    1429   \n7        8               reddit_sentiment_trader      python     369   \n8        9                                 augly      python    2849   \n9       10  self-taught-guide-to-cloud-computing         NaN     863   \n\n   stars_today  forks  \n0          574     38  \n1          280   1370  \n2          265     80  \n3          247     49  \n4          101   1646  \n5          248  18331  \n6          283    323  \n7           71     60  \n8          393     99  \n9          179     84  ",
      "text/html": "<div>\n<style scoped>\n    .dataframe tbody tr th:only-of-type {\n        vertical-align: middle;\n    }\n\n    .dataframe tbody tr th {\n        vertical-align: top;\n    }\n\n    .dataframe thead th {\n        text-align: right;\n    }\n</style>\n<table border=\"1\" class=\"dataframe\">\n  <thead>\n    <tr style=\"text-align: right;\">\n      <th></th>\n      <th>ranking</th>\n      <th>project</th>\n      <th>language</th>\n      <th>stars</th>\n      <th>stars_today</th>\n      <th>forks</th>\n    </tr>\n  </thead>\n  <tbody>\n    <tr>\n      <th>0</th>\n      <td>1</td>\n      <td>plow</td>\n      <td>go</td>\n      <td>1304</td>\n      <td>574</td>\n      <td>38</td>\n    </tr>\n    <tr>\n      <th>1</th>\n      <td>2</td>\n      <td>n8n</td>\n      <td>typescript</td>\n      <td>15668</td>\n      <td>280</td>\n      <td>1370</td>\n    </tr>\n    <tr>\n      <th>2</th>\n      <td>3</td>\n      <td>slides</td>\n      <td>go</td>\n      <td>3218</td>\n      <td>265</td>\n      <td>80</td>\n    </tr>\n    <tr>\n      <th>3</th>\n      <td>4</td>\n      <td>defi-developer-road-map</td>\n      <td>NaN</td>\n      <td>636</td>\n      <td>247</td>\n      <td>49</td>\n    </tr>\n    <tr>\n      <th>4</th>\n      <td>5</td>\n      <td>pytorch-image-models</td>\n      <td>python</td>\n      <td>11065</td>\n      <td>101</td>\n      <td>1646</td>\n    </tr>\n    <tr>\n      <th>5</th>\n      <td>6</td>\n      <td>javascript-algorithms</td>\n      <td>javascript</td>\n      <td>110768</td>\n      <td>248</td>\n      <td>18331</td>\n    </tr>\n    <tr>\n      <th>6</th>\n      <td>7</td>\n      <td>paddleclas</td>\n      <td>python</td>\n      <td>1429</td>\n      <td>283</td>\n      <td>323</td>\n    </tr>\n    <tr>\n      <th>7</th>\n      <td>8</td>\n      <td>reddit_sentiment_trader</td>\n      <td>python</td>\n      <td>369</td>\n      <td>71</td>\n      <td>60</td>\n    </tr>\n    <tr>\n      <th>8</th>\n      <td>9</td>\n      <td>augly</td>\n      <td>python</td>\n      <td>2849</td>\n      <td>393</td>\n      <td>99</td>\n    </tr>\n    <tr>\n      <th>9</th>\n      <td>10</td>\n      <td>self-taught-guide-to-cloud-computing</td>\n      <td>NaN</td>\n      <td>863</td>\n      <td>179</td>\n      <td>84</td>\n    </tr>\n  </tbody>\n</table>\n</div>"
     },
     "metadata": {}
    }
   ]
  },
  {
   "cell_type": "code",
   "metadata": {
    "id": "0qwcKClP17Vf",
    "cell_id": "00120-e7210ca5-9fef-407f-b123-7ab903977f32",
    "deepnote_to_be_reexecuted": false,
    "source_hash": "fd561cef",
    "execution_start": 1639013467871,
    "execution_millis": 0,
    "deepnote_cell_type": "code"
   },
   "source": "github_df = github_df.append(pd.DataFrame(projeto), ignore_index=True)",
   "execution_count": null,
   "outputs": []
  },
  {
   "cell_type": "code",
   "metadata": {
    "id": "J_24ezqS17Vf",
    "cell_id": "00121-3b91fd25-2142-4174-b94b-80193429a956",
    "deepnote_to_be_reexecuted": false,
    "source_hash": "45e1eb39",
    "execution_start": 1639013470293,
    "execution_millis": 308,
    "deepnote_cell_type": "code"
   },
   "source": "github_df",
   "execution_count": null,
   "outputs": [
    {
     "output_type": "execute_result",
     "execution_count": 113,
     "data": {
      "application/vnd.deepnote.dataframe.v2+json": {
       "row_count": 11,
       "column_count": 6,
       "columns": [
        {
         "name": "ranking",
         "dtype": "int64",
         "stats": {
          "unique_count": 11,
          "nan_count": 0,
          "min": "1",
          "max": "11",
          "histogram": [
           {
            "bin_start": 1,
            "bin_end": 2,
            "count": 1
           },
           {
            "bin_start": 2,
            "bin_end": 3,
            "count": 1
           },
           {
            "bin_start": 3,
            "bin_end": 4,
            "count": 1
           },
           {
            "bin_start": 4,
            "bin_end": 5,
            "count": 1
           },
           {
            "bin_start": 5,
            "bin_end": 6,
            "count": 1
           },
           {
            "bin_start": 6,
            "bin_end": 7,
            "count": 1
           },
           {
            "bin_start": 7,
            "bin_end": 8,
            "count": 1
           },
           {
            "bin_start": 8,
            "bin_end": 9,
            "count": 1
           },
           {
            "bin_start": 9,
            "bin_end": 10,
            "count": 1
           },
           {
            "bin_start": 10,
            "bin_end": 11,
            "count": 2
           }
          ]
         }
        },
        {
         "name": "project",
         "dtype": "object",
         "stats": {
          "unique_count": 11,
          "nan_count": 0,
          "categories": [
           {
            "name": "plow",
            "count": 1
           },
           {
            "name": "n8n",
            "count": 1
           },
           {
            "name": "9 others",
            "count": 9
           }
          ]
         }
        },
        {
         "name": "language",
         "dtype": "object",
         "stats": {
          "unique_count": 4,
          "nan_count": 2,
          "categories": [
           {
            "name": "python",
            "count": 4
           },
           {
            "name": "3 others",
            "count": 5
           },
           {
            "name": "Missing",
            "count": 2
           }
          ]
         }
        },
        {
         "name": "stars",
         "dtype": "int64",
         "stats": {
          "unique_count": 11,
          "nan_count": 0,
          "min": "369",
          "max": "110768",
          "histogram": [
           {
            "bin_start": 369,
            "bin_end": 11408.9,
            "count": 9
           },
           {
            "bin_start": 11408.9,
            "bin_end": 22448.8,
            "count": 1
           },
           {
            "bin_start": 22448.8,
            "bin_end": 33488.7,
            "count": 0
           },
           {
            "bin_start": 33488.7,
            "bin_end": 44528.6,
            "count": 0
           },
           {
            "bin_start": 44528.6,
            "bin_end": 55568.5,
            "count": 0
           },
           {
            "bin_start": 55568.5,
            "bin_end": 66608.4,
            "count": 0
           },
           {
            "bin_start": 66608.4,
            "bin_end": 77648.3,
            "count": 0
           },
           {
            "bin_start": 77648.3,
            "bin_end": 88688.2,
            "count": 0
           },
           {
            "bin_start": 88688.2,
            "bin_end": 99728.09999999999,
            "count": 0
           },
           {
            "bin_start": 99728.09999999999,
            "bin_end": 110768,
            "count": 1
           }
          ]
         }
        },
        {
         "name": "stars_today",
         "dtype": "int64",
         "stats": {
          "unique_count": 11,
          "nan_count": 0,
          "min": "71",
          "max": "574",
          "histogram": [
           {
            "bin_start": 71,
            "bin_end": 121.3,
            "count": 2
           },
           {
            "bin_start": 121.3,
            "bin_end": 171.6,
            "count": 0
           },
           {
            "bin_start": 171.6,
            "bin_end": 221.89999999999998,
            "count": 1
           },
           {
            "bin_start": 221.89999999999998,
            "bin_end": 272.2,
            "count": 3
           },
           {
            "bin_start": 272.2,
            "bin_end": 322.5,
            "count": 2
           },
           {
            "bin_start": 322.5,
            "bin_end": 372.79999999999995,
            "count": 0
           },
           {
            "bin_start": 372.79999999999995,
            "bin_end": 423.09999999999997,
            "count": 1
           },
           {
            "bin_start": 423.09999999999997,
            "bin_end": 473.4,
            "count": 0
           },
           {
            "bin_start": 473.4,
            "bin_end": 523.7,
            "count": 1
           },
           {
            "bin_start": 523.7,
            "bin_end": 574,
            "count": 1
           }
          ]
         }
        },
        {
         "name": "forks",
         "dtype": "int64",
         "stats": {
          "unique_count": 11,
          "nan_count": 0,
          "min": "38",
          "max": "18331",
          "histogram": [
           {
            "bin_start": 38,
            "bin_end": 1867.3,
            "count": 10
           },
           {
            "bin_start": 1867.3,
            "bin_end": 3696.6,
            "count": 0
           },
           {
            "bin_start": 3696.6,
            "bin_end": 5525.9,
            "count": 0
           },
           {
            "bin_start": 5525.9,
            "bin_end": 7355.2,
            "count": 0
           },
           {
            "bin_start": 7355.2,
            "bin_end": 9184.5,
            "count": 0
           },
           {
            "bin_start": 9184.5,
            "bin_end": 11013.8,
            "count": 0
           },
           {
            "bin_start": 11013.8,
            "bin_end": 12843.1,
            "count": 0
           },
           {
            "bin_start": 12843.1,
            "bin_end": 14672.4,
            "count": 0
           },
           {
            "bin_start": 14672.4,
            "bin_end": 16501.7,
            "count": 0
           },
           {
            "bin_start": 16501.7,
            "bin_end": 18331,
            "count": 1
           }
          ]
         }
        },
        {
         "name": "_deepnote_index_column",
         "dtype": "int64"
        }
       ],
       "rows_top": [
        {
         "ranking": 1,
         "project": "plow",
         "language": "go",
         "stars": 1304,
         "stars_today": 574,
         "forks": 38,
         "_deepnote_index_column": 0
        },
        {
         "ranking": 2,
         "project": "n8n",
         "language": "typescript",
         "stars": 15668,
         "stars_today": 280,
         "forks": 1370,
         "_deepnote_index_column": 1
        },
        {
         "ranking": 3,
         "project": "slides",
         "language": "go",
         "stars": 3218,
         "stars_today": 265,
         "forks": 80,
         "_deepnote_index_column": 2
        },
        {
         "ranking": 4,
         "project": "defi-developer-road-map",
         "language": "nan",
         "stars": 636,
         "stars_today": 247,
         "forks": 49,
         "_deepnote_index_column": 3
        },
        {
         "ranking": 5,
         "project": "pytorch-image-models",
         "language": "python",
         "stars": 11065,
         "stars_today": 101,
         "forks": 1646,
         "_deepnote_index_column": 4
        },
        {
         "ranking": 6,
         "project": "javascript-algorithms",
         "language": "javascript",
         "stars": 110768,
         "stars_today": 248,
         "forks": 18331,
         "_deepnote_index_column": 5
        },
        {
         "ranking": 7,
         "project": "paddleclas",
         "language": "python",
         "stars": 1429,
         "stars_today": 283,
         "forks": 323,
         "_deepnote_index_column": 6
        },
        {
         "ranking": 8,
         "project": "reddit_sentiment_trader",
         "language": "python",
         "stars": 369,
         "stars_today": 71,
         "forks": 60,
         "_deepnote_index_column": 7
        },
        {
         "ranking": 9,
         "project": "augly",
         "language": "python",
         "stars": 2849,
         "stars_today": 393,
         "forks": 99,
         "_deepnote_index_column": 8
        },
        {
         "ranking": 10,
         "project": "self-taught-guide-to-cloud-computing",
         "language": "nan",
         "stars": 863,
         "stars_today": 179,
         "forks": 84,
         "_deepnote_index_column": 9
        },
        {
         "ranking": 11,
         "project": "signoz",
         "language": "typescript",
         "stars": 2651,
         "stars_today": 491,
         "forks": 115,
         "_deepnote_index_column": 10
        }
       ],
       "rows_bottom": null
      },
      "text/plain": "    ranking                               project    language   stars  \\\n0         1                                  plow          go    1304   \n1         2                                   n8n  typescript   15668   \n2         3                                slides          go    3218   \n3         4               defi-developer-road-map         NaN     636   \n4         5                  pytorch-image-models      python   11065   \n5         6                 javascript-algorithms  javascript  110768   \n6         7                            paddleclas      python    1429   \n7         8               reddit_sentiment_trader      python     369   \n8         9                                 augly      python    2849   \n9        10  self-taught-guide-to-cloud-computing         NaN     863   \n10       11                                signoz  typescript    2651   \n\n    stars_today  forks  \n0           574     38  \n1           280   1370  \n2           265     80  \n3           247     49  \n4           101   1646  \n5           248  18331  \n6           283    323  \n7            71     60  \n8           393     99  \n9           179     84  \n10          491    115  ",
      "text/html": "<div>\n<style scoped>\n    .dataframe tbody tr th:only-of-type {\n        vertical-align: middle;\n    }\n\n    .dataframe tbody tr th {\n        vertical-align: top;\n    }\n\n    .dataframe thead th {\n        text-align: right;\n    }\n</style>\n<table border=\"1\" class=\"dataframe\">\n  <thead>\n    <tr style=\"text-align: right;\">\n      <th></th>\n      <th>ranking</th>\n      <th>project</th>\n      <th>language</th>\n      <th>stars</th>\n      <th>stars_today</th>\n      <th>forks</th>\n    </tr>\n  </thead>\n  <tbody>\n    <tr>\n      <th>0</th>\n      <td>1</td>\n      <td>plow</td>\n      <td>go</td>\n      <td>1304</td>\n      <td>574</td>\n      <td>38</td>\n    </tr>\n    <tr>\n      <th>1</th>\n      <td>2</td>\n      <td>n8n</td>\n      <td>typescript</td>\n      <td>15668</td>\n      <td>280</td>\n      <td>1370</td>\n    </tr>\n    <tr>\n      <th>2</th>\n      <td>3</td>\n      <td>slides</td>\n      <td>go</td>\n      <td>3218</td>\n      <td>265</td>\n      <td>80</td>\n    </tr>\n    <tr>\n      <th>3</th>\n      <td>4</td>\n      <td>defi-developer-road-map</td>\n      <td>NaN</td>\n      <td>636</td>\n      <td>247</td>\n      <td>49</td>\n    </tr>\n    <tr>\n      <th>4</th>\n      <td>5</td>\n      <td>pytorch-image-models</td>\n      <td>python</td>\n      <td>11065</td>\n      <td>101</td>\n      <td>1646</td>\n    </tr>\n    <tr>\n      <th>5</th>\n      <td>6</td>\n      <td>javascript-algorithms</td>\n      <td>javascript</td>\n      <td>110768</td>\n      <td>248</td>\n      <td>18331</td>\n    </tr>\n    <tr>\n      <th>6</th>\n      <td>7</td>\n      <td>paddleclas</td>\n      <td>python</td>\n      <td>1429</td>\n      <td>283</td>\n      <td>323</td>\n    </tr>\n    <tr>\n      <th>7</th>\n      <td>8</td>\n      <td>reddit_sentiment_trader</td>\n      <td>python</td>\n      <td>369</td>\n      <td>71</td>\n      <td>60</td>\n    </tr>\n    <tr>\n      <th>8</th>\n      <td>9</td>\n      <td>augly</td>\n      <td>python</td>\n      <td>2849</td>\n      <td>393</td>\n      <td>99</td>\n    </tr>\n    <tr>\n      <th>9</th>\n      <td>10</td>\n      <td>self-taught-guide-to-cloud-computing</td>\n      <td>NaN</td>\n      <td>863</td>\n      <td>179</td>\n      <td>84</td>\n    </tr>\n    <tr>\n      <th>10</th>\n      <td>11</td>\n      <td>signoz</td>\n      <td>typescript</td>\n      <td>2651</td>\n      <td>491</td>\n      <td>115</td>\n    </tr>\n  </tbody>\n</table>\n</div>"
     },
     "metadata": {}
    }
   ]
  },
  {
   "cell_type": "markdown",
   "source": "#### 3.1.2 Deleção ",
   "metadata": {
    "id": "WaYRDfOa17Vg",
    "cell_id": "00122-748e9bb4-66e9-4559-997f-e18d9ad4e389",
    "deepnote_cell_type": "markdown"
   }
  },
  {
   "cell_type": "markdown",
   "source": "*   **Exemplo**: Remoção de linhas com o método `query`:",
   "metadata": {
    "id": "lsHwn5YW17Vg",
    "cell_id": "00123-932cf120-6860-4534-a751-f38776c829ed",
    "deepnote_cell_type": "markdown"
   }
  },
  {
   "cell_type": "code",
   "metadata": {
    "id": "_5KzgV2r17Vg",
    "cell_id": "00124-c79da88b-98c8-403f-97b7-347069033768",
    "deepnote_to_be_reexecuted": false,
    "source_hash": "9b413a4c",
    "execution_start": 1639013509944,
    "execution_millis": 43,
    "deepnote_cell_type": "code"
   },
   "source": "github_df.query('language != \"python\"')",
   "execution_count": null,
   "outputs": [
    {
     "output_type": "execute_result",
     "execution_count": 115,
     "data": {
      "application/vnd.deepnote.dataframe.v2+json": {
       "row_count": 7,
       "column_count": 6,
       "columns": [
        {
         "name": "ranking",
         "dtype": "int64",
         "stats": {
          "unique_count": 7,
          "nan_count": 0,
          "min": "1",
          "max": "11",
          "histogram": [
           {
            "bin_start": 1,
            "bin_end": 2,
            "count": 1
           },
           {
            "bin_start": 2,
            "bin_end": 3,
            "count": 1
           },
           {
            "bin_start": 3,
            "bin_end": 4,
            "count": 1
           },
           {
            "bin_start": 4,
            "bin_end": 5,
            "count": 1
           },
           {
            "bin_start": 5,
            "bin_end": 6,
            "count": 0
           },
           {
            "bin_start": 6,
            "bin_end": 7,
            "count": 1
           },
           {
            "bin_start": 7,
            "bin_end": 8,
            "count": 0
           },
           {
            "bin_start": 8,
            "bin_end": 9,
            "count": 0
           },
           {
            "bin_start": 9,
            "bin_end": 10,
            "count": 0
           },
           {
            "bin_start": 10,
            "bin_end": 11,
            "count": 2
           }
          ]
         }
        },
        {
         "name": "project",
         "dtype": "object",
         "stats": {
          "unique_count": 7,
          "nan_count": 0,
          "categories": [
           {
            "name": "plow",
            "count": 1
           },
           {
            "name": "n8n",
            "count": 1
           },
           {
            "name": "5 others",
            "count": 5
           }
          ]
         }
        },
        {
         "name": "language",
         "dtype": "object",
         "stats": {
          "unique_count": 3,
          "nan_count": 2,
          "categories": [
           {
            "name": "go",
            "count": 2
           },
           {
            "name": "2 others",
            "count": 3
           },
           {
            "name": "Missing",
            "count": 2
           }
          ]
         }
        },
        {
         "name": "stars",
         "dtype": "int64",
         "stats": {
          "unique_count": 7,
          "nan_count": 0,
          "min": "636",
          "max": "110768",
          "histogram": [
           {
            "bin_start": 636,
            "bin_end": 11649.2,
            "count": 5
           },
           {
            "bin_start": 11649.2,
            "bin_end": 22662.4,
            "count": 1
           },
           {
            "bin_start": 22662.4,
            "bin_end": 33675.600000000006,
            "count": 0
           },
           {
            "bin_start": 33675.600000000006,
            "bin_end": 44688.8,
            "count": 0
           },
           {
            "bin_start": 44688.8,
            "bin_end": 55702,
            "count": 0
           },
           {
            "bin_start": 55702,
            "bin_end": 66715.20000000001,
            "count": 0
           },
           {
            "bin_start": 66715.20000000001,
            "bin_end": 77728.40000000001,
            "count": 0
           },
           {
            "bin_start": 77728.40000000001,
            "bin_end": 88741.6,
            "count": 0
           },
           {
            "bin_start": 88741.6,
            "bin_end": 99754.8,
            "count": 0
           },
           {
            "bin_start": 99754.8,
            "bin_end": 110768,
            "count": 1
           }
          ]
         }
        },
        {
         "name": "stars_today",
         "dtype": "int64",
         "stats": {
          "unique_count": 7,
          "nan_count": 0,
          "min": "179",
          "max": "574",
          "histogram": [
           {
            "bin_start": 179,
            "bin_end": 218.5,
            "count": 1
           },
           {
            "bin_start": 218.5,
            "bin_end": 258,
            "count": 2
           },
           {
            "bin_start": 258,
            "bin_end": 297.5,
            "count": 2
           },
           {
            "bin_start": 297.5,
            "bin_end": 337,
            "count": 0
           },
           {
            "bin_start": 337,
            "bin_end": 376.5,
            "count": 0
           },
           {
            "bin_start": 376.5,
            "bin_end": 416,
            "count": 0
           },
           {
            "bin_start": 416,
            "bin_end": 455.5,
            "count": 0
           },
           {
            "bin_start": 455.5,
            "bin_end": 495,
            "count": 1
           },
           {
            "bin_start": 495,
            "bin_end": 534.5,
            "count": 0
           },
           {
            "bin_start": 534.5,
            "bin_end": 574,
            "count": 1
           }
          ]
         }
        },
        {
         "name": "forks",
         "dtype": "int64",
         "stats": {
          "unique_count": 7,
          "nan_count": 0,
          "min": "38",
          "max": "18331",
          "histogram": [
           {
            "bin_start": 38,
            "bin_end": 1867.3,
            "count": 6
           },
           {
            "bin_start": 1867.3,
            "bin_end": 3696.6,
            "count": 0
           },
           {
            "bin_start": 3696.6,
            "bin_end": 5525.9,
            "count": 0
           },
           {
            "bin_start": 5525.9,
            "bin_end": 7355.2,
            "count": 0
           },
           {
            "bin_start": 7355.2,
            "bin_end": 9184.5,
            "count": 0
           },
           {
            "bin_start": 9184.5,
            "bin_end": 11013.8,
            "count": 0
           },
           {
            "bin_start": 11013.8,
            "bin_end": 12843.1,
            "count": 0
           },
           {
            "bin_start": 12843.1,
            "bin_end": 14672.4,
            "count": 0
           },
           {
            "bin_start": 14672.4,
            "bin_end": 16501.7,
            "count": 0
           },
           {
            "bin_start": 16501.7,
            "bin_end": 18331,
            "count": 1
           }
          ]
         }
        },
        {
         "name": "_deepnote_index_column",
         "dtype": "int64"
        }
       ],
       "rows_top": [
        {
         "ranking": 1,
         "project": "plow",
         "language": "go",
         "stars": 1304,
         "stars_today": 574,
         "forks": 38,
         "_deepnote_index_column": 0
        },
        {
         "ranking": 2,
         "project": "n8n",
         "language": "typescript",
         "stars": 15668,
         "stars_today": 280,
         "forks": 1370,
         "_deepnote_index_column": 1
        },
        {
         "ranking": 3,
         "project": "slides",
         "language": "go",
         "stars": 3218,
         "stars_today": 265,
         "forks": 80,
         "_deepnote_index_column": 2
        },
        {
         "ranking": 4,
         "project": "defi-developer-road-map",
         "language": "nan",
         "stars": 636,
         "stars_today": 247,
         "forks": 49,
         "_deepnote_index_column": 3
        },
        {
         "ranking": 6,
         "project": "javascript-algorithms",
         "language": "javascript",
         "stars": 110768,
         "stars_today": 248,
         "forks": 18331,
         "_deepnote_index_column": 5
        },
        {
         "ranking": 10,
         "project": "self-taught-guide-to-cloud-computing",
         "language": "nan",
         "stars": 863,
         "stars_today": 179,
         "forks": 84,
         "_deepnote_index_column": 9
        },
        {
         "ranking": 11,
         "project": "signoz",
         "language": "typescript",
         "stars": 2651,
         "stars_today": 491,
         "forks": 115,
         "_deepnote_index_column": 10
        }
       ],
       "rows_bottom": null
      },
      "text/plain": "    ranking                               project    language   stars  \\\n0         1                                  plow          go    1304   \n1         2                                   n8n  typescript   15668   \n2         3                                slides          go    3218   \n3         4               defi-developer-road-map         NaN     636   \n5         6                 javascript-algorithms  javascript  110768   \n9        10  self-taught-guide-to-cloud-computing         NaN     863   \n10       11                                signoz  typescript    2651   \n\n    stars_today  forks  \n0           574     38  \n1           280   1370  \n2           265     80  \n3           247     49  \n5           248  18331  \n9           179     84  \n10          491    115  ",
      "text/html": "<div>\n<style scoped>\n    .dataframe tbody tr th:only-of-type {\n        vertical-align: middle;\n    }\n\n    .dataframe tbody tr th {\n        vertical-align: top;\n    }\n\n    .dataframe thead th {\n        text-align: right;\n    }\n</style>\n<table border=\"1\" class=\"dataframe\">\n  <thead>\n    <tr style=\"text-align: right;\">\n      <th></th>\n      <th>ranking</th>\n      <th>project</th>\n      <th>language</th>\n      <th>stars</th>\n      <th>stars_today</th>\n      <th>forks</th>\n    </tr>\n  </thead>\n  <tbody>\n    <tr>\n      <th>0</th>\n      <td>1</td>\n      <td>plow</td>\n      <td>go</td>\n      <td>1304</td>\n      <td>574</td>\n      <td>38</td>\n    </tr>\n    <tr>\n      <th>1</th>\n      <td>2</td>\n      <td>n8n</td>\n      <td>typescript</td>\n      <td>15668</td>\n      <td>280</td>\n      <td>1370</td>\n    </tr>\n    <tr>\n      <th>2</th>\n      <td>3</td>\n      <td>slides</td>\n      <td>go</td>\n      <td>3218</td>\n      <td>265</td>\n      <td>80</td>\n    </tr>\n    <tr>\n      <th>3</th>\n      <td>4</td>\n      <td>defi-developer-road-map</td>\n      <td>NaN</td>\n      <td>636</td>\n      <td>247</td>\n      <td>49</td>\n    </tr>\n    <tr>\n      <th>5</th>\n      <td>6</td>\n      <td>javascript-algorithms</td>\n      <td>javascript</td>\n      <td>110768</td>\n      <td>248</td>\n      <td>18331</td>\n    </tr>\n    <tr>\n      <th>9</th>\n      <td>10</td>\n      <td>self-taught-guide-to-cloud-computing</td>\n      <td>NaN</td>\n      <td>863</td>\n      <td>179</td>\n      <td>84</td>\n    </tr>\n    <tr>\n      <th>10</th>\n      <td>11</td>\n      <td>signoz</td>\n      <td>typescript</td>\n      <td>2651</td>\n      <td>491</td>\n      <td>115</td>\n    </tr>\n  </tbody>\n</table>\n</div>"
     },
     "metadata": {}
    }
   ]
  },
  {
   "cell_type": "markdown",
   "source": "#### 3.1.3 Atualização ",
   "metadata": {
    "id": "jVVopMlp17Vh",
    "cell_id": "00125-59442ee5-7f34-456d-a78e-eb210544d290",
    "deepnote_cell_type": "markdown"
   }
  },
  {
   "cell_type": "markdown",
   "source": "*   **Exemplo**: Atualização de **um** elemento com o método `loc`:",
   "metadata": {
    "id": "aWD3-Vzr17Vh",
    "cell_id": "00126-f0875d78-713b-4d01-be5f-aa45d204ee37",
    "deepnote_cell_type": "markdown"
   }
  },
  {
   "cell_type": "code",
   "metadata": {
    "id": "uBkSfRDXqDO7",
    "cell_id": "00127-612209b4-02e1-4c32-af9a-ebc510dea447",
    "deepnote_to_be_reexecuted": false,
    "source_hash": "d18c9251",
    "execution_start": 1639013770975,
    "execution_millis": 0,
    "deepnote_cell_type": "code"
   },
   "source": "github_df.loc[0, 'language'] = 'go'",
   "execution_count": null,
   "outputs": []
  },
  {
   "cell_type": "code",
   "metadata": {
    "id": "AZ_meqgS17Vi",
    "cell_id": "00128-b1a4b0e9-c10c-4e39-b3bb-6405bee7cb40",
    "deepnote_to_be_reexecuted": false,
    "source_hash": "45e1eb39",
    "execution_start": 1639013774132,
    "execution_millis": 235,
    "deepnote_cell_type": "code"
   },
   "source": "github_df",
   "execution_count": null,
   "outputs": [
    {
     "output_type": "execute_result",
     "execution_count": 117,
     "data": {
      "application/vnd.deepnote.dataframe.v2+json": {
       "row_count": 11,
       "column_count": 6,
       "columns": [
        {
         "name": "ranking",
         "dtype": "int64",
         "stats": {
          "unique_count": 11,
          "nan_count": 0,
          "min": "1",
          "max": "11",
          "histogram": [
           {
            "bin_start": 1,
            "bin_end": 2,
            "count": 1
           },
           {
            "bin_start": 2,
            "bin_end": 3,
            "count": 1
           },
           {
            "bin_start": 3,
            "bin_end": 4,
            "count": 1
           },
           {
            "bin_start": 4,
            "bin_end": 5,
            "count": 1
           },
           {
            "bin_start": 5,
            "bin_end": 6,
            "count": 1
           },
           {
            "bin_start": 6,
            "bin_end": 7,
            "count": 1
           },
           {
            "bin_start": 7,
            "bin_end": 8,
            "count": 1
           },
           {
            "bin_start": 8,
            "bin_end": 9,
            "count": 1
           },
           {
            "bin_start": 9,
            "bin_end": 10,
            "count": 1
           },
           {
            "bin_start": 10,
            "bin_end": 11,
            "count": 2
           }
          ]
         }
        },
        {
         "name": "project",
         "dtype": "object",
         "stats": {
          "unique_count": 11,
          "nan_count": 0,
          "categories": [
           {
            "name": "plow",
            "count": 1
           },
           {
            "name": "n8n",
            "count": 1
           },
           {
            "name": "9 others",
            "count": 9
           }
          ]
         }
        },
        {
         "name": "language",
         "dtype": "object",
         "stats": {
          "unique_count": 4,
          "nan_count": 2,
          "categories": [
           {
            "name": "python",
            "count": 4
           },
           {
            "name": "3 others",
            "count": 5
           },
           {
            "name": "Missing",
            "count": 2
           }
          ]
         }
        },
        {
         "name": "stars",
         "dtype": "int64",
         "stats": {
          "unique_count": 11,
          "nan_count": 0,
          "min": "369",
          "max": "110768",
          "histogram": [
           {
            "bin_start": 369,
            "bin_end": 11408.9,
            "count": 9
           },
           {
            "bin_start": 11408.9,
            "bin_end": 22448.8,
            "count": 1
           },
           {
            "bin_start": 22448.8,
            "bin_end": 33488.7,
            "count": 0
           },
           {
            "bin_start": 33488.7,
            "bin_end": 44528.6,
            "count": 0
           },
           {
            "bin_start": 44528.6,
            "bin_end": 55568.5,
            "count": 0
           },
           {
            "bin_start": 55568.5,
            "bin_end": 66608.4,
            "count": 0
           },
           {
            "bin_start": 66608.4,
            "bin_end": 77648.3,
            "count": 0
           },
           {
            "bin_start": 77648.3,
            "bin_end": 88688.2,
            "count": 0
           },
           {
            "bin_start": 88688.2,
            "bin_end": 99728.09999999999,
            "count": 0
           },
           {
            "bin_start": 99728.09999999999,
            "bin_end": 110768,
            "count": 1
           }
          ]
         }
        },
        {
         "name": "stars_today",
         "dtype": "int64",
         "stats": {
          "unique_count": 11,
          "nan_count": 0,
          "min": "71",
          "max": "574",
          "histogram": [
           {
            "bin_start": 71,
            "bin_end": 121.3,
            "count": 2
           },
           {
            "bin_start": 121.3,
            "bin_end": 171.6,
            "count": 0
           },
           {
            "bin_start": 171.6,
            "bin_end": 221.89999999999998,
            "count": 1
           },
           {
            "bin_start": 221.89999999999998,
            "bin_end": 272.2,
            "count": 3
           },
           {
            "bin_start": 272.2,
            "bin_end": 322.5,
            "count": 2
           },
           {
            "bin_start": 322.5,
            "bin_end": 372.79999999999995,
            "count": 0
           },
           {
            "bin_start": 372.79999999999995,
            "bin_end": 423.09999999999997,
            "count": 1
           },
           {
            "bin_start": 423.09999999999997,
            "bin_end": 473.4,
            "count": 0
           },
           {
            "bin_start": 473.4,
            "bin_end": 523.7,
            "count": 1
           },
           {
            "bin_start": 523.7,
            "bin_end": 574,
            "count": 1
           }
          ]
         }
        },
        {
         "name": "forks",
         "dtype": "int64",
         "stats": {
          "unique_count": 11,
          "nan_count": 0,
          "min": "38",
          "max": "18331",
          "histogram": [
           {
            "bin_start": 38,
            "bin_end": 1867.3,
            "count": 10
           },
           {
            "bin_start": 1867.3,
            "bin_end": 3696.6,
            "count": 0
           },
           {
            "bin_start": 3696.6,
            "bin_end": 5525.9,
            "count": 0
           },
           {
            "bin_start": 5525.9,
            "bin_end": 7355.2,
            "count": 0
           },
           {
            "bin_start": 7355.2,
            "bin_end": 9184.5,
            "count": 0
           },
           {
            "bin_start": 9184.5,
            "bin_end": 11013.8,
            "count": 0
           },
           {
            "bin_start": 11013.8,
            "bin_end": 12843.1,
            "count": 0
           },
           {
            "bin_start": 12843.1,
            "bin_end": 14672.4,
            "count": 0
           },
           {
            "bin_start": 14672.4,
            "bin_end": 16501.7,
            "count": 0
           },
           {
            "bin_start": 16501.7,
            "bin_end": 18331,
            "count": 1
           }
          ]
         }
        },
        {
         "name": "_deepnote_index_column",
         "dtype": "int64"
        }
       ],
       "rows_top": [
        {
         "ranking": 1,
         "project": "plow",
         "language": "go",
         "stars": 1304,
         "stars_today": 574,
         "forks": 38,
         "_deepnote_index_column": 0
        },
        {
         "ranking": 2,
         "project": "n8n",
         "language": "typescript",
         "stars": 15668,
         "stars_today": 280,
         "forks": 1370,
         "_deepnote_index_column": 1
        },
        {
         "ranking": 3,
         "project": "slides",
         "language": "go",
         "stars": 3218,
         "stars_today": 265,
         "forks": 80,
         "_deepnote_index_column": 2
        },
        {
         "ranking": 4,
         "project": "defi-developer-road-map",
         "language": "nan",
         "stars": 636,
         "stars_today": 247,
         "forks": 49,
         "_deepnote_index_column": 3
        },
        {
         "ranking": 5,
         "project": "pytorch-image-models",
         "language": "python",
         "stars": 11065,
         "stars_today": 101,
         "forks": 1646,
         "_deepnote_index_column": 4
        },
        {
         "ranking": 6,
         "project": "javascript-algorithms",
         "language": "javascript",
         "stars": 110768,
         "stars_today": 248,
         "forks": 18331,
         "_deepnote_index_column": 5
        },
        {
         "ranking": 7,
         "project": "paddleclas",
         "language": "python",
         "stars": 1429,
         "stars_today": 283,
         "forks": 323,
         "_deepnote_index_column": 6
        },
        {
         "ranking": 8,
         "project": "reddit_sentiment_trader",
         "language": "python",
         "stars": 369,
         "stars_today": 71,
         "forks": 60,
         "_deepnote_index_column": 7
        },
        {
         "ranking": 9,
         "project": "augly",
         "language": "python",
         "stars": 2849,
         "stars_today": 393,
         "forks": 99,
         "_deepnote_index_column": 8
        },
        {
         "ranking": 10,
         "project": "self-taught-guide-to-cloud-computing",
         "language": "nan",
         "stars": 863,
         "stars_today": 179,
         "forks": 84,
         "_deepnote_index_column": 9
        },
        {
         "ranking": 11,
         "project": "signoz",
         "language": "typescript",
         "stars": 2651,
         "stars_today": 491,
         "forks": 115,
         "_deepnote_index_column": 10
        }
       ],
       "rows_bottom": null
      },
      "text/plain": "    ranking                               project    language   stars  \\\n0         1                                  plow          go    1304   \n1         2                                   n8n  typescript   15668   \n2         3                                slides          go    3218   \n3         4               defi-developer-road-map         NaN     636   \n4         5                  pytorch-image-models      python   11065   \n5         6                 javascript-algorithms  javascript  110768   \n6         7                            paddleclas      python    1429   \n7         8               reddit_sentiment_trader      python     369   \n8         9                                 augly      python    2849   \n9        10  self-taught-guide-to-cloud-computing         NaN     863   \n10       11                                signoz  typescript    2651   \n\n    stars_today  forks  \n0           574     38  \n1           280   1370  \n2           265     80  \n3           247     49  \n4           101   1646  \n5           248  18331  \n6           283    323  \n7            71     60  \n8           393     99  \n9           179     84  \n10          491    115  ",
      "text/html": "<div>\n<style scoped>\n    .dataframe tbody tr th:only-of-type {\n        vertical-align: middle;\n    }\n\n    .dataframe tbody tr th {\n        vertical-align: top;\n    }\n\n    .dataframe thead th {\n        text-align: right;\n    }\n</style>\n<table border=\"1\" class=\"dataframe\">\n  <thead>\n    <tr style=\"text-align: right;\">\n      <th></th>\n      <th>ranking</th>\n      <th>project</th>\n      <th>language</th>\n      <th>stars</th>\n      <th>stars_today</th>\n      <th>forks</th>\n    </tr>\n  </thead>\n  <tbody>\n    <tr>\n      <th>0</th>\n      <td>1</td>\n      <td>plow</td>\n      <td>go</td>\n      <td>1304</td>\n      <td>574</td>\n      <td>38</td>\n    </tr>\n    <tr>\n      <th>1</th>\n      <td>2</td>\n      <td>n8n</td>\n      <td>typescript</td>\n      <td>15668</td>\n      <td>280</td>\n      <td>1370</td>\n    </tr>\n    <tr>\n      <th>2</th>\n      <td>3</td>\n      <td>slides</td>\n      <td>go</td>\n      <td>3218</td>\n      <td>265</td>\n      <td>80</td>\n    </tr>\n    <tr>\n      <th>3</th>\n      <td>4</td>\n      <td>defi-developer-road-map</td>\n      <td>NaN</td>\n      <td>636</td>\n      <td>247</td>\n      <td>49</td>\n    </tr>\n    <tr>\n      <th>4</th>\n      <td>5</td>\n      <td>pytorch-image-models</td>\n      <td>python</td>\n      <td>11065</td>\n      <td>101</td>\n      <td>1646</td>\n    </tr>\n    <tr>\n      <th>5</th>\n      <td>6</td>\n      <td>javascript-algorithms</td>\n      <td>javascript</td>\n      <td>110768</td>\n      <td>248</td>\n      <td>18331</td>\n    </tr>\n    <tr>\n      <th>6</th>\n      <td>7</td>\n      <td>paddleclas</td>\n      <td>python</td>\n      <td>1429</td>\n      <td>283</td>\n      <td>323</td>\n    </tr>\n    <tr>\n      <th>7</th>\n      <td>8</td>\n      <td>reddit_sentiment_trader</td>\n      <td>python</td>\n      <td>369</td>\n      <td>71</td>\n      <td>60</td>\n    </tr>\n    <tr>\n      <th>8</th>\n      <td>9</td>\n      <td>augly</td>\n      <td>python</td>\n      <td>2849</td>\n      <td>393</td>\n      <td>99</td>\n    </tr>\n    <tr>\n      <th>9</th>\n      <td>10</td>\n      <td>self-taught-guide-to-cloud-computing</td>\n      <td>NaN</td>\n      <td>863</td>\n      <td>179</td>\n      <td>84</td>\n    </tr>\n    <tr>\n      <th>10</th>\n      <td>11</td>\n      <td>signoz</td>\n      <td>typescript</td>\n      <td>2651</td>\n      <td>491</td>\n      <td>115</td>\n    </tr>\n  </tbody>\n</table>\n</div>"
     },
     "metadata": {}
    }
   ]
  },
  {
   "cell_type": "markdown",
   "source": "*   **Exemplo**: Atualização de **diversos** elementos com o método `apply`:",
   "metadata": {
    "id": "8nPYCMeM17Vi",
    "cell_id": "00129-2f80a1df-7756-44b4-a10b-7fbabe5ddbb3",
    "deepnote_cell_type": "markdown"
   }
  },
  {
   "cell_type": "code",
   "metadata": {
    "id": "38d2dB0317Vi",
    "cell_id": "00130-521ab1e1-f54f-42cf-9992-f215ea57f509",
    "deepnote_to_be_reexecuted": false,
    "source_hash": "1043b6a1",
    "execution_start": 1639013840950,
    "execution_millis": 0,
    "deepnote_cell_type": "code"
   },
   "source": "github_df['language'] = github_df['language'].apply(lambda linguagem: 'python' if linguagem == 'Python' else linguagem)",
   "execution_count": null,
   "outputs": []
  },
  {
   "cell_type": "code",
   "metadata": {
    "id": "fqy4o5lM17Vj",
    "cell_id": "00131-89b49103-8514-46bb-8c92-e90a185fa1e4",
    "deepnote_to_be_reexecuted": false,
    "source_hash": "45e1eb39",
    "execution_start": 1639013842934,
    "execution_millis": 14,
    "deepnote_cell_type": "code"
   },
   "source": "github_df",
   "execution_count": null,
   "outputs": [
    {
     "output_type": "execute_result",
     "execution_count": 119,
     "data": {
      "application/vnd.deepnote.dataframe.v2+json": {
       "row_count": 11,
       "column_count": 6,
       "columns": [
        {
         "name": "ranking",
         "dtype": "int64",
         "stats": {
          "unique_count": 11,
          "nan_count": 0,
          "min": "1",
          "max": "11",
          "histogram": [
           {
            "bin_start": 1,
            "bin_end": 2,
            "count": 1
           },
           {
            "bin_start": 2,
            "bin_end": 3,
            "count": 1
           },
           {
            "bin_start": 3,
            "bin_end": 4,
            "count": 1
           },
           {
            "bin_start": 4,
            "bin_end": 5,
            "count": 1
           },
           {
            "bin_start": 5,
            "bin_end": 6,
            "count": 1
           },
           {
            "bin_start": 6,
            "bin_end": 7,
            "count": 1
           },
           {
            "bin_start": 7,
            "bin_end": 8,
            "count": 1
           },
           {
            "bin_start": 8,
            "bin_end": 9,
            "count": 1
           },
           {
            "bin_start": 9,
            "bin_end": 10,
            "count": 1
           },
           {
            "bin_start": 10,
            "bin_end": 11,
            "count": 2
           }
          ]
         }
        },
        {
         "name": "project",
         "dtype": "object",
         "stats": {
          "unique_count": 11,
          "nan_count": 0,
          "categories": [
           {
            "name": "plow",
            "count": 1
           },
           {
            "name": "n8n",
            "count": 1
           },
           {
            "name": "9 others",
            "count": 9
           }
          ]
         }
        },
        {
         "name": "language",
         "dtype": "object",
         "stats": {
          "unique_count": 4,
          "nan_count": 2,
          "categories": [
           {
            "name": "python",
            "count": 4
           },
           {
            "name": "3 others",
            "count": 5
           },
           {
            "name": "Missing",
            "count": 2
           }
          ]
         }
        },
        {
         "name": "stars",
         "dtype": "int64",
         "stats": {
          "unique_count": 11,
          "nan_count": 0,
          "min": "369",
          "max": "110768",
          "histogram": [
           {
            "bin_start": 369,
            "bin_end": 11408.9,
            "count": 9
           },
           {
            "bin_start": 11408.9,
            "bin_end": 22448.8,
            "count": 1
           },
           {
            "bin_start": 22448.8,
            "bin_end": 33488.7,
            "count": 0
           },
           {
            "bin_start": 33488.7,
            "bin_end": 44528.6,
            "count": 0
           },
           {
            "bin_start": 44528.6,
            "bin_end": 55568.5,
            "count": 0
           },
           {
            "bin_start": 55568.5,
            "bin_end": 66608.4,
            "count": 0
           },
           {
            "bin_start": 66608.4,
            "bin_end": 77648.3,
            "count": 0
           },
           {
            "bin_start": 77648.3,
            "bin_end": 88688.2,
            "count": 0
           },
           {
            "bin_start": 88688.2,
            "bin_end": 99728.09999999999,
            "count": 0
           },
           {
            "bin_start": 99728.09999999999,
            "bin_end": 110768,
            "count": 1
           }
          ]
         }
        },
        {
         "name": "stars_today",
         "dtype": "int64",
         "stats": {
          "unique_count": 11,
          "nan_count": 0,
          "min": "71",
          "max": "574",
          "histogram": [
           {
            "bin_start": 71,
            "bin_end": 121.3,
            "count": 2
           },
           {
            "bin_start": 121.3,
            "bin_end": 171.6,
            "count": 0
           },
           {
            "bin_start": 171.6,
            "bin_end": 221.89999999999998,
            "count": 1
           },
           {
            "bin_start": 221.89999999999998,
            "bin_end": 272.2,
            "count": 3
           },
           {
            "bin_start": 272.2,
            "bin_end": 322.5,
            "count": 2
           },
           {
            "bin_start": 322.5,
            "bin_end": 372.79999999999995,
            "count": 0
           },
           {
            "bin_start": 372.79999999999995,
            "bin_end": 423.09999999999997,
            "count": 1
           },
           {
            "bin_start": 423.09999999999997,
            "bin_end": 473.4,
            "count": 0
           },
           {
            "bin_start": 473.4,
            "bin_end": 523.7,
            "count": 1
           },
           {
            "bin_start": 523.7,
            "bin_end": 574,
            "count": 1
           }
          ]
         }
        },
        {
         "name": "forks",
         "dtype": "int64",
         "stats": {
          "unique_count": 11,
          "nan_count": 0,
          "min": "38",
          "max": "18331",
          "histogram": [
           {
            "bin_start": 38,
            "bin_end": 1867.3,
            "count": 10
           },
           {
            "bin_start": 1867.3,
            "bin_end": 3696.6,
            "count": 0
           },
           {
            "bin_start": 3696.6,
            "bin_end": 5525.9,
            "count": 0
           },
           {
            "bin_start": 5525.9,
            "bin_end": 7355.2,
            "count": 0
           },
           {
            "bin_start": 7355.2,
            "bin_end": 9184.5,
            "count": 0
           },
           {
            "bin_start": 9184.5,
            "bin_end": 11013.8,
            "count": 0
           },
           {
            "bin_start": 11013.8,
            "bin_end": 12843.1,
            "count": 0
           },
           {
            "bin_start": 12843.1,
            "bin_end": 14672.4,
            "count": 0
           },
           {
            "bin_start": 14672.4,
            "bin_end": 16501.7,
            "count": 0
           },
           {
            "bin_start": 16501.7,
            "bin_end": 18331,
            "count": 1
           }
          ]
         }
        },
        {
         "name": "_deepnote_index_column",
         "dtype": "int64"
        }
       ],
       "rows_top": [
        {
         "ranking": 1,
         "project": "plow",
         "language": "go",
         "stars": 1304,
         "stars_today": 574,
         "forks": 38,
         "_deepnote_index_column": 0
        },
        {
         "ranking": 2,
         "project": "n8n",
         "language": "typescript",
         "stars": 15668,
         "stars_today": 280,
         "forks": 1370,
         "_deepnote_index_column": 1
        },
        {
         "ranking": 3,
         "project": "slides",
         "language": "go",
         "stars": 3218,
         "stars_today": 265,
         "forks": 80,
         "_deepnote_index_column": 2
        },
        {
         "ranking": 4,
         "project": "defi-developer-road-map",
         "language": "nan",
         "stars": 636,
         "stars_today": 247,
         "forks": 49,
         "_deepnote_index_column": 3
        },
        {
         "ranking": 5,
         "project": "pytorch-image-models",
         "language": "python",
         "stars": 11065,
         "stars_today": 101,
         "forks": 1646,
         "_deepnote_index_column": 4
        },
        {
         "ranking": 6,
         "project": "javascript-algorithms",
         "language": "javascript",
         "stars": 110768,
         "stars_today": 248,
         "forks": 18331,
         "_deepnote_index_column": 5
        },
        {
         "ranking": 7,
         "project": "paddleclas",
         "language": "python",
         "stars": 1429,
         "stars_today": 283,
         "forks": 323,
         "_deepnote_index_column": 6
        },
        {
         "ranking": 8,
         "project": "reddit_sentiment_trader",
         "language": "python",
         "stars": 369,
         "stars_today": 71,
         "forks": 60,
         "_deepnote_index_column": 7
        },
        {
         "ranking": 9,
         "project": "augly",
         "language": "python",
         "stars": 2849,
         "stars_today": 393,
         "forks": 99,
         "_deepnote_index_column": 8
        },
        {
         "ranking": 10,
         "project": "self-taught-guide-to-cloud-computing",
         "language": "nan",
         "stars": 863,
         "stars_today": 179,
         "forks": 84,
         "_deepnote_index_column": 9
        },
        {
         "ranking": 11,
         "project": "signoz",
         "language": "typescript",
         "stars": 2651,
         "stars_today": 491,
         "forks": 115,
         "_deepnote_index_column": 10
        }
       ],
       "rows_bottom": null
      },
      "text/plain": "    ranking                               project    language   stars  \\\n0         1                                  plow          go    1304   \n1         2                                   n8n  typescript   15668   \n2         3                                slides          go    3218   \n3         4               defi-developer-road-map         NaN     636   \n4         5                  pytorch-image-models      python   11065   \n5         6                 javascript-algorithms  javascript  110768   \n6         7                            paddleclas      python    1429   \n7         8               reddit_sentiment_trader      python     369   \n8         9                                 augly      python    2849   \n9        10  self-taught-guide-to-cloud-computing         NaN     863   \n10       11                                signoz  typescript    2651   \n\n    stars_today  forks  \n0           574     38  \n1           280   1370  \n2           265     80  \n3           247     49  \n4           101   1646  \n5           248  18331  \n6           283    323  \n7            71     60  \n8           393     99  \n9           179     84  \n10          491    115  ",
      "text/html": "<div>\n<style scoped>\n    .dataframe tbody tr th:only-of-type {\n        vertical-align: middle;\n    }\n\n    .dataframe tbody tr th {\n        vertical-align: top;\n    }\n\n    .dataframe thead th {\n        text-align: right;\n    }\n</style>\n<table border=\"1\" class=\"dataframe\">\n  <thead>\n    <tr style=\"text-align: right;\">\n      <th></th>\n      <th>ranking</th>\n      <th>project</th>\n      <th>language</th>\n      <th>stars</th>\n      <th>stars_today</th>\n      <th>forks</th>\n    </tr>\n  </thead>\n  <tbody>\n    <tr>\n      <th>0</th>\n      <td>1</td>\n      <td>plow</td>\n      <td>go</td>\n      <td>1304</td>\n      <td>574</td>\n      <td>38</td>\n    </tr>\n    <tr>\n      <th>1</th>\n      <td>2</td>\n      <td>n8n</td>\n      <td>typescript</td>\n      <td>15668</td>\n      <td>280</td>\n      <td>1370</td>\n    </tr>\n    <tr>\n      <th>2</th>\n      <td>3</td>\n      <td>slides</td>\n      <td>go</td>\n      <td>3218</td>\n      <td>265</td>\n      <td>80</td>\n    </tr>\n    <tr>\n      <th>3</th>\n      <td>4</td>\n      <td>defi-developer-road-map</td>\n      <td>NaN</td>\n      <td>636</td>\n      <td>247</td>\n      <td>49</td>\n    </tr>\n    <tr>\n      <th>4</th>\n      <td>5</td>\n      <td>pytorch-image-models</td>\n      <td>python</td>\n      <td>11065</td>\n      <td>101</td>\n      <td>1646</td>\n    </tr>\n    <tr>\n      <th>5</th>\n      <td>6</td>\n      <td>javascript-algorithms</td>\n      <td>javascript</td>\n      <td>110768</td>\n      <td>248</td>\n      <td>18331</td>\n    </tr>\n    <tr>\n      <th>6</th>\n      <td>7</td>\n      <td>paddleclas</td>\n      <td>python</td>\n      <td>1429</td>\n      <td>283</td>\n      <td>323</td>\n    </tr>\n    <tr>\n      <th>7</th>\n      <td>8</td>\n      <td>reddit_sentiment_trader</td>\n      <td>python</td>\n      <td>369</td>\n      <td>71</td>\n      <td>60</td>\n    </tr>\n    <tr>\n      <th>8</th>\n      <td>9</td>\n      <td>augly</td>\n      <td>python</td>\n      <td>2849</td>\n      <td>393</td>\n      <td>99</td>\n    </tr>\n    <tr>\n      <th>9</th>\n      <td>10</td>\n      <td>self-taught-guide-to-cloud-computing</td>\n      <td>NaN</td>\n      <td>863</td>\n      <td>179</td>\n      <td>84</td>\n    </tr>\n    <tr>\n      <th>10</th>\n      <td>11</td>\n      <td>signoz</td>\n      <td>typescript</td>\n      <td>2651</td>\n      <td>491</td>\n      <td>115</td>\n    </tr>\n  </tbody>\n</table>\n</div>"
     },
     "metadata": {}
    }
   ]
  },
  {
   "cell_type": "code",
   "metadata": {
    "tags": [],
    "cell_id": "00132-70b77c98-ef87-4142-a65d-803906a3d73a",
    "deepnote_cell_type": "code"
   },
   "source": "",
   "execution_count": null,
   "outputs": []
  },
  {
   "cell_type": "markdown",
   "source": "<a style='text-decoration:none;line-height:16px;display:flex;color:#5B5B62;padding:10px;justify-content:end;' href='https://deepnote.com?utm_source=created-in-deepnote-cell&projectId=690ec1aa-ed7a-4520-b902-aba6fc5867d1' target=\"_blank\">\n<img alt='Created in deepnote.com' style='display:inline;max-height:16px;margin:0px;margin-right:7.5px;' src='data:image/svg+xml;base64,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' > </img>\nCreated in <span style='font-weight:600;margin-left:4px;'>Deepnote</span></a>",
   "metadata": {
    "tags": [],
    "created_in_deepnote_cell": true,
    "deepnote_cell_type": "markdown"
   }
  }
 ],
 "nbformat": 4,
 "nbformat_minor": 0,
 "metadata": {
  "colab": {
   "name": "module_12_class.ipynb",
   "provenance": [],
   "collapsed_sections": [],
   "toc_visible": true
  },
  "kernelspec": {
   "name": "python3",
   "display_name": "Python 3"
  },
  "deepnote_notebook_id": "df272da3-9b0d-4ee2-b9fc-3206e4e11a1e",
  "deepnote": {},
  "deepnote_execution_queue": []
 }
}