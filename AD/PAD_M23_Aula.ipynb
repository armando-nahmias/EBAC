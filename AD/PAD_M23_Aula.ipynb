{
 "cells": [
  {
   "cell_type": "markdown",
   "source": "<img src=\"https://raw.githubusercontent.com/andre-marcos-perez/ebac-course-utils/main/media/logo/newebac_logo_black_half.png\" alt=\"ebac-logo\">\n\n---\n\n# **Módulo** | Análise de Dados: Fundamentos de Aprendizado de Máquina\nCaderno de **Aula**<br> \nProfessor [André Perez](https://www.linkedin.com/in/andremarcosperez/)\n\n---",
   "metadata": {
    "id": "KJqp9AANOCtf",
    "cell_id": "00000-791c9cb7-0bda-4847-9c84-524220805aad",
    "deepnote_cell_type": "markdown"
   }
  },
  {
   "cell_type": "markdown",
   "source": "# **Tópicos**\n\n<ol type=\"1\">\n  <li>Teoria;</li>\n  <li>Atributos categóricos;</li>\n  <li>Atributos numéricos;</li>\n  <li>Dados faltantes.</li>\n</ol>",
   "metadata": {
    "id": "d9jDtUbDOE1-",
    "cell_id": "00001-43f62d41-6241-461b-b80c-7f78d8dc8596",
    "deepnote_cell_type": "markdown"
   }
  },
  {
   "cell_type": "markdown",
   "source": "---",
   "metadata": {
    "id": "SmoHgt-lwkpD",
    "cell_id": "00002-1255071e-8394-4c49-81d0-563570896e92",
    "deepnote_cell_type": "markdown"
   }
  },
  {
   "cell_type": "markdown",
   "source": "# **Aulas**",
   "metadata": {
    "id": "GABI6OW8OfQ2",
    "cell_id": "00003-a689906b-9691-4146-a483-bc372356e076",
    "deepnote_cell_type": "markdown"
   }
  },
  {
   "cell_type": "markdown",
   "source": "## 0\\. Abordagens estatísticas",
   "metadata": {
    "id": "kzRDceCvkFj2",
    "cell_id": "00004-d6a82c55-8d0e-41af-bd6b-0e064f967f37",
    "deepnote_cell_type": "markdown"
   }
  },
  {
   "cell_type": "markdown",
   "source": "*   **Descritiva**: foco no passado para entender o **presente**.\n*   <font color='red'>**Preditiva**</font>: foca no passado para inferir o **futuro**.",
   "metadata": {
    "id": "jzEvBUk3qb1n",
    "cell_id": "00005-23bddcd5-0675-4a50-9a80-8c800dfffbf2",
    "deepnote_cell_type": "markdown"
   }
  },
  {
   "cell_type": "markdown",
   "source": "## 1\\. Teoria",
   "metadata": {
    "id": "muD1vxozykSC",
    "cell_id": "00006-d7cd49de-52f6-4524-bb64-0b2317a2b46b",
    "deepnote_cell_type": "markdown"
   }
  },
  {
   "cell_type": "markdown",
   "source": "### **1.1. Motivação** ",
   "metadata": {
    "id": "qBqXG-IFOsed",
    "cell_id": "00007-1c411bd8-6557-47fd-8f8f-ff1c9a431059",
    "deepnote_cell_type": "markdown"
   }
  },
  {
   "cell_type": "markdown",
   "source": "Você trabalha em um time da NBA e precisa entender a relação entre o peso e altura dos jogadores da liga para ajudar o seu time a otimizar a condição física dos seus jogadores. O objetivo é responder a seguinte pergunta:",
   "metadata": {
    "id": "p4xNtwW3rzep",
    "cell_id": "00008-3cd03a94-27f0-4808-8418-1a479512beae",
    "deepnote_cell_type": "markdown"
   }
  },
  {
   "cell_type": "markdown",
   "source": "> Dado a **altura** de um jogador, qual deve ser seu **peso**?",
   "metadata": {
    "id": "qIfEH2inKQ_T",
    "cell_id": "00009-577bb446-8adf-46c2-aa60-79b6252372c5",
    "deepnote_cell_type": "markdown"
   }
  },
  {
   "cell_type": "markdown",
   "source": "- **Dados**",
   "metadata": {
    "id": "jb22Ln4fVkBF",
    "cell_id": "00010-3cbf1020-3557-421f-9d2c-3e8d7327d2dc",
    "deepnote_cell_type": "markdown"
   }
  },
  {
   "cell_type": "code",
   "metadata": {
    "id": "styQBVso591T",
    "cell_id": "00011-f03cdc48-9a39-4b34-9a95-e94acbd63167",
    "deepnote_cell_type": "code"
   },
   "source": "%%writefile nba.csv\nheight;weight;wage\n2.01;86.2;17150000\n1.93;106.1;898310\n2.11;120.2;9881598\n1.88;85.7;15643750\n1.88;84.8;2875000\n2.11;106.1;2376840\n1.98;86.6;2625717\n2.08;104.3;37199000\n2.03;117.9;28942830\n1.83;81.6;522738",
   "execution_count": null,
   "outputs": []
  },
  {
   "cell_type": "markdown",
   "source": " - **Análise Exploratória**",
   "metadata": {
    "id": "QN-CXgy-6GAk",
    "cell_id": "00012-2e375575-a99e-40b4-87cb-9329bbabf86c",
    "deepnote_cell_type": "markdown"
   }
  },
  {
   "cell_type": "code",
   "metadata": {
    "id": "YtLU-Kp16oak",
    "cell_id": "00013-21253f79-4198-40a5-97a8-c1fc38db3ce8",
    "deepnote_to_be_reexecuted": false,
    "source_hash": "456c4e13",
    "execution_start": 1641482947229,
    "execution_millis": 4694,
    "deepnote_cell_type": "code"
   },
   "source": "import numpy as np\nimport pandas as pd\nimport seaborn as sns",
   "outputs": [],
   "execution_count": null
  },
  {
   "cell_type": "code",
   "metadata": {
    "id": "HfvSTbRj56uu",
    "cell_id": "00014-e745d30b-caa3-49fa-83a6-40044d3c4807",
    "deepnote_cell_type": "code"
   },
   "source": "nba_df = pd.read_csv('nba.csv', sep=';')\nnba_df.head()",
   "execution_count": null,
   "outputs": []
  },
  {
   "cell_type": "code",
   "metadata": {
    "id": "aOiykjxc6tA-",
    "cell_id": "00015-e5a80fa4-4247-4e68-8ddc-9141520c1224",
    "deepnote_cell_type": "code"
   },
   "source": "nba_df.head()",
   "execution_count": null,
   "outputs": []
  },
  {
   "cell_type": "code",
   "metadata": {
    "id": "qzkbRazp6FUv",
    "cell_id": "00016-cea937cb-9cec-4f99-aef8-76841886fc2b",
    "deepnote_cell_type": "code"
   },
   "source": "np.corrcoef(nba_df['weight'], nba_df['height'])",
   "execution_count": null,
   "outputs": []
  },
  {
   "cell_type": "code",
   "metadata": {
    "id": "w1_L10ci6dDq",
    "cell_id": "00017-02b01fea-e137-4449-bcc2-3c01dfc63437",
    "deepnote_cell_type": "code"
   },
   "source": "with sns.axes_style('whitegrid'):\n\n  grafico = sns.scatterplot(x=nba_df['height'], y=nba_df['weight'])\n  grafico.set(title='Peso e Altura dos Jogadores da NBA em 2020', xlabel='Peso (kg)', ylabel='Altura (m)');",
   "execution_count": null,
   "outputs": []
  },
  {
   "cell_type": "markdown",
   "source": " - **Análise Preditiva**",
   "metadata": {
    "id": "cnWxUAWz64AR",
    "cell_id": "00018-24baab94-088c-4f9d-853d-8bb891d0b478",
    "deepnote_cell_type": "markdown"
   }
  },
  {
   "cell_type": "markdown",
   "source": "> Dado a **altura** de um jogador, qual deve ser seu **peso**?",
   "metadata": {
    "id": "jRY2EsM09Dpk",
    "cell_id": "00019-3e1a9fc5-8ee1-4bf6-ac4b-2b4780dcb9b9",
    "deepnote_cell_type": "markdown"
   }
  },
  {
   "cell_type": "markdown",
   "source": "Queremos uma equação matemática que represente esta relação. Uma possível equação seria a equação linear de primero grau:",
   "metadata": {
    "id": "UrsxlQhH7WrD",
    "cell_id": "00020-8290bd17-d9ce-4f99-aa9d-1766fc22b1dc",
    "deepnote_cell_type": "markdown"
   }
  },
  {
   "cell_type": "markdown",
   "source": " > $y = f(x) = \\textbf{a}x + \\textbf{b}$",
   "metadata": {
    "id": "uDGyhy8m6--E",
    "cell_id": "00021-1ff718cb-02d9-48e6-82f3-aa0825cc6d6c",
    "deepnote_cell_type": "markdown"
   }
  },
  {
   "cell_type": "markdown",
   "source": "O número $\\textbf{a}$ é chamado de coeficiente angular e controla a inclinação da reta, já o número $\\textbf{b}$ é chamado de coeficiente linear e indica o deslocamento horizontal da reta. A idéia é predizer o peso que um atleta deve ter dado a sua altura, ou seja:",
   "metadata": {
    "id": "peBjXQrnK_ZG",
    "cell_id": "00022-1a72a018-e7ea-4b89-aeb3-4a1b740b4265",
    "deepnote_cell_type": "markdown"
   }
  },
  {
   "cell_type": "markdown",
   "source": " > $peso = f(altura) = \\textbf{a}(altura) + \\textbf{b}$",
   "metadata": {
    "id": "B2n58gmPJQQr",
    "cell_id": "00023-f7f719f4-c0d2-4e47-8e4c-bf5199d73593",
    "deepnote_cell_type": "markdown"
   }
  },
  {
   "cell_type": "markdown",
   "source": "Qual o melhor valor de $\\textbf{a}$ e $\\textbf{b}$ para esse conjunto de dados?",
   "metadata": {
    "id": "hfQQ1gYE8krr",
    "cell_id": "00024-1ce67ab0-5bb6-4943-9500-aa87e5657d39",
    "deepnote_cell_type": "markdown"
   }
  },
  {
   "cell_type": "markdown",
   "source": "### **1.2. Aprendizado de Máquina** ",
   "metadata": {
    "id": "NoxZ3IdnrvH4",
    "cell_id": "00025-b9a63041-4765-49d1-835c-d9b937d03f55",
    "deepnote_cell_type": "markdown"
   }
  },
  {
   "cell_type": "markdown",
   "source": "O aprendizado de máquina é uma área que busca treinar modelos **matemáticos** preditivos utilizando dados e técnicas **estatísticas** e **computacionais**. Por treinar, entenda, selecionar os melhores parâmetros (ou coeficientes) de uma equação matemática para o conjunto de dados em questão. No exemplo da motivação, utilizariamos técnicas de aprendizado de máquina para definir os coeficientes $\\textbf{a}$ e $\\textbf{b}$ da equação para os dados de peso e altura.",
   "metadata": {
    "id": "1BykKIvGr0yL",
    "cell_id": "00026-ae29d492-b219-4fdc-aa1e-5367b400ff2f",
    "deepnote_cell_type": "markdown"
   }
  },
  {
   "cell_type": "markdown",
   "source": "O treino de um modelo (geralmente) segue os seguintes passos:",
   "metadata": {
    "id": "GP38uHa3MCIt",
    "cell_id": "00027-b5b68803-0dff-4c9e-bd48-4937f62eca68",
    "deepnote_cell_type": "markdown"
   }
  },
  {
   "cell_type": "markdown",
   "source": " 1. **Preparação:**\n  - Seleção da equação para o problema (modelo);\n  - Seleção dos dados disponíveis (atributos);\n  - Separação dos dados em treino e validação.\n 1. **Treino:**\n  - Treino do modelo com os dados de treino (algoritmo);\n  - Validação do modelo com os dados de validação (métricas).\n 1. **Predição.**",
   "metadata": {
    "id": "3-RgHe8UMHBk",
    "cell_id": "00028-22569b9f-d4cb-4c4d-b2bd-b64e4a82699e",
    "deepnote_cell_type": "markdown"
   }
  },
  {
   "cell_type": "markdown",
   "source": "Para o exemplo da motivação:",
   "metadata": {
    "id": "hJDOekgCOTR8",
    "cell_id": "00029-29cd7f78-48c3-4457-901d-d7b78620441a",
    "deepnote_cell_type": "markdown"
   }
  },
  {
   "cell_type": "markdown",
   "source": " 1. **Preparação:**\n  - $y = f(x) = \\textbf{a}x + \\textbf{b}$;\n  - Peso e altura;\n  - Separação em dos dados em treino e validação.\n 1. **Treino:**\n  - Algoritmo;\n  - Métricas.\n 1. **Predição.**",
   "metadata": {
    "id": "fpgU2UpxOfjQ",
    "cell_id": "00030-94588709-7057-4ac8-bf18-1a49ff2f0174",
    "deepnote_cell_type": "markdown"
   }
  },
  {
   "cell_type": "markdown",
   "source": "### **1.3. Tipos de Aprendizado** ",
   "metadata": {
    "id": "ErqYaQ1FCLIu",
    "cell_id": "00031-535663b6-8be1-498b-a01d-72efd61ee994",
    "deepnote_cell_type": "markdown"
   }
  },
  {
   "cell_type": "markdown",
   "source": "O tipo de aprendizado se dá pelo dado disponível e pelo tipo da resposta esperada da predição.",
   "metadata": {
    "id": "Y7hR5vWmCLIv",
    "cell_id": "00032-7cff38c9-59a2-4fe1-b16b-e1defaf3a459",
    "deepnote_cell_type": "markdown"
   }
  },
  {
   "cell_type": "markdown",
   "source": "Se existe uma variável resposta, ou seja, uma atributo a ser predito, então temos o **aprendizado supervisionado**. Dentro deste aprendizado, se a predição é numérica, temos uma **regressão**, já se está for um conjunto de opções (que podem ser numéricas) temos uma **classificação**. ",
   "metadata": {
    "id": "giXmjmmtQ6Wp",
    "cell_id": "00033-d6527b38-2074-4878-9b8f-f9fd7e5faa67",
    "deepnote_cell_type": "markdown"
   }
  },
  {
   "cell_type": "markdown",
   "source": "> **Exemplo**: Predizer o score de crédito (980, 730, etc.) dado o salário e o gasto mensal médio de cartão de crédito, temos é uma **regressão**.",
   "metadata": {
    "id": "aYQEx56dRbl4",
    "cell_id": "00034-aa86d08e-bfaa-4a35-8dd2-624562437d01",
    "deepnote_cell_type": "markdown"
   }
  },
  {
   "cell_type": "markdown",
   "source": "> **Exemplo**: Predizer a categoria do *score* de crédito (A, B, C, etc.) dado o salário e o gasto mensal médio de cartão de crédito, temos é uma **classificação**.",
   "metadata": {
    "id": "-QcvNWztRjxa",
    "cell_id": "00035-401dd4e9-21fd-49ac-ad4e-fcad403db094",
    "deepnote_cell_type": "markdown"
   }
  },
  {
   "cell_type": "markdown",
   "source": "Se não existe uma variável resposta, ou seja, uma atributo a ser predito, então temos o **aprendizado não supervisionado**. Dentro deste aprendizado, se a predição busca agrupar elementos comuns, temos um **agrupamento**.",
   "metadata": {
    "id": "8wiVA8SqQ7bZ",
    "cell_id": "00036-49af2e02-e454-4997-bc2d-44cf8a4888d3",
    "deepnote_cell_type": "markdown"
   }
  },
  {
   "cell_type": "markdown",
   "source": "> **Exemplo**: Encontrar clientes com perfil de consumo em comum dado o salário e o gasto mensal médio de cartão de crédito, temos é uma **agrupamento**.",
   "metadata": {
    "id": "lYLSi1u-STkZ",
    "cell_id": "00037-873a8d14-c4a5-4f4e-9c38-f6962e7a7172",
    "deepnote_cell_type": "markdown"
   }
  },
  {
   "cell_type": "markdown",
   "source": "## 2\\. Atributos categóricos",
   "metadata": {
    "id": "PD0FiM7UJOGT",
    "cell_id": "00038-cb27b57c-7783-41ec-88ac-bfd505b5ac33",
    "deepnote_cell_type": "markdown"
   }
  },
  {
   "cell_type": "markdown",
   "source": "### **2.1. Definição** ",
   "metadata": {
    "id": "AAwJC4RyS0xa",
    "cell_id": "00039-cb486604-261a-445a-b8a2-b178e4c24672",
    "deepnote_cell_type": "markdown"
   }
  },
  {
   "cell_type": "markdown",
   "source": "Atributos categóricos são aqueles que apresentam valores discretos numéricos (`int`, `float`, etc.) ou não (`strings`) para representar categorias. Como os modelos trabalham (em sua grande maioria) apenas com valores numéricos, os atributos com valores do tipo `strings` precisam passar por um processo de codificação ou conversão para valores numéricos.",
   "metadata": {
    "id": "Hc5TSKlSbo2l",
    "cell_id": "00040-3cd41d08-f252-4796-b19a-32dc3a67262e",
    "deepnote_cell_type": "markdown"
   }
  },
  {
   "cell_type": "markdown",
   "source": "- Exemplos: sexo, perguntas de sim/não, cidade/estado/país, etc.",
   "metadata": {
    "id": "dkIKBkcnxKGc",
    "cell_id": "00041-9b59577b-8555-4fa1-ad20-7ed0a91d4476",
    "deepnote_cell_type": "markdown"
   }
  },
  {
   "cell_type": "markdown",
   "source": "### **2.2. Exemplo** ",
   "metadata": {
    "id": "NGHAVR8xbs1a",
    "cell_id": "00042-e91ff4c4-d5cd-46af-83eb-07833f861118",
    "deepnote_cell_type": "markdown"
   }
  },
  {
   "cell_type": "markdown",
   "source": "Nesta aula, vamos utilizar dados sobre provas de vestibular, similar ao nosso ENEM. O conjunto de dados é uma amostra dos dados de uma base de dados do Kaggle, presente neste [link](https://www.kaggle.com/sonukumari47/students-performance-in-exams).",
   "metadata": {
    "id": "Glb1FI1YbWeA",
    "cell_id": "00043-1e7cc32f-e746-46b2-b55f-ac6443481243",
    "deepnote_cell_type": "markdown"
   }
  },
  {
   "cell_type": "code",
   "metadata": {
    "id": "eZPFncIMaclo",
    "cell_id": "00044-9f914230-8c52-4c19-a2f3-5f3d4dfb05db",
    "deepnote_to_be_reexecuted": false,
    "source_hash": "9d937343",
    "execution_start": 1641482922729,
    "execution_millis": 6,
    "deepnote_cell_type": "code"
   },
   "source": "%%writefile ./dados/exam.csv\nethnicity,parental_education,lunch,preparation_course,math,reading,writing,sex\ngroup B,bachelor's degree,standard,none,0.72,0.72,0.74,F\ngroup C,some college,standard,completed,0.69,0.9,0.88,F\ngroup B,master's degree,standard,none,0.9,0.95,0.93,F\ngroup A,associate's degree,free/reduced,none,0.47,0.57,0.44,M\ngroup C,some college,standard,none,0.76,0.78,0.75,M\ngroup B,associate's degree,standard,none,0.71,0.83,0.78,F\ngroup B,some college,standard,completed,0.88,0.95,0.92,F\ngroup B,some college,free/reduced,none,0.4,0.43,0.39,M\ngroup D,high school,free/reduced,completed,0.64,0.64,0.67,M\ngroup B,high school,free/reduced,none,0.38,0.6,0.5,F\ngroup C,associate's degree,standard,none,0.58,0.54,0.52,M\ngroup D,associate's degree,standard,none,0.4,0.52,0.43,M\ngroup B,high school,standard,none,0.65,0.81,0.73,F\ngroup A,some college,standard,completed,0.78,0.72,0.7,M\ngroup A,master's degree,standard,none,0.5,0.53,0.58,F\ngroup C,some high school,standard,none,0.69,0.75,0.78,F\ngroup C,high school,standard,none,0.88,0.89,0.86,M\ngroup B,some high school,free/reduced,none,0.18,0.32,0.28,F\ngroup C,master's degree,free/reduced,completed,0.46,0.42,0.46,M\ngroup C,associate's degree,free/reduced,none,0.54,0.58,0.61,F\ngroup D,high school,standard,none,0.66,0.69,0.63,M",
   "outputs": [
    {
     "name": "stdout",
     "text": "Writing ./dados/exam.csv\n",
     "output_type": "stream",
     "data": {}
    }
   ],
   "execution_count": null
  },
  {
   "cell_type": "code",
   "metadata": {
    "id": "TuWPtHisa-eT",
    "cell_id": "00045-bc882f06-9ea3-4f2a-b565-c75e998fb9c5",
    "deepnote_to_be_reexecuted": false,
    "source_hash": "8ebcba36",
    "execution_start": 1641482960332,
    "execution_millis": 13,
    "deepnote_cell_type": "code"
   },
   "source": "data = pd.read_csv('./dados/exam.csv')",
   "outputs": [],
   "execution_count": null
  },
  {
   "cell_type": "code",
   "metadata": {
    "id": "tGaqHmXXbHSm",
    "cell_id": "00046-bad88708-5a79-4b97-bb1b-029c12c66e8e",
    "deepnote_to_be_reexecuted": false,
    "source_hash": "41313cfa",
    "execution_start": 1641482963881,
    "execution_millis": 212,
    "deepnote_cell_type": "code"
   },
   "source": "data.head()",
   "outputs": [
    {
     "output_type": "execute_result",
     "execution_count": 7,
     "data": {
      "application/vnd.deepnote.dataframe.v3+json": {
       "column_count": 8,
       "row_count": 5,
       "columns": [
        {
         "name": "ethnicity",
         "dtype": "object",
         "stats": {
          "unique_count": 3,
          "nan_count": 0,
          "categories": [
           {
            "name": "group B",
            "count": 2
           },
           {
            "name": "group C",
            "count": 2
           },
           {
            "name": "group A",
            "count": 1
           }
          ]
         }
        },
        {
         "name": "parental_education",
         "dtype": "object",
         "stats": {
          "unique_count": 4,
          "nan_count": 0,
          "categories": [
           {
            "name": "some college",
            "count": 2
           },
           {
            "name": "bachelor's degree",
            "count": 1
           },
           {
            "name": "2 others",
            "count": 2
           }
          ]
         }
        },
        {
         "name": "lunch",
         "dtype": "object",
         "stats": {
          "unique_count": 2,
          "nan_count": 0,
          "categories": [
           {
            "name": "standard",
            "count": 4
           },
           {
            "name": "free/reduced",
            "count": 1
           }
          ]
         }
        },
        {
         "name": "preparation_course",
         "dtype": "object",
         "stats": {
          "unique_count": 2,
          "nan_count": 0,
          "categories": [
           {
            "name": "none",
            "count": 4
           },
           {
            "name": "completed",
            "count": 1
           }
          ]
         }
        },
        {
         "name": "math",
         "dtype": "float64",
         "stats": {
          "unique_count": 5,
          "nan_count": 0,
          "min": "0.47",
          "max": "0.9",
          "histogram": [
           {
            "bin_start": 0.47,
            "bin_end": 0.513,
            "count": 1
           },
           {
            "bin_start": 0.513,
            "bin_end": 0.5559999999999999,
            "count": 0
           },
           {
            "bin_start": 0.5559999999999999,
            "bin_end": 0.599,
            "count": 0
           },
           {
            "bin_start": 0.599,
            "bin_end": 0.642,
            "count": 0
           },
           {
            "bin_start": 0.642,
            "bin_end": 0.685,
            "count": 0
           },
           {
            "bin_start": 0.685,
            "bin_end": 0.728,
            "count": 2
           },
           {
            "bin_start": 0.728,
            "bin_end": 0.771,
            "count": 1
           },
           {
            "bin_start": 0.771,
            "bin_end": 0.8140000000000001,
            "count": 0
           },
           {
            "bin_start": 0.8140000000000001,
            "bin_end": 0.857,
            "count": 0
           },
           {
            "bin_start": 0.857,
            "bin_end": 0.9,
            "count": 1
           }
          ]
         }
        },
        {
         "name": "reading",
         "dtype": "float64",
         "stats": {
          "unique_count": 5,
          "nan_count": 0,
          "min": "0.57",
          "max": "0.95",
          "histogram": [
           {
            "bin_start": 0.57,
            "bin_end": 0.608,
            "count": 1
           },
           {
            "bin_start": 0.608,
            "bin_end": 0.6459999999999999,
            "count": 0
           },
           {
            "bin_start": 0.6459999999999999,
            "bin_end": 0.6839999999999999,
            "count": 0
           },
           {
            "bin_start": 0.6839999999999999,
            "bin_end": 0.722,
            "count": 1
           },
           {
            "bin_start": 0.722,
            "bin_end": 0.76,
            "count": 0
           },
           {
            "bin_start": 0.76,
            "bin_end": 0.7979999999999999,
            "count": 1
           },
           {
            "bin_start": 0.7979999999999999,
            "bin_end": 0.836,
            "count": 0
           },
           {
            "bin_start": 0.836,
            "bin_end": 0.8739999999999999,
            "count": 0
           },
           {
            "bin_start": 0.8739999999999999,
            "bin_end": 0.9119999999999999,
            "count": 1
           },
           {
            "bin_start": 0.9119999999999999,
            "bin_end": 0.95,
            "count": 1
           }
          ]
         }
        },
        {
         "name": "writing",
         "dtype": "float64",
         "stats": {
          "unique_count": 5,
          "nan_count": 0,
          "min": "0.44",
          "max": "0.93",
          "histogram": [
           {
            "bin_start": 0.44,
            "bin_end": 0.489,
            "count": 1
           },
           {
            "bin_start": 0.489,
            "bin_end": 0.538,
            "count": 0
           },
           {
            "bin_start": 0.538,
            "bin_end": 0.587,
            "count": 0
           },
           {
            "bin_start": 0.587,
            "bin_end": 0.636,
            "count": 0
           },
           {
            "bin_start": 0.636,
            "bin_end": 0.685,
            "count": 0
           },
           {
            "bin_start": 0.685,
            "bin_end": 0.734,
            "count": 0
           },
           {
            "bin_start": 0.734,
            "bin_end": 0.783,
            "count": 2
           },
           {
            "bin_start": 0.783,
            "bin_end": 0.8320000000000001,
            "count": 0
           },
           {
            "bin_start": 0.8320000000000001,
            "bin_end": 0.881,
            "count": 1
           },
           {
            "bin_start": 0.881,
            "bin_end": 0.93,
            "count": 1
           }
          ]
         }
        },
        {
         "name": "sex",
         "dtype": "object",
         "stats": {
          "unique_count": 2,
          "nan_count": 0,
          "categories": [
           {
            "name": "F",
            "count": 3
           },
           {
            "name": "M",
            "count": 2
           }
          ]
         }
        },
        {
         "name": "_deepnote_index_column",
         "dtype": "int64"
        }
       ],
       "rows": [
        {
         "ethnicity": "group B",
         "parental_education": "bachelor's degree",
         "lunch": "standard",
         "preparation_course": "none",
         "math": 0.72,
         "reading": 0.72,
         "writing": 0.74,
         "sex": "F",
         "_deepnote_index_column": 0
        },
        {
         "ethnicity": "group C",
         "parental_education": "some college",
         "lunch": "standard",
         "preparation_course": "completed",
         "math": 0.69,
         "reading": 0.9,
         "writing": 0.88,
         "sex": "F",
         "_deepnote_index_column": 1
        },
        {
         "ethnicity": "group B",
         "parental_education": "master's degree",
         "lunch": "standard",
         "preparation_course": "none",
         "math": 0.9,
         "reading": 0.95,
         "writing": 0.93,
         "sex": "F",
         "_deepnote_index_column": 2
        },
        {
         "ethnicity": "group A",
         "parental_education": "associate's degree",
         "lunch": "free/reduced",
         "preparation_course": "none",
         "math": 0.47,
         "reading": 0.57,
         "writing": 0.44,
         "sex": "M",
         "_deepnote_index_column": 3
        },
        {
         "ethnicity": "group C",
         "parental_education": "some college",
         "lunch": "standard",
         "preparation_course": "none",
         "math": 0.76,
         "reading": 0.78,
         "writing": 0.75,
         "sex": "M",
         "_deepnote_index_column": 4
        }
       ]
      },
      "text/plain": "  ethnicity  parental_education         lunch preparation_course  math  \\\n0   group B   bachelor's degree      standard               none  0.72   \n1   group C        some college      standard          completed  0.69   \n2   group B     master's degree      standard               none  0.90   \n3   group A  associate's degree  free/reduced               none  0.47   \n4   group C        some college      standard               none  0.76   \n\n   reading  writing sex  \n0     0.72     0.74   F  \n1     0.90     0.88   F  \n2     0.95     0.93   F  \n3     0.57     0.44   M  \n4     0.78     0.75   M  ",
      "text/html": "<div>\n<style scoped>\n    .dataframe tbody tr th:only-of-type {\n        vertical-align: middle;\n    }\n\n    .dataframe tbody tr th {\n        vertical-align: top;\n    }\n\n    .dataframe thead th {\n        text-align: right;\n    }\n</style>\n<table border=\"1\" class=\"dataframe\">\n  <thead>\n    <tr style=\"text-align: right;\">\n      <th></th>\n      <th>ethnicity</th>\n      <th>parental_education</th>\n      <th>lunch</th>\n      <th>preparation_course</th>\n      <th>math</th>\n      <th>reading</th>\n      <th>writing</th>\n      <th>sex</th>\n    </tr>\n  </thead>\n  <tbody>\n    <tr>\n      <th>0</th>\n      <td>group B</td>\n      <td>bachelor's degree</td>\n      <td>standard</td>\n      <td>none</td>\n      <td>0.72</td>\n      <td>0.72</td>\n      <td>0.74</td>\n      <td>F</td>\n    </tr>\n    <tr>\n      <th>1</th>\n      <td>group C</td>\n      <td>some college</td>\n      <td>standard</td>\n      <td>completed</td>\n      <td>0.69</td>\n      <td>0.90</td>\n      <td>0.88</td>\n      <td>F</td>\n    </tr>\n    <tr>\n      <th>2</th>\n      <td>group B</td>\n      <td>master's degree</td>\n      <td>standard</td>\n      <td>none</td>\n      <td>0.90</td>\n      <td>0.95</td>\n      <td>0.93</td>\n      <td>F</td>\n    </tr>\n    <tr>\n      <th>3</th>\n      <td>group A</td>\n      <td>associate's degree</td>\n      <td>free/reduced</td>\n      <td>none</td>\n      <td>0.47</td>\n      <td>0.57</td>\n      <td>0.44</td>\n      <td>M</td>\n    </tr>\n    <tr>\n      <th>4</th>\n      <td>group C</td>\n      <td>some college</td>\n      <td>standard</td>\n      <td>none</td>\n      <td>0.76</td>\n      <td>0.78</td>\n      <td>0.75</td>\n      <td>M</td>\n    </tr>\n  </tbody>\n</table>\n</div>"
     },
     "metadata": {}
    }
   ],
   "execution_count": null
  },
  {
   "cell_type": "markdown",
   "source": "### **2.3. Nominal** ",
   "metadata": {
    "id": "wLPVRvVnniXZ",
    "cell_id": "00047-17fc9c1c-b09f-4866-a80a-fa42f3c3ecb7",
    "deepnote_cell_type": "markdown"
   }
  },
  {
   "cell_type": "markdown",
   "source": "Atributos categóricos nominais são aqueles em que os valores **não apresentem relação de ordem**. As operações matemáticas definidas sobre estes atributos são as de igualdade e diferença. Assim a sua codificação ou conversão para valores quantitativos **não deve inserir uma ordem**. No exemplo, as seguintes colunas são categóricas nominais: ",
   "metadata": {
    "id": "Tk9fRs1InqGE",
    "cell_id": "00048-b049c9f9-df83-4601-b0fa-c48d5c08c176",
    "deepnote_cell_type": "markdown"
   }
  },
  {
   "cell_type": "code",
   "metadata": {
    "id": "fL70EPf0pqeC",
    "cell_id": "00049-b55151d1-0bba-41c0-a7da-187488ac65a9",
    "deepnote_to_be_reexecuted": false,
    "source_hash": "84ed7254",
    "execution_start": 1641483913767,
    "execution_millis": 3,
    "deepnote_cell_type": "code"
   },
   "source": "data[['ethnicity', 'lunch', 'sex']].head()",
   "outputs": [
    {
     "output_type": "execute_result",
     "execution_count": 8,
     "data": {
      "application/vnd.deepnote.dataframe.v3+json": {
       "column_count": 3,
       "row_count": 5,
       "columns": [
        {
         "name": "ethnicity",
         "dtype": "object",
         "stats": {
          "unique_count": 3,
          "nan_count": 0,
          "categories": [
           {
            "name": "group B",
            "count": 2
           },
           {
            "name": "group C",
            "count": 2
           },
           {
            "name": "group A",
            "count": 1
           }
          ]
         }
        },
        {
         "name": "lunch",
         "dtype": "object",
         "stats": {
          "unique_count": 2,
          "nan_count": 0,
          "categories": [
           {
            "name": "standard",
            "count": 4
           },
           {
            "name": "free/reduced",
            "count": 1
           }
          ]
         }
        },
        {
         "name": "sex",
         "dtype": "object",
         "stats": {
          "unique_count": 2,
          "nan_count": 0,
          "categories": [
           {
            "name": "F",
            "count": 3
           },
           {
            "name": "M",
            "count": 2
           }
          ]
         }
        },
        {
         "name": "_deepnote_index_column",
         "dtype": "int64"
        }
       ],
       "rows": [
        {
         "ethnicity": "group B",
         "lunch": "standard",
         "sex": "F",
         "_deepnote_index_column": 0
        },
        {
         "ethnicity": "group C",
         "lunch": "standard",
         "sex": "F",
         "_deepnote_index_column": 1
        },
        {
         "ethnicity": "group B",
         "lunch": "standard",
         "sex": "F",
         "_deepnote_index_column": 2
        },
        {
         "ethnicity": "group A",
         "lunch": "free/reduced",
         "sex": "M",
         "_deepnote_index_column": 3
        },
        {
         "ethnicity": "group C",
         "lunch": "standard",
         "sex": "M",
         "_deepnote_index_column": 4
        }
       ]
      },
      "text/plain": "  ethnicity         lunch sex\n0   group B      standard   F\n1   group C      standard   F\n2   group B      standard   F\n3   group A  free/reduced   M\n4   group C      standard   M",
      "text/html": "<div>\n<style scoped>\n    .dataframe tbody tr th:only-of-type {\n        vertical-align: middle;\n    }\n\n    .dataframe tbody tr th {\n        vertical-align: top;\n    }\n\n    .dataframe thead th {\n        text-align: right;\n    }\n</style>\n<table border=\"1\" class=\"dataframe\">\n  <thead>\n    <tr style=\"text-align: right;\">\n      <th></th>\n      <th>ethnicity</th>\n      <th>lunch</th>\n      <th>sex</th>\n    </tr>\n  </thead>\n  <tbody>\n    <tr>\n      <th>0</th>\n      <td>group B</td>\n      <td>standard</td>\n      <td>F</td>\n    </tr>\n    <tr>\n      <th>1</th>\n      <td>group C</td>\n      <td>standard</td>\n      <td>F</td>\n    </tr>\n    <tr>\n      <th>2</th>\n      <td>group B</td>\n      <td>standard</td>\n      <td>F</td>\n    </tr>\n    <tr>\n      <th>3</th>\n      <td>group A</td>\n      <td>free/reduced</td>\n      <td>M</td>\n    </tr>\n    <tr>\n      <th>4</th>\n      <td>group C</td>\n      <td>standard</td>\n      <td>M</td>\n    </tr>\n  </tbody>\n</table>\n</div>"
     },
     "metadata": {}
    }
   ],
   "execution_count": null
  },
  {
   "cell_type": "markdown",
   "source": "A técnica de codificação mais utilizada é a chamada **one hot encoding** em que as categorias de uma coluna são transformadas em colunas de zeros e uns. Exemplo para a coluna **sex**:",
   "metadata": {
    "id": "edfdYWOdp7sE",
    "cell_id": "00050-935631cc-d348-4f64-934f-d4325ad74896",
    "deepnote_cell_type": "markdown"
   }
  },
  {
   "cell_type": "code",
   "metadata": {
    "id": "h_sPbH_JqWQW",
    "cell_id": "00051-79add429-41db-4546-97b5-5513268b8169",
    "deepnote_to_be_reexecuted": false,
    "source_hash": "27aeee10",
    "execution_start": 1641483923934,
    "execution_millis": 3,
    "deepnote_cell_type": "code"
   },
   "source": "data['sex_m'] = data['sex'].apply(lambda sex: 1 if sex == 'M' else 0)\ndata['sex_f'] = data['sex'].apply(lambda sex: 1 if sex == 'F' else 0)",
   "outputs": [],
   "execution_count": null
  },
  {
   "cell_type": "code",
   "metadata": {
    "id": "YvzIFA1Fq4Un",
    "cell_id": "00052-e5087bd1-41ac-4d90-bc25-d29a567c5aa3",
    "deepnote_to_be_reexecuted": false,
    "source_hash": "41313cfa",
    "execution_start": 1641483925373,
    "execution_millis": 82,
    "deepnote_cell_type": "code"
   },
   "source": "data.head()",
   "outputs": [
    {
     "output_type": "execute_result",
     "execution_count": 10,
     "data": {
      "application/vnd.deepnote.dataframe.v3+json": {
       "column_count": 10,
       "row_count": 5,
       "columns": [
        {
         "name": "ethnicity",
         "dtype": "object",
         "stats": {
          "unique_count": 3,
          "nan_count": 0,
          "categories": [
           {
            "name": "group B",
            "count": 2
           },
           {
            "name": "group C",
            "count": 2
           },
           {
            "name": "group A",
            "count": 1
           }
          ]
         }
        },
        {
         "name": "parental_education",
         "dtype": "object",
         "stats": {
          "unique_count": 4,
          "nan_count": 0,
          "categories": [
           {
            "name": "some college",
            "count": 2
           },
           {
            "name": "bachelor's degree",
            "count": 1
           },
           {
            "name": "2 others",
            "count": 2
           }
          ]
         }
        },
        {
         "name": "lunch",
         "dtype": "object",
         "stats": {
          "unique_count": 2,
          "nan_count": 0,
          "categories": [
           {
            "name": "standard",
            "count": 4
           },
           {
            "name": "free/reduced",
            "count": 1
           }
          ]
         }
        },
        {
         "name": "preparation_course",
         "dtype": "object",
         "stats": {
          "unique_count": 2,
          "nan_count": 0,
          "categories": [
           {
            "name": "none",
            "count": 4
           },
           {
            "name": "completed",
            "count": 1
           }
          ]
         }
        },
        {
         "name": "math",
         "dtype": "float64",
         "stats": {
          "unique_count": 5,
          "nan_count": 0,
          "min": "0.47",
          "max": "0.9",
          "histogram": [
           {
            "bin_start": 0.47,
            "bin_end": 0.513,
            "count": 1
           },
           {
            "bin_start": 0.513,
            "bin_end": 0.5559999999999999,
            "count": 0
           },
           {
            "bin_start": 0.5559999999999999,
            "bin_end": 0.599,
            "count": 0
           },
           {
            "bin_start": 0.599,
            "bin_end": 0.642,
            "count": 0
           },
           {
            "bin_start": 0.642,
            "bin_end": 0.685,
            "count": 0
           },
           {
            "bin_start": 0.685,
            "bin_end": 0.728,
            "count": 2
           },
           {
            "bin_start": 0.728,
            "bin_end": 0.771,
            "count": 1
           },
           {
            "bin_start": 0.771,
            "bin_end": 0.8140000000000001,
            "count": 0
           },
           {
            "bin_start": 0.8140000000000001,
            "bin_end": 0.857,
            "count": 0
           },
           {
            "bin_start": 0.857,
            "bin_end": 0.9,
            "count": 1
           }
          ]
         }
        },
        {
         "name": "reading",
         "dtype": "float64",
         "stats": {
          "unique_count": 5,
          "nan_count": 0,
          "min": "0.57",
          "max": "0.95",
          "histogram": [
           {
            "bin_start": 0.57,
            "bin_end": 0.608,
            "count": 1
           },
           {
            "bin_start": 0.608,
            "bin_end": 0.6459999999999999,
            "count": 0
           },
           {
            "bin_start": 0.6459999999999999,
            "bin_end": 0.6839999999999999,
            "count": 0
           },
           {
            "bin_start": 0.6839999999999999,
            "bin_end": 0.722,
            "count": 1
           },
           {
            "bin_start": 0.722,
            "bin_end": 0.76,
            "count": 0
           },
           {
            "bin_start": 0.76,
            "bin_end": 0.7979999999999999,
            "count": 1
           },
           {
            "bin_start": 0.7979999999999999,
            "bin_end": 0.836,
            "count": 0
           },
           {
            "bin_start": 0.836,
            "bin_end": 0.8739999999999999,
            "count": 0
           },
           {
            "bin_start": 0.8739999999999999,
            "bin_end": 0.9119999999999999,
            "count": 1
           },
           {
            "bin_start": 0.9119999999999999,
            "bin_end": 0.95,
            "count": 1
           }
          ]
         }
        },
        {
         "name": "writing",
         "dtype": "float64",
         "stats": {
          "unique_count": 5,
          "nan_count": 0,
          "min": "0.44",
          "max": "0.93",
          "histogram": [
           {
            "bin_start": 0.44,
            "bin_end": 0.489,
            "count": 1
           },
           {
            "bin_start": 0.489,
            "bin_end": 0.538,
            "count": 0
           },
           {
            "bin_start": 0.538,
            "bin_end": 0.587,
            "count": 0
           },
           {
            "bin_start": 0.587,
            "bin_end": 0.636,
            "count": 0
           },
           {
            "bin_start": 0.636,
            "bin_end": 0.685,
            "count": 0
           },
           {
            "bin_start": 0.685,
            "bin_end": 0.734,
            "count": 0
           },
           {
            "bin_start": 0.734,
            "bin_end": 0.783,
            "count": 2
           },
           {
            "bin_start": 0.783,
            "bin_end": 0.8320000000000001,
            "count": 0
           },
           {
            "bin_start": 0.8320000000000001,
            "bin_end": 0.881,
            "count": 1
           },
           {
            "bin_start": 0.881,
            "bin_end": 0.93,
            "count": 1
           }
          ]
         }
        },
        {
         "name": "sex",
         "dtype": "object",
         "stats": {
          "unique_count": 2,
          "nan_count": 0,
          "categories": [
           {
            "name": "F",
            "count": 3
           },
           {
            "name": "M",
            "count": 2
           }
          ]
         }
        },
        {
         "name": "sex_m",
         "dtype": "int64",
         "stats": {
          "unique_count": 2,
          "nan_count": 0,
          "min": "0",
          "max": "1",
          "histogram": [
           {
            "bin_start": 0,
            "bin_end": 0.1,
            "count": 3
           },
           {
            "bin_start": 0.1,
            "bin_end": 0.2,
            "count": 0
           },
           {
            "bin_start": 0.2,
            "bin_end": 0.30000000000000004,
            "count": 0
           },
           {
            "bin_start": 0.30000000000000004,
            "bin_end": 0.4,
            "count": 0
           },
           {
            "bin_start": 0.4,
            "bin_end": 0.5,
            "count": 0
           },
           {
            "bin_start": 0.5,
            "bin_end": 0.6000000000000001,
            "count": 0
           },
           {
            "bin_start": 0.6000000000000001,
            "bin_end": 0.7000000000000001,
            "count": 0
           },
           {
            "bin_start": 0.7000000000000001,
            "bin_end": 0.8,
            "count": 0
           },
           {
            "bin_start": 0.8,
            "bin_end": 0.9,
            "count": 0
           },
           {
            "bin_start": 0.9,
            "bin_end": 1,
            "count": 2
           }
          ]
         }
        },
        {
         "name": "sex_f",
         "dtype": "int64",
         "stats": {
          "unique_count": 2,
          "nan_count": 0,
          "min": "0",
          "max": "1",
          "histogram": [
           {
            "bin_start": 0,
            "bin_end": 0.1,
            "count": 2
           },
           {
            "bin_start": 0.1,
            "bin_end": 0.2,
            "count": 0
           },
           {
            "bin_start": 0.2,
            "bin_end": 0.30000000000000004,
            "count": 0
           },
           {
            "bin_start": 0.30000000000000004,
            "bin_end": 0.4,
            "count": 0
           },
           {
            "bin_start": 0.4,
            "bin_end": 0.5,
            "count": 0
           },
           {
            "bin_start": 0.5,
            "bin_end": 0.6000000000000001,
            "count": 0
           },
           {
            "bin_start": 0.6000000000000001,
            "bin_end": 0.7000000000000001,
            "count": 0
           },
           {
            "bin_start": 0.7000000000000001,
            "bin_end": 0.8,
            "count": 0
           },
           {
            "bin_start": 0.8,
            "bin_end": 0.9,
            "count": 0
           },
           {
            "bin_start": 0.9,
            "bin_end": 1,
            "count": 3
           }
          ]
         }
        },
        {
         "name": "_deepnote_index_column",
         "dtype": "int64"
        }
       ],
       "rows": [
        {
         "ethnicity": "group B",
         "parental_education": "bachelor's degree",
         "lunch": "standard",
         "preparation_course": "none",
         "math": 0.72,
         "reading": 0.72,
         "writing": 0.74,
         "sex": "F",
         "sex_m": 0,
         "sex_f": 1,
         "_deepnote_index_column": 0
        },
        {
         "ethnicity": "group C",
         "parental_education": "some college",
         "lunch": "standard",
         "preparation_course": "completed",
         "math": 0.69,
         "reading": 0.9,
         "writing": 0.88,
         "sex": "F",
         "sex_m": 0,
         "sex_f": 1,
         "_deepnote_index_column": 1
        },
        {
         "ethnicity": "group B",
         "parental_education": "master's degree",
         "lunch": "standard",
         "preparation_course": "none",
         "math": 0.9,
         "reading": 0.95,
         "writing": 0.93,
         "sex": "F",
         "sex_m": 0,
         "sex_f": 1,
         "_deepnote_index_column": 2
        },
        {
         "ethnicity": "group A",
         "parental_education": "associate's degree",
         "lunch": "free/reduced",
         "preparation_course": "none",
         "math": 0.47,
         "reading": 0.57,
         "writing": 0.44,
         "sex": "M",
         "sex_m": 1,
         "sex_f": 0,
         "_deepnote_index_column": 3
        },
        {
         "ethnicity": "group C",
         "parental_education": "some college",
         "lunch": "standard",
         "preparation_course": "none",
         "math": 0.76,
         "reading": 0.78,
         "writing": 0.75,
         "sex": "M",
         "sex_m": 1,
         "sex_f": 0,
         "_deepnote_index_column": 4
        }
       ]
      },
      "text/plain": "  ethnicity  parental_education         lunch preparation_course  math  \\\n0   group B   bachelor's degree      standard               none  0.72   \n1   group C        some college      standard          completed  0.69   \n2   group B     master's degree      standard               none  0.90   \n3   group A  associate's degree  free/reduced               none  0.47   \n4   group C        some college      standard               none  0.76   \n\n   reading  writing sex  sex_m  sex_f  \n0     0.72     0.74   F      0      1  \n1     0.90     0.88   F      0      1  \n2     0.95     0.93   F      0      1  \n3     0.57     0.44   M      1      0  \n4     0.78     0.75   M      1      0  ",
      "text/html": "<div>\n<style scoped>\n    .dataframe tbody tr th:only-of-type {\n        vertical-align: middle;\n    }\n\n    .dataframe tbody tr th {\n        vertical-align: top;\n    }\n\n    .dataframe thead th {\n        text-align: right;\n    }\n</style>\n<table border=\"1\" class=\"dataframe\">\n  <thead>\n    <tr style=\"text-align: right;\">\n      <th></th>\n      <th>ethnicity</th>\n      <th>parental_education</th>\n      <th>lunch</th>\n      <th>preparation_course</th>\n      <th>math</th>\n      <th>reading</th>\n      <th>writing</th>\n      <th>sex</th>\n      <th>sex_m</th>\n      <th>sex_f</th>\n    </tr>\n  </thead>\n  <tbody>\n    <tr>\n      <th>0</th>\n      <td>group B</td>\n      <td>bachelor's degree</td>\n      <td>standard</td>\n      <td>none</td>\n      <td>0.72</td>\n      <td>0.72</td>\n      <td>0.74</td>\n      <td>F</td>\n      <td>0</td>\n      <td>1</td>\n    </tr>\n    <tr>\n      <th>1</th>\n      <td>group C</td>\n      <td>some college</td>\n      <td>standard</td>\n      <td>completed</td>\n      <td>0.69</td>\n      <td>0.90</td>\n      <td>0.88</td>\n      <td>F</td>\n      <td>0</td>\n      <td>1</td>\n    </tr>\n    <tr>\n      <th>2</th>\n      <td>group B</td>\n      <td>master's degree</td>\n      <td>standard</td>\n      <td>none</td>\n      <td>0.90</td>\n      <td>0.95</td>\n      <td>0.93</td>\n      <td>F</td>\n      <td>0</td>\n      <td>1</td>\n    </tr>\n    <tr>\n      <th>3</th>\n      <td>group A</td>\n      <td>associate's degree</td>\n      <td>free/reduced</td>\n      <td>none</td>\n      <td>0.47</td>\n      <td>0.57</td>\n      <td>0.44</td>\n      <td>M</td>\n      <td>1</td>\n      <td>0</td>\n    </tr>\n    <tr>\n      <th>4</th>\n      <td>group C</td>\n      <td>some college</td>\n      <td>standard</td>\n      <td>none</td>\n      <td>0.76</td>\n      <td>0.78</td>\n      <td>0.75</td>\n      <td>M</td>\n      <td>1</td>\n      <td>0</td>\n    </tr>\n  </tbody>\n</table>\n</div>"
     },
     "metadata": {}
    }
   ],
   "execution_count": null
  },
  {
   "cell_type": "markdown",
   "source": "### **2.4. Ordinal** ",
   "metadata": {
    "id": "myP9exZ1noJ5",
    "cell_id": "00053-0773fc29-baff-467a-a9db-bfbae864e424",
    "deepnote_cell_type": "markdown"
   }
  },
  {
   "cell_type": "markdown",
   "source": "Atributos categóricos ordinais são aqueles em que os valores **apresentem relação de ordem**. As operações definidas sobre estes atributos são as de igualdade/diferença e maior/menor. Assim a sua codificação ou conversão para valores quantitativos **deve manter a ordem**. No exemplo, as seguintes colunas são categóricas ordinais: ",
   "metadata": {
    "id": "zAdktICwrR0s",
    "cell_id": "00054-3ff668f6-0cc6-40eb-8396-7fd936493f92",
    "deepnote_cell_type": "markdown"
   }
  },
  {
   "cell_type": "code",
   "metadata": {
    "id": "Tr2N2SjjrR0v",
    "cell_id": "00055-29dd604a-50bd-40d7-92bf-349569af55ec",
    "deepnote_to_be_reexecuted": false,
    "source_hash": "d5772e99",
    "execution_start": 1641483930418,
    "execution_millis": 3,
    "deepnote_cell_type": "code"
   },
   "source": "data[['parental_education', 'preparation_course']].head()",
   "outputs": [
    {
     "output_type": "execute_result",
     "execution_count": 11,
     "data": {
      "application/vnd.deepnote.dataframe.v3+json": {
       "column_count": 2,
       "row_count": 5,
       "columns": [
        {
         "name": "parental_education",
         "dtype": "object",
         "stats": {
          "unique_count": 4,
          "nan_count": 0,
          "categories": [
           {
            "name": "some college",
            "count": 2
           },
           {
            "name": "bachelor's degree",
            "count": 1
           },
           {
            "name": "2 others",
            "count": 2
           }
          ]
         }
        },
        {
         "name": "preparation_course",
         "dtype": "object",
         "stats": {
          "unique_count": 2,
          "nan_count": 0,
          "categories": [
           {
            "name": "none",
            "count": 4
           },
           {
            "name": "completed",
            "count": 1
           }
          ]
         }
        },
        {
         "name": "_deepnote_index_column",
         "dtype": "int64"
        }
       ],
       "rows": [
        {
         "parental_education": "bachelor's degree",
         "preparation_course": "none",
         "_deepnote_index_column": 0
        },
        {
         "parental_education": "some college",
         "preparation_course": "completed",
         "_deepnote_index_column": 1
        },
        {
         "parental_education": "master's degree",
         "preparation_course": "none",
         "_deepnote_index_column": 2
        },
        {
         "parental_education": "associate's degree",
         "preparation_course": "none",
         "_deepnote_index_column": 3
        },
        {
         "parental_education": "some college",
         "preparation_course": "none",
         "_deepnote_index_column": 4
        }
       ]
      },
      "text/plain": "   parental_education preparation_course\n0   bachelor's degree               none\n1        some college          completed\n2     master's degree               none\n3  associate's degree               none\n4        some college               none",
      "text/html": "<div>\n<style scoped>\n    .dataframe tbody tr th:only-of-type {\n        vertical-align: middle;\n    }\n\n    .dataframe tbody tr th {\n        vertical-align: top;\n    }\n\n    .dataframe thead th {\n        text-align: right;\n    }\n</style>\n<table border=\"1\" class=\"dataframe\">\n  <thead>\n    <tr style=\"text-align: right;\">\n      <th></th>\n      <th>parental_education</th>\n      <th>preparation_course</th>\n    </tr>\n  </thead>\n  <tbody>\n    <tr>\n      <th>0</th>\n      <td>bachelor's degree</td>\n      <td>none</td>\n    </tr>\n    <tr>\n      <th>1</th>\n      <td>some college</td>\n      <td>completed</td>\n    </tr>\n    <tr>\n      <th>2</th>\n      <td>master's degree</td>\n      <td>none</td>\n    </tr>\n    <tr>\n      <th>3</th>\n      <td>associate's degree</td>\n      <td>none</td>\n    </tr>\n    <tr>\n      <th>4</th>\n      <td>some college</td>\n      <td>none</td>\n    </tr>\n  </tbody>\n</table>\n</div>"
     },
     "metadata": {}
    }
   ],
   "execution_count": null
  },
  {
   "cell_type": "markdown",
   "source": "A técnica de codificação mais utilizada é aquele em que transformamos cada categoria da coluna em um número inteiro, mantendo a ordem. Exemplo para a coluna **parental level of education**:",
   "metadata": {
    "id": "KZDfKRdTrR0w",
    "cell_id": "00056-615d2a9b-9db6-4ede-a75f-73f118df3341",
    "deepnote_cell_type": "markdown"
   }
  },
  {
   "cell_type": "code",
   "metadata": {
    "id": "56C7vagTshyc",
    "cell_id": "00057-ff604751-b5f8-4cf4-a01a-aa905ba1e3e0",
    "deepnote_to_be_reexecuted": false,
    "source_hash": "7176223",
    "execution_start": 1641483938019,
    "execution_millis": 4,
    "deepnote_output_heights": [
     136.39999389648438
    ],
    "deepnote_cell_type": "code"
   },
   "source": "data['parental_education'].drop_duplicates()",
   "outputs": [
    {
     "output_type": "execute_result",
     "execution_count": 12,
     "data": {
      "text/plain": "0      bachelor's degree\n1           some college\n2        master's degree\n3     associate's degree\n8            high school\n15      some high school\nName: parental_education, dtype: object"
     },
     "metadata": {}
    }
   ],
   "execution_count": null
  },
  {
   "cell_type": "code",
   "metadata": {
    "id": "9iNHvBExsvty",
    "cell_id": "00058-02b1326d-fd99-4642-a430-337a1b618dfb",
    "deepnote_to_be_reexecuted": false,
    "source_hash": "23539517",
    "execution_start": 1641483942082,
    "execution_millis": 1,
    "deepnote_cell_type": "code"
   },
   "source": "parental_education_mapper = {\n    \"master's degree\": 6,\n    \"bachelor's degree\": 5,\n    \"associate's degree\": 4,\n    \"some college\": 3,\n    \"high school\": 2,\n    \"some high school\": 1,\n}",
   "outputs": [],
   "execution_count": null
  },
  {
   "cell_type": "code",
   "metadata": {
    "id": "J76PqCNvrR0x",
    "cell_id": "00059-b6126b0b-fc56-4a4b-93aa-4ba4a689f6e1",
    "deepnote_to_be_reexecuted": false,
    "source_hash": "fb8a7e05",
    "execution_start": 1641483946378,
    "execution_millis": 6,
    "deepnote_cell_type": "code"
   },
   "source": "data['parental_education_encoded'] = data['parental_education'].apply(lambda level: parental_education_mapper[level])",
   "outputs": [],
   "execution_count": null
  },
  {
   "cell_type": "code",
   "metadata": {
    "id": "KtDEB0zxrR0y",
    "cell_id": "00060-958079ca-f637-4b2c-973b-2cb2f7033525",
    "deepnote_to_be_reexecuted": false,
    "source_hash": "41313cfa",
    "execution_start": 1641483947937,
    "execution_millis": 12,
    "deepnote_cell_type": "code"
   },
   "source": "data.head()",
   "outputs": [
    {
     "output_type": "execute_result",
     "execution_count": 15,
     "data": {
      "application/vnd.deepnote.dataframe.v3+json": {
       "column_count": 11,
       "row_count": 5,
       "columns": [
        {
         "name": "ethnicity",
         "dtype": "object",
         "stats": {
          "unique_count": 3,
          "nan_count": 0,
          "categories": [
           {
            "name": "group B",
            "count": 2
           },
           {
            "name": "group C",
            "count": 2
           },
           {
            "name": "group A",
            "count": 1
           }
          ]
         }
        },
        {
         "name": "parental_education",
         "dtype": "object",
         "stats": {
          "unique_count": 4,
          "nan_count": 0,
          "categories": [
           {
            "name": "some college",
            "count": 2
           },
           {
            "name": "bachelor's degree",
            "count": 1
           },
           {
            "name": "2 others",
            "count": 2
           }
          ]
         }
        },
        {
         "name": "lunch",
         "dtype": "object",
         "stats": {
          "unique_count": 2,
          "nan_count": 0,
          "categories": [
           {
            "name": "standard",
            "count": 4
           },
           {
            "name": "free/reduced",
            "count": 1
           }
          ]
         }
        },
        {
         "name": "preparation_course",
         "dtype": "object",
         "stats": {
          "unique_count": 2,
          "nan_count": 0,
          "categories": [
           {
            "name": "none",
            "count": 4
           },
           {
            "name": "completed",
            "count": 1
           }
          ]
         }
        },
        {
         "name": "math",
         "dtype": "float64",
         "stats": {
          "unique_count": 5,
          "nan_count": 0,
          "min": "0.47",
          "max": "0.9",
          "histogram": [
           {
            "bin_start": 0.47,
            "bin_end": 0.513,
            "count": 1
           },
           {
            "bin_start": 0.513,
            "bin_end": 0.5559999999999999,
            "count": 0
           },
           {
            "bin_start": 0.5559999999999999,
            "bin_end": 0.599,
            "count": 0
           },
           {
            "bin_start": 0.599,
            "bin_end": 0.642,
            "count": 0
           },
           {
            "bin_start": 0.642,
            "bin_end": 0.685,
            "count": 0
           },
           {
            "bin_start": 0.685,
            "bin_end": 0.728,
            "count": 2
           },
           {
            "bin_start": 0.728,
            "bin_end": 0.771,
            "count": 1
           },
           {
            "bin_start": 0.771,
            "bin_end": 0.8140000000000001,
            "count": 0
           },
           {
            "bin_start": 0.8140000000000001,
            "bin_end": 0.857,
            "count": 0
           },
           {
            "bin_start": 0.857,
            "bin_end": 0.9,
            "count": 1
           }
          ]
         }
        },
        {
         "name": "reading",
         "dtype": "float64",
         "stats": {
          "unique_count": 5,
          "nan_count": 0,
          "min": "0.57",
          "max": "0.95",
          "histogram": [
           {
            "bin_start": 0.57,
            "bin_end": 0.608,
            "count": 1
           },
           {
            "bin_start": 0.608,
            "bin_end": 0.6459999999999999,
            "count": 0
           },
           {
            "bin_start": 0.6459999999999999,
            "bin_end": 0.6839999999999999,
            "count": 0
           },
           {
            "bin_start": 0.6839999999999999,
            "bin_end": 0.722,
            "count": 1
           },
           {
            "bin_start": 0.722,
            "bin_end": 0.76,
            "count": 0
           },
           {
            "bin_start": 0.76,
            "bin_end": 0.7979999999999999,
            "count": 1
           },
           {
            "bin_start": 0.7979999999999999,
            "bin_end": 0.836,
            "count": 0
           },
           {
            "bin_start": 0.836,
            "bin_end": 0.8739999999999999,
            "count": 0
           },
           {
            "bin_start": 0.8739999999999999,
            "bin_end": 0.9119999999999999,
            "count": 1
           },
           {
            "bin_start": 0.9119999999999999,
            "bin_end": 0.95,
            "count": 1
           }
          ]
         }
        },
        {
         "name": "writing",
         "dtype": "float64",
         "stats": {
          "unique_count": 5,
          "nan_count": 0,
          "min": "0.44",
          "max": "0.93",
          "histogram": [
           {
            "bin_start": 0.44,
            "bin_end": 0.489,
            "count": 1
           },
           {
            "bin_start": 0.489,
            "bin_end": 0.538,
            "count": 0
           },
           {
            "bin_start": 0.538,
            "bin_end": 0.587,
            "count": 0
           },
           {
            "bin_start": 0.587,
            "bin_end": 0.636,
            "count": 0
           },
           {
            "bin_start": 0.636,
            "bin_end": 0.685,
            "count": 0
           },
           {
            "bin_start": 0.685,
            "bin_end": 0.734,
            "count": 0
           },
           {
            "bin_start": 0.734,
            "bin_end": 0.783,
            "count": 2
           },
           {
            "bin_start": 0.783,
            "bin_end": 0.8320000000000001,
            "count": 0
           },
           {
            "bin_start": 0.8320000000000001,
            "bin_end": 0.881,
            "count": 1
           },
           {
            "bin_start": 0.881,
            "bin_end": 0.93,
            "count": 1
           }
          ]
         }
        },
        {
         "name": "sex",
         "dtype": "object",
         "stats": {
          "unique_count": 2,
          "nan_count": 0,
          "categories": [
           {
            "name": "F",
            "count": 3
           },
           {
            "name": "M",
            "count": 2
           }
          ]
         }
        },
        {
         "name": "sex_m",
         "dtype": "int64",
         "stats": {
          "unique_count": 2,
          "nan_count": 0,
          "min": "0",
          "max": "1",
          "histogram": [
           {
            "bin_start": 0,
            "bin_end": 0.1,
            "count": 3
           },
           {
            "bin_start": 0.1,
            "bin_end": 0.2,
            "count": 0
           },
           {
            "bin_start": 0.2,
            "bin_end": 0.30000000000000004,
            "count": 0
           },
           {
            "bin_start": 0.30000000000000004,
            "bin_end": 0.4,
            "count": 0
           },
           {
            "bin_start": 0.4,
            "bin_end": 0.5,
            "count": 0
           },
           {
            "bin_start": 0.5,
            "bin_end": 0.6000000000000001,
            "count": 0
           },
           {
            "bin_start": 0.6000000000000001,
            "bin_end": 0.7000000000000001,
            "count": 0
           },
           {
            "bin_start": 0.7000000000000001,
            "bin_end": 0.8,
            "count": 0
           },
           {
            "bin_start": 0.8,
            "bin_end": 0.9,
            "count": 0
           },
           {
            "bin_start": 0.9,
            "bin_end": 1,
            "count": 2
           }
          ]
         }
        },
        {
         "name": "sex_f",
         "dtype": "int64",
         "stats": {
          "unique_count": 2,
          "nan_count": 0,
          "min": "0",
          "max": "1",
          "histogram": [
           {
            "bin_start": 0,
            "bin_end": 0.1,
            "count": 2
           },
           {
            "bin_start": 0.1,
            "bin_end": 0.2,
            "count": 0
           },
           {
            "bin_start": 0.2,
            "bin_end": 0.30000000000000004,
            "count": 0
           },
           {
            "bin_start": 0.30000000000000004,
            "bin_end": 0.4,
            "count": 0
           },
           {
            "bin_start": 0.4,
            "bin_end": 0.5,
            "count": 0
           },
           {
            "bin_start": 0.5,
            "bin_end": 0.6000000000000001,
            "count": 0
           },
           {
            "bin_start": 0.6000000000000001,
            "bin_end": 0.7000000000000001,
            "count": 0
           },
           {
            "bin_start": 0.7000000000000001,
            "bin_end": 0.8,
            "count": 0
           },
           {
            "bin_start": 0.8,
            "bin_end": 0.9,
            "count": 0
           },
           {
            "bin_start": 0.9,
            "bin_end": 1,
            "count": 3
           }
          ]
         }
        },
        {
         "name": "parental_education_encoded",
         "dtype": "int64",
         "stats": {
          "unique_count": 4,
          "nan_count": 0,
          "min": "3",
          "max": "6",
          "histogram": [
           {
            "bin_start": 3,
            "bin_end": 3.3,
            "count": 2
           },
           {
            "bin_start": 3.3,
            "bin_end": 3.6,
            "count": 0
           },
           {
            "bin_start": 3.6,
            "bin_end": 3.9,
            "count": 0
           },
           {
            "bin_start": 3.9,
            "bin_end": 4.2,
            "count": 1
           },
           {
            "bin_start": 4.2,
            "bin_end": 4.5,
            "count": 0
           },
           {
            "bin_start": 4.5,
            "bin_end": 4.8,
            "count": 0
           },
           {
            "bin_start": 4.8,
            "bin_end": 5.1,
            "count": 1
           },
           {
            "bin_start": 5.1,
            "bin_end": 5.4,
            "count": 0
           },
           {
            "bin_start": 5.4,
            "bin_end": 5.699999999999999,
            "count": 0
           },
           {
            "bin_start": 5.699999999999999,
            "bin_end": 6,
            "count": 1
           }
          ]
         }
        },
        {
         "name": "_deepnote_index_column",
         "dtype": "int64"
        }
       ],
       "rows": [
        {
         "ethnicity": "group B",
         "parental_education": "bachelor's degree",
         "lunch": "standard",
         "preparation_course": "none",
         "math": 0.72,
         "reading": 0.72,
         "writing": 0.74,
         "sex": "F",
         "sex_m": 0,
         "sex_f": 1,
         "parental_education_encoded": 5,
         "_deepnote_index_column": 0
        },
        {
         "ethnicity": "group C",
         "parental_education": "some college",
         "lunch": "standard",
         "preparation_course": "completed",
         "math": 0.69,
         "reading": 0.9,
         "writing": 0.88,
         "sex": "F",
         "sex_m": 0,
         "sex_f": 1,
         "parental_education_encoded": 3,
         "_deepnote_index_column": 1
        },
        {
         "ethnicity": "group B",
         "parental_education": "master's degree",
         "lunch": "standard",
         "preparation_course": "none",
         "math": 0.9,
         "reading": 0.95,
         "writing": 0.93,
         "sex": "F",
         "sex_m": 0,
         "sex_f": 1,
         "parental_education_encoded": 6,
         "_deepnote_index_column": 2
        },
        {
         "ethnicity": "group A",
         "parental_education": "associate's degree",
         "lunch": "free/reduced",
         "preparation_course": "none",
         "math": 0.47,
         "reading": 0.57,
         "writing": 0.44,
         "sex": "M",
         "sex_m": 1,
         "sex_f": 0,
         "parental_education_encoded": 4,
         "_deepnote_index_column": 3
        },
        {
         "ethnicity": "group C",
         "parental_education": "some college",
         "lunch": "standard",
         "preparation_course": "none",
         "math": 0.76,
         "reading": 0.78,
         "writing": 0.75,
         "sex": "M",
         "sex_m": 1,
         "sex_f": 0,
         "parental_education_encoded": 3,
         "_deepnote_index_column": 4
        }
       ]
      },
      "text/plain": "  ethnicity  parental_education         lunch preparation_course  math  \\\n0   group B   bachelor's degree      standard               none  0.72   \n1   group C        some college      standard          completed  0.69   \n2   group B     master's degree      standard               none  0.90   \n3   group A  associate's degree  free/reduced               none  0.47   \n4   group C        some college      standard               none  0.76   \n\n   reading  writing sex  sex_m  sex_f  parental_education_encoded  \n0     0.72     0.74   F      0      1                           5  \n1     0.90     0.88   F      0      1                           3  \n2     0.95     0.93   F      0      1                           6  \n3     0.57     0.44   M      1      0                           4  \n4     0.78     0.75   M      1      0                           3  ",
      "text/html": "<div>\n<style scoped>\n    .dataframe tbody tr th:only-of-type {\n        vertical-align: middle;\n    }\n\n    .dataframe tbody tr th {\n        vertical-align: top;\n    }\n\n    .dataframe thead th {\n        text-align: right;\n    }\n</style>\n<table border=\"1\" class=\"dataframe\">\n  <thead>\n    <tr style=\"text-align: right;\">\n      <th></th>\n      <th>ethnicity</th>\n      <th>parental_education</th>\n      <th>lunch</th>\n      <th>preparation_course</th>\n      <th>math</th>\n      <th>reading</th>\n      <th>writing</th>\n      <th>sex</th>\n      <th>sex_m</th>\n      <th>sex_f</th>\n      <th>parental_education_encoded</th>\n    </tr>\n  </thead>\n  <tbody>\n    <tr>\n      <th>0</th>\n      <td>group B</td>\n      <td>bachelor's degree</td>\n      <td>standard</td>\n      <td>none</td>\n      <td>0.72</td>\n      <td>0.72</td>\n      <td>0.74</td>\n      <td>F</td>\n      <td>0</td>\n      <td>1</td>\n      <td>5</td>\n    </tr>\n    <tr>\n      <th>1</th>\n      <td>group C</td>\n      <td>some college</td>\n      <td>standard</td>\n      <td>completed</td>\n      <td>0.69</td>\n      <td>0.90</td>\n      <td>0.88</td>\n      <td>F</td>\n      <td>0</td>\n      <td>1</td>\n      <td>3</td>\n    </tr>\n    <tr>\n      <th>2</th>\n      <td>group B</td>\n      <td>master's degree</td>\n      <td>standard</td>\n      <td>none</td>\n      <td>0.90</td>\n      <td>0.95</td>\n      <td>0.93</td>\n      <td>F</td>\n      <td>0</td>\n      <td>1</td>\n      <td>6</td>\n    </tr>\n    <tr>\n      <th>3</th>\n      <td>group A</td>\n      <td>associate's degree</td>\n      <td>free/reduced</td>\n      <td>none</td>\n      <td>0.47</td>\n      <td>0.57</td>\n      <td>0.44</td>\n      <td>M</td>\n      <td>1</td>\n      <td>0</td>\n      <td>4</td>\n    </tr>\n    <tr>\n      <th>4</th>\n      <td>group C</td>\n      <td>some college</td>\n      <td>standard</td>\n      <td>none</td>\n      <td>0.76</td>\n      <td>0.78</td>\n      <td>0.75</td>\n      <td>M</td>\n      <td>1</td>\n      <td>0</td>\n      <td>3</td>\n    </tr>\n  </tbody>\n</table>\n</div>"
     },
     "metadata": {}
    }
   ],
   "execution_count": null
  },
  {
   "cell_type": "markdown",
   "source": "## 3\\. Atributos numéricos",
   "metadata": {
    "id": "RRskF8b9S48N",
    "cell_id": "00061-aa2ca873-4c3c-4bec-b0d8-503b5f14c7a2",
    "deepnote_cell_type": "markdown"
   }
  },
  {
   "cell_type": "markdown",
   "source": "### **3.1. Definição** ",
   "metadata": {
    "id": "CYD_f4C_yxKF",
    "cell_id": "00062-ec313b4f-e689-4dd2-9f9a-c85d2322f78c",
    "deepnote_cell_type": "markdown"
   }
  },
  {
   "cell_type": "markdown",
   "source": "Atributos numéricos são aqueles que apresentam valores discretos (`int`) ou contínuos (`float`) para representar quantidades. Em geral modelos trabalham melhor com dados com escalas reduzidas, ou seja, a escala do atributo é transformada para o intervalo entre $[-1, 1]$, $[0, 1]$, etc.\n\n\n",
   "metadata": {
    "id": "IpJlLzuuyxKM",
    "cell_id": "00063-fb941e71-6352-4697-afb7-bd70d913169c",
    "deepnote_cell_type": "markdown"
   }
  },
  {
   "cell_type": "markdown",
   "source": "- Exemplos: idade, salário, altura, peso, etc.",
   "metadata": {
    "id": "420yh-bZyxKM",
    "cell_id": "00064-47e570b8-86e8-41fc-b3f4-5df8f388a1b2",
    "deepnote_cell_type": "markdown"
   }
  },
  {
   "cell_type": "markdown",
   "source": "### **3.2. Exemplo** ",
   "metadata": {
    "id": "mHqSJfvvyxKN",
    "cell_id": "00065-ac821b75-9d7a-4e75-9879-ea7b64b645df",
    "deepnote_cell_type": "markdown"
   }
  },
  {
   "cell_type": "markdown",
   "source": "Vamos continuar a utilizar dados sobre provas de vestibular, similar ao nosso ENEM, da aula passada.",
   "metadata": {
    "id": "sfjtO099yxKN",
    "cell_id": "00066-d28f20fb-48b8-4bb2-9d37-6459496a3cc2",
    "deepnote_cell_type": "markdown"
   }
  },
  {
   "cell_type": "code",
   "metadata": {
    "id": "MdhEPs2AyxKP",
    "cell_id": "00067-81cb50eb-e2b6-452c-af6c-1e17dc01a41d",
    "deepnote_cell_type": "code"
   },
   "source": "data.head()",
   "execution_count": null,
   "outputs": []
  },
  {
   "cell_type": "code",
   "metadata": {
    "id": "w6VggqE41ies",
    "cell_id": "00068-47d3b133-9df0-45ae-b5ca-ce878145f1fd",
    "deepnote_cell_type": "code"
   },
   "source": "data[['math', 'reading', 'writing']].head()",
   "execution_count": null,
   "outputs": []
  },
  {
   "cell_type": "markdown",
   "source": "### **3.3. Escala** ",
   "metadata": {
    "id": "AZl48InxS48Q",
    "cell_id": "00069-1cf8ec24-6f0d-41da-9a70-75132828a60d",
    "deepnote_cell_type": "markdown"
   }
  },
  {
   "cell_type": "markdown",
   "source": " - **Normalização** ",
   "metadata": {
    "id": "SLck8WUv1sbK",
    "cell_id": "00070-b745d973-35b3-4c77-9d58-4359905a7747",
    "deepnote_cell_type": "markdown"
   }
  },
  {
   "cell_type": "markdown",
   "source": "A normalização reduz a **escala** do atributo para o intervalo de $[0, 1]$. Útil quando diferentes atributos possuem escalas muito diferentes, como idade e salário. Contudo, a presença de *outliers* pode afetar os resultados.",
   "metadata": {
    "id": "lbbclg503hiw",
    "cell_id": "00071-789943da-8dd6-4d03-8cc8-e1b21cb1bf6c",
    "deepnote_cell_type": "markdown"
   }
  },
  {
   "cell_type": "markdown",
   "source": "> $x' = \\frac{x - x_{min}}{x_{max} - x_{min}}$",
   "metadata": {
    "id": "IK8dlJCR15xu",
    "cell_id": "00072-9c3d05ca-2f8d-4fd1-841f-d5170a6afbb5",
    "deepnote_cell_type": "markdown"
   }
  },
  {
   "cell_type": "markdown",
   "source": "Exemplo para a coluna **math**:",
   "metadata": {
    "id": "NKQL78b74hh0",
    "cell_id": "00073-4ece671f-6056-42b7-a519-4c24617c34ec",
    "deepnote_cell_type": "markdown"
   }
  },
  {
   "cell_type": "code",
   "metadata": {
    "id": "iihb1uYo38Ig",
    "cell_id": "00074-23b4ade9-a44b-4d27-8d5d-4ffbbe237325",
    "deepnote_cell_type": "code"
   },
   "source": "min = data['math'].min()\nprint(min)\n\nmax = data['math'].max()\nprint(max)",
   "execution_count": null,
   "outputs": []
  },
  {
   "cell_type": "code",
   "metadata": {
    "id": "yu7D_WPS5MGc",
    "cell_id": "00075-455b9036-9433-4a6c-a3cb-1bbf4a6c6984",
    "deepnote_cell_type": "code"
   },
   "source": "data['math_norm'] = data['math'].apply(lambda grade: (grade - min) / (max - min))",
   "execution_count": null,
   "outputs": []
  },
  {
   "cell_type": "code",
   "metadata": {
    "id": "6SQNdX6F5obY",
    "cell_id": "00076-e078f9d2-72c4-48d7-a76f-6ba2070a6a26",
    "deepnote_cell_type": "code"
   },
   "source": "data.head()",
   "execution_count": null,
   "outputs": []
  },
  {
   "cell_type": "code",
   "metadata": {
    "id": "cBPVXXqz5itt",
    "cell_id": "00077-7b34eb97-b6ab-4cc0-8499-f263f8f5cca5",
    "deepnote_cell_type": "code"
   },
   "source": "min = data['math_norm'].min()\nprint(min)\n\nmax = data['math_norm'].max()\nprint(max)",
   "execution_count": null,
   "outputs": []
  },
  {
   "cell_type": "markdown",
   "source": " - **Padronização**",
   "metadata": {
    "id": "wd4rNlJn1vxr",
    "cell_id": "00078-5f6562ae-9cfe-4df3-aeec-3cbaf29aa26e",
    "deepnote_cell_type": "markdown"
   }
  },
  {
   "cell_type": "markdown",
   "source": "A padronização altera a **média** ($x_{m}$) e o **desvio padrão** ($\\sigma$) do atributo para $0$ e $1$, respectivamente. Também é útil quando diferentes atributos possuem escalas muito diferentes, como idade e salário. E conserva a presença de *outliers* por não apresentar um limite inferior e superior.",
   "metadata": {
    "id": "MOy5tPM_4CGS",
    "cell_id": "00079-322fa675-e305-4f4f-86b3-309c6d153f49",
    "deepnote_cell_type": "markdown"
   }
  },
  {
   "cell_type": "markdown",
   "source": "> $x' = \\frac{x - x_{m}}{\\sigma}$",
   "metadata": {
    "id": "EOTVoMqk3Plz",
    "cell_id": "00080-b0d19d38-bf7e-4101-b831-982102d777b6",
    "deepnote_cell_type": "markdown"
   }
  },
  {
   "cell_type": "markdown",
   "source": "Exemplo para a coluna **math**:",
   "metadata": {
    "id": "Ap_q0RZY4nN2",
    "cell_id": "00081-728b40aa-ae0e-404d-ae2e-ed392c3920ef",
    "deepnote_cell_type": "markdown"
   }
  },
  {
   "cell_type": "code",
   "metadata": {
    "id": "o0KDZWpF56AO",
    "cell_id": "00082-38be7295-b202-40ba-9bb3-09774563d25b",
    "deepnote_cell_type": "code"
   },
   "source": "media = data['math'].mean()\nprint(media)\n\ndesvio_padrao = data['math'].std()\nprint(desvio_padrao)",
   "execution_count": null,
   "outputs": []
  },
  {
   "cell_type": "code",
   "metadata": {
    "id": "rq_i0bRI56AP",
    "cell_id": "00083-656c5229-6d40-4dff-93fc-5d39b988e31d",
    "deepnote_cell_type": "code"
   },
   "source": "data['math_padr'] = data['math'].apply(lambda nota: (nota - media) / desvio_padrao)",
   "execution_count": null,
   "outputs": []
  },
  {
   "cell_type": "code",
   "metadata": {
    "id": "ZI7ozgkH56AR",
    "cell_id": "00084-0a188e16-051a-469a-aee9-02f06f2ccd09",
    "deepnote_cell_type": "code"
   },
   "source": "data.head()",
   "execution_count": null,
   "outputs": []
  },
  {
   "cell_type": "code",
   "metadata": {
    "id": "MfuMPcuM56AR",
    "cell_id": "00085-9930e0a5-5382-4a71-89d5-14feda732ede",
    "deepnote_cell_type": "code"
   },
   "source": "media = data['math_padr'].mean()\nprint(media)\n\ndesvio_padrao = data['math_padr'].std()\nprint(desvio_padrao)",
   "execution_count": null,
   "outputs": []
  },
  {
   "cell_type": "markdown",
   "source": "## 4\\. Dados faltantes",
   "metadata": {
    "id": "5jaRRnbgS-kk",
    "cell_id": "00086-75065cae-8c1f-4e62-9c77-2493365d1b8e",
    "deepnote_cell_type": "markdown"
   }
  },
  {
   "cell_type": "markdown",
   "source": "A maioria dos modelos de aprendizado de máquina não estão preparados para lidar com dados faltantes, estes devem ser tratados de acordo com o tipo do atributo.",
   "metadata": {
    "id": "JtAfYoEE8B4e",
    "cell_id": "00087-873141c0-9a6e-4e80-87f1-90824da10f3c",
    "deepnote_cell_type": "markdown"
   }
  },
  {
   "cell_type": "markdown",
   "source": "### **4.1. Técnicas** ",
   "metadata": {
    "id": "fp8j7pnAS-ks",
    "cell_id": "00088-d44dacfe-b270-4880-ae05-2a40e7d6413d",
    "deepnote_cell_type": "markdown"
   }
  },
  {
   "cell_type": "markdown",
   "source": " - Atributo como variável resposta: descartar;\n - Atributo categórico: descartar;\n - Atributo numérico: descartar ou preenchar com a média/mediana.",
   "metadata": {
    "id": "uO5oxIqj865y",
    "cell_id": "00089-8e59f2a0-8e77-4233-87d7-7920a8fe9de3",
    "deepnote_cell_type": "markdown"
   }
  },
  {
   "cell_type": "markdown",
   "source": "### **4.2. Outros problemas** ",
   "metadata": {
    "id": "n_raCTER8K7P",
    "cell_id": "00090-92e81454-a9ac-4ad8-a162-cb0abb5b8f37",
    "deepnote_cell_type": "markdown"
   }
  },
  {
   "cell_type": "markdown",
   "source": " - Dados redundantes: descartar;\n - Dados desbalanceados: pesos;\n - *Outliers*: descartar (caso seja não relevante);\n - Etc.",
   "metadata": {
    "id": "rE9IeFti8fGO",
    "cell_id": "00091-f71f29be-a2f1-4461-a01b-a9a70efc73b4",
    "deepnote_cell_type": "markdown"
   }
  },
  {
   "cell_type": "markdown",
   "source": "<a style='text-decoration:none;line-height:16px;display:flex;color:#5B5B62;padding:10px;justify-content:end;' href='https://deepnote.com?utm_source=created-in-deepnote-cell&projectId=690ec1aa-ed7a-4520-b902-aba6fc5867d1' target=\"_blank\">\n<img alt='Created in deepnote.com' style='display:inline;max-height:16px;margin:0px;margin-right:7.5px;' src='data:image/svg+xml;base64,PD94bWwgdmVyc2lvbj0iMS4wIiBlbmNvZGluZz0iVVRGLTgiPz4KPHN2ZyB3aWR0aD0iODBweCIgaGVpZ2h0PSI4MHB4IiB2aWV3Qm94PSIwIDAgODAgODAiIHZlcnNpb249IjEuMSIgeG1sbnM9Imh0dHA6Ly93d3cudzMub3JnLzIwMDAvc3ZnIiB4bWxuczp4bGluaz0iaHR0cDovL3d3dy53My5vcmcvMTk5OS94bGluayI+CiAgICA8IS0tIEdlbmVyYXRvcjogU2tldGNoIDU0LjEgKDc2NDkwKSAtIGh0dHBzOi8vc2tldGNoYXBwLmNvbSAtLT4KICAgIDx0aXRsZT5Hcm91cCAzPC90aXRsZT4KICAgIDxkZXNjPkNyZWF0ZWQgd2l0aCBTa2V0Y2guPC9kZXNjPgogICAgPGcgaWQ9IkxhbmRpbmciIHN0cm9rZT0ibm9uZSIgc3Ryb2tlLXdpZHRoPSIxIiBmaWxsPSJub25lIiBmaWxsLXJ1bGU9ImV2ZW5vZGQiPgogICAgICAgIDxnIGlkPSJBcnRib2FyZCIgdHJhbnNmb3JtPSJ0cmFuc2xhdGUoLTEyMzUuMDAwMDAwLCAtNzkuMDAwMDAwKSI+CiAgICAgICAgICAgIDxnIGlkPSJHcm91cC0zIiB0cmFuc2Zvcm09InRyYW5zbGF0ZSgxMjM1LjAwMDAwMCwgNzkuMDAwMDAwKSI+CiAgICAgICAgICAgICAgICA8cG9seWdvbiBpZD0iUGF0aC0yMCIgZmlsbD0iIzAyNjVCNCIgcG9pbnRzPSIyLjM3NjIzNzYyIDgwIDM4LjA0NzY2NjcgODAgNTcuODIxNzgyMiA3My44MDU3NTkyIDU3LjgyMTc4MjIgMzIuNzU5MjczOSAzOS4xNDAyMjc4IDMxLjY4MzE2ODMiPjwvcG9seWdvbj4KICAgICAgICAgICAgICAgIDxwYXRoIGQ9Ik0zNS4wMDc3MTgsODAgQzQyLjkwNjIwMDcsNzYuNDU0OTM1OCA0Ny41NjQ5MTY3LDcxLjU0MjI2NzEgNDguOTgzODY2LDY1LjI2MTk5MzkgQzUxLjExMjI4OTksNTUuODQxNTg0MiA0MS42NzcxNzk1LDQ5LjIxMjIyODQgMjUuNjIzOTg0Niw0OS4yMTIyMjg0IEMyNS40ODQ5Mjg5LDQ5LjEyNjg0NDggMjkuODI2MTI5Niw0My4yODM4MjQ4IDM4LjY0NzU4NjksMzEuNjgzMTY4MyBMNzIuODcxMjg3MSwzMi41NTQ0MjUgTDY1LjI4MDk3Myw2Ny42NzYzNDIxIEw1MS4xMTIyODk5LDc3LjM3NjE0NCBMMzUuMDA3NzE4LDgwIFoiIGlkPSJQYXRoLTIyIiBmaWxsPSIjMDAyODY4Ij48L3BhdGg+CiAgICAgICAgICAgICAgICA8cGF0aCBkPSJNMCwzNy43MzA0NDA1IEwyNy4xMTQ1MzcsMC4yNTcxMTE0MzYgQzYyLjM3MTUxMjMsLTEuOTkwNzE3MDEgODAsMTAuNTAwMzkyNyA4MCwzNy43MzA0NDA1IEM4MCw2NC45NjA0ODgyIDY0Ljc3NjUwMzgsNzkuMDUwMzQxNCAzNC4zMjk1MTEzLDgwIEM0Ny4wNTUzNDg5LDc3LjU2NzA4MDggNTMuNDE4MjY3Nyw3MC4zMTM2MTAzIDUzLjQxODI2NzcsNTguMjM5NTg4NSBDNTMuNDE4MjY3Nyw0MC4xMjg1NTU3IDM2LjMwMzk1NDQsMzcuNzMwNDQwNSAyNS4yMjc0MTcsMzcuNzMwNDQwNSBDMTcuODQzMDU4NiwzNy43MzA0NDA1IDkuNDMzOTE5NjYsMzcuNzMwNDQwNSAwLDM3LjczMDQ0MDUgWiIgaWQ9IlBhdGgtMTkiIGZpbGw9IiMzNzkzRUYiPjwvcGF0aD4KICAgICAgICAgICAgPC9nPgogICAgICAgIDwvZz4KICAgIDwvZz4KPC9zdmc+' > </img>\nCreated in <span style='font-weight:600;margin-left:4px;'>Deepnote</span></a>",
   "metadata": {
    "tags": [],
    "created_in_deepnote_cell": true,
    "deepnote_cell_type": "markdown"
   }
  }
 ],
 "nbformat": 4,
 "nbformat_minor": 0,
 "metadata": {
  "colab": {
   "name": "modulo_23_aula.ipynb",
   "provenance": [],
   "collapsed_sections": [],
   "toc_visible": true
  },
  "kernelspec": {
   "name": "python3",
   "display_name": "Python 3"
  },
  "deepnote_notebook_id": "e09a151d-1f5f-4847-8c49-673e890030d0",
  "deepnote": {},
  "deepnote_execution_queue": []
 }
}