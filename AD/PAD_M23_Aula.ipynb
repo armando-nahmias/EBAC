{
  "nbformat": 4,
  "nbformat_minor": 0,
  "metadata": {
    "colab": {
      "name": "modulo_23_aula.ipynb",
      "provenance": [],
      "collapsed_sections": [],
      "toc_visible": true
    },
    "kernelspec": {
      "name": "python3",
      "display_name": "Python 3"
    }
  },
  "cells": [
    {
      "cell_type": "markdown",
      "metadata": {
        "id": "KJqp9AANOCtf"
      },
      "source": [
        "<img src=\"https://raw.githubusercontent.com/andre-marcos-perez/ebac-course-utils/main/media/logo/newebac_logo_black_half.png\" alt=\"ebac-logo\">\n",
        "\n",
        "---\n",
        "\n",
        "# **Módulo** | Análise de Dados: Fundamentos de Aprendizado de Máquina\n",
        "Caderno de **Aula**<br> \n",
        "Professor [André Perez](https://www.linkedin.com/in/andremarcosperez/)\n",
        "\n",
        "---"
      ]
    },
    {
      "cell_type": "markdown",
      "metadata": {
        "id": "d9jDtUbDOE1-"
      },
      "source": [
        "# **Tópicos**\n",
        "\n",
        "<ol type=\"1\">\n",
        "  <li>Teoria;</li>\n",
        "  <li>Atributos categóricos;</li>\n",
        "  <li>Atributos numéricos;</li>\n",
        "  <li>Dados faltantes.</li>\n",
        "</ol>"
      ]
    },
    {
      "cell_type": "markdown",
      "metadata": {
        "id": "SmoHgt-lwkpD"
      },
      "source": [
        "---"
      ]
    },
    {
      "cell_type": "markdown",
      "metadata": {
        "id": "GABI6OW8OfQ2"
      },
      "source": [
        "# **Aulas**"
      ]
    },
    {
      "cell_type": "markdown",
      "metadata": {
        "id": "kzRDceCvkFj2"
      },
      "source": [
        "## 0\\. Abordagens estatísticas"
      ]
    },
    {
      "cell_type": "markdown",
      "metadata": {
        "id": "jzEvBUk3qb1n"
      },
      "source": [
        "*   **Descritiva**: foco no passado para entender o **presente**.\n",
        "*   <font color='red'>**Preditiva**</font>: foca no passado para inferir o **futuro**."
      ]
    },
    {
      "cell_type": "markdown",
      "metadata": {
        "id": "muD1vxozykSC"
      },
      "source": [
        "## 1\\. Teoria"
      ]
    },
    {
      "cell_type": "markdown",
      "metadata": {
        "id": "qBqXG-IFOsed"
      },
      "source": [
        "### **1.1. Motivação** "
      ]
    },
    {
      "cell_type": "markdown",
      "metadata": {
        "id": "p4xNtwW3rzep"
      },
      "source": [
        "Você trabalha em um time da NBA e precisa entender a relação entre o peso e altura dos jogadores da liga para ajudar o seu time a otimizar a condição física dos seus jogadores. O objetivo é responder a seguinte pergunta:"
      ]
    },
    {
      "cell_type": "markdown",
      "metadata": {
        "id": "qIfEH2inKQ_T"
      },
      "source": [
        "> Dado a **altura** de um jogador, qual deve ser seu **peso**?"
      ]
    },
    {
      "cell_type": "markdown",
      "metadata": {
        "id": "jb22Ln4fVkBF"
      },
      "source": [
        "- **Dados**"
      ]
    },
    {
      "cell_type": "code",
      "metadata": {
        "id": "styQBVso591T"
      },
      "source": [
        "%%writefile nba.csv\n",
        "height;weight;wage\n",
        "2.01;86.2;17150000\n",
        "1.93;106.1;898310\n",
        "2.11;120.2;9881598\n",
        "1.88;85.7;15643750\n",
        "1.88;84.8;2875000\n",
        "2.11;106.1;2376840\n",
        "1.98;86.6;2625717\n",
        "2.08;104.3;37199000\n",
        "2.03;117.9;28942830\n",
        "1.83;81.6;522738"
      ],
      "execution_count": null,
      "outputs": []
    },
    {
      "cell_type": "markdown",
      "metadata": {
        "id": "QN-CXgy-6GAk"
      },
      "source": [
        " - **Análise Exploratória**"
      ]
    },
    {
      "cell_type": "code",
      "metadata": {
        "id": "YtLU-Kp16oak"
      },
      "source": [
        "import numpy as np\n",
        "import pandas as pd\n",
        "import seaborn as sns"
      ],
      "execution_count": null,
      "outputs": []
    },
    {
      "cell_type": "code",
      "metadata": {
        "id": "HfvSTbRj56uu"
      },
      "source": [
        "nba_df = pd.read_csv('nba.csv', sep=';')\n",
        "nba_df.head()"
      ],
      "execution_count": null,
      "outputs": []
    },
    {
      "cell_type": "code",
      "metadata": {
        "id": "aOiykjxc6tA-"
      },
      "source": [
        "nba_df.head()"
      ],
      "execution_count": null,
      "outputs": []
    },
    {
      "cell_type": "code",
      "metadata": {
        "id": "qzkbRazp6FUv"
      },
      "source": [
        "np.corrcoef(nba_df['weight'], nba_df['height'])"
      ],
      "execution_count": null,
      "outputs": []
    },
    {
      "cell_type": "code",
      "metadata": {
        "id": "w1_L10ci6dDq"
      },
      "source": [
        "with sns.axes_style('whitegrid'):\n",
        "\n",
        "  grafico = sns.scatterplot(x=nba_df['height'], y=nba_df['weight'])\n",
        "  grafico.set(title='Peso e Altura dos Jogadores da NBA em 2020', xlabel='Peso (kg)', ylabel='Altura (m)');"
      ],
      "execution_count": null,
      "outputs": []
    },
    {
      "cell_type": "markdown",
      "metadata": {
        "id": "cnWxUAWz64AR"
      },
      "source": [
        " - **Análise Preditiva**"
      ]
    },
    {
      "cell_type": "markdown",
      "metadata": {
        "id": "jRY2EsM09Dpk"
      },
      "source": [
        "> Dado a **altura** de um jogador, qual deve ser seu **peso**?"
      ]
    },
    {
      "cell_type": "markdown",
      "metadata": {
        "id": "UrsxlQhH7WrD"
      },
      "source": [
        "Queremos uma equação matemática que represente esta relação. Uma possível equação seria a equação linear de primero grau:"
      ]
    },
    {
      "cell_type": "markdown",
      "metadata": {
        "id": "uDGyhy8m6--E"
      },
      "source": [
        " > $y = f(x) = \\textbf{a}x + \\textbf{b}$"
      ]
    },
    {
      "cell_type": "markdown",
      "metadata": {
        "id": "peBjXQrnK_ZG"
      },
      "source": [
        "O número $\\textbf{a}$ é chamado de coeficiente angular e controla a inclinação da reta, já o número $\\textbf{b}$ é chamado de coeficiente linear e indica o deslocamento horizontal da reta. A idéia é predizer o peso que um atleta deve ter dado a sua altura, ou seja:"
      ]
    },
    {
      "cell_type": "markdown",
      "metadata": {
        "id": "B2n58gmPJQQr"
      },
      "source": [
        " > $peso = f(altura) = \\textbf{a}(altura) + \\textbf{b}$"
      ]
    },
    {
      "cell_type": "markdown",
      "metadata": {
        "id": "hfQQ1gYE8krr"
      },
      "source": [
        "Qual o melhor valor de $\\textbf{a}$ e $\\textbf{b}$ para esse conjunto de dados?"
      ]
    },
    {
      "cell_type": "markdown",
      "metadata": {
        "id": "NoxZ3IdnrvH4"
      },
      "source": [
        "### **1.2. Aprendizado de Máquina** "
      ]
    },
    {
      "cell_type": "markdown",
      "metadata": {
        "id": "1BykKIvGr0yL"
      },
      "source": [
        "O aprendizado de máquina é uma área que busca treinar modelos **matemáticos** preditivos utilizando dados e técnicas **estatísticas** e **computacionais**. Por treinar, entenda, selecionar os melhores parâmetros (ou coeficientes) de uma equação matemática para o conjunto de dados em questão. No exemplo da motivação, utilizariamos técnicas de aprendizado de máquina para definir os coeficientes $\\textbf{a}$ e $\\textbf{b}$ da equação para os dados de peso e altura."
      ]
    },
    {
      "cell_type": "markdown",
      "metadata": {
        "id": "GP38uHa3MCIt"
      },
      "source": [
        "O treino de um modelo (geralmente) segue os seguintes passos:"
      ]
    },
    {
      "cell_type": "markdown",
      "metadata": {
        "id": "3-RgHe8UMHBk"
      },
      "source": [
        " 1. **Preparação:**\n",
        "  - Seleção da equação para o problema (modelo);\n",
        "  - Seleção dos dados disponíveis (atributos);\n",
        "  - Separação dos dados em treino e validação.\n",
        " 1. **Treino:**\n",
        "  - Treino do modelo com os dados de treino (algoritmo);\n",
        "  - Validação do modelo com os dados de validação (métricas).\n",
        " 1. **Predição.**"
      ]
    },
    {
      "cell_type": "markdown",
      "metadata": {
        "id": "hJDOekgCOTR8"
      },
      "source": [
        "Para o exemplo da motivação:"
      ]
    },
    {
      "cell_type": "markdown",
      "metadata": {
        "id": "fpgU2UpxOfjQ"
      },
      "source": [
        " 1. **Preparação:**\n",
        "  - $y = f(x) = \\textbf{a}x + \\textbf{b}$;\n",
        "  - Peso e altura;\n",
        "  - Separação em dos dados em treino e validação.\n",
        " 1. **Treino:**\n",
        "  - Algoritmo;\n",
        "  - Métricas.\n",
        " 1. **Predição.**"
      ]
    },
    {
      "cell_type": "markdown",
      "metadata": {
        "id": "ErqYaQ1FCLIu"
      },
      "source": [
        "### **1.3. Tipos de Aprendizado** "
      ]
    },
    {
      "cell_type": "markdown",
      "metadata": {
        "id": "Y7hR5vWmCLIv"
      },
      "source": [
        "O tipo de aprendizado se dá pelo dado disponível e pelo tipo da resposta esperada da predição."
      ]
    },
    {
      "cell_type": "markdown",
      "metadata": {
        "id": "giXmjmmtQ6Wp"
      },
      "source": [
        "Se existe uma variável resposta, ou seja, uma atributo a ser predito, então temos o **aprendizado supervisionado**. Dentro deste aprendizado, se a predição é numérica, temos uma **regressão**, já se está for um conjunto de opções (que podem ser numéricas) temos uma **classificação**. "
      ]
    },
    {
      "cell_type": "markdown",
      "metadata": {
        "id": "aYQEx56dRbl4"
      },
      "source": [
        "> **Exemplo**: Predizer o score de crédito (980, 730, etc.) dado o salário e o gasto mensal médio de cartão de crédito, temos é uma **regressão**."
      ]
    },
    {
      "cell_type": "markdown",
      "metadata": {
        "id": "-QcvNWztRjxa"
      },
      "source": [
        "> **Exemplo**: Predizer a categoria do *score* de crédito (A, B, C, etc.) dado o salário e o gasto mensal médio de cartão de crédito, temos é uma **classificação**."
      ]
    },
    {
      "cell_type": "markdown",
      "metadata": {
        "id": "8wiVA8SqQ7bZ"
      },
      "source": [
        "Se não existe uma variável resposta, ou seja, uma atributo a ser predito, então temos o **aprendizado não supervisionado**. Dentro deste aprendizado, se a predição busca agrupar elementos comuns, temos um **agrupamento**."
      ]
    },
    {
      "cell_type": "markdown",
      "metadata": {
        "id": "lYLSi1u-STkZ"
      },
      "source": [
        "> **Exemplo**: Encontrar clientes com perfil de consumo em comum dado o salário e o gasto mensal médio de cartão de crédito, temos é uma **agrupamento**."
      ]
    },
    {
      "cell_type": "markdown",
      "metadata": {
        "id": "PD0FiM7UJOGT"
      },
      "source": [
        "## 2\\. Atributos categóricos"
      ]
    },
    {
      "cell_type": "markdown",
      "metadata": {
        "id": "AAwJC4RyS0xa"
      },
      "source": [
        "### **2.1. Definição** "
      ]
    },
    {
      "cell_type": "markdown",
      "metadata": {
        "id": "Hc5TSKlSbo2l"
      },
      "source": [
        "Atributos categóricos são aqueles que apresentam valores discretos numéricos (`int`, `float`, etc.) ou não (`strings`) para representar categorias. Como os modelos trabalham (em sua grande maioria) apenas com valores numéricos, os atributos com valores do tipo `strings` precisam passar por um processo de codificação ou conversão para valores numéricos."
      ]
    },
    {
      "cell_type": "markdown",
      "metadata": {
        "id": "dkIKBkcnxKGc"
      },
      "source": [
        "- Exemplos: sexo, perguntas de sim/não, cidade/estado/país, etc."
      ]
    },
    {
      "cell_type": "markdown",
      "metadata": {
        "id": "NGHAVR8xbs1a"
      },
      "source": [
        "### **2.2. Exemplo** "
      ]
    },
    {
      "cell_type": "markdown",
      "metadata": {
        "id": "Glb1FI1YbWeA"
      },
      "source": [
        "Nesta aula, vamos utilizar dados sobre provas de vestibular, similar ao nosso ENEM. O conjunto de dados é uma amostra dos dados de uma base de dados do Kaggle, presente neste [link](https://www.kaggle.com/sonukumari47/students-performance-in-exams)."
      ]
    },
    {
      "cell_type": "code",
      "metadata": {
        "id": "eZPFncIMaclo"
      },
      "source": [
        "%%writefile exam.csv\n",
        "ethnicity,parental_education,lunch,preparation_course,math,reading,writing,sex\n",
        "group B,bachelor's degree,standard,none,0.72,0.72,0.74,F\n",
        "group C,some college,standard,completed,0.69,0.9,0.88,F\n",
        "group B,master's degree,standard,none,0.9,0.95,0.93,F\n",
        "group A,associate's degree,free/reduced,none,0.47,0.57,0.44,M\n",
        "group C,some college,standard,none,0.76,0.78,0.75,M\n",
        "group B,associate's degree,standard,none,0.71,0.83,0.78,F\n",
        "group B,some college,standard,completed,0.88,0.95,0.92,F\n",
        "group B,some college,free/reduced,none,0.4,0.43,0.39,M\n",
        "group D,high school,free/reduced,completed,0.64,0.64,0.67,M\n",
        "group B,high school,free/reduced,none,0.38,0.6,0.5,F\n",
        "group C,associate's degree,standard,none,0.58,0.54,0.52,M\n",
        "group D,associate's degree,standard,none,0.4,0.52,0.43,M\n",
        "group B,high school,standard,none,0.65,0.81,0.73,F\n",
        "group A,some college,standard,completed,0.78,0.72,0.7,M\n",
        "group A,master's degree,standard,none,0.5,0.53,0.58,F\n",
        "group C,some high school,standard,none,0.69,0.75,0.78,F\n",
        "group C,high school,standard,none,0.88,0.89,0.86,M\n",
        "group B,some high school,free/reduced,none,0.18,0.32,0.28,F\n",
        "group C,master's degree,free/reduced,completed,0.46,0.42,0.46,M\n",
        "group C,associate's degree,free/reduced,none,0.54,0.58,0.61,F\n",
        "group D,high school,standard,none,0.66,0.69,0.63,M"
      ],
      "execution_count": null,
      "outputs": []
    },
    {
      "cell_type": "code",
      "metadata": {
        "id": "TuWPtHisa-eT"
      },
      "source": [
        "data = pd.read_csv('exam.csv')"
      ],
      "execution_count": null,
      "outputs": []
    },
    {
      "cell_type": "code",
      "metadata": {
        "id": "tGaqHmXXbHSm"
      },
      "source": [
        "data.head()"
      ],
      "execution_count": null,
      "outputs": []
    },
    {
      "cell_type": "markdown",
      "metadata": {
        "id": "wLPVRvVnniXZ"
      },
      "source": [
        "### **2.3. Nominal** "
      ]
    },
    {
      "cell_type": "markdown",
      "metadata": {
        "id": "Tk9fRs1InqGE"
      },
      "source": [
        "Atributos categóricos nominais são aqueles em que os valores **não apresentem relação de ordem**. As operações matemáticas definidas sobre estes atributos são as de igualdade e diferença. Assim a sua codificação ou conversão para valores quantitativos **não deve inserir uma ordem**. No exemplo, as seguintes colunas são categóricas nominais: "
      ]
    },
    {
      "cell_type": "code",
      "metadata": {
        "id": "fL70EPf0pqeC"
      },
      "source": [
        "data[['ethnicity', 'lunch', 'sex']].head()"
      ],
      "execution_count": null,
      "outputs": []
    },
    {
      "cell_type": "markdown",
      "metadata": {
        "id": "edfdYWOdp7sE"
      },
      "source": [
        "A técnica de codificação mais utilizada é a chamada **one hot encoding** em que as categorias de uma coluna são transformadas em colunas de zeros e uns. Exemplo para a coluna **sex**:"
      ]
    },
    {
      "cell_type": "code",
      "metadata": {
        "id": "h_sPbH_JqWQW"
      },
      "source": [
        "data['sex_m'] = data['sex'].apply(lambda sex: 1 if sex == 'M' else 0)\n",
        "data['sex_f'] = data['sex'].apply(lambda sex: 1 if sex == 'F' else 0)"
      ],
      "execution_count": null,
      "outputs": []
    },
    {
      "cell_type": "code",
      "metadata": {
        "id": "YvzIFA1Fq4Un"
      },
      "source": [
        "data.head()"
      ],
      "execution_count": null,
      "outputs": []
    },
    {
      "cell_type": "markdown",
      "metadata": {
        "id": "myP9exZ1noJ5"
      },
      "source": [
        "### **2.4. Ordinal** "
      ]
    },
    {
      "cell_type": "markdown",
      "metadata": {
        "id": "zAdktICwrR0s"
      },
      "source": [
        "Atributos categóricos ordinais são aqueles em que os valores **apresentem relação de ordem**. As operações definidas sobre estes atributos são as de igualdade/diferença e maior/menor. Assim a sua codificação ou conversão para valores quantitativos **deve manter a ordem**. No exemplo, as seguintes colunas são categóricas ordinais: "
      ]
    },
    {
      "cell_type": "code",
      "metadata": {
        "id": "Tr2N2SjjrR0v"
      },
      "source": [
        "data[['parental_education', 'preparation_course']].head()"
      ],
      "execution_count": null,
      "outputs": []
    },
    {
      "cell_type": "markdown",
      "metadata": {
        "id": "KZDfKRdTrR0w"
      },
      "source": [
        "A técnica de codificação mais utilizada é aquele em que transformamos cada categoria da coluna em um número inteiro, mantendo a ordem. Exemplo para a coluna **parental level of education**:"
      ]
    },
    {
      "cell_type": "code",
      "metadata": {
        "id": "56C7vagTshyc"
      },
      "source": [
        "data['parental_education'].drop_duplicates()"
      ],
      "execution_count": null,
      "outputs": []
    },
    {
      "cell_type": "code",
      "metadata": {
        "id": "9iNHvBExsvty"
      },
      "source": [
        "parental_education_mapper = {\n",
        "    \"master's degree\": 6,\n",
        "    \"bachelor's degree\": 5,\n",
        "    \"associate's degree\": 4,\n",
        "    \"some college\": 3,\n",
        "    \"high school\": 2,\n",
        "    \"some high school\": 1,\n",
        "}"
      ],
      "execution_count": null,
      "outputs": []
    },
    {
      "cell_type": "code",
      "metadata": {
        "id": "J76PqCNvrR0x"
      },
      "source": [
        "data['parental_education_encoded'] = data['parental_education'].apply(lambda level: parental_education_mapper[level])"
      ],
      "execution_count": null,
      "outputs": []
    },
    {
      "cell_type": "code",
      "metadata": {
        "id": "KtDEB0zxrR0y"
      },
      "source": [
        "data.head()"
      ],
      "execution_count": null,
      "outputs": []
    },
    {
      "cell_type": "markdown",
      "metadata": {
        "id": "RRskF8b9S48N"
      },
      "source": [
        "## 3\\. Atributos numéricos"
      ]
    },
    {
      "cell_type": "markdown",
      "metadata": {
        "id": "CYD_f4C_yxKF"
      },
      "source": [
        "### **3.1. Definição** "
      ]
    },
    {
      "cell_type": "markdown",
      "metadata": {
        "id": "IpJlLzuuyxKM"
      },
      "source": [
        "Atributos numéricos são aqueles que apresentam valores discretos (`int`) ou contínuos (`float`) para representar quantidades. Em geral modelos trabalham melhor com dados com escalas reduzidas, ou seja, a escala do atributo é transformada para o intervalo entre $[-1, 1]$, $[0, 1]$, etc.\n",
        "\n",
        "\n"
      ]
    },
    {
      "cell_type": "markdown",
      "metadata": {
        "id": "420yh-bZyxKM"
      },
      "source": [
        "- Exemplos: idade, salário, altura, peso, etc."
      ]
    },
    {
      "cell_type": "markdown",
      "metadata": {
        "id": "mHqSJfvvyxKN"
      },
      "source": [
        "### **3.2. Exemplo** "
      ]
    },
    {
      "cell_type": "markdown",
      "metadata": {
        "id": "sfjtO099yxKN"
      },
      "source": [
        "Vamos continuar a utilizar dados sobre provas de vestibular, similar ao nosso ENEM, da aula passada."
      ]
    },
    {
      "cell_type": "code",
      "metadata": {
        "id": "MdhEPs2AyxKP"
      },
      "source": [
        "data.head()"
      ],
      "execution_count": null,
      "outputs": []
    },
    {
      "cell_type": "code",
      "metadata": {
        "id": "w6VggqE41ies"
      },
      "source": [
        "data[['math', 'reading', 'writing']].head()"
      ],
      "execution_count": null,
      "outputs": []
    },
    {
      "cell_type": "markdown",
      "metadata": {
        "id": "AZl48InxS48Q"
      },
      "source": [
        "### **3.3. Escala** "
      ]
    },
    {
      "cell_type": "markdown",
      "metadata": {
        "id": "SLck8WUv1sbK"
      },
      "source": [
        " - **Normalização** "
      ]
    },
    {
      "cell_type": "markdown",
      "metadata": {
        "id": "lbbclg503hiw"
      },
      "source": [
        "A normalização reduz a **escala** do atributo para o intervalo de $[0, 1]$. Útil quando diferentes atributos possuem escalas muito diferentes, como idade e salário. Contudo, a presença de *outliers* pode afetar os resultados."
      ]
    },
    {
      "cell_type": "markdown",
      "metadata": {
        "id": "IK8dlJCR15xu"
      },
      "source": [
        "> $x' = \\frac{x - x_{min}}{x_{max} - x_{min}}$"
      ]
    },
    {
      "cell_type": "markdown",
      "metadata": {
        "id": "NKQL78b74hh0"
      },
      "source": [
        "Exemplo para a coluna **math**:"
      ]
    },
    {
      "cell_type": "code",
      "metadata": {
        "id": "iihb1uYo38Ig"
      },
      "source": [
        "min = data['math'].min()\n",
        "print(min)\n",
        "\n",
        "max = data['math'].max()\n",
        "print(max)"
      ],
      "execution_count": null,
      "outputs": []
    },
    {
      "cell_type": "code",
      "metadata": {
        "id": "yu7D_WPS5MGc"
      },
      "source": [
        "data['math_norm'] = data['math'].apply(lambda grade: (grade - min) / (max - min))"
      ],
      "execution_count": null,
      "outputs": []
    },
    {
      "cell_type": "code",
      "metadata": {
        "id": "6SQNdX6F5obY"
      },
      "source": [
        "data.head()"
      ],
      "execution_count": null,
      "outputs": []
    },
    {
      "cell_type": "code",
      "metadata": {
        "id": "cBPVXXqz5itt"
      },
      "source": [
        "min = data['math_norm'].min()\n",
        "print(min)\n",
        "\n",
        "max = data['math_norm'].max()\n",
        "print(max)"
      ],
      "execution_count": null,
      "outputs": []
    },
    {
      "cell_type": "markdown",
      "metadata": {
        "id": "wd4rNlJn1vxr"
      },
      "source": [
        " - **Padronização**"
      ]
    },
    {
      "cell_type": "markdown",
      "metadata": {
        "id": "MOy5tPM_4CGS"
      },
      "source": [
        "A padronização altera a **média** ($x_{m}$) e o **desvio padrão** ($\\sigma$) do atributo para $0$ e $1$, respectivamente. Também é útil quando diferentes atributos possuem escalas muito diferentes, como idade e salário. E conserva a presença de *outliers* por não apresentar um limite inferior e superior."
      ]
    },
    {
      "cell_type": "markdown",
      "metadata": {
        "id": "EOTVoMqk3Plz"
      },
      "source": [
        "> $x' = \\frac{x - x_{m}}{\\sigma}$"
      ]
    },
    {
      "cell_type": "markdown",
      "metadata": {
        "id": "Ap_q0RZY4nN2"
      },
      "source": [
        "Exemplo para a coluna **math**:"
      ]
    },
    {
      "cell_type": "code",
      "metadata": {
        "id": "o0KDZWpF56AO"
      },
      "source": [
        "media = data['math'].mean()\n",
        "print(media)\n",
        "\n",
        "desvio_padrao = data['math'].std()\n",
        "print(desvio_padrao)"
      ],
      "execution_count": null,
      "outputs": []
    },
    {
      "cell_type": "code",
      "metadata": {
        "id": "rq_i0bRI56AP"
      },
      "source": [
        "data['math_padr'] = data['math'].apply(lambda nota: (nota - media) / desvio_padrao)"
      ],
      "execution_count": null,
      "outputs": []
    },
    {
      "cell_type": "code",
      "metadata": {
        "id": "ZI7ozgkH56AR"
      },
      "source": [
        "data.head()"
      ],
      "execution_count": null,
      "outputs": []
    },
    {
      "cell_type": "code",
      "metadata": {
        "id": "MfuMPcuM56AR"
      },
      "source": [
        "media = data['math_padr'].mean()\n",
        "print(media)\n",
        "\n",
        "desvio_padrao = data['math_padr'].std()\n",
        "print(desvio_padrao)"
      ],
      "execution_count": null,
      "outputs": []
    },
    {
      "cell_type": "markdown",
      "metadata": {
        "id": "5jaRRnbgS-kk"
      },
      "source": [
        "## 4\\. Dados faltantes"
      ]
    },
    {
      "cell_type": "markdown",
      "metadata": {
        "id": "JtAfYoEE8B4e"
      },
      "source": [
        "A maioria dos modelos de aprendizado de máquina não estão preparados para lidar com dados faltantes, estes devem ser tratados de acordo com o tipo do atributo."
      ]
    },
    {
      "cell_type": "markdown",
      "metadata": {
        "id": "fp8j7pnAS-ks"
      },
      "source": [
        "### **4.1. Técnicas** "
      ]
    },
    {
      "cell_type": "markdown",
      "metadata": {
        "id": "uO5oxIqj865y"
      },
      "source": [
        " - Atributo como variável resposta: descartar;\n",
        " - Atributo categórico: descartar;\n",
        " - Atributo numérico: descartar ou preenchar com a média/mediana."
      ]
    },
    {
      "cell_type": "markdown",
      "metadata": {
        "id": "n_raCTER8K7P"
      },
      "source": [
        "### **4.2. Outros problemas** "
      ]
    },
    {
      "cell_type": "markdown",
      "metadata": {
        "id": "rE9IeFti8fGO"
      },
      "source": [
        " - Dados redundantes: descartar;\n",
        " - Dados desbalanceados: pesos;\n",
        " - *Outliers*: descartar (caso seja não relevante);\n",
        " - Etc."
      ]
    }
  ]
}