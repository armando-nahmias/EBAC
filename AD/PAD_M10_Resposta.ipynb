{
 "cells": [
  {
   "cell_type": "markdown",
   "source": "<img src=\"https://raw.githubusercontent.com/andre-marcos-perez/ebac-course-utils/main/media/logo/newebac_logo_black_half.png\" alt=\"ebac-logo\">\n\n---\n\n# **Módulo** | Análise de Dados: Coleta de Dados I\nCaderno de **Exercícios**<br> \nProfessor [André Perez](https://www.linkedin.com/in/andremarcosperez/)\n\n---",
   "metadata": {
    "id": "KJqp9AANOCtf",
    "cell_id": "00000-790e02ad-d977-48c9-9002-04003b453e5f",
    "deepnote_cell_type": "markdown"
   }
  },
  {
   "cell_type": "markdown",
   "source": "# **Tópicos**\n\n<ol type=\"1\">\n  <li>Arquivos CSV;</li>\n  <li>Arquivos Texto;</li>\n  <li>Arquivos Excel.</li>\n</ol>",
   "metadata": {
    "id": "d9jDtUbDOE1-",
    "cell_id": "00001-03cbe458-7a92-4ffa-83ef-1ac32c84f46b",
    "deepnote_cell_type": "markdown"
   }
  },
  {
   "cell_type": "markdown",
   "source": "---",
   "metadata": {
    "id": "SmoHgt-lwkpD",
    "cell_id": "00002-58973b2e-ce3d-4fa6-a6e3-cef686716a34",
    "deepnote_cell_type": "markdown"
   }
  },
  {
   "cell_type": "markdown",
   "source": "# **Exercícios**",
   "metadata": {
    "id": "GABI6OW8OfQ2",
    "cell_id": "00003-48e6eab4-81c7-4d74-854f-afd1aa8476d9",
    "deepnote_cell_type": "markdown"
   }
  },
  {
   "cell_type": "markdown",
   "source": "## 0\\. Preparando o ambiente",
   "metadata": {
    "id": "muD1vxozykSC",
    "cell_id": "00004-413d1d19-57c5-4f52-a4bc-edf1ebbaab4a",
    "deepnote_cell_type": "markdown"
   }
  },
  {
   "cell_type": "markdown",
   "source": "Vamos explorar dados de crédito presentes no arquivo `credito.xlsx` ([link](https://raw.githubusercontent.com/andre-marcos-perez/ebac-course-utils/develop/dataset/credito.xlsx)). Os dados estão no formato de **Excel** (XLSX) e contém informações sobre clientes de uma instituição financeira. Em especial, estamos interessados em explicar a segunda coluna, chamada de **default**, que indica se um cliente é adimplente (`default = 0`), ou inadimplente (`default = 1`), ou seja, queremos entender o porque um cliente deixa de honrar com suas dívidas baseado no comportamento de outros atributos, como salário, escolaridade e movimentação financeira. Uma descrição completa dos atributos está abaixo.",
   "metadata": {
    "id": "ByX7SUjNKk2K",
    "cell_id": "00005-943ed322-8e89-4ab0-a3d8-59e84a55a3d4",
    "deepnote_cell_type": "markdown"
   }
  },
  {
   "cell_type": "markdown",
   "source": "\n\n| Coluna  | Descrição |\n| ------- | --------- |\n| id      | Número da conta |\n| default | Indica se o cliente é adimplente (0) ou inadimplente (1) |\n| idade   | --- |\n| sexo    | --- |\n| depedentes | --- |\n| escolaridade | --- |\n| estado_civil | --- |\n| salario_anual | Faixa do salario mensal multiplicado por 12 |\n| tipo_cartao | Categoria do cartao: blue, silver, gold e platinium |\n| meses_de_relacionamento | Quantidade de meses desde a abertura da conta |\n| qtd_produtos | Quantidade de produtos contratados |\n| iteracoes_12m | Quantidade de iteracoes com o cliente no último ano |\n| meses_inatico_12m | Quantidade de meses que o cliente ficou inativo no último ano |\n| limite_credito | Valor do limite do cartão de crédito |\n| valor_transacoes_12m | Soma total do valor das transações no cartão de crédito no último ano |\n| qtd_transacoes_12m | Quantidade total de transações no cartão de crédito no último ano |\n\n",
   "metadata": {
    "id": "Z5Fd0NSVLnwE",
    "cell_id": "00006-662c8a38-fecb-43c0-8dfd-54ca96a5581c",
    "deepnote_cell_type": "markdown"
   }
  },
  {
   "cell_type": "markdown",
   "source": "Faça o download do arquivo `credito.xlsx` com a célula de código abaixo.",
   "metadata": {
    "id": "peEbZE2vcMaH",
    "cell_id": "00007-8efc825d-5fd6-4f42-8329-4ba61ffed9bb",
    "deepnote_cell_type": "markdown"
   }
  },
  {
   "cell_type": "code",
   "metadata": {
    "id": "hyG8xFuWc16L",
    "cell_id": "00008-180b9c89-6332-4339-b7f2-0759c8f262b8",
    "deepnote_to_be_reexecuted": false,
    "source_hash": "1774f555",
    "execution_start": 1638901539251,
    "execution_millis": 474,
    "deepnote_cell_type": "code"
   },
   "source": "!wget --show-progress --continue -O ./credito.xlsx https://raw.githubusercontent.com/andre-marcos-perez/ebac-course-utils/main/dataset/credito.xlsx",
   "outputs": [
    {
     "name": "stdout",
     "text": "--2021-12-07 18:25:39--  https://raw.githubusercontent.com/andre-marcos-perez/ebac-course-utils/main/dataset/credito.xlsx\nResolving raw.githubusercontent.com (raw.githubusercontent.com)... 185.199.108.133, 185.199.109.133, 185.199.110.133, ...\nConnecting to raw.githubusercontent.com (raw.githubusercontent.com)|185.199.108.133|:443... connected.\nHTTP request sent, awaiting response... 416 Range Not Satisfiable\n\n    The file is already fully retrieved; nothing to do.\n\n",
     "output_type": "stream"
    }
   ],
   "execution_count": null
  },
  {
   "cell_type": "markdown",
   "source": "---",
   "metadata": {
    "id": "zMN1Q3jdwoJm",
    "cell_id": "00009-dd4b1b58-3d6c-46dc-84d6-a6b81bf5ba17",
    "deepnote_cell_type": "markdown"
   }
  },
  {
   "cell_type": "markdown",
   "source": "## 1\\. Excel para CSV",
   "metadata": {
    "id": "GWgNoJN8DHyY",
    "cell_id": "00010-3c63eb81-df44-493f-b004-1ee05e7b09d9",
    "deepnote_cell_type": "markdown"
   }
  },
  {
   "cell_type": "markdown",
   "source": "Utilizando o pacote Python `openpyxl` visto em aula, extraia os seguintes as colunas `id`, `sexo` e `idade` para dos clientes inadimplentes (`default = 1`) e solteiros (`estado_civil = 'solteiro'`). Salves os dados extraídos no arquivo csv `credito.csv` separado por `;`. Exemplo do cabeçalho e das três primeiras linhas:\n\n```\nid;sexo;idade\n767712558;59;M\n713741358;46;M\n772390908;59;M\n```\n\n**Dica:** O arquivo csv `credito.csv` deve ter 669 linhas, contando com o cabeçalho.\n\n**Nota:** Escreva o código da sua solução abaixo em uma ou mais células, você não precisa enviar o arquivo csv gerado.",
   "metadata": {
    "id": "YynK1vf2DHyj",
    "cell_id": "00011-25ea8942-6843-4b3a-951c-d816d384e553",
    "deepnote_cell_type": "markdown"
   }
  },
  {
   "cell_type": "code",
   "metadata": {
    "tags": [],
    "cell_id": "00012-eb393456-4213-482f-a24d-0e6a03e5aedb",
    "deepnote_to_be_reexecuted": false,
    "source_hash": "9ebaf17",
    "execution_start": 1639003275662,
    "execution_millis": 6261,
    "deepnote_cell_type": "code"
   },
   "source": "!pip install openpyxl\nfrom openpyxl import load_workbook\n",
   "outputs": [
    {
     "name": "stdout",
     "text": "Collecting openpyxl\n  Downloading openpyxl-3.0.9-py2.py3-none-any.whl (242 kB)\n\u001b[K     |████████████████████████████████| 242 kB 15.9 MB/s \n\u001b[?25hCollecting et-xmlfile\n  Downloading et_xmlfile-1.1.0-py3-none-any.whl (4.7 kB)\nInstalling collected packages: et-xmlfile, openpyxl\nSuccessfully installed et-xmlfile-1.1.0 openpyxl-3.0.9\n\u001b[33mWARNING: You are using pip version 20.1.1; however, version 21.3.1 is available.\nYou should consider upgrading via the '/root/venv/bin/python -m pip install --upgrade pip' command.\u001b[0m\n",
     "output_type": "stream"
    }
   ],
   "execution_count": 1
  },
  {
   "cell_type": "code",
   "metadata": {
    "tags": [],
    "cell_id": "00013-14d43f2d-6738-4991-891b-13dc3e493beb",
    "deepnote_to_be_reexecuted": false,
    "source_hash": "ce1b8780",
    "execution_start": 1639005596068,
    "execution_millis": 4819,
    "deepnote_output_heights": [
     null,
     611
    ],
    "deepnote_cell_type": "code"
   },
   "source": "planilhas = load_workbook(filename='credito.xlsx')\nplanilha = planilhas.active\ncabecalho = list(next(planilha.values))\ndados = list(planilha.values)\nprint(cabecalho)\nprint(dados[0:5])",
   "outputs": [
    {
     "name": "stdout",
     "text": "['id', 'default', 'idade', 'sexo', 'dependentes', 'escolaridade', 'estado_civil', 'salario_anual', 'tipo_cartao', 'meses_de_relacionamento', 'qtd_produtos', 'iteracoes_12m', 'meses_inativo_12m', 'limite_credito', 'valor_transacoes_12m', 'qtd_transacoes_12m']\n[('id', 'default', 'idade', 'sexo', 'dependentes', 'escolaridade', 'estado_civil', 'salario_anual', 'tipo_cartao', 'meses_de_relacionamento', 'qtd_produtos', 'iteracoes_12m', 'meses_inativo_12m', 'limite_credito', 'valor_transacoes_12m', 'qtd_transacoes_12m'), (768805383, 0, 45, 'M', 3, 'ensino medio', 'casado', '$60K - $80K', 'blue', 39, 5, 3, 1, 12691.51, 1144.9, 42), (818770008, 0, 49, 'F', 5, 'mestrado', 'solteiro', 'menos que $40K', 'blue', 44, 6, 2, 1, 8256.96, 1291.45, 33), (713982108, 0, 51, 'M', 3, 'mestrado', 'casado', '$80K - $120K', 'blue', 36, 4, 0, 1, 3418.56, 1887.72, 20), (769911858, 0, 40, 'F', 4, 'ensino medio', 'na', 'menos que $40K', 'blue', 34, 3, 1, 4, 3313.03, 1171.56, 20)]\n",
     "output_type": "stream"
    }
   ],
   "execution_count": 48
  },
  {
   "cell_type": "code",
   "metadata": {
    "tags": [],
    "cell_id": "00014-42f997d5-52cc-48fd-b754-cec76f07ca08",
    "deepnote_to_be_reexecuted": false,
    "source_hash": "d3a4df90",
    "execution_start": 1639005600899,
    "execution_millis": 73,
    "deepnote_output_heights": [
     null,
     98
    ],
    "deepnote_cell_type": "code"
   },
   "source": "#resolvendo a questão usando programação funcional\n#não consegui excluir a coluna 'default'\ninadimplentes = list(filter(lambda linha: linha[1] == 1 or linha[1] == 'default', dados))\nsolteiros = list(filter(lambda linha: linha[6] == 'solteiro' or linha[6] == 'estado_civil', inadimplentes))\ncreditos = list(map(lambda linha: list(linha[0:4]), solteiros))\nprint(len(dados))\nprint(len(inadimplentes))\nprint(len(solteiros))\nprint(len(credito_mapeado))\ncredito_mapeado[0:5]\n\n",
   "outputs": [
    {
     "name": "stdout",
     "text": "10128\n1628\n669\n669\n",
     "output_type": "stream"
    },
    {
     "output_type": "execute_result",
     "execution_count": 49,
     "data": {
      "text/plain": "[['id', 'default', 'idade', 'sexo'],\n [767712558, 1, 59, 'M'],\n [713741358, 1, 46, 'M'],\n [772390908, 1, 59, 'M'],\n [719211558, 1, 45, 'M']]"
     },
     "metadata": {}
    }
   ],
   "execution_count": 49
  },
  {
   "cell_type": "code",
   "metadata": {
    "tags": [],
    "cell_id": "00016-6a5453cc-9556-4234-b262-d973d564b53e",
    "deepnote_to_be_reexecuted": false,
    "source_hash": "b4057b5f",
    "execution_start": 1639005600971,
    "execution_millis": 2,
    "deepnote_cell_type": "code"
   },
   "source": "#resolvendo a questão usando lista compreensiva\ninadimplentes = list(filter(lambda linha: linha[1] == 1 or linha[1] == 'default', dados))\nsolteiros = list(filter(lambda linha: linha[6] == 'solteiro' or linha[6] == 'estado_civil', inadimplentes))\nid_id, sexo_id, idade_id = cabecalho.index('id'), cabecalho.index('sexo'), cabecalho.index('idade')\ncredito = [[linha[id_id], linha[sexo_id], linha[idade_id]] for linha in solteiros]\nprint(len(dados))\nprint(len(inadimplentes))\nprint(len(solteiros))\nprint(len(credito))\nprint(credito[0:5])",
   "outputs": [
    {
     "name": "stdout",
     "text": "10128\n1628\n669\n669\n[['id', 'sexo', 'idade'], [767712558, 'M', 59], [713741358, 'M', 46], [772390908, 'M', 59], [719211558, 'M', 45]]\n",
     "output_type": "stream"
    }
   ],
   "execution_count": 50
  },
  {
   "cell_type": "code",
   "metadata": {
    "tags": [],
    "cell_id": "00015-fed80244-ad0b-4468-877b-1afb04dae675",
    "deepnote_to_be_reexecuted": false,
    "source_hash": "6fd0c472",
    "execution_start": 1639005602757,
    "execution_millis": 9,
    "deepnote_output_heights": [
     21.199996948242188
    ],
    "deepnote_cell_type": "code"
   },
   "source": "import csv\nwith open(file='credito.csv', mode='w', encoding='utf8') as arquivo:\n    escritor_csv = csv.writer(arquivo, delimiter=';')\n    escritor_csv.writerows(map(lambda linha: linha, credito))\n\nwith open(file='credito.csv', mode='r', encoding='utf8') as arquivo:\n    texto = arquivo.read()\n\nprint(texto)",
   "outputs": [
    {
     "name": "stdout",
     "text": "id;sexo;idade\n767712558;M;59\n713741358;M;46\n772390908;M;59\n719211558;M;45\n709547658;M;39\n711791583;F;52\n712315683;F;53\n714272658;F;43\n767294658;M;56\n708241233;F;52\n716223708;F;45\n719443683;M;50\n711242058;M;48\n720605808;F;53\n719309958;M;55\n808897683;M;53\n716991933;F;53\n712373208;M;43\n708455883;M;57\n711147483;F;46\n720426708;M;56\n708983658;M;51\n721249158;M;42\n713845083;F;41\n712240083;F;38\n720007383;F;41\n739594758;F;51\n712924383;M;55\n714983283;F;39\n809951133;M;54\n720141408;F;49\n712196508;F;46\n713206683;M;40\n778388358;M;56\n709707033;M;45\n711772008;F;35\n821179233;F;50\n813752433;F;43\n708083283;M;58\n806407308;F;54\n758583708;F;37\n778708533;F;26\n713259858;M;26\n790145733;M;40\n804668658;F;26\n819610908;M;38\n808273533;M;39\n716382708;F;46\n711357858;F;47\n711816108;M;40\n789777408;F;26\n720427683;M;58\n717930483;M;37\n715651833;M;65\n715517733;F;46\n713021208;F;55\n713104458;M;46\n715366083;F;52\n787463508;M;26\n778381608;M;48\n710586483;F;26\n709785783;F;35\n717813558;F;57\n719470458;M;46\n789963033;F;54\n709413933;M;56\n709206333;F;44\n821149008;M;52\n772273983;M;48\n709163358;M;41\n827476983;F;56\n708563433;F;65\n738627708;F;49\n828291858;M;38\n720725058;F;51\n711935283;M;55\n720508233;M;62\n716387733;M;49\n720758808;M;38\n813053733;M;53\n720529308;M;63\n710278458;M;52\n807593058;F;41\n788030208;F;42\n720983733;M;44\n710654808;M;46\n709224033;M;53\n817889583;F;61\n716306583;M;64\n721233033;M;50\n779502333;M;50\n709297608;M;38\n817977933;F;63\n711538758;M;39\n719987733;F;51\n789713208;F;62\n772137183;M;52\n821768658;M;52\n812449758;M;43\n815085708;F;60\n718197108;M;54\n708733983;F;50\n711205758;M;45\n716425833;M;38\n815851233;M;52\n718877883;F;44\n822955008;M;63\n827117808;M;45\n709321908;M;47\n772466508;M;45\n737921733;F;62\n709435533;F;53\n719168883;F;45\n714212358;F;38\n721104708;F;41\n717461283;F;38\n803028858;F;38\n712751133;M;42\n719770158;F;54\n716271183;F;45\n816261858;M;61\n721308033;F;45\n711012783;M;43\n712235433;F;43\n714377058;F;63\n718735908;M;47\n804833058;M;49\n709560258;F;49\n720362058;M;57\n719602908;F;42\n709713033;M;55\n708633783;M;43\n781306758;M;58\n712294083;F;54\n718220358;M;58\n712656783;M;49\n738899658;F;45\n714727833;F;41\n720598308;M;47\n717592758;F;44\n708687483;F;54\n721451208;M;54\n718342158;F;38\n716654808;M;48\n716564433;F;53\n716022258;F;51\n811527933;F;65\n714972558;F;37\n709709283;M;38\n780105483;F;65\n715294083;M;46\n772695033;M;47\n780006783;M;59\n771342183;F;53\n712901283;F;53\n718473558;F;42\n717368208;M;49\n772341783;F;45\n715409733;F;47\n709338633;F;56\n711245433;F;50\n708801108;F;57\n789382758;M;54\n721437333;M;46\n711626658;F;62\n717793983;M;55\n714119283;F;42\n799239033;F;53\n794707083;M;50\n787921383;M;53\n715405758;F;50\n718515483;M;64\n715664808;M;43\n716317458;F;51\n717035283;M;46\n803113383;F;55\n713788083;F;28\n780067158;F;51\n809599158;M;48\n709798908;F;45\n821749608;M;41\n709444983;F;38\n709563258;F;50\n712257258;F;50\n710812533;F;46\n715987758;M;49\n717103758;M;63\n721365033;M;37\n712267983;F;57\n802243458;M;48\n720784833;F;48\n721448283;F;39\n718766058;M;56\n708798483;F;37\n803800533;M;39\n709488108;M;42\n819647358;M;38\n789502308;F;57\n712038258;M;48\n712864683;F;42\n755467683;F;48\n714479358;M;51\n712807758;F;47\n824140908;M;52\n720444408;F;35\n709170108;F;60\n716056158;M;63\n715406658;F;47\n716625033;F;32\n716782758;M;48\n708797583;F;49\n711100608;M;55\n768624258;F;55\n719174433;F;36\n714346608;F;51\n823904133;F;53\n711646908;M;39\n770024733;F;53\n708702258;F;40\n720519333;F;59\n719564208;F;46\n798041508;F;50\n780201633;F;41\n712777233;M;65\n712706058;F;44\n717448383;M;41\n709161108;M;44\n714089658;M;41\n714915633;M;42\n794273283;M;51\n788838033;M;45\n714084483;F;49\n771795933;M;49\n804829533;M;59\n812411058;F;49\n715609533;F;47\n779130108;F;33\n716922633;M;38\n780496833;F;56\n789081408;F;44\n823615983;M;54\n713370033;F;53\n719751483;F;39\n780038058;F;38\n712563408;M;33\n778601733;F;55\n720044658;M;53\n716668308;F;39\n714058308;F;43\n713114133;F;42\n709495833;F;44\n708681708;F;51\n711468708;F;38\n821724483;M;48\n709112508;F;42\n719325783;M;65\n713980383;F;49\n715194183;F;53\n780292683;M;55\n711116133;F;50\n713096583;F;40\n756025233;F;43\n711977508;F;56\n710666583;F;29\n717336408;F;51\n821889858;F;50\n710661333;F;55\n710570058;F;44\n802247658;M;59\n713590158;M;41\n718508883;F;43\n716107158;F;32\n720234708;M;45\n716136333;F;40\n708154833;F;39\n788941983;F;36\n787974108;F;37\n710729358;F;40\n717477783;F;49\n789942033;M;43\n717949008;F;40\n713334483;M;46\n713025558;F;53\n809565183;F;52\n711151383;F;34\n718812708;M;57\n709505808;F;45\n714634983;F;44\n709005633;M;62\n713952558;F;53\n817332483;M;63\n720930633;F;58\n710136258;F;33\n713526258;M;47\n708692583;F;44\n713815383;M;53\n717450633;M;47\n717646983;F;59\n768632958;F;59\n712110333;F;37\n712479633;F;31\n713314533;M;40\n755996583;F;57\n769053033;F;44\n714581358;F;48\n772394883;F;60\n709729533;M;47\n714102183;M;50\n715410783;F;55\n755661933;F;48\n716669658;F;51\n802673508;M;57\n721032633;F;55\n714192933;F;55\n718975083;F;47\n710116833;F;59\n815908908;F;47\n712927383;F;51\n708708858;F;50\n771723408;F;37\n713569158;F;43\n714010383;F;47\n708412758;F;33\n713158083;M;56\n720010608;M;37\n711939558;F;37\n716924958;F;65\n819943458;M;57\n772073508;F;52\n711801933;F;54\n816378033;M;46\n717202083;M;46\n711507783;F;54\n716856408;F;39\n719742108;F;38\n717208833;F;34\n713463708;F;40\n812406183;F;45\n720270633;F;40\n718653333;F;45\n711724083;F;27\n713422083;F;30\n794507133;F;37\n767266758;F;41\n713594883;F;44\n714962658;M;35\n717429258;F;48\n713336883;F;61\n714475908;M;43\n714948858;F;50\n714188883;F;46\n708536283;M;35\n718826883;M;50\n815504583;F;48\n713804883;F;46\n721124658;M;40\n720815208;M;52\n798972183;F;49\n789880533;F;46\n711221958;F;43\n712092783;F;47\n708726708;F;42\n712767858;F;42\n712445583;F;33\n713891133;F;41\n712953483;F;64\n779029458;F;54\n720130233;M;48\n718279008;M;44\n814091058;F;38\n710555433;F;42\n779931783;M;52\n712611108;F;59\n708316008;F;59\n711846183;F;38\n720612333;F;44\n711474333;F;57\n714014733;M;33\n712733958;F;46\n714960408;F;44\n717219933;F;47\n719986758;F;46\n806140383;M;59\n751518633;M;48\n818459733;M;41\n810271083;F;47\n753365883;F;44\n809440008;F;39\n718913358;M;36\n769883733;M;46\n711122958;F;41\n709100283;F;36\n709064208;F;43\n717255333;M;40\n719516208;M;54\n766021083;F;55\n719756133;M;34\n717072108;F;50\n721460283;F;49\n772528158;F;55\n771638733;M;49\n814765533;F;44\n712161858;F;55\n708376983;F;58\n779348358;F;52\n817108083;M;55\n713474733;M;51\n719098308;F;56\n712327608;F;54\n809616108;F;38\n767553333;M;45\n713583408;F;51\n815539233;M;54\n720872433;F;39\n715530258;F;46\n708976908;M;40\n708186933;M;33\n713512308;F;50\n711201108;F;37\n714887808;F;43\n709714008;F;50\n712307283;M;54\n779848383;F;37\n717371583;F;56\n715304958;F;42\n789095958;M;50\n714213708;F;35\n713597658;F;36\n713953383;M;50\n716510658;F;50\n714408933;M;44\n710500983;M;43\n717666783;F;56\n720731808;F;52\n715919283;F;39\n712998033;M;37\n716697708;F;61\n779302233;F;40\n720824883;F;48\n710438358;F;42\n713717283;F;40\n713822208;M;42\n718230933;M;45\n711637458;F;44\n718090233;F;56\n711669258;F;50\n778207083;M;53\n712130058;F;44\n778378983;F;54\n712448658;F;52\n720590058;F;51\n719981508;M;37\n720766908;F;40\n719512983;F;47\n720719883;F;54\n793630083;M;39\n712900308;F;44\n720761208;M;59\n788794758;M;46\n711150333;F;40\n713373708;F;54\n712664658;F;35\n711873033;F;35\n712715208;M;52\n778899708;F;56\n771865908;F;48\n715162608;F;48\n797150733;M;44\n717489033;F;27\n713748708;F;46\n717409533;F;36\n711800658;F;42\n720401658;F;53\n720961383;F;47\n711691608;F;46\n708266883;F;34\n711102858;F;48\n711722808;F;51\n714848958;F;47\n719305608;F;57\n720190083;F;56\n719449533;F;49\n713027058;F;46\n719821908;F;38\n712378983;M;54\n717502083;M;41\n709102458;M;47\n807946833;F;44\n717146208;F;59\n712660308;F;44\n712144158;F;53\n824560758;F;35\n708190158;F;38\n772271508;F;46\n711412533;F;40\n778191933;M;45\n718152333;F;41\n785285883;F;49\n715773783;F;44\n712747758;F;50\n750995508;M;41\n709222008;M;41\n721426383;F;36\n708416433;F;41\n779183958;F;45\n767404083;M;52\n796083783;F;55\n778441533;F;45\n708885558;F;56\n719759733;F;59\n822170733;F;45\n772286658;M;63\n720460083;F;45\n717874533;M;46\n712136058;F;54\n714276408;F;52\n711232608;F;47\n721274208;F;41\n802668333;M;49\n789312033;F;48\n713425383;F;59\n708419733;M;47\n716329383;F;46\n715327683;F;45\n718958583;M;44\n712075083;M;50\n811700058;M;41\n720164358;F;53\n711325308;M;46\n720891633;F;53\n769152783;F;60\n779315508;M;43\n789560433;M;49\n771097683;M;43\n780450708;M;58\n720939933;F;46\n716212383;M;38\n757667133;M;54\n714938733;M;48\n716199408;F;52\n790051758;M;50\n807393558;M;51\n711167808;M;40\n793608258;F;54\n713003358;M;40\n711742758;F;43\n711332883;M;62\n719071158;F;54\n719714658;M;61\n716858433;F;43\n710958933;M;43\n720698883;M;51\n714190983;F;51\n742865883;F;46\n798553158;F;62\n711613308;M;58\n718558758;M;34\n813804783;F;41\n718732833;F;56\n820666083;M;41\n712044558;F;51\n713131158;M;58\n709319658;F;48\n710161083;F;62\n715799808;M;52\n718458858;M;41\n715630983;F;31\n712768983;M;51\n717529233;F;40\n711794358;M;61\n716260833;F;56\n719694408;F;30\n716863458;M;44\n766821033;M;61\n714615258;M;32\n710455608;M;40\n713514633;M;59\n716124408;M;32\n800758233;M;30\n709259958;F;53\n770220558;M;57\n709075533;M;41\n714361083;F;40\n709928358;M;40\n712265508;M;32\n715051608;M;34\n712895733;M;40\n719629308;F;55\n754443033;M;50\n720512433;M;56\n710878308;F;50\n712010358;M;49\n711432258;M;55\n708354858;M;51\n719767683;M;46\n713269533;M;42\n789684258;M;57\n769396158;M;55\n716717733;F;55\n715113933;M;54\n715714458;M;48\n769667583;M;34\n715645908;M;59\n778643733;F;48\n710980383;M;53\n709971708;F;51\n720565458;M;43\n715496058;F;41\n718297683;F;59\n719118708;F;49\n826245858;M;50\n711746133;M;50\n708496833;M;60\n710155983;M;52\n713318733;M;32\n712441308;F;41\n711161133;F;36\n717457008;M;43\n712841883;M;50\n719582058;M;41\n780511683;M;47\n753220383;M;29\n720827133;F;43\n716721483;M;59\n710527533;M;45\n709996833;M;31\n714022833;F;42\n711156858;F;48\n708319908;M;37\n714082308;M;39\n714820158;M;29\n713347608;F;54\n718080558;F;41\n713880633;M;53\n710639658;M;29\n718665033;M;44\n771561183;F;42\n712036383;M;49\n708821733;F;43\n710751033;F;31\n710679933;M;59\n717174558;F;57\n714543633;F;45\n713668158;F;31\n709249083;M;40\n710081208;M;52\n710047533;M;51\n712766208;M;45\n715150983;F;44\n714919308;F;32\n709660233;M;52\n712509108;F;46\n711745233;F;30\n712457208;M;58\n714945708;M;33\n718840833;M;49\n709566408;F;40\n789497283;M;50\n714677583;F;50\n720128658;M;49\n770038983;M;37\n714684108;M;31\n779134458;F;33\n710066133;M;30\n713281833;M;37\n716644008;M;55\n713924283;M;61\n716893683;F;55\n\n",
     "output_type": "stream"
    }
   ],
   "execution_count": 51
  },
  {
   "cell_type": "markdown",
   "source": "---",
   "metadata": {
    "id": "waxn4B2UDHyl",
    "cell_id": "00013-c0868c12-1266-4b65-bb9e-0bc0ada8daef",
    "deepnote_cell_type": "markdown"
   }
  },
  {
   "cell_type": "markdown",
   "source": "## 2\\. Excel para JSON",
   "metadata": {
    "id": "finLQoyyGVmk",
    "cell_id": "00014-e0dbaf5e-69b6-4035-9806-5d3029cfb4d3",
    "deepnote_cell_type": "markdown"
   }
  },
  {
   "cell_type": "markdown",
   "source": "Como preparação para o próximo módulo, vamos trabalhar com o JSON, um formato semi-estruturado, muito utilizado em transmissão de dados da web e equivalente a um **dicionário** Python.",
   "metadata": {
    "id": "99BrnqR4GVmy",
    "cell_id": "00015-e7790040-7c76-4f9f-bfa6-4a36feee2975",
    "deepnote_cell_type": "markdown"
   }
  },
  {
   "cell_type": "markdown",
   "source": "Utilizando o pacote Python `openpyxl` visto em aula, extraia os dados das colunas `escolaridade` e `tipo_cartao`, removendo duplicados. Com os dados, construa o dicionário Python `credito` com a seguinte estrutura:\n\n```python\ncredito = {\n  'tipo_cartao': ['silver', 'blue', 'gold', 'platinum'],\n  'escolaridade': ['doutorado', 'mestrado', 'na', 'sem educacao formal', 'graduacao', 'ensino medio']\n}\n```\n\nPara finalizar, utilize o código abaixo para converter o dicionário `credito` no formato JSON:\n\n```python\nimport json\n\ncredito_json = json.dumps(credito, indent=4)\nprint(credito_json)\n```\n\n**Dica:** Sua solução deve gerar o dicionário Python `credito` igual ao exemplo mas a ordem dos elementos pode variar tranquilamente.\n\n**Dica:** Uma excelente forma de remover elementos duplicados de uma lista é convertê-la para `set` e depois para `list` novamente.\n\n",
   "metadata": {
    "id": "AQqks_tohV8k",
    "cell_id": "00016-d7d688a9-2793-4d82-a01d-a05ebc18bbd5",
    "deepnote_cell_type": "markdown"
   }
  },
  {
   "cell_type": "code",
   "metadata": {
    "id": "pCMQ5vBPjSXn",
    "cell_id": "00017-de2cb282-4115-43a9-b565-9b1522445849",
    "deepnote_to_be_reexecuted": false,
    "source_hash": "3c96d136",
    "execution_start": 1639005610494,
    "execution_millis": 296,
    "deepnote_output_heights": [
     194
    ],
    "deepnote_cell_type": "code"
   },
   "source": "dados_filtrados = list(filter(lambda linha: linha[5] != 'escolaridade', dados))\n\ncredito_dict = {\n    'tipo_cartao': list(set(map(lambda linha: linha[8], dados_filtrados))),\n    'escolaridade': list(set(map(lambda linha: linha[5], dados_filtrados)))\n}\n\nprint(credito_dict)\n",
   "outputs": [
    {
     "name": "stdout",
     "text": "{'tipo_cartao': ['platinum', 'blue', 'silver', 'gold'], 'escolaridade': ['sem educacao formal', 'na', 'graduacao', 'doutorado', 'ensino medio', 'mestrado']}\n",
     "output_type": "stream"
    }
   ],
   "execution_count": 52
  },
  {
   "cell_type": "markdown",
   "source": "---",
   "metadata": {
    "id": "As3enQc2GVm1",
    "cell_id": "00018-048f45fa-ae63-4860-9ea2-decfa3e65619",
    "deepnote_cell_type": "markdown"
   }
  },
  {
   "cell_type": "markdown",
   "source": "## 3\\. BÔNUS: Texto para CSV",
   "metadata": {
    "id": "SS1PxxfHILHs",
    "cell_id": "00019-400fc405-4d04-4407-afb5-060d86fb5969",
    "deepnote_cell_type": "markdown"
   }
  },
  {
   "cell_type": "markdown",
   "source": "No arquivo de texto `ebac.txt` você encontra o texto presente no rodapé da página de cursos da EBAC ([link](https://ebaconline.com.br/)).\n\n",
   "metadata": {
    "id": "i3f-X7y23onm",
    "cell_id": "00020-6a930b6c-a982-46b8-8d7d-9090263701d5",
    "deepnote_cell_type": "markdown"
   }
  },
  {
   "cell_type": "markdown",
   "source": "**Arquivo TXT:** ebac.txt",
   "metadata": {
    "id": "nKDF9EBH3onp",
    "cell_id": "00021-f92522b2-208b-4081-aa2f-bd36961b25dc",
    "deepnote_cell_type": "markdown"
   }
  },
  {
   "cell_type": "code",
   "metadata": {
    "id": "Pyyj5VNnb16w",
    "cell_id": "00022-e5347b1a-d017-4409-8344-8226d1ce3db5",
    "deepnote_to_be_reexecuted": false,
    "source_hash": "ca922901",
    "execution_start": 1639005615053,
    "execution_millis": 522,
    "deepnote_cell_type": "code"
   },
   "source": "%%writefile ebac.txt\nMÍDIAS SOCIAIS\nInstagram, Facebook, Youtube, LinkedIn \n\nCURSOS\nSoftware, Design, Marketing, Audiovisual, Programação & Data, Games\n\nWEBINARS\nPróximos, Anteriores\n\nSOBRE\nSobre nós, Centro de carreiras, Vagas\n\nCONTATO\nWhatsApp +55 (11) 4200-2991\nTelefone +55 (11) 3030-3200\n\nBLOG\nDesign, Audiovisual, Marketing",
   "outputs": [
    {
     "name": "stdout",
     "text": "Overwriting ebac.txt\n",
     "output_type": "stream"
    }
   ],
   "execution_count": 53
  },
  {
   "cell_type": "markdown",
   "source": "Extraia os números de contato do arquivo texto `ebac.txt` e salve-os no arquivo csv `contato_ebac.csv` com o separador `;` no seguinte formato:\n\n```\ntipo;numero\nwhatsapp;+551142002991\ntelefone;+551130303200\n```\n\n**Nota:** Escreva o código da sua solução abaixo em uma ou mais células, você não precisa enviar o arquivo csv gerado.",
   "metadata": {
    "id": "R4hMJ6D2ILH3",
    "cell_id": "00023-10eb8ca8-47a4-465c-b96a-e37b00594614",
    "deepnote_cell_type": "markdown"
   }
  },
  {
   "cell_type": "code",
   "metadata": {
    "tags": [],
    "cell_id": "00028-e24984b0-3d65-4f7d-9759-00a10dbede5d",
    "deepnote_to_be_reexecuted": false,
    "source_hash": "da078976",
    "execution_start": 1639005621782,
    "execution_millis": 756,
    "deepnote_output_heights": [
     194
    ],
    "deepnote_cell_type": "code"
   },
   "source": "# solução do exercício 3 (bônus)\n#não consegui separar o numero do tipo\nimport re\n\nwith open(file='ebac.txt', mode='r', encoding='utf8') as arquivo:\n  texto = arquivo.read()\n  \ncontato_ebac = re.findall('.+\\+.+', texto)\n\nprint(contato_ebac)\n\nimport csv\n\n\nwith open(file='contato_ebac.csv', mode='w', encoding='utf8') as arquivo:\n  escritor_csv = csv.writer(arquivo, delimiter=';')\n  escritor_csv.writerows([['telefone']] + list(map(lambda contato: [contato], contato_ebac)))\n\nwith open(file='contato_ebac.csv', mode='r', encoding='utf8') as arquivo:\n  linhas = arquivo.readlines()\n  \nprint(linhas)",
   "outputs": [
    {
     "name": "stdout",
     "text": "['WhatsApp +55 (11) 4200-2991', 'Telefone +55 (11) 3030-3200']\n['telefone\\n', 'WhatsApp +55 (11) 4200-2991\\n', 'Telefone +55 (11) 3030-3200\\n']\n",
     "output_type": "stream"
    }
   ],
   "execution_count": 54
  },
  {
   "cell_type": "code",
   "metadata": {
    "tags": [],
    "cell_id": "00029-69cafa0c-3948-4692-bf74-14a63ea94e75",
    "deepnote_to_be_reexecuted": false,
    "source_hash": "2eefefb5",
    "execution_start": 1639005657915,
    "execution_millis": 2,
    "deepnote_output_heights": [
     null,
     194
    ],
    "deepnote_cell_type": "code"
   },
   "source": "#solução alternativa\nimport re\n\nwith open(file='ebac.txt', mode='r', encoding='utf8') as arquivo:\n  texto = arquivo.read()\n  \ncontato_ebac = re.findall('.+\\+.+', texto)\n\n\nprint(contato_ebac)\n\ncontato = [['tipo', 'telefone']]\n\nfor filme in contato_ebac:\n    contato.append([filme.split(sep=' ')[0], filme.split(sep='+')[1]])\n\n\nprint(contato)",
   "outputs": [
    {
     "name": "stdout",
     "text": "['WhatsApp +55 (11) 4200-2991', 'Telefone +55 (11) 3030-3200']\n[['tipo', 'telefone'], ['WhatsApp', '55 (11) 4200-2991'], ['Telefone', '55 (11) 3030-3200']]\n",
     "output_type": "stream"
    }
   ],
   "execution_count": 55
  },
  {
   "cell_type": "code",
   "metadata": {
    "tags": [],
    "cell_id": "00030-117daf5e-1974-4f00-b79d-c66abfc1f009",
    "deepnote_to_be_reexecuted": false,
    "source_hash": "e2fcbdaf",
    "execution_start": 1639005730378,
    "execution_millis": 695,
    "deepnote_cell_type": "code"
   },
   "source": "import csv\nwith open(file='contato_ebac.csv', mode='w', encoding='utf8') as arquivo:\n    escritor_csv = csv.writer(arquivo, delimiter=';')\n    escritor_csv.writerows(map(lambda linha: linha, contato))\n\nwith open(file='contato_ebac.csv', mode='r', encoding='utf8') as arquivo:\n    texto = arquivo.read()\n\nprint(texto)",
   "outputs": [
    {
     "name": "stdout",
     "text": "tipo;telefone\nWhatsApp;55 (11) 4200-2991\nTelefone;55 (11) 3030-3200\n\n",
     "output_type": "stream"
    }
   ],
   "execution_count": 56
  },
  {
   "cell_type": "code",
   "metadata": {
    "tags": [],
    "cell_id": "00031-06f6a764-d801-4c61-a0f4-1344d2aabaa5",
    "deepnote_cell_type": "code"
   },
   "source": "",
   "execution_count": null,
   "outputs": []
  },
  {
   "cell_type": "markdown",
   "source": "<a style='text-decoration:none;line-height:16px;display:flex;color:#5B5B62;padding:10px;justify-content:end;' href='https://deepnote.com?utm_source=created-in-deepnote-cell&projectId=690ec1aa-ed7a-4520-b902-aba6fc5867d1' target=\"_blank\">\n<img alt='Created in deepnote.com' style='display:inline;max-height:16px;margin:0px;margin-right:7.5px;' src='data:image/svg+xml;base64,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' > </img>\nCreated in <span style='font-weight:600;margin-left:4px;'>Deepnote</span></a>",
   "metadata": {
    "tags": [],
    "created_in_deepnote_cell": true,
    "deepnote_cell_type": "markdown"
   }
  }
 ],
 "nbformat": 4,
 "nbformat_minor": 0,
 "metadata": {
  "colab": {
   "name": "module_10_exercise.ipynb",
   "provenance": [],
   "collapsed_sections": []
  },
  "kernelspec": {
   "name": "python3",
   "display_name": "Python 3"
  },
  "deepnote_notebook_id": "f22d38be-589d-43b4-a602-5370083b922a",
  "deepnote": {},
  "deepnote_execution_queue": []
 }
}