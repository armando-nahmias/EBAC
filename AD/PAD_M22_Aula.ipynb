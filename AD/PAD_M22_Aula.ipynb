{
  "nbformat": 4,
  "nbformat_minor": 0,
  "metadata": {
    "colab": {
      "name": "modulo_22_aula.ipynb",
      "provenance": [],
      "collapsed_sections": [],
      "toc_visible": true
    },
    "kernelspec": {
      "name": "python3",
      "display_name": "Python 3"
    }
  },
  "cells": [
    {
      "cell_type": "markdown",
      "metadata": {
        "id": "KJqp9AANOCtf"
      },
      "source": [
        "<img src=\"https://raw.githubusercontent.com/andre-marcos-perez/ebac-course-utils/main/media/logo/newebac_logo_black_half.png\" alt=\"ebac-logo\">\n",
        "\n",
        "---\n",
        "\n",
        "# **Módulo** | Análise de Dados: Fundamentos de Estatística\n",
        "Caderno de **Aula**<br> \n",
        "Professor [André Perez](https://www.linkedin.com/in/andremarcosperez/)\n",
        "\n",
        "---"
      ]
    },
    {
      "cell_type": "markdown",
      "metadata": {
        "id": "d9jDtUbDOE1-"
      },
      "source": [
        "# **Tópicos**\n",
        "\n",
        "<ol type=\"1\">\n",
        "  <li>Média e Variância;</li>\n",
        "  <li>Ordem e Posição;</li>\n",
        "  <li>Correlação.</li>\n",
        "</ol>"
      ]
    },
    {
      "cell_type": "markdown",
      "metadata": {
        "id": "SmoHgt-lwkpD"
      },
      "source": [
        "---"
      ]
    },
    {
      "cell_type": "markdown",
      "metadata": {
        "id": "GABI6OW8OfQ2"
      },
      "source": [
        "# **Aulas**"
      ]
    },
    {
      "cell_type": "markdown",
      "metadata": {
        "id": "kzRDceCvkFj2"
      },
      "source": [
        "## 0\\. Abordagens estatísticas"
      ]
    },
    {
      "cell_type": "markdown",
      "metadata": {
        "id": "jzEvBUk3qb1n"
      },
      "source": [
        "*   **Descritiva**: foco no passado para entender o **presente**.\n",
        "*   <font color='red'>**Preditiva**</font>: foca no passado para inferir o **futuro**."
      ]
    },
    {
      "cell_type": "markdown",
      "metadata": {
        "id": "uXzRXJ2cIqeZ"
      },
      "source": [
        "### **0.1. Dados** "
      ]
    },
    {
      "cell_type": "markdown",
      "metadata": {
        "id": "3cd8JzkNJLXh"
      },
      "source": [
        "Neste módulo, vamos utilizar dados sobre o salário mensal em dólares americados de jogadores da NBA em 2020. O conjunto de dados está neste [link](https://github.com/andre-marcos-perez/ebac-course-utils/blob/main/dataset/wage.csv) e foi inspirado num conjunto de dados do Kaggle, presente neste [link](https://www.kaggle.com/isaienkov/nba2k20-player-dataset). "
      ]
    },
    {
      "cell_type": "markdown",
      "metadata": {
        "id": "iapbY_LwS71v"
      },
      "source": [
        " - **Download**"
      ]
    },
    {
      "cell_type": "code",
      "metadata": {
        "id": "W4OawyIIPGNx"
      },
      "source": [
        "!wget -q \"https://raw.githubusercontent.com/andre-marcos-perez/ebac-course-utils/main/dataset/wage.csv\" -O wage.csv "
      ],
      "execution_count": null,
      "outputs": []
    },
    {
      "cell_type": "markdown",
      "metadata": {
        "id": "6DE8q8Y8S-gZ"
      },
      "source": [
        " - **Manipulação** "
      ]
    },
    {
      "cell_type": "markdown",
      "metadata": {
        "id": "9nLUIZ5BR3n6"
      },
      "source": [
        "Vamos ler o arquivo `wage.csv` com ajuda do Pandas e converter a coluna de interesse do *dataframe* para um *array* NumPy. "
      ]
    },
    {
      "cell_type": "code",
      "metadata": {
        "id": "p0qtXPZxR1Tt"
      },
      "source": [
        "import numpy as np\n",
        "import pandas as pd\n",
        "import seaborn as sns"
      ],
      "execution_count": null,
      "outputs": []
    },
    {
      "cell_type": "code",
      "metadata": {
        "id": "lDh_syy9IvUJ"
      },
      "source": [
        "wage_df = pd.read_csv('wage.csv')\n",
        "wage_df.head()"
      ],
      "execution_count": null,
      "outputs": []
    },
    {
      "cell_type": "code",
      "metadata": {
        "id": "zkKNG343Jx6a"
      },
      "source": [
        "wage_array = np.array(wage_df['wage'].astype('int').to_list())\n",
        "print(wage_array[0:5])"
      ],
      "execution_count": null,
      "outputs": []
    },
    {
      "cell_type": "code",
      "metadata": {
        "id": "6rFYg49Phzj1"
      },
      "source": [
        "with sns.axes_style('whitegrid'):\n",
        "\n",
        "  grafico = sns.histplot(data=wage_array, binwidth=100 * 1000)\n",
        "  grafico.set(title='Distribuição de Salário Mensal da NBA em 2020', xlabel='Salário Mensal (USD)', ylabel='Contagem');"
      ],
      "execution_count": null,
      "outputs": []
    },
    {
      "cell_type": "markdown",
      "metadata": {
        "id": "muD1vxozykSC"
      },
      "source": [
        "## 1\\. Média e Variância"
      ]
    },
    {
      "cell_type": "markdown",
      "metadata": {
        "id": "qBqXG-IFOsed"
      },
      "source": [
        "### **1.1. População e amostra** "
      ]
    },
    {
      "cell_type": "markdown",
      "metadata": {
        "id": "p4xNtwW3rzep"
      },
      "source": [
        "**População** é um subconjunto composto por **todos** os elementos de um conjunto. Já a **amostra** é um subconjunto composto por uma **fração** dos elementos de um conjunto. O processo de extrair uma amostra de uma população é chamado de **amostragem**. A amostragem é um processo muitas vezes necessário devido a impraticidade do acesso a toda a população (tempo, recursos, etc.)."
      ]
    },
    {
      "cell_type": "markdown",
      "metadata": {
        "id": "jb22Ln4fVkBF"
      },
      "source": [
        "- Exemplo:"
      ]
    },
    {
      "cell_type": "markdown",
      "metadata": {
        "id": "F-C-gjFMVp74"
      },
      "source": [
        "A cidade de São Paulo possuía **8.986.687** de eleitores aptos a votar nas eleições municipais de 2020, segundo o tribunal regional eleitoral do estado. ([link](https://agenciabrasil.ebc.com.br/eleicoes-2020/noticia/2020-11/com-33-milhoes-de-eleitores-sp-e-maior-colegio-eleitoral-do-brasil)). Contudo, o Datafolha fez uma pesquisa de intenção de voto com apenas **1.512** (0.017% do toal) na cidade de São Paulo com 95% de nível de confiança. ([link](https://g1.globo.com/sp/sao-paulo/eleicoes/2020/noticia/2020/11/11/pesquisa-datafolha-em-sao-paulo-covas-32percent-boulos-16percent-russomanno-14percent-franca-12percent.ghtml))."
      ]
    },
    {
      "cell_type": "markdown",
      "metadata": {
        "id": "mqtSfqMGVnhY"
      },
      "source": [
        " - Exemplo:"
      ]
    },
    {
      "cell_type": "code",
      "metadata": {
        "id": "mq5i5BJQKR4n"
      },
      "source": [
        "len(wage_array)"
      ],
      "execution_count": null,
      "outputs": []
    },
    {
      "cell_type": "markdown",
      "metadata": {
        "id": "NoxZ3IdnrvH4"
      },
      "source": [
        "### **1.2. Média** "
      ]
    },
    {
      "cell_type": "markdown",
      "metadata": {
        "id": "1BykKIvGr0yL"
      },
      "source": [
        "A média ($\\textbf{x}_m$) é o valor médio ou média aritmética dos elementos ($x_i$) um conjunto ($\\textbf{x}$). É definido como a soma dos valores dos elementos divido pelo quantidade dos elementos do conjunto ($n$). Quanto maior for o número de elementos de uma amostra, mais próxima a **média amostral** será da **média populacional**."
      ]
    },
    {
      "cell_type": "markdown",
      "metadata": {
        "id": "rGB7Yx6fBGqq"
      },
      "source": [
        "> $\\textbf{x}_m = \\frac{\\sum_{i=1}^{n} x_i}{n}$"
      ]
    },
    {
      "cell_type": "markdown",
      "metadata": {
        "id": "yRcWrgiRCIa9"
      },
      "source": [
        "Exemplo:"
      ]
    },
    {
      "cell_type": "code",
      "metadata": {
        "id": "aMCumrQaCHt2"
      },
      "source": [
        "np.mean(wage_array) # em USD"
      ],
      "execution_count": null,
      "outputs": []
    },
    {
      "cell_type": "markdown",
      "metadata": {
        "id": "ErqYaQ1FCLIu"
      },
      "source": [
        "### **1.3. Variância** "
      ]
    },
    {
      "cell_type": "markdown",
      "metadata": {
        "id": "Y7hR5vWmCLIv"
      },
      "source": [
        "A variância ($\\sigma^{2}$) é uma métrica de dispersão representada pelo quadrado do desvio médio dos elementos ($x_i$) de um conjunto da sua média ($\\textbf{x}_m$). É definida como a média da soma dos quadrados da diferença dos valores dos elementos de um conjunto da sua média, corrigidos por um fator amostral."
      ]
    },
    {
      "cell_type": "markdown",
      "metadata": {
        "id": "PGXaByDjgVj-"
      },
      "source": [
        "> **Nota**: Elevar ao quadrado as diferenças evitam que valores negativos impactem a soma."
      ]
    },
    {
      "cell_type": "markdown",
      "metadata": {
        "id": "HweSqsMECLIw"
      },
      "source": [
        "> $\\sigma^{2} = \\frac{\\sum_{i=1}^{n} (x_i-x_m)^{2}}{n-1}$"
      ]
    },
    {
      "cell_type": "markdown",
      "metadata": {
        "id": "18b9K4h0CLIw"
      },
      "source": [
        "Exemplo:"
      ]
    },
    {
      "cell_type": "code",
      "metadata": {
        "id": "f1yka4lICLIx"
      },
      "source": [
        "np.var(wage_array) # em USD²"
      ],
      "execution_count": null,
      "outputs": []
    },
    {
      "cell_type": "markdown",
      "metadata": {
        "id": "oBU_J6DiEYie"
      },
      "source": [
        "### **1.4. Desvio Padrão** "
      ]
    },
    {
      "cell_type": "markdown",
      "metadata": {
        "id": "iRlYSuTNEYip"
      },
      "source": [
        "O desvio padrão ($\\sigma$) é uma métrica de dispersão representada pela raiz quadrada da variância. Possuí a mesma dimensão da média."
      ]
    },
    {
      "cell_type": "markdown",
      "metadata": {
        "id": "ghTnwCeREYiq"
      },
      "source": [
        "> $\\sigma = \\sqrt{\\sigma^{2}}$"
      ]
    },
    {
      "cell_type": "markdown",
      "metadata": {
        "id": "AKNDjW9EEYir"
      },
      "source": [
        "Exemplo:"
      ]
    },
    {
      "cell_type": "code",
      "metadata": {
        "id": "vbApPU2aEYis"
      },
      "source": [
        "np.std(wage_array) # em USD"
      ],
      "execution_count": null,
      "outputs": []
    },
    {
      "cell_type": "markdown",
      "metadata": {
        "id": "PD0FiM7UJOGT"
      },
      "source": [
        "## 2\\. Ordem e posição"
      ]
    },
    {
      "cell_type": "markdown",
      "metadata": {
        "id": "qfPGhP6Rtse_"
      },
      "source": [
        "### **2.1. Medição Posicional** "
      ]
    },
    {
      "cell_type": "markdown",
      "metadata": {
        "id": "16cc-OF8G4gh"
      },
      "source": [
        "As métricas posicionais assumem que os elementos de um conjunto estejam **ordenados** do menor para o maior valor. São muito utilizados pois são mais resilientes a distorção (*skewness*) da distribuição dos valores dos elementos do conjunto."
      ]
    },
    {
      "cell_type": "markdown",
      "metadata": {
        "id": "abyDpEYpRGtk"
      },
      "source": [
        "### **2.2. Mediana** "
      ]
    },
    {
      "cell_type": "markdown",
      "metadata": {
        "id": "h55nCNjJGibJ"
      },
      "source": [
        "A mediana é o valor do elemento central de um conjunto ordenado. Quando a quantidade de elementos é par, a mediana é a média dos seus valores. Passa a ideia do valor dos **elementos mais comuns** do conjunto."
      ]
    },
    {
      "cell_type": "code",
      "metadata": {
        "id": "3NXXftjhGkM0"
      },
      "source": [
        "np.median(wage_array)"
      ],
      "execution_count": null,
      "outputs": []
    },
    {
      "cell_type": "markdown",
      "metadata": {
        "id": "r6n6Ou5pbcEv"
      },
      "source": [
        "### **2.3. Quartil** "
      ]
    },
    {
      "cell_type": "markdown",
      "metadata": {
        "id": "iVrhLJglGsTe"
      },
      "source": [
        "Quartil é o valor de corte de uma divisão dos elementos de um conjunto. Os quartis que dividem os elementos em 25%, 50% e 75% possuem nomes especiais: primeiro quartil, segundo quartil (mediana) e terceiro quartil, respectivamente. Passam a ideia da **distribuição dos valores dos elementos** do conjunto. "
      ]
    },
    {
      "cell_type": "code",
      "metadata": {
        "id": "FKvMXVoUWvDT"
      },
      "source": [
        "q1 = np.quantile(wage_array, 0.25) # primeiro quartil ou 25%\n",
        "print(q1)"
      ],
      "execution_count": null,
      "outputs": []
    },
    {
      "cell_type": "code",
      "metadata": {
        "id": "VY3VD6_TGsTf"
      },
      "source": [
        "q2 = np.quantile(wage_array, 0.50) # segundo quartil ou 50% ou mediana\n",
        "print(q2)"
      ],
      "execution_count": null,
      "outputs": []
    },
    {
      "cell_type": "code",
      "metadata": {
        "id": "jA-v85sIWwtL"
      },
      "source": [
        "q3 = np.quantile(wage_array, 0.75) # terceiro quartil ou 75%\n",
        "print(q3)"
      ],
      "execution_count": null,
      "outputs": []
    },
    {
      "cell_type": "code",
      "metadata": {
        "id": "XEN35rlwY6T1"
      },
      "source": [
        "iqr = q3 - q1\n",
        "print(iqr)"
      ],
      "execution_count": null,
      "outputs": []
    },
    {
      "cell_type": "markdown",
      "metadata": {
        "id": "EpzGtqqOGw48"
      },
      "source": [
        "### **2.4. Boxplot** "
      ]
    },
    {
      "cell_type": "markdown",
      "metadata": {
        "id": "mwdqZqXxGw5D"
      },
      "source": [
        "Gráfico de distribuição que utiliza as métricas posicionais **mediana** e os **quartis**. O gráfico é divido na caixa ou *box*, bigodes ou *whiskers* e os pontos fora da curva ou *outliers*. "
      ]
    },
    {
      "cell_type": "markdown",
      "metadata": {
        "id": "DtGx1U4Tdc_x"
      },
      "source": [
        " - **Box**"
      ]
    },
    {
      "cell_type": "markdown",
      "metadata": {
        "id": "8L3iHlKfeUNN"
      },
      "source": [
        "Apresenta a maior concentração de dados, é definido com o intervalo entre o primeiro e o terceiro quartil, o chamado intervalo entre quartis (IQR). Trás ainda a mediana ou segundo quartil. São representados por uma caixa."
      ]
    },
    {
      "cell_type": "markdown",
      "metadata": {
        "id": "CLcEDG2jeKt3"
      },
      "source": [
        " - **Whiskers**\n"
      ]
    },
    {
      "cell_type": "markdown",
      "metadata": {
        "id": "zUmjOI2oeXTS"
      },
      "source": [
        "Apresentam a dispersão dos dados, são geralmente definidos como `Q1 - 1.5 * IQR` (inferior) e `Q3 + 1.5 * IQR` (superior). São conhecidos como mínimo e máximo valores, excluindo os *outliers*. São representados por linhas verticais."
      ]
    },
    {
      "cell_type": "markdown",
      "metadata": {
        "id": "Ml8GYVKFfOOT"
      },
      "source": [
        " - **Outliers**"
      ]
    },
    {
      "cell_type": "markdown",
      "metadata": {
        "id": "UF1PTSC1fQzT"
      },
      "source": [
        "Os famosos pontos fora da curva, são definidos como qualquer valor abaixo ou acima dos *whiskers*. São representados por pontos."
      ]
    },
    {
      "cell_type": "markdown",
      "metadata": {
        "id": "mI9NvdPRfvVD"
      },
      "source": [
        "Exemplo:"
      ]
    },
    {
      "cell_type": "markdown",
      "metadata": {
        "id": "-oT4t1N8aL6Z"
      },
      "source": [
        "As métricas **aritméticas** (em USD) são:"
      ]
    },
    {
      "cell_type": "markdown",
      "metadata": {
        "id": "-Z6eDLRfZVbl"
      },
      "source": [
        "- **Média**: 762.359,61\n",
        "- **Desvio Padrão**: 865.126,89"
      ]
    },
    {
      "cell_type": "markdown",
      "metadata": {
        "id": "L-_FfM9taS9c"
      },
      "source": [
        "Já as métricas **posicionais** (em USD) são:"
      ]
    },
    {
      "cell_type": "markdown",
      "metadata": {
        "id": "MGcziBXhbmUT"
      },
      "source": [
        "- **Mediana**: 339.000,00\n",
        "- **1º Quartil**: 165.079,00\n",
        "- **3º Quartil**: 1.007.752,00\n"
      ]
    },
    {
      "cell_type": "markdown",
      "metadata": {
        "id": "7vpnH32xf3LR"
      },
      "source": [
        "Vamos gerar um gráfico boxplot como o pacote Seaborn:"
      ]
    },
    {
      "cell_type": "code",
      "metadata": {
        "id": "7HJ5pErJXNw9"
      },
      "source": [
        "with sns.axes_style('whitegrid'):\n",
        "\n",
        "  grafico = sns.boxplot(x=wage_array)\n",
        "  grafico.set(title='Distribuição de Salário Mensal da NBA em 2020', xlabel='Salário Mensal (USD)');"
      ],
      "execution_count": null,
      "outputs": []
    },
    {
      "cell_type": "code",
      "metadata": {
        "id": "TnLE9pNomMMi"
      },
      "source": [
        "with sns.axes_style('whitegrid'):\n",
        "\n",
        "  grafico = sns.histplot(data=wage_array, binwidth=100 * 1000)\n",
        "  grafico.set(title='Distribuição de Salário Mensal da NBA em 2020', xlabel='Salário Mensal (USD)', ylabel='Contagem');"
      ],
      "execution_count": null,
      "outputs": []
    },
    {
      "cell_type": "markdown",
      "metadata": {
        "id": "kt7cGfOVcYd2"
      },
      "source": [
        "Algumas conclusões:"
      ]
    },
    {
      "cell_type": "markdown",
      "metadata": {
        "id": "fRn4K_UIcAfe"
      },
      "source": [
        " > Métricas **aritméticas** são de simples interpretação mas exigem dados relativamente simétricos para serem representativos."
      ]
    },
    {
      "cell_type": "markdown",
      "metadata": {
        "id": "ReD0wRABcODE"
      },
      "source": [
        " > Métricas **posicionais** menos interpretáveis mas são mais genéricas com relação a distribuição dos dados."
      ]
    },
    {
      "cell_type": "markdown",
      "metadata": {
        "id": "SinVX7LWxGna"
      },
      "source": [
        "## 3\\. Correlação"
      ]
    },
    {
      "cell_type": "markdown",
      "metadata": {
        "id": "xHEfrutrqIlT"
      },
      "source": [
        "Correlação são métricas que medem a dependência estatística entre conjuntos de dados, correlações estas que podem ser **causais** ou não."
      ]
    },
    {
      "cell_type": "markdown",
      "metadata": {
        "id": "4us1wTbS3x8d"
      },
      "source": [
        " - Exemplo:"
      ]
    },
    {
      "cell_type": "markdown",
      "metadata": {
        "id": "U7FR3JsX3y58"
      },
      "source": [
        "Sobe o preço do dólar, sobe o preço de insumos importados, sobre o preço dos produtos, logo, sobe a inflação."
      ]
    },
    {
      "cell_type": "markdown",
      "metadata": {
        "id": "K547_WOam9j_"
      },
      "source": [
        "### **3.1. Coeficiente de Correlação de Pearson** "
      ]
    },
    {
      "cell_type": "markdown",
      "metadata": {
        "id": "XlEgGXIznPd_"
      },
      "source": [
        "O coeficiente de correlação de Pearson ($\\textbf{r}_{xy}$) resume a correlação linear entre dois conjuntos de dados em um único número entre -1 e 1, sendo que:"
      ]
    },
    {
      "cell_type": "markdown",
      "metadata": {
        "id": "bxQaoxqJpRNH"
      },
      "source": [
        " - $\\textbf{r}_{xy} < 0 $, enquanto **x** cresce, **y**  decresce;\n",
        " - $\\textbf{r}_{xy} = 0 $, não há relação entre **x** e **y**;\n",
        " - $\\textbf{r}_{xy} > 0 $, enquanto **x** cresce, **y** cresce."
      ]
    },
    {
      "cell_type": "markdown",
      "metadata": {
        "id": "9_sJDH37nhld"
      },
      "source": [
        "> $\\textbf{r}_{xy} = \\frac{\\sum_{i=1}^{n} (x_i-x_m)(y_i-y_m)}{\\sqrt{\\sum_{i=1}^{n} (x_i-x_m)^{2}}\\sqrt{\\sum_{i=1}^{n} (y_i-y_m)^{2}}}$"
      ]
    },
    {
      "cell_type": "markdown",
      "metadata": {
        "id": "ZPROJ84kq3dz"
      },
      "source": [
        "Exemplo:"
      ]
    },
    {
      "cell_type": "code",
      "metadata": {
        "id": "QgEP-CVwtdph"
      },
      "source": [
        "%%writefile nba.csv\n",
        "height;weight;wage\n",
        "2.01;86.2;17150000\n",
        "1.93;106.1;898310\n",
        "2.11;120.2;9881598\n",
        "1.88;85.7;15643750\n",
        "1.88;84.8;2875000\n",
        "2.11;106.1;2376840\n",
        "1.98;86.6;2625717\n",
        "2.08;104.3;37199000\n",
        "2.03;117.9;28942830\n",
        "1.83;81.6;522738"
      ],
      "execution_count": null,
      "outputs": []
    },
    {
      "cell_type": "code",
      "metadata": {
        "id": "0XmRga7iq2pE"
      },
      "source": [
        "df = pd.read_csv('nba.csv', sep=';')"
      ],
      "execution_count": null,
      "outputs": []
    },
    {
      "cell_type": "code",
      "metadata": {
        "id": "drwcGJQ4sY_A"
      },
      "source": [
        "df.head()"
      ],
      "execution_count": null,
      "outputs": []
    },
    {
      "cell_type": "code",
      "metadata": {
        "id": "OPrg5GAA1gLL"
      },
      "source": [
        "height_array = np.array(df['height'].to_list())\n",
        "weight_array = np.array(df['weight'].to_list())\n",
        "wage_array = np.array(df['wage'].to_list())"
      ],
      "execution_count": null,
      "outputs": []
    },
    {
      "cell_type": "code",
      "metadata": {
        "id": "6C25IYZ42L5S"
      },
      "source": [
        "weight_array"
      ],
      "execution_count": null,
      "outputs": []
    },
    {
      "cell_type": "markdown",
      "metadata": {
        "id": "9_7Twdmf18W9"
      },
      "source": [
        " - **Peso e altura**"
      ]
    },
    {
      "cell_type": "code",
      "metadata": {
        "id": "jJ1qlmk82C3-"
      },
      "source": [
        "np.corrcoef(weight_array, height_array)"
      ],
      "execution_count": null,
      "outputs": []
    },
    {
      "cell_type": "code",
      "metadata": {
        "id": "0mEhYl702W5Q"
      },
      "source": [
        "with sns.axes_style('whitegrid'):\n",
        "\n",
        "  grafico = sns.scatterplot(x=weight_array, y=height_array)\n",
        "  grafico.set(title='Distribuição de Peso e Altura dos Jogadores da NBA em 2020', xlabel='Peso (kg)', ylabel='Altura (m)');"
      ],
      "execution_count": null,
      "outputs": []
    },
    {
      "cell_type": "markdown",
      "metadata": {
        "id": "ckzeOHzK2_s-"
      },
      "source": [
        " - **Peso e salário**"
      ]
    },
    {
      "cell_type": "code",
      "metadata": {
        "id": "2WRcyrwz2_tA"
      },
      "source": [
        "np.corrcoef(weight_array, wage_array)"
      ],
      "execution_count": null,
      "outputs": []
    },
    {
      "cell_type": "code",
      "metadata": {
        "id": "zdsLk4Gn2_tB"
      },
      "source": [
        "with sns.axes_style('whitegrid'):\n",
        "\n",
        "  grafico = sns.scatterplot(x=weight_array, y=wage_array)\n",
        "  grafico.set(title='Distribuição de Peso e Salário dos Jogadores da NBA em 2020', xlabel='Peso (kg)', ylabel='Salário (USD)');"
      ],
      "execution_count": null,
      "outputs": []
    },
    {
      "cell_type": "markdown",
      "metadata": {
        "id": "mn28LnSr3THH"
      },
      "source": [
        "- **Altura e salário**"
      ]
    },
    {
      "cell_type": "code",
      "metadata": {
        "id": "mkPxTYMV3THJ"
      },
      "source": [
        "np.corrcoef(height_array, wage_array)"
      ],
      "execution_count": null,
      "outputs": []
    },
    {
      "cell_type": "code",
      "metadata": {
        "id": "y6SSN0XG3THK"
      },
      "source": [
        "with sns.axes_style('whitegrid'):\n",
        "\n",
        "  grafico = sns.scatterplot(x=height_array, y=wage_array)\n",
        "  grafico.set(title='Distribuição de Altura e Salário dos Jogadores da NBA em 2020', xlabel='Peso (kg)', ylabel='Salário (USD)');"
      ],
      "execution_count": null,
      "outputs": []
    }
  ]
}