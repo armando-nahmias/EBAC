{
 "cells": [
  {
   "cell_type": "markdown",
   "source": "<img src=\"https://raw.githubusercontent.com/andre-marcos-perez/ebac-course-utils/main/media/logo/newebac_logo_black_half.png\" alt=\"ebac-logo\">\n\n---\n\n# **Módulo** | Análise de Dados: Coleta de Dados I\nCaderno de **Exercícios**<br> \nProfessor [André Perez](https://www.linkedin.com/in/andremarcosperez/)\n\n---",
   "metadata": {
    "id": "KJqp9AANOCtf",
    "cell_id": "00000-7ffec3c8-c882-4a59-8d00-1ff54107ca44",
    "deepnote_cell_type": "markdown"
   }
  },
  {
   "cell_type": "markdown",
   "source": "# **Tópicos**\n\n<ol type=\"1\">\n  <li>Arquivos CSV;</li>\n  <li>Arquivos Texto;</li>\n  <li>Arquivos Excel.</li>\n</ol>",
   "metadata": {
    "id": "d9jDtUbDOE1-",
    "cell_id": "00001-5cceb187-1747-4add-aed7-27f921c25a82",
    "deepnote_cell_type": "markdown"
   }
  },
  {
   "cell_type": "markdown",
   "source": "---",
   "metadata": {
    "id": "SmoHgt-lwkpD",
    "cell_id": "00002-47fabe22-a90a-4641-89f2-e54a629d0a97",
    "deepnote_cell_type": "markdown"
   }
  },
  {
   "cell_type": "markdown",
   "source": "# **Exercícios**",
   "metadata": {
    "id": "GABI6OW8OfQ2",
    "cell_id": "00003-5d2cf21b-e7a1-4f8f-947a-285937efa3a0",
    "deepnote_cell_type": "markdown"
   }
  },
  {
   "cell_type": "markdown",
   "source": "## 0\\. Preparando o ambiente",
   "metadata": {
    "id": "muD1vxozykSC",
    "cell_id": "00004-c0334c16-fb7e-42e2-ab2a-1212c2fa5062",
    "deepnote_cell_type": "markdown"
   }
  },
  {
   "cell_type": "markdown",
   "source": "Vamos explorar dados de crédito presentes no arquivo `credito.xlsx` ([link](https://raw.githubusercontent.com/andre-marcos-perez/ebac-course-utils/develop/dataset/credito.xlsx)). Os dados estão no formato de **Excel** (XLSX) e contém informações sobre clientes de uma instituição financeira. Em especial, estamos interessados em explicar a segunda coluna, chamada de **default**, que indica se um cliente é adimplente (`default = 0`), ou inadimplente (`default = 1`), ou seja, queremos entender o porque um cliente deixa de honrar com suas dívidas baseado no comportamento de outros atributos, como salário, escolaridade e movimentação financeira. Uma descrição completa dos atributos está abaixo.",
   "metadata": {
    "id": "ByX7SUjNKk2K",
    "cell_id": "00005-5e7ae949-de9a-42cc-b9f2-b0f7d0cf2d59",
    "deepnote_cell_type": "markdown"
   }
  },
  {
   "cell_type": "markdown",
   "source": "\n\n| Coluna  | Descrição |\n| ------- | --------- |\n| id      | Número da conta |\n| default | Indica se o cliente é adimplente (0) ou inadimplente (1) |\n| idade   | --- |\n| sexo    | --- |\n| depedentes | --- |\n| escolaridade | --- |\n| estado_civil | --- |\n| salario_anual | Faixa do salario mensal multiplicado por 12 |\n| tipo_cartao | Categoria do cartao: blue, silver, gold e platinium |\n| meses_de_relacionamento | Quantidade de meses desde a abertura da conta |\n| qtd_produtos | Quantidade de produtos contratados |\n| iteracoes_12m | Quantidade de iteracoes com o cliente no último ano |\n| meses_inatico_12m | Quantidade de meses que o cliente ficou inativo no último ano |\n| limite_credito | Valor do limite do cartão de crédito |\n| valor_transacoes_12m | Soma total do valor das transações no cartão de crédito no último ano |\n| qtd_transacoes_12m | Quantidade total de transações no cartão de crédito no último ano |\n\n",
   "metadata": {
    "id": "Z5Fd0NSVLnwE",
    "cell_id": "00006-a5cee6af-97cb-4af6-a599-488964bb2e56",
    "deepnote_cell_type": "markdown"
   }
  },
  {
   "cell_type": "markdown",
   "source": "Faça o download do arquivo `credito.xlsx` com a célula de código abaixo.",
   "metadata": {
    "id": "peEbZE2vcMaH",
    "cell_id": "00007-18886054-52db-4782-ac80-525ad52cb975",
    "deepnote_cell_type": "markdown"
   }
  },
  {
   "cell_type": "code",
   "metadata": {
    "id": "hyG8xFuWc16L",
    "cell_id": "00008-29534cc0-f6ff-417a-a64c-42243660956e",
    "deepnote_cell_type": "code"
   },
   "source": "!wget --show-progress --continue -O ./credito.xlsx https://raw.githubusercontent.com/andre-marcos-perez/ebac-course-utils/main/dataset/credito.xlsx",
   "execution_count": null,
   "outputs": []
  },
  {
   "cell_type": "markdown",
   "source": "---",
   "metadata": {
    "id": "zMN1Q3jdwoJm",
    "cell_id": "00009-5c0cd4bf-b786-43e5-bf96-8b2433517ace",
    "deepnote_cell_type": "markdown"
   }
  },
  {
   "cell_type": "markdown",
   "source": "## 1\\. Excel para CSV",
   "metadata": {
    "id": "GWgNoJN8DHyY",
    "cell_id": "00010-cefc491f-2f25-4a45-892a-731603d6d37f",
    "deepnote_cell_type": "markdown"
   }
  },
  {
   "cell_type": "markdown",
   "source": "Utilizando o pacote Python `openpyxl` visto em aula, extraia os seguintes as colunas `id`, `sexo` e `idade` para dos clientes inadimplentes (`default = 1`) e solteiros (`estado_civil = 'solteiro'`). Salves os dados extraídos no arquivo csv `credito.csv` separado por `;`. Exemplo do cabeçalho e das três primeiras linhas:\n\n```\nid;sexo;idade\n767712558;59;M\n713741358;46;M\n772390908;59;M\n```\n\n**Dica:** O arquivo csv `credito.csv` deve ter 669 linhas, contando com o cabeçalho.\n\n**Nota:** Escreva o código da sua solução abaixo em uma ou mais células, você não precisa enviar o arquivo csv gerado.",
   "metadata": {
    "id": "YynK1vf2DHyj",
    "cell_id": "00011-dcf4aa9f-bf48-41cb-9b25-fbf39329d6c7",
    "deepnote_cell_type": "markdown"
   }
  },
  {
   "cell_type": "code",
   "metadata": {
    "id": "hVK8QyFvE-wk",
    "cell_id": "00012-f1bf03ab-2e80-44b7-8a5c-f05e219a21a5",
    "deepnote_cell_type": "code"
   },
   "source": "# solução do exercício 1",
   "execution_count": null,
   "outputs": []
  },
  {
   "cell_type": "markdown",
   "source": "---",
   "metadata": {
    "id": "waxn4B2UDHyl",
    "cell_id": "00013-816c5844-2bab-4df9-a4c1-cf4eac59de59",
    "deepnote_cell_type": "markdown"
   }
  },
  {
   "cell_type": "markdown",
   "source": "## 2\\. Excel para JSON",
   "metadata": {
    "id": "finLQoyyGVmk",
    "cell_id": "00014-ddc71924-d6b0-4fcd-baaa-e3f1b990874e",
    "deepnote_cell_type": "markdown"
   }
  },
  {
   "cell_type": "markdown",
   "source": "Como preparação para o próximo módulo, vamos trabalhar com o JSON, um formato semi-estruturado, muito utilizado em transmissão de dados da web e equivalente a um **dicionário** Python.",
   "metadata": {
    "id": "99BrnqR4GVmy",
    "cell_id": "00015-53df5a50-435d-4032-a648-38d831a8bd9b",
    "deepnote_cell_type": "markdown"
   }
  },
  {
   "cell_type": "markdown",
   "source": "Utilizando o pacote Python `openpyxl` visto em aula, extraia os dados das colunas `escolaridade` e `tipo_cartao`, removendo duplicados. Com os dados, construa o dicionário Python `credito` com a seguinte estrutura:\n\n```python\ncredito = {\n  'tipo_cartao': ['silver', 'blue', 'gold', 'platinum'],\n  'escolaridade': ['doutorado', 'mestrado', 'na', 'sem educacao formal', 'graduacao', 'ensino medio']\n}\n```\n\nPara finalizar, utilize o código abaixo para converter o dicionário `credito` no formato JSON:\n\n```python\nimport json\n\ncredito_json = json.dumps(credito, indent=4)\nprint(credito_json)\n```\n\n**Dica:** Sua solução deve gerar o dicionário Python `credito` igual ao exemplo mas a ordem dos elementos pode variar tranquilamente.\n\n**Dica:** Uma excelente forma de remover elementos duplicados de uma lista é convertê-la para `set` e depois para `list` novamente.\n\n",
   "metadata": {
    "id": "AQqks_tohV8k",
    "cell_id": "00016-4a447856-f34e-4fb3-a04d-5ae9c231dd28",
    "deepnote_cell_type": "markdown"
   }
  },
  {
   "cell_type": "code",
   "metadata": {
    "id": "pCMQ5vBPjSXn",
    "cell_id": "00017-1aeb3479-f8e2-4193-bc7a-1661e34c4ca6",
    "deepnote_cell_type": "code"
   },
   "source": "# solução do exercício 2",
   "execution_count": null,
   "outputs": []
  },
  {
   "cell_type": "markdown",
   "source": "---",
   "metadata": {
    "id": "As3enQc2GVm1",
    "cell_id": "00018-0afbcc3a-4aeb-4332-b059-d8b62da304bc",
    "deepnote_cell_type": "markdown"
   }
  },
  {
   "cell_type": "markdown",
   "source": "## 3\\. BÔNUS: Texto para CSV",
   "metadata": {
    "id": "SS1PxxfHILHs",
    "cell_id": "00019-6fb487af-60fb-46b5-8916-61758b4c3b8b",
    "deepnote_cell_type": "markdown"
   }
  },
  {
   "cell_type": "markdown",
   "source": "No arquivo de texto `ebac.txt` você encontra o texto presente no rodapé da página de cursos da EBAC ([link](https://ebaconline.com.br/)).\n\n",
   "metadata": {
    "id": "i3f-X7y23onm",
    "cell_id": "00020-cdeb01eb-4d6e-4f5c-8e57-6e7939450476",
    "deepnote_cell_type": "markdown"
   }
  },
  {
   "cell_type": "markdown",
   "source": "**Arquivo TXT:** ebac.txt",
   "metadata": {
    "id": "nKDF9EBH3onp",
    "cell_id": "00021-bdd2c80d-9fe8-45fc-8199-9808c708257c",
    "deepnote_cell_type": "markdown"
   }
  },
  {
   "cell_type": "code",
   "metadata": {
    "id": "Pyyj5VNnb16w",
    "cell_id": "00022-51f89410-0fc9-4dec-b55a-7c9e7d087e81",
    "deepnote_cell_type": "code"
   },
   "source": "%%writefile ebac.txt\nMÍDIAS SOCIAIS\nInstagram, Facebook, Youtube, LinkedIn \n\nCURSOS\nSoftware, Design, Marketing, Audiovisual, Programação & Data, Games\n\nWEBINARS\nPróximos, Anteriores\n\nSOBRE\nSobre nós, Centro de carreiras, Vagas\n\nCONTATO\nWhatsApp +55 (11) 4200-2991\nTelefone +55 (11) 3030-3200\n\nBLOG\nDesign, Audiovisual, Marketing",
   "execution_count": null,
   "outputs": []
  },
  {
   "cell_type": "markdown",
   "source": "Extraia os números de contato do arquivo texto `ebac.txt` e salve-os no arquivo csv `contato_ebac.csv` com o separador `;` no seguinte formato:\n\n```\ntipo;numero\nwhatsapp;+551142002991\ntelefone;+551130303200\n```\n\n**Nota:** Escreva o código da sua solução abaixo em uma ou mais células, você não precisa enviar o arquivo csv gerado.",
   "metadata": {
    "id": "R4hMJ6D2ILH3",
    "cell_id": "00023-a79b08d0-b919-4ffc-950c-19d307418bbf",
    "deepnote_cell_type": "markdown"
   }
  },
  {
   "cell_type": "code",
   "metadata": {
    "id": "ogZClDvTILH3",
    "cell_id": "00024-265e9173-3837-4ceb-9b82-1a08a8ca6e2a",
    "deepnote_cell_type": "code"
   },
   "source": "# solução do exercício 3 (bônus)",
   "execution_count": null,
   "outputs": []
  },
  {
   "cell_type": "markdown",
   "source": "---",
   "metadata": {
    "id": "Fx--J2bOILH4",
    "cell_id": "00025-97175436-431a-48c5-bde3-560243690cb5",
    "deepnote_cell_type": "markdown"
   }
  },
  {
   "cell_type": "markdown",
   "source": "<a style='text-decoration:none;line-height:16px;display:flex;color:#5B5B62;padding:10px;justify-content:end;' href='https://deepnote.com?utm_source=created-in-deepnote-cell&projectId=690ec1aa-ed7a-4520-b902-aba6fc5867d1' target=\"_blank\">\n<img alt='Created in deepnote.com' style='display:inline;max-height:16px;margin:0px;margin-right:7.5px;' src='data:image/svg+xml;base64,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' > </img>\nCreated in <span style='font-weight:600;margin-left:4px;'>Deepnote</span></a>",
   "metadata": {
    "tags": [],
    "created_in_deepnote_cell": true,
    "deepnote_cell_type": "markdown"
   }
  }
 ],
 "nbformat": 4,
 "nbformat_minor": 0,
 "metadata": {
  "colab": {
   "name": "module_10_exercise.ipynb",
   "provenance": [],
   "collapsed_sections": []
  },
  "kernelspec": {
   "name": "python3",
   "display_name": "Python 3"
  },
  "deepnote_notebook_id": "7a78ef10-633d-4ae0-97c0-7434784886e6",
  "deepnote": {},
  "deepnote_execution_queue": []
 }
}