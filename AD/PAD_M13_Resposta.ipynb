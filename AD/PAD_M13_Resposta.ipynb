{
 "cells": [
  {
   "cell_type": "markdown",
   "source": "<img src=\"https://raw.githubusercontent.com/andre-marcos-perez/ebac-course-utils/main/media/logo/newebac_logo_black_half.png\" alt=\"ebac-logo\">\n\n---\n\n# **Módulo** | Análise de Dados: Data Wrangling II\nCaderno de **Exercícios**<br> \nProfessor [André Perez](https://www.linkedin.com/in/andremarcosperez/)\n\n---",
   "metadata": {
    "id": "KJqp9AANOCtf",
    "cell_id": "00000-11332a5a-ce29-4933-8520-5d1edf388a73",
    "deepnote_cell_type": "markdown"
   }
  },
  {
   "cell_type": "markdown",
   "source": "# **Tópicos**\n\n<ol type=\"1\">\n  <li>Agregação e Ordenação;</li>\n  <li>Combinação;</li>\n  <li>Técnicas Avançadas.</li>\n</ol>",
   "metadata": {
    "id": "d9jDtUbDOE1-",
    "cell_id": "00001-4e67cef4-045e-4b31-98ed-3b5422dc5b33",
    "deepnote_cell_type": "markdown"
   }
  },
  {
   "cell_type": "markdown",
   "source": "---",
   "metadata": {
    "id": "SmoHgt-lwkpD",
    "cell_id": "00002-56d39528-c6bc-4aeb-9e31-ab192a674e08",
    "deepnote_cell_type": "markdown"
   }
  },
  {
   "cell_type": "markdown",
   "source": "# **Exercícios**",
   "metadata": {
    "id": "GABI6OW8OfQ2",
    "cell_id": "00003-7bb84782-2e58-44df-8d5a-4f6940e2df04",
    "deepnote_cell_type": "markdown"
   }
  },
  {
   "cell_type": "markdown",
   "source": "Neste exercícios, vamos trabalhar com dados geográficos, demográficos e econômicos do Brasil. Vamos manipular e combinar dados de duas frentes distintas para poder responder perguntas de negócios.",
   "metadata": {
    "id": "45DbYPgFhuR7",
    "cell_id": "00004-d9b36aa9-940d-4580-8a2e-645491674a20",
    "deepnote_cell_type": "markdown"
   }
  },
  {
   "cell_type": "markdown",
   "source": "## 1\\. Data Wrangling",
   "metadata": {
    "id": "GWgNoJN8DHyY",
    "cell_id": "00005-c07f3614-aea9-488c-a8cf-214f8262f3e8",
    "deepnote_cell_type": "markdown"
   }
  },
  {
   "cell_type": "markdown",
   "source": "### **1.1. Estados** ",
   "metadata": {
    "id": "E30KnCdKRdYl",
    "cell_id": "00006-260c5419-a6cf-4e6c-a8f2-d0aaab6ccde7",
    "deepnote_cell_type": "markdown"
   }
  },
  {
   "cell_type": "markdown",
   "source": "O arquivo `estados-bruto.xml` contém informações sobre estados (nome, sigla e região). **Carregue-o na máquina virtual do Google Colab**. Um arquivo do tipo XML é similar a um arquivo do tipo HTML, exemplo do estado do Acre:",
   "metadata": {
    "id": "w2q1apyNYHbu",
    "cell_id": "00007-061bfeac-3637-4ebc-966d-fb906433e716",
    "deepnote_cell_type": "markdown"
   }
  },
  {
   "cell_type": "markdown",
   "source": "```xml\n<ESTADO>\n  <ID>1</ID>\n  <NOME>ACRE</NOME>\n  <IDCAPITAL>16</IDCAPITAL>\n  <SIGLA>AC</SIGLA>\n  <REGIAO>NORTE</REGIAO>\n</ESTADO>\n```",
   "metadata": {
    "id": "GzjE2aEyYW5A",
    "cell_id": "00008-d13649e8-1da0-4c2f-8fd1-e22a067aad84",
    "deepnote_cell_type": "markdown"
   }
  },
  {
   "cell_type": "markdown",
   "source": "Utilize o pacote Python `beautifulsoup4` para extrair os dados do arquivo `estados-bruto.xml` providenciado. Salve os dados extraidos no arquivo `estados-limpo.csv` separado por `;`. Exemplo das três primeiras linhas mais o cabeçalho:\n\n```\nestado;sigla;regiao\nACRE;AC;NORTE\nALAGOAS;AL;NORDESTE\nAMAPA;AP;NORTE\n```\n\n**Dica**: Utilize o parser de xml chamado `lxml` do `beautifulsoup4`.",
   "metadata": {
    "id": "7Mtk7Dd9UHqg",
    "cell_id": "00009-9bf7a8bf-1714-4895-a178-bf85222b61fa",
    "deepnote_cell_type": "markdown"
   }
  },
  {
   "cell_type": "code",
   "metadata": {
    "id": "kz0ZyYI0Sg6P",
    "cell_id": "00010-c46871d4-ab8a-4dfe-94b1-d26e14e3dbff",
    "deepnote_to_be_reexecuted": false,
    "source_hash": "73498cd3",
    "execution_start": 1639099554622,
    "execution_millis": 4927,
    "deepnote_cell_type": "code"
   },
   "source": "# ler o arquivo estados-bruto.xml, utilize o xml parser chamado lxml\n!pip install bs4\nfrom bs4 import BeautifulSoup\n\nNOME_ARQUIVO_FONTE = 'estados-bruto.xml'\n\nfonte = BeautifulSoup('estados-bruto.xml', 'lxml')",
   "execution_count": null,
   "outputs": [
    {
     "name": "stdout",
     "text": "Requirement already satisfied: bs4 in /root/venv/lib/python3.7/site-packages (0.0.1)\nRequirement already satisfied: beautifulsoup4 in /root/venv/lib/python3.7/site-packages (from bs4) (4.10.0)\nRequirement already satisfied: soupsieve>1.2 in /root/venv/lib/python3.7/site-packages (from beautifulsoup4->bs4) (2.3.1)\n\u001b[33mWARNING: You are using pip version 20.1.1; however, version 21.3.1 is available.\nYou should consider upgrading via the '/root/venv/bin/python -m pip install --upgrade pip' command.\u001b[0m\n",
     "output_type": "stream"
    }
   ]
  },
  {
   "cell_type": "code",
   "metadata": {
    "id": "rB0u2NjEXhDo",
    "cell_id": "00011-983400f2-13b0-4128-a6be-3ab31c172347",
    "deepnote_to_be_reexecuted": false,
    "source_hash": "77dda1dc",
    "execution_start": 1639099563445,
    "execution_millis": 4,
    "deepnote_output_heights": [
     21.199996948242188
    ],
    "deepnote_cell_type": "code"
   },
   "source": "# visualize os resultados\n\nprint(fonte)",
   "execution_count": null,
   "outputs": [
    {
     "name": "stdout",
     "text": "<html><body><p>estados-bruto.xml</p></body></html>\n",
     "output_type": "stream"
    }
   ]
  },
  {
   "cell_type": "code",
   "metadata": {
    "id": "6mos3LTVXrzV",
    "cell_id": "00012-5fa02e5a-1a17-4156-a832-b7404c090915",
    "deepnote_cell_type": "code"
   },
   "source": "# manipule os dados\n\n# continue o codigo aqui",
   "execution_count": null,
   "outputs": []
  },
  {
   "cell_type": "code",
   "metadata": {
    "id": "9yCma_LASxFg",
    "cell_id": "00013-981d0a76-7b28-4281-956c-921a9d87b8d4",
    "deepnote_cell_type": "code"
   },
   "source": "# escrever o conteudo extraido no arquivo estados-limpo.csv separados por ;\n\nNOME_ARQUIVO_DESTINO = 'estados-limpo.csv'\n\n# continue o codigo aqui",
   "execution_count": null,
   "outputs": []
  },
  {
   "cell_type": "markdown",
   "source": "### **1.2. Cidades** ",
   "metadata": {
    "id": "Fq0xqYYSYq92",
    "cell_id": "00014-1123a1be-1838-45c9-8430-ec5f88124f11",
    "deepnote_cell_type": "markdown"
   }
  },
  {
   "cell_type": "markdown",
   "source": "O arquivo `cidades-bruto.csv` contém informações demográficas e socioeconomicas das cidades do Brasil. **Carregue-o na máquina virtual do Google Colab**. Utilize o pacote Python `pandas` para extrair os dados do arquivo `cidades-bruto.xml` providenciado. Seguindo as seguintes especificações:",
   "metadata": {
    "id": "eWRbjhOQYq93",
    "cell_id": "00015-e9871db3-eef9-450e-a0d8-4835d44b017a",
    "deepnote_cell_type": "markdown"
   }
  },
  {
   "cell_type": "markdown",
   "source": "1. Apenas dados do censo de 2010;\n1. Apenas as colunas UF, Nome, PIB, Pop_est_2009 e PIB_percapita.",
   "metadata": {
    "id": "76zW8sMsbhEu",
    "cell_id": "00016-5f5d8820-1bce-4f27-b569-03fb70af3a43",
    "deepnote_cell_type": "markdown"
   }
  },
  {
   "cell_type": "markdown",
   "source": "Salve os dados extraidos no arquivo `cidades-limpo.csv` separado por `;`. Exemplo das três primeiras linhas mais o cabeçalho:\n\n```\nestado;cidade;populacao;pib;pib_percapita\nBAHIA;TREMEDAL;18433;57883.9921875;3140.23999023\nRIO GRANDE DO SUL;TURUÇU;4000;45723875;11430.96972656\nESPIRITO SANTO;VITÓRIA;320156;19782628;61790.58984375\n```",
   "metadata": {
    "id": "auiIxlw-blp8",
    "cell_id": "00017-789b1a0a-da1e-48b4-bea5-51388fc1e879",
    "deepnote_cell_type": "markdown"
   }
  },
  {
   "cell_type": "code",
   "metadata": {
    "id": "nBmWOkvzYq94",
    "cell_id": "00018-67e0419d-1bcb-47ff-8051-487e24337e2b",
    "deepnote_cell_type": "code"
   },
   "source": "# ler o arquivo cidades-bruto.csv\n\nimport pandas as pd\n\nNOME_ARQUIVO_FONTE = 'cidades-bruto.csv'\n\nfonte = ... # continue o codigo aqui",
   "execution_count": null,
   "outputs": []
  },
  {
   "cell_type": "code",
   "metadata": {
    "id": "2NKpI4h9Yq95",
    "cell_id": "00019-834a877f-c1b3-4a59-9eb2-2226447dde13",
    "deepnote_cell_type": "code"
   },
   "source": "# visualize os resultados\n\n# continue o codigo aqui",
   "execution_count": null,
   "outputs": []
  },
  {
   "cell_type": "code",
   "metadata": {
    "id": "BRVLwHxHYq96",
    "cell_id": "00020-c57e2a6e-b18a-4076-bbdb-267bf742ebf4",
    "deepnote_cell_type": "code"
   },
   "source": "# manipule os dados\n\n# continue o codigo aqui",
   "execution_count": null,
   "outputs": []
  },
  {
   "cell_type": "code",
   "metadata": {
    "id": "GcAWBfwhYq96",
    "cell_id": "00021-5d4cf687-ef89-4e82-83ff-fb2835643689",
    "deepnote_cell_type": "code"
   },
   "source": "# escrever o conteudo extraido no arquivo cidades-limpo.csv separados por ;\n\nNOME_ARQUIVO_DESTINO = 'cidades-limpo.csv'\n\n# continue o codigo aqui",
   "execution_count": null,
   "outputs": []
  },
  {
   "cell_type": "markdown",
   "source": "### **1.3. Brasil** ",
   "metadata": {
    "id": "EBzoHVD8b_c7",
    "cell_id": "00022-bcd67c1e-4a91-48fe-9432-98947c517e28",
    "deepnote_cell_type": "markdown"
   }
  },
  {
   "cell_type": "markdown",
   "source": "Utilize o pacote Python `pandas` para combinar os dados do arquivo `estados-bruto.csv` com os dados do arquivo `cidades-bruto.csv` em um único dataframe. Escolha a coluna e o método de combinação de tal forma que **não haja perda de dados** no processo (não produzirá valores nulos `NaN`). Salve os dados do dataframe no arquivo `brasil.csv`",
   "metadata": {
    "id": "Ft6l5bDwb_c7",
    "cell_id": "00023-497d0bc0-688b-4001-ba6e-5d0c6f847e7b",
    "deepnote_cell_type": "markdown"
   }
  },
  {
   "cell_type": "code",
   "metadata": {
    "id": "Vz3J7G4-dBXa",
    "cell_id": "00024-d2911a26-1e5e-4147-8714-19db4a31679e",
    "deepnote_cell_type": "code"
   },
   "source": "# solução do exercício 1.3",
   "execution_count": null,
   "outputs": []
  },
  {
   "cell_type": "markdown",
   "source": "---",
   "metadata": {
    "id": "waxn4B2UDHyl",
    "cell_id": "00025-5be10f58-48bb-43d2-b75d-258f30c762ba",
    "deepnote_cell_type": "markdown"
   }
  },
  {
   "cell_type": "markdown",
   "source": "## 2\\. Data Analytics",
   "metadata": {
    "id": "finLQoyyGVmk",
    "cell_id": "00026-db118da4-1fe4-42ff-bd04-60f5dbb6ea61",
    "deepnote_cell_type": "markdown"
   }
  },
  {
   "cell_type": "markdown",
   "source": "### **2.1. DataFrame** ",
   "metadata": {
    "id": "Ab0GW19Ed1ig",
    "cell_id": "00027-eee5e839-74a4-48bc-882e-befd7c82c5cd",
    "deepnote_cell_type": "markdown"
   }
  },
  {
   "cell_type": "markdown",
   "source": "Utilize o pacote Python `pandas` para carregar o arquivo `brasil.csv` no dataframe `brasil_df`.",
   "metadata": {
    "id": "l8jJYjeBdijt",
    "cell_id": "00028-176a028c-f49d-4ac2-beb5-0ddef9fcca6d",
    "deepnote_cell_type": "markdown"
   }
  },
  {
   "cell_type": "code",
   "metadata": {
    "id": "8kFQLlqud4QL",
    "cell_id": "00029-4df83d4a-f5f0-4bd5-85a0-07384eed1f99",
    "deepnote_cell_type": "code"
   },
   "source": "# solução do exercício 2.1",
   "execution_count": null,
   "outputs": []
  },
  {
   "cell_type": "markdown",
   "source": "### **2.2. Analise** ",
   "metadata": {
    "id": "ZFWvK8FXHuex",
    "cell_id": "00030-d6cafcc1-d4f8-448e-b2f7-7a76aaeb62a3",
    "deepnote_cell_type": "markdown"
   }
  },
  {
   "cell_type": "markdown",
   "source": "Utilize o dataframe `brasil_df` para responder as seguintes perguntas de negócio:",
   "metadata": {
    "id": "EGyz0R1dd62D",
    "cell_id": "00031-0578249d-164a-4e13-9885-51a26441244c",
    "deepnote_cell_type": "markdown"
   }
  },
  {
   "cell_type": "markdown",
   "source": " - Quais são as 10 cidades mais populosas do Brasil?",
   "metadata": {
    "id": "lGnYVp7IeFBD",
    "cell_id": "00032-1829c7f1-97ff-4891-ada1-1b25f567f6b8",
    "deepnote_cell_type": "markdown"
   }
  },
  {
   "cell_type": "code",
   "metadata": {
    "id": "KQKcD-VkeQYf",
    "cell_id": "00033-8af07756-cb52-4acc-98ff-0725e3696dcd",
    "deepnote_cell_type": "code"
   },
   "source": "# código para responder a pergunta",
   "execution_count": null,
   "outputs": []
  },
  {
   "cell_type": "markdown",
   "source": " - Quais são as 5 cidades com a menor PIB per capita da região nordeste?",
   "metadata": {
    "id": "l93St6uleWTp",
    "cell_id": "00034-d9293ad3-cd98-4c6f-b31a-1ca7ef66d4ef",
    "deepnote_cell_type": "markdown"
   }
  },
  {
   "cell_type": "code",
   "metadata": {
    "id": "DS5akh2zeWTq",
    "cell_id": "00035-bb0e2d4e-d0f1-421f-9004-9c09702311cd",
    "deepnote_cell_type": "code"
   },
   "source": "# código para responder a pergunta",
   "execution_count": null,
   "outputs": []
  },
  {
   "cell_type": "markdown",
   "source": " - Quais são as 15 cidades com maior PIB do do estado de São Paulo?",
   "metadata": {
    "id": "GqwffgUmedmb",
    "cell_id": "00036-b1f48957-96c5-458a-9a63-470bf1f1a5d3",
    "deepnote_cell_type": "markdown"
   }
  },
  {
   "cell_type": "code",
   "metadata": {
    "id": "tFKEn1gLedmc",
    "cell_id": "00037-8f4d1c65-d829-4266-8511-abc9905f840d",
    "deepnote_cell_type": "code"
   },
   "source": "# código para responder a pergunta",
   "execution_count": null,
   "outputs": []
  },
  {
   "cell_type": "markdown",
   "source": " - Qual é o PIB do estado de Santa Catarina?",
   "metadata": {
    "id": "Wg_la1wOewoB",
    "cell_id": "00038-afb7c8ae-57f9-42a5-8906-1c7ef52989a9",
    "deepnote_cell_type": "markdown"
   }
  },
  {
   "cell_type": "code",
   "metadata": {
    "id": "LwGqow5_ewoB",
    "cell_id": "00039-5fd84d52-aef9-4a8e-b460-83a28cbcea02",
    "deepnote_cell_type": "code"
   },
   "source": "# código para responder a pergunta",
   "execution_count": null,
   "outputs": []
  },
  {
   "cell_type": "markdown",
   "source": " - Qual é o população da região sul?",
   "metadata": {
    "id": "Yaw2gDukfApr",
    "cell_id": "00040-e4811c9c-4cb9-48ff-bcbf-8ccdd95cfaf7",
    "deepnote_cell_type": "markdown"
   }
  },
  {
   "cell_type": "code",
   "metadata": {
    "id": "enEkNjFQfAps",
    "cell_id": "00041-2736abfd-d235-42c1-8f2f-ace8893f82dd",
    "deepnote_cell_type": "code"
   },
   "source": "# código para responder a pergunta",
   "execution_count": null,
   "outputs": []
  },
  {
   "cell_type": "markdown",
   "source": " - Qual é o PIB per capito médio das cidades do Mato Grosso do Sul?",
   "metadata": {
    "id": "9qOaKRS9fFu8",
    "cell_id": "00042-8c6d39b4-0ef9-473d-b10e-0bebee05af97",
    "deepnote_cell_type": "markdown"
   }
  },
  {
   "cell_type": "code",
   "metadata": {
    "id": "gX8DVSfFfFu9",
    "cell_id": "00043-74785af6-af31-44f2-9ee1-130ff29a9f4b",
    "deepnote_cell_type": "code"
   },
   "source": "# código para responder a pergunta",
   "execution_count": null,
   "outputs": []
  },
  {
   "cell_type": "markdown",
   "source": " - Qual é a população do Brasil?",
   "metadata": {
    "id": "lvf-VqaffS2D",
    "cell_id": "00044-dbd05719-918d-4710-8fff-055f6a8a8c45",
    "deepnote_cell_type": "markdown"
   }
  },
  {
   "cell_type": "code",
   "metadata": {
    "id": "_nBsY6EcfS2E",
    "cell_id": "00045-65103927-4ccb-4f25-889a-85adc5165037",
    "deepnote_cell_type": "code"
   },
   "source": "# código para responder a pergunta",
   "execution_count": null,
   "outputs": []
  },
  {
   "cell_type": "markdown",
   "source": "### **2.3. Visualização** ",
   "metadata": {
    "id": "hnTSARXpipkP",
    "cell_id": "00046-5c4e7efa-c999-4beb-a9c1-1fe4458c828e",
    "deepnote_cell_type": "markdown"
   }
  },
  {
   "cell_type": "markdown",
   "source": "Utilize o dataframe `brasil_df` para gerar as seguintes visualizações.",
   "metadata": {
    "id": "7coMkY8xixFO",
    "cell_id": "00047-be2032f8-c2cd-4b7e-85fd-7e52a0b244ae",
    "deepnote_cell_type": "markdown"
   }
  },
  {
   "cell_type": "markdown",
   "source": " - Gere um gráfico de barras com as 10 cidades menos populosas do Brasil.",
   "metadata": {
    "id": "SgvPvh4Vjctx",
    "cell_id": "00048-c3f8e612-4966-45b2-b7de-82cb03dbe2bf",
    "deepnote_cell_type": "markdown"
   }
  },
  {
   "cell_type": "code",
   "metadata": {
    "id": "V8eM0uEUjcty",
    "cell_id": "00049-bff829e7-45f9-4929-8ace-2f07cedae80e",
    "deepnote_cell_type": "code"
   },
   "source": "# código para gerar a visualização",
   "execution_count": null,
   "outputs": []
  },
  {
   "cell_type": "markdown",
   "source": " - Gere um gráfico de pizza com a proporção da população do Brasil por região.",
   "metadata": {
    "id": "gsa3SrTjjrGV",
    "cell_id": "00050-0e9861c3-1784-414e-a706-a4a1767ba892",
    "deepnote_cell_type": "markdown"
   }
  },
  {
   "cell_type": "code",
   "metadata": {
    "id": "1dvqIAEHjrGV",
    "cell_id": "00051-809403cb-e7ba-47cf-b948-408c26be7bb9",
    "deepnote_cell_type": "code"
   },
   "source": "# código para gerar a visualização",
   "execution_count": null,
   "outputs": []
  },
  {
   "cell_type": "markdown",
   "source": "<a style='text-decoration:none;line-height:16px;display:flex;color:#5B5B62;padding:10px;justify-content:end;' href='https://deepnote.com?utm_source=created-in-deepnote-cell&projectId=690ec1aa-ed7a-4520-b902-aba6fc5867d1' target=\"_blank\">\n<img alt='Created in deepnote.com' style='display:inline;max-height:16px;margin:0px;margin-right:7.5px;' src='data:image/svg+xml;base64,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' > </img>\nCreated in <span style='font-weight:600;margin-left:4px;'>Deepnote</span></a>",
   "metadata": {
    "tags": [],
    "created_in_deepnote_cell": true,
    "deepnote_cell_type": "markdown"
   }
  }
 ],
 "nbformat": 4,
 "nbformat_minor": 0,
 "metadata": {
  "colab": {
   "name": "module_13_exercise.ipynb",
   "provenance": [],
   "collapsed_sections": [],
   "toc_visible": true
  },
  "kernelspec": {
   "name": "python3",
   "display_name": "Python 3"
  },
  "deepnote_notebook_id": "d874b6d1-d75a-4fd0-b724-86b7796d8914",
  "deepnote": {},
  "deepnote_execution_queue": []
 }
}