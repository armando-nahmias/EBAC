{
 "cells": [
  {
   "cell_type": "markdown",
   "source": "<img src=\"https://raw.githubusercontent.com/andre-marcos-perez/ebac-course-utils/main/media/logo/newebac_logo_black_half.png\" alt=\"ebac-logo\">\n\n---\n\n# **Módulo** | Análise de Dados: Data Wrangling II\nCaderno de **Exercícios**<br> \nProfessor [André Perez](https://www.linkedin.com/in/andremarcosperez/)\n\n---",
   "metadata": {
    "id": "KJqp9AANOCtf",
    "cell_id": "00000-2faf263b-14f3-47ed-94cc-6d3699b4bfed",
    "deepnote_cell_type": "markdown"
   }
  },
  {
   "cell_type": "markdown",
   "source": "# **Tópicos**\n\n<ol type=\"1\">\n  <li>Agregação e Ordenação;</li>\n  <li>Combinação;</li>\n  <li>Técnicas Avançadas.</li>\n</ol>",
   "metadata": {
    "id": "d9jDtUbDOE1-",
    "cell_id": "00001-b0d9d8df-697c-4745-9636-e19c1f9d0c72",
    "deepnote_cell_type": "markdown"
   }
  },
  {
   "cell_type": "markdown",
   "source": "---",
   "metadata": {
    "id": "SmoHgt-lwkpD",
    "cell_id": "00002-6179a7f3-6c4e-4243-9514-0a7ab02191a2",
    "deepnote_cell_type": "markdown"
   }
  },
  {
   "cell_type": "markdown",
   "source": "# **Exercícios**",
   "metadata": {
    "id": "GABI6OW8OfQ2",
    "cell_id": "00003-e9fc0dd6-b56c-4961-bfe7-8df6f50f423d",
    "deepnote_cell_type": "markdown"
   }
  },
  {
   "cell_type": "markdown",
   "source": "Neste exercícios, vamos trabalhar com dados geográficos, demográficos e econômicos do Brasil. Vamos manipular e combinar dados de duas frentes distintas para poder responder perguntas de negócios.",
   "metadata": {
    "id": "45DbYPgFhuR7",
    "cell_id": "00004-4ecef808-84d9-4922-86e3-8d703e6222b9",
    "deepnote_cell_type": "markdown"
   }
  },
  {
   "cell_type": "markdown",
   "source": "## 1\\. Data Wrangling",
   "metadata": {
    "id": "GWgNoJN8DHyY",
    "cell_id": "00005-86dd8239-6bd8-4da1-a905-bd0cfa5eee5b",
    "deepnote_cell_type": "markdown"
   }
  },
  {
   "cell_type": "markdown",
   "source": "### **1.1. Estados** ",
   "metadata": {
    "id": "E30KnCdKRdYl",
    "cell_id": "00006-109f4611-68f2-4912-8391-376dcd15b6c8",
    "deepnote_cell_type": "markdown"
   }
  },
  {
   "cell_type": "markdown",
   "source": "O arquivo `estados-bruto.xml` contém informações sobre estados (nome, sigla e região). **Carregue-o na máquina virtual do Google Colab**. Um arquivo do tipo XML é similar a um arquivo do tipo HTML, exemplo do estado do Acre:",
   "metadata": {
    "id": "w2q1apyNYHbu",
    "cell_id": "00007-37ddf3b5-316b-47d4-a10d-4343f96dad00",
    "deepnote_cell_type": "markdown"
   }
  },
  {
   "cell_type": "markdown",
   "source": "```xml\n<ESTADO>\n  <ID>1</ID>\n  <NOME>ACRE</NOME>\n  <IDCAPITAL>16</IDCAPITAL>\n  <SIGLA>AC</SIGLA>\n  <REGIAO>NORTE</REGIAO>\n</ESTADO>\n```",
   "metadata": {
    "id": "GzjE2aEyYW5A",
    "cell_id": "00008-46d6f64e-21f7-4c1b-9041-54fb18e9d318",
    "deepnote_cell_type": "markdown"
   }
  },
  {
   "cell_type": "markdown",
   "source": "Utilize o pacote Python `beautifulsoup4` para extrair os dados do arquivo `estados-bruto.xml` providenciado. Salve os dados extraidos no arquivo `estados-limpo.csv` separado por `;`. Exemplo das três primeiras linhas mais o cabeçalho:\n\n```\nestado;sigla;regiao\nACRE;AC;NORTE\nALAGOAS;AL;NORDESTE\nAMAPA;AP;NORTE\n```\n\n**Dica**: Utilize o parser de xml chamado `lxml` do `beautifulsoup4`.",
   "metadata": {
    "id": "7Mtk7Dd9UHqg",
    "cell_id": "00009-a50454b3-e63a-42c7-a67d-b28cb0c1dede",
    "deepnote_cell_type": "markdown"
   }
  },
  {
   "cell_type": "code",
   "metadata": {
    "id": "kz0ZyYI0Sg6P",
    "cell_id": "00010-c127665b-4f52-4b6f-b616-a3c98b9c0f0c",
    "deepnote_to_be_reexecuted": false,
    "source_hash": "f3656e02",
    "execution_start": 1639279393454,
    "execution_millis": 4493,
    "deepnote_cell_type": "code"
   },
   "source": "# ler o arquivo estados-bruto.xml, utilize o xml parser chamado lxml\n!pip install bs4\nfrom bs4 import BeautifulSoup\n\nNOME_ARQUIVO_FONTE = './dados/estados-bruto.xml'\n\nfonte = BeautifulSoup(open(NOME_ARQUIVO_FONTE, mode='r'), 'lxml')",
   "outputs": [
    {
     "name": "stdout",
     "text": "Requirement already satisfied: bs4 in /root/venv/lib/python3.7/site-packages (0.0.1)\nRequirement already satisfied: beautifulsoup4 in /root/venv/lib/python3.7/site-packages (from bs4) (4.10.0)\nRequirement already satisfied: soupsieve>1.2 in /root/venv/lib/python3.7/site-packages (from beautifulsoup4->bs4) (2.3.1)\n\u001b[33mWARNING: You are using pip version 20.1.1; however, version 21.3.1 is available.\nYou should consider upgrading via the '/root/venv/bin/python -m pip install --upgrade pip' command.\u001b[0m\n",
     "output_type": "stream"
    }
   ],
   "execution_count": null
  },
  {
   "cell_type": "code",
   "metadata": {
    "id": "rB0u2NjEXhDo",
    "cell_id": "00011-63f5088f-7a34-4feb-acd3-b40c5ad5afa2",
    "deepnote_to_be_reexecuted": false,
    "source_hash": "a3d41b48",
    "execution_start": 1639279397967,
    "execution_millis": 41,
    "deepnote_output_heights": [
     611
    ],
    "deepnote_cell_type": "code"
   },
   "source": "# visualize os resultados\n\nfonte",
   "outputs": [
    {
     "output_type": "execute_result",
     "execution_count": 34,
     "data": {
      "text/plain": "<?xml version=\"1.0\" encoding=\"utf-8\" ?><html><body><estados>\n<estado>\n<id>1</id>\n<nome>ACRE</nome>\n<idcapital>16</idcapital>\n<sigla>AC</sigla>\n<regiao>NORTE</regiao>\n</estado>\n<estado>\n<id>2</id>\n<nome>ALAGOAS</nome>\n<idcapital>68</idcapital>\n<sigla>AL</sigla>\n<regiao>NORDESTE</regiao>\n</estado>\n<estado>\n<id>3</id>\n<nome>AMAPA</nome>\n<idcapital>131</idcapital>\n<sigla>AP</sigla>\n<regiao>NORTE</regiao>\n</estado>\n<estado>\n<id>4</id>\n<nome>AMAZONAS</nome>\n<idcapital>178</idcapital>\n<sigla>AM</sigla>\n<regiao>NORTE</regiao>\n</estado>\n<estado>\n<id>5</id>\n<nome>BAHIA</nome>\n<idcapital>536</idcapital>\n<sigla>BA</sigla>\n<regiao>NORDESTE</regiao>\n</estado>\n<estado>\n<id>6</id>\n<nome>CEARA</nome>\n<idcapital>676</idcapital>\n<sigla>CE</sigla>\n<regiao>NORDESTE</regiao>\n</estado>\n<estado>\n<id>7</id>\n<nome>DISTRITO FEDERAL</nome>\n<idcapital>916</idcapital>\n<sigla>DF</sigla>\n<regiao>CENTRO-OESTE</regiao>\n</estado>\n<estado>\n<id>8</id>\n<nome>ESPIRITO SANTO</nome>\n<idcapital>879</idcapital>\n<sigla>ES</sigla>\n<regiao>SUDESTE</regiao>\n</estado>\n<estado>\n<id>9</id>\n<nome>GOIAS</nome>\n<idcapital>973</idcapital>\n<sigla>GO</sigla>\n<regiao>CENTRO-OESTE</regiao>\n</estado>\n<estado>\n<id>10</id>\n<nome>MARANHAO</nome>\n<idcapital>1309</idcapital>\n<sigla>MA</sigla>\n<regiao>NORDESTE</regiao>\n</estado>\n<estado>\n<id>11</id>\n<nome>MATO GROSSO</nome>\n<idcapital>1374</idcapital>\n<sigla>MT</sigla>\n<regiao>CENTRO-OESTE</regiao>\n</estado>\n<estado>\n<id>12</id>\n<nome>MATO GROSSO DO SUL</nome>\n<idcapital>1485</idcapital>\n<sigla>MS</sigla>\n<regiao>CENTRO-OESTE</regiao>\n</estado>\n<estado>\n<id>13</id>\n<nome>PARA</nome>\n<idcapital>1561</idcapital>\n<sigla>PA</sigla>\n<regiao>NORTE</regiao>\n</estado>\n<estado>\n<id>14</id>\n<nome>PARAIBA</nome>\n<idcapital>1779</idcapital>\n<sigla>PB</sigla>\n<regiao>NORDESTE</regiao>\n</estado>\n<estado>\n<id>15</id>\n<nome>PARANA</nome>\n<idcapital>2002</idcapital>\n<sigla>PR</sigla>\n<regiao>SUL</regiao>\n</estado>\n<estado>\n<id>16</id>\n<nome>PERNAMBUCO</nome>\n<idcapital>2439</idcapital>\n<sigla>PE</sigla>\n<regiao>NORDESTE</regiao>\n</estado>\n<estado>\n<id>17</id>\n<nome>PIAUI</nome>\n<idcapital>2704</idcapital>\n<sigla>PI</sigla>\n<regiao>NORDESTE</regiao>\n</estado>\n<estado>\n<id>18</id>\n<nome>RIO DE JANEIRO</nome>\n<idcapital>2779</idcapital>\n<sigla>RJ</sigla>\n<regiao>SUDESTE</regiao>\n</estado>\n<estado>\n<id>19</id>\n<nome>RIO GRANDE DO NORTE</nome>\n<idcapital>2890</idcapital>\n<sigla>RN</sigla>\n<regiao>NORDESTE</regiao>\n</estado>\n<estado>\n<id>20</id>\n<nome>RIO GRANDE DO SUL</nome>\n<idcapital>3273</idcapital>\n<sigla>RS</sigla>\n<regiao>SUL</regiao>\n</estado>\n<estado>\n<id>21</id>\n<nome>RONDONIA</nome>\n<idcapital>3473</idcapital>\n<sigla>RO</sigla>\n<regiao>NORTE</regiao>\n</estado>\n<estado>\n<id>22</id>\n<nome>RORAIMA</nome>\n<idcapital>3491</idcapital>\n<sigla>RR</sigla>\n<regiao>NORTE</regiao>\n</estado>\n<estado>\n<id>23</id>\n<nome>SANTA CATARINA</nome>\n<idcapital>3591</idcapital>\n<sigla>SC</sigla>\n<regiao>SUL</regiao>\n</estado>\n<estado>\n<id>24</id>\n<nome>SAO PAULO</nome>\n<idcapital>4361</idcapital>\n<sigla>SP</sigla>\n<regiao>SUDESTE</regiao>\n</estado>\n<estado>\n<id>25</id>\n<nome>SERGIPE</nome>\n<idcapital>4444</idcapital>\n<sigla>SE</sigla>\n<regiao>NORDESTE</regiao>\n</estado>\n<estado>\n<id>26</id>\n<nome>TOCANTINS</nome>\n<idcapital>4606</idcapital>\n<sigla>TO</sigla>\n<regiao>NORTE</regiao>\n</estado>\n<estado>\n<id>27</id>\n<nome>MINAS GERAIS</nome>\n<idcapital>4790</idcapital>\n<sigla>MG</sigla>\n<regiao>SUDESTE</regiao>\n</estado>\n</estados>\n</body></html>"
     },
     "metadata": {}
    }
   ],
   "execution_count": null
  },
  {
   "cell_type": "code",
   "metadata": {
    "id": "6mos3LTVXrzV",
    "cell_id": "00012-e9a8c4ce-384d-4780-a051-db4f68fb4503",
    "deepnote_to_be_reexecuted": false,
    "source_hash": "beb737bf",
    "execution_start": 1639279400142,
    "execution_millis": 3,
    "deepnote_output_heights": [
     309.20001220703125
    ],
    "deepnote_cell_type": "code"
   },
   "source": "# manipule os dados\nestados_bruto = fonte.find_all('estado')\n\nestados_limpo = [['estado', 'sigla', 'região']]\n\n\n# continue o codigo aqui\n\nfor estado in estados_bruto:\n    idid = estado.find('id').text\n    nome = estado.find('nome').text\n    idcapital = estado.find('idcapital').text\n    sigla = estado.find('sigla').text\n    regiao = estado.find('regiao').text\n\n    estados_limpo.append([nome,sigla,regiao])\n",
   "outputs": [],
   "execution_count": null
  },
  {
   "cell_type": "code",
   "metadata": {
    "id": "9yCma_LASxFg",
    "cell_id": "00013-aaa93c0b-7053-4498-a59e-9d36e4e05851",
    "deepnote_to_be_reexecuted": false,
    "source_hash": "21c48178",
    "execution_start": 1639279403064,
    "execution_millis": 13,
    "deepnote_cell_type": "code"
   },
   "source": "# escrever o conteudo extraido no arquivo estados-limpo.csv separados por ;\n\nNOME_ARQUIVO_DESTINO = './dados/estados-limpo.csv'\n\n# continue o codigo aqui\nimport csv\n\nwith open(NOME_ARQUIVO_DESTINO, mode='w', encoding='utf8') as arquivo:\n    escritor_csv = csv.writer(arquivo, delimiter=';')\n    escritor_csv.writerows(estados_limpo)\n\nwith open('./dados/estados-limpo.csv', mode='r', encoding='utf8') as arquivo:\n    texto = arquivo.read()\n\nprint(texto)\n",
   "outputs": [
    {
     "name": "stdout",
     "text": "estado;sigla;região\nACRE;AC;NORTE\nALAGOAS;AL;NORDESTE\nAMAPA;AP;NORTE\nAMAZONAS;AM;NORTE\nBAHIA;BA;NORDESTE\nCEARA;CE;NORDESTE\nDISTRITO FEDERAL;DF;CENTRO-OESTE\nESPIRITO SANTO;ES;SUDESTE\nGOIAS;GO;CENTRO-OESTE\nMARANHAO;MA;NORDESTE\nMATO GROSSO;MT;CENTRO-OESTE\nMATO GROSSO DO SUL;MS;CENTRO-OESTE\nPARA;PA;NORTE\nPARAIBA;PB;NORDESTE\nPARANA;PR;SUL\nPERNAMBUCO;PE;NORDESTE\nPIAUI;PI;NORDESTE\nRIO DE JANEIRO;RJ;SUDESTE\nRIO GRANDE DO NORTE;RN;NORDESTE\nRIO GRANDE DO SUL;RS;SUL\nRONDONIA;RO;NORTE\nRORAIMA;RR;NORTE\nSANTA CATARINA;SC;SUL\nSAO PAULO;SP;SUDESTE\nSERGIPE;SE;NORDESTE\nTOCANTINS;TO;NORTE\nMINAS GERAIS;MG;SUDESTE\n\n",
     "output_type": "stream"
    }
   ],
   "execution_count": null
  },
  {
   "cell_type": "markdown",
   "source": "### **1.2. Cidades** ",
   "metadata": {
    "id": "Fq0xqYYSYq92",
    "cell_id": "00014-50be7667-b180-4a8b-a88c-6c6f4971cda5",
    "deepnote_cell_type": "markdown"
   }
  },
  {
   "cell_type": "markdown",
   "source": "O arquivo `cidades-bruto.csv` contém informações demográficas e socioeconomicas das cidades do Brasil. **Carregue-o na máquina virtual do Google Colab**. Utilize o pacote Python `pandas` para extrair os dados do arquivo `cidades-bruto.xml` providenciado. Seguindo as seguintes especificações:",
   "metadata": {
    "id": "eWRbjhOQYq93",
    "cell_id": "00015-0df5930e-9f70-4c91-a67d-37c9a9a2f43c",
    "deepnote_cell_type": "markdown"
   }
  },
  {
   "cell_type": "markdown",
   "source": "1. Apenas dados do censo de 2010;\n1. Apenas as colunas UF, Nome, PIB, Pop_est_2009 e PIB_percapita.",
   "metadata": {
    "id": "76zW8sMsbhEu",
    "cell_id": "00016-866416e3-b262-4bb5-bf29-cee235981720",
    "deepnote_cell_type": "markdown"
   }
  },
  {
   "cell_type": "markdown",
   "source": "Salve os dados extraidos no arquivo `cidades-limpo.csv` separado por `;`. Exemplo das três primeiras linhas mais o cabeçalho:\n\n```\nestado;cidade;populacao;pib;pib_percapita\nBAHIA;TREMEDAL;18433;57883.9921875;3140.23999023\nRIO GRANDE DO SUL;TURUÇU;4000;45723875;11430.96972656\nESPIRITO SANTO;VITÓRIA;320156;19782628;61790.58984375\n```",
   "metadata": {
    "id": "auiIxlw-blp8",
    "cell_id": "00017-29d696db-fcde-4e00-94b5-76f4f28ce00c",
    "deepnote_cell_type": "markdown"
   }
  },
  {
   "cell_type": "code",
   "metadata": {
    "id": "nBmWOkvzYq94",
    "cell_id": "00018-d29be74d-1eda-4c25-af6f-4f59faeba1b8",
    "deepnote_to_be_reexecuted": false,
    "source_hash": "29bed186",
    "execution_start": 1639277406159,
    "execution_millis": 651,
    "deepnote_cell_type": "code"
   },
   "source": "# ler o arquivo cidades-bruto.csv\n\nimport pandas as pd\n\nNOME_ARQUIVO_FONTE = './dados/cidades-bruto.csv'\n\nfonte = pd.read_csv(NOME_ARQUIVO_FONTE) # continue o codigo aqui\nprint(fonte)",
   "outputs": [
    {
     "name": "stdout",
     "text": "                                                  FID   gid  \\\n0     vw_pib_percapita.fid-4514e25a_17aaa325034_-258f   215   \n1     vw_pib_percapita.fid-4514e25a_17aaa325034_-258e   306   \n2     vw_pib_percapita.fid-4514e25a_17aaa325034_-258d   900   \n3     vw_pib_percapita.fid-4514e25a_17aaa325034_-258c  3613   \n4     vw_pib_percapita.fid-4514e25a_17aaa325034_-258b  1028   \n...                                               ...   ...   \n5561   vw_pib_percapita.fid-4514e25a_17aaa325034_-eba  5254   \n5562   vw_pib_percapita.fid-4514e25a_17aaa325034_-eb9  2749   \n5563   vw_pib_percapita.fid-4514e25a_17aaa325034_-eb8  3779   \n5564   vw_pib_percapita.fid-4514e25a_17aaa325034_-eb7   617   \n5565   vw_pib_percapita.fid-4514e25a_17aaa325034_-eb6   672   \n\n                     UF              nome   Censo           PIB  Pop_est_2009  \\\n0                 BAHIA          Tremedal  2010.0  5.788399e+04         18433   \n1     RIO GRANDE DO SUL            Turuçu  2010.0  4.572388e+04          4000   \n2        ESPIRITO SANTO           Vitória  2010.0  1.978263e+07        320156   \n3          MINAS GERAIS         Jacutinga  2010.0  2.478160e+05         21424   \n4                 PIAUÍ           Nazária  2010.0  2.095138e+04          7895   \n...                 ...               ...     ...           ...           ...   \n5561     SANTA CATARINA         Campo Erê  2010.0  1.876289e+05          9737   \n5562             PARANÁ          Planalto  2010.0  1.385535e+05         13983   \n5563          SÃO PAULO        Guararapes  2010.0  5.320191e+05         29639   \n5564  RIO GRANDE DO SUL  Barra do Guarita  2010.0  2.198064e+04          3067   \n5565  RIO GRANDE DO SUL        Machadinho  2010.0  5.715017e+04          5623   \n\n      PIB_percapita                         Descrição               legenda  \\\n0       3140.239990  Produto Interno Bruto per capita             - 9639.65   \n1      11430.969727  Produto Interno Bruto per capita    9639.65 - 22144.80   \n2      61790.589844  Produto Interno Bruto per capita  52702.10 - 133669.00   \n3      11567.209961  Produto Interno Bruto per capita    9639.65 - 22144.80   \n4       2653.750000  Produto Interno Bruto per capita             - 9639.65   \n...             ...                               ...                   ...   \n5561   19269.679688  Produto Interno Bruto per capita    9639.65 - 22144.80   \n5562    9908.709961  Produto Interno Bruto per capita    9639.65 - 22144.80   \n5563   17949.970703  Produto Interno Bruto per capita    9639.65 - 22144.80   \n5564    7166.819824  Produto Interno Bruto per capita             - 9639.65   \n5565   10163.639648  Produto Interno Bruto per capita    9639.65 - 22144.80   \n\n      classe                                               geom  \n0          1  MULTIPOLYGON (((-41.458803305191566 -14.781415...  \n1          2  MULTIPOLYGON (((-52.035349932081274 -31.567509...  \n2          4  MULTIPOLYGON (((-40.3292566978242 -20.23997417...  \n3          2  MULTIPOLYGON (((-46.50528160015326 -22.3400120...  \n4          1  POLYGON ((-42.826685407155495 -5.3480291684437...  \n...      ...                                                ...  \n5561       2  MULTIPOLYGON (((-53.024131281087385 -26.361357...  \n5562       2  MULTIPOLYGON (((-53.61882711231503 -25.6460599...  \n5563       2  MULTIPOLYGON (((-50.70271677275949 -21.0257124...  \n5564       1  MULTIPOLYGON (((-53.778785810369236 -27.152703...  \n5565       2  MULTIPOLYGON (((-51.63183373195086 -27.4885374...  \n\n[5566 rows x 12 columns]\n",
     "output_type": "stream"
    }
   ],
   "execution_count": null
  },
  {
   "cell_type": "code",
   "metadata": {
    "id": "2NKpI4h9Yq95",
    "cell_id": "00019-18635ac4-17bb-418f-96ad-3998f41783cb",
    "deepnote_to_be_reexecuted": false,
    "source_hash": "cc2cc139",
    "execution_start": 1639277408539,
    "execution_millis": 11,
    "deepnote_cell_type": "code"
   },
   "source": "# visualize os resultados\n# print(fonte)\n# continue o codigo aqui\ncenso_2010 = fonte[lambda censo: fonte['Censo'] == 2010]\ndados_df = censo_2010[['UF', \"nome\", 'Pop_est_2009', 'PIB', 'PIB_percapita']]\n",
   "outputs": [],
   "execution_count": null
  },
  {
   "cell_type": "code",
   "metadata": {
    "tags": [],
    "cell_id": "00020-b3710cdf-4f08-4465-85c2-d7ad45a39f1b",
    "deepnote_to_be_reexecuted": false,
    "source_hash": "136130d2",
    "execution_start": 1639277410490,
    "execution_millis": 318,
    "deepnote_output_heights": [
     520.4000244140625
    ],
    "deepnote_cell_type": "code"
   },
   "source": "dados_df\n",
   "outputs": [
    {
     "output_type": "execute_result",
     "execution_count": 7,
     "data": {
      "application/vnd.deepnote.dataframe.v2+json": {
       "row_count": 5555,
       "column_count": 5,
       "columns": [
        {
         "name": "UF",
         "dtype": "object",
         "stats": {
          "unique_count": 27,
          "nan_count": 0,
          "categories": [
           {
            "name": "MINAS GERAIS",
            "count": 853
           },
           {
            "name": "SÃO PAULO",
            "count": 642
           },
           {
            "name": "25 others",
            "count": 4060
           }
          ]
         }
        },
        {
         "name": "nome",
         "dtype": "object",
         "stats": {
          "unique_count": 5285,
          "nan_count": 0,
          "categories": [
           {
            "name": "Bom Jesus",
            "count": 5
           },
           {
            "name": "São Domingos",
            "count": 5
           },
           {
            "name": "5283 others",
            "count": 5545
           }
          ]
         }
        },
        {
         "name": "Pop_est_2009",
         "dtype": "int64",
         "stats": {
          "unique_count": 5067,
          "nan_count": 0,
          "min": "837",
          "max": "11037593",
          "histogram": [
           {
            "bin_start": 837,
            "bin_end": 1104512.6,
            "count": 5542
           },
           {
            "bin_start": 1104512.6,
            "bin_end": 2208188.2,
            "count": 7
           },
           {
            "bin_start": 2208188.2,
            "bin_end": 3311863.8000000003,
            "count": 4
           },
           {
            "bin_start": 3311863.8000000003,
            "bin_end": 4415539.4,
            "count": 0
           },
           {
            "bin_start": 4415539.4,
            "bin_end": 5519215,
            "count": 0
           },
           {
            "bin_start": 5519215,
            "bin_end": 6622890.600000001,
            "count": 1
           },
           {
            "bin_start": 6622890.600000001,
            "bin_end": 7726566.200000001,
            "count": 0
           },
           {
            "bin_start": 7726566.200000001,
            "bin_end": 8830241.8,
            "count": 0
           },
           {
            "bin_start": 8830241.8,
            "bin_end": 9933917.4,
            "count": 0
           },
           {
            "bin_start": 9933917.4,
            "bin_end": 11037593,
            "count": 1
           }
          ]
         }
        },
        {
         "name": "PIB",
         "dtype": "float64",
         "stats": {
          "unique_count": 5554,
          "nan_count": 0,
          "min": "5770.28222656",
          "max": "389317152.0",
          "histogram": [
           {
            "bin_start": 5770.28222656,
            "bin_end": 38936908.45400391,
            "count": 5549
           },
           {
            "bin_start": 38936908.45400391,
            "bin_end": 77868046.62578125,
            "count": 3
           },
           {
            "bin_start": 77868046.62578125,
            "bin_end": 116799184.7975586,
            "count": 0
           },
           {
            "bin_start": 116799184.7975586,
            "bin_end": 155730322.96933594,
            "count": 1
           },
           {
            "bin_start": 155730322.96933594,
            "bin_end": 194661461.14111328,
            "count": 1
           },
           {
            "bin_start": 194661461.14111328,
            "bin_end": 233592599.31289065,
            "count": 0
           },
           {
            "bin_start": 233592599.31289065,
            "bin_end": 272523737.48466796,
            "count": 0
           },
           {
            "bin_start": 272523737.48466796,
            "bin_end": 311454875.6564453,
            "count": 0
           },
           {
            "bin_start": 311454875.6564453,
            "bin_end": 350386013.8282227,
            "count": 0
           },
           {
            "bin_start": 350386013.8282227,
            "bin_end": 389317152,
            "count": 1
           }
          ]
         }
        },
        {
         "name": "PIB_percapita",
         "dtype": "float64",
         "stats": {
          "unique_count": 5544,
          "nan_count": 0,
          "min": "1929.9699707",
          "max": "360815.84375",
          "histogram": [
           {
            "bin_start": 1929.9699707,
            "bin_end": 37818.55734863,
            "count": 5438
           },
           {
            "bin_start": 37818.55734863,
            "bin_end": 73707.14472656,
            "count": 87
           },
           {
            "bin_start": 73707.14472656,
            "bin_end": 109595.73210449,
            "count": 21
           },
           {
            "bin_start": 109595.73210449,
            "bin_end": 145484.31948242002,
            "count": 4
           },
           {
            "bin_start": 145484.31948242002,
            "bin_end": 181372.90686035002,
            "count": 1
           },
           {
            "bin_start": 181372.90686035002,
            "bin_end": 217261.49423828002,
            "count": 3
           },
           {
            "bin_start": 217261.49423828002,
            "bin_end": 253150.08161621002,
            "count": 0
           },
           {
            "bin_start": 253150.08161621002,
            "bin_end": 289038.66899414,
            "count": 0
           },
           {
            "bin_start": 289038.66899414,
            "bin_end": 324927.25637207,
            "count": 0
           },
           {
            "bin_start": 324927.25637207,
            "bin_end": 360815.84375,
            "count": 1
           }
          ]
         }
        },
        {
         "name": "_deepnote_index_column",
         "dtype": "int64"
        }
       ],
       "rows_top": [
        {
         "UF": "BAHIA",
         "nome": "Tremedal",
         "Pop_est_2009": 18433,
         "PIB": 57883.9921875,
         "PIB_percapita": 3140.23999023,
         "_deepnote_index_column": 0
        },
        {
         "UF": "RIO GRANDE DO SUL",
         "nome": "Turuçu",
         "Pop_est_2009": 4000,
         "PIB": 45723.875,
         "PIB_percapita": 11430.96972656,
         "_deepnote_index_column": 1
        },
        {
         "UF": "ESPIRITO SANTO",
         "nome": "Vitória",
         "Pop_est_2009": 320156,
         "PIB": 19782628,
         "PIB_percapita": 61790.58984375,
         "_deepnote_index_column": 2
        },
        {
         "UF": "MINAS GERAIS",
         "nome": "Jacutinga",
         "Pop_est_2009": 21424,
         "PIB": 247816,
         "PIB_percapita": 11567.20996094,
         "_deepnote_index_column": 3
        },
        {
         "UF": "PIAUÍ",
         "nome": "Nazária",
         "Pop_est_2009": 7895,
         "PIB": 20951.38085938,
         "PIB_percapita": 2653.75,
         "_deepnote_index_column": 4
        },
        {
         "UF": "MINAS GERAIS",
         "nome": "Pedra Azul",
         "Pop_est_2009": 26000,
         "PIB": 187523.671875,
         "PIB_percapita": 7212.45019531,
         "_deepnote_index_column": 5
        },
        {
         "UF": "PIAUÍ",
         "nome": "Teresina",
         "Pop_est_2009": 802537,
         "PIB": 8700461,
         "PIB_percapita": 10841.20019531,
         "_deepnote_index_column": 6
        },
        {
         "UF": "PIAUÍ",
         "nome": "Amarante",
         "Pop_est_2009": 17892,
         "PIB": 65322.88671875,
         "PIB_percapita": 3650.94995117,
         "_deepnote_index_column": 7
        },
        {
         "UF": "GOIÁS",
         "nome": "Matrinchã",
         "Pop_est_2009": 4420,
         "PIB": 45910.546875,
         "PIB_percapita": 10387,
         "_deepnote_index_column": 8
        },
        {
         "UF": "PERNAMBUCO",
         "nome": "Cachoeirinha",
         "Pop_est_2009": 18123,
         "PIB": 80433.8046875,
         "PIB_percapita": 4438.22021484,
         "_deepnote_index_column": 9
        },
        {
         "UF": "PARÁ",
         "nome": "Afuá",
         "Pop_est_2009": 32633,
         "PIB": 100038.40625,
         "PIB_percapita": 3065.56005859,
         "_deepnote_index_column": 10
        },
        {
         "UF": "PERNAMBUCO",
         "nome": "Fernando de Noronha",
         "Pop_est_2009": 3108,
         "PIB": 26980.71484375,
         "PIB_percapita": 8681.04980469,
         "_deepnote_index_column": 11
        },
        {
         "UF": "RIO GRANDE DO SUL",
         "nome": "Frederico Westphalen",
         "Pop_est_2009": 28428,
         "PIB": 490769.53125,
         "PIB_percapita": 17263.59960938,
         "_deepnote_index_column": 12
        },
        {
         "UF": "SERGIPE",
         "nome": "Amparo de São Francisco",
         "Pop_est_2009": 2268,
         "PIB": 12769.73339844,
         "PIB_percapita": 5630.39013672,
         "_deepnote_index_column": 13
        },
        {
         "UF": "SÃO PAULO",
         "nome": "Itapeva",
         "Pop_est_2009": 89768,
         "PIB": 1120700,
         "PIB_percapita": 12484.40039062,
         "_deepnote_index_column": 14
        },
        {
         "UF": "PARAÍBA",
         "nome": "Bayeux",
         "Pop_est_2009": 96198,
         "PIB": 604882.125,
         "PIB_percapita": 6287.89013672,
         "_deepnote_index_column": 15
        },
        {
         "UF": "TOCANTINS",
         "nome": "Ananás",
         "Pop_est_2009": 9514,
         "PIB": 59541.40625,
         "PIB_percapita": 6258.29003906,
         "_deepnote_index_column": 16
        },
        {
         "UF": "MINAS GERAIS",
         "nome": "Santo Antônio do Retiro",
         "Pop_est_2009": 7087,
         "PIB": 25568.890625,
         "PIB_percapita": 3607.86010742,
         "_deepnote_index_column": 17
        },
        {
         "UF": "PARAÍBA",
         "nome": "Serra Branca",
         "Pop_est_2009": 12816,
         "PIB": 62123.3359375,
         "PIB_percapita": 4847.33007812,
         "_deepnote_index_column": 18
        },
        {
         "UF": "AMAZONAS",
         "nome": "Envira",
         "Pop_est_2009": 17614,
         "PIB": 69843.03125,
         "PIB_percapita": 3965.19995117,
         "_deepnote_index_column": 19
        },
        {
         "UF": "TOCANTINS",
         "nome": "Oliveira de Fátima",
         "Pop_est_2009": 1129,
         "PIB": 11591.94921875,
         "PIB_percapita": 10267.45019531,
         "_deepnote_index_column": 20
        },
        {
         "UF": "SÃO PAULO",
         "nome": "Elisiário",
         "Pop_est_2009": 3317,
         "PIB": 52295.234375,
         "PIB_percapita": 15765.8203125,
         "_deepnote_index_column": 21
        },
        {
         "UF": "SANTA CATARINA",
         "nome": "Otacílio Costa",
         "Pop_est_2009": 16587,
         "PIB": 364577.8125,
         "PIB_percapita": 21979.73046875,
         "_deepnote_index_column": 22
        },
        {
         "UF": "MINAS GERAIS",
         "nome": "Sericita",
         "Pop_est_2009": 7345,
         "PIB": 39047.0703125,
         "PIB_percapita": 5316.14013672,
         "_deepnote_index_column": 23
        },
        {
         "UF": "MINAS GERAIS",
         "nome": "Diamantina",
         "Pop_est_2009": 46372,
         "PIB": 287632.03125,
         "PIB_percapita": 6202.70996094,
         "_deepnote_index_column": 24
        },
        {
         "UF": "BAHIA",
         "nome": "Maetinga",
         "Pop_est_2009": 7884,
         "PIB": 23558.44726562,
         "PIB_percapita": 2988.12988281,
         "_deepnote_index_column": 25
        },
        {
         "UF": "CEARÁ",
         "nome": "Iracema",
         "Pop_est_2009": 15114,
         "PIB": 62552.0234375,
         "PIB_percapita": 4138.68017578,
         "_deepnote_index_column": 26
        },
        {
         "UF": "RORAIMA",
         "nome": "São João da Baliza",
         "Pop_est_2009": 6028,
         "PIB": 59372.453125,
         "PIB_percapita": 9849.45019531,
         "_deepnote_index_column": 27
        },
        {
         "UF": "RIO GRANDE DO SUL",
         "nome": "Paulo Bento",
         "Pop_est_2009": 2149,
         "PIB": 37882.76953125,
         "PIB_percapita": 17628.08984375,
         "_deepnote_index_column": 28
        },
        {
         "UF": "PERNAMBUCO",
         "nome": "Alagoinha",
         "Pop_est_2009": 14913,
         "PIB": 57886.21484375,
         "PIB_percapita": 3881.59008789,
         "_deepnote_index_column": 29
        },
        {
         "UF": "PIAUÍ",
         "nome": "Inhuma",
         "Pop_est_2009": 15490,
         "PIB": 62012.0234375,
         "PIB_percapita": 4003.36010742,
         "_deepnote_index_column": 30
        },
        {
         "UF": "MARANHÃO",
         "nome": "Joselândia",
         "Pop_est_2009": 16188,
         "PIB": 60842.48046875,
         "PIB_percapita": 3758.48999023,
         "_deepnote_index_column": 31
        },
        {
         "UF": "RIO DE JANEIRO",
         "nome": "Itaguaí",
         "Pop_est_2009": 105633,
         "PIB": 3008327.25,
         "PIB_percapita": 28479.05078125,
         "_deepnote_index_column": 32
        },
        {
         "UF": "MINAS GERAIS",
         "nome": "Cedro do Abaeté",
         "Pop_est_2009": 1221,
         "PIB": 10221.85644531,
         "PIB_percapita": 8371.70996094,
         "_deepnote_index_column": 33
        },
        {
         "UF": "RIO GRANDE DO SUL",
         "nome": "Cacequi",
         "Pop_est_2009": 13578,
         "PIB": 174171.703125,
         "PIB_percapita": 12827.49023438,
         "_deepnote_index_column": 34
        },
        {
         "UF": "PERNAMBUCO",
         "nome": "Barra de Guabiraba",
         "Pop_est_2009": 13623,
         "PIB": 46595.87109375,
         "PIB_percapita": 3420.37988281,
         "_deepnote_index_column": 35
        },
        {
         "UF": "BAHIA",
         "nome": "Ibirapuã",
         "Pop_est_2009": 7893,
         "PIB": 74997.40625,
         "PIB_percapita": 9501.75976562,
         "_deepnote_index_column": 36
        },
        {
         "UF": "PARAÍBA",
         "nome": "Bernardino Batista",
         "Pop_est_2009": 3315,
         "PIB": 11964.66210938,
         "PIB_percapita": 3609.25,
         "_deepnote_index_column": 37
        },
        {
         "UF": "PARAÍBA",
         "nome": "Lagoa",
         "Pop_est_2009": 4949,
         "PIB": 19203.7109375,
         "PIB_percapita": 3880.32006836,
         "_deepnote_index_column": 38
        },
        {
         "UF": "MATO GROSSO",
         "nome": "Novo Horizonte do Norte",
         "Pop_est_2009": 3970,
         "PIB": 32778.5078125,
         "PIB_percapita": 8256.54980469,
         "_deepnote_index_column": 39
        },
        {
         "UF": "MINAS GERAIS",
         "nome": "Nova Lima",
         "Pop_est_2009": 76608,
         "PIB": 2120726.75,
         "PIB_percapita": 27682.83984375,
         "_deepnote_index_column": 40
        },
        {
         "UF": "PARÁ",
         "nome": "Tomé-Açu",
         "Pop_est_2009": 48607,
         "PIB": 226379.46875,
         "PIB_percapita": 4657.33984375,
         "_deepnote_index_column": 41
        },
        {
         "UF": "BAHIA",
         "nome": "Governador Mangabeira",
         "Pop_est_2009": 20668,
         "PIB": 92903.8203125,
         "PIB_percapita": 4495.06005859,
         "_deepnote_index_column": 42
        },
        {
         "UF": "PIAUÍ",
         "nome": "Aroeiras do Itaim",
         "Pop_est_2009": 2759,
         "PIB": 8614.79785156,
         "PIB_percapita": 3122.42993164,
         "_deepnote_index_column": 43
        },
        {
         "UF": "GOIÁS",
         "nome": "Perolândia",
         "Pop_est_2009": 2830,
         "PIB": 145665.390625,
         "PIB_percapita": 51471.87109375,
         "_deepnote_index_column": 44
        },
        {
         "UF": "PARAÍBA",
         "nome": "Pocinhos",
         "Pop_est_2009": 16538,
         "PIB": 68767.046875,
         "PIB_percapita": 4158.12011719,
         "_deepnote_index_column": 45
        },
        {
         "UF": "BAHIA",
         "nome": "Ibititá",
         "Pop_est_2009": 19410,
         "PIB": 62366.88671875,
         "PIB_percapita": 3213.12988281,
         "_deepnote_index_column": 46
        },
        {
         "UF": "TOCANTINS",
         "nome": "Aliança do Tocantins",
         "Pop_est_2009": 5822,
         "PIB": 44565.703125,
         "PIB_percapita": 7654.70996094,
         "_deepnote_index_column": 47
        },
        {
         "UF": "MINAS GERAIS",
         "nome": "Igarapé",
         "Pop_est_2009": 33773,
         "PIB": 277495.78125,
         "PIB_percapita": 8216.5,
         "_deepnote_index_column": 48
        },
        {
         "UF": "TOCANTINS",
         "nome": "Lagoa da Confusão",
         "Pop_est_2009": 8711,
         "PIB": 263527.4375,
         "PIB_percapita": 30252.25976562,
         "_deepnote_index_column": 49
        },
        {
         "UF": "PARAÍBA",
         "nome": "Puxinanã",
         "Pop_est_2009": 13354,
         "PIB": 59902.4921875,
         "PIB_percapita": 4485.72998047,
         "_deepnote_index_column": 50
        },
        {
         "UF": "SÃO PAULO",
         "nome": "Guarujá",
         "Pop_est_2009": 308058,
         "PIB": 3429098.5,
         "PIB_percapita": 11131.33984375,
         "_deepnote_index_column": 51
        },
        {
         "UF": "RIO GRANDE DO SUL",
         "nome": "Engenho Velho",
         "Pop_est_2009": 1467,
         "PIB": 24098.88671875,
         "PIB_percapita": 16427.33007812,
         "_deepnote_index_column": 52
        },
        {
         "UF": "PARANÁ",
         "nome": "Rio Bom",
         "Pop_est_2009": 3292,
         "PIB": 29087.8984375,
         "PIB_percapita": 8835.9296875,
         "_deepnote_index_column": 53
        },
        {
         "UF": "BAHIA",
         "nome": "Sátiro Dias",
         "Pop_est_2009": 18919,
         "PIB": 75908.4609375,
         "PIB_percapita": 4012.29003906,
         "_deepnote_index_column": 54
        },
        {
         "UF": "SANTA CATARINA",
         "nome": "José Boiteux",
         "Pop_est_2009": 5054,
         "PIB": 50867.8984375,
         "PIB_percapita": 10064.87988281,
         "_deepnote_index_column": 55
        },
        {
         "UF": "PARÁ",
         "nome": "Cachoeira do Arari",
         "Pop_est_2009": 20411,
         "PIB": 62800.12890625,
         "PIB_percapita": 3076.7800293,
         "_deepnote_index_column": 56
        },
        {
         "UF": "BAHIA",
         "nome": "Irajuba",
         "Pop_est_2009": 7666,
         "PIB": 29224.98828125,
         "PIB_percapita": 3812.29003906,
         "_deepnote_index_column": 57
        },
        {
         "UF": "PERNAMBUCO",
         "nome": "Palmares",
         "Pop_est_2009": 58819,
         "PIB": 387086.59375,
         "PIB_percapita": 6580.97998047,
         "_deepnote_index_column": 58
        },
        {
         "UF": "SERGIPE",
         "nome": "Brejo Grande",
         "Pop_est_2009": 8086,
         "PIB": 39924.37890625,
         "PIB_percapita": 4937.47021484,
         "_deepnote_index_column": 59
        },
        {
         "UF": "PARANÁ",
         "nome": "Altamira do Paraná",
         "Pop_est_2009": 3799,
         "PIB": 37563.4296875,
         "PIB_percapita": 9887.71972656,
         "_deepnote_index_column": 60
        },
        {
         "UF": "MATO GROSSO",
         "nome": "Nova Santa Helena",
         "Pop_est_2009": 3473,
         "PIB": 49004,
         "PIB_percapita": 14109.99023438,
         "_deepnote_index_column": 61
        },
        {
         "UF": "PARAÍBA",
         "nome": "São Sebastião do Umbuzeiro",
         "Pop_est_2009": 3170,
         "PIB": 15186.453125,
         "PIB_percapita": 4790.68017578,
         "_deepnote_index_column": 62
        },
        {
         "UF": "MATO GROSSO",
         "nome": "Nova Guarita",
         "Pop_est_2009": 4907,
         "PIB": 45700.81640625,
         "PIB_percapita": 9313.38964844,
         "_deepnote_index_column": 63
        },
        {
         "UF": "MARANHÃO",
         "nome": "Serrano do Maranhão",
         "Pop_est_2009": 11085,
         "PIB": 40995.56640625,
         "PIB_percapita": 3698.29003906,
         "_deepnote_index_column": 64
        },
        {
         "UF": "SÃO PAULO",
         "nome": "Pedrinhas Paulista",
         "Pop_est_2009": 2927,
         "PIB": 75881.6875,
         "PIB_percapita": 25924.73046875,
         "_deepnote_index_column": 65
        },
        {
         "UF": "GOIÁS",
         "nome": "Santa Rita do Novo Destino",
         "Pop_est_2009": 3576,
         "PIB": 29350.61328125,
         "PIB_percapita": 8207.66992188,
         "_deepnote_index_column": 66
        },
        {
         "UF": "PARAÍBA",
         "nome": "Cabedelo",
         "Pop_est_2009": 51865,
         "PIB": 2332828.25,
         "PIB_percapita": 44978.8515625,
         "_deepnote_index_column": 67
        },
        {
         "UF": "PERNAMBUCO",
         "nome": "Cabrobó",
         "Pop_est_2009": 30432,
         "PIB": 188859.3125,
         "PIB_percapita": 6205.95019531,
         "_deepnote_index_column": 68
        },
        {
         "UF": "ALAGOAS",
         "nome": "Dois Riachos",
         "Pop_est_2009": 11200,
         "PIB": 35078.25390625,
         "PIB_percapita": 3131.98999023,
         "_deepnote_index_column": 69
        },
        {
         "UF": "MATO GROSSO DO SUL",
         "nome": "Corumbá",
         "Pop_est_2009": 99467,
         "PIB": 2715506.75,
         "PIB_percapita": 27300.58007812,
         "_deepnote_index_column": 70
        },
        {
         "UF": "MINAS GERAIS",
         "nome": "Santa Maria do Suaçuí",
         "Pop_est_2009": 14931,
         "PIB": 71374.390625,
         "PIB_percapita": 4780.27978516,
         "_deepnote_index_column": 71
        },
        {
         "UF": "MATO GROSSO",
         "nome": "Tapurah",
         "Pop_est_2009": 11517,
         "PIB": 321427.21875,
         "PIB_percapita": 27908.93945312,
         "_deepnote_index_column": 72
        },
        {
         "UF": "PARÁ",
         "nome": "Bragança",
         "Pop_est_2009": 107060,
         "PIB": 382807.5625,
         "PIB_percapita": 3575.63989258,
         "_deepnote_index_column": 73
        },
        {
         "UF": "RIO DE JANEIRO",
         "nome": "Três Rios",
         "Pop_est_2009": 76075,
         "PIB": 1304643.375,
         "PIB_percapita": 17149.43945312,
         "_deepnote_index_column": 74
        },
        {
         "UF": "ALAGOAS",
         "nome": "Belém",
         "Pop_est_2009": 5083,
         "PIB": 19550.015625,
         "PIB_percapita": 3846.15991211,
         "_deepnote_index_column": 75
        },
        {
         "UF": "CEARÁ",
         "nome": "Abaiara",
         "Pop_est_2009": 11077,
         "PIB": 33615.54296875,
         "PIB_percapita": 3034.7199707,
         "_deepnote_index_column": 76
        },
        {
         "UF": "BAHIA",
         "nome": "Itaquara",
         "Pop_est_2009": 7743,
         "PIB": 33105.69921875,
         "PIB_percapita": 4275.56982422,
         "_deepnote_index_column": 77
        },
        {
         "UF": "MARANHÃO",
         "nome": "Santa Luzia",
         "Pop_est_2009": 71455,
         "PIB": 243949.921875,
         "PIB_percapita": 3414.04003906,
         "_deepnote_index_column": 78
        },
        {
         "UF": "PARAÍBA",
         "nome": "Patos",
         "Pop_est_2009": 100732,
         "PIB": 615180.875,
         "PIB_percapita": 6107.10009766,
         "_deepnote_index_column": 79
        },
        {
         "UF": "SÃO PAULO",
         "nome": "São Luís do Paraitinga",
         "Pop_est_2009": 10908,
         "PIB": 82827.171875,
         "PIB_percapita": 7593.25,
         "_deepnote_index_column": 80
        },
        {
         "UF": "SANTA CATARINA",
         "nome": "Cordilheira Alta",
         "Pop_est_2009": 3531,
         "PIB": 128883.09375,
         "PIB_percapita": 36500.44921875,
         "_deepnote_index_column": 81
        },
        {
         "UF": "MINAS GERAIS",
         "nome": "Catas Altas da Noruega",
         "Pop_est_2009": 3573,
         "PIB": 14633.55566406,
         "PIB_percapita": 4095.59008789,
         "_deepnote_index_column": 82
        },
        {
         "UF": "ACRE",
         "nome": "Marechal Thaumaturgo",
         "Pop_est_2009": 14275,
         "PIB": 109181.8671875,
         "PIB_percapita": 7648.47021484,
         "_deepnote_index_column": 83
        },
        {
         "UF": "PARAÍBA",
         "nome": "Riachão do Bacamarte",
         "Pop_est_2009": 4319,
         "PIB": 17855.66796875,
         "PIB_percapita": 4134.20996094,
         "_deepnote_index_column": 84
        },
        {
         "UF": "MARANHÃO",
         "nome": "Senador Alexandre Costa",
         "Pop_est_2009": 9414,
         "PIB": 31518.8046875,
         "PIB_percapita": 3348.08007812,
         "_deepnote_index_column": 85
        },
        {
         "UF": "MARANHÃO",
         "nome": "São Raimundo do Doca Bezerra",
         "Pop_est_2009": 4372,
         "PIB": 19792.5078125,
         "PIB_percapita": 4527.10986328,
         "_deepnote_index_column": 86
        },
        {
         "UF": "PARANÁ",
         "nome": "Diamante do Norte",
         "Pop_est_2009": 5668,
         "PIB": 39603.3515625,
         "PIB_percapita": 6987.18017578,
         "_deepnote_index_column": 87
        },
        {
         "UF": "PARÁ",
         "nome": "Breu Branco",
         "Pop_est_2009": 52200,
         "PIB": 282525.6875,
         "PIB_percapita": 5412.37011719,
         "_deepnote_index_column": 88
        },
        {
         "UF": "PERNAMBUCO",
         "nome": "Angelim",
         "Pop_est_2009": 10385,
         "PIB": 41266.19140625,
         "PIB_percapita": 3973.62988281,
         "_deepnote_index_column": 89
        },
        {
         "UF": "RIO GRANDE DO SUL",
         "nome": "Arvorezinha",
         "Pop_est_2009": 10548,
         "PIB": 120895.8828125,
         "PIB_percapita": 11461.5,
         "_deepnote_index_column": 90
        },
        {
         "UF": "MARANHÃO",
         "nome": "Presidente Médici",
         "Pop_est_2009": 6363,
         "PIB": 26121.25585938,
         "PIB_percapita": 4105.18017578,
         "_deepnote_index_column": 91
        },
        {
         "UF": "RIO GRANDE DO SUL",
         "nome": "Palmeira das Missões",
         "Pop_est_2009": 34225,
         "PIB": 597852.75,
         "PIB_percapita": 17468.30078125,
         "_deepnote_index_column": 92
        },
        {
         "UF": "SÃO PAULO",
         "nome": "Divinolândia",
         "Pop_est_2009": 11343,
         "PIB": 158577.421875,
         "PIB_percapita": 13980.20019531,
         "_deepnote_index_column": 93
        },
        {
         "UF": "BAHIA",
         "nome": "Cansanção",
         "Pop_est_2009": 34093,
         "PIB": 112228.7734375,
         "PIB_percapita": 3291.84008789,
         "_deepnote_index_column": 94
        },
        {
         "UF": "SERGIPE",
         "nome": "Tomar do Geru",
         "Pop_est_2009": 13717,
         "PIB": 62506.4609375,
         "PIB_percapita": 4556.85986328,
         "_deepnote_index_column": 95
        },
        {
         "UF": "PARANÁ",
         "nome": "Santa Lúcia",
         "Pop_est_2009": 3743,
         "PIB": 34974.37109375,
         "PIB_percapita": 9343.94042969,
         "_deepnote_index_column": 96
        },
        {
         "UF": "RIO GRANDE DO NORTE",
         "nome": "Rafael Godeiro",
         "Pop_est_2009": 3251,
         "PIB": 14798.20410156,
         "PIB_percapita": 4551.89013672,
         "_deepnote_index_column": 97
        },
        {
         "UF": "CEARÁ",
         "nome": "Novo Oriente",
         "Pop_est_2009": 28703,
         "PIB": 93621.4453125,
         "PIB_percapita": 3261.72998047,
         "_deepnote_index_column": 98
        },
        {
         "UF": "PARAÍBA",
         "nome": "Alcantil",
         "Pop_est_2009": 5232,
         "PIB": 22410.37304688,
         "PIB_percapita": 4283.33007812,
         "_deepnote_index_column": 99
        }
       ],
       "rows_bottom": [
        {
         "UF": "MINAS GERAIS",
         "nome": "Senador José Bento",
         "Pop_est_2009": 1855,
         "PIB": 25655.8515625,
         "PIB_percapita": 13830.65039062,
         "_deepnote_index_column": 5466
        },
        {
         "UF": "SÃO PAULO",
         "nome": "Barueri",
         "Pop_est_2009": 270173,
         "PIB": 26908070,
         "PIB_percapita": 99595.703125,
         "_deepnote_index_column": 5467
        },
        {
         "UF": "PARANÁ",
         "nome": "Palotina",
         "Pop_est_2009": 28966,
         "PIB": 877316.5625,
         "PIB_percapita": 30287.80078125,
         "_deepnote_index_column": 5468
        },
        {
         "UF": "PARANÁ",
         "nome": "Campo Bonito",
         "Pop_est_2009": 4385,
         "PIB": 58019.60546875,
         "PIB_percapita": 13231.37988281,
         "_deepnote_index_column": 5469
        },
        {
         "UF": "RIO GRANDE DO SUL",
         "nome": "Lindolfo Collor",
         "Pop_est_2009": 5732,
         "PIB": 104277.5390625,
         "PIB_percapita": 18192.16992188,
         "_deepnote_index_column": 5470
        },
        {
         "UF": "RIO GRANDE DO NORTE",
         "nome": "Jaçanã",
         "Pop_est_2009": 8045,
         "PIB": 33762.64453125,
         "PIB_percapita": 4196.72021484,
         "_deepnote_index_column": 5471
        },
        {
         "UF": "ALAGOAS",
         "nome": "Pindoba",
         "Pop_est_2009": 3246,
         "PIB": 14839.16210938,
         "PIB_percapita": 4571.52001953,
         "_deepnote_index_column": 5472
        },
        {
         "UF": "PARANÁ",
         "nome": "Marquinho",
         "Pop_est_2009": 5258,
         "PIB": 40264.09375,
         "PIB_percapita": 7657.68017578,
         "_deepnote_index_column": 5473
        },
        {
         "UF": "MATO GROSSO",
         "nome": "Poxoréo",
         "Pop_est_2009": 17758,
         "PIB": 287976.78125,
         "PIB_percapita": 16216.73046875,
         "_deepnote_index_column": 5474
        },
        {
         "UF": "PARANÁ",
         "nome": "Paranapoema",
         "Pop_est_2009": 2818,
         "PIB": 26236.05664062,
         "PIB_percapita": 9310.16992188,
         "_deepnote_index_column": 5475
        },
        {
         "UF": "MINAS GERAIS",
         "nome": "Jampruca",
         "Pop_est_2009": 5145,
         "PIB": 26990.45703125,
         "PIB_percapita": 5245.95996094,
         "_deepnote_index_column": 5476
        },
        {
         "UF": "MATO GROSSO",
         "nome": "Serra Nova Dourada",
         "Pop_est_2009": 1447,
         "PIB": 15962.53320312,
         "PIB_percapita": 11031.46972656,
         "_deepnote_index_column": 5477
        },
        {
         "UF": "SERGIPE",
         "nome": "Lagarto",
         "Pop_est_2009": 92474,
         "PIB": 614667.5,
         "PIB_percapita": 6646.91992188,
         "_deepnote_index_column": 5478
        },
        {
         "UF": "MARANHÃO",
         "nome": "Araguanã",
         "Pop_est_2009": 10325,
         "PIB": 35695.109375,
         "PIB_percapita": 3457.14990234,
         "_deepnote_index_column": 5479
        },
        {
         "UF": "MATO GROSSO",
         "nome": "Marcelândia",
         "Pop_est_2009": 14473,
         "PIB": 289744.75,
         "PIB_percapita": 20019.6796875,
         "_deepnote_index_column": 5480
        },
        {
         "UF": "MATO GROSSO",
         "nome": "Guarantã do Norte",
         "Pop_est_2009": 32142,
         "PIB": 260428.75,
         "PIB_percapita": 8102.43994141,
         "_deepnote_index_column": 5481
        },
        {
         "UF": "BAHIA",
         "nome": "Candeias",
         "Pop_est_2009": 81699,
         "PIB": 3224811.75,
         "PIB_percapita": 39471.859375,
         "_deepnote_index_column": 5482
        },
        {
         "UF": "MINAS GERAIS",
         "nome": "Cabo Verde",
         "Pop_est_2009": 14042,
         "PIB": 128103.40625,
         "PIB_percapita": 9122.87011719,
         "_deepnote_index_column": 5483
        },
        {
         "UF": "SÃO PAULO",
         "nome": "Teodoro Sampaio",
         "Pop_est_2009": 21202,
         "PIB": 222923.21875,
         "PIB_percapita": 10514.25,
         "_deepnote_index_column": 5484
        },
        {
         "UF": "PARÁ",
         "nome": "Ipixuna do Pará",
         "Pop_est_2009": 44396,
         "PIB": 220101.859375,
         "PIB_percapita": 4957.70019531,
         "_deepnote_index_column": 5485
        },
        {
         "UF": "RIO GRANDE DO NORTE",
         "nome": "São Miguel do Gostoso",
         "Pop_est_2009": 9240,
         "PIB": 48024.87109375,
         "PIB_percapita": 5197.5,
         "_deepnote_index_column": 5486
        },
        {
         "UF": "MINAS GERAIS",
         "nome": "Piraúba",
         "Pop_est_2009": 10931,
         "PIB": 62621.69921875,
         "PIB_percapita": 5728.81982422,
         "_deepnote_index_column": 5487
        },
        {
         "UF": "PARANÁ",
         "nome": "Reserva",
         "Pop_est_2009": 25148,
         "PIB": 231634,
         "PIB_percapita": 9210.83007812,
         "_deepnote_index_column": 5488
        },
        {
         "UF": "RIO DE JANEIRO",
         "nome": "Paty do Alferes",
         "Pop_est_2009": 26196,
         "PIB": 249084.640625,
         "PIB_percapita": 9508.5,
         "_deepnote_index_column": 5489
        },
        {
         "UF": "MATO GROSSO",
         "nome": "Alto Garças",
         "Pop_est_2009": 9550,
         "PIB": 250193.453125,
         "PIB_percapita": 26198.26953125,
         "_deepnote_index_column": 5490
        },
        {
         "UF": "PARÁ",
         "nome": "Água Azul do Norte",
         "Pop_est_2009": 31216,
         "PIB": 187433.203125,
         "PIB_percapita": 6004.39990234,
         "_deepnote_index_column": 5491
        },
        {
         "UF": "PARÁ",
         "nome": "Vitória do Xingu",
         "Pop_est_2009": 9664,
         "PIB": 68070.3671875,
         "PIB_percapita": 7043.70996094,
         "_deepnote_index_column": 5492
        },
        {
         "UF": "SÃO PAULO",
         "nome": "Castilho",
         "Pop_est_2009": 16165,
         "PIB": 641493.875,
         "PIB_percapita": 39684.12109375,
         "_deepnote_index_column": 5493
        },
        {
         "UF": "CEARÁ",
         "nome": "Camocim",
         "Pop_est_2009": 61278,
         "PIB": 264770.375,
         "PIB_percapita": 4320.81005859,
         "_deepnote_index_column": 5494
        },
        {
         "UF": "MINAS GERAIS",
         "nome": "São José da Barra",
         "Pop_est_2009": 7090,
         "PIB": 301047.03125,
         "PIB_percapita": 42460.80078125,
         "_deepnote_index_column": 5495
        },
        {
         "UF": "MINAS GERAIS",
         "nome": "José Gonçalves de Minas",
         "Pop_est_2009": 4662,
         "PIB": 19598.85742188,
         "PIB_percapita": 4203.95996094,
         "_deepnote_index_column": 5496
        },
        {
         "UF": "RIO GRANDE DO SUL",
         "nome": "Quaraí",
         "Pop_est_2009": 22883,
         "PIB": 235271.359375,
         "PIB_percapita": 10281.49023438,
         "_deepnote_index_column": 5497
        },
        {
         "UF": "MARANHÃO",
         "nome": "Turilândia",
         "Pop_est_2009": 21102,
         "PIB": 70475.25,
         "PIB_percapita": 3339.73999023,
         "_deepnote_index_column": 5498
        },
        {
         "UF": "PARAÍBA",
         "nome": "Cacimbas",
         "Pop_est_2009": 7029,
         "PIB": 23764.69140625,
         "PIB_percapita": 3380.94995117,
         "_deepnote_index_column": 5499
        },
        {
         "UF": "SANTA CATARINA",
         "nome": "Lindóia do Sul",
         "Pop_est_2009": 4662,
         "PIB": 102623.84375,
         "PIB_percapita": 22012.83984375,
         "_deepnote_index_column": 5500
        },
        {
         "UF": "MARANHÃO",
         "nome": "Arame",
         "Pop_est_2009": 27750,
         "PIB": 97223.8828125,
         "PIB_percapita": 3503.56005859,
         "_deepnote_index_column": 5501
        },
        {
         "UF": "PERNAMBUCO",
         "nome": "Timbaúba",
         "Pop_est_2009": 51770,
         "PIB": 385873.625,
         "PIB_percapita": 7453.60986328,
         "_deepnote_index_column": 5502
        },
        {
         "UF": "BAHIA",
         "nome": "São Felipe",
         "Pop_est_2009": 20952,
         "PIB": 80595.3125,
         "PIB_percapita": 3846.65991211,
         "_deepnote_index_column": 5503
        },
        {
         "UF": "TOCANTINS",
         "nome": "Bandeirantes do Tocantins",
         "Pop_est_2009": 2807,
         "PIB": 49490.6015625,
         "PIB_percapita": 17631.140625,
         "_deepnote_index_column": 5504
        },
        {
         "UF": "MINAS GERAIS",
         "nome": "Tocantins",
         "Pop_est_2009": 16408,
         "PIB": 118708.8828125,
         "PIB_percapita": 7234.81982422,
         "_deepnote_index_column": 5505
        },
        {
         "UF": "PARANÁ",
         "nome": "Assaí",
         "Pop_est_2009": 16112,
         "PIB": 206111.453125,
         "PIB_percapita": 12792.41992188,
         "_deepnote_index_column": 5506
        },
        {
         "UF": "MINAS GERAIS",
         "nome": "São Domingos do Prata",
         "Pop_est_2009": 17857,
         "PIB": 114706.9375,
         "PIB_percapita": 6423.64013672,
         "_deepnote_index_column": 5507
        },
        {
         "UF": "SÃO PAULO",
         "nome": "Andradina",
         "Pop_est_2009": 56593,
         "PIB": 949487.5,
         "PIB_percapita": 16777.47070312,
         "_deepnote_index_column": 5508
        },
        {
         "UF": "PARÁ",
         "nome": "Santarém",
         "Pop_est_2009": 276665,
         "PIB": 1765658.375,
         "PIB_percapita": 6381.93994141,
         "_deepnote_index_column": 5509
        },
        {
         "UF": "TOCANTINS",
         "nome": "Palmeirante",
         "Pop_est_2009": 4959,
         "PIB": 68965.03125,
         "PIB_percapita": 13907.04003906,
         "_deepnote_index_column": 5510
        },
        {
         "UF": "TOCANTINS",
         "nome": "Cachoeirinha",
         "Pop_est_2009": 2255,
         "PIB": 12054.81054688,
         "PIB_percapita": 5345.81005859,
         "_deepnote_index_column": 5511
        },
        {
         "UF": "MINAS GERAIS",
         "nome": "Santa Rita do Itueto",
         "Pop_est_2009": 5739,
         "PIB": 55208.68359375,
         "PIB_percapita": 9619.91015625,
         "_deepnote_index_column": 5512
        },
        {
         "UF": "RIO GRANDE DO SUL",
         "nome": "David Canabarro",
         "Pop_est_2009": 4857,
         "PIB": 75632.625,
         "PIB_percapita": 15571.87988281,
         "_deepnote_index_column": 5513
        },
        {
         "UF": "PARAÍBA",
         "nome": "Logradouro",
         "Pop_est_2009": 3971,
         "PIB": 15182.88671875,
         "PIB_percapita": 3823.43994141,
         "_deepnote_index_column": 5514
        },
        {
         "UF": "RIO DE JANEIRO",
         "nome": "São José de Ubá",
         "Pop_est_2009": 7297,
         "PIB": 82136.6953125,
         "PIB_percapita": 11256.23046875,
         "_deepnote_index_column": 5515
        },
        {
         "UF": "SÃO PAULO",
         "nome": "Paraíso",
         "Pop_est_2009": 5816,
         "PIB": 70899.6484375,
         "PIB_percapita": 12190.45019531,
         "_deepnote_index_column": 5516
        },
        {
         "UF": "PIAUÍ",
         "nome": "Lagoa do Barro do Piauí",
         "Pop_est_2009": 4692,
         "PIB": 15677.51660156,
         "PIB_percapita": 3341.33007812,
         "_deepnote_index_column": 5517
        },
        {
         "UF": "GOIÁS",
         "nome": "Pirenópolis",
         "Pop_est_2009": 20945,
         "PIB": 182077.4375,
         "PIB_percapita": 8693.12011719,
         "_deepnote_index_column": 5518
        },
        {
         "UF": "PARAÍBA",
         "nome": "Carrapateira",
         "Pop_est_2009": 2347,
         "PIB": 10328.57910156,
         "PIB_percapita": 4400.75976562,
         "_deepnote_index_column": 5519
        },
        {
         "UF": "GOIÁS",
         "nome": "Porteirão",
         "Pop_est_2009": 3158,
         "PIB": 144554.84375,
         "PIB_percapita": 45774.1796875,
         "_deepnote_index_column": 5520
        },
        {
         "UF": "SANTA CATARINA",
         "nome": "Massaranduba",
         "Pop_est_2009": 14500,
         "PIB": 258986.640625,
         "PIB_percapita": 17861.15039062,
         "_deepnote_index_column": 5521
        },
        {
         "UF": "TOCANTINS",
         "nome": "Pium",
         "Pop_est_2009": 6701,
         "PIB": 76991.0546875,
         "PIB_percapita": 11489.49023438,
         "_deepnote_index_column": 5522
        },
        {
         "UF": "MINAS GERAIS",
         "nome": "Pequeri",
         "Pop_est_2009": 3093,
         "PIB": 23474.00390625,
         "PIB_percapita": 7589.39990234,
         "_deepnote_index_column": 5523
        },
        {
         "UF": "PARÁ",
         "nome": "Bannach",
         "Pop_est_2009": 3947,
         "PIB": 30876.3671875,
         "PIB_percapita": 7822.74023438,
         "_deepnote_index_column": 5524
        },
        {
         "UF": "SÃO PAULO",
         "nome": "Cândido Mota",
         "Pop_est_2009": 30776,
         "PIB": 442409.15625,
         "PIB_percapita": 14375.13964844,
         "_deepnote_index_column": 5525
        },
        {
         "UF": "SÃO PAULO",
         "nome": "Mineiros do Tietê",
         "Pop_est_2009": 12334,
         "PIB": 98549.375,
         "PIB_percapita": 7990.06005859,
         "_deepnote_index_column": 5526
        },
        {
         "UF": "SANTA CATARINA",
         "nome": "Ouro",
         "Pop_est_2009": 7231,
         "PIB": 82298.9765625,
         "PIB_percapita": 11381.41015625,
         "_deepnote_index_column": 5527
        },
        {
         "UF": "MATO GROSSO",
         "nome": "Nossa Senhora do Livramento",
         "Pop_est_2009": 12819,
         "PIB": 98371.2265625,
         "PIB_percapita": 7673.85986328,
         "_deepnote_index_column": 5528
        },
        {
         "UF": "BAHIA",
         "nome": "Nazaré",
         "Pop_est_2009": 27427,
         "PIB": 136208.3125,
         "PIB_percapita": 4966.20996094,
         "_deepnote_index_column": 5529
        },
        {
         "UF": "SÃO PAULO",
         "nome": "Santa Gertrudes",
         "Pop_est_2009": 21028,
         "PIB": 368870.34375,
         "PIB_percapita": 17541.859375,
         "_deepnote_index_column": 5530
        },
        {
         "UF": "PARAÍBA",
         "nome": "Manaíra",
         "Pop_est_2009": 11366,
         "PIB": 37588.046875,
         "PIB_percapita": 3307.06005859,
         "_deepnote_index_column": 5531
        },
        {
         "UF": "MINAS GERAIS",
         "nome": "Nacip Raydan",
         "Pop_est_2009": 3015,
         "PIB": 16007.75878906,
         "PIB_percapita": 5309.37011719,
         "_deepnote_index_column": 5532
        },
        {
         "UF": "SANTA CATARINA",
         "nome": "Campo Belo do Sul",
         "Pop_est_2009": 8212,
         "PIB": 95864.1484375,
         "PIB_percapita": 11673.66992188,
         "_deepnote_index_column": 5533
        },
        {
         "UF": "PARANÁ",
         "nome": "Carlópolis",
         "Pop_est_2009": 13581,
         "PIB": 106915.7578125,
         "PIB_percapita": 7872.45019531,
         "_deepnote_index_column": 5534
        },
        {
         "UF": "GOIÁS",
         "nome": "Formoso",
         "Pop_est_2009": 5327,
         "PIB": 30976.59960938,
         "PIB_percapita": 5815.02001953,
         "_deepnote_index_column": 5535
        },
        {
         "UF": "PARANÁ",
         "nome": "Três Barras do Paraná",
         "Pop_est_2009": 12088,
         "PIB": 132651.53125,
         "PIB_percapita": 10973.8203125,
         "_deepnote_index_column": 5536
        },
        {
         "UF": "PERNAMBUCO",
         "nome": "Gameleira",
         "Pop_est_2009": 27823,
         "PIB": 102698.8984375,
         "PIB_percapita": 3691.14990234,
         "_deepnote_index_column": 5537
        },
        {
         "UF": "PARÁ",
         "nome": "São Miguel do Guamá",
         "Pop_est_2009": 44818,
         "PIB": 171330.625,
         "PIB_percapita": 3822.81005859,
         "_deepnote_index_column": 5538
        },
        {
         "UF": "MINAS GERAIS",
         "nome": "Nova Ponte",
         "Pop_est_2009": 12504,
         "PIB": 468149.4375,
         "PIB_percapita": 37439.96875,
         "_deepnote_index_column": 5539
        },
        {
         "UF": "PARÁ",
         "nome": "Oeiras do Pará",
         "Pop_est_2009": 26796,
         "PIB": 89607.3984375,
         "PIB_percapita": 3344.06005859,
         "_deepnote_index_column": 5540
        },
        {
         "UF": "MINAS GERAIS",
         "nome": "São Gonçalo do Sapucaí",
         "Pop_est_2009": 23627,
         "PIB": 288685.75,
         "PIB_percapita": 12218.46972656,
         "_deepnote_index_column": 5541
        },
        {
         "UF": "MINAS GERAIS",
         "nome": "Barbacena",
         "Pop_est_2009": 128572,
         "PIB": 1335419.625,
         "PIB_percapita": 10386.54980469,
         "_deepnote_index_column": 5542
        },
        {
         "UF": "SÃO PAULO",
         "nome": "Gabriel Monteiro",
         "Pop_est_2009": 2698,
         "PIB": 69091.734375,
         "PIB_percapita": 25608.5,
         "_deepnote_index_column": 5543
        },
        {
         "UF": "RORAIMA",
         "nome": "Uiramutã",
         "Pop_est_2009": 7934,
         "PIB": 53429.1328125,
         "PIB_percapita": 6734.20019531,
         "_deepnote_index_column": 5544
        },
        {
         "UF": "RIO DE JANEIRO",
         "nome": "Magé",
         "Pop_est_2009": 244334,
         "PIB": 1843262.5,
         "PIB_percapita": 7544.02978516,
         "_deepnote_index_column": 5545
        },
        {
         "UF": "PIAUÍ",
         "nome": "Bertolínia",
         "Pop_est_2009": 5484,
         "PIB": 28672.76757812,
         "PIB_percapita": 5228.43994141,
         "_deepnote_index_column": 5546
        },
        {
         "UF": "SANTA CATARINA",
         "nome": "Tangará",
         "Pop_est_2009": 8611,
         "PIB": 193337.234375,
         "PIB_percapita": 22452.359375,
         "_deepnote_index_column": 5547
        },
        {
         "UF": "CEARÁ",
         "nome": "Quixeré",
         "Pop_est_2009": 19772,
         "PIB": 135489.28125,
         "PIB_percapita": 6852.58007812,
         "_deepnote_index_column": 5548
        },
        {
         "UF": "SANTA CATARINA",
         "nome": "Rio do Oeste",
         "Pop_est_2009": 7033,
         "PIB": 128651.765625,
         "PIB_percapita": 18292.58984375,
         "_deepnote_index_column": 5549
        },
        {
         "UF": "SÃO PAULO",
         "nome": "Garça",
         "Pop_est_2009": 43380,
         "PIB": 613207.25,
         "PIB_percapita": 14135.70996094,
         "_deepnote_index_column": 5550
        },
        {
         "UF": "RIO GRANDE DO SUL",
         "nome": "Saldanha Marinho",
         "Pop_est_2009": 3019,
         "PIB": 72683.40625,
         "PIB_percapita": 24075.3203125,
         "_deepnote_index_column": 5551
        },
        {
         "UF": "AMAZONAS",
         "nome": "Lábrea",
         "Pop_est_2009": 39393,
         "PIB": 394562.34375,
         "PIB_percapita": 10016.04980469,
         "_deepnote_index_column": 5552
        },
        {
         "UF": "PARÁ",
         "nome": "Santa Maria do Pará",
         "Pop_est_2009": 23202,
         "PIB": 99888.1484375,
         "PIB_percapita": 4305.14990234,
         "_deepnote_index_column": 5553
        },
        {
         "UF": "MINAS GERAIS",
         "nome": "São Francisco do Glória",
         "Pop_est_2009": 5685,
         "PIB": 32376.13085938,
         "PIB_percapita": 5695.00976562,
         "_deepnote_index_column": 5554
        },
        {
         "UF": "RIO DE JANEIRO",
         "nome": "São João da Barra",
         "Pop_est_2009": 30595,
         "PIB": 2039369.875,
         "PIB_percapita": 66656.9609375,
         "_deepnote_index_column": 5555
        },
        {
         "UF": "SÃO PAULO",
         "nome": "Icém",
         "Pop_est_2009": 6524,
         "PIB": 90258.3984375,
         "PIB_percapita": 13834.83007812,
         "_deepnote_index_column": 5556
        },
        {
         "UF": "PARÁ",
         "nome": "Faro",
         "Pop_est_2009": 19585,
         "PIB": 40236.5703125,
         "PIB_percapita": 2054.45996094,
         "_deepnote_index_column": 5557
        },
        {
         "UF": "RIO GRANDE DO NORTE",
         "nome": "Nísia Floresta",
         "Pop_est_2009": 24109,
         "PIB": 120932.6484375,
         "PIB_percapita": 5016.08007812,
         "_deepnote_index_column": 5558
        },
        {
         "UF": "RIO GRANDE DO SUL",
         "nome": "Encantado",
         "Pop_est_2009": 20530,
         "PIB": 411468.25,
         "PIB_percapita": 20042.2890625,
         "_deepnote_index_column": 5559
        },
        {
         "UF": "PARANÁ",
         "nome": "Sabáudia",
         "Pop_est_2009": 5642,
         "PIB": 71359.15625,
         "PIB_percapita": 12647.84960938,
         "_deepnote_index_column": 5560
        },
        {
         "UF": "SANTA CATARINA",
         "nome": "Campo Erê",
         "Pop_est_2009": 9737,
         "PIB": 187628.90625,
         "PIB_percapita": 19269.6796875,
         "_deepnote_index_column": 5561
        },
        {
         "UF": "PARANÁ",
         "nome": "Planalto",
         "Pop_est_2009": 13983,
         "PIB": 138553.546875,
         "PIB_percapita": 9908.70996094,
         "_deepnote_index_column": 5562
        },
        {
         "UF": "SÃO PAULO",
         "nome": "Guararapes",
         "Pop_est_2009": 29639,
         "PIB": 532019.125,
         "PIB_percapita": 17949.97070312,
         "_deepnote_index_column": 5563
        },
        {
         "UF": "RIO GRANDE DO SUL",
         "nome": "Barra do Guarita",
         "Pop_est_2009": 3067,
         "PIB": 21980.63671875,
         "PIB_percapita": 7166.81982422,
         "_deepnote_index_column": 5564
        },
        {
         "UF": "RIO GRANDE DO SUL",
         "nome": "Machadinho",
         "Pop_est_2009": 5623,
         "PIB": 57150.171875,
         "PIB_percapita": 10163.63964844,
         "_deepnote_index_column": 5565
        }
       ]
      },
      "text/plain": "                     UF              nome  Pop_est_2009           PIB  \\\n0                 BAHIA          Tremedal         18433  5.788399e+04   \n1     RIO GRANDE DO SUL            Turuçu          4000  4.572388e+04   \n2        ESPIRITO SANTO           Vitória        320156  1.978263e+07   \n3          MINAS GERAIS         Jacutinga         21424  2.478160e+05   \n4                 PIAUÍ           Nazária          7895  2.095138e+04   \n...                 ...               ...           ...           ...   \n5561     SANTA CATARINA         Campo Erê          9737  1.876289e+05   \n5562             PARANÁ          Planalto         13983  1.385535e+05   \n5563          SÃO PAULO        Guararapes         29639  5.320191e+05   \n5564  RIO GRANDE DO SUL  Barra do Guarita          3067  2.198064e+04   \n5565  RIO GRANDE DO SUL        Machadinho          5623  5.715017e+04   \n\n      PIB_percapita  \n0       3140.239990  \n1      11430.969727  \n2      61790.589844  \n3      11567.209961  \n4       2653.750000  \n...             ...  \n5561   19269.679688  \n5562    9908.709961  \n5563   17949.970703  \n5564    7166.819824  \n5565   10163.639648  \n\n[5555 rows x 5 columns]",
      "text/html": "<div>\n<style scoped>\n    .dataframe tbody tr th:only-of-type {\n        vertical-align: middle;\n    }\n\n    .dataframe tbody tr th {\n        vertical-align: top;\n    }\n\n    .dataframe thead th {\n        text-align: right;\n    }\n</style>\n<table border=\"1\" class=\"dataframe\">\n  <thead>\n    <tr style=\"text-align: right;\">\n      <th></th>\n      <th>UF</th>\n      <th>nome</th>\n      <th>Pop_est_2009</th>\n      <th>PIB</th>\n      <th>PIB_percapita</th>\n    </tr>\n  </thead>\n  <tbody>\n    <tr>\n      <th>0</th>\n      <td>BAHIA</td>\n      <td>Tremedal</td>\n      <td>18433</td>\n      <td>5.788399e+04</td>\n      <td>3140.239990</td>\n    </tr>\n    <tr>\n      <th>1</th>\n      <td>RIO GRANDE DO SUL</td>\n      <td>Turuçu</td>\n      <td>4000</td>\n      <td>4.572388e+04</td>\n      <td>11430.969727</td>\n    </tr>\n    <tr>\n      <th>2</th>\n      <td>ESPIRITO SANTO</td>\n      <td>Vitória</td>\n      <td>320156</td>\n      <td>1.978263e+07</td>\n      <td>61790.589844</td>\n    </tr>\n    <tr>\n      <th>3</th>\n      <td>MINAS GERAIS</td>\n      <td>Jacutinga</td>\n      <td>21424</td>\n      <td>2.478160e+05</td>\n      <td>11567.209961</td>\n    </tr>\n    <tr>\n      <th>4</th>\n      <td>PIAUÍ</td>\n      <td>Nazária</td>\n      <td>7895</td>\n      <td>2.095138e+04</td>\n      <td>2653.750000</td>\n    </tr>\n    <tr>\n      <th>...</th>\n      <td>...</td>\n      <td>...</td>\n      <td>...</td>\n      <td>...</td>\n      <td>...</td>\n    </tr>\n    <tr>\n      <th>5561</th>\n      <td>SANTA CATARINA</td>\n      <td>Campo Erê</td>\n      <td>9737</td>\n      <td>1.876289e+05</td>\n      <td>19269.679688</td>\n    </tr>\n    <tr>\n      <th>5562</th>\n      <td>PARANÁ</td>\n      <td>Planalto</td>\n      <td>13983</td>\n      <td>1.385535e+05</td>\n      <td>9908.709961</td>\n    </tr>\n    <tr>\n      <th>5563</th>\n      <td>SÃO PAULO</td>\n      <td>Guararapes</td>\n      <td>29639</td>\n      <td>5.320191e+05</td>\n      <td>17949.970703</td>\n    </tr>\n    <tr>\n      <th>5564</th>\n      <td>RIO GRANDE DO SUL</td>\n      <td>Barra do Guarita</td>\n      <td>3067</td>\n      <td>2.198064e+04</td>\n      <td>7166.819824</td>\n    </tr>\n    <tr>\n      <th>5565</th>\n      <td>RIO GRANDE DO SUL</td>\n      <td>Machadinho</td>\n      <td>5623</td>\n      <td>5.715017e+04</td>\n      <td>10163.639648</td>\n    </tr>\n  </tbody>\n</table>\n<p>5555 rows × 5 columns</p>\n</div>"
     },
     "metadata": {}
    }
   ],
   "execution_count": null
  },
  {
   "cell_type": "code",
   "metadata": {
    "id": "BRVLwHxHYq96",
    "cell_id": "00020-a8386395-1474-4ad5-aa83-88023ef7539a",
    "deepnote_to_be_reexecuted": false,
    "source_hash": "255c8500",
    "execution_start": 1639277412773,
    "execution_millis": 34,
    "deepnote_cell_type": "code"
   },
   "source": "# manipule os dados\n# continue o codigo aqui\ndados_df.columns = ['estado', 'cidade', 'populacao', 'pib','pib_percapita']\nprint(dados_df)\n",
   "outputs": [
    {
     "name": "stdout",
     "text": "                 estado            cidade  populacao           pib  \\\n0                 BAHIA          Tremedal      18433  5.788399e+04   \n1     RIO GRANDE DO SUL            Turuçu       4000  4.572388e+04   \n2        ESPIRITO SANTO           Vitória     320156  1.978263e+07   \n3          MINAS GERAIS         Jacutinga      21424  2.478160e+05   \n4                 PIAUÍ           Nazária       7895  2.095138e+04   \n...                 ...               ...        ...           ...   \n5561     SANTA CATARINA         Campo Erê       9737  1.876289e+05   \n5562             PARANÁ          Planalto      13983  1.385535e+05   \n5563          SÃO PAULO        Guararapes      29639  5.320191e+05   \n5564  RIO GRANDE DO SUL  Barra do Guarita       3067  2.198064e+04   \n5565  RIO GRANDE DO SUL        Machadinho       5623  5.715017e+04   \n\n      pib_percapita  \n0       3140.239990  \n1      11430.969727  \n2      61790.589844  \n3      11567.209961  \n4       2653.750000  \n...             ...  \n5561   19269.679688  \n5562    9908.709961  \n5563   17949.970703  \n5564    7166.819824  \n5565   10163.639648  \n\n[5555 rows x 5 columns]\n",
     "output_type": "stream"
    }
   ],
   "execution_count": null
  },
  {
   "cell_type": "code",
   "metadata": {
    "id": "GcAWBfwhYq96",
    "cell_id": "00021-29faca21-6226-4cb4-86ae-76ef60e5598c",
    "deepnote_to_be_reexecuted": false,
    "source_hash": "330e5a62",
    "execution_start": 1639277415802,
    "execution_millis": 153,
    "deepnote_output_heights": [
     382.20001220703125
    ],
    "deepnote_cell_type": "code"
   },
   "source": "# escrever o conteudo extraido no arquivo cidades-limpo.csv separados por ;\n\nNOME_ARQUIVO_DESTINO = './dados/dados-limpos.csv'\n\n# continue o codigo aqui\ndados_df.to_csv(NOME_ARQUIVO_DESTINO, sep=';')\n\ndados_lidos_df = pd.read_csv(NOME_ARQUIVO_DESTINO, delimiter=';', index_col=None)\n\ndados_lidos_df",
   "outputs": [
    {
     "output_type": "execute_result",
     "execution_count": 9,
     "data": {
      "application/vnd.deepnote.dataframe.v2+json": {
       "row_count": 5555,
       "column_count": 6,
       "columns": [
        {
         "name": "Unnamed: 0",
         "dtype": "int64",
         "stats": {
          "unique_count": 5555,
          "nan_count": 0,
          "min": "0",
          "max": "5565",
          "histogram": [
           {
            "bin_start": 0,
            "bin_end": 556.5,
            "count": 557
           },
           {
            "bin_start": 556.5,
            "bin_end": 1113,
            "count": 554
           },
           {
            "bin_start": 1113,
            "bin_end": 1669.5,
            "count": 557
           },
           {
            "bin_start": 1669.5,
            "bin_end": 2226,
            "count": 556
           },
           {
            "bin_start": 2226,
            "bin_end": 2782.5,
            "count": 555
           },
           {
            "bin_start": 2782.5,
            "bin_end": 3339,
            "count": 555
           },
           {
            "bin_start": 3339,
            "bin_end": 3895.5,
            "count": 553
           },
           {
            "bin_start": 3895.5,
            "bin_end": 4452,
            "count": 556
           },
           {
            "bin_start": 4452,
            "bin_end": 5008.5,
            "count": 556
           },
           {
            "bin_start": 5008.5,
            "bin_end": 5565,
            "count": 556
           }
          ]
         }
        },
        {
         "name": "estado",
         "dtype": "object",
         "stats": {
          "unique_count": 27,
          "nan_count": 0,
          "categories": [
           {
            "name": "MINAS GERAIS",
            "count": 853
           },
           {
            "name": "SÃO PAULO",
            "count": 642
           },
           {
            "name": "25 others",
            "count": 4060
           }
          ]
         }
        },
        {
         "name": "cidade",
         "dtype": "object",
         "stats": {
          "unique_count": 5285,
          "nan_count": 0,
          "categories": [
           {
            "name": "Bom Jesus",
            "count": 5
           },
           {
            "name": "São Domingos",
            "count": 5
           },
           {
            "name": "5283 others",
            "count": 5545
           }
          ]
         }
        },
        {
         "name": "populacao",
         "dtype": "int64",
         "stats": {
          "unique_count": 5067,
          "nan_count": 0,
          "min": "837",
          "max": "11037593",
          "histogram": [
           {
            "bin_start": 837,
            "bin_end": 1104512.6,
            "count": 5542
           },
           {
            "bin_start": 1104512.6,
            "bin_end": 2208188.2,
            "count": 7
           },
           {
            "bin_start": 2208188.2,
            "bin_end": 3311863.8000000003,
            "count": 4
           },
           {
            "bin_start": 3311863.8000000003,
            "bin_end": 4415539.4,
            "count": 0
           },
           {
            "bin_start": 4415539.4,
            "bin_end": 5519215,
            "count": 0
           },
           {
            "bin_start": 5519215,
            "bin_end": 6622890.600000001,
            "count": 1
           },
           {
            "bin_start": 6622890.600000001,
            "bin_end": 7726566.200000001,
            "count": 0
           },
           {
            "bin_start": 7726566.200000001,
            "bin_end": 8830241.8,
            "count": 0
           },
           {
            "bin_start": 8830241.8,
            "bin_end": 9933917.4,
            "count": 0
           },
           {
            "bin_start": 9933917.4,
            "bin_end": 11037593,
            "count": 1
           }
          ]
         }
        },
        {
         "name": "pib",
         "dtype": "float64",
         "stats": {
          "unique_count": 5554,
          "nan_count": 0,
          "min": "5770.28222656",
          "max": "389317152.0",
          "histogram": [
           {
            "bin_start": 5770.28222656,
            "bin_end": 38936908.45400391,
            "count": 5549
           },
           {
            "bin_start": 38936908.45400391,
            "bin_end": 77868046.62578125,
            "count": 3
           },
           {
            "bin_start": 77868046.62578125,
            "bin_end": 116799184.7975586,
            "count": 0
           },
           {
            "bin_start": 116799184.7975586,
            "bin_end": 155730322.96933594,
            "count": 1
           },
           {
            "bin_start": 155730322.96933594,
            "bin_end": 194661461.14111328,
            "count": 1
           },
           {
            "bin_start": 194661461.14111328,
            "bin_end": 233592599.31289065,
            "count": 0
           },
           {
            "bin_start": 233592599.31289065,
            "bin_end": 272523737.48466796,
            "count": 0
           },
           {
            "bin_start": 272523737.48466796,
            "bin_end": 311454875.6564453,
            "count": 0
           },
           {
            "bin_start": 311454875.6564453,
            "bin_end": 350386013.8282227,
            "count": 0
           },
           {
            "bin_start": 350386013.8282227,
            "bin_end": 389317152,
            "count": 1
           }
          ]
         }
        },
        {
         "name": "pib_percapita",
         "dtype": "float64",
         "stats": {
          "unique_count": 5544,
          "nan_count": 0,
          "min": "1929.9699707",
          "max": "360815.84375",
          "histogram": [
           {
            "bin_start": 1929.9699707,
            "bin_end": 37818.55734863,
            "count": 5438
           },
           {
            "bin_start": 37818.55734863,
            "bin_end": 73707.14472656,
            "count": 87
           },
           {
            "bin_start": 73707.14472656,
            "bin_end": 109595.73210449,
            "count": 21
           },
           {
            "bin_start": 109595.73210449,
            "bin_end": 145484.31948242002,
            "count": 4
           },
           {
            "bin_start": 145484.31948242002,
            "bin_end": 181372.90686035002,
            "count": 1
           },
           {
            "bin_start": 181372.90686035002,
            "bin_end": 217261.49423828002,
            "count": 3
           },
           {
            "bin_start": 217261.49423828002,
            "bin_end": 253150.08161621002,
            "count": 0
           },
           {
            "bin_start": 253150.08161621002,
            "bin_end": 289038.66899414,
            "count": 0
           },
           {
            "bin_start": 289038.66899414,
            "bin_end": 324927.25637207,
            "count": 0
           },
           {
            "bin_start": 324927.25637207,
            "bin_end": 360815.84375,
            "count": 1
           }
          ]
         }
        },
        {
         "name": "_deepnote_index_column",
         "dtype": "int64"
        }
       ],
       "rows_top": [
        {
         "Unnamed: 0": 0,
         "estado": "BAHIA",
         "cidade": "Tremedal",
         "populacao": 18433,
         "pib": 57883.9921875,
         "pib_percapita": 3140.23999023,
         "_deepnote_index_column": 0
        },
        {
         "Unnamed: 0": 1,
         "estado": "RIO GRANDE DO SUL",
         "cidade": "Turuçu",
         "populacao": 4000,
         "pib": 45723.875,
         "pib_percapita": 11430.96972656,
         "_deepnote_index_column": 1
        },
        {
         "Unnamed: 0": 2,
         "estado": "ESPIRITO SANTO",
         "cidade": "Vitória",
         "populacao": 320156,
         "pib": 19782628,
         "pib_percapita": 61790.58984375,
         "_deepnote_index_column": 2
        },
        {
         "Unnamed: 0": 3,
         "estado": "MINAS GERAIS",
         "cidade": "Jacutinga",
         "populacao": 21424,
         "pib": 247816,
         "pib_percapita": 11567.20996094,
         "_deepnote_index_column": 3
        },
        {
         "Unnamed: 0": 4,
         "estado": "PIAUÍ",
         "cidade": "Nazária",
         "populacao": 7895,
         "pib": 20951.38085938,
         "pib_percapita": 2653.75,
         "_deepnote_index_column": 4
        },
        {
         "Unnamed: 0": 5,
         "estado": "MINAS GERAIS",
         "cidade": "Pedra Azul",
         "populacao": 26000,
         "pib": 187523.671875,
         "pib_percapita": 7212.45019531,
         "_deepnote_index_column": 5
        },
        {
         "Unnamed: 0": 6,
         "estado": "PIAUÍ",
         "cidade": "Teresina",
         "populacao": 802537,
         "pib": 8700461,
         "pib_percapita": 10841.20019531,
         "_deepnote_index_column": 6
        },
        {
         "Unnamed: 0": 7,
         "estado": "PIAUÍ",
         "cidade": "Amarante",
         "populacao": 17892,
         "pib": 65322.88671875,
         "pib_percapita": 3650.94995117,
         "_deepnote_index_column": 7
        },
        {
         "Unnamed: 0": 8,
         "estado": "GOIÁS",
         "cidade": "Matrinchã",
         "populacao": 4420,
         "pib": 45910.546875,
         "pib_percapita": 10387,
         "_deepnote_index_column": 8
        },
        {
         "Unnamed: 0": 9,
         "estado": "PERNAMBUCO",
         "cidade": "Cachoeirinha",
         "populacao": 18123,
         "pib": 80433.8046875,
         "pib_percapita": 4438.22021484,
         "_deepnote_index_column": 9
        },
        {
         "Unnamed: 0": 10,
         "estado": "PARÁ",
         "cidade": "Afuá",
         "populacao": 32633,
         "pib": 100038.40625,
         "pib_percapita": 3065.56005859,
         "_deepnote_index_column": 10
        },
        {
         "Unnamed: 0": 11,
         "estado": "PERNAMBUCO",
         "cidade": "Fernando de Noronha",
         "populacao": 3108,
         "pib": 26980.71484375,
         "pib_percapita": 8681.04980469,
         "_deepnote_index_column": 11
        },
        {
         "Unnamed: 0": 12,
         "estado": "RIO GRANDE DO SUL",
         "cidade": "Frederico Westphalen",
         "populacao": 28428,
         "pib": 490769.53125,
         "pib_percapita": 17263.59960938,
         "_deepnote_index_column": 12
        },
        {
         "Unnamed: 0": 13,
         "estado": "SERGIPE",
         "cidade": "Amparo de São Francisco",
         "populacao": 2268,
         "pib": 12769.73339844,
         "pib_percapita": 5630.39013672,
         "_deepnote_index_column": 13
        },
        {
         "Unnamed: 0": 14,
         "estado": "SÃO PAULO",
         "cidade": "Itapeva",
         "populacao": 89768,
         "pib": 1120700,
         "pib_percapita": 12484.40039062,
         "_deepnote_index_column": 14
        },
        {
         "Unnamed: 0": 15,
         "estado": "PARAÍBA",
         "cidade": "Bayeux",
         "populacao": 96198,
         "pib": 604882.125,
         "pib_percapita": 6287.89013672,
         "_deepnote_index_column": 15
        },
        {
         "Unnamed: 0": 16,
         "estado": "TOCANTINS",
         "cidade": "Ananás",
         "populacao": 9514,
         "pib": 59541.40625,
         "pib_percapita": 6258.29003906,
         "_deepnote_index_column": 16
        },
        {
         "Unnamed: 0": 17,
         "estado": "MINAS GERAIS",
         "cidade": "Santo Antônio do Retiro",
         "populacao": 7087,
         "pib": 25568.890625,
         "pib_percapita": 3607.86010742,
         "_deepnote_index_column": 17
        },
        {
         "Unnamed: 0": 18,
         "estado": "PARAÍBA",
         "cidade": "Serra Branca",
         "populacao": 12816,
         "pib": 62123.3359375,
         "pib_percapita": 4847.33007812,
         "_deepnote_index_column": 18
        },
        {
         "Unnamed: 0": 19,
         "estado": "AMAZONAS",
         "cidade": "Envira",
         "populacao": 17614,
         "pib": 69843.03125,
         "pib_percapita": 3965.19995117,
         "_deepnote_index_column": 19
        },
        {
         "Unnamed: 0": 20,
         "estado": "TOCANTINS",
         "cidade": "Oliveira de Fátima",
         "populacao": 1129,
         "pib": 11591.94921875,
         "pib_percapita": 10267.45019531,
         "_deepnote_index_column": 20
        },
        {
         "Unnamed: 0": 21,
         "estado": "SÃO PAULO",
         "cidade": "Elisiário",
         "populacao": 3317,
         "pib": 52295.234375,
         "pib_percapita": 15765.8203125,
         "_deepnote_index_column": 21
        },
        {
         "Unnamed: 0": 22,
         "estado": "SANTA CATARINA",
         "cidade": "Otacílio Costa",
         "populacao": 16587,
         "pib": 364577.8125,
         "pib_percapita": 21979.73046875,
         "_deepnote_index_column": 22
        },
        {
         "Unnamed: 0": 23,
         "estado": "MINAS GERAIS",
         "cidade": "Sericita",
         "populacao": 7345,
         "pib": 39047.0703125,
         "pib_percapita": 5316.14013672,
         "_deepnote_index_column": 23
        },
        {
         "Unnamed: 0": 24,
         "estado": "MINAS GERAIS",
         "cidade": "Diamantina",
         "populacao": 46372,
         "pib": 287632.03125,
         "pib_percapita": 6202.70996094,
         "_deepnote_index_column": 24
        },
        {
         "Unnamed: 0": 25,
         "estado": "BAHIA",
         "cidade": "Maetinga",
         "populacao": 7884,
         "pib": 23558.44726562,
         "pib_percapita": 2988.12988281,
         "_deepnote_index_column": 25
        },
        {
         "Unnamed: 0": 26,
         "estado": "CEARÁ",
         "cidade": "Iracema",
         "populacao": 15114,
         "pib": 62552.0234375,
         "pib_percapita": 4138.68017578,
         "_deepnote_index_column": 26
        },
        {
         "Unnamed: 0": 27,
         "estado": "RORAIMA",
         "cidade": "São João da Baliza",
         "populacao": 6028,
         "pib": 59372.453125,
         "pib_percapita": 9849.45019531,
         "_deepnote_index_column": 27
        },
        {
         "Unnamed: 0": 28,
         "estado": "RIO GRANDE DO SUL",
         "cidade": "Paulo Bento",
         "populacao": 2149,
         "pib": 37882.76953125,
         "pib_percapita": 17628.08984375,
         "_deepnote_index_column": 28
        },
        {
         "Unnamed: 0": 29,
         "estado": "PERNAMBUCO",
         "cidade": "Alagoinha",
         "populacao": 14913,
         "pib": 57886.21484375,
         "pib_percapita": 3881.59008789,
         "_deepnote_index_column": 29
        },
        {
         "Unnamed: 0": 30,
         "estado": "PIAUÍ",
         "cidade": "Inhuma",
         "populacao": 15490,
         "pib": 62012.0234375,
         "pib_percapita": 4003.36010742,
         "_deepnote_index_column": 30
        },
        {
         "Unnamed: 0": 31,
         "estado": "MARANHÃO",
         "cidade": "Joselândia",
         "populacao": 16188,
         "pib": 60842.48046875,
         "pib_percapita": 3758.48999023,
         "_deepnote_index_column": 31
        },
        {
         "Unnamed: 0": 32,
         "estado": "RIO DE JANEIRO",
         "cidade": "Itaguaí",
         "populacao": 105633,
         "pib": 3008327.25,
         "pib_percapita": 28479.05078125,
         "_deepnote_index_column": 32
        },
        {
         "Unnamed: 0": 33,
         "estado": "MINAS GERAIS",
         "cidade": "Cedro do Abaeté",
         "populacao": 1221,
         "pib": 10221.85644531,
         "pib_percapita": 8371.70996094,
         "_deepnote_index_column": 33
        },
        {
         "Unnamed: 0": 34,
         "estado": "RIO GRANDE DO SUL",
         "cidade": "Cacequi",
         "populacao": 13578,
         "pib": 174171.703125,
         "pib_percapita": 12827.49023438,
         "_deepnote_index_column": 34
        },
        {
         "Unnamed: 0": 35,
         "estado": "PERNAMBUCO",
         "cidade": "Barra de Guabiraba",
         "populacao": 13623,
         "pib": 46595.87109375,
         "pib_percapita": 3420.37988281,
         "_deepnote_index_column": 35
        },
        {
         "Unnamed: 0": 36,
         "estado": "BAHIA",
         "cidade": "Ibirapuã",
         "populacao": 7893,
         "pib": 74997.40625,
         "pib_percapita": 9501.75976562,
         "_deepnote_index_column": 36
        },
        {
         "Unnamed: 0": 37,
         "estado": "PARAÍBA",
         "cidade": "Bernardino Batista",
         "populacao": 3315,
         "pib": 11964.66210938,
         "pib_percapita": 3609.25,
         "_deepnote_index_column": 37
        },
        {
         "Unnamed: 0": 38,
         "estado": "PARAÍBA",
         "cidade": "Lagoa",
         "populacao": 4949,
         "pib": 19203.7109375,
         "pib_percapita": 3880.32006836,
         "_deepnote_index_column": 38
        },
        {
         "Unnamed: 0": 39,
         "estado": "MATO GROSSO",
         "cidade": "Novo Horizonte do Norte",
         "populacao": 3970,
         "pib": 32778.5078125,
         "pib_percapita": 8256.54980469,
         "_deepnote_index_column": 39
        },
        {
         "Unnamed: 0": 40,
         "estado": "MINAS GERAIS",
         "cidade": "Nova Lima",
         "populacao": 76608,
         "pib": 2120726.75,
         "pib_percapita": 27682.83984375,
         "_deepnote_index_column": 40
        },
        {
         "Unnamed: 0": 41,
         "estado": "PARÁ",
         "cidade": "Tomé-Açu",
         "populacao": 48607,
         "pib": 226379.46875,
         "pib_percapita": 4657.33984375,
         "_deepnote_index_column": 41
        },
        {
         "Unnamed: 0": 42,
         "estado": "BAHIA",
         "cidade": "Governador Mangabeira",
         "populacao": 20668,
         "pib": 92903.8203125,
         "pib_percapita": 4495.06005859,
         "_deepnote_index_column": 42
        },
        {
         "Unnamed: 0": 43,
         "estado": "PIAUÍ",
         "cidade": "Aroeiras do Itaim",
         "populacao": 2759,
         "pib": 8614.79785156,
         "pib_percapita": 3122.42993164,
         "_deepnote_index_column": 43
        },
        {
         "Unnamed: 0": 44,
         "estado": "GOIÁS",
         "cidade": "Perolândia",
         "populacao": 2830,
         "pib": 145665.390625,
         "pib_percapita": 51471.87109375,
         "_deepnote_index_column": 44
        },
        {
         "Unnamed: 0": 45,
         "estado": "PARAÍBA",
         "cidade": "Pocinhos",
         "populacao": 16538,
         "pib": 68767.046875,
         "pib_percapita": 4158.12011719,
         "_deepnote_index_column": 45
        },
        {
         "Unnamed: 0": 46,
         "estado": "BAHIA",
         "cidade": "Ibititá",
         "populacao": 19410,
         "pib": 62366.88671875,
         "pib_percapita": 3213.12988281,
         "_deepnote_index_column": 46
        },
        {
         "Unnamed: 0": 47,
         "estado": "TOCANTINS",
         "cidade": "Aliança do Tocantins",
         "populacao": 5822,
         "pib": 44565.703125,
         "pib_percapita": 7654.70996094,
         "_deepnote_index_column": 47
        },
        {
         "Unnamed: 0": 48,
         "estado": "MINAS GERAIS",
         "cidade": "Igarapé",
         "populacao": 33773,
         "pib": 277495.78125,
         "pib_percapita": 8216.5,
         "_deepnote_index_column": 48
        },
        {
         "Unnamed: 0": 49,
         "estado": "TOCANTINS",
         "cidade": "Lagoa da Confusão",
         "populacao": 8711,
         "pib": 263527.4375,
         "pib_percapita": 30252.25976562,
         "_deepnote_index_column": 49
        },
        {
         "Unnamed: 0": 50,
         "estado": "PARAÍBA",
         "cidade": "Puxinanã",
         "populacao": 13354,
         "pib": 59902.4921875,
         "pib_percapita": 4485.72998047,
         "_deepnote_index_column": 50
        },
        {
         "Unnamed: 0": 51,
         "estado": "SÃO PAULO",
         "cidade": "Guarujá",
         "populacao": 308058,
         "pib": 3429098.5,
         "pib_percapita": 11131.33984375,
         "_deepnote_index_column": 51
        },
        {
         "Unnamed: 0": 52,
         "estado": "RIO GRANDE DO SUL",
         "cidade": "Engenho Velho",
         "populacao": 1467,
         "pib": 24098.88671875,
         "pib_percapita": 16427.33007812,
         "_deepnote_index_column": 52
        },
        {
         "Unnamed: 0": 53,
         "estado": "PARANÁ",
         "cidade": "Rio Bom",
         "populacao": 3292,
         "pib": 29087.8984375,
         "pib_percapita": 8835.9296875,
         "_deepnote_index_column": 53
        },
        {
         "Unnamed: 0": 54,
         "estado": "BAHIA",
         "cidade": "Sátiro Dias",
         "populacao": 18919,
         "pib": 75908.4609375,
         "pib_percapita": 4012.29003906,
         "_deepnote_index_column": 54
        },
        {
         "Unnamed: 0": 55,
         "estado": "SANTA CATARINA",
         "cidade": "José Boiteux",
         "populacao": 5054,
         "pib": 50867.8984375,
         "pib_percapita": 10064.87988281,
         "_deepnote_index_column": 55
        },
        {
         "Unnamed: 0": 56,
         "estado": "PARÁ",
         "cidade": "Cachoeira do Arari",
         "populacao": 20411,
         "pib": 62800.12890625,
         "pib_percapita": 3076.7800293,
         "_deepnote_index_column": 56
        },
        {
         "Unnamed: 0": 57,
         "estado": "BAHIA",
         "cidade": "Irajuba",
         "populacao": 7666,
         "pib": 29224.98828125,
         "pib_percapita": 3812.29003906,
         "_deepnote_index_column": 57
        },
        {
         "Unnamed: 0": 58,
         "estado": "PERNAMBUCO",
         "cidade": "Palmares",
         "populacao": 58819,
         "pib": 387086.59375,
         "pib_percapita": 6580.97998047,
         "_deepnote_index_column": 58
        },
        {
         "Unnamed: 0": 59,
         "estado": "SERGIPE",
         "cidade": "Brejo Grande",
         "populacao": 8086,
         "pib": 39924.37890625,
         "pib_percapita": 4937.47021484,
         "_deepnote_index_column": 59
        },
        {
         "Unnamed: 0": 60,
         "estado": "PARANÁ",
         "cidade": "Altamira do Paraná",
         "populacao": 3799,
         "pib": 37563.4296875,
         "pib_percapita": 9887.71972656,
         "_deepnote_index_column": 60
        },
        {
         "Unnamed: 0": 61,
         "estado": "MATO GROSSO",
         "cidade": "Nova Santa Helena",
         "populacao": 3473,
         "pib": 49004,
         "pib_percapita": 14109.99023438,
         "_deepnote_index_column": 61
        },
        {
         "Unnamed: 0": 62,
         "estado": "PARAÍBA",
         "cidade": "São Sebastião do Umbuzeiro",
         "populacao": 3170,
         "pib": 15186.453125,
         "pib_percapita": 4790.68017578,
         "_deepnote_index_column": 62
        },
        {
         "Unnamed: 0": 63,
         "estado": "MATO GROSSO",
         "cidade": "Nova Guarita",
         "populacao": 4907,
         "pib": 45700.81640625,
         "pib_percapita": 9313.38964844,
         "_deepnote_index_column": 63
        },
        {
         "Unnamed: 0": 64,
         "estado": "MARANHÃO",
         "cidade": "Serrano do Maranhão",
         "populacao": 11085,
         "pib": 40995.56640625,
         "pib_percapita": 3698.29003906,
         "_deepnote_index_column": 64
        },
        {
         "Unnamed: 0": 65,
         "estado": "SÃO PAULO",
         "cidade": "Pedrinhas Paulista",
         "populacao": 2927,
         "pib": 75881.6875,
         "pib_percapita": 25924.73046875,
         "_deepnote_index_column": 65
        },
        {
         "Unnamed: 0": 66,
         "estado": "GOIÁS",
         "cidade": "Santa Rita do Novo Destino",
         "populacao": 3576,
         "pib": 29350.61328125,
         "pib_percapita": 8207.66992188,
         "_deepnote_index_column": 66
        },
        {
         "Unnamed: 0": 67,
         "estado": "PARAÍBA",
         "cidade": "Cabedelo",
         "populacao": 51865,
         "pib": 2332828.25,
         "pib_percapita": 44978.8515625,
         "_deepnote_index_column": 67
        },
        {
         "Unnamed: 0": 68,
         "estado": "PERNAMBUCO",
         "cidade": "Cabrobó",
         "populacao": 30432,
         "pib": 188859.3125,
         "pib_percapita": 6205.95019531,
         "_deepnote_index_column": 68
        },
        {
         "Unnamed: 0": 69,
         "estado": "ALAGOAS",
         "cidade": "Dois Riachos",
         "populacao": 11200,
         "pib": 35078.25390625,
         "pib_percapita": 3131.98999023,
         "_deepnote_index_column": 69
        },
        {
         "Unnamed: 0": 70,
         "estado": "MATO GROSSO DO SUL",
         "cidade": "Corumbá",
         "populacao": 99467,
         "pib": 2715506.75,
         "pib_percapita": 27300.58007812,
         "_deepnote_index_column": 70
        },
        {
         "Unnamed: 0": 71,
         "estado": "MINAS GERAIS",
         "cidade": "Santa Maria do Suaçuí",
         "populacao": 14931,
         "pib": 71374.390625,
         "pib_percapita": 4780.27978516,
         "_deepnote_index_column": 71
        },
        {
         "Unnamed: 0": 72,
         "estado": "MATO GROSSO",
         "cidade": "Tapurah",
         "populacao": 11517,
         "pib": 321427.21875,
         "pib_percapita": 27908.93945312,
         "_deepnote_index_column": 72
        },
        {
         "Unnamed: 0": 73,
         "estado": "PARÁ",
         "cidade": "Bragança",
         "populacao": 107060,
         "pib": 382807.5625,
         "pib_percapita": 3575.63989258,
         "_deepnote_index_column": 73
        },
        {
         "Unnamed: 0": 74,
         "estado": "RIO DE JANEIRO",
         "cidade": "Três Rios",
         "populacao": 76075,
         "pib": 1304643.375,
         "pib_percapita": 17149.43945312,
         "_deepnote_index_column": 74
        },
        {
         "Unnamed: 0": 75,
         "estado": "ALAGOAS",
         "cidade": "Belém",
         "populacao": 5083,
         "pib": 19550.015625,
         "pib_percapita": 3846.15991211,
         "_deepnote_index_column": 75
        },
        {
         "Unnamed: 0": 76,
         "estado": "CEARÁ",
         "cidade": "Abaiara",
         "populacao": 11077,
         "pib": 33615.54296875,
         "pib_percapita": 3034.7199707,
         "_deepnote_index_column": 76
        },
        {
         "Unnamed: 0": 77,
         "estado": "BAHIA",
         "cidade": "Itaquara",
         "populacao": 7743,
         "pib": 33105.69921875,
         "pib_percapita": 4275.56982422,
         "_deepnote_index_column": 77
        },
        {
         "Unnamed: 0": 78,
         "estado": "MARANHÃO",
         "cidade": "Santa Luzia",
         "populacao": 71455,
         "pib": 243949.921875,
         "pib_percapita": 3414.04003906,
         "_deepnote_index_column": 78
        },
        {
         "Unnamed: 0": 79,
         "estado": "PARAÍBA",
         "cidade": "Patos",
         "populacao": 100732,
         "pib": 615180.875,
         "pib_percapita": 6107.10009766,
         "_deepnote_index_column": 79
        },
        {
         "Unnamed: 0": 80,
         "estado": "SÃO PAULO",
         "cidade": "São Luís do Paraitinga",
         "populacao": 10908,
         "pib": 82827.171875,
         "pib_percapita": 7593.25,
         "_deepnote_index_column": 80
        },
        {
         "Unnamed: 0": 81,
         "estado": "SANTA CATARINA",
         "cidade": "Cordilheira Alta",
         "populacao": 3531,
         "pib": 128883.09375,
         "pib_percapita": 36500.44921875,
         "_deepnote_index_column": 81
        },
        {
         "Unnamed: 0": 82,
         "estado": "MINAS GERAIS",
         "cidade": "Catas Altas da Noruega",
         "populacao": 3573,
         "pib": 14633.55566406,
         "pib_percapita": 4095.59008789,
         "_deepnote_index_column": 82
        }
       ],
       "rows_bottom": [
        {
         "Unnamed: 0": 5483,
         "estado": "MINAS GERAIS",
         "cidade": "Cabo Verde",
         "populacao": 14042,
         "pib": 128103.40625,
         "pib_percapita": 9122.87011719,
         "_deepnote_index_column": 5472
        },
        {
         "Unnamed: 0": 5484,
         "estado": "SÃO PAULO",
         "cidade": "Teodoro Sampaio",
         "populacao": 21202,
         "pib": 222923.21875,
         "pib_percapita": 10514.25,
         "_deepnote_index_column": 5473
        },
        {
         "Unnamed: 0": 5485,
         "estado": "PARÁ",
         "cidade": "Ipixuna do Pará",
         "populacao": 44396,
         "pib": 220101.859375,
         "pib_percapita": 4957.70019531,
         "_deepnote_index_column": 5474
        },
        {
         "Unnamed: 0": 5486,
         "estado": "RIO GRANDE DO NORTE",
         "cidade": "São Miguel do Gostoso",
         "populacao": 9240,
         "pib": 48024.87109375,
         "pib_percapita": 5197.5,
         "_deepnote_index_column": 5475
        },
        {
         "Unnamed: 0": 5487,
         "estado": "MINAS GERAIS",
         "cidade": "Piraúba",
         "populacao": 10931,
         "pib": 62621.69921875,
         "pib_percapita": 5728.81982422,
         "_deepnote_index_column": 5476
        },
        {
         "Unnamed: 0": 5488,
         "estado": "PARANÁ",
         "cidade": "Reserva",
         "populacao": 25148,
         "pib": 231634,
         "pib_percapita": 9210.83007812,
         "_deepnote_index_column": 5477
        },
        {
         "Unnamed: 0": 5489,
         "estado": "RIO DE JANEIRO",
         "cidade": "Paty do Alferes",
         "populacao": 26196,
         "pib": 249084.640625,
         "pib_percapita": 9508.5,
         "_deepnote_index_column": 5478
        },
        {
         "Unnamed: 0": 5490,
         "estado": "MATO GROSSO",
         "cidade": "Alto Garças",
         "populacao": 9550,
         "pib": 250193.453125,
         "pib_percapita": 26198.26953125,
         "_deepnote_index_column": 5479
        },
        {
         "Unnamed: 0": 5491,
         "estado": "PARÁ",
         "cidade": "Água Azul do Norte",
         "populacao": 31216,
         "pib": 187433.203125,
         "pib_percapita": 6004.39990234,
         "_deepnote_index_column": 5480
        },
        {
         "Unnamed: 0": 5492,
         "estado": "PARÁ",
         "cidade": "Vitória do Xingu",
         "populacao": 9664,
         "pib": 68070.3671875,
         "pib_percapita": 7043.70996094,
         "_deepnote_index_column": 5481
        },
        {
         "Unnamed: 0": 5493,
         "estado": "SÃO PAULO",
         "cidade": "Castilho",
         "populacao": 16165,
         "pib": 641493.875,
         "pib_percapita": 39684.12109375,
         "_deepnote_index_column": 5482
        },
        {
         "Unnamed: 0": 5494,
         "estado": "CEARÁ",
         "cidade": "Camocim",
         "populacao": 61278,
         "pib": 264770.375,
         "pib_percapita": 4320.81005859,
         "_deepnote_index_column": 5483
        },
        {
         "Unnamed: 0": 5495,
         "estado": "MINAS GERAIS",
         "cidade": "São José da Barra",
         "populacao": 7090,
         "pib": 301047.03125,
         "pib_percapita": 42460.80078125,
         "_deepnote_index_column": 5484
        },
        {
         "Unnamed: 0": 5496,
         "estado": "MINAS GERAIS",
         "cidade": "José Gonçalves de Minas",
         "populacao": 4662,
         "pib": 19598.85742188,
         "pib_percapita": 4203.95996094,
         "_deepnote_index_column": 5485
        },
        {
         "Unnamed: 0": 5497,
         "estado": "RIO GRANDE DO SUL",
         "cidade": "Quaraí",
         "populacao": 22883,
         "pib": 235271.359375,
         "pib_percapita": 10281.49023438,
         "_deepnote_index_column": 5486
        },
        {
         "Unnamed: 0": 5498,
         "estado": "MARANHÃO",
         "cidade": "Turilândia",
         "populacao": 21102,
         "pib": 70475.25,
         "pib_percapita": 3339.73999023,
         "_deepnote_index_column": 5487
        },
        {
         "Unnamed: 0": 5499,
         "estado": "PARAÍBA",
         "cidade": "Cacimbas",
         "populacao": 7029,
         "pib": 23764.69140625,
         "pib_percapita": 3380.94995117,
         "_deepnote_index_column": 5488
        },
        {
         "Unnamed: 0": 5500,
         "estado": "SANTA CATARINA",
         "cidade": "Lindóia do Sul",
         "populacao": 4662,
         "pib": 102623.84375,
         "pib_percapita": 22012.83984375,
         "_deepnote_index_column": 5489
        },
        {
         "Unnamed: 0": 5501,
         "estado": "MARANHÃO",
         "cidade": "Arame",
         "populacao": 27750,
         "pib": 97223.8828125,
         "pib_percapita": 3503.56005859,
         "_deepnote_index_column": 5490
        },
        {
         "Unnamed: 0": 5502,
         "estado": "PERNAMBUCO",
         "cidade": "Timbaúba",
         "populacao": 51770,
         "pib": 385873.625,
         "pib_percapita": 7453.60986328,
         "_deepnote_index_column": 5491
        },
        {
         "Unnamed: 0": 5503,
         "estado": "BAHIA",
         "cidade": "São Felipe",
         "populacao": 20952,
         "pib": 80595.3125,
         "pib_percapita": 3846.65991211,
         "_deepnote_index_column": 5492
        },
        {
         "Unnamed: 0": 5504,
         "estado": "TOCANTINS",
         "cidade": "Bandeirantes do Tocantins",
         "populacao": 2807,
         "pib": 49490.6015625,
         "pib_percapita": 17631.140625,
         "_deepnote_index_column": 5493
        },
        {
         "Unnamed: 0": 5505,
         "estado": "MINAS GERAIS",
         "cidade": "Tocantins",
         "populacao": 16408,
         "pib": 118708.8828125,
         "pib_percapita": 7234.81982422,
         "_deepnote_index_column": 5494
        },
        {
         "Unnamed: 0": 5506,
         "estado": "PARANÁ",
         "cidade": "Assaí",
         "populacao": 16112,
         "pib": 206111.453125,
         "pib_percapita": 12792.41992188,
         "_deepnote_index_column": 5495
        },
        {
         "Unnamed: 0": 5507,
         "estado": "MINAS GERAIS",
         "cidade": "São Domingos do Prata",
         "populacao": 17857,
         "pib": 114706.9375,
         "pib_percapita": 6423.64013672,
         "_deepnote_index_column": 5496
        },
        {
         "Unnamed: 0": 5508,
         "estado": "SÃO PAULO",
         "cidade": "Andradina",
         "populacao": 56593,
         "pib": 949487.5,
         "pib_percapita": 16777.47070312,
         "_deepnote_index_column": 5497
        },
        {
         "Unnamed: 0": 5509,
         "estado": "PARÁ",
         "cidade": "Santarém",
         "populacao": 276665,
         "pib": 1765658.375,
         "pib_percapita": 6381.93994141,
         "_deepnote_index_column": 5498
        },
        {
         "Unnamed: 0": 5510,
         "estado": "TOCANTINS",
         "cidade": "Palmeirante",
         "populacao": 4959,
         "pib": 68965.03125,
         "pib_percapita": 13907.04003906,
         "_deepnote_index_column": 5499
        },
        {
         "Unnamed: 0": 5511,
         "estado": "TOCANTINS",
         "cidade": "Cachoeirinha",
         "populacao": 2255,
         "pib": 12054.81054688,
         "pib_percapita": 5345.81005859,
         "_deepnote_index_column": 5500
        },
        {
         "Unnamed: 0": 5512,
         "estado": "MINAS GERAIS",
         "cidade": "Santa Rita do Itueto",
         "populacao": 5739,
         "pib": 55208.68359375,
         "pib_percapita": 9619.91015625,
         "_deepnote_index_column": 5501
        },
        {
         "Unnamed: 0": 5513,
         "estado": "RIO GRANDE DO SUL",
         "cidade": "David Canabarro",
         "populacao": 4857,
         "pib": 75632.625,
         "pib_percapita": 15571.87988281,
         "_deepnote_index_column": 5502
        },
        {
         "Unnamed: 0": 5514,
         "estado": "PARAÍBA",
         "cidade": "Logradouro",
         "populacao": 3971,
         "pib": 15182.88671875,
         "pib_percapita": 3823.43994141,
         "_deepnote_index_column": 5503
        },
        {
         "Unnamed: 0": 5515,
         "estado": "RIO DE JANEIRO",
         "cidade": "São José de Ubá",
         "populacao": 7297,
         "pib": 82136.6953125,
         "pib_percapita": 11256.23046875,
         "_deepnote_index_column": 5504
        },
        {
         "Unnamed: 0": 5516,
         "estado": "SÃO PAULO",
         "cidade": "Paraíso",
         "populacao": 5816,
         "pib": 70899.6484375,
         "pib_percapita": 12190.45019531,
         "_deepnote_index_column": 5505
        },
        {
         "Unnamed: 0": 5517,
         "estado": "PIAUÍ",
         "cidade": "Lagoa do Barro do Piauí",
         "populacao": 4692,
         "pib": 15677.51660156,
         "pib_percapita": 3341.33007812,
         "_deepnote_index_column": 5506
        },
        {
         "Unnamed: 0": 5518,
         "estado": "GOIÁS",
         "cidade": "Pirenópolis",
         "populacao": 20945,
         "pib": 182077.4375,
         "pib_percapita": 8693.12011719,
         "_deepnote_index_column": 5507
        },
        {
         "Unnamed: 0": 5519,
         "estado": "PARAÍBA",
         "cidade": "Carrapateira",
         "populacao": 2347,
         "pib": 10328.57910156,
         "pib_percapita": 4400.75976562,
         "_deepnote_index_column": 5508
        },
        {
         "Unnamed: 0": 5520,
         "estado": "GOIÁS",
         "cidade": "Porteirão",
         "populacao": 3158,
         "pib": 144554.84375,
         "pib_percapita": 45774.1796875,
         "_deepnote_index_column": 5509
        },
        {
         "Unnamed: 0": 5521,
         "estado": "SANTA CATARINA",
         "cidade": "Massaranduba",
         "populacao": 14500,
         "pib": 258986.640625,
         "pib_percapita": 17861.15039062,
         "_deepnote_index_column": 5510
        },
        {
         "Unnamed: 0": 5522,
         "estado": "TOCANTINS",
         "cidade": "Pium",
         "populacao": 6701,
         "pib": 76991.0546875,
         "pib_percapita": 11489.49023438,
         "_deepnote_index_column": 5511
        },
        {
         "Unnamed: 0": 5523,
         "estado": "MINAS GERAIS",
         "cidade": "Pequeri",
         "populacao": 3093,
         "pib": 23474.00390625,
         "pib_percapita": 7589.39990234,
         "_deepnote_index_column": 5512
        },
        {
         "Unnamed: 0": 5524,
         "estado": "PARÁ",
         "cidade": "Bannach",
         "populacao": 3947,
         "pib": 30876.3671875,
         "pib_percapita": 7822.74023438,
         "_deepnote_index_column": 5513
        },
        {
         "Unnamed: 0": 5525,
         "estado": "SÃO PAULO",
         "cidade": "Cândido Mota",
         "populacao": 30776,
         "pib": 442409.15625,
         "pib_percapita": 14375.13964844,
         "_deepnote_index_column": 5514
        },
        {
         "Unnamed: 0": 5526,
         "estado": "SÃO PAULO",
         "cidade": "Mineiros do Tietê",
         "populacao": 12334,
         "pib": 98549.375,
         "pib_percapita": 7990.06005859,
         "_deepnote_index_column": 5515
        },
        {
         "Unnamed: 0": 5527,
         "estado": "SANTA CATARINA",
         "cidade": "Ouro",
         "populacao": 7231,
         "pib": 82298.9765625,
         "pib_percapita": 11381.41015625,
         "_deepnote_index_column": 5516
        },
        {
         "Unnamed: 0": 5528,
         "estado": "MATO GROSSO",
         "cidade": "Nossa Senhora do Livramento",
         "populacao": 12819,
         "pib": 98371.2265625,
         "pib_percapita": 7673.85986328,
         "_deepnote_index_column": 5517
        },
        {
         "Unnamed: 0": 5529,
         "estado": "BAHIA",
         "cidade": "Nazaré",
         "populacao": 27427,
         "pib": 136208.3125,
         "pib_percapita": 4966.20996094,
         "_deepnote_index_column": 5518
        },
        {
         "Unnamed: 0": 5530,
         "estado": "SÃO PAULO",
         "cidade": "Santa Gertrudes",
         "populacao": 21028,
         "pib": 368870.34375,
         "pib_percapita": 17541.859375,
         "_deepnote_index_column": 5519
        },
        {
         "Unnamed: 0": 5531,
         "estado": "PARAÍBA",
         "cidade": "Manaíra",
         "populacao": 11366,
         "pib": 37588.046875,
         "pib_percapita": 3307.06005859,
         "_deepnote_index_column": 5520
        },
        {
         "Unnamed: 0": 5532,
         "estado": "MINAS GERAIS",
         "cidade": "Nacip Raydan",
         "populacao": 3015,
         "pib": 16007.75878906,
         "pib_percapita": 5309.37011719,
         "_deepnote_index_column": 5521
        },
        {
         "Unnamed: 0": 5533,
         "estado": "SANTA CATARINA",
         "cidade": "Campo Belo do Sul",
         "populacao": 8212,
         "pib": 95864.1484375,
         "pib_percapita": 11673.66992188,
         "_deepnote_index_column": 5522
        },
        {
         "Unnamed: 0": 5534,
         "estado": "PARANÁ",
         "cidade": "Carlópolis",
         "populacao": 13581,
         "pib": 106915.7578125,
         "pib_percapita": 7872.45019531,
         "_deepnote_index_column": 5523
        },
        {
         "Unnamed: 0": 5535,
         "estado": "GOIÁS",
         "cidade": "Formoso",
         "populacao": 5327,
         "pib": 30976.59960938,
         "pib_percapita": 5815.02001953,
         "_deepnote_index_column": 5524
        },
        {
         "Unnamed: 0": 5536,
         "estado": "PARANÁ",
         "cidade": "Três Barras do Paraná",
         "populacao": 12088,
         "pib": 132651.53125,
         "pib_percapita": 10973.8203125,
         "_deepnote_index_column": 5525
        },
        {
         "Unnamed: 0": 5537,
         "estado": "PERNAMBUCO",
         "cidade": "Gameleira",
         "populacao": 27823,
         "pib": 102698.8984375,
         "pib_percapita": 3691.14990234,
         "_deepnote_index_column": 5526
        },
        {
         "Unnamed: 0": 5538,
         "estado": "PARÁ",
         "cidade": "São Miguel do Guamá",
         "populacao": 44818,
         "pib": 171330.625,
         "pib_percapita": 3822.81005859,
         "_deepnote_index_column": 5527
        },
        {
         "Unnamed: 0": 5539,
         "estado": "MINAS GERAIS",
         "cidade": "Nova Ponte",
         "populacao": 12504,
         "pib": 468149.4375,
         "pib_percapita": 37439.96875,
         "_deepnote_index_column": 5528
        },
        {
         "Unnamed: 0": 5540,
         "estado": "PARÁ",
         "cidade": "Oeiras do Pará",
         "populacao": 26796,
         "pib": 89607.3984375,
         "pib_percapita": 3344.06005859,
         "_deepnote_index_column": 5529
        },
        {
         "Unnamed: 0": 5541,
         "estado": "MINAS GERAIS",
         "cidade": "São Gonçalo do Sapucaí",
         "populacao": 23627,
         "pib": 288685.75,
         "pib_percapita": 12218.46972656,
         "_deepnote_index_column": 5530
        },
        {
         "Unnamed: 0": 5542,
         "estado": "MINAS GERAIS",
         "cidade": "Barbacena",
         "populacao": 128572,
         "pib": 1335419.625,
         "pib_percapita": 10386.54980469,
         "_deepnote_index_column": 5531
        },
        {
         "Unnamed: 0": 5543,
         "estado": "SÃO PAULO",
         "cidade": "Gabriel Monteiro",
         "populacao": 2698,
         "pib": 69091.734375,
         "pib_percapita": 25608.5,
         "_deepnote_index_column": 5532
        },
        {
         "Unnamed: 0": 5544,
         "estado": "RORAIMA",
         "cidade": "Uiramutã",
         "populacao": 7934,
         "pib": 53429.1328125,
         "pib_percapita": 6734.20019531,
         "_deepnote_index_column": 5533
        },
        {
         "Unnamed: 0": 5545,
         "estado": "RIO DE JANEIRO",
         "cidade": "Magé",
         "populacao": 244334,
         "pib": 1843262.5,
         "pib_percapita": 7544.02978516,
         "_deepnote_index_column": 5534
        },
        {
         "Unnamed: 0": 5546,
         "estado": "PIAUÍ",
         "cidade": "Bertolínia",
         "populacao": 5484,
         "pib": 28672.76757812,
         "pib_percapita": 5228.43994141,
         "_deepnote_index_column": 5535
        },
        {
         "Unnamed: 0": 5547,
         "estado": "SANTA CATARINA",
         "cidade": "Tangará",
         "populacao": 8611,
         "pib": 193337.234375,
         "pib_percapita": 22452.359375,
         "_deepnote_index_column": 5536
        },
        {
         "Unnamed: 0": 5548,
         "estado": "CEARÁ",
         "cidade": "Quixeré",
         "populacao": 19772,
         "pib": 135489.28125,
         "pib_percapita": 6852.58007812,
         "_deepnote_index_column": 5537
        },
        {
         "Unnamed: 0": 5549,
         "estado": "SANTA CATARINA",
         "cidade": "Rio do Oeste",
         "populacao": 7033,
         "pib": 128651.765625,
         "pib_percapita": 18292.58984375,
         "_deepnote_index_column": 5538
        },
        {
         "Unnamed: 0": 5550,
         "estado": "SÃO PAULO",
         "cidade": "Garça",
         "populacao": 43380,
         "pib": 613207.25,
         "pib_percapita": 14135.70996094,
         "_deepnote_index_column": 5539
        },
        {
         "Unnamed: 0": 5551,
         "estado": "RIO GRANDE DO SUL",
         "cidade": "Saldanha Marinho",
         "populacao": 3019,
         "pib": 72683.40625,
         "pib_percapita": 24075.3203125,
         "_deepnote_index_column": 5540
        },
        {
         "Unnamed: 0": 5552,
         "estado": "AMAZONAS",
         "cidade": "Lábrea",
         "populacao": 39393,
         "pib": 394562.34375,
         "pib_percapita": 10016.04980469,
         "_deepnote_index_column": 5541
        },
        {
         "Unnamed: 0": 5553,
         "estado": "PARÁ",
         "cidade": "Santa Maria do Pará",
         "populacao": 23202,
         "pib": 99888.1484375,
         "pib_percapita": 4305.14990234,
         "_deepnote_index_column": 5542
        },
        {
         "Unnamed: 0": 5554,
         "estado": "MINAS GERAIS",
         "cidade": "São Francisco do Glória",
         "populacao": 5685,
         "pib": 32376.13085938,
         "pib_percapita": 5695.00976562,
         "_deepnote_index_column": 5543
        },
        {
         "Unnamed: 0": 5555,
         "estado": "RIO DE JANEIRO",
         "cidade": "São João da Barra",
         "populacao": 30595,
         "pib": 2039369.875,
         "pib_percapita": 66656.9609375,
         "_deepnote_index_column": 5544
        },
        {
         "Unnamed: 0": 5556,
         "estado": "SÃO PAULO",
         "cidade": "Icém",
         "populacao": 6524,
         "pib": 90258.3984375,
         "pib_percapita": 13834.83007812,
         "_deepnote_index_column": 5545
        },
        {
         "Unnamed: 0": 5557,
         "estado": "PARÁ",
         "cidade": "Faro",
         "populacao": 19585,
         "pib": 40236.5703125,
         "pib_percapita": 2054.45996094,
         "_deepnote_index_column": 5546
        },
        {
         "Unnamed: 0": 5558,
         "estado": "RIO GRANDE DO NORTE",
         "cidade": "Nísia Floresta",
         "populacao": 24109,
         "pib": 120932.6484375,
         "pib_percapita": 5016.08007812,
         "_deepnote_index_column": 5547
        },
        {
         "Unnamed: 0": 5559,
         "estado": "RIO GRANDE DO SUL",
         "cidade": "Encantado",
         "populacao": 20530,
         "pib": 411468.25,
         "pib_percapita": 20042.2890625,
         "_deepnote_index_column": 5548
        },
        {
         "Unnamed: 0": 5560,
         "estado": "PARANÁ",
         "cidade": "Sabáudia",
         "populacao": 5642,
         "pib": 71359.15625,
         "pib_percapita": 12647.84960938,
         "_deepnote_index_column": 5549
        },
        {
         "Unnamed: 0": 5561,
         "estado": "SANTA CATARINA",
         "cidade": "Campo Erê",
         "populacao": 9737,
         "pib": 187628.90625,
         "pib_percapita": 19269.6796875,
         "_deepnote_index_column": 5550
        },
        {
         "Unnamed: 0": 5562,
         "estado": "PARANÁ",
         "cidade": "Planalto",
         "populacao": 13983,
         "pib": 138553.546875,
         "pib_percapita": 9908.70996094,
         "_deepnote_index_column": 5551
        },
        {
         "Unnamed: 0": 5563,
         "estado": "SÃO PAULO",
         "cidade": "Guararapes",
         "populacao": 29639,
         "pib": 532019.125,
         "pib_percapita": 17949.97070312,
         "_deepnote_index_column": 5552
        },
        {
         "Unnamed: 0": 5564,
         "estado": "RIO GRANDE DO SUL",
         "cidade": "Barra do Guarita",
         "populacao": 3067,
         "pib": 21980.63671875,
         "pib_percapita": 7166.81982422,
         "_deepnote_index_column": 5553
        },
        {
         "Unnamed: 0": 5565,
         "estado": "RIO GRANDE DO SUL",
         "cidade": "Machadinho",
         "populacao": 5623,
         "pib": 57150.171875,
         "pib_percapita": 10163.63964844,
         "_deepnote_index_column": 5554
        }
       ]
      },
      "text/plain": "      Unnamed: 0             estado            cidade  populacao  \\\n0              0              BAHIA          Tremedal      18433   \n1              1  RIO GRANDE DO SUL            Turuçu       4000   \n2              2     ESPIRITO SANTO           Vitória     320156   \n3              3       MINAS GERAIS         Jacutinga      21424   \n4              4              PIAUÍ           Nazária       7895   \n...          ...                ...               ...        ...   \n5550        5561     SANTA CATARINA         Campo Erê       9737   \n5551        5562             PARANÁ          Planalto      13983   \n5552        5563          SÃO PAULO        Guararapes      29639   \n5553        5564  RIO GRANDE DO SUL  Barra do Guarita       3067   \n5554        5565  RIO GRANDE DO SUL        Machadinho       5623   \n\n               pib  pib_percapita  \n0     5.788399e+04    3140.239990  \n1     4.572388e+04   11430.969727  \n2     1.978263e+07   61790.589844  \n3     2.478160e+05   11567.209961  \n4     2.095138e+04    2653.750000  \n...            ...            ...  \n5550  1.876289e+05   19269.679688  \n5551  1.385535e+05    9908.709961  \n5552  5.320191e+05   17949.970703  \n5553  2.198064e+04    7166.819824  \n5554  5.715017e+04   10163.639648  \n\n[5555 rows x 6 columns]",
      "text/html": "<div>\n<style scoped>\n    .dataframe tbody tr th:only-of-type {\n        vertical-align: middle;\n    }\n\n    .dataframe tbody tr th {\n        vertical-align: top;\n    }\n\n    .dataframe thead th {\n        text-align: right;\n    }\n</style>\n<table border=\"1\" class=\"dataframe\">\n  <thead>\n    <tr style=\"text-align: right;\">\n      <th></th>\n      <th>Unnamed: 0</th>\n      <th>estado</th>\n      <th>cidade</th>\n      <th>populacao</th>\n      <th>pib</th>\n      <th>pib_percapita</th>\n    </tr>\n  </thead>\n  <tbody>\n    <tr>\n      <th>0</th>\n      <td>0</td>\n      <td>BAHIA</td>\n      <td>Tremedal</td>\n      <td>18433</td>\n      <td>5.788399e+04</td>\n      <td>3140.239990</td>\n    </tr>\n    <tr>\n      <th>1</th>\n      <td>1</td>\n      <td>RIO GRANDE DO SUL</td>\n      <td>Turuçu</td>\n      <td>4000</td>\n      <td>4.572388e+04</td>\n      <td>11430.969727</td>\n    </tr>\n    <tr>\n      <th>2</th>\n      <td>2</td>\n      <td>ESPIRITO SANTO</td>\n      <td>Vitória</td>\n      <td>320156</td>\n      <td>1.978263e+07</td>\n      <td>61790.589844</td>\n    </tr>\n    <tr>\n      <th>3</th>\n      <td>3</td>\n      <td>MINAS GERAIS</td>\n      <td>Jacutinga</td>\n      <td>21424</td>\n      <td>2.478160e+05</td>\n      <td>11567.209961</td>\n    </tr>\n    <tr>\n      <th>4</th>\n      <td>4</td>\n      <td>PIAUÍ</td>\n      <td>Nazária</td>\n      <td>7895</td>\n      <td>2.095138e+04</td>\n      <td>2653.750000</td>\n    </tr>\n    <tr>\n      <th>...</th>\n      <td>...</td>\n      <td>...</td>\n      <td>...</td>\n      <td>...</td>\n      <td>...</td>\n      <td>...</td>\n    </tr>\n    <tr>\n      <th>5550</th>\n      <td>5561</td>\n      <td>SANTA CATARINA</td>\n      <td>Campo Erê</td>\n      <td>9737</td>\n      <td>1.876289e+05</td>\n      <td>19269.679688</td>\n    </tr>\n    <tr>\n      <th>5551</th>\n      <td>5562</td>\n      <td>PARANÁ</td>\n      <td>Planalto</td>\n      <td>13983</td>\n      <td>1.385535e+05</td>\n      <td>9908.709961</td>\n    </tr>\n    <tr>\n      <th>5552</th>\n      <td>5563</td>\n      <td>SÃO PAULO</td>\n      <td>Guararapes</td>\n      <td>29639</td>\n      <td>5.320191e+05</td>\n      <td>17949.970703</td>\n    </tr>\n    <tr>\n      <th>5553</th>\n      <td>5564</td>\n      <td>RIO GRANDE DO SUL</td>\n      <td>Barra do Guarita</td>\n      <td>3067</td>\n      <td>2.198064e+04</td>\n      <td>7166.819824</td>\n    </tr>\n    <tr>\n      <th>5554</th>\n      <td>5565</td>\n      <td>RIO GRANDE DO SUL</td>\n      <td>Machadinho</td>\n      <td>5623</td>\n      <td>5.715017e+04</td>\n      <td>10163.639648</td>\n    </tr>\n  </tbody>\n</table>\n<p>5555 rows × 6 columns</p>\n</div>"
     },
     "metadata": {}
    }
   ],
   "execution_count": null
  },
  {
   "cell_type": "markdown",
   "source": "### **1.3. Brasil** ",
   "metadata": {
    "id": "EBzoHVD8b_c7",
    "cell_id": "00022-449c7cdc-3693-4dff-99aa-574dd698053b",
    "deepnote_cell_type": "markdown"
   }
  },
  {
   "cell_type": "markdown",
   "source": "Utilize o pacote Python `pandas` para combinar os dados do arquivo `estados-bruto.csv` com os dados do arquivo `cidades-bruto.csv` em um único dataframe. Escolha a coluna e o método de combinação de tal forma que **não haja perda de dados** no processo (não produzirá valores nulos `NaN`). Salve os dados do dataframe no arquivo `brasil.csv`",
   "metadata": {
    "id": "Ft6l5bDwb_c7",
    "cell_id": "00023-5da5f28b-fee5-4ecc-82b5-9c98e6913d14",
    "deepnote_cell_type": "markdown"
   }
  },
  {
   "cell_type": "code",
   "metadata": {
    "id": "Vz3J7G4-dBXa",
    "cell_id": "00024-3e58d711-ca1c-4642-a28e-749812112f5a",
    "deepnote_to_be_reexecuted": false,
    "source_hash": "eafd71eb",
    "execution_start": 1639279753573,
    "execution_millis": 724,
    "deepnote_output_heights": [
     611
    ],
    "deepnote_cell_type": "code"
   },
   "source": "# solução do exercício 1.3\nfonte = BeautifulSoup(open('./dados/estados-bruto.xml', mode='r'), 'lxml')\n\nfonte = fonte.find_all('estado')\n\nestados_bruto = [['id', 'UF', 'gid', 'sigla', 'região']]\n\n\n# continue o codigo aqui\n\nfor estado in fonte:\n    idid = estado.find('id').text\n    nome = estado.find('nome').text\n    idcapital = estado.find('idcapital').text\n    sigla = estado.find('sigla').text\n    regiao = estado.find('regiao').text\n\n    estados_bruto.append([n_id,nome,idcapital,sigla,regiao])\n\nimport csv\n\nwith open('./dados/estados-bruto.csv', mode='w', encoding='utf8') as arquivo:\n    escritor_csv = csv.writer(arquivo, delimiter=';')\n    escritor_csv.writerows(estados_bruto)\n\n\nestados_df = pd.read_csv('./dados/estados-bruto.csv')\ncidades_df = pd.read_csv('./dados/cidades-bruto.csv')\n\n",
   "outputs": [],
   "execution_count": null
  },
  {
   "cell_type": "code",
   "metadata": {
    "tags": [],
    "cell_id": "00027-1fc4a22b-6cec-46a2-b15b-0c32b467ed53",
    "deepnote_to_be_reexecuted": false,
    "source_hash": "59fee18",
    "execution_start": 1639280711083,
    "execution_millis": 201,
    "deepnote_output_heights": [
     232.39999389648438
    ],
    "deepnote_cell_type": "code"
   },
   "source": "cidades_df['gid'].describe",
   "outputs": [
    {
     "output_type": "execute_result",
     "execution_count": 59,
     "data": {
      "text/plain": "<bound method NDFrame.describe of 0        215\n1        306\n2        900\n3       3613\n4       1028\n        ... \n5561    5254\n5562    2749\n5563    3779\n5564     617\n5565     672\nName: gid, Length: 5566, dtype: int64>"
     },
     "metadata": {}
    }
   ],
   "execution_count": null
  },
  {
   "cell_type": "code",
   "metadata": {
    "tags": [],
    "cell_id": "00028-6e31d9a1-a1cf-4ff2-a9e0-6d9f22019eeb",
    "deepnote_to_be_reexecuted": false,
    "source_hash": "7d350aeb",
    "execution_start": 1639279756449,
    "execution_millis": 0,
    "deepnote_cell_type": "code"
   },
   "source": "print(estados_df)\n",
   "outputs": [
    {
     "name": "stdout",
     "text": "                       id;UF;gid;sigla;região\n0                          1;ACRE;16;AC;NORTE\n1                    1;ALAGOAS;68;AL;NORDESTE\n2                        1;AMAPA;131;AP;NORTE\n3                     1;AMAZONAS;178;AM;NORTE\n4                     1;BAHIA;536;BA;NORDESTE\n5                     1;CEARA;676;CE;NORDESTE\n6      1;DISTRITO FEDERAL;916;DF;CENTRO-OESTE\n7             1;ESPIRITO SANTO;879;ES;SUDESTE\n8                 1;GOIAS;973;GO;CENTRO-OESTE\n9                 1;MARANHAO;1309;MA;NORDESTE\n10         1;MATO GROSSO;1374;MT;CENTRO-OESTE\n11  1;MATO GROSSO DO SUL;1485;MS;CENTRO-OESTE\n12                       1;PARA;1561;PA;NORTE\n13                 1;PARAIBA;1779;PB;NORDESTE\n14                       1;PARANA;2002;PR;SUL\n15              1;PERNAMBUCO;2439;PE;NORDESTE\n16                   1;PIAUI;2704;PI;NORDESTE\n17           1;RIO DE JANEIRO;2779;RJ;SUDESTE\n18     1;RIO GRANDE DO NORTE;2890;RN;NORDESTE\n19            1;RIO GRANDE DO SUL;3273;RS;SUL\n20                   1;RONDONIA;3473;RO;NORTE\n21                    1;RORAIMA;3491;RR;NORTE\n22               1;SANTA CATARINA;3591;SC;SUL\n23                1;SAO PAULO;4361;SP;SUDESTE\n24                 1;SERGIPE;4444;SE;NORDESTE\n25                  1;TOCANTINS;4606;TO;NORTE\n26             1;MINAS GERAIS;4790;MG;SUDESTE\n",
     "output_type": "stream"
    }
   ],
   "execution_count": null
  },
  {
   "cell_type": "code",
   "metadata": {
    "tags": [],
    "cell_id": "00028-ccc48527-24eb-462a-a9e6-3a8ba7780c69",
    "deepnote_to_be_reexecuted": false,
    "source_hash": "b50032f3",
    "execution_start": 1639281163535,
    "execution_millis": 29,
    "deepnote_output_heights": [
     611
    ],
    "deepnote_cell_type": "code"
   },
   "source": "brasil_df = pd.merge(left=estados_df, right=cidades_df, on='gid', how='left')\n",
   "outputs": [
    {
     "output_type": "error",
     "ename": "KeyError",
     "evalue": "'gid'",
     "traceback": [
      "\u001b[0;31m---------------------------------------------------------------------------\u001b[0m",
      "\u001b[0;31mKeyError\u001b[0m                                  Traceback (most recent call last)",
      "\u001b[0;32m<ipython-input-61-fdc162160105>\u001b[0m in \u001b[0;36m<module>\u001b[0;34m\u001b[0m\n\u001b[0;32m----> 1\u001b[0;31m \u001b[0mbrasil_df\u001b[0m \u001b[0;34m=\u001b[0m \u001b[0mpd\u001b[0m\u001b[0;34m.\u001b[0m\u001b[0mmerge\u001b[0m\u001b[0;34m(\u001b[0m\u001b[0mleft\u001b[0m\u001b[0;34m=\u001b[0m\u001b[0mestados_df\u001b[0m\u001b[0;34m,\u001b[0m \u001b[0mright\u001b[0m\u001b[0;34m=\u001b[0m\u001b[0mcidades_df\u001b[0m\u001b[0;34m,\u001b[0m \u001b[0mon\u001b[0m\u001b[0;34m=\u001b[0m\u001b[0;34m'gid'\u001b[0m\u001b[0;34m,\u001b[0m \u001b[0mhow\u001b[0m\u001b[0;34m=\u001b[0m\u001b[0;34m'left'\u001b[0m\u001b[0;34m)\u001b[0m\u001b[0;34m\u001b[0m\u001b[0;34m\u001b[0m\u001b[0m\n\u001b[0m",
      "\u001b[0;32m/shared-libs/python3.7/py/lib/python3.7/site-packages/pandas/core/reshape/merge.py\u001b[0m in \u001b[0;36mmerge\u001b[0;34m(left, right, how, on, left_on, right_on, left_index, right_index, sort, suffixes, copy, indicator, validate)\u001b[0m\n\u001b[1;32m     85\u001b[0m         \u001b[0mcopy\u001b[0m\u001b[0;34m=\u001b[0m\u001b[0mcopy\u001b[0m\u001b[0;34m,\u001b[0m\u001b[0;34m\u001b[0m\u001b[0;34m\u001b[0m\u001b[0m\n\u001b[1;32m     86\u001b[0m         \u001b[0mindicator\u001b[0m\u001b[0;34m=\u001b[0m\u001b[0mindicator\u001b[0m\u001b[0;34m,\u001b[0m\u001b[0;34m\u001b[0m\u001b[0;34m\u001b[0m\u001b[0m\n\u001b[0;32m---> 87\u001b[0;31m         \u001b[0mvalidate\u001b[0m\u001b[0;34m=\u001b[0m\u001b[0mvalidate\u001b[0m\u001b[0;34m,\u001b[0m\u001b[0;34m\u001b[0m\u001b[0;34m\u001b[0m\u001b[0m\n\u001b[0m\u001b[1;32m     88\u001b[0m     )\n\u001b[1;32m     89\u001b[0m     \u001b[0;32mreturn\u001b[0m \u001b[0mop\u001b[0m\u001b[0;34m.\u001b[0m\u001b[0mget_result\u001b[0m\u001b[0;34m(\u001b[0m\u001b[0;34m)\u001b[0m\u001b[0;34m\u001b[0m\u001b[0;34m\u001b[0m\u001b[0m\n",
      "\u001b[0;32m/shared-libs/python3.7/py/lib/python3.7/site-packages/pandas/core/reshape/merge.py\u001b[0m in \u001b[0;36m__init__\u001b[0;34m(self, left, right, how, on, left_on, right_on, axis, left_index, right_index, sort, suffixes, copy, indicator, validate)\u001b[0m\n\u001b[1;32m    666\u001b[0m             \u001b[0mself\u001b[0m\u001b[0;34m.\u001b[0m\u001b[0mright_join_keys\u001b[0m\u001b[0;34m,\u001b[0m\u001b[0;34m\u001b[0m\u001b[0;34m\u001b[0m\u001b[0m\n\u001b[1;32m    667\u001b[0m             \u001b[0mself\u001b[0m\u001b[0;34m.\u001b[0m\u001b[0mjoin_names\u001b[0m\u001b[0;34m,\u001b[0m\u001b[0;34m\u001b[0m\u001b[0;34m\u001b[0m\u001b[0m\n\u001b[0;32m--> 668\u001b[0;31m         ) = self._get_merge_keys()\n\u001b[0m\u001b[1;32m    669\u001b[0m \u001b[0;34m\u001b[0m\u001b[0m\n\u001b[1;32m    670\u001b[0m         \u001b[0;31m# validate the merge keys dtypes. We may need to coerce\u001b[0m\u001b[0;34m\u001b[0m\u001b[0;34m\u001b[0m\u001b[0;34m\u001b[0m\u001b[0m\n",
      "\u001b[0;32m/shared-libs/python3.7/py/lib/python3.7/site-packages/pandas/core/reshape/merge.py\u001b[0m in \u001b[0;36m_get_merge_keys\u001b[0;34m(self)\u001b[0m\n\u001b[1;32m   1044\u001b[0m                         \u001b[0mright_keys\u001b[0m\u001b[0;34m.\u001b[0m\u001b[0mappend\u001b[0m\u001b[0;34m(\u001b[0m\u001b[0mrk\u001b[0m\u001b[0;34m)\u001b[0m\u001b[0;34m\u001b[0m\u001b[0;34m\u001b[0m\u001b[0m\n\u001b[1;32m   1045\u001b[0m                     \u001b[0;32mif\u001b[0m \u001b[0mlk\u001b[0m \u001b[0;32mis\u001b[0m \u001b[0;32mnot\u001b[0m \u001b[0;32mNone\u001b[0m\u001b[0;34m:\u001b[0m\u001b[0;34m\u001b[0m\u001b[0;34m\u001b[0m\u001b[0m\n\u001b[0;32m-> 1046\u001b[0;31m                         \u001b[0mleft_keys\u001b[0m\u001b[0;34m.\u001b[0m\u001b[0mappend\u001b[0m\u001b[0;34m(\u001b[0m\u001b[0mleft\u001b[0m\u001b[0;34m.\u001b[0m\u001b[0m_get_label_or_level_values\u001b[0m\u001b[0;34m(\u001b[0m\u001b[0mlk\u001b[0m\u001b[0;34m)\u001b[0m\u001b[0;34m)\u001b[0m\u001b[0;34m\u001b[0m\u001b[0;34m\u001b[0m\u001b[0m\n\u001b[0m\u001b[1;32m   1047\u001b[0m                         \u001b[0mjoin_names\u001b[0m\u001b[0;34m.\u001b[0m\u001b[0mappend\u001b[0m\u001b[0;34m(\u001b[0m\u001b[0mlk\u001b[0m\u001b[0;34m)\u001b[0m\u001b[0;34m\u001b[0m\u001b[0;34m\u001b[0m\u001b[0m\n\u001b[1;32m   1048\u001b[0m                     \u001b[0;32melse\u001b[0m\u001b[0;34m:\u001b[0m\u001b[0;34m\u001b[0m\u001b[0;34m\u001b[0m\u001b[0m\n",
      "\u001b[0;32m/shared-libs/python3.7/py/lib/python3.7/site-packages/pandas/core/generic.py\u001b[0m in \u001b[0;36m_get_label_or_level_values\u001b[0;34m(self, key, axis)\u001b[0m\n\u001b[1;32m   1682\u001b[0m             \u001b[0mvalues\u001b[0m \u001b[0;34m=\u001b[0m \u001b[0mself\u001b[0m\u001b[0;34m.\u001b[0m\u001b[0maxes\u001b[0m\u001b[0;34m[\u001b[0m\u001b[0maxis\u001b[0m\u001b[0;34m]\u001b[0m\u001b[0;34m.\u001b[0m\u001b[0mget_level_values\u001b[0m\u001b[0;34m(\u001b[0m\u001b[0mkey\u001b[0m\u001b[0;34m)\u001b[0m\u001b[0;34m.\u001b[0m\u001b[0m_values\u001b[0m\u001b[0;34m\u001b[0m\u001b[0;34m\u001b[0m\u001b[0m\n\u001b[1;32m   1683\u001b[0m         \u001b[0;32melse\u001b[0m\u001b[0;34m:\u001b[0m\u001b[0;34m\u001b[0m\u001b[0;34m\u001b[0m\u001b[0m\n\u001b[0;32m-> 1684\u001b[0;31m             \u001b[0;32mraise\u001b[0m \u001b[0mKeyError\u001b[0m\u001b[0;34m(\u001b[0m\u001b[0mkey\u001b[0m\u001b[0;34m)\u001b[0m\u001b[0;34m\u001b[0m\u001b[0;34m\u001b[0m\u001b[0m\n\u001b[0m\u001b[1;32m   1685\u001b[0m \u001b[0;34m\u001b[0m\u001b[0m\n\u001b[1;32m   1686\u001b[0m         \u001b[0;31m# Check for duplicates\u001b[0m\u001b[0;34m\u001b[0m\u001b[0;34m\u001b[0m\u001b[0;34m\u001b[0m\u001b[0m\n",
      "\u001b[0;31mKeyError\u001b[0m: 'gid'"
     ]
    }
   ],
   "execution_count": null
  },
  {
   "cell_type": "markdown",
   "source": "---",
   "metadata": {
    "id": "waxn4B2UDHyl",
    "cell_id": "00025-4a91c8ce-5875-413c-8216-7be72032300d",
    "deepnote_cell_type": "markdown"
   }
  },
  {
   "cell_type": "markdown",
   "source": "## 2\\. Data Analytics",
   "metadata": {
    "id": "finLQoyyGVmk",
    "cell_id": "00026-d82bdca2-51b1-4048-ac98-8568f509497a",
    "deepnote_cell_type": "markdown"
   }
  },
  {
   "cell_type": "markdown",
   "source": "### **2.1. DataFrame** ",
   "metadata": {
    "id": "Ab0GW19Ed1ig",
    "cell_id": "00027-1492405f-9abe-4e4c-8574-71cfa975a967",
    "deepnote_cell_type": "markdown"
   }
  },
  {
   "cell_type": "markdown",
   "source": "Utilize o pacote Python `pandas` para carregar o arquivo `brasil.csv` no dataframe `brasil_df`.",
   "metadata": {
    "id": "l8jJYjeBdijt",
    "cell_id": "00028-17fa9173-1a56-4a2b-a760-53c68d8ab436",
    "deepnote_cell_type": "markdown"
   }
  },
  {
   "cell_type": "code",
   "metadata": {
    "id": "8kFQLlqud4QL",
    "cell_id": "00029-701f2856-23ed-440d-a622-88a4bd07aa17",
    "deepnote_cell_type": "code"
   },
   "source": "# solução do exercício 2.1",
   "outputs": [],
   "execution_count": null
  },
  {
   "cell_type": "markdown",
   "source": "### **2.2. Analise** ",
   "metadata": {
    "id": "ZFWvK8FXHuex",
    "cell_id": "00030-e26040e4-f96c-4c86-9e63-d48914d08660",
    "deepnote_cell_type": "markdown"
   }
  },
  {
   "cell_type": "markdown",
   "source": "Utilize o dataframe `brasil_df` para responder as seguintes perguntas de negócio:",
   "metadata": {
    "id": "EGyz0R1dd62D",
    "cell_id": "00031-4bbe9c91-cdfa-4294-83dc-c187ce0c012b",
    "deepnote_cell_type": "markdown"
   }
  },
  {
   "cell_type": "markdown",
   "source": " - Quais são as 10 cidades mais populosas do Brasil?",
   "metadata": {
    "id": "lGnYVp7IeFBD",
    "cell_id": "00032-c67569c4-3210-47d9-b28c-8d7e778a1364",
    "deepnote_cell_type": "markdown"
   }
  },
  {
   "cell_type": "code",
   "metadata": {
    "id": "KQKcD-VkeQYf",
    "cell_id": "00033-eb2eb8b8-04b8-4007-902a-d10bd60e4f9d",
    "deepnote_cell_type": "code"
   },
   "source": "# código para responder a pergunta",
   "outputs": [],
   "execution_count": null
  },
  {
   "cell_type": "markdown",
   "source": " - Quais são as 5 cidades com a menor PIB per capita da região nordeste?",
   "metadata": {
    "id": "l93St6uleWTp",
    "cell_id": "00034-6ca07d5a-520d-4085-bdec-2e2de531f7b6",
    "deepnote_cell_type": "markdown"
   }
  },
  {
   "cell_type": "code",
   "metadata": {
    "id": "DS5akh2zeWTq",
    "cell_id": "00035-1b85f69c-302e-4e8d-ae0b-a5b0f5fd0aa3",
    "deepnote_cell_type": "code"
   },
   "source": "# código para responder a pergunta",
   "outputs": [],
   "execution_count": null
  },
  {
   "cell_type": "markdown",
   "source": " - Quais são as 15 cidades com maior PIB do do estado de São Paulo?",
   "metadata": {
    "id": "GqwffgUmedmb",
    "cell_id": "00036-0718fcea-2c8a-49c3-9170-50a0dd1bb6f1",
    "deepnote_cell_type": "markdown"
   }
  },
  {
   "cell_type": "code",
   "metadata": {
    "id": "tFKEn1gLedmc",
    "cell_id": "00037-eb19bb25-7d05-4e9e-85f2-d5ba4008db5a",
    "deepnote_cell_type": "code"
   },
   "source": "# código para responder a pergunta",
   "outputs": [],
   "execution_count": null
  },
  {
   "cell_type": "markdown",
   "source": " - Qual é o PIB do estado de Santa Catarina?",
   "metadata": {
    "id": "Wg_la1wOewoB",
    "cell_id": "00038-cfbbfef7-a5fb-4733-9dde-6100d9c6569a",
    "deepnote_cell_type": "markdown"
   }
  },
  {
   "cell_type": "code",
   "metadata": {
    "id": "LwGqow5_ewoB",
    "cell_id": "00039-b17ddc84-a724-4b62-be20-9a7fac91ba2a",
    "deepnote_cell_type": "code"
   },
   "source": "# código para responder a pergunta",
   "outputs": [],
   "execution_count": null
  },
  {
   "cell_type": "markdown",
   "source": " - Qual é o população da região sul?",
   "metadata": {
    "id": "Yaw2gDukfApr",
    "cell_id": "00040-e3d07e58-188d-4894-aadc-8d21b164f5ee",
    "deepnote_cell_type": "markdown"
   }
  },
  {
   "cell_type": "code",
   "metadata": {
    "id": "enEkNjFQfAps",
    "cell_id": "00041-2eb5f622-25a2-494a-afac-3cd67e61d2ce",
    "deepnote_cell_type": "code"
   },
   "source": "# código para responder a pergunta",
   "outputs": [],
   "execution_count": null
  },
  {
   "cell_type": "markdown",
   "source": " - Qual é o PIB per capito médio das cidades do Mato Grosso do Sul?",
   "metadata": {
    "id": "9qOaKRS9fFu8",
    "cell_id": "00042-578ced88-8244-41c4-b193-681ab4d48033",
    "deepnote_cell_type": "markdown"
   }
  },
  {
   "cell_type": "code",
   "metadata": {
    "id": "gX8DVSfFfFu9",
    "cell_id": "00043-8c2259ac-83d9-41f5-9516-cf0b1b838820",
    "deepnote_cell_type": "code"
   },
   "source": "# código para responder a pergunta",
   "outputs": [],
   "execution_count": null
  },
  {
   "cell_type": "markdown",
   "source": " - Qual é a população do Brasil?",
   "metadata": {
    "id": "lvf-VqaffS2D",
    "cell_id": "00044-d3a5565f-3994-43b7-8c29-c2c00d3a8bde",
    "deepnote_cell_type": "markdown"
   }
  },
  {
   "cell_type": "code",
   "metadata": {
    "id": "_nBsY6EcfS2E",
    "cell_id": "00045-d67d6ace-e43e-4e9f-9283-4590a54df2be",
    "deepnote_cell_type": "code"
   },
   "source": "# código para responder a pergunta",
   "outputs": [],
   "execution_count": null
  },
  {
   "cell_type": "markdown",
   "source": "### **2.3. Visualização** ",
   "metadata": {
    "id": "hnTSARXpipkP",
    "cell_id": "00046-8687c652-cbd7-470f-ad15-5a0043307cb3",
    "deepnote_cell_type": "markdown"
   }
  },
  {
   "cell_type": "markdown",
   "source": "Utilize o dataframe `brasil_df` para gerar as seguintes visualizações.",
   "metadata": {
    "id": "7coMkY8xixFO",
    "cell_id": "00047-6df598a3-100a-4543-abe5-e6d2b7a79d4f",
    "deepnote_cell_type": "markdown"
   }
  },
  {
   "cell_type": "markdown",
   "source": " - Gere um gráfico de barras com as 10 cidades menos populosas do Brasil.",
   "metadata": {
    "id": "SgvPvh4Vjctx",
    "cell_id": "00048-72ceee3c-d2e5-4e2c-89d9-b79c188fff20",
    "deepnote_cell_type": "markdown"
   }
  },
  {
   "cell_type": "code",
   "metadata": {
    "id": "V8eM0uEUjcty",
    "cell_id": "00049-d45b77d6-32f9-4186-8296-b8b2b11fda15",
    "deepnote_cell_type": "code"
   },
   "source": "# código para gerar a visualização",
   "outputs": [],
   "execution_count": null
  },
  {
   "cell_type": "markdown",
   "source": " - Gere um gráfico de pizza com a proporção da população do Brasil por região.",
   "metadata": {
    "id": "gsa3SrTjjrGV",
    "cell_id": "00050-09b2ee3a-7665-4306-93e3-cc9dfa30dbb1",
    "deepnote_cell_type": "markdown"
   }
  },
  {
   "cell_type": "code",
   "metadata": {
    "id": "1dvqIAEHjrGV",
    "cell_id": "00051-d067529e-fe34-4479-8dcc-2feeba3cc49e",
    "deepnote_cell_type": "code"
   },
   "source": "# código para gerar a visualização",
   "outputs": [],
   "execution_count": null
  },
  {
   "cell_type": "markdown",
   "source": "<a style='text-decoration:none;line-height:16px;display:flex;color:#5B5B62;padding:10px;justify-content:end;' href='https://deepnote.com?utm_source=created-in-deepnote-cell&projectId=690ec1aa-ed7a-4520-b902-aba6fc5867d1' target=\"_blank\">\n<img alt='Created in deepnote.com' style='display:inline;max-height:16px;margin:0px;margin-right:7.5px;' src='data:image/svg+xml;base64,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' > </img>\nCreated in <span style='font-weight:600;margin-left:4px;'>Deepnote</span></a>",
   "metadata": {
    "tags": [],
    "created_in_deepnote_cell": true,
    "deepnote_cell_type": "markdown"
   }
  }
 ],
 "nbformat": 4,
 "nbformat_minor": 0,
 "metadata": {
  "colab": {
   "name": "module_13_exercise.ipynb",
   "provenance": [],
   "collapsed_sections": [],
   "toc_visible": true
  },
  "kernelspec": {
   "name": "python3",
   "display_name": "Python 3"
  },
  "deepnote_notebook_id": "da1d3c1e-275e-452e-9116-63c866b61db3",
  "deepnote": {},
  "deepnote_execution_queue": []
 }
}