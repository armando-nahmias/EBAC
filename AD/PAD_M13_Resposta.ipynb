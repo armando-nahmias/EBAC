{
 "cells": [
  {
   "cell_type": "markdown",
   "source": "<img src=\"https://raw.githubusercontent.com/andre-marcos-perez/ebac-course-utils/main/media/logo/newebac_logo_black_half.png\" alt=\"ebac-logo\">\n\n---\n\n# **Módulo** | Análise de Dados: Data Wrangling II\nCaderno de **Exercícios**<br> \nProfessor [André Perez](https://www.linkedin.com/in/andremarcosperez/)\n\n---",
   "metadata": {
    "id": "KJqp9AANOCtf",
    "cell_id": "00000-2faf263b-14f3-47ed-94cc-6d3699b4bfed",
    "deepnote_cell_type": "markdown"
   }
  },
  {
   "cell_type": "markdown",
   "source": "# **Tópicos**\n\n<ol type=\"1\">\n  <li>Agregação e Ordenação;</li>\n  <li>Combinação;</li>\n  <li>Técnicas Avançadas.</li>\n</ol>",
   "metadata": {
    "id": "d9jDtUbDOE1-",
    "cell_id": "00001-b0d9d8df-697c-4745-9636-e19c1f9d0c72",
    "deepnote_cell_type": "markdown"
   }
  },
  {
   "cell_type": "markdown",
   "source": "---",
   "metadata": {
    "id": "SmoHgt-lwkpD",
    "cell_id": "00002-6179a7f3-6c4e-4243-9514-0a7ab02191a2",
    "deepnote_cell_type": "markdown"
   }
  },
  {
   "cell_type": "markdown",
   "source": "# **Exercícios**",
   "metadata": {
    "id": "GABI6OW8OfQ2",
    "cell_id": "00003-e9fc0dd6-b56c-4961-bfe7-8df6f50f423d",
    "deepnote_cell_type": "markdown"
   }
  },
  {
   "cell_type": "markdown",
   "source": "Neste exercícios, vamos trabalhar com dados geográficos, demográficos e econômicos do Brasil. Vamos manipular e combinar dados de duas frentes distintas para poder responder perguntas de negócios.",
   "metadata": {
    "id": "45DbYPgFhuR7",
    "cell_id": "00004-4ecef808-84d9-4922-86e3-8d703e6222b9",
    "deepnote_cell_type": "markdown"
   }
  },
  {
   "cell_type": "markdown",
   "source": "## 1\\. Data Wrangling",
   "metadata": {
    "id": "GWgNoJN8DHyY",
    "cell_id": "00005-86dd8239-6bd8-4da1-a905-bd0cfa5eee5b",
    "deepnote_cell_type": "markdown"
   }
  },
  {
   "cell_type": "markdown",
   "source": "### **1.1. Estados** ",
   "metadata": {
    "id": "E30KnCdKRdYl",
    "cell_id": "00006-109f4611-68f2-4912-8391-376dcd15b6c8",
    "deepnote_cell_type": "markdown"
   }
  },
  {
   "cell_type": "markdown",
   "source": "O arquivo `estados-bruto.xml` contém informações sobre estados (nome, sigla e região). **Carregue-o na máquina virtual do Google Colab**. Um arquivo do tipo XML é similar a um arquivo do tipo HTML, exemplo do estado do Acre:",
   "metadata": {
    "id": "w2q1apyNYHbu",
    "cell_id": "00007-37ddf3b5-316b-47d4-a10d-4343f96dad00",
    "deepnote_cell_type": "markdown"
   }
  },
  {
   "cell_type": "markdown",
   "source": "```xml\n<ESTADO>\n  <ID>1</ID>\n  <NOME>ACRE</NOME>\n  <IDCAPITAL>16</IDCAPITAL>\n  <SIGLA>AC</SIGLA>\n  <REGIAO>NORTE</REGIAO>\n</ESTADO>\n```",
   "metadata": {
    "id": "GzjE2aEyYW5A",
    "cell_id": "00008-46d6f64e-21f7-4c1b-9041-54fb18e9d318",
    "deepnote_cell_type": "markdown"
   }
  },
  {
   "cell_type": "markdown",
   "source": "Utilize o pacote Python `beautifulsoup4` para extrair os dados do arquivo `estados-bruto.xml` providenciado. Salve os dados extraidos no arquivo `estados-limpo.csv` separado por `;`. Exemplo das três primeiras linhas mais o cabeçalho:\n\n```\nestado;sigla;regiao\nACRE;AC;NORTE\nALAGOAS;AL;NORDESTE\nAMAPA;AP;NORTE\n```\n\n**Dica**: Utilize o parser de xml chamado `lxml` do `beautifulsoup4`.",
   "metadata": {
    "id": "7Mtk7Dd9UHqg",
    "cell_id": "00009-a50454b3-e63a-42c7-a67d-b28cb0c1dede",
    "deepnote_cell_type": "markdown"
   }
  },
  {
   "cell_type": "code",
   "metadata": {
    "id": "kz0ZyYI0Sg6P",
    "cell_id": "00010-c127665b-4f52-4b6f-b616-a3c98b9c0f0c",
    "deepnote_to_be_reexecuted": false,
    "source_hash": "f3656e02",
    "execution_start": 1639614722259,
    "execution_millis": 9194,
    "deepnote_cell_type": "code"
   },
   "source": "# ler o arquivo estados-bruto.xml, utilize o xml parser chamado lxml\n!pip install bs4\nfrom bs4 import BeautifulSoup\n\nNOME_ARQUIVO_FONTE = './dados/estados-bruto.xml'\n\nfonte = BeautifulSoup(open(NOME_ARQUIVO_FONTE, mode='r'), 'lxml')",
   "execution_count": 1,
   "outputs": [
    {
     "name": "stdout",
     "text": "Collecting bs4\n  Downloading bs4-0.0.1.tar.gz (1.1 kB)\nCollecting beautifulsoup4\n  Downloading beautifulsoup4-4.10.0-py3-none-any.whl (97 kB)\n\u001b[K     |████████████████████████████████| 97 kB 8.2 MB/s \n\u001b[?25hCollecting soupsieve>1.2\n  Downloading soupsieve-2.3.1-py3-none-any.whl (37 kB)\nBuilding wheels for collected packages: bs4\n  Building wheel for bs4 (setup.py) ... \u001b[?25ldone\n\u001b[?25h  Created wheel for bs4: filename=bs4-0.0.1-py3-none-any.whl size=1272 sha256=dd2772c4276adbe9382daf7d0d2797087fff07c32af99f50019e6f206af32d77\n  Stored in directory: /root/.cache/pip/wheels/0a/9e/ba/20e5bbc1afef3a491f0b3bb74d508f99403aabe76eda2167ca\nSuccessfully built bs4\nInstalling collected packages: soupsieve, beautifulsoup4, bs4\nSuccessfully installed beautifulsoup4-4.10.0 bs4-0.0.1 soupsieve-2.3.1\n\u001b[33mWARNING: You are using pip version 20.1.1; however, version 21.3.1 is available.\nYou should consider upgrading via the '/root/venv/bin/python -m pip install --upgrade pip' command.\u001b[0m\n",
     "output_type": "stream",
     "data": {}
    }
   ]
  },
  {
   "cell_type": "code",
   "metadata": {
    "id": "rB0u2NjEXhDo",
    "cell_id": "00011-63f5088f-7a34-4feb-acd3-b40c5ad5afa2",
    "deepnote_to_be_reexecuted": false,
    "source_hash": "a3d41b48",
    "execution_start": 1639614731469,
    "execution_millis": 35,
    "deepnote_output_heights": [
     611
    ],
    "deepnote_cell_type": "code"
   },
   "source": "# visualize os resultados\n\nfonte",
   "execution_count": 2,
   "outputs": [
    {
     "output_type": "execute_result",
     "execution_count": 2,
     "data": {
      "text/plain": "<?xml version=\"1.0\" encoding=\"utf-8\" ?><html><body><estados>\n<estado>\n<id>1</id>\n<nome>ACRE</nome>\n<idcapital>16</idcapital>\n<sigla>AC</sigla>\n<regiao>NORTE</regiao>\n</estado>\n<estado>\n<id>2</id>\n<nome>ALAGOAS</nome>\n<idcapital>68</idcapital>\n<sigla>AL</sigla>\n<regiao>NORDESTE</regiao>\n</estado>\n<estado>\n<id>3</id>\n<nome>AMAPA</nome>\n<idcapital>131</idcapital>\n<sigla>AP</sigla>\n<regiao>NORTE</regiao>\n</estado>\n<estado>\n<id>4</id>\n<nome>AMAZONAS</nome>\n<idcapital>178</idcapital>\n<sigla>AM</sigla>\n<regiao>NORTE</regiao>\n</estado>\n<estado>\n<id>5</id>\n<nome>BAHIA</nome>\n<idcapital>536</idcapital>\n<sigla>BA</sigla>\n<regiao>NORDESTE</regiao>\n</estado>\n<estado>\n<id>6</id>\n<nome>CEARA</nome>\n<idcapital>676</idcapital>\n<sigla>CE</sigla>\n<regiao>NORDESTE</regiao>\n</estado>\n<estado>\n<id>7</id>\n<nome>DISTRITO FEDERAL</nome>\n<idcapital>916</idcapital>\n<sigla>DF</sigla>\n<regiao>CENTRO-OESTE</regiao>\n</estado>\n<estado>\n<id>8</id>\n<nome>ESPIRITO SANTO</nome>\n<idcapital>879</idcapital>\n<sigla>ES</sigla>\n<regiao>SUDESTE</regiao>\n</estado>\n<estado>\n<id>9</id>\n<nome>GOIAS</nome>\n<idcapital>973</idcapital>\n<sigla>GO</sigla>\n<regiao>CENTRO-OESTE</regiao>\n</estado>\n<estado>\n<id>10</id>\n<nome>MARANHAO</nome>\n<idcapital>1309</idcapital>\n<sigla>MA</sigla>\n<regiao>NORDESTE</regiao>\n</estado>\n<estado>\n<id>11</id>\n<nome>MATO GROSSO</nome>\n<idcapital>1374</idcapital>\n<sigla>MT</sigla>\n<regiao>CENTRO-OESTE</regiao>\n</estado>\n<estado>\n<id>12</id>\n<nome>MATO GROSSO DO SUL</nome>\n<idcapital>1485</idcapital>\n<sigla>MS</sigla>\n<regiao>CENTRO-OESTE</regiao>\n</estado>\n<estado>\n<id>13</id>\n<nome>PARA</nome>\n<idcapital>1561</idcapital>\n<sigla>PA</sigla>\n<regiao>NORTE</regiao>\n</estado>\n<estado>\n<id>14</id>\n<nome>PARAIBA</nome>\n<idcapital>1779</idcapital>\n<sigla>PB</sigla>\n<regiao>NORDESTE</regiao>\n</estado>\n<estado>\n<id>15</id>\n<nome>PARANA</nome>\n<idcapital>2002</idcapital>\n<sigla>PR</sigla>\n<regiao>SUL</regiao>\n</estado>\n<estado>\n<id>16</id>\n<nome>PERNAMBUCO</nome>\n<idcapital>2439</idcapital>\n<sigla>PE</sigla>\n<regiao>NORDESTE</regiao>\n</estado>\n<estado>\n<id>17</id>\n<nome>PIAUI</nome>\n<idcapital>2704</idcapital>\n<sigla>PI</sigla>\n<regiao>NORDESTE</regiao>\n</estado>\n<estado>\n<id>18</id>\n<nome>RIO DE JANEIRO</nome>\n<idcapital>2779</idcapital>\n<sigla>RJ</sigla>\n<regiao>SUDESTE</regiao>\n</estado>\n<estado>\n<id>19</id>\n<nome>RIO GRANDE DO NORTE</nome>\n<idcapital>2890</idcapital>\n<sigla>RN</sigla>\n<regiao>NORDESTE</regiao>\n</estado>\n<estado>\n<id>20</id>\n<nome>RIO GRANDE DO SUL</nome>\n<idcapital>3273</idcapital>\n<sigla>RS</sigla>\n<regiao>SUL</regiao>\n</estado>\n<estado>\n<id>21</id>\n<nome>RONDONIA</nome>\n<idcapital>3473</idcapital>\n<sigla>RO</sigla>\n<regiao>NORTE</regiao>\n</estado>\n<estado>\n<id>22</id>\n<nome>RORAIMA</nome>\n<idcapital>3491</idcapital>\n<sigla>RR</sigla>\n<regiao>NORTE</regiao>\n</estado>\n<estado>\n<id>23</id>\n<nome>SANTA CATARINA</nome>\n<idcapital>3591</idcapital>\n<sigla>SC</sigla>\n<regiao>SUL</regiao>\n</estado>\n<estado>\n<id>24</id>\n<nome>SAO PAULO</nome>\n<idcapital>4361</idcapital>\n<sigla>SP</sigla>\n<regiao>SUDESTE</regiao>\n</estado>\n<estado>\n<id>25</id>\n<nome>SERGIPE</nome>\n<idcapital>4444</idcapital>\n<sigla>SE</sigla>\n<regiao>NORDESTE</regiao>\n</estado>\n<estado>\n<id>26</id>\n<nome>TOCANTINS</nome>\n<idcapital>4606</idcapital>\n<sigla>TO</sigla>\n<regiao>NORTE</regiao>\n</estado>\n<estado>\n<id>27</id>\n<nome>MINAS GERAIS</nome>\n<idcapital>4790</idcapital>\n<sigla>MG</sigla>\n<regiao>SUDESTE</regiao>\n</estado>\n</estados>\n</body></html>"
     },
     "metadata": {}
    }
   ]
  },
  {
   "cell_type": "code",
   "metadata": {
    "id": "6mos3LTVXrzV",
    "cell_id": "00012-e9a8c4ce-384d-4780-a051-db4f68fb4503",
    "deepnote_to_be_reexecuted": false,
    "source_hash": "beb737bf",
    "execution_start": 1639614731510,
    "execution_millis": 8,
    "deepnote_output_heights": [
     309.20001220703125
    ],
    "deepnote_cell_type": "code"
   },
   "source": "# manipule os dados\nestados_bruto = fonte.find_all('estado')\n\nestados_limpo = [['estado', 'sigla', 'região']]\n\n\n# continue o codigo aqui\n\nfor estado in estados_bruto:\n    idid = estado.find('id').text\n    nome = estado.find('nome').text\n    idcapital = estado.find('idcapital').text\n    sigla = estado.find('sigla').text\n    regiao = estado.find('regiao').text\n\n    estados_limpo.append([nome,sigla,regiao])\n",
   "execution_count": 3,
   "outputs": []
  },
  {
   "cell_type": "code",
   "metadata": {
    "id": "9yCma_LASxFg",
    "cell_id": "00013-aaa93c0b-7053-4498-a59e-9d36e4e05851",
    "deepnote_to_be_reexecuted": false,
    "source_hash": "21c48178",
    "execution_start": 1639614731563,
    "execution_millis": 5,
    "deepnote_cell_type": "code"
   },
   "source": "# escrever o conteudo extraido no arquivo estados-limpo.csv separados por ;\n\nNOME_ARQUIVO_DESTINO = './dados/estados-limpo.csv'\n\n# continue o codigo aqui\nimport csv\n\nwith open(NOME_ARQUIVO_DESTINO, mode='w', encoding='utf8') as arquivo:\n    escritor_csv = csv.writer(arquivo, delimiter=';')\n    escritor_csv.writerows(estados_limpo)\n\nwith open('./dados/estados-limpo.csv', mode='r', encoding='utf8') as arquivo:\n    texto = arquivo.read()\n\nprint(texto)\n",
   "execution_count": 4,
   "outputs": [
    {
     "name": "stdout",
     "text": "estado;sigla;região\nACRE;AC;NORTE\nALAGOAS;AL;NORDESTE\nAMAPA;AP;NORTE\nAMAZONAS;AM;NORTE\nBAHIA;BA;NORDESTE\nCEARA;CE;NORDESTE\nDISTRITO FEDERAL;DF;CENTRO-OESTE\nESPIRITO SANTO;ES;SUDESTE\nGOIAS;GO;CENTRO-OESTE\nMARANHAO;MA;NORDESTE\nMATO GROSSO;MT;CENTRO-OESTE\nMATO GROSSO DO SUL;MS;CENTRO-OESTE\nPARA;PA;NORTE\nPARAIBA;PB;NORDESTE\nPARANA;PR;SUL\nPERNAMBUCO;PE;NORDESTE\nPIAUI;PI;NORDESTE\nRIO DE JANEIRO;RJ;SUDESTE\nRIO GRANDE DO NORTE;RN;NORDESTE\nRIO GRANDE DO SUL;RS;SUL\nRONDONIA;RO;NORTE\nRORAIMA;RR;NORTE\nSANTA CATARINA;SC;SUL\nSAO PAULO;SP;SUDESTE\nSERGIPE;SE;NORDESTE\nTOCANTINS;TO;NORTE\nMINAS GERAIS;MG;SUDESTE\n\n",
     "output_type": "stream",
     "data": {}
    }
   ]
  },
  {
   "cell_type": "markdown",
   "source": "### **1.2. Cidades** ",
   "metadata": {
    "id": "Fq0xqYYSYq92",
    "cell_id": "00014-50be7667-b180-4a8b-a88c-6c6f4971cda5",
    "deepnote_cell_type": "markdown"
   }
  },
  {
   "cell_type": "markdown",
   "source": "O arquivo `cidades-bruto.csv` contém informações demográficas e socioeconomicas das cidades do Brasil. **Carregue-o na máquina virtual do Google Colab**. Utilize o pacote Python `pandas` para extrair os dados do arquivo `cidades-bruto.xml` providenciado. Seguindo as seguintes especificações:",
   "metadata": {
    "id": "eWRbjhOQYq93",
    "cell_id": "00015-0df5930e-9f70-4c91-a67d-37c9a9a2f43c",
    "deepnote_cell_type": "markdown"
   }
  },
  {
   "cell_type": "markdown",
   "source": "1. Apenas dados do censo de 2010;\n1. Apenas as colunas UF, Nome, PIB, Pop_est_2009 e PIB_percapita.",
   "metadata": {
    "id": "76zW8sMsbhEu",
    "cell_id": "00016-866416e3-b262-4bb5-bf29-cee235981720",
    "deepnote_cell_type": "markdown"
   }
  },
  {
   "cell_type": "markdown",
   "source": "Salve os dados extraidos no arquivo `cidades-limpo.csv` separado por `;`. Exemplo das três primeiras linhas mais o cabeçalho:\n\n```\nestado;cidade;populacao;pib;pib_percapita\nBAHIA;TREMEDAL;18433;57883.9921875;3140.23999023\nRIO GRANDE DO SUL;TURUÇU;4000;45723875;11430.96972656\nESPIRITO SANTO;VITÓRIA;320156;19782628;61790.58984375\n```",
   "metadata": {
    "id": "auiIxlw-blp8",
    "cell_id": "00017-29d696db-fcde-4e00-94b5-76f4f28ce00c",
    "deepnote_cell_type": "markdown"
   }
  },
  {
   "cell_type": "code",
   "metadata": {
    "id": "nBmWOkvzYq94",
    "cell_id": "00018-d29be74d-1eda-4c25-af6f-4f59faeba1b8",
    "deepnote_to_be_reexecuted": false,
    "source_hash": "29bed186",
    "execution_start": 1639614731564,
    "execution_millis": 960,
    "deepnote_cell_type": "code"
   },
   "source": "# ler o arquivo cidades-bruto.csv\n\nimport pandas as pd\n\nNOME_ARQUIVO_FONTE = './dados/cidades-bruto.csv'\n\nfonte = pd.read_csv(NOME_ARQUIVO_FONTE) # continue o codigo aqui\nprint(fonte)",
   "execution_count": 5,
   "outputs": [
    {
     "name": "stdout",
     "text": "                                                  FID   gid  \\\n0     vw_pib_percapita.fid-4514e25a_17aaa325034_-258f   215   \n1     vw_pib_percapita.fid-4514e25a_17aaa325034_-258e   306   \n2     vw_pib_percapita.fid-4514e25a_17aaa325034_-258d   900   \n3     vw_pib_percapita.fid-4514e25a_17aaa325034_-258c  3613   \n4     vw_pib_percapita.fid-4514e25a_17aaa325034_-258b  1028   \n...                                               ...   ...   \n5561   vw_pib_percapita.fid-4514e25a_17aaa325034_-eba  5254   \n5562   vw_pib_percapita.fid-4514e25a_17aaa325034_-eb9  2749   \n5563   vw_pib_percapita.fid-4514e25a_17aaa325034_-eb8  3779   \n5564   vw_pib_percapita.fid-4514e25a_17aaa325034_-eb7   617   \n5565   vw_pib_percapita.fid-4514e25a_17aaa325034_-eb6   672   \n\n                     UF              nome   Censo           PIB  Pop_est_2009  \\\n0                 BAHIA          Tremedal  2010.0  5.788399e+04         18433   \n1     RIO GRANDE DO SUL            Turuçu  2010.0  4.572388e+04          4000   \n2        ESPIRITO SANTO           Vitória  2010.0  1.978263e+07        320156   \n3          MINAS GERAIS         Jacutinga  2010.0  2.478160e+05         21424   \n4                 PIAUÍ           Nazária  2010.0  2.095138e+04          7895   \n...                 ...               ...     ...           ...           ...   \n5561     SANTA CATARINA         Campo Erê  2010.0  1.876289e+05          9737   \n5562             PARANÁ          Planalto  2010.0  1.385535e+05         13983   \n5563          SÃO PAULO        Guararapes  2010.0  5.320191e+05         29639   \n5564  RIO GRANDE DO SUL  Barra do Guarita  2010.0  2.198064e+04          3067   \n5565  RIO GRANDE DO SUL        Machadinho  2010.0  5.715017e+04          5623   \n\n      PIB_percapita                         Descrição               legenda  \\\n0       3140.239990  Produto Interno Bruto per capita             - 9639.65   \n1      11430.969727  Produto Interno Bruto per capita    9639.65 - 22144.80   \n2      61790.589844  Produto Interno Bruto per capita  52702.10 - 133669.00   \n3      11567.209961  Produto Interno Bruto per capita    9639.65 - 22144.80   \n4       2653.750000  Produto Interno Bruto per capita             - 9639.65   \n...             ...                               ...                   ...   \n5561   19269.679688  Produto Interno Bruto per capita    9639.65 - 22144.80   \n5562    9908.709961  Produto Interno Bruto per capita    9639.65 - 22144.80   \n5563   17949.970703  Produto Interno Bruto per capita    9639.65 - 22144.80   \n5564    7166.819824  Produto Interno Bruto per capita             - 9639.65   \n5565   10163.639648  Produto Interno Bruto per capita    9639.65 - 22144.80   \n\n      classe                                               geom  \n0          1  MULTIPOLYGON (((-41.458803305191566 -14.781415...  \n1          2  MULTIPOLYGON (((-52.035349932081274 -31.567509...  \n2          4  MULTIPOLYGON (((-40.3292566978242 -20.23997417...  \n3          2  MULTIPOLYGON (((-46.50528160015326 -22.3400120...  \n4          1  POLYGON ((-42.826685407155495 -5.3480291684437...  \n...      ...                                                ...  \n5561       2  MULTIPOLYGON (((-53.024131281087385 -26.361357...  \n5562       2  MULTIPOLYGON (((-53.61882711231503 -25.6460599...  \n5563       2  MULTIPOLYGON (((-50.70271677275949 -21.0257124...  \n5564       1  MULTIPOLYGON (((-53.778785810369236 -27.152703...  \n5565       2  MULTIPOLYGON (((-51.63183373195086 -27.4885374...  \n\n[5566 rows x 12 columns]\n",
     "output_type": "stream",
     "data": {}
    }
   ]
  },
  {
   "cell_type": "code",
   "metadata": {
    "id": "2NKpI4h9Yq95",
    "cell_id": "00019-18635ac4-17bb-418f-96ad-3998f41783cb",
    "deepnote_to_be_reexecuted": false,
    "source_hash": "cc2cc139",
    "execution_start": 1639614732529,
    "execution_millis": 8,
    "deepnote_cell_type": "code"
   },
   "source": "# visualize os resultados\n# print(fonte)\n# continue o codigo aqui\ncenso_2010 = fonte[lambda censo: fonte['Censo'] == 2010]\ndados_df = censo_2010[['UF', \"nome\", 'Pop_est_2009', 'PIB', 'PIB_percapita']]\n",
   "execution_count": 6,
   "outputs": []
  },
  {
   "cell_type": "code",
   "metadata": {
    "tags": [],
    "cell_id": "00020-b3710cdf-4f08-4465-85c2-d7ad45a39f1b",
    "deepnote_to_be_reexecuted": false,
    "source_hash": "136130d2",
    "execution_start": 1639614732587,
    "execution_millis": 78,
    "deepnote_output_heights": [
     520.4000244140625
    ],
    "deepnote_cell_type": "code"
   },
   "source": "dados_df\n",
   "execution_count": 7,
   "outputs": [
    {
     "output_type": "execute_result",
     "execution_count": 7,
     "data": {
      "application/vnd.deepnote.dataframe.v3+json": {
       "column_count": 5,
       "row_count": 5555,
       "columns": [
        {
         "name": "UF",
         "dtype": "object",
         "stats": {
          "unique_count": 27,
          "nan_count": 0,
          "categories": [
           {
            "name": "MINAS GERAIS",
            "count": 853
           },
           {
            "name": "SÃO PAULO",
            "count": 642
           },
           {
            "name": "25 others",
            "count": 4060
           }
          ]
         }
        },
        {
         "name": "nome",
         "dtype": "object",
         "stats": {
          "unique_count": 5285,
          "nan_count": 0,
          "categories": [
           {
            "name": "Bom Jesus",
            "count": 5
           },
           {
            "name": "São Domingos",
            "count": 5
           },
           {
            "name": "5283 others",
            "count": 5545
           }
          ]
         }
        },
        {
         "name": "Pop_est_2009",
         "dtype": "int64",
         "stats": {
          "unique_count": 5067,
          "nan_count": 0,
          "min": "837",
          "max": "11037593",
          "histogram": [
           {
            "bin_start": 837,
            "bin_end": 1104512.6,
            "count": 5542
           },
           {
            "bin_start": 1104512.6,
            "bin_end": 2208188.2,
            "count": 7
           },
           {
            "bin_start": 2208188.2,
            "bin_end": 3311863.8000000003,
            "count": 4
           },
           {
            "bin_start": 3311863.8000000003,
            "bin_end": 4415539.4,
            "count": 0
           },
           {
            "bin_start": 4415539.4,
            "bin_end": 5519215,
            "count": 0
           },
           {
            "bin_start": 5519215,
            "bin_end": 6622890.600000001,
            "count": 1
           },
           {
            "bin_start": 6622890.600000001,
            "bin_end": 7726566.200000001,
            "count": 0
           },
           {
            "bin_start": 7726566.200000001,
            "bin_end": 8830241.8,
            "count": 0
           },
           {
            "bin_start": 8830241.8,
            "bin_end": 9933917.4,
            "count": 0
           },
           {
            "bin_start": 9933917.4,
            "bin_end": 11037593,
            "count": 1
           }
          ]
         }
        },
        {
         "name": "PIB",
         "dtype": "float64",
         "stats": {
          "unique_count": 5554,
          "nan_count": 0,
          "min": "5770.28222656",
          "max": "389317152.0",
          "histogram": [
           {
            "bin_start": 5770.28222656,
            "bin_end": 38936908.45400391,
            "count": 5549
           },
           {
            "bin_start": 38936908.45400391,
            "bin_end": 77868046.62578125,
            "count": 3
           },
           {
            "bin_start": 77868046.62578125,
            "bin_end": 116799184.7975586,
            "count": 0
           },
           {
            "bin_start": 116799184.7975586,
            "bin_end": 155730322.96933594,
            "count": 1
           },
           {
            "bin_start": 155730322.96933594,
            "bin_end": 194661461.14111328,
            "count": 1
           },
           {
            "bin_start": 194661461.14111328,
            "bin_end": 233592599.31289065,
            "count": 0
           },
           {
            "bin_start": 233592599.31289065,
            "bin_end": 272523737.48466796,
            "count": 0
           },
           {
            "bin_start": 272523737.48466796,
            "bin_end": 311454875.6564453,
            "count": 0
           },
           {
            "bin_start": 311454875.6564453,
            "bin_end": 350386013.8282227,
            "count": 0
           },
           {
            "bin_start": 350386013.8282227,
            "bin_end": 389317152,
            "count": 1
           }
          ]
         }
        },
        {
         "name": "PIB_percapita",
         "dtype": "float64",
         "stats": {
          "unique_count": 5544,
          "nan_count": 0,
          "min": "1929.9699707",
          "max": "360815.84375",
          "histogram": [
           {
            "bin_start": 1929.9699707,
            "bin_end": 37818.55734863,
            "count": 5438
           },
           {
            "bin_start": 37818.55734863,
            "bin_end": 73707.14472656,
            "count": 87
           },
           {
            "bin_start": 73707.14472656,
            "bin_end": 109595.73210449,
            "count": 21
           },
           {
            "bin_start": 109595.73210449,
            "bin_end": 145484.31948242002,
            "count": 4
           },
           {
            "bin_start": 145484.31948242002,
            "bin_end": 181372.90686035002,
            "count": 1
           },
           {
            "bin_start": 181372.90686035002,
            "bin_end": 217261.49423828002,
            "count": 3
           },
           {
            "bin_start": 217261.49423828002,
            "bin_end": 253150.08161621002,
            "count": 0
           },
           {
            "bin_start": 253150.08161621002,
            "bin_end": 289038.66899414,
            "count": 0
           },
           {
            "bin_start": 289038.66899414,
            "bin_end": 324927.25637207,
            "count": 0
           },
           {
            "bin_start": 324927.25637207,
            "bin_end": 360815.84375,
            "count": 1
           }
          ]
         }
        },
        {
         "name": "_deepnote_index_column",
         "dtype": "int64"
        }
       ],
       "rows": [
        {
         "UF": "BAHIA",
         "nome": "Tremedal",
         "Pop_est_2009": 18433,
         "PIB": 57883.9921875,
         "PIB_percapita": 3140.23999023,
         "_deepnote_index_column": 0
        },
        {
         "UF": "RIO GRANDE DO SUL",
         "nome": "Turuçu",
         "Pop_est_2009": 4000,
         "PIB": 45723.875,
         "PIB_percapita": 11430.96972656,
         "_deepnote_index_column": 1
        },
        {
         "UF": "ESPIRITO SANTO",
         "nome": "Vitória",
         "Pop_est_2009": 320156,
         "PIB": 19782628,
         "PIB_percapita": 61790.58984375,
         "_deepnote_index_column": 2
        },
        {
         "UF": "MINAS GERAIS",
         "nome": "Jacutinga",
         "Pop_est_2009": 21424,
         "PIB": 247816,
         "PIB_percapita": 11567.20996094,
         "_deepnote_index_column": 3
        },
        {
         "UF": "PIAUÍ",
         "nome": "Nazária",
         "Pop_est_2009": 7895,
         "PIB": 20951.38085938,
         "PIB_percapita": 2653.75,
         "_deepnote_index_column": 4
        },
        {
         "UF": "MINAS GERAIS",
         "nome": "Pedra Azul",
         "Pop_est_2009": 26000,
         "PIB": 187523.671875,
         "PIB_percapita": 7212.45019531,
         "_deepnote_index_column": 5
        },
        {
         "UF": "PIAUÍ",
         "nome": "Teresina",
         "Pop_est_2009": 802537,
         "PIB": 8700461,
         "PIB_percapita": 10841.20019531,
         "_deepnote_index_column": 6
        },
        {
         "UF": "PIAUÍ",
         "nome": "Amarante",
         "Pop_est_2009": 17892,
         "PIB": 65322.88671875,
         "PIB_percapita": 3650.94995117,
         "_deepnote_index_column": 7
        },
        {
         "UF": "GOIÁS",
         "nome": "Matrinchã",
         "Pop_est_2009": 4420,
         "PIB": 45910.546875,
         "PIB_percapita": 10387,
         "_deepnote_index_column": 8
        },
        {
         "UF": "PERNAMBUCO",
         "nome": "Cachoeirinha",
         "Pop_est_2009": 18123,
         "PIB": 80433.8046875,
         "PIB_percapita": 4438.22021484,
         "_deepnote_index_column": 9
        }
       ]
      },
      "text/plain": "                     UF              nome  Pop_est_2009           PIB  \\\n0                 BAHIA          Tremedal         18433  5.788399e+04   \n1     RIO GRANDE DO SUL            Turuçu          4000  4.572388e+04   \n2        ESPIRITO SANTO           Vitória        320156  1.978263e+07   \n3          MINAS GERAIS         Jacutinga         21424  2.478160e+05   \n4                 PIAUÍ           Nazária          7895  2.095138e+04   \n...                 ...               ...           ...           ...   \n5561     SANTA CATARINA         Campo Erê          9737  1.876289e+05   \n5562             PARANÁ          Planalto         13983  1.385535e+05   \n5563          SÃO PAULO        Guararapes         29639  5.320191e+05   \n5564  RIO GRANDE DO SUL  Barra do Guarita          3067  2.198064e+04   \n5565  RIO GRANDE DO SUL        Machadinho          5623  5.715017e+04   \n\n      PIB_percapita  \n0       3140.239990  \n1      11430.969727  \n2      61790.589844  \n3      11567.209961  \n4       2653.750000  \n...             ...  \n5561   19269.679688  \n5562    9908.709961  \n5563   17949.970703  \n5564    7166.819824  \n5565   10163.639648  \n\n[5555 rows x 5 columns]",
      "text/html": "<div>\n<style scoped>\n    .dataframe tbody tr th:only-of-type {\n        vertical-align: middle;\n    }\n\n    .dataframe tbody tr th {\n        vertical-align: top;\n    }\n\n    .dataframe thead th {\n        text-align: right;\n    }\n</style>\n<table border=\"1\" class=\"dataframe\">\n  <thead>\n    <tr style=\"text-align: right;\">\n      <th></th>\n      <th>UF</th>\n      <th>nome</th>\n      <th>Pop_est_2009</th>\n      <th>PIB</th>\n      <th>PIB_percapita</th>\n    </tr>\n  </thead>\n  <tbody>\n    <tr>\n      <th>0</th>\n      <td>BAHIA</td>\n      <td>Tremedal</td>\n      <td>18433</td>\n      <td>5.788399e+04</td>\n      <td>3140.239990</td>\n    </tr>\n    <tr>\n      <th>1</th>\n      <td>RIO GRANDE DO SUL</td>\n      <td>Turuçu</td>\n      <td>4000</td>\n      <td>4.572388e+04</td>\n      <td>11430.969727</td>\n    </tr>\n    <tr>\n      <th>2</th>\n      <td>ESPIRITO SANTO</td>\n      <td>Vitória</td>\n      <td>320156</td>\n      <td>1.978263e+07</td>\n      <td>61790.589844</td>\n    </tr>\n    <tr>\n      <th>3</th>\n      <td>MINAS GERAIS</td>\n      <td>Jacutinga</td>\n      <td>21424</td>\n      <td>2.478160e+05</td>\n      <td>11567.209961</td>\n    </tr>\n    <tr>\n      <th>4</th>\n      <td>PIAUÍ</td>\n      <td>Nazária</td>\n      <td>7895</td>\n      <td>2.095138e+04</td>\n      <td>2653.750000</td>\n    </tr>\n    <tr>\n      <th>...</th>\n      <td>...</td>\n      <td>...</td>\n      <td>...</td>\n      <td>...</td>\n      <td>...</td>\n    </tr>\n    <tr>\n      <th>5561</th>\n      <td>SANTA CATARINA</td>\n      <td>Campo Erê</td>\n      <td>9737</td>\n      <td>1.876289e+05</td>\n      <td>19269.679688</td>\n    </tr>\n    <tr>\n      <th>5562</th>\n      <td>PARANÁ</td>\n      <td>Planalto</td>\n      <td>13983</td>\n      <td>1.385535e+05</td>\n      <td>9908.709961</td>\n    </tr>\n    <tr>\n      <th>5563</th>\n      <td>SÃO PAULO</td>\n      <td>Guararapes</td>\n      <td>29639</td>\n      <td>5.320191e+05</td>\n      <td>17949.970703</td>\n    </tr>\n    <tr>\n      <th>5564</th>\n      <td>RIO GRANDE DO SUL</td>\n      <td>Barra do Guarita</td>\n      <td>3067</td>\n      <td>2.198064e+04</td>\n      <td>7166.819824</td>\n    </tr>\n    <tr>\n      <th>5565</th>\n      <td>RIO GRANDE DO SUL</td>\n      <td>Machadinho</td>\n      <td>5623</td>\n      <td>5.715017e+04</td>\n      <td>10163.639648</td>\n    </tr>\n  </tbody>\n</table>\n<p>5555 rows × 5 columns</p>\n</div>"
     },
     "metadata": {}
    }
   ]
  },
  {
   "cell_type": "code",
   "metadata": {
    "id": "BRVLwHxHYq96",
    "cell_id": "00020-a8386395-1474-4ad5-aa83-88023ef7539a",
    "deepnote_to_be_reexecuted": false,
    "source_hash": "255c8500",
    "execution_start": 1639614732674,
    "execution_millis": 3,
    "deepnote_cell_type": "code"
   },
   "source": "# manipule os dados\n# continue o codigo aqui\ndados_df.columns = ['estado', 'cidade', 'populacao', 'pib','pib_percapita']\nprint(dados_df)\n",
   "execution_count": 8,
   "outputs": [
    {
     "name": "stdout",
     "text": "                 estado            cidade  populacao           pib  \\\n0                 BAHIA          Tremedal      18433  5.788399e+04   \n1     RIO GRANDE DO SUL            Turuçu       4000  4.572388e+04   \n2        ESPIRITO SANTO           Vitória     320156  1.978263e+07   \n3          MINAS GERAIS         Jacutinga      21424  2.478160e+05   \n4                 PIAUÍ           Nazária       7895  2.095138e+04   \n...                 ...               ...        ...           ...   \n5561     SANTA CATARINA         Campo Erê       9737  1.876289e+05   \n5562             PARANÁ          Planalto      13983  1.385535e+05   \n5563          SÃO PAULO        Guararapes      29639  5.320191e+05   \n5564  RIO GRANDE DO SUL  Barra do Guarita       3067  2.198064e+04   \n5565  RIO GRANDE DO SUL        Machadinho       5623  5.715017e+04   \n\n      pib_percapita  \n0       3140.239990  \n1      11430.969727  \n2      61790.589844  \n3      11567.209961  \n4       2653.750000  \n...             ...  \n5561   19269.679688  \n5562    9908.709961  \n5563   17949.970703  \n5564    7166.819824  \n5565   10163.639648  \n\n[5555 rows x 5 columns]\n",
     "output_type": "stream",
     "data": {}
    }
   ]
  },
  {
   "cell_type": "code",
   "metadata": {
    "id": "GcAWBfwhYq96",
    "cell_id": "00021-29faca21-6226-4cb4-86ae-76ef60e5598c",
    "deepnote_to_be_reexecuted": false,
    "source_hash": "330e5a62",
    "execution_start": 1639614732725,
    "execution_millis": 135,
    "deepnote_output_heights": [
     382.20001220703125
    ],
    "deepnote_cell_type": "code"
   },
   "source": "# escrever o conteudo extraido no arquivo cidades-limpo.csv separados por ;\n\nNOME_ARQUIVO_DESTINO = './dados/dados-limpos.csv'\n\n# continue o codigo aqui\ndados_df.to_csv(NOME_ARQUIVO_DESTINO, sep=';')\n\ndados_lidos_df = pd.read_csv(NOME_ARQUIVO_DESTINO, delimiter=';', index_col=None)\n\ndados_lidos_df",
   "execution_count": 9,
   "outputs": [
    {
     "output_type": "execute_result",
     "execution_count": 9,
     "data": {
      "application/vnd.deepnote.dataframe.v3+json": {
       "column_count": 6,
       "row_count": 5555,
       "columns": [
        {
         "name": "Unnamed: 0",
         "dtype": "int64",
         "stats": {
          "unique_count": 5555,
          "nan_count": 0,
          "min": "0",
          "max": "5565",
          "histogram": [
           {
            "bin_start": 0,
            "bin_end": 556.5,
            "count": 557
           },
           {
            "bin_start": 556.5,
            "bin_end": 1113,
            "count": 554
           },
           {
            "bin_start": 1113,
            "bin_end": 1669.5,
            "count": 557
           },
           {
            "bin_start": 1669.5,
            "bin_end": 2226,
            "count": 556
           },
           {
            "bin_start": 2226,
            "bin_end": 2782.5,
            "count": 555
           },
           {
            "bin_start": 2782.5,
            "bin_end": 3339,
            "count": 555
           },
           {
            "bin_start": 3339,
            "bin_end": 3895.5,
            "count": 553
           },
           {
            "bin_start": 3895.5,
            "bin_end": 4452,
            "count": 556
           },
           {
            "bin_start": 4452,
            "bin_end": 5008.5,
            "count": 556
           },
           {
            "bin_start": 5008.5,
            "bin_end": 5565,
            "count": 556
           }
          ]
         }
        },
        {
         "name": "estado",
         "dtype": "object",
         "stats": {
          "unique_count": 27,
          "nan_count": 0,
          "categories": [
           {
            "name": "MINAS GERAIS",
            "count": 853
           },
           {
            "name": "SÃO PAULO",
            "count": 642
           },
           {
            "name": "25 others",
            "count": 4060
           }
          ]
         }
        },
        {
         "name": "cidade",
         "dtype": "object",
         "stats": {
          "unique_count": 5285,
          "nan_count": 0,
          "categories": [
           {
            "name": "Bom Jesus",
            "count": 5
           },
           {
            "name": "São Domingos",
            "count": 5
           },
           {
            "name": "5283 others",
            "count": 5545
           }
          ]
         }
        },
        {
         "name": "populacao",
         "dtype": "int64",
         "stats": {
          "unique_count": 5067,
          "nan_count": 0,
          "min": "837",
          "max": "11037593",
          "histogram": [
           {
            "bin_start": 837,
            "bin_end": 1104512.6,
            "count": 5542
           },
           {
            "bin_start": 1104512.6,
            "bin_end": 2208188.2,
            "count": 7
           },
           {
            "bin_start": 2208188.2,
            "bin_end": 3311863.8000000003,
            "count": 4
           },
           {
            "bin_start": 3311863.8000000003,
            "bin_end": 4415539.4,
            "count": 0
           },
           {
            "bin_start": 4415539.4,
            "bin_end": 5519215,
            "count": 0
           },
           {
            "bin_start": 5519215,
            "bin_end": 6622890.600000001,
            "count": 1
           },
           {
            "bin_start": 6622890.600000001,
            "bin_end": 7726566.200000001,
            "count": 0
           },
           {
            "bin_start": 7726566.200000001,
            "bin_end": 8830241.8,
            "count": 0
           },
           {
            "bin_start": 8830241.8,
            "bin_end": 9933917.4,
            "count": 0
           },
           {
            "bin_start": 9933917.4,
            "bin_end": 11037593,
            "count": 1
           }
          ]
         }
        },
        {
         "name": "pib",
         "dtype": "float64",
         "stats": {
          "unique_count": 5554,
          "nan_count": 0,
          "min": "5770.28222656",
          "max": "389317152.0",
          "histogram": [
           {
            "bin_start": 5770.28222656,
            "bin_end": 38936908.45400391,
            "count": 5549
           },
           {
            "bin_start": 38936908.45400391,
            "bin_end": 77868046.62578125,
            "count": 3
           },
           {
            "bin_start": 77868046.62578125,
            "bin_end": 116799184.7975586,
            "count": 0
           },
           {
            "bin_start": 116799184.7975586,
            "bin_end": 155730322.96933594,
            "count": 1
           },
           {
            "bin_start": 155730322.96933594,
            "bin_end": 194661461.14111328,
            "count": 1
           },
           {
            "bin_start": 194661461.14111328,
            "bin_end": 233592599.31289065,
            "count": 0
           },
           {
            "bin_start": 233592599.31289065,
            "bin_end": 272523737.48466796,
            "count": 0
           },
           {
            "bin_start": 272523737.48466796,
            "bin_end": 311454875.6564453,
            "count": 0
           },
           {
            "bin_start": 311454875.6564453,
            "bin_end": 350386013.8282227,
            "count": 0
           },
           {
            "bin_start": 350386013.8282227,
            "bin_end": 389317152,
            "count": 1
           }
          ]
         }
        },
        {
         "name": "pib_percapita",
         "dtype": "float64",
         "stats": {
          "unique_count": 5544,
          "nan_count": 0,
          "min": "1929.9699707",
          "max": "360815.84375",
          "histogram": [
           {
            "bin_start": 1929.9699707,
            "bin_end": 37818.55734863,
            "count": 5438
           },
           {
            "bin_start": 37818.55734863,
            "bin_end": 73707.14472656,
            "count": 87
           },
           {
            "bin_start": 73707.14472656,
            "bin_end": 109595.73210449,
            "count": 21
           },
           {
            "bin_start": 109595.73210449,
            "bin_end": 145484.31948242002,
            "count": 4
           },
           {
            "bin_start": 145484.31948242002,
            "bin_end": 181372.90686035002,
            "count": 1
           },
           {
            "bin_start": 181372.90686035002,
            "bin_end": 217261.49423828002,
            "count": 3
           },
           {
            "bin_start": 217261.49423828002,
            "bin_end": 253150.08161621002,
            "count": 0
           },
           {
            "bin_start": 253150.08161621002,
            "bin_end": 289038.66899414,
            "count": 0
           },
           {
            "bin_start": 289038.66899414,
            "bin_end": 324927.25637207,
            "count": 0
           },
           {
            "bin_start": 324927.25637207,
            "bin_end": 360815.84375,
            "count": 1
           }
          ]
         }
        },
        {
         "name": "_deepnote_index_column",
         "dtype": "int64"
        }
       ],
       "rows": [
        {
         "Unnamed: 0": 0,
         "estado": "BAHIA",
         "cidade": "Tremedal",
         "populacao": 18433,
         "pib": 57883.9921875,
         "pib_percapita": 3140.23999023,
         "_deepnote_index_column": 0
        },
        {
         "Unnamed: 0": 1,
         "estado": "RIO GRANDE DO SUL",
         "cidade": "Turuçu",
         "populacao": 4000,
         "pib": 45723.875,
         "pib_percapita": 11430.96972656,
         "_deepnote_index_column": 1
        },
        {
         "Unnamed: 0": 2,
         "estado": "ESPIRITO SANTO",
         "cidade": "Vitória",
         "populacao": 320156,
         "pib": 19782628,
         "pib_percapita": 61790.58984375,
         "_deepnote_index_column": 2
        },
        {
         "Unnamed: 0": 3,
         "estado": "MINAS GERAIS",
         "cidade": "Jacutinga",
         "populacao": 21424,
         "pib": 247816,
         "pib_percapita": 11567.20996094,
         "_deepnote_index_column": 3
        },
        {
         "Unnamed: 0": 4,
         "estado": "PIAUÍ",
         "cidade": "Nazária",
         "populacao": 7895,
         "pib": 20951.38085938,
         "pib_percapita": 2653.75,
         "_deepnote_index_column": 4
        },
        {
         "Unnamed: 0": 5,
         "estado": "MINAS GERAIS",
         "cidade": "Pedra Azul",
         "populacao": 26000,
         "pib": 187523.671875,
         "pib_percapita": 7212.45019531,
         "_deepnote_index_column": 5
        },
        {
         "Unnamed: 0": 6,
         "estado": "PIAUÍ",
         "cidade": "Teresina",
         "populacao": 802537,
         "pib": 8700461,
         "pib_percapita": 10841.20019531,
         "_deepnote_index_column": 6
        },
        {
         "Unnamed: 0": 7,
         "estado": "PIAUÍ",
         "cidade": "Amarante",
         "populacao": 17892,
         "pib": 65322.88671875,
         "pib_percapita": 3650.94995117,
         "_deepnote_index_column": 7
        },
        {
         "Unnamed: 0": 8,
         "estado": "GOIÁS",
         "cidade": "Matrinchã",
         "populacao": 4420,
         "pib": 45910.546875,
         "pib_percapita": 10387,
         "_deepnote_index_column": 8
        },
        {
         "Unnamed: 0": 9,
         "estado": "PERNAMBUCO",
         "cidade": "Cachoeirinha",
         "populacao": 18123,
         "pib": 80433.8046875,
         "pib_percapita": 4438.22021484,
         "_deepnote_index_column": 9
        }
       ]
      },
      "text/plain": "      Unnamed: 0             estado            cidade  populacao  \\\n0              0              BAHIA          Tremedal      18433   \n1              1  RIO GRANDE DO SUL            Turuçu       4000   \n2              2     ESPIRITO SANTO           Vitória     320156   \n3              3       MINAS GERAIS         Jacutinga      21424   \n4              4              PIAUÍ           Nazária       7895   \n...          ...                ...               ...        ...   \n5550        5561     SANTA CATARINA         Campo Erê       9737   \n5551        5562             PARANÁ          Planalto      13983   \n5552        5563          SÃO PAULO        Guararapes      29639   \n5553        5564  RIO GRANDE DO SUL  Barra do Guarita       3067   \n5554        5565  RIO GRANDE DO SUL        Machadinho       5623   \n\n               pib  pib_percapita  \n0     5.788399e+04    3140.239990  \n1     4.572388e+04   11430.969727  \n2     1.978263e+07   61790.589844  \n3     2.478160e+05   11567.209961  \n4     2.095138e+04    2653.750000  \n...            ...            ...  \n5550  1.876289e+05   19269.679688  \n5551  1.385535e+05    9908.709961  \n5552  5.320191e+05   17949.970703  \n5553  2.198064e+04    7166.819824  \n5554  5.715017e+04   10163.639648  \n\n[5555 rows x 6 columns]",
      "text/html": "<div>\n<style scoped>\n    .dataframe tbody tr th:only-of-type {\n        vertical-align: middle;\n    }\n\n    .dataframe tbody tr th {\n        vertical-align: top;\n    }\n\n    .dataframe thead th {\n        text-align: right;\n    }\n</style>\n<table border=\"1\" class=\"dataframe\">\n  <thead>\n    <tr style=\"text-align: right;\">\n      <th></th>\n      <th>Unnamed: 0</th>\n      <th>estado</th>\n      <th>cidade</th>\n      <th>populacao</th>\n      <th>pib</th>\n      <th>pib_percapita</th>\n    </tr>\n  </thead>\n  <tbody>\n    <tr>\n      <th>0</th>\n      <td>0</td>\n      <td>BAHIA</td>\n      <td>Tremedal</td>\n      <td>18433</td>\n      <td>5.788399e+04</td>\n      <td>3140.239990</td>\n    </tr>\n    <tr>\n      <th>1</th>\n      <td>1</td>\n      <td>RIO GRANDE DO SUL</td>\n      <td>Turuçu</td>\n      <td>4000</td>\n      <td>4.572388e+04</td>\n      <td>11430.969727</td>\n    </tr>\n    <tr>\n      <th>2</th>\n      <td>2</td>\n      <td>ESPIRITO SANTO</td>\n      <td>Vitória</td>\n      <td>320156</td>\n      <td>1.978263e+07</td>\n      <td>61790.589844</td>\n    </tr>\n    <tr>\n      <th>3</th>\n      <td>3</td>\n      <td>MINAS GERAIS</td>\n      <td>Jacutinga</td>\n      <td>21424</td>\n      <td>2.478160e+05</td>\n      <td>11567.209961</td>\n    </tr>\n    <tr>\n      <th>4</th>\n      <td>4</td>\n      <td>PIAUÍ</td>\n      <td>Nazária</td>\n      <td>7895</td>\n      <td>2.095138e+04</td>\n      <td>2653.750000</td>\n    </tr>\n    <tr>\n      <th>...</th>\n      <td>...</td>\n      <td>...</td>\n      <td>...</td>\n      <td>...</td>\n      <td>...</td>\n      <td>...</td>\n    </tr>\n    <tr>\n      <th>5550</th>\n      <td>5561</td>\n      <td>SANTA CATARINA</td>\n      <td>Campo Erê</td>\n      <td>9737</td>\n      <td>1.876289e+05</td>\n      <td>19269.679688</td>\n    </tr>\n    <tr>\n      <th>5551</th>\n      <td>5562</td>\n      <td>PARANÁ</td>\n      <td>Planalto</td>\n      <td>13983</td>\n      <td>1.385535e+05</td>\n      <td>9908.709961</td>\n    </tr>\n    <tr>\n      <th>5552</th>\n      <td>5563</td>\n      <td>SÃO PAULO</td>\n      <td>Guararapes</td>\n      <td>29639</td>\n      <td>5.320191e+05</td>\n      <td>17949.970703</td>\n    </tr>\n    <tr>\n      <th>5553</th>\n      <td>5564</td>\n      <td>RIO GRANDE DO SUL</td>\n      <td>Barra do Guarita</td>\n      <td>3067</td>\n      <td>2.198064e+04</td>\n      <td>7166.819824</td>\n    </tr>\n    <tr>\n      <th>5554</th>\n      <td>5565</td>\n      <td>RIO GRANDE DO SUL</td>\n      <td>Machadinho</td>\n      <td>5623</td>\n      <td>5.715017e+04</td>\n      <td>10163.639648</td>\n    </tr>\n  </tbody>\n</table>\n<p>5555 rows × 6 columns</p>\n</div>"
     },
     "metadata": {}
    }
   ]
  },
  {
   "cell_type": "markdown",
   "source": "### **1.3. Brasil** ",
   "metadata": {
    "id": "EBzoHVD8b_c7",
    "cell_id": "00022-449c7cdc-3693-4dff-99aa-574dd698053b",
    "deepnote_cell_type": "markdown"
   }
  },
  {
   "cell_type": "markdown",
   "source": "Utilize o pacote Python `pandas` para combinar os dados do arquivo `estados-bruto.csv` com os dados do arquivo `cidades-bruto.csv` em um único dataframe. Escolha a coluna e o método de combinação de tal forma que **não haja perda de dados** no processo (não produzirá valores nulos `NaN`). Salve os dados do dataframe no arquivo `brasil.csv`",
   "metadata": {
    "id": "Ft6l5bDwb_c7",
    "cell_id": "00023-5da5f28b-fee5-4ecc-82b5-9c98e6913d14",
    "deepnote_cell_type": "markdown"
   }
  },
  {
   "cell_type": "code",
   "source": "# solução do exercício 1.3\n\nestados_df = pd.read_csv('./dados/estados-limpo.csv', delimiter=';')\ncidades_df = pd.read_csv('./dados/dados-limpos.csv', delimiter=';')\n\nestados_df.replace({\n    'AMAPA': 'AMAPÁ',\n    'CEARA': 'CEARÁ',\n    'ESPIRITO SANTO': 'ESPÍRITO SANTO',\n    'GOIAS': 'GOIÁS',\n    'MARANHAO': 'MARANHÃO',\n    'PARA': 'PARÁ',\n    'PARAIBA': 'PARAÍBA',\n    'PARANA': 'PARANÁ',\n    'PIAUI': 'PIAUÍ',\n    'RONDONIA': 'RONDÔNIA',\n    'SAO PAULO': 'SÃO PAULO'\n    }, inplace=True)\n\n\nbrasil_df = pd.merge(left=estados_df, right=cidades_df, on='estado', how='inner')\n\nbrasil_df.drop(['Unnamed: 0'], axis = 1, inplace=True)\n\nprint(brasil_df.info())\nprint(estados_df.info())\nprint(cidades_df.info())\n\n\n",
   "metadata": {
    "tags": [],
    "cell_id": "00025-ccc2b4d9-d2b6-48a9-a651-e4381b6f2620",
    "deepnote_to_be_reexecuted": false,
    "source_hash": "8bb11321",
    "execution_start": 1639614732869,
    "execution_millis": 90,
    "deepnote_cell_type": "code"
   },
   "outputs": [
    {
     "name": "stdout",
     "text": "<class 'pandas.core.frame.DataFrame'>\nInt64Index: 5477 entries, 0 to 5476\nData columns (total 7 columns):\n #   Column         Non-Null Count  Dtype  \n---  ------         --------------  -----  \n 0   estado         5477 non-null   object \n 1   sigla          5477 non-null   object \n 2   região         5477 non-null   object \n 3   cidade         5477 non-null   object \n 4   populacao      5477 non-null   int64  \n 5   pib            5477 non-null   float64\n 6   pib_percapita  5477 non-null   float64\ndtypes: float64(2), int64(1), object(4)\nmemory usage: 342.3+ KB\nNone\n<class 'pandas.core.frame.DataFrame'>\nRangeIndex: 27 entries, 0 to 26\nData columns (total 3 columns):\n #   Column  Non-Null Count  Dtype \n---  ------  --------------  ----- \n 0   estado  27 non-null     object\n 1   sigla   27 non-null     object\n 2   região  27 non-null     object\ndtypes: object(3)\nmemory usage: 776.0+ bytes\nNone\n<class 'pandas.core.frame.DataFrame'>\nRangeIndex: 5555 entries, 0 to 5554\nData columns (total 6 columns):\n #   Column         Non-Null Count  Dtype  \n---  ------         --------------  -----  \n 0   Unnamed: 0     5555 non-null   int64  \n 1   estado         5555 non-null   object \n 2   cidade         5555 non-null   object \n 3   populacao      5555 non-null   int64  \n 4   pib            5555 non-null   float64\n 5   pib_percapita  5555 non-null   float64\ndtypes: float64(2), int64(2), object(2)\nmemory usage: 260.5+ KB\nNone\n",
     "output_type": "stream",
     "data": {}
    }
   ],
   "execution_count": 10
  },
  {
   "cell_type": "code",
   "metadata": {
    "tags": [],
    "cell_id": "00027-b2c95689-a669-49e0-87c5-3ce43a3bbdc1",
    "deepnote_to_be_reexecuted": false,
    "source_hash": "61381ec3",
    "execution_start": 1639614732966,
    "execution_millis": 65,
    "deepnote_output_heights": [
     611
    ],
    "deepnote_cell_type": "code"
   },
   "source": "brasil_df.to_csv('./dados/brasil.csv', index=False)\n\nbrasil_df_lido = pd.read_csv('./dados/brasil.csv')\n",
   "execution_count": 11,
   "outputs": []
  },
  {
   "cell_type": "markdown",
   "source": "---",
   "metadata": {
    "id": "waxn4B2UDHyl",
    "cell_id": "00025-4a91c8ce-5875-413c-8216-7be72032300d",
    "deepnote_cell_type": "markdown"
   }
  },
  {
   "cell_type": "code",
   "metadata": {
    "tags": [],
    "cell_id": "00029-0c2ff0b2-8ed6-4cfe-9713-56c66f8e401a",
    "deepnote_to_be_reexecuted": false,
    "source_hash": "4953a2e8",
    "execution_start": 1639614733051,
    "execution_millis": 162,
    "deepnote_output_heights": [
     21.199996948242188
    ],
    "deepnote_cell_type": "code"
   },
   "source": "brasil_df_lido\n",
   "execution_count": 12,
   "outputs": [
    {
     "output_type": "execute_result",
     "execution_count": 12,
     "data": {
      "application/vnd.deepnote.dataframe.v3+json": {
       "column_count": 7,
       "row_count": 5477,
       "columns": [
        {
         "name": "estado",
         "dtype": "object",
         "stats": {
          "unique_count": 26,
          "nan_count": 0,
          "categories": [
           {
            "name": "MINAS GERAIS",
            "count": 853
           },
           {
            "name": "SÃO PAULO",
            "count": 642
           },
           {
            "name": "24 others",
            "count": 3982
           }
          ]
         }
        },
        {
         "name": "sigla",
         "dtype": "object",
         "stats": {
          "unique_count": 26,
          "nan_count": 0,
          "categories": [
           {
            "name": "MG",
            "count": 853
           },
           {
            "name": "SP",
            "count": 642
           },
           {
            "name": "24 others",
            "count": 3982
           }
          ]
         }
        },
        {
         "name": "região",
         "dtype": "object",
         "stats": {
          "unique_count": 5,
          "nan_count": 0,
          "categories": [
           {
            "name": "NORDESTE",
            "count": 1790
           },
           {
            "name": "SUDESTE",
            "count": 1587
           },
           {
            "name": "3 others",
            "count": 2100
           }
          ]
         }
        },
        {
         "name": "cidade",
         "dtype": "object",
         "stats": {
          "unique_count": 5211,
          "nan_count": 0,
          "categories": [
           {
            "name": "São Domingos",
            "count": 5
           },
           {
            "name": "Bom Jesus",
            "count": 5
           },
           {
            "name": "5209 others",
            "count": 5467
           }
          ]
         }
        },
        {
         "name": "populacao",
         "dtype": "int64",
         "stats": {
          "unique_count": 4999,
          "nan_count": 0,
          "min": "837",
          "max": "11037593",
          "histogram": [
           {
            "bin_start": 837,
            "bin_end": 1104512.6,
            "count": 5464
           },
           {
            "bin_start": 1104512.6,
            "bin_end": 2208188.2,
            "count": 7
           },
           {
            "bin_start": 2208188.2,
            "bin_end": 3311863.8000000003,
            "count": 4
           },
           {
            "bin_start": 3311863.8000000003,
            "bin_end": 4415539.4,
            "count": 0
           },
           {
            "bin_start": 4415539.4,
            "bin_end": 5519215,
            "count": 0
           },
           {
            "bin_start": 5519215,
            "bin_end": 6622890.600000001,
            "count": 1
           },
           {
            "bin_start": 6622890.600000001,
            "bin_end": 7726566.200000001,
            "count": 0
           },
           {
            "bin_start": 7726566.200000001,
            "bin_end": 8830241.8,
            "count": 0
           },
           {
            "bin_start": 8830241.8,
            "bin_end": 9933917.4,
            "count": 0
           },
           {
            "bin_start": 9933917.4,
            "bin_end": 11037593,
            "count": 1
           }
          ]
         }
        },
        {
         "name": "pib",
         "dtype": "float64",
         "stats": {
          "unique_count": 5476,
          "nan_count": 0,
          "min": "5770.28222656",
          "max": "389317152.0",
          "histogram": [
           {
            "bin_start": 5770.28222656,
            "bin_end": 38936908.45400391,
            "count": 5471
           },
           {
            "bin_start": 38936908.45400391,
            "bin_end": 77868046.62578125,
            "count": 3
           },
           {
            "bin_start": 77868046.62578125,
            "bin_end": 116799184.7975586,
            "count": 0
           },
           {
            "bin_start": 116799184.7975586,
            "bin_end": 155730322.96933594,
            "count": 1
           },
           {
            "bin_start": 155730322.96933594,
            "bin_end": 194661461.14111328,
            "count": 1
           },
           {
            "bin_start": 194661461.14111328,
            "bin_end": 233592599.31289065,
            "count": 0
           },
           {
            "bin_start": 233592599.31289065,
            "bin_end": 272523737.48466796,
            "count": 0
           },
           {
            "bin_start": 272523737.48466796,
            "bin_end": 311454875.6564453,
            "count": 0
           },
           {
            "bin_start": 311454875.6564453,
            "bin_end": 350386013.8282227,
            "count": 0
           },
           {
            "bin_start": 350386013.8282227,
            "bin_end": 389317152,
            "count": 1
           }
          ]
         }
        },
        {
         "name": "pib_percapita",
         "dtype": "float64",
         "stats": {
          "unique_count": 5466,
          "nan_count": 0,
          "min": "1929.9699707",
          "max": "360815.84375",
          "histogram": [
           {
            "bin_start": 1929.9699707,
            "bin_end": 37818.55734863,
            "count": 5363
           },
           {
            "bin_start": 37818.55734863,
            "bin_end": 73707.14472656,
            "count": 85
           },
           {
            "bin_start": 73707.14472656,
            "bin_end": 109595.73210449,
            "count": 20
           },
           {
            "bin_start": 109595.73210449,
            "bin_end": 145484.31948242002,
            "count": 4
           },
           {
            "bin_start": 145484.31948242002,
            "bin_end": 181372.90686035002,
            "count": 1
           },
           {
            "bin_start": 181372.90686035002,
            "bin_end": 217261.49423828002,
            "count": 3
           },
           {
            "bin_start": 217261.49423828002,
            "bin_end": 253150.08161621002,
            "count": 0
           },
           {
            "bin_start": 253150.08161621002,
            "bin_end": 289038.66899414,
            "count": 0
           },
           {
            "bin_start": 289038.66899414,
            "bin_end": 324927.25637207,
            "count": 0
           },
           {
            "bin_start": 324927.25637207,
            "bin_end": 360815.84375,
            "count": 1
           }
          ]
         }
        },
        {
         "name": "_deepnote_index_column",
         "dtype": "int64"
        }
       ],
       "rows": [
        {
         "estado": "ACRE",
         "sigla": "AC",
         "região": "NORTE",
         "cidade": "Marechal Thaumaturgo",
         "populacao": 14275,
         "pib": 109181.8671875,
         "pib_percapita": 7648.47021484,
         "_deepnote_index_column": 0
        },
        {
         "estado": "ACRE",
         "sigla": "AC",
         "região": "NORTE",
         "cidade": "Senador Guiomard",
         "populacao": 19697,
         "pib": 217153.859375,
         "pib_percapita": 11024.71972656,
         "_deepnote_index_column": 1
        },
        {
         "estado": "ACRE",
         "sigla": "AC",
         "região": "NORTE",
         "cidade": "Assis Brasil",
         "populacao": 5662,
         "pib": 48347.30078125,
         "pib_percapita": 8538.91015625,
         "_deepnote_index_column": 2
        },
        {
         "estado": "ACRE",
         "sigla": "AC",
         "região": "NORTE",
         "cidade": "Epitaciolândia",
         "populacao": 14224,
         "pib": 129641.09375,
         "pib_percapita": 9114.25,
         "_deepnote_index_column": 3
        },
        {
         "estado": "ACRE",
         "sigla": "AC",
         "região": "NORTE",
         "cidade": "Manoel Urbano",
         "populacao": 7505,
         "pib": 61478.73046875,
         "pib_percapita": 8191.70019531,
         "_deepnote_index_column": 4
        },
        {
         "estado": "ACRE",
         "sigla": "AC",
         "região": "NORTE",
         "cidade": "Tarauacá",
         "populacao": 33883,
         "pib": 258505.0625,
         "pib_percapita": 7629.33984375,
         "_deepnote_index_column": 5
        },
        {
         "estado": "ACRE",
         "sigla": "AC",
         "região": "NORTE",
         "cidade": "Mâncio Lima",
         "populacao": 14774,
         "pib": 103294.7421875,
         "pib_percapita": 6991.66015625,
         "_deepnote_index_column": 6
        },
        {
         "estado": "ACRE",
         "sigla": "AC",
         "região": "NORTE",
         "cidade": "Plácido de Castro",
         "populacao": 18235,
         "pib": 204410.5625,
         "pib_percapita": 11209.79003906,
         "_deepnote_index_column": 7
        },
        {
         "estado": "ACRE",
         "sigla": "AC",
         "região": "NORTE",
         "cidade": "Santa Rosa do Purus",
         "populacao": 4358,
         "pib": 28091.17382812,
         "pib_percapita": 6445.89013672,
         "_deepnote_index_column": 8
        },
        {
         "estado": "ACRE",
         "sigla": "AC",
         "região": "NORTE",
         "cidade": "Cruzeiro do Sul",
         "populacao": 77004,
         "pib": 684349.25,
         "pib_percapita": 8887.19042969,
         "_deepnote_index_column": 9
        }
       ]
      },
      "text/plain": "            estado sigla   região                   cidade  populacao  \\\n0             ACRE    AC    NORTE     Marechal Thaumaturgo      14275   \n1             ACRE    AC    NORTE         Senador Guiomard      19697   \n2             ACRE    AC    NORTE             Assis Brasil       5662   \n3             ACRE    AC    NORTE           Epitaciolândia      14224   \n4             ACRE    AC    NORTE            Manoel Urbano       7505   \n...            ...   ...      ...                      ...        ...   \n5472  MINAS GERAIS    MG  SUDESTE             Nacip Raydan       3015   \n5473  MINAS GERAIS    MG  SUDESTE               Nova Ponte      12504   \n5474  MINAS GERAIS    MG  SUDESTE   São Gonçalo do Sapucaí      23627   \n5475  MINAS GERAIS    MG  SUDESTE                Barbacena     128572   \n5476  MINAS GERAIS    MG  SUDESTE  São Francisco do Glória       5685   \n\n               pib  pib_percapita  \n0     1.091819e+05    7648.470215  \n1     2.171539e+05   11024.719727  \n2     4.834730e+04    8538.910156  \n3     1.296411e+05    9114.250000  \n4     6.147873e+04    8191.700195  \n...            ...            ...  \n5472  1.600776e+04    5309.370117  \n5473  4.681494e+05   37439.968750  \n5474  2.886858e+05   12218.469727  \n5475  1.335420e+06   10386.549805  \n5476  3.237613e+04    5695.009766  \n\n[5477 rows x 7 columns]",
      "text/html": "<div>\n<style scoped>\n    .dataframe tbody tr th:only-of-type {\n        vertical-align: middle;\n    }\n\n    .dataframe tbody tr th {\n        vertical-align: top;\n    }\n\n    .dataframe thead th {\n        text-align: right;\n    }\n</style>\n<table border=\"1\" class=\"dataframe\">\n  <thead>\n    <tr style=\"text-align: right;\">\n      <th></th>\n      <th>estado</th>\n      <th>sigla</th>\n      <th>região</th>\n      <th>cidade</th>\n      <th>populacao</th>\n      <th>pib</th>\n      <th>pib_percapita</th>\n    </tr>\n  </thead>\n  <tbody>\n    <tr>\n      <th>0</th>\n      <td>ACRE</td>\n      <td>AC</td>\n      <td>NORTE</td>\n      <td>Marechal Thaumaturgo</td>\n      <td>14275</td>\n      <td>1.091819e+05</td>\n      <td>7648.470215</td>\n    </tr>\n    <tr>\n      <th>1</th>\n      <td>ACRE</td>\n      <td>AC</td>\n      <td>NORTE</td>\n      <td>Senador Guiomard</td>\n      <td>19697</td>\n      <td>2.171539e+05</td>\n      <td>11024.719727</td>\n    </tr>\n    <tr>\n      <th>2</th>\n      <td>ACRE</td>\n      <td>AC</td>\n      <td>NORTE</td>\n      <td>Assis Brasil</td>\n      <td>5662</td>\n      <td>4.834730e+04</td>\n      <td>8538.910156</td>\n    </tr>\n    <tr>\n      <th>3</th>\n      <td>ACRE</td>\n      <td>AC</td>\n      <td>NORTE</td>\n      <td>Epitaciolândia</td>\n      <td>14224</td>\n      <td>1.296411e+05</td>\n      <td>9114.250000</td>\n    </tr>\n    <tr>\n      <th>4</th>\n      <td>ACRE</td>\n      <td>AC</td>\n      <td>NORTE</td>\n      <td>Manoel Urbano</td>\n      <td>7505</td>\n      <td>6.147873e+04</td>\n      <td>8191.700195</td>\n    </tr>\n    <tr>\n      <th>...</th>\n      <td>...</td>\n      <td>...</td>\n      <td>...</td>\n      <td>...</td>\n      <td>...</td>\n      <td>...</td>\n      <td>...</td>\n    </tr>\n    <tr>\n      <th>5472</th>\n      <td>MINAS GERAIS</td>\n      <td>MG</td>\n      <td>SUDESTE</td>\n      <td>Nacip Raydan</td>\n      <td>3015</td>\n      <td>1.600776e+04</td>\n      <td>5309.370117</td>\n    </tr>\n    <tr>\n      <th>5473</th>\n      <td>MINAS GERAIS</td>\n      <td>MG</td>\n      <td>SUDESTE</td>\n      <td>Nova Ponte</td>\n      <td>12504</td>\n      <td>4.681494e+05</td>\n      <td>37439.968750</td>\n    </tr>\n    <tr>\n      <th>5474</th>\n      <td>MINAS GERAIS</td>\n      <td>MG</td>\n      <td>SUDESTE</td>\n      <td>São Gonçalo do Sapucaí</td>\n      <td>23627</td>\n      <td>2.886858e+05</td>\n      <td>12218.469727</td>\n    </tr>\n    <tr>\n      <th>5475</th>\n      <td>MINAS GERAIS</td>\n      <td>MG</td>\n      <td>SUDESTE</td>\n      <td>Barbacena</td>\n      <td>128572</td>\n      <td>1.335420e+06</td>\n      <td>10386.549805</td>\n    </tr>\n    <tr>\n      <th>5476</th>\n      <td>MINAS GERAIS</td>\n      <td>MG</td>\n      <td>SUDESTE</td>\n      <td>São Francisco do Glória</td>\n      <td>5685</td>\n      <td>3.237613e+04</td>\n      <td>5695.009766</td>\n    </tr>\n  </tbody>\n</table>\n<p>5477 rows × 7 columns</p>\n</div>"
     },
     "metadata": {}
    }
   ]
  },
  {
   "cell_type": "markdown",
   "source": "## 2\\. Data Analytics",
   "metadata": {
    "id": "finLQoyyGVmk",
    "cell_id": "00026-d82bdca2-51b1-4048-ac98-8568f509497a",
    "deepnote_cell_type": "markdown"
   }
  },
  {
   "cell_type": "markdown",
   "source": "### **2.1. DataFrame** ",
   "metadata": {
    "id": "Ab0GW19Ed1ig",
    "cell_id": "00027-1492405f-9abe-4e4c-8574-71cfa975a967",
    "deepnote_cell_type": "markdown"
   }
  },
  {
   "cell_type": "markdown",
   "source": "Utilize o pacote Python `pandas` para carregar o arquivo `brasil.csv` no dataframe `brasil_df`.",
   "metadata": {
    "id": "l8jJYjeBdijt",
    "cell_id": "00028-17fa9173-1a56-4a2b-a760-53c68d8ab436",
    "deepnote_cell_type": "markdown"
   }
  },
  {
   "cell_type": "code",
   "metadata": {
    "id": "8kFQLlqud4QL",
    "cell_id": "00029-701f2856-23ed-440d-a622-88a4bd07aa17",
    "deepnote_to_be_reexecuted": false,
    "source_hash": "dd030708",
    "execution_start": 1639614733222,
    "execution_millis": 44,
    "deepnote_cell_type": "code"
   },
   "source": "# solução do exercício 2.1\nbrasil_df = pd.read_csv('./dados/brasil.csv')\nbrasil_df.info()",
   "execution_count": 13,
   "outputs": [
    {
     "name": "stdout",
     "text": "<class 'pandas.core.frame.DataFrame'>\nRangeIndex: 5477 entries, 0 to 5476\nData columns (total 7 columns):\n #   Column         Non-Null Count  Dtype  \n---  ------         --------------  -----  \n 0   estado         5477 non-null   object \n 1   sigla          5477 non-null   object \n 2   região         5477 non-null   object \n 3   cidade         5477 non-null   object \n 4   populacao      5477 non-null   int64  \n 5   pib            5477 non-null   float64\n 6   pib_percapita  5477 non-null   float64\ndtypes: float64(2), int64(1), object(4)\nmemory usage: 299.6+ KB\n",
     "output_type": "stream",
     "data": {}
    }
   ]
  },
  {
   "cell_type": "code",
   "source": "brasil_df.isna().any().any()\n",
   "metadata": {
    "tags": [],
    "cell_id": "00036-adbf4188-d7fb-4272-a574-ab324d046399",
    "deepnote_to_be_reexecuted": false,
    "source_hash": "87229ddc",
    "execution_start": 1639614733282,
    "execution_millis": 6,
    "deepnote_output_heights": [
     21.199996948242188
    ],
    "deepnote_cell_type": "code"
   },
   "outputs": [
    {
     "output_type": "execute_result",
     "execution_count": 14,
     "data": {
      "text/plain": "False"
     },
     "metadata": {}
    }
   ],
   "execution_count": 14
  },
  {
   "cell_type": "markdown",
   "source": "### **2.2. Analise** ",
   "metadata": {
    "id": "ZFWvK8FXHuex",
    "cell_id": "00030-e26040e4-f96c-4c86-9e63-d48914d08660",
    "deepnote_cell_type": "markdown"
   }
  },
  {
   "cell_type": "markdown",
   "source": "Utilize o dataframe `brasil_df` para responder as seguintes perguntas de negócio:",
   "metadata": {
    "id": "EGyz0R1dd62D",
    "cell_id": "00031-4bbe9c91-cdfa-4294-83dc-c187ce0c012b",
    "deepnote_cell_type": "markdown"
   }
  },
  {
   "cell_type": "markdown",
   "source": " - Quais são as 10 cidades mais populosas do Brasil?",
   "metadata": {
    "id": "lGnYVp7IeFBD",
    "cell_id": "00032-c67569c4-3210-47d9-b28c-8d7e778a1364",
    "deepnote_cell_type": "markdown"
   }
  },
  {
   "cell_type": "code",
   "metadata": {
    "id": "KQKcD-VkeQYf",
    "cell_id": "00033-eb2eb8b8-04b8-4007-902a-d10bd60e4f9d",
    "deepnote_to_be_reexecuted": false,
    "source_hash": "6936bb2c",
    "execution_start": 1639615105807,
    "execution_millis": 49,
    "deepnote_output_heights": [
     322
    ],
    "deepnote_cell_type": "code"
   },
   "source": "# código para responder a pergunta\nbrasil_df[['populacao','cidade']].sort_values(by='populacao', ascending=False).head(n=10).reset_index(drop=True)\n",
   "execution_count": 18,
   "outputs": [
    {
     "output_type": "execute_result",
     "execution_count": 18,
     "data": {
      "application/vnd.deepnote.dataframe.v3+json": {
       "column_count": 2,
       "row_count": 10,
       "columns": [
        {
         "name": "populacao",
         "dtype": "int64",
         "stats": {
          "unique_count": 10,
          "nan_count": 0,
          "min": "1437600",
          "max": "11037593",
          "histogram": [
           {
            "bin_start": 1437600,
            "bin_end": 2397599.3,
            "count": 4
           },
           {
            "bin_start": 2397599.3,
            "bin_end": 3357598.6,
            "count": 4
           },
           {
            "bin_start": 3357598.6,
            "bin_end": 4317597.9,
            "count": 0
           },
           {
            "bin_start": 4317597.9,
            "bin_end": 5277597.2,
            "count": 0
           },
           {
            "bin_start": 5277597.2,
            "bin_end": 6237596.5,
            "count": 1
           },
           {
            "bin_start": 6237596.5,
            "bin_end": 7197595.800000001,
            "count": 0
           },
           {
            "bin_start": 7197595.800000001,
            "bin_end": 8157595.100000001,
            "count": 0
           },
           {
            "bin_start": 8157595.100000001,
            "bin_end": 9117594.4,
            "count": 0
           },
           {
            "bin_start": 9117594.4,
            "bin_end": 10077593.700000001,
            "count": 0
           },
           {
            "bin_start": 10077593.700000001,
            "bin_end": 11037593,
            "count": 1
           }
          ]
         }
        },
        {
         "name": "cidade",
         "dtype": "object",
         "stats": {
          "unique_count": 10,
          "nan_count": 0,
          "categories": [
           {
            "name": "São Paulo",
            "count": 1
           },
           {
            "name": "Rio de Janeiro",
            "count": 1
           },
           {
            "name": "8 others",
            "count": 8
           }
          ]
         }
        },
        {
         "name": "_deepnote_index_column",
         "dtype": "int64"
        }
       ],
       "rows": [
        {
         "populacao": 11037593,
         "cidade": "São Paulo",
         "_deepnote_index_column": 0
        },
        {
         "populacao": 6186710,
         "cidade": "Rio de Janeiro",
         "_deepnote_index_column": 1
        },
        {
         "populacao": 2998056,
         "cidade": "Salvador",
         "_deepnote_index_column": 2
        },
        {
         "populacao": 2606885,
         "cidade": "Brasília",
         "_deepnote_index_column": 3
        },
        {
         "populacao": 2505552,
         "cidade": "Fortaleza",
         "_deepnote_index_column": 4
        },
        {
         "populacao": 2452617,
         "cidade": "Belo Horizonte",
         "_deepnote_index_column": 5
        },
        {
         "populacao": 1851215,
         "cidade": "Curitiba",
         "_deepnote_index_column": 6
        },
        {
         "populacao": 1738641,
         "cidade": "Manaus",
         "_deepnote_index_column": 7
        },
        {
         "populacao": 1561659,
         "cidade": "Recife",
         "_deepnote_index_column": 8
        },
        {
         "populacao": 1437600,
         "cidade": "Belém",
         "_deepnote_index_column": 9
        }
       ]
      },
      "text/plain": "   populacao          cidade\n0   11037593       São Paulo\n1    6186710  Rio de Janeiro\n2    2998056        Salvador\n3    2606885        Brasília\n4    2505552       Fortaleza\n5    2452617  Belo Horizonte\n6    1851215        Curitiba\n7    1738641          Manaus\n8    1561659          Recife\n9    1437600           Belém",
      "text/html": "<div>\n<style scoped>\n    .dataframe tbody tr th:only-of-type {\n        vertical-align: middle;\n    }\n\n    .dataframe tbody tr th {\n        vertical-align: top;\n    }\n\n    .dataframe thead th {\n        text-align: right;\n    }\n</style>\n<table border=\"1\" class=\"dataframe\">\n  <thead>\n    <tr style=\"text-align: right;\">\n      <th></th>\n      <th>populacao</th>\n      <th>cidade</th>\n    </tr>\n  </thead>\n  <tbody>\n    <tr>\n      <th>0</th>\n      <td>11037593</td>\n      <td>São Paulo</td>\n    </tr>\n    <tr>\n      <th>1</th>\n      <td>6186710</td>\n      <td>Rio de Janeiro</td>\n    </tr>\n    <tr>\n      <th>2</th>\n      <td>2998056</td>\n      <td>Salvador</td>\n    </tr>\n    <tr>\n      <th>3</th>\n      <td>2606885</td>\n      <td>Brasília</td>\n    </tr>\n    <tr>\n      <th>4</th>\n      <td>2505552</td>\n      <td>Fortaleza</td>\n    </tr>\n    <tr>\n      <th>5</th>\n      <td>2452617</td>\n      <td>Belo Horizonte</td>\n    </tr>\n    <tr>\n      <th>6</th>\n      <td>1851215</td>\n      <td>Curitiba</td>\n    </tr>\n    <tr>\n      <th>7</th>\n      <td>1738641</td>\n      <td>Manaus</td>\n    </tr>\n    <tr>\n      <th>8</th>\n      <td>1561659</td>\n      <td>Recife</td>\n    </tr>\n    <tr>\n      <th>9</th>\n      <td>1437600</td>\n      <td>Belém</td>\n    </tr>\n  </tbody>\n</table>\n</div>"
     },
     "metadata": {}
    }
   ]
  },
  {
   "cell_type": "markdown",
   "source": " - Quais são as 5 cidades com a menor PIB per capita da região nordeste?",
   "metadata": {
    "id": "l93St6uleWTp",
    "cell_id": "00034-6ca07d5a-520d-4085-bdec-2e2de531f7b6",
    "deepnote_cell_type": "markdown"
   }
  },
  {
   "cell_type": "code",
   "metadata": {
    "id": "DS5akh2zeWTq",
    "cell_id": "00035-1b85f69c-302e-4e8d-ae0b-a5b0f5fd0aa3",
    "deepnote_to_be_reexecuted": false,
    "source_hash": "df95c265",
    "execution_start": 1639615426251,
    "execution_millis": 343,
    "deepnote_cell_type": "code"
   },
   "source": "# código para responder a pergunta\nbrasil_df[['pib_percapita','cidade', 'região']].sort_values(by='pib_percapita').query('região == \"NORDESTE\"').head().reset_index(drop=True)\n",
   "execution_count": 24,
   "outputs": [
    {
     "output_type": "execute_result",
     "execution_count": 24,
     "data": {
      "application/vnd.deepnote.dataframe.v3+json": {
       "column_count": 3,
       "row_count": 5,
       "columns": [
        {
         "name": "pib_percapita",
         "dtype": "float64",
         "stats": {
          "unique_count": 5,
          "nan_count": 0,
          "min": "1929.9699707",
          "max": "2416.9699707",
          "histogram": [
           {
            "bin_start": 1929.9699707,
            "bin_end": 1978.6699707,
            "count": 1
           },
           {
            "bin_start": 1978.6699707,
            "bin_end": 2027.3699707,
            "count": 0
           },
           {
            "bin_start": 2027.3699707,
            "bin_end": 2076.0699707,
            "count": 0
           },
           {
            "bin_start": 2076.0699707,
            "bin_end": 2124.7699707,
            "count": 0
           },
           {
            "bin_start": 2124.7699707,
            "bin_end": 2173.4699707,
            "count": 0
           },
           {
            "bin_start": 2173.4699707,
            "bin_end": 2222.1699707,
            "count": 1
           },
           {
            "bin_start": 2222.1699707,
            "bin_end": 2270.8699707,
            "count": 0
           },
           {
            "bin_start": 2270.8699707,
            "bin_end": 2319.5699707,
            "count": 0
           },
           {
            "bin_start": 2319.5699707,
            "bin_end": 2368.2699707,
            "count": 2
           },
           {
            "bin_start": 2368.2699707,
            "bin_end": 2416.9699707,
            "count": 1
           }
          ]
         }
        },
        {
         "name": "cidade",
         "dtype": "object",
         "stats": {
          "unique_count": 5,
          "nan_count": 0,
          "categories": [
           {
            "name": "São Vicente Ferrer",
            "count": 1
           },
           {
            "name": "Cajapió",
            "count": 1
           },
           {
            "name": "3 others",
            "count": 3
           }
          ]
         }
        },
        {
         "name": "região",
         "dtype": "object",
         "stats": {
          "unique_count": 1,
          "nan_count": 0,
          "categories": [
           {
            "name": "NORDESTE",
            "count": 5
           }
          ]
         }
        },
        {
         "name": "_deepnote_index_column",
         "dtype": "int64"
        }
       ],
       "rows": [
        {
         "pib_percapita": 1929.9699707,
         "cidade": "São Vicente Ferrer",
         "região": "NORDESTE",
         "_deepnote_index_column": 0
        },
        {
         "pib_percapita": 2203.83007812,
         "cidade": "Cajapió",
         "região": "NORDESTE",
         "_deepnote_index_column": 1
        },
        {
         "pib_percapita": 2358.23999023,
         "cidade": "Dom Inocêncio",
         "região": "NORDESTE",
         "_deepnote_index_column": 2
        },
        {
         "pib_percapita": 2368.15991211,
         "cidade": "Timbiras",
         "região": "NORDESTE",
         "_deepnote_index_column": 3
        },
        {
         "pib_percapita": 2416.9699707,
         "cidade": "Axixá",
         "região": "NORDESTE",
         "_deepnote_index_column": 4
        }
       ]
      },
      "text/plain": "   pib_percapita              cidade    região\n0    1929.969971  São Vicente Ferrer  NORDESTE\n1    2203.830078             Cajapió  NORDESTE\n2    2358.239990       Dom Inocêncio  NORDESTE\n3    2368.159912            Timbiras  NORDESTE\n4    2416.969971               Axixá  NORDESTE",
      "text/html": "<div>\n<style scoped>\n    .dataframe tbody tr th:only-of-type {\n        vertical-align: middle;\n    }\n\n    .dataframe tbody tr th {\n        vertical-align: top;\n    }\n\n    .dataframe thead th {\n        text-align: right;\n    }\n</style>\n<table border=\"1\" class=\"dataframe\">\n  <thead>\n    <tr style=\"text-align: right;\">\n      <th></th>\n      <th>pib_percapita</th>\n      <th>cidade</th>\n      <th>região</th>\n    </tr>\n  </thead>\n  <tbody>\n    <tr>\n      <th>0</th>\n      <td>1929.969971</td>\n      <td>São Vicente Ferrer</td>\n      <td>NORDESTE</td>\n    </tr>\n    <tr>\n      <th>1</th>\n      <td>2203.830078</td>\n      <td>Cajapió</td>\n      <td>NORDESTE</td>\n    </tr>\n    <tr>\n      <th>2</th>\n      <td>2358.239990</td>\n      <td>Dom Inocêncio</td>\n      <td>NORDESTE</td>\n    </tr>\n    <tr>\n      <th>3</th>\n      <td>2368.159912</td>\n      <td>Timbiras</td>\n      <td>NORDESTE</td>\n    </tr>\n    <tr>\n      <th>4</th>\n      <td>2416.969971</td>\n      <td>Axixá</td>\n      <td>NORDESTE</td>\n    </tr>\n  </tbody>\n</table>\n</div>"
     },
     "metadata": {}
    }
   ]
  },
  {
   "cell_type": "markdown",
   "source": " - Quais são as 15 cidades com maior PIB do do estado de São Paulo?",
   "metadata": {
    "id": "GqwffgUmedmb",
    "cell_id": "00036-0718fcea-2c8a-49c3-9170-50a0dd1bb6f1",
    "deepnote_cell_type": "markdown"
   }
  },
  {
   "cell_type": "code",
   "metadata": {
    "id": "tFKEn1gLedmc",
    "cell_id": "00037-eb19bb25-7d05-4e9e-85f2-d5ba4008db5a",
    "deepnote_to_be_reexecuted": false,
    "source_hash": "6cce838b",
    "execution_start": 1639615575562,
    "execution_millis": 81,
    "deepnote_cell_type": "code"
   },
   "source": "# código para responder a pergunta\nbrasil_df[['pib','cidade', 'estado']].sort_values(by='pib', ascending=False).query('estado == \"SÃO PAULO\"').head(n=15).reset_index(drop=True)\n",
   "execution_count": 29,
   "outputs": [
    {
     "output_type": "execute_result",
     "execution_count": 29,
     "data": {
      "application/vnd.deepnote.dataframe.v3+json": {
       "column_count": 3,
       "row_count": 15,
       "columns": [
        {
         "name": "pib",
         "dtype": "float64",
         "stats": {
          "unique_count": 15,
          "nan_count": 0,
          "min": "8920202.0",
          "max": "389317152.0",
          "histogram": [
           {
            "bin_start": 8920202,
            "bin_end": 46959897,
            "count": 14
           },
           {
            "bin_start": 46959897,
            "bin_end": 84999592,
            "count": 0
           },
           {
            "bin_start": 84999592,
            "bin_end": 123039287,
            "count": 0
           },
           {
            "bin_start": 123039287,
            "bin_end": 161078982,
            "count": 0
           },
           {
            "bin_start": 161078982,
            "bin_end": 199118677,
            "count": 0
           },
           {
            "bin_start": 199118677,
            "bin_end": 237158372,
            "count": 0
           },
           {
            "bin_start": 237158372,
            "bin_end": 275198067,
            "count": 0
           },
           {
            "bin_start": 275198067,
            "bin_end": 313237762,
            "count": 0
           },
           {
            "bin_start": 313237762,
            "bin_end": 351277457,
            "count": 0
           },
           {
            "bin_start": 351277457,
            "bin_end": 389317152,
            "count": 1
           }
          ]
         }
        },
        {
         "name": "cidade",
         "dtype": "object",
         "stats": {
          "unique_count": 15,
          "nan_count": 0,
          "categories": [
           {
            "name": "São Paulo",
            "count": 1
           },
           {
            "name": "Guarulhos",
            "count": 1
           },
           {
            "name": "13 others",
            "count": 13
           }
          ]
         }
        },
        {
         "name": "estado",
         "dtype": "object",
         "stats": {
          "unique_count": 1,
          "nan_count": 0,
          "categories": [
           {
            "name": "SÃO PAULO",
            "count": 15
           }
          ]
         }
        },
        {
         "name": "_deepnote_index_column",
         "dtype": "int64"
        }
       ],
       "rows": [
        {
         "pib": 389317152,
         "cidade": "São Paulo",
         "estado": "SÃO PAULO",
         "_deepnote_index_column": 0
        },
        {
         "pib": 32473828,
         "cidade": "Guarulhos",
         "estado": "SÃO PAULO",
         "_deepnote_index_column": 1
        },
        {
         "pib": 31654720,
         "cidade": "Campinas",
         "estado": "SÃO PAULO",
         "_deepnote_index_column": 2
        },
        {
         "pib": 31616452,
         "cidade": "Osasco",
         "estado": "SÃO PAULO",
         "_deepnote_index_column": 3
        },
        {
         "pib": 28935768,
         "cidade": "São Bernardo do Campo",
         "estado": "SÃO PAULO",
         "_deepnote_index_column": 4
        },
        {
         "pib": 26908070,
         "cidade": "Barueri",
         "estado": "SÃO PAULO",
         "_deepnote_index_column": 5
        },
        {
         "pib": 22546134,
         "cidade": "Santos",
         "estado": "SÃO PAULO",
         "_deepnote_index_column": 6
        },
        {
         "pib": 22018042,
         "cidade": "São José dos Campos",
         "estado": "SÃO PAULO",
         "_deepnote_index_column": 7
        },
        {
         "pib": 16585137,
         "cidade": "Jundiaí",
         "estado": "SÃO PAULO",
         "_deepnote_index_column": 8
        },
        {
         "pib": 14709603,
         "cidade": "Santo André",
         "estado": "SÃO PAULO",
         "_deepnote_index_column": 9
        }
       ]
      },
      "text/plain": "            pib                 cidade     estado\n0   389317152.0              São Paulo  SÃO PAULO\n1    32473828.0              Guarulhos  SÃO PAULO\n2    31654720.0               Campinas  SÃO PAULO\n3    31616452.0                 Osasco  SÃO PAULO\n4    28935768.0  São Bernardo do Campo  SÃO PAULO\n5    26908070.0                Barueri  SÃO PAULO\n6    22546134.0                 Santos  SÃO PAULO\n7    22018042.0    São José dos Campos  SÃO PAULO\n8    16585137.0                Jundiaí  SÃO PAULO\n9    14709603.0            Santo André  SÃO PAULO\n10   14688064.0         Ribeirão Preto  SÃO PAULO\n11   14182597.0               Sorocaba  SÃO PAULO\n12    9969819.0                Diadema  SÃO PAULO\n13    9601211.0             Piracicaba  SÃO PAULO\n14    8920202.0     São Caetano do Sul  SÃO PAULO",
      "text/html": "<div>\n<style scoped>\n    .dataframe tbody tr th:only-of-type {\n        vertical-align: middle;\n    }\n\n    .dataframe tbody tr th {\n        vertical-align: top;\n    }\n\n    .dataframe thead th {\n        text-align: right;\n    }\n</style>\n<table border=\"1\" class=\"dataframe\">\n  <thead>\n    <tr style=\"text-align: right;\">\n      <th></th>\n      <th>pib</th>\n      <th>cidade</th>\n      <th>estado</th>\n    </tr>\n  </thead>\n  <tbody>\n    <tr>\n      <th>0</th>\n      <td>389317152.0</td>\n      <td>São Paulo</td>\n      <td>SÃO PAULO</td>\n    </tr>\n    <tr>\n      <th>1</th>\n      <td>32473828.0</td>\n      <td>Guarulhos</td>\n      <td>SÃO PAULO</td>\n    </tr>\n    <tr>\n      <th>2</th>\n      <td>31654720.0</td>\n      <td>Campinas</td>\n      <td>SÃO PAULO</td>\n    </tr>\n    <tr>\n      <th>3</th>\n      <td>31616452.0</td>\n      <td>Osasco</td>\n      <td>SÃO PAULO</td>\n    </tr>\n    <tr>\n      <th>4</th>\n      <td>28935768.0</td>\n      <td>São Bernardo do Campo</td>\n      <td>SÃO PAULO</td>\n    </tr>\n    <tr>\n      <th>5</th>\n      <td>26908070.0</td>\n      <td>Barueri</td>\n      <td>SÃO PAULO</td>\n    </tr>\n    <tr>\n      <th>6</th>\n      <td>22546134.0</td>\n      <td>Santos</td>\n      <td>SÃO PAULO</td>\n    </tr>\n    <tr>\n      <th>7</th>\n      <td>22018042.0</td>\n      <td>São José dos Campos</td>\n      <td>SÃO PAULO</td>\n    </tr>\n    <tr>\n      <th>8</th>\n      <td>16585137.0</td>\n      <td>Jundiaí</td>\n      <td>SÃO PAULO</td>\n    </tr>\n    <tr>\n      <th>9</th>\n      <td>14709603.0</td>\n      <td>Santo André</td>\n      <td>SÃO PAULO</td>\n    </tr>\n    <tr>\n      <th>10</th>\n      <td>14688064.0</td>\n      <td>Ribeirão Preto</td>\n      <td>SÃO PAULO</td>\n    </tr>\n    <tr>\n      <th>11</th>\n      <td>14182597.0</td>\n      <td>Sorocaba</td>\n      <td>SÃO PAULO</td>\n    </tr>\n    <tr>\n      <th>12</th>\n      <td>9969819.0</td>\n      <td>Diadema</td>\n      <td>SÃO PAULO</td>\n    </tr>\n    <tr>\n      <th>13</th>\n      <td>9601211.0</td>\n      <td>Piracicaba</td>\n      <td>SÃO PAULO</td>\n    </tr>\n    <tr>\n      <th>14</th>\n      <td>8920202.0</td>\n      <td>São Caetano do Sul</td>\n      <td>SÃO PAULO</td>\n    </tr>\n  </tbody>\n</table>\n</div>"
     },
     "metadata": {}
    }
   ]
  },
  {
   "cell_type": "markdown",
   "source": " - Qual é o PIB do estado de Santa Catarina?",
   "metadata": {
    "id": "Wg_la1wOewoB",
    "cell_id": "00038-cfbbfef7-a5fb-4733-9dde-6100d9c6569a",
    "deepnote_cell_type": "markdown"
   }
  },
  {
   "cell_type": "code",
   "metadata": {
    "id": "LwGqow5_ewoB",
    "cell_id": "00039-b17ddc84-a724-4b62-be20-9a7fac91ba2a",
    "deepnote_to_be_reexecuted": false,
    "source_hash": "248ed6c8",
    "execution_start": 1639612006197,
    "deepnote_cell_type": "code"
   },
   "source": "# código para responder a pergunta",
   "outputs": [],
   "execution_count": null
  },
  {
   "cell_type": "markdown",
   "source": " - Qual é o população da região sul?",
   "metadata": {
    "id": "Yaw2gDukfApr",
    "cell_id": "00040-e3d07e58-188d-4894-aadc-8d21b164f5ee",
    "deepnote_cell_type": "markdown"
   }
  },
  {
   "cell_type": "code",
   "metadata": {
    "id": "enEkNjFQfAps",
    "cell_id": "00041-2eb5f622-25a2-494a-afac-3cd67e61d2ce",
    "deepnote_to_be_reexecuted": false,
    "source_hash": "248ed6c8",
    "execution_start": 1639612006210,
    "deepnote_cell_type": "code"
   },
   "source": "# código para responder a pergunta",
   "outputs": [],
   "execution_count": null
  },
  {
   "cell_type": "markdown",
   "source": " - Qual é o PIB per capito médio das cidades do Mato Grosso do Sul?",
   "metadata": {
    "id": "9qOaKRS9fFu8",
    "cell_id": "00042-578ced88-8244-41c4-b193-681ab4d48033",
    "deepnote_cell_type": "markdown"
   }
  },
  {
   "cell_type": "code",
   "metadata": {
    "id": "gX8DVSfFfFu9",
    "cell_id": "00043-8c2259ac-83d9-41f5-9516-cf0b1b838820",
    "deepnote_to_be_reexecuted": false,
    "source_hash": "248ed6c8",
    "execution_start": 1639612006235,
    "deepnote_cell_type": "code"
   },
   "source": "# código para responder a pergunta",
   "outputs": [],
   "execution_count": null
  },
  {
   "cell_type": "markdown",
   "source": " - Qual é a população do Brasil?",
   "metadata": {
    "id": "lvf-VqaffS2D",
    "cell_id": "00044-d3a5565f-3994-43b7-8c29-c2c00d3a8bde",
    "deepnote_cell_type": "markdown"
   }
  },
  {
   "cell_type": "code",
   "metadata": {
    "id": "_nBsY6EcfS2E",
    "cell_id": "00045-d67d6ace-e43e-4e9f-9283-4590a54df2be",
    "deepnote_to_be_reexecuted": false,
    "source_hash": "248ed6c8",
    "execution_start": 1639612006243,
    "deepnote_cell_type": "code"
   },
   "source": "# código para responder a pergunta",
   "outputs": [],
   "execution_count": null
  },
  {
   "cell_type": "markdown",
   "source": "### **2.3. Visualização** ",
   "metadata": {
    "id": "hnTSARXpipkP",
    "cell_id": "00046-8687c652-cbd7-470f-ad15-5a0043307cb3",
    "deepnote_cell_type": "markdown"
   }
  },
  {
   "cell_type": "markdown",
   "source": "Utilize o dataframe `brasil_df` para gerar as seguintes visualizações.",
   "metadata": {
    "id": "7coMkY8xixFO",
    "cell_id": "00047-6df598a3-100a-4543-abe5-e6d2b7a79d4f",
    "deepnote_cell_type": "markdown"
   }
  },
  {
   "cell_type": "markdown",
   "source": " - Gere um gráfico de barras com as 10 cidades menos populosas do Brasil.",
   "metadata": {
    "id": "SgvPvh4Vjctx",
    "cell_id": "00048-72ceee3c-d2e5-4e2c-89d9-b79c188fff20",
    "deepnote_cell_type": "markdown"
   }
  },
  {
   "cell_type": "code",
   "metadata": {
    "id": "V8eM0uEUjcty",
    "cell_id": "00049-d45b77d6-32f9-4186-8296-b8b2b11fda15",
    "deepnote_to_be_reexecuted": false,
    "source_hash": "b4242d3a",
    "execution_start": 1639612006284,
    "deepnote_cell_type": "code"
   },
   "source": "# código para gerar a visualização",
   "outputs": [],
   "execution_count": null
  },
  {
   "cell_type": "markdown",
   "source": " - Gere um gráfico de pizza com a proporção da população do Brasil por região.",
   "metadata": {
    "id": "gsa3SrTjjrGV",
    "cell_id": "00050-09b2ee3a-7665-4306-93e3-cc9dfa30dbb1",
    "deepnote_cell_type": "markdown"
   }
  },
  {
   "cell_type": "code",
   "metadata": {
    "id": "1dvqIAEHjrGV",
    "cell_id": "00051-d067529e-fe34-4479-8dcc-2feeba3cc49e",
    "deepnote_to_be_reexecuted": false,
    "source_hash": "b4242d3a",
    "execution_start": 1639612006285,
    "deepnote_cell_type": "code"
   },
   "source": "# código para gerar a visualização",
   "outputs": [],
   "execution_count": null
  },
  {
   "cell_type": "markdown",
   "source": "<a style='text-decoration:none;line-height:16px;display:flex;color:#5B5B62;padding:10px;justify-content:end;' href='https://deepnote.com?utm_source=created-in-deepnote-cell&projectId=690ec1aa-ed7a-4520-b902-aba6fc5867d1' target=\"_blank\">\n<img alt='Created in deepnote.com' style='display:inline;max-height:16px;margin:0px;margin-right:7.5px;' src='data:image/svg+xml;base64,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' > </img>\nCreated in <span style='font-weight:600;margin-left:4px;'>Deepnote</span></a>",
   "metadata": {
    "tags": [],
    "created_in_deepnote_cell": true,
    "deepnote_cell_type": "markdown"
   }
  }
 ],
 "nbformat": 4,
 "nbformat_minor": 0,
 "metadata": {
  "colab": {
   "name": "module_13_exercise.ipynb",
   "provenance": [],
   "collapsed_sections": [],
   "toc_visible": true
  },
  "kernelspec": {
   "name": "python3",
   "display_name": "Python 3"
  },
  "deepnote_notebook_id": "da1d3c1e-275e-452e-9116-63c866b61db3",
  "deepnote": {},
  "deepnote_execution_queue": []
 }
}