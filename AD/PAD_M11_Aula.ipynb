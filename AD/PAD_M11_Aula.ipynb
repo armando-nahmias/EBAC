{
 "cells": [
  {
   "cell_type": "markdown",
   "source": "<img src=\"https://raw.githubusercontent.com/andre-marcos-perez/ebac-course-utils/main/media/logo/newebac_logo_black_half.png\" alt=\"ebac-logo\">\n\n---\n\n# **Módulo** | Análise de Dados: Coleta de Dados II\nCaderno de **Aula**<br> \nProfessor [André Perez](https://www.linkedin.com/in/andremarcosperez/)\n\n---",
   "metadata": {
    "id": "KJqp9AANOCtf",
    "cell_id": "00000-8d49353c-a420-41b2-959f-926b8c6ef853",
    "deepnote_cell_type": "markdown"
   }
  },
  {
   "cell_type": "markdown",
   "source": "# **Tópicos**\n\n<ol type=\"1\">\n  <li>Web Crawling;</li>\n  <li>Web Scraping;</li>\n  <li>Web API.</li>\n</ol>",
   "metadata": {
    "id": "d9jDtUbDOE1-",
    "cell_id": "00001-dcb3db3b-b23a-4c98-8b89-429e8facb83f",
    "deepnote_cell_type": "markdown"
   }
  },
  {
   "cell_type": "markdown",
   "source": "---",
   "metadata": {
    "id": "SmoHgt-lwkpD",
    "cell_id": "00002-aaf1764c-832d-4fc4-aa2f-dd70cc71a4b8",
    "deepnote_cell_type": "markdown"
   }
  },
  {
   "cell_type": "markdown",
   "source": "# **Aulas**",
   "metadata": {
    "id": "GABI6OW8OfQ2",
    "cell_id": "00003-b0d5067d-d53d-4bd3-97e4-24cf07af81d4",
    "deepnote_cell_type": "markdown"
   }
  },
  {
   "cell_type": "markdown",
   "source": "## 0\\. Estruturas de dados",
   "metadata": {
    "id": "eJ283bopLqLU",
    "cell_id": "00004-d160f1ab-1daf-4f79-8001-7d1d374f2bdf",
    "deepnote_cell_type": "markdown"
   }
  },
  {
   "cell_type": "markdown",
   "source": "*   **Não estruturado**: texto, imagem, aúdio, etc.\n*   **Semi estruturado**: html, json, etc.\n*   **Estruturado**: tabelas, planilhas, etc.\n\n",
   "metadata": {
    "id": "0gmSAOdOLqLU",
    "cell_id": "00005-cb152cd9-467f-43b4-80a1-30c690ee4a7c",
    "deepnote_cell_type": "markdown"
   }
  },
  {
   "cell_type": "markdown",
   "source": "## 1\\. Web Crawling",
   "metadata": {
    "id": "muD1vxozykSC",
    "cell_id": "00006-795afdfa-f3ac-4390-b7c0-06bae188950d",
    "deepnote_cell_type": "markdown"
   }
  },
  {
   "cell_type": "markdown",
   "source": "### **1.1. HTTP** ",
   "metadata": {
    "id": "5a3_syBIP6yO",
    "cell_id": "00007-66758940-0250-47d0-81bf-b59c35070049",
    "deepnote_cell_type": "markdown"
   }
  },
  {
   "cell_type": "markdown",
   "source": "O HTTP (hypertext transfer protocol) é um protocolo de transferência de hipertexto (texto, imagens, vídeos, etc.). É o protocolo padrão de transferência de informação pela internet: \n\n```\nhttp://www.google.com/\n```",
   "metadata": {
    "id": "NglCEvJDmqkw",
    "cell_id": "00008-c19f966d-501d-41ac-b096-cb1f1415b20f",
    "deepnote_cell_type": "markdown"
   }
  },
  {
   "cell_type": "markdown",
   "source": "**Cliente / Servidor** é a arquitetura da internet. Nela um **cliente** (navegador web, código Python, etc.) utiliza um **método** HTTP para interagir com um servidor (requisitar dados, enviar dados, etc.). O **servidor**, por sua vez, envia uma resposta para o cliente com um **código de retorno** indicando se a interação ocorreu com sucesso.",
   "metadata": {
    "id": "6Vz-WdRe6yT_",
    "cell_id": "00009-d6a81da0-28e4-4c79-b757-8173a9443303",
    "deepnote_cell_type": "markdown"
   }
  },
  {
   "cell_type": "markdown",
   "source": "**Métodos** são as operações que podemos realizar com o protocolo para interagir com um servidor, você pode encontrar uma lista completa neste [link](https://developer.mozilla.org/pt-BR/docs/Web/HTTP/Methods). Os mais importantes são: ",
   "metadata": {
    "id": "ixvdR5Hc6YBV",
    "cell_id": "00010-f6364aa4-7548-4d1b-92a2-ae9967e720d4",
    "deepnote_cell_type": "markdown"
   }
  },
  {
   "cell_type": "markdown",
   "source": "* **GET**: Requisitar dados, (acessar uma página web, carregar o feed do instagram, etc.);\n* **POST**: Enviar dados (login, cadastro, mensagem whatsapp, tweet do Twitter).",
   "metadata": {
    "id": "vQgT8F82xi5t",
    "cell_id": "00011-157e7ca7-b7e0-4884-bf56-69da355da22e",
    "deepnote_cell_type": "markdown"
   }
  },
  {
   "cell_type": "markdown",
   "source": "**Códigos de retorno** são as números de 0 a 1000 que recebemos como resposta do servidor ao realizar uma operação qualquer, você pode encontrar uma lista completa neste [link](https://developer.mozilla.org/pt-BR/docs/Web/HTTP/Status). Os mais importantes são:\n",
   "metadata": {
    "id": "4x0_bwpUxT5i",
    "cell_id": "00012-e0b5cd4c-5091-4842-b10a-55e4d467387a",
    "deepnote_cell_type": "markdown"
   }
  },
  {
   "cell_type": "markdown",
   "source": "\n\n* Entre **200** e **299**: Sucesso;\n* Entre **400** e **499**: Erro do cliente;\n* Entre **500** e **599**: Erro do servidor.\n",
   "metadata": {
    "id": "S54FAykB9vwz",
    "cell_id": "00013-faeec455-0242-4afa-af99-69d985fe8e49",
    "deepnote_cell_type": "markdown"
   }
  },
  {
   "cell_type": "markdown",
   "source": "Código **200** (sucesso) é o mais comum e o **404** (não encontrado) o mais famoso!",
   "metadata": {
    "id": "pnTZr_TR-FHG",
    "cell_id": "00014-27ed8d8a-6130-4c80-9536-abd0c77bd117",
    "deepnote_cell_type": "markdown"
   }
  },
  {
   "cell_type": "markdown",
   "source": "### **1.2. Pacote requests** ",
   "metadata": {
    "id": "E6D5rjlESJ1A",
    "cell_id": "00015-9cc1d9b5-2a18-438b-a7c9-325a96cf2ef0",
    "deepnote_cell_type": "markdown"
   }
  },
  {
   "cell_type": "markdown",
   "source": "Pacote Python para interagir com a web através do protocolo HTTP. A documentação pode ser encontrada neste ([link](https://docs.python-requests.org/en/master/)).",
   "metadata": {
    "id": "N0DOVccZ0bXA",
    "cell_id": "00016-3af77964-399a-4099-8b04-60acc134b378",
    "deepnote_cell_type": "markdown"
   }
  },
  {
   "cell_type": "code",
   "metadata": {
    "id": "yTaZdu4K_Y2u",
    "cell_id": "00017-26050ec2-491b-4263-ba5f-eafaf9600f17",
    "deepnote_cell_type": "code"
   },
   "source": "import requests\n\nprint(requests.__version__)",
   "execution_count": null,
   "outputs": []
  },
  {
   "cell_type": "markdown",
   "source": "Método:",
   "metadata": {
    "id": "zc4FNq2F_y_y",
    "cell_id": "00018-027004ee-62a0-41fa-b0a2-d61c77257d8d",
    "deepnote_cell_type": "markdown"
   }
  },
  {
   "cell_type": "code",
   "metadata": {
    "id": "kZxaere104cn",
    "cell_id": "00019-58b704fa-a129-4a12-aacf-ed1d501c0775",
    "deepnote_cell_type": "code"
   },
   "source": "resposta = requests.get('http://www.google.com')",
   "execution_count": null,
   "outputs": []
  },
  {
   "cell_type": "markdown",
   "source": "Código de retorno:",
   "metadata": {
    "id": "ExU-GJn2_7vb",
    "cell_id": "00020-fd2c5b00-aaaf-477a-bd95-891e872366c9",
    "deepnote_cell_type": "markdown"
   }
  },
  {
   "cell_type": "code",
   "metadata": {
    "id": "o1zN-RhW_4LF",
    "cell_id": "00021-52b13df9-279b-4bab-aa62-1f9c80b7562a",
    "deepnote_cell_type": "code"
   },
   "source": "print(resposta.status_code)",
   "execution_count": null,
   "outputs": []
  },
  {
   "cell_type": "markdown",
   "source": "Em geral, é bom verificar o código:",
   "metadata": {
    "id": "aWuUGOgN_yPX",
    "cell_id": "00022-66f1fb8f-3487-49de-8a72-b940373c9f6f",
    "deepnote_cell_type": "markdown"
   }
  },
  {
   "cell_type": "code",
   "metadata": {
    "id": "rIZy-Z30_xKE",
    "cell_id": "00023-e8b28193-3173-4331-8368-f71b5bc2e793",
    "deepnote_cell_type": "code"
   },
   "source": "import requests\nfrom requests.exceptions import HTTPError\n\nconteudo = None\nURL = 'http://www.google.com/andre'\n\ntry:\n  resposta = requests.get(URL)\n  resposta.raise_for_status()\nexcept HTTPError as exc:\n  print(exc)\nelse:\n  conteudo = resposta.text\n\nprint(conteudo)",
   "execution_count": null,
   "outputs": []
  },
  {
   "cell_type": "markdown",
   "source": "### **1.3. Web Crawl** ",
   "metadata": {
    "id": "9IX37Im4BCu7",
    "cell_id": "00024-1409288b-214e-4c94-9cee-38c887b6fb80",
    "deepnote_cell_type": "markdown"
   }
  },
  {
   "cell_type": "markdown",
   "source": "Aplicação que interage com a web de forma automatizada, também conhecido como *web spider* ou *bot*. O pacote **requests** funciona bem para interaçõces simples (apenas metodos HTTP) já os pacotes **selenium** ([documentação](https://selenium-python.readthedocs.io/)) e **scrapy** ([documentação](https://docs.scrapy.org/en/latest/)) permitem que você navegue pela internet.",
   "metadata": {
    "id": "6Eg5qMFwBCve",
    "cell_id": "00025-12aea908-988d-4548-aeef-e33e13cfd8ee",
    "deepnote_cell_type": "markdown"
   }
  },
  {
   "cell_type": "markdown",
   "source": "> **Web crawling** é um tema que **requer muito cuidado**, em geral você precisa de autorização do website para acessa-lo automaticamente. Empresas que usam a tecnologia (já trabalhei em uma) possuem departamento jurídicos dedicados ao assunto.",
   "metadata": {
    "id": "eII8lMdcCrlD",
    "cell_id": "00026-e914d943-16b7-47f2-a86c-8a8cc0eb43fc",
    "deepnote_cell_type": "markdown"
   }
  },
  {
   "cell_type": "markdown",
   "source": "> A maioria dos sites fornece um arquivo chamado `robots.txt` informando como um web crawler pode interagir com a página.",
   "metadata": {
    "id": "Fe2V68akHcZm",
    "cell_id": "00027-80786dcd-aacf-4dfb-93f6-5bf3a6c7f397",
    "deepnote_cell_type": "markdown"
   }
  },
  {
   "cell_type": "markdown",
   "source": "**Exemplo**: Função de web crawler.",
   "metadata": {
    "id": "jIsKVyzeI5-E",
    "cell_id": "00028-017cca31-8217-4598-9619-126689b4f034",
    "deepnote_cell_type": "markdown"
   }
  },
  {
   "cell_type": "code",
   "metadata": {
    "id": "KKKeAJDrIQb_",
    "cell_id": "00029-64cdf4d7-85ab-4592-89be-0f7a2922be61",
    "deepnote_cell_type": "code"
   },
   "source": "import requests\nfrom requests.exceptions import HTTPError\n\ndef crawl_website(url: str) -> str:\n\n  try:\n    resposta = requests.get(url)\n    resposta.raise_for_status()\n  except HTTPError as exc:\n    print(exc)\n  else:\n    return resposta.text",
   "execution_count": null,
   "outputs": []
  },
  {
   "cell_type": "markdown",
   "source": "**Exemplo:** Wikipedia robots.txt",
   "metadata": {
    "id": "1PEah5unHz29",
    "cell_id": "00030-3e6f9560-4761-412b-8914-83c5663e5946",
    "deepnote_cell_type": "markdown"
   }
  },
  {
   "cell_type": "code",
   "metadata": {
    "id": "Jqh7RQyXH5Tc",
    "cell_id": "00031-fa36fabc-c561-4f35-82fe-86844a381a2c",
    "deepnote_cell_type": "code"
   },
   "source": "URL = 'https://en.wikipedia.org/robots.txt'\n\nconteudo = crawl_website(url=URL)\nprint(conteudo)",
   "execution_count": null,
   "outputs": []
  },
  {
   "cell_type": "markdown",
   "source": "**Exemplo:** Extrair a página da Wikipédia sobre web crawlers. ",
   "metadata": {
    "id": "R1ZSzkmlDdFv",
    "cell_id": "00032-2cd78c03-174e-49ca-b5b7-af78d5513666",
    "deepnote_cell_type": "markdown"
   }
  },
  {
   "cell_type": "code",
   "metadata": {
    "id": "mF4DSwhc3ChM",
    "cell_id": "00033-83f7cdd6-1051-42d8-b2fa-ebccfa7d3a52",
    "deepnote_cell_type": "code"
   },
   "source": "URL = 'https://en.wikipedia.org/wiki/Web_crawler'\n\nconteudo = crawl_website(url=URL)\nprint(conteudo)",
   "execution_count": null,
   "outputs": []
  },
  {
   "cell_type": "markdown",
   "source": "## 2\\. Web Scraping",
   "metadata": {
    "id": "4rRCvy_UURrM",
    "cell_id": "00034-4bb2093e-b8ac-43f7-99ce-009b06a61aa4",
    "deepnote_cell_type": "markdown"
   }
  },
  {
   "cell_type": "markdown",
   "source": "### **2.1. Formato HTML** ",
   "metadata": {
    "id": "78RHF81A3tat",
    "cell_id": "00035-82ce42bf-2226-4015-bec2-b9563f99eead",
    "deepnote_cell_type": "markdown"
   }
  },
  {
   "cell_type": "markdown",
   "source": "Um arquivo **texto** semi-estruturado, organizado por **tags**, você pode encontrar uma lista completa neste [link](https://www.w3schools.com/tags/ref_byfunc.asp). \n",
   "metadata": {
    "id": "i3f-X7y23onm",
    "cell_id": "00036-88a1d687-d339-4534-95de-e2129debf2f2",
    "deepnote_cell_type": "markdown"
   }
  },
  {
   "cell_type": "markdown",
   "source": "**Exemplo:** Arquivo `lotr.html`.",
   "metadata": {
    "id": "nKDF9EBH3onp",
    "cell_id": "00037-43030386-7b8e-4fc2-8925-d777d55880b3",
    "deepnote_cell_type": "markdown"
   }
  },
  {
   "cell_type": "code",
   "metadata": {
    "id": "HLqVHEHZ3onq",
    "cell_id": "00038-e1f9e03a-db31-4bb9-9a25-8c0c7443a5c5",
    "deepnote_cell_type": "code"
   },
   "source": "%%html\n<html>\n  <head>\n    <!-- metadata -->\n  </head>\n  <body>\n    <h3>Senhor dos Anéis</h3>\n    <p>Filmes:</p>\n    <ul>\n      <li><b>2001:</b> O Senhor dos Anéis: A Sociedade do Anel</li>\n      <li><b>2002:</b> O Senhor dos Anéis: As Duas Torres</li>\n      <li><b>2003:</b> O Senhor dos Anéis: O Retorno do Rei</li>\n    </ul>\n  </body>\n</html>\n",
   "execution_count": null,
   "outputs": []
  },
  {
   "cell_type": "code",
   "metadata": {
    "id": "RRhGZvNuOEzf",
    "cell_id": "00039-fffcfdb2-d9ef-4650-9096-0cee7a48180f",
    "deepnote_to_be_reexecuted": false,
    "source_hash": "e19f09aa",
    "execution_start": 1639100096681,
    "execution_millis": 14,
    "deepnote_cell_type": "code"
   },
   "source": "%%writefile lotr.html\n<html>\n  <head>\n    <!-- metadata -->\n  </head>\n  <body>\n    <h3>Senhor dos Anéis</h3>\n    <p>Filmes:</p>\n    <ol>\n      <li><b>2001:</b> O Senhor dos Anéis: A Sociedade do Anel</li>\n      <li><b>2002:</b> O Senhor dos Anéis: As Duas Torres</li>\n      <li><b>2003:</b> O Senhor dos Anéis: O Retorno do Rei</li>\n    </ol>\n  </body>\n</html>",
   "execution_count": null,
   "outputs": [
    {
     "name": "stdout",
     "text": "Writing lotr.html\n",
     "output_type": "stream"
    }
   ]
  },
  {
   "cell_type": "markdown",
   "source": "### **2.2. Pacote beautifulsoup4** ",
   "metadata": {
    "id": "OUa6f2wEM_AX",
    "cell_id": "00040-3d26bed7-e3ff-4aaa-aa80-764f98f4e42c",
    "deepnote_cell_type": "markdown"
   }
  },
  {
   "cell_type": "markdown",
   "source": "Pacote Python para extrair informações de arquivos HTML. A documentação pode ser encontrada neste ([link](https://www.crummy.com/software/BeautifulSoup/bs4/doc/)).\n\n\n",
   "metadata": {
    "id": "5nmdEpbvM_An",
    "cell_id": "00041-4f3161a9-511d-4c07-92bf-59b8830c8d81",
    "deepnote_cell_type": "markdown"
   }
  },
  {
   "cell_type": "markdown",
   "source": "**Exemplo:** Extrair os filmes e anos do arquivo `lotr.html` em um dicionário.",
   "metadata": {
    "id": "QGuwOx4zNn69",
    "cell_id": "00042-d3280fd9-2700-4969-b94d-923252443cba",
    "deepnote_cell_type": "markdown"
   }
  },
  {
   "cell_type": "code",
   "metadata": {
    "id": "ZYTOOGfINnKT",
    "cell_id": "00043-58968cf0-3f55-4482-9a7b-1ab4c09b6355",
    "deepnote_to_be_reexecuted": false,
    "source_hash": "574ec5e6",
    "execution_start": 1639100100651,
    "execution_millis": 0,
    "deepnote_cell_type": "code"
   },
   "source": "from bs4 import BeautifulSoup\n\npagina = BeautifulSoup(open('lotr.html', mode='r'), 'html.parser')",
   "execution_count": null,
   "outputs": []
  },
  {
   "cell_type": "code",
   "metadata": {
    "id": "3FWl9xZCPAZ6",
    "cell_id": "00044-8e3fef5f-1a7a-482d-875a-c4b0ec385907",
    "deepnote_to_be_reexecuted": false,
    "source_hash": "db09b273",
    "execution_start": 1639100103815,
    "execution_millis": 4,
    "deepnote_cell_type": "code"
   },
   "source": "filmes_li = pagina.find_all('li')\nprint(filmes_li)",
   "execution_count": null,
   "outputs": [
    {
     "name": "stdout",
     "text": "[<li><b>2001:</b> O Senhor dos Anéis: A Sociedade do Anel</li>, <li><b>2002:</b> O Senhor dos Anéis: As Duas Torres</li>, <li><b>2003:</b> O Senhor dos Anéis: O Retorno do Rei</li>]\n",
     "output_type": "stream"
    }
   ]
  },
  {
   "cell_type": "code",
   "metadata": {
    "id": "je4Ga810QypZ",
    "cell_id": "00045-81e2527b-d845-49c9-9e48-34cd472311e2",
    "deepnote_to_be_reexecuted": false,
    "source_hash": "a3d66167",
    "execution_start": 1639100106099,
    "execution_millis": 6,
    "deepnote_cell_type": "code"
   },
   "source": "print(list(set(map(lambda filme_li: type(filme_li), filmes_li))))",
   "execution_count": null,
   "outputs": [
    {
     "name": "stdout",
     "text": "[<class 'bs4.element.Tag'>]\n",
     "output_type": "stream"
    }
   ]
  },
  {
   "cell_type": "code",
   "metadata": {
    "id": "AQ5PD0YpPWKw",
    "cell_id": "00046-d254b596-10fe-46f3-bcb1-2c3647325daf",
    "deepnote_cell_type": "code"
   },
   "source": "filmes = []\n\nfor filme_li in filmes_li:\n  filme = filme_li.get_text()\n  ano = int(filme.split(sep=':')[0].strip())\n  titulo = ':'.join(filme.split(sep=':')[1:]).strip()\n  filmes.append({'ano': ano, 'titulo': titulo})\n\nfor filme in filmes:\n  print(filme)",
   "execution_count": null,
   "outputs": []
  },
  {
   "cell_type": "markdown",
   "source": "### **2.3. Web Scrape** ",
   "metadata": {
    "id": "JnZYDOJ5UGeq",
    "cell_id": "00047-911b0289-1083-4f30-92b9-588ea6268329",
    "deepnote_cell_type": "markdown"
   }
  },
  {
   "cell_type": "markdown",
   "source": "Aplicação que extrai conteúdo de páginas web de forma automatizada, em geral é aplicado após o processo de web crawling.",
   "metadata": {
    "id": "roX-_J4FUWO0",
    "cell_id": "00048-fb59b1b0-06ac-40dc-b5db-309f3fb1f9e4",
    "deepnote_cell_type": "markdown"
   }
  },
  {
   "cell_type": "markdown",
   "source": "**Exemplo:** Extrair todo o texto da página da Wikipédia sobre web crawlers e contar a ocorrência da palavra `crawler`.",
   "metadata": {
    "id": "su27z_AGRWyX",
    "cell_id": "00049-f29093c3-1244-47d2-acc7-178b335a4c7a",
    "deepnote_cell_type": "markdown"
   }
  },
  {
   "cell_type": "code",
   "metadata": {
    "id": "sg6BGdCYUqiP",
    "cell_id": "00050-a0d22e0f-54e2-46db-b3d0-49a3610e33ea",
    "deepnote_cell_type": "code"
   },
   "source": "URL = 'https://en.wikipedia.org/wiki/Web_crawler'\n\nconteudo = crawl_website(url=URL)\nwith open(file='wiki.html', mode='w', encoding='utf8') as arquivo:\n  arquivo.write(conteudo)",
   "execution_count": null,
   "outputs": []
  },
  {
   "cell_type": "code",
   "metadata": {
    "id": "ZdvMdGMrRjES",
    "cell_id": "00051-c9fae2bd-1664-4e46-b5cb-06e6a06022e2",
    "deepnote_cell_type": "code"
   },
   "source": "from bs4 import BeautifulSoup\n\npagina = BeautifulSoup(open('wiki.html', mode='r'), 'html.parser')",
   "execution_count": null,
   "outputs": []
  },
  {
   "cell_type": "code",
   "metadata": {
    "id": "hygnlatvRngb",
    "cell_id": "00052-30c0e086-e98c-401b-a594-9b948bab9566",
    "deepnote_cell_type": "code"
   },
   "source": "texto = pagina.get_text()\nprint(texto)",
   "execution_count": null,
   "outputs": []
  },
  {
   "cell_type": "code",
   "metadata": {
    "id": "W_PyA0akSSWH",
    "cell_id": "00053-47f236d3-55b7-4ac2-ae43-82969fa7347c",
    "deepnote_cell_type": "code"
   },
   "source": "import re\n\nocorrencias = len(re.findall('crawler', texto, re.IGNORECASE))\nprint(ocorrencias)",
   "execution_count": null,
   "outputs": []
  },
  {
   "cell_type": "markdown",
   "source": "## 3\\. Web API",
   "metadata": {
    "id": "ELgoMRAAUSjv",
    "cell_id": "00054-700a0ad9-abaa-4b09-922c-fb1062df3626",
    "deepnote_cell_type": "markdown"
   }
  },
  {
   "cell_type": "markdown",
   "source": "### **3.1. Formato JSON** ",
   "metadata": {
    "id": "gdukZft-DRcG",
    "cell_id": "00055-9701ed04-bc99-4180-bfb0-bea834ffe9d7",
    "deepnote_cell_type": "markdown"
   }
  },
  {
   "cell_type": "markdown",
   "source": "Um arquivo semi-estruturado, organizado por **chave/valor**, é equivalente a um dicionário Python.\n\n\n\n",
   "metadata": {
    "id": "zRXV0SW5DRcg",
    "cell_id": "00056-b6bb5234-29bf-4e14-84d1-e62340582d92",
    "deepnote_cell_type": "markdown"
   }
  },
  {
   "cell_type": "markdown",
   "source": "**Arquivo JSON:** lotr.json",
   "metadata": {
    "id": "xMIEZoXoDRcg",
    "cell_id": "00057-60b105bd-ac70-4f2f-8bd1-29c721de9cec",
    "deepnote_cell_type": "markdown"
   }
  },
  {
   "cell_type": "code",
   "metadata": {
    "id": "NoqBO0BBUATc",
    "cell_id": "00058-772d588c-1dfb-42bb-98dd-bcfac9959a98",
    "deepnote_cell_type": "code"
   },
   "source": "%%writefile lotr.json\n[\n    {\n        \"ano\": 2001,\n        \"titulo\": \"O Senhor dos Anéis: A Sociedade do Anel\"\n    },\n    {\n        \"ano\": 2002,\n        \"titulo\": \"O Senhor dos Anéis: As Duas Torres\"\n    },\n    {\n        \"ano\": 2003,\n        \"titulo\": \"O Senhor dos Anéis: O Retorno do Rei\"\n    }\n]",
   "execution_count": null,
   "outputs": []
  },
  {
   "cell_type": "markdown",
   "source": "### **2.2. Pacote json** ",
   "metadata": {
    "id": "NxrikQCDGiU5",
    "cell_id": "00059-78a3ffe2-ad5d-4dc3-a813-cd6e6fa80990",
    "deepnote_cell_type": "markdown"
   }
  },
  {
   "cell_type": "markdown",
   "source": "Pacote nativo do Python para interagir com dados no formato json.",
   "metadata": {
    "id": "26pAIk2JGiU6",
    "cell_id": "00060-eff4b63f-68f1-4e63-9d5a-ff61833d1db7",
    "deepnote_cell_type": "markdown"
   }
  },
  {
   "cell_type": "markdown",
   "source": "**Exemplo**: Arquivo JSON para dicionario Python.",
   "metadata": {
    "id": "Vx-lQHLyMXS_",
    "cell_id": "00061-158e230b-c2ce-4fe7-a355-e40311bc4f75",
    "deepnote_cell_type": "markdown"
   }
  },
  {
   "cell_type": "code",
   "metadata": {
    "id": "Y5H7le-dGzKT",
    "cell_id": "00062-88220a13-2c4d-466f-a87f-d8d6d542b6ab",
    "deepnote_cell_type": "code"
   },
   "source": "import json\n\ndata = json.load(open(file='lotr.json', mode='r'))\nprint(data)",
   "execution_count": null,
   "outputs": []
  },
  {
   "cell_type": "markdown",
   "source": "**Exemplo**: Dicionario Python para formato JSON.",
   "metadata": {
    "id": "oQeBERRaW97K",
    "cell_id": "00063-78d52ab8-9c42-4823-a27f-0a4d38a7c7a5",
    "deepnote_cell_type": "markdown"
   }
  },
  {
   "cell_type": "code",
   "metadata": {
    "id": "LuX3saC6W97z",
    "cell_id": "00064-b98387fa-c17d-4733-8827-ceda8f0329e4",
    "deepnote_cell_type": "code"
   },
   "source": "import json\n\ndata_json = json.dumps(data, indent=2, ensure_ascii=False)\nprint(data_json)",
   "execution_count": null,
   "outputs": []
  },
  {
   "cell_type": "markdown",
   "source": "### **2.3. Web API** ",
   "metadata": {
    "id": "bo8UCA3tXUWd",
    "cell_id": "00065-673e07ee-a357-41f4-8e62-4d3ac349d8ac",
    "deepnote_cell_type": "markdown"
   }
  },
  {
   "cell_type": "markdown",
   "source": "Uma API (application programming interface) é uma interface de comunicação com uma aplicação no formato cliente/servidor. Uma REST API é uma API que segue o padrão HTTP e transfere dados (em geral) no formato JSON. APIs fechadas são pagas e exigem autenticação (via método HTTP POST). APIs abertas são gratuitas e podem exigir autenticação.",
   "metadata": {
    "id": "_jxUM48wXUWf",
    "cell_id": "00066-3bfafb64-6af5-4529-9bd5-76612f36bf37",
    "deepnote_cell_type": "markdown"
   }
  },
  {
   "cell_type": "markdown",
   "source": "Alguns exemplos:\n\n* [Twitter](https://developer.twitter.com/en/docs);\n* [Governo Federal](https://www.gov.br/conecta/catalogo/).",
   "metadata": {
    "id": "6wlzx767cFzD",
    "cell_id": "00067-fd2b8452-125d-4819-8534-ffa1953298f1",
    "deepnote_cell_type": "markdown"
   }
  },
  {
   "cell_type": "markdown",
   "source": "**Exemplo**: Extrair a taxa CDI da API da B3.",
   "metadata": {
    "id": "h9p2M6ZbZnCV",
    "cell_id": "00068-2a078886-a1a0-4c62-8d07-53fdaaec0615",
    "deepnote_cell_type": "markdown"
   }
  },
  {
   "cell_type": "code",
   "metadata": {
    "id": "7wAUji7_Yc72",
    "cell_id": "00069-998dc264-36d0-464c-a7a8-71baff3d8c04",
    "deepnote_cell_type": "code"
   },
   "source": "import requests\nfrom requests.exceptions import HTTPError\n\nconteudo = None\nURL = 'https://www2.cetip.com.br/ConsultarTaxaDi/ConsultarTaxaDICetip.aspx'\n\ntry:\n  resposta = requests.get(URL)\n  resposta.raise_for_status()\nexcept HTTPError as exc:\n  print(exc)\nelse:\n  conteudo = resposta.text\n\nprint(conteudo)\nprint(type(conteudo))",
   "execution_count": null,
   "outputs": []
  },
  {
   "cell_type": "code",
   "metadata": {
    "id": "B2y4J3OFZUxE",
    "cell_id": "00070-f8d9ddf7-e806-4107-a3f1-7db7d65aeee6",
    "deepnote_cell_type": "code"
   },
   "source": "import json\n\ndata = json.loads(conteudo)\nprint(data)",
   "execution_count": null,
   "outputs": []
  },
  {
   "cell_type": "code",
   "metadata": {
    "id": "tvlPzYvYZcHI",
    "cell_id": "00071-6b99df2d-677f-4a75-a3cc-58f5afef7433",
    "deepnote_cell_type": "code"
   },
   "source": "cdi = float(data['taxa'].replace(',', '.'))\nprint(cdi)",
   "execution_count": null,
   "outputs": []
  },
  {
   "cell_type": "markdown",
   "source": "<a style='text-decoration:none;line-height:16px;display:flex;color:#5B5B62;padding:10px;justify-content:end;' href='https://deepnote.com?utm_source=created-in-deepnote-cell&projectId=690ec1aa-ed7a-4520-b902-aba6fc5867d1' target=\"_blank\">\n<img alt='Created in deepnote.com' style='display:inline;max-height:16px;margin:0px;margin-right:7.5px;' src='data:image/svg+xml;base64,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' > </img>\nCreated in <span style='font-weight:600;margin-left:4px;'>Deepnote</span></a>",
   "metadata": {
    "tags": [],
    "created_in_deepnote_cell": true,
    "deepnote_cell_type": "markdown"
   }
  }
 ],
 "nbformat": 4,
 "nbformat_minor": 0,
 "metadata": {
  "colab": {
   "name": "module_11_class.ipynb",
   "provenance": [],
   "collapsed_sections": [],
   "toc_visible": true
  },
  "kernelspec": {
   "name": "python3",
   "display_name": "Python 3"
  },
  "deepnote_notebook_id": "fa9288e9-45b4-4efb-88d4-dfd819e6b7b6",
  "deepnote": {},
  "deepnote_execution_queue": []
 }
}