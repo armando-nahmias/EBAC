{
  "cells": [
    {
      "cell_type": "markdown",
      "metadata": {
        "id": "KJqp9AANOCtf"
      },
      "source": [
        "<img src=\"https://raw.githubusercontent.com/andre-marcos-perez/ebac-course-utils/main/media/logo/newebac_logo_black_half.png\" alt=\"ebac-logo\">\n",
        "\n",
        "---\n",
        "\n",
        "# **Módulo** | Análise de Dados: Aprendizado de Máquina, Regressão\n",
        "Caderno de **Aula**<br> \n",
        "Professor [André Perez](https://www.linkedin.com/in/andremarcosperez/)\n",
        "\n",
        "---"
      ]
    },
    {
      "cell_type": "markdown",
      "metadata": {
        "id": "d9jDtUbDOE1-"
      },
      "source": [
        "# **Tópicos**\n",
        "\n",
        "<ol type=\"1\">\n",
        "  <li>Regressão;</li>\n",
        "  <li>Dados;</li>\n",
        "  <li>Treino;</li>\n",
        "  <li>Avaliação;</li>\n",
        "  <li>Predição;</li>\n",
        "</ol>"
      ]
    },
    {
      "cell_type": "markdown",
      "metadata": {
        "id": "SmoHgt-lwkpD"
      },
      "source": [
        "---"
      ]
    },
    {
      "cell_type": "markdown",
      "metadata": {
        "id": "GABI6OW8OfQ2"
      },
      "source": [
        "# **Aulas**"
      ]
    },
    {
      "cell_type": "markdown",
      "metadata": {
        "id": "kzRDceCvkFj2"
      },
      "source": [
        "## 0\\. Abordagens estatísticas"
      ]
    },
    {
      "cell_type": "markdown",
      "metadata": {
        "id": "jzEvBUk3qb1n"
      },
      "source": [
        "*   **Descritiva**: foco no passado para entender o **presente**.\n",
        "*   <font color='red'>**Preditiva**</font>: foca no passado para inferir o **futuro**."
      ]
    },
    {
      "cell_type": "markdown",
      "metadata": {
        "id": "muD1vxozykSC"
      },
      "source": [
        "## 1\\. Regressão"
      ]
    },
    {
      "cell_type": "markdown",
      "metadata": {
        "id": "MHESfVrl-rPV"
      },
      "source": [
        "### **1.1. Motivação** "
      ]
    },
    {
      "cell_type": "markdown",
      "metadata": {
        "id": "jRY2EsM09Dpk"
      },
      "source": [
        "> Dado a **altura** de um jogador, qual deve ser seu **peso**?"
      ]
    },
    {
      "cell_type": "markdown",
      "metadata": {
        "id": "UrsxlQhH7WrD"
      },
      "source": [
        "Queremos uma equação matemática que represente esta relação. Uma possível equação seria a equação linear de primero grau:"
      ]
    },
    {
      "cell_type": "markdown",
      "metadata": {
        "id": "8LA5T9vA-2vu"
      },
      "source": [
        " > $y = f(x) = \\textbf{a}x + \\textbf{b}$"
      ]
    },
    {
      "cell_type": "markdown",
      "metadata": {
        "id": "peBjXQrnK_ZG"
      },
      "source": [
        "O número $\\textbf{a}$ é chamado de coeficiente angular e controla a inclinação da reta, já o número $\\textbf{b}$ é chamado de coeficiente linear e indica o deslocamento horizontal da reta. A idéia é predizer o peso que um atleta deve ter dado a sua altura, ou seja:"
      ]
    },
    {
      "cell_type": "markdown",
      "metadata": {
        "id": "DiRWVVji_J9b"
      },
      "source": [
        " > $peso = f(altura) = \\textbf{a}(altura) + \\textbf{b}$"
      ]
    },
    {
      "cell_type": "markdown",
      "metadata": {
        "id": "hfQQ1gYE8krr"
      },
      "source": [
        "Qual o melhor valor de $\\textbf{a}$ e $\\textbf{b}$ para esse conjunto de dados?"
      ]
    },
    {
      "cell_type": "markdown",
      "metadata": {
        "id": "qBqXG-IFOsed"
      },
      "source": [
        "### **1.2. Regressão Linear** "
      ]
    },
    {
      "cell_type": "markdown",
      "metadata": {
        "id": "QO7mHsmbnh1V"
      },
      "source": [
        "A regressão linear é um abordagem estatística que busca encontrar a relaçao entre um atributo alvo $y$ (variável resposta) e um conjunto de atributos preditores $x_i$ através de uma linha reta (em uma ou mais dimensões), relação essa preferencialmente **causal**. De maneira geral, busca encontrar $\\textbf{a}_i$ e $\\textbf{b}$ tal que:"
      ]
    },
    {
      "cell_type": "markdown",
      "metadata": {
        "id": "IGc7CjjPFiip"
      },
      "source": [
        " > $y = f(x_i) = (\\sum_{i=1}^{n} \\textbf{a}_ix_i) + \\textbf{b}$ "
      ]
    },
    {
      "cell_type": "markdown",
      "metadata": {
        "id": "Ly8ncB6FGS0q"
      },
      "source": [
        "Para apenas uma dimensão ou um atributo, temos: "
      ]
    },
    {
      "cell_type": "markdown",
      "metadata": {
        "id": "GNr9NL5IGa23"
      },
      "source": [
        " > $y = f(x_1) = \\textbf{a}_1x_1 + \\textbf{b}$ "
      ]
    },
    {
      "cell_type": "markdown",
      "metadata": {
        "id": "T0imkeOJGi2j"
      },
      "source": [
        "- **Exemplo**: peso como função da altura."
      ]
    },
    {
      "cell_type": "markdown",
      "metadata": {
        "id": "ZOxl9i3lGneT"
      },
      "source": [
        " > $peso = f(altura) = \\textbf{a}(altura) + \\textbf{b}$"
      ]
    },
    {
      "cell_type": "markdown",
      "metadata": {
        "id": "kbnb7oLBHADZ"
      },
      "source": [
        "Através do **treino** do modelo, encontra-se os valores de $\\textbf{a}$ e $\\textbf{b}$ que melhor se ajustam a um conjunto de dados."
      ]
    },
    {
      "cell_type": "markdown",
      "metadata": {
        "id": "JMCTS_HYnldX"
      },
      "source": [
        "### **1.3. Pacote Scikit-Learn** "
      ]
    },
    {
      "cell_type": "markdown",
      "metadata": {
        "id": "MADMUp6Nn5mA"
      },
      "source": [
        "Pacote Python para ciência de dados e *machine learning*. A documentação pode ser encontrada neste [link](https://scikit-learn.org/stable/). Possuí diversos modelos para aprendizado supervisionado, não supervisionado, etc. além de métodos auxiliares. Para regressão linear, temos:"
      ]
    },
    {
      "cell_type": "code",
      "execution_count": null,
      "metadata": {
        "id": "-Eq7blcfrq27"
      },
      "outputs": [],
      "source": [
        "from sklearn.linear_model import LinearRegression"
      ]
    },
    {
      "cell_type": "code",
      "execution_count": null,
      "metadata": {
        "id": "algkFI7xsvS8"
      },
      "outputs": [],
      "source": [
        "model = LinearRegression()"
      ]
    },
    {
      "cell_type": "markdown",
      "metadata": {
        "id": "PD0FiM7UJOGT"
      },
      "source": [
        "## 2\\. Dados"
      ]
    },
    {
      "cell_type": "markdown",
      "metadata": {
        "id": "AAwJC4RyS0xa"
      },
      "source": [
        "### **2.1. Pré-processamento** "
      ]
    },
    {
      "cell_type": "markdown",
      "metadata": {
        "id": "Hc5TSKlSbo2l"
      },
      "source": [
        "Neste módulo, vamos utilizar dados sobre o salário mensal em dólares americados de jogadores da NBA em 2020. O conjunto de dados está neste [link](https://github.com/andre-marcos-perez/ebac-course-utils/blob/main/dataset/nba.csv) e é uma cópia do conjunto de dados do Kaggle, presente neste [link](https://www.kaggle.com/isaienkov/nba2k20-player-dataset). "
      ]
    },
    {
      "cell_type": "code",
      "execution_count": null,
      "metadata": {
        "id": "qwrTkwgCuq1E"
      },
      "outputs": [],
      "source": [
        "!wget -q \"https://raw.githubusercontent.com/andre-marcos-perez/ebac-course-utils/main/dataset/nba.csv\" -O nba.csv "
      ]
    },
    {
      "cell_type": "code",
      "execution_count": null,
      "metadata": {
        "id": "cyZNZR1du3lw"
      },
      "outputs": [],
      "source": [
        "import numpy as np\n",
        "import pandas as pd\n",
        "import seaborn as sns"
      ]
    },
    {
      "cell_type": "code",
      "execution_count": null,
      "metadata": {
        "id": "9Xzq2BIju590"
      },
      "outputs": [],
      "source": [
        "nba = pd.read_csv(\"nba.csv\")"
      ]
    },
    {
      "cell_type": "markdown",
      "metadata": {
        "id": "6rAbAG6w-g1I"
      },
      "source": [
        "Vamos conhecer um pouco melhor o conjunto de dados."
      ]
    },
    {
      "cell_type": "code",
      "execution_count": null,
      "metadata": {
        "id": "Lg0QWBM1vHlL"
      },
      "outputs": [],
      "source": [
        "nba.head()"
      ]
    },
    {
      "cell_type": "code",
      "execution_count": null,
      "metadata": {
        "id": "hFW_zH8nvuJJ"
      },
      "outputs": [],
      "source": [
        "nba.info()"
      ]
    },
    {
      "cell_type": "code",
      "execution_count": null,
      "metadata": {
        "id": "feqHBwQ-68yK"
      },
      "outputs": [],
      "source": [
        "nba.describe().T"
      ]
    },
    {
      "cell_type": "code",
      "execution_count": null,
      "metadata": {
        "id": "YVhOvOpJ6-6T"
      },
      "outputs": [],
      "source": [
        "nba.drop([\"rating\", \"draft_year\"], axis=1).describe()"
      ]
    },
    {
      "cell_type": "markdown",
      "metadata": {
        "id": "dBILeTu4vbYH"
      },
      "source": [
        "Vamos selecionar os atributos que podem estar relacionados com o salário de um jogador e manipular um a um. Como estamos modelando o problema como se o peso fosse uma função exclusiva da altura de um jogador, temos:"
      ]
    },
    {
      "cell_type": "code",
      "execution_count": null,
      "metadata": {
        "id": "i9VYQ80_vmXA"
      },
      "outputs": [],
      "source": [
        "data = nba[[\"weight\", \"height\"]]"
      ]
    },
    {
      "cell_type": "code",
      "execution_count": null,
      "metadata": {
        "id": "iGIniXnH4UvN"
      },
      "outputs": [],
      "source": [
        "data.head()"
      ]
    },
    {
      "cell_type": "markdown",
      "metadata": {
        "id": "UxNvjwiB5E_g"
      },
      "source": [
        " - **Height**: Atributo numérico, formatar e padronizar."
      ]
    },
    {
      "cell_type": "code",
      "execution_count": null,
      "metadata": {
        "id": "2oX6onmG5NFt"
      },
      "outputs": [],
      "source": [
        "data[['height']].head()"
      ]
    },
    {
      "cell_type": "code",
      "execution_count": null,
      "metadata": {
        "id": "4BTTSprN5Tgb"
      },
      "outputs": [],
      "source": [
        "data['height'] = data['height'].apply(lambda height: float(height.split(sep='/')[-1].strip()))"
      ]
    },
    {
      "cell_type": "code",
      "execution_count": null,
      "metadata": {
        "id": "hQn8-j1Up_Js"
      },
      "outputs": [],
      "source": [
        "data[['height']].describe().T"
      ]
    },
    {
      "cell_type": "markdown",
      "metadata": {
        "id": "UtndCHB_6KxT"
      },
      "source": [
        " - **Weight**: Variável resposta numérica, formatar.\n",
        "\n"
      ]
    },
    {
      "cell_type": "code",
      "execution_count": null,
      "metadata": {
        "id": "1XMMne7q6KxU"
      },
      "outputs": [],
      "source": [
        "data[['weight']].head()"
      ]
    },
    {
      "cell_type": "code",
      "execution_count": null,
      "metadata": {
        "id": "Ov-yB_9B6KxV"
      },
      "outputs": [],
      "source": [
        "data['weight'] = data['weight'].apply(lambda weight: float(weight.split(sep='/')[-1].split(sep='kg')[0].strip()))"
      ]
    },
    {
      "cell_type": "code",
      "execution_count": null,
      "metadata": {
        "id": "rcsgZqEOqDCo"
      },
      "outputs": [],
      "source": [
        "data[['weight']].describe().T"
      ]
    },
    {
      "cell_type": "markdown",
      "metadata": {
        "id": "a3TpcSQfqooP"
      },
      "source": [
        "O resultado do pré-processamento nos trás um dado limpo e pronto para ser utilizado no treino do modelo."
      ]
    },
    {
      "cell_type": "code",
      "execution_count": null,
      "metadata": {
        "id": "dMYsDItxqrzB"
      },
      "outputs": [],
      "source": [
        "data.head()"
      ]
    },
    {
      "cell_type": "markdown",
      "metadata": {
        "id": "NGHAVR8xbs1a"
      },
      "source": [
        "### **2.2. Treino / Teste** "
      ]
    },
    {
      "cell_type": "markdown",
      "metadata": {
        "id": "Erp1VsOnsoIy"
      },
      "source": [
        "De maneira geral, um modelo de aprendizagem supervisionada precisa ser treinado com um conjunto de dados e avaliado com outro, assim conseguimos enter um pouco melhor a capacidade do modelo em **generalizar** as predições com dados não visto, que é a situação real em que será utilizado. Para tanto, dividimos nossa base de dados em duas: uma maior de **treino** e uma menor de **testes**."
      ]
    },
    {
      "cell_type": "code",
      "execution_count": null,
      "metadata": {
        "id": "y-VyvbV3tJX_"
      },
      "outputs": [],
      "source": [
        "from sklearn.model_selection import train_test_split"
      ]
    },
    {
      "cell_type": "code",
      "execution_count": null,
      "metadata": {
        "id": "zT-a9kM9spXU"
      },
      "outputs": [],
      "source": [
        "predictors_train, predictors_test, target_train, target_test = train_test_split(\n",
        "    data.drop(['weight'], axis=1), \n",
        "    data['weight'], \n",
        "    test_size=0.25, \n",
        "    random_state=123\n",
        ")"
      ]
    },
    {
      "cell_type": "markdown",
      "metadata": {
        "id": "yGWl9W5ot55c"
      },
      "source": [
        " - **Variáveis preditoras (predictors)**"
      ]
    },
    {
      "cell_type": "code",
      "execution_count": null,
      "metadata": {
        "id": "YRD1DwRntj0e"
      },
      "outputs": [],
      "source": [
        "predictors_train.head()"
      ]
    },
    {
      "cell_type": "code",
      "execution_count": null,
      "metadata": {
        "id": "v-Njm0jcto08"
      },
      "outputs": [],
      "source": [
        "predictors_train.shape"
      ]
    },
    {
      "cell_type": "code",
      "execution_count": null,
      "metadata": {
        "id": "v2kV_4aetz57"
      },
      "outputs": [],
      "source": [
        "predictors_test.head()"
      ]
    },
    {
      "cell_type": "code",
      "execution_count": null,
      "metadata": {
        "id": "Zgq5yhZQtvkn"
      },
      "outputs": [],
      "source": [
        "predictors_test.shape"
      ]
    },
    {
      "cell_type": "markdown",
      "metadata": {
        "id": "Xu-AXMXAuCqs"
      },
      "source": [
        " - **Variável resposta (target)**"
      ]
    },
    {
      "cell_type": "code",
      "execution_count": null,
      "metadata": {
        "id": "gf_hN9DKuhr0"
      },
      "outputs": [],
      "source": [
        "target_train.head()"
      ]
    },
    {
      "cell_type": "code",
      "execution_count": null,
      "metadata": {
        "id": "nPcHCzghuhr3"
      },
      "outputs": [],
      "source": [
        "target_train.shape"
      ]
    },
    {
      "cell_type": "code",
      "execution_count": null,
      "metadata": {
        "id": "Umct2AC8uhr4"
      },
      "outputs": [],
      "source": [
        "target_test.head()"
      ]
    },
    {
      "cell_type": "code",
      "execution_count": null,
      "metadata": {
        "id": "L94CtBy5uhr5"
      },
      "outputs": [],
      "source": [
        "target_test.shape"
      ]
    },
    {
      "cell_type": "markdown",
      "metadata": {
        "id": "RRskF8b9S48N"
      },
      "source": [
        "## 3\\. Treino"
      ]
    },
    {
      "cell_type": "markdown",
      "metadata": {
        "id": "bJfMdVjQJFtq"
      },
      "source": [
        "O treino de modelos de aprendizagem supervisionada consiste na etapa de calculo dos coeficientes do modelo baseado na associação da variável resposta com os variáveis preditoras através do uso de um ou mais algoritmos. No caso da regressão linear, estamo interessados em definir os valores de $\\textbf{a}_i$ e $\\textbf{b}$:"
      ]
    },
    {
      "cell_type": "markdown",
      "metadata": {
        "id": "JDkEqeCBJ0OV"
      },
      "source": [
        " > $y = f(x_i) = (\\sum_{i=1}^{n} \\textbf{a}_ix_i) + \\textbf{b}$ "
      ]
    },
    {
      "cell_type": "markdown",
      "metadata": {
        "id": "CYD_f4C_yxKF"
      },
      "source": [
        "### **3.1. Algoritmo** "
      ]
    },
    {
      "cell_type": "markdown",
      "metadata": {
        "id": "IpJlLzuuyxKM"
      },
      "source": [
        "O treino de um modelo de regressão linear é feito através do uso do método de gradiente (explicação neste [link](https://en.wikipedia.org/wiki/Gradient_descent)). A explicação do algoritmo foge do escopo desse curso mas a idéia é que busca-se minimizar a diferença entre os pontos e a reta definida por $\\textbf{a}_i$ e $\\textbf{b}$, ou seja, encontrar os valores de $\\textbf{a}_i$ e $\\textbf{b}$ que define a reta que esta mais \"perto\" de todos os pontos da base de dados de treino."
      ]
    },
    {
      "cell_type": "code",
      "execution_count": null,
      "metadata": {
        "id": "CgDOy60luqe2"
      },
      "outputs": [],
      "source": [
        "model = model.fit(predictors_train, target_train)"
      ]
    },
    {
      "cell_type": "code",
      "execution_count": null,
      "metadata": {
        "id": "W5WL82aroAsS"
      },
      "outputs": [],
      "source": [
        "model.__dict__"
      ]
    },
    {
      "cell_type": "code",
      "execution_count": null,
      "metadata": {
        "id": "ZTJjUi07yv90"
      },
      "outputs": [],
      "source": [
        "a = model.coef_\n",
        "print(a)"
      ]
    },
    {
      "cell_type": "code",
      "execution_count": null,
      "metadata": {
        "id": "PT5FozKOyv92"
      },
      "outputs": [],
      "source": [
        "b = model.intercept_\n",
        "print(b)"
      ]
    },
    {
      "cell_type": "markdown",
      "metadata": {
        "id": "aFXSiF1dLDwY"
      },
      "source": [
        "Logo, temos:"
      ]
    },
    {
      "cell_type": "markdown",
      "metadata": {
        "id": "uDGyhy8m6--E"
      },
      "source": [
        " > $y = f(x) = \\textbf{a}x + \\textbf{b}$ "
      ]
    },
    {
      "cell_type": "markdown",
      "metadata": {
        "id": "B2n58gmPJQQr"
      },
      "source": [
        " > $peso = f(altura) = \\textbf{a}(altura) + \\textbf{b}$"
      ]
    },
    {
      "cell_type": "markdown",
      "metadata": {
        "id": "sYinuYffoW7c"
      },
      "source": [
        " > $peso = f(altura) = \\textbf{88.9746} * (altura) - \\textbf{80.2631}$"
      ]
    },
    {
      "cell_type": "markdown",
      "metadata": {
        "id": "JL0GAyzzpyv8"
      },
      "source": [
        "Com o modelo treinado, estamos prontos para fazer predições."
      ]
    },
    {
      "cell_type": "code",
      "execution_count": null,
      "metadata": {
        "id": "O6J4II5Up0jK"
      },
      "outputs": [],
      "source": [
        "data.head(1)"
      ]
    },
    {
      "cell_type": "code",
      "execution_count": null,
      "metadata": {
        "id": "dBtExqBmqMra"
      },
      "outputs": [],
      "source": [
        "altura = 2.06\n",
        "peso = (a * altura) + b\n",
        "\n",
        "print(peso)"
      ]
    },
    {
      "cell_type": "code",
      "execution_count": null,
      "metadata": {
        "id": "8g97917Fqbqm"
      },
      "outputs": [],
      "source": [
        "altura = np.array([2.06])\n",
        "peso = model.predict(altura.reshape(-1, 1))\n",
        "\n",
        "print(peso)"
      ]
    },
    {
      "cell_type": "markdown",
      "metadata": {
        "id": "5jaRRnbgS-kk"
      },
      "source": [
        "## 4\\. Avaliação"
      ]
    },
    {
      "cell_type": "markdown",
      "metadata": {
        "id": "JtAfYoEE8B4e"
      },
      "source": [
        "Para enter o poder preditivo do modelo de aprendizagem supervisionada, precisamos avaliar sua capacidade de generalização, ou seja, avalivar as predições em dados \"não vistos\" na etapa de treino. Comparamos então as predições com os dados reais através de uma métrica."
      ]
    },
    {
      "cell_type": "markdown",
      "metadata": {
        "id": "Mvifpr0_wQQl"
      },
      "source": [
        " - **Salário predito**"
      ]
    },
    {
      "cell_type": "code",
      "execution_count": null,
      "metadata": {
        "id": "W5DTijSCvIkD"
      },
      "outputs": [],
      "source": [
        "target_predicted = model.predict(predictors_test)"
      ]
    },
    {
      "cell_type": "code",
      "execution_count": null,
      "metadata": {
        "id": "VR9IzdGYwJBq"
      },
      "outputs": [],
      "source": [
        "target_predicted[0:5]"
      ]
    },
    {
      "cell_type": "code",
      "execution_count": null,
      "metadata": {
        "id": "lOp_xiKTwCeG"
      },
      "outputs": [],
      "source": [
        "target_predicted.shape"
      ]
    },
    {
      "cell_type": "markdown",
      "metadata": {
        "id": "Vv7XBCjUwYeU"
      },
      "source": [
        " - **Salário teste**"
      ]
    },
    {
      "cell_type": "code",
      "execution_count": null,
      "metadata": {
        "id": "hLuO41sUvefJ"
      },
      "outputs": [],
      "source": [
        "target_test[0:5]"
      ]
    },
    {
      "cell_type": "code",
      "execution_count": null,
      "metadata": {
        "id": "HkJtdgDhwiDq"
      },
      "outputs": [],
      "source": [
        "target_test.shape"
      ]
    },
    {
      "cell_type": "markdown",
      "metadata": {
        "id": "fp8j7pnAS-ks"
      },
      "source": [
        "### **4.1. RMSE** "
      ]
    },
    {
      "cell_type": "markdown",
      "metadata": {
        "id": "uO5oxIqj865y"
      },
      "source": [
        "Do inglês *root mean square error* ou raíz quadrada do erro quadrático médio, o RMSE mede a diferença média absoluta entre os valores preditos com os valores reais. O resultado pode ser interpretado com uma faixa de valor em que a predição varia do valor real, portanto, quando menor, melhor. Contudo, a definição de \"menor\" é particular para cada variável resposta devido a diferenças de escala."
      ]
    },
    {
      "cell_type": "markdown",
      "metadata": {
        "id": "s-xZyNHJM9-H"
      },
      "source": [
        " - Exemplo:"
      ]
    },
    {
      "cell_type": "markdown",
      "metadata": {
        "id": "yaLDLpprNAJH"
      },
      "source": [
        "Um RMSE igual a 100 kg significa que a predição varia, na média, entre +/- 100 kg. Se a variável resposta for o peso de um carro (toneladas), esse valor é excelente. Contudo, se a variável resposta for o peso de uma motocicleta (centenas de kilos), esse valor pode ser muito alto."
      ]
    },
    {
      "cell_type": "markdown",
      "metadata": {
        "id": "1GYl5jIsMyQy"
      },
      "source": [
        "O RMSE é definido como:"
      ]
    },
    {
      "cell_type": "markdown",
      "metadata": {
        "id": "EnFMIZ9tpniN"
      },
      "source": [
        "> $RMSE(y,\\hat{y}) = \\sqrt{\\frac{\\sum_{i=1}^{n} (y_i-\\hat{y}_i)^{2}}{n}}$"
      ]
    },
    {
      "cell_type": "code",
      "execution_count": null,
      "metadata": {
        "id": "PfUlxEYQqktD"
      },
      "outputs": [],
      "source": [
        "from sklearn.metrics import mean_squared_error"
      ]
    },
    {
      "cell_type": "code",
      "execution_count": null,
      "metadata": {
        "id": "x5sKNUcoq_8N"
      },
      "outputs": [],
      "source": [
        "rmse = np.sqrt(mean_squared_error(target_test, target_predicted))\n",
        "print(rmse)"
      ]
    },
    {
      "cell_type": "markdown",
      "metadata": {
        "id": "Kpm4b_Srw6ko"
      },
      "source": [
        "Para facilitar sua interpretação, vamos colocar numa gráfico os valores de reais de teste e os valores preditos."
      ]
    },
    {
      "cell_type": "code",
      "execution_count": null,
      "metadata": {
        "id": "1IU9OwZ7BtYV"
      },
      "outputs": [],
      "source": [
        "test_data = pd.concat([predictors_test, pd.DataFrame(target_test, columns=['weight'])], axis=1).reset_index(drop=True)\n",
        "test_data['predicted'] = False"
      ]
    },
    {
      "cell_type": "code",
      "execution_count": null,
      "metadata": {
        "id": "nyyRkIvJCRqt"
      },
      "outputs": [],
      "source": [
        "test_data.head()"
      ]
    },
    {
      "cell_type": "code",
      "execution_count": null,
      "metadata": {
        "id": "Cx5coFO1FpGe"
      },
      "outputs": [],
      "source": [
        "prediction_data = pd.concat([predictors_test.reset_index(drop=True), pd.DataFrame(target_predicted, columns=['weight'])], axis=1).reset_index(drop=True)\n",
        "prediction_data['predicted'] = True"
      ]
    },
    {
      "cell_type": "code",
      "execution_count": null,
      "metadata": {
        "id": "t3bq3OPRF7XA"
      },
      "outputs": [],
      "source": [
        "prediction_data.tail()"
      ]
    },
    {
      "cell_type": "code",
      "execution_count": null,
      "metadata": {
        "id": "4P7shS0DGQHk"
      },
      "outputs": [],
      "source": [
        "prediction = pd.concat([test_data, prediction_data]).reset_index(drop=True)"
      ]
    },
    {
      "cell_type": "code",
      "execution_count": null,
      "metadata": {
        "id": "p4d0wZy7-L2w"
      },
      "outputs": [],
      "source": [
        "with sns.axes_style('whitegrid'):\n",
        "\n",
        "  # peso = 88.9746 * altura - 80.2631\n",
        "  sns.scatterplot(data=prediction, x='height', y='weight', hue='predicted')"
      ]
    },
    {
      "cell_type": "markdown",
      "metadata": {
        "id": "wKjmRqXty6OS"
      },
      "source": [
        "### **4.2. Comparação** "
      ]
    },
    {
      "cell_type": "markdown",
      "metadata": {
        "id": "FilQS-czN-La"
      },
      "source": [
        "Um dos objetivos de métricas de avaliação de modelos é comparar a qualidade de diferentes modelos. Para ilustrar, vamos construir uma segunda versão do modelo que utiliza um atributo a mais, a posição do jogador. A hipótese é que posições diferentes exigem alturas e pesos diferentes."
      ]
    },
    {
      "cell_type": "code",
      "execution_count": null,
      "metadata": {
        "id": "GKwGPesB0zZK"
      },
      "outputs": [],
      "source": [
        "data = nba[['weight', 'height', 'position']]\n",
        "data.head()"
      ]
    },
    {
      "cell_type": "markdown",
      "metadata": {
        "id": "QIE4YxQ-t3UR"
      },
      "source": [
        " - **Position**: Atributo categórico nominal, one-hot encoding."
      ]
    },
    {
      "cell_type": "code",
      "execution_count": null,
      "metadata": {
        "id": "rhULqjJ9t3UT"
      },
      "outputs": [],
      "source": [
        "data[\"position\"].drop_duplicates()"
      ]
    },
    {
      "cell_type": "code",
      "execution_count": null,
      "metadata": {
        "id": "yLRwWwKht3UT"
      },
      "outputs": [],
      "source": [
        "data['position_f'] = data['position'].apply(lambda sex: 1 if sex == 'F' else 0)\n",
        "data['position_g'] = data['position'].apply(lambda sex: 1 if sex == 'G' else 0)\n",
        "data['position_c'] = data['position'].apply(lambda sex: 1 if sex == 'C' else 0)\n",
        "data['position_fg'] = data['position'].apply(lambda sex: 1 if sex == 'F-G' else 0)\n",
        "data['position_fc'] = data['position'].apply(lambda sex: 1 if sex == 'F-C' else 0)\n",
        "data['position_gf'] = data['position'].apply(lambda sex: 1 if sex == 'G-F' else 0)\n",
        "data['position_cf'] = data['position'].apply(lambda sex: 1 if sex == 'C-F' else 0)"
      ]
    },
    {
      "cell_type": "code",
      "execution_count": null,
      "metadata": {
        "id": "9i4-MTn-t3UU"
      },
      "outputs": [],
      "source": [
        "data[['position', 'position_f', 'position_g', 'position_c', 'position_fg', 'position_fc', 'position_gf', 'position_cf']].head()"
      ]
    },
    {
      "cell_type": "code",
      "execution_count": null,
      "metadata": {
        "id": "cKtn9E_ht9lW"
      },
      "outputs": [],
      "source": [
        "data = data.drop(['position'], axis=1)"
      ]
    },
    {
      "cell_type": "markdown",
      "metadata": {
        "id": "DpFw9K3ns8c7"
      },
      "source": [
        " - **Height**: Atributo numérico, formatar e padronizar."
      ]
    },
    {
      "cell_type": "code",
      "execution_count": null,
      "metadata": {
        "id": "MxdMFqAttBS6"
      },
      "outputs": [],
      "source": [
        "data['height'] = data['height'].apply(lambda height: float(height.split(sep=\"/\")[-1].strip()))\n",
        "\n",
        "altura_media = data['height'].mean()\n",
        "altura_desvio_padrao = data['height'].std()\n",
        "\n",
        "data['height'] = data['height'].apply(lambda height: (height - altura_media) / altura_desvio_padrao)"
      ]
    },
    {
      "cell_type": "markdown",
      "metadata": {
        "id": "H6vpHJabtmHQ"
      },
      "source": [
        " - **Weight**: Variável resposta numérica, formatar.\n",
        "\n"
      ]
    },
    {
      "cell_type": "code",
      "execution_count": null,
      "metadata": {
        "id": "MnUTy0K6tmHU"
      },
      "outputs": [],
      "source": [
        "data[\"weight\"] = data[\"weight\"].apply(lambda weight: float(weight.split(sep=\"/\")[-1].split(sep=\"kg\")[0].strip()))"
      ]
    },
    {
      "cell_type": "markdown",
      "metadata": {
        "id": "2am--4hauHn_"
      },
      "source": [
        " - **Treino**"
      ]
    },
    {
      "cell_type": "code",
      "execution_count": null,
      "metadata": {
        "id": "mJCHEWiwuL9-"
      },
      "outputs": [],
      "source": [
        "predictors_train, predictors_test, target_train, target_test = train_test_split(\n",
        "    data.drop(['weight'], axis=1), \n",
        "    data['weight'], \n",
        "    test_size=0.25, \n",
        "    random_state=123\n",
        ")"
      ]
    },
    {
      "cell_type": "code",
      "execution_count": null,
      "metadata": {
        "id": "pFNEa7gLupKv"
      },
      "outputs": [],
      "source": [
        "model_v2 = model.fit(predictors_train, target_train)\n",
        "model_v2.__dict__"
      ]
    },
    {
      "cell_type": "markdown",
      "metadata": {
        "id": "RXupFuYIxlOi"
      },
      "source": [
        "Dessa vez, estamos buscando uma reta multidimensional, portanto:"
      ]
    },
    {
      "cell_type": "markdown",
      "metadata": {
        "id": "VEJYt_bJxkhg"
      },
      "source": [
        " > $y = f(x_i) = (\\sum_{i=1}^{n} \\textbf{a}_ix_i) + \\textbf{b}$ "
      ]
    },
    {
      "cell_type": "code",
      "execution_count": null,
      "metadata": {
        "id": "05WrPCxqydO6"
      },
      "outputs": [],
      "source": [
        "a = model_v2.coef_\n",
        "print(a)"
      ]
    },
    {
      "cell_type": "code",
      "execution_count": null,
      "metadata": {
        "id": "BZJ1wjgnyfLT"
      },
      "outputs": [],
      "source": [
        "b = model_v2.intercept_\n",
        "print(b)"
      ]
    },
    {
      "cell_type": "markdown",
      "metadata": {
        "id": "g_P0cuP927vE"
      },
      "source": [
        " > $peso = f(altura, posicao_f, ...) = \\textbf{a}_1(altura) + \\textbf{a}_2(posicao_f) + ... + \\textbf{b}$"
      ]
    },
    {
      "cell_type": "markdown",
      "metadata": {
        "id": "_Knt7qzC27vG"
      },
      "source": [
        " > $peso = f(altura, posicao_f, ...) = \\textbf{3.5103}(altura) + \\textbf{0.4282}(posicao_f) + ... + \\textbf{99.0711}$"
      ]
    },
    {
      "cell_type": "markdown",
      "metadata": {
        "id": "5HFW-ZmKu5pF"
      },
      "source": [
        " - **Avaliação**"
      ]
    },
    {
      "cell_type": "code",
      "execution_count": null,
      "metadata": {
        "id": "_zctt1yjvS8X"
      },
      "outputs": [],
      "source": [
        "target_predicted = model_v2.predict(predictors_test)"
      ]
    },
    {
      "cell_type": "code",
      "execution_count": null,
      "metadata": {
        "id": "lZYau6MIu3Sn"
      },
      "outputs": [],
      "source": [
        "rmse_v2 = np.sqrt(mean_squared_error(target_test, target_predicted))\n",
        "print(rmse_v2)"
      ]
    },
    {
      "cell_type": "markdown",
      "metadata": {
        "id": "bFubq9odvq-T"
      },
      "source": [
        "Com o RMSE para ambas as versões do modelo, podemos compara-los."
      ]
    },
    {
      "cell_type": "markdown",
      "metadata": {
        "id": "tlnk2xWTwdLs"
      },
      "source": [
        " > **RMSE v1**: 7.680474067138796\n",
        " > \n",
        " > **RMSE v2**: 7.267852030433409"
      ]
    },
    {
      "cell_type": "code",
      "execution_count": null,
      "metadata": {
        "id": "bDNp-pXzvr7r"
      },
      "outputs": [],
      "source": [
        "print(f\"Melhoria de {round(100 * (1 - (rmse_v2 / rmse)), 2)}%\")"
      ]
    },
    {
      "cell_type": "markdown",
      "metadata": {
        "id": "UDZF_q3yxCHB"
      },
      "source": [
        "Podemos observar a melhoria de performance num gráfico."
      ]
    },
    {
      "cell_type": "code",
      "execution_count": null,
      "metadata": {
        "id": "posEzBimxDnj"
      },
      "outputs": [],
      "source": [
        "test_data = pd.concat([predictors_test, pd.DataFrame(target_test, columns=['weight'])], axis=1).reset_index(drop=True)\n",
        "test_data['predicted'] = False\n",
        "\n",
        "prediction_data = pd.concat([predictors_test.reset_index(drop=True), pd.DataFrame(target_predicted, columns=['weight'])], axis=1).reset_index(drop=True)\n",
        "prediction_data['predicted'] = True\n",
        "\n",
        "prediction_v2 = pd.concat([test_data, prediction_data]).reset_index(drop=True)\n"
      ]
    },
    {
      "cell_type": "code",
      "execution_count": null,
      "metadata": {
        "id": "JXxM8ZIvxDnm"
      },
      "outputs": [],
      "source": [
        "with sns.axes_style('whitegrid'):\n",
        "\n",
        "  # peso = 88.9746 * altura - 80.2631\n",
        "  sns.scatterplot(data=prediction, x='height', y='weight', hue='predicted')"
      ]
    },
    {
      "cell_type": "code",
      "execution_count": null,
      "metadata": {
        "id": "uP-3YiDHxPE3"
      },
      "outputs": [],
      "source": [
        "with sns.axes_style('whitegrid'):\n",
        "\n",
        "  # peso = 3.51031289 * altura + 0.42821737 * posicao_f + ... + 99.07105131057611\n",
        "  sns.scatterplot(data=prediction_v2, x='height', y='weight', hue='predicted')"
      ]
    },
    {
      "cell_type": "markdown",
      "metadata": {
        "id": "1tFropRYrOiy"
      },
      "source": [
        "## 5\\. Predição"
      ]
    },
    {
      "cell_type": "markdown",
      "metadata": {
        "id": "MARJtzoXrOiz"
      },
      "source": [
        "Com o modelo treinado, avaliado e selecionado, podemos utiliza-lo para resolver os problemas reais que motivaram sua construção, para tanto para criar um exemplo pré-processado e utilizar o modelo para realizar a predição."
      ]
    },
    {
      "cell_type": "markdown",
      "metadata": {
        "id": "j58N2S3kPm-E"
      },
      "source": [
        "> **Atenção**: O exemplo precisa seguir o mesmo pré-processamento realizado na construção do modelo."
      ]
    },
    {
      "cell_type": "markdown",
      "metadata": {
        "id": "wzd1cGf-zGf7"
      },
      "source": [
        " - **Exemplo**: Pivô com 2.05m e 99 kg."
      ]
    },
    {
      "cell_type": "code",
      "execution_count": null,
      "metadata": {
        "id": "k79LtZjS0Yq6"
      },
      "outputs": [],
      "source": [
        "data.head(1)"
      ]
    },
    {
      "cell_type": "code",
      "execution_count": null,
      "metadata": {
        "id": "lX4mdSblzpAv"
      },
      "outputs": [],
      "source": [
        "altura_padronizada = (2.05 - altura_media) / altura_desvio_padrao\n",
        "print(altura_padronizada)"
      ]
    },
    {
      "cell_type": "code",
      "execution_count": null,
      "metadata": {
        "id": "jQwcsJlXzF4E"
      },
      "outputs": [],
      "source": [
        "jogador = np.array([altura_padronizada, 0, 0, 1, 0, 0, 0, 0])"
      ]
    },
    {
      "cell_type": "code",
      "execution_count": null,
      "metadata": {
        "id": "FlpoQB7ty9EX"
      },
      "outputs": [],
      "source": [
        "peso = model_v2.predict(jogador.reshape(1, -1))\n",
        "print(peso)"
      ]
    },
    {
      "cell_type": "markdown",
      "metadata": {
        "id": "q5r8BvcE2Fbu"
      },
      "source": [
        "Conclui-se que o jogador **precisa** ganhar peso para atuar como pivô."
      ]
    },
    {
      "cell_type": "markdown",
      "metadata": {
        "id": "42f06jZU13wM"
      },
      "source": [
        " - **Exemplo**: Atacante com 2.05m e 99 kg."
      ]
    },
    {
      "cell_type": "code",
      "execution_count": null,
      "metadata": {
        "id": "UOHhdU2z13wO"
      },
      "outputs": [],
      "source": [
        "data.head(1)"
      ]
    },
    {
      "cell_type": "code",
      "execution_count": null,
      "metadata": {
        "id": "awDmI67113wQ"
      },
      "outputs": [],
      "source": [
        "altura_padronizada = (2.05 - altura_media) / altura_desvio_padrao\n",
        "print(altura_padronizada)"
      ]
    },
    {
      "cell_type": "code",
      "execution_count": null,
      "metadata": {
        "id": "Ea2VQOWW13wR"
      },
      "outputs": [],
      "source": [
        "jogador = np.array([altura_padronizada, 1, 0, 0, 0, 0, 0, 0])"
      ]
    },
    {
      "cell_type": "code",
      "execution_count": null,
      "metadata": {
        "id": "034srzbG13wS"
      },
      "outputs": [],
      "source": [
        "peso = model_v2.predict(jogador.reshape(1, -1))\n",
        "print(peso)"
      ]
    },
    {
      "cell_type": "markdown",
      "metadata": {
        "id": "9vRHPosW073U"
      },
      "source": [
        "Conclui-se que o jogador **não precisa** ganhar peso para atuar como atacante."
      ]
    }
  ],
  "metadata": {
    "colab": {
      "collapsed_sections": [],
      "name": "modulo_24_aula.ipynb",
      "provenance": [],
      "toc_visible": true
    },
    "kernelspec": {
      "display_name": "Python 3",
      "name": "python3"
    }
  },
  "nbformat": 4,
  "nbformat_minor": 0
}
