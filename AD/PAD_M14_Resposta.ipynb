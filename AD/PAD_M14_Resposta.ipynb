{
 "cells": [
  {
   "cell_type": "markdown",
   "source": "<img src=\"https://raw.githubusercontent.com/andre-marcos-perez/ebac-course-utils/main/media/logo/newebac_logo_black_half.png\" alt=\"ebac-logo\">\n\n---\n\n# **Módulo** | Análise de Dados: Visualização de Dados I\nCaderno de **Exercícios**<br> \nProfessor [André Perez](https://www.linkedin.com/in/andremarcosperez/)\n\n---",
   "metadata": {
    "id": "KJqp9AANOCtf",
    "cell_id": "00000-09830670-bfc7-47f3-a33c-8226eeacc6c9",
    "deepnote_cell_type": "markdown"
   }
  },
  {
   "cell_type": "markdown",
   "source": "# **Tópicos**\n\n<ol type=\"1\">\n  <li>Pacote Seaborn;</li>\n  <li>Categorias: Gráficos de Barras e de Setores;</li>\n  <li>Tendências: Gráficos de Linha e de Área.</li>\n</ol>",
   "metadata": {
    "id": "d9jDtUbDOE1-",
    "cell_id": "00001-27b2c0f1-757f-48f1-96a1-e86618a9e313",
    "deepnote_cell_type": "markdown"
   }
  },
  {
   "cell_type": "markdown",
   "source": "---",
   "metadata": {
    "id": "SmoHgt-lwkpD",
    "cell_id": "00002-3555998b-8dd7-4f8a-a951-721889600eac",
    "deepnote_cell_type": "markdown"
   }
  },
  {
   "cell_type": "markdown",
   "source": "# **Exercícios**",
   "metadata": {
    "id": "GABI6OW8OfQ2",
    "cell_id": "00003-0fa408d3-f3d5-4270-a118-6f517c4dfe80",
    "deepnote_cell_type": "markdown"
   }
  },
  {
   "cell_type": "markdown",
   "source": "Nestes exercícios, você deve decidir qual é o gráfico visto em aula que melhor visualiza uma base de dados. Após decidir, você deverá criar a visualização usando o conteúdo exposto durante a aula e adicionar um pequeno parágrafo sobre um insights que pode ser extraido do gráfico.",
   "metadata": {
    "id": "45DbYPgFhuR7",
    "cell_id": "00004-abbf8b5e-b2c9-410c-9d6e-accf12841a27",
    "deepnote_cell_type": "markdown"
   }
  },
  {
   "cell_type": "markdown",
   "source": "## 1\\. Preço do diamante por tipo de corte",
   "metadata": {
    "id": "GWgNoJN8DHyY",
    "cell_id": "00005-fd2e2634-8ea5-4912-b693-a027ee89c649",
    "deepnote_cell_type": "markdown"
   }
  },
  {
   "cell_type": "code",
   "metadata": {
    "id": "7w8cSL1sdVdC",
    "cell_id": "00006-6b74253c-0be2-4a11-8227-b4a56256261c",
    "deepnote_to_be_reexecuted": false,
    "source_hash": "7ff9d7ea",
    "execution_start": 1639696855980,
    "execution_millis": 2975,
    "deepnote_cell_type": "code"
   },
   "source": "import seaborn as sns\n\ndata = sns.load_dataset(\"diamonds\")\ndata.head()",
   "execution_count": null,
   "outputs": [
    {
     "output_type": "execute_result",
     "execution_count": 1,
     "data": {
      "application/vnd.deepnote.dataframe.v3+json": {
       "column_count": 10,
       "row_count": 5,
       "columns": [
        {
         "name": "carat",
         "dtype": "float64",
         "stats": {
          "unique_count": 4,
          "nan_count": 0,
          "min": "0.21",
          "max": "0.31",
          "histogram": [
           {
            "bin_start": 0.21,
            "bin_end": 0.22,
            "count": 1
           },
           {
            "bin_start": 0.22,
            "bin_end": 0.22999999999999998,
            "count": 0
           },
           {
            "bin_start": 0.22999999999999998,
            "bin_end": 0.24,
            "count": 2
           },
           {
            "bin_start": 0.24,
            "bin_end": 0.25,
            "count": 0
           },
           {
            "bin_start": 0.25,
            "bin_end": 0.26,
            "count": 0
           },
           {
            "bin_start": 0.26,
            "bin_end": 0.27,
            "count": 0
           },
           {
            "bin_start": 0.27,
            "bin_end": 0.28,
            "count": 0
           },
           {
            "bin_start": 0.28,
            "bin_end": 0.29,
            "count": 0
           },
           {
            "bin_start": 0.29,
            "bin_end": 0.3,
            "count": 1
           },
           {
            "bin_start": 0.3,
            "bin_end": 0.31,
            "count": 1
           }
          ]
         }
        },
        {
         "name": "cut",
         "dtype": "category",
         "stats": {
          "unique_count": 3,
          "nan_count": 0,
          "categories": [
           {
            "name": "Premium",
            "count": 2
           },
           {
            "name": "Good",
            "count": 2
           },
           {
            "name": "Ideal",
            "count": 1
           }
          ]
         }
        },
        {
         "name": "color",
         "dtype": "category",
         "stats": {
          "unique_count": 3,
          "nan_count": 0,
          "categories": [
           {
            "name": "E",
            "count": 3
           },
           {
            "name": "I",
            "count": 1
           },
           {
            "name": "J",
            "count": 1
           }
          ]
         }
        },
        {
         "name": "clarity",
         "dtype": "category",
         "stats": {
          "unique_count": 4,
          "nan_count": 0,
          "categories": [
           {
            "name": "SI2",
            "count": 2
           },
           {
            "name": "SI1",
            "count": 1
           },
           {
            "name": "2 others",
            "count": 2
           }
          ]
         }
        },
        {
         "name": "depth",
         "dtype": "float64",
         "stats": {
          "unique_count": 5,
          "nan_count": 0,
          "min": "56.9",
          "max": "63.3",
          "histogram": [
           {
            "bin_start": 56.9,
            "bin_end": 57.54,
            "count": 1
           },
           {
            "bin_start": 57.54,
            "bin_end": 58.18,
            "count": 0
           },
           {
            "bin_start": 58.18,
            "bin_end": 58.82,
            "count": 0
           },
           {
            "bin_start": 58.82,
            "bin_end": 59.46,
            "count": 0
           },
           {
            "bin_start": 59.46,
            "bin_end": 60.099999999999994,
            "count": 1
           },
           {
            "bin_start": 60.099999999999994,
            "bin_end": 60.739999999999995,
            "count": 0
           },
           {
            "bin_start": 60.739999999999995,
            "bin_end": 61.379999999999995,
            "count": 0
           },
           {
            "bin_start": 61.379999999999995,
            "bin_end": 62.019999999999996,
            "count": 1
           },
           {
            "bin_start": 62.019999999999996,
            "bin_end": 62.66,
            "count": 1
           },
           {
            "bin_start": 62.66,
            "bin_end": 63.3,
            "count": 1
           }
          ]
         }
        },
        {
         "name": "table",
         "dtype": "float64",
         "stats": {
          "unique_count": 4,
          "nan_count": 0,
          "min": "55.0",
          "max": "65.0",
          "histogram": [
           {
            "bin_start": 55,
            "bin_end": 56,
            "count": 1
           },
           {
            "bin_start": 56,
            "bin_end": 57,
            "count": 0
           },
           {
            "bin_start": 57,
            "bin_end": 58,
            "count": 0
           },
           {
            "bin_start": 58,
            "bin_end": 59,
            "count": 2
           },
           {
            "bin_start": 59,
            "bin_end": 60,
            "count": 0
           },
           {
            "bin_start": 60,
            "bin_end": 61,
            "count": 0
           },
           {
            "bin_start": 61,
            "bin_end": 62,
            "count": 1
           },
           {
            "bin_start": 62,
            "bin_end": 63,
            "count": 0
           },
           {
            "bin_start": 63,
            "bin_end": 64,
            "count": 0
           },
           {
            "bin_start": 64,
            "bin_end": 65,
            "count": 1
           }
          ]
         }
        },
        {
         "name": "price",
         "dtype": "int64",
         "stats": {
          "unique_count": 4,
          "nan_count": 0,
          "min": "326",
          "max": "335",
          "histogram": [
           {
            "bin_start": 326,
            "bin_end": 326.9,
            "count": 2
           },
           {
            "bin_start": 326.9,
            "bin_end": 327.8,
            "count": 1
           },
           {
            "bin_start": 327.8,
            "bin_end": 328.7,
            "count": 0
           },
           {
            "bin_start": 328.7,
            "bin_end": 329.6,
            "count": 0
           },
           {
            "bin_start": 329.6,
            "bin_end": 330.5,
            "count": 0
           },
           {
            "bin_start": 330.5,
            "bin_end": 331.4,
            "count": 0
           },
           {
            "bin_start": 331.4,
            "bin_end": 332.3,
            "count": 0
           },
           {
            "bin_start": 332.3,
            "bin_end": 333.2,
            "count": 0
           },
           {
            "bin_start": 333.2,
            "bin_end": 334.1,
            "count": 1
           },
           {
            "bin_start": 334.1,
            "bin_end": 335,
            "count": 1
           }
          ]
         }
        },
        {
         "name": "x",
         "dtype": "float64",
         "stats": {
          "unique_count": 5,
          "nan_count": 0,
          "min": "3.89",
          "max": "4.34",
          "histogram": [
           {
            "bin_start": 3.89,
            "bin_end": 3.935,
            "count": 1
           },
           {
            "bin_start": 3.935,
            "bin_end": 3.98,
            "count": 1
           },
           {
            "bin_start": 3.98,
            "bin_end": 4.025,
            "count": 0
           },
           {
            "bin_start": 4.025,
            "bin_end": 4.07,
            "count": 1
           },
           {
            "bin_start": 4.07,
            "bin_end": 4.115,
            "count": 0
           },
           {
            "bin_start": 4.115,
            "bin_end": 4.16,
            "count": 0
           },
           {
            "bin_start": 4.16,
            "bin_end": 4.205,
            "count": 1
           },
           {
            "bin_start": 4.205,
            "bin_end": 4.25,
            "count": 0
           },
           {
            "bin_start": 4.25,
            "bin_end": 4.295,
            "count": 0
           },
           {
            "bin_start": 4.295,
            "bin_end": 4.34,
            "count": 1
           }
          ]
         }
        },
        {
         "name": "y",
         "dtype": "float64",
         "stats": {
          "unique_count": 5,
          "nan_count": 0,
          "min": "3.84",
          "max": "4.35",
          "histogram": [
           {
            "bin_start": 3.84,
            "bin_end": 3.891,
            "count": 1
           },
           {
            "bin_start": 3.891,
            "bin_end": 3.9419999999999997,
            "count": 0
           },
           {
            "bin_start": 3.9419999999999997,
            "bin_end": 3.993,
            "count": 1
           },
           {
            "bin_start": 3.993,
            "bin_end": 4.044,
            "count": 0
           },
           {
            "bin_start": 4.044,
            "bin_end": 4.095,
            "count": 1
           },
           {
            "bin_start": 4.095,
            "bin_end": 4.146,
            "count": 0
           },
           {
            "bin_start": 4.146,
            "bin_end": 4.197,
            "count": 0
           },
           {
            "bin_start": 4.197,
            "bin_end": 4.247999999999999,
            "count": 1
           },
           {
            "bin_start": 4.247999999999999,
            "bin_end": 4.2989999999999995,
            "count": 0
           },
           {
            "bin_start": 4.2989999999999995,
            "bin_end": 4.35,
            "count": 1
           }
          ]
         }
        },
        {
         "name": "z",
         "dtype": "float64",
         "stats": {
          "unique_count": 4,
          "nan_count": 0,
          "min": "2.31",
          "max": "2.75",
          "histogram": [
           {
            "bin_start": 2.31,
            "bin_end": 2.354,
            "count": 2
           },
           {
            "bin_start": 2.354,
            "bin_end": 2.398,
            "count": 0
           },
           {
            "bin_start": 2.398,
            "bin_end": 2.442,
            "count": 1
           },
           {
            "bin_start": 2.442,
            "bin_end": 2.486,
            "count": 0
           },
           {
            "bin_start": 2.486,
            "bin_end": 2.5300000000000002,
            "count": 0
           },
           {
            "bin_start": 2.5300000000000002,
            "bin_end": 2.574,
            "count": 0
           },
           {
            "bin_start": 2.574,
            "bin_end": 2.618,
            "count": 0
           },
           {
            "bin_start": 2.618,
            "bin_end": 2.662,
            "count": 1
           },
           {
            "bin_start": 2.662,
            "bin_end": 2.706,
            "count": 0
           },
           {
            "bin_start": 2.706,
            "bin_end": 2.75,
            "count": 1
           }
          ]
         }
        },
        {
         "name": "_deepnote_index_column",
         "dtype": "int64"
        }
       ],
       "rows": [
        {
         "carat": 0.23,
         "cut": "Ideal",
         "color": "E",
         "clarity": "SI2",
         "depth": 61.5,
         "table": 55,
         "price": 326,
         "x": 3.95,
         "y": 3.98,
         "z": 2.43,
         "_deepnote_index_column": 0
        },
        {
         "carat": 0.21,
         "cut": "Premium",
         "color": "E",
         "clarity": "SI1",
         "depth": 59.8,
         "table": 61,
         "price": 326,
         "x": 3.89,
         "y": 3.84,
         "z": 2.31,
         "_deepnote_index_column": 1
        },
        {
         "carat": 0.23,
         "cut": "Good",
         "color": "E",
         "clarity": "VS1",
         "depth": 56.9,
         "table": 65,
         "price": 327,
         "x": 4.05,
         "y": 4.07,
         "z": 2.31,
         "_deepnote_index_column": 2
        },
        {
         "carat": 0.29,
         "cut": "Premium",
         "color": "I",
         "clarity": "VS2",
         "depth": 62.4,
         "table": 58,
         "price": 334,
         "x": 4.2,
         "y": 4.23,
         "z": 2.63,
         "_deepnote_index_column": 3
        },
        {
         "carat": 0.31,
         "cut": "Good",
         "color": "J",
         "clarity": "SI2",
         "depth": 63.3,
         "table": 58,
         "price": 335,
         "x": 4.34,
         "y": 4.35,
         "z": 2.75,
         "_deepnote_index_column": 4
        }
       ]
      },
      "text/plain": "   carat      cut color clarity  depth  table  price     x     y     z\n0   0.23    Ideal     E     SI2   61.5   55.0    326  3.95  3.98  2.43\n1   0.21  Premium     E     SI1   59.8   61.0    326  3.89  3.84  2.31\n2   0.23     Good     E     VS1   56.9   65.0    327  4.05  4.07  2.31\n3   0.29  Premium     I     VS2   62.4   58.0    334  4.20  4.23  2.63\n4   0.31     Good     J     SI2   63.3   58.0    335  4.34  4.35  2.75",
      "text/html": "<div>\n<style scoped>\n    .dataframe tbody tr th:only-of-type {\n        vertical-align: middle;\n    }\n\n    .dataframe tbody tr th {\n        vertical-align: top;\n    }\n\n    .dataframe thead th {\n        text-align: right;\n    }\n</style>\n<table border=\"1\" class=\"dataframe\">\n  <thead>\n    <tr style=\"text-align: right;\">\n      <th></th>\n      <th>carat</th>\n      <th>cut</th>\n      <th>color</th>\n      <th>clarity</th>\n      <th>depth</th>\n      <th>table</th>\n      <th>price</th>\n      <th>x</th>\n      <th>y</th>\n      <th>z</th>\n    </tr>\n  </thead>\n  <tbody>\n    <tr>\n      <th>0</th>\n      <td>0.23</td>\n      <td>Ideal</td>\n      <td>E</td>\n      <td>SI2</td>\n      <td>61.5</td>\n      <td>55.0</td>\n      <td>326</td>\n      <td>3.95</td>\n      <td>3.98</td>\n      <td>2.43</td>\n    </tr>\n    <tr>\n      <th>1</th>\n      <td>0.21</td>\n      <td>Premium</td>\n      <td>E</td>\n      <td>SI1</td>\n      <td>59.8</td>\n      <td>61.0</td>\n      <td>326</td>\n      <td>3.89</td>\n      <td>3.84</td>\n      <td>2.31</td>\n    </tr>\n    <tr>\n      <th>2</th>\n      <td>0.23</td>\n      <td>Good</td>\n      <td>E</td>\n      <td>VS1</td>\n      <td>56.9</td>\n      <td>65.0</td>\n      <td>327</td>\n      <td>4.05</td>\n      <td>4.07</td>\n      <td>2.31</td>\n    </tr>\n    <tr>\n      <th>3</th>\n      <td>0.29</td>\n      <td>Premium</td>\n      <td>I</td>\n      <td>VS2</td>\n      <td>62.4</td>\n      <td>58.0</td>\n      <td>334</td>\n      <td>4.20</td>\n      <td>4.23</td>\n      <td>2.63</td>\n    </tr>\n    <tr>\n      <th>4</th>\n      <td>0.31</td>\n      <td>Good</td>\n      <td>J</td>\n      <td>SI2</td>\n      <td>63.3</td>\n      <td>58.0</td>\n      <td>335</td>\n      <td>4.34</td>\n      <td>4.35</td>\n      <td>2.75</td>\n    </tr>\n  </tbody>\n</table>\n</div>"
     },
     "metadata": {}
    }
   ]
  },
  {
   "cell_type": "code",
   "metadata": {
    "tags": [],
    "cell_id": "00007-03b83942-32c0-4d1a-9504-b079e6ff49d4",
    "deepnote_to_be_reexecuted": false,
    "source_hash": "ffb67d88",
    "execution_start": 1639696858787,
    "execution_millis": 186,
    "deepnote_cell_type": "code"
   },
   "source": "diamonds = data[[\"cut\", \"price\"]].groupby(\"cut\").agg(\"sum\").reset_index()\ndiamonds.head()",
   "execution_count": null,
   "outputs": [
    {
     "output_type": "execute_result",
     "execution_count": 2,
     "data": {
      "application/vnd.deepnote.dataframe.v3+json": {
       "column_count": 2,
       "row_count": 5,
       "columns": [
        {
         "name": "cut",
         "dtype": "category",
         "stats": {
          "unique_count": 5,
          "nan_count": 0,
          "categories": [
           {
            "name": "Ideal",
            "count": 1
           },
           {
            "name": "Premium",
            "count": 1
           },
           {
            "name": "3 others",
            "count": 3
           }
          ]
         }
        },
        {
         "name": "price",
         "dtype": "int64",
         "stats": {
          "unique_count": 5,
          "nan_count": 0,
          "min": "7017600",
          "max": "74513487",
          "histogram": [
           {
            "bin_start": 7017600,
            "bin_end": 13767188.7,
            "count": 1
           },
           {
            "bin_start": 13767188.7,
            "bin_end": 20516777.4,
            "count": 1
           },
           {
            "bin_start": 20516777.4,
            "bin_end": 27266366.1,
            "count": 0
           },
           {
            "bin_start": 27266366.1,
            "bin_end": 34015954.8,
            "count": 0
           },
           {
            "bin_start": 34015954.8,
            "bin_end": 40765543.5,
            "count": 0
           },
           {
            "bin_start": 40765543.5,
            "bin_end": 47515132.2,
            "count": 0
           },
           {
            "bin_start": 47515132.2,
            "bin_end": 54264720.9,
            "count": 1
           },
           {
            "bin_start": 54264720.9,
            "bin_end": 61014309.6,
            "count": 0
           },
           {
            "bin_start": 61014309.6,
            "bin_end": 67763898.30000001,
            "count": 1
           },
           {
            "bin_start": 67763898.30000001,
            "bin_end": 74513487,
            "count": 1
           }
          ]
         }
        },
        {
         "name": "_deepnote_index_column",
         "dtype": "int64"
        }
       ],
       "rows": [
        {
         "cut": "Ideal",
         "price": 74513487,
         "_deepnote_index_column": 0
        },
        {
         "cut": "Premium",
         "price": 63221498,
         "_deepnote_index_column": 1
        },
        {
         "cut": "Very Good",
         "price": 48107623,
         "_deepnote_index_column": 2
        },
        {
         "cut": "Good",
         "price": 19275009,
         "_deepnote_index_column": 3
        },
        {
         "cut": "Fair",
         "price": 7017600,
         "_deepnote_index_column": 4
        }
       ]
      },
      "text/plain": "         cut     price\n0      Ideal  74513487\n1    Premium  63221498\n2  Very Good  48107623\n3       Good  19275009\n4       Fair   7017600",
      "text/html": "<div>\n<style scoped>\n    .dataframe tbody tr th:only-of-type {\n        vertical-align: middle;\n    }\n\n    .dataframe tbody tr th {\n        vertical-align: top;\n    }\n\n    .dataframe thead th {\n        text-align: right;\n    }\n</style>\n<table border=\"1\" class=\"dataframe\">\n  <thead>\n    <tr style=\"text-align: right;\">\n      <th></th>\n      <th>cut</th>\n      <th>price</th>\n    </tr>\n  </thead>\n  <tbody>\n    <tr>\n      <th>0</th>\n      <td>Ideal</td>\n      <td>74513487</td>\n    </tr>\n    <tr>\n      <th>1</th>\n      <td>Premium</td>\n      <td>63221498</td>\n    </tr>\n    <tr>\n      <th>2</th>\n      <td>Very Good</td>\n      <td>48107623</td>\n    </tr>\n    <tr>\n      <th>3</th>\n      <td>Good</td>\n      <td>19275009</td>\n    </tr>\n    <tr>\n      <th>4</th>\n      <td>Fair</td>\n      <td>7017600</td>\n    </tr>\n  </tbody>\n</table>\n</div>"
     },
     "metadata": {}
    }
   ]
  },
  {
   "cell_type": "code",
   "metadata": {
    "id": "FzomRhmMc_QN",
    "cell_id": "00007-c8f85eb5-92a1-4496-aa91-7d2448386a67",
    "deepnote_to_be_reexecuted": false,
    "source_hash": "82ecada8",
    "execution_start": 1639696858835,
    "execution_millis": 266,
    "deepnote_output_heights": [
     280
    ],
    "deepnote_cell_type": "code"
   },
   "source": "# gráfico do exercício 1\n\n\ngrafico = sns.barplot(data=diamonds, x=\"cut\", y=\"price\", ci=None, palette=\"pastel\")\ngrafico.set(title='Preço do diamante por tipo de corte', xlabel='Tipo de corte', ylabel='Preço do diamante (USD)');\n",
   "execution_count": null,
   "outputs": [
    {
     "data": {
      "text/plain": "<Figure size 432x288 with 1 Axes>",
      "image/png": "[encoded data removed]"
     },
     "metadata": {
      "needs_background": "light",
      "image/png": {
       "width": 376,
       "height": 278
      }
     },
     "output_type": "display_data"
    }
   ]
  },
  {
   "cell_type": "markdown",
   "source": "**Insight do gráfico 1**: Quanto mais refinado o tipo de corte do diamante, mais caro ele será.",
   "metadata": {
    "id": "T1v54HT4lEfs",
    "cell_id": "00008-dd14b38f-6856-4b6c-9198-0ffa81bf908b",
    "deepnote_cell_type": "markdown"
   }
  },
  {
   "cell_type": "markdown",
   "source": "---",
   "metadata": {
    "id": "QPUo5mDTdtRY",
    "cell_id": "00009-31427936-d646-4133-ac65-a56b62fec0e0",
    "deepnote_cell_type": "markdown"
   }
  },
  {
   "cell_type": "markdown",
   "source": "## 2\\. Número de passageiros em dezembro por ano",
   "metadata": {
    "id": "wWfZ8iu9dwzz",
    "cell_id": "00010-0ab2f04f-4e95-4193-b5c7-9ff14e2a2a60",
    "deepnote_cell_type": "markdown"
   }
  },
  {
   "cell_type": "code",
   "metadata": {
    "id": "rf3l0_fpdwz0",
    "cell_id": "00011-ec3ec9fe-ca76-4dd0-b47a-132720ecbfeb",
    "deepnote_to_be_reexecuted": false,
    "source_hash": "e3b2f82e",
    "execution_start": 1639696859157,
    "execution_millis": 4,
    "deepnote_table_state": {
     "pageSize": 100,
     "pageIndex": 0,
     "filters": [],
     "sortBy": []
    },
    "deepnote_table_loading": false,
    "deepnote_cell_type": "code"
   },
   "source": "import seaborn as sns\n\ndata = sns.load_dataset(\"flights\")\ndata.head(n=10)",
   "execution_count": null,
   "outputs": [
    {
     "output_type": "execute_result",
     "execution_count": 4,
     "data": {
      "application/vnd.deepnote.dataframe.v3+json": {
       "column_count": 3,
       "row_count": 10,
       "columns": [
        {
         "name": "year",
         "dtype": "int64",
         "stats": {
          "unique_count": 1,
          "nan_count": 0,
          "min": "1949",
          "max": "1949",
          "histogram": [
           {
            "bin_start": 1948.5,
            "bin_end": 1948.6,
            "count": 0
           },
           {
            "bin_start": 1948.6,
            "bin_end": 1948.7,
            "count": 0
           },
           {
            "bin_start": 1948.7,
            "bin_end": 1948.8,
            "count": 0
           },
           {
            "bin_start": 1948.8,
            "bin_end": 1948.9,
            "count": 0
           },
           {
            "bin_start": 1948.9,
            "bin_end": 1949,
            "count": 0
           },
           {
            "bin_start": 1949,
            "bin_end": 1949.1,
            "count": 10
           },
           {
            "bin_start": 1949.1,
            "bin_end": 1949.2,
            "count": 0
           },
           {
            "bin_start": 1949.2,
            "bin_end": 1949.3,
            "count": 0
           },
           {
            "bin_start": 1949.3,
            "bin_end": 1949.4,
            "count": 0
           },
           {
            "bin_start": 1949.4,
            "bin_end": 1949.5,
            "count": 0
           }
          ]
         }
        },
        {
         "name": "month",
         "dtype": "category",
         "stats": {
          "unique_count": 10,
          "nan_count": 0,
          "categories": [
           {
            "name": "Jan",
            "count": 1
           },
           {
            "name": "Feb",
            "count": 1
           },
           {
            "name": "8 others",
            "count": 8
           }
          ]
         }
        },
        {
         "name": "passengers",
         "dtype": "int64",
         "stats": {
          "unique_count": 9,
          "nan_count": 0,
          "min": "112",
          "max": "148",
          "histogram": [
           {
            "bin_start": 112,
            "bin_end": 115.6,
            "count": 1
           },
           {
            "bin_start": 115.6,
            "bin_end": 119.2,
            "count": 2
           },
           {
            "bin_start": 119.2,
            "bin_end": 122.8,
            "count": 1
           },
           {
            "bin_start": 122.8,
            "bin_end": 126.4,
            "count": 0
           },
           {
            "bin_start": 126.4,
            "bin_end": 130,
            "count": 1
           },
           {
            "bin_start": 130,
            "bin_end": 133.6,
            "count": 1
           },
           {
            "bin_start": 133.6,
            "bin_end": 137.2,
            "count": 2
           },
           {
            "bin_start": 137.2,
            "bin_end": 140.8,
            "count": 0
           },
           {
            "bin_start": 140.8,
            "bin_end": 144.4,
            "count": 0
           },
           {
            "bin_start": 144.4,
            "bin_end": 148,
            "count": 2
           }
          ]
         }
        },
        {
         "name": "_deepnote_index_column",
         "dtype": "int64"
        }
       ],
       "rows": [
        {
         "year": 1949,
         "month": "Jan",
         "passengers": 112,
         "_deepnote_index_column": 0
        },
        {
         "year": 1949,
         "month": "Feb",
         "passengers": 118,
         "_deepnote_index_column": 1
        },
        {
         "year": 1949,
         "month": "Mar",
         "passengers": 132,
         "_deepnote_index_column": 2
        },
        {
         "year": 1949,
         "month": "Apr",
         "passengers": 129,
         "_deepnote_index_column": 3
        },
        {
         "year": 1949,
         "month": "May",
         "passengers": 121,
         "_deepnote_index_column": 4
        },
        {
         "year": 1949,
         "month": "Jun",
         "passengers": 135,
         "_deepnote_index_column": 5
        },
        {
         "year": 1949,
         "month": "Jul",
         "passengers": 148,
         "_deepnote_index_column": 6
        },
        {
         "year": 1949,
         "month": "Aug",
         "passengers": 148,
         "_deepnote_index_column": 7
        },
        {
         "year": 1949,
         "month": "Sep",
         "passengers": 136,
         "_deepnote_index_column": 8
        },
        {
         "year": 1949,
         "month": "Oct",
         "passengers": 119,
         "_deepnote_index_column": 9
        }
       ]
      },
      "text/plain": "   year month  passengers\n0  1949   Jan         112\n1  1949   Feb         118\n2  1949   Mar         132\n3  1949   Apr         129\n4  1949   May         121\n5  1949   Jun         135\n6  1949   Jul         148\n7  1949   Aug         148\n8  1949   Sep         136\n9  1949   Oct         119",
      "text/html": "<div>\n<style scoped>\n    .dataframe tbody tr th:only-of-type {\n        vertical-align: middle;\n    }\n\n    .dataframe tbody tr th {\n        vertical-align: top;\n    }\n\n    .dataframe thead th {\n        text-align: right;\n    }\n</style>\n<table border=\"1\" class=\"dataframe\">\n  <thead>\n    <tr style=\"text-align: right;\">\n      <th></th>\n      <th>year</th>\n      <th>month</th>\n      <th>passengers</th>\n    </tr>\n  </thead>\n  <tbody>\n    <tr>\n      <th>0</th>\n      <td>1949</td>\n      <td>Jan</td>\n      <td>112</td>\n    </tr>\n    <tr>\n      <th>1</th>\n      <td>1949</td>\n      <td>Feb</td>\n      <td>118</td>\n    </tr>\n    <tr>\n      <th>2</th>\n      <td>1949</td>\n      <td>Mar</td>\n      <td>132</td>\n    </tr>\n    <tr>\n      <th>3</th>\n      <td>1949</td>\n      <td>Apr</td>\n      <td>129</td>\n    </tr>\n    <tr>\n      <th>4</th>\n      <td>1949</td>\n      <td>May</td>\n      <td>121</td>\n    </tr>\n    <tr>\n      <th>5</th>\n      <td>1949</td>\n      <td>Jun</td>\n      <td>135</td>\n    </tr>\n    <tr>\n      <th>6</th>\n      <td>1949</td>\n      <td>Jul</td>\n      <td>148</td>\n    </tr>\n    <tr>\n      <th>7</th>\n      <td>1949</td>\n      <td>Aug</td>\n      <td>148</td>\n    </tr>\n    <tr>\n      <th>8</th>\n      <td>1949</td>\n      <td>Sep</td>\n      <td>136</td>\n    </tr>\n    <tr>\n      <th>9</th>\n      <td>1949</td>\n      <td>Oct</td>\n      <td>119</td>\n    </tr>\n  </tbody>\n</table>\n</div>"
     },
     "metadata": {}
    }
   ]
  },
  {
   "cell_type": "code",
   "metadata": {
    "id": "GS8LOuQjdwz1",
    "cell_id": "00012-490f6ccc-ab86-4e47-a8da-616864727c69",
    "deepnote_to_be_reexecuted": false,
    "source_hash": "a28e5dae",
    "execution_start": 1639696859207,
    "execution_millis": 398,
    "deepnote_output_heights": [
     280
    ],
    "deepnote_cell_type": "code"
   },
   "source": "# gráfico do exercício 2\n\nflights = data.query('month == \"Dec\"')\n\n\nwith sns.axes_style('whitegrid'):\n\n  grafico = sns.lineplot(data=flights, x=\"year\", y=\"passengers\", palette=\"pastel\")\n  grafico.set(title='Passageiros em dezembro por ano', xlabel='Ano', ylabel='Passageiros');",
   "execution_count": null,
   "outputs": [
    {
     "data": {
      "text/plain": "<Figure size 432x288 with 1 Axes>",
      "image/png": "[encoded data removed]"
     },
     "metadata": {
      "image/png": {
       "width": 389,
       "height": 278
      }
     },
     "output_type": "display_data"
    }
   ]
  },
  {
   "cell_type": "markdown",
   "source": "**Insight do gráfico 2**:\n1. A quantidade de passageiros aumentou com o passar dos anos.\n1. Houve estagnações no periodo de 1957 para 1958 e no período de 1652 para 1953.",
   "metadata": {
    "id": "hKg9CwX6lM3r",
    "cell_id": "00013-1624321c-7c8b-40fd-913b-1454ecf3e849",
    "deepnote_cell_type": "markdown"
   }
  },
  {
   "cell_type": "markdown",
   "source": "---",
   "metadata": {
    "id": "ucbXdtR4dwz1",
    "cell_id": "00014-e5867c39-29cf-4319-a040-ef05e2cd556d",
    "deepnote_cell_type": "markdown"
   }
  },
  {
   "cell_type": "markdown",
   "source": "## 3\\. Numero de passageiros por mês entre 1949 e 1959",
   "metadata": {
    "id": "OybuTdyXdxdS",
    "cell_id": "00015-ebc5f484-3179-43e9-ae53-2a5abd95ccf5",
    "deepnote_cell_type": "markdown"
   }
  },
  {
   "cell_type": "code",
   "metadata": {
    "id": "b-ssImdhdxdT",
    "cell_id": "00016-02ab40cb-40c8-40ce-aa9a-b26a329987ec",
    "deepnote_to_be_reexecuted": false,
    "source_hash": "440673c9",
    "execution_start": 1639696859632,
    "execution_millis": 37,
    "deepnote_cell_type": "code"
   },
   "source": "import seaborn as sns\n\ndata = sns.load_dataset(\"flights\")\ndata.head()",
   "execution_count": null,
   "outputs": [
    {
     "output_type": "execute_result",
     "execution_count": 6,
     "data": {
      "application/vnd.deepnote.dataframe.v3+json": {
       "column_count": 3,
       "row_count": 5,
       "columns": [
        {
         "name": "year",
         "dtype": "int64",
         "stats": {
          "unique_count": 1,
          "nan_count": 0,
          "min": "1949",
          "max": "1949",
          "histogram": [
           {
            "bin_start": 1948.5,
            "bin_end": 1948.6,
            "count": 0
           },
           {
            "bin_start": 1948.6,
            "bin_end": 1948.7,
            "count": 0
           },
           {
            "bin_start": 1948.7,
            "bin_end": 1948.8,
            "count": 0
           },
           {
            "bin_start": 1948.8,
            "bin_end": 1948.9,
            "count": 0
           },
           {
            "bin_start": 1948.9,
            "bin_end": 1949,
            "count": 0
           },
           {
            "bin_start": 1949,
            "bin_end": 1949.1,
            "count": 5
           },
           {
            "bin_start": 1949.1,
            "bin_end": 1949.2,
            "count": 0
           },
           {
            "bin_start": 1949.2,
            "bin_end": 1949.3,
            "count": 0
           },
           {
            "bin_start": 1949.3,
            "bin_end": 1949.4,
            "count": 0
           },
           {
            "bin_start": 1949.4,
            "bin_end": 1949.5,
            "count": 0
           }
          ]
         }
        },
        {
         "name": "month",
         "dtype": "category",
         "stats": {
          "unique_count": 5,
          "nan_count": 0,
          "categories": [
           {
            "name": "Jan",
            "count": 1
           },
           {
            "name": "Feb",
            "count": 1
           },
           {
            "name": "3 others",
            "count": 3
           }
          ]
         }
        },
        {
         "name": "passengers",
         "dtype": "int64",
         "stats": {
          "unique_count": 5,
          "nan_count": 0,
          "min": "112",
          "max": "132",
          "histogram": [
           {
            "bin_start": 112,
            "bin_end": 114,
            "count": 1
           },
           {
            "bin_start": 114,
            "bin_end": 116,
            "count": 0
           },
           {
            "bin_start": 116,
            "bin_end": 118,
            "count": 0
           },
           {
            "bin_start": 118,
            "bin_end": 120,
            "count": 1
           },
           {
            "bin_start": 120,
            "bin_end": 122,
            "count": 1
           },
           {
            "bin_start": 122,
            "bin_end": 124,
            "count": 0
           },
           {
            "bin_start": 124,
            "bin_end": 126,
            "count": 0
           },
           {
            "bin_start": 126,
            "bin_end": 128,
            "count": 0
           },
           {
            "bin_start": 128,
            "bin_end": 130,
            "count": 1
           },
           {
            "bin_start": 130,
            "bin_end": 132,
            "count": 1
           }
          ]
         }
        },
        {
         "name": "_deepnote_index_column",
         "dtype": "int64"
        }
       ],
       "rows": [
        {
         "year": 1949,
         "month": "Jan",
         "passengers": 112,
         "_deepnote_index_column": 0
        },
        {
         "year": 1949,
         "month": "Feb",
         "passengers": 118,
         "_deepnote_index_column": 1
        },
        {
         "year": 1949,
         "month": "Mar",
         "passengers": 132,
         "_deepnote_index_column": 2
        },
        {
         "year": 1949,
         "month": "Apr",
         "passengers": 129,
         "_deepnote_index_column": 3
        },
        {
         "year": 1949,
         "month": "May",
         "passengers": 121,
         "_deepnote_index_column": 4
        }
       ]
      },
      "text/plain": "   year month  passengers\n0  1949   Jan         112\n1  1949   Feb         118\n2  1949   Mar         132\n3  1949   Apr         129\n4  1949   May         121",
      "text/html": "<div>\n<style scoped>\n    .dataframe tbody tr th:only-of-type {\n        vertical-align: middle;\n    }\n\n    .dataframe tbody tr th {\n        vertical-align: top;\n    }\n\n    .dataframe thead th {\n        text-align: right;\n    }\n</style>\n<table border=\"1\" class=\"dataframe\">\n  <thead>\n    <tr style=\"text-align: right;\">\n      <th></th>\n      <th>year</th>\n      <th>month</th>\n      <th>passengers</th>\n    </tr>\n  </thead>\n  <tbody>\n    <tr>\n      <th>0</th>\n      <td>1949</td>\n      <td>Jan</td>\n      <td>112</td>\n    </tr>\n    <tr>\n      <th>1</th>\n      <td>1949</td>\n      <td>Feb</td>\n      <td>118</td>\n    </tr>\n    <tr>\n      <th>2</th>\n      <td>1949</td>\n      <td>Mar</td>\n      <td>132</td>\n    </tr>\n    <tr>\n      <th>3</th>\n      <td>1949</td>\n      <td>Apr</td>\n      <td>129</td>\n    </tr>\n    <tr>\n      <th>4</th>\n      <td>1949</td>\n      <td>May</td>\n      <td>121</td>\n    </tr>\n  </tbody>\n</table>\n</div>"
     },
     "metadata": {}
    }
   ]
  },
  {
   "cell_type": "code",
   "metadata": {
    "id": "Eg4JROvTdxdT",
    "cell_id": "00017-579e0e3c-ec78-4fa1-abe8-9c4a8e193b61",
    "deepnote_to_be_reexecuted": false,
    "source_hash": "6dbe7210",
    "execution_start": 1639696859747,
    "execution_millis": 795,
    "deepnote_output_heights": [
     280
    ],
    "deepnote_table_state": {
     "pageSize": 25,
     "pageIndex": 0,
     "filters": [],
     "sortBy": []
    },
    "deepnote_table_loading": false,
    "deepnote_cell_type": "code"
   },
   "source": "# gráfico do exercício 3\n\nflights = data.query('year > 1949 & year < 1959')\n\n\nwith sns.axes_style('whitegrid'):\n\n  grafico = sns.lineplot(data=flights, x=\"month\", y=\"passengers\", palette=\"pastel\")\n  grafico.set(title='Passageiros por mês entre 1949 e 1959', xlabel='Mês', ylabel='Passageiros');",
   "execution_count": null,
   "outputs": [
    {
     "data": {
      "text/plain": "<Figure size 432x288 with 1 Axes>",
      "image/png": "[encoded data removed]"
     },
     "metadata": {
      "image/png": {
       "width": 389,
       "height": 278
      }
     },
     "output_type": "display_data"
    }
   ]
  },
  {
   "cell_type": "markdown",
   "source": "**Insight do gráfico 3**: \n1. Em que pese as pequenas quedas em fevereiro e abril, há uma forte tendência de alta no período de janeiro a agosto.\n1. Depois de agosto, há uma forte e abrupta tendência de baixa nos meses de setembro a novembro.\n1. Em dezembro, há novamente uma recuperação até fevereiro do ano seguinte.",
   "metadata": {
    "id": "OpIwRWGzlO8Y",
    "cell_id": "00018-15c6a337-a4b7-4efe-8113-da036d3fc437",
    "deepnote_cell_type": "markdown"
   }
  },
  {
   "cell_type": "code",
   "metadata": {
    "tags": [],
    "cell_id": "00018-abf9c7a9-e845-4fc7-878d-026867197908",
    "deepnote_to_be_reexecuted": false,
    "source_hash": "3c8cda1f",
    "execution_start": 1639696860546,
    "execution_millis": 895,
    "deepnote_output_heights": [
     21.199996948242188,
     354
    ],
    "deepnote_cell_type": "code"
   },
   "source": "#resolvi fazer mais um gráfico pois fiquei em dúvida quanto ao melhor gráfico para representar as variáveis\nflights = data.query('year > 1949 & year < 1959')\n\n\nsns.relplot(data=flights,x=\"month\", y=\"passengers\", hue=\"year\")\n",
   "execution_count": null,
   "outputs": [
    {
     "output_type": "execute_result",
     "execution_count": 8,
     "data": {
      "text/plain": "<seaborn.axisgrid.FacetGrid at 0x7f4826f9dfd0>"
     },
     "metadata": {}
    },
    {
     "data": {
      "text/plain": "<Figure size 421.5x360 with 1 Axes>",
      "image/png": "[encoded data removed]"
     },
     "metadata": {
      "needs_background": "light",
      "image/png": {
       "width": 411,
       "height": 352
      }
     },
     "output_type": "display_data"
    }
   ]
  },
  {
   "cell_type": "markdown",
   "source": "---",
   "metadata": {
    "id": "wmFKH-DAdxdU",
    "cell_id": "00019-2e884231-96cf-4e52-9388-b617dd743152",
    "deepnote_cell_type": "markdown"
   }
  },
  {
   "cell_type": "markdown",
   "source": "**Insight do gráfico 4**: \n1. Há uma clara tendência de aumento da quantidade de passageiros com o passar dos anos em todos os meses do ano.",
   "metadata": {
    "tags": [],
    "cell_id": "00022-e86d0272-0188-4859-a8b6-16596b271b1f",
    "deepnote_cell_type": "markdown"
   }
  },
  {
   "cell_type": "markdown",
   "source": "<a style='text-decoration:none;line-height:16px;display:flex;color:#5B5B62;padding:10px;justify-content:end;' href='https://deepnote.com?utm_source=created-in-deepnote-cell&projectId=690ec1aa-ed7a-4520-b902-aba6fc5867d1' target=\"_blank\">\n<img alt='Created in deepnote.com' style='display:inline;max-height:16px;margin:0px;margin-right:7.5px;' src='data:image/svg+xml;base64,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' > </img>\nCreated in <span style='font-weight:600;margin-left:4px;'>Deepnote</span></a>",
   "metadata": {
    "tags": [],
    "created_in_deepnote_cell": true,
    "deepnote_cell_type": "markdown"
   }
  }
 ],
 "nbformat": 4,
 "nbformat_minor": 0,
 "metadata": {
  "colab": {
   "name": "module_14_exercise.ipynb",
   "provenance": [],
   "collapsed_sections": [],
   "toc_visible": true
  },
  "kernelspec": {
   "name": "python3",
   "display_name": "Python 3"
  },
  "deepnote_notebook_id": "1f3e41b8-06cc-4060-a246-837662fbe2e5",
  "deepnote": {},
  "deepnote_execution_queue": []
 }
}