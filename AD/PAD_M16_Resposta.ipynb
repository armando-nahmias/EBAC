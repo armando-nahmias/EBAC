{
 "cells": [
  {
   "cell_type": "markdown",
   "source": "<img src=\"https://raw.githubusercontent.com/andre-marcos-perez/ebac-course-utils/main/media/logo/newebac_logo_black_half.png\" alt=\"ebac-logo\">\n\n---\n\n# **Módulo** | Análise de Dados: Análise Exploratória de Dados de Logística I\nCaderno de **Exercícios**<br> \nProfessor [André Perez](https://www.linkedin.com/in/andremarcosperez/)\n\n---",
   "metadata": {
    "cell_id": "00000-85892306-74aa-4405-a926-a1dde99eaad3",
    "id": "KJqp9AANOCtf",
    "deepnote_cell_type": "markdown"
   }
  },
  {
   "cell_type": "markdown",
   "source": "# **Tópicos**\n\n<ol type=\"1\">\n  <li>Introdução ao Kaggle;</li>\n  <li>Introdução ao problema de negócios;</li>\n  <li>Exploração de dados.</li>\n</ol>\n",
   "metadata": {
    "cell_id": "00001-26016ef9-e03a-4214-84c7-c2e532a7e3c7",
    "id": "d9jDtUbDOE1-",
    "deepnote_cell_type": "markdown"
   }
  },
  {
   "cell_type": "markdown",
   "source": "---",
   "metadata": {
    "cell_id": "00002-f229d958-ad0c-448e-be69-2692f3752cf2",
    "id": "SmoHgt-lwkpD",
    "deepnote_cell_type": "markdown"
   }
  },
  {
   "cell_type": "markdown",
   "source": "# **Exercícios**",
   "metadata": {
    "cell_id": "00003-7c11b1bc-ce7c-4475-b86b-f02109d640fd",
    "id": "GABI6OW8OfQ2",
    "deepnote_cell_type": "markdown"
   }
  },
  {
   "cell_type": "markdown",
   "source": "Este *notebook* deve servir como um guia para a construção da sua própria análise exploratória de dados. Fique a vontate para copiar os códigos da aula mas busque explorar os dados ao máximo. Por fim, publique seu *notebook* no [Kaggle](https://www.kaggle.com/).",
   "metadata": {
    "cell_id": "00004-5a028da7-6ed3-44eb-8b25-ff2371492029",
    "id": "muD1vxozykSC",
    "deepnote_cell_type": "markdown"
   }
  },
  {
   "cell_type": "markdown",
   "source": "---",
   "metadata": {
    "cell_id": "00005-81436de4-efa9-4872-aebb-80fb6aa934a8",
    "id": "zMN1Q3jdwoJm",
    "deepnote_cell_type": "markdown"
   }
  },
  {
   "cell_type": "markdown",
   "source": "# **Análise Exploratória de Dados de Logística**",
   "metadata": {
    "cell_id": "00006-e79efed1-9622-4723-b4f8-3cb90999ea8b",
    "id": "QRcqbpLpFK5o",
    "deepnote_cell_type": "markdown"
   }
  },
  {
   "cell_type": "markdown",
   "source": "## 1\\. Contexto",
   "metadata": {
    "cell_id": "00007-534fa42a-8d3b-4672-bcad-92e823bc645a",
    "id": "6-CvdKwqFPiW",
    "deepnote_cell_type": "markdown"
   }
  },
  {
   "cell_type": "markdown",
   "source": "A Loggi é uma startup unicórnio brasileira de tecnologia focada em logística. A Loggi começou entregando apenas documentos entre 2013 e 2014. Dois anos depois, entrou no segmento de e-commerce. E, desde 2017, tem atuado nas entregas de alimentos também.\nO Loggi Benchmark for Urban Deliveries (BUD) é um repositório do GitHub (link) com dados e códigos para problemas típicos que empresas de logística enfrentam: otimização das rotas de entrega, alocação de entregas nos veículos da frota com capacidade limitada, etc. Os dados são sintetizados de fontes públicas (IBGE, IPEA, etc.) e são representativos dos desafios que a startup enfrenta no dia a dia, especialmente com relação a sua escala.\n\nA figura abaixo ilustra a dimensão do problema para a cidade do Rio de Janeiro. Na figura, cada ponto azul representa um ponto de entrega que deve ser alocado a um veículo para que a entrega seja realizada. Veículos pertencem a hubs de distribuição regionais espalhados pela cidade.\n\nO dado bruto é um arquivo do tipo JSON com uma lista de instâncias de entregas. Cada instância representa um conjunto de entregas que devem ser realizadas pelos veículos do hub regional. Exemplo:\n\n[\n  {\n    \"name\": \"cvrp-0-df-0\",\n    \"region\": \"df-0\",\n    \"origin\": {\"lng\": -47.802664728268745, \"lat\": -15.657013854445248},\n    \"vehicle_capacity\": 180,\n    \"deliveries\": [\n      {\n        \"id\": \"ed0993f8cc70d998342f38ee827176dc\",\n        \"point\": {\"lng\": -47.7496622016347, \"lat\": -15.65879313293694},\n        \"size\": 10\n      },\n      {\n        \"id\": \"c7220154adc7a3def8f0b2b8a42677a9\",\n        \"point\": {\"lng\": -47.75887552060412, \"lat\": -15.651440380492554},\n        \"size\": 10\n      },\n      ...\n    ]\n  }\n]\n...\n\nOnde:\n\n    name: uma string com o nome único da instância;\n    region: uma string com o nome único da região do hub;\n    origin: um dict com a latitude e longitude da região do hub;\n    vehicle_capacity: um int com a soma da capacidade de carga dos veículos do hub;\n    deliveries: uma list de dict com as entregas que devem ser realizadas.\n\nSendo que:\n\n    id: uma string com o id único da entrega;\n    point: um dict com a latitude e longitude da entrega;\n    size: um int com o tamanho ou a carga que a entrega ocupa no veículo.",
   "metadata": {
    "cell_id": "00008-31b33d9b-d786-4b92-a76e-77b04a7ec88e",
    "id": "XRURE1uUFXGw",
    "deepnote_cell_type": "markdown"
   }
  },
  {
   "cell_type": "markdown",
   "source": "## 2\\. Pacotes e bibliotecas",
   "metadata": {
    "cell_id": "00009-c2b4ff4d-b234-4abb-a29e-04e487f744d0",
    "id": "QxukLHaqFnkU",
    "deepnote_cell_type": "markdown"
   }
  },
  {
   "cell_type": "code",
   "metadata": {
    "cell_id": "00010-0a818263-7120-4fd2-9a5f-6aa5da41be08",
    "id": "VXUEW0VrF7XW",
    "deepnote_cell_type": "code"
   },
   "source": "# importe todas as suas bibliotecas aqui, siga os padrões do PEP8:\n#\n# - 1º pacotes nativos do python: json, os, etc.;\n# - 2º pacotes de terceiros: pandas, seabornm etc.;\n# - 3º pacotes que você desenvolveu.\n#\n\n...\nimport json\n\nimport pandas as pd\n\n",
   "outputs": [],
   "execution_count": null
  },
  {
   "cell_type": "markdown",
   "source": "## 3\\. Exploração de dados",
   "metadata": {
    "cell_id": "00011-929f011c-74ba-41bb-a742-a2af57c11651",
    "id": "irQxHW1zGkdZ",
    "deepnote_cell_type": "markdown"
   }
  },
  {
   "cell_type": "markdown",
   "source": "## 3.1. Coleta de dados",
   "metadata": {
    "cell_id": "00012-a3ff19b5-2976-4b38-8e90-f737604657fb",
    "deepnote_cell_type": "markdown"
   }
  },
  {
   "cell_type": "code",
   "metadata": {
    "cell_id": "00013-fdb2cb9f-8e26-47df-b328-053e1508dff6",
    "deepnote_cell_type": "code"
   },
   "source": "with open('./dados/deliveries.json', mode='r', encoding='utf8') as file:\n    data = json.load(file)\n\nlen(data)",
   "outputs": [
    {
     "data": {
      "text/plain": "199"
     },
     "execution_count": 3,
     "metadata": {},
     "output_type": "execute_result"
    }
   ],
   "execution_count": null
  },
  {
   "cell_type": "code",
   "metadata": {
    "cell_id": "00014-7d6550c0-1864-44ab-a181-afce63a2ec64",
    "deepnote_cell_type": "code"
   },
   "source": "example = data[10]\nprint(example.keys())\n",
   "outputs": [
    {
     "name": "stdout",
     "output_type": "stream",
     "text": "dict_keys(['name', 'region', 'origin', 'vehicle_capacity', 'deliveries'])\n"
    }
   ],
   "execution_count": null
  },
  {
   "cell_type": "code",
   "metadata": {
    "cell_id": "00015-727e1085-1adf-402b-a028-293d6b2c8ba9",
    "deepnote_cell_type": "code"
   },
   "source": "example['name']",
   "outputs": [
    {
     "data": {
      "text/plain": "'cvrp-1-df-29'"
     },
     "execution_count": 38,
     "metadata": {},
     "output_type": "execute_result"
    }
   ],
   "execution_count": null
  },
  {
   "cell_type": "code",
   "metadata": {
    "cell_id": "00016-4eac1329-830b-44ee-8742-7131a976e6bc",
    "deepnote_cell_type": "code"
   },
   "source": "example['region']",
   "outputs": [
    {
     "data": {
      "text/plain": "'df-1'"
     },
     "execution_count": 39,
     "metadata": {},
     "output_type": "execute_result"
    }
   ],
   "execution_count": null
  },
  {
   "cell_type": "code",
   "metadata": {
    "cell_id": "00017-e0694947-bc1f-41ff-994d-d7082866c542",
    "deepnote_cell_type": "code"
   },
   "source": "example['origin']",
   "outputs": [
    {
     "data": {
      "text/plain": "{'lng': -47.89366206897872, 'lat': -15.80511751066334}"
     },
     "execution_count": 40,
     "metadata": {},
     "output_type": "execute_result"
    }
   ],
   "execution_count": null
  },
  {
   "cell_type": "code",
   "metadata": {
    "cell_id": "00018-58303d94-fcea-496d-a37c-4eed94ddebac",
    "deepnote_cell_type": "code"
   },
   "source": "example['vehicle_capacity']",
   "outputs": [
    {
     "data": {
      "text/plain": "180"
     },
     "execution_count": 41,
     "metadata": {},
     "output_type": "execute_result"
    }
   ],
   "execution_count": null
  },
  {
   "cell_type": "code",
   "metadata": {
    "cell_id": "00019-4d5e257e-5e82-4de1-9146-492cc1bb8f00",
    "deepnote_cell_type": "code"
   },
   "source": "example['deliveries'][0]['point']['lat']",
   "outputs": [
    {
     "data": {
      "text/plain": "-15.829095214952613"
     },
     "execution_count": 42,
     "metadata": {},
     "output_type": "execute_result"
    }
   ],
   "execution_count": null
  },
  {
   "cell_type": "markdown",
   "source": "## 3.2. Exploração da estrutura",
   "metadata": {
    "cell_id": "00020-1d5f2f88-8fd5-474e-8f8f-3015e762f675",
    "deepnote_cell_type": "markdown"
   }
  },
  {
   "cell_type": "code",
   "metadata": {
    "cell_id": "00021-fe6d53f3-5623-43a7-b195-5713f60552c6",
    "deepnote_cell_type": "code"
   },
   "source": "deliveries_df = pd.DataFrame(data)\ndeliveries_df.head()",
   "outputs": [
    {
     "data": {
      "text/html": "<div>\n<style scoped>\n    .dataframe tbody tr th:only-of-type {\n        vertical-align: middle;\n    }\n\n    .dataframe tbody tr th {\n        vertical-align: top;\n    }\n\n    .dataframe thead th {\n        text-align: right;\n    }\n</style>\n<table border=\"1\" class=\"dataframe\">\n  <thead>\n    <tr style=\"text-align: right;\">\n      <th></th>\n      <th>name</th>\n      <th>region</th>\n      <th>origin</th>\n      <th>vehicle_capacity</th>\n      <th>deliveries</th>\n    </tr>\n  </thead>\n  <tbody>\n    <tr>\n      <th>0</th>\n      <td>cvrp-2-df-33</td>\n      <td>df-2</td>\n      <td>{'lng': -48.05498915846707, 'lat': -15.8381445...</td>\n      <td>180</td>\n      <td>[{'id': '313483a19d2f8d65cd5024c8d215cfbd', 'p...</td>\n    </tr>\n    <tr>\n      <th>1</th>\n      <td>cvrp-2-df-73</td>\n      <td>df-2</td>\n      <td>{'lng': -48.05498915846707, 'lat': -15.8381445...</td>\n      <td>180</td>\n      <td>[{'id': 'bf3fc630b1c29601a4caf1bdd474b85', 'po...</td>\n    </tr>\n    <tr>\n      <th>2</th>\n      <td>cvrp-2-df-20</td>\n      <td>df-2</td>\n      <td>{'lng': -48.05498915846707, 'lat': -15.8381445...</td>\n      <td>180</td>\n      <td>[{'id': 'b30f1145a2ba4e0b9ac0162b68d045c3', 'p...</td>\n    </tr>\n    <tr>\n      <th>3</th>\n      <td>cvrp-1-df-71</td>\n      <td>df-1</td>\n      <td>{'lng': -47.89366206897872, 'lat': -15.8051175...</td>\n      <td>180</td>\n      <td>[{'id': 'be3ed547394196c12c7c27c89ac74ed6', 'p...</td>\n    </tr>\n    <tr>\n      <th>4</th>\n      <td>cvrp-2-df-87</td>\n      <td>df-2</td>\n      <td>{'lng': -48.05498915846707, 'lat': -15.8381445...</td>\n      <td>180</td>\n      <td>[{'id': 'a6328fb4dc0654eb28a996a270b0f6e4', 'p...</td>\n    </tr>\n  </tbody>\n</table>\n</div>",
      "text/plain": "           name region                                             origin  \\\n0  cvrp-2-df-33   df-2  {'lng': -48.05498915846707, 'lat': -15.8381445...   \n1  cvrp-2-df-73   df-2  {'lng': -48.05498915846707, 'lat': -15.8381445...   \n2  cvrp-2-df-20   df-2  {'lng': -48.05498915846707, 'lat': -15.8381445...   \n3  cvrp-1-df-71   df-1  {'lng': -47.89366206897872, 'lat': -15.8051175...   \n4  cvrp-2-df-87   df-2  {'lng': -48.05498915846707, 'lat': -15.8381445...   \n\n   vehicle_capacity                                         deliveries  \n0               180  [{'id': '313483a19d2f8d65cd5024c8d215cfbd', 'p...  \n1               180  [{'id': 'bf3fc630b1c29601a4caf1bdd474b85', 'po...  \n2               180  [{'id': 'b30f1145a2ba4e0b9ac0162b68d045c3', 'p...  \n3               180  [{'id': 'be3ed547394196c12c7c27c89ac74ed6', 'p...  \n4               180  [{'id': 'a6328fb4dc0654eb28a996a270b0f6e4', 'p...  "
     },
     "execution_count": 54,
     "metadata": {},
     "output_type": "execute_result"
    }
   ],
   "execution_count": null
  },
  {
   "cell_type": "code",
   "metadata": {
    "cell_id": "00022-8d54b0fb-b0cb-43a6-984c-f6d5e5263bf5",
    "deepnote_cell_type": "code"
   },
   "source": "origin_df = pd.json_normalize(deliveries_df['origin'])\norigin_df.head()",
   "outputs": [
    {
     "data": {
      "text/html": "<div>\n<style scoped>\n    .dataframe tbody tr th:only-of-type {\n        vertical-align: middle;\n    }\n\n    .dataframe tbody tr th {\n        vertical-align: top;\n    }\n\n    .dataframe thead th {\n        text-align: right;\n    }\n</style>\n<table border=\"1\" class=\"dataframe\">\n  <thead>\n    <tr style=\"text-align: right;\">\n      <th></th>\n      <th>lng</th>\n      <th>lat</th>\n    </tr>\n  </thead>\n  <tbody>\n    <tr>\n      <th>0</th>\n      <td>-48.054989</td>\n      <td>-15.838145</td>\n    </tr>\n    <tr>\n      <th>1</th>\n      <td>-48.054989</td>\n      <td>-15.838145</td>\n    </tr>\n    <tr>\n      <th>2</th>\n      <td>-48.054989</td>\n      <td>-15.838145</td>\n    </tr>\n    <tr>\n      <th>3</th>\n      <td>-47.893662</td>\n      <td>-15.805118</td>\n    </tr>\n    <tr>\n      <th>4</th>\n      <td>-48.054989</td>\n      <td>-15.838145</td>\n    </tr>\n  </tbody>\n</table>\n</div>",
      "text/plain": "         lng        lat\n0 -48.054989 -15.838145\n1 -48.054989 -15.838145\n2 -48.054989 -15.838145\n3 -47.893662 -15.805118\n4 -48.054989 -15.838145"
     },
     "execution_count": 55,
     "metadata": {},
     "output_type": "execute_result"
    }
   ],
   "execution_count": null
  },
  {
   "cell_type": "code",
   "metadata": {
    "cell_id": "00023-2db32fe7-df3d-4af4-9704-014479adda43",
    "deepnote_cell_type": "code"
   },
   "source": "deliveries_df = pd.merge(left=deliveries_df, right=origin_df, how='inner', left_index=True, right_index=True)\ndeliveries_df.head()",
   "outputs": [
    {
     "data": {
      "text/html": "<div>\n<style scoped>\n    .dataframe tbody tr th:only-of-type {\n        vertical-align: middle;\n    }\n\n    .dataframe tbody tr th {\n        vertical-align: top;\n    }\n\n    .dataframe thead th {\n        text-align: right;\n    }\n</style>\n<table border=\"1\" class=\"dataframe\">\n  <thead>\n    <tr style=\"text-align: right;\">\n      <th></th>\n      <th>name</th>\n      <th>region</th>\n      <th>origin</th>\n      <th>vehicle_capacity</th>\n      <th>deliveries</th>\n      <th>lng</th>\n      <th>lat</th>\n    </tr>\n  </thead>\n  <tbody>\n    <tr>\n      <th>0</th>\n      <td>cvrp-2-df-33</td>\n      <td>df-2</td>\n      <td>{'lng': -48.05498915846707, 'lat': -15.8381445...</td>\n      <td>180</td>\n      <td>[{'id': '313483a19d2f8d65cd5024c8d215cfbd', 'p...</td>\n      <td>-48.054989</td>\n      <td>-15.838145</td>\n    </tr>\n    <tr>\n      <th>1</th>\n      <td>cvrp-2-df-73</td>\n      <td>df-2</td>\n      <td>{'lng': -48.05498915846707, 'lat': -15.8381445...</td>\n      <td>180</td>\n      <td>[{'id': 'bf3fc630b1c29601a4caf1bdd474b85', 'po...</td>\n      <td>-48.054989</td>\n      <td>-15.838145</td>\n    </tr>\n    <tr>\n      <th>2</th>\n      <td>cvrp-2-df-20</td>\n      <td>df-2</td>\n      <td>{'lng': -48.05498915846707, 'lat': -15.8381445...</td>\n      <td>180</td>\n      <td>[{'id': 'b30f1145a2ba4e0b9ac0162b68d045c3', 'p...</td>\n      <td>-48.054989</td>\n      <td>-15.838145</td>\n    </tr>\n    <tr>\n      <th>3</th>\n      <td>cvrp-1-df-71</td>\n      <td>df-1</td>\n      <td>{'lng': -47.89366206897872, 'lat': -15.8051175...</td>\n      <td>180</td>\n      <td>[{'id': 'be3ed547394196c12c7c27c89ac74ed6', 'p...</td>\n      <td>-47.893662</td>\n      <td>-15.805118</td>\n    </tr>\n    <tr>\n      <th>4</th>\n      <td>cvrp-2-df-87</td>\n      <td>df-2</td>\n      <td>{'lng': -48.05498915846707, 'lat': -15.8381445...</td>\n      <td>180</td>\n      <td>[{'id': 'a6328fb4dc0654eb28a996a270b0f6e4', 'p...</td>\n      <td>-48.054989</td>\n      <td>-15.838145</td>\n    </tr>\n  </tbody>\n</table>\n</div>",
      "text/plain": "           name region                                             origin  \\\n0  cvrp-2-df-33   df-2  {'lng': -48.05498915846707, 'lat': -15.8381445...   \n1  cvrp-2-df-73   df-2  {'lng': -48.05498915846707, 'lat': -15.8381445...   \n2  cvrp-2-df-20   df-2  {'lng': -48.05498915846707, 'lat': -15.8381445...   \n3  cvrp-1-df-71   df-1  {'lng': -47.89366206897872, 'lat': -15.8051175...   \n4  cvrp-2-df-87   df-2  {'lng': -48.05498915846707, 'lat': -15.8381445...   \n\n   vehicle_capacity                                         deliveries  \\\n0               180  [{'id': '313483a19d2f8d65cd5024c8d215cfbd', 'p...   \n1               180  [{'id': 'bf3fc630b1c29601a4caf1bdd474b85', 'po...   \n2               180  [{'id': 'b30f1145a2ba4e0b9ac0162b68d045c3', 'p...   \n3               180  [{'id': 'be3ed547394196c12c7c27c89ac74ed6', 'p...   \n4               180  [{'id': 'a6328fb4dc0654eb28a996a270b0f6e4', 'p...   \n\n         lng        lat  \n0 -48.054989 -15.838145  \n1 -48.054989 -15.838145  \n2 -48.054989 -15.838145  \n3 -47.893662 -15.805118  \n4 -48.054989 -15.838145  "
     },
     "execution_count": 56,
     "metadata": {},
     "output_type": "execute_result"
    }
   ],
   "execution_count": null
  },
  {
   "cell_type": "code",
   "metadata": {
    "cell_id": "00024-074942eb-199c-4129-af6d-b61e6d3e9700",
    "deepnote_cell_type": "code"
   },
   "source": "deliveries_df = deliveries_df.drop('origin', axis=1)\ndeliveries_df = deliveries_df[['name', 'region', 'lng', 'lat', 'vehicle_capacity', 'deliveries']]\ndeliveries_df.head()\n",
   "outputs": [
    {
     "data": {
      "text/html": "<div>\n<style scoped>\n    .dataframe tbody tr th:only-of-type {\n        vertical-align: middle;\n    }\n\n    .dataframe tbody tr th {\n        vertical-align: top;\n    }\n\n    .dataframe thead th {\n        text-align: right;\n    }\n</style>\n<table border=\"1\" class=\"dataframe\">\n  <thead>\n    <tr style=\"text-align: right;\">\n      <th></th>\n      <th>name</th>\n      <th>region</th>\n      <th>lng</th>\n      <th>lat</th>\n      <th>vehicle_capacity</th>\n      <th>deliveries</th>\n    </tr>\n  </thead>\n  <tbody>\n    <tr>\n      <th>0</th>\n      <td>cvrp-2-df-33</td>\n      <td>df-2</td>\n      <td>-48.054989</td>\n      <td>-15.838145</td>\n      <td>180</td>\n      <td>[{'id': '313483a19d2f8d65cd5024c8d215cfbd', 'p...</td>\n    </tr>\n    <tr>\n      <th>1</th>\n      <td>cvrp-2-df-73</td>\n      <td>df-2</td>\n      <td>-48.054989</td>\n      <td>-15.838145</td>\n      <td>180</td>\n      <td>[{'id': 'bf3fc630b1c29601a4caf1bdd474b85', 'po...</td>\n    </tr>\n    <tr>\n      <th>2</th>\n      <td>cvrp-2-df-20</td>\n      <td>df-2</td>\n      <td>-48.054989</td>\n      <td>-15.838145</td>\n      <td>180</td>\n      <td>[{'id': 'b30f1145a2ba4e0b9ac0162b68d045c3', 'p...</td>\n    </tr>\n    <tr>\n      <th>3</th>\n      <td>cvrp-1-df-71</td>\n      <td>df-1</td>\n      <td>-47.893662</td>\n      <td>-15.805118</td>\n      <td>180</td>\n      <td>[{'id': 'be3ed547394196c12c7c27c89ac74ed6', 'p...</td>\n    </tr>\n    <tr>\n      <th>4</th>\n      <td>cvrp-2-df-87</td>\n      <td>df-2</td>\n      <td>-48.054989</td>\n      <td>-15.838145</td>\n      <td>180</td>\n      <td>[{'id': 'a6328fb4dc0654eb28a996a270b0f6e4', 'p...</td>\n    </tr>\n  </tbody>\n</table>\n</div>",
      "text/plain": "           name region        lng        lat  vehicle_capacity  \\\n0  cvrp-2-df-33   df-2 -48.054989 -15.838145               180   \n1  cvrp-2-df-73   df-2 -48.054989 -15.838145               180   \n2  cvrp-2-df-20   df-2 -48.054989 -15.838145               180   \n3  cvrp-1-df-71   df-1 -47.893662 -15.805118               180   \n4  cvrp-2-df-87   df-2 -48.054989 -15.838145               180   \n\n                                          deliveries  \n0  [{'id': '313483a19d2f8d65cd5024c8d215cfbd', 'p...  \n1  [{'id': 'bf3fc630b1c29601a4caf1bdd474b85', 'po...  \n2  [{'id': 'b30f1145a2ba4e0b9ac0162b68d045c3', 'p...  \n3  [{'id': 'be3ed547394196c12c7c27c89ac74ed6', 'p...  \n4  [{'id': 'a6328fb4dc0654eb28a996a270b0f6e4', 'p...  "
     },
     "execution_count": 58,
     "metadata": {},
     "output_type": "execute_result"
    }
   ],
   "execution_count": null
  },
  {
   "cell_type": "code",
   "metadata": {
    "cell_id": "00025-8777d9fc-dc63-4a83-bf2e-58fdd7fbc445",
    "deepnote_cell_type": "code"
   },
   "source": "deliveries_df.rename(columns={'lng': 'hub_lng', 'lat': 'hub_lat'}, inplace=True)\ndeliveries_df.head()",
   "outputs": [
    {
     "data": {
      "text/html": "<div>\n<style scoped>\n    .dataframe tbody tr th:only-of-type {\n        vertical-align: middle;\n    }\n\n    .dataframe tbody tr th {\n        vertical-align: top;\n    }\n\n    .dataframe thead th {\n        text-align: right;\n    }\n</style>\n<table border=\"1\" class=\"dataframe\">\n  <thead>\n    <tr style=\"text-align: right;\">\n      <th></th>\n      <th>name</th>\n      <th>region</th>\n      <th>hub_lng</th>\n      <th>hub_lat</th>\n      <th>vehicle_capacity</th>\n      <th>deliveries</th>\n    </tr>\n  </thead>\n  <tbody>\n    <tr>\n      <th>0</th>\n      <td>cvrp-2-df-33</td>\n      <td>df-2</td>\n      <td>-48.054989</td>\n      <td>-15.838145</td>\n      <td>180</td>\n      <td>[{'id': '313483a19d2f8d65cd5024c8d215cfbd', 'p...</td>\n    </tr>\n    <tr>\n      <th>1</th>\n      <td>cvrp-2-df-73</td>\n      <td>df-2</td>\n      <td>-48.054989</td>\n      <td>-15.838145</td>\n      <td>180</td>\n      <td>[{'id': 'bf3fc630b1c29601a4caf1bdd474b85', 'po...</td>\n    </tr>\n    <tr>\n      <th>2</th>\n      <td>cvrp-2-df-20</td>\n      <td>df-2</td>\n      <td>-48.054989</td>\n      <td>-15.838145</td>\n      <td>180</td>\n      <td>[{'id': 'b30f1145a2ba4e0b9ac0162b68d045c3', 'p...</td>\n    </tr>\n    <tr>\n      <th>3</th>\n      <td>cvrp-1-df-71</td>\n      <td>df-1</td>\n      <td>-47.893662</td>\n      <td>-15.805118</td>\n      <td>180</td>\n      <td>[{'id': 'be3ed547394196c12c7c27c89ac74ed6', 'p...</td>\n    </tr>\n    <tr>\n      <th>4</th>\n      <td>cvrp-2-df-87</td>\n      <td>df-2</td>\n      <td>-48.054989</td>\n      <td>-15.838145</td>\n      <td>180</td>\n      <td>[{'id': 'a6328fb4dc0654eb28a996a270b0f6e4', 'p...</td>\n    </tr>\n  </tbody>\n</table>\n</div>",
      "text/plain": "           name region    hub_lng    hub_lat  vehicle_capacity  \\\n0  cvrp-2-df-33   df-2 -48.054989 -15.838145               180   \n1  cvrp-2-df-73   df-2 -48.054989 -15.838145               180   \n2  cvrp-2-df-20   df-2 -48.054989 -15.838145               180   \n3  cvrp-1-df-71   df-1 -47.893662 -15.805118               180   \n4  cvrp-2-df-87   df-2 -48.054989 -15.838145               180   \n\n                                          deliveries  \n0  [{'id': '313483a19d2f8d65cd5024c8d215cfbd', 'p...  \n1  [{'id': 'bf3fc630b1c29601a4caf1bdd474b85', 'po...  \n2  [{'id': 'b30f1145a2ba4e0b9ac0162b68d045c3', 'p...  \n3  [{'id': 'be3ed547394196c12c7c27c89ac74ed6', 'p...  \n4  [{'id': 'a6328fb4dc0654eb28a996a270b0f6e4', 'p...  "
     },
     "execution_count": 59,
     "metadata": {},
     "output_type": "execute_result"
    }
   ],
   "execution_count": null
  },
  {
   "cell_type": "code",
   "metadata": {
    "cell_id": "00026-055cf518-b1db-4910-a7f2-86c66bddce32",
    "deepnote_cell_type": "code"
   },
   "source": "deliveries_exploded_df = deliveries_df[['deliveries']].explode('deliveries')\ndeliveries_exploded_df.head()",
   "outputs": [
    {
     "data": {
      "text/html": "<div>\n<style scoped>\n    .dataframe tbody tr th:only-of-type {\n        vertical-align: middle;\n    }\n\n    .dataframe tbody tr th {\n        vertical-align: top;\n    }\n\n    .dataframe thead th {\n        text-align: right;\n    }\n</style>\n<table border=\"1\" class=\"dataframe\">\n  <thead>\n    <tr style=\"text-align: right;\">\n      <th></th>\n      <th>deliveries</th>\n    </tr>\n  </thead>\n  <tbody>\n    <tr>\n      <th>0</th>\n      <td>{'id': '313483a19d2f8d65cd5024c8d215cfbd', 'po...</td>\n    </tr>\n    <tr>\n      <th>0</th>\n      <td>{'id': '320c94b17aa685c939b3f3244c3099de', 'po...</td>\n    </tr>\n    <tr>\n      <th>0</th>\n      <td>{'id': '3663b42f4b8decb33059febaba46d5c8', 'po...</td>\n    </tr>\n    <tr>\n      <th>0</th>\n      <td>{'id': 'e11ab58363c38d6abc90d5fba87b7d7', 'poi...</td>\n    </tr>\n    <tr>\n      <th>0</th>\n      <td>{'id': '54cb45b7bbbd4e34e7150900f92d7f4b', 'po...</td>\n    </tr>\n  </tbody>\n</table>\n</div>",
      "text/plain": "                                          deliveries\n0  {'id': '313483a19d2f8d65cd5024c8d215cfbd', 'po...\n0  {'id': '320c94b17aa685c939b3f3244c3099de', 'po...\n0  {'id': '3663b42f4b8decb33059febaba46d5c8', 'po...\n0  {'id': 'e11ab58363c38d6abc90d5fba87b7d7', 'poi...\n0  {'id': '54cb45b7bbbd4e34e7150900f92d7f4b', 'po..."
     },
     "execution_count": 63,
     "metadata": {},
     "output_type": "execute_result"
    }
   ],
   "execution_count": null
  },
  {
   "cell_type": "code",
   "metadata": {
    "cell_id": "00027-2b2820f5-f0b2-4965-98ee-89dfa9753cc9",
    "deepnote_cell_type": "code"
   },
   "source": "deliveries_normalized_df = pd.concat([\n    pd.DataFrame(deliveries_exploded_df['deliveries'].apply(lambda record: record['size'])).rename(columns={'deliveries': 'delivery_size'}),\n    pd.DataFrame(deliveries_exploded_df['deliveries'].apply(lambda record: record['point']['lng'])).rename(columns={'deliveries': 'delivery_lng'}),\n    pd.DataFrame(deliveries_exploded_df['deliveries'].apply(lambda record: record['point']['lat'])).rename(columns={'deliveries': 'delivery_lat'}),\n], axis=1)\ndeliveries_normalized_df.head()",
   "outputs": [
    {
     "data": {
      "text/html": "<div>\n<style scoped>\n    .dataframe tbody tr th:only-of-type {\n        vertical-align: middle;\n    }\n\n    .dataframe tbody tr th {\n        vertical-align: top;\n    }\n\n    .dataframe thead th {\n        text-align: right;\n    }\n</style>\n<table border=\"1\" class=\"dataframe\">\n  <thead>\n    <tr style=\"text-align: right;\">\n      <th></th>\n      <th>delivery_size</th>\n      <th>delivery_lng</th>\n      <th>delivery_lat</th>\n    </tr>\n  </thead>\n  <tbody>\n    <tr>\n      <th>0</th>\n      <td>9</td>\n      <td>-48.116189</td>\n      <td>-15.848929</td>\n    </tr>\n    <tr>\n      <th>0</th>\n      <td>2</td>\n      <td>-48.118195</td>\n      <td>-15.850772</td>\n    </tr>\n    <tr>\n      <th>0</th>\n      <td>1</td>\n      <td>-48.112483</td>\n      <td>-15.847871</td>\n    </tr>\n    <tr>\n      <th>0</th>\n      <td>2</td>\n      <td>-48.118023</td>\n      <td>-15.846471</td>\n    </tr>\n    <tr>\n      <th>0</th>\n      <td>7</td>\n      <td>-48.114898</td>\n      <td>-15.858055</td>\n    </tr>\n  </tbody>\n</table>\n</div>",
      "text/plain": "   delivery_size  delivery_lng  delivery_lat\n0              9    -48.116189    -15.848929\n0              2    -48.118195    -15.850772\n0              1    -48.112483    -15.847871\n0              2    -48.118023    -15.846471\n0              7    -48.114898    -15.858055"
     },
     "execution_count": 70,
     "metadata": {},
     "output_type": "execute_result"
    }
   ],
   "execution_count": null
  },
  {
   "cell_type": "code",
   "metadata": {
    "cell_id": "00028-24ed3e85-8ccb-437d-8888-a14d23e7f414",
    "deepnote_cell_type": "code"
   },
   "source": "len(deliveries_exploded_df)",
   "outputs": [
    {
     "data": {
      "text/plain": "636149"
     },
     "execution_count": 74,
     "metadata": {},
     "output_type": "execute_result"
    }
   ],
   "execution_count": null
  },
  {
   "cell_type": "code",
   "metadata": {
    "cell_id": "00029-0b28d501-574b-49d2-b47c-d02c42501d0e",
    "deepnote_cell_type": "code"
   },
   "source": "len(deliveries_df)\n",
   "outputs": [
    {
     "data": {
      "text/plain": "199"
     },
     "execution_count": 76,
     "metadata": {},
     "output_type": "execute_result"
    }
   ],
   "execution_count": null
  },
  {
   "cell_type": "code",
   "metadata": {
    "cell_id": "00030-dc9df500-0870-448d-aeac-82104c095a69",
    "deepnote_cell_type": "code"
   },
   "source": "deliveries_df = deliveries_df.drop('deliveries', axis=1)\ndeliveries_df = pd.merge(left=deliveries_df, right=deliveries_normalized_df, how='right', left_index=True, right_index=True)\ndeliveries_df.head()",
   "outputs": [
    {
     "data": {
      "text/html": "<div>\n<style scoped>\n    .dataframe tbody tr th:only-of-type {\n        vertical-align: middle;\n    }\n\n    .dataframe tbody tr th {\n        vertical-align: top;\n    }\n\n    .dataframe thead th {\n        text-align: right;\n    }\n</style>\n<table border=\"1\" class=\"dataframe\">\n  <thead>\n    <tr style=\"text-align: right;\">\n      <th></th>\n      <th>name</th>\n      <th>region</th>\n      <th>hub_lng</th>\n      <th>hub_lat</th>\n      <th>vehicle_capacity</th>\n      <th>delivery_size</th>\n      <th>delivery_lng</th>\n      <th>delivery_lat</th>\n    </tr>\n  </thead>\n  <tbody>\n    <tr>\n      <th>0</th>\n      <td>cvrp-2-df-33</td>\n      <td>df-2</td>\n      <td>-48.054989</td>\n      <td>-15.838145</td>\n      <td>180</td>\n      <td>9</td>\n      <td>-48.116189</td>\n      <td>-15.848929</td>\n    </tr>\n    <tr>\n      <th>0</th>\n      <td>cvrp-2-df-33</td>\n      <td>df-2</td>\n      <td>-48.054989</td>\n      <td>-15.838145</td>\n      <td>180</td>\n      <td>2</td>\n      <td>-48.118195</td>\n      <td>-15.850772</td>\n    </tr>\n    <tr>\n      <th>0</th>\n      <td>cvrp-2-df-33</td>\n      <td>df-2</td>\n      <td>-48.054989</td>\n      <td>-15.838145</td>\n      <td>180</td>\n      <td>1</td>\n      <td>-48.112483</td>\n      <td>-15.847871</td>\n    </tr>\n    <tr>\n      <th>0</th>\n      <td>cvrp-2-df-33</td>\n      <td>df-2</td>\n      <td>-48.054989</td>\n      <td>-15.838145</td>\n      <td>180</td>\n      <td>2</td>\n      <td>-48.118023</td>\n      <td>-15.846471</td>\n    </tr>\n    <tr>\n      <th>0</th>\n      <td>cvrp-2-df-33</td>\n      <td>df-2</td>\n      <td>-48.054989</td>\n      <td>-15.838145</td>\n      <td>180</td>\n      <td>7</td>\n      <td>-48.114898</td>\n      <td>-15.858055</td>\n    </tr>\n  </tbody>\n</table>\n</div>",
      "text/plain": "           name region    hub_lng    hub_lat  vehicle_capacity  delivery_size  \\\n0  cvrp-2-df-33   df-2 -48.054989 -15.838145               180              9   \n0  cvrp-2-df-33   df-2 -48.054989 -15.838145               180              2   \n0  cvrp-2-df-33   df-2 -48.054989 -15.838145               180              1   \n0  cvrp-2-df-33   df-2 -48.054989 -15.838145               180              2   \n0  cvrp-2-df-33   df-2 -48.054989 -15.838145               180              7   \n\n   delivery_lng  delivery_lat  \n0    -48.116189    -15.848929  \n0    -48.118195    -15.850772  \n0    -48.112483    -15.847871  \n0    -48.118023    -15.846471  \n0    -48.114898    -15.858055  "
     },
     "execution_count": 77,
     "metadata": {},
     "output_type": "execute_result"
    }
   ],
   "execution_count": null
  },
  {
   "cell_type": "code",
   "metadata": {
    "cell_id": "00031-239f877f-1db5-4366-8386-d8199627c3da",
    "deepnote_cell_type": "code"
   },
   "source": "len(deliveries_df)",
   "outputs": [
    {
     "data": {
      "text/plain": "636149"
     },
     "execution_count": 78,
     "metadata": {},
     "output_type": "execute_result"
    }
   ],
   "execution_count": null
  },
  {
   "cell_type": "markdown",
   "source": "## 3.3. Estrutura",
   "metadata": {
    "cell_id": "00032-65c84b3f-9e0f-4ea8-bf04-3beb99bd8c8a",
    "deepnote_cell_type": "markdown"
   }
  },
  {
   "cell_type": "code",
   "metadata": {
    "cell_id": "00033-ba28dba2-91cd-4484-8442-5c272f7559b9",
    "deepnote_cell_type": "code"
   },
   "source": "deliveries_df.shape",
   "outputs": [
    {
     "data": {
      "text/plain": "(636149, 8)"
     },
     "execution_count": 79,
     "metadata": {},
     "output_type": "execute_result"
    }
   ],
   "execution_count": null
  },
  {
   "cell_type": "code",
   "metadata": {
    "cell_id": "00034-7e667bed-cef0-442d-ad9a-831f10ff0eb7",
    "deepnote_cell_type": "code"
   },
   "source": "deliveries_df.columns",
   "outputs": [
    {
     "data": {
      "text/plain": "Index(['name', 'region', 'hub_lng', 'hub_lat', 'vehicle_capacity',\n       'delivery_size', 'delivery_lng', 'delivery_lat'],\n      dtype='object')"
     },
     "execution_count": 81,
     "metadata": {},
     "output_type": "execute_result"
    }
   ],
   "execution_count": null
  },
  {
   "cell_type": "code",
   "metadata": {
    "cell_id": "00035-efc80561-eb68-4979-a4b8-f5d576f3b70a",
    "deepnote_cell_type": "code"
   },
   "source": "deliveries_df.index",
   "outputs": [
    {
     "data": {
      "text/plain": "Int64Index([  0,   0,   0,   0,   0,   0,   0,   0,   0,   0,\n            ...\n            198, 198, 198, 198, 198, 198, 198, 198, 198, 198],\n           dtype='int64', length=636149)"
     },
     "execution_count": 82,
     "metadata": {},
     "output_type": "execute_result"
    }
   ],
   "execution_count": null
  },
  {
   "cell_type": "code",
   "metadata": {
    "cell_id": "00036-fc4e4a3d-e5c9-47dd-bf49-b6db5944c39d",
    "deepnote_cell_type": "code"
   },
   "source": "deliveries_df.info()",
   "outputs": [
    {
     "name": "stdout",
     "output_type": "stream",
     "text": "<class 'pandas.core.frame.DataFrame'>\nInt64Index: 636149 entries, 0 to 198\nData columns (total 8 columns):\n #   Column            Non-Null Count   Dtype  \n---  ------            --------------   -----  \n 0   name              636149 non-null  object \n 1   region            636149 non-null  object \n 2   hub_lng           636149 non-null  float64\n 3   hub_lat           636149 non-null  float64\n 4   vehicle_capacity  636149 non-null  int64  \n 5   delivery_size     636149 non-null  int64  \n 6   delivery_lng      636149 non-null  float64\n 7   delivery_lat      636149 non-null  float64\ndtypes: float64(4), int64(2), object(2)\nmemory usage: 43.7+ MB\n"
    }
   ],
   "execution_count": null
  },
  {
   "cell_type": "markdown",
   "source": "## 3.4. Esquema",
   "metadata": {
    "cell_id": "00037-d2456bee-bfa1-4f43-bb30-501ae45c6fb1",
    "deepnote_cell_type": "markdown"
   }
  },
  {
   "cell_type": "code",
   "metadata": {
    "cell_id": "00038-90a04a3f-e786-4c4a-aa84-c9fd9a091f19",
    "deepnote_cell_type": "code"
   },
   "source": "deliveries_df.head()",
   "outputs": [
    {
     "data": {
      "text/html": "<div>\n<style scoped>\n    .dataframe tbody tr th:only-of-type {\n        vertical-align: middle;\n    }\n\n    .dataframe tbody tr th {\n        vertical-align: top;\n    }\n\n    .dataframe thead th {\n        text-align: right;\n    }\n</style>\n<table border=\"1\" class=\"dataframe\">\n  <thead>\n    <tr style=\"text-align: right;\">\n      <th></th>\n      <th>name</th>\n      <th>region</th>\n      <th>hub_lng</th>\n      <th>hub_lat</th>\n      <th>vehicle_capacity</th>\n      <th>delivery_size</th>\n      <th>delivery_lng</th>\n      <th>delivery_lat</th>\n    </tr>\n  </thead>\n  <tbody>\n    <tr>\n      <th>0</th>\n      <td>cvrp-2-df-33</td>\n      <td>df-2</td>\n      <td>-48.054989</td>\n      <td>-15.838145</td>\n      <td>180</td>\n      <td>9</td>\n      <td>-48.116189</td>\n      <td>-15.848929</td>\n    </tr>\n    <tr>\n      <th>0</th>\n      <td>cvrp-2-df-33</td>\n      <td>df-2</td>\n      <td>-48.054989</td>\n      <td>-15.838145</td>\n      <td>180</td>\n      <td>2</td>\n      <td>-48.118195</td>\n      <td>-15.850772</td>\n    </tr>\n    <tr>\n      <th>0</th>\n      <td>cvrp-2-df-33</td>\n      <td>df-2</td>\n      <td>-48.054989</td>\n      <td>-15.838145</td>\n      <td>180</td>\n      <td>1</td>\n      <td>-48.112483</td>\n      <td>-15.847871</td>\n    </tr>\n    <tr>\n      <th>0</th>\n      <td>cvrp-2-df-33</td>\n      <td>df-2</td>\n      <td>-48.054989</td>\n      <td>-15.838145</td>\n      <td>180</td>\n      <td>2</td>\n      <td>-48.118023</td>\n      <td>-15.846471</td>\n    </tr>\n    <tr>\n      <th>0</th>\n      <td>cvrp-2-df-33</td>\n      <td>df-2</td>\n      <td>-48.054989</td>\n      <td>-15.838145</td>\n      <td>180</td>\n      <td>7</td>\n      <td>-48.114898</td>\n      <td>-15.858055</td>\n    </tr>\n  </tbody>\n</table>\n</div>",
      "text/plain": "           name region    hub_lng    hub_lat  vehicle_capacity  delivery_size  \\\n0  cvrp-2-df-33   df-2 -48.054989 -15.838145               180              9   \n0  cvrp-2-df-33   df-2 -48.054989 -15.838145               180              2   \n0  cvrp-2-df-33   df-2 -48.054989 -15.838145               180              1   \n0  cvrp-2-df-33   df-2 -48.054989 -15.838145               180              2   \n0  cvrp-2-df-33   df-2 -48.054989 -15.838145               180              7   \n\n   delivery_lng  delivery_lat  \n0    -48.116189    -15.848929  \n0    -48.118195    -15.850772  \n0    -48.112483    -15.847871  \n0    -48.118023    -15.846471  \n0    -48.114898    -15.858055  "
     },
     "execution_count": 84,
     "metadata": {},
     "output_type": "execute_result"
    }
   ],
   "execution_count": null
  },
  {
   "cell_type": "code",
   "metadata": {
    "cell_id": "00039-05e2dd27-b706-4b89-91fd-502245f74020",
    "deepnote_cell_type": "code"
   },
   "source": "deliveries_df.dtypes",
   "outputs": [
    {
     "data": {
      "text/plain": "name                 object\nregion               object\nhub_lng             float64\nhub_lat             float64\nvehicle_capacity      int64\ndelivery_size         int64\ndelivery_lng        float64\ndelivery_lat        float64\ndtype: object"
     },
     "execution_count": 85,
     "metadata": {},
     "output_type": "execute_result"
    }
   ],
   "execution_count": null
  },
  {
   "cell_type": "code",
   "metadata": {
    "cell_id": "00040-63e6d65d-cc06-4d53-b1ed-6219f3b4a6b5",
    "deepnote_cell_type": "code"
   },
   "source": "deliveries_df.select_dtypes('object').describe().T",
   "outputs": [
    {
     "data": {
      "text/html": "<div>\n<style scoped>\n    .dataframe tbody tr th:only-of-type {\n        vertical-align: middle;\n    }\n\n    .dataframe tbody tr th {\n        vertical-align: top;\n    }\n\n    .dataframe thead th {\n        text-align: right;\n    }\n</style>\n<table border=\"1\" class=\"dataframe\">\n  <thead>\n    <tr style=\"text-align: right;\">\n      <th></th>\n      <th>count</th>\n      <th>unique</th>\n      <th>top</th>\n      <th>freq</th>\n    </tr>\n  </thead>\n  <tbody>\n    <tr>\n      <th>name</th>\n      <td>636149</td>\n      <td>199</td>\n      <td>cvrp-1-df-87</td>\n      <td>5636</td>\n    </tr>\n    <tr>\n      <th>region</th>\n      <td>636149</td>\n      <td>3</td>\n      <td>df-1</td>\n      <td>304708</td>\n    </tr>\n  </tbody>\n</table>\n</div>",
      "text/plain": "         count unique           top    freq\nname    636149    199  cvrp-1-df-87    5636\nregion  636149      3          df-1  304708"
     },
     "execution_count": 90,
     "metadata": {},
     "output_type": "execute_result"
    }
   ],
   "execution_count": null
  },
  {
   "cell_type": "code",
   "metadata": {
    "cell_id": "00041-d55bfec2-3f10-47fa-aabe-a7b128f6bcfe",
    "deepnote_cell_type": "code"
   },
   "source": "deliveries_df.select_dtypes('int64').describe().T\n",
   "outputs": [
    {
     "data": {
      "text/html": "<div>\n<style scoped>\n    .dataframe tbody tr th:only-of-type {\n        vertical-align: middle;\n    }\n\n    .dataframe tbody tr th {\n        vertical-align: top;\n    }\n\n    .dataframe thead th {\n        text-align: right;\n    }\n</style>\n<table border=\"1\" class=\"dataframe\">\n  <thead>\n    <tr style=\"text-align: right;\">\n      <th></th>\n      <th>count</th>\n      <th>mean</th>\n      <th>std</th>\n      <th>min</th>\n      <th>25%</th>\n      <th>50%</th>\n      <th>75%</th>\n      <th>max</th>\n    </tr>\n  </thead>\n  <tbody>\n    <tr>\n      <th>vehicle_capacity</th>\n      <td>636149.0</td>\n      <td>180.000000</td>\n      <td>0.000000</td>\n      <td>180.0</td>\n      <td>180.0</td>\n      <td>180.0</td>\n      <td>180.0</td>\n      <td>180.0</td>\n    </tr>\n    <tr>\n      <th>delivery_size</th>\n      <td>636149.0</td>\n      <td>5.512111</td>\n      <td>2.874557</td>\n      <td>1.0</td>\n      <td>3.0</td>\n      <td>6.0</td>\n      <td>8.0</td>\n      <td>10.0</td>\n    </tr>\n  </tbody>\n</table>\n</div>",
      "text/plain": "                     count        mean       std    min    25%    50%    75%  \\\nvehicle_capacity  636149.0  180.000000  0.000000  180.0  180.0  180.0  180.0   \ndelivery_size     636149.0    5.512111  2.874557    1.0    3.0    6.0    8.0   \n\n                    max  \nvehicle_capacity  180.0  \ndelivery_size      10.0  "
     },
     "execution_count": 93,
     "metadata": {},
     "output_type": "execute_result"
    }
   ],
   "execution_count": null
  },
  {
   "cell_type": "code",
   "metadata": {
    "cell_id": "00042-b4cbe7e3-fc8e-439f-80b6-be83e40b909b",
    "deepnote_cell_type": "code"
   },
   "source": "deliveries_df.isna().any().any()\n",
   "outputs": [
    {
     "data": {
      "text/plain": "False"
     },
     "execution_count": 96,
     "metadata": {},
     "output_type": "execute_result"
    }
   ],
   "execution_count": null
  },
  {
   "cell_type": "code",
   "metadata": {
    "cell_id": "00043-4b5caf82-00e8-41e2-a0c8-a17e2eee6029",
    "deepnote_cell_type": "code"
   },
   "source": "",
   "execution_count": null,
   "outputs": []
  },
  {
   "cell_type": "markdown",
   "source": "<a style='text-decoration:none;line-height:16px;display:flex;color:#5B5B62;padding:10px;justify-content:end;' href='https://deepnote.com?utm_source=created-in-deepnote-cell&projectId=690ec1aa-ed7a-4520-b902-aba6fc5867d1' target=\"_blank\">\n<img alt='Created in deepnote.com' style='display:inline;max-height:16px;margin:0px;margin-right:7.5px;' src='data:image/svg+xml;base64,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' > </img>\nCreated in <span style='font-weight:600;margin-left:4px;'>Deepnote</span></a>",
   "metadata": {
    "tags": [],
    "created_in_deepnote_cell": true,
    "deepnote_cell_type": "markdown"
   }
  }
 ],
 "nbformat": 4,
 "nbformat_minor": 0,
 "metadata": {
  "colab": {
   "collapsed_sections": [],
   "name": "module_16_exercise.ipynb",
   "provenance": [],
   "toc_visible": true
  },
  "deepnote": {},
  "deepnote_execution_queue": [],
  "deepnote_notebook_id": "01de4a63-259f-4d0a-a91f-c9c380f555ff",
  "kernelspec": {
   "display_name": "Python 3",
   "name": "python3"
  },
  "language_info": {
   "codemirror_mode": {
    "name": "ipython",
    "version": 3
   },
   "file_extension": ".py",
   "mimetype": "text/x-python",
   "name": "python",
   "nbconvert_exporter": "python",
   "pygments_lexer": "ipython3",
   "version": "3.10.1"
  }
 }
}