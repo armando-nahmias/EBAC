{
 "cells": [
  {
   "cell_type": "markdown",
   "source": "<img src=\"https://raw.githubusercontent.com/andre-marcos-perez/ebac-course-utils/main/media/logo/newebac_logo_black_half.png\" alt=\"ebac-logo\">\n\n---\n\n# **Módulo** | Análise de Dados: Controle de Versão I\nCaderno de **Exercícios**<br> \nProfessor [André Perez](https://www.linkedin.com/in/andremarcosperez/)\n\n---",
   "metadata": {
    "id": "KJqp9AANOCtf",
    "cell_id": "00000-fd1b3d2f-7769-4cac-8c17-94da877a5ebf",
    "deepnote_cell_type": "markdown"
   }
  },
  {
   "cell_type": "markdown",
   "source": "# **Tópicos**\n\n<ol type=\"1\">\n  <li>Introdução ao Git;</li>\n  <li>Introdução ao GitHub;</li>\n  <li>Criando um repositório no GitHub.</li>\n</ol>",
   "metadata": {
    "id": "d9jDtUbDOE1-",
    "cell_id": "00001-70f67698-2db8-4dc9-8b4b-a3035dacbb37",
    "deepnote_cell_type": "markdown"
   }
  },
  {
   "cell_type": "markdown",
   "source": "---",
   "metadata": {
    "id": "SmoHgt-lwkpD",
    "cell_id": "00002-780b2029-d48e-4d07-8c4b-1cb5a312d5dd",
    "deepnote_cell_type": "markdown"
   }
  },
  {
   "cell_type": "markdown",
   "source": "# **Exercícios**",
   "metadata": {
    "id": "GABI6OW8OfQ2",
    "cell_id": "00003-85a99891-b04e-49ac-96f6-0e66dd7ffa7e",
    "deepnote_cell_type": "markdown"
   }
  },
  {
   "cell_type": "markdown",
   "source": "## 1\\. Git",
   "metadata": {
    "id": "GWgNoJN8DHyY",
    "cell_id": "00004-9001c3a5-04f8-4e1f-9b89-ce5eb1489934",
    "deepnote_cell_type": "markdown"
   }
  },
  {
   "cell_type": "markdown",
   "source": "O [git](https://git-scm.com/) é um software de controle de versão distribuído de **arquivos**. Nos exercícios desta aula, voce pode utiliza-lo tanto na máquina virtual do Google Colab quanto na sua máquina local.",
   "metadata": {
    "id": "fLGLUjR_bS36",
    "cell_id": "00005-705c53cb-dfb6-45d5-a8c7-650d7084eb77",
    "deepnote_cell_type": "markdown"
   }
  },
  {
   "cell_type": "markdown",
   "source": "### **1.1. Google Colab** ",
   "metadata": {
    "id": "b38h7VzCazcD",
    "cell_id": "00006-a0e959be-8224-47ff-813a-0fc6e5bd2563",
    "deepnote_cell_type": "markdown"
   }
  },
  {
   "cell_type": "markdown",
   "source": "Nas máquinas virtuais do Google Colab o `git` já vem instalado.",
   "metadata": {
    "id": "8IqWwI7KSCf7",
    "cell_id": "00007-6cd2822e-29d3-46b0-a479-d689bdffa18b",
    "deepnote_cell_type": "markdown"
   }
  },
  {
   "cell_type": "code",
   "metadata": {
    "id": "6W4RyDfJ6DzI",
    "cell_id": "00008-ae0e0d74-1a81-44b9-ba90-1dc7a6189002",
    "deepnote_cell_type": "code"
   },
   "source": "!git --version",
   "execution_count": null,
   "outputs": []
  },
  {
   "cell_type": "markdown",
   "source": "### **1.2. Máquina Local** ",
   "metadata": {
    "id": "C5hnW9-Oa5cI",
    "cell_id": "00009-9392b77a-5bcc-411f-ad67-f2cb58c963fc",
    "deepnote_cell_type": "markdown"
   }
  },
  {
   "cell_type": "markdown",
   "source": "Em muitos sistemas opeacionais, o `git` já vem pré instalado, utilize o comando abaixo na linha de comando do seu computador (`terminal` no Linux e MacOS ou `cmd` no Windows) para verificar a instalação.",
   "metadata": {
    "id": "OUWoDjwNbAqm",
    "cell_id": "00010-acb747d6-45a3-4bc0-9934-b97e2b1d8a3c",
    "deepnote_cell_type": "markdown"
   }
  },
  {
   "cell_type": "markdown",
   "source": "```shell\ngit --version\n```",
   "metadata": {
    "id": "3OMQLHU8eaBH",
    "cell_id": "00011-1d38ed7c-82d6-4299-b63c-a17ea01edaf3",
    "deepnote_cell_type": "markdown"
   }
  },
  {
   "cell_type": "markdown",
   "source": "Se o `git` não estiver instalado na sua maquina, voce pode encontrar instruções de instalação para Linux/MacOS/Windows neste [link](https://www.atlassian.com/br/git/tutorials/install-git). Após seguir as instruções, você pode verificar a instalação com o mesmo comando.",
   "metadata": {
    "id": "kwrM3OmheGlJ",
    "cell_id": "00012-574cda8a-afe3-41dc-9ebd-81b356d30350",
    "deepnote_cell_type": "markdown"
   }
  },
  {
   "cell_type": "markdown",
   "source": "```shell\ngit --version\n```",
   "metadata": {
    "id": "WlIh0A04fCuV",
    "cell_id": "00013-316b96da-172d-47a1-a0a1-7eb464b7c9e2",
    "deepnote_cell_type": "markdown"
   }
  },
  {
   "cell_type": "markdown",
   "source": "---",
   "metadata": {
    "id": "waxn4B2UDHyl",
    "cell_id": "00014-e9d5517e-fd1b-4b7d-b55d-792448558d0c",
    "deepnote_cell_type": "markdown"
   }
  },
  {
   "cell_type": "markdown",
   "source": "## 2\\. GitHub",
   "metadata": {
    "id": "finLQoyyGVmk",
    "cell_id": "00015-517e5208-5747-47ce-8535-4f7368f92d86",
    "deepnote_cell_type": "markdown"
   }
  },
  {
   "cell_type": "markdown",
   "source": "O GitHub é uma ferramenta online de controle de versão distribuído de **arquivos**.",
   "metadata": {
    "id": "74xkkESnbVbU",
    "cell_id": "00016-8d76283a-a932-4ae8-9c05-a889b323cc42",
    "deepnote_cell_type": "markdown"
   }
  },
  {
   "cell_type": "markdown",
   "source": "### **2.1. Criando a uma conta** ",
   "metadata": {
    "id": "gqI0kEa0ba0N",
    "cell_id": "00017-a41cd972-2c57-4022-8fe9-808b5a3b3209",
    "deepnote_cell_type": "markdown"
   }
  },
  {
   "cell_type": "markdown",
   "source": "Para criar a uma conta na ferramenta, basta acessar este [link](https://github.com), clicar em *sign up* e seguir as instruções.",
   "metadata": {
    "id": "a7kDE5Peba0P",
    "cell_id": "00018-176ccdb9-c000-4bed-914d-5d74389517c4",
    "deepnote_cell_type": "markdown"
   }
  },
  {
   "cell_type": "markdown",
   "source": "### **2.2. Criando um projeto** ",
   "metadata": {
    "id": "9qAr4d94ba0Q",
    "cell_id": "00019-c1f7e7b9-f4fe-45f4-aad9-037d95337be9",
    "deepnote_cell_type": "markdown"
   }
  },
  {
   "cell_type": "markdown",
   "source": "Nesta etapa vamos configurar o `git` na máquina virtual do Google Colab ou na sua máquina local, as instruções são as mesmas. Para tanto, replique as atividades expostas na aula 3 deste módulo. ",
   "metadata": {
    "id": "MCveeK5bba0R",
    "cell_id": "00020-d547b35f-54d7-468b-81f9-95d177c2b2b6",
    "deepnote_cell_type": "markdown"
   }
  },
  {
   "cell_type": "markdown",
   "source": " > Conta",
   "metadata": {
    "id": "jr3IIt4SwhTA",
    "cell_id": "00021-cffeaa06-c42f-4eb8-b31a-d692fe7ad587",
    "deepnote_cell_type": "markdown"
   }
  },
  {
   "cell_type": "markdown",
   "source": " - Criar uma conta no GitHub.",
   "metadata": {
    "id": "7oYCV4YhmpxE",
    "cell_id": "00022-896d4a50-0f83-44f2-9d21-562d3062ff66",
    "deepnote_cell_type": "markdown"
   }
  },
  {
   "cell_type": "markdown",
   "source": " - Criar um *personal access token*.",
   "metadata": {
    "id": "xO8Vn51royvj",
    "cell_id": "00023-7aa2aa4a-08c2-4f47-8610-9fe22412235d",
    "deepnote_cell_type": "markdown"
   }
  },
  {
   "cell_type": "markdown",
   "source": " - Configurar a conexão entre o `git` local com o `git` remoto (GitHub):",
   "metadata": {
    "id": "ZU0uaRebm7oY",
    "cell_id": "00024-ca8f3a36-e631-4b77-8a0b-0cc240c5c069",
    "deepnote_cell_type": "markdown"
   }
  },
  {
   "cell_type": "code",
   "metadata": {
    "id": "2KZ8VecqnUzx",
    "cell_id": "00025-6af0a70a-70d1-4b4f-8b77-e5ad70b606a3",
    "deepnote_cell_type": "code"
   },
   "source": "import os\n\nusername = \"<seu-usuario-git>\" # insira o seu nome de usuário do git\nos.environ[\"GITHUB_USER\"] = username\n\n!git config --global user.name \"${GITHUB_USER}\"",
   "execution_count": null,
   "outputs": []
  },
  {
   "cell_type": "code",
   "metadata": {
    "id": "tpRJcz0hoBtK",
    "cell_id": "00026-2356aa5c-7ee4-4fc1-ad53-9a170feb26d6",
    "deepnote_cell_type": "code"
   },
   "source": "import os\nfrom getpass import getpass\n\nusermail = getpass()\nos.environ[\"GITHUB_MAIL\"] = usermail\n\n!git config --global user.email \"${GITHUB_MAIL}\"",
   "execution_count": null,
   "outputs": []
  },
  {
   "cell_type": "code",
   "metadata": {
    "id": "YeUSaO14veHV",
    "cell_id": "00027-43e111c0-5668-4b8d-8f70-78b4539fb1eb",
    "deepnote_cell_type": "code"
   },
   "source": "import os\nfrom getpass import getpass\n\nusertoken = getpass()\nos.environ[\"GITHUB_TOKEN\"] = usertoken",
   "execution_count": null,
   "outputs": []
  },
  {
   "cell_type": "markdown",
   "source": " > Projeto",
   "metadata": {
    "id": "U7DbyCuawlEV",
    "cell_id": "00028-433c824a-8c82-4ed1-9404-d0c57b02d216",
    "deepnote_cell_type": "markdown"
   }
  },
  {
   "cell_type": "markdown",
   "source": " - Criar o projeto **remoto**.",
   "metadata": {
    "id": "P5J3RdYRra26",
    "cell_id": "00029-6aaa4b08-71fa-477f-b6df-1aa55f4c3205",
    "deepnote_cell_type": "markdown"
   }
  },
  {
   "cell_type": "markdown",
   "source": " - Fazer o download do projeto **remoto** na máquina **local**, não se esqueça de alterar o link com as informações de usuário e senha.",
   "metadata": {
    "id": "IxLfmGQnmfL8",
    "cell_id": "00030-54bf308d-b648-4095-a70a-f7d7c0ff1ecb",
    "deepnote_cell_type": "markdown"
   }
  },
  {
   "cell_type": "code",
   "metadata": {
    "id": "sp_iiZY7NpTS",
    "cell_id": "00031-a84e9586-cc0a-40fe-b06c-4987354544fa",
    "deepnote_cell_type": "code"
   },
   "source": "!git clone <link-repo-remoto> # insira o link do seu repositório remoto",
   "execution_count": null,
   "outputs": []
  },
  {
   "cell_type": "code",
   "metadata": {
    "id": "sVw8rgrEsSl7",
    "cell_id": "00032-8c0543ab-b6fa-4e71-b58e-01a86a540fbf",
    "deepnote_cell_type": "code"
   },
   "source": "%cd /content/da-ebac/",
   "execution_count": null,
   "outputs": []
  },
  {
   "cell_type": "markdown",
   "source": " - Criar um arquivo **hello.py** e salvar as aterações no repositório **local**.",
   "metadata": {
    "id": "Hhwqi1lgo98u",
    "cell_id": "00033-780658d9-75ee-46ed-a6c1-3988975f82ca",
    "deepnote_cell_type": "markdown"
   }
  },
  {
   "cell_type": "code",
   "metadata": {
    "id": "PX29_aXZpbv4",
    "cell_id": "00034-2d70e72f-fdf9-4d7e-8c5d-796d1cc22d9f",
    "deepnote_cell_type": "code"
   },
   "source": "!touch hello.py\n!git status",
   "execution_count": null,
   "outputs": []
  },
  {
   "cell_type": "code",
   "metadata": {
    "id": "llYrydvipu23",
    "cell_id": "00035-62df4fa9-7921-41d5-8d7e-bf124708e1dd",
    "deepnote_cell_type": "code"
   },
   "source": "!git add hello.py\n!git status",
   "execution_count": null,
   "outputs": []
  },
  {
   "cell_type": "code",
   "metadata": {
    "id": "QIhx_FE_pyC-",
    "cell_id": "00036-5145a189-0b2a-4df2-89ba-ddb8308325c2",
    "deepnote_cell_type": "code"
   },
   "source": "!git commit -m \"arquivo hello.py criado\"\n!git status",
   "execution_count": null,
   "outputs": []
  },
  {
   "cell_type": "markdown",
   "source": " - Enviar as alterações para o repositório **remoto**.",
   "metadata": {
    "id": "BdkYI4jKpOIK",
    "cell_id": "00037-cdb805af-ac79-4dff-b6df-b8c9876ed41a",
    "deepnote_cell_type": "markdown"
   }
  },
  {
   "cell_type": "code",
   "metadata": {
    "id": "Y9Gw7ptPpUlb",
    "cell_id": "00038-a5cca1ea-fa0d-49ec-936a-2ea95335808a",
    "deepnote_cell_type": "code"
   },
   "source": "!git push origin main\n!git status",
   "execution_count": null,
   "outputs": []
  },
  {
   "cell_type": "markdown",
   "source": " - Confira o arquivo no seu repositório.",
   "metadata": {
    "id": "LdakWXS7jEWG",
    "cell_id": "00039-ef60bf5f-3f8f-4e38-aed6-0325a4f7c244",
    "deepnote_cell_type": "markdown"
   }
  },
  {
   "cell_type": "markdown",
   "source": "---",
   "metadata": {
    "id": "As3enQc2GVm1",
    "cell_id": "00040-30ebe9bc-6831-4888-8501-5fcb10b7107c",
    "deepnote_cell_type": "markdown"
   }
  },
  {
   "cell_type": "markdown",
   "source": "<a style='text-decoration:none;line-height:16px;display:flex;color:#5B5B62;padding:10px;justify-content:end;' href='https://deepnote.com?utm_source=created-in-deepnote-cell&projectId=690ec1aa-ed7a-4520-b902-aba6fc5867d1' target=\"_blank\">\n<img alt='Created in deepnote.com' style='display:inline;max-height:16px;margin:0px;margin-right:7.5px;' src='data:image/svg+xml;base64,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' > </img>\nCreated in <span style='font-weight:600;margin-left:4px;'>Deepnote</span></a>",
   "metadata": {
    "tags": [],
    "created_in_deepnote_cell": true,
    "deepnote_cell_type": "markdown"
   }
  }
 ],
 "nbformat": 4,
 "nbformat_minor": 0,
 "metadata": {
  "colab": {
   "name": "module_18_exercise.ipynb",
   "provenance": [],
   "collapsed_sections": [],
   "toc_visible": true,
   "authorship_tag": "ABX9TyMkUtEKJxlb9Ko/PrhhbjuY"
  },
  "kernelspec": {
   "name": "python3",
   "display_name": "Python 3"
  },
  "deepnote_notebook_id": "9cb897c9-484e-41c5-93da-e9289b0df6d1",
  "deepnote": {},
  "deepnote_execution_queue": []
 }
}