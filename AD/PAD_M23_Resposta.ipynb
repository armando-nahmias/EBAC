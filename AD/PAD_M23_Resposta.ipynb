{
 "cells": [
  {
   "cell_type": "markdown",
   "source": "<img src=\"https://raw.githubusercontent.com/andre-marcos-perez/ebac-course-utils/main/media/logo/newebac_logo_black_half.png\" alt=\"ebac-logo\">\n\n---\n\n# **Módulo** | Análise de Dados: Fundamentos de Aprendizado de Máquina\nCaderno de **Exercícios**<br> \nProfessor [André Perez](https://www.linkedin.com/in/andremarcosperez/)\n\n---",
   "metadata": {
    "cell_id": "00000-5597b18e-ce78-4411-8de0-de3f51d83b94",
    "id": "KJqp9AANOCtf",
    "deepnote_cell_type": "markdown"
   }
  },
  {
   "cell_type": "markdown",
   "source": "# **Tópicos**\n\n<ol type=\"1\">\n  <li>Teoria;</li>\n  <li>Atributos categóricos;</li>\n  <li>Atributos numéricos;</li>\n  <li>Dados faltantes.</li>\n</ol>",
   "metadata": {
    "cell_id": "00001-3d8eb902-6b71-46fd-aa69-86be0a101712",
    "id": "d9jDtUbDOE1-",
    "deepnote_cell_type": "markdown"
   }
  },
  {
   "cell_type": "markdown",
   "source": "---",
   "metadata": {
    "cell_id": "00002-2d217295-63a1-4f5d-80dd-8e1ffe786729",
    "id": "SmoHgt-lwkpD",
    "deepnote_cell_type": "markdown"
   }
  },
  {
   "cell_type": "markdown",
   "source": "# **Exercícios**",
   "metadata": {
    "cell_id": "00003-9d6ec8bf-718e-4377-a178-c3c728376367",
    "id": "GABI6OW8OfQ2",
    "deepnote_cell_type": "markdown"
   }
  },
  {
   "cell_type": "markdown",
   "source": "## 1\\. Pinguins ",
   "metadata": {
    "cell_id": "00004-33d6b30e-a332-4da6-a036-c732c2301d70",
    "id": "kzRDceCvkFj2",
    "deepnote_cell_type": "markdown"
   }
  },
  {
   "cell_type": "markdown",
   "source": "Neste exercício, vamos utilizar uma base de dados com informações sobre penguins. A idéia é preparar a base de dados para prever a espécie do penguin (variável resposta) baseado em suas características físicas e geográficas (variáveis preditivas).",
   "metadata": {
    "cell_id": "00005-39d4bc1c-1c5b-4515-aafe-b393ac494e85",
    "id": "WCQi-s0Hpd5V",
    "deepnote_cell_type": "markdown"
   }
  },
  {
   "cell_type": "code",
   "metadata": {
    "cell_id": "00006-2e7f1212-4735-429e-873a-e7f054a9f6f1",
    "deepnote_to_be_reexecuted": false,
    "execution_millis": 2587,
    "execution_start": 1641829996205,
    "id": "lblH8kIXzPZZ",
    "source_hash": "456c4e13",
    "deepnote_cell_type": "code"
   },
   "source": "!pip install numpy pandas seaborn\nimport numpy as np\nimport pandas as pd\nimport seaborn as sns",
   "outputs": [
    {
     "name": "stdout",
     "output_type": "stream",
     "text": "Defaulting to user installation because normal site-packages is not writeable\nRequirement already satisfied: numpy in /home/nahmias/.local/lib/python3.9/site-packages (1.22.0)\nRequirement already satisfied: pandas in /home/nahmias/.local/lib/python3.9/site-packages (1.3.5)\nRequirement already satisfied: seaborn in /home/nahmias/.local/lib/python3.9/site-packages (0.11.2)\nRequirement already satisfied: pytz>=2017.3 in /home/nahmias/.local/lib/python3.9/site-packages (from pandas) (2021.3)\nRequirement already satisfied: python-dateutil>=2.7.3 in /home/nahmias/.local/lib/python3.9/site-packages (from pandas) (2.8.2)\nRequirement already satisfied: scipy>=1.0 in /home/nahmias/.local/lib/python3.9/site-packages (from seaborn) (1.7.3)\nRequirement already satisfied: matplotlib>=2.2 in /home/nahmias/.local/lib/python3.9/site-packages (from seaborn) (3.5.1)\nRequirement already satisfied: pyparsing>=2.2.1 in /usr/lib/python3/dist-packages (from matplotlib>=2.2->seaborn) (2.4.7)\nRequirement already satisfied: packaging>=20.0 in /home/nahmias/.local/lib/python3.9/site-packages (from matplotlib>=2.2->seaborn) (21.3)\nRequirement already satisfied: cycler>=0.10 in /home/nahmias/.local/lib/python3.9/site-packages (from matplotlib>=2.2->seaborn) (0.11.0)\nRequirement already satisfied: fonttools>=4.22.0 in /home/nahmias/.local/lib/python3.9/site-packages (from matplotlib>=2.2->seaborn) (4.28.5)\nRequirement already satisfied: kiwisolver>=1.0.1 in /home/nahmias/.local/lib/python3.9/site-packages (from matplotlib>=2.2->seaborn) (1.3.2)\nRequirement already satisfied: pillow>=6.2.0 in /home/nahmias/.local/lib/python3.9/site-packages (from matplotlib>=2.2->seaborn) (9.0.0)\nRequirement already satisfied: six>=1.5 in /home/nahmias/.local/lib/python3.9/site-packages (from python-dateutil>=2.7.3->pandas) (1.16.0)\n"
    }
   ],
   "execution_count": null
  },
  {
   "cell_type": "code",
   "metadata": {
    "cell_id": "00007-273eacb2-6e80-4ffd-a294-8e939a51f1db",
    "deepnote_to_be_reexecuted": false,
    "execution_millis": 7,
    "execution_start": 1641830511870,
    "id": "VR3UdrrQgJ4K",
    "source_hash": "4541c7f7",
    "deepnote_cell_type": "code"
   },
   "source": "data = sns.load_dataset('penguins')",
   "outputs": [],
   "execution_count": null
  },
  {
   "cell_type": "code",
   "metadata": {
    "cell_id": "00008-125a2bde-f8fe-4be9-9372-1ea78558b91f",
    "deepnote_to_be_reexecuted": false,
    "execution_millis": 51,
    "execution_start": 1641830513270,
    "id": "znk9Z9TLgTGP",
    "source_hash": "41313cfa",
    "deepnote_output_heights": [
     177
    ],
    "deepnote_cell_type": "code"
   },
   "source": "data.head()",
   "outputs": [
    {
     "data": {
      "text/html": "<div>\n<style scoped>\n    .dataframe tbody tr th:only-of-type {\n        vertical-align: middle;\n    }\n\n    .dataframe tbody tr th {\n        vertical-align: top;\n    }\n\n    .dataframe thead th {\n        text-align: right;\n    }\n</style>\n<table border=\"1\" class=\"dataframe\">\n  <thead>\n    <tr style=\"text-align: right;\">\n      <th></th>\n      <th>species</th>\n      <th>island</th>\n      <th>bill_length_mm</th>\n      <th>bill_depth_mm</th>\n      <th>flipper_length_mm</th>\n      <th>body_mass_g</th>\n      <th>sex</th>\n    </tr>\n  </thead>\n  <tbody>\n    <tr>\n      <th>0</th>\n      <td>Adelie</td>\n      <td>Torgersen</td>\n      <td>39.1</td>\n      <td>18.7</td>\n      <td>181.0</td>\n      <td>3750.0</td>\n      <td>Male</td>\n    </tr>\n    <tr>\n      <th>1</th>\n      <td>Adelie</td>\n      <td>Torgersen</td>\n      <td>39.5</td>\n      <td>17.4</td>\n      <td>186.0</td>\n      <td>3800.0</td>\n      <td>Female</td>\n    </tr>\n    <tr>\n      <th>2</th>\n      <td>Adelie</td>\n      <td>Torgersen</td>\n      <td>40.3</td>\n      <td>18.0</td>\n      <td>195.0</td>\n      <td>3250.0</td>\n      <td>Female</td>\n    </tr>\n    <tr>\n      <th>3</th>\n      <td>Adelie</td>\n      <td>Torgersen</td>\n      <td>NaN</td>\n      <td>NaN</td>\n      <td>NaN</td>\n      <td>NaN</td>\n      <td>NaN</td>\n    </tr>\n    <tr>\n      <th>4</th>\n      <td>Adelie</td>\n      <td>Torgersen</td>\n      <td>36.7</td>\n      <td>19.3</td>\n      <td>193.0</td>\n      <td>3450.0</td>\n      <td>Female</td>\n    </tr>\n  </tbody>\n</table>\n</div>",
      "text/plain": "  species     island  bill_length_mm  bill_depth_mm  flipper_length_mm  \\\n0  Adelie  Torgersen            39.1           18.7              181.0   \n1  Adelie  Torgersen            39.5           17.4              186.0   \n2  Adelie  Torgersen            40.3           18.0              195.0   \n3  Adelie  Torgersen             NaN            NaN                NaN   \n4  Adelie  Torgersen            36.7           19.3              193.0   \n\n   body_mass_g     sex  \n0       3750.0    Male  \n1       3800.0  Female  \n2       3250.0  Female  \n3          NaN     NaN  \n4       3450.0  Female  "
     },
     "execution_count": 26,
     "metadata": {},
     "output_type": "execute_result"
    }
   ],
   "execution_count": null
  },
  {
   "cell_type": "markdown",
   "source": "### **1.1. Valores nulos** ",
   "metadata": {
    "cell_id": "00009-eb547441-1894-41b9-a37b-952830763834",
    "id": "HrTLgE0tki6P",
    "deepnote_cell_type": "markdown"
   }
  },
  {
   "cell_type": "markdown",
   "source": "A base de dados possui valores faltantes, utilize os conceitos da aula para trata-los.",
   "metadata": {
    "cell_id": "00010-b589d2f7-8b70-401e-9b22-565d78a7079d",
    "id": "8JmRsG6K8SPd",
    "deepnote_cell_type": "markdown"
   }
  },
  {
   "cell_type": "code",
   "metadata": {
    "cell_id": "00011-57cc4ea8-0288-4363-a68c-39c49728830c",
    "deepnote_output_heights": [
     155.60000610351562
    ],
    "deepnote_to_be_reexecuted": false,
    "execution_millis": 6,
    "execution_start": 1641830517916,
    "source_hash": "232e1379",
    "tags": [],
    "deepnote_cell_type": "code"
   },
   "source": "data.isna().any()",
   "outputs": [
    {
     "data": {
      "text/plain": "species              False\nisland               False\nbill_length_mm        True\nbill_depth_mm         True\nflipper_length_mm     True\nbody_mass_g           True\nsex                   True\ndtype: bool"
     },
     "execution_count": 27,
     "metadata": {},
     "output_type": "execute_result"
    }
   ],
   "execution_count": null
  },
  {
   "cell_type": "code",
   "metadata": {
    "cell_id": "00011-8d5d1755-1f56-4335-9f01-394f27c59a89",
    "deepnote_output_heights": [
     155.60000610351562
    ],
    "deepnote_to_be_reexecuted": false,
    "execution_millis": 13,
    "execution_start": 1641830520010,
    "id": "8kyhQS748SPf",
    "source_hash": "e5463009",
    "deepnote_cell_type": "code"
   },
   "source": "# resposta da questão 1.1\ndata.dropna(subset=['sex'], inplace=True)\ndata.isna().any()\n",
   "outputs": [
    {
     "data": {
      "text/plain": "species              False\nisland               False\nbill_length_mm       False\nbill_depth_mm        False\nflipper_length_mm    False\nbody_mass_g          False\nsex                  False\ndtype: bool"
     },
     "execution_count": 28,
     "metadata": {},
     "output_type": "execute_result"
    }
   ],
   "execution_count": null
  },
  {
   "cell_type": "markdown",
   "source": "### **1.2. Variáveis numéricas** ",
   "metadata": {
    "cell_id": "00012-7dc97607-125b-47fc-82f5-f4edf09775e4",
    "id": "9YtwYCuk8SPU",
    "deepnote_cell_type": "markdown"
   }
  },
  {
   "cell_type": "markdown",
   "source": "Identifique as variáveis numéricas e crie uma nova coluna **padronizando** seus valores. A nova coluna deve ter o mesmo nome da coluna original acrescidade de \"*_std*\".",
   "metadata": {
    "cell_id": "00013-e1d9ee14-f91e-42d0-b23b-2e87e039edf6",
    "id": "7tIjNOs8q6aZ",
    "deepnote_cell_type": "markdown"
   }
  },
  {
   "cell_type": "markdown",
   "source": "> **Nota**: Você não deve tratar a variável resposta.",
   "metadata": {
    "cell_id": "00014-98433bf6-4910-47c2-a89e-0b961067a142",
    "id": "QchO_rKR8tyx",
    "deepnote_cell_type": "markdown"
   }
  },
  {
   "cell_type": "code",
   "metadata": {
    "cell_id": "00016-68e0458e-e7f5-4cc3-a56e-ba6e50d7924e",
    "deepnote_to_be_reexecuted": false,
    "execution_millis": 16,
    "execution_start": 1641830524870,
    "source_hash": "c6570040",
    "tags": [],
    "deepnote_cell_type": "code"
   },
   "source": "print(data.info())\ncolunas = data.select_dtypes('float64').columns\nprint(colunas)\n",
   "outputs": [
    {
     "name": "stdout",
     "output_type": "stream",
     "text": "<class 'pandas.core.frame.DataFrame'>\nInt64Index: 333 entries, 0 to 343\nData columns (total 7 columns):\n #   Column             Non-Null Count  Dtype  \n---  ------             --------------  -----  \n 0   species            333 non-null    object \n 1   island             333 non-null    object \n 2   bill_length_mm     333 non-null    float64\n 3   bill_depth_mm      333 non-null    float64\n 4   flipper_length_mm  333 non-null    float64\n 5   body_mass_g        333 non-null    float64\n 6   sex                333 non-null    object \ndtypes: float64(4), object(3)\nmemory usage: 20.8+ KB\nNone\nIndex(['bill_length_mm', 'bill_depth_mm', 'flipper_length_mm', 'body_mass_g'], dtype='object')\n"
    }
   ],
   "execution_count": null
  },
  {
   "cell_type": "code",
   "metadata": {
    "cell_id": "00015-7d7f9950-4b2f-48c9-bf54-1737b36d9e25",
    "deepnote_output_heights": [
     null,
     177
    ],
    "deepnote_to_be_reexecuted": false,
    "execution_millis": 345,
    "execution_start": 1641830531302,
    "id": "IwTTh4VKkdKN",
    "source_hash": "f70cdc11",
    "deepnote_cell_type": "code"
   },
   "source": "# resposta da questão 1.2\n\nfor coluna in colunas:\n\n    media = data[coluna].mean()\n    print(f'A média da {coluna} é {media}')\n\n    desvio_padrao = data[coluna].std()\n    print(f'O desvio padrão da {coluna} é {desvio_padrao}')\n\n    data[f'{coluna}_std'] = data[coluna].apply(lambda item: (item - media) / desvio_padrao)\n\ndata.head()",
   "outputs": [
    {
     "name": "stdout",
     "output_type": "stream",
     "text": "A média da bill_length_mm é 43.99279279279279\nO desvio padrão da bill_length_mm é 5.468668342647559\nA média da bill_depth_mm é 17.164864864864864\nO desvio padrão da bill_depth_mm é 1.9692354633199007\nA média da flipper_length_mm é 200.96696696696696\nO desvio padrão da flipper_length_mm é 14.015765288287879\nA média da body_mass_g é 4207.057057057057\nO desvio padrão da body_mass_g é 805.2158019428965\n"
    },
    {
     "data": {
      "text/html": "<div>\n<style scoped>\n    .dataframe tbody tr th:only-of-type {\n        vertical-align: middle;\n    }\n\n    .dataframe tbody tr th {\n        vertical-align: top;\n    }\n\n    .dataframe thead th {\n        text-align: right;\n    }\n</style>\n<table border=\"1\" class=\"dataframe\">\n  <thead>\n    <tr style=\"text-align: right;\">\n      <th></th>\n      <th>species</th>\n      <th>island</th>\n      <th>bill_length_mm</th>\n      <th>bill_depth_mm</th>\n      <th>flipper_length_mm</th>\n      <th>body_mass_g</th>\n      <th>sex</th>\n      <th>bill_length_mm_std</th>\n      <th>bill_depth_mm_std</th>\n      <th>flipper_length_mm_std</th>\n      <th>body_mass_g_std</th>\n    </tr>\n  </thead>\n  <tbody>\n    <tr>\n      <th>0</th>\n      <td>Adelie</td>\n      <td>Torgersen</td>\n      <td>39.1</td>\n      <td>18.7</td>\n      <td>181.0</td>\n      <td>3750.0</td>\n      <td>Male</td>\n      <td>-0.894695</td>\n      <td>0.779559</td>\n      <td>-1.424608</td>\n      <td>-0.567621</td>\n    </tr>\n    <tr>\n      <th>1</th>\n      <td>Adelie</td>\n      <td>Torgersen</td>\n      <td>39.5</td>\n      <td>17.4</td>\n      <td>186.0</td>\n      <td>3800.0</td>\n      <td>Female</td>\n      <td>-0.821552</td>\n      <td>0.119404</td>\n      <td>-1.067867</td>\n      <td>-0.505525</td>\n    </tr>\n    <tr>\n      <th>2</th>\n      <td>Adelie</td>\n      <td>Torgersen</td>\n      <td>40.3</td>\n      <td>18.0</td>\n      <td>195.0</td>\n      <td>3250.0</td>\n      <td>Female</td>\n      <td>-0.675264</td>\n      <td>0.424091</td>\n      <td>-0.425733</td>\n      <td>-1.188572</td>\n    </tr>\n    <tr>\n      <th>4</th>\n      <td>Adelie</td>\n      <td>Torgersen</td>\n      <td>36.7</td>\n      <td>19.3</td>\n      <td>193.0</td>\n      <td>3450.0</td>\n      <td>Female</td>\n      <td>-1.333559</td>\n      <td>1.084246</td>\n      <td>-0.568429</td>\n      <td>-0.940192</td>\n    </tr>\n    <tr>\n      <th>5</th>\n      <td>Adelie</td>\n      <td>Torgersen</td>\n      <td>39.3</td>\n      <td>20.6</td>\n      <td>190.0</td>\n      <td>3650.0</td>\n      <td>Male</td>\n      <td>-0.858123</td>\n      <td>1.744400</td>\n      <td>-0.782474</td>\n      <td>-0.691811</td>\n    </tr>\n  </tbody>\n</table>\n</div>",
      "text/plain": "  species     island  bill_length_mm  bill_depth_mm  flipper_length_mm  \\\n0  Adelie  Torgersen            39.1           18.7              181.0   \n1  Adelie  Torgersen            39.5           17.4              186.0   \n2  Adelie  Torgersen            40.3           18.0              195.0   \n4  Adelie  Torgersen            36.7           19.3              193.0   \n5  Adelie  Torgersen            39.3           20.6              190.0   \n\n   body_mass_g     sex  bill_length_mm_std  bill_depth_mm_std  \\\n0       3750.0    Male           -0.894695           0.779559   \n1       3800.0  Female           -0.821552           0.119404   \n2       3250.0  Female           -0.675264           0.424091   \n4       3450.0  Female           -1.333559           1.084246   \n5       3650.0    Male           -0.858123           1.744400   \n\n   flipper_length_mm_std  body_mass_g_std  \n0              -1.424608        -0.567621  \n1              -1.067867        -0.505525  \n2              -0.425733        -1.188572  \n4              -0.568429        -0.940192  \n5              -0.782474        -0.691811  "
     },
     "execution_count": 30,
     "metadata": {},
     "output_type": "execute_result"
    }
   ],
   "execution_count": null
  },
  {
   "cell_type": "markdown",
   "source": "### **1.3. Variáveis categóricas** ",
   "metadata": {
    "cell_id": "00016-df210da5-b9c1-41a0-a060-9b3fa07eb152",
    "id": "TTh7w8rgkznY",
    "deepnote_cell_type": "markdown"
   }
  },
  {
   "cell_type": "markdown",
   "source": "Identifique as variáveis categóricas nominais e ordinais, crie uma nova coluna aplicando a técnica correta de conversão a seus valores. A nova coluna deve ter o mesmo nome da coluna original acrescidade de \"*_nom*\" ou \"*_ord*\".",
   "metadata": {
    "cell_id": "00017-8ada2f4d-acd6-4898-b662-815aface3fed",
    "id": "clBerimQs2PY",
    "deepnote_cell_type": "markdown"
   }
  },
  {
   "cell_type": "markdown",
   "source": "> **Nota**: Você não deve tratar a variável resposta.",
   "metadata": {
    "cell_id": "00018-fd7024ab-eb8e-4df3-bfdc-13ef33d51473",
    "id": "BqpAVY109BWA",
    "deepnote_cell_type": "markdown"
   }
  },
  {
   "cell_type": "code",
   "metadata": {
    "cell_id": "00019-4435e4e8-4954-4222-8016-f0cb0842b3e4",
    "deepnote_to_be_reexecuted": false,
    "execution_millis": 34,
    "execution_start": 1641830783573,
    "id": "fohdVuLzkdKP",
    "source_hash": "48f292e4",
    "deepnote_output_heights": [
     null,
     177
    ],
    "deepnote_cell_type": "code"
   },
   "source": "# resposta da questão 1.3\n# identificando as colunas categóricas\nprint(data.info())\ncolunas = ['island', 'sex']\ndata[colunas].head()",
   "outputs": [
    {
     "name": "stdout",
     "output_type": "stream",
     "text": "<class 'pandas.core.frame.DataFrame'>\nInt64Index: 333 entries, 0 to 343\nData columns (total 11 columns):\n #   Column                 Non-Null Count  Dtype  \n---  ------                 --------------  -----  \n 0   species                333 non-null    object \n 1   island                 333 non-null    object \n 2   bill_length_mm         333 non-null    float64\n 3   bill_depth_mm          333 non-null    float64\n 4   flipper_length_mm      333 non-null    float64\n 5   body_mass_g            333 non-null    float64\n 6   sex                    333 non-null    object \n 7   bill_length_mm_std     333 non-null    float64\n 8   bill_depth_mm_std      333 non-null    float64\n 9   flipper_length_mm_std  333 non-null    float64\n 10  body_mass_g_std        333 non-null    float64\ndtypes: float64(8), object(3)\nmemory usage: 31.2+ KB\nNone\n"
    },
    {
     "data": {
      "text/html": "<div>\n<style scoped>\n    .dataframe tbody tr th:only-of-type {\n        vertical-align: middle;\n    }\n\n    .dataframe tbody tr th {\n        vertical-align: top;\n    }\n\n    .dataframe thead th {\n        text-align: right;\n    }\n</style>\n<table border=\"1\" class=\"dataframe\">\n  <thead>\n    <tr style=\"text-align: right;\">\n      <th></th>\n      <th>island</th>\n      <th>sex</th>\n    </tr>\n  </thead>\n  <tbody>\n    <tr>\n      <th>0</th>\n      <td>Torgersen</td>\n      <td>Male</td>\n    </tr>\n    <tr>\n      <th>1</th>\n      <td>Torgersen</td>\n      <td>Female</td>\n    </tr>\n    <tr>\n      <th>2</th>\n      <td>Torgersen</td>\n      <td>Female</td>\n    </tr>\n    <tr>\n      <th>4</th>\n      <td>Torgersen</td>\n      <td>Female</td>\n    </tr>\n    <tr>\n      <th>5</th>\n      <td>Torgersen</td>\n      <td>Male</td>\n    </tr>\n  </tbody>\n</table>\n</div>",
      "text/plain": "      island     sex\n0  Torgersen    Male\n1  Torgersen  Female\n2  Torgersen  Female\n4  Torgersen  Female\n5  Torgersen    Male"
     },
     "execution_count": 31,
     "metadata": {},
     "output_type": "execute_result"
    }
   ],
   "execution_count": null
  },
  {
   "cell_type": "code",
   "metadata": {
    "cell_id": "00022-aedfb08e-8f27-4081-b924-3d6ff610f723",
    "tags": [],
    "deepnote_output_heights": [
     177
    ],
    "deepnote_cell_type": "code"
   },
   "source": "# resposta da questão 1.3\n# ambas as colunas categóricas são nominais, não havendo nenhuma ordinal\n# porém, o enunciado presume que haja coluna categórica ordinal\n# assim, vou tratar a coluna 'island' como ordinal, como se uma ilha fosse maior do que a outra\n\n# tratando a coluna 'sex'\n\ndata['sex_m_nom'] = data['sex'].apply(lambda sex: 1 if sex == 'Male' else 0)\ndata['sex_f_nom'] = data['sex'].apply(lambda sex: 1 if sex == 'Female' else 0)\n\ndata.head()",
   "outputs": [
    {
     "data": {
      "text/html": "<div>\n<style scoped>\n    .dataframe tbody tr th:only-of-type {\n        vertical-align: middle;\n    }\n\n    .dataframe tbody tr th {\n        vertical-align: top;\n    }\n\n    .dataframe thead th {\n        text-align: right;\n    }\n</style>\n<table border=\"1\" class=\"dataframe\">\n  <thead>\n    <tr style=\"text-align: right;\">\n      <th></th>\n      <th>species</th>\n      <th>island</th>\n      <th>bill_length_mm</th>\n      <th>bill_depth_mm</th>\n      <th>flipper_length_mm</th>\n      <th>body_mass_g</th>\n      <th>sex</th>\n      <th>bill_length_mm_std</th>\n      <th>bill_depth_mm_std</th>\n      <th>flipper_length_mm_std</th>\n      <th>body_mass_g_std</th>\n      <th>sex_m_nom</th>\n      <th>sex_f_nom</th>\n    </tr>\n  </thead>\n  <tbody>\n    <tr>\n      <th>0</th>\n      <td>Adelie</td>\n      <td>Torgersen</td>\n      <td>39.1</td>\n      <td>18.7</td>\n      <td>181.0</td>\n      <td>3750.0</td>\n      <td>Male</td>\n      <td>-0.894695</td>\n      <td>0.779559</td>\n      <td>-1.424608</td>\n      <td>-0.567621</td>\n      <td>1</td>\n      <td>0</td>\n    </tr>\n    <tr>\n      <th>1</th>\n      <td>Adelie</td>\n      <td>Torgersen</td>\n      <td>39.5</td>\n      <td>17.4</td>\n      <td>186.0</td>\n      <td>3800.0</td>\n      <td>Female</td>\n      <td>-0.821552</td>\n      <td>0.119404</td>\n      <td>-1.067867</td>\n      <td>-0.505525</td>\n      <td>0</td>\n      <td>1</td>\n    </tr>\n    <tr>\n      <th>2</th>\n      <td>Adelie</td>\n      <td>Torgersen</td>\n      <td>40.3</td>\n      <td>18.0</td>\n      <td>195.0</td>\n      <td>3250.0</td>\n      <td>Female</td>\n      <td>-0.675264</td>\n      <td>0.424091</td>\n      <td>-0.425733</td>\n      <td>-1.188572</td>\n      <td>0</td>\n      <td>1</td>\n    </tr>\n    <tr>\n      <th>4</th>\n      <td>Adelie</td>\n      <td>Torgersen</td>\n      <td>36.7</td>\n      <td>19.3</td>\n      <td>193.0</td>\n      <td>3450.0</td>\n      <td>Female</td>\n      <td>-1.333559</td>\n      <td>1.084246</td>\n      <td>-0.568429</td>\n      <td>-0.940192</td>\n      <td>0</td>\n      <td>1</td>\n    </tr>\n    <tr>\n      <th>5</th>\n      <td>Adelie</td>\n      <td>Torgersen</td>\n      <td>39.3</td>\n      <td>20.6</td>\n      <td>190.0</td>\n      <td>3650.0</td>\n      <td>Male</td>\n      <td>-0.858123</td>\n      <td>1.744400</td>\n      <td>-0.782474</td>\n      <td>-0.691811</td>\n      <td>1</td>\n      <td>0</td>\n    </tr>\n  </tbody>\n</table>\n</div>",
      "text/plain": "  species     island  bill_length_mm  bill_depth_mm  flipper_length_mm  \\\n0  Adelie  Torgersen            39.1           18.7              181.0   \n1  Adelie  Torgersen            39.5           17.4              186.0   \n2  Adelie  Torgersen            40.3           18.0              195.0   \n4  Adelie  Torgersen            36.7           19.3              193.0   \n5  Adelie  Torgersen            39.3           20.6              190.0   \n\n   body_mass_g     sex  bill_length_mm_std  bill_depth_mm_std  \\\n0       3750.0    Male           -0.894695           0.779559   \n1       3800.0  Female           -0.821552           0.119404   \n2       3250.0  Female           -0.675264           0.424091   \n4       3450.0  Female           -1.333559           1.084246   \n5       3650.0    Male           -0.858123           1.744400   \n\n   flipper_length_mm_std  body_mass_g_std  sex_m_nom  sex_f_nom  \n0              -1.424608        -0.567621          1          0  \n1              -1.067867        -0.505525          0          1  \n2              -0.425733        -1.188572          0          1  \n4              -0.568429        -0.940192          0          1  \n5              -0.782474        -0.691811          1          0  "
     },
     "execution_count": 32,
     "metadata": {},
     "output_type": "execute_result"
    }
   ],
   "execution_count": null
  },
  {
   "cell_type": "code",
   "metadata": {
    "cell_id": "00023-a1873275-26e7-468d-892b-fc4faa9e90a0",
    "deepnote_output_heights": [
     177
    ],
    "deepnote_cell_type": "code"
   },
   "source": "# resposta da questão 1.3\n# tratando a coluna 'island' como se fosse categórica ordinal\n# apesar de eu entender que ela seja categórica nominal\n\nilhas = {\n    'Torgersen': 1,\n    'Biscoe': 2,\n    'Dream': 3\n}\n\ndata['island_ord'] = data['island'].apply(lambda level: ilhas[level])\n\ndata.head()",
   "outputs": [
    {
     "data": {
      "text/html": "<div>\n<style scoped>\n    .dataframe tbody tr th:only-of-type {\n        vertical-align: middle;\n    }\n\n    .dataframe tbody tr th {\n        vertical-align: top;\n    }\n\n    .dataframe thead th {\n        text-align: right;\n    }\n</style>\n<table border=\"1\" class=\"dataframe\">\n  <thead>\n    <tr style=\"text-align: right;\">\n      <th></th>\n      <th>species</th>\n      <th>island</th>\n      <th>bill_length_mm</th>\n      <th>bill_depth_mm</th>\n      <th>flipper_length_mm</th>\n      <th>body_mass_g</th>\n      <th>sex</th>\n      <th>bill_length_mm_std</th>\n      <th>bill_depth_mm_std</th>\n      <th>flipper_length_mm_std</th>\n      <th>body_mass_g_std</th>\n      <th>sex_m_nom</th>\n      <th>sex_f_nom</th>\n      <th>island_ord</th>\n    </tr>\n  </thead>\n  <tbody>\n    <tr>\n      <th>0</th>\n      <td>Adelie</td>\n      <td>Torgersen</td>\n      <td>39.1</td>\n      <td>18.7</td>\n      <td>181.0</td>\n      <td>3750.0</td>\n      <td>Male</td>\n      <td>-0.894695</td>\n      <td>0.779559</td>\n      <td>-1.424608</td>\n      <td>-0.567621</td>\n      <td>1</td>\n      <td>0</td>\n      <td>1</td>\n    </tr>\n    <tr>\n      <th>1</th>\n      <td>Adelie</td>\n      <td>Torgersen</td>\n      <td>39.5</td>\n      <td>17.4</td>\n      <td>186.0</td>\n      <td>3800.0</td>\n      <td>Female</td>\n      <td>-0.821552</td>\n      <td>0.119404</td>\n      <td>-1.067867</td>\n      <td>-0.505525</td>\n      <td>0</td>\n      <td>1</td>\n      <td>1</td>\n    </tr>\n    <tr>\n      <th>2</th>\n      <td>Adelie</td>\n      <td>Torgersen</td>\n      <td>40.3</td>\n      <td>18.0</td>\n      <td>195.0</td>\n      <td>3250.0</td>\n      <td>Female</td>\n      <td>-0.675264</td>\n      <td>0.424091</td>\n      <td>-0.425733</td>\n      <td>-1.188572</td>\n      <td>0</td>\n      <td>1</td>\n      <td>1</td>\n    </tr>\n    <tr>\n      <th>4</th>\n      <td>Adelie</td>\n      <td>Torgersen</td>\n      <td>36.7</td>\n      <td>19.3</td>\n      <td>193.0</td>\n      <td>3450.0</td>\n      <td>Female</td>\n      <td>-1.333559</td>\n      <td>1.084246</td>\n      <td>-0.568429</td>\n      <td>-0.940192</td>\n      <td>0</td>\n      <td>1</td>\n      <td>1</td>\n    </tr>\n    <tr>\n      <th>5</th>\n      <td>Adelie</td>\n      <td>Torgersen</td>\n      <td>39.3</td>\n      <td>20.6</td>\n      <td>190.0</td>\n      <td>3650.0</td>\n      <td>Male</td>\n      <td>-0.858123</td>\n      <td>1.744400</td>\n      <td>-0.782474</td>\n      <td>-0.691811</td>\n      <td>1</td>\n      <td>0</td>\n      <td>1</td>\n    </tr>\n  </tbody>\n</table>\n</div>",
      "text/plain": "  species     island  bill_length_mm  bill_depth_mm  flipper_length_mm  \\\n0  Adelie  Torgersen            39.1           18.7              181.0   \n1  Adelie  Torgersen            39.5           17.4              186.0   \n2  Adelie  Torgersen            40.3           18.0              195.0   \n4  Adelie  Torgersen            36.7           19.3              193.0   \n5  Adelie  Torgersen            39.3           20.6              190.0   \n\n   body_mass_g     sex  bill_length_mm_std  bill_depth_mm_std  \\\n0       3750.0    Male           -0.894695           0.779559   \n1       3800.0  Female           -0.821552           0.119404   \n2       3250.0  Female           -0.675264           0.424091   \n4       3450.0  Female           -1.333559           1.084246   \n5       3650.0    Male           -0.858123           1.744400   \n\n   flipper_length_mm_std  body_mass_g_std  sex_m_nom  sex_f_nom  island_ord  \n0              -1.424608        -0.567621          1          0           1  \n1              -1.067867        -0.505525          0          1           1  \n2              -0.425733        -1.188572          0          1           1  \n4              -0.568429        -0.940192          0          1           1  \n5              -0.782474        -0.691811          1          0           1  "
     },
     "execution_count": 37,
     "metadata": {},
     "output_type": "execute_result"
    }
   ],
   "execution_count": null
  },
  {
   "cell_type": "markdown",
   "source": "### **1.4. Limpeza** ",
   "metadata": {
    "cell_id": "00020-1b0abdb3-1bf4-40fd-86ac-8eddfd84598a",
    "id": "AvkcQD9E9DGE",
    "deepnote_cell_type": "markdown"
   }
  },
  {
   "cell_type": "markdown",
   "source": "Descarte as colunas originais e mantenha apenas a variável resposta e as variáveis preditivas com o sufixo *_std*\", *_nom*\" e \"*_ord*\". ",
   "metadata": {
    "cell_id": "00021-d7c6baf8-2356-45fc-a23b-760b48452d90",
    "id": "D03kCy8-9DGE",
    "deepnote_cell_type": "markdown"
   }
  },
  {
   "cell_type": "code",
   "metadata": {
    "cell_id": "00022-c951051e-72cc-4ae8-8189-5cf7baa249f4",
    "deepnote_to_be_reexecuted": false,
    "execution_millis": 1,
    "execution_start": 1641830659186,
    "id": "TuEOO6009DGE",
    "source_hash": "2c6cd8c0",
    "deepnote_output_heights": [
     177
    ],
    "deepnote_cell_type": "code"
   },
   "source": "# resposta da questão 1.4\ndata.drop(columns=['island', 'bill_length_mm', 'bill_depth_mm', 'flipper_length_mm', 'body_mass_g', 'sex'], inplace=True)\ndata.head()\n",
   "outputs": [
    {
     "data": {
      "text/html": "<div>\n<style scoped>\n    .dataframe tbody tr th:only-of-type {\n        vertical-align: middle;\n    }\n\n    .dataframe tbody tr th {\n        vertical-align: top;\n    }\n\n    .dataframe thead th {\n        text-align: right;\n    }\n</style>\n<table border=\"1\" class=\"dataframe\">\n  <thead>\n    <tr style=\"text-align: right;\">\n      <th></th>\n      <th>species</th>\n      <th>bill_length_mm_std</th>\n      <th>bill_depth_mm_std</th>\n      <th>flipper_length_mm_std</th>\n      <th>body_mass_g_std</th>\n      <th>sex_m_nom</th>\n      <th>sex_f_nom</th>\n      <th>island_ord</th>\n    </tr>\n  </thead>\n  <tbody>\n    <tr>\n      <th>0</th>\n      <td>Adelie</td>\n      <td>-0.894695</td>\n      <td>0.779559</td>\n      <td>-1.424608</td>\n      <td>-0.567621</td>\n      <td>1</td>\n      <td>0</td>\n      <td>1</td>\n    </tr>\n    <tr>\n      <th>1</th>\n      <td>Adelie</td>\n      <td>-0.821552</td>\n      <td>0.119404</td>\n      <td>-1.067867</td>\n      <td>-0.505525</td>\n      <td>0</td>\n      <td>1</td>\n      <td>1</td>\n    </tr>\n    <tr>\n      <th>2</th>\n      <td>Adelie</td>\n      <td>-0.675264</td>\n      <td>0.424091</td>\n      <td>-0.425733</td>\n      <td>-1.188572</td>\n      <td>0</td>\n      <td>1</td>\n      <td>1</td>\n    </tr>\n    <tr>\n      <th>4</th>\n      <td>Adelie</td>\n      <td>-1.333559</td>\n      <td>1.084246</td>\n      <td>-0.568429</td>\n      <td>-0.940192</td>\n      <td>0</td>\n      <td>1</td>\n      <td>1</td>\n    </tr>\n    <tr>\n      <th>5</th>\n      <td>Adelie</td>\n      <td>-0.858123</td>\n      <td>1.744400</td>\n      <td>-0.782474</td>\n      <td>-0.691811</td>\n      <td>1</td>\n      <td>0</td>\n      <td>1</td>\n    </tr>\n  </tbody>\n</table>\n</div>",
      "text/plain": "  species  bill_length_mm_std  bill_depth_mm_std  flipper_length_mm_std  \\\n0  Adelie           -0.894695           0.779559              -1.424608   \n1  Adelie           -0.821552           0.119404              -1.067867   \n2  Adelie           -0.675264           0.424091              -0.425733   \n4  Adelie           -1.333559           1.084246              -0.568429   \n5  Adelie           -0.858123           1.744400              -0.782474   \n\n   body_mass_g_std  sex_m_nom  sex_f_nom  island_ord  \n0        -0.567621          1          0           1  \n1        -0.505525          0          1           1  \n2        -1.188572          0          1           1  \n4        -0.940192          0          1           1  \n5        -0.691811          1          0           1  "
     },
     "execution_count": 38,
     "metadata": {},
     "output_type": "execute_result"
    }
   ],
   "execution_count": null
  },
  {
   "cell_type": "markdown",
   "source": "---",
   "metadata": {
    "cell_id": "00023-f92916c9-3bf6-4c8f-a150-0607d9e92a96",
    "id": "waxn4B2UDHyl",
    "deepnote_cell_type": "markdown"
   }
  },
  {
   "cell_type": "markdown",
   "source": "<a style='text-decoration:none;line-height:16px;display:flex;color:#5B5B62;padding:10px;justify-content:end;' href='https://deepnote.com?utm_source=created-in-deepnote-cell&projectId=690ec1aa-ed7a-4520-b902-aba6fc5867d1' target=\"_blank\">\n<img alt='Created in deepnote.com' style='display:inline;max-height:16px;margin:0px;margin-right:7.5px;' src='data:image/svg+xml;base64,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' > </img>\nCreated in <span style='font-weight:600;margin-left:4px;'>Deepnote</span></a>",
   "metadata": {
    "tags": [],
    "created_in_deepnote_cell": true,
    "deepnote_cell_type": "markdown"
   }
  }
 ],
 "nbformat": 4,
 "nbformat_minor": 0,
 "metadata": {
  "colab": {
   "collapsed_sections": [],
   "name": "modulo_23_exercicio.ipynb",
   "provenance": []
  },
  "deepnote": {},
  "deepnote_execution_queue": [],
  "deepnote_notebook_id": "9607ba7e-c93f-43d9-b9f4-e82fcd6a8179",
  "kernelspec": {
   "display_name": "Python 3",
   "name": "python3"
  },
  "language_info": {
   "codemirror_mode": {
    "name": "ipython",
    "version": 3
   },
   "file_extension": ".py",
   "mimetype": "text/x-python",
   "name": "python",
   "nbconvert_exporter": "python",
   "pygments_lexer": "ipython3",
   "version": "3.9.9"
  }
 }
}