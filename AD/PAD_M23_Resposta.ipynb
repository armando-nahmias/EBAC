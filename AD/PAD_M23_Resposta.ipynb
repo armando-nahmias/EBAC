{
 "cells": [
  {
   "cell_type": "markdown",
   "source": "<img src=\"https://raw.githubusercontent.com/andre-marcos-perez/ebac-course-utils/main/media/logo/newebac_logo_black_half.png\" alt=\"ebac-logo\">\n\n---\n\n# **Módulo** | Análise de Dados: Fundamentos de Aprendizado de Máquina\nCaderno de **Exercícios**<br> \nProfessor [André Perez](https://www.linkedin.com/in/andremarcosperez/)\n\n---",
   "metadata": {
    "id": "KJqp9AANOCtf",
    "cell_id": "00000-5597b18e-ce78-4411-8de0-de3f51d83b94",
    "deepnote_cell_type": "markdown"
   }
  },
  {
   "cell_type": "markdown",
   "source": "# **Tópicos**\n\n<ol type=\"1\">\n  <li>Teoria;</li>\n  <li>Atributos categóricos;</li>\n  <li>Atributos numéricos;</li>\n  <li>Dados faltantes.</li>\n</ol>",
   "metadata": {
    "id": "d9jDtUbDOE1-",
    "cell_id": "00001-3d8eb902-6b71-46fd-aa69-86be0a101712",
    "deepnote_cell_type": "markdown"
   }
  },
  {
   "cell_type": "markdown",
   "source": "---",
   "metadata": {
    "id": "SmoHgt-lwkpD",
    "cell_id": "00002-2d217295-63a1-4f5d-80dd-8e1ffe786729",
    "deepnote_cell_type": "markdown"
   }
  },
  {
   "cell_type": "markdown",
   "source": "# **Exercícios**",
   "metadata": {
    "id": "GABI6OW8OfQ2",
    "cell_id": "00003-9d6ec8bf-718e-4377-a178-c3c728376367",
    "deepnote_cell_type": "markdown"
   }
  },
  {
   "cell_type": "markdown",
   "source": "## 1\\. Pinguins ",
   "metadata": {
    "id": "kzRDceCvkFj2",
    "cell_id": "00004-33d6b30e-a332-4da6-a036-c732c2301d70",
    "deepnote_cell_type": "markdown"
   }
  },
  {
   "cell_type": "markdown",
   "source": "Neste exercício, vamos utilizar uma base de dados com informações sobre penguins. A idéia é preparar a base de dados para prever a espécie do penguin (variável resposta) baseado em suas características físicas e geográficas (variáveis preditivas).",
   "metadata": {
    "id": "WCQi-s0Hpd5V",
    "cell_id": "00005-39d4bc1c-1c5b-4515-aafe-b393ac494e85",
    "deepnote_cell_type": "markdown"
   }
  },
  {
   "cell_type": "code",
   "metadata": {
    "id": "lblH8kIXzPZZ",
    "cell_id": "00006-2e7f1212-4735-429e-873a-e7f054a9f6f1",
    "deepnote_to_be_reexecuted": false,
    "source_hash": "456c4e13",
    "execution_start": 1641524830291,
    "execution_millis": 3263,
    "deepnote_cell_type": "code"
   },
   "source": "import numpy as np\nimport pandas as pd\nimport seaborn as sns",
   "outputs": [],
   "execution_count": null
  },
  {
   "cell_type": "code",
   "metadata": {
    "id": "VR3UdrrQgJ4K",
    "cell_id": "00007-273eacb2-6e80-4ffd-a294-8e939a51f1db",
    "deepnote_to_be_reexecuted": false,
    "source_hash": "4541c7f7",
    "execution_start": 1641524835272,
    "execution_millis": 378,
    "deepnote_cell_type": "code"
   },
   "source": "data = sns.load_dataset('penguins')",
   "outputs": [],
   "execution_count": null
  },
  {
   "cell_type": "code",
   "metadata": {
    "id": "znk9Z9TLgTGP",
    "cell_id": "00008-125a2bde-f8fe-4be9-9372-1ea78558b91f",
    "deepnote_to_be_reexecuted": false,
    "source_hash": "41313cfa",
    "execution_start": 1641524836993,
    "execution_millis": 207,
    "deepnote_cell_type": "code"
   },
   "source": "data.head()",
   "outputs": [
    {
     "output_type": "execute_result",
     "execution_count": 3,
     "data": {
      "application/vnd.deepnote.dataframe.v3+json": {
       "column_count": 7,
       "row_count": 5,
       "columns": [
        {
         "name": "species",
         "dtype": "object",
         "stats": {
          "unique_count": 1,
          "nan_count": 0,
          "categories": [
           {
            "name": "Adelie",
            "count": 5
           }
          ]
         }
        },
        {
         "name": "island",
         "dtype": "object",
         "stats": {
          "unique_count": 1,
          "nan_count": 0,
          "categories": [
           {
            "name": "Torgersen",
            "count": 5
           }
          ]
         }
        },
        {
         "name": "bill_length_mm",
         "dtype": "float64",
         "stats": {
          "unique_count": 4,
          "nan_count": 1,
          "min": "36.7",
          "max": "40.3",
          "histogram": [
           {
            "bin_start": 36.7,
            "bin_end": 37.06,
            "count": 1
           },
           {
            "bin_start": 37.06,
            "bin_end": 37.42,
            "count": 0
           },
           {
            "bin_start": 37.42,
            "bin_end": 37.78,
            "count": 0
           },
           {
            "bin_start": 37.78,
            "bin_end": 38.14,
            "count": 0
           },
           {
            "bin_start": 38.14,
            "bin_end": 38.5,
            "count": 0
           },
           {
            "bin_start": 38.5,
            "bin_end": 38.86,
            "count": 0
           },
           {
            "bin_start": 38.86,
            "bin_end": 39.22,
            "count": 1
           },
           {
            "bin_start": 39.22,
            "bin_end": 39.58,
            "count": 1
           },
           {
            "bin_start": 39.58,
            "bin_end": 39.94,
            "count": 0
           },
           {
            "bin_start": 39.94,
            "bin_end": 40.3,
            "count": 1
           }
          ]
         }
        },
        {
         "name": "bill_depth_mm",
         "dtype": "float64",
         "stats": {
          "unique_count": 4,
          "nan_count": 1,
          "min": "17.4",
          "max": "19.3",
          "histogram": [
           {
            "bin_start": 17.4,
            "bin_end": 17.59,
            "count": 1
           },
           {
            "bin_start": 17.59,
            "bin_end": 17.779999999999998,
            "count": 0
           },
           {
            "bin_start": 17.779999999999998,
            "bin_end": 17.97,
            "count": 0
           },
           {
            "bin_start": 17.97,
            "bin_end": 18.16,
            "count": 1
           },
           {
            "bin_start": 18.16,
            "bin_end": 18.35,
            "count": 0
           },
           {
            "bin_start": 18.35,
            "bin_end": 18.54,
            "count": 0
           },
           {
            "bin_start": 18.54,
            "bin_end": 18.73,
            "count": 1
           },
           {
            "bin_start": 18.73,
            "bin_end": 18.92,
            "count": 0
           },
           {
            "bin_start": 18.92,
            "bin_end": 19.11,
            "count": 0
           },
           {
            "bin_start": 19.11,
            "bin_end": 19.3,
            "count": 1
           }
          ]
         }
        },
        {
         "name": "flipper_length_mm",
         "dtype": "float64",
         "stats": {
          "unique_count": 4,
          "nan_count": 1,
          "min": "181.0",
          "max": "195.0",
          "histogram": [
           {
            "bin_start": 181,
            "bin_end": 182.4,
            "count": 1
           },
           {
            "bin_start": 182.4,
            "bin_end": 183.8,
            "count": 0
           },
           {
            "bin_start": 183.8,
            "bin_end": 185.2,
            "count": 0
           },
           {
            "bin_start": 185.2,
            "bin_end": 186.6,
            "count": 1
           },
           {
            "bin_start": 186.6,
            "bin_end": 188,
            "count": 0
           },
           {
            "bin_start": 188,
            "bin_end": 189.4,
            "count": 0
           },
           {
            "bin_start": 189.4,
            "bin_end": 190.8,
            "count": 0
           },
           {
            "bin_start": 190.8,
            "bin_end": 192.2,
            "count": 0
           },
           {
            "bin_start": 192.2,
            "bin_end": 193.6,
            "count": 1
           },
           {
            "bin_start": 193.6,
            "bin_end": 195,
            "count": 1
           }
          ]
         }
        },
        {
         "name": "body_mass_g",
         "dtype": "float64",
         "stats": {
          "unique_count": 4,
          "nan_count": 1,
          "min": "3250.0",
          "max": "3800.0",
          "histogram": [
           {
            "bin_start": 3250,
            "bin_end": 3305,
            "count": 1
           },
           {
            "bin_start": 3305,
            "bin_end": 3360,
            "count": 0
           },
           {
            "bin_start": 3360,
            "bin_end": 3415,
            "count": 0
           },
           {
            "bin_start": 3415,
            "bin_end": 3470,
            "count": 1
           },
           {
            "bin_start": 3470,
            "bin_end": 3525,
            "count": 0
           },
           {
            "bin_start": 3525,
            "bin_end": 3580,
            "count": 0
           },
           {
            "bin_start": 3580,
            "bin_end": 3635,
            "count": 0
           },
           {
            "bin_start": 3635,
            "bin_end": 3690,
            "count": 0
           },
           {
            "bin_start": 3690,
            "bin_end": 3745,
            "count": 0
           },
           {
            "bin_start": 3745,
            "bin_end": 3800,
            "count": 2
           }
          ]
         }
        },
        {
         "name": "sex",
         "dtype": "object",
         "stats": {
          "unique_count": 2,
          "nan_count": 1,
          "categories": [
           {
            "name": "Female",
            "count": 3
           },
           {
            "name": "Male",
            "count": 1
           },
           {
            "name": "Missing",
            "count": 1
           }
          ]
         }
        },
        {
         "name": "_deepnote_index_column",
         "dtype": "int64"
        }
       ],
       "rows": [
        {
         "species": "Adelie",
         "island": "Torgersen",
         "bill_length_mm": 39.1,
         "bill_depth_mm": 18.7,
         "flipper_length_mm": 181,
         "body_mass_g": 3750,
         "sex": "Male",
         "_deepnote_index_column": 0
        },
        {
         "species": "Adelie",
         "island": "Torgersen",
         "bill_length_mm": 39.5,
         "bill_depth_mm": 17.4,
         "flipper_length_mm": 186,
         "body_mass_g": 3800,
         "sex": "Female",
         "_deepnote_index_column": 1
        },
        {
         "species": "Adelie",
         "island": "Torgersen",
         "bill_length_mm": 40.3,
         "bill_depth_mm": 18,
         "flipper_length_mm": 195,
         "body_mass_g": 3250,
         "sex": "Female",
         "_deepnote_index_column": 2
        },
        {
         "species": "Adelie",
         "island": "Torgersen",
         "bill_length_mm": "nan",
         "bill_depth_mm": "nan",
         "flipper_length_mm": "nan",
         "body_mass_g": "nan",
         "sex": "nan",
         "_deepnote_index_column": 3
        },
        {
         "species": "Adelie",
         "island": "Torgersen",
         "bill_length_mm": 36.7,
         "bill_depth_mm": 19.3,
         "flipper_length_mm": 193,
         "body_mass_g": 3450,
         "sex": "Female",
         "_deepnote_index_column": 4
        }
       ]
      },
      "text/plain": "  species     island  bill_length_mm  bill_depth_mm  flipper_length_mm  \\\n0  Adelie  Torgersen            39.1           18.7              181.0   \n1  Adelie  Torgersen            39.5           17.4              186.0   \n2  Adelie  Torgersen            40.3           18.0              195.0   \n3  Adelie  Torgersen             NaN            NaN                NaN   \n4  Adelie  Torgersen            36.7           19.3              193.0   \n\n   body_mass_g     sex  \n0       3750.0    Male  \n1       3800.0  Female  \n2       3250.0  Female  \n3          NaN     NaN  \n4       3450.0  Female  ",
      "text/html": "<div>\n<style scoped>\n    .dataframe tbody tr th:only-of-type {\n        vertical-align: middle;\n    }\n\n    .dataframe tbody tr th {\n        vertical-align: top;\n    }\n\n    .dataframe thead th {\n        text-align: right;\n    }\n</style>\n<table border=\"1\" class=\"dataframe\">\n  <thead>\n    <tr style=\"text-align: right;\">\n      <th></th>\n      <th>species</th>\n      <th>island</th>\n      <th>bill_length_mm</th>\n      <th>bill_depth_mm</th>\n      <th>flipper_length_mm</th>\n      <th>body_mass_g</th>\n      <th>sex</th>\n    </tr>\n  </thead>\n  <tbody>\n    <tr>\n      <th>0</th>\n      <td>Adelie</td>\n      <td>Torgersen</td>\n      <td>39.1</td>\n      <td>18.7</td>\n      <td>181.0</td>\n      <td>3750.0</td>\n      <td>Male</td>\n    </tr>\n    <tr>\n      <th>1</th>\n      <td>Adelie</td>\n      <td>Torgersen</td>\n      <td>39.5</td>\n      <td>17.4</td>\n      <td>186.0</td>\n      <td>3800.0</td>\n      <td>Female</td>\n    </tr>\n    <tr>\n      <th>2</th>\n      <td>Adelie</td>\n      <td>Torgersen</td>\n      <td>40.3</td>\n      <td>18.0</td>\n      <td>195.0</td>\n      <td>3250.0</td>\n      <td>Female</td>\n    </tr>\n    <tr>\n      <th>3</th>\n      <td>Adelie</td>\n      <td>Torgersen</td>\n      <td>NaN</td>\n      <td>NaN</td>\n      <td>NaN</td>\n      <td>NaN</td>\n      <td>NaN</td>\n    </tr>\n    <tr>\n      <th>4</th>\n      <td>Adelie</td>\n      <td>Torgersen</td>\n      <td>36.7</td>\n      <td>19.3</td>\n      <td>193.0</td>\n      <td>3450.0</td>\n      <td>Female</td>\n    </tr>\n  </tbody>\n</table>\n</div>"
     },
     "metadata": {}
    }
   ],
   "execution_count": null
  },
  {
   "cell_type": "markdown",
   "source": "### **1.1. Valores nulos** ",
   "metadata": {
    "id": "HrTLgE0tki6P",
    "cell_id": "00009-eb547441-1894-41b9-a37b-952830763834",
    "deepnote_cell_type": "markdown"
   }
  },
  {
   "cell_type": "markdown",
   "source": "A base de dados possui valores faltantes, utilize os conceitos da aula para trata-los.",
   "metadata": {
    "id": "8JmRsG6K8SPd",
    "cell_id": "00010-b589d2f7-8b70-401e-9b22-565d78a7079d",
    "deepnote_cell_type": "markdown"
   }
  },
  {
   "cell_type": "code",
   "source": "data.isna().any()",
   "metadata": {
    "tags": [],
    "cell_id": "00011-57cc4ea8-0288-4363-a68c-39c49728830c",
    "deepnote_to_be_reexecuted": false,
    "source_hash": "232e1379",
    "execution_start": 1641524855749,
    "execution_millis": 5,
    "deepnote_output_heights": [
     155.60000610351562
    ],
    "deepnote_cell_type": "code"
   },
   "outputs": [
    {
     "output_type": "execute_result",
     "execution_count": 4,
     "data": {
      "text/plain": "species              False\nisland               False\nbill_length_mm        True\nbill_depth_mm         True\nflipper_length_mm     True\nbody_mass_g           True\nsex                   True\ndtype: bool"
     },
     "metadata": {}
    }
   ],
   "execution_count": null
  },
  {
   "cell_type": "code",
   "metadata": {
    "id": "8kyhQS748SPf",
    "cell_id": "00011-8d5d1755-1f56-4335-9f01-394f27c59a89",
    "deepnote_to_be_reexecuted": false,
    "source_hash": "e5463009",
    "execution_start": 1641524977632,
    "execution_millis": 7,
    "deepnote_output_heights": [
     155.60000610351562
    ],
    "deepnote_cell_type": "code"
   },
   "source": "# resposta da questão 1.1\ndata.dropna(subset=['sex'], inplace=True)\ndata.isna().any()\n",
   "outputs": [
    {
     "output_type": "execute_result",
     "execution_count": 8,
     "data": {
      "text/plain": "species              False\nisland               False\nbill_length_mm       False\nbill_depth_mm        False\nflipper_length_mm    False\nbody_mass_g          False\nsex                  False\ndtype: bool"
     },
     "metadata": {}
    }
   ],
   "execution_count": null
  },
  {
   "cell_type": "markdown",
   "source": "### **1.2. Variáveis numéricas** ",
   "metadata": {
    "id": "9YtwYCuk8SPU",
    "cell_id": "00012-7dc97607-125b-47fc-82f5-f4edf09775e4",
    "deepnote_cell_type": "markdown"
   }
  },
  {
   "cell_type": "markdown",
   "source": "Identifique as variáveis numéricas e crie uma nova coluna **padronizando** seus valores. A nova coluna deve ter o mesmo nome da coluna original acrescidade de \"*_std*\".",
   "metadata": {
    "id": "7tIjNOs8q6aZ",
    "cell_id": "00013-e1d9ee14-f91e-42d0-b23b-2e87e039edf6",
    "deepnote_cell_type": "markdown"
   }
  },
  {
   "cell_type": "markdown",
   "source": "> **Nota**: Você não deve tratar a variável resposta.",
   "metadata": {
    "id": "QchO_rKR8tyx",
    "cell_id": "00014-98433bf6-4910-47c2-a89e-0b961067a142",
    "deepnote_cell_type": "markdown"
   }
  },
  {
   "cell_type": "code",
   "source": "print(data.info())\nprint(data.select_dtypes('float64').columns)\n",
   "metadata": {
    "tags": [],
    "cell_id": "00016-68e0458e-e7f5-4cc3-a56e-ba6e50d7924e",
    "deepnote_to_be_reexecuted": false,
    "source_hash": "bd23314b",
    "execution_start": 1641525325058,
    "execution_millis": 2,
    "deepnote_cell_type": "code"
   },
   "outputs": [
    {
     "name": "stdout",
     "text": "<class 'pandas.core.frame.DataFrame'>\nInt64Index: 333 entries, 0 to 343\nData columns (total 7 columns):\n #   Column             Non-Null Count  Dtype  \n---  ------             --------------  -----  \n 0   species            333 non-null    object \n 1   island             333 non-null    object \n 2   bill_length_mm     333 non-null    float64\n 3   bill_depth_mm      333 non-null    float64\n 4   flipper_length_mm  333 non-null    float64\n 5   body_mass_g        333 non-null    float64\n 6   sex                333 non-null    object \ndtypes: float64(4), object(3)\nmemory usage: 28.9+ KB\nNone\nIndex(['bill_length_mm', 'bill_depth_mm', 'flipper_length_mm', 'body_mass_g'], dtype='object')\n",
     "output_type": "stream",
     "data": {}
    }
   ],
   "execution_count": null
  },
  {
   "cell_type": "code",
   "metadata": {
    "id": "IwTTh4VKkdKN",
    "cell_id": "00015-7d7f9950-4b2f-48c9-bf54-1737b36d9e25",
    "deepnote_to_be_reexecuted": false,
    "source_hash": "9be80d15",
    "execution_start": 1641527142116,
    "execution_millis": 88,
    "deepnote_output_heights": [
     21.199996948242188
    ],
    "deepnote_cell_type": "code"
   },
   "source": "# resposta da questão 1.2\n#coluna 'bill_length_mm'\nmedia = data['bill_length_mm'].mean()\nprint(f'A média da coluna bill_length_mm é {media}')\n\ndesvio_padrao = data['bill_length_mm'].std()\nprint(f'O desvio padrão da coluna bill_length_mm é {desvio_padrao}')\n\ndata['bill_length_mm_std'] = data['bill_length_mm'].apply(lambda item: (item - media) / desvio_padrao)\n\ndata.head()",
   "outputs": [
    {
     "name": "stdout",
     "text": "A média da coluna bill_length_mm é 43.99279279279279\nO desvio padrão da coluna bill_length_mm é 5.468668342647559\n",
     "output_type": "stream",
     "data": {}
    },
    {
     "output_type": "execute_result",
     "execution_count": 16,
     "data": {
      "application/vnd.deepnote.dataframe.v3+json": {
       "column_count": 8,
       "row_count": 5,
       "columns": [
        {
         "name": "species",
         "dtype": "object",
         "stats": {
          "unique_count": 1,
          "nan_count": 0,
          "categories": [
           {
            "name": "Adelie",
            "count": 5
           }
          ]
         }
        },
        {
         "name": "island",
         "dtype": "object",
         "stats": {
          "unique_count": 1,
          "nan_count": 0,
          "categories": [
           {
            "name": "Torgersen",
            "count": 5
           }
          ]
         }
        },
        {
         "name": "bill_length_mm",
         "dtype": "float64",
         "stats": {
          "unique_count": 5,
          "nan_count": 0,
          "min": "36.7",
          "max": "40.3",
          "histogram": [
           {
            "bin_start": 36.7,
            "bin_end": 37.06,
            "count": 1
           },
           {
            "bin_start": 37.06,
            "bin_end": 37.42,
            "count": 0
           },
           {
            "bin_start": 37.42,
            "bin_end": 37.78,
            "count": 0
           },
           {
            "bin_start": 37.78,
            "bin_end": 38.14,
            "count": 0
           },
           {
            "bin_start": 38.14,
            "bin_end": 38.5,
            "count": 0
           },
           {
            "bin_start": 38.5,
            "bin_end": 38.86,
            "count": 0
           },
           {
            "bin_start": 38.86,
            "bin_end": 39.22,
            "count": 1
           },
           {
            "bin_start": 39.22,
            "bin_end": 39.58,
            "count": 2
           },
           {
            "bin_start": 39.58,
            "bin_end": 39.94,
            "count": 0
           },
           {
            "bin_start": 39.94,
            "bin_end": 40.3,
            "count": 1
           }
          ]
         }
        },
        {
         "name": "bill_depth_mm",
         "dtype": "float64",
         "stats": {
          "unique_count": 5,
          "nan_count": 0,
          "min": "17.4",
          "max": "20.6",
          "histogram": [
           {
            "bin_start": 17.4,
            "bin_end": 17.72,
            "count": 1
           },
           {
            "bin_start": 17.72,
            "bin_end": 18.04,
            "count": 1
           },
           {
            "bin_start": 18.04,
            "bin_end": 18.36,
            "count": 0
           },
           {
            "bin_start": 18.36,
            "bin_end": 18.68,
            "count": 0
           },
           {
            "bin_start": 18.68,
            "bin_end": 19,
            "count": 1
           },
           {
            "bin_start": 19,
            "bin_end": 19.32,
            "count": 1
           },
           {
            "bin_start": 19.32,
            "bin_end": 19.64,
            "count": 0
           },
           {
            "bin_start": 19.64,
            "bin_end": 19.96,
            "count": 0
           },
           {
            "bin_start": 19.96,
            "bin_end": 20.28,
            "count": 0
           },
           {
            "bin_start": 20.28,
            "bin_end": 20.6,
            "count": 1
           }
          ]
         }
        },
        {
         "name": "flipper_length_mm",
         "dtype": "float64",
         "stats": {
          "unique_count": 5,
          "nan_count": 0,
          "min": "181.0",
          "max": "195.0",
          "histogram": [
           {
            "bin_start": 181,
            "bin_end": 182.4,
            "count": 1
           },
           {
            "bin_start": 182.4,
            "bin_end": 183.8,
            "count": 0
           },
           {
            "bin_start": 183.8,
            "bin_end": 185.2,
            "count": 0
           },
           {
            "bin_start": 185.2,
            "bin_end": 186.6,
            "count": 1
           },
           {
            "bin_start": 186.6,
            "bin_end": 188,
            "count": 0
           },
           {
            "bin_start": 188,
            "bin_end": 189.4,
            "count": 0
           },
           {
            "bin_start": 189.4,
            "bin_end": 190.8,
            "count": 1
           },
           {
            "bin_start": 190.8,
            "bin_end": 192.2,
            "count": 0
           },
           {
            "bin_start": 192.2,
            "bin_end": 193.6,
            "count": 1
           },
           {
            "bin_start": 193.6,
            "bin_end": 195,
            "count": 1
           }
          ]
         }
        },
        {
         "name": "body_mass_g",
         "dtype": "float64",
         "stats": {
          "unique_count": 5,
          "nan_count": 0,
          "min": "3250.0",
          "max": "3800.0",
          "histogram": [
           {
            "bin_start": 3250,
            "bin_end": 3305,
            "count": 1
           },
           {
            "bin_start": 3305,
            "bin_end": 3360,
            "count": 0
           },
           {
            "bin_start": 3360,
            "bin_end": 3415,
            "count": 0
           },
           {
            "bin_start": 3415,
            "bin_end": 3470,
            "count": 1
           },
           {
            "bin_start": 3470,
            "bin_end": 3525,
            "count": 0
           },
           {
            "bin_start": 3525,
            "bin_end": 3580,
            "count": 0
           },
           {
            "bin_start": 3580,
            "bin_end": 3635,
            "count": 0
           },
           {
            "bin_start": 3635,
            "bin_end": 3690,
            "count": 1
           },
           {
            "bin_start": 3690,
            "bin_end": 3745,
            "count": 0
           },
           {
            "bin_start": 3745,
            "bin_end": 3800,
            "count": 2
           }
          ]
         }
        },
        {
         "name": "sex",
         "dtype": "object",
         "stats": {
          "unique_count": 2,
          "nan_count": 0,
          "categories": [
           {
            "name": "Female",
            "count": 3
           },
           {
            "name": "Male",
            "count": 2
           }
          ]
         }
        },
        {
         "name": "bill_length_mm_std",
         "dtype": "float64",
         "stats": {
          "unique_count": 5,
          "nan_count": 0,
          "min": "-1.333559165751513",
          "max": "-0.6752636220402046",
          "histogram": [
           {
            "bin_start": -1.333559165751513,
            "bin_end": -1.267729611380382,
            "count": 1
           },
           {
            "bin_start": -1.267729611380382,
            "bin_end": -1.2019000570092513,
            "count": 0
           },
           {
            "bin_start": -1.2019000570092513,
            "bin_end": -1.1360705026381204,
            "count": 0
           },
           {
            "bin_start": -1.1360705026381204,
            "bin_end": -1.0702409482669895,
            "count": 0
           },
           {
            "bin_start": -1.0702409482669895,
            "bin_end": -1.0044113938958588,
            "count": 0
           },
           {
            "bin_start": -1.0044113938958588,
            "bin_end": -0.9385818395247278,
            "count": 0
           },
           {
            "bin_start": -0.9385818395247278,
            "bin_end": -0.872752285153597,
            "count": 1
           },
           {
            "bin_start": -0.872752285153597,
            "bin_end": -0.8069227307824662,
            "count": 2
           },
           {
            "bin_start": -0.8069227307824662,
            "bin_end": -0.7410931764113354,
            "count": 0
           },
           {
            "bin_start": -0.7410931764113354,
            "bin_end": -0.6752636220402046,
            "count": 1
           }
          ]
         }
        },
        {
         "name": "_deepnote_index_column",
         "dtype": "int64"
        }
       ],
       "rows": [
        {
         "species": "Adelie",
         "island": "Torgersen",
         "bill_length_mm": 39.1,
         "bill_depth_mm": 18.7,
         "flipper_length_mm": 181,
         "body_mass_g": 3750,
         "sex": "Male",
         "bill_length_mm_std": -0.8946954699439736,
         "_deepnote_index_column": 0
        },
        {
         "species": "Adelie",
         "island": "Torgersen",
         "bill_length_mm": 39.5,
         "bill_depth_mm": 17.4,
         "flipper_length_mm": 186,
         "body_mass_g": 3800,
         "sex": "Female",
         "bill_length_mm_std": -0.8215515206427173,
         "_deepnote_index_column": 1
        },
        {
         "species": "Adelie",
         "island": "Torgersen",
         "bill_length_mm": 40.3,
         "bill_depth_mm": 18,
         "flipper_length_mm": 195,
         "body_mass_g": 3250,
         "sex": "Female",
         "bill_length_mm_std": -0.6752636220402046,
         "_deepnote_index_column": 2
        },
        {
         "species": "Adelie",
         "island": "Torgersen",
         "bill_length_mm": 36.7,
         "bill_depth_mm": 19.3,
         "flipper_length_mm": 193,
         "body_mass_g": 3450,
         "sex": "Female",
         "bill_length_mm_std": -1.333559165751513,
         "_deepnote_index_column": 4
        },
        {
         "species": "Adelie",
         "island": "Torgersen",
         "bill_length_mm": 39.3,
         "bill_depth_mm": 20.6,
         "flipper_length_mm": 190,
         "body_mass_g": 3650,
         "sex": "Male",
         "bill_length_mm_std": -0.8581234952933462,
         "_deepnote_index_column": 5
        }
       ]
      },
      "text/plain": "  species     island  bill_length_mm  bill_depth_mm  flipper_length_mm  \\\n0  Adelie  Torgersen            39.1           18.7              181.0   \n1  Adelie  Torgersen            39.5           17.4              186.0   \n2  Adelie  Torgersen            40.3           18.0              195.0   \n4  Adelie  Torgersen            36.7           19.3              193.0   \n5  Adelie  Torgersen            39.3           20.6              190.0   \n\n   body_mass_g     sex  bill_length_mm_std  \n0       3750.0    Male           -0.894695  \n1       3800.0  Female           -0.821552  \n2       3250.0  Female           -0.675264  \n4       3450.0  Female           -1.333559  \n5       3650.0    Male           -0.858123  ",
      "text/html": "<div>\n<style scoped>\n    .dataframe tbody tr th:only-of-type {\n        vertical-align: middle;\n    }\n\n    .dataframe tbody tr th {\n        vertical-align: top;\n    }\n\n    .dataframe thead th {\n        text-align: right;\n    }\n</style>\n<table border=\"1\" class=\"dataframe\">\n  <thead>\n    <tr style=\"text-align: right;\">\n      <th></th>\n      <th>species</th>\n      <th>island</th>\n      <th>bill_length_mm</th>\n      <th>bill_depth_mm</th>\n      <th>flipper_length_mm</th>\n      <th>body_mass_g</th>\n      <th>sex</th>\n      <th>bill_length_mm_std</th>\n    </tr>\n  </thead>\n  <tbody>\n    <tr>\n      <th>0</th>\n      <td>Adelie</td>\n      <td>Torgersen</td>\n      <td>39.1</td>\n      <td>18.7</td>\n      <td>181.0</td>\n      <td>3750.0</td>\n      <td>Male</td>\n      <td>-0.894695</td>\n    </tr>\n    <tr>\n      <th>1</th>\n      <td>Adelie</td>\n      <td>Torgersen</td>\n      <td>39.5</td>\n      <td>17.4</td>\n      <td>186.0</td>\n      <td>3800.0</td>\n      <td>Female</td>\n      <td>-0.821552</td>\n    </tr>\n    <tr>\n      <th>2</th>\n      <td>Adelie</td>\n      <td>Torgersen</td>\n      <td>40.3</td>\n      <td>18.0</td>\n      <td>195.0</td>\n      <td>3250.0</td>\n      <td>Female</td>\n      <td>-0.675264</td>\n    </tr>\n    <tr>\n      <th>4</th>\n      <td>Adelie</td>\n      <td>Torgersen</td>\n      <td>36.7</td>\n      <td>19.3</td>\n      <td>193.0</td>\n      <td>3450.0</td>\n      <td>Female</td>\n      <td>-1.333559</td>\n    </tr>\n    <tr>\n      <th>5</th>\n      <td>Adelie</td>\n      <td>Torgersen</td>\n      <td>39.3</td>\n      <td>20.6</td>\n      <td>190.0</td>\n      <td>3650.0</td>\n      <td>Male</td>\n      <td>-0.858123</td>\n    </tr>\n  </tbody>\n</table>\n</div>"
     },
     "metadata": {}
    }
   ],
   "execution_count": null
  },
  {
   "cell_type": "code",
   "source": "",
   "metadata": {
    "tags": [],
    "cell_id": "00018-8c43b638-3157-4ceb-b737-4e8759b7a303",
    "deepnote_cell_type": "code"
   },
   "outputs": [],
   "execution_count": null
  },
  {
   "cell_type": "markdown",
   "source": "### **1.3. Variáveis categóricas** ",
   "metadata": {
    "id": "TTh7w8rgkznY",
    "cell_id": "00016-df210da5-b9c1-41a0-a060-9b3fa07eb152",
    "deepnote_cell_type": "markdown"
   }
  },
  {
   "cell_type": "markdown",
   "source": "Identifique as variáveis categóricas nominais e ordinais, crie uma nova coluna aplicando a técnica correta de conversão a seus valores. A nova coluna deve ter o mesmo nome da coluna original acrescidade de \"*_nom*\" ou \"*_ord*\".",
   "metadata": {
    "id": "clBerimQs2PY",
    "cell_id": "00017-8ada2f4d-acd6-4898-b662-815aface3fed",
    "deepnote_cell_type": "markdown"
   }
  },
  {
   "cell_type": "markdown",
   "source": "> **Nota**: Você não deve tratar a variável resposta.",
   "metadata": {
    "id": "BqpAVY109BWA",
    "cell_id": "00018-fd7024ab-eb8e-4df3-bfdc-13ef33d51473",
    "deepnote_cell_type": "markdown"
   }
  },
  {
   "cell_type": "code",
   "metadata": {
    "id": "fohdVuLzkdKP",
    "cell_id": "00019-4435e4e8-4954-4222-8016-f0cb0842b3e4",
    "deepnote_cell_type": "code"
   },
   "source": "# resposta da questão 1.3",
   "execution_count": null,
   "outputs": []
  },
  {
   "cell_type": "markdown",
   "source": "### **1.4. Limpeza** ",
   "metadata": {
    "id": "AvkcQD9E9DGE",
    "cell_id": "00020-1b0abdb3-1bf4-40fd-86ac-8eddfd84598a",
    "deepnote_cell_type": "markdown"
   }
  },
  {
   "cell_type": "markdown",
   "source": "Descarte as colunas originais e mantenha apenas a variável resposta e as variáveis preditivas com o sufixo *_std*\", *_nom*\" e \"*_ord*\". ",
   "metadata": {
    "id": "D03kCy8-9DGE",
    "cell_id": "00021-d7c6baf8-2356-45fc-a23b-760b48452d90",
    "deepnote_cell_type": "markdown"
   }
  },
  {
   "cell_type": "code",
   "metadata": {
    "id": "TuEOO6009DGE",
    "cell_id": "00022-c951051e-72cc-4ae8-8189-5cf7baa249f4",
    "deepnote_cell_type": "code"
   },
   "source": "# resposta da questão 1.4",
   "execution_count": null,
   "outputs": []
  },
  {
   "cell_type": "markdown",
   "source": "---",
   "metadata": {
    "id": "waxn4B2UDHyl",
    "cell_id": "00023-f92916c9-3bf6-4c8f-a150-0607d9e92a96",
    "deepnote_cell_type": "markdown"
   }
  },
  {
   "cell_type": "markdown",
   "source": "<a style='text-decoration:none;line-height:16px;display:flex;color:#5B5B62;padding:10px;justify-content:end;' href='https://deepnote.com?utm_source=created-in-deepnote-cell&projectId=690ec1aa-ed7a-4520-b902-aba6fc5867d1' target=\"_blank\">\n<img alt='Created in deepnote.com' style='display:inline;max-height:16px;margin:0px;margin-right:7.5px;' src='data:image/svg+xml;base64,PD94bWwgdmVyc2lvbj0iMS4wIiBlbmNvZGluZz0iVVRGLTgiPz4KPHN2ZyB3aWR0aD0iODBweCIgaGVpZ2h0PSI4MHB4IiB2aWV3Qm94PSIwIDAgODAgODAiIHZlcnNpb249IjEuMSIgeG1sbnM9Imh0dHA6Ly93d3cudzMub3JnLzIwMDAvc3ZnIiB4bWxuczp4bGluaz0iaHR0cDovL3d3dy53My5vcmcvMTk5OS94bGluayI+CiAgICA8IS0tIEdlbmVyYXRvcjogU2tldGNoIDU0LjEgKDc2NDkwKSAtIGh0dHBzOi8vc2tldGNoYXBwLmNvbSAtLT4KICAgIDx0aXRsZT5Hcm91cCAzPC90aXRsZT4KICAgIDxkZXNjPkNyZWF0ZWQgd2l0aCBTa2V0Y2guPC9kZXNjPgogICAgPGcgaWQ9IkxhbmRpbmciIHN0cm9rZT0ibm9uZSIgc3Ryb2tlLXdpZHRoPSIxIiBmaWxsPSJub25lIiBmaWxsLXJ1bGU9ImV2ZW5vZGQiPgogICAgICAgIDxnIGlkPSJBcnRib2FyZCIgdHJhbnNmb3JtPSJ0cmFuc2xhdGUoLTEyMzUuMDAwMDAwLCAtNzkuMDAwMDAwKSI+CiAgICAgICAgICAgIDxnIGlkPSJHcm91cC0zIiB0cmFuc2Zvcm09InRyYW5zbGF0ZSgxMjM1LjAwMDAwMCwgNzkuMDAwMDAwKSI+CiAgICAgICAgICAgICAgICA8cG9seWdvbiBpZD0iUGF0aC0yMCIgZmlsbD0iIzAyNjVCNCIgcG9pbnRzPSIyLjM3NjIzNzYyIDgwIDM4LjA0NzY2NjcgODAgNTcuODIxNzgyMiA3My44MDU3NTkyIDU3LjgyMTc4MjIgMzIuNzU5MjczOSAzOS4xNDAyMjc4IDMxLjY4MzE2ODMiPjwvcG9seWdvbj4KICAgICAgICAgICAgICAgIDxwYXRoIGQ9Ik0zNS4wMDc3MTgsODAgQzQyLjkwNjIwMDcsNzYuNDU0OTM1OCA0Ny41NjQ5MTY3LDcxLjU0MjI2NzEgNDguOTgzODY2LDY1LjI2MTk5MzkgQzUxLjExMjI4OTksNTUuODQxNTg0MiA0MS42NzcxNzk1LDQ5LjIxMjIyODQgMjUuNjIzOTg0Niw0OS4yMTIyMjg0IEMyNS40ODQ5Mjg5LDQ5LjEyNjg0NDggMjkuODI2MTI5Niw0My4yODM4MjQ4IDM4LjY0NzU4NjksMzEuNjgzMTY4MyBMNzIuODcxMjg3MSwzMi41NTQ0MjUgTDY1LjI4MDk3Myw2Ny42NzYzNDIxIEw1MS4xMTIyODk5LDc3LjM3NjE0NCBMMzUuMDA3NzE4LDgwIFoiIGlkPSJQYXRoLTIyIiBmaWxsPSIjMDAyODY4Ij48L3BhdGg+CiAgICAgICAgICAgICAgICA8cGF0aCBkPSJNMCwzNy43MzA0NDA1IEwyNy4xMTQ1MzcsMC4yNTcxMTE0MzYgQzYyLjM3MTUxMjMsLTEuOTkwNzE3MDEgODAsMTAuNTAwMzkyNyA4MCwzNy43MzA0NDA1IEM4MCw2NC45NjA0ODgyIDY0Ljc3NjUwMzgsNzkuMDUwMzQxNCAzNC4zMjk1MTEzLDgwIEM0Ny4wNTUzNDg5LDc3LjU2NzA4MDggNTMuNDE4MjY3Nyw3MC4zMTM2MTAzIDUzLjQxODI2NzcsNTguMjM5NTg4NSBDNTMuNDE4MjY3Nyw0MC4xMjg1NTU3IDM2LjMwMzk1NDQsMzcuNzMwNDQwNSAyNS4yMjc0MTcsMzcuNzMwNDQwNSBDMTcuODQzMDU4NiwzNy43MzA0NDA1IDkuNDMzOTE5NjYsMzcuNzMwNDQwNSAwLDM3LjczMDQ0MDUgWiIgaWQ9IlBhdGgtMTkiIGZpbGw9IiMzNzkzRUYiPjwvcGF0aD4KICAgICAgICAgICAgPC9nPgogICAgICAgIDwvZz4KICAgIDwvZz4KPC9zdmc+' > </img>\nCreated in <span style='font-weight:600;margin-left:4px;'>Deepnote</span></a>",
   "metadata": {
    "tags": [],
    "created_in_deepnote_cell": true,
    "deepnote_cell_type": "markdown"
   }
  }
 ],
 "nbformat": 4,
 "nbformat_minor": 0,
 "metadata": {
  "colab": {
   "name": "modulo_23_exercicio.ipynb",
   "provenance": [],
   "collapsed_sections": []
  },
  "kernelspec": {
   "name": "python3",
   "display_name": "Python 3"
  },
  "deepnote_notebook_id": "9607ba7e-c93f-43d9-b9f4-e82fcd6a8179",
  "deepnote": {},
  "deepnote_execution_queue": []
 }
}