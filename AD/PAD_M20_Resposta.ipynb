{
 "cells": [
  {
   "cell_type": "markdown",
   "source": "<img src=\"https://raw.githubusercontent.com/andre-marcos-perez/ebac-course-utils/main/media/logo/newebac_logo_black_half.png\" alt=\"ebac-logo\">\n\n---\n\n# **Módulo** | Análise de Dados: Controle de Versão III\nCaderno de **Exercícios**<br> \nProfessor [André Perez](https://www.linkedin.com/in/andremarcosperez/)\n\n---",
   "metadata": {
    "id": "KJqp9AANOCtf",
    "cell_id": "00000-87e3c25f-6d00-421c-9c25-f22253fa9d35",
    "deepnote_cell_type": "markdown"
   }
  },
  {
   "cell_type": "markdown",
   "source": "# **Tópicos**\n\n<ol type=\"1\">\n  <li>Sistema de branchs;</li>\n  <li>Trabalhando com branchs;</li>\n  <li>Mover código entre branchs.</li>\n</ol>",
   "metadata": {
    "id": "d9jDtUbDOE1-",
    "cell_id": "00001-626fe5fd-13b4-45ce-b5b8-602947ce50e3",
    "deepnote_cell_type": "markdown"
   }
  },
  {
   "cell_type": "markdown",
   "source": "---",
   "metadata": {
    "id": "SmoHgt-lwkpD",
    "cell_id": "00002-96b399d4-91bb-45ee-9040-1b246f181174",
    "deepnote_cell_type": "markdown"
   }
  },
  {
   "cell_type": "markdown",
   "source": "# **Exercícios**",
   "metadata": {
    "id": "GABI6OW8OfQ2",
    "cell_id": "00003-744cb4cc-8fc6-4b79-9cf3-1fc96fbb84cb",
    "deepnote_cell_type": "markdown"
   }
  },
  {
   "cell_type": "markdown",
   "source": "## 1\\. Setup",
   "metadata": {
    "id": "kzRDceCvkFj2",
    "cell_id": "00004-e6525c6a-e887-4fee-b0be-625c5553fd67",
    "deepnote_cell_type": "markdown"
   }
  },
  {
   "cell_type": "markdown",
   "source": "Para realizar os exercicios vamos configurar o `git` e trazer o projeto do GitHub para a a máquina virtual do Google Colab (ou na sua máquina local, as instruções são as mesmas). Para tanto, replique as atividades expostas na aula 1 deste módulo. ",
   "metadata": {
    "id": "WCQi-s0Hpd5V",
    "cell_id": "00005-2fb2bf0c-066d-4163-9266-a123b4425c01",
    "deepnote_cell_type": "markdown"
   }
  },
  {
   "cell_type": "markdown",
   "source": "### **1.1. Autenticação** ",
   "metadata": {
    "id": "HrTLgE0tki6P",
    "cell_id": "00006-2f64e326-5b61-477a-8369-9e5d85f19f39",
    "deepnote_cell_type": "markdown"
   }
  },
  {
   "cell_type": "markdown",
   "source": "Nesta etapa, vamos configura o `git` com suas credenciais.",
   "metadata": {
    "id": "7tIjNOs8q6aZ",
    "cell_id": "00007-8e839380-9930-468a-b497-c087279917af",
    "deepnote_cell_type": "markdown"
   }
  },
  {
   "cell_type": "code",
   "metadata": {
    "id": "IwTTh4VKkdKN",
    "cell_id": "00008-0dc274cd-291a-4a50-b4d1-516dd0362a5b",
    "deepnote_cell_type": "code"
   },
   "source": "import os\n\nusername = \"<seu-usuario-git>\" # insira o seu nome de usuário do git\nos.environ[\"GITHUB_USER\"] = username\n\n!git config --global user.name \"${GITHUB_USER}\"",
   "execution_count": null,
   "outputs": []
  },
  {
   "cell_type": "code",
   "metadata": {
    "id": "8gt4Y28skdKO",
    "cell_id": "00009-34c8fd52-585b-4436-a2c5-092e51b9ed2e",
    "deepnote_cell_type": "code"
   },
   "source": "import os\nfrom getpass import getpass\n\nusermail = getpass()\nos.environ[\"GITHUB_MAIL\"] = usermail\n\n!git config --global user.email \"${GITHUB_MAIL}\"",
   "execution_count": null,
   "outputs": []
  },
  {
   "cell_type": "code",
   "metadata": {
    "id": "BS6vMNnCkdKO",
    "cell_id": "00010-24b8b8c8-2faa-4362-afb5-eaba0e81729f",
    "deepnote_cell_type": "code"
   },
   "source": "import os\nfrom getpass import getpass\n\nusertoken = getpass()\nos.environ[\"GITHUB_TOKEN\"] = usertoken",
   "execution_count": null,
   "outputs": []
  },
  {
   "cell_type": "markdown",
   "source": "### **1.2. Projeto** ",
   "metadata": {
    "id": "TTh7w8rgkznY",
    "cell_id": "00011-fa20103f-8c79-4f7b-b95d-97cad2c469af",
    "deepnote_cell_type": "markdown"
   }
  },
  {
   "cell_type": "markdown",
   "source": "Nesta etapa, vamos trazer o projeto do GitHub para máquina local.",
   "metadata": {
    "id": "clBerimQs2PY",
    "cell_id": "00012-49fe97f2-eb1f-41cc-baad-8ce29783c05e",
    "deepnote_cell_type": "markdown"
   }
  },
  {
   "cell_type": "code",
   "metadata": {
    "id": "fohdVuLzkdKP",
    "cell_id": "00013-d8b2c021-48a6-428e-ba8b-20e9f62813c8",
    "deepnote_cell_type": "code"
   },
   "source": "!git clone <link-repo-remoto> # insira o link do seu repositório remoto",
   "execution_count": null,
   "outputs": []
  },
  {
   "cell_type": "code",
   "metadata": {
    "id": "5-FAaAQXkdKP",
    "cell_id": "00014-a126c837-a856-4a0e-96e7-5053c23a960b",
    "deepnote_cell_type": "code"
   },
   "source": "%cd /content/<nome-do-repo>/ # insira o nome do seu repositório",
   "execution_count": null,
   "outputs": []
  },
  {
   "cell_type": "markdown",
   "source": "---",
   "metadata": {
    "id": "waxn4B2UDHyl",
    "cell_id": "00015-f7099193-252b-4932-99db-5b1108238a13",
    "deepnote_cell_type": "markdown"
   }
  },
  {
   "cell_type": "markdown",
   "source": "## 2\\. Preço da gasolina",
   "metadata": {
    "id": "finLQoyyGVmk",
    "cell_id": "00016-51607669-dabd-4564-bb4d-764742c3d024",
    "deepnote_cell_type": "markdown"
   }
  },
  {
   "cell_type": "markdown",
   "source": "O código abaixo gera um arquivo com o preço médio de venda da gasolina na cidade de São Paulo nos 10 primeiros dias de Julho de 2021.",
   "metadata": {
    "id": "7dJne-O92n2v",
    "cell_id": "00017-04be0b65-a976-4430-ad64-deec178990c7",
    "deepnote_cell_type": "markdown"
   }
  },
  {
   "cell_type": "markdown",
   "source": "> **Nota**: Este arquivo é o mesmo do exercício do módulo anterior.",
   "metadata": {
    "id": "O_uRYGzqy8OV",
    "cell_id": "00018-96d40827-21bf-4345-9a37-483fbfa96cc0",
    "deepnote_cell_type": "markdown"
   }
  },
  {
   "cell_type": "code",
   "metadata": {
    "id": "Uhvy1LG31n1A",
    "cell_id": "00019-dc2664fc-3ede-4d53-abaa-96743c86599f",
    "deepnote_cell_type": "code"
   },
   "source": "%%writefile gasolina.csv\ndia,venda\n1,5.11\n2,4.99\n3,5.02\n4,5.21\n5,5.07\n6,5.09\n7,5.13\n8,5.12\n9,4.94\n10,5.03",
   "execution_count": null,
   "outputs": []
  },
  {
   "cell_type": "markdown",
   "source": "### **2.1. Branch** ",
   "metadata": {
    "id": "lcNhd195zE3t",
    "cell_id": "00020-87490f54-7d31-4c31-b9c4-1f29e0d58757",
    "deepnote_cell_type": "markdown"
   }
  },
  {
   "cell_type": "markdown",
   "source": "Crie uma branch chamada `develop` e aponte o context do `git` para a nova branch. Vamos simular uma atualização no exercício do módulo anterior.",
   "metadata": {
    "id": "vK0ZbC9ozG4m",
    "cell_id": "00021-026c2950-bd2d-47e1-9672-8b731561ef02",
    "deepnote_cell_type": "markdown"
   }
  },
  {
   "cell_type": "code",
   "metadata": {
    "id": "Hz6irIJszysS",
    "cell_id": "00022-0a46505b-bf5e-4342-aba5-5ada7c41b386",
    "deepnote_cell_type": "code"
   },
   "source": "# código de criação da branch develop",
   "execution_count": null,
   "outputs": []
  },
  {
   "cell_type": "markdown",
   "source": "### **2.2. Desenvolvimento** ",
   "metadata": {
    "id": "eun0qdii21WO",
    "cell_id": "00023-f8b48793-1666-425a-8cb5-d2aec377a397",
    "deepnote_cell_type": "markdown"
   }
  },
  {
   "cell_type": "markdown",
   "source": "Gere uma gráfico de linha utilizando os dados do arquivo `gasolina.csv` com o dia no eixo `x`\u001d e o seu preço no eixo `y` utilizando os pacotes Python de sua preferência, como o Pandas e o Seaborn. Salve o gráfico no arquivo `gasolina.png` e o seu código Python de geração no arquivo `gasolina.py`.",
   "metadata": {
    "id": "5MiknLIh2460",
    "cell_id": "00024-091535c6-7bfb-4d44-b312-68dbc7b4e50a",
    "deepnote_cell_type": "markdown"
   }
  },
  {
   "cell_type": "markdown",
   "source": "> **Nota**: Este gráfico deve alguns elementos diferente do anterior, como título, legenda, etc.",
   "metadata": {
    "id": "8B3QgjlpzYdI",
    "cell_id": "00025-bcf38554-3888-4ac2-a1ac-92ec9ce36b8c",
    "deepnote_cell_type": "markdown"
   }
  },
  {
   "cell_type": "code",
   "metadata": {
    "id": "PPzewPcD3Z8n",
    "cell_id": "00026-ab5453e2-f42a-471c-b2b1-77a258febbe4",
    "deepnote_cell_type": "code"
   },
   "source": "# código de geração do gráfico ",
   "execution_count": null,
   "outputs": []
  },
  {
   "cell_type": "markdown",
   "source": "### **2.3. Git** ",
   "metadata": {
    "id": "T51dv46X3YoT",
    "cell_id": "00027-0c4fb4c6-992c-4ebc-9c0e-46b5d994577a",
    "deepnote_cell_type": "markdown"
   }
  },
  {
   "cell_type": "markdown",
   "source": "Utilizando os comandos do `git`, adicione e \"commite\" os arquivos gerados (base, código Python e gráfico) na branch `develop`.",
   "metadata": {
    "id": "iyb6rFFX3YoU",
    "cell_id": "00028-a7e9b6dc-b1da-4453-a002-7c4d11a69600",
    "deepnote_cell_type": "markdown"
   }
  },
  {
   "cell_type": "code",
   "metadata": {
    "id": "tRAunRfR4RfG",
    "cell_id": "00029-115cb679-1f79-4cd3-a5f5-9759d3ade175",
    "deepnote_cell_type": "code"
   },
   "source": "# comandos git para adicionar e commitar os arquivos",
   "execution_count": null,
   "outputs": []
  },
  {
   "cell_type": "markdown",
   "source": "### **2.4. Github** ",
   "metadata": {
    "id": "ozAPHQJu4P00",
    "cell_id": "00030-bbababe3-b578-4243-be75-0cdd2db4c53a",
    "deepnote_cell_type": "markdown"
   }
  },
  {
   "cell_type": "markdown",
   "source": "Utilizando os comandos do `git`, envie o seu commit para o GitHub.",
   "metadata": {
    "id": "2JkFXRdW4P01",
    "cell_id": "00031-11981b64-59ad-4019-a4e9-1cd773b7dd67",
    "deepnote_cell_type": "markdown"
   }
  },
  {
   "cell_type": "code",
   "metadata": {
    "id": "xEKWMYH75FfC",
    "cell_id": "00032-d17030ca-153d-43c2-a627-c836ea20f310",
    "deepnote_cell_type": "code"
   },
   "source": "# comandos git para enviar o commit para o GitHub",
   "execution_count": null,
   "outputs": []
  },
  {
   "cell_type": "markdown",
   "source": "",
   "metadata": {
    "id": "HX7eUrz90DoF",
    "cell_id": "00033-25b2ea1e-d637-477d-8523-e8d2f1816ed1",
    "deepnote_cell_type": "markdown"
   }
  },
  {
   "cell_type": "markdown",
   "source": "### **2.5. Pull Request e Merge** ",
   "metadata": {
    "id": "fM_de4pA0D54",
    "cell_id": "00034-bdf7755e-dd86-4946-98db-8aa755e02e51",
    "deepnote_cell_type": "markdown"
   }
  },
  {
   "cell_type": "markdown",
   "source": "No GitHub, crie um *pull request* (PR) para enviar o código da branch de `develop` para a branch `main`. Ainda na plataforma online, confira as atualizações, aprove o PR e realize o *merge*.",
   "metadata": {
    "id": "w9byTlNc0D55",
    "cell_id": "00035-05cc301d-aa7d-4d5b-a49b-549da3811eff",
    "deepnote_cell_type": "markdown"
   }
  },
  {
   "cell_type": "markdown",
   "source": "---",
   "metadata": {
    "id": "As3enQc2GVm1",
    "cell_id": "00036-e9d62241-4cbe-472a-ae74-6fa62cb1e288",
    "deepnote_cell_type": "markdown"
   }
  },
  {
   "cell_type": "markdown",
   "source": "<a style='text-decoration:none;line-height:16px;display:flex;color:#5B5B62;padding:10px;justify-content:end;' href='https://deepnote.com?utm_source=created-in-deepnote-cell&projectId=690ec1aa-ed7a-4520-b902-aba6fc5867d1' target=\"_blank\">\n<img alt='Created in deepnote.com' style='display:inline;max-height:16px;margin:0px;margin-right:7.5px;' src='data:image/svg+xml;base64,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' > </img>\nCreated in <span style='font-weight:600;margin-left:4px;'>Deepnote</span></a>",
   "metadata": {
    "tags": [],
    "created_in_deepnote_cell": true,
    "deepnote_cell_type": "markdown"
   }
  }
 ],
 "nbformat": 4,
 "nbformat_minor": 0,
 "metadata": {
  "colab": {
   "name": "module_20_exercise.ipynb",
   "provenance": [],
   "collapsed_sections": []
  },
  "kernelspec": {
   "name": "python3",
   "display_name": "Python 3"
  },
  "deepnote_notebook_id": "396717ee-2b17-4eaa-b109-3843facfaffa",
  "deepnote": {},
  "deepnote_execution_queue": []
 }
}