{
 "cells": [
  {
   "cell_type": "markdown",
   "source": "<img src=\"https://raw.githubusercontent.com/andre-marcos-perez/ebac-course-utils/main/media/logo/newebac_logo_black_half.png\" alt=\"ebac-logo\">\n\n---\n\n# **Módulo** | Análise de Dados: Visualização de Dados I\nCaderno de **Exercícios**<br> \nProfessor [André Perez](https://www.linkedin.com/in/andremarcosperez/)\n\n---",
   "metadata": {
    "id": "KJqp9AANOCtf",
    "cell_id": "00000-93d0b58f-90d0-4b30-a5a8-05e13796d5cb",
    "deepnote_cell_type": "markdown"
   }
  },
  {
   "cell_type": "markdown",
   "source": "# **Tópicos**\n\n<ol type=\"1\">\n  <li>Pacote Seaborn;</li>\n  <li>Categorias: Gráficos de Barras e de Setores;</li>\n  <li>Tendências: Gráficos de Linha e de Área.</li>\n</ol>",
   "metadata": {
    "id": "d9jDtUbDOE1-",
    "cell_id": "00001-bac86ba6-4f5f-4ba5-82dc-bc801e5ad696",
    "deepnote_cell_type": "markdown"
   }
  },
  {
   "cell_type": "markdown",
   "source": "---",
   "metadata": {
    "id": "SmoHgt-lwkpD",
    "cell_id": "00002-398b2ca9-19a1-42df-b0f9-4c154e815b29",
    "deepnote_cell_type": "markdown"
   }
  },
  {
   "cell_type": "markdown",
   "source": "# **Exercícios**",
   "metadata": {
    "id": "GABI6OW8OfQ2",
    "cell_id": "00003-c5395c44-9fd6-4944-8e95-72754509f4be",
    "deepnote_cell_type": "markdown"
   }
  },
  {
   "cell_type": "markdown",
   "source": "Nestes exercícios, você deve decidir qual é o gráfico visto em aula que melhor visualiza uma base de dados. Após decidir, você deverá criar a visualização usando o conteúdo exposto durante a aula e adicionar um pequeno parágrafo sobre um insights que pode ser extraido do gráfico.",
   "metadata": {
    "id": "45DbYPgFhuR7",
    "cell_id": "00004-13809312-8800-402f-8026-ddb623748e48",
    "deepnote_cell_type": "markdown"
   }
  },
  {
   "cell_type": "markdown",
   "source": "## 1\\. Preço do diamante por tipo de corte",
   "metadata": {
    "id": "GWgNoJN8DHyY",
    "cell_id": "00005-c3f18e13-c34a-4af4-8b92-5a48e6e7a328",
    "deepnote_cell_type": "markdown"
   }
  },
  {
   "cell_type": "code",
   "metadata": {
    "id": "7w8cSL1sdVdC",
    "cell_id": "00006-598c4f74-2da4-4718-a880-6d388905b6ca",
    "deepnote_cell_type": "code"
   },
   "source": "import seaborn as sns\n\ndata = sns.load_dataset(\"diamonds\")\ndata.head()",
   "execution_count": null,
   "outputs": []
  },
  {
   "cell_type": "code",
   "metadata": {
    "id": "FzomRhmMc_QN",
    "cell_id": "00007-4b9cf98e-ef2f-4738-9ed0-eaa8a094f6bb",
    "deepnote_cell_type": "code"
   },
   "source": "# gráfico do exercício 1\n\ndiamonds = ...",
   "execution_count": null,
   "outputs": []
  },
  {
   "cell_type": "markdown",
   "source": "**Insight do gráfico 1**: ...",
   "metadata": {
    "id": "T1v54HT4lEfs",
    "cell_id": "00008-f30e15f7-9683-47c2-927f-b77df0d20056",
    "deepnote_cell_type": "markdown"
   }
  },
  {
   "cell_type": "markdown",
   "source": "---",
   "metadata": {
    "id": "QPUo5mDTdtRY",
    "cell_id": "00009-2340b677-cff3-4a8d-bc2b-d11eb771dff2",
    "deepnote_cell_type": "markdown"
   }
  },
  {
   "cell_type": "markdown",
   "source": "## 2\\. Número de passageiros em dezembro por ano",
   "metadata": {
    "id": "wWfZ8iu9dwzz",
    "cell_id": "00010-e1209050-e087-465c-9349-8e75bbd75339",
    "deepnote_cell_type": "markdown"
   }
  },
  {
   "cell_type": "code",
   "metadata": {
    "id": "rf3l0_fpdwz0",
    "cell_id": "00011-5a68ed11-9e04-404a-b82d-51e8e87d9779",
    "deepnote_cell_type": "code"
   },
   "source": "import seaborn as sns\n\ndata = sns.load_dataset(\"flights\")\ndata.head()",
   "execution_count": null,
   "outputs": []
  },
  {
   "cell_type": "code",
   "metadata": {
    "id": "GS8LOuQjdwz1",
    "cell_id": "00012-b1003a2b-cd8d-46bd-a7d1-467af0c50250",
    "deepnote_cell_type": "code"
   },
   "source": "# gráfico do exercício 2\n\nflights = ...",
   "execution_count": null,
   "outputs": []
  },
  {
   "cell_type": "markdown",
   "source": "**Insight do gráfico 2**: ...",
   "metadata": {
    "id": "hKg9CwX6lM3r",
    "cell_id": "00013-7e958ca5-71af-4a1d-8edc-d9bc03452cf1",
    "deepnote_cell_type": "markdown"
   }
  },
  {
   "cell_type": "markdown",
   "source": "---",
   "metadata": {
    "id": "ucbXdtR4dwz1",
    "cell_id": "00014-5b705320-5433-4b4b-8ce8-708ce87ff95c",
    "deepnote_cell_type": "markdown"
   }
  },
  {
   "cell_type": "markdown",
   "source": "## 3\\. Numero de passageiros por mês entre 1949 e 1959",
   "metadata": {
    "id": "OybuTdyXdxdS",
    "cell_id": "00015-ffc934c4-505d-4fe2-b8c2-93534b8e80bd",
    "deepnote_cell_type": "markdown"
   }
  },
  {
   "cell_type": "code",
   "metadata": {
    "id": "b-ssImdhdxdT",
    "cell_id": "00016-12fdae81-a44f-404a-9456-500a60f26b20",
    "deepnote_cell_type": "code"
   },
   "source": "import seaborn as sns\n\ndata = sns.load_dataset(\"flights\")\ndata.head()",
   "execution_count": null,
   "outputs": []
  },
  {
   "cell_type": "code",
   "metadata": {
    "id": "Eg4JROvTdxdT",
    "cell_id": "00017-919c8918-9cd6-4901-882f-3ea0d7aeb2dc",
    "deepnote_cell_type": "code"
   },
   "source": "# gráfico do exercício 3\n\nflights = ...",
   "execution_count": null,
   "outputs": []
  },
  {
   "cell_type": "markdown",
   "source": "**Insight do gráfico 3**: ...",
   "metadata": {
    "id": "OpIwRWGzlO8Y",
    "cell_id": "00018-8eb102eb-8bbd-454c-837b-eb2d38ac15c4",
    "deepnote_cell_type": "markdown"
   }
  },
  {
   "cell_type": "markdown",
   "source": "---",
   "metadata": {
    "id": "wmFKH-DAdxdU",
    "cell_id": "00019-248d2d7c-6242-4461-bb4a-a9827ae370a5",
    "deepnote_cell_type": "markdown"
   }
  },
  {
   "cell_type": "markdown",
   "source": "<a style='text-decoration:none;line-height:16px;display:flex;color:#5B5B62;padding:10px;justify-content:end;' href='https://deepnote.com?utm_source=created-in-deepnote-cell&projectId=690ec1aa-ed7a-4520-b902-aba6fc5867d1' target=\"_blank\">\n<img alt='Created in deepnote.com' style='display:inline;max-height:16px;margin:0px;margin-right:7.5px;' src='data:image/svg+xml;base64,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' > </img>\nCreated in <span style='font-weight:600;margin-left:4px;'>Deepnote</span></a>",
   "metadata": {
    "tags": [],
    "created_in_deepnote_cell": true,
    "deepnote_cell_type": "markdown"
   }
  }
 ],
 "nbformat": 4,
 "nbformat_minor": 0,
 "metadata": {
  "colab": {
   "name": "module_14_exercise.ipynb",
   "provenance": [],
   "collapsed_sections": [],
   "toc_visible": true
  },
  "kernelspec": {
   "name": "python3",
   "display_name": "Python 3"
  },
  "deepnote_notebook_id": "303bebf2-3e4c-48dc-9b27-c10aa433d403",
  "deepnote": {},
  "deepnote_execution_queue": []
 }
}