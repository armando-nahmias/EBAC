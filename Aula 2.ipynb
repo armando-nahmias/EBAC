{
 "cells": [
  {
   "cell_type": "markdown",
   "source": "<img src=\"https://raw.githubusercontent.com/andre-marcos-perez/ebac-course-utils/main/media/logo/newebac_logo_black_half.png\" alt=\"ebac-logo\">\n\n---\n\n# **Módulo 02** | Python: Estruturas de Dados\nCaderno de **Aula**<br> \nProfessor [André Perez](https://www.linkedin.com/in/andremarcosperez/)\n\n---",
   "metadata": {
    "id": "KJqp9AANOCtf",
    "cell_id": "00000-29f9df8e-1fb9-4d02-9af2-0433869f05cd",
    "deepnote_cell_type": "markdown"
   }
  },
  {
   "cell_type": "markdown",
   "source": "# **Tópicos**\n\n<ol type=\"1\">\n  <li>Listas;</li>\n  <li>Conjuntos;</li>\n  <li>Dicionários.</li>\n</ol>",
   "metadata": {
    "id": "d9jDtUbDOE1-",
    "cell_id": "00001-e9c3deb5-0904-4920-a91c-d500b670f6db",
    "deepnote_cell_type": "markdown"
   }
  },
  {
   "cell_type": "markdown",
   "source": "---",
   "metadata": {
    "id": "SmoHgt-lwkpD",
    "cell_id": "00002-717a1556-3911-4737-b7ba-72d3340ca407",
    "deepnote_cell_type": "markdown"
   }
  },
  {
   "cell_type": "markdown",
   "source": "# **Aulas**",
   "metadata": {
    "id": "GABI6OW8OfQ2",
    "cell_id": "00003-1456ef10-1a73-4d5d-b2b1-8e60e67bd107",
    "deepnote_cell_type": "markdown"
   }
  },
  {
   "cell_type": "markdown",
   "source": "## 1\\. Listas",
   "metadata": {
    "id": "muD1vxozykSC",
    "cell_id": "00004-717e64be-973e-4870-9987-13386ca34efd",
    "deepnote_cell_type": "markdown"
   }
  },
  {
   "cell_type": "markdown",
   "source": "### **1.1. Motivação** ",
   "metadata": {
    "id": "5a3_syBIP6yO",
    "cell_id": "00005-09ec056b-fe8d-4987-b306-3613c7299c39",
    "deepnote_cell_type": "markdown"
   }
  },
  {
   "cell_type": "markdown",
   "source": "O aplicativo do seu banco registra toda a sua movimentação financeira. O final do dia, o app consolida o saldo final para que você possa controlar sua vida financeira.",
   "metadata": {
    "id": "BmXmjEay_JOP",
    "cell_id": "00006-755cf1c5-7b2e-41bf-b076-19fd9d43a2e3",
    "deepnote_cell_type": "markdown"
   }
  },
  {
   "cell_type": "code",
   "metadata": {
    "id": "9N1LJEm7AlyF",
    "cell_id": "00007-59dfa172-356e-44c2-b249-7f349bcbe66c",
    "deepnote_cell_type": "code"
   },
   "source": "dia_11_saldo_inicial = 1000",
   "execution_count": null,
   "outputs": []
  },
  {
   "cell_type": "code",
   "metadata": {
    "id": "K_kN8YZm_5gv",
    "cell_id": "00008-1b6d578b-5816-451e-938d-afd600cf8f37",
    "deepnote_cell_type": "code"
   },
   "source": "dia_11_transacao_1 = 243\ndia_11_transacao_2 = -798.58\ndia_11_transacao_3 = 427.12\ndia_11_transacao_4 = -10.91",
   "execution_count": null,
   "outputs": []
  },
  {
   "cell_type": "code",
   "metadata": {
    "id": "oPuPUmzfAojH",
    "cell_id": "00009-7992c715-0e4b-463e-9f7c-c8e5638c8079",
    "deepnote_cell_type": "code"
   },
   "source": "dia_11_saldo_final = dia_11_saldo_inicial + dia_11_transacao_1 + dia_11_transacao_2 + dia_11_transacao_3 + dia_11_transacao_4",
   "execution_count": null,
   "outputs": []
  },
  {
   "cell_type": "code",
   "metadata": {
    "id": "vIGCRWomqbsl",
    "cell_id": "00010-5453145c-a8cb-453a-b540-823d6fa66dbe",
    "deepnote_cell_type": "code"
   },
   "source": "print(dia_11_saldo_final)",
   "execution_count": null,
   "outputs": []
  },
  {
   "cell_type": "markdown",
   "source": "Será que exista uma forma melhor de armazenar as transações diárias?",
   "metadata": {
    "id": "TfDH4namA43t",
    "cell_id": "00011-e2584e38-4424-4d55-9a1c-315f549d08c5",
    "deepnote_cell_type": "markdown"
   }
  },
  {
   "cell_type": "markdown",
   "source": "### **1.2. Definição** ",
   "metadata": {
    "id": "E6D5rjlESJ1A",
    "cell_id": "00012-68b5e37a-6868-46fa-9196-9263426a39fd",
    "deepnote_cell_type": "markdown"
   }
  },
  {
   "cell_type": "markdown",
   "source": "Armazenam sequências mutáveis e ordenadas de valores. São do tipo `list`:\n",
   "metadata": {
    "id": "ajMuhMQx3bfB",
    "cell_id": "00013-10852279-a2da-45c2-a535-dab128df37b3",
    "deepnote_cell_type": "markdown"
   }
  },
  {
   "cell_type": "code",
   "metadata": {
    "id": "mtCBXOvB3bfd",
    "cell_id": "00014-8a1d39e8-7df3-4f1a-9b2c-abbdd2cce38a",
    "deepnote_cell_type": "code"
   },
   "source": "usuario_web = ['André Perez', 'andre.perez', 'andre123', 'andre.perez@gmail.com']\n\nprint(usuario_web)\nprint(type(usuario_web))",
   "execution_count": null,
   "outputs": []
  },
  {
   "cell_type": "code",
   "metadata": {
    "id": "IDyGAYp13bfe",
    "cell_id": "00015-913ecb81-012a-45c7-9ed6-d9924e4a2699",
    "deepnote_cell_type": "code"
   },
   "source": "idade = 20\nsaldo_em_conta = 723.15\nusuario_loggedin = True\n\nusuario_web = ['André Perez', idade, 'andre.perez', 'andre123', 'andre.perez@gmail.com', saldo_em_conta, usuario_loggedin]\n\nprint(usuario_web)\nprint(type(usuario_web))",
   "execution_count": null,
   "outputs": []
  },
  {
   "cell_type": "markdown",
   "source": "### **1.3. Operações** ",
   "metadata": {
    "id": "wNkFG1qKSU9M",
    "cell_id": "00016-34541eef-7231-40db-bb27-d00b3b5808fd",
    "deepnote_cell_type": "markdown"
   }
  },
  {
   "cell_type": "markdown",
   "source": "As operações da estrutura do tipo *list* são:\n\n\n*   `+` (concatenação).",
   "metadata": {
    "id": "okUlGror3kEO",
    "cell_id": "00017-682526c6-30b7-406c-9c91-44745bec94a3",
    "deepnote_cell_type": "markdown"
   }
  },
  {
   "cell_type": "markdown",
   "source": "**Exemplo**: Fabricantes de *hardware* mobile",
   "metadata": {
    "id": "gI0uX4ba3xRt",
    "cell_id": "00018-52ff7c09-2df2-4d9a-a6b3-b29361f22470",
    "deepnote_cell_type": "markdown"
   }
  },
  {
   "cell_type": "code",
   "metadata": {
    "id": "_yq5ifl536nt",
    "cell_id": "00019-c897165b-2bc7-44fe-8fcf-f103043555d1",
    "deepnote_cell_type": "code"
   },
   "source": "fabricantes_mobile_china = ['xiaomi', 'huawei']\nfabricantes_mobile_eua = ['apple', 'motorola']\nfabricantes_mobile = fabricantes_mobile_china + fabricantes_mobile_eua\n\nprint(fabricantes_mobile_china)\nprint(fabricantes_mobile_eua)\nprint(fabricantes_mobile)",
   "execution_count": null,
   "outputs": []
  },
  {
   "cell_type": "markdown",
   "source": "Outra operação muito utilizada é a de fatiamento (*slicing*), semelhante ao de *strings*:",
   "metadata": {
    "id": "ND9FzyEn5kFs",
    "cell_id": "00020-cbff1423-795e-4996-ad4b-ca570d9fa5e3",
    "deepnote_cell_type": "markdown"
   }
  },
  {
   "cell_type": "markdown",
   "source": "Fatiamento fixo:",
   "metadata": {
    "id": "Y8b_DalN5x3D",
    "cell_id": "00021-5763c134-3538-46ee-9354-4e4a408a3fe0",
    "deepnote_cell_type": "markdown"
   }
  },
  {
   "cell_type": "code",
   "metadata": {
    "id": "sDxRHUKp5wFw",
    "cell_id": "00022-46a67371-ff65-40d7-9513-7c5c03a585eb",
    "deepnote_cell_type": "code"
   },
   "source": "print(f'0: {fabricantes_mobile[0]}')\nprint(f'-1: {fabricantes_mobile[-1]}')",
   "execution_count": null,
   "outputs": []
  },
  {
   "cell_type": "markdown",
   "source": "Fatiamento por intervalo:",
   "metadata": {
    "id": "-xHG7dS16Qb4",
    "cell_id": "00023-d8a279eb-45eb-4334-95e4-e3607c1f57d5",
    "deepnote_cell_type": "markdown"
   }
  },
  {
   "cell_type": "code",
   "metadata": {
    "id": "09r1FMtN6USi",
    "cell_id": "00024-3410da0d-1e2d-41be-bd44-48060b3f0763",
    "deepnote_cell_type": "code"
   },
   "source": "fabricantes_mobile_china = fabricantes_mobile[0:2]\nfabricantes_mobile_eua = fabricantes_mobile[2:len(fabricantes_mobile)]\n\nprint('china: ' + str(fabricantes_mobile_china))\nprint('eua: ' + str(fabricantes_mobile_eua))\n",
   "execution_count": null,
   "outputs": []
  },
  {
   "cell_type": "markdown",
   "source": "Podemos adicionar elementos a uma posição específica da lista:",
   "metadata": {
    "id": "WH9TnU_z7hUt",
    "cell_id": "00025-33c6f438-c24d-42f8-b230-5bfe48630710",
    "deepnote_cell_type": "markdown"
   }
  },
  {
   "cell_type": "code",
   "metadata": {
    "id": "DKYvexvX7p1_",
    "cell_id": "00026-cb720a19-6aee-4013-ad4b-b301a889345d",
    "deepnote_cell_type": "code"
   },
   "source": "print(fabricantes_mobile)",
   "execution_count": null,
   "outputs": []
  },
  {
   "cell_type": "code",
   "metadata": {
    "id": "eGYIk-vX8DQs",
    "cell_id": "00027-889d5463-942e-447b-a81f-8c3e6a5a7dda",
    "deepnote_cell_type": "code"
   },
   "source": "fabricantes_mobile[2] = 'nokia'\nprint(fabricantes_mobile)",
   "execution_count": null,
   "outputs": []
  },
  {
   "cell_type": "markdown",
   "source": "### **1.4. Métodos**",
   "metadata": {
    "id": "8rRaHG5K6-h3",
    "cell_id": "00028-34b15a9e-90d6-4a56-9af5-76d10ab645f4",
    "deepnote_cell_type": "markdown"
   }
  },
  {
   "cell_type": "markdown",
   "source": "São métodos nativos do Python que nos ajudam a trabalhar no dia a dia com listas.",
   "metadata": {
    "id": "LoHEI8EP7KSb",
    "cell_id": "00029-bbc35969-46e9-4831-b409-420fed48f80e",
    "deepnote_cell_type": "markdown"
   }
  },
  {
   "cell_type": "code",
   "metadata": {
    "id": "O4Ke0FcG7Opv",
    "cell_id": "00030-485fba52-ea3c-4c0c-9106-4c0bb32b5eed",
    "deepnote_cell_type": "code"
   },
   "source": "juros = [0.05, 0.07, 0.02, 0.04, 0.08]\nprint(juros)",
   "execution_count": null,
   "outputs": []
  },
  {
   "cell_type": "code",
   "metadata": {
    "id": "1PIOTSXT8uT7",
    "cell_id": "00031-55fadd82-9fe3-4aac-a7dc-5d155e5e642b",
    "deepnote_cell_type": "code"
   },
   "source": "# inserir um elemento sem substituir: list.insert(index, val)\njuros.insert(0, 0.10)\nprint(juros)",
   "execution_count": null,
   "outputs": []
  },
  {
   "cell_type": "code",
   "metadata": {
    "id": "-MMjKRzf9Ixy",
    "cell_id": "00032-60098c4c-1d09-4a07-9b5b-4b4299bfd752",
    "deepnote_cell_type": "code"
   },
   "source": "# inserir um elemento no fim da lista: list.append(val)\njuros.append(0.09)\nprint(juros)",
   "execution_count": null,
   "outputs": []
  },
  {
   "cell_type": "code",
   "metadata": {
    "id": "PAfBwmkb9lF3",
    "cell_id": "00033-00ee5804-f7ec-4dae-b1dd-d57e4d0a4df3",
    "deepnote_cell_type": "code"
   },
   "source": "# remover um elemento pelo valor: list.remove(val)\njuros.remove(0.1)\nprint(juros)",
   "execution_count": null,
   "outputs": []
  },
  {
   "cell_type": "code",
   "metadata": {
    "id": "E2rAo_0N9yp_",
    "cell_id": "00034-03472e33-be28-4d4a-8529-34f2ba1c0b07",
    "deepnote_cell_type": "code"
   },
   "source": "# remover um elemento pelo índice: list.pop(val)\nterceiro_juros = juros.pop(2)\nprint(terceiro_juros)",
   "execution_count": null,
   "outputs": []
  },
  {
   "cell_type": "code",
   "metadata": {
    "id": "cTZ-PpZjwrXh",
    "cell_id": "00035-435c390e-8410-449a-9559-0a5cf04eaa52",
    "deepnote_cell_type": "code"
   },
   "source": "print(juros)",
   "execution_count": null,
   "outputs": []
  },
  {
   "cell_type": "markdown",
   "source": "### **1.5. Conversão**",
   "metadata": {
    "id": "NaXePKHx-J0H",
    "cell_id": "00036-9fc51fc9-85cb-4da6-963a-20d625a8284a",
    "deepnote_cell_type": "markdown"
   }
  },
  {
   "cell_type": "markdown",
   "source": "Podemos converter alguns tipos de variáveis em listas, como *strings*.",
   "metadata": {
    "id": "nxiiMN---dLL",
    "cell_id": "00037-2efe3e0a-0e53-47d4-83f4-eb3f5bea9aa2",
    "deepnote_cell_type": "markdown"
   }
  },
  {
   "cell_type": "code",
   "metadata": {
    "id": "DgZyBHJn-TWi",
    "cell_id": "00038-0f1475a6-b834-4260-b94a-92ebc88b286f",
    "deepnote_cell_type": "code"
   },
   "source": "email = 'andre.perez@gmail.com'\ncaracteres_email = list(email)\n\nprint(email)\nprint(caracteres_email)",
   "execution_count": null,
   "outputs": []
  },
  {
   "cell_type": "markdown",
   "source": "### **1.6. Revisitando a motivação** ",
   "metadata": {
    "id": "hV8sOC7uSQsy",
    "cell_id": "00039-9b442e8f-612c-42da-bd6a-4270434aa71b",
    "deepnote_cell_type": "markdown"
   }
  },
  {
   "cell_type": "code",
   "metadata": {
    "id": "oov-ZttEBTJi",
    "cell_id": "00040-cbc1a9e5-5f15-4adf-be53-895d9ff5f041",
    "deepnote_cell_type": "code"
   },
   "source": "dia_11_saldo_inicial = 1000",
   "execution_count": null,
   "outputs": []
  },
  {
   "cell_type": "code",
   "metadata": {
    "id": "QBK9CvnkBWAh",
    "cell_id": "00041-b3d87833-171d-4f84-bd44-bd08970af9de",
    "deepnote_cell_type": "code"
   },
   "source": "dia_11_transacoes = []\n\ndia_11_transacoes.append(243)\ndia_11_transacoes.append(-798.58)\ndia_11_transacoes.append(427.12)\ndia_11_transacoes.append(-10.91)\n\nprint(dia_11_transacoes)",
   "execution_count": null,
   "outputs": []
  },
  {
   "cell_type": "code",
   "metadata": {
    "id": "3WIhTJkvBnn_",
    "cell_id": "00042-f98744aa-0933-4391-9b4c-223217217166",
    "deepnote_cell_type": "code"
   },
   "source": "dia_11_saldo_final = dia_11_saldo_inicial + dia_11_transacoes[0] + dia_11_transacoes[1] + dia_11_transacoes[2] + dia_11_transacoes[3]\nprint(dia_11_saldo_final)",
   "execution_count": null,
   "outputs": []
  },
  {
   "cell_type": "markdown",
   "source": "## 2\\. Conjuntos",
   "metadata": {
    "id": "4rRCvy_UURrM",
    "cell_id": "00043-593ea1d8-ea79-48ed-8a0d-57d76df04704",
    "deepnote_cell_type": "markdown"
   }
  },
  {
   "cell_type": "markdown",
   "source": "### **2.1. Motivação** ",
   "metadata": {
    "id": "Y1W9Hv8fURrZ",
    "cell_id": "00044-e28d0c9c-12ce-439d-8234-545a33f5795c",
    "deepnote_cell_type": "markdown"
   }
  },
  {
   "cell_type": "markdown",
   "source": "Você trabalha como analista de dados de mídias sociais e precisa descobrir todas as *hashtags* que alcançaram o *top trending* do Twitter durante uma semana. Você já conseguiu as *hashtags* por dia da semana:",
   "metadata": {
    "id": "yui33vLXavm9",
    "cell_id": "00045-592f29a9-5ead-4da9-8591-1639734d289d",
    "deepnote_cell_type": "markdown"
   }
  },
  {
   "cell_type": "code",
   "metadata": {
    "id": "EK9_cpdLbgUR",
    "cell_id": "00046-57d4b229-f7c3-4b09-84b9-285bf4bfbd87",
    "deepnote_cell_type": "code"
   },
   "source": "hashtags_seg = ['#tiago', '#joao', '#bbb']\nhashtags_ter = ['#sarah', '#bbb', '#fiuk']\nhashtags_qua = ['#gil', '#thelma', '#lourdes']\nhashtags_qui = ['#rafa', '#fora', '#danilo']\nhashtags_sex = ['#juliete', '#arthur', '#bbb']",
   "execution_count": null,
   "outputs": []
  },
  {
   "cell_type": "markdown",
   "source": "Um simples concateção de listas fará com que a *hashtag* #bbb, entre outras, apareça mais de uma vez.",
   "metadata": {
    "id": "poe2mVAlcIeB",
    "cell_id": "00047-db29e24e-3e3c-4303-a61d-90b6e23f59b6",
    "deepnote_cell_type": "markdown"
   }
  },
  {
   "cell_type": "code",
   "metadata": {
    "id": "fGIykxP8cTZ5",
    "cell_id": "00048-37450127-959b-48f7-8b19-ac94b0f63b7d",
    "deepnote_cell_type": "code"
   },
   "source": "hashtags_semana = hashtags_seg + hashtags_ter + hashtags_qua + hashtags_qui + hashtags_sex\nprint(hashtags_semana)",
   "execution_count": null,
   "outputs": []
  },
  {
   "cell_type": "markdown",
   "source": "### **2.2. Definição** ",
   "metadata": {
    "id": "cOZDKbe6URrb",
    "cell_id": "00049-eebe7e41-3b52-4068-a35e-650bf72adfbd",
    "deepnote_cell_type": "markdown"
   }
  },
  {
   "cell_type": "markdown",
   "source": "Armazenam sequências imutáveis e desordenadas valores, sem repetição. São do tipo `set`:",
   "metadata": {
    "id": "B9Bux1n0C2Hd",
    "cell_id": "00050-db609848-b2a9-4b3b-921b-fe5808102520",
    "deepnote_cell_type": "markdown"
   }
  },
  {
   "cell_type": "code",
   "metadata": {
    "id": "_QL3pDMAE5oV",
    "cell_id": "00051-013ff13c-41e3-472d-a136-b5718dcfd771",
    "deepnote_cell_type": "code"
   },
   "source": "frutas = {'banana', 'maca', 'uva', 'uva'}\n\nprint(frutas)\nprint(type(frutas))",
   "execution_count": null,
   "outputs": []
  },
  {
   "cell_type": "markdown",
   "source": "### **2.3. Operações** ",
   "metadata": {
    "id": "5q6xcwOWURrc",
    "cell_id": "00052-6255bbf8-57db-4cf5-9160-8be1ba516a67",
    "deepnote_cell_type": "markdown"
   }
  },
  {
   "cell_type": "markdown",
   "source": "As operações da estrutura do tipo *set* são:\n\n\n*   `-` (diferença).",
   "metadata": {
    "id": "VjckMGhefqbI",
    "cell_id": "00053-d6ad240c-5fe8-49ea-87d5-99435b8a1e65",
    "deepnote_cell_type": "markdown"
   }
  },
  {
   "cell_type": "markdown",
   "source": "**Exemplo**: Países da europa.",
   "metadata": {
    "id": "8t5unixyf2PQ",
    "cell_id": "00054-f38f3142-ed74-410c-9aee-7a05f2eac681",
    "deepnote_cell_type": "markdown"
   }
  },
  {
   "cell_type": "code",
   "metadata": {
    "id": "sDM_I9xff1as",
    "cell_id": "00055-d62feb61-6417-4468-bb82-698aca99c5f6",
    "deepnote_cell_type": "code"
   },
   "source": "norte_europa = {'reino unido', 'suecia', 'russia', 'noruega', 'dinamarca'}\nescandinavia = {'noruega', 'dinamarca', 'suecia'}",
   "execution_count": null,
   "outputs": []
  },
  {
   "cell_type": "code",
   "metadata": {
    "id": "nibhXuPHgD4I",
    "cell_id": "00056-6f9682f8-26a7-4248-88b7-8f3c41938095",
    "deepnote_cell_type": "code"
   },
   "source": "norte_europa_nao_escandivano = norte_europa - escandinavia\nprint(norte_europa_nao_escandivano)",
   "execution_count": null,
   "outputs": []
  },
  {
   "cell_type": "code",
   "metadata": {
    "id": "UjsDawmDgoVD",
    "cell_id": "00057-efa515d3-8244-4067-affa-b6f3b213d61c",
    "deepnote_cell_type": "code"
   },
   "source": "escandivano_nao_norte_europa = escandinavia - norte_europa\nprint(escandivano_nao_norte_europa)",
   "execution_count": null,
   "outputs": []
  },
  {
   "cell_type": "markdown",
   "source": "### **2.4. Métodos**",
   "metadata": {
    "id": "DK2jQGirhGWS",
    "cell_id": "00058-888803c7-ae2a-4b12-acbf-7ac5e499ce82",
    "deepnote_cell_type": "markdown"
   }
  },
  {
   "cell_type": "markdown",
   "source": "São métodos nativos do Python que nos ajudam a trabalhar no dia a dia com conjuntos.",
   "metadata": {
    "id": "A6cE9_1GhGWd",
    "cell_id": "00059-672de534-2de1-4228-a019-4491c5f29337",
    "deepnote_cell_type": "markdown"
   }
  },
  {
   "cell_type": "code",
   "metadata": {
    "id": "IW0jfAUmhGWd",
    "cell_id": "00060-0821aa86-4ee2-4a2c-8bda-18f63061f25c",
    "deepnote_cell_type": "code"
   },
   "source": "cursos = {'Exatas', 'Humanas', 'Biológicas'}\nprint(cursos)",
   "execution_count": null,
   "outputs": []
  },
  {
   "cell_type": "code",
   "metadata": {
    "id": "hJDBambLhGWe",
    "cell_id": "00061-4eae3c6d-8212-4b07-8926-751e22cdc200",
    "deepnote_cell_type": "code"
   },
   "source": "# inserir um elemento no conjunto: set.add(val)\ncursos.add('Saúde')\nprint(cursos)",
   "execution_count": null,
   "outputs": []
  },
  {
   "cell_type": "code",
   "metadata": {
    "id": "2PW8RfTyhGWe",
    "cell_id": "00062-e92fc0ca-efca-4533-aa7e-8cf45d504622",
    "deepnote_cell_type": "code"
   },
   "source": "# remover um elemento no conjunto: set.remove(val)\ncursos.remove('Saúde')\nprint(cursos)",
   "execution_count": null,
   "outputs": []
  },
  {
   "cell_type": "markdown",
   "source": "### **2.5. Conversão**",
   "metadata": {
    "id": "lR8W6YlthGWe",
    "cell_id": "00063-d5abddb7-8143-454e-b7b6-1ef1bcc9a931",
    "deepnote_cell_type": "markdown"
   }
  },
  {
   "cell_type": "markdown",
   "source": "Podemos converter conjuntos para lista e vice e versa.",
   "metadata": {
    "id": "FcIR2JcbhGWe",
    "cell_id": "00064-06df8958-26ac-4f8b-9fb5-fb2714272f30",
    "deepnote_cell_type": "markdown"
   }
  },
  {
   "cell_type": "code",
   "metadata": {
    "id": "XZU1XQZbhGWf",
    "cell_id": "00065-d53e7327-1ef4-4d4b-8053-cea59420dfc2",
    "deepnote_cell_type": "code"
   },
   "source": "times_paulistas = {'São Paulo', 'Palmeiras', 'Corinthians', 'Santos'}\n\nprint(times_paulistas)\nprint(type(times_paulistas))",
   "execution_count": null,
   "outputs": []
  },
  {
   "cell_type": "code",
   "metadata": {
    "id": "tBGFyE12iQ4O",
    "cell_id": "00066-6addef01-9edc-487f-b6c8-acb49e7c1109",
    "deepnote_cell_type": "code"
   },
   "source": "print(list(times_paulistas))\nprint(type(list(times_paulistas)))",
   "execution_count": null,
   "outputs": []
  },
  {
   "cell_type": "markdown",
   "source": "### **2.6. Revisitando a motivação** ",
   "metadata": {
    "id": "WxnG-e3HURrd",
    "cell_id": "00067-8235407d-0ee4-4207-a770-dab9211fa878",
    "deepnote_cell_type": "markdown"
   }
  },
  {
   "cell_type": "code",
   "metadata": {
    "id": "LdF2ImcecyBI",
    "cell_id": "00068-aee75d28-4ca0-455a-9b9e-b423feed46dd",
    "deepnote_cell_type": "code"
   },
   "source": "print(hashtags_semana)\nprint(len(hashtags_semana))",
   "execution_count": null,
   "outputs": []
  },
  {
   "cell_type": "code",
   "metadata": {
    "id": "7u48dmrPco9Q",
    "cell_id": "00069-2bf0618b-0bda-4527-9c8d-6d27509af797",
    "deepnote_cell_type": "code"
   },
   "source": "hashtags_semana = list(set(hashtags_seg + hashtags_ter + hashtags_qua + hashtags_qui + hashtags_sex))\n\nprint(hashtags_semana)\nprint(len(hashtags_semana))",
   "execution_count": null,
   "outputs": []
  },
  {
   "cell_type": "markdown",
   "source": "## 3\\. Dicionários",
   "metadata": {
    "id": "ELgoMRAAUSjv",
    "cell_id": "00070-7f74cde4-cb2a-41bd-80c5-e18e9bdecdad",
    "deepnote_cell_type": "markdown"
   }
  },
  {
   "cell_type": "markdown",
   "source": "### **3.1. Motivação** ",
   "metadata": {
    "id": "CuLkQY76USjw",
    "cell_id": "00071-1503b430-bf73-46ed-9d75-6281312cf2de",
    "deepnote_cell_type": "markdown"
   }
  },
  {
   "cell_type": "markdown",
   "source": "Para se conectar a uma rede wi-fi, você precisa de duas informações: o nome da rede e a senha de acesso. Quando você vai acessar uma nova rede, você encontra uma lista de redes disponíveis: ",
   "metadata": {
    "id": "K5Wnzl1UdShI",
    "cell_id": "00072-2785afdc-f24a-4832-ac51-3c6ec7c8a5a4",
    "deepnote_cell_type": "markdown"
   }
  },
  {
   "cell_type": "code",
   "metadata": {
    "id": "Ah1dmE4Qdv-A",
    "cell_id": "00073-2d7d0c51-e3e5-45f3-9524-396ddfe6e599",
    "deepnote_cell_type": "code"
   },
   "source": "wifi_disponiveis = ['rede1', 'cnx_cnx', 'uai-fi', 'r3d3']\nprint(wifi_disponiveis)",
   "execution_count": null,
   "outputs": []
  },
  {
   "cell_type": "markdown",
   "source": "Você consegue identificar quais são os nome de redes e suas respectivas senhas? Talvez uma `list` não seja a melhor opção para armazenar esse tipo de dado.",
   "metadata": {
    "id": "auR4rPNAeCgO",
    "cell_id": "00074-1ae50098-6de7-45f9-9ea3-7e7cfedcce53",
    "deepnote_cell_type": "markdown"
   }
  },
  {
   "cell_type": "markdown",
   "source": "### **3.2. Definição** ",
   "metadata": {
    "id": "JENLdmHkUSjx",
    "cell_id": "00075-41bd3c43-7d32-485a-b6b5-ccbfd197c0c0",
    "deepnote_cell_type": "markdown"
   }
  },
  {
   "cell_type": "markdown",
   "source": "Armazenam sequências no formato chave-valor. São do tipo `dict`.\n",
   "metadata": {
    "id": "U3lwWzl38zuT",
    "cell_id": "00076-ec988d39-8a1d-495f-9f98-b868f078ee3f",
    "deepnote_cell_type": "markdown"
   }
  },
  {
   "cell_type": "code",
   "metadata": {
    "id": "OUR6zdcni2jS",
    "cell_id": "00077-a56f6442-ca90-4116-975f-deaa129dbdf1",
    "deepnote_cell_type": "code"
   },
   "source": "brasil = {'capital': 'Brasília', 'idioma': 'Português', 'populacao': 210}\n\nprint(brasil)\nprint(type(brasil))",
   "execution_count": null,
   "outputs": []
  },
  {
   "cell_type": "markdown",
   "source": "Não é permite chaves duplicadas.",
   "metadata": {
    "id": "cPj56yhmIJg4",
    "cell_id": "00078-5ed9fd40-1fdc-4483-86ec-27783ed38b6d",
    "deepnote_cell_type": "markdown"
   }
  },
  {
   "cell_type": "code",
   "metadata": {
    "id": "5a8o-NP4ITnd",
    "cell_id": "00079-bd5c7647-9a3b-44e6-ac0a-7ad95a2eadc8",
    "deepnote_cell_type": "code"
   },
   "source": "carro = {\n    'marca': 'Volkswagen',\n    'modelo': 'Polo',\n    'ano': 2021,\n    'ano': 2004\n}\n\nprint(carro)",
   "execution_count": null,
   "outputs": []
  },
  {
   "cell_type": "markdown",
   "source": "Podemos criar dicionários compostos:",
   "metadata": {
    "id": "0tE9-pPrOIxH",
    "cell_id": "00080-c9e45077-8bba-4bf2-86a9-9d80fda3dfda",
    "deepnote_cell_type": "markdown"
   }
  },
  {
   "cell_type": "code",
   "metadata": {
    "id": "bTeSsI9FOO4h",
    "cell_id": "00081-f0fecc16-5ec9-4417-95cb-a73d559b3ac0",
    "deepnote_cell_type": "code"
   },
   "source": "cadastro = {\n    'andre': {\n        'nome': 'Andre Perez', \n        'ano_nascimento': 1992, \n        'pais': {\n            'pai': {\n              'nome': '<nome-do-pai> Perez', \n              'ano_nascimento': 1971\n            },\n            'mae': {\n              'nome': '<nome-da-mae> Perez', \n              'ano_nascimento': 1973\n            },\n        }\n    }\n}\n\nprint(cadastro)",
   "execution_count": null,
   "outputs": []
  },
  {
   "cell_type": "code",
   "metadata": {
    "id": "hzJjKGtZ-DmB",
    "cell_id": "00082-a101bcab-ee33-4ff8-bfd0-087e1af1af96",
    "deepnote_cell_type": "code"
   },
   "source": "cadastro['andre']['pais']['mae']['ano_nascimento']",
   "execution_count": null,
   "outputs": []
  },
  {
   "cell_type": "markdown",
   "source": "### **3.3. Operações** ",
   "metadata": {
    "id": "qcHSzY6kUSjy",
    "cell_id": "00083-508f79a4-243b-4169-b2f8-d59bae66d728",
    "deepnote_cell_type": "markdown"
   }
  },
  {
   "cell_type": "code",
   "metadata": {
    "id": "XmfvRWVTKZLn",
    "cell_id": "00084-6b6f16e6-05ef-441b-b5a0-8c42f8fae2ca",
    "deepnote_cell_type": "code"
   },
   "source": "credito = {'123': 750, '789': 980}",
   "execution_count": null,
   "outputs": []
  },
  {
   "cell_type": "markdown",
   "source": "Elementos são acessados pela sua chave.",
   "metadata": {
    "id": "RVwYx41eI6BT",
    "cell_id": "00085-289d016d-34fd-4275-9092-a37c8f2579f2",
    "deepnote_cell_type": "markdown"
   }
  },
  {
   "cell_type": "code",
   "metadata": {
    "id": "A05RBP9QKsgh",
    "cell_id": "00086-95e53603-9541-4ccf-82cf-1076265a6de2",
    "deepnote_cell_type": "code"
   },
   "source": "score_123 = credito['123']\nscore_789 = credito['789']\n\nprint(score_123)\nprint(score_789)",
   "execution_count": null,
   "outputs": []
  },
  {
   "cell_type": "markdown",
   "source": "Elementos são atualizados pela sua chave.",
   "metadata": {
    "id": "OZYYChDVLEQm",
    "cell_id": "00087-e3521f29-2f9a-45f7-8d05-d49384c9c180",
    "deepnote_cell_type": "markdown"
   }
  },
  {
   "cell_type": "code",
   "metadata": {
    "id": "crkXt8TzLfp2",
    "cell_id": "00088-99869380-8de1-4696-9730-6f10ed7f91ab",
    "deepnote_cell_type": "code"
   },
   "source": "credito['123'] = 435\nprint(credito)",
   "execution_count": null,
   "outputs": []
  },
  {
   "cell_type": "markdown",
   "source": "Para adicionar um novo elemento, basta criar um novo elemento chave-valor:",
   "metadata": {
    "id": "pE_a-ii5L82k",
    "cell_id": "00089-4bdd4f69-8b6c-4e33-82f0-8ff9c718680c",
    "deepnote_cell_type": "markdown"
   }
  },
  {
   "cell_type": "code",
   "metadata": {
    "id": "Dq0mM6URMAe-",
    "cell_id": "00090-c3ca3d33-5abe-4bee-afdd-1e2066bd7400",
    "deepnote_cell_type": "code"
   },
   "source": "credito['456'] = 1000\nprint(credito)",
   "execution_count": null,
   "outputs": []
  },
  {
   "cell_type": "markdown",
   "source": "### **3.4. Métodos**",
   "metadata": {
    "id": "UCUO_UdUJPI8",
    "cell_id": "00091-27895bf9-4158-4f4e-8f5d-49d25c2a5335",
    "deepnote_cell_type": "markdown"
   }
  },
  {
   "cell_type": "markdown",
   "source": "São métodos nativos do Python que nos ajudam a trabalhar no dia a dia com dicionários.",
   "metadata": {
    "id": "cncT52BYJVeD",
    "cell_id": "00092-6f6726fe-b63d-42e4-afa5-d6f689603896",
    "deepnote_cell_type": "markdown"
   }
  },
  {
   "cell_type": "code",
   "metadata": {
    "id": "qwxwzPsTJcXn",
    "cell_id": "00093-0698a2da-bc98-43c4-82d5-741b85046ddb",
    "deepnote_cell_type": "code"
   },
   "source": "artigo = dict(\n    titulo='Modulo 02 | Python: Estruturas de Dados',\n    corpo='Topicos, Aulas, Listas, Conjuntos, Dicionários, ...',\n    total_caracteres=1530\n)",
   "execution_count": null,
   "outputs": []
  },
  {
   "cell_type": "code",
   "metadata": {
    "id": "QZJ4D_eRNyc_",
    "cell_id": "00094-43a4c81d-15d0-4c77-bb81-7d13c16322e4",
    "deepnote_cell_type": "code"
   },
   "source": "# adicionar/atualizar um elemento pelo chave-valor: dict.update(dict)\nprint(artigo)\nartigo.update({'total_caracteres': 7850})\nprint(artigo)\n\nartigo['total_caracteres'] = 7850",
   "execution_count": null,
   "outputs": []
  },
  {
   "cell_type": "code",
   "metadata": {
    "id": "ofz4lbceMx_4",
    "cell_id": "00095-03d0fe67-ed4d-4be8-8ee7-5fd8248d4a43",
    "deepnote_cell_type": "code"
   },
   "source": "# remover um elemento pelo chave: dict.pop(key)\nprint(artigo)\ntotal_caracteres = artigo.pop('total_caracteres')\nprint(artigo)",
   "execution_count": null,
   "outputs": []
  },
  {
   "cell_type": "markdown",
   "source": "### **3.5. Conversão**",
   "metadata": {
    "id": "h0bXPXycjfpw",
    "cell_id": "00096-c915b86c-3b63-4715-baca-2c3b28eef06f",
    "deepnote_cell_type": "markdown"
   }
  },
  {
   "cell_type": "markdown",
   "source": "Podemos converter as chaves e os items de um dicionário em uma lista.",
   "metadata": {
    "id": "CnzLEEYOjfp2",
    "cell_id": "00097-679ea672-29f5-494b-8914-bb5359770e2a",
    "deepnote_cell_type": "markdown"
   }
  },
  {
   "cell_type": "code",
   "metadata": {
    "id": "10CkP3RjkD9x",
    "cell_id": "00098-5f658ddd-b1ec-4881-a20c-da55e82ec1f7",
    "deepnote_cell_type": "code"
   },
   "source": "artigo = dict(\n    titulo='Modulo 02 | Python: Estruturas de Dados',\n    corpo='Topicos, Aulas, Listas, Conjuntos, Dicionários, ...',\n    total_caracteres=1530\n)",
   "execution_count": null,
   "outputs": []
  },
  {
   "cell_type": "code",
   "metadata": {
    "id": "bwmEXzxnjfp3",
    "cell_id": "00099-8df399e4-ce4c-46d4-880a-cf30dad6ba61",
    "deepnote_cell_type": "code"
   },
   "source": "chaves = list(artigo.keys())\n\nprint(chaves)\nprint(type(chaves))",
   "execution_count": null,
   "outputs": []
  },
  {
   "cell_type": "code",
   "metadata": {
    "id": "UiP-UQxhjfp5",
    "cell_id": "00100-cdd22af1-8455-4633-a151-c68bf3e9b43d",
    "deepnote_cell_type": "code"
   },
   "source": "valores = list(artigo.values())\n\nprint(valores)\nprint(type(valores))",
   "execution_count": null,
   "outputs": []
  },
  {
   "cell_type": "markdown",
   "source": "### **3.6. Revisitando a motivação** ",
   "metadata": {
    "id": "Nq0WCx8HUSjz",
    "cell_id": "00101-afd293ce-2034-412f-9dbb-88095840e09e",
    "deepnote_cell_type": "markdown"
   }
  },
  {
   "cell_type": "code",
   "metadata": {
    "id": "AZHrKx9ZesI5",
    "cell_id": "00102-a5182aff-3e3e-471d-80cd-e4b338d345e2",
    "deepnote_cell_type": "code"
   },
   "source": "wifi_disponiveis = []",
   "execution_count": null,
   "outputs": []
  },
  {
   "cell_type": "code",
   "metadata": {
    "id": "4y3-5GCGeZpR",
    "cell_id": "00103-7623133d-26d3-44a1-a5b0-91f840195d97",
    "deepnote_cell_type": "code"
   },
   "source": "rede = {'nome': 'rede1', 'senha': 'cnx_cnx'}\nwifi_disponiveis.append(rede)",
   "execution_count": null,
   "outputs": []
  },
  {
   "cell_type": "code",
   "metadata": {
    "id": "CPzYATO8ev7D",
    "cell_id": "00104-524c9bb2-c9ce-421a-a524-23b41d5ba5ff",
    "deepnote_cell_type": "code"
   },
   "source": "rede = {'nome': 'uai-fi', 'senha': 'r3d3'}\nwifi_disponiveis.append(rede)",
   "execution_count": null,
   "outputs": []
  },
  {
   "cell_type": "code",
   "metadata": {
    "id": "0YznnPL4e3H1",
    "cell_id": "00105-3854e156-411d-4e9c-a478-2c7419ddd643",
    "deepnote_cell_type": "code"
   },
   "source": "print(wifi_disponiveis)",
   "execution_count": null,
   "outputs": []
  },
  {
   "cell_type": "markdown",
   "source": "<a style='text-decoration:none;line-height:16px;display:flex;color:#5B5B62;padding:10px;justify-content:end;' href='https://deepnote.com?utm_source=created-in-deepnote-cell&projectId=7bc88e6b-e21c-42d6-a070-b420cc720827' target=\"_blank\">\n<img alt='Created in deepnote.com' style='display:inline;max-height:16px;margin:0px;margin-right:7.5px;' src='data:image/svg+xml;base64,PD94bWwgdmVyc2lvbj0iMS4wIiBlbmNvZGluZz0iVVRGLTgiPz4KPHN2ZyB3aWR0aD0iODBweCIgaGVpZ2h0PSI4MHB4IiB2aWV3Qm94PSIwIDAgODAgODAiIHZlcnNpb249IjEuMSIgeG1sbnM9Imh0dHA6Ly93d3cudzMub3JnLzIwMDAvc3ZnIiB4bWxuczp4bGluaz0iaHR0cDovL3d3dy53My5vcmcvMTk5OS94bGluayI+CiAgICA8IS0tIEdlbmVyYXRvcjogU2tldGNoIDU0LjEgKDc2NDkwKSAtIGh0dHBzOi8vc2tldGNoYXBwLmNvbSAtLT4KICAgIDx0aXRsZT5Hcm91cCAzPC90aXRsZT4KICAgIDxkZXNjPkNyZWF0ZWQgd2l0aCBTa2V0Y2guPC9kZXNjPgogICAgPGcgaWQ9IkxhbmRpbmciIHN0cm9rZT0ibm9uZSIgc3Ryb2tlLXdpZHRoPSIxIiBmaWxsPSJub25lIiBmaWxsLXJ1bGU9ImV2ZW5vZGQiPgogICAgICAgIDxnIGlkPSJBcnRib2FyZCIgdHJhbnNmb3JtPSJ0cmFuc2xhdGUoLTEyMzUuMDAwMDAwLCAtNzkuMDAwMDAwKSI+CiAgICAgICAgICAgIDxnIGlkPSJHcm91cC0zIiB0cmFuc2Zvcm09InRyYW5zbGF0ZSgxMjM1LjAwMDAwMCwgNzkuMDAwMDAwKSI+CiAgICAgICAgICAgICAgICA8cG9seWdvbiBpZD0iUGF0aC0yMCIgZmlsbD0iIzAyNjVCNCIgcG9pbnRzPSIyLjM3NjIzNzYyIDgwIDM4LjA0NzY2NjcgODAgNTcuODIxNzgyMiA3My44MDU3NTkyIDU3LjgyMTc4MjIgMzIuNzU5MjczOSAzOS4xNDAyMjc4IDMxLjY4MzE2ODMiPjwvcG9seWdvbj4KICAgICAgICAgICAgICAgIDxwYXRoIGQ9Ik0zNS4wMDc3MTgsODAgQzQyLjkwNjIwMDcsNzYuNDU0OTM1OCA0Ny41NjQ5MTY3LDcxLjU0MjI2NzEgNDguOTgzODY2LDY1LjI2MTk5MzkgQzUxLjExMjI4OTksNTUuODQxNTg0MiA0MS42NzcxNzk1LDQ5LjIxMjIyODQgMjUuNjIzOTg0Niw0OS4yMTIyMjg0IEMyNS40ODQ5Mjg5LDQ5LjEyNjg0NDggMjkuODI2MTI5Niw0My4yODM4MjQ4IDM4LjY0NzU4NjksMzEuNjgzMTY4MyBMNzIuODcxMjg3MSwzMi41NTQ0MjUgTDY1LjI4MDk3Myw2Ny42NzYzNDIxIEw1MS4xMTIyODk5LDc3LjM3NjE0NCBMMzUuMDA3NzE4LDgwIFoiIGlkPSJQYXRoLTIyIiBmaWxsPSIjMDAyODY4Ij48L3BhdGg+CiAgICAgICAgICAgICAgICA8cGF0aCBkPSJNMCwzNy43MzA0NDA1IEwyNy4xMTQ1MzcsMC4yNTcxMTE0MzYgQzYyLjM3MTUxMjMsLTEuOTkwNzE3MDEgODAsMTAuNTAwMzkyNyA4MCwzNy43MzA0NDA1IEM4MCw2NC45NjA0ODgyIDY0Ljc3NjUwMzgsNzkuMDUwMzQxNCAzNC4zMjk1MTEzLDgwIEM0Ny4wNTUzNDg5LDc3LjU2NzA4MDggNTMuNDE4MjY3Nyw3MC4zMTM2MTAzIDUzLjQxODI2NzcsNTguMjM5NTg4NSBDNTMuNDE4MjY3Nyw0MC4xMjg1NTU3IDM2LjMwMzk1NDQsMzcuNzMwNDQwNSAyNS4yMjc0MTcsMzcuNzMwNDQwNSBDMTcuODQzMDU4NiwzNy43MzA0NDA1IDkuNDMzOTE5NjYsMzcuNzMwNDQwNSAwLDM3LjczMDQ0MDUgWiIgaWQ9IlBhdGgtMTkiIGZpbGw9IiMzNzkzRUYiPjwvcGF0aD4KICAgICAgICAgICAgPC9nPgogICAgICAgIDwvZz4KICAgIDwvZz4KPC9zdmc+' > </img>\nCreated in <span style='font-weight:600;margin-left:4px;'>Deepnote</span></a>",
   "metadata": {
    "tags": [],
    "created_in_deepnote_cell": true,
    "deepnote_cell_type": "markdown"
   }
  }
 ],
 "nbformat": 4,
 "nbformat_minor": 0,
 "metadata": {
  "colab": {
   "name": "module_2_class.ipynb",
   "provenance": [],
   "collapsed_sections": [],
   "toc_visible": true
  },
  "kernelspec": {
   "name": "python3",
   "display_name": "Python 3"
  },
  "deepnote_notebook_id": "4df1942f-5ea8-4419-9848-a2daea9ac86c",
  "deepnote": {},
  "deepnote_execution_queue": []
 }
}