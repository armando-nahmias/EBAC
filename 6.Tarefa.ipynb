{
 "cells": [
  {
   "cell_type": "markdown",
   "source": "<img src=\"https://raw.githubusercontent.com/andre-marcos-perez/ebac-course-utils/main/media/logo/newebac_logo_black_half.png\" alt=\"ebac-logo\">\n\n---\n\n# **Módulo** | Python: Programação Orientada a Objetos\nCaderno de **Exercícios**<br> \nProfessor [André Perez](https://www.linkedin.com/in/andremarcosperez/)\n\n---",
   "metadata": {
    "id": "KJqp9AANOCtf",
    "cell_id": "00000-4310fad9-f341-4c41-8ead-ba0b425b7e46",
    "deepnote_cell_type": "markdown"
   }
  },
  {
   "cell_type": "markdown",
   "source": "# **Tópicos**\n\n<ol type=\"1\">\n  <li>Um pouco de teoria;</li>\n  <li>Classes;</li>\n  <li>Objetos;</li>\n  <li>Herança.</li>\n</ol>",
   "metadata": {
    "id": "d9jDtUbDOE1-",
    "cell_id": "00001-4e0d1fc9-0cc3-4f4c-bf67-d2081aeab5ba",
    "deepnote_cell_type": "markdown"
   }
  },
  {
   "cell_type": "markdown",
   "source": "---",
   "metadata": {
    "id": "SmoHgt-lwkpD",
    "cell_id": "00002-708caa37-f442-4914-bd2d-20ab70f353fb",
    "deepnote_cell_type": "markdown"
   }
  },
  {
   "cell_type": "markdown",
   "source": "# **Exercícios**",
   "metadata": {
    "id": "GABI6OW8OfQ2",
    "cell_id": "00003-cb13a4b0-288e-431b-bc83-e1f3d106d789",
    "deepnote_cell_type": "markdown"
   }
  },
  {
   "cell_type": "markdown",
   "source": "## 0\\. Preparação do ambiente",
   "metadata": {
    "id": "syVczIAwGO3A",
    "cell_id": "00004-d7ed16c5-78f7-43ff-960e-76b84acd61a6",
    "deepnote_cell_type": "markdown"
   }
  },
  {
   "cell_type": "markdown",
   "source": "Neste exercício vamos trabalhar com os arquivos de csv e texto definidos abaixo. Execute cada uma das células de código para escrever os arquivos na sua máquina virtual.",
   "metadata": {
    "id": "2X3TrxdzGO3C",
    "cell_id": "00005-881b851c-6de0-4bf0-bd5d-713e3b2b7e4b",
    "deepnote_cell_type": "markdown"
   }
  },
  {
   "cell_type": "markdown",
   "source": "* **carros.csv**: arquivo csv com informações sobre carros (venda, manutenção, portas, etc.).",
   "metadata": {
    "id": "u0uFuhRSq_hQ",
    "cell_id": "00006-c44737ba-856a-42ad-ba2d-5213528a3ac2",
    "deepnote_cell_type": "markdown"
   }
  },
  {
   "cell_type": "code",
   "metadata": {
    "id": "daMf-xaXqKs2",
    "cell_id": "00007-ba42048f-3b78-412d-8fb0-73c29affa936",
    "deepnote_cell_type": "code"
   },
   "source": "%%writefile carros.csv\nid,valor_venda,valor_manutencao,portas,pessoas,porta_malas\n1,vhigh,med,2,2,small\n2,med,vhigh,2,2,small\n3,low,vhigh,2,2,small\n4,low,high,2,2,small\n5,low,high,2,2,small\n6,low,high,4,4,big\n7,low,high,4,4,big\n8,low,med,2,2,small\n9,low,med,2,2,small\n10,low,med,2,2,small\n11,low,med,4,4,big\n12,low,low,2,2,small\n13,low,low,4,4,small\n14,low,low,4,4,med",
   "execution_count": null,
   "outputs": []
  },
  {
   "cell_type": "markdown",
   "source": "* **musica.txt**: arquivo texto com a letra da música Roda Viva do Chico Buarque.",
   "metadata": {
    "id": "X0Z2PhbCrTz1",
    "cell_id": "00008-8fe95ddd-6f0a-4add-b35b-e41944adf2b8",
    "deepnote_cell_type": "markdown"
   }
  },
  {
   "cell_type": "code",
   "metadata": {
    "id": "m7Ge2rggrU73",
    "cell_id": "00009-63589061-f997-4087-aeed-34009776f1c9",
    "deepnote_cell_type": "code"
   },
   "source": "%%writefile musica.txt\nRoda Viva\nChico Buarque\n\nTem dias que a gente se sente\nComo quem partiu ou morreu\nA gente estancou de repente\nOu foi o mundo então que cresceu\nA gente quer ter voz ativa\nNo nosso destino mandar\nMas eis que chega a roda viva\nE carrega o destino pra lá\n\nRoda mundo, roda-gigante\nRoda moinho, roda pião\n\nO tempo rodou num instante\nNas voltas do meu coração\nA gente vai contra a corrente\nAté não poder resistir\nNa volta do barco é que sente\nO quanto deixou de cumprir\nFaz tempo que a gente cultiva\nA mais linda roseira que há\nMas eis que chega a roda viva\nE carrega a roseira pra lá\n\nRoda mundo, roda-gigante\nRoda moinho, roda pião",
   "execution_count": null,
   "outputs": []
  },
  {
   "cell_type": "markdown",
   "source": "---",
   "metadata": {
    "id": "HV69LMAVGO3J",
    "cell_id": "00010-203e3f72-ed6b-40b8-b851-a1ccd4222ccb",
    "deepnote_cell_type": "markdown"
   }
  },
  {
   "cell_type": "markdown",
   "source": "## 1\\. Classe para ler arquivos de texto",
   "metadata": {
    "id": "U4S19ZvHsPcE",
    "cell_id": "00011-fad0a423-533e-4a29-8a30-167fc48b04f2",
    "deepnote_cell_type": "markdown"
   }
  },
  {
   "cell_type": "markdown",
   "source": "Crie a classe `ArquivoTexto`. Ela deve conter os seguintes atributos:\n\n*   `self.arquivo`: Atributo do tipo `str` com o nome do arquivo;\n*   `self.conteudo`: Atributo do tipo `list` onde cada elemento é uma linha do arquivo;\n\nA classe também deve conter o seguinte método:\n\n*   `self.extrair_linha`: Método que recebe como parâmetro o número da linha e retorna o seu conteúdo.",
   "metadata": {
    "id": "HQrKGtoMGjf6",
    "cell_id": "00012-8675b6cf-d708-475e-89b7-64a40d8f2522",
    "deepnote_cell_type": "markdown"
   }
  },
  {
   "cell_type": "code",
   "metadata": {
    "id": "9QFsOQ9ZGXUC",
    "cell_id": "00013-a655ef24-2180-4473-8aa8-6dfd6204e9fa",
    "deepnote_cell_type": "code"
   },
   "source": "class ArquivoTexto(object):\n\n  def __init__(self, arquivo: str):\n    self.arquivo = ...\n    self.conteudo = ...\n\n  def extrair_linha(self, numero_linha: int):\n    ...",
   "execution_count": null,
   "outputs": []
  },
  {
   "cell_type": "markdown",
   "source": "Utilize o código abaixo para testar sua classe.",
   "metadata": {
    "id": "866OgsyHHw2M",
    "cell_id": "00014-5fb99e6c-bfc4-449f-ad34-bf5f14d111fb",
    "deepnote_cell_type": "markdown"
   }
  },
  {
   "cell_type": "code",
   "metadata": {
    "id": "_HV_CE7CH8LO",
    "cell_id": "00015-fca41759-f74a-4463-927c-71f9182a28c1",
    "deepnote_cell_type": "code"
   },
   "source": "arquivo_texto = ArquivoTexto(arquivo='musica.txt')\n\nnumero_linha = 1\nprint(arquivo_texto.extrair_linha(numero_linha=numero_linha)) # Roda Viva\n\nnumero_linha = 10\nprint(arquivo_texto.extrair_linha(numero_linha=numero_linha)) # Mas eis que chega a roda viva",
   "execution_count": null,
   "outputs": []
  },
  {
   "cell_type": "markdown",
   "source": "---",
   "metadata": {
    "id": "zMN1Q3jdwoJm",
    "cell_id": "00016-63eaf307-70c0-4853-aa01-cb73d77564c8",
    "deepnote_cell_type": "markdown"
   }
  },
  {
   "cell_type": "markdown",
   "source": "## 2\\. Classe para ler arquivos de csv",
   "metadata": {
    "id": "aQ8euzThIlLl",
    "cell_id": "00017-b9d9d0cc-eab3-4865-a945-6dddc03b2555",
    "deepnote_cell_type": "markdown"
   }
  },
  {
   "cell_type": "markdown",
   "source": "Crie a classe `ArquivoCSV`. Ela deve extender (herdar) a classe `ArquivoTexto` para reaproveitar os seus atributos (`self.arquivo` e `self.conteudo`) e método (`self.extrair_linha`). Além disso, adicione o seguinte atributo:\n\n*   `self.colunas`: Atributo do tipo `list` onde os elementos são os nome das colunas;\n\nA classe também deve conter o seguinte método:\n\n*   `self.extrair_coluna_da_linha`: Método que recebe como parâmetro o numero da linha e o indice da coluna e retorna o valor em questão.",
   "metadata": {
    "id": "EMWhvKAWIlL0",
    "cell_id": "00018-cfbe8834-5b86-45c4-9a1a-701798157cbd",
    "deepnote_cell_type": "markdown"
   }
  },
  {
   "cell_type": "code",
   "metadata": {
    "id": "2r3mfEyYIlL0",
    "cell_id": "00019-546d3419-b18f-4f58-958c-878d8018d36d",
    "deepnote_cell_type": "code"
   },
   "source": "class ArquivoCSV(ArquivoTexto):\n\n  def __init__(self, arquivo: str):\n\n    ...\n    self.colunas = ...\n\n  def extrair_coluna_da_linha(self, numero_linha: int, numero_coluna: int):\n    ...",
   "execution_count": null,
   "outputs": []
  },
  {
   "cell_type": "markdown",
   "source": "Utilize o código abaixo para testar sua classe.",
   "metadata": {
    "id": "jQm_hBETIlL1",
    "cell_id": "00020-3ff48d13-a71e-4be9-ad1f-66f98a531f00",
    "deepnote_cell_type": "markdown"
   }
  },
  {
   "cell_type": "code",
   "metadata": {
    "id": "GKSf1YbcIlL1",
    "cell_id": "00021-a76d1075-d039-4932-a77b-2411e4d463f9",
    "deepnote_cell_type": "code"
   },
   "source": "arquivo_csv = ArquivoCSV(arquivo='carros.csv')\n\nnumero_linha = 1\nprint(arquivo_csv.extrair_linha(numero_linha=numero_linha)) # id,valor_venda,valor_manutencao,portas,pessoas,porta_malas\n\nprint(arquivo_csv.colunas) # ['id', 'valor_venda', 'valor_manutencao', 'portas', 'pessoas', 'porta_malas']\n\nnumero_linha = 10\nprint(arquivo_csv.extrair_linha(numero_linha=numero_linha)) # 9,low,med,2,2,small\n\nnumero_linha = 10\nnumero_coluna = 2\nprint(arquivo_csv.extrair_coluna_da_linha(numero_linha=numero_linha, numero_coluna=numero_coluna)) # low",
   "execution_count": null,
   "outputs": []
  },
  {
   "cell_type": "markdown",
   "source": "---",
   "metadata": {
    "id": "78xH4bWUIlL2",
    "cell_id": "00022-9f77202f-9656-4454-81c8-0d2f0ae8c3f1",
    "deepnote_cell_type": "markdown"
   }
  },
  {
   "cell_type": "markdown",
   "source": "<a style='text-decoration:none;line-height:16px;display:flex;color:#5B5B62;padding:10px;justify-content:end;' href='https://deepnote.com?utm_source=created-in-deepnote-cell&projectId=7bc88e6b-e21c-42d6-a070-b420cc720827' target=\"_blank\">\n<img alt='Created in deepnote.com' style='display:inline;max-height:16px;margin:0px;margin-right:7.5px;' src='data:image/svg+xml;base64,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' > </img>\nCreated in <span style='font-weight:600;margin-left:4px;'>Deepnote</span></a>",
   "metadata": {
    "tags": [],
    "created_in_deepnote_cell": true,
    "deepnote_cell_type": "markdown"
   }
  }
 ],
 "nbformat": 4,
 "nbformat_minor": 0,
 "metadata": {
  "colab": {
   "name": "module_6_exercise.ipynb",
   "provenance": [],
   "collapsed_sections": [],
   "toc_visible": true
  },
  "kernelspec": {
   "name": "python3",
   "display_name": "Python 3"
  },
  "deepnote_notebook_id": "257a3854-0194-40c7-92f3-739eb6f79b22",
  "deepnote": {},
  "deepnote_execution_queue": []
 }
}