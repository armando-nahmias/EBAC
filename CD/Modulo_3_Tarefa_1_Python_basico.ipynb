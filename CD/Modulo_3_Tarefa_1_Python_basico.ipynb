{
 "cells": [
  {
   "cell_type": "markdown",
   "source": "# Tarefa 01\n\n- Leia os enunciados com atenção\n- Saiba que pode haver mais de uma resposta correta\n- Insira novas células de código sempre que achar necessário\n- Em caso de dúvidas, procure os tutores\n- Divirta-se :)",
   "metadata": {
    "cell_id": "00000-b97e9e8b-252e-4932-b3b7-dddc83908e00",
    "deepnote_cell_type": "markdown"
   }
  },
  {
   "cell_type": "markdown",
   "source": "### 01 - Teste de gravidez\nEscreva uma célula com controle de fluxos que tem como premissa a existência das seguintes variáveis:\n\n- ```sexo``` como ```str``` indicando os valores '**M**' para masculino e '**F**' para feminino  \n- ```beta_hcg``` que indica a quantidade do beta-HCG no sangue em mUI/mL.\n\nA sua tarefa é escrever um código que imprima como resultado \"indivíduo do sexo masculino\" quando sexo = 'M', caso sexo = 'F', se o valor de beta-HCG for maior que 5, retorne \"Positivo\" indicando que a paciente está grávida, e retorne \"Negativo\" caso contrário.\n\nNão mexa nos valores da variável ```sexo``` nem em ```beta_hcg```, e escreva um código que funcione para quaisquer valores possíveis de ambos: ```sexo``` = '**M**' ou '**F**' e ```beta_hcg``` assumindo valores inteiros positivos.",
   "metadata": {
    "cell_id": "00001-ec1214d3-718d-4bfc-913e-018dbee2cf6f",
    "deepnote_cell_type": "markdown"
   }
  },
  {
   "cell_type": "code",
   "metadata": {
    "cell_id": "00002-368d0711-cc8d-4dd2-ae88-3fa116c06749",
    "deepnote_cell_type": "code"
   },
   "source": "sexo = 'M'\nbeta_hcg = 0\n\n# seu código vem abaixo desta linha\n",
   "outputs": [],
   "execution_count": null
  },
  {
   "cell_type": "markdown",
   "source": "### 02 - Renomeando variáveis\n\nVamos ver adiante que uma forma de renomear variáveis de um conjunto de dados é através de dicionários - o dicionário deve conter como chave o nome original, associando a cada chave um único valor (tipo *str*) que contenha o nome novo.\n\nA sua tarefa é escrever um dicionário que possa ser utilizado para traduzir as variáveis ```name``` (nome), ```age``` (idade) e ```income``` (renda). Ou seja, esse dicionário deve relacionar as chaves *name, age* e *income* às suas respectivas traduções.",
   "metadata": {
    "cell_id": "00003-85e3fde2-d58c-4b93-ae3e-badb5ac791cc",
    "deepnote_cell_type": "markdown"
   }
  },
  {
   "cell_type": "code",
   "metadata": {
    "cell_id": "00004-d2362bed-32f5-4e68-b308-7394fabddaf8",
    "deepnote_output_heights": [
     21.199996948242188
    ],
    "deepnote_cell_type": "code"
   },
   "source": "dic_renomeacao = {'': ''}\ndic_renomeacao",
   "outputs": [
    {
     "data": {
      "text/plain": "{'': ''}"
     },
     "execution_count": 52,
     "metadata": {},
     "output_type": "execute_result"
    }
   ],
   "execution_count": null
  },
  {
   "cell_type": "markdown",
   "source": "### 03 - É divisível?\nA sua tarefa é escrever um código que indique se um número ```N``` é divisível por um número P. Escreva um programa que faça essa verificação para quaisquer combinações de ```N``` e ```M``` e devolva uma mensagem indicativa no output.",
   "metadata": {
    "cell_id": "00005-e6e92eea-597d-4d9a-ae4d-c0be993e7045",
    "deepnote_cell_type": "markdown"
   }
  },
  {
   "cell_type": "code",
   "metadata": {
    "cell_id": "00006-1fd591e4-e42c-4254-8410-290a54de723d",
    "deepnote_cell_type": "code"
   },
   "source": "N = 42\nM = 7\n\n#Seu código\n",
   "outputs": [],
   "execution_count": null
  },
  {
   "cell_type": "markdown",
   "source": "### 04 - Números primos\n> Um número **N** é primo se e somente se é divisível por 1, -1, por **N** e por -**N**.  \n\nEscreva um script que verifica se ```N``` é um número primo, verificando se ```N``` é divisível por todos os números de ```1``` a ```N-1```. Você vai precisar usar alguma ferramenta de *loop* que você aprendeu para isto. No final, devolva uma mensagem no output indicando se o número é primo ou não.",
   "metadata": {
    "cell_id": "00007-ffe5837e-0f48-496e-8be7-eb5ee9fec5fc",
    "deepnote_cell_type": "markdown"
   }
  },
  {
   "cell_type": "code",
   "metadata": {
    "cell_id": "00008-ea175701-dfec-49ba-bf87-dfefe62db359",
    "deepnote_cell_type": "code"
   },
   "source": "N = 47\n\n# seu código abaixo\n",
   "outputs": [],
   "execution_count": null
  },
  {
   "cell_type": "markdown",
   "source": "### 05 - Desafio\nO algorítmo do exercício anterior não é o mais eficiente. O que você pode fazer para deixá-lo mais eficiente? Ou seja, executar menos comparações, portanto consumir menos tempo.\n1. Será que precisamos correr o loop até o final sempre?\n2. Será que precisamos mesmo verificar **todos** os números?\n3. Será que precisamos ir até N-1?\n\nEssas perguntas levam ao tipo de pensamento voltado a deixar um algoritmo mais eficiente. Veja se você consegue melhorar o seu.",
   "metadata": {
    "cell_id": "00009-6b164e6d-20ba-4e43-994a-623f4a9d5287",
    "deepnote_cell_type": "markdown"
   }
  },
  {
   "cell_type": "code",
   "metadata": {
    "cell_id": "00010-681f7494-36bb-4206-a1fe-d1d4cc615918",
    "deepnote_cell_type": "code"
   },
   "source": "N = 98\n\n# seu código aqui\n\n",
   "outputs": [],
   "execution_count": null
  },
  {
   "cell_type": "markdown",
   "source": "### 06 - Peso ideal 1\nO IMC (índice de massa corpórea) é um indicador de saúde mais bem aceito que o peso. Ele é calculado como:\n\n$$ IMC = \\dfrac{peso}{altura^2}$$\n\nSegundo a OMS, valores *normais* são entre 18.5 e 24.9.\n\nSua tarefa é encontrar o ponto médio dessa faixa.",
   "metadata": {
    "cell_id": "00011-3e6b2aad-c6d5-4a0e-a51b-880835868802",
    "deepnote_cell_type": "markdown"
   }
  },
  {
   "cell_type": "code",
   "metadata": {
    "cell_id": "00012-0f7b4897-664d-4775-8413-5e8960bd3397",
    "deepnote_cell_type": "code"
   },
   "source": "imc_ideal = \nimc_ideal",
   "outputs": [
    {
     "data": {
      "text/plain": "0"
     },
     "execution_count": 57,
     "metadata": {},
     "output_type": "execute_result"
    }
   ],
   "execution_count": null
  },
  {
   "cell_type": "markdown",
   "source": "### 07 - Peso ideal 2\nRecebendo um valor de altura, encontre o peso '*ideal*' dessa pessoa, que fornece o IMC encontrado acima",
   "metadata": {
    "cell_id": "00013-fe3f81c5-d8ba-4d2b-9245-034f8111cabb",
    "deepnote_cell_type": "markdown"
   }
  },
  {
   "cell_type": "code",
   "metadata": {
    "cell_id": "00014-81e0075a-d02f-4307-89f0-a883214cc85e",
    "deepnote_cell_type": "code"
   },
   "source": "altura = 1.70\n\n# Seu código\npeso_ideal = \npeso_ideal",
   "outputs": [
    {
     "data": {
      "text/plain": "0"
     },
     "execution_count": 60,
     "metadata": {},
     "output_type": "execute_result"
    }
   ],
   "execution_count": null
  },
  {
   "cell_type": "markdown",
   "source": "### 08 - Peso ideal 3\nDada uma lista contendo as alturas de pacientes, crie uma nova lista que contenha o peso '*ideal*' (que fornece o IMC calculado em **Peso ideal 1**) desses pacientes.",
   "metadata": {
    "cell_id": "00015-dfebc10b-f4f9-49b5-a47e-025d21f434b3",
    "deepnote_cell_type": "markdown"
   }
  },
  {
   "cell_type": "code",
   "metadata": {
    "cell_id": "00016-047a3f8c-a4b1-4a72-b73b-6ea9929ef3dd",
    "deepnote_cell_type": "code"
   },
   "source": "lista_alturas = [1.95, 2.05, 1.70, 1.65]\n\nlista_peso_ideal = []\n\n# seu código\n\n\nlista_peso_ideal",
   "outputs": [
    {
     "data": {
      "text/plain": "[]"
     },
     "execution_count": 62,
     "metadata": {},
     "output_type": "execute_result"
    }
   ],
   "execution_count": null
  },
  {
   "cell_type": "markdown",
   "source": "### 09 - Peso ideal 4\nDada uma lista de tuplas - cada elemento da lista é uma tupla contendo altura e peso de um paciente - crie uma nova lista com o IMC desses pacientes.",
   "metadata": {
    "cell_id": "00017-35ecbd33-baa9-4153-b117-1c2ff1825eee",
    "deepnote_cell_type": "markdown"
   }
  },
  {
   "cell_type": "code",
   "metadata": {
    "cell_id": "00018-296a74b6-b1ee-4a0e-8628-ac825b42777a",
    "deepnote_cell_type": "code"
   },
   "source": "altura_peso = [(1.80, 90), (1.65, 75), (1.91, 70)]\n\nimc = []\n\n# seu código\n\nimc",
   "outputs": [
    {
     "data": {
      "text/plain": "[]"
     },
     "execution_count": 63,
     "metadata": {},
     "output_type": "execute_result"
    }
   ],
   "execution_count": null
  },
  {
   "cell_type": "markdown",
   "source": "### 10 - Peso ideal 5\nDada uma lista de **listas** - cada elemento da lista é uma **lista** contendo altura e peso de um paciente, adicione mais um elemento à lista de cada paciente contendo o IMC do paciente. Verifique também se é 'baixo', 'normal' ou 'alto' segundo os padrões da OMS em que normal é entre 18.5 e 24.9.\n\nReflexão: por que no problema anterior temos que criar uma nova lista, e não podemos adicionar os dados de cada indivíduo à tupla?",
   "metadata": {
    "cell_id": "00019-6c646b4c-80b4-467f-9d9d-318e9a657706",
    "deepnote_cell_type": "markdown"
   }
  },
  {
   "cell_type": "code",
   "metadata": {
    "cell_id": "00020-ff27edbb-0ef6-413e-853d-4fe1ef684648",
    "deepnote_cell_type": "code"
   },
   "source": "altura_peso = [[1.80, 90], [1.65, 75], [1.91, 70]]\n\n# seu código\n\naltura_peso",
   "outputs": [
    {
     "data": {
      "text/plain": "[[1.8, 90, 27.777777777777775, 'alto'],\n [1.65, 75, 27.548209366391188, 'alto'],\n [1.91, 70, 19.188070502453332, 'normal']]"
     },
     "execution_count": 9,
     "metadata": {},
     "output_type": "execute_result"
    }
   ],
   "execution_count": null
  },
  {
   "cell_type": "markdown",
   "source": "<a style='text-decoration:none;line-height:16px;display:flex;color:#5B5B62;padding:10px;justify-content:end;' href='https://deepnote.com?utm_source=created-in-deepnote-cell&projectId=7bc88e6b-e21c-42d6-a070-b420cc720827' target=\"_blank\">\n<img alt='Created in deepnote.com' style='display:inline;max-height:16px;margin:0px;margin-right:7.5px;' src='data:image/svg+xml;base64,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' > </img>\nCreated in <span style='font-weight:600;margin-left:4px;'>Deepnote</span></a>",
   "metadata": {
    "tags": [],
    "created_in_deepnote_cell": true,
    "deepnote_cell_type": "markdown"
   }
  }
 ],
 "nbformat": 4,
 "nbformat_minor": 4,
 "metadata": {
  "kernelspec": {
   "display_name": "Python 3",
   "language": "python",
   "name": "python3"
  },
  "language_info": {
   "codemirror_mode": {
    "name": "ipython",
    "version": 3
   },
   "file_extension": ".py",
   "mimetype": "text/x-python",
   "name": "python",
   "nbconvert_exporter": "python",
   "pygments_lexer": "ipython3",
   "version": "3.8.5"
  },
  "deepnote_notebook_id": "f87a939d-9b21-4f50-85bb-961cb8008887",
  "deepnote": {},
  "deepnote_execution_queue": []
 }
}