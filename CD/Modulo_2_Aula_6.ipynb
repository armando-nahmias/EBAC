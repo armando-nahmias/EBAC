{
 "cells": [
  {
   "cell_type": "markdown",
   "source": "# <span style=\"color:blue\"> Projeto 01 - Concessão de cartões de crédito </span>\n<span style=\"color:blue\"> Este notebook é semelhante ao visto em vídeo, mas contém células azuis como esta, que trazem instruções para a sua atividade.</span>\n\n<span style=\"color:blue\">Após realizar as tarefas indicadas, você vai fazer o upload do seu arquivo no GitHub e enviar o link para a EBAC, ou alternativamente, fazer o upload do arquivo na plataforma da EBAC. Recomendamos o github, pois assim você já vai montando o seu portfólio.</span>",
   "metadata": {
    "cell_id": "00000-9378962b-c33a-4e90-896c-454f9f2ce714",
    "deepnote_cell_type": "markdown"
   }
  },
  {
   "cell_type": "markdown",
   "source": "## Etapa 1 CRISP - DM: Entendimento do negócio\n\nComo primeira etapa do CRISP-DM, vamos entender do que se trata o negócio, e quais os objetivos. \n\nEste é um problema de concessão de cartões de crédito, publicado no [Kaggle](https://www.kaggle.com/), uma plataforma que promove desafios de ciência de dados, oferecendo prêmios em dinheiro para os melhores colocados. O link original está [aqui](https://www.kaggle.com/rikdifos/credit-card-approval-prediction).  \n  \nEssa é uma base de proponentes de cartão de crédito, nosso objetivo é construir um modelo preditivo para identificar o risco de inadimplência (tipicamente definida pela ocorrência de um atraso maior ou igual a 90 em um horizonte de 12 meses) através de variáveis que podem ser observadas na data da avaliação do crédito (tipicamente quando o cliente solicita o cartão).\n\nAtividades do CRISP-DM:\n\n- Objetivos do negócio\nNote que o objetivo aqui é que o modelo sirva o mutuário (o cliente) para que avalie suas próprias decisões, e não a instituição de crédito.\n- Objetivos da modelagem\nO objetivo está bem definido: desenvolver o melhor modelo preditivo de modo a auxiliar o mutuário a tomar suas próprias decisões referentes a crédito.\n  \nNessa etapa também se avalia a situação da empresa/segmento/assunto de modo a se entender o tamanho do público, relevância, problemas presentes e todos os detalhes do processo gerador do fenômeno em questão, e portanto dos dados.\n\nTambém é nessa etapa que se constrói um planejamento do projeto.",
   "metadata": {
    "cell_id": "00001-95d340f2-fa6d-4991-9e1b-7b39b22d8ada",
    "deepnote_cell_type": "markdown"
   }
  },
  {
   "cell_type": "markdown",
   "source": "## Etapa 2 Crisp-DM: Entendimento dos dados\nA segunda etapa é o entendimento dos dados. Foram fornecidas 15 variáveis mais a variável resposta (em negrito na tabela). O significado de cada uma dessas variáveis se encontra na tabela.\n\n#### Dicionário de dados\n\nOs dados estão dispostos em uma tabela com uma linha para cada cliente, e uma coluna para cada variável armazenando as características desses clientes. Colocamos uma cópia o dicionário de dados (explicação dessas variáveis) abaixo neste notebook:\n\n| Variable Name            | Description                                         | Tipo  |\n| ------------------------ |:---------------------------------------------------:| -----:|\n| sexo| M = 'Masculino'; F = 'Feminino' |M/F|\n| posse_de_veiculo| Y = 'possui'; N = 'não possui' |Y/N|\n| posse_de_imovel| Y = 'possui'; N = 'não possui' |Y/N|\n| qtd_filhos| Quantidade de filhos |inteiro|\n| tipo_renda|Tipo de renda (ex: assaliariado, autônomo etc) | texto |\n| educacao| Nível de educação (ex: secundário, superior etc) |texto|\n| estado_civil | Estado civil (ex: solteiro, casado etc)| texto |\n| tipo_residencia | tipo de residência (ex: casa/apartamento, com os pais etc) | texto |\n| idade | idade em anos |inteiro|\n| tempo de emprego | tempo de emprego em anos |inteiro|\n| possui_celular | Indica se possui celular (1 = sim, 0 = não) |binária|\n| possui_fone_comercial | Indica se possui telefone comercial (1 = sim, 0 = não) |binária|\n| possui_fone | Indica se possui telefone (1 = sim, 0 = não) |binária|\n| possui_email | Indica se possui e-mail (1 = sim, 0 = não) |binária|\n| qt_pessoas_residencia | quantidade de pessoas na residência |inteiro|\n| **mau** | indicadora de mau pagador (True = mau, False = bom) |binária|\n\n\n\n",
   "metadata": {
    "cell_id": "00002-6c9527c6-707d-41de-b09c-025f7a9c72cb",
    "deepnote_cell_type": "markdown"
   }
  },
  {
   "cell_type": "markdown",
   "source": "#### Carregando os pacotes\nÉ considerado uma boa prática carregar os pacotes que serão utilizados como a primeira coisa do programa.",
   "metadata": {
    "cell_id": "00003-3a86c9ee-ab22-4b27-86f7-a59e40f9c533",
    "deepnote_cell_type": "markdown"
   }
  },
  {
   "cell_type": "code",
   "metadata": {
    "cell_id": "00004-51da6f37-615b-4a76-9860-9d8460d4a7bc",
    "deepnote_to_be_reexecuted": false,
    "source_hash": "7c83f6ef",
    "execution_start": 1637687547572,
    "execution_millis": 3689,
    "deepnote_cell_type": "code"
   },
   "source": "import pandas as pd\n\nimport seaborn as sns\nimport matplotlib.pyplot as plt\n\nfrom sklearn.model_selection import train_test_split\nfrom sklearn import metrics\nfrom sklearn.ensemble import RandomForestClassifier",
   "execution_count": 1,
   "outputs": []
  },
  {
   "cell_type": "markdown",
   "source": "#### Carregando os dados\nO comando pd.read_csv é um comando da biblioteca pandas (pd.) e carrega os dados do arquivo csv indicado para um objeto *dataframe* do pandas.",
   "metadata": {
    "cell_id": "00005-e4ef134f-8177-465c-bef9-c260d1be7707",
    "deepnote_cell_type": "markdown"
   }
  },
  {
   "cell_type": "code",
   "metadata": {
    "cell_id": "00006-622d6fbd-1fee-45a9-87e3-906565a7cac0",
    "deepnote_output_heights": [
     null,
     192
    ],
    "deepnote_to_be_reexecuted": false,
    "source_hash": "b981e51b",
    "execution_start": 1637687914735,
    "execution_millis": 648,
    "deepnote_cell_type": "code"
   },
   "source": "# Observe que demo01.csv está na mesma pasta que este notebook\n# do contrário, seria necessário indicar a pasta no nome do arquivo\ndf = pd.read_csv('Módulo 2 Aula 6.csv')\nprint (\"Foi carregado o seguinte quadro de dados (dataframe) com {0} linhas e {1} colunas:\".format(df.shape[0], df.shape[1]))\n\ndf.head()",
   "execution_count": 8,
   "outputs": [
    {
     "name": "stdout",
     "text": "Foi carregado o seguinte quadro de dados (dataframe) com 16650 linhas e 16 colunas:\n",
     "output_type": "stream"
    },
    {
     "output_type": "execute_result",
     "execution_count": 8,
     "data": {
      "application/vnd.deepnote.dataframe.v2+json": {
       "row_count": 5,
       "column_count": 16,
       "columns": [
        {
         "name": "sexo",
         "dtype": "object",
         "stats": {
          "unique_count": 2,
          "nan_count": 0,
          "categories": [
           {
            "name": "F",
            "count": 3
           },
           {
            "name": "M",
            "count": 2
           }
          ]
         }
        },
        {
         "name": "posse_de_veiculo",
         "dtype": "object",
         "stats": {
          "unique_count": 2,
          "nan_count": 0,
          "categories": [
           {
            "name": "Y",
            "count": 3
           },
           {
            "name": "N",
            "count": 2
           }
          ]
         }
        },
        {
         "name": "posse_de_imovel",
         "dtype": "object",
         "stats": {
          "unique_count": 2,
          "nan_count": 0,
          "categories": [
           {
            "name": "Y",
            "count": 4
           },
           {
            "name": "N",
            "count": 1
           }
          ]
         }
        },
        {
         "name": "qtd_filhos",
         "dtype": "int64",
         "stats": {
          "unique_count": 1,
          "nan_count": 0,
          "min": "0",
          "max": "0",
          "histogram": [
           {
            "bin_start": -0.5,
            "bin_end": -0.4,
            "count": 0
           },
           {
            "bin_start": -0.4,
            "bin_end": -0.3,
            "count": 0
           },
           {
            "bin_start": -0.3,
            "bin_end": -0.19999999999999996,
            "count": 0
           },
           {
            "bin_start": -0.19999999999999996,
            "bin_end": -0.09999999999999998,
            "count": 0
           },
           {
            "bin_start": -0.09999999999999998,
            "bin_end": 0,
            "count": 0
           },
           {
            "bin_start": 0,
            "bin_end": 0.10000000000000009,
            "count": 5
           },
           {
            "bin_start": 0.10000000000000009,
            "bin_end": 0.20000000000000007,
            "count": 0
           },
           {
            "bin_start": 0.20000000000000007,
            "bin_end": 0.30000000000000004,
            "count": 0
           },
           {
            "bin_start": 0.30000000000000004,
            "bin_end": 0.4,
            "count": 0
           },
           {
            "bin_start": 0.4,
            "bin_end": 0.5,
            "count": 0
           }
          ]
         }
        },
        {
         "name": "tipo_renda",
         "dtype": "object",
         "stats": {
          "unique_count": 2,
          "nan_count": 0,
          "categories": [
           {
            "name": "Working",
            "count": 3
           },
           {
            "name": "Commercial associate",
            "count": 2
           }
          ]
         }
        },
        {
         "name": "educacao",
         "dtype": "object",
         "stats": {
          "unique_count": 3,
          "nan_count": 0,
          "categories": [
           {
            "name": "Secondary / secondary special",
            "count": 3
           },
           {
            "name": "Higher education",
            "count": 1
           },
           {
            "name": "Incomplete higher",
            "count": 1
           }
          ]
         }
        },
        {
         "name": "estado_civil",
         "dtype": "object",
         "stats": {
          "unique_count": 2,
          "nan_count": 0,
          "categories": [
           {
            "name": "Married",
            "count": 3
           },
           {
            "name": "Single / not married",
            "count": 2
           }
          ]
         }
        },
        {
         "name": "tipo_residencia",
         "dtype": "object",
         "stats": {
          "unique_count": 1,
          "nan_count": 0,
          "categories": [
           {
            "name": "House / apartment",
            "count": 5
           }
          ]
         }
        },
        {
         "name": "idade",
         "dtype": "float64",
         "stats": {
          "unique_count": 4,
          "nan_count": 0,
          "min": "29.23013698630137",
          "max": "58.83287671232877",
          "histogram": [
           {
            "bin_start": 29.23013698630137,
            "bin_end": 32.19041095890411,
            "count": 1
           },
           {
            "bin_start": 32.19041095890411,
            "bin_end": 35.15068493150685,
            "count": 0
           },
           {
            "bin_start": 35.15068493150685,
            "bin_end": 38.110958904109594,
            "count": 0
           },
           {
            "bin_start": 38.110958904109594,
            "bin_end": 41.07123287671233,
            "count": 0
           },
           {
            "bin_start": 41.07123287671233,
            "bin_end": 44.031506849315065,
            "count": 0
           },
           {
            "bin_start": 44.031506849315065,
            "bin_end": 46.991780821917814,
            "count": 1
           },
           {
            "bin_start": 46.991780821917814,
            "bin_end": 49.95205479452055,
            "count": 0
           },
           {
            "bin_start": 49.95205479452055,
            "bin_end": 52.912328767123284,
            "count": 2
           },
           {
            "bin_start": 52.912328767123284,
            "bin_end": 55.87260273972603,
            "count": 0
           },
           {
            "bin_start": 55.87260273972603,
            "bin_end": 58.83287671232877,
            "count": 1
           }
          ]
         }
        },
        {
         "name": "tempo_emprego",
         "dtype": "float64",
         "stats": {
          "unique_count": 4,
          "nan_count": 0,
          "min": "2.106849315068493",
          "max": "8.35890410958904",
          "histogram": [
           {
            "bin_start": 2.106849315068493,
            "bin_end": 2.732054794520548,
            "count": 1
           },
           {
            "bin_start": 2.732054794520548,
            "bin_end": 3.357260273972603,
            "count": 2
           },
           {
            "bin_start": 3.357260273972603,
            "bin_end": 3.9824657534246577,
            "count": 0
           },
           {
            "bin_start": 3.9824657534246577,
            "bin_end": 4.607671232876712,
            "count": 0
           },
           {
            "bin_start": 4.607671232876712,
            "bin_end": 5.232876712328768,
            "count": 0
           },
           {
            "bin_start": 5.232876712328768,
            "bin_end": 5.858082191780822,
            "count": 0
           },
           {
            "bin_start": 5.858082191780822,
            "bin_end": 6.483287671232876,
            "count": 0
           },
           {
            "bin_start": 6.483287671232876,
            "bin_end": 7.108493150684932,
            "count": 0
           },
           {
            "bin_start": 7.108493150684932,
            "bin_end": 7.7336986301369866,
            "count": 0
           },
           {
            "bin_start": 7.7336986301369866,
            "bin_end": 8.35890410958904,
            "count": 2
           }
          ]
         }
        },
        {
         "name": "possui_celular",
         "dtype": "int64",
         "stats": {
          "unique_count": 1,
          "nan_count": 0,
          "min": "1",
          "max": "1",
          "histogram": [
           {
            "bin_start": 0.5,
            "bin_end": 0.6,
            "count": 0
           },
           {
            "bin_start": 0.6,
            "bin_end": 0.7,
            "count": 0
           },
           {
            "bin_start": 0.7,
            "bin_end": 0.8,
            "count": 0
           },
           {
            "bin_start": 0.8,
            "bin_end": 0.9,
            "count": 0
           },
           {
            "bin_start": 0.9,
            "bin_end": 1,
            "count": 0
           },
           {
            "bin_start": 1,
            "bin_end": 1.1,
            "count": 5
           },
           {
            "bin_start": 1.1,
            "bin_end": 1.2000000000000002,
            "count": 0
           },
           {
            "bin_start": 1.2000000000000002,
            "bin_end": 1.3,
            "count": 0
           },
           {
            "bin_start": 1.3,
            "bin_end": 1.4,
            "count": 0
           },
           {
            "bin_start": 1.4,
            "bin_end": 1.5,
            "count": 0
           }
          ]
         }
        },
        {
         "name": "possui_fone_comercial",
         "dtype": "int64",
         "stats": {
          "unique_count": 2,
          "nan_count": 0,
          "min": "0",
          "max": "1",
          "histogram": [
           {
            "bin_start": 0,
            "bin_end": 0.1,
            "count": 4
           },
           {
            "bin_start": 0.1,
            "bin_end": 0.2,
            "count": 0
           },
           {
            "bin_start": 0.2,
            "bin_end": 0.30000000000000004,
            "count": 0
           },
           {
            "bin_start": 0.30000000000000004,
            "bin_end": 0.4,
            "count": 0
           },
           {
            "bin_start": 0.4,
            "bin_end": 0.5,
            "count": 0
           },
           {
            "bin_start": 0.5,
            "bin_end": 0.6000000000000001,
            "count": 0
           },
           {
            "bin_start": 0.6000000000000001,
            "bin_end": 0.7000000000000001,
            "count": 0
           },
           {
            "bin_start": 0.7000000000000001,
            "bin_end": 0.8,
            "count": 0
           },
           {
            "bin_start": 0.8,
            "bin_end": 0.9,
            "count": 0
           },
           {
            "bin_start": 0.9,
            "bin_end": 1,
            "count": 1
           }
          ]
         }
        },
        {
         "name": "possui_fone",
         "dtype": "int64",
         "stats": {
          "unique_count": 2,
          "nan_count": 0,
          "min": "0",
          "max": "1",
          "histogram": [
           {
            "bin_start": 0,
            "bin_end": 0.1,
            "count": 2
           },
           {
            "bin_start": 0.1,
            "bin_end": 0.2,
            "count": 0
           },
           {
            "bin_start": 0.2,
            "bin_end": 0.30000000000000004,
            "count": 0
           },
           {
            "bin_start": 0.30000000000000004,
            "bin_end": 0.4,
            "count": 0
           },
           {
            "bin_start": 0.4,
            "bin_end": 0.5,
            "count": 0
           },
           {
            "bin_start": 0.5,
            "bin_end": 0.6000000000000001,
            "count": 0
           },
           {
            "bin_start": 0.6000000000000001,
            "bin_end": 0.7000000000000001,
            "count": 0
           },
           {
            "bin_start": 0.7000000000000001,
            "bin_end": 0.8,
            "count": 0
           },
           {
            "bin_start": 0.8,
            "bin_end": 0.9,
            "count": 0
           },
           {
            "bin_start": 0.9,
            "bin_end": 1,
            "count": 3
           }
          ]
         }
        },
        {
         "name": "possui_email",
         "dtype": "int64",
         "stats": {
          "unique_count": 2,
          "nan_count": 0,
          "min": "0",
          "max": "1",
          "histogram": [
           {
            "bin_start": 0,
            "bin_end": 0.1,
            "count": 2
           },
           {
            "bin_start": 0.1,
            "bin_end": 0.2,
            "count": 0
           },
           {
            "bin_start": 0.2,
            "bin_end": 0.30000000000000004,
            "count": 0
           },
           {
            "bin_start": 0.30000000000000004,
            "bin_end": 0.4,
            "count": 0
           },
           {
            "bin_start": 0.4,
            "bin_end": 0.5,
            "count": 0
           },
           {
            "bin_start": 0.5,
            "bin_end": 0.6000000000000001,
            "count": 0
           },
           {
            "bin_start": 0.6000000000000001,
            "bin_end": 0.7000000000000001,
            "count": 0
           },
           {
            "bin_start": 0.7000000000000001,
            "bin_end": 0.8,
            "count": 0
           },
           {
            "bin_start": 0.8,
            "bin_end": 0.9,
            "count": 0
           },
           {
            "bin_start": 0.9,
            "bin_end": 1,
            "count": 3
           }
          ]
         }
        },
        {
         "name": "qt_pessoas_residencia",
         "dtype": "float64",
         "stats": {
          "unique_count": 2,
          "nan_count": 0,
          "min": "1.0",
          "max": "2.0",
          "histogram": [
           {
            "bin_start": 1,
            "bin_end": 1.1,
            "count": 2
           },
           {
            "bin_start": 1.1,
            "bin_end": 1.2,
            "count": 0
           },
           {
            "bin_start": 1.2,
            "bin_end": 1.3,
            "count": 0
           },
           {
            "bin_start": 1.3,
            "bin_end": 1.4,
            "count": 0
           },
           {
            "bin_start": 1.4,
            "bin_end": 1.5,
            "count": 0
           },
           {
            "bin_start": 1.5,
            "bin_end": 1.6,
            "count": 0
           },
           {
            "bin_start": 1.6,
            "bin_end": 1.7000000000000002,
            "count": 0
           },
           {
            "bin_start": 1.7000000000000002,
            "bin_end": 1.8,
            "count": 0
           },
           {
            "bin_start": 1.8,
            "bin_end": 1.9,
            "count": 0
           },
           {
            "bin_start": 1.9,
            "bin_end": 2,
            "count": 3
           }
          ]
         }
        },
        {
         "name": "mau",
         "dtype": "bool",
         "stats": {
          "unique_count": 1,
          "nan_count": 0,
          "categories": [
           {
            "name": "False",
            "count": 5
           }
          ]
         }
        },
        {
         "name": "_deepnote_index_column",
         "dtype": "int64"
        }
       ],
       "rows_top": [
        {
         "sexo": "M",
         "posse_de_veiculo": "Y",
         "posse_de_imovel": "Y",
         "qtd_filhos": 0,
         "tipo_renda": "Working",
         "educacao": "Secondary / secondary special",
         "estado_civil": "Married",
         "tipo_residencia": "House / apartment",
         "idade": 58.83287671232877,
         "tempo_emprego": 3.106849315068493,
         "possui_celular": 1,
         "possui_fone_comercial": 0,
         "possui_fone": 0,
         "possui_email": 0,
         "qt_pessoas_residencia": 2,
         "mau": false,
         "_deepnote_index_column": 0
        },
        {
         "sexo": "F",
         "posse_de_veiculo": "N",
         "posse_de_imovel": "Y",
         "qtd_filhos": 0,
         "tipo_renda": "Commercial associate",
         "educacao": "Secondary / secondary special",
         "estado_civil": "Single / not married",
         "tipo_residencia": "House / apartment",
         "idade": 52.35616438356164,
         "tempo_emprego": 8.35890410958904,
         "possui_celular": 1,
         "possui_fone_comercial": 0,
         "possui_fone": 1,
         "possui_email": 1,
         "qt_pessoas_residencia": 1,
         "mau": false,
         "_deepnote_index_column": 1
        },
        {
         "sexo": "F",
         "posse_de_veiculo": "N",
         "posse_de_imovel": "Y",
         "qtd_filhos": 0,
         "tipo_renda": "Commercial associate",
         "educacao": "Secondary / secondary special",
         "estado_civil": "Single / not married",
         "tipo_residencia": "House / apartment",
         "idade": 52.35616438356164,
         "tempo_emprego": 8.35890410958904,
         "possui_celular": 1,
         "possui_fone_comercial": 0,
         "possui_fone": 1,
         "possui_email": 1,
         "qt_pessoas_residencia": 1,
         "mau": false,
         "_deepnote_index_column": 2
        },
        {
         "sexo": "M",
         "posse_de_veiculo": "Y",
         "posse_de_imovel": "Y",
         "qtd_filhos": 0,
         "tipo_renda": "Working",
         "educacao": "Higher education",
         "estado_civil": "Married",
         "tipo_residencia": "House / apartment",
         "idade": 46.224657534246575,
         "tempo_emprego": 2.106849315068493,
         "possui_celular": 1,
         "possui_fone_comercial": 1,
         "possui_fone": 1,
         "possui_email": 1,
         "qt_pessoas_residencia": 2,
         "mau": false,
         "_deepnote_index_column": 3
        },
        {
         "sexo": "F",
         "posse_de_veiculo": "Y",
         "posse_de_imovel": "N",
         "qtd_filhos": 0,
         "tipo_renda": "Working",
         "educacao": "Incomplete higher",
         "estado_civil": "Married",
         "tipo_residencia": "House / apartment",
         "idade": 29.23013698630137,
         "tempo_emprego": 3.021917808219178,
         "possui_celular": 1,
         "possui_fone_comercial": 0,
         "possui_fone": 0,
         "possui_email": 0,
         "qt_pessoas_residencia": 2,
         "mau": false,
         "_deepnote_index_column": 4
        }
       ],
       "rows_bottom": null
      },
      "text/plain": "  sexo posse_de_veiculo posse_de_imovel  qtd_filhos            tipo_renda  \\\n0    M                Y               Y           0               Working   \n1    F                N               Y           0  Commercial associate   \n2    F                N               Y           0  Commercial associate   \n3    M                Y               Y           0               Working   \n4    F                Y               N           0               Working   \n\n                        educacao          estado_civil    tipo_residencia  \\\n0  Secondary / secondary special               Married  House / apartment   \n1  Secondary / secondary special  Single / not married  House / apartment   \n2  Secondary / secondary special  Single / not married  House / apartment   \n3               Higher education               Married  House / apartment   \n4              Incomplete higher               Married  House / apartment   \n\n       idade  tempo_emprego  possui_celular  possui_fone_comercial  \\\n0  58.832877       3.106849               1                      0   \n1  52.356164       8.358904               1                      0   \n2  52.356164       8.358904               1                      0   \n3  46.224658       2.106849               1                      1   \n4  29.230137       3.021918               1                      0   \n\n   possui_fone  possui_email  qt_pessoas_residencia    mau  \n0            0             0                    2.0  False  \n1            1             1                    1.0  False  \n2            1             1                    1.0  False  \n3            1             1                    2.0  False  \n4            0             0                    2.0  False  ",
      "text/html": "<div>\n<style scoped>\n    .dataframe tbody tr th:only-of-type {\n        vertical-align: middle;\n    }\n\n    .dataframe tbody tr th {\n        vertical-align: top;\n    }\n\n    .dataframe thead th {\n        text-align: right;\n    }\n</style>\n<table border=\"1\" class=\"dataframe\">\n  <thead>\n    <tr style=\"text-align: right;\">\n      <th></th>\n      <th>sexo</th>\n      <th>posse_de_veiculo</th>\n      <th>posse_de_imovel</th>\n      <th>qtd_filhos</th>\n      <th>tipo_renda</th>\n      <th>educacao</th>\n      <th>estado_civil</th>\n      <th>tipo_residencia</th>\n      <th>idade</th>\n      <th>tempo_emprego</th>\n      <th>possui_celular</th>\n      <th>possui_fone_comercial</th>\n      <th>possui_fone</th>\n      <th>possui_email</th>\n      <th>qt_pessoas_residencia</th>\n      <th>mau</th>\n    </tr>\n  </thead>\n  <tbody>\n    <tr>\n      <th>0</th>\n      <td>M</td>\n      <td>Y</td>\n      <td>Y</td>\n      <td>0</td>\n      <td>Working</td>\n      <td>Secondary / secondary special</td>\n      <td>Married</td>\n      <td>House / apartment</td>\n      <td>58.832877</td>\n      <td>3.106849</td>\n      <td>1</td>\n      <td>0</td>\n      <td>0</td>\n      <td>0</td>\n      <td>2.0</td>\n      <td>False</td>\n    </tr>\n    <tr>\n      <th>1</th>\n      <td>F</td>\n      <td>N</td>\n      <td>Y</td>\n      <td>0</td>\n      <td>Commercial associate</td>\n      <td>Secondary / secondary special</td>\n      <td>Single / not married</td>\n      <td>House / apartment</td>\n      <td>52.356164</td>\n      <td>8.358904</td>\n      <td>1</td>\n      <td>0</td>\n      <td>1</td>\n      <td>1</td>\n      <td>1.0</td>\n      <td>False</td>\n    </tr>\n    <tr>\n      <th>2</th>\n      <td>F</td>\n      <td>N</td>\n      <td>Y</td>\n      <td>0</td>\n      <td>Commercial associate</td>\n      <td>Secondary / secondary special</td>\n      <td>Single / not married</td>\n      <td>House / apartment</td>\n      <td>52.356164</td>\n      <td>8.358904</td>\n      <td>1</td>\n      <td>0</td>\n      <td>1</td>\n      <td>1</td>\n      <td>1.0</td>\n      <td>False</td>\n    </tr>\n    <tr>\n      <th>3</th>\n      <td>M</td>\n      <td>Y</td>\n      <td>Y</td>\n      <td>0</td>\n      <td>Working</td>\n      <td>Higher education</td>\n      <td>Married</td>\n      <td>House / apartment</td>\n      <td>46.224658</td>\n      <td>2.106849</td>\n      <td>1</td>\n      <td>1</td>\n      <td>1</td>\n      <td>1</td>\n      <td>2.0</td>\n      <td>False</td>\n    </tr>\n    <tr>\n      <th>4</th>\n      <td>F</td>\n      <td>Y</td>\n      <td>N</td>\n      <td>0</td>\n      <td>Working</td>\n      <td>Incomplete higher</td>\n      <td>Married</td>\n      <td>House / apartment</td>\n      <td>29.230137</td>\n      <td>3.021918</td>\n      <td>1</td>\n      <td>0</td>\n      <td>0</td>\n      <td>0</td>\n      <td>2.0</td>\n      <td>False</td>\n    </tr>\n  </tbody>\n</table>\n</div>"
     },
     "metadata": {}
    }
   ]
  },
  {
   "cell_type": "markdown",
   "source": "#### Entendimento dos dados - Univariada\nNesta etapa tipicamente avaliamos a distribuição de todas as variáveis. Nesta demonstração vamos ver a variável resposta e dois exemplos de univariada apenas. Mas sinta-se à vontade para tentar observar outras variáveis.",
   "metadata": {
    "cell_id": "00007-651054cd-c803-46ac-aa37-ad51f43ce2ab",
    "deepnote_cell_type": "markdown"
   }
  },
  {
   "cell_type": "code",
   "metadata": {
    "cell_id": "00008-bed1e056-84d1-45aa-83db-60bac85228eb",
    "deepnote_to_be_reexecuted": false,
    "source_hash": "c80de807",
    "execution_start": 1637687932767,
    "execution_millis": 5,
    "deepnote_cell_type": "code"
   },
   "source": "print(df['mau'].value_counts())\nprint(\"\\nTaxa de inadimplentes:\")\nprint(df['mau'].mean())",
   "execution_count": 9,
   "outputs": [
    {
     "name": "stdout",
     "text": "False    16260\nTrue       390\nName: mau, dtype: int64\n\nTaxa de inadimplentes:\n0.023423423423423424\n",
     "output_type": "stream"
    }
   ]
  },
  {
   "cell_type": "code",
   "metadata": {
    "cell_id": "00009-d2ba30d3-7c19-46e5-8b22-9f7f1f384830",
    "deepnote_output_heights": [
     266
    ],
    "deepnote_to_be_reexecuted": false,
    "source_hash": "ea42b42c",
    "execution_start": 1637689247151,
    "execution_millis": 232,
    "deepnote_cell_type": "code"
   },
   "source": "var = 'mau'\ngrafico_barras = df[var].value_counts().plot.bar()",
   "execution_count": 18,
   "outputs": [
    {
     "data": {
      "text/plain": "<Figure size 432x288 with 1 Axes>",
      "image/png": "[encoded data removed]"
     },
     "metadata": {
      "needs_background": "light",
      "image/png": {
       "width": 387,
       "height": 264
      }
     },
     "output_type": "display_data"
    }
   ]
  },
  {
   "cell_type": "markdown",
   "source": "# Tarefa 1",
   "metadata": {
    "tags": [],
    "is_collapsed": false,
    "cell_id": "00010-acadde0d-fd16-4bed-afb6-7a0614b947d4",
    "deepnote_cell_type": "text-cell-h1"
   }
  },
  {
   "cell_type": "markdown",
   "source": "### <span style=\"color:blue\">Tarefa 01 - gráfico de barras</span>\n<span style=\"color:blue\"> Com base no código da célula anterior, construa um gráfico de barras para pelo menos duas outras variáveis. \n**Dica:** Não tente usar as variáveis ```tempo_emprego``` e ```idade``` pois o gráfico de barras dessa forma como construímos não é adequado para elas. </span>",
   "metadata": {
    "cell_id": "00010-de89ccc9-07ad-43a0-9725-a55961b5ebd8",
    "deepnote_cell_type": "markdown"
   }
  },
  {
   "cell_type": "code",
   "source": "var = 'educacao'\ngrafico_barras = df[var].value_counts().plot.bar()",
   "metadata": {
    "tags": [],
    "cell_id": "00010-8d058ede-a9bc-4b66-a5de-ea1c5c9aa1ad",
    "deepnote_to_be_reexecuted": false,
    "source_hash": "d2b54769",
    "execution_start": 1637688090528,
    "execution_millis": 212,
    "deepnote_output_heights": [
     393
    ],
    "deepnote_cell_type": "code"
   },
   "outputs": [
    {
     "data": {
      "text/plain": "<Figure size 432x288 with 1 Axes>",
      "image/png": "[encoded data removed]"
     },
     "metadata": {
      "needs_background": "light",
      "image/png": {
       "width": 387,
       "height": 391
      }
     },
     "output_type": "display_data"
    }
   ],
   "execution_count": 12
  },
  {
   "cell_type": "code",
   "source": "var = 'tipo_residencia'\ngrafico_barras = df[var].value_counts().plot.bar()",
   "metadata": {
    "tags": [],
    "cell_id": "00011-929c3473-0770-40a5-a587-5d19c1285a24",
    "deepnote_to_be_reexecuted": false,
    "source_hash": "654054ee",
    "execution_start": 1637688142692,
    "execution_millis": 246,
    "deepnote_output_heights": [
     344
    ],
    "deepnote_cell_type": "code"
   },
   "outputs": [
    {
     "data": {
      "text/plain": "<Figure size 432x288 with 1 Axes>",
      "image/png": "[encoded data removed]"
     },
     "metadata": {
      "needs_background": "light",
      "image/png": {
       "width": 387,
       "height": 342
      }
     },
     "output_type": "display_data"
    }
   ],
   "execution_count": 13
  },
  {
   "cell_type": "code",
   "source": "var = 'qtd_filhos'\ngrafico_barras = df[var].value_counts().plot.bar()",
   "metadata": {
    "tags": [],
    "cell_id": "00013-e4df59c9-158f-49af-8fc3-8628fef22b61",
    "deepnote_to_be_reexecuted": false,
    "source_hash": "ba60ee11",
    "execution_start": 1637689257864,
    "execution_millis": 226,
    "deepnote_output_heights": [
     256
    ],
    "deepnote_cell_type": "code"
   },
   "outputs": [
    {
     "data": {
      "text/plain": "<Figure size 432x288 with 1 Axes>",
      "image/png": "[encoded data removed]"
     },
     "metadata": {
      "needs_background": "light",
      "image/png": {
       "width": 387,
       "height": 254
      }
     },
     "output_type": "display_data"
    }
   ],
   "execution_count": 19
  },
  {
   "cell_type": "code",
   "metadata": {
    "cell_id": "00011-52548006-ea70-4594-b11f-056d7db9c3d8",
    "deepnote_output_heights": [
     21.199996948242188,
     354
    ],
    "deepnote_to_be_reexecuted": false,
    "source_hash": "17b58ac4",
    "execution_start": 1637688188960,
    "execution_millis": 516,
    "deepnote_cell_type": "code"
   },
   "source": "plt.clf()\nvar = \"tempo_emprego\"\n\nsns.displot(df, x = var, bins = 50)\nplt.show()",
   "execution_count": 14,
   "outputs": [
    {
     "data": {
      "text/plain": "<Figure size 432x288 with 0 Axes>"
     },
     "metadata": {},
     "output_type": "display_data"
    },
    {
     "data": {
      "text/plain": "<Figure size 360x360 with 1 Axes>",
      "image/png": "[encoded data removed]"
     },
     "metadata": {
      "needs_background": "light",
      "image/png": {
       "width": 352,
       "height": 352
      }
     },
     "output_type": "display_data"
    }
   ]
  },
  {
   "cell_type": "code",
   "metadata": {
    "cell_id": "00012-8dd17682-325c-4902-82b7-9032f8925bc1",
    "deepnote_to_be_reexecuted": false,
    "source_hash": "596362d5",
    "execution_start": 1637688195294,
    "execution_millis": 1,
    "deepnote_cell_type": "code"
   },
   "source": "# Alterando valores de -1000 pra -2, para visualizar melhor no gráfico\nvar = \"tempo_emprego\"\ndf.loc[df[var]<0,var] = -2",
   "execution_count": 15,
   "outputs": []
  },
  {
   "cell_type": "code",
   "metadata": {
    "cell_id": "00013-9d808f25-fd63-4c83-a504-d73b7db4c40c",
    "deepnote_output_heights": [
     21.199996948242188,
     354
    ],
    "deepnote_to_be_reexecuted": false,
    "source_hash": "17b58ac4",
    "execution_start": 1637688197591,
    "execution_millis": 483,
    "deepnote_cell_type": "code"
   },
   "source": "plt.clf()\nvar = \"tempo_emprego\"\n\nsns.displot(df, x = var, bins = 50)\nplt.show()",
   "execution_count": 16,
   "outputs": [
    {
     "data": {
      "text/plain": "<Figure size 432x288 with 0 Axes>"
     },
     "metadata": {},
     "output_type": "display_data"
    },
    {
     "data": {
      "text/plain": "<Figure size 360x360 with 1 Axes>",
      "image/png": "[encoded data removed]"
     },
     "metadata": {
      "needs_background": "light",
      "image/png": {
       "width": 352,
       "height": 352
      }
     },
     "output_type": "display_data"
    }
   ]
  },
  {
   "cell_type": "markdown",
   "source": "# Tarefa 2",
   "metadata": {
    "tags": [],
    "is_collapsed": false,
    "cell_id": "00018-a18af3b1-4985-4f27-af10-784f967ed566",
    "deepnote_cell_type": "text-cell-h1"
   }
  },
  {
   "cell_type": "markdown",
   "source": "### <span style=\"color:blue\">Tarefa 02 - Histograma </span>\n<span style=\"color:blue\"> Com base no código da célula anterior, construa o histograma da variavel ```dade```.  </span>\n",
   "metadata": {
    "cell_id": "00014-e38db321-9c43-4308-a44b-559ee779d9da",
    "deepnote_cell_type": "markdown"
   }
  },
  {
   "cell_type": "code",
   "source": "plt.clf()\nvar = \"idade\"\n\nsns.displot(df, x = var, bins = 50)\nplt.show()",
   "metadata": {
    "tags": [],
    "cell_id": "00018-92f1e3ef-30fa-4876-bae8-5c1bdeff4924",
    "deepnote_to_be_reexecuted": false,
    "source_hash": "8e82d4ec",
    "execution_start": 1637689327041,
    "execution_millis": 424,
    "deepnote_output_heights": [
     21.199996948242188,
     354
    ],
    "deepnote_cell_type": "code"
   },
   "outputs": [
    {
     "data": {
      "text/plain": "<Figure size 432x288 with 0 Axes>"
     },
     "metadata": {},
     "output_type": "display_data"
    },
    {
     "data": {
      "text/plain": "<Figure size 360x360 with 1 Axes>",
      "image/png": "[encoded data removed]"
     },
     "metadata": {
      "needs_background": "light",
      "image/png": {
       "width": 352,
       "height": 352
      }
     },
     "output_type": "display_data"
    }
   ],
   "execution_count": 20
  },
  {
   "cell_type": "markdown",
   "source": "### Entendimento dos dados - Bivariadas\n\nEntender a alteração da inadimplência indicada pela variável resposta (```AtrasoRelevante2anos```) e as variáveis explicativas (demais). Para isto, vamos calcular a taxa de inadimplentes (qtd inadimplentes / total) para diferentes grupos definidos pelas variáveis explicativas.\n",
   "metadata": {
    "cell_id": "00015-8f0e9611-aa45-4813-a58c-0adb5c0a745f",
    "deepnote_cell_type": "markdown"
   }
  },
  {
   "cell_type": "code",
   "metadata": {
    "cell_id": "00016-275f53f0-b1ca-498c-a571-43219cda11da",
    "deepnote_output_heights": [
     338
    ],
    "deepnote_to_be_reexecuted": false,
    "source_hash": "ea7872c4",
    "execution_start": 1637689353318,
    "execution_millis": 253,
    "deepnote_cell_type": "code"
   },
   "source": "var = 'idade'\ncat_srs, bins = pd.qcut(df[var], 4, retbins=True)\ng = df.groupby(cat_srs)\nbiv = g['mau'].mean()\n\nax = biv.plot.line()\nax.set_ylabel(\"Proporção de inadimplentes\")\nticks = plt.xticks(range(len(biv.index.values)), biv.index.values, rotation = 90)",
   "execution_count": 21,
   "outputs": [
    {
     "data": {
      "text/plain": "<Figure size 432x288 with 1 Axes>",
      "image/png": "[encoded data removed]"
     },
     "metadata": {
      "needs_background": "light",
      "image/png": {
       "width": 398,
       "height": 336
      }
     },
     "output_type": "display_data"
    }
   ]
  },
  {
   "cell_type": "markdown",
   "source": "# Tarefa 3",
   "metadata": {
    "tags": [],
    "is_collapsed": false,
    "cell_id": "00023-eeca344a-0c1b-40db-a96c-b06f5f17258b",
    "deepnote_cell_type": "text-cell-h1"
   }
  },
  {
   "cell_type": "markdown",
   "source": "### <span style=\"color:blue\">Tarefa 03 - Bivariada </span>\n<span style=\"color:blue\"> Com base no código da célula anterior, construa uma análise bivariada para a variável  ```tempo_emprego```.  Em seguida, insira uma célula de markdown e conclua se a variável parece discriminar risco de crédito. </span>\n\n",
   "metadata": {
    "cell_id": "00017-3eccd055-f6ed-4487-a49d-e3744d6e831b",
    "deepnote_cell_type": "markdown"
   }
  },
  {
   "cell_type": "code",
   "metadata": {
    "cell_id": "00018-d8823255-b4ec-4c13-b6d1-5ba09606d70c",
    "deepnote_to_be_reexecuted": false,
    "source_hash": "48b8d89d",
    "execution_start": 1637689396070,
    "execution_millis": 276,
    "deepnote_output_heights": [
     332
    ],
    "deepnote_cell_type": "code"
   },
   "source": "var = 'tempo_emprego'\ncat_srs, bins = pd.qcut(df[var], 4, retbins=True)\ng = df.groupby(cat_srs)\nbiv = g['mau'].mean()\n\nax = biv.plot.line()\nax.set_ylabel(\"Proporção de inadimplentes\")\nticks = plt.xticks(range(len(biv.index.values)), biv.index.values, rotation = 90)",
   "execution_count": 22,
   "outputs": [
    {
     "data": {
      "text/plain": "<Figure size 432x288 with 1 Axes>",
      "image/png": "[encoded data removed]"
     },
     "metadata": {
      "needs_background": "light",
      "image/png": {
       "width": 398,
       "height": 330
      }
     },
     "output_type": "display_data"
    }
   ]
  },
  {
   "cell_type": "markdown",
   "source": "O gráfico apresenta 3 tendências distintas.\n\n1. Quanto maior o tempo de desemprego, menor o risco de crédito (provavelmente porque as pessoas não têm mesmo emprego, então não contraem dívidas).\n1. Até pouco mais de um ano de tempo de emprego, o risco de crédito aumento (provavelmente porque a pessoa ainda está quitando os débitos do período de desemprego).\n1. A partir de um ano de tempo de emprego, o risco de crédito diminui progressivamente.\n",
   "metadata": {
    "cell_id": "00019-7023b7db-69f2-413d-952d-7e678841d964",
    "deepnote_cell_type": "markdown"
   }
  },
  {
   "cell_type": "markdown",
   "source": "## Etapa 3 Crisp-DM: Preparação dos dados\nNessa etapa realizamos tipicamente as seguintes operações com os dados:\n- seleção\nNeste caso, os dados já estão pré-selecionados\n- limpeza\nPrecisaremos identificar e tratar dados faltantes\n- construção\nNeste primeiro exercício não faremos construção de novas variáveis\n- integração\nTemos apenas uma fonte de dados, não é necessário agregação\n- formatação\nOs dados já se encontram em formatos úteis\n\nOs dados já estão pré-selecionados, construídos e integrados, mas há dados faltantes que serão eliminados na próxima célula",
   "metadata": {
    "cell_id": "00020-38b84266-236f-4d1f-b5ed-559823ac5417",
    "deepnote_cell_type": "markdown"
   }
  },
  {
   "cell_type": "code",
   "metadata": {
    "cell_id": "00021-c423d30e-4f1d-4fb2-b2cf-6f564f312bc7",
    "deepnote_output_heights": [
     496
    ],
    "deepnote_to_be_reexecuted": false,
    "source_hash": "550786bc",
    "execution_start": 1637689811105,
    "execution_millis": 13,
    "deepnote_cell_type": "code"
   },
   "source": "metadata = pd.DataFrame(df.dtypes, columns = ['tipo'])\n\nmetadata['n_categorias'] = 0\n\nfor var in metadata.index:\n    metadata.loc[var,'n_categorias'] = len(df.groupby([var]).size())\n    \nmetadata",
   "execution_count": 23,
   "outputs": [
    {
     "output_type": "execute_result",
     "execution_count": 23,
     "data": {
      "application/vnd.deepnote.dataframe.v2+json": {
       "row_count": 16,
       "column_count": 2,
       "columns": [
        {
         "name": "tipo",
         "dtype": "object",
         "stats": {
          "unique_count": 4,
          "nan_count": 0,
          "categories": [
           {
            "name": "object",
            "count": 7
           },
           {
            "name": "int64",
            "count": 5
           },
           {
            "name": "2 others",
            "count": 4
           }
          ]
         }
        },
        {
         "name": "n_categorias",
         "dtype": "int64",
         "stats": {
          "unique_count": 8,
          "nan_count": 0,
          "min": "1",
          "max": "5298",
          "histogram": [
           {
            "bin_start": 1,
            "bin_end": 530.7,
            "count": 14
           },
           {
            "bin_start": 530.7,
            "bin_end": 1060.4,
            "count": 0
           },
           {
            "bin_start": 1060.4,
            "bin_end": 1590.1000000000001,
            "count": 0
           },
           {
            "bin_start": 1590.1000000000001,
            "bin_end": 2119.8,
            "count": 0
           },
           {
            "bin_start": 2119.8,
            "bin_end": 2649.5,
            "count": 0
           },
           {
            "bin_start": 2649.5,
            "bin_end": 3179.2000000000003,
            "count": 1
           },
           {
            "bin_start": 3179.2000000000003,
            "bin_end": 3708.9000000000005,
            "count": 0
           },
           {
            "bin_start": 3708.9000000000005,
            "bin_end": 4238.6,
            "count": 0
           },
           {
            "bin_start": 4238.6,
            "bin_end": 4768.3,
            "count": 0
           },
           {
            "bin_start": 4768.3,
            "bin_end": 5298,
            "count": 1
           }
          ]
         }
        },
        {
         "name": "_deepnote_index_column",
         "dtype": "object"
        }
       ],
       "rows_top": [
        {
         "tipo": "object",
         "n_categorias": 2,
         "_deepnote_index_column": "sexo"
        },
        {
         "tipo": "object",
         "n_categorias": 2,
         "_deepnote_index_column": "posse_de_veiculo"
        },
        {
         "tipo": "object",
         "n_categorias": 2,
         "_deepnote_index_column": "posse_de_imovel"
        },
        {
         "tipo": "int64",
         "n_categorias": 8,
         "_deepnote_index_column": "qtd_filhos"
        },
        {
         "tipo": "object",
         "n_categorias": 5,
         "_deepnote_index_column": "tipo_renda"
        },
        {
         "tipo": "object",
         "n_categorias": 5,
         "_deepnote_index_column": "educacao"
        },
        {
         "tipo": "object",
         "n_categorias": 5,
         "_deepnote_index_column": "estado_civil"
        },
        {
         "tipo": "object",
         "n_categorias": 6,
         "_deepnote_index_column": "tipo_residencia"
        },
        {
         "tipo": "float64",
         "n_categorias": 5298,
         "_deepnote_index_column": "idade"
        },
        {
         "tipo": "float64",
         "n_categorias": 3005,
         "_deepnote_index_column": "tempo_emprego"
        },
        {
         "tipo": "int64",
         "n_categorias": 1,
         "_deepnote_index_column": "possui_celular"
        },
        {
         "tipo": "int64",
         "n_categorias": 2,
         "_deepnote_index_column": "possui_fone_comercial"
        },
        {
         "tipo": "int64",
         "n_categorias": 2,
         "_deepnote_index_column": "possui_fone"
        },
        {
         "tipo": "int64",
         "n_categorias": 2,
         "_deepnote_index_column": "possui_email"
        },
        {
         "tipo": "float64",
         "n_categorias": 9,
         "_deepnote_index_column": "qt_pessoas_residencia"
        },
        {
         "tipo": "bool",
         "n_categorias": 2,
         "_deepnote_index_column": "mau"
        }
       ],
       "rows_bottom": null
      },
      "text/plain": "                          tipo  n_categorias\nsexo                    object             2\nposse_de_veiculo        object             2\nposse_de_imovel         object             2\nqtd_filhos               int64             8\ntipo_renda              object             5\neducacao                object             5\nestado_civil            object             5\ntipo_residencia         object             6\nidade                  float64          5298\ntempo_emprego          float64          3005\npossui_celular           int64             1\npossui_fone_comercial    int64             2\npossui_fone              int64             2\npossui_email             int64             2\nqt_pessoas_residencia  float64             9\nmau                       bool             2",
      "text/html": "<div>\n<style scoped>\n    .dataframe tbody tr th:only-of-type {\n        vertical-align: middle;\n    }\n\n    .dataframe tbody tr th {\n        vertical-align: top;\n    }\n\n    .dataframe thead th {\n        text-align: right;\n    }\n</style>\n<table border=\"1\" class=\"dataframe\">\n  <thead>\n    <tr style=\"text-align: right;\">\n      <th></th>\n      <th>tipo</th>\n      <th>n_categorias</th>\n    </tr>\n  </thead>\n  <tbody>\n    <tr>\n      <th>sexo</th>\n      <td>object</td>\n      <td>2</td>\n    </tr>\n    <tr>\n      <th>posse_de_veiculo</th>\n      <td>object</td>\n      <td>2</td>\n    </tr>\n    <tr>\n      <th>posse_de_imovel</th>\n      <td>object</td>\n      <td>2</td>\n    </tr>\n    <tr>\n      <th>qtd_filhos</th>\n      <td>int64</td>\n      <td>8</td>\n    </tr>\n    <tr>\n      <th>tipo_renda</th>\n      <td>object</td>\n      <td>5</td>\n    </tr>\n    <tr>\n      <th>educacao</th>\n      <td>object</td>\n      <td>5</td>\n    </tr>\n    <tr>\n      <th>estado_civil</th>\n      <td>object</td>\n      <td>5</td>\n    </tr>\n    <tr>\n      <th>tipo_residencia</th>\n      <td>object</td>\n      <td>6</td>\n    </tr>\n    <tr>\n      <th>idade</th>\n      <td>float64</td>\n      <td>5298</td>\n    </tr>\n    <tr>\n      <th>tempo_emprego</th>\n      <td>float64</td>\n      <td>3005</td>\n    </tr>\n    <tr>\n      <th>possui_celular</th>\n      <td>int64</td>\n      <td>1</td>\n    </tr>\n    <tr>\n      <th>possui_fone_comercial</th>\n      <td>int64</td>\n      <td>2</td>\n    </tr>\n    <tr>\n      <th>possui_fone</th>\n      <td>int64</td>\n      <td>2</td>\n    </tr>\n    <tr>\n      <th>possui_email</th>\n      <td>int64</td>\n      <td>2</td>\n    </tr>\n    <tr>\n      <th>qt_pessoas_residencia</th>\n      <td>float64</td>\n      <td>9</td>\n    </tr>\n    <tr>\n      <th>mau</th>\n      <td>bool</td>\n      <td>2</td>\n    </tr>\n  </tbody>\n</table>\n</div>"
     },
     "metadata": {}
    }
   ]
  },
  {
   "cell_type": "code",
   "metadata": {
    "cell_id": "00022-cad898bd-3f7a-4d6a-af0a-b18765f34d8e",
    "deepnote_to_be_reexecuted": false,
    "source_hash": "8234cdcc",
    "execution_start": 1637689822019,
    "execution_millis": 0,
    "deepnote_cell_type": "code"
   },
   "source": "def convert_dummy(df, feature,rank=0):\n    pos = pd.get_dummies(df[feature], prefix=feature)\n    mode = df[feature].value_counts().index[rank]\n    biggest = feature + '_' + str(mode)\n    pos.drop([biggest],axis=1,inplace=True)\n    df.drop([feature],axis=1,inplace=True)\n    df=df.join(pos)\n    return df",
   "execution_count": 24,
   "outputs": []
  },
  {
   "cell_type": "code",
   "metadata": {
    "cell_id": "00023-5bc99197-d68c-4f93-9f39-11892487ece2",
    "deepnote_to_be_reexecuted": false,
    "source_hash": "42d11b2a",
    "execution_start": 1637689824676,
    "execution_millis": 80,
    "deepnote_cell_type": "code"
   },
   "source": "for var in metadata[metadata['tipo'] == 'object'].index:\n    df = convert_dummy(df, var)",
   "execution_count": 25,
   "outputs": []
  },
  {
   "cell_type": "code",
   "metadata": {
    "cell_id": "00024-4a79e200-fbf5-4688-8c11-036a335fb573",
    "deepnote_output_heights": [
     397.20001220703125
    ],
    "deepnote_to_be_reexecuted": false,
    "source_hash": "f804c160",
    "execution_start": 1637689828680,
    "execution_millis": 124,
    "deepnote_cell_type": "code"
   },
   "source": "df",
   "execution_count": 26,
   "outputs": [
    {
     "output_type": "execute_result",
     "execution_count": 26,
     "data": {
      "application/vnd.deepnote.dataframe.v2+json": {
       "row_count": 16650,
       "column_count": 29,
       "columns": [
        {
         "name": "qtd_filhos",
         "dtype": "int64",
         "stats": {
          "unique_count": 8,
          "nan_count": 0,
          "min": "0",
          "max": "14",
          "histogram": [
           {
            "bin_start": 0,
            "bin_end": 1.4,
            "count": 14879
           },
           {
            "bin_start": 1.4,
            "bin_end": 2.8,
            "count": 1552
           },
           {
            "bin_start": 2.8,
            "bin_end": 4.199999999999999,
            "count": 213
           },
           {
            "bin_start": 4.199999999999999,
            "bin_end": 5.6,
            "count": 2
           },
           {
            "bin_start": 5.6,
            "bin_end": 7,
            "count": 0
           },
           {
            "bin_start": 7,
            "bin_end": 8.399999999999999,
            "count": 2
           },
           {
            "bin_start": 8.399999999999999,
            "bin_end": 9.799999999999999,
            "count": 0
           },
           {
            "bin_start": 9.799999999999999,
            "bin_end": 11.2,
            "count": 0
           },
           {
            "bin_start": 11.2,
            "bin_end": 12.6,
            "count": 0
           },
           {
            "bin_start": 12.6,
            "bin_end": 14,
            "count": 2
           }
          ]
         }
        },
        {
         "name": "idade",
         "dtype": "float64",
         "stats": {
          "unique_count": 5298,
          "nan_count": 0,
          "min": "22.03013698630137",
          "max": "68.90958904109588",
          "histogram": [
           {
            "bin_start": 22.03013698630137,
            "bin_end": 26.71808219178082,
            "count": 435
           },
           {
            "bin_start": 26.71808219178082,
            "bin_end": 31.40602739726027,
            "count": 2073
           },
           {
            "bin_start": 31.40602739726027,
            "bin_end": 36.093972602739726,
            "count": 2219
           },
           {
            "bin_start": 36.093972602739726,
            "bin_end": 40.78191780821918,
            "count": 2324
           },
           {
            "bin_start": 40.78191780821918,
            "bin_end": 45.46986301369863,
            "count": 2198
           },
           {
            "bin_start": 45.46986301369863,
            "bin_end": 50.15780821917808,
            "count": 1903
           },
           {
            "bin_start": 50.15780821917808,
            "bin_end": 54.84575342465753,
            "count": 1895
           },
           {
            "bin_start": 54.84575342465753,
            "bin_end": 59.53369863013698,
            "count": 1606
           },
           {
            "bin_start": 59.53369863013698,
            "bin_end": 64.22164383561643,
            "count": 1467
           },
           {
            "bin_start": 64.22164383561643,
            "bin_end": 68.90958904109588,
            "count": 530
           }
          ]
         }
        },
        {
         "name": "tempo_emprego",
         "dtype": "float64",
         "stats": {
          "unique_count": 3005,
          "nan_count": 0,
          "min": "-2.0",
          "max": "42.90684931506849",
          "histogram": [
           {
            "bin_start": -2,
            "bin_end": 2.4906849315068493,
            "count": 5682
           },
           {
            "bin_start": 2.4906849315068493,
            "bin_end": 6.981369863013699,
            "count": 5019
           },
           {
            "bin_start": 6.981369863013699,
            "bin_end": 11.472054794520549,
            "count": 3093
           },
           {
            "bin_start": 11.472054794520549,
            "bin_end": 15.962739726027397,
            "count": 1403
           },
           {
            "bin_start": 15.962739726027397,
            "bin_end": 20.453424657534246,
            "count": 658
           },
           {
            "bin_start": 20.453424657534246,
            "bin_end": 24.944109589041098,
            "count": 363
           },
           {
            "bin_start": 24.944109589041098,
            "bin_end": 29.434794520547946,
            "count": 223
           },
           {
            "bin_start": 29.434794520547946,
            "bin_end": 33.925479452054795,
            "count": 134
           },
           {
            "bin_start": 33.925479452054795,
            "bin_end": 38.41616438356164,
            "count": 38
           },
           {
            "bin_start": 38.41616438356164,
            "bin_end": 42.90684931506849,
            "count": 37
           }
          ]
         }
        },
        {
         "name": "possui_celular",
         "dtype": "int64",
         "stats": {
          "unique_count": 1,
          "nan_count": 0,
          "min": "1",
          "max": "1",
          "histogram": [
           {
            "bin_start": 0.5,
            "bin_end": 0.6,
            "count": 0
           },
           {
            "bin_start": 0.6,
            "bin_end": 0.7,
            "count": 0
           },
           {
            "bin_start": 0.7,
            "bin_end": 0.8,
            "count": 0
           },
           {
            "bin_start": 0.8,
            "bin_end": 0.9,
            "count": 0
           },
           {
            "bin_start": 0.9,
            "bin_end": 1,
            "count": 0
           },
           {
            "bin_start": 1,
            "bin_end": 1.1,
            "count": 16650
           },
           {
            "bin_start": 1.1,
            "bin_end": 1.2000000000000002,
            "count": 0
           },
           {
            "bin_start": 1.2000000000000002,
            "bin_end": 1.3,
            "count": 0
           },
           {
            "bin_start": 1.3,
            "bin_end": 1.4,
            "count": 0
           },
           {
            "bin_start": 1.4,
            "bin_end": 1.5,
            "count": 0
           }
          ]
         }
        },
        {
         "name": "possui_fone_comercial",
         "dtype": "int64",
         "stats": {
          "unique_count": 2,
          "nan_count": 0,
          "min": "0",
          "max": "1",
          "histogram": [
           {
            "bin_start": 0,
            "bin_end": 0.1,
            "count": 12900
           },
           {
            "bin_start": 0.1,
            "bin_end": 0.2,
            "count": 0
           },
           {
            "bin_start": 0.2,
            "bin_end": 0.30000000000000004,
            "count": 0
           },
           {
            "bin_start": 0.30000000000000004,
            "bin_end": 0.4,
            "count": 0
           },
           {
            "bin_start": 0.4,
            "bin_end": 0.5,
            "count": 0
           },
           {
            "bin_start": 0.5,
            "bin_end": 0.6000000000000001,
            "count": 0
           },
           {
            "bin_start": 0.6000000000000001,
            "bin_end": 0.7000000000000001,
            "count": 0
           },
           {
            "bin_start": 0.7000000000000001,
            "bin_end": 0.8,
            "count": 0
           },
           {
            "bin_start": 0.8,
            "bin_end": 0.9,
            "count": 0
           },
           {
            "bin_start": 0.9,
            "bin_end": 1,
            "count": 3750
           }
          ]
         }
        },
        {
         "name": "possui_fone",
         "dtype": "int64",
         "stats": {
          "unique_count": 2,
          "nan_count": 0,
          "min": "0",
          "max": "1",
          "histogram": [
           {
            "bin_start": 0,
            "bin_end": 0.1,
            "count": 11727
           },
           {
            "bin_start": 0.1,
            "bin_end": 0.2,
            "count": 0
           },
           {
            "bin_start": 0.2,
            "bin_end": 0.30000000000000004,
            "count": 0
           },
           {
            "bin_start": 0.30000000000000004,
            "bin_end": 0.4,
            "count": 0
           },
           {
            "bin_start": 0.4,
            "bin_end": 0.5,
            "count": 0
           },
           {
            "bin_start": 0.5,
            "bin_end": 0.6000000000000001,
            "count": 0
           },
           {
            "bin_start": 0.6000000000000001,
            "bin_end": 0.7000000000000001,
            "count": 0
           },
           {
            "bin_start": 0.7000000000000001,
            "bin_end": 0.8,
            "count": 0
           },
           {
            "bin_start": 0.8,
            "bin_end": 0.9,
            "count": 0
           },
           {
            "bin_start": 0.9,
            "bin_end": 1,
            "count": 4923
           }
          ]
         }
        },
        {
         "name": "possui_email",
         "dtype": "int64"
        },
        {
         "name": "qt_pessoas_residencia",
         "dtype": "float64"
        },
        {
         "name": "mau",
         "dtype": "bool"
        },
        {
         "name": "sexo_M",
         "dtype": "uint8"
        },
        {
         "name": "posse_de_veiculo_Y",
         "dtype": "uint8"
        },
        {
         "name": "posse_de_imovel_N",
         "dtype": "uint8"
        },
        {
         "name": "tipo_renda_Commercial associate",
         "dtype": "uint8"
        },
        {
         "name": "tipo_renda_Pensioner",
         "dtype": "uint8"
        },
        {
         "name": "tipo_renda_State servant",
         "dtype": "uint8"
        },
        {
         "name": "tipo_renda_Student",
         "dtype": "uint8"
        },
        {
         "name": "educacao_Academic degree",
         "dtype": "uint8"
        },
        {
         "name": "educacao_Higher education",
         "dtype": "uint8"
        },
        {
         "name": "educacao_Incomplete higher",
         "dtype": "uint8"
        },
        {
         "name": "educacao_Lower secondary",
         "dtype": "uint8"
        },
        {
         "name": "estado_civil_Civil marriage",
         "dtype": "uint8"
        },
        {
         "name": "estado_civil_Separated",
         "dtype": "uint8"
        },
        {
         "name": "estado_civil_Single / not married",
         "dtype": "uint8"
        },
        {
         "name": "estado_civil_Widow",
         "dtype": "uint8"
        },
        {
         "name": "tipo_residencia_Co-op apartment",
         "dtype": "uint8"
        },
        {
         "name": "tipo_residencia_Municipal apartment",
         "dtype": "uint8"
        },
        {
         "name": "tipo_residencia_Office apartment",
         "dtype": "uint8"
        },
        {
         "name": "tipo_residencia_Rented apartment",
         "dtype": "uint8"
        },
        {
         "name": "tipo_residencia_With parents",
         "dtype": "uint8"
        },
        {
         "name": "_deepnote_index_column",
         "dtype": "int64"
        }
       ],
       "rows_top": [
        {
         "qtd_filhos": 0,
         "idade": 58.83287671232877,
         "tempo_emprego": 3.106849315068493,
         "possui_celular": 1,
         "possui_fone_comercial": 0,
         "possui_fone": 0,
         "possui_email": 0,
         "qt_pessoas_residencia": 2,
         "mau": false,
         "sexo_M": 1,
         "posse_de_veiculo_Y": 1,
         "posse_de_imovel_N": 0,
         "tipo_renda_Commercial associate": 0,
         "tipo_renda_Pensioner": 0,
         "tipo_renda_State servant": 0,
         "tipo_renda_Student": 0,
         "educacao_Academic degree": 0,
         "educacao_Higher education": 0,
         "educacao_Incomplete higher": 0,
         "educacao_Lower secondary": 0,
         "estado_civil_Civil marriage": 0,
         "estado_civil_Separated": 0,
         "estado_civil_Single / not married": 0,
         "estado_civil_Widow": 0,
         "tipo_residencia_Co-op apartment": 0,
         "tipo_residencia_Municipal apartment": 0,
         "tipo_residencia_Office apartment": 0,
         "tipo_residencia_Rented apartment": 0,
         "tipo_residencia_With parents": 0,
         "_deepnote_index_column": 0
        },
        {
         "qtd_filhos": 0,
         "idade": 52.35616438356164,
         "tempo_emprego": 8.35890410958904,
         "possui_celular": 1,
         "possui_fone_comercial": 0,
         "possui_fone": 1,
         "possui_email": 1,
         "qt_pessoas_residencia": 1,
         "mau": false,
         "sexo_M": 0,
         "posse_de_veiculo_Y": 0,
         "posse_de_imovel_N": 0,
         "tipo_renda_Commercial associate": 1,
         "tipo_renda_Pensioner": 0,
         "tipo_renda_State servant": 0,
         "tipo_renda_Student": 0,
         "educacao_Academic degree": 0,
         "educacao_Higher education": 0,
         "educacao_Incomplete higher": 0,
         "educacao_Lower secondary": 0,
         "estado_civil_Civil marriage": 0,
         "estado_civil_Separated": 0,
         "estado_civil_Single / not married": 1,
         "estado_civil_Widow": 0,
         "tipo_residencia_Co-op apartment": 0,
         "tipo_residencia_Municipal apartment": 0,
         "tipo_residencia_Office apartment": 0,
         "tipo_residencia_Rented apartment": 0,
         "tipo_residencia_With parents": 0,
         "_deepnote_index_column": 1
        },
        {
         "qtd_filhos": 0,
         "idade": 52.35616438356164,
         "tempo_emprego": 8.35890410958904,
         "possui_celular": 1,
         "possui_fone_comercial": 0,
         "possui_fone": 1,
         "possui_email": 1,
         "qt_pessoas_residencia": 1,
         "mau": false,
         "sexo_M": 0,
         "posse_de_veiculo_Y": 0,
         "posse_de_imovel_N": 0,
         "tipo_renda_Commercial associate": 1,
         "tipo_renda_Pensioner": 0,
         "tipo_renda_State servant": 0,
         "tipo_renda_Student": 0,
         "educacao_Academic degree": 0,
         "educacao_Higher education": 0,
         "educacao_Incomplete higher": 0,
         "educacao_Lower secondary": 0,
         "estado_civil_Civil marriage": 0,
         "estado_civil_Separated": 0,
         "estado_civil_Single / not married": 1,
         "estado_civil_Widow": 0,
         "tipo_residencia_Co-op apartment": 0,
         "tipo_residencia_Municipal apartment": 0,
         "tipo_residencia_Office apartment": 0,
         "tipo_residencia_Rented apartment": 0,
         "tipo_residencia_With parents": 0,
         "_deepnote_index_column": 2
        },
        {
         "qtd_filhos": 0,
         "idade": 46.224657534246575,
         "tempo_emprego": 2.106849315068493,
         "possui_celular": 1,
         "possui_fone_comercial": 1,
         "possui_fone": 1,
         "possui_email": 1,
         "qt_pessoas_residencia": 2,
         "mau": false,
         "sexo_M": 1,
         "posse_de_veiculo_Y": 1,
         "posse_de_imovel_N": 0,
         "tipo_renda_Commercial associate": 0,
         "tipo_renda_Pensioner": 0,
         "tipo_renda_State servant": 0,
         "tipo_renda_Student": 0,
         "educacao_Academic degree": 0,
         "educacao_Higher education": 1,
         "educacao_Incomplete higher": 0,
         "educacao_Lower secondary": 0,
         "estado_civil_Civil marriage": 0,
         "estado_civil_Separated": 0,
         "estado_civil_Single / not married": 0,
         "estado_civil_Widow": 0,
         "tipo_residencia_Co-op apartment": 0,
         "tipo_residencia_Municipal apartment": 0,
         "tipo_residencia_Office apartment": 0,
         "tipo_residencia_Rented apartment": 0,
         "tipo_residencia_With parents": 0,
         "_deepnote_index_column": 3
        },
        {
         "qtd_filhos": 0,
         "idade": 29.23013698630137,
         "tempo_emprego": 3.021917808219178,
         "possui_celular": 1,
         "possui_fone_comercial": 0,
         "possui_fone": 0,
         "possui_email": 0,
         "qt_pessoas_residencia": 2,
         "mau": false,
         "sexo_M": 0,
         "posse_de_veiculo_Y": 1,
         "posse_de_imovel_N": 1,
         "tipo_renda_Commercial associate": 0,
         "tipo_renda_Pensioner": 0,
         "tipo_renda_State servant": 0,
         "tipo_renda_Student": 0,
         "educacao_Academic degree": 0,
         "educacao_Higher education": 0,
         "educacao_Incomplete higher": 1,
         "educacao_Lower secondary": 0,
         "estado_civil_Civil marriage": 0,
         "estado_civil_Separated": 0,
         "estado_civil_Single / not married": 0,
         "estado_civil_Widow": 0,
         "tipo_residencia_Co-op apartment": 0,
         "tipo_residencia_Municipal apartment": 0,
         "tipo_residencia_Office apartment": 0,
         "tipo_residencia_Rented apartment": 0,
         "tipo_residencia_With parents": 0,
         "_deepnote_index_column": 4
        },
        {
         "qtd_filhos": 0,
         "idade": 29.23013698630137,
         "tempo_emprego": 3.021917808219178,
         "possui_celular": 1,
         "possui_fone_comercial": 0,
         "possui_fone": 0,
         "possui_email": 0,
         "qt_pessoas_residencia": 2,
         "mau": false,
         "sexo_M": 0,
         "posse_de_veiculo_Y": 1,
         "posse_de_imovel_N": 1,
         "tipo_renda_Commercial associate": 0,
         "tipo_renda_Pensioner": 0,
         "tipo_renda_State servant": 0,
         "tipo_renda_Student": 0,
         "educacao_Academic degree": 0,
         "educacao_Higher education": 0,
         "educacao_Incomplete higher": 1,
         "educacao_Lower secondary": 0,
         "estado_civil_Civil marriage": 0,
         "estado_civil_Separated": 0,
         "estado_civil_Single / not married": 0,
         "estado_civil_Widow": 0,
         "tipo_residencia_Co-op apartment": 0,
         "tipo_residencia_Municipal apartment": 0,
         "tipo_residencia_Office apartment": 0,
         "tipo_residencia_Rented apartment": 0,
         "tipo_residencia_With parents": 0,
         "_deepnote_index_column": 5
        },
        {
         "qtd_filhos": 0,
         "idade": 27.48219178082192,
         "tempo_emprego": 4.024657534246575,
         "possui_celular": 1,
         "possui_fone_comercial": 0,
         "possui_fone": 1,
         "possui_email": 0,
         "qt_pessoas_residencia": 2,
         "mau": false,
         "sexo_M": 0,
         "posse_de_veiculo_Y": 0,
         "posse_de_imovel_N": 0,
         "tipo_renda_Commercial associate": 0,
         "tipo_renda_Pensioner": 0,
         "tipo_renda_State servant": 0,
         "tipo_renda_Student": 0,
         "educacao_Academic degree": 0,
         "educacao_Higher education": 0,
         "educacao_Incomplete higher": 0,
         "educacao_Lower secondary": 0,
         "estado_civil_Civil marriage": 0,
         "estado_civil_Separated": 0,
         "estado_civil_Single / not married": 0,
         "estado_civil_Widow": 0,
         "tipo_residencia_Co-op apartment": 0,
         "tipo_residencia_Municipal apartment": 0,
         "tipo_residencia_Office apartment": 0,
         "tipo_residencia_Rented apartment": 0,
         "tipo_residencia_With parents": 0,
         "_deepnote_index_column": 6
        },
        {
         "qtd_filhos": 0,
         "idade": 27.48219178082192,
         "tempo_emprego": 4.024657534246575,
         "possui_celular": 1,
         "possui_fone_comercial": 0,
         "possui_fone": 1,
         "possui_email": 0,
         "qt_pessoas_residencia": 2,
         "mau": false,
         "sexo_M": 0,
         "posse_de_veiculo_Y": 0,
         "posse_de_imovel_N": 0,
         "tipo_renda_Commercial associate": 0,
         "tipo_renda_Pensioner": 0,
         "tipo_renda_State servant": 0,
         "tipo_renda_Student": 0,
         "educacao_Academic degree": 0,
         "educacao_Higher education": 0,
         "educacao_Incomplete higher": 0,
         "educacao_Lower secondary": 0,
         "estado_civil_Civil marriage": 0,
         "estado_civil_Separated": 0,
         "estado_civil_Single / not married": 0,
         "estado_civil_Widow": 0,
         "tipo_residencia_Co-op apartment": 0,
         "tipo_residencia_Municipal apartment": 0,
         "tipo_residencia_Office apartment": 0,
         "tipo_residencia_Rented apartment": 0,
         "tipo_residencia_With parents": 0,
         "_deepnote_index_column": 7
        },
        {
         "qtd_filhos": 1,
         "idade": 30.04931506849315,
         "tempo_emprego": 4.438356164383562,
         "possui_celular": 1,
         "possui_fone_comercial": 0,
         "possui_fone": 0,
         "possui_email": 0,
         "qt_pessoas_residencia": 2,
         "mau": false,
         "sexo_M": 0,
         "posse_de_veiculo_Y": 0,
         "posse_de_imovel_N": 0,
         "tipo_renda_Commercial associate": 0,
         "tipo_renda_Pensioner": 0,
         "tipo_renda_State servant": 0,
         "tipo_renda_Student": 0,
         "educacao_Academic degree": 0,
         "educacao_Higher education": 0,
         "educacao_Incomplete higher": 0,
         "educacao_Lower secondary": 0,
         "estado_civil_Civil marriage": 0,
         "estado_civil_Separated": 0,
         "estado_civil_Single / not married": 1,
         "estado_civil_Widow": 0,
         "tipo_residencia_Co-op apartment": 0,
         "tipo_residencia_Municipal apartment": 0,
         "tipo_residencia_Office apartment": 0,
         "tipo_residencia_Rented apartment": 0,
         "tipo_residencia_With parents": 0,
         "_deepnote_index_column": 8
        },
        {
         "qtd_filhos": 1,
         "idade": 30.04931506849315,
         "tempo_emprego": 4.438356164383562,
         "possui_celular": 1,
         "possui_fone_comercial": 0,
         "possui_fone": 0,
         "possui_email": 0,
         "qt_pessoas_residencia": 2,
         "mau": false,
         "sexo_M": 0,
         "posse_de_veiculo_Y": 0,
         "posse_de_imovel_N": 0,
         "tipo_renda_Commercial associate": 0,
         "tipo_renda_Pensioner": 0,
         "tipo_renda_State servant": 0,
         "tipo_renda_Student": 0,
         "educacao_Academic degree": 0,
         "educacao_Higher education": 0,
         "educacao_Incomplete higher": 0,
         "educacao_Lower secondary": 0,
         "estado_civil_Civil marriage": 0,
         "estado_civil_Separated": 0,
         "estado_civil_Single / not married": 1,
         "estado_civil_Widow": 0,
         "tipo_residencia_Co-op apartment": 0,
         "tipo_residencia_Municipal apartment": 0,
         "tipo_residencia_Office apartment": 0,
         "tipo_residencia_Rented apartment": 0,
         "tipo_residencia_With parents": 0,
         "_deepnote_index_column": 9
        },
        {
         "qtd_filhos": 3,
         "idade": 34.76438356164383,
         "tempo_emprego": 3.186301369863014,
         "possui_celular": 1,
         "possui_fone_comercial": 0,
         "possui_fone": 0,
         "possui_email": 0,
         "qt_pessoas_residencia": 5,
         "mau": false,
         "sexo_M": 1,
         "posse_de_veiculo_Y": 1,
         "posse_de_imovel_N": 0,
         "tipo_renda_Commercial associate": 0,
         "tipo_renda_Pensioner": 0,
         "tipo_renda_State servant": 0,
         "tipo_renda_Student": 0,
         "educacao_Academic degree": 0,
         "educacao_Higher education": 0,
         "educacao_Incomplete higher": 0,
         "educacao_Lower secondary": 0,
         "estado_civil_Civil marriage": 0,
         "estado_civil_Separated": 0,
         "estado_civil_Single / not married": 0,
         "estado_civil_Widow": 0,
         "tipo_residencia_Co-op apartment": 0,
         "tipo_residencia_Municipal apartment": 0,
         "tipo_residencia_Office apartment": 0,
         "tipo_residencia_Rented apartment": 0,
         "tipo_residencia_With parents": 0,
         "_deepnote_index_column": 10
        },
        {
         "qtd_filhos": 1,
         "idade": 32.44383561643836,
         "tempo_emprego": 5.523287671232877,
         "possui_celular": 1,
         "possui_fone_comercial": 0,
         "possui_fone": 0,
         "possui_email": 0,
         "qt_pessoas_residencia": 3,
         "mau": false,
         "sexo_M": 1,
         "posse_de_veiculo_Y": 0,
         "posse_de_imovel_N": 0,
         "tipo_renda_Commercial associate": 1,
         "tipo_renda_Pensioner": 0,
         "tipo_renda_State servant": 0,
         "tipo_renda_Student": 0,
         "educacao_Academic degree": 0,
         "educacao_Higher education": 1,
         "educacao_Incomplete higher": 0,
         "educacao_Lower secondary": 0,
         "estado_civil_Civil marriage": 0,
         "estado_civil_Separated": 0,
         "estado_civil_Single / not married": 0,
         "estado_civil_Widow": 0,
         "tipo_residencia_Co-op apartment": 0,
         "tipo_residencia_Municipal apartment": 0,
         "tipo_residencia_Office apartment": 0,
         "tipo_residencia_Rented apartment": 0,
         "tipo_residencia_With parents": 0,
         "_deepnote_index_column": 11
        },
        {
         "qtd_filhos": 1,
         "idade": 32.44383561643836,
         "tempo_emprego": 5.523287671232877,
         "possui_celular": 1,
         "possui_fone_comercial": 0,
         "possui_fone": 0,
         "possui_email": 0,
         "qt_pessoas_residencia": 3,
         "mau": false,
         "sexo_M": 1,
         "posse_de_veiculo_Y": 0,
         "posse_de_imovel_N": 0,
         "tipo_renda_Commercial associate": 1,
         "tipo_renda_Pensioner": 0,
         "tipo_renda_State servant": 0,
         "tipo_renda_Student": 0,
         "educacao_Academic degree": 0,
         "educacao_Higher education": 1,
         "educacao_Incomplete higher": 0,
         "educacao_Lower secondary": 0,
         "estado_civil_Civil marriage": 0,
         "estado_civil_Separated": 0,
         "estado_civil_Single / not married": 0,
         "estado_civil_Widow": 0,
         "tipo_residencia_Co-op apartment": 0,
         "tipo_residencia_Municipal apartment": 0,
         "tipo_residencia_Office apartment": 0,
         "tipo_residencia_Rented apartment": 0,
         "tipo_residencia_With parents": 0,
         "_deepnote_index_column": 12
        },
        {
         "qtd_filhos": 1,
         "idade": 32.44383561643836,
         "tempo_emprego": 5.523287671232877,
         "possui_celular": 1,
         "possui_fone_comercial": 0,
         "possui_fone": 0,
         "possui_email": 0,
         "qt_pessoas_residencia": 3,
         "mau": false,
         "sexo_M": 1,
         "posse_de_veiculo_Y": 0,
         "posse_de_imovel_N": 0,
         "tipo_renda_Commercial associate": 1,
         "tipo_renda_Pensioner": 0,
         "tipo_renda_State servant": 0,
         "tipo_renda_Student": 0,
         "educacao_Academic degree": 0,
         "educacao_Higher education": 1,
         "educacao_Incomplete higher": 0,
         "educacao_Lower secondary": 0,
         "estado_civil_Civil marriage": 0,
         "estado_civil_Separated": 0,
         "estado_civil_Single / not married": 0,
         "estado_civil_Widow": 0,
         "tipo_residencia_Co-op apartment": 0,
         "tipo_residencia_Municipal apartment": 0,
         "tipo_residencia_Office apartment": 0,
         "tipo_residencia_Rented apartment": 0,
         "tipo_residencia_With parents": 0,
         "_deepnote_index_column": 13
        },
        {
         "qtd_filhos": 0,
         "idade": 56.16986301369863,
         "tempo_emprego": 12.191780821917808,
         "possui_celular": 1,
         "possui_fone_comercial": 0,
         "possui_fone": 1,
         "possui_email": 0,
         "qt_pessoas_residencia": 2,
         "mau": false,
         "sexo_M": 1,
         "posse_de_veiculo_Y": 1,
         "posse_de_imovel_N": 0,
         "tipo_renda_Commercial associate": 1,
         "tipo_renda_Pensioner": 0,
         "tipo_renda_State servant": 0,
         "tipo_renda_Student": 0,
         "educacao_Academic degree": 0,
         "educacao_Higher education": 0,
         "educacao_Incomplete higher": 0,
         "educacao_Lower secondary": 0,
         "estado_civil_Civil marriage": 0,
         "estado_civil_Separated": 0,
         "estado_civil_Single / not married": 0,
         "estado_civil_Widow": 0,
         "tipo_residencia_Co-op apartment": 0,
         "tipo_residencia_Municipal apartment": 0,
         "tipo_residencia_Office apartment": 0,
         "tipo_residencia_Rented apartment": 0,
         "tipo_residencia_With parents": 0,
         "_deepnote_index_column": 14
        },
        {
         "qtd_filhos": 0,
         "idade": 56.16986301369863,
         "tempo_emprego": 12.191780821917808,
         "possui_celular": 1,
         "possui_fone_comercial": 0,
         "possui_fone": 1,
         "possui_email": 0,
         "qt_pessoas_residencia": 2,
         "mau": false,
         "sexo_M": 1,
         "posse_de_veiculo_Y": 1,
         "posse_de_imovel_N": 0,
         "tipo_renda_Commercial associate": 1,
         "tipo_renda_Pensioner": 0,
         "tipo_renda_State servant": 0,
         "tipo_renda_Student": 0,
         "educacao_Academic degree": 0,
         "educacao_Higher education": 0,
         "educacao_Incomplete higher": 0,
         "educacao_Lower secondary": 0,
         "estado_civil_Civil marriage": 0,
         "estado_civil_Separated": 0,
         "estado_civil_Single / not married": 0,
         "estado_civil_Widow": 0,
         "tipo_residencia_Co-op apartment": 0,
         "tipo_residencia_Municipal apartment": 0,
         "tipo_residencia_Office apartment": 0,
         "tipo_residencia_Rented apartment": 0,
         "tipo_residencia_With parents": 0,
         "_deepnote_index_column": 15
        },
        {
         "qtd_filhos": 0,
         "idade": 56.16986301369863,
         "tempo_emprego": 12.191780821917808,
         "possui_celular": 1,
         "possui_fone_comercial": 0,
         "possui_fone": 1,
         "possui_email": 0,
         "qt_pessoas_residencia": 2,
         "mau": false,
         "sexo_M": 1,
         "posse_de_veiculo_Y": 1,
         "posse_de_imovel_N": 0,
         "tipo_renda_Commercial associate": 1,
         "tipo_renda_Pensioner": 0,
         "tipo_renda_State servant": 0,
         "tipo_renda_Student": 0,
         "educacao_Academic degree": 0,
         "educacao_Higher education": 0,
         "educacao_Incomplete higher": 0,
         "educacao_Lower secondary": 0,
         "estado_civil_Civil marriage": 0,
         "estado_civil_Separated": 0,
         "estado_civil_Single / not married": 0,
         "estado_civil_Widow": 0,
         "tipo_residencia_Co-op apartment": 0,
         "tipo_residencia_Municipal apartment": 0,
         "tipo_residencia_Office apartment": 0,
         "tipo_residencia_Rented apartment": 0,
         "tipo_residencia_With parents": 0,
         "_deepnote_index_column": 16
        }
       ],
       "rows_bottom": [
        {
         "qtd_filhos": 1,
         "idade": 28.575342465753423,
         "tempo_emprego": 2.4657534246575343,
         "possui_celular": 1,
         "possui_fone_comercial": 0,
         "possui_fone": 0,
         "possui_email": 0,
         "qt_pessoas_residencia": 2,
         "mau": true,
         "sexo_M": 0,
         "posse_de_veiculo_Y": 0,
         "posse_de_imovel_N": 0,
         "tipo_renda_Commercial associate": 1,
         "tipo_renda_Pensioner": 0,
         "tipo_renda_State servant": 0,
         "tipo_renda_Student": 0,
         "educacao_Academic degree": 0,
         "educacao_Higher education": 1,
         "educacao_Incomplete higher": 0,
         "educacao_Lower secondary": 0,
         "estado_civil_Civil marriage": 0,
         "estado_civil_Separated": 0,
         "estado_civil_Single / not married": 1,
         "estado_civil_Widow": 0,
         "tipo_residencia_Co-op apartment": 0,
         "tipo_residencia_Municipal apartment": 0,
         "tipo_residencia_Office apartment": 0,
         "tipo_residencia_Rented apartment": 0,
         "tipo_residencia_With parents": 0,
         "_deepnote_index_column": 16633
        },
        {
         "qtd_filhos": 1,
         "idade": 35.83561643835616,
         "tempo_emprego": 3.635616438356165,
         "possui_celular": 1,
         "possui_fone_comercial": 0,
         "possui_fone": 0,
         "possui_email": 0,
         "qt_pessoas_residencia": 3,
         "mau": true,
         "sexo_M": 1,
         "posse_de_veiculo_Y": 0,
         "posse_de_imovel_N": 1,
         "tipo_renda_Commercial associate": 0,
         "tipo_renda_Pensioner": 0,
         "tipo_renda_State servant": 0,
         "tipo_renda_Student": 0,
         "educacao_Academic degree": 0,
         "educacao_Higher education": 0,
         "educacao_Incomplete higher": 0,
         "educacao_Lower secondary": 0,
         "estado_civil_Civil marriage": 1,
         "estado_civil_Separated": 0,
         "estado_civil_Single / not married": 0,
         "estado_civil_Widow": 0,
         "tipo_residencia_Co-op apartment": 0,
         "tipo_residencia_Municipal apartment": 0,
         "tipo_residencia_Office apartment": 0,
         "tipo_residencia_Rented apartment": 0,
         "tipo_residencia_With parents": 0,
         "_deepnote_index_column": 16634
        },
        {
         "qtd_filhos": 0,
         "idade": 27.646575342465752,
         "tempo_emprego": 1.7616438356164383,
         "possui_celular": 1,
         "possui_fone_comercial": 0,
         "possui_fone": 0,
         "possui_email": 0,
         "qt_pessoas_residencia": 2,
         "mau": true,
         "sexo_M": 1,
         "posse_de_veiculo_Y": 1,
         "posse_de_imovel_N": 0,
         "tipo_renda_Commercial associate": 0,
         "tipo_renda_Pensioner": 0,
         "tipo_renda_State servant": 1,
         "tipo_renda_Student": 0,
         "educacao_Academic degree": 0,
         "educacao_Higher education": 1,
         "educacao_Incomplete higher": 0,
         "educacao_Lower secondary": 0,
         "estado_civil_Civil marriage": 0,
         "estado_civil_Separated": 0,
         "estado_civil_Single / not married": 0,
         "estado_civil_Widow": 0,
         "tipo_residencia_Co-op apartment": 0,
         "tipo_residencia_Municipal apartment": 0,
         "tipo_residencia_Office apartment": 0,
         "tipo_residencia_Rented apartment": 0,
         "tipo_residencia_With parents": 0,
         "_deepnote_index_column": 16635
        },
        {
         "qtd_filhos": 2,
         "idade": 48.87945205479452,
         "tempo_emprego": 11.794520547945206,
         "possui_celular": 1,
         "possui_fone_comercial": 1,
         "possui_fone": 1,
         "possui_email": 0,
         "qt_pessoas_residencia": 4,
         "mau": true,
         "sexo_M": 1,
         "posse_de_veiculo_Y": 1,
         "posse_de_imovel_N": 0,
         "tipo_renda_Commercial associate": 1,
         "tipo_renda_Pensioner": 0,
         "tipo_renda_State servant": 0,
         "tipo_renda_Student": 0,
         "educacao_Academic degree": 0,
         "educacao_Higher education": 1,
         "educacao_Incomplete higher": 0,
         "educacao_Lower secondary": 0,
         "estado_civil_Civil marriage": 0,
         "estado_civil_Separated": 0,
         "estado_civil_Single / not married": 0,
         "estado_civil_Widow": 0,
         "tipo_residencia_Co-op apartment": 0,
         "tipo_residencia_Municipal apartment": 0,
         "tipo_residencia_Office apartment": 0,
         "tipo_residencia_Rented apartment": 0,
         "tipo_residencia_With parents": 0,
         "_deepnote_index_column": 16636
        },
        {
         "qtd_filhos": 1,
         "idade": 30.44383561643836,
         "tempo_emprego": 1.284931506849315,
         "possui_celular": 1,
         "possui_fone_comercial": 1,
         "possui_fone": 1,
         "possui_email": 0,
         "qt_pessoas_residencia": 3,
         "mau": true,
         "sexo_M": 1,
         "posse_de_veiculo_Y": 0,
         "posse_de_imovel_N": 1,
         "tipo_renda_Commercial associate": 0,
         "tipo_renda_Pensioner": 0,
         "tipo_renda_State servant": 0,
         "tipo_renda_Student": 0,
         "educacao_Academic degree": 0,
         "educacao_Higher education": 1,
         "educacao_Incomplete higher": 0,
         "educacao_Lower secondary": 0,
         "estado_civil_Civil marriage": 0,
         "estado_civil_Separated": 0,
         "estado_civil_Single / not married": 0,
         "estado_civil_Widow": 0,
         "tipo_residencia_Co-op apartment": 0,
         "tipo_residencia_Municipal apartment": 0,
         "tipo_residencia_Office apartment": 0,
         "tipo_residencia_Rented apartment": 0,
         "tipo_residencia_With parents": 0,
         "_deepnote_index_column": 16637
        },
        {
         "qtd_filhos": 1,
         "idade": 29.194520547945206,
         "tempo_emprego": 2.536986301369863,
         "possui_celular": 1,
         "possui_fone_comercial": 1,
         "possui_fone": 1,
         "possui_email": 0,
         "qt_pessoas_residencia": 3,
         "mau": true,
         "sexo_M": 1,
         "posse_de_veiculo_Y": 0,
         "posse_de_imovel_N": 1,
         "tipo_renda_Commercial associate": 0,
         "tipo_renda_Pensioner": 0,
         "tipo_renda_State servant": 0,
         "tipo_renda_Student": 0,
         "educacao_Academic degree": 0,
         "educacao_Higher education": 0,
         "educacao_Incomplete higher": 0,
         "educacao_Lower secondary": 0,
         "estado_civil_Civil marriage": 0,
         "estado_civil_Separated": 0,
         "estado_civil_Single / not married": 0,
         "estado_civil_Widow": 0,
         "tipo_residencia_Co-op apartment": 0,
         "tipo_residencia_Municipal apartment": 0,
         "tipo_residencia_Office apartment": 0,
         "tipo_residencia_Rented apartment": 0,
         "tipo_residencia_With parents": 0,
         "_deepnote_index_column": 16638
        },
        {
         "qtd_filhos": 1,
         "idade": 29.194520547945206,
         "tempo_emprego": 2.536986301369863,
         "possui_celular": 1,
         "possui_fone_comercial": 1,
         "possui_fone": 1,
         "possui_email": 0,
         "qt_pessoas_residencia": 3,
         "mau": true,
         "sexo_M": 1,
         "posse_de_veiculo_Y": 0,
         "posse_de_imovel_N": 1,
         "tipo_renda_Commercial associate": 0,
         "tipo_renda_Pensioner": 0,
         "tipo_renda_State servant": 0,
         "tipo_renda_Student": 0,
         "educacao_Academic degree": 0,
         "educacao_Higher education": 0,
         "educacao_Incomplete higher": 0,
         "educacao_Lower secondary": 0,
         "estado_civil_Civil marriage": 0,
         "estado_civil_Separated": 0,
         "estado_civil_Single / not married": 1,
         "estado_civil_Widow": 0,
         "tipo_residencia_Co-op apartment": 0,
         "tipo_residencia_Municipal apartment": 0,
         "tipo_residencia_Office apartment": 0,
         "tipo_residencia_Rented apartment": 0,
         "tipo_residencia_With parents": 0,
         "_deepnote_index_column": 16639
        },
        {
         "qtd_filhos": 1,
         "idade": 35.46849315068493,
         "tempo_emprego": 6.624657534246575,
         "possui_celular": 1,
         "possui_fone_comercial": 0,
         "possui_fone": 0,
         "possui_email": 1,
         "qt_pessoas_residencia": 3,
         "mau": true,
         "sexo_M": 1,
         "posse_de_veiculo_Y": 0,
         "posse_de_imovel_N": 1,
         "tipo_renda_Commercial associate": 0,
         "tipo_renda_Pensioner": 0,
         "tipo_renda_State servant": 0,
         "tipo_renda_Student": 0,
         "educacao_Academic degree": 0,
         "educacao_Higher education": 0,
         "educacao_Incomplete higher": 0,
         "educacao_Lower secondary": 0,
         "estado_civil_Civil marriage": 0,
         "estado_civil_Separated": 0,
         "estado_civil_Single / not married": 0,
         "estado_civil_Widow": 0,
         "tipo_residencia_Co-op apartment": 0,
         "tipo_residencia_Municipal apartment": 1,
         "tipo_residencia_Office apartment": 0,
         "tipo_residencia_Rented apartment": 0,
         "tipo_residencia_With parents": 0,
         "_deepnote_index_column": 16640
        },
        {
         "qtd_filhos": 0,
         "idade": 24.997260273972604,
         "tempo_emprego": 2.6301369863013697,
         "possui_celular": 1,
         "possui_fone_comercial": 1,
         "possui_fone": 0,
         "possui_email": 0,
         "qt_pessoas_residencia": 2,
         "mau": true,
         "sexo_M": 1,
         "posse_de_veiculo_Y": 1,
         "posse_de_imovel_N": 1,
         "tipo_renda_Commercial associate": 0,
         "tipo_renda_Pensioner": 0,
         "tipo_renda_State servant": 0,
         "tipo_renda_Student": 0,
         "educacao_Academic degree": 0,
         "educacao_Higher education": 0,
         "educacao_Incomplete higher": 1,
         "educacao_Lower secondary": 0,
         "estado_civil_Civil marriage": 0,
         "estado_civil_Separated": 0,
         "estado_civil_Single / not married": 0,
         "estado_civil_Widow": 0,
         "tipo_residencia_Co-op apartment": 0,
         "tipo_residencia_Municipal apartment": 0,
         "tipo_residencia_Office apartment": 0,
         "tipo_residencia_Rented apartment": 0,
         "tipo_residencia_With parents": 1,
         "_deepnote_index_column": 16641
        },
        {
         "qtd_filhos": 0,
         "idade": 24.997260273972604,
         "tempo_emprego": 2.6301369863013697,
         "possui_celular": 1,
         "possui_fone_comercial": 1,
         "possui_fone": 0,
         "possui_email": 0,
         "qt_pessoas_residencia": 2,
         "mau": true,
         "sexo_M": 1,
         "posse_de_veiculo_Y": 1,
         "posse_de_imovel_N": 1,
         "tipo_renda_Commercial associate": 0,
         "tipo_renda_Pensioner": 0,
         "tipo_renda_State servant": 0,
         "tipo_renda_Student": 0,
         "educacao_Academic degree": 0,
         "educacao_Higher education": 0,
         "educacao_Incomplete higher": 1,
         "educacao_Lower secondary": 0,
         "estado_civil_Civil marriage": 0,
         "estado_civil_Separated": 0,
         "estado_civil_Single / not married": 0,
         "estado_civil_Widow": 0,
         "tipo_residencia_Co-op apartment": 0,
         "tipo_residencia_Municipal apartment": 0,
         "tipo_residencia_Office apartment": 0,
         "tipo_residencia_Rented apartment": 0,
         "tipo_residencia_With parents": 1,
         "_deepnote_index_column": 16642
        },
        {
         "qtd_filhos": 0,
         "idade": 60.3041095890411,
         "tempo_emprego": -2,
         "possui_celular": 1,
         "possui_fone_comercial": 0,
         "possui_fone": 0,
         "possui_email": 0,
         "qt_pessoas_residencia": 2,
         "mau": true,
         "sexo_M": 0,
         "posse_de_veiculo_Y": 0,
         "posse_de_imovel_N": 0,
         "tipo_renda_Commercial associate": 0,
         "tipo_renda_Pensioner": 1,
         "tipo_renda_State servant": 0,
         "tipo_renda_Student": 0,
         "educacao_Academic degree": 0,
         "educacao_Higher education": 0,
         "educacao_Incomplete higher": 0,
         "educacao_Lower secondary": 0,
         "estado_civil_Civil marriage": 0,
         "estado_civil_Separated": 0,
         "estado_civil_Single / not married": 0,
         "estado_civil_Widow": 0,
         "tipo_residencia_Co-op apartment": 0,
         "tipo_residencia_Municipal apartment": 0,
         "tipo_residencia_Office apartment": 0,
         "tipo_residencia_Rented apartment": 0,
         "tipo_residencia_With parents": 0,
         "_deepnote_index_column": 16643
        },
        {
         "qtd_filhos": 1,
         "idade": 34.85753424657534,
         "tempo_emprego": 3.1013698630136988,
         "possui_celular": 1,
         "possui_fone_comercial": 1,
         "possui_fone": 1,
         "possui_email": 0,
         "qt_pessoas_residencia": 1,
         "mau": true,
         "sexo_M": 0,
         "posse_de_veiculo_Y": 0,
         "posse_de_imovel_N": 0,
         "tipo_renda_Commercial associate": 0,
         "tipo_renda_Pensioner": 0,
         "tipo_renda_State servant": 0,
         "tipo_renda_Student": 0,
         "educacao_Academic degree": 0,
         "educacao_Higher education": 0,
         "educacao_Incomplete higher": 0,
         "educacao_Lower secondary": 0,
         "estado_civil_Civil marriage": 0,
         "estado_civil_Separated": 0,
         "estado_civil_Single / not married": 1,
         "estado_civil_Widow": 0,
         "tipo_residencia_Co-op apartment": 0,
         "tipo_residencia_Municipal apartment": 0,
         "tipo_residencia_Office apartment": 0,
         "tipo_residencia_Rented apartment": 0,
         "tipo_residencia_With parents": 0,
         "_deepnote_index_column": 16644
        },
        {
         "qtd_filhos": 0,
         "idade": 54.10958904109589,
         "tempo_emprego": 9.884931506849314,
         "possui_celular": 1,
         "possui_fone_comercial": 0,
         "possui_fone": 0,
         "possui_email": 0,
         "qt_pessoas_residencia": 2,
         "mau": true,
         "sexo_M": 0,
         "posse_de_veiculo_Y": 0,
         "posse_de_imovel_N": 0,
         "tipo_renda_Commercial associate": 0,
         "tipo_renda_Pensioner": 0,
         "tipo_renda_State servant": 0,
         "tipo_renda_Student": 0,
         "educacao_Academic degree": 0,
         "educacao_Higher education": 0,
         "educacao_Incomplete higher": 0,
         "educacao_Lower secondary": 0,
         "estado_civil_Civil marriage": 1,
         "estado_civil_Separated": 0,
         "estado_civil_Single / not married": 0,
         "estado_civil_Widow": 0,
         "tipo_residencia_Co-op apartment": 0,
         "tipo_residencia_Municipal apartment": 0,
         "tipo_residencia_Office apartment": 0,
         "tipo_residencia_Rented apartment": 0,
         "tipo_residencia_With parents": 0,
         "_deepnote_index_column": 16645
        },
        {
         "qtd_filhos": 0,
         "idade": 43.38904109589041,
         "tempo_emprego": 7.380821917808219,
         "possui_celular": 1,
         "possui_fone_comercial": 1,
         "possui_fone": 1,
         "possui_email": 0,
         "qt_pessoas_residencia": 2,
         "mau": true,
         "sexo_M": 0,
         "posse_de_veiculo_Y": 0,
         "posse_de_imovel_N": 0,
         "tipo_renda_Commercial associate": 1,
         "tipo_renda_Pensioner": 0,
         "tipo_renda_State servant": 0,
         "tipo_renda_Student": 0,
         "educacao_Academic degree": 0,
         "educacao_Higher education": 0,
         "educacao_Incomplete higher": 0,
         "educacao_Lower secondary": 0,
         "estado_civil_Civil marriage": 0,
         "estado_civil_Separated": 0,
         "estado_civil_Single / not married": 0,
         "estado_civil_Widow": 0,
         "tipo_residencia_Co-op apartment": 0,
         "tipo_residencia_Municipal apartment": 0,
         "tipo_residencia_Office apartment": 0,
         "tipo_residencia_Rented apartment": 0,
         "tipo_residencia_With parents": 0,
         "_deepnote_index_column": 16646
        },
        {
         "qtd_filhos": 0,
         "idade": 30.005479452054796,
         "tempo_emprego": 9.8,
         "possui_celular": 1,
         "possui_fone_comercial": 1,
         "possui_fone": 0,
         "possui_email": 0,
         "qt_pessoas_residencia": 2,
         "mau": true,
         "sexo_M": 1,
         "posse_de_veiculo_Y": 1,
         "posse_de_imovel_N": 0,
         "tipo_renda_Commercial associate": 0,
         "tipo_renda_Pensioner": 0,
         "tipo_renda_State servant": 0,
         "tipo_renda_Student": 0,
         "educacao_Academic degree": 0,
         "educacao_Higher education": 0,
         "educacao_Incomplete higher": 0,
         "educacao_Lower secondary": 0,
         "estado_civil_Civil marriage": 0,
         "estado_civil_Separated": 0,
         "estado_civil_Single / not married": 0,
         "estado_civil_Widow": 0,
         "tipo_residencia_Co-op apartment": 0,
         "tipo_residencia_Municipal apartment": 0,
         "tipo_residencia_Office apartment": 0,
         "tipo_residencia_Rented apartment": 0,
         "tipo_residencia_With parents": 0,
         "_deepnote_index_column": 16647
        },
        {
         "qtd_filhos": 0,
         "idade": 30.005479452054796,
         "tempo_emprego": 9.8,
         "possui_celular": 1,
         "possui_fone_comercial": 1,
         "possui_fone": 0,
         "possui_email": 0,
         "qt_pessoas_residencia": 2,
         "mau": true,
         "sexo_M": 1,
         "posse_de_veiculo_Y": 1,
         "posse_de_imovel_N": 0,
         "tipo_renda_Commercial associate": 0,
         "tipo_renda_Pensioner": 0,
         "tipo_renda_State servant": 0,
         "tipo_renda_Student": 0,
         "educacao_Academic degree": 0,
         "educacao_Higher education": 0,
         "educacao_Incomplete higher": 0,
         "educacao_Lower secondary": 0,
         "estado_civil_Civil marriage": 0,
         "estado_civil_Separated": 0,
         "estado_civil_Single / not married": 0,
         "estado_civil_Widow": 0,
         "tipo_residencia_Co-op apartment": 0,
         "tipo_residencia_Municipal apartment": 0,
         "tipo_residencia_Office apartment": 0,
         "tipo_residencia_Rented apartment": 0,
         "tipo_residencia_With parents": 0,
         "_deepnote_index_column": 16648
        },
        {
         "qtd_filhos": 0,
         "idade": 33.93698630136986,
         "tempo_emprego": 3.6301369863013697,
         "possui_celular": 1,
         "possui_fone_comercial": 0,
         "possui_fone": 1,
         "possui_email": 1,
         "qt_pessoas_residencia": 2,
         "mau": true,
         "sexo_M": 0,
         "posse_de_veiculo_Y": 0,
         "posse_de_imovel_N": 0,
         "tipo_renda_Commercial associate": 0,
         "tipo_renda_Pensioner": 1,
         "tipo_renda_State servant": 0,
         "tipo_renda_Student": 0,
         "educacao_Academic degree": 0,
         "educacao_Higher education": 1,
         "educacao_Incomplete higher": 0,
         "educacao_Lower secondary": 0,
         "estado_civil_Civil marriage": 0,
         "estado_civil_Separated": 0,
         "estado_civil_Single / not married": 0,
         "estado_civil_Widow": 0,
         "tipo_residencia_Co-op apartment": 0,
         "tipo_residencia_Municipal apartment": 0,
         "tipo_residencia_Office apartment": 0,
         "tipo_residencia_Rented apartment": 0,
         "tipo_residencia_With parents": 0,
         "_deepnote_index_column": 16649
        }
       ]
      },
      "text/plain": "       qtd_filhos      idade  tempo_emprego  possui_celular  \\\n0               0  58.832877       3.106849               1   \n1               0  52.356164       8.358904               1   \n2               0  52.356164       8.358904               1   \n3               0  46.224658       2.106849               1   \n4               0  29.230137       3.021918               1   \n...           ...        ...            ...             ...   \n16645           0  54.109589       9.884932               1   \n16646           0  43.389041       7.380822               1   \n16647           0  30.005479       9.800000               1   \n16648           0  30.005479       9.800000               1   \n16649           0  33.936986       3.630137               1   \n\n       possui_fone_comercial  possui_fone  possui_email  \\\n0                          0            0             0   \n1                          0            1             1   \n2                          0            1             1   \n3                          1            1             1   \n4                          0            0             0   \n...                      ...          ...           ...   \n16645                      0            0             0   \n16646                      1            1             0   \n16647                      1            0             0   \n16648                      1            0             0   \n16649                      0            1             1   \n\n       qt_pessoas_residencia    mau  sexo_M  ...  educacao_Lower secondary  \\\n0                        2.0  False       1  ...                         0   \n1                        1.0  False       0  ...                         0   \n2                        1.0  False       0  ...                         0   \n3                        2.0  False       1  ...                         0   \n4                        2.0  False       0  ...                         0   \n...                      ...    ...     ...  ...                       ...   \n16645                    2.0   True       0  ...                         0   \n16646                    2.0   True       0  ...                         0   \n16647                    2.0   True       1  ...                         0   \n16648                    2.0   True       1  ...                         0   \n16649                    2.0   True       0  ...                         0   \n\n       estado_civil_Civil marriage  estado_civil_Separated  \\\n0                                0                       0   \n1                                0                       0   \n2                                0                       0   \n3                                0                       0   \n4                                0                       0   \n...                            ...                     ...   \n16645                            1                       0   \n16646                            0                       0   \n16647                            0                       0   \n16648                            0                       0   \n16649                            0                       0   \n\n       estado_civil_Single / not married  estado_civil_Widow  \\\n0                                      0                   0   \n1                                      1                   0   \n2                                      1                   0   \n3                                      0                   0   \n4                                      0                   0   \n...                                  ...                 ...   \n16645                                  0                   0   \n16646                                  0                   0   \n16647                                  0                   0   \n16648                                  0                   0   \n16649                                  0                   0   \n\n       tipo_residencia_Co-op apartment  tipo_residencia_Municipal apartment  \\\n0                                    0                                    0   \n1                                    0                                    0   \n2                                    0                                    0   \n3                                    0                                    0   \n4                                    0                                    0   \n...                                ...                                  ...   \n16645                                0                                    0   \n16646                                0                                    0   \n16647                                0                                    0   \n16648                                0                                    0   \n16649                                0                                    0   \n\n       tipo_residencia_Office apartment  tipo_residencia_Rented apartment  \\\n0                                     0                                 0   \n1                                     0                                 0   \n2                                     0                                 0   \n3                                     0                                 0   \n4                                     0                                 0   \n...                                 ...                               ...   \n16645                                 0                                 0   \n16646                                 0                                 0   \n16647                                 0                                 0   \n16648                                 0                                 0   \n16649                                 0                                 0   \n\n       tipo_residencia_With parents  \n0                                 0  \n1                                 0  \n2                                 0  \n3                                 0  \n4                                 0  \n...                             ...  \n16645                             0  \n16646                             0  \n16647                             0  \n16648                             0  \n16649                             0  \n\n[16650 rows x 29 columns]",
      "text/html": "<div>\n<style scoped>\n    .dataframe tbody tr th:only-of-type {\n        vertical-align: middle;\n    }\n\n    .dataframe tbody tr th {\n        vertical-align: top;\n    }\n\n    .dataframe thead th {\n        text-align: right;\n    }\n</style>\n<table border=\"1\" class=\"dataframe\">\n  <thead>\n    <tr style=\"text-align: right;\">\n      <th></th>\n      <th>qtd_filhos</th>\n      <th>idade</th>\n      <th>tempo_emprego</th>\n      <th>possui_celular</th>\n      <th>possui_fone_comercial</th>\n      <th>possui_fone</th>\n      <th>possui_email</th>\n      <th>qt_pessoas_residencia</th>\n      <th>mau</th>\n      <th>sexo_M</th>\n      <th>...</th>\n      <th>educacao_Lower secondary</th>\n      <th>estado_civil_Civil marriage</th>\n      <th>estado_civil_Separated</th>\n      <th>estado_civil_Single / not married</th>\n      <th>estado_civil_Widow</th>\n      <th>tipo_residencia_Co-op apartment</th>\n      <th>tipo_residencia_Municipal apartment</th>\n      <th>tipo_residencia_Office apartment</th>\n      <th>tipo_residencia_Rented apartment</th>\n      <th>tipo_residencia_With parents</th>\n    </tr>\n  </thead>\n  <tbody>\n    <tr>\n      <th>0</th>\n      <td>0</td>\n      <td>58.832877</td>\n      <td>3.106849</td>\n      <td>1</td>\n      <td>0</td>\n      <td>0</td>\n      <td>0</td>\n      <td>2.0</td>\n      <td>False</td>\n      <td>1</td>\n      <td>...</td>\n      <td>0</td>\n      <td>0</td>\n      <td>0</td>\n      <td>0</td>\n      <td>0</td>\n      <td>0</td>\n      <td>0</td>\n      <td>0</td>\n      <td>0</td>\n      <td>0</td>\n    </tr>\n    <tr>\n      <th>1</th>\n      <td>0</td>\n      <td>52.356164</td>\n      <td>8.358904</td>\n      <td>1</td>\n      <td>0</td>\n      <td>1</td>\n      <td>1</td>\n      <td>1.0</td>\n      <td>False</td>\n      <td>0</td>\n      <td>...</td>\n      <td>0</td>\n      <td>0</td>\n      <td>0</td>\n      <td>1</td>\n      <td>0</td>\n      <td>0</td>\n      <td>0</td>\n      <td>0</td>\n      <td>0</td>\n      <td>0</td>\n    </tr>\n    <tr>\n      <th>2</th>\n      <td>0</td>\n      <td>52.356164</td>\n      <td>8.358904</td>\n      <td>1</td>\n      <td>0</td>\n      <td>1</td>\n      <td>1</td>\n      <td>1.0</td>\n      <td>False</td>\n      <td>0</td>\n      <td>...</td>\n      <td>0</td>\n      <td>0</td>\n      <td>0</td>\n      <td>1</td>\n      <td>0</td>\n      <td>0</td>\n      <td>0</td>\n      <td>0</td>\n      <td>0</td>\n      <td>0</td>\n    </tr>\n    <tr>\n      <th>3</th>\n      <td>0</td>\n      <td>46.224658</td>\n      <td>2.106849</td>\n      <td>1</td>\n      <td>1</td>\n      <td>1</td>\n      <td>1</td>\n      <td>2.0</td>\n      <td>False</td>\n      <td>1</td>\n      <td>...</td>\n      <td>0</td>\n      <td>0</td>\n      <td>0</td>\n      <td>0</td>\n      <td>0</td>\n      <td>0</td>\n      <td>0</td>\n      <td>0</td>\n      <td>0</td>\n      <td>0</td>\n    </tr>\n    <tr>\n      <th>4</th>\n      <td>0</td>\n      <td>29.230137</td>\n      <td>3.021918</td>\n      <td>1</td>\n      <td>0</td>\n      <td>0</td>\n      <td>0</td>\n      <td>2.0</td>\n      <td>False</td>\n      <td>0</td>\n      <td>...</td>\n      <td>0</td>\n      <td>0</td>\n      <td>0</td>\n      <td>0</td>\n      <td>0</td>\n      <td>0</td>\n      <td>0</td>\n      <td>0</td>\n      <td>0</td>\n      <td>0</td>\n    </tr>\n    <tr>\n      <th>...</th>\n      <td>...</td>\n      <td>...</td>\n      <td>...</td>\n      <td>...</td>\n      <td>...</td>\n      <td>...</td>\n      <td>...</td>\n      <td>...</td>\n      <td>...</td>\n      <td>...</td>\n      <td>...</td>\n      <td>...</td>\n      <td>...</td>\n      <td>...</td>\n      <td>...</td>\n      <td>...</td>\n      <td>...</td>\n      <td>...</td>\n      <td>...</td>\n      <td>...</td>\n      <td>...</td>\n    </tr>\n    <tr>\n      <th>16645</th>\n      <td>0</td>\n      <td>54.109589</td>\n      <td>9.884932</td>\n      <td>1</td>\n      <td>0</td>\n      <td>0</td>\n      <td>0</td>\n      <td>2.0</td>\n      <td>True</td>\n      <td>0</td>\n      <td>...</td>\n      <td>0</td>\n      <td>1</td>\n      <td>0</td>\n      <td>0</td>\n      <td>0</td>\n      <td>0</td>\n      <td>0</td>\n      <td>0</td>\n      <td>0</td>\n      <td>0</td>\n    </tr>\n    <tr>\n      <th>16646</th>\n      <td>0</td>\n      <td>43.389041</td>\n      <td>7.380822</td>\n      <td>1</td>\n      <td>1</td>\n      <td>1</td>\n      <td>0</td>\n      <td>2.0</td>\n      <td>True</td>\n      <td>0</td>\n      <td>...</td>\n      <td>0</td>\n      <td>0</td>\n      <td>0</td>\n      <td>0</td>\n      <td>0</td>\n      <td>0</td>\n      <td>0</td>\n      <td>0</td>\n      <td>0</td>\n      <td>0</td>\n    </tr>\n    <tr>\n      <th>16647</th>\n      <td>0</td>\n      <td>30.005479</td>\n      <td>9.800000</td>\n      <td>1</td>\n      <td>1</td>\n      <td>0</td>\n      <td>0</td>\n      <td>2.0</td>\n      <td>True</td>\n      <td>1</td>\n      <td>...</td>\n      <td>0</td>\n      <td>0</td>\n      <td>0</td>\n      <td>0</td>\n      <td>0</td>\n      <td>0</td>\n      <td>0</td>\n      <td>0</td>\n      <td>0</td>\n      <td>0</td>\n    </tr>\n    <tr>\n      <th>16648</th>\n      <td>0</td>\n      <td>30.005479</td>\n      <td>9.800000</td>\n      <td>1</td>\n      <td>1</td>\n      <td>0</td>\n      <td>0</td>\n      <td>2.0</td>\n      <td>True</td>\n      <td>1</td>\n      <td>...</td>\n      <td>0</td>\n      <td>0</td>\n      <td>0</td>\n      <td>0</td>\n      <td>0</td>\n      <td>0</td>\n      <td>0</td>\n      <td>0</td>\n      <td>0</td>\n      <td>0</td>\n    </tr>\n    <tr>\n      <th>16649</th>\n      <td>0</td>\n      <td>33.936986</td>\n      <td>3.630137</td>\n      <td>1</td>\n      <td>0</td>\n      <td>1</td>\n      <td>1</td>\n      <td>2.0</td>\n      <td>True</td>\n      <td>0</td>\n      <td>...</td>\n      <td>0</td>\n      <td>0</td>\n      <td>0</td>\n      <td>0</td>\n      <td>0</td>\n      <td>0</td>\n      <td>0</td>\n      <td>0</td>\n      <td>0</td>\n      <td>0</td>\n    </tr>\n  </tbody>\n</table>\n<p>16650 rows × 29 columns</p>\n</div>"
     },
     "metadata": {}
    }
   ]
  },
  {
   "cell_type": "markdown",
   "source": "## Etapa 4 Crisp-DM: Modelagem\nNessa etapa que realizaremos a construção do modelo. Os passos típicos são:\n- Selecionar a técnica de modelagem\nUtilizaremos a técnica de floresta aleatória (**random forest**), pois é uma técnica bastante versátil e robusta que captura bem padrões complexos nos dados, relativamente fácil de se usar e que costuma produzir excelentes resultados para uma classificação como estas. Vamos ver esse algoritmo em detalhes mais adiante no curso, mas pense nele por enquanto como uma regra complexa baseada nas variáveis explicativas que classifica o indivíduo como inadimplente ou não. Mais adiante no curso vamos extrair mais dessa técnica.\n- Desenho do teste\nAntes de rodar o modelo precisamos construir um desenho do teste que será realizado. Para desenvolver um modelo como este, é considerado uma boa prática dividir a base em duas, uma chamada ```treinamento```, onde o algoritmo 'aprende', e outra chamada ```teste```, onde o algoritmo é avaliado. Essa prática fornece uma métrica de avaliação mais fidedigna do algoritmo, falaremos mais detalhes em lições futuras.\n- Avaliação do modelo\nFaremos a avaliação do nosso modelo através do percentual de acerto, avaliando a classificação do modelo (inadimplente e não inadimplente) e comparando com o estado real armazenado na variável resposta (```AtrasoRelevante2anos```). Esse percentual de acerto é frequentemente chamado de acurácia (**obs:** nunca usar assertividade... a**ss**ertivo não é aquele que a**c**erta, e sim \"*adj.: em que o locutor declara algo, positivo ou negativo, do qual assume inteiramente a validade; declarativo*.\" a**C**ertivo está errado ;)\n#### Dividindo a base em treino e teste\n\n",
   "metadata": {
    "cell_id": "00025-4ff24d42-ea21-4999-934a-b51ede57a0d8",
    "deepnote_cell_type": "markdown"
   }
  },
  {
   "cell_type": "code",
   "metadata": {
    "cell_id": "00026-6abccc19-cdf1-4c54-8fa9-c05de0ef5d7e",
    "deepnote_to_be_reexecuted": false,
    "source_hash": "3d1a2678",
    "execution_start": 1637690994501,
    "execution_millis": 0,
    "deepnote_cell_type": "code"
   },
   "source": "# Tirando a v. resposta da base de treinamento\nx = df.drop(\"mau\",axis = 1)\ny = df[\"mau\"]\n\n# Tirando ID da base de treinamento e teste\nx_train, x_test, y_train, y_test = train_test_split(x, y)",
   "execution_count": 27,
   "outputs": []
  },
  {
   "cell_type": "code",
   "metadata": {
    "cell_id": "00027-c02ec50c-3787-41c7-a0c6-6a251fda360a",
    "deepnote_output_heights": [
     397.20001220703125
    ],
    "deepnote_to_be_reexecuted": false,
    "source_hash": "e396a278",
    "execution_start": 1637690999090,
    "execution_millis": 134,
    "deepnote_cell_type": "code"
   },
   "source": "x_train",
   "execution_count": 28,
   "outputs": [
    {
     "output_type": "execute_result",
     "execution_count": 28,
     "data": {
      "application/vnd.deepnote.dataframe.v2+json": {
       "row_count": 12487,
       "column_count": 28,
       "columns": [
        {
         "name": "qtd_filhos",
         "dtype": "int64",
         "stats": {
          "unique_count": 8,
          "nan_count": 0,
          "min": "0",
          "max": "14",
          "histogram": [
           {
            "bin_start": 0,
            "bin_end": 1.4,
            "count": 11156
           },
           {
            "bin_start": 1.4,
            "bin_end": 2.8,
            "count": 1179
           },
           {
            "bin_start": 2.8,
            "bin_end": 4.199999999999999,
            "count": 147
           },
           {
            "bin_start": 4.199999999999999,
            "bin_end": 5.6,
            "count": 1
           },
           {
            "bin_start": 5.6,
            "bin_end": 7,
            "count": 0
           },
           {
            "bin_start": 7,
            "bin_end": 8.399999999999999,
            "count": 2
           },
           {
            "bin_start": 8.399999999999999,
            "bin_end": 9.799999999999999,
            "count": 0
           },
           {
            "bin_start": 9.799999999999999,
            "bin_end": 11.2,
            "count": 0
           },
           {
            "bin_start": 11.2,
            "bin_end": 12.6,
            "count": 0
           },
           {
            "bin_start": 12.6,
            "bin_end": 14,
            "count": 2
           }
          ]
         }
        },
        {
         "name": "idade",
         "dtype": "float64",
         "stats": {
          "unique_count": 4759,
          "nan_count": 0,
          "min": "22.03013698630137",
          "max": "68.90958904109588",
          "histogram": [
           {
            "bin_start": 22.03013698630137,
            "bin_end": 26.71808219178082,
            "count": 327
           },
           {
            "bin_start": 26.71808219178082,
            "bin_end": 31.40602739726027,
            "count": 1580
           },
           {
            "bin_start": 31.40602739726027,
            "bin_end": 36.093972602739726,
            "count": 1659
           },
           {
            "bin_start": 36.093972602739726,
            "bin_end": 40.78191780821918,
            "count": 1748
           },
           {
            "bin_start": 40.78191780821918,
            "bin_end": 45.46986301369863,
            "count": 1626
           },
           {
            "bin_start": 45.46986301369863,
            "bin_end": 50.15780821917808,
            "count": 1413
           },
           {
            "bin_start": 50.15780821917808,
            "bin_end": 54.84575342465753,
            "count": 1431
           },
           {
            "bin_start": 54.84575342465753,
            "bin_end": 59.53369863013698,
            "count": 1210
           },
           {
            "bin_start": 59.53369863013698,
            "bin_end": 64.22164383561643,
            "count": 1095
           },
           {
            "bin_start": 64.22164383561643,
            "bin_end": 68.90958904109588,
            "count": 398
           }
          ]
         }
        },
        {
         "name": "tempo_emprego",
         "dtype": "float64",
         "stats": {
          "unique_count": 2785,
          "nan_count": 0,
          "min": "-2.0",
          "max": "41.2",
          "histogram": [
           {
            "bin_start": -2,
            "bin_end": 2.3200000000000003,
            "count": 4173
           },
           {
            "bin_start": 2.3200000000000003,
            "bin_end": 6.640000000000001,
            "count": 3570
           },
           {
            "bin_start": 6.640000000000001,
            "bin_end": 10.96,
            "count": 2448
           },
           {
            "bin_start": 10.96,
            "bin_end": 15.280000000000001,
            "count": 1077
           },
           {
            "bin_start": 15.280000000000001,
            "bin_end": 19.6,
            "count": 521
           },
           {
            "bin_start": 19.6,
            "bin_end": 23.92,
            "count": 343
           },
           {
            "bin_start": 23.92,
            "bin_end": 28.240000000000002,
            "count": 175
           },
           {
            "bin_start": 28.240000000000002,
            "bin_end": 32.56,
            "count": 93
           },
           {
            "bin_start": 32.56,
            "bin_end": 36.88,
            "count": 56
           },
           {
            "bin_start": 36.88,
            "bin_end": 41.2,
            "count": 31
           }
          ]
         }
        },
        {
         "name": "possui_celular",
         "dtype": "int64",
         "stats": {
          "unique_count": 1,
          "nan_count": 0,
          "min": "1",
          "max": "1",
          "histogram": [
           {
            "bin_start": 0.5,
            "bin_end": 0.6,
            "count": 0
           },
           {
            "bin_start": 0.6,
            "bin_end": 0.7,
            "count": 0
           },
           {
            "bin_start": 0.7,
            "bin_end": 0.8,
            "count": 0
           },
           {
            "bin_start": 0.8,
            "bin_end": 0.9,
            "count": 0
           },
           {
            "bin_start": 0.9,
            "bin_end": 1,
            "count": 0
           },
           {
            "bin_start": 1,
            "bin_end": 1.1,
            "count": 12487
           },
           {
            "bin_start": 1.1,
            "bin_end": 1.2000000000000002,
            "count": 0
           },
           {
            "bin_start": 1.2000000000000002,
            "bin_end": 1.3,
            "count": 0
           },
           {
            "bin_start": 1.3,
            "bin_end": 1.4,
            "count": 0
           },
           {
            "bin_start": 1.4,
            "bin_end": 1.5,
            "count": 0
           }
          ]
         }
        },
        {
         "name": "possui_fone_comercial",
         "dtype": "int64",
         "stats": {
          "unique_count": 2,
          "nan_count": 0,
          "min": "0",
          "max": "1",
          "histogram": [
           {
            "bin_start": 0,
            "bin_end": 0.1,
            "count": 9645
           },
           {
            "bin_start": 0.1,
            "bin_end": 0.2,
            "count": 0
           },
           {
            "bin_start": 0.2,
            "bin_end": 0.30000000000000004,
            "count": 0
           },
           {
            "bin_start": 0.30000000000000004,
            "bin_end": 0.4,
            "count": 0
           },
           {
            "bin_start": 0.4,
            "bin_end": 0.5,
            "count": 0
           },
           {
            "bin_start": 0.5,
            "bin_end": 0.6000000000000001,
            "count": 0
           },
           {
            "bin_start": 0.6000000000000001,
            "bin_end": 0.7000000000000001,
            "count": 0
           },
           {
            "bin_start": 0.7000000000000001,
            "bin_end": 0.8,
            "count": 0
           },
           {
            "bin_start": 0.8,
            "bin_end": 0.9,
            "count": 0
           },
           {
            "bin_start": 0.9,
            "bin_end": 1,
            "count": 2842
           }
          ]
         }
        },
        {
         "name": "possui_fone",
         "dtype": "int64",
         "stats": {
          "unique_count": 2,
          "nan_count": 0,
          "min": "0",
          "max": "1",
          "histogram": [
           {
            "bin_start": 0,
            "bin_end": 0.1,
            "count": 8804
           },
           {
            "bin_start": 0.1,
            "bin_end": 0.2,
            "count": 0
           },
           {
            "bin_start": 0.2,
            "bin_end": 0.30000000000000004,
            "count": 0
           },
           {
            "bin_start": 0.30000000000000004,
            "bin_end": 0.4,
            "count": 0
           },
           {
            "bin_start": 0.4,
            "bin_end": 0.5,
            "count": 0
           },
           {
            "bin_start": 0.5,
            "bin_end": 0.6000000000000001,
            "count": 0
           },
           {
            "bin_start": 0.6000000000000001,
            "bin_end": 0.7000000000000001,
            "count": 0
           },
           {
            "bin_start": 0.7000000000000001,
            "bin_end": 0.8,
            "count": 0
           },
           {
            "bin_start": 0.8,
            "bin_end": 0.9,
            "count": 0
           },
           {
            "bin_start": 0.9,
            "bin_end": 1,
            "count": 3683
           }
          ]
         }
        },
        {
         "name": "possui_email",
         "dtype": "int64",
         "stats": {
          "unique_count": 2,
          "nan_count": 0,
          "min": "0",
          "max": "1",
          "histogram": [
           {
            "bin_start": 0,
            "bin_end": 0.1,
            "count": 11381
           },
           {
            "bin_start": 0.1,
            "bin_end": 0.2,
            "count": 0
           },
           {
            "bin_start": 0.2,
            "bin_end": 0.30000000000000004,
            "count": 0
           },
           {
            "bin_start": 0.30000000000000004,
            "bin_end": 0.4,
            "count": 0
           },
           {
            "bin_start": 0.4,
            "bin_end": 0.5,
            "count": 0
           },
           {
            "bin_start": 0.5,
            "bin_end": 0.6000000000000001,
            "count": 0
           },
           {
            "bin_start": 0.6000000000000001,
            "bin_end": 0.7000000000000001,
            "count": 0
           },
           {
            "bin_start": 0.7000000000000001,
            "bin_end": 0.8,
            "count": 0
           },
           {
            "bin_start": 0.8,
            "bin_end": 0.9,
            "count": 0
           },
           {
            "bin_start": 0.9,
            "bin_end": 1,
            "count": 1106
           }
          ]
         }
        },
        {
         "name": "qt_pessoas_residencia",
         "dtype": "float64",
         "stats": {
          "unique_count": 9,
          "nan_count": 0,
          "min": "1.0",
          "max": "15.0",
          "histogram": [
           {
            "bin_start": 1,
            "bin_end": 2.4,
            "count": 9048
           },
           {
            "bin_start": 2.4,
            "bin_end": 3.8,
            "count": 2162
           },
           {
            "bin_start": 3.8,
            "bin_end": 5.199999999999999,
            "count": 1258
           },
           {
            "bin_start": 5.199999999999999,
            "bin_end": 6.6,
            "count": 14
           },
           {
            "bin_start": 6.6,
            "bin_end": 8,
            "count": 1
           },
           {
            "bin_start": 8,
            "bin_end": 9.399999999999999,
            "count": 2
           },
           {
            "bin_start": 9.399999999999999,
            "bin_end": 10.799999999999999,
            "count": 0
           },
           {
            "bin_start": 10.799999999999999,
            "bin_end": 12.2,
            "count": 0
           },
           {
            "bin_start": 12.2,
            "bin_end": 13.6,
            "count": 0
           },
           {
            "bin_start": 13.6,
            "bin_end": 15,
            "count": 2
           }
          ]
         }
        },
        {
         "name": "sexo_M",
         "dtype": "uint8"
        },
        {
         "name": "posse_de_veiculo_Y",
         "dtype": "uint8"
        },
        {
         "name": "posse_de_imovel_N",
         "dtype": "uint8"
        },
        {
         "name": "tipo_renda_Commercial associate",
         "dtype": "uint8"
        },
        {
         "name": "tipo_renda_Pensioner",
         "dtype": "uint8"
        },
        {
         "name": "tipo_renda_State servant",
         "dtype": "uint8"
        },
        {
         "name": "tipo_renda_Student",
         "dtype": "uint8"
        },
        {
         "name": "educacao_Academic degree",
         "dtype": "uint8"
        },
        {
         "name": "educacao_Higher education",
         "dtype": "uint8"
        },
        {
         "name": "educacao_Incomplete higher",
         "dtype": "uint8"
        },
        {
         "name": "educacao_Lower secondary",
         "dtype": "uint8"
        },
        {
         "name": "estado_civil_Civil marriage",
         "dtype": "uint8"
        },
        {
         "name": "estado_civil_Separated",
         "dtype": "uint8"
        },
        {
         "name": "estado_civil_Single / not married",
         "dtype": "uint8"
        },
        {
         "name": "estado_civil_Widow",
         "dtype": "uint8"
        },
        {
         "name": "tipo_residencia_Co-op apartment",
         "dtype": "uint8"
        },
        {
         "name": "tipo_residencia_Municipal apartment",
         "dtype": "uint8"
        },
        {
         "name": "tipo_residencia_Office apartment",
         "dtype": "uint8"
        },
        {
         "name": "tipo_residencia_Rented apartment",
         "dtype": "uint8"
        },
        {
         "name": "tipo_residencia_With parents",
         "dtype": "uint8"
        },
        {
         "name": "_deepnote_index_column",
         "dtype": "int64"
        }
       ],
       "rows_top": [
        {
         "qtd_filhos": 0,
         "idade": 24.8027397260274,
         "tempo_emprego": 0.4520547945205479,
         "possui_celular": 1,
         "possui_fone_comercial": 0,
         "possui_fone": 0,
         "possui_email": 1,
         "qt_pessoas_residencia": 1,
         "sexo_M": 1,
         "posse_de_veiculo_Y": 1,
         "posse_de_imovel_N": 1,
         "tipo_renda_Commercial associate": 0,
         "tipo_renda_Pensioner": 0,
         "tipo_renda_State servant": 0,
         "tipo_renda_Student": 0,
         "educacao_Academic degree": 0,
         "educacao_Higher education": 0,
         "educacao_Incomplete higher": 0,
         "educacao_Lower secondary": 0,
         "estado_civil_Civil marriage": 0,
         "estado_civil_Separated": 0,
         "estado_civil_Single / not married": 1,
         "estado_civil_Widow": 0,
         "tipo_residencia_Co-op apartment": 0,
         "tipo_residencia_Municipal apartment": 0,
         "tipo_residencia_Office apartment": 0,
         "tipo_residencia_Rented apartment": 0,
         "tipo_residencia_With parents": 0,
         "_deepnote_index_column": 13935
        },
        {
         "qtd_filhos": 1,
         "idade": 32.602739726027394,
         "tempo_emprego": 7.747945205479452,
         "possui_celular": 1,
         "possui_fone_comercial": 0,
         "possui_fone": 0,
         "possui_email": 0,
         "qt_pessoas_residencia": 3,
         "sexo_M": 0,
         "posse_de_veiculo_Y": 1,
         "posse_de_imovel_N": 1,
         "tipo_renda_Commercial associate": 0,
         "tipo_renda_Pensioner": 0,
         "tipo_renda_State servant": 0,
         "tipo_renda_Student": 0,
         "educacao_Academic degree": 0,
         "educacao_Higher education": 1,
         "educacao_Incomplete higher": 0,
         "educacao_Lower secondary": 0,
         "estado_civil_Civil marriage": 0,
         "estado_civil_Separated": 0,
         "estado_civil_Single / not married": 0,
         "estado_civil_Widow": 0,
         "tipo_residencia_Co-op apartment": 0,
         "tipo_residencia_Municipal apartment": 0,
         "tipo_residencia_Office apartment": 0,
         "tipo_residencia_Rented apartment": 0,
         "tipo_residencia_With parents": 0,
         "_deepnote_index_column": 11663
        },
        {
         "qtd_filhos": 0,
         "idade": 49.704109589041096,
         "tempo_emprego": 8.331506849315069,
         "possui_celular": 1,
         "possui_fone_comercial": 0,
         "possui_fone": 1,
         "possui_email": 0,
         "qt_pessoas_residencia": 2,
         "sexo_M": 0,
         "posse_de_veiculo_Y": 0,
         "posse_de_imovel_N": 1,
         "tipo_renda_Commercial associate": 0,
         "tipo_renda_Pensioner": 0,
         "tipo_renda_State servant": 1,
         "tipo_renda_Student": 0,
         "educacao_Academic degree": 0,
         "educacao_Higher education": 1,
         "educacao_Incomplete higher": 0,
         "educacao_Lower secondary": 0,
         "estado_civil_Civil marriage": 1,
         "estado_civil_Separated": 0,
         "estado_civil_Single / not married": 0,
         "estado_civil_Widow": 0,
         "tipo_residencia_Co-op apartment": 0,
         "tipo_residencia_Municipal apartment": 1,
         "tipo_residencia_Office apartment": 0,
         "tipo_residencia_Rented apartment": 0,
         "tipo_residencia_With parents": 0,
         "_deepnote_index_column": 11958
        },
        {
         "qtd_filhos": 0,
         "idade": 42.28767123287671,
         "tempo_emprego": 10.863013698630136,
         "possui_celular": 1,
         "possui_fone_comercial": 1,
         "possui_fone": 1,
         "possui_email": 0,
         "qt_pessoas_residencia": 2,
         "sexo_M": 0,
         "posse_de_veiculo_Y": 1,
         "posse_de_imovel_N": 1,
         "tipo_renda_Commercial associate": 0,
         "tipo_renda_Pensioner": 0,
         "tipo_renda_State servant": 0,
         "tipo_renda_Student": 0,
         "educacao_Academic degree": 0,
         "educacao_Higher education": 1,
         "educacao_Incomplete higher": 0,
         "educacao_Lower secondary": 0,
         "estado_civil_Civil marriage": 0,
         "estado_civil_Separated": 0,
         "estado_civil_Single / not married": 0,
         "estado_civil_Widow": 0,
         "tipo_residencia_Co-op apartment": 0,
         "tipo_residencia_Municipal apartment": 0,
         "tipo_residencia_Office apartment": 0,
         "tipo_residencia_Rented apartment": 0,
         "tipo_residencia_With parents": 0,
         "_deepnote_index_column": 344
        },
        {
         "qtd_filhos": 1,
         "idade": 29.46849315068493,
         "tempo_emprego": 6.452054794520548,
         "possui_celular": 1,
         "possui_fone_comercial": 0,
         "possui_fone": 0,
         "possui_email": 0,
         "qt_pessoas_residencia": 3,
         "sexo_M": 1,
         "posse_de_veiculo_Y": 0,
         "posse_de_imovel_N": 0,
         "tipo_renda_Commercial associate": 0,
         "tipo_renda_Pensioner": 0,
         "tipo_renda_State servant": 1,
         "tipo_renda_Student": 0,
         "educacao_Academic degree": 0,
         "educacao_Higher education": 1,
         "educacao_Incomplete higher": 0,
         "educacao_Lower secondary": 0,
         "estado_civil_Civil marriage": 0,
         "estado_civil_Separated": 0,
         "estado_civil_Single / not married": 0,
         "estado_civil_Widow": 0,
         "tipo_residencia_Co-op apartment": 0,
         "tipo_residencia_Municipal apartment": 0,
         "tipo_residencia_Office apartment": 0,
         "tipo_residencia_Rented apartment": 0,
         "tipo_residencia_With parents": 0,
         "_deepnote_index_column": 12756
        },
        {
         "qtd_filhos": 0,
         "idade": 40.31780821917808,
         "tempo_emprego": 5.635616438356164,
         "possui_celular": 1,
         "possui_fone_comercial": 0,
         "possui_fone": 0,
         "possui_email": 0,
         "qt_pessoas_residencia": 1,
         "sexo_M": 0,
         "posse_de_veiculo_Y": 1,
         "posse_de_imovel_N": 0,
         "tipo_renda_Commercial associate": 0,
         "tipo_renda_Pensioner": 0,
         "tipo_renda_State servant": 0,
         "tipo_renda_Student": 0,
         "educacao_Academic degree": 0,
         "educacao_Higher education": 0,
         "educacao_Incomplete higher": 0,
         "educacao_Lower secondary": 0,
         "estado_civil_Civil marriage": 0,
         "estado_civil_Separated": 0,
         "estado_civil_Single / not married": 1,
         "estado_civil_Widow": 0,
         "tipo_residencia_Co-op apartment": 0,
         "tipo_residencia_Municipal apartment": 0,
         "tipo_residencia_Office apartment": 0,
         "tipo_residencia_Rented apartment": 0,
         "tipo_residencia_With parents": 0,
         "_deepnote_index_column": 10242
        },
        {
         "qtd_filhos": 0,
         "idade": 57.36986301369863,
         "tempo_emprego": -2,
         "possui_celular": 1,
         "possui_fone_comercial": 0,
         "possui_fone": 0,
         "possui_email": 0,
         "qt_pessoas_residencia": 2,
         "sexo_M": 0,
         "posse_de_veiculo_Y": 0,
         "posse_de_imovel_N": 0,
         "tipo_renda_Commercial associate": 0,
         "tipo_renda_Pensioner": 1,
         "tipo_renda_State servant": 0,
         "tipo_renda_Student": 0,
         "educacao_Academic degree": 0,
         "educacao_Higher education": 0,
         "educacao_Incomplete higher": 0,
         "educacao_Lower secondary": 0,
         "estado_civil_Civil marriage": 1,
         "estado_civil_Separated": 0,
         "estado_civil_Single / not married": 0,
         "estado_civil_Widow": 0,
         "tipo_residencia_Co-op apartment": 0,
         "tipo_residencia_Municipal apartment": 0,
         "tipo_residencia_Office apartment": 0,
         "tipo_residencia_Rented apartment": 0,
         "tipo_residencia_With parents": 0,
         "_deepnote_index_column": 1123
        },
        {
         "qtd_filhos": 0,
         "idade": 51.64931506849315,
         "tempo_emprego": 19.27945205479452,
         "possui_celular": 1,
         "possui_fone_comercial": 0,
         "possui_fone": 0,
         "possui_email": 0,
         "qt_pessoas_residencia": 2,
         "sexo_M": 0,
         "posse_de_veiculo_Y": 0,
         "posse_de_imovel_N": 1,
         "tipo_renda_Commercial associate": 1,
         "tipo_renda_Pensioner": 0,
         "tipo_renda_State servant": 0,
         "tipo_renda_Student": 0,
         "educacao_Academic degree": 0,
         "educacao_Higher education": 1,
         "educacao_Incomplete higher": 0,
         "educacao_Lower secondary": 0,
         "estado_civil_Civil marriage": 0,
         "estado_civil_Separated": 0,
         "estado_civil_Single / not married": 0,
         "estado_civil_Widow": 0,
         "tipo_residencia_Co-op apartment": 0,
         "tipo_residencia_Municipal apartment": 0,
         "tipo_residencia_Office apartment": 0,
         "tipo_residencia_Rented apartment": 0,
         "tipo_residencia_With parents": 0,
         "_deepnote_index_column": 3803
        },
        {
         "qtd_filhos": 0,
         "idade": 37.10410958904109,
         "tempo_emprego": 3.632876712328767,
         "possui_celular": 1,
         "possui_fone_comercial": 0,
         "possui_fone": 0,
         "possui_email": 0,
         "qt_pessoas_residencia": 2,
         "sexo_M": 1,
         "posse_de_veiculo_Y": 1,
         "posse_de_imovel_N": 0,
         "tipo_renda_Commercial associate": 1,
         "tipo_renda_Pensioner": 0,
         "tipo_renda_State servant": 0,
         "tipo_renda_Student": 0,
         "educacao_Academic degree": 0,
         "educacao_Higher education": 1,
         "educacao_Incomplete higher": 0,
         "educacao_Lower secondary": 0,
         "estado_civil_Civil marriage": 1,
         "estado_civil_Separated": 0,
         "estado_civil_Single / not married": 0,
         "estado_civil_Widow": 0,
         "tipo_residencia_Co-op apartment": 0,
         "tipo_residencia_Municipal apartment": 0,
         "tipo_residencia_Office apartment": 0,
         "tipo_residencia_Rented apartment": 0,
         "tipo_residencia_With parents": 0,
         "_deepnote_index_column": 4118
        },
        {
         "qtd_filhos": 0,
         "idade": 34.88493150684931,
         "tempo_emprego": 8.726027397260275,
         "possui_celular": 1,
         "possui_fone_comercial": 1,
         "possui_fone": 0,
         "possui_email": 0,
         "qt_pessoas_residencia": 2,
         "sexo_M": 1,
         "posse_de_veiculo_Y": 1,
         "posse_de_imovel_N": 0,
         "tipo_renda_Commercial associate": 0,
         "tipo_renda_Pensioner": 0,
         "tipo_renda_State servant": 0,
         "tipo_renda_Student": 0,
         "educacao_Academic degree": 0,
         "educacao_Higher education": 0,
         "educacao_Incomplete higher": 0,
         "educacao_Lower secondary": 0,
         "estado_civil_Civil marriage": 0,
         "estado_civil_Separated": 0,
         "estado_civil_Single / not married": 0,
         "estado_civil_Widow": 0,
         "tipo_residencia_Co-op apartment": 0,
         "tipo_residencia_Municipal apartment": 0,
         "tipo_residencia_Office apartment": 0,
         "tipo_residencia_Rented apartment": 0,
         "tipo_residencia_With parents": 0,
         "_deepnote_index_column": 5853
        },
        {
         "qtd_filhos": 0,
         "idade": 30.03013698630137,
         "tempo_emprego": 1.295890410958904,
         "possui_celular": 1,
         "possui_fone_comercial": 0,
         "possui_fone": 0,
         "possui_email": 0,
         "qt_pessoas_residencia": 2,
         "sexo_M": 0,
         "posse_de_veiculo_Y": 0,
         "posse_de_imovel_N": 0,
         "tipo_renda_Commercial associate": 0,
         "tipo_renda_Pensioner": 0,
         "tipo_renda_State servant": 1,
         "tipo_renda_Student": 0,
         "educacao_Academic degree": 0,
         "educacao_Higher education": 0,
         "educacao_Incomplete higher": 0,
         "educacao_Lower secondary": 0,
         "estado_civil_Civil marriage": 1,
         "estado_civil_Separated": 0,
         "estado_civil_Single / not married": 0,
         "estado_civil_Widow": 0,
         "tipo_residencia_Co-op apartment": 0,
         "tipo_residencia_Municipal apartment": 0,
         "tipo_residencia_Office apartment": 0,
         "tipo_residencia_Rented apartment": 0,
         "tipo_residencia_With parents": 0,
         "_deepnote_index_column": 5002
        },
        {
         "qtd_filhos": 0,
         "idade": 54.67945205479453,
         "tempo_emprego": 20.45205479452055,
         "possui_celular": 1,
         "possui_fone_comercial": 0,
         "possui_fone": 0,
         "possui_email": 0,
         "qt_pessoas_residencia": 2,
         "sexo_M": 1,
         "posse_de_veiculo_Y": 1,
         "posse_de_imovel_N": 0,
         "tipo_renda_Commercial associate": 0,
         "tipo_renda_Pensioner": 0,
         "tipo_renda_State servant": 0,
         "tipo_renda_Student": 0,
         "educacao_Academic degree": 0,
         "educacao_Higher education": 1,
         "educacao_Incomplete higher": 0,
         "educacao_Lower secondary": 0,
         "estado_civil_Civil marriage": 0,
         "estado_civil_Separated": 0,
         "estado_civil_Single / not married": 0,
         "estado_civil_Widow": 0,
         "tipo_residencia_Co-op apartment": 0,
         "tipo_residencia_Municipal apartment": 0,
         "tipo_residencia_Office apartment": 0,
         "tipo_residencia_Rented apartment": 0,
         "tipo_residencia_With parents": 0,
         "_deepnote_index_column": 392
        },
        {
         "qtd_filhos": 0,
         "idade": 66.64109589041095,
         "tempo_emprego": -2,
         "possui_celular": 1,
         "possui_fone_comercial": 0,
         "possui_fone": 0,
         "possui_email": 0,
         "qt_pessoas_residencia": 1,
         "sexo_M": 0,
         "posse_de_veiculo_Y": 0,
         "posse_de_imovel_N": 0,
         "tipo_renda_Commercial associate": 0,
         "tipo_renda_Pensioner": 1,
         "tipo_renda_State servant": 0,
         "tipo_renda_Student": 0,
         "educacao_Academic degree": 0,
         "educacao_Higher education": 0,
         "educacao_Incomplete higher": 0,
         "educacao_Lower secondary": 0,
         "estado_civil_Civil marriage": 0,
         "estado_civil_Separated": 0,
         "estado_civil_Single / not married": 0,
         "estado_civil_Widow": 1,
         "tipo_residencia_Co-op apartment": 0,
         "tipo_residencia_Municipal apartment": 0,
         "tipo_residencia_Office apartment": 0,
         "tipo_residencia_Rented apartment": 0,
         "tipo_residencia_With parents": 0,
         "_deepnote_index_column": 7135
        },
        {
         "qtd_filhos": 0,
         "idade": 50.9013698630137,
         "tempo_emprego": 5.50958904109589,
         "possui_celular": 1,
         "possui_fone_comercial": 1,
         "possui_fone": 0,
         "possui_email": 0,
         "qt_pessoas_residencia": 2,
         "sexo_M": 0,
         "posse_de_veiculo_Y": 1,
         "posse_de_imovel_N": 0,
         "tipo_renda_Commercial associate": 0,
         "tipo_renda_Pensioner": 0,
         "tipo_renda_State servant": 0,
         "tipo_renda_Student": 0,
         "educacao_Academic degree": 0,
         "educacao_Higher education": 1,
         "educacao_Incomplete higher": 0,
         "educacao_Lower secondary": 0,
         "estado_civil_Civil marriage": 0,
         "estado_civil_Separated": 0,
         "estado_civil_Single / not married": 0,
         "estado_civil_Widow": 0,
         "tipo_residencia_Co-op apartment": 0,
         "tipo_residencia_Municipal apartment": 0,
         "tipo_residencia_Office apartment": 0,
         "tipo_residencia_Rented apartment": 0,
         "tipo_residencia_With parents": 0,
         "_deepnote_index_column": 1875
        },
        {
         "qtd_filhos": 0,
         "idade": 58.59452054794521,
         "tempo_emprego": -2,
         "possui_celular": 1,
         "possui_fone_comercial": 0,
         "possui_fone": 0,
         "possui_email": 0,
         "qt_pessoas_residencia": 2,
         "sexo_M": 0,
         "posse_de_veiculo_Y": 1,
         "posse_de_imovel_N": 0,
         "tipo_renda_Commercial associate": 0,
         "tipo_renda_Pensioner": 1,
         "tipo_renda_State servant": 0,
         "tipo_renda_Student": 0,
         "educacao_Academic degree": 0,
         "educacao_Higher education": 0,
         "educacao_Incomplete higher": 0,
         "educacao_Lower secondary": 0,
         "estado_civil_Civil marriage": 0,
         "estado_civil_Separated": 0,
         "estado_civil_Single / not married": 0,
         "estado_civil_Widow": 0,
         "tipo_residencia_Co-op apartment": 0,
         "tipo_residencia_Municipal apartment": 0,
         "tipo_residencia_Office apartment": 0,
         "tipo_residencia_Rented apartment": 0,
         "tipo_residencia_With parents": 0,
         "_deepnote_index_column": 5164
        },
        {
         "qtd_filhos": 0,
         "idade": 46.06575342465754,
         "tempo_emprego": 18.12054794520548,
         "possui_celular": 1,
         "possui_fone_comercial": 0,
         "possui_fone": 0,
         "possui_email": 0,
         "qt_pessoas_residencia": 1,
         "sexo_M": 0,
         "posse_de_veiculo_Y": 0,
         "posse_de_imovel_N": 1,
         "tipo_renda_Commercial associate": 0,
         "tipo_renda_Pensioner": 0,
         "tipo_renda_State servant": 0,
         "tipo_renda_Student": 0,
         "educacao_Academic degree": 0,
         "educacao_Higher education": 0,
         "educacao_Incomplete higher": 0,
         "educacao_Lower secondary": 0,
         "estado_civil_Civil marriage": 0,
         "estado_civil_Separated": 0,
         "estado_civil_Single / not married": 1,
         "estado_civil_Widow": 0,
         "tipo_residencia_Co-op apartment": 0,
         "tipo_residencia_Municipal apartment": 0,
         "tipo_residencia_Office apartment": 0,
         "tipo_residencia_Rented apartment": 0,
         "tipo_residencia_With parents": 0,
         "_deepnote_index_column": 770
        },
        {
         "qtd_filhos": 1,
         "idade": 46.36438356164384,
         "tempo_emprego": 6.950684931506849,
         "possui_celular": 1,
         "possui_fone_comercial": 0,
         "possui_fone": 0,
         "possui_email": 0,
         "qt_pessoas_residencia": 3,
         "sexo_M": 1,
         "posse_de_veiculo_Y": 1,
         "posse_de_imovel_N": 0,
         "tipo_renda_Commercial associate": 1,
         "tipo_renda_Pensioner": 0,
         "tipo_renda_State servant": 0,
         "tipo_renda_Student": 0,
         "educacao_Academic degree": 0,
         "educacao_Higher education": 1,
         "educacao_Incomplete higher": 0,
         "educacao_Lower secondary": 0,
         "estado_civil_Civil marriage": 1,
         "estado_civil_Separated": 0,
         "estado_civil_Single / not married": 0,
         "estado_civil_Widow": 0,
         "tipo_residencia_Co-op apartment": 0,
         "tipo_residencia_Municipal apartment": 0,
         "tipo_residencia_Office apartment": 0,
         "tipo_residencia_Rented apartment": 0,
         "tipo_residencia_With parents": 0,
         "_deepnote_index_column": 12872
        }
       ],
       "rows_bottom": [
        {
         "qtd_filhos": 0,
         "idade": 58.772602739726025,
         "tempo_emprego": -2,
         "possui_celular": 1,
         "possui_fone_comercial": 0,
         "possui_fone": 0,
         "possui_email": 0,
         "qt_pessoas_residencia": 2,
         "sexo_M": 0,
         "posse_de_veiculo_Y": 1,
         "posse_de_imovel_N": 0,
         "tipo_renda_Commercial associate": 0,
         "tipo_renda_Pensioner": 1,
         "tipo_renda_State servant": 0,
         "tipo_renda_Student": 0,
         "educacao_Academic degree": 0,
         "educacao_Higher education": 1,
         "educacao_Incomplete higher": 0,
         "educacao_Lower secondary": 0,
         "estado_civil_Civil marriage": 0,
         "estado_civil_Separated": 0,
         "estado_civil_Single / not married": 0,
         "estado_civil_Widow": 0,
         "tipo_residencia_Co-op apartment": 0,
         "tipo_residencia_Municipal apartment": 0,
         "tipo_residencia_Office apartment": 0,
         "tipo_residencia_Rented apartment": 0,
         "tipo_residencia_With parents": 0,
         "_deepnote_index_column": 14635
        },
        {
         "qtd_filhos": 1,
         "idade": 33.83013698630137,
         "tempo_emprego": 1.0410958904109588,
         "possui_celular": 1,
         "possui_fone_comercial": 0,
         "possui_fone": 1,
         "possui_email": 0,
         "qt_pessoas_residencia": 3,
         "sexo_M": 1,
         "posse_de_veiculo_Y": 0,
         "posse_de_imovel_N": 1,
         "tipo_renda_Commercial associate": 0,
         "tipo_renda_Pensioner": 0,
         "tipo_renda_State servant": 0,
         "tipo_renda_Student": 0,
         "educacao_Academic degree": 0,
         "educacao_Higher education": 1,
         "educacao_Incomplete higher": 0,
         "educacao_Lower secondary": 0,
         "estado_civil_Civil marriage": 0,
         "estado_civil_Separated": 0,
         "estado_civil_Single / not married": 0,
         "estado_civil_Widow": 0,
         "tipo_residencia_Co-op apartment": 0,
         "tipo_residencia_Municipal apartment": 0,
         "tipo_residencia_Office apartment": 0,
         "tipo_residencia_Rented apartment": 0,
         "tipo_residencia_With parents": 0,
         "_deepnote_index_column": 14101
        },
        {
         "qtd_filhos": 2,
         "idade": 33.35616438356164,
         "tempo_emprego": 0.547945205479452,
         "possui_celular": 1,
         "possui_fone_comercial": 0,
         "possui_fone": 0,
         "possui_email": 0,
         "qt_pessoas_residencia": 4,
         "sexo_M": 1,
         "posse_de_veiculo_Y": 0,
         "posse_de_imovel_N": 0,
         "tipo_renda_Commercial associate": 0,
         "tipo_renda_Pensioner": 0,
         "tipo_renda_State servant": 0,
         "tipo_renda_Student": 0,
         "educacao_Academic degree": 0,
         "educacao_Higher education": 0,
         "educacao_Incomplete higher": 0,
         "educacao_Lower secondary": 0,
         "estado_civil_Civil marriage": 0,
         "estado_civil_Separated": 0,
         "estado_civil_Single / not married": 0,
         "estado_civil_Widow": 0,
         "tipo_residencia_Co-op apartment": 0,
         "tipo_residencia_Municipal apartment": 0,
         "tipo_residencia_Office apartment": 0,
         "tipo_residencia_Rented apartment": 0,
         "tipo_residencia_With parents": 0,
         "_deepnote_index_column": 10285
        },
        {
         "qtd_filhos": 1,
         "idade": 27.794520547945204,
         "tempo_emprego": 3.084931506849315,
         "possui_celular": 1,
         "possui_fone_comercial": 0,
         "possui_fone": 0,
         "possui_email": 0,
         "qt_pessoas_residencia": 3,
         "sexo_M": 1,
         "posse_de_veiculo_Y": 0,
         "posse_de_imovel_N": 0,
         "tipo_renda_Commercial associate": 0,
         "tipo_renda_Pensioner": 0,
         "tipo_renda_State servant": 0,
         "tipo_renda_Student": 0,
         "educacao_Academic degree": 0,
         "educacao_Higher education": 0,
         "educacao_Incomplete higher": 0,
         "educacao_Lower secondary": 0,
         "estado_civil_Civil marriage": 0,
         "estado_civil_Separated": 0,
         "estado_civil_Single / not married": 0,
         "estado_civil_Widow": 0,
         "tipo_residencia_Co-op apartment": 0,
         "tipo_residencia_Municipal apartment": 0,
         "tipo_residencia_Office apartment": 0,
         "tipo_residencia_Rented apartment": 0,
         "tipo_residencia_With parents": 0,
         "_deepnote_index_column": 7980
        },
        {
         "qtd_filhos": 1,
         "idade": 49.989041095890414,
         "tempo_emprego": 16.63013698630137,
         "possui_celular": 1,
         "possui_fone_comercial": 1,
         "possui_fone": 1,
         "possui_email": 0,
         "qt_pessoas_residencia": 2,
         "sexo_M": 0,
         "posse_de_veiculo_Y": 0,
         "posse_de_imovel_N": 0,
         "tipo_renda_Commercial associate": 0,
         "tipo_renda_Pensioner": 0,
         "tipo_renda_State servant": 0,
         "tipo_renda_Student": 0,
         "educacao_Academic degree": 0,
         "educacao_Higher education": 0,
         "educacao_Incomplete higher": 0,
         "educacao_Lower secondary": 0,
         "estado_civil_Civil marriage": 0,
         "estado_civil_Separated": 0,
         "estado_civil_Single / not married": 1,
         "estado_civil_Widow": 0,
         "tipo_residencia_Co-op apartment": 0,
         "tipo_residencia_Municipal apartment": 0,
         "tipo_residencia_Office apartment": 0,
         "tipo_residencia_Rented apartment": 0,
         "tipo_residencia_With parents": 0,
         "_deepnote_index_column": 13691
        },
        {
         "qtd_filhos": 0,
         "idade": 66.64931506849315,
         "tempo_emprego": -2,
         "possui_celular": 1,
         "possui_fone_comercial": 0,
         "possui_fone": 0,
         "possui_email": 0,
         "qt_pessoas_residencia": 2,
         "sexo_M": 0,
         "posse_de_veiculo_Y": 0,
         "posse_de_imovel_N": 0,
         "tipo_renda_Commercial associate": 0,
         "tipo_renda_Pensioner": 1,
         "tipo_renda_State servant": 0,
         "tipo_renda_Student": 0,
         "educacao_Academic degree": 0,
         "educacao_Higher education": 0,
         "educacao_Incomplete higher": 0,
         "educacao_Lower secondary": 0,
         "estado_civil_Civil marriage": 0,
         "estado_civil_Separated": 0,
         "estado_civil_Single / not married": 0,
         "estado_civil_Widow": 0,
         "tipo_residencia_Co-op apartment": 0,
         "tipo_residencia_Municipal apartment": 0,
         "tipo_residencia_Office apartment": 0,
         "tipo_residencia_Rented apartment": 0,
         "tipo_residencia_With parents": 0,
         "_deepnote_index_column": 4036
        },
        {
         "qtd_filhos": 1,
         "idade": 31.172602739726027,
         "tempo_emprego": 2.375342465753425,
         "possui_celular": 1,
         "possui_fone_comercial": 0,
         "possui_fone": 1,
         "possui_email": 0,
         "qt_pessoas_residencia": 3,
         "sexo_M": 1,
         "posse_de_veiculo_Y": 1,
         "posse_de_imovel_N": 0,
         "tipo_renda_Commercial associate": 0,
         "tipo_renda_Pensioner": 0,
         "tipo_renda_State servant": 0,
         "tipo_renda_Student": 0,
         "educacao_Academic degree": 0,
         "educacao_Higher education": 0,
         "educacao_Incomplete higher": 0,
         "educacao_Lower secondary": 0,
         "estado_civil_Civil marriage": 0,
         "estado_civil_Separated": 0,
         "estado_civil_Single / not married": 0,
         "estado_civil_Widow": 0,
         "tipo_residencia_Co-op apartment": 0,
         "tipo_residencia_Municipal apartment": 0,
         "tipo_residencia_Office apartment": 0,
         "tipo_residencia_Rented apartment": 0,
         "tipo_residencia_With parents": 0,
         "_deepnote_index_column": 6954
        },
        {
         "qtd_filhos": 0,
         "idade": 56.41643835616439,
         "tempo_emprego": 17.068493150684933,
         "possui_celular": 1,
         "possui_fone_comercial": 1,
         "possui_fone": 1,
         "possui_email": 1,
         "qt_pessoas_residencia": 2,
         "sexo_M": 1,
         "posse_de_veiculo_Y": 1,
         "posse_de_imovel_N": 0,
         "tipo_renda_Commercial associate": 0,
         "tipo_renda_Pensioner": 0,
         "tipo_renda_State servant": 0,
         "tipo_renda_Student": 0,
         "educacao_Academic degree": 0,
         "educacao_Higher education": 0,
         "educacao_Incomplete higher": 0,
         "educacao_Lower secondary": 0,
         "estado_civil_Civil marriage": 0,
         "estado_civil_Separated": 0,
         "estado_civil_Single / not married": 0,
         "estado_civil_Widow": 0,
         "tipo_residencia_Co-op apartment": 0,
         "tipo_residencia_Municipal apartment": 0,
         "tipo_residencia_Office apartment": 0,
         "tipo_residencia_Rented apartment": 0,
         "tipo_residencia_With parents": 0,
         "_deepnote_index_column": 1698
        },
        {
         "qtd_filhos": 0,
         "idade": 33.64657534246575,
         "tempo_emprego": 4.131506849315069,
         "possui_celular": 1,
         "possui_fone_comercial": 0,
         "possui_fone": 0,
         "possui_email": 1,
         "qt_pessoas_residencia": 2,
         "sexo_M": 0,
         "posse_de_veiculo_Y": 0,
         "posse_de_imovel_N": 0,
         "tipo_renda_Commercial associate": 0,
         "tipo_renda_Pensioner": 0,
         "tipo_renda_State servant": 0,
         "tipo_renda_Student": 0,
         "educacao_Academic degree": 0,
         "educacao_Higher education": 1,
         "educacao_Incomplete higher": 0,
         "educacao_Lower secondary": 0,
         "estado_civil_Civil marriage": 0,
         "estado_civil_Separated": 0,
         "estado_civil_Single / not married": 0,
         "estado_civil_Widow": 0,
         "tipo_residencia_Co-op apartment": 0,
         "tipo_residencia_Municipal apartment": 0,
         "tipo_residencia_Office apartment": 0,
         "tipo_residencia_Rented apartment": 0,
         "tipo_residencia_With parents": 0,
         "_deepnote_index_column": 3035
        },
        {
         "qtd_filhos": 0,
         "idade": 54.67123287671233,
         "tempo_emprego": 16.986301369863014,
         "possui_celular": 1,
         "possui_fone_comercial": 0,
         "possui_fone": 0,
         "possui_email": 0,
         "qt_pessoas_residencia": 1,
         "sexo_M": 0,
         "posse_de_veiculo_Y": 0,
         "posse_de_imovel_N": 0,
         "tipo_renda_Commercial associate": 0,
         "tipo_renda_Pensioner": 0,
         "tipo_renda_State servant": 1,
         "tipo_renda_Student": 0,
         "educacao_Academic degree": 0,
         "educacao_Higher education": 1,
         "educacao_Incomplete higher": 0,
         "educacao_Lower secondary": 0,
         "estado_civil_Civil marriage": 0,
         "estado_civil_Separated": 0,
         "estado_civil_Single / not married": 0,
         "estado_civil_Widow": 1,
         "tipo_residencia_Co-op apartment": 0,
         "tipo_residencia_Municipal apartment": 0,
         "tipo_residencia_Office apartment": 0,
         "tipo_residencia_Rented apartment": 0,
         "tipo_residencia_With parents": 0,
         "_deepnote_index_column": 2712
        },
        {
         "qtd_filhos": 0,
         "idade": 66.7013698630137,
         "tempo_emprego": -2,
         "possui_celular": 1,
         "possui_fone_comercial": 0,
         "possui_fone": 0,
         "possui_email": 0,
         "qt_pessoas_residencia": 2,
         "sexo_M": 0,
         "posse_de_veiculo_Y": 0,
         "posse_de_imovel_N": 1,
         "tipo_renda_Commercial associate": 0,
         "tipo_renda_Pensioner": 1,
         "tipo_renda_State servant": 0,
         "tipo_renda_Student": 0,
         "educacao_Academic degree": 0,
         "educacao_Higher education": 0,
         "educacao_Incomplete higher": 0,
         "educacao_Lower secondary": 0,
         "estado_civil_Civil marriage": 0,
         "estado_civil_Separated": 0,
         "estado_civil_Single / not married": 0,
         "estado_civil_Widow": 0,
         "tipo_residencia_Co-op apartment": 0,
         "tipo_residencia_Municipal apartment": 0,
         "tipo_residencia_Office apartment": 0,
         "tipo_residencia_Rented apartment": 0,
         "tipo_residencia_With parents": 0,
         "_deepnote_index_column": 4059
        },
        {
         "qtd_filhos": 0,
         "idade": 50.85205479452055,
         "tempo_emprego": 9.767123287671232,
         "possui_celular": 1,
         "possui_fone_comercial": 1,
         "possui_fone": 1,
         "possui_email": 0,
         "qt_pessoas_residencia": 1,
         "sexo_M": 0,
         "posse_de_veiculo_Y": 0,
         "posse_de_imovel_N": 0,
         "tipo_renda_Commercial associate": 0,
         "tipo_renda_Pensioner": 0,
         "tipo_renda_State servant": 0,
         "tipo_renda_Student": 0,
         "educacao_Academic degree": 0,
         "educacao_Higher education": 0,
         "educacao_Incomplete higher": 0,
         "educacao_Lower secondary": 0,
         "estado_civil_Civil marriage": 0,
         "estado_civil_Separated": 1,
         "estado_civil_Single / not married": 0,
         "estado_civil_Widow": 0,
         "tipo_residencia_Co-op apartment": 0,
         "tipo_residencia_Municipal apartment": 0,
         "tipo_residencia_Office apartment": 0,
         "tipo_residencia_Rented apartment": 0,
         "tipo_residencia_With parents": 0,
         "_deepnote_index_column": 16422
        },
        {
         "qtd_filhos": 0,
         "idade": 53.78356164383562,
         "tempo_emprego": -2,
         "possui_celular": 1,
         "possui_fone_comercial": 0,
         "possui_fone": 0,
         "possui_email": 0,
         "qt_pessoas_residencia": 2,
         "sexo_M": 1,
         "posse_de_veiculo_Y": 0,
         "posse_de_imovel_N": 0,
         "tipo_renda_Commercial associate": 0,
         "tipo_renda_Pensioner": 1,
         "tipo_renda_State servant": 0,
         "tipo_renda_Student": 0,
         "educacao_Academic degree": 0,
         "educacao_Higher education": 1,
         "educacao_Incomplete higher": 0,
         "educacao_Lower secondary": 0,
         "estado_civil_Civil marriage": 0,
         "estado_civil_Separated": 0,
         "estado_civil_Single / not married": 0,
         "estado_civil_Widow": 0,
         "tipo_residencia_Co-op apartment": 0,
         "tipo_residencia_Municipal apartment": 0,
         "tipo_residencia_Office apartment": 0,
         "tipo_residencia_Rented apartment": 0,
         "tipo_residencia_With parents": 0,
         "_deepnote_index_column": 12126
        },
        {
         "qtd_filhos": 0,
         "idade": 64.13150684931507,
         "tempo_emprego": -2,
         "possui_celular": 1,
         "possui_fone_comercial": 0,
         "possui_fone": 0,
         "possui_email": 0,
         "qt_pessoas_residencia": 2,
         "sexo_M": 0,
         "posse_de_veiculo_Y": 0,
         "posse_de_imovel_N": 0,
         "tipo_renda_Commercial associate": 0,
         "tipo_renda_Pensioner": 1,
         "tipo_renda_State servant": 0,
         "tipo_renda_Student": 0,
         "educacao_Academic degree": 0,
         "educacao_Higher education": 0,
         "educacao_Incomplete higher": 0,
         "educacao_Lower secondary": 0,
         "estado_civil_Civil marriage": 0,
         "estado_civil_Separated": 0,
         "estado_civil_Single / not married": 0,
         "estado_civil_Widow": 0,
         "tipo_residencia_Co-op apartment": 0,
         "tipo_residencia_Municipal apartment": 0,
         "tipo_residencia_Office apartment": 0,
         "tipo_residencia_Rented apartment": 0,
         "tipo_residencia_With parents": 0,
         "_deepnote_index_column": 2037
        },
        {
         "qtd_filhos": 3,
         "idade": 41.81369863013698,
         "tempo_emprego": 4.586301369863014,
         "possui_celular": 1,
         "possui_fone_comercial": 0,
         "possui_fone": 0,
         "possui_email": 0,
         "qt_pessoas_residencia": 5,
         "sexo_M": 1,
         "posse_de_veiculo_Y": 1,
         "posse_de_imovel_N": 1,
         "tipo_renda_Commercial associate": 1,
         "tipo_renda_Pensioner": 0,
         "tipo_renda_State servant": 0,
         "tipo_renda_Student": 0,
         "educacao_Academic degree": 0,
         "educacao_Higher education": 0,
         "educacao_Incomplete higher": 0,
         "educacao_Lower secondary": 0,
         "estado_civil_Civil marriage": 0,
         "estado_civil_Separated": 0,
         "estado_civil_Single / not married": 0,
         "estado_civil_Widow": 0,
         "tipo_residencia_Co-op apartment": 0,
         "tipo_residencia_Municipal apartment": 0,
         "tipo_residencia_Office apartment": 0,
         "tipo_residencia_Rented apartment": 0,
         "tipo_residencia_With parents": 0,
         "_deepnote_index_column": 1399
        },
        {
         "qtd_filhos": 0,
         "idade": 40.367123287671234,
         "tempo_emprego": 8.69041095890411,
         "possui_celular": 1,
         "possui_fone_comercial": 1,
         "possui_fone": 1,
         "possui_email": 0,
         "qt_pessoas_residencia": 2,
         "sexo_M": 1,
         "posse_de_veiculo_Y": 0,
         "posse_de_imovel_N": 0,
         "tipo_renda_Commercial associate": 0,
         "tipo_renda_Pensioner": 0,
         "tipo_renda_State servant": 0,
         "tipo_renda_Student": 0,
         "educacao_Academic degree": 0,
         "educacao_Higher education": 1,
         "educacao_Incomplete higher": 0,
         "educacao_Lower secondary": 0,
         "estado_civil_Civil marriage": 0,
         "estado_civil_Separated": 0,
         "estado_civil_Single / not married": 0,
         "estado_civil_Widow": 0,
         "tipo_residencia_Co-op apartment": 0,
         "tipo_residencia_Municipal apartment": 0,
         "tipo_residencia_Office apartment": 0,
         "tipo_residencia_Rented apartment": 0,
         "tipo_residencia_With parents": 1,
         "_deepnote_index_column": 14968
        },
        {
         "qtd_filhos": 2,
         "idade": 34.86027397260274,
         "tempo_emprego": 7.219178082191781,
         "possui_celular": 1,
         "possui_fone_comercial": 1,
         "possui_fone": 0,
         "possui_email": 0,
         "qt_pessoas_residencia": 4,
         "sexo_M": 0,
         "posse_de_veiculo_Y": 0,
         "posse_de_imovel_N": 0,
         "tipo_renda_Commercial associate": 0,
         "tipo_renda_Pensioner": 0,
         "tipo_renda_State servant": 1,
         "tipo_renda_Student": 0,
         "educacao_Academic degree": 0,
         "educacao_Higher education": 0,
         "educacao_Incomplete higher": 0,
         "educacao_Lower secondary": 0,
         "estado_civil_Civil marriage": 1,
         "estado_civil_Separated": 0,
         "estado_civil_Single / not married": 0,
         "estado_civil_Widow": 0,
         "tipo_residencia_Co-op apartment": 0,
         "tipo_residencia_Municipal apartment": 0,
         "tipo_residencia_Office apartment": 0,
         "tipo_residencia_Rented apartment": 0,
         "tipo_residencia_With parents": 0,
         "_deepnote_index_column": 14646
        },
        {
         "qtd_filhos": 1,
         "idade": 49.942465753424656,
         "tempo_emprego": 1.0876712328767124,
         "possui_celular": 1,
         "possui_fone_comercial": 0,
         "possui_fone": 0,
         "possui_email": 0,
         "qt_pessoas_residencia": 3,
         "sexo_M": 1,
         "posse_de_veiculo_Y": 1,
         "posse_de_imovel_N": 0,
         "tipo_renda_Commercial associate": 0,
         "tipo_renda_Pensioner": 0,
         "tipo_renda_State servant": 0,
         "tipo_renda_Student": 0,
         "educacao_Academic degree": 0,
         "educacao_Higher education": 0,
         "educacao_Incomplete higher": 0,
         "educacao_Lower secondary": 0,
         "estado_civil_Civil marriage": 0,
         "estado_civil_Separated": 0,
         "estado_civil_Single / not married": 0,
         "estado_civil_Widow": 0,
         "tipo_residencia_Co-op apartment": 0,
         "tipo_residencia_Municipal apartment": 0,
         "tipo_residencia_Office apartment": 0,
         "tipo_residencia_Rented apartment": 0,
         "tipo_residencia_With parents": 0,
         "_deepnote_index_column": 13033
        }
       ]
      },
      "text/plain": "       qtd_filhos      idade  tempo_emprego  possui_celular  \\\n13935           0  24.802740       0.452055               1   \n11663           1  32.602740       7.747945               1   \n11958           0  49.704110       8.331507               1   \n344             0  42.287671      10.863014               1   \n12756           1  29.468493       6.452055               1   \n...           ...        ...            ...             ...   \n2037            0  64.131507      -2.000000               1   \n1399            3  41.813699       4.586301               1   \n14968           0  40.367123       8.690411               1   \n14646           2  34.860274       7.219178               1   \n13033           1  49.942466       1.087671               1   \n\n       possui_fone_comercial  possui_fone  possui_email  \\\n13935                      0            0             1   \n11663                      0            0             0   \n11958                      0            1             0   \n344                        1            1             0   \n12756                      0            0             0   \n...                      ...          ...           ...   \n2037                       0            0             0   \n1399                       0            0             0   \n14968                      1            1             0   \n14646                      1            0             0   \n13033                      0            0             0   \n\n       qt_pessoas_residencia  sexo_M  posse_de_veiculo_Y  ...  \\\n13935                    1.0       1                   1  ...   \n11663                    3.0       0                   1  ...   \n11958                    2.0       0                   0  ...   \n344                      2.0       0                   1  ...   \n12756                    3.0       1                   0  ...   \n...                      ...     ...                 ...  ...   \n2037                     2.0       0                   0  ...   \n1399                     5.0       1                   1  ...   \n14968                    2.0       1                   0  ...   \n14646                    4.0       0                   0  ...   \n13033                    3.0       1                   1  ...   \n\n       educacao_Lower secondary  estado_civil_Civil marriage  \\\n13935                         0                            0   \n11663                         0                            0   \n11958                         0                            1   \n344                           0                            0   \n12756                         0                            0   \n...                         ...                          ...   \n2037                          0                            0   \n1399                          0                            0   \n14968                         0                            0   \n14646                         0                            1   \n13033                         0                            0   \n\n       estado_civil_Separated  estado_civil_Single / not married  \\\n13935                       0                                  1   \n11663                       0                                  0   \n11958                       0                                  0   \n344                         0                                  0   \n12756                       0                                  0   \n...                       ...                                ...   \n2037                        0                                  0   \n1399                        0                                  0   \n14968                       0                                  0   \n14646                       0                                  0   \n13033                       0                                  0   \n\n       estado_civil_Widow  tipo_residencia_Co-op apartment  \\\n13935                   0                                0   \n11663                   0                                0   \n11958                   0                                0   \n344                     0                                0   \n12756                   0                                0   \n...                   ...                              ...   \n2037                    0                                0   \n1399                    0                                0   \n14968                   0                                0   \n14646                   0                                0   \n13033                   0                                0   \n\n       tipo_residencia_Municipal apartment  tipo_residencia_Office apartment  \\\n13935                                    0                                 0   \n11663                                    0                                 0   \n11958                                    1                                 0   \n344                                      0                                 0   \n12756                                    0                                 0   \n...                                    ...                               ...   \n2037                                     0                                 0   \n1399                                     0                                 0   \n14968                                    0                                 0   \n14646                                    0                                 0   \n13033                                    0                                 0   \n\n       tipo_residencia_Rented apartment  tipo_residencia_With parents  \n13935                                 0                             0  \n11663                                 0                             0  \n11958                                 0                             0  \n344                                   0                             0  \n12756                                 0                             0  \n...                                 ...                           ...  \n2037                                  0                             0  \n1399                                  0                             0  \n14968                                 0                             1  \n14646                                 0                             0  \n13033                                 0                             0  \n\n[12487 rows x 28 columns]",
      "text/html": "<div>\n<style scoped>\n    .dataframe tbody tr th:only-of-type {\n        vertical-align: middle;\n    }\n\n    .dataframe tbody tr th {\n        vertical-align: top;\n    }\n\n    .dataframe thead th {\n        text-align: right;\n    }\n</style>\n<table border=\"1\" class=\"dataframe\">\n  <thead>\n    <tr style=\"text-align: right;\">\n      <th></th>\n      <th>qtd_filhos</th>\n      <th>idade</th>\n      <th>tempo_emprego</th>\n      <th>possui_celular</th>\n      <th>possui_fone_comercial</th>\n      <th>possui_fone</th>\n      <th>possui_email</th>\n      <th>qt_pessoas_residencia</th>\n      <th>sexo_M</th>\n      <th>posse_de_veiculo_Y</th>\n      <th>...</th>\n      <th>educacao_Lower secondary</th>\n      <th>estado_civil_Civil marriage</th>\n      <th>estado_civil_Separated</th>\n      <th>estado_civil_Single / not married</th>\n      <th>estado_civil_Widow</th>\n      <th>tipo_residencia_Co-op apartment</th>\n      <th>tipo_residencia_Municipal apartment</th>\n      <th>tipo_residencia_Office apartment</th>\n      <th>tipo_residencia_Rented apartment</th>\n      <th>tipo_residencia_With parents</th>\n    </tr>\n  </thead>\n  <tbody>\n    <tr>\n      <th>13935</th>\n      <td>0</td>\n      <td>24.802740</td>\n      <td>0.452055</td>\n      <td>1</td>\n      <td>0</td>\n      <td>0</td>\n      <td>1</td>\n      <td>1.0</td>\n      <td>1</td>\n      <td>1</td>\n      <td>...</td>\n      <td>0</td>\n      <td>0</td>\n      <td>0</td>\n      <td>1</td>\n      <td>0</td>\n      <td>0</td>\n      <td>0</td>\n      <td>0</td>\n      <td>0</td>\n      <td>0</td>\n    </tr>\n    <tr>\n      <th>11663</th>\n      <td>1</td>\n      <td>32.602740</td>\n      <td>7.747945</td>\n      <td>1</td>\n      <td>0</td>\n      <td>0</td>\n      <td>0</td>\n      <td>3.0</td>\n      <td>0</td>\n      <td>1</td>\n      <td>...</td>\n      <td>0</td>\n      <td>0</td>\n      <td>0</td>\n      <td>0</td>\n      <td>0</td>\n      <td>0</td>\n      <td>0</td>\n      <td>0</td>\n      <td>0</td>\n      <td>0</td>\n    </tr>\n    <tr>\n      <th>11958</th>\n      <td>0</td>\n      <td>49.704110</td>\n      <td>8.331507</td>\n      <td>1</td>\n      <td>0</td>\n      <td>1</td>\n      <td>0</td>\n      <td>2.0</td>\n      <td>0</td>\n      <td>0</td>\n      <td>...</td>\n      <td>0</td>\n      <td>1</td>\n      <td>0</td>\n      <td>0</td>\n      <td>0</td>\n      <td>0</td>\n      <td>1</td>\n      <td>0</td>\n      <td>0</td>\n      <td>0</td>\n    </tr>\n    <tr>\n      <th>344</th>\n      <td>0</td>\n      <td>42.287671</td>\n      <td>10.863014</td>\n      <td>1</td>\n      <td>1</td>\n      <td>1</td>\n      <td>0</td>\n      <td>2.0</td>\n      <td>0</td>\n      <td>1</td>\n      <td>...</td>\n      <td>0</td>\n      <td>0</td>\n      <td>0</td>\n      <td>0</td>\n      <td>0</td>\n      <td>0</td>\n      <td>0</td>\n      <td>0</td>\n      <td>0</td>\n      <td>0</td>\n    </tr>\n    <tr>\n      <th>12756</th>\n      <td>1</td>\n      <td>29.468493</td>\n      <td>6.452055</td>\n      <td>1</td>\n      <td>0</td>\n      <td>0</td>\n      <td>0</td>\n      <td>3.0</td>\n      <td>1</td>\n      <td>0</td>\n      <td>...</td>\n      <td>0</td>\n      <td>0</td>\n      <td>0</td>\n      <td>0</td>\n      <td>0</td>\n      <td>0</td>\n      <td>0</td>\n      <td>0</td>\n      <td>0</td>\n      <td>0</td>\n    </tr>\n    <tr>\n      <th>...</th>\n      <td>...</td>\n      <td>...</td>\n      <td>...</td>\n      <td>...</td>\n      <td>...</td>\n      <td>...</td>\n      <td>...</td>\n      <td>...</td>\n      <td>...</td>\n      <td>...</td>\n      <td>...</td>\n      <td>...</td>\n      <td>...</td>\n      <td>...</td>\n      <td>...</td>\n      <td>...</td>\n      <td>...</td>\n      <td>...</td>\n      <td>...</td>\n      <td>...</td>\n      <td>...</td>\n    </tr>\n    <tr>\n      <th>2037</th>\n      <td>0</td>\n      <td>64.131507</td>\n      <td>-2.000000</td>\n      <td>1</td>\n      <td>0</td>\n      <td>0</td>\n      <td>0</td>\n      <td>2.0</td>\n      <td>0</td>\n      <td>0</td>\n      <td>...</td>\n      <td>0</td>\n      <td>0</td>\n      <td>0</td>\n      <td>0</td>\n      <td>0</td>\n      <td>0</td>\n      <td>0</td>\n      <td>0</td>\n      <td>0</td>\n      <td>0</td>\n    </tr>\n    <tr>\n      <th>1399</th>\n      <td>3</td>\n      <td>41.813699</td>\n      <td>4.586301</td>\n      <td>1</td>\n      <td>0</td>\n      <td>0</td>\n      <td>0</td>\n      <td>5.0</td>\n      <td>1</td>\n      <td>1</td>\n      <td>...</td>\n      <td>0</td>\n      <td>0</td>\n      <td>0</td>\n      <td>0</td>\n      <td>0</td>\n      <td>0</td>\n      <td>0</td>\n      <td>0</td>\n      <td>0</td>\n      <td>0</td>\n    </tr>\n    <tr>\n      <th>14968</th>\n      <td>0</td>\n      <td>40.367123</td>\n      <td>8.690411</td>\n      <td>1</td>\n      <td>1</td>\n      <td>1</td>\n      <td>0</td>\n      <td>2.0</td>\n      <td>1</td>\n      <td>0</td>\n      <td>...</td>\n      <td>0</td>\n      <td>0</td>\n      <td>0</td>\n      <td>0</td>\n      <td>0</td>\n      <td>0</td>\n      <td>0</td>\n      <td>0</td>\n      <td>0</td>\n      <td>1</td>\n    </tr>\n    <tr>\n      <th>14646</th>\n      <td>2</td>\n      <td>34.860274</td>\n      <td>7.219178</td>\n      <td>1</td>\n      <td>1</td>\n      <td>0</td>\n      <td>0</td>\n      <td>4.0</td>\n      <td>0</td>\n      <td>0</td>\n      <td>...</td>\n      <td>0</td>\n      <td>1</td>\n      <td>0</td>\n      <td>0</td>\n      <td>0</td>\n      <td>0</td>\n      <td>0</td>\n      <td>0</td>\n      <td>0</td>\n      <td>0</td>\n    </tr>\n    <tr>\n      <th>13033</th>\n      <td>1</td>\n      <td>49.942466</td>\n      <td>1.087671</td>\n      <td>1</td>\n      <td>0</td>\n      <td>0</td>\n      <td>0</td>\n      <td>3.0</td>\n      <td>1</td>\n      <td>1</td>\n      <td>...</td>\n      <td>0</td>\n      <td>0</td>\n      <td>0</td>\n      <td>0</td>\n      <td>0</td>\n      <td>0</td>\n      <td>0</td>\n      <td>0</td>\n      <td>0</td>\n      <td>0</td>\n    </tr>\n  </tbody>\n</table>\n<p>12487 rows × 28 columns</p>\n</div>"
     },
     "metadata": {}
    }
   ]
  },
  {
   "cell_type": "markdown",
   "source": "### Rodando o modelo\nA função RandomForestClassifier gera a estrutura da floresta aleatória, e o parâmetro ```n_estimator``` define o número de árvores na floresta. Normalmente a acurácia do modelo tende a aumentar com o número de árvores, pelo menos até um certo limite - e aumenta também o recurso computacional demandado. Você pode alterar esse parâmetro e verificar se a acurácia do seu modelo melhora - não recomendamos valores muito altos. Vá alterando aos poucos e percebendo como o tempo aumenta com os seus recursos. Não é necessário ir muito além de umas 100 árvores.",
   "metadata": {
    "cell_id": "00028-f232e5cf-9916-44de-8061-8e42d5adf08a",
    "deepnote_cell_type": "markdown"
   }
  },
  {
   "cell_type": "code",
   "metadata": {
    "cell_id": "00029-de635ae0-365c-4488-8603-4f1dfeea152a",
    "deepnote_output_heights": [
     21.199996948242188
    ],
    "deepnote_to_be_reexecuted": false,
    "source_hash": "e06d444b",
    "execution_start": 1637691038204,
    "execution_millis": 45,
    "deepnote_cell_type": "code"
   },
   "source": "# Treinar uma Random Forest com 5 árvores\n\nclf = RandomForestClassifier(n_estimators=3)\nclf.fit(x_train,y_train)",
   "execution_count": 33,
   "outputs": [
    {
     "output_type": "execute_result",
     "execution_count": 33,
     "data": {
      "text/plain": "RandomForestClassifier(n_estimators=3)"
     },
     "metadata": {}
    }
   ]
  },
  {
   "cell_type": "code",
   "metadata": {
    "cell_id": "00030-719b8a1a-c2b4-4009-85af-a157618aa089",
    "deepnote_to_be_reexecuted": false,
    "source_hash": "6a1a8bf",
    "execution_start": 1637691040238,
    "execution_millis": 10,
    "deepnote_cell_type": "code"
   },
   "source": "# Calculando a acuracia\n\ny_pred = clf.predict(x_test)\nacc = metrics.accuracy_score(y_test, y_pred)\nprint('Acurácia: {0:.2f}%'.format(acc*100))",
   "execution_count": 34,
   "outputs": [
    {
     "name": "stdout",
     "text": "Acurácia: 97.14%\n",
     "output_type": "stream"
    }
   ]
  },
  {
   "cell_type": "code",
   "metadata": {
    "cell_id": "00031-cbf5ed3d-75ff-4790-bd64-e844d7c425d3",
    "deepnote_output_heights": [
     null,
     119
    ],
    "deepnote_to_be_reexecuted": false,
    "source_hash": "74091f97",
    "execution_start": 1637691045826,
    "execution_millis": 35,
    "deepnote_cell_type": "code"
   },
   "source": "# Matriz de confusão\n\ntab = pd.crosstab(index = y_pred, columns = y_test)\nprint(tab[1][0]/(tab[1][0] + tab[0][0]))\nprint(tab[1][1]/(tab[1][1] + tab[0][1]))\ntab",
   "execution_count": 35,
   "outputs": [
    {
     "name": "stdout",
     "text": "0.020716548866682914\n0.43333333333333335\n",
     "output_type": "stream"
    },
    {
     "output_type": "execute_result",
     "execution_count": 35,
     "data": {
      "application/vnd.deepnote.dataframe.v2+json": {
       "row_count": 2,
       "column_count": 2,
       "columns": [
        {
         "name": false,
         "dtype": "int64",
         "stats": {
          "unique_count": 2,
          "nan_count": 0,
          "min": "34",
          "max": "4018",
          "histogram": [
           {
            "bin_start": 34,
            "bin_end": 432.4,
            "count": 1
           },
           {
            "bin_start": 432.4,
            "bin_end": 830.8,
            "count": 0
           },
           {
            "bin_start": 830.8,
            "bin_end": 1229.1999999999998,
            "count": 0
           },
           {
            "bin_start": 1229.1999999999998,
            "bin_end": 1627.6,
            "count": 0
           },
           {
            "bin_start": 1627.6,
            "bin_end": 2026,
            "count": 0
           },
           {
            "bin_start": 2026,
            "bin_end": 2424.3999999999996,
            "count": 0
           },
           {
            "bin_start": 2424.3999999999996,
            "bin_end": 2822.7999999999997,
            "count": 0
           },
           {
            "bin_start": 2822.7999999999997,
            "bin_end": 3221.2,
            "count": 0
           },
           {
            "bin_start": 3221.2,
            "bin_end": 3619.6,
            "count": 0
           },
           {
            "bin_start": 3619.6,
            "bin_end": 4018,
            "count": 1
           }
          ]
         }
        },
        {
         "name": true,
         "dtype": "int64",
         "stats": {
          "unique_count": 2,
          "nan_count": 0,
          "min": "26",
          "max": "85",
          "histogram": [
           {
            "bin_start": 26,
            "bin_end": 31.9,
            "count": 1
           },
           {
            "bin_start": 31.9,
            "bin_end": 37.8,
            "count": 0
           },
           {
            "bin_start": 37.8,
            "bin_end": 43.7,
            "count": 0
           },
           {
            "bin_start": 43.7,
            "bin_end": 49.6,
            "count": 0
           },
           {
            "bin_start": 49.6,
            "bin_end": 55.5,
            "count": 0
           },
           {
            "bin_start": 55.5,
            "bin_end": 61.400000000000006,
            "count": 0
           },
           {
            "bin_start": 61.400000000000006,
            "bin_end": 67.30000000000001,
            "count": 0
           },
           {
            "bin_start": 67.30000000000001,
            "bin_end": 73.2,
            "count": 0
           },
           {
            "bin_start": 73.2,
            "bin_end": 79.1,
            "count": 0
           },
           {
            "bin_start": 79.1,
            "bin_end": 85,
            "count": 1
           }
          ]
         }
        },
        {
         "name": "_deepnote_index_column",
         "dtype": "object"
        }
       ],
       "rows_top": [
        {
         "False": 4018,
         "True": 85,
         "_deepnote_index_column": "False"
        },
        {
         "False": 34,
         "True": 26,
         "_deepnote_index_column": "True"
        }
       ],
       "rows_bottom": null
      },
      "text/plain": "mau    False  True \nrow_0              \nFalse   4018     85\nTrue      34     26",
      "text/html": "<div>\n<style scoped>\n    .dataframe tbody tr th:only-of-type {\n        vertical-align: middle;\n    }\n\n    .dataframe tbody tr th {\n        vertical-align: top;\n    }\n\n    .dataframe thead th {\n        text-align: right;\n    }\n</style>\n<table border=\"1\" class=\"dataframe\">\n  <thead>\n    <tr style=\"text-align: right;\">\n      <th>mau</th>\n      <th>False</th>\n      <th>True</th>\n    </tr>\n    <tr>\n      <th>row_0</th>\n      <th></th>\n      <th></th>\n    </tr>\n  </thead>\n  <tbody>\n    <tr>\n      <th>False</th>\n      <td>4018</td>\n      <td>85</td>\n    </tr>\n    <tr>\n      <th>True</th>\n      <td>34</td>\n      <td>26</td>\n    </tr>\n  </tbody>\n</table>\n</div>"
     },
     "metadata": {}
    }
   ]
  },
  {
   "cell_type": "markdown",
   "source": "# Tarefa 4",
   "metadata": {
    "tags": [],
    "is_collapsed": false,
    "cell_id": "00039-7b73cfb9-846e-4c15-81bf-3d818a6bdef2",
    "deepnote_cell_type": "text-cell-h1"
   }
  },
  {
   "cell_type": "markdown",
   "source": "### <span style=\"color:blue\">Tarefa 04 - Bivariada </span>\n<span style=\"color:blue\"> Para essa tarefa, crie três células extras, copie nelas o código das três células anteriores (na mesma ordem) e altere o parâmetro ```n_estimators=``` da função ```RandomForestClassifier``` e insira uma quantidade maior que 3 nesse parâmetro. Rode as três células anteriores para calcular a acurácia do modelo e veja se você consegue uma acurácia melhor. </span>",
   "metadata": {
    "cell_id": "00032-1d1a5357-a210-4b0e-8d39-4817d2b625b3",
    "deepnote_cell_type": "markdown"
   }
  },
  {
   "cell_type": "code",
   "metadata": {
    "cell_id": "00033-613f4186-d249-4e43-9696-3b013227cba3",
    "deepnote_output_heights": [
     21.199996948242188
    ],
    "deepnote_to_be_reexecuted": false,
    "source_hash": "44891a7d",
    "execution_start": 1637691115901,
    "execution_millis": 298,
    "deepnote_cell_type": "code"
   },
   "source": "# Treinar uma Random Forest com 20 árvores\n\nclf = RandomForestClassifier(n_estimators=20)\nclf.fit(x_train,y_train)",
   "execution_count": 39,
   "outputs": [
    {
     "output_type": "execute_result",
     "execution_count": 39,
     "data": {
      "text/plain": "RandomForestClassifier(n_estimators=20)"
     },
     "metadata": {}
    }
   ]
  },
  {
   "cell_type": "code",
   "metadata": {
    "cell_id": "00034-74f75678-de8a-4647-9b8e-e40a0082b769",
    "deepnote_to_be_reexecuted": false,
    "source_hash": "6a1a8bf",
    "execution_start": 1637691117611,
    "execution_millis": 33,
    "deepnote_cell_type": "code"
   },
   "source": "# Calculando a acuracia\n\ny_pred = clf.predict(x_test)\nacc = metrics.accuracy_score(y_test, y_pred)\nprint('Acurácia: {0:.2f}%'.format(acc*100))",
   "execution_count": 40,
   "outputs": [
    {
     "name": "stdout",
     "text": "Acurácia: 97.09%\n",
     "output_type": "stream"
    }
   ]
  },
  {
   "cell_type": "code",
   "metadata": {
    "cell_id": "00035-31d8b4de-dac6-4914-b779-02183aa182cc",
    "deepnote_output_heights": [
     null,
     119
    ],
    "deepnote_to_be_reexecuted": false,
    "source_hash": "74091f97",
    "execution_start": 1637691119539,
    "execution_millis": 44,
    "deepnote_cell_type": "code"
   },
   "source": "# Matriz de confusão\n\ntab = pd.crosstab(index = y_pred, columns = y_test)\nprint(tab[1][0]/(tab[1][0] + tab[0][0]))\nprint(tab[1][1]/(tab[1][1] + tab[0][1]))\ntab",
   "execution_count": 41,
   "outputs": [
    {
     "name": "stdout",
     "text": "0.021892483580637313\n0.40384615384615385\n",
     "output_type": "stream"
    },
    {
     "output_type": "execute_result",
     "execution_count": 41,
     "data": {
      "application/vnd.deepnote.dataframe.v2+json": {
       "row_count": 2,
       "column_count": 2,
       "columns": [
        {
         "name": false,
         "dtype": "int64",
         "stats": {
          "unique_count": 2,
          "nan_count": 0,
          "min": "31",
          "max": "4021",
          "histogram": [
           {
            "bin_start": 31,
            "bin_end": 430,
            "count": 1
           },
           {
            "bin_start": 430,
            "bin_end": 829,
            "count": 0
           },
           {
            "bin_start": 829,
            "bin_end": 1228,
            "count": 0
           },
           {
            "bin_start": 1228,
            "bin_end": 1627,
            "count": 0
           },
           {
            "bin_start": 1627,
            "bin_end": 2026,
            "count": 0
           },
           {
            "bin_start": 2026,
            "bin_end": 2425,
            "count": 0
           },
           {
            "bin_start": 2425,
            "bin_end": 2824,
            "count": 0
           },
           {
            "bin_start": 2824,
            "bin_end": 3223,
            "count": 0
           },
           {
            "bin_start": 3223,
            "bin_end": 3622,
            "count": 0
           },
           {
            "bin_start": 3622,
            "bin_end": 4021,
            "count": 1
           }
          ]
         }
        },
        {
         "name": true,
         "dtype": "int64",
         "stats": {
          "unique_count": 2,
          "nan_count": 0,
          "min": "21",
          "max": "90",
          "histogram": [
           {
            "bin_start": 21,
            "bin_end": 27.9,
            "count": 1
           },
           {
            "bin_start": 27.9,
            "bin_end": 34.8,
            "count": 0
           },
           {
            "bin_start": 34.8,
            "bin_end": 41.7,
            "count": 0
           },
           {
            "bin_start": 41.7,
            "bin_end": 48.6,
            "count": 0
           },
           {
            "bin_start": 48.6,
            "bin_end": 55.5,
            "count": 0
           },
           {
            "bin_start": 55.5,
            "bin_end": 62.400000000000006,
            "count": 0
           },
           {
            "bin_start": 62.400000000000006,
            "bin_end": 69.30000000000001,
            "count": 0
           },
           {
            "bin_start": 69.30000000000001,
            "bin_end": 76.2,
            "count": 0
           },
           {
            "bin_start": 76.2,
            "bin_end": 83.1,
            "count": 0
           },
           {
            "bin_start": 83.1,
            "bin_end": 90,
            "count": 1
           }
          ]
         }
        },
        {
         "name": "_deepnote_index_column",
         "dtype": "object"
        }
       ],
       "rows_top": [
        {
         "False": 4021,
         "True": 90,
         "_deepnote_index_column": "False"
        },
        {
         "False": 31,
         "True": 21,
         "_deepnote_index_column": "True"
        }
       ],
       "rows_bottom": null
      },
      "text/plain": "mau    False  True \nrow_0              \nFalse   4021     90\nTrue      31     21",
      "text/html": "<div>\n<style scoped>\n    .dataframe tbody tr th:only-of-type {\n        vertical-align: middle;\n    }\n\n    .dataframe tbody tr th {\n        vertical-align: top;\n    }\n\n    .dataframe thead th {\n        text-align: right;\n    }\n</style>\n<table border=\"1\" class=\"dataframe\">\n  <thead>\n    <tr style=\"text-align: right;\">\n      <th>mau</th>\n      <th>False</th>\n      <th>True</th>\n    </tr>\n    <tr>\n      <th>row_0</th>\n      <th></th>\n      <th></th>\n    </tr>\n  </thead>\n  <tbody>\n    <tr>\n      <th>False</th>\n      <td>4021</td>\n      <td>90</td>\n    </tr>\n    <tr>\n      <th>True</th>\n      <td>31</td>\n      <td>21</td>\n    </tr>\n  </tbody>\n</table>\n</div>"
     },
     "metadata": {}
    }
   ]
  },
  {
   "cell_type": "markdown",
   "source": "## Etapa 5 Crisp-DM: Avaliação dos resultados\nA etapa final do CRISP. Neste casp, a nossa avaliação termina com a acurácia. Mas em problemas futuros aprofundaremos mais - a ideia seria avaliar o impacto do uso do modelo no negócio, ou seja, o quanto o resultado financeiro melhora em detrimento da utilização do modelo.\n\nComo um exemplo simples, considere que um cliente bom pagador deixa (em média) 5 '*dinheiros*' de lucro, e um mau pagador deixa (em média) 100 '*dinheiros*' de prejuízo.\n\nde acordo com a matriz de confusão:\n\n| Decisão   | lucro dos bons    | lucro dos maus | total  |\n| --------- |:-----------------:|:--------------:| ------:|\n| Aprovador | 4042 x 5          | 72 x (-100)    | 13.010 |\n| Reprovar  |  27 x 5           | 22 x (-100)    | -2.065 |\n\nEstariamos evitando, portanto, um prejuízo de -2.145 '*dinheiros*' - o que na prática significa um aumento no lucro.\n",
   "metadata": {
    "cell_id": "00036-ec4a01f2-b0e2-4ab5-8735-9168ec6fe8ac",
    "deepnote_cell_type": "markdown"
   }
  },
  {
   "cell_type": "markdown",
   "source": "## Etapa 6 Crisp-DM: Implantação\nNessa etapa colocamos em uso o modelo desenvolvido, normalmente implementando o modelo desenvolvido em um motor de crédito que toma as decisões com algum nível de automação - tipicamente aprovando automaticamente clientes muito bons, negando automaticamente clientes muito ruins, e enviando os intermediários para análise manual.",
   "metadata": {
    "cell_id": "00037-a235e03e-46c4-4e14-a066-13e0cb1c679f",
    "deepnote_cell_type": "markdown"
   }
  },
  {
   "cell_type": "markdown",
   "source": "<a style='text-decoration:none;line-height:16px;display:flex;color:#5B5B62;padding:10px;justify-content:end;' href='https://deepnote.com?utm_source=created-in-deepnote-cell&projectId=7bc88e6b-e21c-42d6-a070-b420cc720827' target=\"_blank\">\n<img alt='Created in deepnote.com' style='display:inline;max-height:16px;margin:0px;margin-right:7.5px;' src='data:image/svg+xml;base64,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' > </img>\nCreated in <span style='font-weight:600;margin-left:4px;'>Deepnote</span></a>",
   "metadata": {
    "tags": [],
    "created_in_deepnote_cell": true,
    "deepnote_cell_type": "markdown"
   }
  }
 ],
 "nbformat": 4,
 "nbformat_minor": 4,
 "metadata": {
  "kernelspec": {
   "display_name": "Python 3",
   "language": "python",
   "name": "python3"
  },
  "language_info": {
   "codemirror_mode": {
    "name": "ipython",
    "version": 3
   },
   "file_extension": ".py",
   "mimetype": "text/x-python",
   "name": "python",
   "nbconvert_exporter": "python",
   "pygments_lexer": "ipython3",
   "version": "3.8.5"
  },
  "deepnote_notebook_id": "eee3c159-cef3-4757-b99c-9529c5cbb033",
  "deepnote": {},
  "deepnote_execution_queue": []
 }
}