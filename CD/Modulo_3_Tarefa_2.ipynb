{
 "cells": [
  {
   "cell_type": "markdown",
   "source": "# Tarefa 02\n\n- Leia os enunciados com atenção\n- Saiba que pode haver mais de uma resposta correta\n- Insira novas células de código sempre que achar necessário\n- Em caso de dúvidas, procure os tutores\n- Divirta-se :)",
   "metadata": {
    "cell_id": "00000-27810990-d3aa-4b62-aaec-56ec471c7e5c",
    "deepnote_cell_type": "markdown"
   }
  },
  {
   "cell_type": "code",
   "metadata": {
    "cell_id": "00001-f56a8187-6594-46ca-815a-f00895321d19",
    "deepnote_to_be_reexecuted": false,
    "source_hash": "c2602aa8",
    "execution_start": 1638625789735,
    "execution_millis": 2,
    "deepnote_cell_type": "code"
   },
   "source": "import numpy as np",
   "execution_count": 3,
   "outputs": []
  },
  {
   "cell_type": "markdown",
   "source": "### 1) Alturas  \ni. No trecho de código abaixo, crie um ndarray chamado ```altura_em_centimetros``` transformando a lista ```lista_de_alturas``` em um ndarray do numpy com a função ```np.array()```  \nii. Crie um outro objeto ```altura em metros```, com os valores de ```altura_em_centimetros``` convertidos para metros.",
   "metadata": {
    "cell_id": "00002-6870fd28-3548-46a6-9d76-1747de7ec69b",
    "deepnote_cell_type": "markdown"
   }
  },
  {
   "cell_type": "code",
   "metadata": {
    "cell_id": "00003-1034fac9-67ca-4b47-be59-7320e5a16ecd",
    "deepnote_to_be_reexecuted": false,
    "source_hash": "1ed7a57b",
    "execution_start": 1638625791820,
    "execution_millis": 17,
    "deepnote_cell_type": "code"
   },
   "source": "lista_de_alturas = list(range(170, 190, 5))\nprint(lista_de_alturas)\n\n\n# seu código aqui\naltura_em_centimetros = np.array(lista_de_alturas)\nprint(altura_em_centimetros)\n\naltura_em_metros = altura_em_centimetros / 100\nprint(altura_em_metros)",
   "execution_count": 4,
   "outputs": [
    {
     "name": "stdout",
     "text": "[170, 175, 180, 185]\n[170 175 180 185]\n[1.7  1.75 1.8  1.85]\n",
     "output_type": "stream"
    }
   ]
  },
  {
   "cell_type": "markdown",
   "source": "### 2) IMC  \ni. Considere que pesos em Kg dessas pessoas, na mesma ortem, estão na lista pesos ```lista_pesos = [70, 75, 80, 85]```. Crie um **ndarray** chamado ```pesos``` com a função ```np.array()``` que contenha esses valores.  \nii. Utilizando o objeto que contém as alturas em metros e esse objeto que contém os respectivos pesos em quilos, calcule o IMC desses indivíduos utilizando a aritmética de arrays e guarde os resultados em um objeto chamado ```imc```.",
   "metadata": {
    "cell_id": "00004-1488daa4-d1c2-4978-b70d-a090239d43d5",
    "deepnote_cell_type": "markdown"
   }
  },
  {
   "cell_type": "code",
   "metadata": {
    "cell_id": "00005-8a73d3fb-8a26-4597-9076-2f9009acbee8",
    "deepnote_to_be_reexecuted": false,
    "source_hash": "350fa014",
    "execution_start": 1638625794018,
    "execution_millis": 5,
    "deepnote_cell_type": "code"
   },
   "source": "lista_pesos = [70, 75, 80, 85]\n# seu código aqui\npesos = np.array(lista_pesos)\nprint(pesos)",
   "execution_count": 5,
   "outputs": [
    {
     "name": "stdout",
     "text": "[70 75 80 85]\n",
     "output_type": "stream"
    }
   ]
  },
  {
   "cell_type": "code",
   "metadata": {
    "cell_id": "00006-adbc874a-3ae8-4da2-98be-f05d4656e30c",
    "deepnote_to_be_reexecuted": false,
    "source_hash": "dfa720a8",
    "execution_start": 1638625794895,
    "execution_millis": 67,
    "deepnote_cell_type": "code"
   },
   "source": "# calcule o IMC dessas pessoas\nimc = pesos / (altura_em_metros ** 2)\nprint(imc)",
   "execution_count": 6,
   "outputs": [
    {
     "name": "stdout",
     "text": "[24.22145329 24.48979592 24.69135802 24.83564646]\n",
     "output_type": "stream"
    }
   ]
  },
  {
   "cell_type": "markdown",
   "source": "### 3) Endividamento\n\nCálculos de novas variáveis como endividamento total e comprometimento de renda são essenciais para a construção de modelos financeiros em ciência de dados. Áreas não financeiras terão cálculos semelhantes também. Vamos praticar:\n\nConsidere que o seguinte ndarray contém os dados de 4 pessoas, total a ser pago a empréstimos mensalmente e renda familiar:\n\n| custo fixo | dívida financeira | renda familiar |\n|:----:|:----:|:---|\n| 3000  | 1000 | 6000 |\n| 2500  | 2500 | 5500 |\n| 1000  | 3000 | 7000 |\n| 10000 | 5000 | 16000 |\n\ni. Transforme a lista de listas ```dados_financeiros``` no ndarray ```nd_financeiros```.\n> ``` dados_financeiros[[3000, 2500, 1000, 10000],[1000, 2500, 3000, 5000],[6000, 5500, 7000, 16000]] ```\n\nii. Utilize o método ```.transpose ``` e certifique-se de que esse ndarray tenha uma linha por indivíduo e uma coluna por informação. Utilizando a indexação do numpy, imprima no output a segunda linha do array, depois a segunda coluna.\n\niii. Pratique aritmética com nearrays e calcule o endividamento total como:\n$$endividamento\\hspace{.2cm}total = \\frac{custo \\hspace{.2cm}fixo + dívida\\hspace{.2cm}financeira}{renda\\hspace{.2cm}familiar}$$\nGuarde os resultados em uma variável chamada ```endividamento_total``` e verifique os resultados imprimindo o conteúdo dessa variável no output.\n\niv. Considere que há um erro de digitação que precisa ser corrigido: 3o indivíduo na verdade não possui renda familiar de R\\\\$7.000,00, mas sim R\\\\$ 10.000,00. Corrija esse valor e refaça os cálculos.",
   "metadata": {
    "cell_id": "00007-3d69358f-5c37-486c-8c3e-8606eb85ed9c",
    "deepnote_cell_type": "markdown"
   }
  },
  {
   "cell_type": "code",
   "metadata": {
    "cell_id": "00008-e32a8f31-d1a1-4f8c-a652-f84306ad90cb",
    "deepnote_to_be_reexecuted": false,
    "source_hash": "88de37fb",
    "execution_start": 1638625797017,
    "execution_millis": 257,
    "deepnote_cell_type": "code"
   },
   "source": "# lista dados_financeiros\ndados_financeiros = [[3000, 2500, 1000, 10000],[1000, 2500, 3000, 5000],[6000, 5500, 7000, 16000]]\n#i) transforme essa lista em um ndarray\nnd_financeiros = np.array(dados_financeiros)\nprint('O array criado é:\\n',nd_financeiros)",
   "execution_count": 7,
   "outputs": [
    {
     "name": "stdout",
     "text": "O array criado é:\n [[ 3000  2500  1000 10000]\n [ 1000  2500  3000  5000]\n [ 6000  5500  7000 16000]]\n",
     "output_type": "stream"
    }
   ]
  },
  {
   "cell_type": "code",
   "metadata": {
    "cell_id": "00009-c0990baf-cf7a-4719-afc5-53bbadc15194",
    "deepnote_to_be_reexecuted": false,
    "source_hash": "8e32bf8a",
    "execution_start": 1638625798020,
    "execution_millis": 7,
    "deepnote_output_heights": [
     78.80000305175781
    ],
    "deepnote_cell_type": "code"
   },
   "source": "# ii) \nnd_financeiros = nd_financeiros.transpose()\nprint('O array transposto é:\\n',nd_financeiros)\n\nprint('A segunda linha do array é:\\n',nd_financeiros[1:2,:])\nprint('A segunda coluna do array é:\\n',nd_financeiros[:,1:2])\n",
   "execution_count": 8,
   "outputs": [
    {
     "name": "stdout",
     "text": "O array transposto é:\n [[ 3000  1000  6000]\n [ 2500  2500  5500]\n [ 1000  3000  7000]\n [10000  5000 16000]]\nA segunda linha do array é:\n [[2500 2500 5500]]\nA segunda coluna do array é:\n [[1000]\n [2500]\n [3000]\n [5000]]\n",
     "output_type": "stream"
    }
   ]
  },
  {
   "cell_type": "code",
   "metadata": {
    "cell_id": "00010-a015bb69-58da-4c9a-9c2f-62fd7bbaf3e9",
    "deepnote_to_be_reexecuted": false,
    "source_hash": "fb16ef3c",
    "execution_start": 1638625799107,
    "execution_millis": 14,
    "deepnote_cell_type": "code"
   },
   "source": "# iii) Calcule o endividamento total\nendividamento_total = []\nfor item in nd_financeiros:\n    endividamento = (item[0] + item[1]) / item[2]\n    print(endividamento)\n    endividamento_total.append(endividamento)\nprint(endividamento_total)",
   "execution_count": 9,
   "outputs": [
    {
     "name": "stdout",
     "text": "0.6666666666666666\n0.9090909090909091\n0.5714285714285714\n0.9375\n[0.6666666666666666, 0.9090909090909091, 0.5714285714285714, 0.9375]\n",
     "output_type": "stream"
    }
   ]
  },
  {
   "cell_type": "code",
   "metadata": {
    "tags": [],
    "cell_id": "00011-3ce4db1f-e643-43fa-83db-81c094d88142",
    "deepnote_to_be_reexecuted": false,
    "source_hash": "5f8b523d",
    "execution_start": 1638625800309,
    "execution_millis": 6,
    "deepnote_output_heights": [
     136.39999389648438
    ],
    "deepnote_cell_type": "code"
   },
   "source": "#calculando o endividamento total usando a função lambda e o map\n#apenas para exercitar programação funcional\nendividamento_total = map((lambda item: (item[0] + item[1]) / item[2]), nd_financeiros)\nprint(list(endividamento_total))",
   "execution_count": 10,
   "outputs": [
    {
     "name": "stdout",
     "text": "[0.6666666666666666, 0.9090909090909091, 0.5714285714285714, 0.9375]\n",
     "output_type": "stream"
    }
   ]
  },
  {
   "cell_type": "code",
   "metadata": {
    "cell_id": "00011-3c6dd037-716d-4cc3-8e2c-452c6a6856c3",
    "deepnote_to_be_reexecuted": false,
    "source_hash": "1aef0b47",
    "execution_start": 1638625801405,
    "execution_millis": 4,
    "deepnote_output_heights": [
     21.199996948242188
    ],
    "deepnote_cell_type": "code"
   },
   "source": "# iv) corrigindo um valor específico\nnd_financeiros[2][2] = 10000\nprint(nd_financeiros)\nendividamento_total = map((lambda item: (item[0] + item[1]) / item[2]), nd_financeiros)\nprint(list(endividamento_total))",
   "execution_count": 11,
   "outputs": [
    {
     "name": "stdout",
     "text": "[[ 3000  1000  6000]\n [ 2500  2500  5500]\n [ 1000  3000 10000]\n [10000  5000 16000]]\n[0.6666666666666666, 0.9090909090909091, 0.4, 0.9375]\n",
     "output_type": "stream"
    }
   ]
  },
  {
   "cell_type": "markdown",
   "source": "### 4) É muito comum precisarmos identificar valores especiais e darmos tratamento a eles quer seja alterando-os quer seja descartando-os. \n\nO trecho de código abaixo gera um ndarray com números pseudo aleatórios. Considere que para efeitos do estudo que virá, devemos desconsiderar valores iguais a zero. Sendo assim:\n\ni) crie um objeto ```bool_zero``` que traga uma sequencia de booleanos do mesmo tamanho que o objeto poi, e que vale ```True``` quando o valor de ```poi``` é zero, e ```False``` caso contrário.\n\nii) Conte quantos valores zero existem. Lembre-se de que no final das contas, ```True``` vale 1 para o Python, e ```False``` vale zero, então uma boa dica seria usar a função ```sum()```.\n\niii) Utilize a indexação booleana que você aprendeu para criar uma variável ```poi_nao_zero``` que aponta para os elementos de ```poi``` diferentes de zero. Dica: você vai pode inverter os elementos do objeto que criou em *ii)* ou escrever a comparação adequada.",
   "metadata": {
    "cell_id": "00012-aa8df6d7-5d70-4c62-87a6-cd14fd3425a5",
    "deepnote_cell_type": "markdown"
   }
  },
  {
   "cell_type": "code",
   "metadata": {
    "cell_id": "00013-a3524621-c0dc-4827-89e1-da68a2443a0e",
    "deepnote_to_be_reexecuted": false,
    "source_hash": "603712",
    "execution_start": 1638625803943,
    "execution_millis": 269,
    "deepnote_output_heights": [
     98
    ],
    "deepnote_cell_type": "code"
   },
   "source": "# objeto poi - obs: o comando np.random.seed(1234) garante que o mesmo resultado será gerado sempre\nnp.random.seed(1234)\npoi = np.random.poisson(3,100)\npoi",
   "execution_count": 12,
   "outputs": [
    {
     "output_type": "execute_result",
     "execution_count": 12,
     "data": {
      "text/plain": "array([3, 3, 6, 2, 4, 5, 4, 4, 2, 0, 3, 3, 2, 8, 2, 3, 3, 3, 0, 4, 4, 2,\n       6, 6, 0, 3, 4, 3, 5, 2, 1, 3, 2, 2, 3, 2, 4, 4, 5, 7, 3, 5, 3, 3,\n       2, 2, 3, 6, 2, 2, 4, 3, 5, 2, 5, 3, 0, 2, 1, 1, 4, 4, 4, 6, 2, 4,\n       1, 2, 5, 5, 3, 4, 1, 4, 1, 1, 7, 1, 2, 1, 3, 7, 0, 4, 4, 0, 6, 1,\n       3, 4, 2, 5, 4, 5, 5, 3, 4, 6, 8, 2])"
     },
     "metadata": {}
    }
   ]
  },
  {
   "cell_type": "code",
   "metadata": {
    "cell_id": "00014-ff704eda-ef7b-4517-a1ae-cab2330924d6",
    "deepnote_to_be_reexecuted": false,
    "source_hash": "2705050d",
    "execution_start": 1638625806932,
    "execution_millis": 2,
    "deepnote_output_heights": [
     232.39999389648438
    ],
    "deepnote_cell_type": "code"
   },
   "source": "# i) crie o objeto bool_zero através do operador ==\nbool_zero = poi == 0\nbool_zero",
   "execution_count": 13,
   "outputs": [
    {
     "output_type": "execute_result",
     "execution_count": 13,
     "data": {
      "text/plain": "array([False, False, False, False, False, False, False, False, False,\n        True, False, False, False, False, False, False, False, False,\n        True, False, False, False, False, False,  True, False, False,\n       False, False, False, False, False, False, False, False, False,\n       False, False, False, False, False, False, False, False, False,\n       False, False, False, False, False, False, False, False, False,\n       False, False,  True, False, False, False, False, False, False,\n       False, False, False, False, False, False, False, False, False,\n       False, False, False, False, False, False, False, False, False,\n       False,  True, False, False,  True, False, False, False, False,\n       False, False, False, False, False, False, False, False, False,\n       False])"
     },
     "metadata": {}
    }
   ]
  },
  {
   "cell_type": "code",
   "metadata": {
    "cell_id": "00015-30610d23-dee2-4f02-ac4d-0494169d19bb",
    "deepnote_to_be_reexecuted": false,
    "source_hash": "7505a077",
    "execution_start": 1638625808588,
    "execution_millis": 230,
    "deepnote_output_heights": [
     21.199996948242188
    ],
    "deepnote_cell_type": "code"
   },
   "source": "# ii) Conte a quantidade de zeros (ou some os elementos de bool_zero)\n#somando os elementos de bool_zero\nqtd = np.sum(bool_zero, where='0')\n#contando a quantidade de zeros\nqtd1 = poi[poi==0].shape[0]\n#imprimindo as duas contagens\nprint(qtd)\nprint(qtd1)\n",
   "execution_count": 14,
   "outputs": [
    {
     "name": "stdout",
     "text": "6\n6\n",
     "output_type": "stream"
    }
   ]
  },
  {
   "cell_type": "code",
   "metadata": {
    "cell_id": "00016-a88f9836-d02f-4c61-a158-f8989baf5835",
    "deepnote_to_be_reexecuted": false,
    "source_hash": "3334b590",
    "execution_start": 1638626057750,
    "execution_millis": 5,
    "deepnote_output_heights": [
     null,
     98
    ],
    "deepnote_cell_type": "code"
   },
   "source": "# iii) utilize a indexação booleana para criar uma seleção de não-zeros\n# dica: inverta o objeto bool_zero\n#experimentando a inversão com operador ~\nbool_zero_invertido = ~bool_zero\n#experimentando a inversão com método np.invert()\nbool_zero_invertido_2 = np.invert(bool_zero)\n\nprint(bool_zero)\nprint(bool_zero_invertido)\nprint(bool_zero_invertido_2)\n\n#selecionando os valores iguais a zero\nprint(poi[bool_zero])\n\n#selecionando os valores diferentes de zero\nprint(poi[bool_zero_invertido])",
   "execution_count": 21,
   "outputs": [
    {
     "name": "stdout",
     "text": "[False False False False False False False False False  True False False\n False False False False False False  True False False False False False\n  True False False False False False False False False False False False\n False False False False False False False False False False False False\n False False False False False False False False  True False False False\n False False False False False False False False False False False False\n False False False False False False False False False False  True False\n False  True False False False False False False False False False False\n False False False False]\n[ True  True  True  True  True  True  True  True  True False  True  True\n  True  True  True  True  True  True False  True  True  True  True  True\n False  True  True  True  True  True  True  True  True  True  True  True\n  True  True  True  True  True  True  True  True  True  True  True  True\n  True  True  True  True  True  True  True  True False  True  True  True\n  True  True  True  True  True  True  True  True  True  True  True  True\n  True  True  True  True  True  True  True  True  True  True False  True\n  True False  True  True  True  True  True  True  True  True  True  True\n  True  True  True  True]\n[ True  True  True  True  True  True  True  True  True False  True  True\n  True  True  True  True  True  True False  True  True  True  True  True\n False  True  True  True  True  True  True  True  True  True  True  True\n  True  True  True  True  True  True  True  True  True  True  True  True\n  True  True  True  True  True  True  True  True False  True  True  True\n  True  True  True  True  True  True  True  True  True  True  True  True\n  True  True  True  True  True  True  True  True  True  True False  True\n  True False  True  True  True  True  True  True  True  True  True  True\n  True  True  True  True]\n[0 0 0 0 0 0]\n[3 3 6 2 4 5 4 4 2 3 3 2 8 2 3 3 3 4 4 2 6 6 3 4 3 5 2 1 3 2 2 3 2 4 4 5 7\n 3 5 3 3 2 2 3 6 2 2 4 3 5 2 5 3 2 1 1 4 4 4 6 2 4 1 2 5 5 3 4 1 4 1 1 7 1\n 2 1 3 7 4 4 6 1 3 4 2 5 4 5 5 3 4 6 8 2]\n",
     "output_type": "stream"
    }
   ]
  },
  {
   "cell_type": "code",
   "metadata": {
    "tags": [],
    "cell_id": "00018-1fbddf1b-904c-420c-bba2-6a5f6bcf13af",
    "deepnote_cell_type": "code"
   },
   "source": "",
   "execution_count": null,
   "outputs": []
  },
  {
   "cell_type": "markdown",
   "source": "<a style='text-decoration:none;line-height:16px;display:flex;color:#5B5B62;padding:10px;justify-content:end;' href='https://deepnote.com?utm_source=created-in-deepnote-cell&projectId=690ec1aa-ed7a-4520-b902-aba6fc5867d1' target=\"_blank\">\n<img alt='Created in deepnote.com' style='display:inline;max-height:16px;margin:0px;margin-right:7.5px;' src='data:image/svg+xml;base64,PD94bWwgdmVyc2lvbj0iMS4wIiBlbmNvZGluZz0iVVRGLTgiPz4KPHN2ZyB3aWR0aD0iODBweCIgaGVpZ2h0PSI4MHB4IiB2aWV3Qm94PSIwIDAgODAgODAiIHZlcnNpb249IjEuMSIgeG1sbnM9Imh0dHA6Ly93d3cudzMub3JnLzIwMDAvc3ZnIiB4bWxuczp4bGluaz0iaHR0cDovL3d3dy53My5vcmcvMTk5OS94bGluayI+CiAgICA8IS0tIEdlbmVyYXRvcjogU2tldGNoIDU0LjEgKDc2NDkwKSAtIGh0dHBzOi8vc2tldGNoYXBwLmNvbSAtLT4KICAgIDx0aXRsZT5Hcm91cCAzPC90aXRsZT4KICAgIDxkZXNjPkNyZWF0ZWQgd2l0aCBTa2V0Y2guPC9kZXNjPgogICAgPGcgaWQ9IkxhbmRpbmciIHN0cm9rZT0ibm9uZSIgc3Ryb2tlLXdpZHRoPSIxIiBmaWxsPSJub25lIiBmaWxsLXJ1bGU9ImV2ZW5vZGQiPgogICAgICAgIDxnIGlkPSJBcnRib2FyZCIgdHJhbnNmb3JtPSJ0cmFuc2xhdGUoLTEyMzUuMDAwMDAwLCAtNzkuMDAwMDAwKSI+CiAgICAgICAgICAgIDxnIGlkPSJHcm91cC0zIiB0cmFuc2Zvcm09InRyYW5zbGF0ZSgxMjM1LjAwMDAwMCwgNzkuMDAwMDAwKSI+CiAgICAgICAgICAgICAgICA8cG9seWdvbiBpZD0iUGF0aC0yMCIgZmlsbD0iIzAyNjVCNCIgcG9pbnRzPSIyLjM3NjIzNzYyIDgwIDM4LjA0NzY2NjcgODAgNTcuODIxNzgyMiA3My44MDU3NTkyIDU3LjgyMTc4MjIgMzIuNzU5MjczOSAzOS4xNDAyMjc4IDMxLjY4MzE2ODMiPjwvcG9seWdvbj4KICAgICAgICAgICAgICAgIDxwYXRoIGQ9Ik0zNS4wMDc3MTgsODAgQzQyLjkwNjIwMDcsNzYuNDU0OTM1OCA0Ny41NjQ5MTY3LDcxLjU0MjI2NzEgNDguOTgzODY2LDY1LjI2MTk5MzkgQzUxLjExMjI4OTksNTUuODQxNTg0MiA0MS42NzcxNzk1LDQ5LjIxMjIyODQgMjUuNjIzOTg0Niw0OS4yMTIyMjg0IEMyNS40ODQ5Mjg5LDQ5LjEyNjg0NDggMjkuODI2MTI5Niw0My4yODM4MjQ4IDM4LjY0NzU4NjksMzEuNjgzMTY4MyBMNzIuODcxMjg3MSwzMi41NTQ0MjUgTDY1LjI4MDk3Myw2Ny42NzYzNDIxIEw1MS4xMTIyODk5LDc3LjM3NjE0NCBMMzUuMDA3NzE4LDgwIFoiIGlkPSJQYXRoLTIyIiBmaWxsPSIjMDAyODY4Ij48L3BhdGg+CiAgICAgICAgICAgICAgICA8cGF0aCBkPSJNMCwzNy43MzA0NDA1IEwyNy4xMTQ1MzcsMC4yNTcxMTE0MzYgQzYyLjM3MTUxMjMsLTEuOTkwNzE3MDEgODAsMTAuNTAwMzkyNyA4MCwzNy43MzA0NDA1IEM4MCw2NC45NjA0ODgyIDY0Ljc3NjUwMzgsNzkuMDUwMzQxNCAzNC4zMjk1MTEzLDgwIEM0Ny4wNTUzNDg5LDc3LjU2NzA4MDggNTMuNDE4MjY3Nyw3MC4zMTM2MTAzIDUzLjQxODI2NzcsNTguMjM5NTg4NSBDNTMuNDE4MjY3Nyw0MC4xMjg1NTU3IDM2LjMwMzk1NDQsMzcuNzMwNDQwNSAyNS4yMjc0MTcsMzcuNzMwNDQwNSBDMTcuODQzMDU4NiwzNy43MzA0NDA1IDkuNDMzOTE5NjYsMzcuNzMwNDQwNSAwLDM3LjczMDQ0MDUgWiIgaWQ9IlBhdGgtMTkiIGZpbGw9IiMzNzkzRUYiPjwvcGF0aD4KICAgICAgICAgICAgPC9nPgogICAgICAgIDwvZz4KICAgIDwvZz4KPC9zdmc+' > </img>\nCreated in <span style='font-weight:600;margin-left:4px;'>Deepnote</span></a>",
   "metadata": {
    "tags": [],
    "created_in_deepnote_cell": true,
    "deepnote_cell_type": "markdown"
   }
  }
 ],
 "nbformat": 4,
 "nbformat_minor": 4,
 "metadata": {
  "kernelspec": {
   "display_name": "Python 3",
   "language": "python",
   "name": "python3"
  },
  "language_info": {
   "codemirror_mode": {
    "name": "ipython",
    "version": 3
   },
   "file_extension": ".py",
   "mimetype": "text/x-python",
   "name": "python",
   "nbconvert_exporter": "python",
   "pygments_lexer": "ipython3",
   "version": "3.8.5"
  },
  "deepnote_notebook_id": "fd7726ad-9590-47ad-832b-10557ce2d7af",
  "deepnote": {},
  "deepnote_execution_queue": []
 }
}