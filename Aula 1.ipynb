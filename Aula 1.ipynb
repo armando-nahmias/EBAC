{
 "cells": [
  {
   "cell_type": "markdown",
   "source": "<img src=\"https://raw.githubusercontent.com/andre-marcos-perez/ebac-course-utils/main/media/logo/newebac_logo_black_half.png\" alt=\"ebac-logo\">\n\n---\n\n# **Módulo 01** | Python: Variáveis & Tipos de Dados\nCaderno de **Aula**<br> \nProfessor [André Perez](https://www.linkedin.com/in/andremarcosperez/)\n\n---",
   "metadata": {
    "id": "KJqp9AANOCtf",
    "cell_id": "00000-3533964a-3dd7-46e9-a323-c53b1a05e713",
    "deepnote_cell_type": "markdown"
   }
  },
  {
   "cell_type": "markdown",
   "source": "# **Tópicos**\n\n<ol type=\"1\">\n  <li>Introdução ao Google Colab;</li>\n  <li>Variáveis;</li>\n  <li>Números;</li>\n  <li><i>Strings;</i></li>\n  <li>Boleanos.</li>\n</ol>",
   "metadata": {
    "id": "d9jDtUbDOE1-",
    "cell_id": "00001-01701df8-3187-4115-8500-7603b098084e",
    "deepnote_cell_type": "markdown"
   }
  },
  {
   "cell_type": "markdown",
   "source": "---",
   "metadata": {
    "id": "SmoHgt-lwkpD",
    "cell_id": "00002-5361e4fd-5664-45c7-a219-29646e9d01bb",
    "deepnote_cell_type": "markdown"
   }
  },
  {
   "cell_type": "markdown",
   "source": "# **Aulas**",
   "metadata": {
    "id": "GABI6OW8OfQ2",
    "cell_id": "00003-da2227f4-b0f0-4d18-ba74-70b273ea2cad",
    "deepnote_cell_type": "markdown"
   }
  },
  {
   "cell_type": "markdown",
   "source": "## 1\\. Introdução ao Google Colab",
   "metadata": {
    "id": "muD1vxozykSC",
    "cell_id": "00004-de4c1718-679d-43d0-950f-ff32b45cecdb",
    "deepnote_cell_type": "markdown"
   }
  },
  {
   "cell_type": "markdown",
   "source": "> Ferramenta web autogerênciada de cadernos (*notebooks*).",
   "metadata": {
    "id": "xT1ohV3t0FQJ",
    "cell_id": "00005-744a3af9-de60-4422-b6be-34ef136991f5",
    "deepnote_cell_type": "markdown"
   }
  },
  {
   "cell_type": "markdown",
   "source": "### **1.1. Ferramenta web** ",
   "metadata": {
    "id": "5a3_syBIP6yO",
    "cell_id": "00006-bd60f2b6-62f5-4260-9a13-20ba9c8d7984",
    "deepnote_cell_type": "markdown"
   }
  },
  {
   "cell_type": "markdown",
   "source": "\n\n*   Crie uma conta Google em [gmail.com](https://gmail.com);\n*   Acesse o Google Colab através do endereço [colab.research.google.com](https://colab.research.google.com/).\n\n\n",
   "metadata": {
    "id": "xF1tFQyRQag2",
    "cell_id": "00007-db140238-71fc-4b3e-8432-9b7f019196d0",
    "deepnote_cell_type": "markdown"
   }
  },
  {
   "cell_type": "markdown",
   "source": "### **1.2. Autogerênciada** ",
   "metadata": {
    "id": "VkIgtLmhQRDV",
    "cell_id": "00008-ce5549db-ba68-4010-bde1-49404bf20353",
    "deepnote_cell_type": "markdown"
   }
  },
  {
   "cell_type": "markdown",
   "source": "\n\n*   A Google provisiona uma máquina virtual para você;\n*   A máquina virtual dura no máximo 12h.\n\n",
   "metadata": {
    "id": "P14BSbuH0SQB",
    "cell_id": "00009-061c8972-9b8b-4337-9e93-d1bc0879d5e4",
    "deepnote_cell_type": "markdown"
   }
  },
  {
   "cell_type": "markdown",
   "source": "### **1.3. Cadernos (*notebooks*)** ",
   "metadata": {
    "id": "mIgaH380QG2e",
    "cell_id": "00010-02a45486-f68c-406d-9f6e-faf0b98989d5",
    "deepnote_cell_type": "markdown"
   }
  },
  {
   "cell_type": "markdown",
   "source": "Um **caderno** é um documento *web* composto por um conjunto de elementos (células) de texto e código:\n\n\n*   Células de **texto** podem ser editados com o editor da ferramenta, HTML ou Markdown; \n*   Células de **código** são exclusivamente para a linguagem de programação Python.\n\n",
   "metadata": {
    "id": "_4Q4H0RKm-4G",
    "cell_id": "00011-b588fdf2-2a8a-4252-a10e-ec12cff276ec",
    "deepnote_cell_type": "markdown"
   }
  },
  {
   "cell_type": "code",
   "metadata": {
    "id": "ILZGen4Ob_vC",
    "cell_id": "00012-b82ce208-b133-4e97-b562-3049930e1853",
    "deepnote_cell_type": "code"
   },
   "source": "print(\"olá mundo!\")",
   "execution_count": null,
   "outputs": []
  },
  {
   "cell_type": "markdown",
   "source": "## 2\\. Variáveis",
   "metadata": {
    "id": "zC2XR1GRaFl5",
    "cell_id": "00013-a9706bd1-423e-4d58-9204-4bbf5628706b",
    "deepnote_cell_type": "markdown"
   }
  },
  {
   "cell_type": "markdown",
   "source": "### **2.1. Definição** ",
   "metadata": {
    "id": "sV1otxQVhcaA",
    "cell_id": "00014-df5012a2-da68-41d0-9db4-b5e65f82f2c8",
    "deepnote_cell_type": "markdown"
   }
  },
  {
   "cell_type": "markdown",
   "source": "Mecanismo de armazenamento volátil de dados, ou seja, dados salvos em pedacinhos da memória RAM do sistema computacional em uso (*notebook*, *mobile*, console de vídeo game, *smartwatch*, etc.).",
   "metadata": {
    "id": "h5y7fCLQkZsh",
    "cell_id": "00015-4cbfa60f-c7c3-410b-bc80-85fde0649ddf",
    "deepnote_cell_type": "markdown"
   }
  },
  {
   "cell_type": "code",
   "metadata": {
    "id": "aMZfXjjakydR",
    "cell_id": "00016-4e793cc5-1fee-4058-84d5-fda6f0f1408a",
    "deepnote_cell_type": "code"
   },
   "source": "idade = 30\nprint(idade)\n\nidade = 27\nprint(idade)\n\nnome = \"andré\"\nprint(nome)",
   "execution_count": null,
   "outputs": []
  },
  {
   "cell_type": "markdown",
   "source": "### **2.2. Tipos nativos** ",
   "metadata": {
    "id": "JG1HL69-j0lH",
    "cell_id": "00017-59884653-364b-4d71-8811-a396285bd0dd",
    "deepnote_cell_type": "markdown"
   }
  },
  {
   "cell_type": "markdown",
   "source": "**Tipos numéricos:** inteiros (`int`) e decimais (`float`):",
   "metadata": {
    "id": "ltUCqK5Yj6AN",
    "cell_id": "00018-78255f0d-781b-4912-9ff6-593bb8917adc",
    "deepnote_cell_type": "markdown"
   }
  },
  {
   "cell_type": "code",
   "metadata": {
    "id": "7GDDnhhLhsZ2",
    "cell_id": "00019-fb30673d-5907-438d-b261-87d232909206",
    "deepnote_cell_type": "code"
   },
   "source": "preco = 1000\ntipo_preco = type(preco)\n\nprint(preco)\nprint(tipo_preco)\n\njuros = 0.05\ntipo_juros = type(juros)\n\nprint(juros)\nprint(tipo_juros)",
   "execution_count": null,
   "outputs": []
  },
  {
   "cell_type": "markdown",
   "source": "**Tipos de texto:** *strings* (`str`):",
   "metadata": {
    "id": "5LLx5ePxj_UW",
    "cell_id": "00020-7ecc0295-6207-4101-bfcf-a3342222504f",
    "deepnote_cell_type": "markdown"
   }
  },
  {
   "cell_type": "code",
   "metadata": {
    "id": "FKuOxDzQiHAo",
    "cell_id": "00021-d35f3edf-174b-49a7-853b-13d293934bec",
    "deepnote_cell_type": "code"
   },
   "source": "primeiro_nome = \"André\"\n\nprint(primeiro_nome)\nprint(type(primeiro_nome))\n\npais = 'Brasil'\n\nprint(pais)\nprint(type(pais))",
   "execution_count": null,
   "outputs": []
  },
  {
   "cell_type": "markdown",
   "source": "**Tipos lógicos:** booleanos (`bool`):",
   "metadata": {
    "id": "RGKyzda2kIh5",
    "cell_id": "00022-44d9b7c3-8f53-4fa9-94d6-0ef676ebc5b1",
    "deepnote_cell_type": "markdown"
   }
  },
  {
   "cell_type": "code",
   "metadata": {
    "id": "C2cJSexqiTq-",
    "cell_id": "00023-d2fd52a1-8dd7-4884-9cfb-8826055a5722",
    "deepnote_cell_type": "code"
   },
   "source": "usuario_maior_de_idade = True\n\nprint(usuario_maior_de_idade)\nprint(type(usuario_maior_de_idade))",
   "execution_count": null,
   "outputs": []
  },
  {
   "cell_type": "markdown",
   "source": "**Tipo vazio** (`NoneType`):",
   "metadata": {
    "id": "7Is0Z3PzkQqw",
    "cell_id": "00024-6e0bb853-4204-4791-b4b6-21b45edf41e0",
    "deepnote_cell_type": "markdown"
   }
  },
  {
   "cell_type": "code",
   "metadata": {
    "id": "47WGcXxIijO-",
    "cell_id": "00025-c43f3c43-f852-4a95-943a-18bf9ef65f3b",
    "deepnote_cell_type": "code"
   },
   "source": "telefone_fixo = None\n\nprint(telefone_fixo)\nprint(type(telefone_fixo))",
   "execution_count": null,
   "outputs": []
  },
  {
   "cell_type": "markdown",
   "source": "## 3\\. Números",
   "metadata": {
    "id": "ZtOHwcxEaGGp",
    "cell_id": "00026-2e0b19ac-fef0-4c42-b7ae-c3d869c3edfe",
    "deepnote_cell_type": "markdown"
   }
  },
  {
   "cell_type": "markdown",
   "source": "### **3.1. Motivação** ",
   "metadata": {
    "id": "s_Dj-BgThLg5",
    "cell_id": "00027-5f6a73ed-7933-4d90-87ce-3228d6017bb2",
    "deepnote_cell_type": "markdown"
   }
  },
  {
   "cell_type": "markdown",
   "source": "Você precisa calcular o **ticket médio** diário `tkt` do seu restaurante. A métrica é calculada pela soma do valor das vendas `svv` de um mesmo dia dividido pela quantidade de vendas `sqv`, também de um mesmo dia. \n",
   "metadata": {
    "id": "-WX56uZlEVEb",
    "cell_id": "00028-37ce958f-682b-4b10-85ec-172f4253d4ab",
    "deepnote_cell_type": "markdown"
   }
  },
  {
   "cell_type": "markdown",
   "source": "$tkt = svv / sqv$",
   "metadata": {
    "id": "5a_KPf7MM_NV",
    "cell_id": "00029-227f27b6-4a29-4fca-b35a-0a290e94cbab",
    "deepnote_cell_type": "markdown"
   }
  },
  {
   "cell_type": "markdown",
   "source": "Esta é a sua planilha:\n\n",
   "metadata": {
    "id": "QV_qcqfZMzoL",
    "cell_id": "00030-d56aca45-0f64-4809-9c66-a79567f1367a",
    "deepnote_cell_type": "markdown"
   }
  },
  {
   "cell_type": "markdown",
   "source": "| Dia   | Valor Total Vendas | Qtd Total Vendas | Ticket Medio |\n|-------|--------------------|------------------|-|\n| 19/01 | 153.98             | 3                |?|\n| 20/01 | 337.01             | 7                |?|\n| 23/01 | 295.33             | 5                |?|",
   "metadata": {
    "id": "ubiOD7fyNB9t",
    "cell_id": "00031-9542430e-2d1a-4cf3-a7db-fcc1ff4a0457",
    "deepnote_cell_type": "markdown"
   }
  },
  {
   "cell_type": "markdown",
   "source": "Como podemos fazer este cálculo usando o Python?",
   "metadata": {
    "id": "zl3QjgS_1o1n",
    "cell_id": "00032-811ddade-4065-48b0-bb83-e9d57e1d75e3",
    "deepnote_cell_type": "markdown"
   }
  },
  {
   "cell_type": "markdown",
   "source": "### **3.2. Definição** ",
   "metadata": {
    "id": "jeEzLmuRhDQy",
    "cell_id": "00033-b1bcbd28-4295-47e3-a761-dd999ff6b3f5",
    "deepnote_cell_type": "markdown"
   }
  },
  {
   "cell_type": "markdown",
   "source": "Armazenam **valores numéricos**: \n\n*   `10, 37, 500` (inteiros);\n*   `0.333, 10.1` (decimais);\n*   `1 + 2j` (complexos).\n\n",
   "metadata": {
    "id": "ngFl2buTAnSs",
    "cell_id": "00034-ffb598de-432d-44db-8d7f-1c6402032ed7",
    "deepnote_cell_type": "markdown"
   }
  },
  {
   "cell_type": "markdown",
   "source": "São dos tipos:\n\n*   `int` (inteiros);\n*   `float` (decimais);\n*   `complex` (complexos).\n\n",
   "metadata": {
    "id": "Ai9djKfjBjO7",
    "cell_id": "00035-9f3acdf8-0333-45d1-87e1-6a3a21e10f1c",
    "deepnote_cell_type": "markdown"
   }
  },
  {
   "cell_type": "code",
   "metadata": {
    "id": "45Zt8wPsBzFL",
    "cell_id": "00036-12803bab-8856-44b1-8482-5f54bb6c5d6f",
    "deepnote_cell_type": "code"
   },
   "source": "print(type(37))\nprint(type(10.1))\nprint(type(1 + 2j))\n",
   "execution_count": null,
   "outputs": []
  },
  {
   "cell_type": "markdown",
   "source": "### **3.3. Operações** \n\n\n\n",
   "metadata": {
    "id": "PoTeRwlihDQ0",
    "cell_id": "00037-9a1b5794-4cca-47b9-8189-c1ad737426d6",
    "deepnote_cell_type": "markdown"
   }
  },
  {
   "cell_type": "markdown",
   "source": "As operações dos tipos numéricos são as quatro operações matemáticas fundamentais:\n\n*   `+` (soma);\n*   `-` (subtração);\n*   `*` (multiplicação);\n*   `/` (divisão).\n\nAlém de operações mais avançadas:\n\n*   `//` (divisão inteira)\n*   `**` (potência ou exponenciação);\n*   `%` (resto de divisão).",
   "metadata": {
    "id": "jhK1JIKUDGKG",
    "cell_id": "00038-079eec0e-4052-4205-a6f2-bb5cdd2285f1",
    "deepnote_cell_type": "markdown"
   }
  },
  {
   "cell_type": "markdown",
   "source": "**Exemplo**: Carrinho de compra de um *e-commerce*.",
   "metadata": {
    "id": "UYw4Ysf7a9mq",
    "cell_id": "00039-2c66a39b-18ae-4326-802a-1dfb1229d47e",
    "deepnote_cell_type": "markdown"
   }
  },
  {
   "cell_type": "code",
   "metadata": {
    "id": "jk33JZ4EChkY",
    "cell_id": "00040-44aad937-99b8-449a-b958-84b3e4819f84",
    "deepnote_cell_type": "code"
   },
   "source": "qtd_items_carrinho_compra = 0\n\nqtd_items_carrinho_compra = qtd_items_carrinho_compra + 1\nprint(qtd_items_carrinho_compra)\n\nqtd_items_carrinho_compra = qtd_items_carrinho_compra + 1\nprint(qtd_items_carrinho_compra)",
   "execution_count": null,
   "outputs": []
  },
  {
   "cell_type": "code",
   "metadata": {
    "id": "O6RSj4GrD4ub",
    "cell_id": "00041-1b6ed921-e03b-4101-96e7-8c36b77c17b4",
    "deepnote_cell_type": "code"
   },
   "source": "qtd_items_carrinho_compra = 0\n\nqtd_items_carrinho_compra += 1\nprint(qtd_items_carrinho_compra)\n\nqtd_items_carrinho_compra += 1\nprint(qtd_items_carrinho_compra)",
   "execution_count": null,
   "outputs": []
  },
  {
   "cell_type": "markdown",
   "source": "**Exemplo**: Total a pagar de um produto.",
   "metadata": {
    "id": "J7qurQRJbFJZ",
    "cell_id": "00042-bb24aa0d-50b9-4c78-8b2e-e6cc50607fa5",
    "deepnote_cell_type": "markdown"
   }
  },
  {
   "cell_type": "code",
   "metadata": {
    "id": "hcIHiGzREIUW",
    "cell_id": "00043-00e5c9bb-3c43-432e-bf45-13ece8f62db1",
    "deepnote_cell_type": "code"
   },
   "source": "preco = 47\nquantidade = 0.250\n\ntotal_a_pagar = quantidade * preco\nprint(total_a_pagar)",
   "execution_count": null,
   "outputs": []
  },
  {
   "cell_type": "code",
   "metadata": {
    "id": "uK-JxBwc28Yo",
    "cell_id": "00044-8546e7b5-3a57-48ec-8c90-6d70436159f7",
    "deepnote_cell_type": "code"
   },
   "source": "a = 3\nb = 2\n\nc = a / b\nprint(c)\nprint(type(c))\n\nd = a // b\nprint(d)\nprint(type(d))",
   "execution_count": null,
   "outputs": []
  },
  {
   "cell_type": "markdown",
   "source": "### **3.4. Conversão** ",
   "metadata": {
    "id": "QpMlxqRyhDQ1",
    "cell_id": "00045-347bb6ec-94de-4a92-b2ec-9ae9c7c6dcdd",
    "deepnote_cell_type": "markdown"
   }
  },
  {
   "cell_type": "markdown",
   "source": "Podemos converter os tipos numéricos entre si utilizando o método nativo `int`, `float` e `complex`:",
   "metadata": {
    "id": "blCccgPDb4Xq",
    "cell_id": "00046-7f8e2e7e-bd8e-4bd0-bc09-8c54542a0dec",
    "deepnote_cell_type": "markdown"
   }
  },
  {
   "cell_type": "code",
   "metadata": {
    "id": "ys7oqfsSPxuo",
    "cell_id": "00047-364719c4-74c3-4dcf-a5bc-f74147237db7",
    "deepnote_cell_type": "code"
   },
   "source": "print(int(3.9))",
   "execution_count": null,
   "outputs": []
  },
  {
   "cell_type": "code",
   "metadata": {
    "id": "X9gYjUQscd93",
    "cell_id": "00048-428ef431-bd2f-4aeb-a9a6-33bf211a20b5",
    "deepnote_cell_type": "code"
   },
   "source": "print(float(10))",
   "execution_count": null,
   "outputs": []
  },
  {
   "cell_type": "code",
   "metadata": {
    "id": "0NyTadpHchyu",
    "cell_id": "00049-ea287894-16ba-4af3-9c2f-64e7b6a721bf",
    "deepnote_cell_type": "code"
   },
   "source": "print(complex(1))",
   "execution_count": null,
   "outputs": []
  },
  {
   "cell_type": "markdown",
   "source": "### **3.5. Revisitando a motivação** ",
   "metadata": {
    "id": "ov7Fg-mWhDQ1",
    "cell_id": "00050-41b38737-3794-437d-95ab-f5d1f9211453",
    "deepnote_cell_type": "markdown"
   }
  },
  {
   "cell_type": "markdown",
   "source": "| Dia   | Valor Total Vendas | Qtd Total Vendas | Ticket Medio |\n|-------|--------------------|------------------|-|\n| 19/01 | 153.98             | 3                |?|\n| 20/01 | 337.01             | 7                |?|\n| 23/01 | 295.33             | 5                |?|",
   "metadata": {
    "id": "FCoe_26dbXwR",
    "cell_id": "00051-1b6cc0d3-f948-4517-8c3f-1aefc54a3fa1",
    "deepnote_cell_type": "markdown"
   }
  },
  {
   "cell_type": "markdown",
   "source": "Ticket médio diário do dia 19/01.",
   "metadata": {
    "id": "fWH4WbWAOgoz",
    "cell_id": "00052-5090d01b-a34a-4711-ad2e-e7fe66c6dcb9",
    "deepnote_cell_type": "markdown"
   }
  },
  {
   "cell_type": "code",
   "metadata": {
    "id": "gYcNsiolOUKU",
    "cell_id": "00053-d0c94922-b5d8-4cf5-8bcc-f9ad13e1b44f",
    "deepnote_cell_type": "code"
   },
   "source": "svv_19 = 153.98\nsqv_19 = 3\n\ntkt_19 = svv_19 / sqv_19\nprint(tkt_19)",
   "execution_count": null,
   "outputs": []
  },
  {
   "cell_type": "markdown",
   "source": "Ticket médio diário do dia 20/01.",
   "metadata": {
    "id": "RrLEVyS6Pmpn",
    "cell_id": "00054-cc367a8f-cf3a-47be-8a35-8a5963bf8bf4",
    "deepnote_cell_type": "markdown"
   }
  },
  {
   "cell_type": "code",
   "metadata": {
    "id": "YIi6A_55OUpT",
    "cell_id": "00055-1bdd67cd-4854-44ba-b16b-fd99e6c30fe0",
    "deepnote_cell_type": "code"
   },
   "source": "svv_20 = 337.01\nsqv_20 = 7\n\ntkt_20 = svv_20 / sqv_20\nprint(tkt_20)",
   "execution_count": null,
   "outputs": []
  },
  {
   "cell_type": "markdown",
   "source": "Ticket médio diário do dia 23/01.",
   "metadata": {
    "id": "iQyQbWldPpIq",
    "cell_id": "00056-6eb44d59-86d6-41cb-92be-5966ce8f63ab",
    "deepnote_cell_type": "markdown"
   }
  },
  {
   "cell_type": "code",
   "metadata": {
    "id": "3DX3teGqPHet",
    "cell_id": "00057-7c4f3975-8cfd-4420-91b5-8e1bfd662e82",
    "deepnote_cell_type": "code"
   },
   "source": "svv_23 = 295.33\nsqv_23 = 5\n\ntkt_23 = svv_23 / sqv_23\nprint(tkt_23)",
   "execution_count": null,
   "outputs": []
  },
  {
   "cell_type": "markdown",
   "source": "Ticket médio",
   "metadata": {
    "id": "is2buU5dPrS-",
    "cell_id": "00058-e38c412e-3f71-4ea9-a073-0fc5219b1fe5",
    "deepnote_cell_type": "markdown"
   }
  },
  {
   "cell_type": "code",
   "metadata": {
    "id": "G6-yjrQkPT8y",
    "cell_id": "00059-1aa5532d-982c-4d5e-b5dc-198559ff727e",
    "deepnote_cell_type": "code"
   },
   "source": "tkt = (tkt_19 + tkt_20 + tkt_23) / 3\nprint(tkt)",
   "execution_count": null,
   "outputs": []
  },
  {
   "cell_type": "markdown",
   "source": "## 4\\. *Strings*",
   "metadata": {
    "id": "ne7Ay0HKaGSv",
    "cell_id": "00060-9381cda0-3b79-45fa-8727-c84d94ab6344",
    "deepnote_cell_type": "markdown"
   }
  },
  {
   "cell_type": "markdown",
   "source": "### **4.1. Motivação** ",
   "metadata": {
    "id": "DvHPNAoPgdiG",
    "cell_id": "00061-1459c5c4-9ea1-4b62-9a00-e3d1ec54e714",
    "deepnote_cell_type": "markdown"
   }
  },
  {
   "cell_type": "markdown",
   "source": "A empresa que você trabalha adquiriu uma *startup* de logística. Você precisa identificar todos endereços que são comum a ambas. Na sua empresa, você armazena a latitude e longitude dos endereços em duas variáveis `lat` e `lon`, já a *startup* adquirida em uma única variável `latlon`.\n\n",
   "metadata": {
    "id": "2zLVibiQtAly",
    "cell_id": "00062-b1b63300-dae2-4909-a460-033b92159646",
    "deepnote_cell_type": "markdown"
   }
  },
  {
   "cell_type": "code",
   "metadata": {
    "id": "YYWnkgj4udsB",
    "cell_id": "00063-ed7e4648-11f0-4ac4-a5fb-e0991206fa48",
    "deepnote_cell_type": "code"
   },
   "source": "# sua empresa\nlat = '-22.005320'\nlon = '-47.891040'\n\n# startup adquirida\nlatlon = '-22.005320;-47.891040'",
   "execution_count": null,
   "outputs": []
  },
  {
   "cell_type": "markdown",
   "source": "Como podemos normalizar a forma com que as latitudes e longitudes são armazenadas para possam ser comparadas?",
   "metadata": {
    "id": "NqIBXMslu8rx",
    "cell_id": "00064-2d08e9b2-602c-4fbe-885d-c9b29aaec0a0",
    "deepnote_cell_type": "markdown"
   }
  },
  {
   "cell_type": "markdown",
   "source": "### **4.2. Definição**",
   "metadata": {
    "id": "3SMp5GwjglJm",
    "cell_id": "00065-27db24fe-afed-496d-a2b0-4fe9c8543b69",
    "deepnote_cell_type": "markdown"
   }
  },
  {
   "cell_type": "markdown",
   "source": "Armazenam **textos**:",
   "metadata": {
    "id": "OyaC_TtSc-WB",
    "cell_id": "00066-13921922-043b-4a3e-ad6b-ce98bb2cf26f",
    "deepnote_cell_type": "markdown"
   }
  },
  {
   "cell_type": "markdown",
   "source": "\n*   `c`, `EBAC`, `Andre Perez, 20 anos` (texto)\n\n",
   "metadata": {
    "id": "iJ4X178KeNEM",
    "cell_id": "00067-e6f19f8d-6f05-4910-8a95-543c39a07023",
    "deepnote_cell_type": "markdown"
   }
  },
  {
   "cell_type": "markdown",
   "source": "São do tipo `str`:",
   "metadata": {
    "id": "Z7rXi3m_ewAs",
    "cell_id": "00068-aec243f7-2e32-44f9-994a-66a15467a607",
    "deepnote_cell_type": "markdown"
   }
  },
  {
   "cell_type": "code",
   "metadata": {
    "id": "2WC97LIMfUsb",
    "cell_id": "00069-45da2ed7-8275-4949-b961-bc5c17702649",
    "deepnote_cell_type": "code"
   },
   "source": "nome_aula = 'Aula 04, Módulo 01, Strings'\n\nprint(nome_aula)\nprint(type(nome_aula))",
   "execution_count": null,
   "outputs": []
  },
  {
   "cell_type": "code",
   "metadata": {
    "id": "T0pVDdDDFix5",
    "cell_id": "00070-5e8bb2a1-ee16-428e-8336-517da2d4ecd4",
    "deepnote_cell_type": "code"
   },
   "source": "string_vazia = \"\"\n\nprint(string_vazia)\nprint(type(string_vazia))",
   "execution_count": null,
   "outputs": []
  },
  {
   "cell_type": "markdown",
   "source": "### **4.3. Operações** ",
   "metadata": {
    "id": "e3ieQfXTgqd3",
    "cell_id": "00071-b60c3267-4dd4-473a-bdaa-d40a93bb2f47",
    "deepnote_cell_type": "markdown"
   }
  },
  {
   "cell_type": "markdown",
   "source": "As operações de variáveis do tipo *string* são:\n\n\n*   `+` (concatenação).\n\n",
   "metadata": {
    "id": "IsHq0ZpTf2M8",
    "cell_id": "00072-4c30fa84-1125-49de-b84f-c83135bdca53",
    "deepnote_cell_type": "markdown"
   }
  },
  {
   "cell_type": "markdown",
   "source": "**Exemplo:** Nome completo.",
   "metadata": {
    "id": "0om-T5A_h8h2",
    "cell_id": "00073-caa25f0b-80b0-4052-8683-f11419251f1e",
    "deepnote_cell_type": "markdown"
   }
  },
  {
   "cell_type": "code",
   "metadata": {
    "id": "mFWid8IlgChM",
    "cell_id": "00074-c8ec2a66-d6da-4589-8bb2-33bcc59e806b",
    "deepnote_cell_type": "code"
   },
   "source": "nome = 'Andre Marcos'\nsobrenome = 'Perez'\n\napresentacao = 'Olá, meu nome é ' + nome + ' ' + sobrenome + '.'\nprint(apresentacao)",
   "execution_count": null,
   "outputs": []
  },
  {
   "cell_type": "markdown",
   "source": "Uma outra forma de concatenar strings é utilizar operações de formatação:",
   "metadata": {
    "id": "EOmjluXb_6mt",
    "cell_id": "00075-12937d1f-21ba-4fac-8754-261fdec9ce90",
    "deepnote_cell_type": "markdown"
   }
  },
  {
   "cell_type": "code",
   "metadata": {
    "id": "DskkKjbmABA3",
    "cell_id": "00076-c0c025c4-6be1-4a8c-8167-475436ab3067",
    "deepnote_cell_type": "code"
   },
   "source": "nome = 'Andre Marcos'\nsobrenome = 'Perez'\n\napresentacao = f'Olá, meu nome é {nome} {sobrenome}.'\nprint(apresentacao)",
   "execution_count": null,
   "outputs": []
  },
  {
   "cell_type": "markdown",
   "source": "Outra operação muito utilizada é a de fatiamento (*slicing*):\n\n",
   "metadata": {
    "id": "vJ3GmHlbiklQ",
    "cell_id": "00077-00ea0000-c1cc-43b9-88b1-269e255d4bac",
    "deepnote_cell_type": "markdown"
   }
  },
  {
   "cell_type": "markdown",
   "source": "**Exemplo**: Informações de email.",
   "metadata": {
    "id": "h8i95BIFn8G9",
    "cell_id": "00078-c96e0195-1ff8-4b63-8bd3-12ae5e27fa6b",
    "deepnote_cell_type": "markdown"
   }
  },
  {
   "cell_type": "code",
   "metadata": {
    "id": "fGXbXFaAmM8J",
    "cell_id": "00079-42407927-8b32-4423-8e92-98e3acd1d838",
    "deepnote_cell_type": "code"
   },
   "source": "email = 'andre.perez@gmail.com'",
   "execution_count": null,
   "outputs": []
  },
  {
   "cell_type": "markdown",
   "source": "\n\nFatiamento fixo:\n\n|a|n|d|r|e|.|p|e|r|e|z|@|g|m|a|i|l|.|c|o|m|\n|-|-|-|-|-|-|-|-|-|-|-|-|-|-|-|-|-|-|-|-|-|\n|0|1|2|3|4|5|6|7|8|9|10|11|12|13|14|15|16|17|18|19|20|\n\n",
   "metadata": {
    "id": "gnZGbes5mGeK",
    "cell_id": "00080-10668f4d-10b1-4172-bde1-44e42f4b25f1",
    "deepnote_cell_type": "markdown"
   }
  },
  {
   "cell_type": "code",
   "metadata": {
    "id": "oKjp4JKklnJF",
    "cell_id": "00081-338c2e69-b4de-4c73-b9c1-dae897fd6604",
    "deepnote_cell_type": "code"
   },
   "source": "print('0: ' + email[0])\nprint('11: ' + email[11])",
   "execution_count": null,
   "outputs": []
  },
  {
   "cell_type": "code",
   "metadata": {
    "id": "ZLee51Qpoa5Q",
    "cell_id": "00082-eb1e9228-f447-43b6-9ed8-b14241e045a8",
    "deepnote_cell_type": "code"
   },
   "source": "print('-1: ' + email[-1])\nprint('-2: ' + email[-2])",
   "execution_count": null,
   "outputs": []
  },
  {
   "cell_type": "markdown",
   "source": "\n\nFatiamento por intervalo:\n\n|a|n|d|r|e|.|p|e|r|e|z|@|g|m|a|i|l|.|c|o|m|\n|-|-|-|-|-|-|-|-|-|-|-|-|-|-|-|-|-|-|-|-|-|\n|0|1|2|3|4|5|6|7|8|9|10|11|12|13|14|15|16|17|18|19|20|\n\n",
   "metadata": {
    "id": "tAx_IG1bmZVG",
    "cell_id": "00083-0d71da5a-e67e-4ce5-bc06-876b01d0fa05",
    "deepnote_cell_type": "markdown"
   }
  },
  {
   "cell_type": "code",
   "metadata": {
    "id": "WqP4HwT3mYgO",
    "cell_id": "00084-7ba3bbb5-92a6-4f76-903b-c473de127cad",
    "deepnote_cell_type": "code"
   },
   "source": "email_usuario = email[0:11]\nprint(email_usuario)",
   "execution_count": null,
   "outputs": []
  },
  {
   "cell_type": "code",
   "metadata": {
    "id": "zOas_vlEmsby",
    "cell_id": "00085-13ed9247-69a8-489d-9d27-6b8a70bbe075",
    "deepnote_cell_type": "code"
   },
   "source": "email_provedor = email[12:21]\nprint(email_provedor)",
   "execution_count": null,
   "outputs": []
  },
  {
   "cell_type": "markdown",
   "source": "### **4.4. Métodos** ",
   "metadata": {
    "id": "L0pKWNr5fm9z",
    "cell_id": "00086-75911693-e875-4e51-abd5-59b08fea70d4",
    "deepnote_cell_type": "markdown"
   }
  },
  {
   "cell_type": "markdown",
   "source": "São métodos nativos do Python que nos ajudam a trabalhar no dia a dia com *strings*:",
   "metadata": {
    "id": "52PinrQEon8-",
    "cell_id": "00087-85357e70-0eb8-4464-9590-2a7b83ae6a21",
    "deepnote_cell_type": "markdown"
   }
  },
  {
   "cell_type": "code",
   "metadata": {
    "id": "-63WyR-4o0Y-",
    "cell_id": "00088-11f4a5be-e9c4-4fda-ac63-d1c19d1d5cc6",
    "deepnote_cell_type": "code"
   },
   "source": "endereco = 'Avenida Paulista, 1811, São Paulo, São Paulo, Brasil.'",
   "execution_count": null,
   "outputs": []
  },
  {
   "cell_type": "code",
   "metadata": {
    "id": "qtGTk_Fwpixw",
    "cell_id": "00089-bf8e0a96-66d1-4bbe-b659-235be448feae",
    "deepnote_cell_type": "code"
   },
   "source": "# maiusculo: string.upper()\nprint(endereco.upper())",
   "execution_count": null,
   "outputs": []
  },
  {
   "cell_type": "code",
   "metadata": {
    "id": "8tYEXNxFqBnt",
    "cell_id": "00090-21172781-882c-4f6e-b3fe-495f17759e1d",
    "deepnote_cell_type": "code"
   },
   "source": "# posicao: string.find(substring)\nposicao = endereco.find('Brasil')\nprint(posicao)",
   "execution_count": null,
   "outputs": []
  },
  {
   "cell_type": "code",
   "metadata": {
    "id": "QuiITrGCqHbW",
    "cell_id": "00091-2e057a41-c3ca-42a7-b8ea-da0c901972db",
    "deepnote_cell_type": "code"
   },
   "source": "# substituição: string.replace(antigo, novo)\nprint(endereco.replace('Avenida', 'Av'))",
   "execution_count": null,
   "outputs": []
  },
  {
   "cell_type": "markdown",
   "source": "### **4.5. Conversão** ",
   "metadata": {
    "id": "DMhCpOU_gupo",
    "cell_id": "00092-30e3f2d1-c95e-408d-be70-602a9a51e6d4",
    "deepnote_cell_type": "markdown"
   }
  },
  {
   "cell_type": "markdown",
   "source": "Podemos converter *strings* em tipos numéricos e vice-versa.",
   "metadata": {
    "id": "1RLPv08iqnh0",
    "cell_id": "00093-4dc484d8-3228-4893-a421-78521ea8eb7d",
    "deepnote_cell_type": "markdown"
   }
  },
  {
   "cell_type": "code",
   "metadata": {
    "id": "3Vp8jY1Hqlz0",
    "cell_id": "00094-77077624-6d6e-49a7-85a5-1a8a93b12830",
    "deepnote_cell_type": "code"
   },
   "source": "idade = 19\nprint(type(idade))\n\nidade = str(idade)\nprint(type(idade))",
   "execution_count": null,
   "outputs": []
  },
  {
   "cell_type": "code",
   "metadata": {
    "id": "I6f8ZEPlrAgN",
    "cell_id": "00095-a6ef9f68-2456-44bf-801a-17add962186f",
    "deepnote_cell_type": "code"
   },
   "source": "faturamento = 'R$ 35 mi'\nprint(faturamento)\nprint(type(idade))\n\nfaturamento = int(faturamento[3:5])\nprint(faturamento)\nprint(type(faturamento))",
   "execution_count": null,
   "outputs": []
  },
  {
   "cell_type": "markdown",
   "source": "### **4.6. Revisitando a motivação** ",
   "metadata": {
    "id": "l3h0WP2Eg2ht",
    "cell_id": "00096-7a8ca3f5-df05-4437-90bb-50a2a20d1e5d",
    "deepnote_cell_type": "markdown"
   }
  },
  {
   "cell_type": "markdown",
   "source": "Encontrando a posição do caracter `;` de divisão das *strings* de latitude e longitude da variável da startup:",
   "metadata": {
    "id": "cbTc4NNVzkTZ",
    "cell_id": "00097-6415922e-a812-4b83-87ef-5ca13b84034b",
    "deepnote_cell_type": "markdown"
   }
  },
  {
   "cell_type": "code",
   "metadata": {
    "id": "95m9FlwVyrBE",
    "cell_id": "00098-708ca7f8-a06d-462a-b8d9-2bc906799ee5",
    "deepnote_cell_type": "code"
   },
   "source": "posicao_char_divisao = latlon.find(';')\nprint(posicao_char_divisao)",
   "execution_count": null,
   "outputs": []
  },
  {
   "cell_type": "markdown",
   "source": "Extraindo a latitude:",
   "metadata": {
    "id": "5Sby1I4WzyFH",
    "cell_id": "00099-82696dd6-1b29-438b-9f58-39cec4bfb28f",
    "deepnote_cell_type": "markdown"
   }
  },
  {
   "cell_type": "code",
   "metadata": {
    "id": "tXYl5Qd4zPUR",
    "cell_id": "00100-838adaf9-c278-4489-839d-055cbcbb477c",
    "deepnote_cell_type": "code"
   },
   "source": "lat_startup = latlon[0:posicao_char_divisao]\nprint(lat_startup)",
   "execution_count": null,
   "outputs": []
  },
  {
   "cell_type": "markdown",
   "source": "Extraindo a longitude:",
   "metadata": {
    "id": "rpK7U99qz1uP",
    "cell_id": "00101-57a3babf-131d-4196-b258-4737d0cc795c",
    "deepnote_cell_type": "markdown"
   }
  },
  {
   "cell_type": "code",
   "metadata": {
    "id": "T3ctz0fbzRcA",
    "cell_id": "00102-807c15c4-1c68-4183-aaa2-7f2e0341272f",
    "deepnote_cell_type": "code"
   },
   "source": "lon_startup = latlon[posicao_char_divisao+1:len(latlon)]\nprint(lon_startup)",
   "execution_count": null,
   "outputs": []
  },
  {
   "cell_type": "markdown",
   "source": "## 5\\. Boleanos",
   "metadata": {
    "id": "EvJTE2FpaGeU",
    "cell_id": "00103-a7cf48fa-7ca4-4891-b403-78763acc990f",
    "deepnote_cell_type": "markdown"
   }
  },
  {
   "cell_type": "markdown",
   "source": "### **5.1. Motivação** \n\n",
   "metadata": {
    "id": "rWG4Vk6XaWtf",
    "cell_id": "00104-3b4091d1-72b7-402e-bcd8-bee0f92efcd1",
    "deepnote_cell_type": "markdown"
   }
  },
  {
   "cell_type": "markdown",
   "source": "Em *websites* (redes sociais, *e-commerce*, corporativos, etc.) é comum o uso de sistemas de controle de acesso, o famoso *login*. Em geral, nestes sistemas um usuário fornece dois dados: `usuario` e `senha`:",
   "metadata": {
    "id": "jayz6OAaerA1",
    "cell_id": "00105-d1c5b515-1942-4793-a300-1d473f58b773",
    "deepnote_cell_type": "markdown"
   }
  },
  {
   "cell_type": "code",
   "metadata": {
    "id": "-vdJFukSbGVC",
    "cell_id": "00106-625dc498-cc7d-43c5-b6f7-8c5f1bc87489",
    "deepnote_cell_type": "code"
   },
   "source": "usuario = 'andre.perez'\nsenha = 'andre123'",
   "execution_count": null,
   "outputs": []
  },
  {
   "cell_type": "markdown",
   "source": "Do lado do servidor, o *backend* do *website* tem armazenado os dados de usuário e senha fornecidas pelo usuário no momento do cadastro: `usuario_cadastro` e `senha_cadastro`:",
   "metadata": {
    "id": "X4lWGX3nbFqE",
    "cell_id": "00107-33da9bd1-80bd-442a-a9bf-bab83dfb9dd2",
    "deepnote_cell_type": "markdown"
   }
  },
  {
   "cell_type": "code",
   "metadata": {
    "id": "pF1ZKoF5by6v",
    "cell_id": "00108-b4853fbc-1208-4aae-9015-47ee8b7849e7",
    "deepnote_cell_type": "code"
   },
   "source": "usuario_cadastro = 'andre.perez'\nsenha_cadastro = 'andre321'",
   "execution_count": null,
   "outputs": []
  },
  {
   "cell_type": "markdown",
   "source": "Como comparamos se as *strings* (`usuario`, `usuario_cadastro`) e (`senha`,`senha_cadastro`) são iguais para conceder ou bloquear o acesso do usuário?",
   "metadata": {
    "id": "ab-roDU-b5UA",
    "cell_id": "00109-890dfd10-427d-4d8a-876f-8711344afc67",
    "deepnote_cell_type": "markdown"
   }
  },
  {
   "cell_type": "markdown",
   "source": "### **5.2. Definição** ",
   "metadata": {
    "id": "wkibgd8rB8y3",
    "cell_id": "00110-448313d4-fab0-4d11-b7b5-06fd5948492d",
    "deepnote_cell_type": "markdown"
   }
  },
  {
   "cell_type": "markdown",
   "source": "Armazenam **valores lógicos**:\n\n*   `True` (verdadeiro);\n*   `False` (falso).",
   "metadata": {
    "id": "Iy9ZmOJpVxHQ",
    "cell_id": "00111-537617e1-5248-4b05-81c6-2ee15b032f7a",
    "deepnote_cell_type": "markdown"
   }
  },
  {
   "cell_type": "code",
   "metadata": {
    "id": "C3ktXued98wX",
    "cell_id": "00112-a624f741-b408-48f5-87ec-335a75c26a29",
    "deepnote_cell_type": "code"
   },
   "source": "verdadeiro = True\nprint(verdadeiro)",
   "execution_count": null,
   "outputs": []
  },
  {
   "cell_type": "code",
   "metadata": {
    "id": "BiOivdViCH9e",
    "cell_id": "00113-2328335b-f8bd-4ddd-bc6b-d40d1fbde309",
    "deepnote_cell_type": "code"
   },
   "source": "falso = False\nprint(falso)",
   "execution_count": null,
   "outputs": []
  },
  {
   "cell_type": "markdown",
   "source": "São do tipo `bool`.",
   "metadata": {
    "id": "Z0tOpkiS0EiO",
    "cell_id": "00114-d42a387c-f111-4346-897e-a8676613bd4b",
    "deepnote_cell_type": "markdown"
   }
  },
  {
   "cell_type": "code",
   "metadata": {
    "id": "dyo_noZ80Hra",
    "cell_id": "00115-a605eec7-69f0-4beb-b625-b5f221f73625",
    "deepnote_cell_type": "code"
   },
   "source": "print(type(True))",
   "execution_count": null,
   "outputs": []
  },
  {
   "cell_type": "markdown",
   "source": "São resultados de comparações lógicas. Os operadores de comparação lógica são:\n\n*   `>` (maior);\n*   `<` (menor);\n*   `==` (igual);\n*   `>=` (maior ou igual);\n*   `<=` (menor ou igual);\n*   `!=` (diferente).\n\n",
   "metadata": {
    "id": "qEQrHcyGCtVu",
    "cell_id": "00116-2d246c87-5348-4ef2-8ea3-f1c113a3a840",
    "deepnote_cell_type": "markdown"
   }
  },
  {
   "cell_type": "markdown",
   "source": "**Exemplo:** Caixa eletrônico",
   "metadata": {
    "id": "C-rpefH6fIPf",
    "cell_id": "00117-72fc9d88-c459-4857-bb0a-46532b9d01c2",
    "deepnote_cell_type": "markdown"
   }
  },
  {
   "cell_type": "code",
   "metadata": {
    "id": "q5PQwuBXDD2P",
    "cell_id": "00118-ff79e886-63ab-4ee2-a53f-89dfd39f8c4e",
    "deepnote_cell_type": "code"
   },
   "source": "saldo_em_conta = 200\nvalor_do_saque = 100\n\npode_executar_saque = valor_do_saque <= saldo_em_conta\nprint(pode_executar_saque)",
   "execution_count": null,
   "outputs": []
  },
  {
   "cell_type": "markdown",
   "source": "**Exemplo:** Cartão de crédito",
   "metadata": {
    "id": "6a7xCtTwfSHq",
    "cell_id": "00119-828fa0d9-cbf0-42c8-b68c-8cfd4d88b6df",
    "deepnote_cell_type": "markdown"
   }
  },
  {
   "cell_type": "code",
   "metadata": {
    "id": "8pdPLoK9DYZJ",
    "cell_id": "00120-8d3650a1-7198-4a81-936f-05a70211ab79",
    "deepnote_cell_type": "code"
   },
   "source": "codigo_de_seguranca = '852'\ncodigo_de_seguranca_cadastro = '010'\n\npode_efetuar_pagamento = codigo_de_seguranca == codigo_de_seguranca_cadastro\nprint(pode_efetuar_pagamento)",
   "execution_count": null,
   "outputs": []
  },
  {
   "cell_type": "markdown",
   "source": "### **5.3. Operações**",
   "metadata": {
    "id": "IjPaJtnYE0MI",
    "cell_id": "00121-e3e3e6b6-b429-4938-9210-b73ad1c0f83d",
    "deepnote_cell_type": "markdown"
   }
  },
  {
   "cell_type": "markdown",
   "source": "As operações de variáveis booleanas são: \n\n* `|` (operador ou)\n* `&` (operador e)\n* `not` (operador não)\n\n\nO conjunto de resultados de operações lógicas geralmente é resumido em uma tabela chamada \"tabela da verdade\":",
   "metadata": {
    "id": "E_1PEdDBV7iM",
    "cell_id": "00122-db913924-e337-430c-a2ce-a1d17d2f8a38",
    "deepnote_cell_type": "markdown"
   }
  },
  {
   "cell_type": "markdown",
   "source": "| A        | B        | | | A OR B   | | A AND B  | | NOT A    |\n|----------|----------|-|-|----------|-|----------|-|----------|\n| **TRUE** | **TRUE** | | | **TRUE** | | **TRUE** | | FALSE    |\n| **TRUE** | FALSE    | | | **TRUE** | | FALSE    | | FALSE    |\n| FALSE    | FALSE    | | | FALSE    | | FALSE    | | **TRUE** |\n| FALSE    | **TRUE** | | | **TRUE** | | FALSE    | | **TRUE** |",
   "metadata": {
    "id": "CHn4_ahDIAjz",
    "cell_id": "00123-4abe5d2c-180b-4457-b370-bf61cd1394ef",
    "deepnote_cell_type": "markdown"
   }
  },
  {
   "cell_type": "markdown",
   "source": "**Exemplo**: Tabela da verdade do operador `|` (ou).",
   "metadata": {
    "id": "APMLCAXigGuI",
    "cell_id": "00124-33bc55a7-3601-4d5e-8652-2859f19de175",
    "deepnote_cell_type": "markdown"
   }
  },
  {
   "cell_type": "code",
   "metadata": {
    "id": "-_OVIIKNE51C",
    "cell_id": "00125-e19efc5e-910d-4b4e-985c-0772179fffdd",
    "deepnote_cell_type": "code"
   },
   "source": "print(True | True)\nprint(True | False)\nprint(False | False)\nprint(False | True)",
   "execution_count": null,
   "outputs": []
  },
  {
   "cell_type": "markdown",
   "source": "**Exemplo**: Tabela da verdade do operador `&` (e).",
   "metadata": {
    "id": "YK4D_jKOgRec",
    "cell_id": "00126-4d4fd404-07aa-405d-8271-5e9421ba60d8",
    "deepnote_cell_type": "markdown"
   }
  },
  {
   "cell_type": "code",
   "metadata": {
    "id": "skRK0k3aLmgx",
    "cell_id": "00127-dc7d72f6-cbf9-4892-be30-d2f9f84eb43d",
    "deepnote_cell_type": "code"
   },
   "source": "print(True & True)\nprint(True & False)\nprint(False & False)\nprint(False & True)",
   "execution_count": null,
   "outputs": []
  },
  {
   "cell_type": "markdown",
   "source": "**Exemplo**: Tabela da verdade do operador `not` (não).",
   "metadata": {
    "id": "Mj924xFDgUio",
    "cell_id": "00128-07d35145-012d-45aa-b2dc-ac32bf45a7e3",
    "deepnote_cell_type": "markdown"
   }
  },
  {
   "cell_type": "code",
   "metadata": {
    "id": "woeHvKz8LrcD",
    "cell_id": "00129-3192f8f4-6460-47e2-b09f-78cb7f0c86d0",
    "deepnote_cell_type": "code"
   },
   "source": "print(not True)\nprint(not False)",
   "execution_count": null,
   "outputs": []
  },
  {
   "cell_type": "markdown",
   "source": "### **5.4. Conversão**",
   "metadata": {
    "id": "2lpj1rszc--m",
    "cell_id": "00130-8004f73a-8918-492e-a235-f57e0e78ae1d",
    "deepnote_cell_type": "markdown"
   }
  },
  {
   "cell_type": "markdown",
   "source": "Podemos converter tipos numéricos e *strings* para booleanos através do método nativo `bool`:",
   "metadata": {
    "id": "KUq8EX6-dDBJ",
    "cell_id": "00131-aa98dc06-b43c-4f3c-85db-23b4480d821b",
    "deepnote_cell_type": "markdown"
   }
  },
  {
   "cell_type": "code",
   "metadata": {
    "id": "O9tgHXRQdNJL",
    "cell_id": "00132-c4281aab-3f61-4301-ac54-fbaf7fbfa5bc",
    "deepnote_cell_type": "code"
   },
   "source": "idade = 19\ntipo_sangue = 'O-'\nfilhos = 0\ntelefone_fixo = None\ntelefone_fixo = ''\n\nprint(bool(idade))\nprint(bool(tipo_sangue))\nprint(bool(filhos))\nprint(bool(telefone_fixo))\nprint(bool(telefone_fixo))",
   "execution_count": null,
   "outputs": []
  },
  {
   "cell_type": "markdown",
   "source": "### **5.5. Revisitando a motivação**",
   "metadata": {
    "id": "HnWg_mhLd5gC",
    "cell_id": "00133-49577868-4b1c-4165-bcb4-959bb300450a",
    "deepnote_cell_type": "markdown"
   }
  },
  {
   "cell_type": "markdown",
   "source": "Compara se os dados fornecidos pelo usuário são iguais aos dados do cadastro:",
   "metadata": {
    "id": "jZKyTqyU816m",
    "cell_id": "00134-fd7e87b7-e3fd-44d8-b5b2-81fbe11788b9",
    "deepnote_cell_type": "markdown"
   }
  },
  {
   "cell_type": "code",
   "metadata": {
    "id": "CjOvS816d9jM",
    "cell_id": "00135-f08b6483-8ed4-46d6-b557-cf3faec3ab3c",
    "deepnote_cell_type": "code"
   },
   "source": "usuario_igual = usuario == usuario_cadastro\nsenha_igual = senha == senha_cadastro\n\nprint(usuario_igual)\nprint(senha_igual)",
   "execution_count": null,
   "outputs": []
  },
  {
   "cell_type": "markdown",
   "source": "Decide se concede o acesso:",
   "metadata": {
    "id": "t1xsfbwY87-g",
    "cell_id": "00136-a124b14e-26de-4df8-bfb8-760abbaa1771",
    "deepnote_cell_type": "markdown"
   }
  },
  {
   "cell_type": "code",
   "metadata": {
    "id": "MLxkWnuSeT5A",
    "cell_id": "00137-9484124d-2fe0-4ce2-b5e3-490b4e5b42de",
    "deepnote_cell_type": "code"
   },
   "source": "conceder_acesso = usuario_igual & senha_igual\nprint(conceder_acesso)",
   "execution_count": null,
   "outputs": []
  },
  {
   "cell_type": "markdown",
   "source": "---",
   "metadata": {
    "id": "zMN1Q3jdwoJm",
    "cell_id": "00138-5f80fa66-eef6-4eab-b075-65ce7454f981",
    "deepnote_cell_type": "markdown"
   }
  },
  {
   "cell_type": "markdown",
   "source": "# **Conteúdo Extra**\n\n",
   "metadata": {
    "id": "lSDYsB4zO04L",
    "cell_id": "00139-cdc66060-a54f-4d20-9e7e-21f8304ce02e",
    "deepnote_cell_type": "markdown"
   }
  },
  {
   "cell_type": "markdown",
   "source": "### Documentação Google Colab\n\n - [Google Colab FAQ](https://research.google.com/colaboratory/faq.html): Perguntas mais frequentes sobre o Google Colab.",
   "metadata": {
    "id": "RhqmXiHQo-is",
    "cell_id": "00140-3ee676c5-d4f5-4c85-88cd-26a8cc0e72c1",
    "deepnote_cell_type": "markdown"
   }
  },
  {
   "cell_type": "markdown",
   "source": "### Documentação Python\n\n\n - [Tipos Nativos](https://docs.python.org/pt-br/3/library/stdtypes.html): Documentação oficial dos tipos de variáveis nativas da linguagem Python;\n - [Métodos de String](https://www.w3schools.com/python/python_ref_string.asp): Lista de métodos de *strings* com exemplos.",
   "metadata": {
    "id": "SvT9xrajLL7J",
    "cell_id": "00141-c1ce079a-7046-4d0f-aed0-dc67997a36b0",
    "deepnote_cell_type": "markdown"
   }
  },
  {
   "cell_type": "markdown",
   "source": "### Cadernos\n\n - [JupyterLab](https://jupyter.org/): Projeto original de de cadernos;\n - [GCP Notebooks](https://cloud.google.com/ai-platform-notebooks): Solução autogerenciada de cadernos da empresa Google Cloud Platform (GCP);\n - [Azure Notebooks](https://notebooks.azure.com/): Solução autogerenciada de cadernos da empresa Microsoft Azure;\n - [Databricks Notebooks](https://databricks.com/product/collaborative-notebooks): Solução autogerenciada de cadernos da empresa Databricks;\n - [AWS Sagemaker Notebooks](https://aws.amazon.com/pt/sagemaker/): Solução autogerenciada de cadernos da empresa Amazon Web Services (AWS).",
   "metadata": {
    "id": "91eSyA2cLLqv",
    "cell_id": "00142-c4cd9198-9d99-4e29-8976-a5e9b8b7d77a",
    "deepnote_cell_type": "markdown"
   }
  },
  {
   "cell_type": "markdown",
   "source": "<a style='text-decoration:none;line-height:16px;display:flex;color:#5B5B62;padding:10px;justify-content:end;' href='https://deepnote.com?utm_source=created-in-deepnote-cell&projectId=7bc88e6b-e21c-42d6-a070-b420cc720827' target=\"_blank\">\n<img alt='Created in deepnote.com' style='display:inline;max-height:16px;margin:0px;margin-right:7.5px;' src='data:image/svg+xml;base64,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' > </img>\nCreated in <span style='font-weight:600;margin-left:4px;'>Deepnote</span></a>",
   "metadata": {
    "tags": [],
    "created_in_deepnote_cell": true,
    "deepnote_cell_type": "markdown"
   }
  }
 ],
 "nbformat": 4,
 "nbformat_minor": 0,
 "metadata": {
  "colab": {
   "name": "module_1_class.ipynb",
   "provenance": [],
   "collapsed_sections": [
    "JG1HL69-j0lH",
    "s_Dj-BgThLg5",
    "jeEzLmuRhDQy",
    "PoTeRwlihDQ0",
    "QpMlxqRyhDQ1",
    "ov7Fg-mWhDQ1",
    "DvHPNAoPgdiG",
    "3SMp5GwjglJm",
    "e3ieQfXTgqd3",
    "L0pKWNr5fm9z",
    "DMhCpOU_gupo",
    "l3h0WP2Eg2ht",
    "rWG4Vk6XaWtf",
    "wkibgd8rB8y3",
    "IjPaJtnYE0MI",
    "2lpj1rszc--m",
    "HnWg_mhLd5gC",
    "RhqmXiHQo-is",
    "SvT9xrajLL7J",
    "91eSyA2cLLqv"
   ],
   "toc_visible": true
  },
  "kernelspec": {
   "name": "python3",
   "display_name": "Python 3"
  },
  "deepnote_notebook_id": "58ca9548-d69c-4f22-8df5-671d476edcde",
  "deepnote": {},
  "deepnote_execution_queue": []
 }
}