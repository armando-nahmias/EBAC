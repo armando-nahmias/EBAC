{
 "cells": [
  {
   "cell_type": "markdown",
   "source": "<img src=\"https://raw.githubusercontent.com/andre-marcos-perez/ebac-course-utils/main/media/logo/newebac_logo_black_half.png\" alt=\"ebac-logo\">\n\n---\n\n# **Módulo** | Python: Arquivos & Funções\nCaderno de **Exercícios**<br> \nProfessor [André Perez](https://www.linkedin.com/in/andremarcosperez/)\n\n---",
   "metadata": {
    "id": "KJqp9AANOCtf",
    "cell_id": "00000-7f3f3ca0-0937-4709-aec1-3a51a8c21584",
    "deepnote_cell_type": "markdown"
   }
  },
  {
   "cell_type": "markdown",
   "source": "# **Tópicos**\n\n<ol type=\"1\">\n  <li>Leitura;</li>\n  <li>Escrita;</li>\n  <li>Funções;</li>\n  <li>Escopo.</li>\n</ol>",
   "metadata": {
    "id": "d9jDtUbDOE1-",
    "cell_id": "00001-4bc1ead3-b9e1-4f30-96ac-bdb99eaa741d",
    "deepnote_cell_type": "markdown"
   }
  },
  {
   "cell_type": "markdown",
   "source": "---",
   "metadata": {
    "id": "SmoHgt-lwkpD",
    "cell_id": "00002-2801cfd0-0e44-4dcf-81ff-ecd08701b0fa",
    "deepnote_cell_type": "markdown"
   }
  },
  {
   "cell_type": "markdown",
   "source": "# **Exercícios**",
   "metadata": {
    "id": "GABI6OW8OfQ2",
    "cell_id": "00003-c053c248-3ec4-418b-99ca-469833540a0f",
    "deepnote_cell_type": "markdown"
   }
  },
  {
   "cell_type": "markdown",
   "source": "## 0\\. Preparação do ambiente",
   "metadata": {
    "id": "muD1vxozykSC",
    "cell_id": "00004-af6aecb7-83d3-4abe-b986-74490b9c346e",
    "deepnote_cell_type": "markdown"
   }
  },
  {
   "cell_type": "markdown",
   "source": "Neste exercício vamos trabalhar com os arquivos de csv e texto definidos abaixo. Execute cada uma das células de código para escrever os arquivos na sua máquina virtual.",
   "metadata": {
    "id": "ahrFfCuBxJKs",
    "cell_id": "00005-fc0c4f68-d3f7-4b70-856b-81e4bea41879",
    "deepnote_cell_type": "markdown"
   }
  },
  {
   "cell_type": "markdown",
   "source": "* **carros.csv**: arquivo csv com informações sobre carros (venda, manutenção, portas, etc.).",
   "metadata": {
    "id": "u0uFuhRSq_hQ",
    "cell_id": "00006-00b94818-1afd-4947-9913-d9a7d73b3f9f",
    "deepnote_cell_type": "markdown"
   }
  },
  {
   "cell_type": "code",
   "metadata": {
    "id": "daMf-xaXqKs2",
    "colab": {
     "base_uri": "https://localhost:8080/"
    },
    "outputId": "7c2314bb-c9d2-40c3-af3f-606bc7cc5b5d",
    "cell_id": "00007-dba0eb97-6697-4d84-ac5c-6a9c882d55ce",
    "deepnote_to_be_reexecuted": false,
    "source_hash": "8563d728",
    "execution_start": 1636742699641,
    "execution_millis": 4163231,
    "deepnote_cell_type": "code"
   },
   "source": "%%writefile carros.csv\nid,valor_venda,valor_manutencao,portas,pessoas,porta_malas\n1,vhigh,med,2,2,small\n2,med,vhigh,2,2,small\n3,low,vhigh,2,2,small\n4,low,high,2,2,small\n5,low,high,2,2,small\n6,low,high,4,4,big\n7,low,high,4,4,big\n8,low,med,2,2,small\n9,low,med,2,2,small\n10,low,med,2,2,small\n11,low,med,4,4,big\n12,low,low,2,2,small\n13,low,low,4,4,small\n14,low,low,4,4,med",
   "outputs": [
    {
     "name": "stdout",
     "text": "Overwriting carros.csv\n",
     "output_type": "stream"
    }
   ],
   "execution_count": null
  },
  {
   "cell_type": "markdown",
   "source": "* **musica.txt**: arquivo texto com a letra da música Roda Viva do Chico Buarque.",
   "metadata": {
    "id": "X0Z2PhbCrTz1",
    "cell_id": "00008-667b14b7-fa24-449b-9729-11b5d1c7c0cc",
    "deepnote_cell_type": "markdown"
   }
  },
  {
   "cell_type": "code",
   "metadata": {
    "id": "m7Ge2rggrU73",
    "colab": {
     "base_uri": "https://localhost:8080/"
    },
    "outputId": "3d1c2213-4d57-4aaf-a6bc-4a44c509e051",
    "cell_id": "00009-e13b11bb-4b48-4972-b997-ea65931cec04",
    "deepnote_to_be_reexecuted": false,
    "source_hash": "41347194",
    "execution_start": 1636742699990,
    "execution_millis": 4159174,
    "deepnote_cell_type": "code"
   },
   "source": "%%writefile musica.txt\nRoda Viva\nChico Buarque\n\nTem dias que a gente se sente\nComo quem partiu ou morreu\nA gente estancou de repente\nOu foi o mundo então que cresceu\nA gente quer ter voz ativa\nNo nosso destino mandar\nMas eis que chega a roda viva\nE carrega o destino pra lá\n\nRoda mundo, roda-gigante\nRoda moinho, roda pião\n\nO tempo rodou num instante\nNas voltas do meu coração\nA gente vai contra a corrente\nAté não poder resistir\nNa volta do barco é que sente\nO quanto deixou de cumprir\nFaz tempo que a gente cultiva\nA mais linda roseira que há\nMas eis que chega a roda viva\nE carrega a roseira pra lá\n\nRoda mundo, roda-gigante\nRoda moinho, roda pião",
   "outputs": [
    {
     "name": "stdout",
     "text": "Overwriting musica.txt\n",
     "output_type": "stream"
    }
   ],
   "execution_count": null
  },
  {
   "cell_type": "markdown",
   "source": "---",
   "metadata": {
    "id": "zMN1Q3jdwoJm",
    "cell_id": "00010-3203bbeb-8984-4add-abe5-47eefba9ffb1",
    "deepnote_cell_type": "markdown"
   }
  },
  {
   "cell_type": "markdown",
   "source": "## 1\\. Funções para arquivo csv",
   "metadata": {
    "id": "U4S19ZvHsPcE",
    "cell_id": "00011-8ca39ec2-fa3b-4ca0-9fce-f6268f3d75f0",
    "deepnote_cell_type": "markdown"
   }
  },
  {
   "cell_type": "markdown",
   "source": "Complete a função abaixo para extrair uma coluna do arquivo csv em uma lista. Os elementos devem ter o tipo de dado correto.",
   "metadata": {
    "id": "Mcf3mkOrtHzK",
    "cell_id": "00012-8c009fe6-7f6e-4514-b358-272f23eee479",
    "deepnote_cell_type": "markdown"
   }
  },
  {
   "cell_type": "code",
   "metadata": {
    "id": "W-1PAg7Ctt7i",
    "cell_id": "00013-7c93edb9-675f-4132-9fad-9caa776a034d",
    "deepnote_to_be_reexecuted": false,
    "source_hash": "44d63188",
    "execution_start": 1636742700232,
    "execution_millis": 1883671,
    "deepnote_cell_type": "code"
   },
   "source": "def extrai_coluna_csv(nome_arquivo: str, indice_coluna: int, tipo_dado: str):\n\n  coluna = []\n\n  # leia o arquivo com o comando 'with' utilizando o parametro 'nome_arquivo'\n  with open(file=nome_arquivo, mode='r', encoding='utf8') as arquivo:\n    linha = arquivo.readline()\n    linha = arquivo.readline()\n    while linha:\n      linha_separada = linha.split(sep=',')\n  # extraia a coluna do arquivo utilizando o parametro 'indice_coluna'\n      coluna.append(linha_separada[indice_coluna])\n      linha = arquivo.readline()\n  # use a estrutura de decisão if/elif/else para fazer a conversão do tipo de dados utilizando o parametro 'tipo_dado'\n    if tipo_dado == type(coluna[0]):\n      pass\n    elif tipo_dado == 'str':\n      for i in range(len(coluna)):\n        coluna[i] = str(coluna[i])\n    elif tipo_dado == 'int':\n      for i in range(len(coluna)):\n        coluna[i] = int(coluna[i])\n    \n\n\n  return coluna",
   "outputs": [],
   "execution_count": null
  },
  {
   "cell_type": "markdown",
   "source": "Você pode testar a função com os códigos abaixo.",
   "metadata": {
    "id": "qCbQF6jru_01",
    "cell_id": "00014-0cb3faea-653f-48fb-ae5a-9e8ad60bb9bd",
    "deepnote_cell_type": "markdown"
   }
  },
  {
   "cell_type": "code",
   "metadata": {
    "id": "Rl-EYdySu90s",
    "colab": {
     "base_uri": "https://localhost:8080/"
    },
    "outputId": "db0064bd-7b96-4cb6-97e7-166e948c321b",
    "cell_id": "00015-10b63528-79d4-472f-8307-e1f444520878",
    "deepnote_to_be_reexecuted": false,
    "source_hash": "360cdece",
    "execution_start": 1636742709379,
    "execution_millis": 8828,
    "deepnote_cell_type": "code"
   },
   "source": "# extrair a coluna valor_venda\nvalor_venda = extrai_coluna_csv(nome_arquivo='./carros.csv', indice_coluna=1, tipo_dado='str')\nprint(valor_venda) # deve retornar ['vhigh', 'med', 'low', ...]",
   "outputs": [
    {
     "name": "stdout",
     "text": "['vhigh', 'med', 'low', 'low', 'low', 'low', 'low', 'low', 'low', 'low', 'low', 'low', 'low', 'low']\n",
     "output_type": "stream"
    }
   ],
   "execution_count": null
  },
  {
   "cell_type": "code",
   "metadata": {
    "id": "hvD-zzwDwboD",
    "colab": {
     "base_uri": "https://localhost:8080/"
    },
    "outputId": "2370acf9-d3d8-4bf8-f758-1a7898c0b023",
    "cell_id": "00016-6966fd1b-4882-4a3c-87bd-5c5c98c22e12",
    "deepnote_to_be_reexecuted": false,
    "source_hash": "353910a4",
    "execution_start": 1636742713226,
    "execution_millis": 68,
    "deepnote_cell_type": "code"
   },
   "source": "# extrair a coluna pessoas\npessoas = extrai_coluna_csv(nome_arquivo='./carros.csv', indice_coluna=4, tipo_dado='int')\nprint(pessoas) # deve retornar [2, 2, 2, ...]\nprint(type(pessoas[0])) # deve retornar [2, 2, 2, ...]\n",
   "outputs": [
    {
     "name": "stdout",
     "text": "[2, 2, 2, 2, 2, 4, 4, 2, 2, 2, 4, 2, 4, 4]\n<class 'int'>\n",
     "output_type": "stream"
    }
   ],
   "execution_count": null
  },
  {
   "cell_type": "markdown",
   "source": "---",
   "metadata": {
    "id": "QTS5-sSbs4ie",
    "cell_id": "00017-12da286c-bedf-4d85-af21-2da3b01dd5a5",
    "deepnote_cell_type": "markdown"
   }
  },
  {
   "cell_type": "markdown",
   "source": "## 2\\. Funções para arquivo txt",
   "metadata": {
    "id": "sebqs6uztCH4",
    "cell_id": "00018-a9b960af-e380-4f5c-8467-cd27c17670c1",
    "deepnote_cell_type": "markdown"
   }
  },
  {
   "cell_type": "markdown",
   "source": "Complete a função abaixo para extrair uma as palavras de uma linha do arquivo txt em uma lista.",
   "metadata": {
    "id": "IFVBGkNhzB3P",
    "cell_id": "00019-e0611a4a-1402-41c4-9e26-176610f0dd2c",
    "deepnote_cell_type": "markdown"
   }
  },
  {
   "cell_type": "code",
   "metadata": {
    "id": "ewrNqMtczWZJ",
    "cell_id": "00020-a03f9782-63f6-450d-8ca5-6e2becb1ac44",
    "deepnote_to_be_reexecuted": false,
    "source_hash": "37b13221",
    "execution_start": 1636742700968,
    "deepnote_cell_type": "code"
   },
   "source": "def extrai_linha_txt(nome_arquivo: str, numero_linha: int):\n\n  palavras_linha = []\n\n  # leia o arquivo com o comando 'with' utilizando o parametro 'nome_arquivo'\n  with open(nome_arquivo, mode='r',encoding='utf8') as arquivo:\n    linhas = arquivo.readline()\n    while linhas:\n      palavras_linha.append(linhas)\n      linhas = arquivo.readline()\n  # extraia a linha do arquivo utilizando o parametro 'numero_linha'\n  linha_extraida = palavras_linha[numero_linha-1]\n\n  # quebre a linha em palavras com o comando split, note que o separador é um espaço ' '\n  palavras_extraidas = linha_extraida.split()\n\n  return palavras_extraidas",
   "outputs": [],
   "execution_count": null
  },
  {
   "cell_type": "markdown",
   "source": "Você pode testar a função com os códigos abaixo.",
   "metadata": {
    "id": "Qz2UwipIz0t2",
    "cell_id": "00021-caa29e75-214d-4d75-9b02-68a5dbc31b51",
    "deepnote_cell_type": "markdown"
   }
  },
  {
   "cell_type": "code",
   "metadata": {
    "id": "_Wxp43qqz1V2",
    "colab": {
     "base_uri": "https://localhost:8080/"
    },
    "outputId": "90590b2a-0641-42ee-ad1b-9a7b844690fc",
    "cell_id": "00022-1736413b-72b6-4148-9ca6-c2cfebef49b5",
    "deepnote_to_be_reexecuted": false,
    "source_hash": "ec1dfc03",
    "execution_start": 1636742701013,
    "deepnote_cell_type": "code"
   },
   "source": "linha10 = extrai_linha_txt(nome_arquivo='./musica.txt', numero_linha=10)\nprint(linha10) # deve retornar ['Mas', 'eis', 'que', 'chega', 'a', 'roda', 'viva']",
   "outputs": [
    {
     "name": "stdout",
     "text": "['Mas', 'eis', 'que', 'chega', 'a', 'roda', 'viva']\n",
     "output_type": "stream"
    }
   ],
   "execution_count": null
  },
  {
   "cell_type": "code",
   "metadata": {
    "colab": {
     "base_uri": "https://localhost:8080/"
    },
    "id": "xHPtigrLffES",
    "outputId": "63bde8d9-1241-4b51-ade4-6db699b43db6",
    "cell_id": "00023-3468d48f-2781-4a42-ab57-06a69af961b4",
    "deepnote_to_be_reexecuted": false,
    "source_hash": "9d8bcb80",
    "execution_start": 1636742701056,
    "deepnote_cell_type": "code"
   },
   "source": "linha16 = extrai_linha_txt(nome_arquivo='./musica.txt', numero_linha=16)\nprint(linha16) # deve retornar ['O', 'tempo', 'rodou', 'num', 'instante']\n",
   "outputs": [
    {
     "name": "stdout",
     "text": "['O', 'tempo', 'rodou', 'num', 'instante']\n",
     "output_type": "stream"
    }
   ],
   "execution_count": null
  },
  {
   "cell_type": "markdown",
   "source": "---",
   "metadata": {
    "id": "Fo9qTjietCH6",
    "cell_id": "00024-42e65e9b-b66f-475a-9ff9-ab1263dbfc93",
    "deepnote_cell_type": "markdown"
   }
  },
  {
   "cell_type": "markdown",
   "source": "<a style='text-decoration:none;line-height:16px;display:flex;color:#5B5B62;padding:10px;justify-content:end;' href='https://deepnote.com?utm_source=created-in-deepnote-cell&projectId=7bc88e6b-e21c-42d6-a070-b420cc720827' target=\"_blank\">\n<img alt='Created in deepnote.com' style='display:inline;max-height:16px;margin:0px;margin-right:7.5px;' src='data:image/svg+xml;base64,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' > </img>\nCreated in <span style='font-weight:600;margin-left:4px;'>Deepnote</span></a>",
   "metadata": {
    "tags": [],
    "created_in_deepnote_cell": true,
    "deepnote_cell_type": "markdown"
   }
  }
 ],
 "nbformat": 4,
 "nbformat_minor": 0,
 "metadata": {
  "colab": {
   "name": "Caderno Exercício.ipynb",
   "provenance": [],
   "collapsed_sections": [],
   "toc_visible": true
  },
  "kernelspec": {
   "name": "python3",
   "display_name": "Python 3"
  },
  "deepnote_notebook_id": "87831d94-e196-4cc0-9092-eee16d5b8269",
  "deepnote": {},
  "deepnote_execution_queue": []
 }
}