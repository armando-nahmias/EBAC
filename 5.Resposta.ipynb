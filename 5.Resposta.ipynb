{
 "cells": [
  {
   "cell_type": "markdown",
   "source": "<img src=\"https://raw.githubusercontent.com/andre-marcos-perez/ebac-course-utils/main/media/logo/newebac_logo_black_half.png\" alt=\"ebac-logo\">\n\n---\n\n# **Módulo** | Python: Programação Funcional\nCaderno de **Exercícios**<br> \nProfessor [André Perez](https://www.linkedin.com/in/andremarcosperez/)\n\n---",
   "metadata": {
    "id": "KJqp9AANOCtf",
    "cell_id": "00000-f3080598-3494-49a7-8532-496a9856ce83",
    "deepnote_cell_type": "markdown"
   }
  },
  {
   "cell_type": "markdown",
   "source": "# **Tópicos**\n\n<ol type=\"1\">\n  <li>Função lambda;</li>\n  <li>Função map;</li>\n  <li>Função filter;</li>\n  <li>Função reduce.</li>\n</ol>",
   "metadata": {
    "id": "d9jDtUbDOE1-",
    "cell_id": "00001-6692e09a-356b-462c-bdb2-2e884eba35bb",
    "deepnote_cell_type": "markdown"
   }
  },
  {
   "cell_type": "markdown",
   "source": "---",
   "metadata": {
    "id": "SmoHgt-lwkpD",
    "cell_id": "00002-1801f0a6-52c3-4d54-954a-ec1325a7a2e1",
    "deepnote_cell_type": "markdown"
   }
  },
  {
   "cell_type": "markdown",
   "source": "# **Exercícios**",
   "metadata": {
    "id": "GABI6OW8OfQ2",
    "cell_id": "00003-4e400f9c-4282-48bf-a5a9-cad526fef8c8",
    "deepnote_cell_type": "markdown"
   }
  },
  {
   "cell_type": "markdown",
   "source": "## 0\\. Preparação do ambiente ",
   "metadata": {
    "id": "muD1vxozykSC",
    "cell_id": "00004-d4bcb42e-8bca-442b-8a47-867454fd5bd5",
    "deepnote_cell_type": "markdown"
   }
  },
  {
   "cell_type": "markdown",
   "source": "Neste exercício vamos trabalhar com o arquivo csv com dados de crédito, definido abaixo. Execute cada uma das células de código para escrever os arquivos na sua máquina virtual.",
   "metadata": {
    "id": "ahrFfCuBxJKs",
    "cell_id": "00005-41dd2299-7914-4172-acd0-b11559e355f4",
    "deepnote_cell_type": "markdown"
   }
  },
  {
   "cell_type": "code",
   "metadata": {
    "id": "Kjt3HvFX7C3A",
    "colab": {
     "base_uri": "https://localhost:8080/"
    },
    "outputId": "99684932-8d34-4b21-cc3d-db6ee65b85ca",
    "cell_id": "00006-ba1b8620-02ad-4c80-b397-6760c2ef9e0a",
    "deepnote_to_be_reexecuted": false,
    "source_hash": "1a003bb1",
    "execution_start": 1637262174840,
    "execution_millis": 1,
    "deepnote_cell_type": "code"
   },
   "source": "%%writefile credito.csv\nid_vendedor,valor_emprestimos,quantidade_emprestimos,data\n104271,448.0,1,20161208\n21476,826.7,3,20161208\n87440,313.6,3,20161208\n15980,-8008.0,6,20161208\n215906,2212.0,5,20161208\n33696,2771.3,2,20161208\n33893,2240.0,3,20161208\n214946,-4151.0,18,20161208\n123974,2021.95,2,20161208\n225870,4039.0,2,20161208",
   "outputs": [
    {
     "name": "stdout",
     "text": "Overwriting credito.csv\n",
     "output_type": "stream"
    }
   ],
   "execution_count": null
  },
  {
   "cell_type": "markdown",
   "source": "Vamos ler o conteúdo do arquivo em uma lista onde cada elemento é um dicionário representando as linhas do arquivo.",
   "metadata": {
    "id": "tnhM9v2X7yGS",
    "cell_id": "00007-336e849c-9945-4e77-b290-f611d7253a0e",
    "deepnote_cell_type": "markdown"
   }
  },
  {
   "cell_type": "code",
   "metadata": {
    "id": "T00Y_WIh7uPU",
    "cell_id": "00008-1a70f2b2-8306-401e-a282-bb1ae53c6946",
    "deepnote_to_be_reexecuted": false,
    "source_hash": "e3d2c941",
    "execution_start": 1637262174841,
    "execution_millis": 44,
    "deepnote_cell_type": "code"
   },
   "source": "emprestimos = []\nwith open(file='./credito.csv', mode='r', encoding='utf8') as fp:\n  fp.readline() # cabeçalho\n  linha = fp.readline()\n  while linha:\n    linha_emprestimo = {}\n    linha_elementos = linha.strip().split(sep=',')\n    linha_emprestimo['id_vendedor'] = linha_elementos[0]\n    linha_emprestimo['valor_emprestimos'] = linha_elementos[1]\n    linha_emprestimo['quantidade_emprestimos'] = linha_elementos[2]\n    linha_emprestimo['data'] = linha_elementos[3]\n    emprestimos.append(linha_emprestimo)\n    linha = fp.readline()",
   "outputs": [],
   "execution_count": null
  },
  {
   "cell_type": "code",
   "metadata": {
    "id": "Bp0ZgdTM84bw",
    "colab": {
     "base_uri": "https://localhost:8080/"
    },
    "outputId": "04e8891a-c143-4f65-e190-b395a7d8d4c7",
    "cell_id": "00009-c08c5af1-6cdd-47c6-9a77-6349da429902",
    "deepnote_to_be_reexecuted": false,
    "source_hash": "ea818f5a",
    "execution_start": 1637262174886,
    "execution_millis": 190730301,
    "deepnote_cell_type": "code"
   },
   "source": "for emprestimo in emprestimos:\n  print(emprestimo)",
   "outputs": [
    {
     "name": "stdout",
     "text": "{'id_vendedor': '104271', 'valor_emprestimos': '448.0', 'quantidade_emprestimos': '1', 'data': '20161208'}\n{'id_vendedor': '21476', 'valor_emprestimos': '826.7', 'quantidade_emprestimos': '3', 'data': '20161208'}\n{'id_vendedor': '87440', 'valor_emprestimos': '313.6', 'quantidade_emprestimos': '3', 'data': '20161208'}\n{'id_vendedor': '15980', 'valor_emprestimos': '-8008.0', 'quantidade_emprestimos': '6', 'data': '20161208'}\n{'id_vendedor': '215906', 'valor_emprestimos': '2212.0', 'quantidade_emprestimos': '5', 'data': '20161208'}\n{'id_vendedor': '33696', 'valor_emprestimos': '2771.3', 'quantidade_emprestimos': '2', 'data': '20161208'}\n{'id_vendedor': '33893', 'valor_emprestimos': '2240.0', 'quantidade_emprestimos': '3', 'data': '20161208'}\n{'id_vendedor': '214946', 'valor_emprestimos': '-4151.0', 'quantidade_emprestimos': '18', 'data': '20161208'}\n{'id_vendedor': '123974', 'valor_emprestimos': '2021.95', 'quantidade_emprestimos': '2', 'data': '20161208'}\n{'id_vendedor': '225870', 'valor_emprestimos': '4039.0', 'quantidade_emprestimos': '2', 'data': '20161208'}\n",
     "output_type": "stream"
    }
   ],
   "execution_count": null
  },
  {
   "cell_type": "markdown",
   "source": "## 1\\. Função `map`\n\n",
   "metadata": {
    "id": "KI9zQRT2xa7m",
    "cell_id": "00010-f4d2101e-2bcc-4567-9976-95fc8617fa9b",
    "deepnote_cell_type": "markdown"
   }
  },
  {
   "cell_type": "markdown",
   "source": "Aplique a função map na lista de `emprestimos` para extrair os valores da chave `valor_emprestimos` na lista `valor_emprestimos_lista`. Faça também a conversão de `str` para `float`.",
   "metadata": {
    "id": "U63MjM7H7o1Y",
    "cell_id": "00011-aa45031f-7179-4121-9979-fd5b861c8433",
    "deepnote_cell_type": "markdown"
   }
  },
  {
   "cell_type": "code",
   "metadata": {
    "colab": {
     "base_uri": "https://localhost:8080/"
    },
    "id": "dEmypTd2MlH-",
    "outputId": "db25c475-a080-4488-9411-fedd41be04e4",
    "cell_id": "00012-335e5348-0801-44ec-9575-30ee7ea31fc9",
    "deepnote_to_be_reexecuted": false,
    "source_hash": "92083063",
    "execution_start": 1637262179533,
    "execution_millis": 6,
    "deepnote_cell_type": "code"
   },
   "source": "#solucionando o problema sem usar a função map\nvalor_emprestimos_lista = []\nvalor_emprestimos = []\nfor emprestimo in emprestimos:\n  valor_emprestimos_lista.append(float(emprestimo['valor_emprestimos']))\nprint(valor_emprestimos_lista)\n",
   "outputs": [
    {
     "name": "stdout",
     "text": "[448.0, 826.7, 313.6, -8008.0, 2212.0, 2771.3, 2240.0, -4151.0, 2021.95, 4039.0]\n",
     "output_type": "stream"
    }
   ],
   "execution_count": null
  },
  {
   "cell_type": "code",
   "metadata": {
    "id": "-yAW4PJh9h7a",
    "cell_id": "00013-4e2b95e8-ad1d-4de2-b3ba-d8aebc3b7956",
    "deepnote_to_be_reexecuted": false,
    "source_hash": "c76aecf6",
    "execution_start": 1637262183366,
    "execution_millis": 1,
    "deepnote_cell_type": "code"
   },
   "source": "#solucionando o problema com a função map\nvalor_emprestimos_lista = list(map(lambda emprestimo: float(emprestimo['valor_emprestimos']), emprestimos))\nprint(valor_emprestimos_lista) # [448.0, 826.7, ..., 4039.0]",
   "outputs": [
    {
     "name": "stdout",
     "text": "[448.0, 826.7, 313.6, -8008.0, 2212.0, 2771.3, 2240.0, -4151.0, 2021.95, 4039.0]\n",
     "output_type": "stream"
    }
   ],
   "execution_count": null
  },
  {
   "cell_type": "markdown",
   "source": "---",
   "metadata": {
    "id": "zMN1Q3jdwoJm",
    "cell_id": "00015-6beb447a-d412-412e-9dd9-c63e6a5bbb29",
    "deepnote_cell_type": "markdown"
   }
  },
  {
   "cell_type": "markdown",
   "source": "## 2\\. Função `filter`\n\n",
   "metadata": {
    "id": "WKHvMtFX_JKH",
    "cell_id": "00016-e13516a1-6770-47c1-9ec4-adda8169c084",
    "deepnote_cell_type": "markdown"
   }
  },
  {
   "cell_type": "markdown",
   "source": "Aplique a função filter na lista de `valor_emprestimos_lista` para filtrar apenas os valores maiores que zero (os valores negativas são erros na base de dados). Salve os valores na lista `valor_emprestimos_lista_filtrada`.",
   "metadata": {
    "id": "6V34N3Lf_gUM",
    "cell_id": "00017-346781be-239e-47eb-8361-6f0cc3d8df3f",
    "deepnote_cell_type": "markdown"
   }
  },
  {
   "cell_type": "code",
   "metadata": {
    "tags": [],
    "cell_id": "00018-88820c22-11d1-4eb4-a766-dd704d50bf88",
    "deepnote_to_be_reexecuted": false,
    "source_hash": "34998807",
    "execution_start": 1637262198333,
    "execution_millis": 8,
    "deepnote_cell_type": "code"
   },
   "source": "#solucionando o problema sem usar a função filter\nvalor_emprestimos_lista_filtrada = []\nfor valor in valor_emprestimos_lista:\n    if valor > 0:\n        valor_emprestimos_lista_filtrada.append(valor)\nprint(valor_emprestimos_lista_filtrada)",
   "outputs": [
    {
     "name": "stdout",
     "text": "[448.0, 826.7, 313.6, 2212.0, 2771.3, 2240.0, 2021.95, 4039.0]\n",
     "output_type": "stream"
    }
   ],
   "execution_count": null
  },
  {
   "cell_type": "code",
   "metadata": {
    "id": "3y7Vmm0yACuk",
    "cell_id": "00018-9614e817-4150-49d2-9baa-b7506646ed14",
    "deepnote_to_be_reexecuted": false,
    "source_hash": "955e7480",
    "execution_start": 1637262200269,
    "execution_millis": 25,
    "deepnote_cell_type": "code"
   },
   "source": "#solucionando o problema com a função filter\nvalor_emprestimos_lista_filtrada = []\nvalor_emprestimos_lista_filtrada = list(filter(lambda valor: valor > 0, valor_emprestimos_lista))\nprint(valor_emprestimos_lista_filtrada)",
   "outputs": [
    {
     "name": "stdout",
     "text": "[448.0, 826.7, 313.6, 2212.0, 2771.3, 2240.0, 2021.95, 4039.0]\n",
     "output_type": "stream"
    }
   ],
   "execution_count": null
  },
  {
   "cell_type": "markdown",
   "source": "---",
   "metadata": {
    "id": "4yqCAVCo_Yp3",
    "cell_id": "00020-beee7269-4bcb-4313-9970-eeb307d5293d",
    "deepnote_cell_type": "markdown"
   }
  },
  {
   "cell_type": "markdown",
   "source": "## 3\\. Função `reduce`\n\n",
   "metadata": {
    "id": "s4TzfRxC_Yp4",
    "cell_id": "00021-ab189d71-c9e7-4221-9e87-2a86902da7cc",
    "deepnote_cell_type": "markdown"
   }
  },
  {
   "cell_type": "markdown",
   "source": "Com a nossa lista de valores de emprestimo pronta, vamos extrair algumas métricas.",
   "metadata": {
    "id": "RwV4V7gDAWfJ",
    "cell_id": "00022-d3ed4591-0e95-4c48-b597-7f24ed3c6f61",
    "deepnote_cell_type": "markdown"
   }
  },
  {
   "cell_type": "markdown",
   "source": "### 3\\.1\\. Função `reduce` para extrair a **soma**",
   "metadata": {
    "id": "zjXA6H0LAf1_",
    "cell_id": "00023-5e65bfac-3c99-4f7a-98a9-68f3e0517581",
    "deepnote_cell_type": "markdown"
   }
  },
  {
   "cell_type": "markdown",
   "source": "Aplique a função reduce para somar os elementos da lista `valor_emprestimos_lista_filtrada` na variavel `soma_valor_emprestimos`.",
   "metadata": {
    "id": "u1kxPpkUArKw",
    "cell_id": "00024-b07ea01c-d049-4ea6-a1b8-35bcf5c9cdc5",
    "deepnote_cell_type": "markdown"
   }
  },
  {
   "cell_type": "code",
   "metadata": {
    "id": "ptAFEVpMAr6_",
    "cell_id": "00025-11bfc928-1fab-4723-81cc-86f7ed04b993",
    "deepnote_to_be_reexecuted": false,
    "source_hash": "64ced384",
    "execution_start": 1637262206779,
    "execution_millis": 16,
    "deepnote_cell_type": "code"
   },
   "source": "from functools import reduce\n\nsoma_valor_emprestimos = reduce(lambda x, y: x + y, valor_emprestimos_lista_filtrada)\n\nprint(soma_valor_emprestimos) # 14872.550000000001",
   "outputs": [
    {
     "name": "stdout",
     "text": "14872.550000000001\n",
     "output_type": "stream"
    }
   ],
   "execution_count": null
  },
  {
   "cell_type": "markdown",
   "source": "### 3\\.2\\. Função `reduce` para extrair a **media aritimética**",
   "metadata": {
    "id": "v8h9TkYqBLPn",
    "cell_id": "00027-5dfb2175-a6f2-4e7c-8d0d-6e4a8c2294f2",
    "deepnote_cell_type": "markdown"
   }
  },
  {
   "cell_type": "markdown",
   "source": "Aplique a função reduce para extrair a média aritimética (mais informações [aqui](https://pt.wikipedia.org/wiki/M%C3%A9dia#M%C3%A9dia_aritm%C3%A9tica)) dos elementos da lista `valor_emprestimos_lista_filtrada` na variavel `media_valor_emprestimos`.",
   "metadata": {
    "id": "VXsNI53NBLPo",
    "cell_id": "00028-6244d863-91e6-4746-9f5b-d302ab9c75be",
    "deepnote_cell_type": "markdown"
   }
  },
  {
   "cell_type": "code",
   "metadata": {
    "id": "qbWv8a2GBLPp",
    "cell_id": "00029-e9e02c8c-8799-4463-a1ac-a7a898a0f26c",
    "deepnote_to_be_reexecuted": false,
    "source_hash": "5f7386b3",
    "execution_start": 1637262214147,
    "execution_millis": 17,
    "deepnote_cell_type": "code"
   },
   "source": "from functools import reduce\n\nquantidade = len(valor_emprestimos_lista_filtrada)\n\nmedia_valor_emprestimos = (reduce(lambda x, y: (x + y), valor_emprestimos_lista_filtrada)) / quantidade\n\nprint(media_valor_emprestimos) # 1859.0687500000001",
   "outputs": [
    {
     "name": "stdout",
     "text": "1859.0687500000001\n",
     "output_type": "stream"
    }
   ],
   "execution_count": null
  },
  {
   "cell_type": "markdown",
   "source": "### 3\\.3\\. (**Desafio**) Função `reduce` para extrair o **desvio padrão**",
   "metadata": {
    "id": "rCwM3DcJBeyB",
    "cell_id": "00031-585716a4-c933-418a-8e09-8235933cb0e6",
    "deepnote_cell_type": "markdown"
   }
  },
  {
   "cell_type": "markdown",
   "source": "Aplique a função reduce para extrair a média aritimética (mais informações [aqui](https://pt.wikipedia.org/wiki/M%C3%A9dia#M%C3%A9dia_aritm%C3%A9tica)) dos elementos da lista `valor_emprestimos_lista_filtrada` na variavel `desvio_padrao_valor_emprestimos`.\n\n",
   "metadata": {
    "id": "jw3azoT_BeyC",
    "cell_id": "00032-58fb660a-b450-4501-9277-c735a67e8fe5",
    "deepnote_cell_type": "markdown"
   }
  },
  {
   "cell_type": "code",
   "metadata": {
    "id": "8HnNxp9mBeyD",
    "cell_id": "00033-b044be45-c21c-4ddd-a5ea-28d42cad8606",
    "deepnote_to_be_reexecuted": false,
    "source_hash": "b6a4826b",
    "execution_start": 1637262220407,
    "execution_millis": 31,
    "deepnote_cell_type": "code"
   },
   "source": "from functools import reduce\n\nfrom math import sqrt\n\ndesvio_padrao_valor_emprestimos = sqrt(\n    float(reduce(lambda x, y:\n                     x + y, map(lambda x:\n                            (x - media_valor_emprestimos) ** 2, valor_emprestimos_lista_filtrada))) / (len(valor_emprestimos_lista_filtrada) - 1))\n\nprint(desvio_padrao_valor_emprestimos) # 1271.997271149785",
   "outputs": [
    {
     "name": "stdout",
     "text": "1271.9972711497849\n",
     "output_type": "stream"
    }
   ],
   "execution_count": null
  },
  {
   "cell_type": "code",
   "source": "",
   "metadata": {
    "tags": [],
    "cell_id": "00031-a7d70dcb-cc89-49cb-be10-184dd5eec045",
    "deepnote_cell_type": "code"
   },
   "outputs": [],
   "execution_count": null
  },
  {
   "cell_type": "markdown",
   "source": "<a style='text-decoration:none;line-height:16px;display:flex;color:#5B5B62;padding:10px;justify-content:end;' href='https://deepnote.com?utm_source=created-in-deepnote-cell&projectId=7bc88e6b-e21c-42d6-a070-b420cc720827' target=\"_blank\">\n<img alt='Created in deepnote.com' style='display:inline;max-height:16px;margin:0px;margin-right:7.5px;' src='data:image/svg+xml;base64,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' > </img>\nCreated in <span style='font-weight:600;margin-left:4px;'>Deepnote</span></a>",
   "metadata": {
    "tags": [],
    "created_in_deepnote_cell": true,
    "deepnote_cell_type": "markdown"
   }
  }
 ],
 "nbformat": 4,
 "nbformat_minor": 0,
 "metadata": {
  "colab": {
   "name": "Módulo 5 - Caderno Exercício.ipynb",
   "provenance": [],
   "collapsed_sections": [],
   "toc_visible": true
  },
  "kernelspec": {
   "name": "python3",
   "display_name": "Python 3"
  },
  "deepnote_notebook_id": "893fab47-c18f-42f0-bb34-7ef6cfc19cff",
  "deepnote": {},
  "deepnote_execution_queue": []
 }
}